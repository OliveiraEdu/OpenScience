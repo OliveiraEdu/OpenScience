{
 "cells": [
  {
   "cell_type": "code",
   "execution_count": 4,
   "id": "dc5504a4-60bd-4b14-a6bd-0c52e779fec7",
   "metadata": {},
   "outputs": [
    {
     "name": "stdout",
     "output_type": "stream",
     "text": [
      "Uploaded QmXh37WXcrLXkJX2cAPjbPdKZ2cxJXD58XX6eU1Zc41ka4\n",
      "upload/Aeroacoustic-airfoil-shape-optimization-enhance_2023_Expert-Systems-with-App.pdf\n",
      "File downloaded and saved to: download/downloaded_file5.txt\n"
     ]
    }
   ],
   "source": [
    "import ipfshttpclient\n",
    "\n",
    "# Connect to the IPFS node at a specific IP address\n",
    "client = ipfshttpclient.connect('/dns/10.0.0.100/tcp/5001/http')  # Replace with your IP address and port\n",
    "\n",
    "def upload_file_to_ipfs(file_path):\n",
    "    # Add the file to IPFS\n",
    "    result = client.add(file_path)\n",
    "    return result['Hash']\n",
    "\n",
    "def download_file_from_ipfs(cid, output_path):\n",
    "    # Retrieve the file from IPFS\n",
    "    file_data = client.cat(cid)\n",
    "    # Save the file locally\n",
    "    with open(output_path, 'wb') as f:\n",
    "        f.write(file_data)\n",
    "\n",
    "# Specify the path to the file you want to upload\n",
    "local_file_path = 'upload/Aeroacoustic-airfoil-shape-optimization-enhance_2023_Expert-Systems-with-App.pdf'\n",
    "\n",
    "# Upload the file to IPFS and get the CID\n",
    "file_cid = upload_file_to_ipfs(local_file_path)\n",
    "print(f'Uploaded {file_cid}')\n",
    "print(f'{local_file_path}')\n",
    "\n",
    "# Specify the path where you want to save the downloaded file\n",
    "downloaded_file_path = 'download/downloaded_file5.txt'\n",
    "\n",
    "# Download the file from IPFS using the CID and save it locally\n",
    "download_file_from_ipfs(file_cid, downloaded_file_path)\n",
    "print(f'File downloaded and saved to: {downloaded_file_path}')\n"
   ]
  },
  {
   "cell_type": "code",
   "execution_count": 7,
   "id": "772fdd54-b7de-4677-925d-8052136e68a6",
   "metadata": {},
   "outputs": [
    {
     "name": "stdout",
     "output_type": "stream",
     "text": [
      "QmQ4R5cCUYBWiJpNL7mFe4LDrwD6qBr5Re17BoRAY9VNpd\n"
     ]
    },
    {
     "data": {
      "text/plain": [
       "[1, 77, 'lol']"
      ]
     },
     "execution_count": 7,
     "metadata": {},
     "output_type": "execute_result"
    }
   ],
   "source": [
    "lst = [1, 77, 'lol']\n",
    "\n",
    "cid = client.add_json(lst)\n",
    "\n",
    "print (cid)\n",
    "\n",
    "client.get_json(cid)"
   ]
  },
  {
   "cell_type": "code",
   "execution_count": null,
   "id": "a790962d-676b-40c0-89c0-2740dc0ff21f",
   "metadata": {},
   "outputs": [],
   "source": []
  }
 ],
 "metadata": {
  "kernelspec": {
   "display_name": "venv",
   "language": "python",
   "name": "venv"
  },
  "language_info": {
   "codemirror_mode": {
    "name": "ipython",
    "version": 3
   },
   "file_extension": ".py",
   "mimetype": "text/x-python",
   "name": "python",
   "nbconvert_exporter": "python",
   "pygments_lexer": "ipython3",
   "version": "3.9.19"
  }
 },
 "nbformat": 4,
 "nbformat_minor": 5
}
