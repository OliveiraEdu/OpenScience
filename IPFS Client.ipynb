{
 "cells": [
  {
   "cell_type": "code",
   "execution_count": 4,
   "id": "dc5504a4-60bd-4b14-a6bd-0c52e779fec7",
   "metadata": {},
   "outputs": [
    {
     "name": "stdout",
     "output_type": "stream",
     "text": [
      "Uploaded QmXh37WXcrLXkJX2cAPjbPdKZ2cxJXD58XX6eU1Zc41ka4\n",
      "upload/Aeroacoustic-airfoil-shape-optimization-enhance_2023_Expert-Systems-with-App.pdf\n",
      "File downloaded and saved to: download/downloaded_file5.txt\n"
     ]
    }
   ],
   "source": [
    "import ipfshttpclient\n",
    "\n",
    "# Connect to the IPFS node at a specific IP address\n",
    "client = ipfshttpclient.connect('/dns/10.0.0.100/tcp/5001/http')  # Replace with your IP address and port\n",
    "\n",
    "def upload_file_to_ipfs(file_path):\n",
    "    # Add the file to IPFS\n",
    "    result = client.add(file_path)\n",
    "    return result['Hash']\n",
    "\n",
    "def download_file_from_ipfs(cid, output_path):\n",
    "    # Retrieve the file from IPFS\n",
    "    file_data = client.cat(cid)\n",
    "    # Save the file locally\n",
    "    with open(output_path, 'wb') as f:\n",
    "        f.write(file_data)\n",
    "\n",
    "def upload_json(metadata)\n",
    "    cid = client.add_json(metadata)\n",
    "    print (cid)\n",
    "    client.get_json(cid)\n",
    "    \n",
    "# Specify the path to the file you want to upload\n",
    "local_file_path = 'upload/Aeroacoustic-airfoil-shape-optimization-enhance_2023_Expert-Systems-with-App.pdf'\n",
    "\n",
    "# Upload the file to IPFS and get the CID\n",
    "file_cid = upload_file_to_ipfs(local_file_path)\n",
    "print(f'Uploaded {file_cid}')\n",
    "print(f'{local_file_path}')\n",
    "\n",
    "# Specify the path where you want to save the downloaded file\n",
    "downloaded_file_path = 'download/downloaded_file5.txt'\n",
    "\n",
    "# Download the file from IPFS using the CID and save it locally\n",
    "download_file_from_ipfs(file_cid, downloaded_file_path)\n",
    "print(f'File downloaded and saved to: {downloaded_file_path}')\n"
   ]
  },
  {
   "cell_type": "code",
   "execution_count": 14,
   "id": "772fdd54-b7de-4677-925d-8052136e68a6",
   "metadata": {},
   "outputs": [
    {
     "name": "stdout",
     "output_type": "stream",
     "text": [
      "QmY71EwjK6U6ziXMbLJWVEyNaHYNAwHif7HSRwRajYKVH5\n"
     ]
    },
    {
     "data": {
      "text/plain": [
       "{'DOI': 'https://doi.org/10.1057/s41267-017-0081-0',\n",
       " 'ISSN': '0047-2506, 1478-6990',\n",
       " 'author': 'Eduardo Oliveira',\n",
       " 'date': '2024-08-07',\n",
       " 'title': 'The Next Generation Research Platform'}"
      ]
     },
     "execution_count": 14,
     "metadata": {},
     "output_type": "execute_result"
    }
   ],
   "source": [
    "metadata = {\n",
    "    'title': 'The Next Generation Research Platform',\n",
    "    'author': 'Eduardo Oliveira',\n",
    "    'date': '2024-08-07',\n",
    "    'DOI': 'https://doi.org/10.1057/s41267-017-0081-0',\n",
    "    'ISSN': '0047-2506, 1478-6990'\n",
    "}\n",
    "\n",
    "cid = client.add_json(metadata)\n",
    "\n",
    "print (cid)\n",
    "\n",
    "client.get_json(cid)"
   ]
  },
  {
   "cell_type": "code",
   "execution_count": 9,
   "id": "a790962d-676b-40c0-89c0-2740dc0ff21f",
   "metadata": {},
   "outputs": [
    {
     "ename": "TypeError",
     "evalue": "argument of type 'NoneType' is not iterable",
     "output_type": "error",
     "traceback": [
      "\u001b[0;31m---------------------------------------------------------------------------\u001b[0m",
      "\u001b[0;31mTypeError\u001b[0m                                 Traceback (most recent call last)",
      "Cell \u001b[0;32mIn[9], line 4\u001b[0m\n\u001b[1;32m      1\u001b[0m \u001b[38;5;28;01mimport\u001b[39;00m \u001b[38;5;21;01mipfsapi\u001b[39;00m\n\u001b[1;32m      3\u001b[0m \u001b[38;5;66;03m# Create an IPFS API object\u001b[39;00m\n\u001b[0;32m----> 4\u001b[0m api \u001b[38;5;241m=\u001b[39m \u001b[43mipfsapi\u001b[49m\u001b[38;5;241;43m.\u001b[39;49m\u001b[43mconnect\u001b[49m\u001b[43m(\u001b[49m\u001b[38;5;124;43m'\u001b[39;49m\u001b[38;5;124;43m/ip4/10.0.0.100/tcp/5001/http\u001b[39;49m\u001b[38;5;124;43m'\u001b[39;49m\u001b[43m)\u001b[49m \n\u001b[1;32m      6\u001b[0m \u001b[38;5;66;03m# Pin the file to IPFS\u001b[39;00m\n\u001b[1;32m      7\u001b[0m file_path \u001b[38;5;241m=\u001b[39m \u001b[38;5;124m'\u001b[39m\u001b[38;5;124mdatasets/accounts.csv\u001b[39m\u001b[38;5;124m'\u001b[39m\n",
      "File \u001b[0;32m~/OpenScience/venv/lib/python3.9/site-packages/ipfsapi/client/__init__.py:85\u001b[0m, in \u001b[0;36mconnect\u001b[0;34m(host, port, base, chunk_size, **defaults)\u001b[0m\n\u001b[1;32m     64\u001b[0m \u001b[38;5;250m\u001b[39m\u001b[38;5;124;03m\"\"\"Create a new :class:`~ipfsapi.Client` instance and connect to the\u001b[39;00m\n\u001b[1;32m     65\u001b[0m \u001b[38;5;124;03mdaemon to validate that its version is supported.\u001b[39;00m\n\u001b[1;32m     66\u001b[0m \n\u001b[0;32m   (...)\u001b[0m\n\u001b[1;32m     82\u001b[0m \u001b[38;5;124;03m\t~ipfsapi.Client\u001b[39;00m\n\u001b[1;32m     83\u001b[0m \u001b[38;5;124;03m\"\"\"\u001b[39;00m\n\u001b[1;32m     84\u001b[0m \u001b[38;5;66;03m# Create client instance\u001b[39;00m\n\u001b[0;32m---> 85\u001b[0m client \u001b[38;5;241m=\u001b[39m \u001b[43mClient\u001b[49m\u001b[43m(\u001b[49m\u001b[43mhost\u001b[49m\u001b[43m,\u001b[49m\u001b[43m \u001b[49m\u001b[43mport\u001b[49m\u001b[43m,\u001b[49m\u001b[43m \u001b[49m\u001b[43mbase\u001b[49m\u001b[43m,\u001b[49m\u001b[43m \u001b[49m\u001b[43mchunk_size\u001b[49m\u001b[43m,\u001b[49m\u001b[43m \u001b[49m\u001b[38;5;241;43m*\u001b[39;49m\u001b[38;5;241;43m*\u001b[39;49m\u001b[43mdefaults\u001b[49m\u001b[43m)\u001b[49m\n\u001b[1;32m     87\u001b[0m \u001b[38;5;66;03m# Query version number from daemon and validate it\u001b[39;00m\n\u001b[1;32m     88\u001b[0m assert_version(client\u001b[38;5;241m.\u001b[39mversion()[\u001b[38;5;124m'\u001b[39m\u001b[38;5;124mVersion\u001b[39m\u001b[38;5;124m'\u001b[39m])\n",
      "File \u001b[0;32m~/OpenScience/venv/lib/python3.9/site-packages/ipfsapi/client/__init__.py:185\u001b[0m, in \u001b[0;36mClient.__init__\u001b[0;34m(self, host, port, base, chunk_size, **defaults)\u001b[0m\n\u001b[1;32m    183\u001b[0m host_type \u001b[38;5;241m=\u001b[39m \u001b[38;5;124m\"\u001b[39m\u001b[38;5;124mdns\u001b[39m\u001b[38;5;124m\"\u001b[39m\n\u001b[1;32m    184\u001b[0m \u001b[38;5;28;01mtry\u001b[39;00m:\n\u001b[0;32m--> 185\u001b[0m \thost_type \u001b[38;5;241m=\u001b[39m \u001b[38;5;124m\"\u001b[39m\u001b[38;5;124mip\u001b[39m\u001b[38;5;132;01m{0}\u001b[39;00m\u001b[38;5;124m\"\u001b[39m\u001b[38;5;241m.\u001b[39mformat(\u001b[43mnetaddr\u001b[49m\u001b[38;5;241;43m.\u001b[39;49m\u001b[43mIPAddress\u001b[49m\u001b[43m(\u001b[49m\u001b[43murl\u001b[49m\u001b[38;5;241;43m.\u001b[39;49m\u001b[43mhostname\u001b[49m\u001b[43m)\u001b[49m\u001b[38;5;241m.\u001b[39mversion)\n\u001b[1;32m    186\u001b[0m \u001b[38;5;28;01mexcept\u001b[39;00m netaddr\u001b[38;5;241m.\u001b[39mAddrFormatError:\n\u001b[1;32m    187\u001b[0m \t\u001b[38;5;28;01mpass\u001b[39;00m\n",
      "File \u001b[0;32m~/OpenScience/venv/lib/python3.9/site-packages/netaddr/ip/__init__.py:333\u001b[0m, in \u001b[0;36mIPAddress.__init__\u001b[0;34m(self, addr, version, flags)\u001b[0m\n\u001b[1;32m    331\u001b[0m \u001b[38;5;28;01mfor\u001b[39;00m module \u001b[38;5;129;01min\u001b[39;00m _ipv4, _ipv6:\n\u001b[1;32m    332\u001b[0m     \u001b[38;5;28;01mtry\u001b[39;00m:\n\u001b[0;32m--> 333\u001b[0m         \u001b[38;5;28mself\u001b[39m\u001b[38;5;241m.\u001b[39m_value \u001b[38;5;241m=\u001b[39m \u001b[43mmodule\u001b[49m\u001b[38;5;241;43m.\u001b[39;49m\u001b[43mstr_to_int\u001b[49m\u001b[43m(\u001b[49m\u001b[43maddr\u001b[49m\u001b[43m,\u001b[49m\u001b[43m \u001b[49m\u001b[43mflags\u001b[49m\u001b[43m)\u001b[49m\n\u001b[1;32m    334\u001b[0m     \u001b[38;5;28;01mexcept\u001b[39;00m AddrFormatError:\n\u001b[1;32m    335\u001b[0m         \u001b[38;5;28;01mcontinue\u001b[39;00m\n",
      "File \u001b[0;32m~/OpenScience/venv/lib/python3.9/site-packages/netaddr/strategy/ipv4.py:118\u001b[0m, in \u001b[0;36mstr_to_int\u001b[0;34m(addr, flags)\u001b[0m\n\u001b[1;32m    108\u001b[0m \u001b[38;5;250m\u001b[39m\u001b[38;5;124;03m\"\"\"\u001b[39;00m\n\u001b[1;32m    109\u001b[0m \u001b[38;5;124;03m:param addr: An IPv4 dotted decimal address in string form.\u001b[39;00m\n\u001b[1;32m    110\u001b[0m \n\u001b[0;32m   (...)\u001b[0m\n\u001b[1;32m    115\u001b[0m \u001b[38;5;124;03m:return: The equivalent unsigned integer for a given IPv4 address.\u001b[39;00m\n\u001b[1;32m    116\u001b[0m \u001b[38;5;124;03m\"\"\"\u001b[39;00m\n\u001b[1;32m    117\u001b[0m error \u001b[38;5;241m=\u001b[39m AddrFormatError(\u001b[38;5;124m'\u001b[39m\u001b[38;5;132;01m%r\u001b[39;00m\u001b[38;5;124m is not a valid IPv4 address string!\u001b[39m\u001b[38;5;124m'\u001b[39m \u001b[38;5;241m%\u001b[39m (addr,))\n\u001b[0;32m--> 118\u001b[0m \u001b[38;5;28;01mif\u001b[39;00m \u001b[38;5;124;43m'\u001b[39;49m\u001b[38;5;124;43m:\u001b[39;49m\u001b[38;5;124;43m'\u001b[39;49m\u001b[43m \u001b[49m\u001b[38;5;129;43;01min\u001b[39;49;00m\u001b[43m \u001b[49m\u001b[43maddr\u001b[49m:\n\u001b[1;32m    119\u001b[0m     \u001b[38;5;28;01mraise\u001b[39;00m error\n\u001b[1;32m    120\u001b[0m pton_mode \u001b[38;5;241m=\u001b[39m flags \u001b[38;5;241m&\u001b[39m INET_PTON \u001b[38;5;129;01mor\u001b[39;00m \u001b[38;5;129;01mnot\u001b[39;00m flags \u001b[38;5;241m&\u001b[39m INET_ATON\n",
      "\u001b[0;31mTypeError\u001b[0m: argument of type 'NoneType' is not iterable"
     ]
    }
   ],
   "source": [
    "import ipfsapi\n",
    "\n",
    "# Create an IPFS API object\n",
    "api = ipfsapi.connect('/ip4/10.0.0.100/tcp/5001/http') \n",
    "\n",
    "# Pin the file to IPFS\n",
    "file_path = 'datasets/accounts.csv'\n",
    "cid = api.add(file_path)\n",
    "\n",
    "print(\"File CID:\", cid)\n",
    "\n",
    "# Store the metadata in a JSON file\n",
    "metadata = {\n",
    "    'title': 'My File',\n",
    "    'author': 'John Doe',\n",
    "    'date': '2022-01-01'\n",
    "}\n",
    "with open('metadata.json', 'w') as f:\n",
    "    json.dump(metadata, f)\n",
    "\n",
    "# Pin the metadata to IPFS\n",
    "meta_cid = api.add('metadata.json')\n",
    "\n",
    "print(\"Metadata CID:\", meta_cid)\n",
    "\n",
    "# Link the file and metadata CIDs together\n",
    "api.ln(cid, meta_cid)"
   ]
  },
  {
   "cell_type": "code",
   "execution_count": null,
   "id": "a5465bd8-ea87-4192-a1fd-a47a92dd4987",
   "metadata": {},
   "outputs": [],
   "source": []
  }
 ],
 "metadata": {
  "kernelspec": {
   "display_name": "venv",
   "language": "python",
   "name": "venv"
  },
  "language_info": {
   "codemirror_mode": {
    "name": "ipython",
    "version": 3
   },
   "file_extension": ".py",
   "mimetype": "text/x-python",
   "name": "python",
   "nbconvert_exporter": "python",
   "pygments_lexer": "ipython3",
   "version": "3.9.19"
  }
 },
 "nbformat": 4,
 "nbformat_minor": 5
}
