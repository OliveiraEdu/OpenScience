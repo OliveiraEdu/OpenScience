{
 "cells": [
  {
   "cell_type": "code",
   "execution_count": 9,
   "id": "dc5504a4-60bd-4b14-a6bd-0c52e779fec7",
   "metadata": {},
   "outputs": [
    {
     "name": "stdout",
     "output_type": "stream",
     "text": [
      "Uploaded file CID: QmTKe1JBAyG4C3beCe8rYbpoFmB47YgzyDMtd9WcfVntgu\n",
      "File downloaded and saved to: downloaded_file1.txt\n"
     ]
    }
   ],
   "source": [
    "import ipfshttpclient\n",
    "\n",
    "# Connect to the IPFS node at a specific IP address\n",
    "client = ipfshttpclient.connect('/dns/10.0.0.100/tcp/5001/http')  # Replace with your IP address and port\n",
    "\n",
    "def upload_file_to_ipfs(file_path):\n",
    "    # Add the file to IPFS\n",
    "    result = client.add(file_path)\n",
    "    return result['Hash']\n",
    "\n",
    "def download_file_from_ipfs(cid, output_path):\n",
    "    # Retrieve the file from IPFS\n",
    "    file_data = client.cat(cid)\n",
    "    # Save the file locally\n",
    "    with open(output_path, 'wb') as f:\n",
    "        f.write(file_data)\n",
    "\n",
    "# Specify the path to the file you want to upload\n",
    "local_file_path = 'queri'\n",
    "\n",
    "# Upload the file to IPFS and get the CID\n",
    "file_cid = upload_file_to_ipfs(local_file_path)\n",
    "print(f'Uploaded file CID: {file_cid}')\n",
    "\n",
    "# Specify the path where you want to save the downloaded file\n",
    "downloaded_file_path = 'downloaded_file1.txt'\n",
    "\n",
    "# Download the file from IPFS using the CID and save it locally\n",
    "download_file_from_ipfs(file_cid, downloaded_file_path)\n",
    "print(f'File downloaded and saved to: {downloaded_file_path}')\n"
   ]
  },
  {
   "cell_type": "code",
   "execution_count": null,
   "id": "32eb3a95-cb93-45db-909b-82035be028dd",
   "metadata": {},
   "outputs": [],
   "source": []
  }
 ],
 "metadata": {
  "kernelspec": {
   "display_name": "venv",
   "language": "python",
   "name": "venv"
  },
  "language_info": {
   "codemirror_mode": {
    "name": "ipython",
    "version": 3
   },
   "file_extension": ".py",
   "mimetype": "text/x-python",
   "name": "python",
   "nbconvert_exporter": "python",
   "pygments_lexer": "ipython3",
   "version": "3.9.19"
  }
 },
 "nbformat": 4,
 "nbformat_minor": 5
}
