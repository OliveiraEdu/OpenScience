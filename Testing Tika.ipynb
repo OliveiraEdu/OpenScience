{
 "cells": [
  {
   "cell_type": "code",
   "execution_count": null,
   "id": "7e258e2d-b1cd-4657-9cd5-f1c4ba7b38eb",
   "metadata": {},
   "outputs": [],
   "source": [
    "from parse_documents import *\n",
    "\n",
    "# filepath = 'upload/Jean-Baptiste_Perronneau_-_Magdaleine_Pinceloup_de_la_Grange,_née_de_Parseval.jpg'  # Replace with the path of your file\n",
    "# filepath = \"upload/World_Energy_By_Country_And_Region_1965_to_2023.csv\"\n",
    "filepath = 'upload/Diabetic-retinopathy-identification-using-parallel-convo_2023_Expert-Systems.pdf'\n",
    "parse_document(filepath)\n",
    "\n"
   ]
  },
  {
   "cell_type": "code",
   "execution_count": null,
   "id": "2f581976-9cb0-449e-ae8e-e10e4cf05801",
   "metadata": {},
   "outputs": [],
   "source": [
    "from tika import parser\n",
    "\n",
    "def parse_document(filepath):\n",
    "    try:\n",
    "        parsed_document = parser.from_file(filepath)\n",
    "        \n",
    "        # Check if parsing was successful\n",
    "        if 'status' in parsed_document and parsed_document['status'] == 200:\n",
    "            print(f\"Parsing successful: {parsed_document['status']}\")\n",
    "        else:\n",
    "            print(f\"Parsing failed with status: {parsed_document.get('status')}\")\n",
    "            return\n",
    "        \n",
    "        # Print the type and keys of the parsed document\n",
    "        print(type(parsed_document))\n",
    "        print(parsed_document.keys())\n",
    "\n",
    "        # Extract and print metadata if available\n",
    "        metadata = parsed_document.get('metadata', {})\n",
    "        if metadata:\n",
    "            print(\"Metadata:\")\n",
    "            print(metadata)\n",
    "        else:\n",
    "            print(\"No metadata found.\")\n",
    "        \n",
    "        # Print content if needed (commented to avoid large outputs)\n",
    "        # print(parsed_document.get('content', 'No content available'))\n",
    "        \n",
    "    except FileNotFoundError:\n",
    "        print(f\"Error: File '{filepath}' not found.\")\n",
    "    except Exception as e:\n",
    "        print(f\"An error occurred: {e}\")\n",
    "\n",
    "# Example usage\n",
    "parse_document(\"upload/Jean-Baptiste_Perronneau_-_Magdaleine_Pinceloup_de_la_Grange,_née_de_Parseval.jpg\")\n"
   ]
  },
  {
   "cell_type": "code",
   "execution_count": null,
   "id": "78fcf833-4952-402e-a496-bcb2d1c68cb8",
   "metadata": {},
   "outputs": [],
   "source": [
    "from tika import parser\n",
    "\n",
    "def parse_document(filepath):\n",
    "    try:\n",
    "        parsed_document = parser.from_file(filepath)\n",
    "        \n",
    "        # Check if parsing was successful\n",
    "        if 'status' in parsed_document and parsed_document['status'] == 200:\n",
    "            print(f\"Parsing successful: {parsed_document['status']}\")\n",
    "        else:\n",
    "            print(f\"Parsing failed with status: {parsed_document.get('status')}\")\n",
    "            return\n",
    "        \n",
    "        # Extract and print list of keys in the parsed document\n",
    "        document_keys = list(parsed_document.keys())\n",
    "        print(\"Keys in the parsed document:\")\n",
    "        print(document_keys)\n",
    "\n",
    "        # Extract metadata keys if available\n",
    "        metadata = parsed_document.get('metadata', {})\n",
    "        if metadata:\n",
    "            metadata_keys = list(metadata.keys())\n",
    "            print(\"Keys in metadata:\")\n",
    "            print(metadata_keys)\n",
    "        else:\n",
    "            print(\"No metadata found.\")\n",
    "\n",
    "    except FileNotFoundError:\n",
    "        print(f\"Error: File '{filepath}' not found.\")\n",
    "    except Exception as e:\n",
    "        print(f\"An error occurred: {e}\")\n",
    "\n",
    "# Example usage\n",
    "parse_document(\"upload/Jean-Baptiste_Perronneau_-_Magdaleine_Pinceloup_de_la_Grange,_née_de_Parseval.jpg\")\n"
   ]
  },
  {
   "cell_type": "code",
   "execution_count": 5,
   "id": "e9b4fa24-1d10-49a4-90f8-a6d8f33f6fe3",
   "metadata": {},
   "outputs": [
    {
     "name": "stderr",
     "output_type": "stream",
     "text": [
      "ic| result['Name']: 'Diabetic-retinopathy-identification-using-parallel-convo_2023_Expert-Systems.pdf'\n",
      "    result['Hash']: 'QmT7ximApXtExAedhzUHGHDwRismRzuKykpH4dgTvGrNZs'\n"
     ]
    },
    {
     "name": "stdout",
     "output_type": "stream",
     "text": [
      "Saving metadata files in temporary directory: tmp\n"
     ]
    },
    {
     "name": "stderr",
     "output_type": "stream",
     "text": [
      "ic| file_metadata_CID: 'QmNPH1K1mgHxtXyV7Ms42yCVvxhR81BQg8BsdguYvSkv3u'\n",
      "ic| result['Name']: 'Munafò et al. - 2022 - The reproducibility debate is an opportunity, not .pdf'\n",
      "    result['Hash']: 'QmdiRawzVNUiB28ENKQ7WefeFLEJ1xMjsJjwtHL2jnJ9xW'\n"
     ]
    },
    {
     "name": "stdout",
     "output_type": "stream",
     "text": [
      "{'pdf:PDFVersion': '1.7', 'xmp:CreatorTool': 'Elsevier', 'pdf:docinfo:title': 'Diabetic retinopathy identification using parallel convolutional neural network based feature extractor and ELM classifier', 'pdf:hasXFA': 'false', 'access_permission:can_print_degraded': 'true', 'X-TIKA:Parsed-By-Full-Set': ['org.apache.tika.parser.DefaultParser', 'org.apache.tika.parser.pdf.PDFParser'], 'X-TIKA:content_handler': 'ToTextContentHandler', 'pdf:num3DAnnotations': '0', 'dc:format': 'application/pdf; version=1.7', 'pdf:docinfo:custom:robots': 'noindex', 'pdf:docinfo:creator_tool': 'Elsevier', 'access_permission:fill_in_form': 'true', 'pdf:docinfo:custom:CreationDate--Text': '7th February 2023', 'pdf:hasCollection': 'false', 'pdf:encrypted': 'false', 'dc:title': 'Diabetic retinopathy identification using parallel convolutional neural network based feature extractor and ELM classifier', 'pdf:containsNonEmbeddedFont': 'false', 'xmp:CreateDate': '2023-02-04T09:40:15Z', 'pdf:docinfo:custom:CrossMarkDomains[1]': 'elsevier.com', 'robots': 'noindex', 'pdf:docinfo:subject': 'Expert Systems With Applications, 217 (2023) 119557. doi:10.1016/j.eswa.2023.119557', 'pdf:hasMarkedContent': 'true', 'xmp:ModifyDate': '2023-02-07T17:54:35Z', 'pdf:docinfo:creator': 'Md. Nahiduzzaman', 'pdf:docinfo:custom:CrossmarkMajorVersionDate': '2010-04-23', 'access_permission:extract_for_accessibility': 'true', 'resourceName': \"b'Diabetic-retinopathy-identification-using-parallel-convo_2023_Expert-Systems.pdf'\", 'pdf:docinfo:custom:CrossMarkDomains[2]': 'sciencedirect.com', 'X-TIKA:Parsed-By': ['org.apache.tika.parser.DefaultParser', 'org.apache.tika.parser.pdf.PDFParser'], 'ElsevierWebPDFSpecifications': '7.0', 'pdf:docinfo:custom:doi': '10.1016/j.eswa.2023.119557', 'pdf:docinfo:custom:CrossmarkDomainExclusive': 'true', 'X-TIKA:embedded_depth': '0', 'CrossmarkDomainExclusive': 'true', 'pdf:annotationTypes': 'null', 'pdf:docinfo:producer': 'Acrobat Distiller 8.1.0 (Windows)', 'pdf:annotationSubtypes': 'Link', 'CreationDate--Text': '7th February 2023', 'doi': '10.1016/j.eswa.2023.119557', 'pdf:containsDamagedFont': 'false', 'pdf:unmappedUnicodeCharsPerPage': ['0', '0', '0', '0', '0', '0', '0', '0', '0', '0', '0'], 'dc:description': 'Expert Systems With Applications, 217 (2023) 119557. doi:10.1016/j.eswa.2023.119557', 'access_permission:modify_annotations': 'true', 'dc:creator': ['Md. Nahiduzzaman', 'Md. Robiul Islam', 'Md. Omaer Faruq Goni', 'Md. Shamim Anower', 'Mominul Ahsan', 'Julfikar Haider', 'Marcin Kowalski'], 'dcterms:created': '2023-02-04T09:40:15Z', 'dcterms:modified': '2023-02-07T17:54:35Z', 'xmpMM:DocumentID': 'uuid:1b499bed-4ce8-4c0c-b682-0d58baae1cbe', 'CrossMarkDomains[1]': 'elsevier.com', 'pdf:overallPercentageUnmappedUnicodeChars': '0.0', 'pdf:docinfo:keywords': 'Contrast limited adaptive histogram equalization (CLAHE),Diabetic retinopathy (DR),Parallel convolutional neural network (PCNN),Extreme LEARNING MACHine (ELM)', 'pdf:docinfo:modified': '2023-02-07T17:54:35Z', 'Content-Length': '6122917', 'Content-Type': 'application/pdf', 'xmp:MetadataDate': '2023-02-07T17:54:35Z', 'dc:language': 'en', 'pdf:producer': 'Acrobat Distiller 8.1.0 (Windows)', 'dc:subject': ['Contrast limited adaptive histogram equalization (CLAHE),Diabetic retinopathy (DR),Parallel convolutional neural network (PCNN),Extreme LEARNING MACHine (ELM)', 'Expert Systems With Applications, 217 (2023) 119557. doi:10.1016/j.eswa.2023.119557'], 'pdf:docinfo:custom:ElsevierWebPDFSpecifications': '7.0', 'pdf:totalUnmappedUnicodeChars': '0', 'access_permission:assemble_document': 'true', 'xmpTPg:NPages': '11', 'pdf:hasXMP': 'true', 'pdf:charsPerPage': ['4980', '8262', '7998', '1077', '4759', '5305', '3814', '3469', '7158', '10210', '4231'], 'access_permission:extract_content': 'true', 'access_permission:can_print': 'true', 'CrossMarkDomains[2]': 'sciencedirect.com', 'meta:keyword': 'Contrast limited adaptive histogram equalization (CLAHE),Diabetic retinopathy (DR),Parallel convolutional neural network (PCNN),Extreme LEARNING MACHine (ELM)', 'X-TIKA:parse_time_millis': '228', 'access_permission:can_modify': 'true', 'pdf:docinfo:created': '2023-02-04T09:40:15Z', 'CrossmarkMajorVersionDate': '2010-04-23'}\n",
      "Metadata saved for 'Diabetic-retinopathy-identification-using-parallel-convo_2023_Expert-Systems.pdf' as 'Diabetic-retinopathy-identification-using-parallel-convo_2023_Expert-Systems.json'\n"
     ]
    },
    {
     "name": "stderr",
     "output_type": "stream",
     "text": [
      "ic| file_metadata_CID: 'QmeW9Wp1vYMEG3Uv11oMoa2BksDc1ujST7rfHUZSoutb9V'\n",
      "ic| result['Name']: 'assets.json'\n",
      "    result['Hash']: 'QmZ9tmsiUTt22eyHqkA84wns29sWwZ94LGHBZzUjbaGwFu'\n",
      "ic| file_metadata_CID: 'QmbLAD65YgcJSo3E6RdTVQohYTQ2TV3kcmcb1KCFcrTHgq'\n",
      "ic| result['Name']: 'hello_world.py'\n",
      "    result['Hash']: 'QmeBTz4ZwyqPkPigpASZ3wJodBXzJRpeXQMwNcsWRqU5Jv'\n"
     ]
    },
    {
     "name": "stdout",
     "output_type": "stream",
     "text": [
      "{'pdf:PDFVersion': '1.6', 'xmp:CreatorTool': 'Springer', 'pdf:docinfo:title': 'The reproducibility debate is an opportunity, not a crisis', 'pdf:hasXFA': 'false', 'access_permission:can_print_degraded': 'true', 'pdfa:PDFVersion': 'A-2b', 'X-TIKA:Parsed-By-Full-Set': ['org.apache.tika.parser.DefaultParser', 'org.apache.tika.parser.pdf.PDFParser'], 'X-TIKA:content_handler': 'ToTextContentHandler', 'pdf:num3DAnnotations': '0', 'xmpMM:History:Action': ['converted', 'converted'], 'dc:format': 'application/pdf; version=1.6', 'pdf:docinfo:custom:robots': 'noindex', 'pdf:docinfo:creator_tool': 'Springer', 'access_permission:fill_in_form': 'true', 'xmpMM:History:When': ['2022-02-04T12:24:18Z', '2022-02-04T12:24:46Z'], 'pdf:hasCollection': 'false', 'pdf:encrypted': 'false', 'dc:title': 'The reproducibility debate is an opportunity, not a crisis', 'pdf:containsNonEmbeddedFont': 'false', 'xmp:CreateDate': '2022-02-04T12:22:19Z', 'xmpMM:History:SoftwareAgent': ['pdfToolbox', 'pdfToolbox'], 'pdf:docinfo:custom:CrossMarkDomains[1]': 'springer.com', 'robots': 'noindex', 'pdf:docinfo:subject': 'BMC Research Notes, https://doi.org/10.1186/s13104-022-05942-3', 'pdf:hasMarkedContent': 'false', 'xmpMM:History:InstanceID': ['uuid:42b1466b-ce3d-4831-b6fd-ec595177b7a2', 'uuid:46d1ef82-99a4-426b-ba14-311817d6f6f1'], 'xmp:ModifyDate': '2022-02-10T13:46:46Z', 'pdf:docinfo:creator': 'Marcus R. Munafò ', 'pdf:docinfo:custom:CrossmarkMajorVersionDate': '2010-04-23', 'access_permission:extract_for_accessibility': 'true', 'resourceName': \"b'Munaf\\\\xc3\\\\xb2 et al. - 2022 - The reproducibility debate is an opportunity, not .pdf'\", 'pdfaid:part': '2', 'pdf:docinfo:custom:CrossMarkDomains[2]': 'springerlink.com', 'X-TIKA:Parsed-By': ['org.apache.tika.parser.DefaultParser', 'org.apache.tika.parser.pdf.PDFParser'], 'pdf:docinfo:custom:doi': '10.1186/s13104-022-05942-3', 'pdf:docinfo:custom:CrossmarkDomainExclusive': 'true', 'X-TIKA:embedded_depth': '0', 'CrossmarkDomainExclusive': 'true', 'pdf:annotationTypes': 'null', 'pdf:docinfo:producer': 'Acrobat Distiller 10.1.8 (Windows); modified using iText® 5.3.5 ©2000-2012 1T3XT BVBA (SPRINGER SBM; licensed version)', 'pdf:annotationSubtypes': 'Link', 'doi': '10.1186/s13104-022-05942-3', 'pdf:containsDamagedFont': 'false', 'pdf:unmappedUnicodeCharsPerPage': ['0', '0', '0'], 'dc:description': 'BMC Research Notes, https://doi.org/10.1186/s13104-022-05942-3', 'access_permission:modify_annotations': 'true', 'dc:creator': ['Marcus R. Munafò ', 'Chris Chambers ', 'Alexandra Collins ', 'Laura Fortunato ', 'Malcolm Macleod '], 'dcterms:created': '2022-02-04T06:52:19Z', 'dcterms:modified': '2022-02-10T12:46:46Z', 'xmpMM:DocumentID': 'uuid:ba33d111-0f78-432f-94c0-9d4831112079', 'CrossMarkDomains[1]': 'springer.com', 'pdf:overallPercentageUnmappedUnicodeChars': '0.0', 'pdf:docinfo:keywords': 'UK Reproducibility Network,Reproducibility,Replicability,Research Integrity', 'pdf:docinfo:modified': '2022-02-10T12:46:46Z', 'Content-Length': '694525', 'Content-Type': 'application/pdf', 'xmp:MetadataDate': '2022-02-10T13:46:46Z', 'pdfaid:conformance': 'B', 'dc:language': 'EN', 'pdf:producer': 'Acrobat Distiller 10.1.8 (Windows); modified using iText® 5.3.5 ©2000-2012 1T3XT BVBA (SPRINGER SBM; licensed version)', 'dc:subject': ['UK Reproducibility Network,Reproducibility,Replicability,Research Integrity', 'BMC Research Notes, https://doi.org/10.1186/s13104-022-05942-3'], 'pdf:totalUnmappedUnicodeChars': '0', 'access_permission:assemble_document': 'true', 'xmpTPg:NPages': '3', 'pdf:hasXMP': 'true', 'pdf:charsPerPage': ['4801', '5534', '5242'], 'access_permission:extract_content': 'true', 'access_permission:can_print': 'true', 'CrossMarkDomains[2]': 'springerlink.com', 'meta:keyword': 'UK Reproducibility Network,Reproducibility,Replicability,Research Integrity', 'X-TIKA:parse_time_millis': '98', 'access_permission:can_modify': 'true', 'pdf:docinfo:created': '2022-02-04T06:52:19Z', 'CrossmarkMajorVersionDate': '2010-04-23'}\n",
      "Metadata saved for 'Munafò et al. - 2022 - The reproducibility debate is an opportunity, not .pdf' as 'Munafò et al. - 2022 - The reproducibility debate is an opportunity, not .json'\n",
      "{'X-TIKA:Parsed-By': ['org.apache.tika.parser.DefaultParser', 'org.apache.tika.parser.csv.TextAndCSVParser'], 'X-TIKA:Parsed-By-Full-Set': ['org.apache.tika.parser.DefaultParser', 'org.apache.tika.parser.csv.TextAndCSVParser'], 'X-TIKA:content_handler': 'ToTextContentHandler', 'Content-Encoding': 'UTF-8', 'X-TIKA:parse_time_millis': '7', 'X-TIKA:embedded_depth': '0', 'resourceName': \"b'assets.json'\", 'Content-Length': '5935', 'Content-Type': 'text/plain; charset=UTF-8'}\n",
      "Metadata saved for 'assets.json' as 'assets.json'\n"
     ]
    },
    {
     "name": "stderr",
     "output_type": "stream",
     "text": [
      "ic| file_metadata_CID: 'QmWwZb9S8tE764UCs6Lvzfevjuv7wWjKbYQMqNpJmZba14'\n",
      "ic| result['Name']: 'bitcoin.pdf'\n",
      "    result['Hash']: 'QmRA3NWM82ZGynMbYzAgYTSXCVM14Wx1RZ8fKP42G6gjgj'\n"
     ]
    },
    {
     "name": "stdout",
     "output_type": "stream",
     "text": [
      "{'X-TIKA:Parsed-By': ['org.apache.tika.parser.DefaultParser', 'org.apache.tika.parser.csv.TextAndCSVParser'], 'X-TIKA:Parsed-By-Full-Set': ['org.apache.tika.parser.DefaultParser', 'org.apache.tika.parser.csv.TextAndCSVParser'], 'X-TIKA:content_handler': 'ToTextContentHandler', 'Content-Encoding': 'ISO-8859-1', 'X-TIKA:parse_time_millis': '4', 'X-TIKA:embedded_depth': '0', 'resourceName': \"b'hello_world.py'\", 'Content-Length': '44', 'Content-Type': 'application/x-sh; charset=ISO-8859-1'}\n",
      "Metadata saved for 'hello_world.py' as 'hello_world.json'\n"
     ]
    },
    {
     "name": "stderr",
     "output_type": "stream",
     "text": [
      "ic| file_metadata_CID: 'Qmf7SE5wxtLje6m47QGf57KQSpTifKpjF8jrob4HGKrqr9'\n",
      "ic| result['Name']: 'assets.csv'\n",
      "    result['Hash']: 'QmWRMwc5taM4BaapEhLPpmZVPrN7WmxoEyyaQvoSgUqfWW'\n",
      "ic| file_metadata_CID: 'QmSmEJpEfJznHEoa78zbgVz85rxaej6Tv8mYQynrY7ryAK'\n"
     ]
    },
    {
     "name": "stdout",
     "output_type": "stream",
     "text": [
      "{'pdf:unmappedUnicodeCharsPerPage': ['0', '0', '0', '0', '0', '0', '0', '0', '0'], 'pdf:PDFVersion': '1.4', 'xmp:CreatorTool': 'Writer', 'pdf:hasXFA': 'false', 'access_permission:modify_annotations': 'true', 'access_permission:can_print_degraded': 'true', 'X-TIKA:Parsed-By-Full-Set': ['org.apache.tika.parser.DefaultParser', 'org.apache.tika.parser.pdf.PDFParser'], 'X-TIKA:content_handler': 'ToTextContentHandler', 'pdf:num3DAnnotations': '0', 'dcterms:created': '2009-03-24T17:33:15Z', 'dc:format': 'application/pdf; version=1.4', 'pdf:docinfo:creator_tool': 'Writer', 'pdf:overallPercentageUnmappedUnicodeChars': '0.0', 'access_permission:fill_in_form': 'true', 'pdf:hasCollection': 'false', 'pdf:encrypted': 'false', 'pdf:containsNonEmbeddedFont': 'false', 'Content-Length': '184292', 'pdf:hasMarkedContent': 'false', 'Content-Type': 'application/pdf', 'dc:language': 'en-GB', 'pdf:producer': 'OpenOffice.org 2.4', 'pdf:totalUnmappedUnicodeChars': '0', 'access_permission:extract_for_accessibility': 'true', 'access_permission:assemble_document': 'true', 'xmpTPg:NPages': '9', 'resourceName': \"b'bitcoin.pdf'\", 'pdf:hasXMP': 'false', 'pdf:charsPerPage': ['3050', '2387', '3060', '2736', '2260', '2592', '2192', '1763', '1106'], 'access_permission:extract_content': 'true', 'access_permission:can_print': 'true', 'X-TIKA:Parsed-By': ['org.apache.tika.parser.DefaultParser', 'org.apache.tika.parser.pdf.PDFParser'], 'X-TIKA:parse_time_millis': '100', 'X-TIKA:embedded_depth': '0', 'access_permission:can_modify': 'true', 'pdf:docinfo:producer': 'OpenOffice.org 2.4', 'pdf:docinfo:created': '2009-03-24T17:33:15Z', 'pdf:containsDamagedFont': 'false'}\n",
      "Metadata saved for 'bitcoin.pdf' as 'bitcoin.json'\n",
      "{'X-TIKA:Parsed-By': ['org.apache.tika.parser.DefaultParser', 'org.apache.tika.parser.csv.TextAndCSVParser'], 'X-TIKA:Parsed-By-Full-Set': ['org.apache.tika.parser.DefaultParser', 'org.apache.tika.parser.csv.TextAndCSVParser'], 'X-TIKA:content_handler': 'ToTextContentHandler', 'Content-Encoding': 'UTF-8', 'X-TIKA:parse_time_millis': '6', 'X-TIKA:embedded_depth': '0', 'resourceName': \"b'assets.csv'\", 'Content-Length': '2483', 'Content-Type': 'text/plain; charset=UTF-8'}\n",
      "Metadata saved for 'assets.csv' as 'assets.json'\n"
     ]
    },
    {
     "name": "stderr",
     "output_type": "stream",
     "text": [
      "ic| result['Name']: 'COVID19-MLSF--A-multi-task-learning-based-stock-market_2023_Expert-Systems-w.pdf'\n",
      "    result['Hash']: 'QmUq29KRwpTdvScB5oYzEDobDHyb4N1f9eaZXm4VaMCgiW'\n",
      "ic| file_metadata_CID: 'QmQ3JurLjgz7pHkD7RdpBqmzmDvpHTTGRJRxkJ5oWtzoMT'\n",
      "ic| result['Name']: 'Deep-learning-in-insurance--Accuracy-and-model-int_2023_Expert-Systems-with-.pdf'\n",
      "    result['Hash']: 'QmV1vYkuiwKGPA5Tyi4ECNFfWYocyTtQ3E5j7CSvPBX49Q'\n"
     ]
    },
    {
     "name": "stdout",
     "output_type": "stream",
     "text": [
      "{'pdf:PDFVersion': '1.7', 'xmp:CreatorTool': 'Elsevier', 'pdf:docinfo:title': 'COVID19-MLSF: A multi-task learning-based stock market forecasting framework during the COVID-19 pandemic', 'pdf:hasXFA': 'false', 'access_permission:can_print_degraded': 'true', 'X-TIKA:Parsed-By-Full-Set': ['org.apache.tika.parser.DefaultParser', 'org.apache.tika.parser.pdf.PDFParser'], 'X-TIKA:content_handler': 'ToTextContentHandler', 'pdf:num3DAnnotations': '0', 'dc:format': 'application/pdf; version=1.7', 'pdf:docinfo:custom:robots': 'noindex', 'pdf:docinfo:creator_tool': 'Elsevier', 'access_permission:fill_in_form': 'true', 'pdf:docinfo:custom:CreationDate--Text': '7th February 2023', 'pdf:hasCollection': 'false', 'pdf:encrypted': 'false', 'dc:title': 'COVID19-MLSF: A multi-task learning-based stock market forecasting framework during the COVID-19 pandemic', 'pdf:containsNonEmbeddedFont': 'false', 'xmp:CreateDate': '2023-02-04T09:40:15Z', 'pdf:docinfo:custom:CrossMarkDomains[1]': 'elsevier.com', 'robots': 'noindex', 'pdf:docinfo:subject': 'Expert Systems With Applications, 217 (2023) 119549. doi:10.1016/j.eswa.2023.119549', 'pdf:hasMarkedContent': 'false', 'xmp:ModifyDate': '2023-02-07T16:52:03Z', 'pdf:docinfo:creator': 'Chenxun Yuan', 'pdf:docinfo:custom:CrossmarkMajorVersionDate': '2010-04-23', 'access_permission:extract_for_accessibility': 'true', 'resourceName': \"b'COVID19-MLSF--A-multi-task-learning-based-stock-market_2023_Expert-Systems-w.pdf'\", 'pdf:docinfo:custom:CrossMarkDomains[2]': 'sciencedirect.com', 'X-TIKA:Parsed-By': ['org.apache.tika.parser.DefaultParser', 'org.apache.tika.parser.pdf.PDFParser'], 'ElsevierWebPDFSpecifications': '7.0', 'pdf:docinfo:custom:doi': '10.1016/j.eswa.2023.119549', 'pdf:docinfo:custom:CrossmarkDomainExclusive': 'true', 'X-TIKA:embedded_depth': '0', 'CrossmarkDomainExclusive': 'true', 'pdf:annotationTypes': 'null', 'pdf:docinfo:producer': 'Acrobat Distiller 8.1.0 (Windows)', 'pdf:annotationSubtypes': 'Link', 'CreationDate--Text': '7th February 2023', 'doi': '10.1016/j.eswa.2023.119549', 'pdf:containsDamagedFont': 'false', 'pdf:unmappedUnicodeCharsPerPage': ['0', '0', '0', '0', '0', '0', '0', '0', '0', '0', '0', '0', '0', '0', '0', '0'], 'dc:description': 'Expert Systems With Applications, 217 (2023) 119549. doi:10.1016/j.eswa.2023.119549', 'access_permission:modify_annotations': 'true', 'dc:creator': ['Chenxun Yuan', 'Xiang Ma', 'Hua Wang', 'Caiming Zhang', 'Xuemei Li'], 'dcterms:created': '2023-02-04T09:40:15Z', 'dcterms:modified': '2023-02-07T16:52:03Z', 'xmpMM:DocumentID': 'uuid:1b499bed-4ce8-4c0c-b682-0d58baae1cbe', 'CrossMarkDomains[1]': 'elsevier.com', 'pdf:overallPercentageUnmappedUnicodeChars': '0.0', 'pdf:docinfo:keywords': 'Stock market forecasting,COVID-19 pandemic,Multi-task learning,Feature fusion,K-nearest neighbor classifier', 'pdf:docinfo:modified': '2023-02-07T16:52:03Z', 'Content-Length': '4016043', 'Content-Type': 'application/pdf', 'xmp:MetadataDate': '2023-02-07T16:52:03Z', 'dc:language': 'en-US', 'pdf:producer': 'Acrobat Distiller 8.1.0 (Windows)', 'dc:subject': ['Stock market forecasting,COVID-19 pandemic,Multi-task learning,Feature fusion,K-nearest neighbor classifier', 'Expert Systems With Applications, 217 (2023) 119549. doi:10.1016/j.eswa.2023.119549'], 'pdf:docinfo:custom:ElsevierWebPDFSpecifications': '7.0', 'pdf:totalUnmappedUnicodeChars': '0', 'access_permission:assemble_document': 'true', 'xmpTPg:NPages': '16', 'pdf:hasXMP': 'true', 'pdf:charsPerPage': ['4308', '4046', '7115', '4551', '3567', '6426', '1218', '6119', '1896', '4055', '3517', '5861', '730', '833', '5274', '6307'], 'access_permission:extract_content': 'true', 'access_permission:can_print': 'true', 'CrossMarkDomains[2]': 'sciencedirect.com', 'meta:keyword': 'Stock market forecasting,COVID-19 pandemic,Multi-task learning,Feature fusion,K-nearest neighbor classifier', 'X-TIKA:parse_time_millis': '315', 'access_permission:can_modify': 'true', 'pdf:docinfo:created': '2023-02-04T09:40:15Z', 'CrossmarkMajorVersionDate': '2010-04-23'}\n",
      "Metadata saved for 'COVID19-MLSF--A-multi-task-learning-based-stock-market_2023_Expert-Systems-w.pdf' as 'COVID19-MLSF--A-multi-task-learning-based-stock-market_2023_Expert-Systems-w.json'\n"
     ]
    },
    {
     "name": "stderr",
     "output_type": "stream",
     "text": [
      "ic| file_metadata_CID: 'QmdSVCE2geNydynUZDmWqEk61A9wGf6b2SrudMhZHguEv8'\n",
      "ic| result['Name']: 'Mel-Spectrogram-based-advanced-deep-temporal-clusterin_2023_Expert-Systems-w.pdf'\n",
      "    result['Hash'"
     ]
    },
    {
     "name": "stdout",
     "output_type": "stream",
     "text": [
      "{'pdf:PDFVersion': '1.7', 'xmp:CreatorTool': 'Elsevier', 'pdf:docinfo:title': 'Deep learning in insurance: Accuracy and model interpretability using TabNet', 'pdf:hasXFA': 'false', 'access_permission:can_print_degraded': 'true', 'X-TIKA:Parsed-By-Full-Set': ['org.apache.tika.parser.DefaultParser', 'org.apache.tika.parser.pdf.PDFParser'], 'X-TIKA:content_handler': 'ToTextContentHandler', 'pdf:num3DAnnotations': '0', 'dc:format': 'application/pdf; version=1.7', 'pdf:docinfo:custom:robots': 'noindex', 'pdf:docinfo:creator_tool': 'Elsevier', 'access_permission:fill_in_form': 'true', 'pdf:docinfo:custom:CreationDate--Text': '7th February 2023', 'pdf:hasCollection': 'false', 'pdf:encrypted': 'false', 'dc:title': 'Deep learning in insurance: Accuracy and model interpretability using TabNet', 'pdf:containsNonEmbeddedFont': 'false', 'xmp:CreateDate': '2023-02-04T09:40:15Z', 'pdf:docinfo:custom:CrossMarkDomains[1]': 'elsevier.com', 'robots': 'noindex', 'pdf:docinfo:subject': 'Expert Systems With Applications, 217 (2023) 119543. doi:10.1016/j.eswa.2023.119543', 'pdf:hasMarkedContent': 'true', 'xmp:ModifyDate': '2023-02-07T17:36:19Z', 'pdf:docinfo:creator': 'Kevin McDonnell', 'pdf:docinfo:custom:CrossmarkMajorVersionDate': '2010-04-23', 'access_permission:extract_for_accessibility': 'true', 'resourceName': \"b'Deep-learning-in-insurance--Accuracy-and-model-int_2023_Expert-Systems-with-.pdf'\", 'pdf:docinfo:custom:CrossMarkDomains[2]': 'sciencedirect.com', 'X-TIKA:Parsed-By': ['org.apache.tika.parser.DefaultParser', 'org.apache.tika.parser.pdf.PDFParser'], 'ElsevierWebPDFSpecifications': '7.0', 'pdf:docinfo:custom:doi': '10.1016/j.eswa.2023.119543', 'pdf:docinfo:custom:CrossmarkDomainExclusive': 'true', 'X-TIKA:embedded_depth': '0', 'CrossmarkDomainExclusive': 'true', 'pdf:annotationTypes': 'null', 'pdf:docinfo:producer': 'Acrobat Distiller 8.1.0 (Windows)', 'pdf:annotationSubtypes': 'Link', 'CreationDate--Text': '7th February 2023', 'doi': '10.1016/j.eswa.2023.119543', 'pdf:containsDamagedFont': 'false', 'pdf:unmappedUnicodeCharsPerPage': ['0', '0', '0', '0', '0', '0', '0', '0', '0', '0'], 'dc:description': 'Expert Systems With Applications, 217 (2023) 119543. doi:10.1016/j.eswa.2023.119543', 'access_permission:modify_annotations': 'true', 'dc:creator': ['Kevin McDonnell', 'Finbarr Murphy', 'Barry Sheehan', 'Leandro Masello', 'German Castignani'], 'dcterms:created': '2023-02-04T09:40:15Z', 'dcterms:modified': '2023-02-07T17:36:19Z', 'xmpMM:DocumentID': 'uuid:1b499bed-4ce8-4c0c-b682-0d58baae1cbe', 'CrossMarkDomains[1]': 'elsevier.com', 'pdf:overallPercentageUnmappedUnicodeChars': '0.0', 'pdf:docinfo:keywords': 'Deep Learning,Telematics,Connected Vehicles,Insurance,General Linear Model,XGBoost,Machine Learning,Explainable AI', 'pdf:docinfo:modified': '2023-02-07T17:36:19Z', 'Content-Length': '1697865', 'Content-Type': 'application/pdf', 'xmp:MetadataDate': '2023-02-07T17:36:19Z', 'dc:language': 'en', 'pdf:producer': 'Acrobat Distiller 8.1.0 (Windows)', 'dc:subject': ['Deep Learning,Telematics,Connected Vehicles,Insurance,General Linear Model,XGBoost,Machine Learning,Explainable AI', 'Expert Systems With Applications, 217 (2023) 119543. doi:10.1016/j.eswa.2023.119543'], 'pdf:docinfo:custom:ElsevierWebPDFSpecifications': '7.0', 'pdf:totalUnmappedUnicodeChars': '0', 'access_permission:assemble_document': 'true', 'xmpTPg:NPages': '10', 'pdf:hasXMP': 'true', 'pdf:charsPerPage': ['4694', '9144', '7582', '7133', '5283', '4337', '8096', '3645', '8070', '6797'], 'access_permission:extract_content': 'true', 'access_permission:can_print': 'true', 'CrossMarkDomains[2]': 'sciencedirect.com', 'meta:keyword': 'Deep Learning,Telematics,Connected Vehicles,Insurance,General Linear Model,XGBoost,Machine Learning,Explainable AI', 'X-TIKA:parse_time_millis': '242', 'access_permission:can_modify': 'true', 'pdf:docinfo:created': '2023-02-04T09:40:15Z', 'CrossmarkMajorVersionDate': '2010-04-23'}\n",
      "Metadata saved for 'Deep-learning-in-insurance--Accuracy-and-model-int_2023_Expert-Systems-with-.pdf' as 'Deep-learning-in-insurance--Accuracy-and-model-int_2023_Expert-Systems-with-.json'\n"
     ]
    },
    {
     "name": "stderr",
     "output_type": "stream",
     "text": [
      "]: 'QmXquoApMLCcauNkz4tYw1Sp2tsqZ4edv1YtnQi5pmbw6C'\n",
      "ic| file_metadata_CID: 'QmZV8k1cVZGCTog3xXGY4q1vc4y9aCCL8TjtEwz1v5wED9'\n",
      "ic| result['Name']: 'Aeroacoustic-airfoil-shape-optimization-enhance_2023_Expert-Systems-with-App.pdf'\n",
      "    result['Hash']: 'QmXh37WXcrLXkJX2cAPjbPdKZ2cxJXD58XX6eU1Zc41ka4'\n"
     ]
    },
    {
     "name": "stdout",
     "output_type": "stream",
     "text": [
      "{'pdf:PDFVersion': '1.7', 'pdf:docinfo:title': 'Mel Spectrogram-based advanced deep temporal clustering model with unsupervised data for fault diagnosis', 'xmp:CreatorTool': 'Elsevier', 'pdf:hasXFA': 'false', 'access_permission:can_print_degraded': 'true', 'X-TIKA:Parsed-By-Full-Set': ['org.apache.tika.parser.DefaultParser', 'org.apache.tika.parser.pdf.PDFParser'], 'X-TIKA:content_handler': 'ToTextContentHandler', 'pdf:num3DAnnotations': '0', 'dc:format': 'application/pdf; version=1.7', 'pdf:docinfo:custom:robots': 'noindex', 'pdf:docinfo:creator_tool': 'Elsevier', 'access_permission:fill_in_form': 'true', 'pdf:docinfo:custom:CreationDate--Text': '7th February 2023', 'pdf:hasCollection': 'false', 'pdf:encrypted': 'false', 'dc:title': 'Mel Spectrogram-based advanced deep temporal clustering model with unsupervised data for fault diagnosis', 'pdf:containsNonEmbeddedFont': 'false', 'pdf:docinfo:custom:CrossMarkDomains[1]': 'elsevier.com', 'robots': 'noindex', 'pdf:docinfo:subject': 'Expert Systems With Applications, 217 (2023) 119551. doi:10.1016/j.eswa.2023.119551', 'pdf:hasMarkedContent': 'true', 'pdf:docinfo:creator': 'Geonkyo Hong', 'pdf:docinfo:custom:CrossmarkMajorVersionDate': '2010-04-23', 'access_permission:extract_for_accessibility': 'true', 'resourceName': \"b'Mel-Spectrogram-based-advanced-deep-temporal-clusterin_2023_Expert-Systems-w.pdf'\", 'pdf:docinfo:custom:CrossMarkDomains[2]': 'sciencedirect.com', 'X-TIKA:Parsed-By': ['org.apache.tika.parser.DefaultParser', 'org.apache.tika.parser.pdf.PDFParser'], 'ElsevierWebPDFSpecifications': '7.0', 'pdf:docinfo:custom:doi': '10.1016/j.eswa.2023.119551', 'pdf:docinfo:custom:CrossmarkDomainExclusive': 'true', 'X-TIKA:embedded_depth': '0', 'CrossmarkDomainExclusive': 'true', 'pdf:annotationTypes': 'null', 'pdf:docinfo:producer': 'Acrobat Distiller 8.1.0 (Windows)', 'pdf:annotationSubtypes': 'Link', 'CreationDate--Text': '7th February 2023', 'doi': '10.1016/j.eswa.2023.119551', 'pdf:containsDamagedFont': 'false', 'pdf:unmappedUnicodeCharsPerPage': ['0', '0', '0', '0', '0', '0', '0', '0', '0', '0', '0', '0', '0', '0', '0', '0'], 'access_permission:modify_annotations': 'true', 'dc:creator': 'Geonkyo Hong', 'dcterms:created': '2023-02-07T18:16:11Z', 'dcterms:modified': '2023-02-07T18:19:55Z', 'CrossMarkDomains[1]': 'elsevier.com', 'pdf:overallPercentageUnmappedUnicodeChars': '0.0', 'pdf:docinfo:keywords': 'Anomaly detection,Data augmentation,Fault diagnosis,Mel spectrogram,Time series,Unsupervised learning', 'pdf:docinfo:modified': '2023-02-07T18:19:55Z', 'Content-Length': '7956340', 'Content-Type': 'application/pdf', 'dc:language': 'en', 'pdf:producer': 'Acrobat Distiller 8.1.0 (Windows)', 'dc:subject': ['Anomaly detection,Data augmentation,Fault diagnosis,Mel spectrogram,Time series,Unsupervised learning', 'Expert Systems With Applications, 217 (2023) 119551. doi:10.1016/j.eswa.2023.119551'], 'X-TIKA:EXCEPTION:warn': 'org.xml.sax.SAXParseException; lineNumber: 82; columnNumber: 11; The content of elements must consist of well-formed character data or markup.\\n\\tat org.apache.xerces.parsers.DOMParser.parse(Unknown Source)\\n\\tat org.apache.xerces.jaxp.DocumentBuilderImpl.parse(Unknown Source)\\n\\tat java.xml/javax.xml.parsers.DocumentBuilder.parse(DocumentBuilder.java:122)\\n\\tat org.apache.tika.utils.XMLReaderUtils.buildDOM(XMLReaderUtils.java:396)\\n\\tat org.apache.tika.parser.pdf.PDMetadataExtractor.loadDOM(PDMetadataExtractor.java:472)\\n\\tat org.apache.tika.parser.pdf.PDMetadataExtractor.extract(PDMetadataExtractor.java:69)\\n\\tat org.apache.tika.parser.pdf.PDFParser.extractMetadata(PDFParser.java:423)\\n\\tat org.apache.tika.parser.pdf.PDFParser.parse(PDFParser.java:181)\\n\\tat org.apache.tika.parser.CompositeParser.parse(CompositeParser.java:298)\\n\\tat org.apache.tika.parser.CompositeParser.parse(CompositeParser.java:298)\\n\\tat org.apache.tika.parser.AutoDetectParser.parse(AutoDetectParser.java:175)\\n\\tat org.apache.tika.parser.RecursiveParserWrapper.parse(RecursiveParserWrapper.java:163)\\n\\tat org.apache.tika.server.core.resource.TikaResource.parse(TikaResource.java:352)\\n\\tat org.apache.tika.server.core.resource.RecursiveMetadataResource.parseMetadata(RecursiveMetadataResource.java:78)\\n\\tat org.apache.tika.server.core.resource.RecursiveMetadataResource.parseMetadataToMetadataList(RecursiveMetadataResource.java:190)\\n\\tat org.apache.tika.server.core.resource.RecursiveMetadataResource.getMetadata(RecursiveMetadataResource.java:179)\\n\\tat jdk.internal.reflect.GeneratedMethodAccessor4.invoke(Unknown Source)\\n\\tat java.base/jdk.internal.reflect.DelegatingMethodAccessorImpl.invoke(DelegatingMethodAccessorImpl.java:43)\\n\\tat java.base/java.lang.reflect.Method.invoke(Method.java:569)\\n\\tat org.apache.cxf.service.invoker.AbstractInvoker.performInvocation(AbstractInvoker.java:179)\\n\\tat org.apache.cxf.service.invoker.AbstractInvoker.invoke(AbstractInvoker.java:96)\\n\\tat org.apache.cxf.jaxrs.JAXRSInvoker.invoke(JAXRSInvoker.java:201)\\n\\tat org.apache.cxf.jaxrs.JAXRSInvoker.invoke(JAXRSInvoker.java:104)\\n\\tat org.apache.cxf.interceptor.ServiceInvokerInterceptor$1.run(ServiceInvokerInterceptor.java:59)\\n\\tat org.apache.cxf.interceptor.ServiceInvokerInterceptor.handleMessage(ServiceInvokerInterceptor.java:96)\\n\\tat org.apache.cxf.phase.PhaseInterceptorChain.doIntercept(PhaseInterceptorChain.java:307)\\n\\tat org.apache.cxf.transport.ChainInitiationObserver.onMessage(ChainInitiationObserver.java:121)\\n\\tat org.apache.cxf.transport.http.AbstractHTTPDestination.invoke(AbstractHTTPDestination.java:265)\\n\\tat org.apache.cxf.transport.http_jetty.JettyHTTPDestination.doService(JettyHTTPDestination.java:247)\\n\\tat org.apache.cxf.transport.http_jetty.JettyHTTPHandler.handle(JettyHTTPHandler.java:79)\\n\\tat org.eclipse.jetty.server.handler.HandlerWrapper.handle(HandlerWrapper.java:127)\\n\\tat org.eclipse.jetty.server.handler.ScopedHandler.nextHandle(ScopedHandler.java:235)\\n\\tat org.eclipse.jetty.server.handler.ContextHandler.doHandle(ContextHandler.java:1440)\\n\\tat org.eclipse.jetty.server.handler.ScopedHandler.nextScope(ScopedHandler.java:190)\\n\\tat org.eclipse.jetty.server.handler.ContextHandler.doScope(ContextHandler.java:1355)\\n\\tat org.eclipse.jetty.server.handler.ScopedHandler.handle(ScopedHandler.java:141)\\n\\tat org.eclipse.jetty.server.handler.ContextHandlerCollection.handle(ContextHandlerCollection.java:191)\\n\\tat org.eclipse.jetty.server.handler.HandlerWrapper.handle(HandlerWrapper.java:127)\\n\\tat org.eclipse.jetty.server.Server.handle(Server.java:516)\\n\\tat org.eclipse.jetty.server.HttpChannel.lambda$handle$1(HttpChannel.java:487)\\n\\tat org.eclipse.jetty.server.HttpChannel.dispatch(HttpChannel.java:732)\\n\\tat org.eclipse.jetty.server.HttpChannel.handle(HttpChannel.java:479)\\n\\tat org.eclipse.jetty.server.HttpConnection.onFillable(HttpConnection.java:277)\\n\\tat org.eclipse.jetty.io.AbstractConnection$ReadCallback.succeeded(AbstractConnection.java:311)\\n\\tat org.eclipse.jetty.io.FillInterest.fillable(FillInterest.java:105)\\n\\tat org.eclipse.jetty.io.ChannelEndPoint$1.run(ChannelEndPoint.java:104)\\n\\tat org.eclipse.jetty.util.thread.strategy.EatWhatYouKill.runTask(EatWhatYouKill.java:338)\\n\\tat org.eclipse.jetty.util.thread.strategy.EatWhatYouKill.doProduce(EatWhatYouKill.java:315)\\n\\tat org.eclipse.jetty.util.thread.strategy.EatWhatYouKill.tryProduce(EatWhatYouKill.java:173)\\n\\tat org.eclipse.jetty.util.thread.strategy.EatWhatYouKill.run(EatWhatYouKill.java:131)\\n\\tat org.eclipse.jetty.util.thread.ReservedThreadExecutor$ReservedThread.run(ReservedThreadExecutor.java:409)\\n\\tat org.eclipse.jetty.util.thread.QueuedThreadPool.runJob(QueuedThreadPool.java:883)\\n\\tat org.eclipse.jetty.util.thread.QueuedThreadPool$Runner.run(QueuedThreadPool.java:1034)\\n\\tat java.base/java.lang.Thread.run(Thread.java:840)\\n', 'pdf:docinfo:custom:ElsevierWebPDFSpecifications': '7.0', 'pdf:totalUnmappedUnicodeChars': '0', 'access_permission:assemble_document': 'true', 'xmpTPg:NPages': '16', 'pdf:hasXMP': 'true', 'pdf:charsPerPage': ['5080', '8647', '7249', '349', '6806', '5847', '4697', '8242', '340', '5601', '331', '2701', '876', '3591', '9060', '8038'], 'access_permission:extract_content': 'true', 'access_permission:can_print': 'true', 'CrossMarkDomains[2]': 'sciencedirect.com', 'X-TIKA:parse_time_millis': '281', 'access_permission:can_modify': 'true', 'pdf:docinfo:created': '2023-02-07T18:16:11Z', 'CrossmarkMajorVersionDate': '2010-04-23'}\n",
      "Metadata saved for 'Mel-Spectrogram-based-advanced-deep-temporal-clusterin_2023_Expert-Systems-w.pdf' as 'Mel-Spectrogram-based-advanced-deep-temporal-clusterin_2023_Expert-Systems-w.json'\n"
     ]
    },
    {
     "name": "stderr",
     "output_type": "stream",
     "text": [
      "ic| file_metadata_CID: 'Qmc1fCF1uQRybsGhLYamnZ2Ym3A6QsTfH3jAeB2G2YjrT6'\n",
      "ic| result['Name']: 'World_Energy_By_Country_And_Region_1965_to_2023.csv'\n",
      "    result['Hash']: 'QmSSY49SnmbCZ3oSaTki7CYZe1ZaWZfE1CsWHpt8Ge7acJ'\n",
      "ic| file_metadata_CID"
     ]
    },
    {
     "name": "stdout",
     "output_type": "stream",
     "text": [
      "{'pdf:PDFVersion': '1.7', 'pdf:docinfo:title': 'Aeroacoustic airfoil shape optimization enhanced by autoencoders', 'xmp:CreatorTool': 'Elsevier', 'pdf:hasXFA': 'false', 'access_permission:can_print_degraded': 'true', 'X-TIKA:Parsed-By-Full-Set': ['org.apache.tika.parser.DefaultParser', 'org.apache.tika.parser.pdf.PDFParser'], 'X-TIKA:content_handler': 'ToTextContentHandler', 'pdf:num3DAnnotations': '0', 'dc:format': 'application/pdf; version=1.7', 'pdf:docinfo:custom:robots': 'noindex', 'pdf:docinfo:creator_tool': 'Elsevier', 'access_permission:fill_in_form': 'true', 'pdf:docinfo:custom:CreationDate--Text': '7th February 2023', 'pdf:hasCollection': 'false', 'pdf:encrypted': 'false', 'dc:title': 'Aeroacoustic airfoil shape optimization enhanced by autoencoders', 'pdf:containsNonEmbeddedFont': 'false', 'pdf:docinfo:custom:CrossMarkDomains[1]': 'elsevier.com', 'robots': 'noindex', 'pdf:docinfo:subject': 'Expert Systems With Applications, 217 (2023) 119513. doi:10.1016/j.eswa.2023.119513', 'pdf:hasMarkedContent': 'false', 'pdf:docinfo:creator': 'Jiaqing Kou', 'pdf:docinfo:custom:CrossmarkMajorVersionDate': '2010-04-23', 'access_permission:extract_for_accessibility': 'true', 'resourceName': \"b'Aeroacoustic-airfoil-shape-optimization-enhance_2023_Expert-Systems-with-App.pdf'\", 'pdf:docinfo:custom:CrossMarkDomains[2]': 'sciencedirect.com', 'X-TIKA:Parsed-By': ['org.apache.tika.parser.DefaultParser', 'org.apache.tika.parser.pdf.PDFParser'], 'ElsevierWebPDFSpecifications': '7.0', 'pdf:docinfo:custom:doi': '10.1016/j.eswa.2023.119513', 'pdf:docinfo:custom:CrossmarkDomainExclusive': 'true', 'X-TIKA:embedded_depth': '0', 'CrossmarkDomainExclusive': 'true', 'pdf:annotationTypes': 'null', 'pdf:docinfo:producer': 'Acrobat Distiller 8.1.0 (Windows)', 'pdf:annotationSubtypes': 'Link', 'CreationDate--Text': '7th February 2023', 'doi': '10.1016/j.eswa.2023.119513', 'pdf:containsDamagedFont': 'false', 'pdf:unmappedUnicodeCharsPerPage': ['0', '0', '0', '0', '0', '0', '0', '0', '0', '0', '0', '0', '0', '0'], 'access_permission:modify_annotations': 'true', 'dc:creator': 'Jiaqing Kou', 'dcterms:created': '2023-02-04T09:40:15Z', 'dcterms:modified': '2023-02-07T16:56:45Z', 'CrossMarkDomains[1]': 'elsevier.com', 'pdf:overallPercentageUnmappedUnicodeChars': '0.0', 'pdf:docinfo:keywords': 'Aeroacoustics,Optimization design,Amiet theory,Machine learning,Autoencoder', 'pdf:docinfo:modified': '2023-02-07T16:56:45Z', 'Content-Length': '1324070', 'Content-Type': 'application/pdf', 'dc:language': 'en-US', 'pdf:producer': 'Acrobat Distiller 8.1.0 (Windows)', 'dc:subject': ['Aeroacoustics,Optimization design,Amiet theory,Machine learning,Autoencoder', 'Expert Systems With Applications, 217 (2023) 119513. doi:10.1016/j.eswa.2023.119513'], 'X-TIKA:EXCEPTION:warn': 'org.xml.sax.SAXParseException; lineNumber: 87; columnNumber: 11; The content of elements must consist of well-formed character data or markup.\\n\\tat org.apache.xerces.parsers.DOMParser.parse(Unknown Source)\\n\\tat org.apache.xerces.jaxp.DocumentBuilderImpl.parse(Unknown Source)\\n\\tat java.xml/javax.xml.parsers.DocumentBuilder.parse(DocumentBuilder.java:122)\\n\\tat org.apache.tika.utils.XMLReaderUtils.buildDOM(XMLReaderUtils.java:396)\\n\\tat org.apache.tika.parser.pdf.PDMetadataExtractor.loadDOM(PDMetadataExtractor.java:472)\\n\\tat org.apache.tika.parser.pdf.PDMetadataExtractor.extract(PDMetadataExtractor.java:69)\\n\\tat org.apache.tika.parser.pdf.PDFParser.extractMetadata(PDFParser.java:423)\\n\\tat org.apache.tika.parser.pdf.PDFParser.parse(PDFParser.java:181)\\n\\tat org.apache.tika.parser.CompositeParser.parse(CompositeParser.java:298)\\n\\tat org.apache.tika.parser.CompositeParser.parse(CompositeParser.java:298)\\n\\tat org.apache.tika.parser.AutoDetectParser.parse(AutoDetectParser.java:175)\\n\\tat org.apache.tika.parser.RecursiveParserWrapper.parse(RecursiveParserWrapper.java:163)\\n\\tat org.apache.tika.server.core.resource.TikaResource.parse(TikaResource.java:352)\\n\\tat org.apache.tika.server.core.resource.RecursiveMetadataResource.parseMetadata(RecursiveMetadataResource.java:78)\\n\\tat org.apache.tika.server.core.resource.RecursiveMetadataResource.parseMetadataToMetadataList(RecursiveMetadataResource.java:190)\\n\\tat org.apache.tika.server.core.resource.RecursiveMetadataResource.getMetadata(RecursiveMetadataResource.java:179)\\n\\tat jdk.internal.reflect.GeneratedMethodAccessor4.invoke(Unknown Source)\\n\\tat java.base/jdk.internal.reflect.DelegatingMethodAccessorImpl.invoke(DelegatingMethodAccessorImpl.java:43)\\n\\tat java.base/java.lang.reflect.Method.invoke(Method.java:569)\\n\\tat org.apache.cxf.service.invoker.AbstractInvoker.performInvocation(AbstractInvoker.java:179)\\n\\tat org.apache.cxf.service.invoker.AbstractInvoker.invoke(AbstractInvoker.java:96)\\n\\tat org.apache.cxf.jaxrs.JAXRSInvoker.invoke(JAXRSInvoker.java:201)\\n\\tat org.apache.cxf.jaxrs.JAXRSInvoker.invoke(JAXRSInvoker.java:104)\\n\\tat org.apache.cxf.interceptor.ServiceInvokerInterceptor$1.run(ServiceInvokerInterceptor.java:59)\\n\\tat org.apache.cxf.interceptor.ServiceInvokerInterceptor.handleMessage(ServiceInvokerInterceptor.java:96)\\n\\tat org.apache.cxf.phase.PhaseInterceptorChain.doIntercept(PhaseInterceptorChain.java:307)\\n\\tat org.apache.cxf.transport.ChainInitiationObserver.onMessage(ChainInitiationObserver.java:121)\\n\\tat org.apache.cxf.transport.http.AbstractHTTPDestination.invoke(AbstractHTTPDestination.java:265)\\n\\tat org.apache.cxf.transport.http_jetty.JettyHTTPDestination.doService(JettyHTTPDestination.java:247)\\n\\tat org.apache.cxf.transport.http_jetty.JettyHTTPHandler.handle(JettyHTTPHandler.java:79)\\n\\tat org.eclipse.jetty.server.handler.HandlerWrapper.handle(HandlerWrapper.java:127)\\n\\tat org.eclipse.jetty.server.handler.ScopedHandler.nextHandle(ScopedHandler.java:235)\\n\\tat org.eclipse.jetty.server.handler.ContextHandler.doHandle(ContextHandler.java:1440)\\n\\tat org.eclipse.jetty.server.handler.ScopedHandler.nextScope(ScopedHandler.java:190)\\n\\tat org.eclipse.jetty.server.handler.ContextHandler.doScope(ContextHandler.java:1355)\\n\\tat org.eclipse.jetty.server.handler.ScopedHandler.handle(ScopedHandler.java:141)\\n\\tat org.eclipse.jetty.server.handler.ContextHandlerCollection.handle(ContextHandlerCollection.java:191)\\n\\tat org.eclipse.jetty.server.handler.HandlerWrapper.handle(HandlerWrapper.java:127)\\n\\tat org.eclipse.jetty.server.Server.handle(Server.java:516)\\n\\tat org.eclipse.jetty.server.HttpChannel.lambda$handle$1(HttpChannel.java:487)\\n\\tat org.eclipse.jetty.server.HttpChannel.dispatch(HttpChannel.java:732)\\n\\tat org.eclipse.jetty.server.HttpChannel.handle(HttpChannel.java:479)\\n\\tat org.eclipse.jetty.server.HttpConnection.onFillable(HttpConnection.java:277)\\n\\tat org.eclipse.jetty.io.AbstractConnection$ReadCallback.succeeded(AbstractConnection.java:311)\\n\\tat org.eclipse.jetty.io.FillInterest.fillable(FillInterest.java:105)\\n\\tat org.eclipse.jetty.io.ChannelEndPoint$1.run(ChannelEndPoint.java:104)\\n\\tat org.eclipse.jetty.util.thread.strategy.EatWhatYouKill.runTask(EatWhatYouKill.java:338)\\n\\tat org.eclipse.jetty.util.thread.strategy.EatWhatYouKill.doProduce(EatWhatYouKill.java:315)\\n\\tat org.eclipse.jetty.util.thread.strategy.EatWhatYouKill.tryProduce(EatWhatYouKill.java:173)\\n\\tat org.eclipse.jetty.util.thread.strategy.EatWhatYouKill.run(EatWhatYouKill.java:131)\\n\\tat org.eclipse.jetty.util.thread.ReservedThreadExecutor$ReservedThread.run(ReservedThreadExecutor.java:409)\\n\\tat org.eclipse.jetty.util.thread.QueuedThreadPool.runJob(QueuedThreadPool.java:883)\\n\\tat org.eclipse.jetty.util.thread.QueuedThreadPool$Runner.run(QueuedThreadPool.java:1034)\\n\\tat java.base/java.lang.Thread.run(Thread.java:840)\\n', 'pdf:docinfo:custom:ElsevierWebPDFSpecifications': '7.0', 'pdf:totalUnmappedUnicodeChars': '0', 'access_permission:assemble_document': 'true', 'xmpTPg:NPages': '14', 'pdf:hasXMP': 'true', 'pdf:charsPerPage': ['4632', '7035', '4418', '4887', '4242', '3215', '3361', '3553', '3680', '2730', '3569', '4967', '5447', '7572'], 'access_permission:extract_content': 'true', 'access_permission:can_print': 'true', 'CrossMarkDomains[2]': 'sciencedirect.com', 'X-TIKA:parse_time_millis': '334', 'access_permission:can_modify': 'true', 'pdf:docinfo:created': '2023-02-04T09:40:15Z', 'CrossmarkMajorVersionDate': '2010-04-23'}\n",
      "Metadata saved for 'Aeroacoustic-airfoil-shape-optimization-enhance_2023_Expert-Systems-with-App.pdf' as 'Aeroacoustic-airfoil-shape-optimization-enhance_2023_Expert-Systems-with-App.json'\n",
      "{'X-TIKA:Parsed-By': ['org.apache.tika.parser.DefaultParser', 'org.apache.tika.parser.csv.TextAndCSVParser'], 'X-TIKA:Parsed-By-Full-Set': ['org.apache.tika.parser.DefaultParser', 'org.apache.tika.parser.csv.TextAndCSVParser'], 'X-TIKA:content_handler': 'ToTextContentHandler', 'Content-Encoding': 'windows-1252', 'X-TIKA:parse_time_millis': '18', 'X-TIKA:embedded_depth': '0', 'resourceName': \"b'World_Energy_By_Country_And_Region_1965_to_2023.csv'\", 'csv:delimiter': 'comma', 'Content-Length': '32622', 'Content-Type': 'text/csv; charset=windows-1252; delimiter=comma'}\n"
     ]
    },
    {
     "name": "stderr",
     "output_type": "stream",
     "text": [
      ": 'QmUd1nuMB2jyY1Z8jgrypxBBcZZNjuB3BJk2Nikkm495PK'\n",
      "ic| result['Name']: 'Jean-Baptiste_Perronneau_-_Magdaleine_Pinceloup_de_la_Grange,_née_de_Parseval.jpg'\n",
      "    result['Hash']: 'QmVTTcqbGvYRn7n7uPYwk4vi8NdbeYvnZkX9MVT3byrAx2'\n",
      "ic| file_metadata_CID: 'QmYoE8r36C32Akz2fSkCghQ3DdoYELdaxcEgA2AqM4ivMm'\n"
     ]
    },
    {
     "name": "stdout",
     "output_type": "stream",
     "text": [
      "Metadata saved for 'World_Energy_By_Country_And_Region_1965_to_2023.csv' as 'World_Energy_By_Country_And_Region_1965_to_2023.json'\n",
      "{'Number of Tables': '4 Huffman tables', 'File Modified Date': 'Fri Sep 13 02:58:53 +00:00 2024', 'Compression Type': 'Baseline', 'Data Precision': '8 bits', 'X-TIKA:Parsed-By-Full-Set': ['org.apache.tika.parser.DefaultParser', 'org.apache.tika.parser.image.JpegParser'], 'Number of Components': '3', 'tiff:ImageLength': '623', 'resourceName': \"b'Jean-Baptiste_Perronneau_-_Magdaleine_Pinceloup_de_la_Grange,_n\\\\xc3\\\\xa9e_de_Parseval.jpg'\", 'Component 2': 'Cb component: Quantization table 1, Sampling factors 1 horiz/1 vert', 'Component 1': 'Y component: Quantization table 0, Sampling factors 2 horiz/2 vert', 'Image Height': '623 pixels', 'Image Width': '500 pixels', 'File Size': '72495 bytes', 'Component 3': 'Cr component: Quantization table 1, Sampling factors 1 horiz/1 vert', 'X-TIKA:Parsed-By': ['org.apache.tika.parser.DefaultParser', 'org.apache.tika.parser.image.JpegParser'], 'X-TIKA:parse_time_millis': '15', 'X-TIKA:embedded_depth': '0', 'File Name': \"apache-tika-18253703329054497019.jpg'\", 'Content-Length': '72495', 'tiff:BitsPerSample': '8', 'tiff:ImageWidth': '500', 'Content-Type': 'image/jpeg'}\n",
      "Metadata saved for 'Jean-Baptiste_Perronneau_-_Magdaleine_Pinceloup_de_la_Grange,_née_de_Parseval.jpg' as 'Jean-Baptiste_Perronneau_-_Magdaleine_Pinceloup_de_la_Grange,_née_de_Parseval.json'\n"
     ]
    }
   ],
   "source": [
    "import os\n",
    "import json\n",
    "from tika import parser\n",
    "from ipfs_functions import *\n",
    "\n",
    "def parse_documents_in_directory(directory_path):\n",
    "    temp_dir = \"tmp\" # Get the system's temporary directory\n",
    "    print(f\"Saving metadata files in temporary directory: {temp_dir}\")\n",
    "\n",
    "    for filename in os.listdir(directory_path):\n",
    "        file_path = os.path.join(directory_path, filename)\n",
    "        upload_file_to_ipfs(directory_path + \"/\" + filename)\n",
    "        \n",
    "        # Check if it's a file and not a directory\n",
    "        if os.path.isfile(file_path):\n",
    "            try:\n",
    "                parsed_document = parser.from_file(file_path)\n",
    "                \n",
    "                # Check if parsing was successful\n",
    "                if 'status' in parsed_document and parsed_document['status'] == 200:\n",
    "                    metadata = parsed_document.get('metadata', {})\n",
    "                    print(metadata)\n",
    "                    upload_json_to_ipfs(metadata)\n",
    "                    \n",
    "                    # Save metadata as JSON\n",
    "                    if metadata:\n",
    "                        json_filename = f\"{os.path.splitext(filename)[0]}.json\"\n",
    "                        json_path = os.path.join(temp_dir, json_filename)\n",
    "\n",
    "                        with open(json_path, 'w') as json_file:\n",
    "                            json.dump(metadata, json_file, indent=4)\n",
    "                        \n",
    "                        print(f\"Metadata saved for '{filename}' as '{json_filename}'\")\n",
    "                    else:\n",
    "                        print(f\"No metadata found for '{filename}'\")\n",
    "                else:\n",
    "                    print(f\"Parsing failed for '{filename}' with status: {parsed_document.get('status')}\")\n",
    "            \n",
    "            except Exception as e:\n",
    "                print(f\"An error occurred with file '{filename}': {e}\")\n",
    "\n",
    "# Example usage\n",
    "parse_documents_in_directory(\"upload\")\n"
   ]
  },
  {
   "cell_type": "code",
   "execution_count": 6,
   "id": "06c0b2c9-a661-41c0-b40f-f90aa2562cec",
   "metadata": {},
   "outputs": [
    {
     "name": "stderr",
     "output_type": "stream",
     "text": [
      "ic| result['Name']: 'Diabetic-retinopathy-identification-using-parallel-convo_2023_Expert-Systems.pdf'\n",
      "    result['Hash']: 'QmT7ximApXtExAedhzUHGHDwRismRzuKykpH4dgTvGrNZs'\n"
     ]
    },
    {
     "name": "stdout",
     "output_type": "stream",
     "text": [
      "upload/Diabetic-retinopathy-identification-using-parallel-convo_2023_Expert-Systems.pdf\n"
     ]
    },
    {
     "name": "stderr",
     "output_type": "stream",
     "text": [
      "ic| file_metadata_CID: 'QmchMYcQJZY8mQDdbmeekEBW3XrKm7kpUzByQuiKXFST3B'\n",
      "ic| result['Name']: 'Munafò et al. - 2022 - The reproducibility debate is an opportunity, not .pdf'\n",
      "    result['Hash']: 'QmdiRawzVNUiB28ENKQ7WefeFLEJ1xMjsJjwtHL2jnJ9xW'\n",
      "ic| file_metadata_CID:"
     ]
    },
    {
     "name": "stdout",
     "output_type": "stream",
     "text": [
      "upload/Munafò et al. - 2022 - The reproducibility debate is an opportunity, not .pdf\n"
     ]
    },
    {
     "name": "stderr",
     "output_type": "stream",
     "text": [
      " 'Qmd4yzjMKWzSiowVDDv5PNpB833JNHuCC7dPSHcQfM2MbG'\n",
      "ic| result['Name']: 'assets.json'\n",
      "    result['Hash']: 'QmZ9tmsiUTt22eyHqkA84wns29sWwZ94LGHBZzUjbaGwFu'\n",
      "ic| file_metadata_CID: 'QmS7SGVvC6J5pHx2Pz7AGAmdMjn46Twxm6cX2CQzddvXf7'\n",
      "ic| result['Name']: 'hello_world.py'\n",
      "    result['Hash'"
     ]
    },
    {
     "name": "stdout",
     "output_type": "stream",
     "text": [
      "upload/assets.json\n",
      "upload/hello_world.py\n"
     ]
    },
    {
     "name": "stderr",
     "output_type": "stream",
     "text": [
      "]: 'QmeBTz4ZwyqPkPigpASZ3wJodBXzJRpeXQMwNcsWRqU5Jv'\n",
      "ic| file_metadata_CID: 'QmZFyMfhD2qR5TXnX6KLGErdmX5fdJ8k6LMUZ9B2d5GTxG'\n",
      "ic| result['Name']: 'bitcoin.pdf'\n",
      "    result['Hash']: 'QmRA3NWM82ZGynMbYzAgYTSXCVM14Wx1RZ8fKP42G6gjgj'\n"
     ]
    },
    {
     "name": "stdout",
     "output_type": "stream",
     "text": [
      "upload/bitcoin.pdf\n"
     ]
    },
    {
     "name": "stderr",
     "output_type": "stream",
     "text": [
      "ic| file_metadata_CID: 'QmViCkcL6Dij3UWLaQyBpZeqEtsQ88hCWExXpRq9x1mh1S'\n",
      "ic| result['Name']: 'assets.csv'\n",
      "    result['Hash']: 'QmWRMwc5taM4BaapEhLPpmZVPrN7WmxoEyyaQvoSgUqfWW'\n",
      "ic| file_metadata_CID: 'QmSmEJpEfJznHEoa78zbgVz85rxaej6Tv8mYQynrY7ryAK'\n"
     ]
    },
    {
     "name": "stdout",
     "output_type": "stream",
     "text": [
      "upload/assets.csv\n",
      "upload/COVID19-MLSF--A-multi-task-learning-based-stock-market_2023_Expert-Systems-w.pdf\n"
     ]
    },
    {
     "name": "stderr",
     "output_type": "stream",
     "text": [
      "ic| result['Name']: 'COVID19-MLSF--A-multi-task-learning-based-stock-market_2023_Expert-Systems-w.pdf'\n",
      "    result['Hash']: 'QmUq29KRwpTdvScB5oYzEDobDHyb4N1f9eaZXm4VaMCgiW'\n",
      "ic| file_metadata_CID: 'QmQoe6tGhhhxaUCBR3Toxei2SK7ABNXVNfmEpKWuQKPXuw'\n",
      "ic| result['Name']: 'Deep-learning-in-insurance--Accuracy-and-model-int_2023_Expert-Systems-with-.pdf'\n",
      "    result['Hash']: 'QmV1vYkuiwKGPA5Tyi4ECNFfWYocyTtQ3E5j7CSvPBX49Q'\n"
     ]
    },
    {
     "name": "stdout",
     "output_type": "stream",
     "text": [
      "upload/Deep-learning-in-insurance--Accuracy-and-model-int_2023_Expert-Systems-with-.pdf\n"
     ]
    },
    {
     "name": "stderr",
     "output_type": "stream",
     "text": [
      "ic| file_metadata_CID: 'QmQJgLgfhzSESSFYrAnjuB6gZreKNHQxvAitFvNjWBSKmr'\n",
      "ic| result['Name']: 'Mel-Spectrogram-based-advanced-deep-temporal-clusterin_2023_Expert-Systems-w.pdf'\n",
      "    result['Hash']: 'QmXquoApMLCcauNkz4tYw1Sp2tsqZ4edv1YtnQi5pmbw6C'\n"
     ]
    },
    {
     "name": "stdout",
     "output_type": "stream",
     "text": [
      "upload/Mel-Spectrogram-based-advanced-deep-temporal-clusterin_2023_Expert-Systems-w.pdf\n"
     ]
    },
    {
     "name": "stderr",
     "output_type": "stream",
     "text": [
      "ic| file_metadata_CID: 'QmdPNSsVHG1HoRNQVNNPicV8YN5uQAad98X8S4BRtpAxtW'\n",
      "ic| result['Name']: 'Aeroacoustic-airfoil-shape-optimization-enhance_2023_Expert-Systems-with-App.pdf'\n",
      "    result['Hash']: 'QmXh37WXcrLXkJX2cAPjbPdKZ2cxJXD58XX6eU1Zc41ka4'\n"
     ]
    },
    {
     "name": "stdout",
     "output_type": "stream",
     "text": [
      "upload/Aeroacoustic-airfoil-shape-optimization-enhance_2023_Expert-Systems-with-App.pdf\n"
     ]
    },
    {
     "name": "stderr",
     "output_type": "stream",
     "text": [
      "ic| file_metadata_CID: 'QmWsMnR1Bj1RmiTJENGuxLcNr6XdkdXP68iFQ5Mu6CZZc5'\n",
      "ic| result['Name']: 'World_Energy_By_Country_And_Region_1965_to_2023.csv'\n",
      "    result['Hash']: 'QmSSY49SnmbCZ3oSaTki7CYZe1ZaWZfE1CsWHpt8Ge7acJ'\n",
      "ic| file_metadata_CID: 'QmVeBCXayu4AKPLR7NqNkELLQJeq1zDDEmjfTtyktMuefL'\n",
      "ic| result['Name']: 'Jean-Baptiste_Perronneau_-_Magdaleine_Pinceloup_de_la_Grange,_née_de_Parseval.jpg'\n",
      "    result['Hash']: 'QmVTTcqbGvYRn7n7uPYwk4vi8NdbeYvnZkX9MVT3byrAx2'"
     ]
    },
    {
     "name": "stdout",
     "output_type": "stream",
     "text": [
      "upload/World_Energy_By_Country_And_Region_1965_to_2023.csv\n",
      "upload/Jean-Baptiste_Perronneau_-_Magdaleine_Pinceloup_de_la_Grange,_née_de_Parseval.jpg\n"
     ]
    },
    {
     "name": "stderr",
     "output_type": "stream",
     "text": [
      "\n",
      "ic| file_metadata_CID: 'QmW8gMotMx3K3QMVsVqBcNfQLMQEaQards4oo2yNrZmE2C'\n"
     ]
    }
   ],
   "source": [
    "import os\n",
    "import json\n",
    "from tika import parser\n",
    "from ipfs_functions import *\n",
    "\n",
    "def parse_documents_in_directory(directory_path):\n",
    "    \n",
    "\n",
    "    for filename in os.listdir(directory_path):\n",
    "        file_path = os.path.join(directory_path, filename)\n",
    "        print(file_path)\n",
    "        upload_file_to_ipfs(file_path)\n",
    "        \n",
    "        # Check if it's a file and not a directory\n",
    "        if os.path.isfile(file_path):\n",
    "            try:\n",
    "                parsed_document = parser.from_file(file_path)\n",
    "                \n",
    "                # Check if parsing was successful\n",
    "                if 'status' in parsed_document and parsed_document['status'] == 200:\n",
    "                    metadata = parsed_document.get('metadata', {})\n",
    "                    upload_json_to_ipfs(metadata)\n",
    "                    \n",
    "                else:\n",
    "                    print(f\"Parsing failed for '{filename}' with status: {parsed_document.get('status')}\")\n",
    "            \n",
    "            except Exception as e:\n",
    "                print(f\"An error occurred with file '{filename}': {e}\")\n",
    "\n",
    "# Example usage\n",
    "parse_documents_in_directory(\"upload\")\n"
   ]
  },
  {
   "cell_type": "code",
   "execution_count": null,
   "id": "cf02066a-d88e-4818-a33a-6165a12c4422",
   "metadata": {},
   "outputs": [],
   "source": []
  }
 ],
 "metadata": {
  "kernelspec": {
   "display_name": "Python 3 (ipykernel)",
   "language": "python",
   "name": "python3"
  },
  "language_info": {
   "codemirror_mode": {
    "name": "ipython",
    "version": 3
   },
   "file_extension": ".py",
   "mimetype": "text/x-python",
   "name": "python",
   "nbconvert_exporter": "python",
   "pygments_lexer": "ipython3",
   "version": "3.9.19"
  }
 },
 "nbformat": 4,
 "nbformat_minor": 5
}
