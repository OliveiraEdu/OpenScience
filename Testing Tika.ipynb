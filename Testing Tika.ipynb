{
 "cells": [
  {
   "cell_type": "code",
   "execution_count": 1,
   "id": "7e258e2d-b1cd-4657-9cd5-f1c4ba7b38eb",
   "metadata": {},
   "outputs": [
    {
     "name": "stderr",
     "output_type": "stream",
     "text": [
      "2024-09-11 00:49:37,396 [MainThread  ] [INFO ]  Retrieving http://search.maven.org/remotecontent?filepath=org/apache/tika/tika-server-standard/2.6.0/tika-server-standard-2.6.0.jar to /tmp/tika-server.jar.\n",
      "2024-09-11 00:50:36,566 [MainThread  ] [INFO ]  Retrieving http://search.maven.org/remotecontent?filepath=org/apache/tika/tika-server-standard/2.6.0/tika-server-standard-2.6.0.jar.md5 to /tmp/tika-server.jar.md5.\n",
      "2024-09-11 00:50:38,172 [MainThread  ] [WARNI]  Failed to see startup log message; retrying...\n"
     ]
    },
    {
     "name": "stdout",
     "output_type": "stream",
     "text": [
      "<class 'dict'>\n",
      "dict_keys(['metadata', 'content', 'status'])\n",
      "{'pdf:PDFVersion': '1.7', 'xmp:CreatorTool': 'Elsevier', 'pdf:docinfo:title': 'Diabetic retinopathy identification using parallel convolutional neural network based feature extractor and ELM classifier', 'pdf:hasXFA': 'false', 'access_permission:can_print_degraded': 'true', 'X-TIKA:Parsed-By-Full-Set': ['org.apache.tika.parser.DefaultParser', 'org.apache.tika.parser.pdf.PDFParser'], 'X-TIKA:content_handler': 'ToTextContentHandler', 'pdf:num3DAnnotations': '0', 'dc:format': 'application/pdf; version=1.7', 'pdf:docinfo:custom:robots': 'noindex', 'pdf:docinfo:creator_tool': 'Elsevier', 'access_permission:fill_in_form': 'true', 'pdf:docinfo:custom:CreationDate--Text': '7th February 2023', 'pdf:hasCollection': 'false', 'pdf:encrypted': 'false', 'dc:title': 'Diabetic retinopathy identification using parallel convolutional neural network based feature extractor and ELM classifier', 'pdf:containsNonEmbeddedFont': 'false', 'xmp:CreateDate': '2023-02-04T09:40:15Z', 'pdf:docinfo:custom:CrossMarkDomains[1]': 'elsevier.com', 'robots': 'noindex', 'pdf:docinfo:subject': 'Expert Systems With Applications, 217 (2023) 119557. doi:10.1016/j.eswa.2023.119557', 'pdf:hasMarkedContent': 'true', 'xmp:ModifyDate': '2023-02-07T17:54:35Z', 'pdf:docinfo:creator': 'Md. Nahiduzzaman', 'pdf:docinfo:custom:CrossmarkMajorVersionDate': '2010-04-23', 'access_permission:extract_for_accessibility': 'true', 'resourceName': \"b'Diabetic-retinopathy-identification-using-parallel-convo_2023_Expert-Systems.pdf'\", 'pdf:docinfo:custom:CrossMarkDomains[2]': 'sciencedirect.com', 'X-TIKA:Parsed-By': ['org.apache.tika.parser.DefaultParser', 'org.apache.tika.parser.pdf.PDFParser'], 'ElsevierWebPDFSpecifications': '7.0', 'pdf:docinfo:custom:doi': '10.1016/j.eswa.2023.119557', 'pdf:docinfo:custom:CrossmarkDomainExclusive': 'true', 'X-TIKA:embedded_depth': '0', 'CrossmarkDomainExclusive': 'true', 'pdf:annotationTypes': 'null', 'pdf:docinfo:producer': 'Acrobat Distiller 8.1.0 (Windows)', 'pdf:annotationSubtypes': 'Link', 'CreationDate--Text': '7th February 2023', 'doi': '10.1016/j.eswa.2023.119557', 'pdf:containsDamagedFont': 'false', 'pdf:unmappedUnicodeCharsPerPage': ['0', '0', '0', '0', '0', '0', '0', '0', '0', '0', '0'], 'dc:description': 'Expert Systems With Applications, 217 (2023) 119557. doi:10.1016/j.eswa.2023.119557', 'access_permission:modify_annotations': 'true', 'dc:creator': ['Md. Nahiduzzaman', 'Md. Robiul Islam', 'Md. Omaer Faruq Goni', 'Md. Shamim Anower', 'Mominul Ahsan', 'Julfikar Haider', 'Marcin Kowalski'], 'dcterms:created': '2023-02-04T09:40:15Z', 'dcterms:modified': '2023-02-07T17:54:35Z', 'xmpMM:DocumentID': 'uuid:1b499bed-4ce8-4c0c-b682-0d58baae1cbe', 'CrossMarkDomains[1]': 'elsevier.com', 'pdf:overallPercentageUnmappedUnicodeChars': '0.0', 'pdf:docinfo:keywords': 'Contrast limited adaptive histogram equalization (CLAHE),Diabetic retinopathy (DR),Parallel convolutional neural network (PCNN),Extreme LEARNING MACHine (ELM)', 'pdf:docinfo:modified': '2023-02-07T17:54:35Z', 'Content-Length': '6122917', 'Content-Type': 'application/pdf', 'xmp:MetadataDate': '2023-02-07T17:54:35Z', 'dc:language': 'en', 'pdf:producer': 'Acrobat Distiller 8.1.0 (Windows)', 'dc:subject': ['Contrast limited adaptive histogram equalization (CLAHE),Diabetic retinopathy (DR),Parallel convolutional neural network (PCNN),Extreme LEARNING MACHine (ELM)', 'Expert Systems With Applications, 217 (2023) 119557. doi:10.1016/j.eswa.2023.119557'], 'pdf:docinfo:custom:ElsevierWebPDFSpecifications': '7.0', 'pdf:totalUnmappedUnicodeChars': '0', 'access_permission:assemble_document': 'true', 'xmpTPg:NPages': '11', 'pdf:hasXMP': 'true', 'pdf:charsPerPage': ['4980', '8262', '7998', '1077', '4759', '5305', '3814', '3469', '7158', '10210', '4231'], 'access_permission:extract_content': 'true', 'access_permission:can_print': 'true', 'CrossMarkDomains[2]': 'sciencedirect.com', 'meta:keyword': 'Contrast limited adaptive histogram equalization (CLAHE),Diabetic retinopathy (DR),Parallel convolutional neural network (PCNN),Extreme LEARNING MACHine (ELM)', 'X-TIKA:parse_time_millis': '1942', 'access_permission:can_modify': 'true', 'pdf:docinfo:created': '2023-02-04T09:40:15Z', 'CrossmarkMajorVersionDate': '2010-04-23'}\n",
      "<class 'dict'>\n",
      "200 <class 'int'>\n"
     ]
    }
   ],
   "source": [
    "from parse_documents import *\n",
    "\n",
    "# filepath = 'upload/Jean-Baptiste_Perronneau_-_Magdaleine_Pinceloup_de_la_Grange,_née_de_Parseval.jpg'  # Replace with the path of your file\n",
    "# filepath = \"upload/World_Energy_By_Country_And_Region_1965_to_2023.csv\"\n",
    "filepath = 'upload/Diabetic-retinopathy-identification-using-parallel-convo_2023_Expert-Systems.pdf'\n",
    "parse_document(filepath)\n",
    "\n"
   ]
  },
  {
   "cell_type": "code",
   "execution_count": 2,
   "id": "2f581976-9cb0-449e-ae8e-e10e4cf05801",
   "metadata": {},
   "outputs": [
    {
     "name": "stdout",
     "output_type": "stream",
     "text": [
      "Parsing successful: 200\n",
      "<class 'dict'>\n",
      "dict_keys(['metadata', 'content', 'status'])\n",
      "Metadata:\n",
      "{'Number of Tables': '4 Huffman tables', 'File Modified Date': 'Wed Sep 11 00:51:00 +00:00 2024', 'Compression Type': 'Baseline', 'Data Precision': '8 bits', 'X-TIKA:Parsed-By-Full-Set': ['org.apache.tika.parser.DefaultParser', 'org.apache.tika.parser.image.JpegParser'], 'Number of Components': '3', 'tiff:ImageLength': '623', 'resourceName': \"b'Jean-Baptiste_Perronneau_-_Magdaleine_Pinceloup_de_la_Grange,_n\\\\xc3\\\\xa9e_de_Parseval.jpg'\", 'Component 2': 'Cb component: Quantization table 1, Sampling factors 1 horiz/1 vert', 'Component 1': 'Y component: Quantization table 0, Sampling factors 2 horiz/2 vert', 'Image Height': '623 pixels', 'Image Width': '500 pixels', 'File Size': '72495 bytes', 'Component 3': 'Cr component: Quantization table 1, Sampling factors 1 horiz/1 vert', 'X-TIKA:Parsed-By': ['org.apache.tika.parser.DefaultParser', 'org.apache.tika.parser.image.JpegParser'], 'X-TIKA:parse_time_millis': '74', 'X-TIKA:embedded_depth': '0', 'File Name': \"apache-tika-17283749312751033492.jpg'\", 'Content-Length': '72495', 'tiff:BitsPerSample': '8', 'tiff:ImageWidth': '500', 'Content-Type': 'image/jpeg'}\n"
     ]
    }
   ],
   "source": [
    "from tika import parser\n",
    "\n",
    "def parse_document(filepath):\n",
    "    try:\n",
    "        parsed_document = parser.from_file(filepath)\n",
    "        \n",
    "        # Check if parsing was successful\n",
    "        if 'status' in parsed_document and parsed_document['status'] == 200:\n",
    "            print(f\"Parsing successful: {parsed_document['status']}\")\n",
    "        else:\n",
    "            print(f\"Parsing failed with status: {parsed_document.get('status')}\")\n",
    "            return\n",
    "        \n",
    "        # Print the type and keys of the parsed document\n",
    "        print(type(parsed_document))\n",
    "        print(parsed_document.keys())\n",
    "\n",
    "        # Extract and print metadata if available\n",
    "        metadata = parsed_document.get('metadata', {})\n",
    "        if metadata:\n",
    "            print(\"Metadata:\")\n",
    "            print(metadata)\n",
    "        else:\n",
    "            print(\"No metadata found.\")\n",
    "        \n",
    "        # Print content if needed (commented to avoid large outputs)\n",
    "        # print(parsed_document.get('content', 'No content available'))\n",
    "        \n",
    "    except FileNotFoundError:\n",
    "        print(f\"Error: File '{filepath}' not found.\")\n",
    "    except Exception as e:\n",
    "        print(f\"An error occurred: {e}\")\n",
    "\n",
    "# Example usage\n",
    "parse_document(\"upload/Jean-Baptiste_Perronneau_-_Magdaleine_Pinceloup_de_la_Grange,_née_de_Parseval.jpg\")\n"
   ]
  },
  {
   "cell_type": "code",
   "execution_count": 5,
   "id": "78fcf833-4952-402e-a496-bcb2d1c68cb8",
   "metadata": {},
   "outputs": [
    {
     "name": "stdout",
     "output_type": "stream",
     "text": [
      "Parsing successful: 200\n",
      "Keys in the parsed document:\n",
      "['metadata', 'content', 'status']\n",
      "Keys in metadata:\n",
      "['Number of Tables', 'File Modified Date', 'Compression Type', 'Data Precision', 'X-TIKA:Parsed-By-Full-Set', 'Number of Components', 'tiff:ImageLength', 'resourceName', 'Component 2', 'Component 1', 'Image Height', 'Image Width', 'File Size', 'Component 3', 'X-TIKA:Parsed-By', 'X-TIKA:parse_time_millis', 'X-TIKA:embedded_depth', 'File Name', 'Content-Length', 'tiff:BitsPerSample', 'tiff:ImageWidth', 'Content-Type']\n"
     ]
    }
   ],
   "source": [
    "from tika import parser\n",
    "\n",
    "def parse_document(filepath):\n",
    "    try:\n",
    "        parsed_document = parser.from_file(filepath)\n",
    "        \n",
    "        # Check if parsing was successful\n",
    "        if 'status' in parsed_document and parsed_document['status'] == 200:\n",
    "            print(f\"Parsing successful: {parsed_document['status']}\")\n",
    "        else:\n",
    "            print(f\"Parsing failed with status: {parsed_document.get('status')}\")\n",
    "            return\n",
    "        \n",
    "        # Extract and print list of keys in the parsed document\n",
    "        document_keys = list(parsed_document.keys())\n",
    "        print(\"Keys in the parsed document:\")\n",
    "        print(document_keys)\n",
    "\n",
    "        # Extract metadata keys if available\n",
    "        metadata = parsed_document.get('metadata', {})\n",
    "        if metadata:\n",
    "            metadata_keys = list(metadata.keys())\n",
    "            print(\"Keys in metadata:\")\n",
    "            print(metadata_keys)\n",
    "        else:\n",
    "            print(\"No metadata found.\")\n",
    "\n",
    "    except FileNotFoundError:\n",
    "        print(f\"Error: File '{filepath}' not found.\")\n",
    "    except Exception as e:\n",
    "        print(f\"An error occurred: {e}\")\n",
    "\n",
    "# Example usage\n",
    "parse_document(\"upload/Jean-Baptiste_Perronneau_-_Magdaleine_Pinceloup_de_la_Grange,_née_de_Parseval.jpg\")\n"
   ]
  },
  {
   "cell_type": "code",
   "execution_count": 1,
   "id": "e9b4fa24-1d10-49a4-90f8-a6d8f33f6fe3",
   "metadata": {},
   "outputs": [
    {
     "name": "stderr",
     "output_type": "stream",
     "text": [
      "2024-09-11 02:08:23,789 [MainThread  ] [INFO ]  Retrieving http://search.maven.org/remotecontent?filepath=org/apache/tika/tika-server-standard/2.6.0/tika-server-standard-2.6.0.jar to /tmp/tika-server.jar.\n"
     ]
    },
    {
     "name": "stdout",
     "output_type": "stream",
     "text": [
      "Saving metadata files in temporary directory: tmp\n"
     ]
    },
    {
     "name": "stderr",
     "output_type": "stream",
     "text": [
      "2024-09-11 02:10:25,252 [MainThread  ] [INFO ]  Retrieving http://search.maven.org/remotecontent?filepath=org/apache/tika/tika-server-standard/2.6.0/tika-server-standard-2.6.0.jar.md5 to /tmp/tika-server.jar.md5.\n",
      "2024-09-11 02:10:27,051 [MainThread  ] [WARNI]  Failed to see startup log message; retrying...\n",
      "ic| file_metadata_CID: 'Qmb6nAaTarCzgQGimkKHdXTKyjiMmQ9aZfrnV4tEehQwGu'\n"
     ]
    },
    {
     "name": "stdout",
     "output_type": "stream",
     "text": [
      "Metadata saved for 'Diabetic-retinopathy-identification-using-parallel-convo_2023_Expert-Systems.pdf' as 'Diabetic-retinopathy-identification-using-parallel-convo_2023_Expert-Systems.json'\n"
     ]
    },
    {
     "name": "stderr",
     "output_type": "stream",
     "text": [
      "ic| file_metadata_CID: 'QmP9QNWj4y942H5aaCY4faTGNuAteK666PvMTWT3JskXjb'\n",
      "ic| file_metadata_CID: 'QmVDY4fdzZLrgjz8NR1nyBMyhvztAfi8G46btfB57bNyqk'\n"
     ]
    },
    {
     "name": "stdout",
     "output_type": "stream",
     "text": [
      "Metadata saved for 'Munafò et al. - 2022 - The reproducibility debate is an opportunity, not .pdf' as 'Munafò et al. - 2022 - The reproducibility debate is an opportunity, not .json'\n",
      "Metadata saved for 'assets.json' as 'assets.json'\n"
     ]
    },
    {
     "name": "stderr",
     "output_type": "stream",
     "text": [
      "ic| file_metadata_CID: 'QmaBUJ45duaMjisTiYKDfttDK1jy1kwx23oToZxKcDrLSL'\n"
     ]
    },
    {
     "name": "stdout",
     "output_type": "stream",
     "text": [
      "Metadata saved for 'hello_world.py' as 'hello_world.json'\n"
     ]
    },
    {
     "name": "stderr",
     "output_type": "stream",
     "text": [
      "ic| file_metadata_CID: 'QmdPDdzmcJ9uhiWCagNMBRxm28cHPPnqXTkGo2i67iJCUa'\n",
      "ic| file_metadata_CID: 'QmQBr6t6xLyiHe439ipFeXKXpaearpDYwNYna1tD5MJ3ht'\n"
     ]
    },
    {
     "name": "stdout",
     "output_type": "stream",
     "text": [
      "Metadata saved for 'bitcoin.pdf' as 'bitcoin.json'\n",
      "Metadata saved for 'assets.csv' as 'assets.json'\n"
     ]
    },
    {
     "name": "stderr",
     "output_type": "stream",
     "text": [
      "ic| file_metadata_CID: 'QmSuwf3w3SHkC36sxv42dD52h4rcdQHAH4pRRpQUpnVH1i'\n"
     ]
    },
    {
     "name": "stdout",
     "output_type": "stream",
     "text": [
      "Metadata saved for 'COVID19-MLSF--A-multi-task-learning-based-stock-market_2023_Expert-Systems-w.pdf' as 'COVID19-MLSF--A-multi-task-learning-based-stock-market_2023_Expert-Systems-w.json'\n"
     ]
    },
    {
     "name": "stderr",
     "output_type": "stream",
     "text": [
      "ic| file_metadata_CID: 'QmWpDMgNMKNDH6fndjBwS6imrkXbSKmsReMQ5gosFswJuR'\n"
     ]
    },
    {
     "name": "stdout",
     "output_type": "stream",
     "text": [
      "Metadata saved for 'Deep-learning-in-insurance--Accuracy-and-model-int_2023_Expert-Systems-with-.pdf' as 'Deep-learning-in-insurance--Accuracy-and-model-int_2023_Expert-Systems-with-.json'\n"
     ]
    },
    {
     "name": "stderr",
     "output_type": "stream",
     "text": [
      "ic| file_metadata_CID: 'QmXtN6yeomw4c2VBJG6VaJWrsngpNEWyXGNCU96LHsS5Vj'\n"
     ]
    },
    {
     "name": "stdout",
     "output_type": "stream",
     "text": [
      "Metadata saved for 'Mel-Spectrogram-based-advanced-deep-temporal-clusterin_2023_Expert-Systems-w.pdf' as 'Mel-Spectrogram-based-advanced-deep-temporal-clusterin_2023_Expert-Systems-w.json'\n"
     ]
    },
    {
     "name": "stderr",
     "output_type": "stream",
     "text": [
      "ic| file_metadata_CID: 'QmSGR9jkCNe7Sh6fboPedHaV2uBzCzq5n8cwSC2ZMK6RNJ'\n",
      "ic| file_metadata_CID: 'QmVBWEYNNt4SYM6eHEahPzTLVZUzf9gKTMUuqo2XpNqKFo'\n"
     ]
    },
    {
     "name": "stdout",
     "output_type": "stream",
     "text": [
      "Metadata saved for 'Aeroacoustic-airfoil-shape-optimization-enhance_2023_Expert-Systems-with-App.pdf' as 'Aeroacoustic-airfoil-shape-optimization-enhance_2023_Expert-Systems-with-App.json'\n",
      "Metadata saved for 'World_Energy_By_Country_And_Region_1965_to_2023.csv' as 'World_Energy_By_Country_And_Region_1965_to_2023.json'\n"
     ]
    },
    {
     "name": "stderr",
     "output_type": "stream",
     "text": [
      "ic| file_metadata_CID: 'Qmf32YwcV3bfQ9AWQDKFgBFbJgpSmmADP2yn7U1i5hig9r'\n"
     ]
    },
    {
     "name": "stdout",
     "output_type": "stream",
     "text": [
      "Metadata saved for 'Jean-Baptiste_Perronneau_-_Magdaleine_Pinceloup_de_la_Grange,_née_de_Parseval.jpg' as 'Jean-Baptiste_Perronneau_-_Magdaleine_Pinceloup_de_la_Grange,_née_de_Parseval.json'\n"
     ]
    }
   ],
   "source": [
    "import os\n",
    "import json\n",
    "from tika import parser\n",
    "from ipfs_functions import *\n",
    "\n",
    "def parse_documents_in_directory(directory_path):\n",
    "    temp_dir = \"tmp\" # Get the system's temporary directory\n",
    "    print(f\"Saving metadata files in temporary directory: {temp_dir}\")\n",
    "\n",
    "    for filename in os.listdir(directory_path):\n",
    "        file_path = os.path.join(directory_path, filename)\n",
    "        upload_file_to_ipfs(directory_path + \"/\" + filename)\n",
    "        \n",
    "        # Check if it's a file and not a directory\n",
    "        if os.path.isfile(file_path):\n",
    "            try:\n",
    "                parsed_document = parser.from_file(file_path)\n",
    "                \n",
    "                # Check if parsing was successful\n",
    "                if 'status' in parsed_document and parsed_document['status'] == 200:\n",
    "                    metadata = parsed_document.get('metadata', {})\n",
    "                    upload_json_to_ipfs(metadata)\n",
    "                    \n",
    "                    # Save metadata as JSON\n",
    "                    if metadata:\n",
    "                        json_filename = f\"{os.path.splitext(filename)[0]}.json\"\n",
    "                        json_path = os.path.join(temp_dir, json_filename)\n",
    "\n",
    "                        with open(json_path, 'w') as json_file:\n",
    "                            json.dump(metadata, json_file, indent=4)\n",
    "                        \n",
    "                        print(f\"Metadata saved for '{filename}' as '{json_filename}'\")\n",
    "                    else:\n",
    "                        print(f\"No metadata found for '{filename}'\")\n",
    "                else:\n",
    "                    print(f\"Parsing failed for '{filename}' with status: {parsed_document.get('status')}\")\n",
    "            \n",
    "            except Exception as e:\n",
    "                print(f\"An error occurred with file '{filename}': {e}\")\n",
    "\n",
    "# Example usage\n",
    "parse_documents_in_directory(\"upload\")\n"
   ]
  },
  {
   "cell_type": "code",
   "execution_count": null,
   "id": "cf02066a-d88e-4818-a33a-6165a12c4422",
   "metadata": {},
   "outputs": [],
   "source": []
  }
 ],
 "metadata": {
  "kernelspec": {
   "display_name": "Python 3 (ipykernel)",
   "language": "python",
   "name": "python3"
  },
  "language_info": {
   "codemirror_mode": {
    "name": "ipython",
    "version": 3
   },
   "file_extension": ".py",
   "mimetype": "text/x-python",
   "name": "python",
   "nbconvert_exporter": "python",
   "pygments_lexer": "ipython3",
   "version": "3.9.19"
  }
 },
 "nbformat": 4,
 "nbformat_minor": 5
}
