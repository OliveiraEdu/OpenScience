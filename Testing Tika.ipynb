{
 "cells": [
  {
   "cell_type": "code",
   "execution_count": 4,
   "id": "7e258e2d-b1cd-4657-9cd5-f1c4ba7b38eb",
   "metadata": {},
   "outputs": [
    {
     "name": "stdout",
     "output_type": "stream",
     "text": [
      "<class 'dict'>\n",
      "dict_keys(['metadata', 'content', 'status'])\n",
      "{'pdf:PDFVersion': '1.7', 'xmp:CreatorTool': 'Elsevier', 'pdf:docinfo:title': 'Diabetic retinopathy identification using parallel convolutional neural network based feature extractor and ELM classifier', 'pdf:hasXFA': 'false', 'access_permission:can_print_degraded': 'true', 'X-TIKA:Parsed-By-Full-Set': ['org.apache.tika.parser.DefaultParser', 'org.apache.tika.parser.pdf.PDFParser'], 'X-TIKA:content_handler': 'ToTextContentHandler', 'pdf:num3DAnnotations': '0', 'dc:format': 'application/pdf; version=1.7', 'pdf:docinfo:custom:robots': 'noindex', 'pdf:docinfo:creator_tool': 'Elsevier', 'access_permission:fill_in_form': 'true', 'pdf:docinfo:custom:CreationDate--Text': '7th February 2023', 'pdf:hasCollection': 'false', 'pdf:encrypted': 'false', 'dc:title': 'Diabetic retinopathy identification using parallel convolutional neural network based feature extractor and ELM classifier', 'pdf:containsNonEmbeddedFont': 'false', 'xmp:CreateDate': '2023-02-04T09:40:15Z', 'pdf:docinfo:custom:CrossMarkDomains[1]': 'elsevier.com', 'robots': 'noindex', 'pdf:docinfo:subject': 'Expert Systems With Applications, 217 (2023) 119557. doi:10.1016/j.eswa.2023.119557', 'pdf:hasMarkedContent': 'true', 'xmp:ModifyDate': '2023-02-07T17:54:35Z', 'pdf:docinfo:creator': 'Md. Nahiduzzaman', 'pdf:docinfo:custom:CrossmarkMajorVersionDate': '2010-04-23', 'access_permission:extract_for_accessibility': 'true', 'resourceName': \"b'Diabetic-retinopathy-identification-using-parallel-convo_2023_Expert-Systems.pdf'\", 'pdf:docinfo:custom:CrossMarkDomains[2]': 'sciencedirect.com', 'X-TIKA:Parsed-By': ['org.apache.tika.parser.DefaultParser', 'org.apache.tika.parser.pdf.PDFParser'], 'ElsevierWebPDFSpecifications': '7.0', 'pdf:docinfo:custom:doi': '10.1016/j.eswa.2023.119557', 'pdf:docinfo:custom:CrossmarkDomainExclusive': 'true', 'X-TIKA:embedded_depth': '0', 'CrossmarkDomainExclusive': 'true', 'pdf:annotationTypes': 'null', 'pdf:docinfo:producer': 'Acrobat Distiller 8.1.0 (Windows)', 'pdf:annotationSubtypes': 'Link', 'CreationDate--Text': '7th February 2023', 'doi': '10.1016/j.eswa.2023.119557', 'pdf:containsDamagedFont': 'false', 'pdf:unmappedUnicodeCharsPerPage': ['0', '0', '0', '0', '0', '0', '0', '0', '0', '0', '0'], 'dc:description': 'Expert Systems With Applications, 217 (2023) 119557. doi:10.1016/j.eswa.2023.119557', 'access_permission:modify_annotations': 'true', 'dc:creator': ['Md. Nahiduzzaman', 'Md. Robiul Islam', 'Md. Omaer Faruq Goni', 'Md. Shamim Anower', 'Mominul Ahsan', 'Julfikar Haider', 'Marcin Kowalski'], 'dcterms:created': '2023-02-04T09:40:15Z', 'dcterms:modified': '2023-02-07T17:54:35Z', 'xmpMM:DocumentID': 'uuid:1b499bed-4ce8-4c0c-b682-0d58baae1cbe', 'CrossMarkDomains[1]': 'elsevier.com', 'pdf:overallPercentageUnmappedUnicodeChars': '0.0', 'pdf:docinfo:keywords': 'Contrast limited adaptive histogram equalization (CLAHE),Diabetic retinopathy (DR),Parallel convolutional neural network (PCNN),Extreme LEARNING MACHine (ELM)', 'pdf:docinfo:modified': '2023-02-07T17:54:35Z', 'Content-Length': '6122917', 'Content-Type': 'application/pdf', 'xmp:MetadataDate': '2023-02-07T17:54:35Z', 'dc:language': 'en', 'pdf:producer': 'Acrobat Distiller 8.1.0 (Windows)', 'dc:subject': ['Contrast limited adaptive histogram equalization (CLAHE),Diabetic retinopathy (DR),Parallel convolutional neural network (PCNN),Extreme LEARNING MACHine (ELM)', 'Expert Systems With Applications, 217 (2023) 119557. doi:10.1016/j.eswa.2023.119557'], 'pdf:docinfo:custom:ElsevierWebPDFSpecifications': '7.0', 'pdf:totalUnmappedUnicodeChars': '0', 'access_permission:assemble_document': 'true', 'xmpTPg:NPages': '11', 'pdf:hasXMP': 'true', 'pdf:charsPerPage': ['4980', '8262', '7998', '1077', '4759', '5305', '3814', '3469', '7158', '10210', '4231'], 'access_permission:extract_content': 'true', 'access_permission:can_print': 'true', 'CrossMarkDomains[2]': 'sciencedirect.com', 'meta:keyword': 'Contrast limited adaptive histogram equalization (CLAHE),Diabetic retinopathy (DR),Parallel convolutional neural network (PCNN),Extreme LEARNING MACHine (ELM)', 'X-TIKA:parse_time_millis': '275', 'access_permission:can_modify': 'true', 'pdf:docinfo:created': '2023-02-04T09:40:15Z', 'CrossmarkMajorVersionDate': '2010-04-23'}\n",
      "<class 'dict'>\n",
      "200 <class 'int'>\n"
     ]
    }
   ],
   "source": [
    "from parse_documents import *\n",
    "\n",
    "# filepath = 'upload/Jean-Baptiste_Perronneau_-_Magdaleine_Pinceloup_de_la_Grange,_née_de_Parseval.jpg'  # Replace with the path of your file\n",
    "# filepath = \"upload/World_Energy_By_Country_And_Region_1965_to_2023.csv\"\n",
    "filepath = 'upload/Diabetic-retinopathy-identification-using-parallel-convo_2023_Expert-Systems.pdf'\n",
    "parse_document(filepath)\n",
    "\n"
   ]
  },
  {
   "cell_type": "code",
   "execution_count": null,
   "id": "2f581976-9cb0-449e-ae8e-e10e4cf05801",
   "metadata": {},
   "outputs": [],
   "source": []
  },
  {
   "cell_type": "code",
   "execution_count": null,
   "id": "78fcf833-4952-402e-a496-bcb2d1c68cb8",
   "metadata": {},
   "outputs": [],
   "source": []
  }
 ],
 "metadata": {
  "kernelspec": {
   "display_name": "Python 3 (ipykernel)",
   "language": "python",
   "name": "python3"
  },
  "language_info": {
   "codemirror_mode": {
    "name": "ipython",
    "version": 3
   },
   "file_extension": ".py",
   "mimetype": "text/x-python",
   "name": "python",
   "nbconvert_exporter": "python",
   "pygments_lexer": "ipython3",
   "version": "3.9.19"
  }
 },
 "nbformat": 4,
 "nbformat_minor": 5
}
