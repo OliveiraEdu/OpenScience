{
 "cells": [
  {
   "cell_type": "code",
   "execution_count": null,
   "id": "7e258e2d-b1cd-4657-9cd5-f1c4ba7b38eb",
   "metadata": {},
   "outputs": [],
   "source": [
    "from parse_documents import *\n",
    "\n",
    "# filepath = 'upload/Jean-Baptiste_Perronneau_-_Magdaleine_Pinceloup_de_la_Grange,_née_de_Parseval.jpg'  # Replace with the path of your file\n",
    "# filepath = \"upload/World_Energy_By_Country_And_Region_1965_to_2023.csv\"\n",
    "filepath = 'upload/Diabetic-retinopathy-identification-using-parallel-convo_2023_Expert-Systems.pdf'\n",
    "parse_document(filepath)\n",
    "\n"
   ]
  },
  {
   "cell_type": "code",
   "execution_count": null,
   "id": "2f581976-9cb0-449e-ae8e-e10e4cf05801",
   "metadata": {},
   "outputs": [],
   "source": [
    "from tika import parser\n",
    "\n",
    "def parse_document(filepath):\n",
    "    try:\n",
    "        parsed_document = parser.from_file(filepath)\n",
    "        \n",
    "        # Check if parsing was successful\n",
    "        if 'status' in parsed_document and parsed_document['status'] == 200:\n",
    "            print(f\"Parsing successful: {parsed_document['status']}\")\n",
    "        else:\n",
    "            print(f\"Parsing failed with status: {parsed_document.get('status')}\")\n",
    "            return\n",
    "        \n",
    "        # Print the type and keys of the parsed document\n",
    "        print(type(parsed_document))\n",
    "        print(parsed_document.keys())\n",
    "\n",
    "        # Extract and print metadata if available\n",
    "        metadata = parsed_document.get('metadata', {})\n",
    "        if metadata:\n",
    "            print(\"Metadata:\")\n",
    "            print(metadata)\n",
    "        else:\n",
    "            print(\"No metadata found.\")\n",
    "        \n",
    "        # Print content if needed (commented to avoid large outputs)\n",
    "        # print(parsed_document.get('content', 'No content available'))\n",
    "        \n",
    "    except FileNotFoundError:\n",
    "        print(f\"Error: File '{filepath}' not found.\")\n",
    "    except Exception as e:\n",
    "        print(f\"An error occurred: {e}\")\n",
    "\n",
    "# Example usage\n",
    "parse_document(\"path/to/your/document.pdf\")\n"
   ]
  },
  {
   "cell_type": "code",
   "execution_count": 5,
   "id": "78fcf833-4952-402e-a496-bcb2d1c68cb8",
   "metadata": {},
   "outputs": [
    {
     "name": "stdout",
     "output_type": "stream",
     "text": [
      "Parsing successful: 200\n",
      "Keys in the parsed document:\n",
      "['metadata', 'content', 'status']\n",
      "Keys in metadata:\n",
      "['Number of Tables', 'File Modified Date', 'Compression Type', 'Data Precision', 'X-TIKA:Parsed-By-Full-Set', 'Number of Components', 'tiff:ImageLength', 'resourceName', 'Component 2', 'Component 1', 'Image Height', 'Image Width', 'File Size', 'Component 3', 'X-TIKA:Parsed-By', 'X-TIKA:parse_time_millis', 'X-TIKA:embedded_depth', 'File Name', 'Content-Length', 'tiff:BitsPerSample', 'tiff:ImageWidth', 'Content-Type']\n"
     ]
    }
   ],
   "source": [
    "from tika import parser\n",
    "\n",
    "def parse_document(filepath):\n",
    "    try:\n",
    "        parsed_document = parser.from_file(filepath)\n",
    "        \n",
    "        # Check if parsing was successful\n",
    "        if 'status' in parsed_document and parsed_document['status'] == 200:\n",
    "            print(f\"Parsing successful: {parsed_document['status']}\")\n",
    "        else:\n",
    "            print(f\"Parsing failed with status: {parsed_document.get('status')}\")\n",
    "            return\n",
    "        \n",
    "        # Extract and print list of keys in the parsed document\n",
    "        document_keys = list(parsed_document.keys())\n",
    "        print(\"Keys in the parsed document:\")\n",
    "        print(document_keys)\n",
    "\n",
    "        # Extract metadata keys if available\n",
    "        metadata = parsed_document.get('metadata', {})\n",
    "        if metadata:\n",
    "            metadata_keys = list(metadata.keys())\n",
    "            print(\"Keys in metadata:\")\n",
    "            print(metadata_keys)\n",
    "        else:\n",
    "            print(\"No metadata found.\")\n",
    "\n",
    "    except FileNotFoundError:\n",
    "        print(f\"Error: File '{filepath}' not found.\")\n",
    "    except Exception as e:\n",
    "        print(f\"An error occurred: {e}\")\n",
    "\n",
    "# Example usage\n",
    "parse_document(\"upload/Jean-Baptiste_Perronneau_-_Magdaleine_Pinceloup_de_la_Grange,_née_de_Parseval.jpg\")\n"
   ]
  },
  {
   "cell_type": "code",
   "execution_count": null,
   "id": "e9b4fa24-1d10-49a4-90f8-a6d8f33f6fe3",
   "metadata": {},
   "outputs": [],
   "source": []
  }
 ],
 "metadata": {
  "kernelspec": {
   "display_name": "Python 3 (ipykernel)",
   "language": "python",
   "name": "python3"
  },
  "language_info": {
   "codemirror_mode": {
    "name": "ipython",
    "version": 3
   },
   "file_extension": ".py",
   "mimetype": "text/x-python",
   "name": "python",
   "nbconvert_exporter": "python",
   "pygments_lexer": "ipython3",
   "version": "3.9.19"
  }
 },
 "nbformat": 4,
 "nbformat_minor": 5
}
