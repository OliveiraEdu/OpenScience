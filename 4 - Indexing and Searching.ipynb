{
 "cells": [
  {
   "cell_type": "markdown",
   "id": "a09fbc07-8d81-4bd0-b0f3-922e3b0b6d23",
   "metadata": {},
   "source": [
    "# 4 - Indexing, searching and validation"
   ]
  },
  {
   "cell_type": "markdown",
   "id": "e63f1f60-5289-4674-90bf-55bae1753d5f",
   "metadata": {},
   "source": [
    "Load helper modules"
   ]
  },
  {
   "cell_type": "code",
   "execution_count": 1,
   "id": "d4a1c5a2-75c3-482e-999c-70eb25226078",
   "metadata": {
    "editable": true,
    "slideshow": {
     "slide_type": ""
    },
    "tags": []
   },
   "outputs": [],
   "source": [
    "from iroha_helper import *\n",
    "from new_helper import *\n",
    "from super_helper import *\n",
    "from loguru import logger"
   ]
  },
  {
   "cell_type": "markdown",
   "id": "68a70b05-1041-43c6-994c-d06c987a502d",
   "metadata": {},
   "source": [
    "Sets variables and values"
   ]
  },
  {
   "cell_type": "code",
   "execution_count": 2,
   "id": "cad05321",
   "metadata": {},
   "outputs": [],
   "source": [
    "# Index for objects in both user account and project account JSON-LDs.\n",
    "json_ld_index = 2\n",
    "\n",
    "# Local path for file upload\n",
    "directory_path = \"upload\"\n",
    "\n",
    "# Directory for file downloads\n",
    "download_path = \"download\"\n",
    "\n",
    "#for the index system\n",
    "index_path = \"indexdir\"\n",
    "index = open_dir(index_path)\n"
   ]
  },
  {
   "cell_type": "markdown",
   "id": "5c444196-6d75-4a0a-b135-c284648a4885",
   "metadata": {},
   "source": [
    "Load variable `project_id` from Notebook 3"
   ]
  },
  {
   "cell_type": "code",
   "execution_count": 3,
   "id": "53802dfc-9441-44c1-97a2-78fdcb7501a0",
   "metadata": {},
   "outputs": [
    {
     "name": "stderr",
     "output_type": "stream",
     "text": [
      "\u001b[32m2025-01-15 20:59:24.223\u001b[0m | \u001b[1mINFO    \u001b[0m | \u001b[36m__main__\u001b[0m:\u001b[36m<module>\u001b[0m:\u001b[36m7\u001b[0m - \u001b[1m60032@test\u001b[0m\n"
     ]
    }
   ],
   "source": [
    "import pickle\n",
    "\n",
    "# Load variable_a from the file\n",
    "with open(\"temp/project_id.pkl\", \"rb\") as f:\n",
    "    project_id = pickle.load(f)\n",
    "\n",
    "logger.info(project_id)  # Outputs: Hello from Notebook A!\n"
   ]
  },
  {
   "cell_type": "markdown",
   "id": "f34275bf-520d-44eb-9f7f-c8dc40bdf5b1",
   "metadata": {},
   "source": [
    "Index files in the `upload` directory"
   ]
  },
  {
   "cell_type": "code",
   "execution_count": 4,
   "id": "f06a221d",
   "metadata": {},
   "outputs": [
    {
     "name": "stderr",
     "output_type": "stream",
     "text": [
      "\u001b[32m2025-01-15 20:59:24.227\u001b[0m | \u001b[1mINFO    \u001b[0m | \u001b[36m__main__\u001b[0m:\u001b[36m<module>\u001b[0m:\u001b[36m3\u001b[0m - \u001b[1m<Schema: ['abstract', 'created', 'creator', 'date', 'description', 'file_cid', 'format', 'full_text', 'language', 'metadata_cid', 'modified', 'project_id', 'publisher', 'subject', 'title']>\u001b[0m\n",
      "\u001b[32m2025-01-15 20:59:24.228\u001b[0m | \u001b[1mINFO    \u001b[0m | \u001b[36mnew_helper\u001b[0m:\u001b[36mprocess_files\u001b[0m:\u001b[36m118\u001b[0m - \u001b[1mIndexing file:  upload/Munafò et al. - 2022 - The reproducibility debate is an opportunity, not .pdf\u001b[0m\n",
      "\u001b[32m2025-01-15 20:59:24.277\u001b[0m | \u001b[1mINFO    \u001b[0m | \u001b[36miroha_helper\u001b[0m:\u001b[36mtracer\u001b[0m:\u001b[36m244\u001b[0m - \u001b[1m\tEntering \"create_contract\"\u001b[0m\n",
      "\u001b[32m2025-01-15 20:59:24.296\u001b[0m | \u001b[1mINFO    \u001b[0m | \u001b[36miroha_helper\u001b[0m:\u001b[36mcreate_contract\u001b[0m:\u001b[36m263\u001b[0m - \u001b[1m('STATELESS_VALIDATION_SUCCESS', 1, 0)\u001b[0m\n",
      "\u001b[32m2025-01-15 20:59:24.301\u001b[0m | \u001b[1mINFO    \u001b[0m | \u001b[36miroha_helper\u001b[0m:\u001b[36mcreate_contract\u001b[0m:\u001b[36m263\u001b[0m - \u001b[1m('ENOUGH_SIGNATURES_COLLECTED', 9, 0)\u001b[0m\n",
      "\u001b[32m2025-01-15 20:59:26.500\u001b[0m | \u001b[1mINFO    \u001b[0m | \u001b[36miroha_helper\u001b[0m:\u001b[36mcreate_contract\u001b[0m:\u001b[36m263\u001b[0m - \u001b[1m('STATEFUL_VALIDATION_SUCCESS', 3, 0)\u001b[0m\n",
      "\u001b[32m2025-01-15 20:59:26.535\u001b[0m | \u001b[1mINFO    \u001b[0m | \u001b[36miroha_helper\u001b[0m:\u001b[36mcreate_contract\u001b[0m:\u001b[36m263\u001b[0m - \u001b[1m('COMMITTED', 5, 0)\u001b[0m\n",
      "\u001b[32m2025-01-15 20:59:26.537\u001b[0m | \u001b[1mINFO    \u001b[0m | \u001b[36miroha_helper\u001b[0m:\u001b[36mtracer\u001b[0m:\u001b[36m246\u001b[0m - \u001b[1m\tLeaving \"create_contract\"\u001b[0m\n",
      "\u001b[32m2025-01-15 20:59:26.538\u001b[0m | \u001b[1mINFO    \u001b[0m | \u001b[36mintegration_helpers\u001b[0m:\u001b[36mtracer\u001b[0m:\u001b[36m34\u001b[0m - \u001b[1m\tEntering \"get_engine_receipts_address\"\u001b[0m\n",
      "\u001b[32m2025-01-15 20:59:26.558\u001b[0m | \u001b[1mINFO    \u001b[0m | \u001b[36mintegration_helpers\u001b[0m:\u001b[36mtracer\u001b[0m:\u001b[36m36\u001b[0m - \u001b[1m\tLeaving \"get_engine_receipts_address\"\u001b[0m\n",
      "\u001b[32m2025-01-15 20:59:26.559\u001b[0m | \u001b[1mINFO    \u001b[0m | \u001b[36miroha_helper\u001b[0m:\u001b[36mtracer\u001b[0m:\u001b[36m244\u001b[0m - \u001b[1m\tEntering \"set_account_detail\"\u001b[0m\n",
      "\u001b[32m2025-01-15 20:59:26.581\u001b[0m | \u001b[1mINFO    \u001b[0m | \u001b[36miroha_helper\u001b[0m:\u001b[36mset_account_detail\u001b[0m:\u001b[36m296\u001b[0m - \u001b[1mNone\u001b[0m\n",
      "\u001b[32m2025-01-15 20:59:26.584\u001b[0m | \u001b[1mINFO    \u001b[0m | \u001b[36miroha_helper\u001b[0m:\u001b[36mset_account_detail\u001b[0m:\u001b[36m298\u001b[0m - \u001b[1m('ENOUGH_SIGNATURES_COLLECTED', 9, 0)\u001b[0m\n",
      "\u001b[32m2025-01-15 20:59:29.562\u001b[0m | \u001b[1mINFO    \u001b[0m | \u001b[36miroha_helper\u001b[0m:\u001b[36mset_account_detail\u001b[0m:\u001b[36m298\u001b[0m - \u001b[1m('STATEFUL_VALIDATION_SUCCESS', 3, 0)\u001b[0m\n",
      "\u001b[32m2025-01-15 20:59:29.587\u001b[0m | \u001b[1mINFO    \u001b[0m | \u001b[36miroha_helper\u001b[0m:\u001b[36mset_account_detail\u001b[0m:\u001b[36m298\u001b[0m - \u001b[1m('COMMITTED', 5, 0)\u001b[0m\n",
      "\u001b[32m2025-01-15 20:59:29.589\u001b[0m | \u001b[1mINFO    \u001b[0m | \u001b[36miroha_helper\u001b[0m:\u001b[36mtracer\u001b[0m:\u001b[36m246\u001b[0m - \u001b[1m\tLeaving \"set_account_detail\"\u001b[0m\n",
      "\u001b[32m2025-01-15 20:59:29.592\u001b[0m | \u001b[1mINFO    \u001b[0m | \u001b[36msuper_helper\u001b[0m:\u001b[36msetup_index\u001b[0m:\u001b[36m467\u001b[0m - \u001b[1mOpened existing index.\u001b[0m\n",
      "\u001b[32m2025-01-15 20:59:30.072\u001b[0m | \u001b[1mINFO    \u001b[0m | \u001b[36msuper_helper\u001b[0m:\u001b[36mindex_metadata\u001b[0m:\u001b[36m306\u001b[0m - \u001b[1mMetadata indexed successfully: QmUX67At9jXWwWPqeuad7kw7SEtU28U9cnLE9fZyJNoTwu\u001b[0m\n"
     ]
    }
   ],
   "source": [
    "schema = get_schema() #super_helper.py\n",
    "\n",
    "logger.info(schema)\n",
    "\n",
    "processed_data = process_files(directory_path, project_id, schema) #new_helper.py\n",
    " \n",
    "    "
   ]
  },
  {
   "cell_type": "markdown",
   "id": "22eee527-0e40-4b48-b6e9-b62e452259e6",
   "metadata": {},
   "source": [
    "Perform a keyword search"
   ]
  },
  {
   "cell_type": "code",
   "execution_count": 7,
   "id": "192bca4c-e506-414d-aee5-f9a58ff3105b",
   "metadata": {},
   "outputs": [
    {
     "name": "stderr",
     "output_type": "stream",
     "text": [
      "\u001b[32m2025-01-15 20:59:53.482\u001b[0m | \u001b[1mINFO    \u001b[0m | \u001b[36msuper_helper\u001b[0m:\u001b[36msearch_index\u001b[0m:\u001b[36m327\u001b[0m - \u001b[1mStarting keyword search...\u001b[0m\n",
      "\u001b[32m2025-01-15 20:59:53.484\u001b[0m | \u001b[1mINFO    \u001b[0m | \u001b[36msuper_helper\u001b[0m:\u001b[36msearch_index\u001b[0m:\u001b[36m328\u001b[0m - \u001b[1mKeyword: 'neighbor'\u001b[0m\n",
      "\u001b[32m2025-01-15 20:59:53.497\u001b[0m | \u001b[1mINFO    \u001b[0m | \u001b[36msuper_helper\u001b[0m:\u001b[36mwith_logging_block\u001b[0m:\u001b[36m33\u001b[0m - \u001b[1m\n",
      "==================================================\u001b[0m\n",
      "\u001b[32m2025-01-15 20:59:53.500\u001b[0m | \u001b[1mINFO    \u001b[0m | \u001b[36msuper_helper\u001b[0m:\u001b[36mwith_logging_block\u001b[0m:\u001b[36m34\u001b[0m - \u001b[1mSTARTING BLOCK: Keyword Search\u001b[0m\n",
      "\u001b[32m2025-01-15 20:59:53.502\u001b[0m | \u001b[1mINFO    \u001b[0m | \u001b[36msuper_helper\u001b[0m:\u001b[36mwith_logging_block\u001b[0m:\u001b[36m35\u001b[0m - \u001b[1m==================================================\u001b[0m\n",
      "\u001b[32m2025-01-15 20:59:53.504\u001b[0m | \u001b[1mINFO    \u001b[0m | \u001b[36msuper_helper\u001b[0m:\u001b[36msearch_index\u001b[0m:\u001b[36m346\u001b[0m - \u001b[1mTotal search results found for keyword 'neighbor': 1\u001b[0m\n",
      "\u001b[32m2025-01-15 20:59:53.505\u001b[0m | \u001b[1mINFO    \u001b[0m | \u001b[36msuper_helper\u001b[0m:\u001b[36msearch_index\u001b[0m:\u001b[36m349\u001b[0m - \u001b[1mListing all search results:\u001b[0m\n",
      "\u001b[32m2025-01-15 20:59:53.509\u001b[0m | \u001b[1mINFO    \u001b[0m | \u001b[36msuper_helper\u001b[0m:\u001b[36msearch_index\u001b[0m:\u001b[36m353\u001b[0m - \u001b[1mResult 1: Project ID: 55943@test, File CID: QmUq29KRwpTdvScB5oYzEDobDHyb4N1f9eaZXm4VaMCgiW\u001b[0m\n",
      "\u001b[32m2025-01-15 20:59:53.511\u001b[0m | \u001b[1mINFO    \u001b[0m | \u001b[36msuper_helper\u001b[0m:\u001b[36msearch_index\u001b[0m:\u001b[36m356\u001b[0m - \u001b[1mFull search results for keyword 'neighbor' (excluding 'full_text'):\u001b[0m\n",
      "\u001b[32m2025-01-15 20:59:53.515\u001b[0m | \u001b[1mINFO    \u001b[0m | \u001b[36msuper_helper\u001b[0m:\u001b[36msearch_index\u001b[0m:\u001b[36m359\u001b[0m - \u001b[1mResult 1: {\n",
      "  \"date\": \"\",\n",
      "  \"file_cid\": \"QmUq29KRwpTdvScB5oYzEDobDHyb4N1f9eaZXm4VaMCgiW\",\n",
      "  \"language\": \"en-us\",\n",
      "  \"creator\": \"chenxun yuan, xiang ma, hua wang, caiming zhang, xuemei li\",\n",
      "  \"created\": \"2023-02-04t09:40:15z\",\n",
      "  \"modified\": \"2023-02-07t16:52:03z\",\n",
      "  \"title\": \"covid19-mlsf: a multi-task learning-based stock market forecasting framework during the covid-19 pandemic\",\n",
      "  \"subject\": \"stock market forecasting,covid-19 pandemic,multi-task learning,feature fusion,k-nearest neighbor classifier, expert systems with applications, 217 (2023) 119549. doi:10.1016/j.eswa.2023.119549\",\n",
      "  \"metadata_cid\": \"QmcG2x9U1YcRTB4zMob5QgwZDJWJLohYF25zNEeNJubzQf\",\n",
      "  \"format\": \"application/pdf; version=1.7\",\n",
      "  \"description\": \"expert systems with applications, 217 (2023) 119549. doi:10.1016/j.eswa.2023.119549\",\n",
      "  \"project_id\": \"55943@test\",\n",
      "  \"abstract\": \"\",\n",
      "  \"publisher\": \"unknown\"\n",
      "}\u001b[0m\n",
      "\u001b[32m2025-01-15 20:59:53.518\u001b[0m | \u001b[1mINFO    \u001b[0m | \u001b[36msuper_helper\u001b[0m:\u001b[36mwith_logging_block\u001b[0m:\u001b[36m41\u001b[0m - \u001b[1mCOMPLETED BLOCK: Keyword Search\u001b[0m\n",
      "\u001b[32m2025-01-15 20:59:53.519\u001b[0m | \u001b[1mINFO    \u001b[0m | \u001b[36msuper_helper\u001b[0m:\u001b[36mwith_logging_block\u001b[0m:\u001b[36m42\u001b[0m - \u001b[1m--------------------------------------------------\n",
      "\u001b[0m\n"
     ]
    }
   ],
   "source": [
    "# Perform a keyword search\n",
    "keyword = \"neighbor\"\n",
    "search_results, project_ids = search_index(index, keyword)\n"
   ]
  },
  {
   "attachments": {},
   "cell_type": "markdown",
   "id": "e1e9bcdd-2f1c-4323-a2c3-686cf3c58b82",
   "metadata": {},
   "source": [
    "Processes the search results and validates the the result files."
   ]
  },
  {
   "cell_type": "code",
   "execution_count": 8,
   "id": "14204cb6-1382-4ff0-b371-607b3cc4d786",
   "metadata": {},
   "outputs": [
    {
     "name": "stderr",
     "output_type": "stream",
     "text": [
      "\u001b[32m2025-01-15 21:01:15.149\u001b[0m | \u001b[1mINFO    \u001b[0m | \u001b[36msuper_helper\u001b[0m:\u001b[36mwith_logging_block\u001b[0m:\u001b[36m33\u001b[0m - \u001b[1m\n",
      "==================================================\u001b[0m\n",
      "\u001b[32m2025-01-15 21:01:15.153\u001b[0m | \u001b[1mINFO    \u001b[0m | \u001b[36msuper_helper\u001b[0m:\u001b[36mwith_logging_block\u001b[0m:\u001b[36m34\u001b[0m - \u001b[1mSTARTING BLOCK: Processing Search Results\u001b[0m\n",
      "\u001b[32m2025-01-15 21:01:15.157\u001b[0m | \u001b[1mINFO    \u001b[0m | \u001b[36msuper_helper\u001b[0m:\u001b[36mwith_logging_block\u001b[0m:\u001b[36m35\u001b[0m - \u001b[1m==================================================\u001b[0m\n",
      "\u001b[32m2025-01-15 21:01:15.159\u001b[0m | \u001b[1mINFO    \u001b[0m | \u001b[36msuper_helper\u001b[0m:\u001b[36mwith_logging_block\u001b[0m:\u001b[36m33\u001b[0m - \u001b[1m\n",
      "==================================================\u001b[0m\n",
      "\u001b[32m2025-01-15 21:01:15.161\u001b[0m | \u001b[1mINFO    \u001b[0m | \u001b[36msuper_helper\u001b[0m:\u001b[36mwith_logging_block\u001b[0m:\u001b[36m34\u001b[0m - \u001b[1mSTARTING BLOCK: Processing Result for Project ID: 55943@test\u001b[0m\n",
      "\u001b[32m2025-01-15 21:01:15.164\u001b[0m | \u001b[1mINFO    \u001b[0m | \u001b[36msuper_helper\u001b[0m:\u001b[36mwith_logging_block\u001b[0m:\u001b[36m35\u001b[0m - \u001b[1m==================================================\u001b[0m\n",
      "\u001b[32m2025-01-15 21:01:15.165\u001b[0m | \u001b[1mINFO    \u001b[0m | \u001b[36msuper_helper\u001b[0m:\u001b[36mprocessing_search_results\u001b[0m:\u001b[36m76\u001b[0m - \u001b[1mFile CID: QmUq29KRwpTdvScB5oYzEDobDHyb4N1f9eaZXm4VaMCgiW\u001b[0m\n",
      "\u001b[32m2025-01-15 21:01:15.167\u001b[0m | \u001b[1mINFO    \u001b[0m | \u001b[36msuper_helper\u001b[0m:\u001b[36mprocessing_search_results\u001b[0m:\u001b[36m77\u001b[0m - \u001b[1mMetadata CID: QmcG2x9U1YcRTB4zMob5QgwZDJWJLohYF25zNEeNJubzQf\u001b[0m\n",
      "\u001b[32m2025-01-15 21:01:15.169\u001b[0m | \u001b[1mINFO    \u001b[0m | \u001b[36msuper_helper\u001b[0m:\u001b[36mwith_logging_block\u001b[0m:\u001b[36m33\u001b[0m - \u001b[1m\n",
      "==================================================\u001b[0m\n",
      "\u001b[32m2025-01-15 21:01:15.170\u001b[0m | \u001b[1mINFO    \u001b[0m | \u001b[36msuper_helper\u001b[0m:\u001b[36mwith_logging_block\u001b[0m:\u001b[36m34\u001b[0m - \u001b[1mSTARTING BLOCK: Fetching Project Details in the blockchain\u001b[0m\n",
      "\u001b[32m2025-01-15 21:01:15.172\u001b[0m | \u001b[1mINFO    \u001b[0m | \u001b[36msuper_helper\u001b[0m:\u001b[36mwith_logging_block\u001b[0m:\u001b[36m35\u001b[0m - \u001b[1m==================================================\u001b[0m\n",
      "\u001b[32m2025-01-15 21:01:15.198\u001b[0m | \u001b[1mINFO    \u001b[0m | \u001b[36msuper_helper\u001b[0m:\u001b[36mprocessing_search_results\u001b[0m:\u001b[36m85\u001b[0m - \u001b[1mFetched project details for 55943@test: { \"admin@test\" : { \"file_1\" : \"QmUq29KRwpTdvScB5oYzEDobDHyb4N1f9eaZXm4VaMCgiW, QmcG2x9U1YcRTB4zMob5QgwZDJWJLohYF25zNEeNJubzQf\", \"linked_user\" : \"epic_fermi@test\", \"project_metadata_cid\" : \"QmaoBJmPjbWqq6j949e5yxoADH66WSKpJX6QAyHakCsT5D\" } }\u001b[0m\n",
      "\u001b[32m2025-01-15 21:01:15.200\u001b[0m | \u001b[1mINFO    \u001b[0m | \u001b[36msuper_helper\u001b[0m:\u001b[36mwith_logging_block\u001b[0m:\u001b[36m41\u001b[0m - \u001b[1mCOMPLETED BLOCK: Fetching Project Details in the blockchain\u001b[0m\n",
      "\u001b[32m2025-01-15 21:01:15.201\u001b[0m | \u001b[1mINFO    \u001b[0m | \u001b[36msuper_helper\u001b[0m:\u001b[36mwith_logging_block\u001b[0m:\u001b[36m42\u001b[0m - \u001b[1m--------------------------------------------------\n",
      "\u001b[0m\n",
      "\u001b[32m2025-01-15 21:01:15.203\u001b[0m | \u001b[1mINFO    \u001b[0m | \u001b[36msuper_helper\u001b[0m:\u001b[36mwith_logging_block\u001b[0m:\u001b[36m33\u001b[0m - \u001b[1m\n",
      "==================================================\u001b[0m\n",
      "\u001b[32m2025-01-15 21:01:15.205\u001b[0m | \u001b[1mINFO    \u001b[0m | \u001b[36msuper_helper\u001b[0m:\u001b[36mwith_logging_block\u001b[0m:\u001b[36m34\u001b[0m - \u001b[1mSTARTING BLOCK: JSONifying the Project Details\u001b[0m\n",
      "\u001b[32m2025-01-15 21:01:15.206\u001b[0m | \u001b[1mINFO    \u001b[0m | \u001b[36msuper_helper\u001b[0m:\u001b[36mwith_logging_block\u001b[0m:\u001b[36m35\u001b[0m - \u001b[1m==================================================\u001b[0m\n",
      "\u001b[32m2025-01-15 21:01:15.207\u001b[0m | \u001b[1mINFO    \u001b[0m | \u001b[36msuper_helper\u001b[0m:\u001b[36mprocessing_search_results\u001b[0m:\u001b[36m91\u001b[0m - \u001b[1mParsed blockchain data: {'admin@test': {'file_1': 'QmUq29KRwpTdvScB5oYzEDobDHyb4N1f9eaZXm4VaMCgiW, QmcG2x9U1YcRTB4zMob5QgwZDJWJLohYF25zNEeNJubzQf', 'linked_user': 'epic_fermi@test', 'project_metadata_cid': 'QmaoBJmPjbWqq6j949e5yxoADH66WSKpJX6QAyHakCsT5D'}}\u001b[0m\n",
      "\u001b[32m2025-01-15 21:01:15.208\u001b[0m | \u001b[1mINFO    \u001b[0m | \u001b[36msuper_helper\u001b[0m:\u001b[36mwith_logging_block\u001b[0m:\u001b[36m41\u001b[0m - \u001b[1mCOMPLETED BLOCK: JSONifying the Project Details\u001b[0m\n",
      "\u001b[32m2025-01-15 21:01:15.209\u001b[0m | \u001b[1mINFO    \u001b[0m | \u001b[36msuper_helper\u001b[0m:\u001b[36mwith_logging_block\u001b[0m:\u001b[36m42\u001b[0m - \u001b[1m--------------------------------------------------\n",
      "\u001b[0m\n",
      "\u001b[32m2025-01-15 21:01:15.211\u001b[0m | \u001b[1mINFO    \u001b[0m | \u001b[36msuper_helper\u001b[0m:\u001b[36mwith_logging_block\u001b[0m:\u001b[36m33\u001b[0m - \u001b[1m\n",
      "==================================================\u001b[0m\n",
      "\u001b[32m2025-01-15 21:01:15.212\u001b[0m | \u001b[1mINFO    \u001b[0m | \u001b[36msuper_helper\u001b[0m:\u001b[36mwith_logging_block\u001b[0m:\u001b[36m34\u001b[0m - \u001b[1mSTARTING BLOCK: Validating File CID\u001b[0m\n",
      "\u001b[32m2025-01-15 21:01:15.213\u001b[0m | \u001b[1mINFO    \u001b[0m | \u001b[36msuper_helper\u001b[0m:\u001b[36mwith_logging_block\u001b[0m:\u001b[36m35\u001b[0m - \u001b[1m==================================================\u001b[0m\n",
      "\u001b[32m2025-01-15 21:01:15.215\u001b[0m | \u001b[1mINFO    \u001b[0m | \u001b[36msuper_helper\u001b[0m:\u001b[36mfetch_project_details\u001b[0m:\u001b[36m402\u001b[0m - \u001b[1mValidating and fetching details for CID: QmUq29KRwpTdvScB5oYzEDobDHyb4N1f9eaZXm4VaMCgiW\u001b[0m\n",
      "\u001b[32m2025-01-15 21:01:15.215\u001b[0m | \u001b[1mINFO    \u001b[0m | \u001b[36msuper_helper\u001b[0m:\u001b[36mfetch_project_details\u001b[0m:\u001b[36m410\u001b[0m - \u001b[1mFile CID QmUq29KRwpTdvScB5oYzEDobDHyb4N1f9eaZXm4VaMCgiW found under file_1.\u001b[0m\n",
      "\u001b[32m2025-01-15 21:01:15.217\u001b[0m | \u001b[1mINFO    \u001b[0m | \u001b[36msuper_helper\u001b[0m:\u001b[36mprocessing_search_results\u001b[0m:\u001b[36m99\u001b[0m - \u001b[1mValidation Result for 55943@test: {'is_valid': True, 'project_metadata_cid': 'QmaoBJmPjbWqq6j949e5yxoADH66WSKpJX6QAyHakCsT5D', 'linked_user': 'epic_fermi@test'}\u001b[0m\n",
      "\u001b[32m2025-01-15 21:01:15.218\u001b[0m | \u001b[1mINFO    \u001b[0m | \u001b[36msuper_helper\u001b[0m:\u001b[36mwith_logging_block\u001b[0m:\u001b[36m41\u001b[0m - \u001b[1mCOMPLETED BLOCK: Validating File CID\u001b[0m\n",
      "\u001b[32m2025-01-15 21:01:15.220\u001b[0m | \u001b[1mINFO    \u001b[0m | \u001b[36msuper_helper\u001b[0m:\u001b[36mwith_logging_block\u001b[0m:\u001b[36m42\u001b[0m - \u001b[1m--------------------------------------------------\n",
      "\u001b[0m\n",
      "\u001b[32m2025-01-15 21:01:15.221\u001b[0m | \u001b[1mINFO    \u001b[0m | \u001b[36msuper_helper\u001b[0m:\u001b[36mwith_logging_block\u001b[0m:\u001b[36m33\u001b[0m - \u001b[1m\n",
      "==================================================\u001b[0m\n",
      "\u001b[32m2025-01-15 21:01:15.223\u001b[0m | \u001b[1mINFO    \u001b[0m | \u001b[36msuper_helper\u001b[0m:\u001b[36mwith_logging_block\u001b[0m:\u001b[36m34\u001b[0m - \u001b[1mSTARTING BLOCK: Processing Project Metadata\u001b[0m\n",
      "\u001b[32m2025-01-15 21:01:15.224\u001b[0m | \u001b[1mINFO    \u001b[0m | \u001b[36msuper_helper\u001b[0m:\u001b[36mwith_logging_block\u001b[0m:\u001b[36m35\u001b[0m - \u001b[1m==================================================\u001b[0m\n",
      "\u001b[32m2025-01-15 21:01:15.231\u001b[0m | \u001b[1mINFO    \u001b[0m | \u001b[36msuper_helper\u001b[0m:\u001b[36mprocessing_search_results\u001b[0m:\u001b[36m111\u001b[0m - \u001b[1mDownloaded project metadata: {'@context': {'dc': 'http://purl.org/dc/terms/', 'schema': 'http://schema.org/'}, '@type': 'schema:ResearchProject', 'dc:abstract': 'This study aims to investigate the effects of deforestation on green transportation and propose strategies for improvement.', 'schema:endDate': '2028-09-24', 'schema:funding': {'@type': 'schema:Organization', 'schema:name': 'Asian Development Bank'}, 'schema:keywords': ['deforestation', 'green transportation', 'digital transformation'], 'schema:location': {'@type': 'schema:Place', 'schema:name': 'Berlin, Germany'}, 'schema:name': 'Exploring the Effects of deforestation on green transportation', 'schema:startDate': '2020-09-30'}\u001b[0m\n",
      "\u001b[32m2025-01-15 21:01:15.233\u001b[0m | \u001b[1mINFO    \u001b[0m | \u001b[36msuper_helper\u001b[0m:\u001b[36mwith_logging_block\u001b[0m:\u001b[36m41\u001b[0m - \u001b[1mCOMPLETED BLOCK: Processing Project Metadata\u001b[0m\n",
      "\u001b[32m2025-01-15 21:01:15.234\u001b[0m | \u001b[1mINFO    \u001b[0m | \u001b[36msuper_helper\u001b[0m:\u001b[36mwith_logging_block\u001b[0m:\u001b[36m42\u001b[0m - \u001b[1m--------------------------------------------------\n",
      "\u001b[0m\n",
      "\u001b[32m2025-01-15 21:01:15.236\u001b[0m | \u001b[1mINFO    \u001b[0m | \u001b[36msuper_helper\u001b[0m:\u001b[36mwith_logging_block\u001b[0m:\u001b[36m33\u001b[0m - \u001b[1m\n",
      "==================================================\u001b[0m\n",
      "\u001b[32m2025-01-15 21:01:15.238\u001b[0m | \u001b[1mINFO    \u001b[0m | \u001b[36msuper_helper\u001b[0m:\u001b[36mwith_logging_block\u001b[0m:\u001b[36m34\u001b[0m - \u001b[1mSTARTING BLOCK: Processing Linked User: epic_fermi@test\u001b[0m\n",
      "\u001b[32m2025-01-15 21:01:15.239\u001b[0m | \u001b[1mINFO    \u001b[0m | \u001b[36msuper_helper\u001b[0m:\u001b[36mwith_logging_block\u001b[0m:\u001b[36m35\u001b[0m - \u001b[1m==================================================\u001b[0m\n",
      "\u001b[32m2025-01-15 21:01:15.264\u001b[0m | \u001b[1mINFO    \u001b[0m | \u001b[36msuper_helper\u001b[0m:\u001b[36mprocessing_search_results\u001b[0m:\u001b[36m126\u001b[0m - \u001b[1mDownloaded user metadata: {'@type': 'foaf:Person', 'foaf:holdsAccount': {'schema:identifier': 'epic_fermi@test', 'schema:publicKey': 'dceb1bbf902a61b328549d93c16ab3ad4f2f269360af9ceba3068f52ef1bd933', 'schema:roleName': 'author'}, 'foaf:mbox': 'epic_fermi@email.com', 'foaf:name': 'Epic Fermi', 'foaf:organization': {'@type': 'foaf:Organization', 'foaf:name': 'City University of New York, Medgar Evers College'}, 'schema:identifier': {'@type': 'PropertyValue', 'propertyID': 'ORCID', 'value': '1186-0130-7997-X'}}\u001b[0m\n",
      "\u001b[32m2025-01-15 21:01:15.266\u001b[0m | \u001b[1mINFO    \u001b[0m | \u001b[36msuper_helper\u001b[0m:\u001b[36mwith_logging_block\u001b[0m:\u001b[36m41\u001b[0m - \u001b[1mCOMPLETED BLOCK: Processing Linked User: epic_fermi@test\u001b[0m\n",
      "\u001b[32m2025-01-15 21:01:15.268\u001b[0m | \u001b[1mINFO    \u001b[0m | \u001b[36msuper_helper\u001b[0m:\u001b[36mwith_logging_block\u001b[0m:\u001b[36m42\u001b[0m - \u001b[1m--------------------------------------------------\n",
      "\u001b[0m\n",
      "\u001b[32m2025-01-15 21:01:15.269\u001b[0m | \u001b[1mINFO    \u001b[0m | \u001b[36msuper_helper\u001b[0m:\u001b[36mwith_logging_block\u001b[0m:\u001b[36m33\u001b[0m - \u001b[1m\n",
      "==================================================\u001b[0m\n",
      "\u001b[32m2025-01-15 21:01:15.271\u001b[0m | \u001b[1mINFO    \u001b[0m | \u001b[36msuper_helper\u001b[0m:\u001b[36mwith_logging_block\u001b[0m:\u001b[36m34\u001b[0m - \u001b[1mSTARTING BLOCK: Processing Metadata CID\u001b[0m\n",
      "\u001b[32m2025-01-15 21:01:15.272\u001b[0m | \u001b[1mINFO    \u001b[0m | \u001b[36msuper_helper\u001b[0m:\u001b[36mwith_logging_block\u001b[0m:\u001b[36m35\u001b[0m - \u001b[1m==================================================\u001b[0m\n",
      "\u001b[32m2025-01-15 21:01:15.279\u001b[0m | \u001b[1mINFO    \u001b[0m | \u001b[36msuper_helper\u001b[0m:\u001b[36mdownload_file\u001b[0m:\u001b[36m145\u001b[0m - \u001b[1mCleaned file name: COVID19-MLSF--A-multi-task-learning-based-stock-market_2023_Expert-Systems-w.pdf\u001b[0m\n",
      "\u001b[32m2025-01-15 21:01:15.281\u001b[0m | \u001b[1mINFO    \u001b[0m | \u001b[36msuper_helper\u001b[0m:\u001b[36mdownload_file\u001b[0m:\u001b[36m150\u001b[0m - \u001b[1mDownload directory ready: download/55943@test\u001b[0m\n",
      "\u001b[32m2025-01-15 21:01:15.282\u001b[0m | \u001b[1mINFO    \u001b[0m | \u001b[36msuper_helper\u001b[0m:\u001b[36mdownload_file\u001b[0m:\u001b[36m154\u001b[0m - \u001b[1mDownloading file to: download/55943@test/COVID19-MLSF--A-multi-task-learning-based-stock-market_2023_Expert-Systems-w.pdf\u001b[0m\n",
      "\u001b[32m2025-01-15 21:01:15.329\u001b[0m | \u001b[1mINFO    \u001b[0m | \u001b[36msuper_helper\u001b[0m:\u001b[36mprocessing_search_results\u001b[0m:\u001b[36m135\u001b[0m - \u001b[1mDownloaded file metadata: {'Content-Length': '4016043', 'Content-Type': 'application/pdf', 'CreationDate--Text': '7th February 2023', 'CrossMarkDomains[1]': 'elsevier.com', 'CrossMarkDomains[2]': 'sciencedirect.com', 'CrossmarkDomainExclusive': 'true', 'CrossmarkMajorVersionDate': '2010-04-23', 'ElsevierWebPDFSpecifications': '7.0', 'X-TIKA:Parsed-By': ['org.apache.tika.parser.DefaultParser', 'org.apache.tika.parser.pdf.PDFParser'], 'X-TIKA:Parsed-By-Full-Set': ['org.apache.tika.parser.DefaultParser', 'org.apache.tika.parser.pdf.PDFParser'], 'X-TIKA:content_handler': 'ToTextContentHandler', 'X-TIKA:embedded_depth': '0', 'X-TIKA:parse_time_millis': '178', 'access_permission:assemble_document': 'true', 'access_permission:can_modify': 'true', 'access_permission:can_print': 'true', 'access_permission:can_print_degraded': 'true', 'access_permission:extract_content': 'true', 'access_permission:extract_for_accessibility': 'true', 'access_permission:fill_in_form': 'true', 'access_permission:modify_annotations': 'true', 'dc:creator': ['Chenxun Yuan', 'Xiang Ma', 'Hua Wang', 'Caiming Zhang', 'Xuemei Li'], 'dc:description': 'Expert Systems With Applications, 217 (2023) 119549. doi:10.1016/j.eswa.2023.119549', 'dc:format': 'application/pdf; version=1.7', 'dc:language': 'en-US', 'dc:subject': ['Stock market forecasting,COVID-19 pandemic,Multi-task learning,Feature fusion,K-nearest neighbor classifier', 'Expert Systems With Applications, 217 (2023) 119549. doi:10.1016/j.eswa.2023.119549'], 'dc:title': 'COVID19-MLSF: A multi-task learning-based stock market forecasting framework during the COVID-19 pandemic', 'dcterms:created': '2023-02-04T09:40:15Z', 'dcterms:modified': '2023-02-07T16:52:03Z', 'doi': '10.1016/j.eswa.2023.119549', 'meta:keyword': 'Stock market forecasting,COVID-19 pandemic,Multi-task learning,Feature fusion,K-nearest neighbor classifier', 'pdf:PDFVersion': '1.7', 'pdf:annotationSubtypes': 'Link', 'pdf:annotationTypes': 'null', 'pdf:charsPerPage': ['4308', '4046', '7115', '4551', '3567', '6426', '1218', '6119', '1896', '4055', '3517', '5861', '730', '833', '5274', '6307'], 'pdf:containsDamagedFont': 'false', 'pdf:containsNonEmbeddedFont': 'false', 'pdf:docinfo:created': '2023-02-04T09:40:15Z', 'pdf:docinfo:creator': 'Chenxun Yuan', 'pdf:docinfo:creator_tool': 'Elsevier', 'pdf:docinfo:custom:CreationDate--Text': '7th February 2023', 'pdf:docinfo:custom:CrossMarkDomains[1]': 'elsevier.com', 'pdf:docinfo:custom:CrossMarkDomains[2]': 'sciencedirect.com', 'pdf:docinfo:custom:CrossmarkDomainExclusive': 'true', 'pdf:docinfo:custom:CrossmarkMajorVersionDate': '2010-04-23', 'pdf:docinfo:custom:ElsevierWebPDFSpecifications': '7.0', 'pdf:docinfo:custom:doi': '10.1016/j.eswa.2023.119549', 'pdf:docinfo:custom:robots': 'noindex', 'pdf:docinfo:keywords': 'Stock market forecasting,COVID-19 pandemic,Multi-task learning,Feature fusion,K-nearest neighbor classifier', 'pdf:docinfo:modified': '2023-02-07T16:52:03Z', 'pdf:docinfo:producer': 'Acrobat Distiller 8.1.0 (Windows)', 'pdf:docinfo:subject': 'Expert Systems With Applications, 217 (2023) 119549. doi:10.1016/j.eswa.2023.119549', 'pdf:docinfo:title': 'COVID19-MLSF: A multi-task learning-based stock market forecasting framework during the COVID-19 pandemic', 'pdf:encrypted': 'false', 'pdf:hasCollection': 'false', 'pdf:hasMarkedContent': 'false', 'pdf:hasXFA': 'false', 'pdf:hasXMP': 'true', 'pdf:num3DAnnotations': '0', 'pdf:overallPercentageUnmappedUnicodeChars': '0.0', 'pdf:producer': 'Acrobat Distiller 8.1.0 (Windows)', 'pdf:totalUnmappedUnicodeChars': '0', 'pdf:unmappedUnicodeCharsPerPage': ['0', '0', '0', '0', '0', '0', '0', '0', '0', '0', '0', '0', '0', '0', '0', '0'], 'resourceName': \"b'COVID19-MLSF--A-multi-task-learning-based-stock-market_2023_Expert-Systems-w.pdf'\", 'robots': 'noindex', 'xmp:CreateDate': '2023-02-04T09:40:15Z', 'xmp:CreatorTool': 'Elsevier', 'xmp:MetadataDate': '2023-02-07T16:52:03Z', 'xmp:ModifyDate': '2023-02-07T16:52:03Z', 'xmpMM:DocumentID': 'uuid:1b499bed-4ce8-4c0c-b682-0d58baae1cbe', 'xmpTPg:NPages': '16'}\u001b[0m\n",
      "\u001b[32m2025-01-15 21:01:15.331\u001b[0m | \u001b[1mINFO    \u001b[0m | \u001b[36msuper_helper\u001b[0m:\u001b[36mwith_logging_block\u001b[0m:\u001b[36m41\u001b[0m - \u001b[1mCOMPLETED BLOCK: Processing Metadata CID\u001b[0m\n",
      "\u001b[32m2025-01-15 21:01:15.332\u001b[0m | \u001b[1mINFO    \u001b[0m | \u001b[36msuper_helper\u001b[0m:\u001b[36mwith_logging_block\u001b[0m:\u001b[36m42\u001b[0m - \u001b[1m--------------------------------------------------\n",
      "\u001b[0m\n",
      "\u001b[32m2025-01-15 21:01:15.334\u001b[0m | \u001b[1mINFO    \u001b[0m | \u001b[36msuper_helper\u001b[0m:\u001b[36mwith_logging_block\u001b[0m:\u001b[36m41\u001b[0m - \u001b[1mCOMPLETED BLOCK: Processing Result for Project ID: 55943@test\u001b[0m\n",
      "\u001b[32m2025-01-15 21:01:15.335\u001b[0m | \u001b[1mINFO    \u001b[0m | \u001b[36msuper_helper\u001b[0m:\u001b[36mwith_logging_block\u001b[0m:\u001b[36m42\u001b[0m - \u001b[1m--------------------------------------------------\n",
      "\u001b[0m\n",
      "\u001b[32m2025-01-15 21:01:15.337\u001b[0m | \u001b[1mINFO    \u001b[0m | \u001b[36msuper_helper\u001b[0m:\u001b[36mwith_logging_block\u001b[0m:\u001b[36m41\u001b[0m - \u001b[1mCOMPLETED BLOCK: Processing Search Results\u001b[0m\n",
      "\u001b[32m2025-01-15 21:01:15.338\u001b[0m | \u001b[1mINFO    \u001b[0m | \u001b[36msuper_helper\u001b[0m:\u001b[36mwith_logging_block\u001b[0m:\u001b[36m42\u001b[0m - \u001b[1m--------------------------------------------------\n",
      "\u001b[0m\n"
     ]
    }
   ],
   "source": [
    "processing_search_results(search_results, download_path)"
   ]
  },
  {
   "cell_type": "code",
   "execution_count": null,
   "id": "4db3a01a-3129-43b4-9444-b8e767a8f4ae",
   "metadata": {},
   "outputs": [],
   "source": []
  }
 ],
 "metadata": {
  "kernelspec": {
   "display_name": "Python 3 (ipykernel)",
   "language": "python",
   "name": "python3"
  },
  "language_info": {
   "codemirror_mode": {
    "name": "ipython",
    "version": 3
   },
   "file_extension": ".py",
   "mimetype": "text/x-python",
   "name": "python",
   "nbconvert_exporter": "python",
   "pygments_lexer": "ipython3",
   "version": "3.9.21"
  }
 },
 "nbformat": 4,
 "nbformat_minor": 5
}
