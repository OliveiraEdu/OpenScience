{
 "cells": [
  {
   "cell_type": "markdown",
   "id": "a09fbc07-8d81-4bd0-b0f3-922e3b0b6d23",
   "metadata": {},
   "source": [
    "# 4 - Indexing, searching and validation"
   ]
  },
  {
   "cell_type": "markdown",
   "id": "c6d891c6-2f11-49c5-8d30-ed0fa77567b2",
   "metadata": {},
   "source": [
    "Load helper modules"
   ]
  },
  {
   "cell_type": "code",
   "execution_count": 1,
   "id": "d4a1c5a2-75c3-482e-999c-70eb25226078",
   "metadata": {
    "editable": true,
    "slideshow": {
     "slide_type": ""
    },
    "tags": []
   },
   "outputs": [],
   "source": [
    "from iroha_helper import *\n",
    "from new_helper import *\n",
    "from super_helper import *\n",
    "from loguru import logger"
   ]
  },
  {
   "cell_type": "markdown",
   "id": "68a70b05-1041-43c6-994c-d06c987a502d",
   "metadata": {},
   "source": [
    "Sets variables and values"
   ]
  },
  {
   "cell_type": "code",
   "execution_count": 2,
   "id": "cad05321",
   "metadata": {},
   "outputs": [],
   "source": [
    "# Index for objects in both user account and project account JSON-LDs.\n",
    "json_ld_index = 2\n",
    "\n",
    "# Local path for file upload\n",
    "directory_path = \"upload\"\n",
    "\n",
    "# Directory for file downloads\n",
    "download_path = \"download\"\n",
    "\n",
    "#for the index system\n",
    "index_path = \"indexdir\"\n",
    "index = open_dir(index_path)\n"
   ]
  },
  {
   "cell_type": "markdown",
   "id": "5c444196-6d75-4a0a-b135-c284648a4885",
   "metadata": {},
   "source": [
    "Load `project_id` from Notebook 3"
   ]
  },
  {
   "cell_type": "code",
   "execution_count": 3,
   "id": "53802dfc-9441-44c1-97a2-78fdcb7501a0",
   "metadata": {},
   "outputs": [
    {
     "name": "stderr",
     "output_type": "stream",
     "text": [
      "\u001b[32m2025-01-14 22:39:22.644\u001b[0m | \u001b[1mINFO    \u001b[0m | \u001b[36m__main__\u001b[0m:\u001b[36m<module>\u001b[0m:\u001b[36m7\u001b[0m - \u001b[1m60032@test\u001b[0m\n"
     ]
    }
   ],
   "source": [
    "import pickle\n",
    "\n",
    "# Load variable_a from the file\n",
    "with open(\"temp/project_id.pkl\", \"rb\") as f:\n",
    "    project_id = pickle.load(f)\n",
    "\n",
    "logger.info(project_id)  # Outputs: Hello from Notebook A!\n"
   ]
  },
  {
   "cell_type": "code",
   "execution_count": 4,
   "id": "f06a221d",
   "metadata": {},
   "outputs": [
    {
     "name": "stderr",
     "output_type": "stream",
     "text": [
      "\u001b[32m2025-01-14 22:39:22.696\u001b[0m | \u001b[1mINFO    \u001b[0m | \u001b[36m__main__\u001b[0m:\u001b[36m<module>\u001b[0m:\u001b[36m3\u001b[0m - \u001b[1m<Schema: ['abstract', 'created', 'creator', 'date', 'description', 'file_cid', 'format', 'full_text', 'language', 'metadata_cid', 'modified', 'project_id', 'publisher', 'subject', 'title']>\u001b[0m\n",
      "\u001b[32m2025-01-14 22:39:22.700\u001b[0m | \u001b[1mINFO    \u001b[0m | \u001b[36mnew_helper\u001b[0m:\u001b[36mprocess_files\u001b[0m:\u001b[36m118\u001b[0m - \u001b[1mIndexing file:  upload/Munafò et al. - 2022 - The reproducibility debate is an opportunity, not .pdf\u001b[0m\n",
      "\u001b[32m2025-01-14 22:39:22.849\u001b[0m | \u001b[1mINFO    \u001b[0m | \u001b[36miroha_helper\u001b[0m:\u001b[36mtracer\u001b[0m:\u001b[36m244\u001b[0m - \u001b[1m\tEntering \"create_contract\"\u001b[0m\n",
      "\u001b[32m2025-01-14 22:39:22.860\u001b[0m | \u001b[1mINFO    \u001b[0m | \u001b[36miroha_helper\u001b[0m:\u001b[36mcreate_contract\u001b[0m:\u001b[36m263\u001b[0m - \u001b[1m('STATELESS_VALIDATION_SUCCESS', 1, 0)\u001b[0m\n",
      "\u001b[32m2025-01-14 22:39:22.861\u001b[0m | \u001b[1mINFO    \u001b[0m | \u001b[36miroha_helper\u001b[0m:\u001b[36mcreate_contract\u001b[0m:\u001b[36m263\u001b[0m - \u001b[1m('ENOUGH_SIGNATURES_COLLECTED', 9, 0)\u001b[0m\n",
      "\u001b[32m2025-01-14 22:39:25.074\u001b[0m | \u001b[1mINFO    \u001b[0m | \u001b[36miroha_helper\u001b[0m:\u001b[36mcreate_contract\u001b[0m:\u001b[36m263\u001b[0m - \u001b[1m('STATEFUL_VALIDATION_SUCCESS', 3, 0)\u001b[0m\n",
      "\u001b[32m2025-01-14 22:39:25.105\u001b[0m | \u001b[1mINFO    \u001b[0m | \u001b[36miroha_helper\u001b[0m:\u001b[36mcreate_contract\u001b[0m:\u001b[36m263\u001b[0m - \u001b[1m('COMMITTED', 5, 0)\u001b[0m\n",
      "\u001b[32m2025-01-14 22:39:25.107\u001b[0m | \u001b[1mINFO    \u001b[0m | \u001b[36miroha_helper\u001b[0m:\u001b[36mtracer\u001b[0m:\u001b[36m246\u001b[0m - \u001b[1m\tLeaving \"create_contract\"\u001b[0m\n",
      "\u001b[32m2025-01-14 22:39:25.109\u001b[0m | \u001b[1mINFO    \u001b[0m | \u001b[36mintegration_helpers\u001b[0m:\u001b[36mtracer\u001b[0m:\u001b[36m34\u001b[0m - \u001b[1m\tEntering \"get_engine_receipts_address\"\u001b[0m\n",
      "\u001b[32m2025-01-14 22:39:25.128\u001b[0m | \u001b[1mINFO    \u001b[0m | \u001b[36mintegration_helpers\u001b[0m:\u001b[36mtracer\u001b[0m:\u001b[36m36\u001b[0m - \u001b[1m\tLeaving \"get_engine_receipts_address\"\u001b[0m\n",
      "\u001b[32m2025-01-14 22:39:25.130\u001b[0m | \u001b[1mINFO    \u001b[0m | \u001b[36miroha_helper\u001b[0m:\u001b[36mtracer\u001b[0m:\u001b[36m244\u001b[0m - \u001b[1m\tEntering \"set_account_detail\"\u001b[0m\n",
      "\u001b[32m2025-01-14 22:39:25.151\u001b[0m | \u001b[1mINFO    \u001b[0m | \u001b[36miroha_helper\u001b[0m:\u001b[36mset_account_detail\u001b[0m:\u001b[36m296\u001b[0m - \u001b[1mNone\u001b[0m\n",
      "\u001b[32m2025-01-14 22:39:25.153\u001b[0m | \u001b[1mINFO    \u001b[0m | \u001b[36miroha_helper\u001b[0m:\u001b[36mset_account_detail\u001b[0m:\u001b[36m298\u001b[0m - \u001b[1m('ENOUGH_SIGNATURES_COLLECTED', 9, 0)\u001b[0m\n",
      "\u001b[32m2025-01-14 22:39:28.129\u001b[0m | \u001b[1mINFO    \u001b[0m | \u001b[36miroha_helper\u001b[0m:\u001b[36mset_account_detail\u001b[0m:\u001b[36m298\u001b[0m - \u001b[1m('STATEFUL_VALIDATION_SUCCESS', 3, 0)\u001b[0m\n",
      "\u001b[32m2025-01-14 22:39:28.155\u001b[0m | \u001b[1mINFO    \u001b[0m | \u001b[36miroha_helper\u001b[0m:\u001b[36mset_account_detail\u001b[0m:\u001b[36m298\u001b[0m - \u001b[1m('COMMITTED', 5, 0)\u001b[0m\n",
      "\u001b[32m2025-01-14 22:39:28.157\u001b[0m | \u001b[1mINFO    \u001b[0m | \u001b[36miroha_helper\u001b[0m:\u001b[36mtracer\u001b[0m:\u001b[36m246\u001b[0m - \u001b[1m\tLeaving \"set_account_detail\"\u001b[0m\n",
      "\u001b[32m2025-01-14 22:39:28.160\u001b[0m | \u001b[1mINFO    \u001b[0m | \u001b[36msuper_helper\u001b[0m:\u001b[36msetup_index\u001b[0m:\u001b[36m409\u001b[0m - \u001b[1mOpened existing index.\u001b[0m\n",
      "\u001b[32m2025-01-14 22:39:28.256\u001b[0m | \u001b[1mINFO    \u001b[0m | \u001b[36msuper_helper\u001b[0m:\u001b[36mindex_metadata\u001b[0m:\u001b[36m212\u001b[0m - \u001b[1mMetadata indexed successfully: QmWmkSqnkH1XzrvDckTQ14K4HRnVKwsVfTVyMtsf9NnNeJ\u001b[0m\n"
     ]
    }
   ],
   "source": [
    "schema = get_schema() #super_helper.py\n",
    "\n",
    "logger.info(schema)\n",
    "\n",
    "processed_data = process_files(directory_path, project_id, schema) #new_helper.py\n",
    " \n",
    "    "
   ]
  },
  {
   "cell_type": "code",
   "execution_count": 5,
   "id": "3a01a3b9",
   "metadata": {},
   "outputs": [
    {
     "name": "stderr",
     "output_type": "stream",
     "text": [
      "\u001b[32m2025-01-14 22:39:28.266\u001b[0m | \u001b[1mINFO    \u001b[0m | \u001b[36m__main__\u001b[0m:\u001b[36m<module>\u001b[0m:\u001b[36m2\u001b[0m - \u001b[1m60032@test, { \"admin@test\" : { \"file_1\" : \"QmdiRawzVNUiB28ENKQ7WefeFLEJ1xMjsJjwtHL2jnJ9xW, QmWmkSqnkH1XzrvDckTQ14K4HRnVKwsVfTVyMtsf9NnNeJ\", \"linked_user\" : \"jolly_carson@test\", \"project_metadata_cid\" : \"QmUeLA7dzwBXgBhMu3xZu2cvMSM6LeBBZVoWHNZmbjfjU5\" } }\u001b[0m\n"
     ]
    }
   ],
   "source": [
    "account_detail = get_account_detail(project_id)\n",
    "logger.info(f\"{project_id}, {account_detail}\")\n"
   ]
  },
  {
   "cell_type": "code",
   "execution_count": 6,
   "id": "192bca4c-e506-414d-aee5-f9a58ff3105b",
   "metadata": {},
   "outputs": [
    {
     "name": "stderr",
     "output_type": "stream",
     "text": [
      "\u001b[32m2025-01-14 22:39:28.320\u001b[0m | \u001b[1mINFO    \u001b[0m | \u001b[36msuper_helper\u001b[0m:\u001b[36msearch_index\u001b[0m:\u001b[36m269\u001b[0m - \u001b[1mStarting keyword search...\u001b[0m\n",
      "\u001b[32m2025-01-14 22:39:28.323\u001b[0m | \u001b[1mINFO    \u001b[0m | \u001b[36msuper_helper\u001b[0m:\u001b[36msearch_index\u001b[0m:\u001b[36m270\u001b[0m - \u001b[1mKeyword: 'paper'\u001b[0m\n",
      "\u001b[32m2025-01-14 22:39:28.354\u001b[0m | \u001b[1mINFO    \u001b[0m | \u001b[36msuper_helper\u001b[0m:\u001b[36mwith_logging_block\u001b[0m:\u001b[36m33\u001b[0m - \u001b[1m\n",
      "==================================================\u001b[0m\n",
      "\u001b[32m2025-01-14 22:39:28.355\u001b[0m | \u001b[1mINFO    \u001b[0m | \u001b[36msuper_helper\u001b[0m:\u001b[36mwith_logging_block\u001b[0m:\u001b[36m34\u001b[0m - \u001b[1mSTARTING BLOCK: Keyword Search\u001b[0m\n",
      "\u001b[32m2025-01-14 22:39:28.357\u001b[0m | \u001b[1mINFO    \u001b[0m | \u001b[36msuper_helper\u001b[0m:\u001b[36mwith_logging_block\u001b[0m:\u001b[36m35\u001b[0m - \u001b[1m==================================================\u001b[0m\n",
      "\u001b[32m2025-01-14 22:39:28.358\u001b[0m | \u001b[1mINFO    \u001b[0m | \u001b[36msuper_helper\u001b[0m:\u001b[36msearch_index\u001b[0m:\u001b[36m288\u001b[0m - \u001b[1mTotal search results found for keyword 'paper': 2\u001b[0m\n",
      "\u001b[32m2025-01-14 22:39:28.359\u001b[0m | \u001b[1mINFO    \u001b[0m | \u001b[36msuper_helper\u001b[0m:\u001b[36msearch_index\u001b[0m:\u001b[36m291\u001b[0m - \u001b[1mListing all search results:\u001b[0m\n",
      "\u001b[32m2025-01-14 22:39:28.362\u001b[0m | \u001b[1mINFO    \u001b[0m | \u001b[36msuper_helper\u001b[0m:\u001b[36msearch_index\u001b[0m:\u001b[36m295\u001b[0m - \u001b[1mResult 1: Project ID: 55943@test, File CID: QmUq29KRwpTdvScB5oYzEDobDHyb4N1f9eaZXm4VaMCgiW\u001b[0m\n",
      "\u001b[32m2025-01-14 22:39:28.365\u001b[0m | \u001b[1mINFO    \u001b[0m | \u001b[36msuper_helper\u001b[0m:\u001b[36msearch_index\u001b[0m:\u001b[36m295\u001b[0m - \u001b[1mResult 2: Project ID: 76811@test, File CID: QmXh37WXcrLXkJX2cAPjbPdKZ2cxJXD58XX6eU1Zc41ka4\u001b[0m\n",
      "\u001b[32m2025-01-14 22:39:28.366\u001b[0m | \u001b[1mINFO    \u001b[0m | \u001b[36msuper_helper\u001b[0m:\u001b[36msearch_index\u001b[0m:\u001b[36m298\u001b[0m - \u001b[1mFull search results for keyword 'paper' (excluding 'full_text'):\u001b[0m\n",
      "\u001b[32m2025-01-14 22:39:28.369\u001b[0m | \u001b[1mINFO    \u001b[0m | \u001b[36msuper_helper\u001b[0m:\u001b[36msearch_index\u001b[0m:\u001b[36m301\u001b[0m - \u001b[1mResult 1: {\n",
      "  \"creator\": \"chenxun yuan, xiang ma, hua wang, caiming zhang, xuemei li\",\n",
      "  \"description\": \"expert systems with applications, 217 (2023) 119549. doi:10.1016/j.eswa.2023.119549\",\n",
      "  \"subject\": \"stock market forecasting,covid-19 pandemic,multi-task learning,feature fusion,k-nearest neighbor classifier, expert systems with applications, 217 (2023) 119549. doi:10.1016/j.eswa.2023.119549\",\n",
      "  \"created\": \"2023-02-04t09:40:15z\",\n",
      "  \"date\": \"\",\n",
      "  \"project_id\": \"55943@test\",\n",
      "  \"language\": \"en-us\",\n",
      "  \"title\": \"covid19-mlsf: a multi-task learning-based stock market forecasting framework during the covid-19 pandemic\",\n",
      "  \"abstract\": \"\",\n",
      "  \"file_cid\": \"QmUq29KRwpTdvScB5oYzEDobDHyb4N1f9eaZXm4VaMCgiW\",\n",
      "  \"modified\": \"2023-02-07t16:52:03z\",\n",
      "  \"metadata_cid\": \"QmcG2x9U1YcRTB4zMob5QgwZDJWJLohYF25zNEeNJubzQf\",\n",
      "  \"publisher\": \"unknown\",\n",
      "  \"format\": \"application/pdf; version=1.7\"\n",
      "}\u001b[0m\n",
      "\u001b[32m2025-01-14 22:39:28.372\u001b[0m | \u001b[1mINFO    \u001b[0m | \u001b[36msuper_helper\u001b[0m:\u001b[36msearch_index\u001b[0m:\u001b[36m301\u001b[0m - \u001b[1mResult 2: {\n",
      "  \"creator\": \"jiaqing kou\",\n",
      "  \"description\": \"\",\n",
      "  \"subject\": \"aeroacoustics,optimization design,amiet theory,machine learning,autoencoder, expert systems with applications, 217 (2023) 119513. doi:10.1016/j.eswa.2023.119513\",\n",
      "  \"created\": \"2023-02-04t09:40:15z\",\n",
      "  \"date\": \"\",\n",
      "  \"project_id\": \"76811@test\",\n",
      "  \"language\": \"en-us\",\n",
      "  \"title\": \"aeroacoustic airfoil shape optimization enhanced by autoencoders\",\n",
      "  \"abstract\": \"\",\n",
      "  \"file_cid\": \"QmXh37WXcrLXkJX2cAPjbPdKZ2cxJXD58XX6eU1Zc41ka4\",\n",
      "  \"modified\": \"2023-02-07t16:56:45z\",\n",
      "  \"metadata_cid\": \"QmVeo8M6iCZjrLmd7VPLSmkZ6FrEkM7b7kxb3deY8Fnuvn\",\n",
      "  \"publisher\": \"unknown\",\n",
      "  \"format\": \"application/pdf; version=1.7\"\n",
      "}\u001b[0m\n",
      "\u001b[32m2025-01-14 22:39:28.373\u001b[0m | \u001b[1mINFO    \u001b[0m | \u001b[36msuper_helper\u001b[0m:\u001b[36mwith_logging_block\u001b[0m:\u001b[36m41\u001b[0m - \u001b[1mCOMPLETED BLOCK: Keyword Search\u001b[0m\n",
      "\u001b[32m2025-01-14 22:39:28.375\u001b[0m | \u001b[1mINFO    \u001b[0m | \u001b[36msuper_helper\u001b[0m:\u001b[36mwith_logging_block\u001b[0m:\u001b[36m42\u001b[0m - \u001b[1m--------------------------------------------------\n",
      "\u001b[0m\n"
     ]
    }
   ],
   "source": [
    "# Perform a keyword search\n",
    "keyword = \"paper\"\n",
    "search_results, project_ids = search_index(index, keyword)\n"
   ]
  },
  {
   "attachments": {},
   "cell_type": "markdown",
   "id": "e1e9bcdd-2f1c-4323-a2c3-686cf3c58b82",
   "metadata": {},
   "source": [
    "With Reusable Helper Function for Block Separation and Tracing\n",
    "\n",
    "A helper function, with_logging_block, which accepts a block name, the code block to execute, and optional parameters for context-specific tracing.\n",
    "\n",
    "Cleanly separates each logical block, improving readability, modularity, and error tracing.\n",
    "\n",
    "Includes the output of the search results explicitly logged within the Keyword Search block. This will ensure all search results are printed for visibility and debugging purposes."
   ]
  },
  {
   "cell_type": "code",
   "execution_count": 7,
   "id": "7e5ce1ea-e61f-4e0e-99e0-d20acc8e6a20",
   "metadata": {},
   "outputs": [
    {
     "name": "stderr",
     "output_type": "stream",
     "text": [
      "\u001b[32m2025-01-14 22:39:28.418\u001b[0m | \u001b[1mINFO    \u001b[0m | \u001b[36msuper_helper\u001b[0m:\u001b[36mwith_logging_block\u001b[0m:\u001b[36m33\u001b[0m - \u001b[1m\n",
      "==================================================\u001b[0m\n",
      "\u001b[32m2025-01-14 22:39:28.420\u001b[0m | \u001b[1mINFO    \u001b[0m | \u001b[36msuper_helper\u001b[0m:\u001b[36mwith_logging_block\u001b[0m:\u001b[36m34\u001b[0m - \u001b[1mSTARTING BLOCK: Processing Search Results\u001b[0m\n",
      "\u001b[32m2025-01-14 22:39:28.421\u001b[0m | \u001b[1mINFO    \u001b[0m | \u001b[36msuper_helper\u001b[0m:\u001b[36mwith_logging_block\u001b[0m:\u001b[36m35\u001b[0m - \u001b[1m==================================================\u001b[0m\n",
      "\u001b[32m2025-01-14 22:39:28.422\u001b[0m | \u001b[1mINFO    \u001b[0m | \u001b[36msuper_helper\u001b[0m:\u001b[36mwith_logging_block\u001b[0m:\u001b[36m33\u001b[0m - \u001b[1m\n",
      "==================================================\u001b[0m\n",
      "\u001b[32m2025-01-14 22:39:28.423\u001b[0m | \u001b[1mINFO    \u001b[0m | \u001b[36msuper_helper\u001b[0m:\u001b[36mwith_logging_block\u001b[0m:\u001b[36m34\u001b[0m - \u001b[1mSTARTING BLOCK: Processing Result for Project ID: 55943@test\u001b[0m\n",
      "\u001b[32m2025-01-14 22:39:28.425\u001b[0m | \u001b[1mINFO    \u001b[0m | \u001b[36msuper_helper\u001b[0m:\u001b[36mwith_logging_block\u001b[0m:\u001b[36m35\u001b[0m - \u001b[1m==================================================\u001b[0m\n",
      "\u001b[32m2025-01-14 22:39:28.427\u001b[0m | \u001b[1mINFO    \u001b[0m | \u001b[36m__main__\u001b[0m:\u001b[36m<module>\u001b[0m:\u001b[36m12\u001b[0m - \u001b[1mFile CID: QmUq29KRwpTdvScB5oYzEDobDHyb4N1f9eaZXm4VaMCgiW\u001b[0m\n",
      "\u001b[32m2025-01-14 22:39:28.428\u001b[0m | \u001b[1mINFO    \u001b[0m | \u001b[36m__main__\u001b[0m:\u001b[36m<module>\u001b[0m:\u001b[36m13\u001b[0m - \u001b[1mMetadata CID: QmcG2x9U1YcRTB4zMob5QgwZDJWJLohYF25zNEeNJubzQf\u001b[0m\n",
      "\u001b[32m2025-01-14 22:39:28.430\u001b[0m | \u001b[1mINFO    \u001b[0m | \u001b[36msuper_helper\u001b[0m:\u001b[36mwith_logging_block\u001b[0m:\u001b[36m33\u001b[0m - \u001b[1m\n",
      "==================================================\u001b[0m\n",
      "\u001b[32m2025-01-14 22:39:28.432\u001b[0m | \u001b[1mINFO    \u001b[0m | \u001b[36msuper_helper\u001b[0m:\u001b[36mwith_logging_block\u001b[0m:\u001b[36m34\u001b[0m - \u001b[1mSTARTING BLOCK: Fetching Project Details\u001b[0m\n",
      "\u001b[32m2025-01-14 22:39:28.433\u001b[0m | \u001b[1mINFO    \u001b[0m | \u001b[36msuper_helper\u001b[0m:\u001b[36mwith_logging_block\u001b[0m:\u001b[36m35\u001b[0m - \u001b[1m==================================================\u001b[0m\n",
      "\u001b[32m2025-01-14 22:39:28.452\u001b[0m | \u001b[1mINFO    \u001b[0m | \u001b[36m__main__\u001b[0m:\u001b[36m<module>\u001b[0m:\u001b[36m21\u001b[0m - \u001b[1mFetched project details for 55943@test: { \"admin@test\" : { \"file_1\" : \"QmUq29KRwpTdvScB5oYzEDobDHyb4N1f9eaZXm4VaMCgiW, QmcG2x9U1YcRTB4zMob5QgwZDJWJLohYF25zNEeNJubzQf\", \"linked_user\" : \"epic_fermi@test\", \"project_metadata_cid\" : \"QmaoBJmPjbWqq6j949e5yxoADH66WSKpJX6QAyHakCsT5D\" } }\u001b[0m\n",
      "\u001b[32m2025-01-14 22:39:28.453\u001b[0m | \u001b[1mINFO    \u001b[0m | \u001b[36msuper_helper\u001b[0m:\u001b[36mwith_logging_block\u001b[0m:\u001b[36m41\u001b[0m - \u001b[1mCOMPLETED BLOCK: Fetching Project Details\u001b[0m\n",
      "\u001b[32m2025-01-14 22:39:28.455\u001b[0m | \u001b[1mINFO    \u001b[0m | \u001b[36msuper_helper\u001b[0m:\u001b[36mwith_logging_block\u001b[0m:\u001b[36m42\u001b[0m - \u001b[1m--------------------------------------------------\n",
      "\u001b[0m\n",
      "\u001b[32m2025-01-14 22:39:28.456\u001b[0m | \u001b[1mINFO    \u001b[0m | \u001b[36msuper_helper\u001b[0m:\u001b[36mwith_logging_block\u001b[0m:\u001b[36m33\u001b[0m - \u001b[1m\n",
      "==================================================\u001b[0m\n",
      "\u001b[32m2025-01-14 22:39:28.457\u001b[0m | \u001b[1mINFO    \u001b[0m | \u001b[36msuper_helper\u001b[0m:\u001b[36mwith_logging_block\u001b[0m:\u001b[36m34\u001b[0m - \u001b[1mSTARTING BLOCK: Parsing Blockchain Data\u001b[0m\n",
      "\u001b[32m2025-01-14 22:39:28.458\u001b[0m | \u001b[1mINFO    \u001b[0m | \u001b[36msuper_helper\u001b[0m:\u001b[36mwith_logging_block\u001b[0m:\u001b[36m35\u001b[0m - \u001b[1m==================================================\u001b[0m\n",
      "\u001b[32m2025-01-14 22:39:28.460\u001b[0m | \u001b[1mINFO    \u001b[0m | \u001b[36msuper_helper\u001b[0m:\u001b[36mwith_logging_block\u001b[0m:\u001b[36m41\u001b[0m - \u001b[1mCOMPLETED BLOCK: Parsing Blockchain Data\u001b[0m\n",
      "\u001b[32m2025-01-14 22:39:28.461\u001b[0m | \u001b[1mINFO    \u001b[0m | \u001b[36msuper_helper\u001b[0m:\u001b[36mwith_logging_block\u001b[0m:\u001b[36m42\u001b[0m - \u001b[1m--------------------------------------------------\n",
      "\u001b[0m\n"
     ]
    },
    {
     "name": "stderr",
     "output_type": "stream",
     "text": [
      "\u001b[32m2025-01-14 22:39:28.462\u001b[0m | \u001b[1mINFO    \u001b[0m | \u001b[36msuper_helper\u001b[0m:\u001b[36mwith_logging_block\u001b[0m:\u001b[36m33\u001b[0m - \u001b[1m\n",
      "==================================================\u001b[0m\n",
      "\u001b[32m2025-01-14 22:39:28.463\u001b[0m | \u001b[1mINFO    \u001b[0m | \u001b[36msuper_helper\u001b[0m:\u001b[36mwith_logging_block\u001b[0m:\u001b[36m34\u001b[0m - \u001b[1mSTARTING BLOCK: Validating File CID\u001b[0m\n",
      "\u001b[32m2025-01-14 22:39:28.465\u001b[0m | \u001b[1mINFO    \u001b[0m | \u001b[36msuper_helper\u001b[0m:\u001b[36mwith_logging_block\u001b[0m:\u001b[36m35\u001b[0m - \u001b[1m==================================================\u001b[0m\n",
      "\u001b[32m2025-01-14 22:39:28.466\u001b[0m | \u001b[1mINFO    \u001b[0m | \u001b[36msuper_helper\u001b[0m:\u001b[36mfetch_project_details\u001b[0m:\u001b[36m344\u001b[0m - \u001b[1mValidating and fetching details for CID: QmUq29KRwpTdvScB5oYzEDobDHyb4N1f9eaZXm4VaMCgiW\u001b[0m\n",
      "\u001b[32m2025-01-14 22:39:28.467\u001b[0m | \u001b[1mINFO    \u001b[0m | \u001b[36msuper_helper\u001b[0m:\u001b[36mfetch_project_details\u001b[0m:\u001b[36m352\u001b[0m - \u001b[1mFile CID QmUq29KRwpTdvScB5oYzEDobDHyb4N1f9eaZXm4VaMCgiW found under file_1.\u001b[0m\n",
      "\u001b[32m2025-01-14 22:39:28.469\u001b[0m | \u001b[1mINFO    \u001b[0m | \u001b[36m__main__\u001b[0m:\u001b[36m<module>\u001b[0m:\u001b[36m34\u001b[0m - \u001b[1mValidation Result for 55943@test: {'is_valid': True, 'project_metadata_cid': 'QmaoBJmPjbWqq6j949e5yxoADH66WSKpJX6QAyHakCsT5D', 'linked_user': 'epic_fermi@test'}\u001b[0m\n",
      "\u001b[32m2025-01-14 22:39:28.471\u001b[0m | \u001b[1mINFO    \u001b[0m | \u001b[36msuper_helper\u001b[0m:\u001b[36mwith_logging_block\u001b[0m:\u001b[36m41\u001b[0m - \u001b[1mCOMPLETED BLOCK: Validating File CID\u001b[0m\n",
      "\u001b[32m2025-01-14 22:39:28.472\u001b[0m | \u001b[1mINFO    \u001b[0m | \u001b[36msuper_helper\u001b[0m:\u001b[36mwith_logging_block\u001b[0m:\u001b[36m42\u001b[0m - \u001b[1m--------------------------------------------------\n",
      "\u001b[0m\n",
      "\u001b[32m2025-01-14 22:39:28.474\u001b[0m | \u001b[1mINFO    \u001b[0m | \u001b[36msuper_helper\u001b[0m:\u001b[36mwith_logging_block\u001b[0m:\u001b[36m33\u001b[0m - \u001b[1m\n",
      "==================================================\u001b[0m\n",
      "\u001b[32m2025-01-14 22:39:28.475\u001b[0m | \u001b[1mINFO    \u001b[0m | \u001b[36msuper_helper\u001b[0m:\u001b[36mwith_logging_block\u001b[0m:\u001b[36m34\u001b[0m - \u001b[1mSTARTING BLOCK: Processing Project Metadata\u001b[0m\n",
      "\u001b[32m2025-01-14 22:39:28.477\u001b[0m | \u001b[1mINFO    \u001b[0m | \u001b[36msuper_helper\u001b[0m:\u001b[36mwith_logging_block\u001b[0m:\u001b[36m35\u001b[0m - \u001b[1m==================================================\u001b[0m\n",
      "\u001b[32m2025-01-14 22:39:28.484\u001b[0m | \u001b[1mINFO    \u001b[0m | \u001b[36m__main__\u001b[0m:\u001b[36m<module>\u001b[0m:\u001b[36m46\u001b[0m - \u001b[1mDownloaded project metadata: {'@context': {'dc': 'http://purl.org/dc/terms/', 'schema': 'http://schema.org/'}, '@type': 'schema:ResearchProject', 'dc:abstract': 'This study aims to investigate the effects of deforestation on green transportation and propose strategies for improvement.', 'schema:endDate': '2028-09-24', 'schema:funding': {'@type': 'schema:Organization', 'schema:name': 'Asian Development Bank'}, 'schema:keywords': ['deforestation', 'green transportation', 'digital transformation'], 'schema:location': {'@type': 'schema:Place', 'schema:name': 'Berlin, Germany'}, 'schema:name': 'Exploring the Effects of deforestation on green transportation', 'schema:startDate': '2020-09-30'}\u001b[0m\n",
      "\u001b[32m2025-01-14 22:39:28.486\u001b[0m | \u001b[1mINFO    \u001b[0m | \u001b[36msuper_helper\u001b[0m:\u001b[36mwith_logging_block\u001b[0m:\u001b[36m41\u001b[0m - \u001b[1mCOMPLETED BLOCK: Processing Project Metadata\u001b[0m\n",
      "\u001b[32m2025-01-14 22:39:28.488\u001b[0m | \u001b[1mINFO    \u001b[0m | \u001b[36msuper_helper\u001b[0m:\u001b[36mwith_logging_block\u001b[0m:\u001b[36m42\u001b[0m - \u001b[1m--------------------------------------------------\n",
      "\u001b[0m\n",
      "\u001b[32m2025-01-14 22:39:28.489\u001b[0m | \u001b[1mINFO    \u001b[0m | \u001b[36msuper_helper\u001b[0m:\u001b[36mwith_logging_block\u001b[0m:\u001b[36m33\u001b[0m - \u001b[1m\n",
      "==================================================\u001b[0m\n",
      "\u001b[32m2025-01-14 22:39:28.491\u001b[0m | \u001b[1mINFO    \u001b[0m | \u001b[36msuper_helper\u001b[0m:\u001b[36mwith_logging_block\u001b[0m:\u001b[36m34\u001b[0m - \u001b[1mSTARTING BLOCK: Processing Linked User: epic_fermi@test\u001b[0m\n",
      "\u001b[32m2025-01-14 22:39:28.492\u001b[0m | \u001b[1mINFO    \u001b[0m | \u001b[36msuper_helper\u001b[0m:\u001b[36mwith_logging_block\u001b[0m:\u001b[36m35\u001b[0m - \u001b[1m==================================================\u001b[0m\n",
      "\u001b[32m2025-01-14 22:39:28.515\u001b[0m | \u001b[1mINFO    \u001b[0m | \u001b[36m__main__\u001b[0m:\u001b[36m<module>\u001b[0m:\u001b[36m61\u001b[0m - \u001b[1mDownloaded user metadata: {'@type': 'foaf:Person', 'foaf:holdsAccount': {'schema:identifier': 'epic_fermi@test', 'schema:publicKey': 'dceb1bbf902a61b328549d93c16ab3ad4f2f269360af9ceba3068f52ef1bd933', 'schema:roleName': 'author'}, 'foaf:mbox': 'epic_fermi@email.com', 'foaf:name': 'Epic Fermi', 'foaf:organization': {'@type': 'foaf:Organization', 'foaf:name': 'City University of New York, Medgar Evers College'}, 'schema:identifier': {'@type': 'PropertyValue', 'propertyID': 'ORCID', 'value': '1186-0130-7997-X'}}\u001b[0m\n",
      "\u001b[32m2025-01-14 22:39:28.517\u001b[0m | \u001b[1mINFO    \u001b[0m | \u001b[36msuper_helper\u001b[0m:\u001b[36mwith_logging_block\u001b[0m:\u001b[36m41\u001b[0m - \u001b[1mCOMPLETED BLOCK: Processing Linked User: epic_fermi@test\u001b[0m\n",
      "\u001b[32m2025-01-14 22:39:28.518\u001b[0m | \u001b[1mINFO    \u001b[0m | \u001b[36msuper_helper\u001b[0m:\u001b[36mwith_logging_block\u001b[0m:\u001b[36m42\u001b[0m - \u001b[1m--------------------------------------------------\n",
      "\u001b[0m\n",
      "\u001b[32m2025-01-14 22:39:28.520\u001b[0m | \u001b[1mINFO    \u001b[0m | \u001b[36msuper_helper\u001b[0m:\u001b[36mwith_logging_block\u001b[0m:\u001b[36m33\u001b[0m - \u001b[1m\n",
      "==================================================\u001b[0m\n",
      "\u001b[32m2025-01-14 22:39:28.521\u001b[0m | \u001b[1mINFO    \u001b[0m | \u001b[36msuper_helper\u001b[0m:\u001b[36mwith_logging_block\u001b[0m:\u001b[36m34\u001b[0m - \u001b[1mSTARTING BLOCK: Processing Metadata CID\u001b[0m\n",
      "\u001b[32m2025-01-14 22:39:28.523\u001b[0m | \u001b[1mINFO    \u001b[0m | \u001b[36msuper_helper\u001b[0m:\u001b[36mwith_logging_block\u001b[0m:\u001b[36m35\u001b[0m - \u001b[1m==================================================\u001b[0m\n",
      "\u001b[32m2025-01-14 22:39:28.530\u001b[0m | \u001b[1mINFO    \u001b[0m | \u001b[36msuper_helper\u001b[0m:\u001b[36mdownload_file\u001b[0m:\u001b[36m51\u001b[0m - \u001b[1mCleaned file name: COVID19-MLSF--A-multi-task-learning-based-stock-market_2023_Expert-Systems-w.pdf\u001b[0m\n",
      "\u001b[32m2025-01-14 22:39:28.532\u001b[0m | \u001b[1mINFO    \u001b[0m | \u001b[36msuper_helper\u001b[0m:\u001b[36mdownload_file\u001b[0m:\u001b[36m56\u001b[0m - \u001b[1mDownload directory ready: download/55943@test\u001b[0m\n",
      "\u001b[32m2025-01-14 22:39:28.533\u001b[0m | \u001b[1mINFO    \u001b[0m | \u001b[36msuper_helper\u001b[0m:\u001b[36mdownload_file\u001b[0m:\u001b[36m60\u001b[0m - \u001b[1mDownloading file to: download/55943@test/COVID19-MLSF--A-multi-task-learning-based-stock-market_2023_Expert-Systems-w.pdf\u001b[0m\n",
      "\u001b[32m2025-01-14 22:39:28.579\u001b[0m | \u001b[1mINFO    \u001b[0m | \u001b[36m__main__\u001b[0m:\u001b[36m<module>\u001b[0m:\u001b[36m70\u001b[0m - \u001b[1mDownloaded file metadata: {'Content-Length': '4016043', 'Content-Type': 'application/pdf', 'CreationDate--Text': '7th February 2023', 'CrossMarkDomains[1]': 'elsevier.com', 'CrossMarkDomains[2]': 'sciencedirect.com', 'CrossmarkDomainExclusive': 'true', 'CrossmarkMajorVersionDate': '2010-04-23', 'ElsevierWebPDFSpecifications': '7.0', 'X-TIKA:Parsed-By': ['org.apache.tika.parser.DefaultParser', 'org.apache.tika.parser.pdf.PDFParser'], 'X-TIKA:Parsed-By-Full-Set': ['org.apache.tika.parser.DefaultParser', 'org.apache.tika.parser.pdf.PDFParser'], 'X-TIKA:content_handler': 'ToTextContentHandler', 'X-TIKA:embedded_depth': '0', 'X-TIKA:parse_time_millis': '178', 'access_permission:assemble_document': 'true', 'access_permission:can_modify': 'true', 'access_permission:can_print': 'true', 'access_permission:can_print_degraded': 'true', 'access_permission:extract_content': 'true', 'access_permission:extract_for_accessibility': 'true', 'access_permission:fill_in_form': 'true', 'access_permission:modify_annotations': 'true', 'dc:creator': ['Chenxun Yuan', 'Xiang Ma', 'Hua Wang', 'Caiming Zhang', 'Xuemei Li'], 'dc:description': 'Expert Systems With Applications, 217 (2023) 119549. doi:10.1016/j.eswa.2023.119549', 'dc:format': 'application/pdf; version=1.7', 'dc:language': 'en-US', 'dc:subject': ['Stock market forecasting,COVID-19 pandemic,Multi-task learning,Feature fusion,K-nearest neighbor classifier', 'Expert Systems With Applications, 217 (2023) 119549. doi:10.1016/j.eswa.2023.119549'], 'dc:title': 'COVID19-MLSF: A multi-task learning-based stock market forecasting framework during the COVID-19 pandemic', 'dcterms:created': '2023-02-04T09:40:15Z', 'dcterms:modified': '2023-02-07T16:52:03Z', 'doi': '10.1016/j.eswa.2023.119549', 'meta:keyword': 'Stock market forecasting,COVID-19 pandemic,Multi-task learning,Feature fusion,K-nearest neighbor classifier', 'pdf:PDFVersion': '1.7', 'pdf:annotationSubtypes': 'Link', 'pdf:annotationTypes': 'null', 'pdf:charsPerPage': ['4308', '4046', '7115', '4551', '3567', '6426', '1218', '6119', '1896', '4055', '3517', '5861', '730', '833', '5274', '6307'], 'pdf:containsDamagedFont': 'false', 'pdf:containsNonEmbeddedFont': 'false', 'pdf:docinfo:created': '2023-02-04T09:40:15Z', 'pdf:docinfo:creator': 'Chenxun Yuan', 'pdf:docinfo:creator_tool': 'Elsevier', 'pdf:docinfo:custom:CreationDate--Text': '7th February 2023', 'pdf:docinfo:custom:CrossMarkDomains[1]': 'elsevier.com', 'pdf:docinfo:custom:CrossMarkDomains[2]': 'sciencedirect.com', 'pdf:docinfo:custom:CrossmarkDomainExclusive': 'true', 'pdf:docinfo:custom:CrossmarkMajorVersionDate': '2010-04-23', 'pdf:docinfo:custom:ElsevierWebPDFSpecifications': '7.0', 'pdf:docinfo:custom:doi': '10.1016/j.eswa.2023.119549', 'pdf:docinfo:custom:robots': 'noindex', 'pdf:docinfo:keywords': 'Stock market forecasting,COVID-19 pandemic,Multi-task learning,Feature fusion,K-nearest neighbor classifier', 'pdf:docinfo:modified': '2023-02-07T16:52:03Z', 'pdf:docinfo:producer': 'Acrobat Distiller 8.1.0 (Windows)', 'pdf:docinfo:subject': 'Expert Systems With Applications, 217 (2023) 119549. doi:10.1016/j.eswa.2023.119549', 'pdf:docinfo:title': 'COVID19-MLSF: A multi-task learning-based stock market forecasting framework during the COVID-19 pandemic', 'pdf:encrypted': 'false', 'pdf:hasCollection': 'false', 'pdf:hasMarkedContent': 'false', 'pdf:hasXFA': 'false', 'pdf:hasXMP': 'true', 'pdf:num3DAnnotations': '0', 'pdf:overallPercentageUnmappedUnicodeChars': '0.0', 'pdf:producer': 'Acrobat Distiller 8.1.0 (Windows)', 'pdf:totalUnmappedUnicodeChars': '0', 'pdf:unmappedUnicodeCharsPerPage': ['0', '0', '0', '0', '0', '0', '0', '0', '0', '0', '0', '0', '0', '0', '0', '0'], 'resourceName': \"b'COVID19-MLSF--A-multi-task-learning-based-stock-market_2023_Expert-Systems-w.pdf'\", 'robots': 'noindex', 'xmp:CreateDate': '2023-02-04T09:40:15Z', 'xmp:CreatorTool': 'Elsevier', 'xmp:MetadataDate': '2023-02-07T16:52:03Z', 'xmp:ModifyDate': '2023-02-07T16:52:03Z', 'xmpMM:DocumentID': 'uuid:1b499bed-4ce8-4c0c-b682-0d58baae1cbe', 'xmpTPg:NPages': '16'}\u001b[0m\n",
      "\u001b[32m2025-01-14 22:39:28.580\u001b[0m | \u001b[1mINFO    \u001b[0m | \u001b[36msuper_helper\u001b[0m:\u001b[36mwith_logging_block\u001b[0m:\u001b[36m41\u001b[0m - \u001b[1mCOMPLETED BLOCK: Processing Metadata CID\u001b[0m\n",
      "\u001b[32m2025-01-14 22:39:28.582\u001b[0m | \u001b[1mINFO    \u001b[0m | \u001b[36msuper_helper\u001b[0m:\u001b[36mwith_logging_block\u001b[0m:\u001b[36m42\u001b[0m - \u001b[1m--------------------------------------------------\n",
      "\u001b[0m\n",
      "\u001b[32m2025-01-14 22:39:28.583\u001b[0m | \u001b[1mINFO    \u001b[0m | \u001b[36msuper_helper\u001b[0m:\u001b[36mwith_logging_block\u001b[0m:\u001b[36m41\u001b[0m - \u001b[1mCOMPLETED BLOCK: Processing Result for Project ID: 55943@test\u001b[0m\n",
      "\u001b[32m2025-01-14 22:39:28.584\u001b[0m | \u001b[1mINFO    \u001b[0m | \u001b[36msuper_helper\u001b[0m:\u001b[36mwith_logging_block\u001b[0m:\u001b[36m42\u001b[0m - \u001b[1m--------------------------------------------------\n",
      "\u001b[0m\n",
      "\u001b[32m2025-01-14 22:39:28.586\u001b[0m | \u001b[1mINFO    \u001b[0m | \u001b[36msuper_helper\u001b[0m:\u001b[36mwith_logging_block\u001b[0m:\u001b[36m33\u001b[0m - \u001b[1m\n",
      "==================================================\u001b[0m\n",
      "\u001b[32m2025-01-14 22:39:28.587\u001b[0m | \u001b[1mINFO    \u001b[0m | \u001b[36msuper_helper\u001b[0m:\u001b[36mwith_logging_block\u001b[0m:\u001b[36m34\u001b[0m - \u001b[1mSTARTING BLOCK: Processing Result for Project ID: 76811@test\u001b[0m\n",
      "\u001b[32m2025-01-14 22:39:28.588\u001b[0m | \u001b[1mINFO    \u001b[0m | \u001b[36msuper_helper\u001b[0m:\u001b[36mwith_logging_block\u001b[0m:\u001b[36m35\u001b[0m - \u001b[1m==================================================\u001b[0m\n",
      "\u001b[32m2025-01-14 22:39:28.589\u001b[0m | \u001b[1mINFO    \u001b[0m | \u001b[36m__main__\u001b[0m:\u001b[36m<module>\u001b[0m:\u001b[36m12\u001b[0m - \u001b[1mFile CID: QmXh37WXcrLXkJX2cAPjbPdKZ2cxJXD58XX6eU1Zc41ka4\u001b[0m\n",
      "\u001b[32m2025-01-14 22:39:28.590\u001b[0m | \u001b[1mINFO    \u001b[0m | \u001b[36m__main__\u001b[0m:\u001b[36m<module>\u001b[0m:\u001b[36m13\u001b[0m - \u001b[1mMetadata CID: QmVeo8M6iCZjrLmd7VPLSmkZ6FrEkM7b7kxb3deY8Fnuvn\u001b[0m\n",
      "\u001b[32m2025-01-14 22:39:28.592\u001b[0m | \u001b[1mINFO    \u001b[0m | \u001b[36msuper_helper\u001b[0m:\u001b[36mwith_logging_block\u001b[0m:\u001b[36m33\u001b[0m - \u001b[1m\n",
      "==================================================\u001b[0m\n",
      "\u001b[32m2025-01-14 22:39:28.593\u001b[0m | \u001b[1mINFO    \u001b[0m | \u001b[36msuper_helper\u001b[0m:\u001b[36mwith_logging_block\u001b[0m:\u001b[36m34\u001b[0m - \u001b[1mSTARTING BLOCK: Fetching Project Details\u001b[0m\n",
      "\u001b[32m2025-01-14 22:39:28.594\u001b[0m | \u001b[1mINFO    \u001b[0m | \u001b[36msuper_helper\u001b[0m:\u001b[36mwith_logging_block\u001b[0m:\u001b[36m35\u001b[0m - \u001b[1m==================================================\u001b[0m\n",
      "\u001b[32m2025-01-14 22:39:28.613\u001b[0m | \u001b[1mINFO    \u001b[0m | \u001b[36m__main__\u001b[0m:\u001b[36m<module>\u001b[0m:\u001b[36m21\u001b[0m - \u001b[1mFetched project details for 76811@test: { \"admin@test\" : { \"file_1\" : \"QmXh37WXcrLXkJX2cAPjbPdKZ2cxJXD58XX6eU1Zc41ka4, QmVeo8M6iCZjrLmd7VPLSmkZ6FrEkM7b7kxb3deY8Fnuvn\", \"linked_user\" : \"magical_noyce@test\", \"project_metadata_cid\" : \"Qmexe5pjZN1DzoFHXnuXZFzijgupwtDLNGbrXP7FyurQ6h\" } }\u001b[0m\n",
      "\u001b[32m2025-01-14 22:39:28.614\u001b[0m | \u001b[1mINFO    \u001b[0m | \u001b[36msuper_helper\u001b[0m:\u001b[36mwith_logging_block\u001b[0m:\u001b[36m41\u001b[0m - \u001b[1mCOMPLETED BLOCK: Fetching Project Details\u001b[0m\n",
      "\u001b[32m2025-01-14 22:39:28.616\u001b[0m | \u001b[1mINFO    \u001b[0m | \u001b[36msuper_helper\u001b[0m:\u001b[36mwith_logging_block\u001b[0m:\u001b[36m42\u001b[0m - \u001b[1m--------------------------------------------------\n",
      "\u001b[0m\n",
      "\u001b[32m2025-01-14 22:39:28.618\u001b[0m | \u001b[1mINFO    \u001b[0m | \u001b[36msuper_helper\u001b[0m:\u001b[36mwith_logging_block\u001b[0m:\u001b[36m33\u001b[0m - \u001b[1m\n",
      "==================================================\u001b[0m\n",
      "\u001b[32m2025-01-14 22:39:28.619\u001b[0m | \u001b[1mINFO    \u001b[0m | \u001b[36msuper_helper\u001b[0m:\u001b[36mwith_logging_block\u001b[0m:\u001b[36m34\u001b[0m - \u001b[1mSTARTING BLOCK: Parsing Blockchain Data\u001b[0m\n",
      "\u001b[32m2025-01-14 22:39:28.621\u001b[0m | \u001b[1mINFO    \u001b[0m | \u001b[36msuper_helper\u001b[0m:\u001b[36mwith_logging_block\u001b[0m:\u001b[36m35\u001b[0m - \u001b[1m==================================================\u001b[0m\n",
      "\u001b[32m2025-01-14 22:39:28.622\u001b[0m | \u001b[1mINFO    \u001b[0m | \u001b[36msuper_helper\u001b[0m:\u001b[36mwith_logging_block\u001b[0m:\u001b[36m41\u001b[0m - \u001b[1mCOMPLETED BLOCK: Parsing Blockchain Data\u001b[0m\n",
      "\u001b[32m2025-01-14 22:39:28.624\u001b[0m | \u001b[1mINFO    \u001b[0m | \u001b[36msuper_helper\u001b[0m:\u001b[36mwith_logging_block\u001b[0m:\u001b[36m42\u001b[0m - \u001b[1m--------------------------------------------------\n",
      "\u001b[0m\n",
      "\u001b[32m2025-01-14 22:39:28.625\u001b[0m | \u001b[1mINFO    \u001b[0m | \u001b[36msuper_helper\u001b[0m:\u001b[36mwith_logging_block\u001b[0m:\u001b[36m33\u001b[0m - \u001b[1m\n",
      "==================================================\u001b[0m\n",
      "\u001b[32m2025-01-14 22:39:28.627\u001b[0m | \u001b[1mINFO    \u001b[0m | \u001b[36msuper_helper\u001b[0m:\u001b[36mwith_logging_block\u001b[0m:\u001b[36m34\u001b[0m - \u001b[1mSTARTING BLOCK: Validating File CID\u001b[0m\n",
      "\u001b[32m2025-01-14 22:39:28.628\u001b[0m | \u001b[1mINFO    \u001b[0m | \u001b[36msuper_helper\u001b[0m:\u001b[36mwith_logging_block\u001b[0m:\u001b[36m35\u001b[0m - \u001b[1m==================================================\u001b[0m\n",
      "\u001b[32m2025-01-14 22:39:28.630\u001b[0m | \u001b[1mINFO    \u001b[0m | \u001b[36msuper_helper\u001b[0m:\u001b[36mfetch_project_details\u001b[0m:\u001b[36m344\u001b[0m - \u001b[1mValidating and fetching details for CID: QmXh37WXcrLXkJX2cAPjbPdKZ2cxJXD58XX6eU1Zc41ka4\u001b[0m\n",
      "\u001b[32m2025-01-14 22:39:28.631\u001b[0m | \u001b[1mINFO    \u001b[0m | \u001b[36msuper_helper\u001b[0m:\u001b[36mfetch_project_details\u001b[0m:\u001b[36m352\u001b[0m - \u001b[1mFile CID QmXh37WXcrLXkJX2cAPjbPdKZ2cxJXD58XX6eU1Zc41ka4 found under file_1.\u001b[0m\n",
      "\u001b[32m2025-01-14 22:39:28.632\u001b[0m | \u001b[1mINFO    \u001b[0m | \u001b[36m__main__\u001b[0m:\u001b[36m<module>\u001b[0m:\u001b[36m34\u001b[0m - \u001b[1mValidation Result for 76811@test: {'is_valid': True, 'project_metadata_cid': 'Qmexe5pjZN1DzoFHXnuXZFzijgupwtDLNGbrXP7FyurQ6h', 'linked_user': 'magical_noyce@test'}\u001b[0m\n",
      "\u001b[32m2025-01-14 22:39:28.634\u001b[0m | \u001b[1mINFO    \u001b[0m | \u001b[36msuper_helper\u001b[0m:\u001b[36mwith_logging_block\u001b[0m:\u001b[36m41\u001b[0m - \u001b[1mCOMPLETED BLOCK: Validating File CID\u001b[0m\n",
      "\u001b[32m2025-01-14 22:39:28.635\u001b[0m | \u001b[1mINFO    \u001b[0m | \u001b[36msuper_helper\u001b[0m:\u001b[36mwith_logging_block\u001b[0m:\u001b[36m42\u001b[0m - \u001b[1m--------------------------------------------------\n",
      "\u001b[0m\n",
      "\u001b[32m2025-01-14 22:39:28.636\u001b[0m | \u001b[1mINFO    \u001b[0m | \u001b[36msuper_helper\u001b[0m:\u001b[36mwith_logging_block\u001b[0m:\u001b[36m33\u001b[0m - \u001b[1m\n",
      "==================================================\u001b[0m\n",
      "\u001b[32m2025-01-14 22:39:28.637\u001b[0m | \u001b[1mINFO    \u001b[0m | \u001b[36msuper_helper\u001b[0m:\u001b[36mwith_logging_block\u001b[0m:\u001b[36m34\u001b[0m - \u001b[1mSTARTING BLOCK: Processing Project Metadata\u001b[0m\n",
      "\u001b[32m2025-01-14 22:39:28.639\u001b[0m | \u001b[1mINFO    \u001b[0m | \u001b[36msuper_helper\u001b[0m:\u001b[36mwith_logging_block\u001b[0m:\u001b[36m35\u001b[0m - \u001b[1m==================================================\u001b[0m\n",
      "\u001b[32m2025-01-14 22:39:28.645\u001b[0m | \u001b[1mINFO    \u001b[0m | \u001b[36m__main__\u001b[0m:\u001b[36m<module>\u001b[0m:\u001b[36m46\u001b[0m - \u001b[1mDownloaded project metadata: {'@context': {'dc': 'http://purl.org/dc/terms/', 'schema': 'http://schema.org/'}, '@type': 'schema:ResearchProject', 'dc:abstract': 'This research focuses on the benefits and challenges posed by machine learning for industrial automation, with an emphasis on its potential for financial inclusion.', 'schema:endDate': '2025-06-29', 'schema:funding': {'@type': 'schema:Organization', 'schema:name': 'European Union Horizon 2020'}, 'schema:keywords': ['machine learning', 'industrial automation', 'financial inclusion'], 'schema:location': {'@type': 'schema:Place', 'schema:name': 'Lisbon, Portugal'}, 'schema:name': 'Assessing the Benefits of machine learning for industrial automation', 'schema:startDate': '2022-09-05'}\u001b[0m\n",
      "\u001b[32m2025-01-14 22:39:28.646\u001b[0m | \u001b[1mINFO    \u001b[0m | \u001b[36msuper_helper\u001b[0m:\u001b[36mwith_logging_block\u001b[0m:\u001b[36m41\u001b[0m - \u001b[1mCOMPLETED BLOCK: Processing Project Metadata\u001b[0m\n",
      "\u001b[32m2025-01-14 22:39:28.648\u001b[0m | \u001b[1mINFO    \u001b[0m | \u001b[36msuper_helper\u001b[0m:\u001b[36mwith_logging_block\u001b[0m:\u001b[36m42\u001b[0m - \u001b[1m--------------------------------------------------\n",
      "\u001b[0m\n",
      "\u001b[32m2025-01-14 22:39:28.649\u001b[0m | \u001b[1mINFO    \u001b[0m | \u001b[36msuper_helper\u001b[0m:\u001b[36mwith_logging_block\u001b[0m:\u001b[36m33\u001b[0m - \u001b[1m\n",
      "==================================================\u001b[0m\n",
      "\u001b[32m2025-01-14 22:39:28.650\u001b[0m | \u001b[1mINFO    \u001b[0m | \u001b[36msuper_helper\u001b[0m:\u001b[36mwith_logging_block\u001b[0m:\u001b[36m34\u001b[0m - \u001b[1mSTARTING BLOCK: Processing Linked User: magical_noyce@test\u001b[0m\n",
      "\u001b[32m2025-01-14 22:39:28.651\u001b[0m | \u001b[1mINFO    \u001b[0m | \u001b[36msuper_helper\u001b[0m:\u001b[36mwith_logging_block\u001b[0m:\u001b[36m35\u001b[0m - \u001b[1m==================================================\u001b[0m\n",
      "\u001b[32m2025-01-14 22:39:28.674\u001b[0m | \u001b[1mINFO    \u001b[0m | \u001b[36m__main__\u001b[0m:\u001b[36m<module>\u001b[0m:\u001b[36m61\u001b[0m - \u001b[1mDownloaded user metadata: {'@type': 'foaf:Person', 'foaf:holdsAccount': {'schema:identifier': 'magical_noyce@test', 'schema:publicKey': 'c174cced875fb92dc8161435e44ad23a618495d968812a1a7c63ab398d0a0d4d', 'schema:roleName': 'publisher'}, 'foaf:mbox': 'magical_noyce@email.com', 'foaf:name': 'Magical Noyce', 'foaf:organization': {'@type': 'foaf:Organization', 'foaf:name': 'University Campus Suffolk'}, 'schema:identifier': {'@type': 'PropertyValue', 'propertyID': 'ORCID', 'value': '6086-0801-4461-X'}}\u001b[0m\n",
      "\u001b[32m2025-01-14 22:39:28.676\u001b[0m | \u001b[1mINFO    \u001b[0m | \u001b[36msuper_helper\u001b[0m:\u001b[36mwith_logging_block\u001b[0m:\u001b[36m41\u001b[0m - \u001b[1mCOMPLETED BLOCK: Processing Linked User: magical_noyce@test\u001b[0m\n",
      "\u001b[32m2025-01-14 22:39:28.677\u001b[0m | \u001b[1mINFO    \u001b[0m | \u001b[36msuper_helper\u001b[0m:\u001b[36mwith_logging_block\u001b[0m:\u001b[36m42\u001b[0m - \u001b[1m--------------------------------------------------\n",
      "\u001b[0m\n",
      "\u001b[32m2025-01-14 22:39:28.679\u001b[0m | \u001b[1mINFO    \u001b[0m | \u001b[36msuper_helper\u001b[0m:\u001b[36mwith_logging_block\u001b[0m:\u001b[36m33\u001b[0m - \u001b[1m\n",
      "==================================================\u001b[0m\n",
      "\u001b[32m2025-01-14 22:39:28.680\u001b[0m | \u001b[1mINFO    \u001b[0m | \u001b[36msuper_helper\u001b[0m:\u001b[36mwith_logging_block\u001b[0m:\u001b[36m34\u001b[0m - \u001b[1mSTARTING BLOCK: Processing Metadata CID\u001b[0m\n",
      "\u001b[32m2025-01-14 22:39:28.681\u001b[0m | \u001b[1mINFO    \u001b[0m | \u001b[36msuper_helper\u001b[0m:\u001b[36mwith_logging_block\u001b[0m:\u001b[36m35\u001b[0m - \u001b[1m==================================================\u001b[0m\n",
      "\u001b[32m2025-01-14 22:39:28.689\u001b[0m | \u001b[1mINFO    \u001b[0m | \u001b[36msuper_helper\u001b[0m:\u001b[36mdownload_file\u001b[0m:\u001b[36m51\u001b[0m - \u001b[1mCleaned file name: Aeroacoustic-airfoil-shape-optimization-enhance_2023_Expert-Systems-with-App.pdf\u001b[0m\n",
      "\u001b[32m2025-01-14 22:39:28.691\u001b[0m | \u001b[1mINFO    \u001b[0m | \u001b[36msuper_helper\u001b[0m:\u001b[36mdownload_file\u001b[0m:\u001b[36m56\u001b[0m - \u001b[1mDownload directory ready: download/76811@test\u001b[0m\n",
      "\u001b[32m2025-01-14 22:39:28.692\u001b[0m | \u001b[1mINFO    \u001b[0m | \u001b[36msuper_helper\u001b[0m:\u001b[36mdownload_file\u001b[0m:\u001b[36m60\u001b[0m - \u001b[1mDownloading file to: download/76811@test/Aeroacoustic-airfoil-shape-optimization-enhance_2023_Expert-Systems-with-App.pdf\u001b[0m\n",
      "\u001b[32m2025-01-14 22:39:28.713\u001b[0m | \u001b[1mINFO    \u001b[0m | \u001b[36m__main__\u001b[0m:\u001b[36m<module>\u001b[0m:\u001b[36m70\u001b[0m - \u001b[1mDownloaded file metadata: {'Content-Length': '1324070', 'Content-Type': 'application/pdf', 'CreationDate--Text': '7th February 2023', 'CrossMarkDomains[1]': 'elsevier.com', 'CrossMarkDomains[2]': 'sciencedirect.com', 'CrossmarkDomainExclusive': 'true', 'CrossmarkMajorVersionDate': '2010-04-23', 'ElsevierWebPDFSpecifications': '7.0', 'X-TIKA:EXCEPTION:warn': 'org.xml.sax.SAXParseException; lineNumber: 87; columnNumber: 11; The content of elements must consist of well-formed character data or markup.\\n\\tat org.apache.xerces.parsers.DOMParser.parse(Unknown Source)\\n\\tat org.apache.xerces.jaxp.DocumentBuilderImpl.parse(Unknown Source)\\n\\tat java.xml/javax.xml.parsers.DocumentBuilder.parse(DocumentBuilder.java:122)\\n\\tat org.apache.tika.utils.XMLReaderUtils.buildDOM(XMLReaderUtils.java:396)\\n\\tat org.apache.tika.parser.pdf.PDMetadataExtractor.loadDOM(PDMetadataExtractor.java:472)\\n\\tat org.apache.tika.parser.pdf.PDMetadataExtractor.extract(PDMetadataExtractor.java:69)\\n\\tat org.apache.tika.parser.pdf.PDFParser.extractMetadata(PDFParser.java:423)\\n\\tat org.apache.tika.parser.pdf.PDFParser.parse(PDFParser.java:181)\\n\\tat org.apache.tika.parser.CompositeParser.parse(CompositeParser.java:298)\\n\\tat org.apache.tika.parser.CompositeParser.parse(CompositeParser.java:298)\\n\\tat org.apache.tika.parser.AutoDetectParser.parse(AutoDetectParser.java:175)\\n\\tat org.apache.tika.parser.RecursiveParserWrapper.parse(RecursiveParserWrapper.java:163)\\n\\tat org.apache.tika.server.core.resource.TikaResource.parse(TikaResource.java:352)\\n\\tat org.apache.tika.server.core.resource.RecursiveMetadataResource.parseMetadata(RecursiveMetadataResource.java:78)\\n\\tat org.apache.tika.server.core.resource.RecursiveMetadataResource.parseMetadataToMetadataList(RecursiveMetadataResource.java:190)\\n\\tat org.apache.tika.server.core.resource.RecursiveMetadataResource.getMetadata(RecursiveMetadataResource.java:179)\\n\\tat jdk.internal.reflect.GeneratedMethodAccessor5.invoke(Unknown Source)\\n\\tat java.base/jdk.internal.reflect.DelegatingMethodAccessorImpl.invoke(DelegatingMethodAccessorImpl.java:43)\\n\\tat java.base/java.lang.reflect.Method.invoke(Method.java:569)\\n\\tat org.apache.cxf.service.invoker.AbstractInvoker.performInvocation(AbstractInvoker.java:179)\\n\\tat org.apache.cxf.service.invoker.AbstractInvoker.invoke(AbstractInvoker.java:96)\\n\\tat org.apache.cxf.jaxrs.JAXRSInvoker.invoke(JAXRSInvoker.java:201)\\n\\tat org.apache.cxf.jaxrs.JAXRSInvoker.invoke(JAXRSInvoker.java:104)\\n\\tat org.apache.cxf.interceptor.ServiceInvokerInterceptor$1.run(ServiceInvokerInterceptor.java:59)\\n\\tat org.apache.cxf.interceptor.ServiceInvokerInterceptor.handleMessage(ServiceInvokerInterceptor.java:96)\\n\\tat org.apache.cxf.phase.PhaseInterceptorChain.doIntercept(PhaseInterceptorChain.java:307)\\n\\tat org.apache.cxf.transport.ChainInitiationObserver.onMessage(ChainInitiationObserver.java:121)\\n\\tat org.apache.cxf.transport.http.AbstractHTTPDestination.invoke(AbstractHTTPDestination.java:265)\\n\\tat org.apache.cxf.transport.http_jetty.JettyHTTPDestination.doService(JettyHTTPDestination.java:247)\\n\\tat org.apache.cxf.transport.http_jetty.JettyHTTPHandler.handle(JettyHTTPHandler.java:79)\\n\\tat org.eclipse.jetty.server.handler.HandlerWrapper.handle(HandlerWrapper.java:127)\\n\\tat org.eclipse.jetty.server.handler.ScopedHandler.nextHandle(ScopedHandler.java:235)\\n\\tat org.eclipse.jetty.server.handler.ContextHandler.doHandle(ContextHandler.java:1440)\\n\\tat org.eclipse.jetty.server.handler.ScopedHandler.nextScope(ScopedHandler.java:190)\\n\\tat org.eclipse.jetty.server.handler.ContextHandler.doScope(ContextHandler.java:1355)\\n\\tat org.eclipse.jetty.server.handler.ScopedHandler.handle(ScopedHandler.java:141)\\n\\tat org.eclipse.jetty.server.handler.ContextHandlerCollection.handle(ContextHandlerCollection.java:191)\\n\\tat org.eclipse.jetty.server.handler.HandlerWrapper.handle(HandlerWrapper.java:127)\\n\\tat org.eclipse.jetty.server.Server.handle(Server.java:516)\\n\\tat org.eclipse.jetty.server.HttpChannel.lambda$handle$1(HttpChannel.java:487)\\n\\tat org.eclipse.jetty.server.HttpChannel.dispatch(HttpChannel.java:732)\\n\\tat org.eclipse.jetty.server.HttpChannel.handle(HttpChannel.java:479)\\n\\tat org.eclipse.jetty.server.HttpConnection.onFillable(HttpConnection.java:277)\\n\\tat org.eclipse.jetty.io.AbstractConnection$ReadCallback.succeeded(AbstractConnection.java:311)\\n\\tat org.eclipse.jetty.io.FillInterest.fillable(FillInterest.java:105)\\n\\tat org.eclipse.jetty.io.ChannelEndPoint$1.run(ChannelEndPoint.java:104)\\n\\tat org.eclipse.jetty.util.thread.strategy.EatWhatYouKill.runTask(EatWhatYouKill.java:338)\\n\\tat org.eclipse.jetty.util.thread.strategy.EatWhatYouKill.doProduce(EatWhatYouKill.java:315)\\n\\tat org.eclipse.jetty.util.thread.strategy.EatWhatYouKill.tryProduce(EatWhatYouKill.java:173)\\n\\tat org.eclipse.jetty.util.thread.strategy.EatWhatYouKill.run(EatWhatYouKill.java:131)\\n\\tat org.eclipse.jetty.util.thread.ReservedThreadExecutor$ReservedThread.run(ReservedThreadExecutor.java:409)\\n\\tat org.eclipse.jetty.util.thread.QueuedThreadPool.runJob(QueuedThreadPool.java:883)\\n\\tat org.eclipse.jetty.util.thread.QueuedThreadPool$Runner.run(QueuedThreadPool.java:1034)\\n\\tat java.base/java.lang.Thread.run(Thread.java:840)\\n', 'X-TIKA:Parsed-By': ['org.apache.tika.parser.DefaultParser', 'org.apache.tika.parser.pdf.PDFParser'], 'X-TIKA:Parsed-By-Full-Set': ['org.apache.tika.parser.DefaultParser', 'org.apache.tika.parser.pdf.PDFParser'], 'X-TIKA:content_handler': 'ToTextContentHandler', 'X-TIKA:embedded_depth': '0', 'X-TIKA:parse_time_millis': '203', 'access_permission:assemble_document': 'true', 'access_permission:can_modify': 'true', 'access_permission:can_print': 'true', 'access_permission:can_print_degraded': 'true', 'access_permission:extract_content': 'true', 'access_permission:extract_for_accessibility': 'true', 'access_permission:fill_in_form': 'true', 'access_permission:modify_annotations': 'true', 'dc:creator': 'Jiaqing Kou', 'dc:format': 'application/pdf; version=1.7', 'dc:language': 'en-US', 'dc:subject': ['Aeroacoustics,Optimization design,Amiet theory,Machine learning,Autoencoder', 'Expert Systems With Applications, 217 (2023) 119513. doi:10.1016/j.eswa.2023.119513'], 'dc:title': 'Aeroacoustic airfoil shape optimization enhanced by autoencoders', 'dcterms:created': '2023-02-04T09:40:15Z', 'dcterms:modified': '2023-02-07T16:56:45Z', 'doi': '10.1016/j.eswa.2023.119513', 'pdf:PDFVersion': '1.7', 'pdf:annotationSubtypes': 'Link', 'pdf:annotationTypes': 'null', 'pdf:charsPerPage': ['4632', '7035', '4418', '4887', '4242', '3215', '3361', '3553', '3680', '2730', '3569', '4967', '5447', '7572'], 'pdf:containsDamagedFont': 'false', 'pdf:containsNonEmbeddedFont': 'false', 'pdf:docinfo:created': '2023-02-04T09:40:15Z', 'pdf:docinfo:creator': 'Jiaqing Kou', 'pdf:docinfo:creator_tool': 'Elsevier', 'pdf:docinfo:custom:CreationDate--Text': '7th February 2023', 'pdf:docinfo:custom:CrossMarkDomains[1]': 'elsevier.com', 'pdf:docinfo:custom:CrossMarkDomains[2]': 'sciencedirect.com', 'pdf:docinfo:custom:CrossmarkDomainExclusive': 'true', 'pdf:docinfo:custom:CrossmarkMajorVersionDate': '2010-04-23', 'pdf:docinfo:custom:ElsevierWebPDFSpecifications': '7.0', 'pdf:docinfo:custom:doi': '10.1016/j.eswa.2023.119513', 'pdf:docinfo:custom:robots': 'noindex', 'pdf:docinfo:keywords': 'Aeroacoustics,Optimization design,Amiet theory,Machine learning,Autoencoder', 'pdf:docinfo:modified': '2023-02-07T16:56:45Z', 'pdf:docinfo:producer': 'Acrobat Distiller 8.1.0 (Windows)', 'pdf:docinfo:subject': 'Expert Systems With Applications, 217 (2023) 119513. doi:10.1016/j.eswa.2023.119513', 'pdf:docinfo:title': 'Aeroacoustic airfoil shape optimization enhanced by autoencoders', 'pdf:encrypted': 'false', 'pdf:hasCollection': 'false', 'pdf:hasMarkedContent': 'false', 'pdf:hasXFA': 'false', 'pdf:hasXMP': 'true', 'pdf:num3DAnnotations': '0', 'pdf:overallPercentageUnmappedUnicodeChars': '0.0', 'pdf:producer': 'Acrobat Distiller 8.1.0 (Windows)', 'pdf:totalUnmappedUnicodeChars': '0', 'pdf:unmappedUnicodeCharsPerPage': ['0', '0', '0', '0', '0', '0', '0', '0', '0', '0', '0', '0', '0', '0'], 'resourceName': \"b'Aeroacoustic-airfoil-shape-optimization-enhance_2023_Expert-Systems-with-App.pdf'\", 'robots': 'noindex', 'xmp:CreatorTool': 'Elsevier', 'xmpTPg:NPages': '14'}\u001b[0m\n",
      "\u001b[32m2025-01-14 22:39:28.715\u001b[0m | \u001b[1mINFO    \u001b[0m | \u001b[36msuper_helper\u001b[0m:\u001b[36mwith_logging_block\u001b[0m:\u001b[36m41\u001b[0m - \u001b[1mCOMPLETED BLOCK: Processing Metadata CID\u001b[0m\n",
      "\u001b[32m2025-01-14 22:39:28.716\u001b[0m | \u001b[1mINFO    \u001b[0m | \u001b[36msuper_helper\u001b[0m:\u001b[36mwith_logging_block\u001b[0m:\u001b[36m42\u001b[0m - \u001b[1m--------------------------------------------------\n",
      "\u001b[0m\n",
      "\u001b[32m2025-01-14 22:39:28.718\u001b[0m | \u001b[1mINFO    \u001b[0m | \u001b[36msuper_helper\u001b[0m:\u001b[36mwith_logging_block\u001b[0m:\u001b[36m41\u001b[0m - \u001b[1mCOMPLETED BLOCK: Processing Result for Project ID: 76811@test\u001b[0m\n",
      "\u001b[32m2025-01-14 22:39:28.719\u001b[0m | \u001b[1mINFO    \u001b[0m | \u001b[36msuper_helper\u001b[0m:\u001b[36mwith_logging_block\u001b[0m:\u001b[36m42\u001b[0m - \u001b[1m--------------------------------------------------\n",
      "\u001b[0m\n",
      "\u001b[32m2025-01-14 22:39:28.721\u001b[0m | \u001b[1mINFO    \u001b[0m | \u001b[36msuper_helper\u001b[0m:\u001b[36mwith_logging_block\u001b[0m:\u001b[36m41\u001b[0m - \u001b[1mCOMPLETED BLOCK: Processing Search Results\u001b[0m\n",
      "\u001b[32m2025-01-14 22:39:28.722\u001b[0m | \u001b[1mINFO    \u001b[0m | \u001b[36msuper_helper\u001b[0m:\u001b[36mwith_logging_block\u001b[0m:\u001b[36m42\u001b[0m - \u001b[1m--------------------------------------------------\n",
      "\u001b[0m\n"
     ]
    }
   ],
   "source": [
    "with with_logging_block(\"Processing Search Results\", logger):\n",
    "    for result_dict in search_results:\n",
    "        project_id = result_dict.get('project_id')\n",
    "        file_cid = result_dict.get('file_cid')\n",
    "        metadata_cid = result_dict.get('metadata_cid')\n",
    "\n",
    "        with with_logging_block(f\"Processing Result for Project ID: {project_id or 'Unknown'}\", logger):\n",
    "            if not project_id or not file_cid or not metadata_cid:\n",
    "                logger.error(f\"Missing required data in result: {result_dict}\")\n",
    "                continue\n",
    "\n",
    "            logger.info(f\"File CID: {file_cid}\")\n",
    "            logger.info(f\"Metadata CID: {metadata_cid}\")\n",
    "\n",
    "            # Fetch project details\n",
    "            with with_logging_block(\"Fetching Project Details\", logger):\n",
    "                project_details = get_account_detail(project_id)\n",
    "                if not project_details:\n",
    "                    logger.error(f\"No project details found for Project ID: {project_id}.\")\n",
    "                    continue\n",
    "                logger.info(f\"Fetched project details for {project_id}: {project_details}\")\n",
    "\n",
    "            # Parse blockchain data\n",
    "            with with_logging_block(\"Parsing Blockchain Data\", logger):\n",
    "                try:\n",
    "                    blockchain_data = json.loads(project_details)\n",
    "                except json.JSONDecodeError as e:\n",
    "                    logger.error(f\"Error decoding project details JSON for {project_id}: {e}\")\n",
    "                    continue\n",
    "\n",
    "            # Validate file CID\n",
    "            with with_logging_block(\"Validating File CID\", logger):\n",
    "                validation_result = fetch_project_details(file_cid, blockchain_data)\n",
    "                logger.info(f\"Validation Result for {project_id}: {validation_result}\")\n",
    "                if not validation_result[\"is_valid\"]:\n",
    "                    logger.warning(f\"Invalid File CID for Project ID: {project_id}. Skipping metadata processing.\")\n",
    "                    continue\n",
    "\n",
    "            project_metadata_cid = validation_result.get(\"project_metadata_cid\")\n",
    "            linked_user = validation_result.get(\"linked_user\")\n",
    "\n",
    "            # Process project metadata\n",
    "            if project_metadata_cid:\n",
    "                with with_logging_block(\"Processing Project Metadata\", logger):\n",
    "                    project_metadata = download_json_from_ipfs(project_metadata_cid)\n",
    "                    logger.info(f\"Downloaded project metadata: {project_metadata}\")\n",
    "\n",
    "            # Process linked user details\n",
    "            if linked_user:\n",
    "                with with_logging_block(f\"Processing Linked User: {linked_user}\", logger):\n",
    "                    user_details = get_account_detail(linked_user)\n",
    "                    try:\n",
    "                        user_details = json.loads(user_details)\n",
    "                    except json.JSONDecodeError as e:\n",
    "                        logger.error(f\"Error decoding user details JSON for {linked_user}: {e}\")\n",
    "                        continue\n",
    "\n",
    "                    user_json_ld_cid = user_details.get(\"admin@test\", {}).get(\"user_json_ld_cid\")\n",
    "                    if user_json_ld_cid:\n",
    "                        user_metadata = download_json_from_ipfs(user_json_ld_cid)\n",
    "                        logger.info(f\"Downloaded user metadata: {user_metadata}\")\n",
    "                    else:\n",
    "                        logger.warning(f\"User JSON-LD CID not found for linked user {linked_user}.\")\n",
    "\n",
    "            # Process metadata CID\n",
    "            if metadata_cid:\n",
    "                with with_logging_block(\"Processing Metadata CID\", logger):\n",
    "                    file_metadata = download_json_from_ipfs(metadata_cid)\n",
    "                    file_metadata_json = download_file(file_metadata, download_path, project_id, file_cid)\n",
    "                    logger.info(f\"Downloaded file metadata: {file_metadata}\")"
   ]
  }
 ],
 "metadata": {
  "kernelspec": {
   "display_name": "Python 3 (ipykernel)",
   "language": "python",
   "name": "python3"
  },
  "language_info": {
   "codemirror_mode": {
    "name": "ipython",
    "version": 3
   },
   "file_extension": ".py",
   "mimetype": "text/x-python",
   "name": "python",
   "nbconvert_exporter": "python",
   "pygments_lexer": "ipython3",
   "version": "3.9.21"
  }
 },
 "nbformat": 4,
 "nbformat_minor": 5
}
