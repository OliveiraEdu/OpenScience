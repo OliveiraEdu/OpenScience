{
 "cells": [
  {
   "cell_type": "markdown",
   "id": "11965914-6a6a-43b4-a793-01a3eda28617",
   "metadata": {},
   "source": [
    "Artifact - Account Detail and IPFS Integration"
   ]
  },
  {
   "cell_type": "markdown",
   "id": "0f965815-8625-49cb-9627-267ef1a19069",
   "metadata": {},
   "source": [
    "** For requirements and initial setup go to https://github.com/OliveiraEdu/OpenScience/Readme.md **"
   ]
  },
  {
   "cell_type": "markdown",
   "id": "8ddb3de9-bc7c-4300-9c29-c1388298331a",
   "metadata": {},
   "source": [
    "1 - Artifact - IPFS Integration"
   ]
  },
  {
   "cell_type": "markdown",
   "id": "1fc02088-ba55-4f8e-bcc4-9c2e3afd3cca",
   "metadata": {},
   "source": [
    "# 1 - Account Detail with IPFS and Metadata Integration"
   ]
  },
  {
   "cell_type": "markdown",
   "id": "d1650332-a687-4cdb-aed9-cfb3ad2fbce3",
   "metadata": {},
   "source": [
    "As the user stores research artifacts such as articles, graphics and datasets into the platform it is necessary to establish a logical link of each artifact between the Iroha and the IPFS networks, such a link is implemented by: \n",
    "\n",
    "a) A metadata description of each artifact as an JSON object at ``assets.json``, the attributes can be freely anotated by the user strictyly following the [JSON standard specifications](https://www.json.org/json-en.html).\n",
    "\n",
    "b) The artifact file name."
   ]
  },
  {
   "cell_type": "markdown",
   "id": "921ad3f2-fa0a-4f10-b9a5-6e98ad428844",
   "metadata": {},
   "source": [
    "## 1.1 - JSON Metadata"
   ]
  },
  {
   "cell_type": "markdown",
   "id": "35c363a0-9fc3-4b54-b392-c16bad568b61",
   "metadata": {},
   "source": [
    "#### 1.1.1 - Here we extract the JSON metadata of each file from ``assets.json`` and the respective file and send them to the IPFS network node, the CID from both the metadata and the file are retrieved for further insertion as attributes of the user account on the Iroha network."
   ]
  },
  {
   "cell_type": "code",
   "execution_count": 1,
   "id": "30d4f23b-02f6-4714-96f1-12829a6a5961",
   "metadata": {},
   "outputs": [
    {
     "name": "stdout",
     "output_type": "stream",
     "text": [
      "{'file_name': 'hello_world.py', 'file_type': 'code', 'language': 'Python', 'name': 'Hello World', 'description': \"A simple Python program that prints 'Hello, World!' to the console.\", 'author': 'Guido van Rossum', 'dependencies': [], 'version': 'Python 3.x', 'execution_result': {'stdout': 'Hello, World!\\n', 'stderr': '', 'return_code': 0}}\n"
     ]
    },
    {
     "ename": "NameError",
     "evalue": "name 'file_name' is not defined",
     "output_type": "error",
     "traceback": [
      "\u001b[0;31m---------------------------------------------------------------------------\u001b[0m",
      "\u001b[0;31mNameError\u001b[0m                                 Traceback (most recent call last)",
      "Cell \u001b[0;32mIn[1], line 21\u001b[0m\n\u001b[1;32m     19\u001b[0m     \u001b[38;5;28mprint\u001b[39m(\u001b[38;5;124mf\u001b[39m\u001b[38;5;124m\"\u001b[39m\u001b[38;5;124mFile not found: \u001b[39m\u001b[38;5;132;01m{\u001b[39;00me\u001b[38;5;132;01m}\u001b[39;00m\u001b[38;5;124m\"\u001b[39m)\n\u001b[1;32m     20\u001b[0m \u001b[38;5;28;01melse\u001b[39;00m:\n\u001b[0;32m---> 21\u001b[0m     \u001b[43mget_object\u001b[49m\u001b[43m(\u001b[49m\u001b[43mdata\u001b[49m\u001b[43m)\u001b[49m  \u001b[38;5;66;03m# Call the function to get all objects\u001b[39;00m\n\u001b[1;32m     23\u001b[0m \u001b[38;5;66;03m# Iterate over file names and objects\u001b[39;00m\n\u001b[1;32m     24\u001b[0m \u001b[38;5;28;01mfor\u001b[39;00m i, obj \u001b[38;5;129;01min\u001b[39;00m \u001b[38;5;28menumerate\u001b[39m(objects_list):\n",
      "File \u001b[0;32m~/OpenScience/json_functions.py:19\u001b[0m, in \u001b[0;36mget_object\u001b[0;34m(objs)\u001b[0m\n\u001b[1;32m     17\u001b[0m \u001b[38;5;28;01mfor\u001b[39;00m obj \u001b[38;5;129;01min\u001b[39;00m objs:\n\u001b[1;32m     18\u001b[0m     \u001b[38;5;28mprint\u001b[39m(obj)\n\u001b[0;32m---> 19\u001b[0m     \u001b[43mextract_file_name\u001b[49m\u001b[43m(\u001b[49m\u001b[43mobj\u001b[49m\u001b[43m)\u001b[49m  \u001b[38;5;66;03m# Call the function to extract the file name\u001b[39;00m\n\u001b[1;32m     20\u001b[0m     \u001b[38;5;28;01mif\u001b[39;00m \u001b[38;5;28misinstance\u001b[39m(obj, \u001b[38;5;28mdict\u001b[39m):  \u001b[38;5;66;03m# Check if the object is a dictionary (JSON object)\u001b[39;00m\n\u001b[1;32m     21\u001b[0m         objects_list\u001b[38;5;241m.\u001b[39mappend(obj)\n",
      "File \u001b[0;32m~/OpenScience/json_functions.py:13\u001b[0m, in \u001b[0;36mextract_file_name\u001b[0;34m(obj)\u001b[0m\n\u001b[1;32m     11\u001b[0m \u001b[38;5;28;01mif\u001b[39;00m \u001b[38;5;124m'\u001b[39m\u001b[38;5;124mfile_name\u001b[39m\u001b[38;5;124m'\u001b[39m \u001b[38;5;129;01min\u001b[39;00m obj:  \u001b[38;5;66;03m# Check if the object has a 'file_name' key\u001b[39;00m\n\u001b[1;32m     12\u001b[0m     file_names\u001b[38;5;241m.\u001b[39mappend(obj[\u001b[38;5;124m'\u001b[39m\u001b[38;5;124mfile_name\u001b[39m\u001b[38;5;124m'\u001b[39m])  \u001b[38;5;66;03m# Extract the value of that key\u001b[39;00m\n\u001b[0;32m---> 13\u001b[0m     \u001b[38;5;28mprint\u001b[39m(\u001b[43mfile_name\u001b[49m)\n",
      "\u001b[0;31mNameError\u001b[0m: name 'file_name' is not defined"
     ]
    }
   ],
   "source": [
    "#13AUG20234 - WIP - Must finish the the json_functions.py implementation \n",
    "\n",
    "import os\n",
    "import json\n",
    "from json_functions import get_object\n",
    "from ipfs_functions import upload_json_to_ipfs, download_json_from_ipfs, upload_file_to_ipfs\n",
    "\n",
    "\n",
    "# Initialize lists to store file names and objects\n",
    "# file_names = []\n",
    "objects_list = []\n",
    "\n",
    "# Specify the path to the JSON file relative to the current working directory\n",
    "file_path = os.path.join('upload', 'assets.json')\n",
    "\n",
    "try:\n",
    "    data = json.load(open(file_path))\n",
    "except FileNotFoundError as e:\n",
    "    print(f\"File not found: {e}\")\n",
    "else:\n",
    "    get_object(data)  # Call the function to get all objects\n",
    "\n",
    "# Iterate over file names and objects\n",
    "for i, obj in enumerate(objects_list):\n",
    "    print(f\"File Name: {file_names[i]}\")\n",
    "    upload_file_to_ipfs(\"upload/\"+file_names[i])\n",
    "\n",
    "    print()  # Print a newline for readability\n",
    "\n",
    "    # print(obj)\n",
    "    upload_json_to_ipfs(obj)\n",
    "    # download_json_from_ipfs(obj)\n",
    "    print()  # Print a newline for readability"
   ]
  },
  {
   "cell_type": "markdown",
   "id": "c2b074d9-3edc-410d-9972-222d9cbb551f",
   "metadata": {},
   "source": [
    "## 1.2 -  Contract Deployment and Account Detail Setting"
   ]
  },
  {
   "cell_type": "code",
   "execution_count": null,
   "id": "9edd2c53-d314-48c4-97d4-30925cdb52a5",
   "metadata": {
    "editable": true,
    "slideshow": {
     "slide_type": ""
    },
    "tags": []
   },
   "outputs": [],
   "source": [
    "from Crypto.Hash import keccak\n",
    "import os\n",
    "import binascii\n",
    "from iroha import IrohaCrypto\n",
    "from iroha import Iroha, IrohaGrpc\n",
    "from iroha.ed25519 import H\n",
    "import integration_helpers\n",
    "from iroha.primitive_pb2 import can_set_my_account_detail\n",
    "import sys\n",
    "import csv\n",
    "import ipfshttpclient\n",
    "\n",
    "\n",
    "if sys.version_info[0] < 3:\n",
    "    raise Exception(\"Python 3 or a more recent version is required.\")\n",
    "\n",
    "IROHA_HOST_ADDR = os.getenv(\"IROHA_HOST_ADDR\", \"10.0.0.100\")\n",
    "IROHA_PORT = os.getenv(\"IROHA_PORT\", \"50051\")\n",
    "ADMIN_ACCOUNT_ID = os.getenv(\"ADMIN_ACCOUNT_ID\", \"admin@test\")\n",
    "ADMIN_PRIVATE_KEY = os.getenv(\n",
    "    \"ADMIN_PRIVATE_KEY\",\n",
    "    \"f101537e319568c765b2cc89698325604991dca57b9716b58016b253506cab70\",\n",
    ")\n",
    "\n",
    "user_private_key = IrohaCrypto.private_key()\n",
    "user_public_key = IrohaCrypto.derive_public_key(user_private_key)\n",
    "iroha = Iroha(ADMIN_ACCOUNT_ID)\n",
    "net = IrohaGrpc(\"{}:{}\".format(IROHA_HOST_ADDR, IROHA_PORT))\n",
    "\n",
    "# Connect to the IPFS node at a specific IP address\n",
    "ipfs_client = ipfshttpclient.connect('/dns/10.0.0.100/tcp/5001/http')\n",
    "\n",
    "\n",
    "# Read account attributes from a csv\n",
    "def read_accounts_from_csv(file_path):\n",
    "    accounts = []\n",
    "    with open(file_path, mode='r') as file:\n",
    "        csv_reader = csv.DictReader(file)\n",
    "        for row in csv_reader:\n",
    "            accounts.append({\n",
    "                'account_id': row['account_id']\n",
    "            })\n",
    "    return accounts\n",
    "\n",
    "\n",
    "# Path to the CSV file\n",
    "csv_file_path = 'datasets/accounts.csv'\n",
    "\n",
    "\n",
    "# Read accounts from CSV\n",
    "accounts = read_accounts_from_csv(csv_file_path)\n",
    "\n",
    "# Use the [n] account from the CSV for the example\n",
    "account = accounts[2]\n",
    "\n",
    "\n",
    "# Specify the path to the file you want to upload\n",
    "local_file_path = 'upload/Aeroacoustic-airfoil-shape-optimization-enhance_2023_Expert-Systems-with-App.pdf'\n",
    "\n",
    "\n",
    "# Get the file name from the path\n",
    "FILE_NAME = os.path.basename(local_file_path)\n",
    "print(FILE_NAME)\n",
    "\n",
    "\n",
    "@integration_helpers.trace\n",
    "def create_contract():\n",
    "    bytecode = \"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\"\n",
    "    \"\"\"Bytecode was generated using remix editor  https://remix.ethereum.org/ from file detail.sol. \"\"\"\n",
    "    tx = iroha.transaction(\n",
    "        [iroha.command(\"CallEngine\", caller=ADMIN_ACCOUNT_ID, input=bytecode)]\n",
    "    )\n",
    "    IrohaCrypto.sign_transaction(tx, ADMIN_PRIVATE_KEY)\n",
    "    net.send_tx(tx)\n",
    "    hex_hash = binascii.hexlify(IrohaCrypto.hash(tx))\n",
    "    for status in net.tx_status_stream(tx):\n",
    "        print(status)\n",
    "    return hex_hash\n",
    "\n",
    "\n",
    "@integration_helpers.trace\n",
    "\n",
    "def set_account_detail(address, account):\n",
    "    params = integration_helpers.get_first_four_bytes_of_keccak(\n",
    "        b\"setAccountDetail(string,string,string)\"\n",
    "    )\n",
    "    no_of_param = 3\n",
    "    for x in range(no_of_param):\n",
    "        params = params + integration_helpers.left_padded_address_of_param(\n",
    "            x, no_of_param\n",
    "        )\n",
    "    params = params + integration_helpers.argument_encoding(account['account_id'])  # source account id\n",
    "    params = params + integration_helpers.argument_encoding(\"metadata_cid\")  # key\n",
    "    params = params + integration_helpers.argument_encoding(metadata_cid)  #  value\n",
    "    tx = iroha.transaction(\n",
    "        [\n",
    "            iroha.command(\n",
    "                \"CallEngine\", caller=ADMIN_ACCOUNT_ID, callee=address, input=params\n",
    "            )\n",
    "        ]\n",
    "    )\n",
    "    IrohaCrypto.sign_transaction(tx, ADMIN_PRIVATE_KEY)\n",
    "    response = net.send_tx(tx)\n",
    "    print(response)\n",
    "    for status in net.tx_status_stream(tx):\n",
    "        print(status)\n",
    "    hex_hash = binascii.hexlify(IrohaCrypto.hash(tx))\n",
    "    return hex_hash\n",
    "\n",
    "\n",
    "@integration_helpers.trace\n",
    "def get_account_details():\n",
    "    params = integration_helpers.get_first_four_bytes_of_keccak(b\"getAccountDetail()\")\n",
    "    no_of_param = 0\n",
    "    tx = iroha.transaction(\n",
    "        [\n",
    "            iroha.command(\n",
    "                \"CallEngine\", caller=ADMIN_ACCOUNT_ID, callee=address, input=params\n",
    "            )\n",
    "        ]\n",
    "    )\n",
    "    IrohaCrypto.sign_transaction(tx, ADMIN_PRIVATE_KEY)\n",
    "    response = net.send_tx(tx)\n",
    "    for status in net.tx_status_stream(tx):\n",
    "        print(status)\n",
    "    hex_hash = binascii.hexlify(IrohaCrypto.hash(tx))\n",
    "    return hex_hash\n",
    "\n",
    "\n",
    "hash = create_contract()\n",
    "address = integration_helpers.get_engine_receipts_address(hash)\n",
    "# hash = get_account_details()\n",
    "integration_helpers.get_engine_receipts_result(hash)\n",
    "hash = set_account_detail(address, account)\n",
    "print(account)\n",
    "# hash = get_account_details()\n",
    "# integration_helpers.get_engine_receipts_result(hash)\n",
    "print(\"done\")\n",
    "\n",
    "\n",
    "#Query - GetAccountDetail\n",
    "query = iroha.query('GetAccountDetail',account_id=account['account_id'])\n",
    "IrohaCrypto.sign_query(query, ADMIN_PRIVATE_KEY)\n",
    "response = net.send_query(query)\n",
    "data = response.account_detail_response\n",
    "print(f'Account id = {account}, details = {data.detail}')\n"
   ]
  },
  {
   "cell_type": "code",
   "execution_count": null,
   "id": "f3d7d15a-1078-402c-8e18-ac1b7ae6bda9",
   "metadata": {},
   "outputs": [],
   "source": []
  }
 ],
 "metadata": {
  "kernelspec": {
   "display_name": "venv",
   "language": "python",
   "name": "venv"
  },
  "language_info": {
   "codemirror_mode": {
    "name": "ipython",
    "version": 3
   },
   "file_extension": ".py",
   "mimetype": "text/x-python",
   "name": "python",
   "nbconvert_exporter": "python",
   "pygments_lexer": "ipython3",
   "version": "3.9.19"
  }
 },
 "nbformat": 4,
 "nbformat_minor": 5
}
