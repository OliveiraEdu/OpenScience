{
 "cells": [
  {
   "cell_type": "markdown",
   "id": "11965914-6a6a-43b4-a793-01a3eda28617",
   "metadata": {},
   "source": [
    "# Artifact - Project Account Detail - JSON Extraction and IPFS Integration"
   ]
  },
  {
   "cell_type": "markdown",
   "id": "0f965815-8625-49cb-9627-267ef1a19069",
   "metadata": {},
   "source": [
    "** For requirements and initial setup go to https://github.com/OliveiraEdu/OpenScience/Readme.md **"
   ]
  },
  {
   "cell_type": "markdown",
   "id": "c2b074d9-3edc-410d-9972-222d9cbb551f",
   "metadata": {},
   "source": [
    "1.1 -  Contract Deployment"
   ]
  },
  {
   "cell_type": "code",
   "execution_count": null,
   "id": "9edd2c53-d314-48c4-97d4-30925cdb52a5",
   "metadata": {
    "editable": true,
    "slideshow": {
     "slide_type": ""
    },
    "tags": []
   },
   "outputs": [],
   "source": [
    "from Crypto.Hash import keccak\n",
    "import os\n",
    "import binascii\n",
    "from iroha import IrohaCrypto\n",
    "from iroha import Iroha, IrohaGrpc\n",
    "from iroha.ed25519 import H\n",
    "import integration_helpers\n",
    "from iroha.primitive_pb2 import can_set_my_account_detail\n",
    "import sys\n",
    "import csv\n",
    "import json\n",
    "\n",
    "if sys.version_info[0] < 3:\n",
    "    raise Exception(\"Python 3 or a more recent version is required.\")\n",
    "\n",
    "# Load configuration from config.json file\n",
    "config_path = \"config.json\"  # Update this path as needed\n",
    "with open(config_path, \"r\") as f:\n",
    "    config = json.load(f)\n",
    "\n",
    "IROHA_HOST_ADDR = config[\"IROHA_HOST_ADDR\"]\n",
    "IROHA_PORT = config[\"IROHA_PORT\"]\n",
    "ADMIN_ACCOUNT_ID = config[\"ADMIN_ACCOUNT_ID\"]\n",
    "ADMIN_PRIVATE_KEY = config[\"ADMIN_PRIVATE_KEY\"]\n",
    "\n",
    "iroha = Iroha(ADMIN_ACCOUNT_ID)\n",
    "net = IrohaGrpc(\"{}:{}\".format(IROHA_HOST_ADDR, IROHA_PORT))\n",
    "\n",
    "user_private_key = IrohaCrypto.private_key()\n",
    "user_public_key = IrohaCrypto.derive_public_key(user_private_key)\n",
    "\n",
    "# Read account attributes from a csv\n",
    "def read_accounts_from_csv(file_path):\n",
    "    accounts = []\n",
    "    with open(file_path, mode='r') as file:\n",
    "        csv_reader = csv.DictReader(file)\n",
    "        for row in csv_reader:\n",
    "            accounts.append({\n",
    "                'account_id': row['project_id']\n",
    "            })\n",
    "    return accounts\n",
    "\n",
    "# Path to the CSV file\n",
    "csv_file_path = 'datasets/projects.csv'\n",
    "\n",
    "# Read accounts from CSV\n",
    "accounts = read_accounts_from_csv(csv_file_path)\n",
    "\n",
    "# Use the [n] account from the CSV for the example\n",
    "account = accounts[1]\n",
    "\n",
    "@integration_helpers.trace\n",
    "def create_contract():\n",
    "    bytecode = \"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\"\n",
    "    \"\"\"Bytecode was generated using remix editor  https://remix.ethereum.org/ from file detail.sol. \"\"\"\n",
    "    tx = iroha.transaction(\n",
    "        [iroha.command(\"CallEngine\", caller=ADMIN_ACCOUNT_ID, input=bytecode)]\n",
    "    )\n",
    "    IrohaCrypto.sign_transaction(tx, ADMIN_PRIVATE_KEY)\n",
    "    net.send_tx(tx)\n",
    "    hex_hash = binascii.hexlify(IrohaCrypto.hash(tx))\n",
    "    for status in net.tx_status_stream(tx):\n",
    "        print(status)\n",
    "    return hex_hash\n",
    "\n",
    "\n",
    "@integration_helpers.trace\n",
    "def set_account_detail(address, account, variable_1, variable_2):\n",
    "    params = integration_helpers.get_first_four_bytes_of_keccak(\n",
    "        b\"setAccountDetail(string,string,string)\"\n",
    "    )\n",
    "    no_of_param = 3\n",
    "    for x in range(no_of_param):\n",
    "        params = params + integration_helpers.left_padded_address_of_param(\n",
    "            x, no_of_param\n",
    "        )\n",
    "    params = params + integration_helpers.argument_encoding(\n",
    "        account['account_id']\n",
    "    )  # source account id\n",
    "    params = params + integration_helpers.argument_encoding(variable_1)  # key\n",
    "    params = params + integration_helpers.argument_encoding(variable_2)  #  value\n",
    "    tx = iroha.transaction(\n",
    "        [\n",
    "            iroha.command(\n",
    "                \"CallEngine\", caller=ADMIN_ACCOUNT_ID, callee=address, input=params\n",
    "            )\n",
    "        ]\n",
    "    )\n",
    "    IrohaCrypto.sign_transaction(tx, ADMIN_PRIVATE_KEY)\n",
    "    response = net.send_tx(tx)\n",
    "    print(response)\n",
    "    for status in net.tx_status_stream(tx):\n",
    "        print(status)\n",
    "    hex_hash = binascii.hexlify(IrohaCrypto.hash(tx))\n",
    "    return hex_hash\n",
    "\n",
    "\n",
    "@integration_helpers.trace\n",
    "def get_account_details():\n",
    "    params = integration_helpers.get_first_four_bytes_of_keccak(b\"getAccountDetail()\")\n",
    "    no_of_param = 0\n",
    "    tx = iroha.transaction(\n",
    "        [\n",
    "            iroha.command(\n",
    "                \"CallEngine\", caller=ADMIN_ACCOUNT_ID, callee=address, input=params\n",
    "            )\n",
    "        ]\n",
    "    )\n",
    "    IrohaCrypto.sign_transaction(tx, ADMIN_PRIVATE_KEY)\n",
    "    response = net.send_tx(tx)\n",
    "    for status in net.tx_status_stream(tx):\n",
    "        print(status)\n",
    "    hex_hash = binascii.hexlify(IrohaCrypto.hash(tx))\n",
    "    return hex_hash\n",
    "\n",
    "\n",
    "hash = create_contract()\n",
    "address = integration_helpers.get_engine_receipts_address(hash)\n",
    "integration_helpers.get_engine_receipts_result(hash)\n",
    "print(\"done\")\n"
   ]
  },
  {
   "cell_type": "markdown",
   "id": "a4ea1051-cb1c-4c29-97e5-38ba90248081",
   "metadata": {},
   "source": [
    "1.2 -  Account Detail Setting\n",
    "\n",
    "Extracts metadata info from 'assets.json' and injects it as account details, calling function `set_account_details`"
   ]
  },
  {
   "cell_type": "code",
   "execution_count": null,
   "id": "33711048-de5d-4797-a10e-3a61ee142729",
   "metadata": {},
   "outputs": [],
   "source": [
    "from ipfs_functions import *\n",
    "\n",
    "from json_processing import *\n",
    "\n",
    "def main():\n",
    "    file_path = os.path.join('upload', 'assets.json')\n",
    "    try:\n",
    "        with open(file_path, 'r') as f:\n",
    "            data = json.load(f)\n",
    "    except FileNotFoundError as e:\n",
    "        print(f\"File not found: {e}\")\n",
    "    else:\n",
    "        \n",
    "        result = process_json_data(data)\n",
    "        \n",
    "        metadata_cids = []\n",
    "        file_cids = []\n",
    "\n",
    "        for i in range(len(result['file_cids'])):\n",
    "            file_cid = result['file_cids'][i][\"cid\"]\n",
    "            json_cid_value = result['file_cids'][i][\"json_cid_value\"]\n",
    "\n",
    "            metadata_cids.append(json_cid_value)\n",
    "            file_cids.append(file_cid)\n",
    "\n",
    "        metadata_index = 0\n",
    "        file_index = 0\n",
    "\n",
    "        while metadata_index < len(metadata_cids) and file_index < len(file_cids):\n",
    "            variable_1 = f\"file_{metadata_index+1}_metadata_CID\"\n",
    "            variable_2 = metadata_cids[metadata_index]\n",
    "            print(f\"{variable_1} = {variable_2}\")\n",
    "            metadata_index += 1\n",
    "            hash = set_account_detail(address, account, variable_1, variable_2)\n",
    "            print(account)\n",
    "\n",
    "            if metadata_index <= len(metadata_cids) and file_index < len(file_cids):\n",
    "                variable_1 = f\"file_{metadata_index}_CID\"\n",
    "                variable_2 = file_cids[file_index]\n",
    "                print(f\"{variable_1} = {variable_2}\")\n",
    "                file_index += 1\n",
    "                hash = set_account_detail(address, account, variable_1, variable_2)\n",
    "                print(account)\n",
    "\n",
    "if __name__ == '__main__':\n",
    "    main()"
   ]
  },
  {
   "cell_type": "code",
   "execution_count": 15,
   "id": "56f6343e-7a08-4e24-90fe-7aaf22bdc60c",
   "metadata": {},
   "outputs": [
    {
     "name": "stderr",
     "output_type": "stream",
     "text": [
      "ic| result['Name']: 'assets.csv'\n",
      "    result['Hash']: 'QmWRMwc5taM4BaapEhLPpmZVPrN7WmxoEyyaQvoSgUqfWW'\n",
      "ic| file_metadata_CID: 'QmPxNAXjvFN7jZnSWWc5K3NhBzxQBC2qBRbNCSJrQjuS9T'\n",
      "ic| result['Name']: 'Diabetic-retinopathy-identification-using-parallel-convo_2023_Expert-Systems.pdf'\n",
      "    result['Hash']: 'QmT7ximApXtExAedhzUHGHDwRismRzuKykpH4dgTvGrNZs'\n"
     ]
    },
    {
     "name": "stdout",
     "output_type": "stream",
     "text": [
      "upload/assets.csv\n",
      "1\n",
      "file_1_CID\n",
      "QmWRMwc5taM4BaapEhLPpmZVPrN7WmxoEyyaQvoSgUqfWW\n",
      "file_1_metadata_CID\n",
      "upload/Diabetic-retinopathy-identification-using-parallel-convo_2023_Expert-Systems.pdf\n",
      "2\n",
      "file_2_CID\n",
      "QmT7ximApXtExAedhzUHGHDwRismRzuKykpH4dgTvGrNZs\n"
     ]
    },
    {
     "name": "stderr",
     "output_type": "stream",
     "text": [
      "ic| file_metadata_CID: 'Qmeo9LGEuBCVXNCsbn4zxb8ZvonFC6Pc3gjurYeenBXgUy'\n",
      "ic| result['Name']: 'Munafò et al. - 2022 - The reproducibility debate is an opportunity, not .pdf'\n",
      "    result['Hash']: 'QmdiRawzVNUiB28ENKQ7WefeFLEJ1xMjsJjwtHL2jnJ9xW'\n",
      "ic| file_metadata_CID: 'QmcUddPCezj8TNbXqr2MiS8fVNAWeBgcFknFEA6LyKR6Ep'\n",
      "ic| result['Name']: 'assets.json'\n",
      "    result['Hash']: 'QmZ9tmsiUTt22eyHqkA84wns29sWwZ94LGHBZzUjbaGwFu'\n",
      "ic| file_metadata_CID: 'QmbLAD65YgcJSo3E6RdTVQohYTQ2TV3kcmcb1KCFcrTHgq'\n"
     ]
    },
    {
     "name": "stdout",
     "output_type": "stream",
     "text": [
      "file_2_metadata_CID\n",
      "upload/Munafò et al. - 2022 - The reproducibility debate is an opportunity, not .pdf\n",
      "3\n",
      "file_3_CID\n",
      "QmdiRawzVNUiB28ENKQ7WefeFLEJ1xMjsJjwtHL2jnJ9xW\n",
      "file_3_metadata_CID\n",
      "upload/assets.json\n",
      "4\n",
      "file_4_CID\n",
      "QmZ9tmsiUTt22eyHqkA84wns29sWwZ94LGHBZzUjbaGwFu\n",
      "file_4_metadata_CID\n",
      "upload/Mel-Spectrogram-based-advanced-deep-temporal-clusterin_2023_Expert-Systems-w.pdf\n"
     ]
    },
    {
     "name": "stderr",
     "output_type": "stream",
     "text": [
      "ic| result['Name']: 'Mel-Spectrogram-based-advanced-deep-temporal-clusterin_2023_Expert-Systems-w.pdf'\n",
      "    result['Hash']: 'QmXquoApMLCcauNkz4tYw1Sp2tsqZ4edv1YtnQi5pmbw6C'\n",
      "ic| file_metadata_CID: 'QmPgVNGQYSacGPMMPdxnZUySX19hLoa7hiHVeF59bZwsbE'\n",
      "ic| result['Name']: 'Aeroacoustic-airfoil-shape-optimization-enhance_2023_Expert-Systems-with-App.pdf'\n",
      "    result['Hash']: 'QmXh37WXcrLXkJX2cAPjbPdKZ2cxJXD58XX6eU1Zc41ka4'\n"
     ]
    },
    {
     "name": "stdout",
     "output_type": "stream",
     "text": [
      "5\n",
      "file_5_CID\n",
      "QmXquoApMLCcauNkz4tYw1Sp2tsqZ4edv1YtnQi5pmbw6C\n",
      "file_5_metadata_CID\n",
      "upload/Aeroacoustic-airfoil-shape-optimization-enhance_2023_Expert-Systems-with-App.pdf\n",
      "6\n",
      "file_6_CID\n",
      "QmXh37WXcrLXkJX2cAPjbPdKZ2cxJXD58XX6eU1Zc41ka4\n"
     ]
    },
    {
     "name": "stderr",
     "output_type": "stream",
     "text": [
      "ic| file_metadata_CID: 'QmabVBfwDxyRURRoPRLud3T53p6v2EW1YPUfxPSQ64A8Dp'\n",
      "ic| result['Name']: 'COVID19-MLSF--A-multi-task-learning-based-stock-market_2023_Expert-Systems-w.pdf'\n",
      "    result['Hash']: 'QmUq29KRwpTdvScB5oYzEDobDHyb4N1f9eaZXm4VaMCgiW'\n"
     ]
    },
    {
     "name": "stdout",
     "output_type": "stream",
     "text": [
      "file_6_metadata_CID\n",
      "upload/COVID19-MLSF--A-multi-task-learning-based-stock-market_2023_Expert-Systems-w.pdf\n",
      "7\n",
      "file_7_CID\n",
      "QmUq29KRwpTdvScB5oYzEDobDHyb4N1f9eaZXm4VaMCgiW\n"
     ]
    },
    {
     "name": "stderr",
     "output_type": "stream",
     "text": [
      "ic| file_metadata_CID: 'QmafX6WF5aLwWUDnPFHfQSEqUK7mAQHxtEuNjCFY3YxAFT'\n",
      "ic| result['Name']: 'World_Energy_By_Country_And_Region_1965_to_2023.csv'\n",
      "    result['Hash']: 'QmSSY49SnmbCZ3oSaTki7CYZe1ZaWZfE1CsWHpt8Ge7acJ'\n",
      "ic| file_metadata_CID: 'QmeNZfzLVGqAM8rArUzQFi56B2BT5rSee3mjnWZCvcMgyM'\n",
      "ic| result['Name']: 'Deep-learning-in-insurance--Accuracy-and-model-int_2023_Expert-Systems-with-.pdf'\n",
      "    result['Hash']: 'QmV1vYkuiwKGPA5Tyi4ECNFfWYocyTtQ3E5j7CSvPBX49Q'\n"
     ]
    },
    {
     "name": "stdout",
     "output_type": "stream",
     "text": [
      "file_7_metadata_CID\n",
      "upload/World_Energy_By_Country_And_Region_1965_to_2023.csv\n",
      "8\n",
      "file_8_CID\n",
      "QmSSY49SnmbCZ3oSaTki7CYZe1ZaWZfE1CsWHpt8Ge7acJ\n",
      "file_8_metadata_CID\n",
      "upload/Deep-learning-in-insurance--Accuracy-and-model-int_2023_Expert-Systems-with-.pdf\n",
      "9\n",
      "file_9_CID\n",
      "QmV1vYkuiwKGPA5Tyi4ECNFfWYocyTtQ3E5j7CSvPBX49Q\n"
     ]
    },
    {
     "name": "stderr",
     "output_type": "stream",
     "text": [
      "ic| file_metadata_CID: 'QmfFa6RYjNWygojdBpFWzxYFW3Ea9Ldh4dNnAXteikNBFE'\n",
      "ic| result['Name']: 'Jean-Baptiste_Perronneau_-_Magdaleine_Pinceloup_de_la_Grange,_née_de_Parseval.jpg'\n",
      "    result['Hash']: 'QmVTTcqbGvYRn7n7uPYwk4vi8NdbeYvnZkX9MVT3byrAx2'\n",
      "ic| file_metadata_CID: 'QmNcG2poMQcqj8GP5n7ptGcwGoy3dSg6EeVbuvvcFHiX8s'\n",
      "ic| result['Name']: 'bitcoin.pdf'\n",
      "    result['Hash']: 'QmRA3NWM82ZGynMbYzAgYTSXCVM14Wx1RZ8fKP42G6gjgj'\n",
      "ic| file_metadata_CID: 'QmcccrbYX3BRumGvN3idG8ZHxhW2BZ9geDLPMEQEUHzKg3'\n",
      "ic| result['Name']: 'hello_world.py'\n",
      "    result['Hash']: 'QmeBTz4ZwyqPkPigpASZ3wJodBXzJRpeXQMwNcsWRqU5Jv'\n",
      "ic| file_metadata_CID: 'QmfYQVRxTDTe8T1yQk3Q4y2STJQvpfZ693b1sSvp8gKeQy'\n"
     ]
    },
    {
     "name": "stdout",
     "output_type": "stream",
     "text": [
      "file_9_metadata_CID\n",
      "upload/Jean-Baptiste_Perronneau_-_Magdaleine_Pinceloup_de_la_Grange,_née_de_Parseval.jpg\n",
      "10\n",
      "file_10_CID\n",
      "QmVTTcqbGvYRn7n7uPYwk4vi8NdbeYvnZkX9MVT3byrAx2\n",
      "file_10_metadata_CID\n",
      "upload/bitcoin.pdf\n",
      "11\n",
      "file_11_CID\n",
      "QmRA3NWM82ZGynMbYzAgYTSXCVM14Wx1RZ8fKP42G6gjgj\n",
      "file_11_metadata_CID\n",
      "upload/hello_world.py\n",
      "12\n",
      "file_12_CID\n",
      "QmeBTz4ZwyqPkPigpASZ3wJodBXzJRpeXQMwNcsWRqU5Jv\n",
      "file_12_metadata_CID\n",
      "upload/.ipynb_checkpoints\n"
     ]
    },
    {
     "ename": "TypeError",
     "evalue": "list indices must be integers or slices, not str",
     "output_type": "error",
     "traceback": [
      "\u001b[0;31m---------------------------------------------------------------------------\u001b[0m",
      "\u001b[0;31mTypeError\u001b[0m                                 Traceback (most recent call last)",
      "Cell \u001b[0;32mIn[15], line 51\u001b[0m\n\u001b[1;32m     44\u001b[0m                 \u001b[38;5;28mprint\u001b[39m(\u001b[38;5;124mf\u001b[39m\u001b[38;5;124m\"\u001b[39m\u001b[38;5;124mAn error occurred with file \u001b[39m\u001b[38;5;124m'\u001b[39m\u001b[38;5;132;01m{\u001b[39;00mfilename\u001b[38;5;132;01m}\u001b[39;00m\u001b[38;5;124m'\u001b[39m\u001b[38;5;124m: \u001b[39m\u001b[38;5;132;01m{\u001b[39;00me\u001b[38;5;132;01m}\u001b[39;00m\u001b[38;5;124m\"\u001b[39m)\n\u001b[1;32m     46\u001b[0m         \u001b[38;5;66;03m# hash = set_account_detail(address, account, variable_1, variable_2)\u001b[39;00m\n\u001b[1;32m     47\u001b[0m         \u001b[38;5;66;03m# print(account)\u001b[39;00m\n\u001b[1;32m     48\u001b[0m \n\u001b[1;32m     49\u001b[0m \n\u001b[1;32m     50\u001b[0m \u001b[38;5;66;03m# Example usage\u001b[39;00m\n\u001b[0;32m---> 51\u001b[0m \u001b[43mparse_documents_in_directory\u001b[49m\u001b[43m(\u001b[49m\u001b[38;5;124;43m\"\u001b[39;49m\u001b[38;5;124;43mupload\u001b[39;49m\u001b[38;5;124;43m\"\u001b[39;49m\u001b[43m)\u001b[49m\n",
      "Cell \u001b[0;32mIn[15], line 14\u001b[0m, in \u001b[0;36mparse_documents_in_directory\u001b[0;34m(directory_path)\u001b[0m\n\u001b[1;32m     12\u001b[0m file_path \u001b[38;5;241m=\u001b[39m os\u001b[38;5;241m.\u001b[39mpath\u001b[38;5;241m.\u001b[39mjoin(directory_path, filename)\n\u001b[1;32m     13\u001b[0m \u001b[38;5;28mprint\u001b[39m(file_path)\n\u001b[0;32m---> 14\u001b[0m file_cid \u001b[38;5;241m=\u001b[39m \u001b[43mupload_file_to_ipfs\u001b[49m\u001b[43m(\u001b[49m\u001b[43mfile_path\u001b[49m\u001b[43m)\u001b[49m\n\u001b[1;32m     15\u001b[0m index \u001b[38;5;241m+\u001b[39m\u001b[38;5;241m=\u001b[39m \u001b[38;5;241m1\u001b[39m\n\u001b[1;32m     16\u001b[0m \u001b[38;5;28mprint\u001b[39m (index)\n",
      "File \u001b[0;32m~/OpenScience/ipfs_functions.py:20\u001b[0m, in \u001b[0;36mupload_file_to_ipfs\u001b[0;34m(file_path)\u001b[0m\n\u001b[1;32m     17\u001b[0m \u001b[38;5;28;01mdef\u001b[39;00m \u001b[38;5;21mupload_file_to_ipfs\u001b[39m(file_path):\n\u001b[1;32m     18\u001b[0m     \u001b[38;5;66;03m# Add the file to IPFS\u001b[39;00m\n\u001b[1;32m     19\u001b[0m     result \u001b[38;5;241m=\u001b[39m client\u001b[38;5;241m.\u001b[39madd(file_path)\n\u001b[0;32m---> 20\u001b[0m     ic(\u001b[43mresult\u001b[49m\u001b[43m[\u001b[49m\u001b[38;5;124;43m'\u001b[39;49m\u001b[38;5;124;43mName\u001b[39;49m\u001b[38;5;124;43m'\u001b[39;49m\u001b[43m]\u001b[49m, result[\u001b[38;5;124m'\u001b[39m\u001b[38;5;124mHash\u001b[39m\u001b[38;5;124m'\u001b[39m])\n\u001b[1;32m     21\u001b[0m     value \u001b[38;5;241m=\u001b[39m result[\u001b[38;5;124m'\u001b[39m\u001b[38;5;124mHash\u001b[39m\u001b[38;5;124m'\u001b[39m]\n\u001b[1;32m     22\u001b[0m     \u001b[38;5;28;01mreturn\u001b[39;00m value\n",
      "\u001b[0;31mTypeError\u001b[0m: list indices must be integers or slices, not str"
     ]
    }
   ],
   "source": [
    "import os\n",
    "import json\n",
    "from tika import parser\n",
    "from ipfs_functions import *\n",
    "import icecream as ic\n",
    "\n",
    "def parse_documents_in_directory(directory_path):\n",
    "    \n",
    "    index = 0\n",
    "    \n",
    "    for filename in os.listdir(directory_path):\n",
    "        file_path = os.path.join(directory_path, filename)\n",
    "        print(file_path)\n",
    "        file_cid = upload_file_to_ipfs(file_path)\n",
    "        index += 1\n",
    "        print (index)\n",
    "        \n",
    "        variable_1 = f\"file_{index}_CID\"\n",
    "        \n",
    "        print(variable_1)\n",
    "        \n",
    "        variable_2 = file_cid\n",
    "        \n",
    "        print (variable_2)\n",
    "        \n",
    "        # Check if it's a file and not a directory\n",
    "        if os.path.isfile(file_path):\n",
    "            try:\n",
    "                parsed_document = parser.from_file(file_path)\n",
    "                \n",
    "                # Check if parsing was successful\n",
    "                if 'status' in parsed_document and parsed_document['status'] == 200:\n",
    "                    metadata = parsed_document.get('metadata', {})\n",
    "                    upload_json_to_ipfs(metadata)\n",
    "                    \n",
    "                    variable_2 = f\"file_{index}_metadata_CID\"\n",
    "                    print (variable_2)\n",
    "        \n",
    "                    \n",
    "                else:\n",
    "                    print(f\"Parsing failed for '{filename}' with status: {parsed_document.get('status')}\")\n",
    "            \n",
    "            except Exception as e:\n",
    "                print(f\"An error occurred with file '{filename}': {e}\")\n",
    "\n",
    "        # hash = set_account_detail(address, account, variable_1, variable_2)\n",
    "        # print(account)\n",
    "\n",
    "\n",
    "# Example usage\n",
    "parse_documents_in_directory(\"upload\")\n"
   ]
  },
  {
   "cell_type": "markdown",
   "id": "3562857c-d86d-42cf-a24b-23a5c3f5cb4e",
   "metadata": {},
   "source": [
    "1.3 - Queries the account and checks the proper setting of details."
   ]
  },
  {
   "cell_type": "code",
   "execution_count": null,
   "id": "931dbcd1-80b5-43a4-a855-4ddba9083450",
   "metadata": {},
   "outputs": [],
   "source": [
    "#Query - GetAccountDetail\n",
    "query = iroha.query('GetAccountDetail',account_id=account['account_id'])\n",
    "IrohaCrypto.sign_query(query, ADMIN_PRIVATE_KEY)\n",
    "response = net.send_query(query)\n",
    "data = response.account_detail_response\n",
    "print(f'Account id = {account}, details = {data.detail}')"
   ]
  },
  {
   "cell_type": "markdown",
   "id": "88167ba4-8e4e-40f7-aadf-0061f3d6b178",
   "metadata": {},
   "source": [
    "1.4 - Queries the account above and extract details to download files and metadatada"
   ]
  },
  {
   "cell_type": "code",
   "execution_count": null,
   "id": "36042b70-c047-41d1-86ac-0133851abf01",
   "metadata": {},
   "outputs": [],
   "source": [
    "from ipfs_functions import *\n",
    "\n",
    "# Process the account details response\n",
    "account_details_dict = json.loads(data.detail)  # Convert the string to a JSON object\n",
    "# ic(account_details_dict)\n",
    "\n",
    "# Get the value of the dictionary (the actual file metadata)\n",
    "files_metadata = account_details_dict['admin@test']\n",
    "ic(files_metadata)\n",
    "\n",
    "\n",
    "for key, value in files_metadata.items():\n",
    "    if 'metadata_CID' not in key:  # Check if this is a file CID\n",
    "        key = '_'.join(key.split('_')[:-1])+\"_CID\"    \n",
    "        ic(key)\n",
    "        file_CID = value\n",
    "        ic(value)\n",
    "        \n",
    "    else:\n",
    "        file_metadata_key = '_'.join(key.split('_')[:-2])  # Extract the actual filename from the key\n",
    "        ic(file_metadata_key)\n",
    "        file_metadata_CID = value  # Get the corresponding metadata CID\n",
    "        ic(file_metadata_CID)\n",
    "        # print(f\"Downloading {file_metadata_CID} metadata...\")\n",
    "        file_metadata_json = download_json_from_ipfs(file_metadata_CID)\n",
    "        ic(file_metadata_json)\n",
    "        if 'file_name' in file_metadata_json:  # check if key exists in the dictionary\n",
    "                original_file_name = file_metadata_json['file_name']\n",
    "                ic(original_file_name)\n",
    "                ic(20*\"-\")\n",
    "                # ic(type(original_file_name))\n",
    "                download_file_from_ipfs(file_CID, \"download/\" + original_file_name)"
   ]
  },
  {
   "cell_type": "code",
   "execution_count": null,
   "id": "bb4d160c-147e-4193-ac96-e2dc6f47d587",
   "metadata": {},
   "outputs": [],
   "source": []
  }
 ],
 "metadata": {
  "kernelspec": {
   "display_name": "Python 3 (ipykernel)",
   "language": "python",
   "name": "python3"
  },
  "language_info": {
   "codemirror_mode": {
    "name": "ipython",
    "version": 3
   },
   "file_extension": ".py",
   "mimetype": "text/x-python",
   "name": "python",
   "nbconvert_exporter": "python",
   "pygments_lexer": "ipython3",
   "version": "3.9.20"
  }
 },
 "nbformat": 4,
 "nbformat_minor": 5
}
