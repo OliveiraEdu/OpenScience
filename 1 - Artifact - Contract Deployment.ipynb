{
 "cells": [
  {
   "cell_type": "markdown",
   "id": "f43de376-bb3c-4f4a-b6c3-eeddbd4cf2ae",
   "metadata": {},
   "source": [
    "**IMPORTANT** \n",
    "\n",
    "- For requirements and initial setup go to https://github.com/OliveiraEdu/OpenScience/Readme.md;\n",
    "- To execute the notebook run all cells."
   ]
  },
  {
   "attachments": {},
   "cell_type": "markdown",
   "id": "335e6bc9-be10-4431-ba0d-fa83ba7b40fc",
   "metadata": {},
   "source": [
    "# Notebook 1 - Open Science Platform  - Contract Deployment"
   ]
  },
  {
   "cell_type": "markdown",
   "id": "c2b074d9-3edc-410d-9972-222d9cbb551f",
   "metadata": {},
   "source": [
    "## Activities\n",
    "\n",
    "1 - Deploys a smart contract into the Iroha 1 blockchain for account creation;\n",
    "\n",
    "2 - Deploys a smart contract into the Iroha 1 blockchain for details (attributes) setting;\n",
    "\n",
    "3 - Save contract and hash for use on the other Notebooks."
   ]
  },
  {
   "cell_type": "code",
   "execution_count": 3,
   "id": "4a7fb0ca-47eb-4483-a66a-46078e7ad7a2",
   "metadata": {},
   "outputs": [],
   "source": [
    "from iroha_helper import *\n",
    "from new_helper import dump_variable\n",
    "from loguru import logger"
   ]
  },
  {
   "cell_type": "markdown",
   "id": "7b725df0-17e6-4b4f-9f23-127c39f8d2d3",
   "metadata": {},
   "source": [
    "1 - Deploys a smart contract into the Iroha 1 blockchain for account creation"
   ]
  },
  {
   "cell_type": "code",
   "execution_count": 4,
   "id": "1e544b8a-5690-4ba4-b776-b8304b402d44",
   "metadata": {},
   "outputs": [
    {
     "name": "stderr",
     "output_type": "stream",
     "text": [
      "\u001b[32m2025-02-06 23:08:24.166\u001b[0m | \u001b[34m\u001b[1mDEBUG   \u001b[0m | \u001b[36mintegration_helpers\u001b[0m:\u001b[36mtracer\u001b[0m:\u001b[36m35\u001b[0m - \u001b[34m\u001b[1m\tEntering \"create_account_contract\"\u001b[0m\n",
      "2025-02-06 23:08:24,173 - INFO - ('STATELESS_VALIDATION_SUCCESS', 1, 0)\n",
      "2025-02-06 23:08:24,173 - INFO - ('ENOUGH_SIGNATURES_COLLECTED', 9, 0)\n",
      "2025-02-06 23:08:24,617 - INFO - ('STATEFUL_VALIDATION_SUCCESS', 3, 0)\n",
      "2025-02-06 23:08:24,629 - INFO - ('COMMITTED', 5, 0)\n",
      "\u001b[32m2025-02-06 23:08:24.632\u001b[0m | \u001b[34m\u001b[1mDEBUG   \u001b[0m | \u001b[36mintegration_helpers\u001b[0m:\u001b[36mtracer\u001b[0m:\u001b[36m35\u001b[0m - \u001b[34m\u001b[1m\tEntering \"get_engine_receipts_address\"\u001b[0m\n",
      "\u001b[32m2025-02-06 23:08:24.653\u001b[0m | \u001b[1mINFO    \u001b[0m | \u001b[36mintegration_helpers\u001b[0m:\u001b[36mget_engine_receipts_address\u001b[0m:\u001b[36m96\u001b[0m - \u001b[1mRetrieved contract address for transaction hash: b'3755751161cb4af7fba460f6fb38cce2b908d523bb33bafea1273ab73b613776'\u001b[0m\n",
      "\u001b[32m2025-02-06 23:08:24.654\u001b[0m | \u001b[34m\u001b[1mDEBUG   \u001b[0m | \u001b[36mintegration_helpers\u001b[0m:\u001b[36mget_engine_receipts_address\u001b[0m:\u001b[36m97\u001b[0m - \u001b[34m\u001b[1mContract address: BD0274D8D8C2EE62AEB41678578DA174A4CE7BA1\u001b[0m\n",
      "\u001b[32m2025-02-06 23:08:24.656\u001b[0m | \u001b[34m\u001b[1mDEBUG   \u001b[0m | \u001b[36mintegration_helpers\u001b[0m:\u001b[36mtracer\u001b[0m:\u001b[36m37\u001b[0m - \u001b[34m\u001b[1m\tLeaving \"get_engine_receipts_address\"\u001b[0m\n",
      "\u001b[32m2025-02-06 23:08:24.657\u001b[0m | \u001b[34m\u001b[1mDEBUG   \u001b[0m | \u001b[36mintegration_helpers\u001b[0m:\u001b[36mtracer\u001b[0m:\u001b[36m37\u001b[0m - \u001b[34m\u001b[1m\tLeaving \"create_account_contract\"\u001b[0m\n",
      "\u001b[32m2025-02-06 23:08:24.658\u001b[0m | \u001b[1mINFO    \u001b[0m | \u001b[36m__main__\u001b[0m:\u001b[36m<module>\u001b[0m:\u001b[36m4\u001b[0m - \u001b[1mb'3755751161cb4af7fba460f6fb38cce2b908d523bb33bafea1273ab73b613776'\u001b[0m\n"
     ]
    }
   ],
   "source": [
    "from integration_helpers import get_engine_receipts_address\n",
    "# - Deploy contract\n",
    "create_account_contract_hash = create_account_contract()\n",
    "logger.info(create_account_contract_hash)\n"
   ]
  },
  {
   "cell_type": "markdown",
   "id": "67c02e8b-29de-4e52-b83a-37e1c4f23061",
   "metadata": {},
   "source": [
    "1.1 - Saves contract and hash for use on the other Notebooks"
   ]
  },
  {
   "cell_type": "code",
   "execution_count": 5,
   "id": "61fcec4d-b9ad-4a44-a3d9-e47194146885",
   "metadata": {},
   "outputs": [
    {
     "name": "stderr",
     "output_type": "stream",
     "text": [
      "2025-02-06 23:08:24,676 - INFO - Variable 'Create Account Hash' successfully dumped to temp/Create Account Hash.json\n"
     ]
    }
   ],
   "source": [
    "# Dumping the variable to JSON\n",
    "dump_variable(create_account_contract_hash, \"Create Account Hash\")\n",
    "\n"
   ]
  },
  {
   "cell_type": "markdown",
   "id": "62d54200-d179-4d6e-9461-b27b17b4b308",
   "metadata": {},
   "source": [
    "2 - Deploys a smart contract into the Iroha 1 blockchain for details (attributes) setting."
   ]
  },
  {
   "cell_type": "code",
   "execution_count": null,
   "id": "b625e19f-baa7-4e78-afed-902850e54c6a",
   "metadata": {},
   "outputs": [
    {
     "name": "stderr",
     "output_type": "stream",
     "text": [
      "\u001b[32m2025-02-06 23:08:24.736\u001b[0m | \u001b[34m\u001b[1mDEBUG   \u001b[0m | \u001b[36mintegration_helpers\u001b[0m:\u001b[36mtracer\u001b[0m:\u001b[36m35\u001b[0m - \u001b[34m\u001b[1m\tEntering \"create_detail_contract\"\u001b[0m\n",
      "2025-02-06 23:08:24,757 - INFO - ('STATELESS_VALIDATION_SUCCESS', 1, 0)\n"
     ]
    },
    {
     "name": "stderr",
     "output_type": "stream",
     "text": [
      "2025-02-06 23:08:24,761 - INFO - ('ENOUGH_SIGNATURES_COLLECTED', 9, 0)\n",
      "2025-02-06 23:08:27,661 - INFO - ('STATEFUL_VALIDATION_SUCCESS', 3, 0)\n",
      "2025-02-06 23:08:27,672 - INFO - ('COMMITTED', 5, 0)\n",
      "\u001b[32m2025-02-06 23:08:27.674\u001b[0m | \u001b[34m\u001b[1mDEBUG   \u001b[0m | \u001b[36mintegration_helpers\u001b[0m:\u001b[36mtracer\u001b[0m:\u001b[36m35\u001b[0m - \u001b[34m\u001b[1m\tEntering \"get_engine_receipts_address\"\u001b[0m\n",
      "\u001b[32m2025-02-06 23:08:27.697\u001b[0m | \u001b[1mINFO    \u001b[0m | \u001b[36mintegration_helpers\u001b[0m:\u001b[36mget_engine_receipts_address\u001b[0m:\u001b[36m96\u001b[0m - \u001b[1mRetrieved contract address for transaction hash: b'7a4c701789eeae86aef2ece85a451011078f426a726266ef6cca8bdfb381fb83'\u001b[0m\n",
      "\u001b[32m2025-02-06 23:08:27.699\u001b[0m | \u001b[34m\u001b[1mDEBUG   \u001b[0m | \u001b[36mintegration_helpers\u001b[0m:\u001b[36mget_engine_receipts_address\u001b[0m:\u001b[36m97\u001b[0m - \u001b[34m\u001b[1mContract address: 97556503B86187EE5F5797D47110770D61B5A362\u001b[0m\n",
      "\u001b[32m2025-02-06 23:08:27.700\u001b[0m | \u001b[34m\u001b[1mDEBUG   \u001b[0m | \u001b[36mintegration_helpers\u001b[0m:\u001b[36mtracer\u001b[0m:\u001b[36m37\u001b[0m - \u001b[34m\u001b[1m\tLeaving \"get_engine_receipts_address\"\u001b[0m\n",
      "\u001b[32m2025-02-06 23:08:27.701\u001b[0m | \u001b[34m\u001b[1mDEBUG   \u001b[0m | \u001b[36mintegration_helpers\u001b[0m:\u001b[36mtracer\u001b[0m:\u001b[36m37\u001b[0m - \u001b[34m\u001b[1m\tLeaving \"create_detail_contract\"\u001b[0m\n"
     ]
    }
   ],
   "source": [
    "# - Deploys the contract\n",
    "account_detail_contract_hash = create_detail_contract()"
   ]
  },
  {
   "cell_type": "markdown",
   "id": "e5e51802-8f51-40ad-92d0-55ea50e2b090",
   "metadata": {},
   "source": [
    "2.1 - Saves contract and hash for use on the other Notebooks"
   ]
  },
  {
   "cell_type": "code",
   "execution_count": 7,
   "id": "28e01b0b-44fb-422a-8afe-18da114e5d93",
   "metadata": {},
   "outputs": [
    {
     "name": "stderr",
     "output_type": "stream",
     "text": [
      "2025-02-06 23:08:27,719 - INFO - Variable 'Account Detail Contract Hash' successfully dumped to temp/Account Detail Contract Hash.json\n"
     ]
    }
   ],
   "source": [
    "# Dumping the variable to JSON\n",
    "dump_variable(account_detail_contract_hash, \"Account Detail Contract Hash\")"
   ]
  }
 ],
 "metadata": {
  "kernelspec": {
   "display_name": "Python 3 (ipykernel)",
   "language": "python",
   "name": "python3"
  },
  "language_info": {
   "codemirror_mode": {
    "name": "ipython",
    "version": 3
   },
   "file_extension": ".py",
   "mimetype": "text/x-python",
   "name": "python",
   "nbconvert_exporter": "python",
   "pygments_lexer": "ipython3",
   "version": "3.9.21"
  }
 },
 "nbformat": 4,
 "nbformat_minor": 5
}
