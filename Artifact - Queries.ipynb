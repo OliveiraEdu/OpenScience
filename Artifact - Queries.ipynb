{
 "cells": [
  {
   "cell_type": "markdown",
   "id": "11965914-6a6a-43b4-a793-01a3eda28617",
   "metadata": {},
   "source": [
    "# Artifact - Queries"
   ]
  },
  {
   "cell_type": "markdown",
   "id": "0f965815-8625-49cb-9627-267ef1a19069",
   "metadata": {},
   "source": [
    "** For requirements and initial setup go to https://github.com/OliveiraEdu/OpenScience/Readme.md **"
   ]
  },
  {
   "cell_type": "markdown",
   "id": "8d55fe4f-d507-4c5f-9428-d2231aec20cf",
   "metadata": {},
   "source": [
    "1 - Iroha Blockchain Testnet"
   ]
  },
  {
   "cell_type": "markdown",
   "id": "c2b074d9-3edc-410d-9972-222d9cbb551f",
   "metadata": {},
   "source": [
    "1.1 -  General modules and definitions for authentication, connection, status and error tracing."
   ]
  },
  {
   "cell_type": "code",
   "execution_count": null,
   "id": "b10fcc4b-997b-42b8-abf0-3323a0dfa08a",
   "metadata": {},
   "outputs": [],
   "source": [
    "import os\n",
    "import sys\n",
    "import binascii\n",
    "from grpc import RpcError, StatusCode\n",
    "import inspect\n",
    "from iroha import Iroha, IrohaGrpc, IrohaCrypto\n",
    "from iroha.primitive_pb2 import can_call_engine\n",
    "from functools import wraps\n",
    "\n",
    "IROHA_HOST_ADDR = os.getenv('IROHA_HOST_ADDR', '10.0.0.100')\n",
    "IROHA_PORT = os.getenv('IROHA_PORT', '50051')\n",
    "ADMIN_ACCOUNT_ID = os.getenv('ADMIN_ACCOUNT_ID', 'admin@test')\n",
    "ADMIN_PRIVATE_KEY = os.getenv('ADMIN_PRIVATE_KEY', 'f101537e319568c765b2cc89698325604991dca57b9716b58016b253506cab70')\n",
    "\n",
    "iroha = Iroha(ADMIN_ACCOUNT_ID)\n",
    "net = IrohaGrpc(f'{IROHA_HOST_ADDR}:{IROHA_PORT}')\n",
    "\n",
    "def trace(func):\n",
    "    @wraps(func)\n",
    "    def tracer(*args, **kwargs):\n",
    "        name = func.__name__\n",
    "        stack_size = int(len(inspect.stack(0)) / 2)\n",
    "        indent = stack_size * '\\t'\n",
    "        print(f'{indent} > Entering \"{name}\": args: {args}')\n",
    "        result = func(*args, **kwargs)\n",
    "        print(f'{indent} < Leaving \"{name}\"')\n",
    "        return result\n",
    "    return tracer\n",
    "\n",
    "@trace\n",
    "def send_transaction_and_print_status(transaction):\n",
    "    hex_hash = binascii.hexlify(IrohaCrypto.hash(transaction))\n",
    "    creator_id = transaction.payload.reduced_payload.creator_account_id\n",
    "    commands = get_commands_from_tx(transaction)\n",
    "    print(f'Transaction \"{commands}\", hash = {hex_hash}, creator = {creator_id}')\n",
    "    net.send_tx(transaction)\n",
    "    handle_transaction_errors(transaction)\n",
    "\n",
    "def handle_transaction_errors(transaction):\n",
    "    for i, status in enumerate(net.tx_status_stream(transaction)):\n",
    "        status_name, status_code, error_code = status\n",
    "        print(f\"{i}: status_name={status_name}, status_code={status_code}, error_code={error_code}\")\n",
    "        if status_name in ('STATEFUL_VALIDATION_FAILED', 'STATELESS_VALIDATION_FAILED', 'REJECTED'):\n",
    "            handle_error(status_name, error_code, transaction)\n",
    "\n",
    "def handle_error(status_name, error_code, transaction):\n",
    "    error_messages = {\n",
    "        'STATEFUL_VALIDATION_FAILED': 'Stateful validation failed',\n",
    "        'STATELESS_VALIDATION_FAILED': 'Stateless validation failed',\n",
    "        'REJECTED': 'Transaction rejected'\n",
    "    }\n",
    "    error_message = error_messages.get(status_name, 'Unknown error') + f': {error_code}'\n",
    "    raise RuntimeError(f\"{status_name} failed on tx: {transaction} due to reason {error_code}: {error_message}\")\n",
    "\n",
    "def get_commands_from_tx(transaction):\n",
    "    commands_from_tx = []\n",
    "    for command in transaction.payload.reduced_payload.__getattribute__(\"commands\"):\n",
    "        listed_fields = command.ListFields()\n",
    "        commands_from_tx.append(listed_fields[0][0].name)\n",
    "    return commands_from_tx"
   ]
  },
  {
   "cell_type": "markdown",
   "id": "4621d9bd-0196-4989-83d2-d1bac9ebeb77",
   "metadata": {},
   "source": [
    "1.2 - Queries -Executing a sequence of queries into the iroha blockchain as the admin user."
   ]
  },
  {
   "cell_type": "markdown",
   "id": "2214a1c3-aeef-4805-b15b-7fefcb9603e4",
   "metadata": {},
   "source": [
    "1.2.1 - Get Account Transactions"
   ]
  },
  {
   "cell_type": "code",
   "execution_count": null,
   "id": "4372bea2-3703-4e6a-a738-e7cdae3dd17d",
   "metadata": {},
   "outputs": [],
   "source": [
    "#Query - GetAccountTransactions\n",
    "query = iroha.query('GetAccountTransactions', account_id=ADMIN_ACCOUNT_ID, page_size=3)\n",
    "IrohaCrypto.sign_query(query, ADMIN_PRIVATE_KEY)\n",
    "response = net.send_query(query)\n",
    "data = response\n",
    "print(data)"
   ]
  },
  {
   "cell_type": "code",
   "execution_count": null,
   "id": "7dc92b7d-25d9-475c-adcf-0087ea58a9e1",
   "metadata": {},
   "outputs": [],
   "source": [
    "1.2.2 - GetRoles"
   ]
  },
  {
   "cell_type": "code",
   "execution_count": null,
   "id": "81a0b34d-b43c-4548-95f4-a65e6e7a2266",
   "metadata": {},
   "outputs": [],
   "source": [
    "#Query - GetRoles\n",
    "query = iroha.query('GetRoles')\n",
    "IrohaCrypto.sign_query(query, ADMIN_PRIVATE_KEY)\n",
    "response = net.send_query(query)\n",
    "data = response\n",
    "print(data)"
   ]
  },
  {
   "cell_type": "code",
   "execution_count": null,
   "id": "10638704-495e-4eef-902b-ad862fa3ff99",
   "metadata": {},
   "outputs": [],
   "source": [
    "1.2.3 - GetRolePermissions - admin"
   ]
  },
  {
   "cell_type": "code",
   "execution_count": null,
   "id": "8c85de95-47c8-4900-8fa4-1c691e8f3c10",
   "metadata": {},
   "outputs": [],
   "source": [
    "#Query - GetRolePermissions\n",
    "ROLE_ID=\"admin\"\n",
    "query = iroha.query('GetRolePermissions',role_id=ROLE_ID)\n",
    "IrohaCrypto.sign_query(query, ADMIN_PRIVATE_KEY)\n",
    "response = net.send_query(query)\n",
    "data = response\n",
    "print(ROLE_ID, data)"
   ]
  },
  {
   "cell_type": "code",
   "execution_count": null,
   "id": "cb70be7e-d65c-41d9-a309-758943c5761a",
   "metadata": {},
   "outputs": [],
   "source": [
    "1.2.4 - GetRolePermissions - user"
   ]
  },
  {
   "cell_type": "code",
   "execution_count": null,
   "id": "1261124a-af5a-49d6-b576-292be1bf36bb",
   "metadata": {},
   "outputs": [],
   "source": [
    "#Query - GetRolePermissions\n",
    "ROLE_ID=\"user\"\n",
    "query = iroha.query('GetRolePermissions',role_id=ROLE_ID)\n",
    "IrohaCrypto.sign_query(query, ADMIN_PRIVATE_KEY)\n",
    "response = net.send_query(query)\n",
    "data = response\n",
    "print(ROLE_ID, data)"
   ]
  },
  {
   "cell_type": "code",
   "execution_count": null,
   "id": "9720bb0c-0490-4196-bef6-001e578c4e44",
   "metadata": {},
   "outputs": [],
   "source": [
    "1.2.5 - GetRolePermissions - money_creator"
   ]
  },
  {
   "cell_type": "code",
   "execution_count": null,
   "id": "22e29f52-3f3d-4b51-a9b2-93acd66253fb",
   "metadata": {},
   "outputs": [],
   "source": [
    "#Query - GetRolePermissions\n",
    "ROLE_ID=\"money_creator\"\n",
    "query = iroha.query('GetRolePermissions',role_id=ROLE_ID)\n",
    "IrohaCrypto.sign_query(query, ADMIN_PRIVATE_KEY)\n",
    "response = net.send_query(query)\n",
    "data = response\n",
    "print(ROLE_ID, data)"
   ]
  },
  {
   "cell_type": "code",
   "execution_count": null,
   "id": "78d40cd1-4f5f-4057-949a-763192b8543e",
   "metadata": {},
   "outputs": [],
   "source": [
    "1.2.6 - GetRolePermissions - first_role"
   ]
  },
  {
   "cell_type": "code",
   "execution_count": null,
   "id": "b7d9183e-bbc6-4265-8d82-8417d3f75f2f",
   "metadata": {},
   "outputs": [],
   "source": [
    "ROLE_ID=\"first_role\"\n",
    "query = iroha.query('GetRolePermissions',role_id=ROLE_ID)\n",
    "IrohaCrypto.sign_query(query, ADMIN_PRIVATE_KEY)\n",
    "response = net.send_query(query)\n",
    "data = response\n",
    "print(ROLE_ID, data)"
   ]
  },
  {
   "cell_type": "code",
   "execution_count": null,
   "id": "4156c50d-54db-45a9-9011-799f3769248e",
   "metadata": {},
   "outputs": [],
   "source": [
    "1.2.7 - GetAccountDetail - admin@test"
   ]
  },
  {
   "cell_type": "code",
   "execution_count": null,
   "id": "c770248c-fff5-4ee3-9e06-5cfd81cd0ff0",
   "metadata": {},
   "outputs": [],
   "source": [
    "# #Query - GetAccountDetail\n",
    "user = 'admin@test'\n",
    "query = iroha.query('GetAccountDetail',account_id=user)\n",
    "IrohaCrypto.sign_query(query, ADMIN_PRIVATE_KEY)\n",
    "response = net.send_query(query)\n",
    "data = response.account_detail_response\n",
    "print(f'Account id = {user}, details = {data.detail}')"
   ]
  },
  {
   "cell_type": "code",
   "execution_count": null,
   "id": "8ac90707-591d-4cda-9017-91260762ece7",
   "metadata": {},
   "outputs": [],
   "source": [
    "1.2.8 - GetAccountDetail - ecstatic_dubinsky@test"
   ]
  },
  {
   "cell_type": "code",
   "execution_count": 7,
   "id": "03ac4abb-896f-4bdd-aa77-582fcb6bc803",
   "metadata": {},
   "outputs": [
    {
     "name": "stdout",
     "output_type": "stream",
     "text": [
      "Account id = happy_raman@test, details = \n"
     ]
    }
   ],
   "source": [
    "#Query - GetAccountDetail\n",
    "user = 'happy_raman@test'\n",
    "query = iroha.query('GetAccountDetail',account_id=user)\n",
    "IrohaCrypto.sign_query(query, ADMIN_PRIVATE_KEY)\n",
    "response = net.send_query(query)\n",
    "data = response.account_detail_response\n",
    "print(f'Account id = {user}, details = {data.detail}')"
   ]
  },
  {
   "cell_type": "code",
   "execution_count": null,
   "id": "209442a5-2536-45f7-977b-4095542f68f0",
   "metadata": {},
   "outputs": [],
   "source": []
  }
 ],
 "metadata": {
  "kernelspec": {
   "display_name": "venv",
   "language": "python",
   "name": "venv"
  },
  "language_info": {
   "codemirror_mode": {
    "name": "ipython",
    "version": 3
   },
   "file_extension": ".py",
   "mimetype": "text/x-python",
   "name": "python",
   "nbconvert_exporter": "python",
   "pygments_lexer": "ipython3",
   "version": "3.9.19"
  }
 },
 "nbformat": 4,
 "nbformat_minor": 5
}
