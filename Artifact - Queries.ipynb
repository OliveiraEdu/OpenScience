{
 "cells": [
  {
   "cell_type": "markdown",
   "id": "11965914-6a6a-43b4-a793-01a3eda28617",
   "metadata": {},
   "source": [
    "# Artifact - Queries"
   ]
  },
  {
   "cell_type": "markdown",
   "id": "0f965815-8625-49cb-9627-267ef1a19069",
   "metadata": {},
   "source": [
    "** For requirements and initial setup go to https://github.com/OliveiraEdu/OpenScience/Readme.md **"
   ]
  },
  {
   "cell_type": "markdown",
   "id": "8d55fe4f-d507-4c5f-9428-d2231aec20cf",
   "metadata": {},
   "source": [
    "1 - Iroha Blockchain Testnet"
   ]
  },
  {
   "cell_type": "markdown",
   "id": "c2b074d9-3edc-410d-9972-222d9cbb551f",
   "metadata": {},
   "source": [
    "1.1 -  General modules and definitions for authentication, connection, status and error tracing."
   ]
  },
  {
   "cell_type": "code",
   "execution_count": 1,
   "id": "b10fcc4b-997b-42b8-abf0-3323a0dfa08a",
   "metadata": {},
   "outputs": [],
   "source": [
    "import os\n",
    "import sys\n",
    "import binascii\n",
    "from grpc import RpcError, StatusCode\n",
    "import inspect\n",
    "from iroha import Iroha, IrohaGrpc, IrohaCrypto\n",
    "from iroha.primitive_pb2 import can_call_engine\n",
    "from functools import wraps\n",
    "import json\n",
    "\n",
    "# Load configuration from config.json file\n",
    "config_path = \"config.json\"  # Update this path as needed\n",
    "with open(config_path, \"r\") as f:\n",
    "    config = json.load(f)\n",
    "\n",
    "IROHA_HOST_ADDR = config[\"IROHA_HOST_ADDR\"]\n",
    "IROHA_PORT = config[\"IROHA_PORT\"]\n",
    "ADMIN_ACCOUNT_ID = config[\"ADMIN_ACCOUNT_ID\"]\n",
    "ADMIN_PRIVATE_KEY = config[\"ADMIN_PRIVATE_KEY\"]\n",
    "\n",
    "iroha = Iroha(ADMIN_ACCOUNT_ID)\n",
    "net = IrohaGrpc(f'{IROHA_HOST_ADDR}:{IROHA_PORT}')\n",
    "\n",
    "def trace(func):\n",
    "    @wraps(func)\n",
    "    def tracer(*args, **kwargs):\n",
    "        name = func.__name__\n",
    "        stack_size = int(len(inspect.stack(0)) / 2)\n",
    "        indent = stack_size * '\\t'\n",
    "        print(f'{indent} > Entering \"{name}\": args: {args}')\n",
    "        result = func(*args, **kwargs)\n",
    "        print(f'{indent} < Leaving \"{name}\"')\n",
    "        return result\n",
    "    return tracer\n",
    "\n",
    "@trace\n",
    "def send_transaction_and_print_status(transaction):\n",
    "    hex_hash = binascii.hexlify(IrohaCrypto.hash(transaction))\n",
    "    creator_id = transaction.payload.reduced_payload.creator_account_id\n",
    "    commands = get_commands_from_tx(transaction)\n",
    "    print(f'Transaction \"{commands}\", hash = {hex_hash}, creator = {creator_id}')\n",
    "    net.send_tx(transaction)\n",
    "    handle_transaction_errors(transaction)\n",
    "\n",
    "def handle_transaction_errors(transaction):\n",
    "    for i, status in enumerate(net.tx_status_stream(transaction)):\n",
    "        status_name, status_code, error_code = status\n",
    "        print(f\"{i}: status_name={status_name}, status_code={status_code}, error_code={error_code}\")\n",
    "        if status_name in ('STATEFUL_VALIDATION_FAILED', 'STATELESS_VALIDATION_FAILED', 'REJECTED'):\n",
    "            handle_error(status_name, error_code, transaction)\n",
    "\n",
    "def handle_error(status_name, error_code, transaction):\n",
    "    error_messages = {\n",
    "        'STATEFUL_VALIDATION_FAILED': 'Stateful validation failed',\n",
    "        'STATELESS_VALIDATION_FAILED': 'Stateless validation failed',\n",
    "        'REJECTED': 'Transaction rejected'\n",
    "    }\n",
    "    error_message = error_messages.get(status_name, 'Unknown error') + f': {error_code}'\n",
    "    raise RuntimeError(f\"{status_name} failed on tx: {transaction} due to reason {error_code}: {error_message}\")\n",
    "\n",
    "def get_commands_from_tx(transaction):\n",
    "    commands_from_tx = []\n",
    "    for command in transaction.payload.reduced_payload.__getattribute__(\"commands\"):\n",
    "        listed_fields = command.ListFields()\n",
    "        commands_from_tx.append(listed_fields[0][0].name)\n",
    "    return commands_from_tx"
   ]
  },
  {
   "cell_type": "markdown",
   "id": "4621d9bd-0196-4989-83d2-d1bac9ebeb77",
   "metadata": {},
   "source": [
    "1.2 - Queries -Executing a sequence of queries into the iroha blockchain as the admin user."
   ]
  },
  {
   "cell_type": "markdown",
   "id": "2214a1c3-aeef-4805-b15b-7fefcb9603e4",
   "metadata": {},
   "source": [
    "1.2.1 - Get Account Transactions"
   ]
  },
  {
   "cell_type": "code",
   "execution_count": 2,
   "id": "4372bea2-3703-4e6a-a738-e7cdae3dd17d",
   "metadata": {},
   "outputs": [
    {
     "name": "stdout",
     "output_type": "stream",
     "text": [
      "query_hash: \"554e1efbe5142f6f47a6b9d5a5653141b92d3f374dc721e82c46a2369569ef44\"\n",
      "transactions_page_response {\n",
      "  transactions {\n",
      "    payload {\n",
      "      reduced_payload {\n",
      "        commands {\n",
      "          call_engine {\n",
      "            caller: \"admin@test\"\n",
      "            input: \"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\"\n",
      "          }\n",
      "        }\n",
      "        creator_account_id: \"admin@test\"\n",
      "        created_time: 1719169173754\n",
      "        quorum: 1\n",
      "      }\n",
      "    }\n",
      "    signatures {\n",
      "      public_key: \"313a07e6384776ed95447710d15e59148473ccfc052a681317a72a69f2a49910\"\n",
      "      signature: \"452657091f4eea7122ce42761e0993e0095fab74169c3a5e0ff2966240fb19b23bd93b0e7e2f6a89a8b1e011977ff4074f0278ba822ebeae065846c19ce5a30d\"\n",
      "    }\n",
      "  }\n",
      "  transactions {\n",
      "    payload {\n",
      "      reduced_payload {\n",
      "        commands {\n",
      "          call_engine {\n",
      "            caller: \"admin@test\"\n",
      "            input: \"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\"\n",
      "          }\n",
      "        }\n",
      "        creator_account_id: \"admin@test\"\n",
      "        created_time: 1719169184073\n",
      "        quorum: 1\n",
      "      }\n",
      "    }\n",
      "    signatures {\n",
      "      public_key: \"313a07e6384776ed95447710d15e59148473ccfc052a681317a72a69f2a49910\"\n",
      "      signature: \"05ae19541b1d24e397288ccb0fc83f87ae5fd703b18a17f72081d666fd44d357697a57f37cbd239d63053f0bdad628dfb822b826e05d558450be764822213308\"\n",
      "    }\n",
      "  }\n",
      "  transactions {\n",
      "    payload {\n",
      "      reduced_payload {\n",
      "        commands {\n",
      "          call_engine {\n",
      "            caller: \"admin@test\"\n",
      "            input: \"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\"\n",
      "          }\n",
      "        }\n",
      "        creator_account_id: \"admin@test\"\n",
      "        created_time: 1719169409837\n",
      "        quorum: 1\n",
      "      }\n",
      "    }\n",
      "    signatures {\n",
      "      public_key: \"313a07e6384776ed95447710d15e59148473ccfc052a681317a72a69f2a49910\"\n",
      "      signature: \"1b20bab01db807b8b0a2c7cbd7836eba642cb57edd0c7204e2ef16f8bb239ddb243259c85431fcbbc72c06d971f96cab16ec5df7c2fa1493279f2466712f6909\"\n",
      "    }\n",
      "  }\n",
      "  all_transactions_size: 1864\n",
      "  next_tx_hash: \"62637e63ca3e09df9355207c21232761c06db076eb74a37a732b91899601fdc6\"\n",
      "}\n",
      "\n"
     ]
    }
   ],
   "source": [
    "#Query - GetAccountTransactions\n",
    "query = iroha.query('GetAccountTransactions', account_id=ADMIN_ACCOUNT_ID, page_size=3)\n",
    "IrohaCrypto.sign_query(query, ADMIN_PRIVATE_KEY)\n",
    "response = net.send_query(query)\n",
    "data = response\n",
    "print(data)"
   ]
  },
  {
   "cell_type": "markdown",
   "id": "f4e2f955-7f74-45c9-b6d7-c0eeee9e9790",
   "metadata": {},
   "source": [
    "1.2.2 - GetRoles"
   ]
  },
  {
   "cell_type": "code",
   "execution_count": 3,
   "id": "81a0b34d-b43c-4548-95f4-a65e6e7a2266",
   "metadata": {},
   "outputs": [
    {
     "name": "stdout",
     "output_type": "stream",
     "text": [
      "roles_response {\n",
      "  roles: \"admin\"\n",
      "  roles: \"user\"\n",
      "  roles: \"money_creator\"\n",
      "}\n",
      "query_hash: \"826eaad7c6341eab0af2dea3007591b4e4db142bf5aca3ebaaafd90d5f8e8ff2\"\n",
      "\n"
     ]
    }
   ],
   "source": [
    "#Query - GetRoles\n",
    "query = iroha.query('GetRoles')\n",
    "IrohaCrypto.sign_query(query, ADMIN_PRIVATE_KEY)\n",
    "response = net.send_query(query)\n",
    "data = response\n",
    "print(data)"
   ]
  },
  {
   "cell_type": "markdown",
   "id": "58252f6a-d17b-473a-b42c-20c0a39e1336",
   "metadata": {},
   "source": [
    "1.2.3 - GetRolePermissions - admin"
   ]
  },
  {
   "cell_type": "code",
   "execution_count": 4,
   "id": "8c85de95-47c8-4900-8fa4-1c691e8f3c10",
   "metadata": {},
   "outputs": [
    {
     "name": "stdout",
     "output_type": "stream",
     "text": [
      "admin role_permissions_response {\n",
      "  permissions: root\n",
      "}\n",
      "query_hash: \"6d80ad2a6b6226d9646d7138160a0e9a40d3d1781bad8d05167c1d636a07a948\"\n",
      "\n"
     ]
    }
   ],
   "source": [
    "#Query - GetRolePermissions\n",
    "ROLE_ID=\"admin\"\n",
    "query = iroha.query('GetRolePermissions',role_id=ROLE_ID)\n",
    "IrohaCrypto.sign_query(query, ADMIN_PRIVATE_KEY)\n",
    "response = net.send_query(query)\n",
    "data = response\n",
    "print(ROLE_ID, data)"
   ]
  },
  {
   "cell_type": "markdown",
   "id": "b5df7426-7621-4465-9689-f1a130ab5e2c",
   "metadata": {},
   "source": [
    "1.2.4 - GetRolePermissions - user"
   ]
  },
  {
   "cell_type": "code",
   "execution_count": 5,
   "id": "1261124a-af5a-49d6-b576-292be1bf36bb",
   "metadata": {},
   "outputs": [
    {
     "name": "stdout",
     "output_type": "stream",
     "text": [
      "user role_permissions_response {\n",
      "  permissions: can_add_signatory\n",
      "  permissions: can_remove_signatory\n",
      "  permissions: can_set_quorum\n",
      "  permissions: can_transfer\n",
      "  permissions: can_receive\n",
      "  permissions: can_get_my_account\n",
      "  permissions: can_get_my_signatories\n",
      "  permissions: can_get_my_acc_ast\n",
      "  permissions: can_get_my_acc_detail\n",
      "  permissions: can_get_my_acc_txs\n",
      "  permissions: can_get_my_acc_ast_txs\n",
      "  permissions: can_get_my_txs\n",
      "  permissions: can_grant_can_set_my_quorum\n",
      "  permissions: can_grant_can_add_my_signatory\n",
      "  permissions: can_grant_can_remove_my_signatory\n",
      "  permissions: can_grant_can_transfer_my_assets\n",
      "  permissions: can_grant_can_set_my_account_detail\n",
      "}\n",
      "query_hash: \"4a46bb705a84f53f0272f164dae4082a3197473f8a9ec93d6f7f1711c000e286\"\n",
      "\n"
     ]
    }
   ],
   "source": [
    "#Query - GetRolePermissions\n",
    "ROLE_ID=\"user\"\n",
    "query = iroha.query('GetRolePermissions',role_id=ROLE_ID)\n",
    "IrohaCrypto.sign_query(query, ADMIN_PRIVATE_KEY)\n",
    "response = net.send_query(query)\n",
    "data = response\n",
    "print(ROLE_ID, data)"
   ]
  },
  {
   "cell_type": "markdown",
   "id": "5b8aaba4-1778-48db-918b-71277bea2916",
   "metadata": {},
   "source": [
    "1.2.5 - GetRolePermissions - money_creator"
   ]
  },
  {
   "cell_type": "code",
   "execution_count": 6,
   "id": "22e29f52-3f3d-4b51-a9b2-93acd66253fb",
   "metadata": {},
   "outputs": [
    {
     "name": "stdout",
     "output_type": "stream",
     "text": [
      "money_creator role_permissions_response {\n",
      "  permissions: can_add_asset_qty\n",
      "  permissions: can_create_asset\n",
      "  permissions: can_transfer\n",
      "  permissions: can_receive\n",
      "}\n",
      "query_hash: \"518102f1fdd37e6c61a0006f72d195ae8931ad67f0bfa654b29407f1a2eacf3c\"\n",
      "\n"
     ]
    }
   ],
   "source": [
    "#Query - GetRolePermissions\n",
    "ROLE_ID=\"money_creator\"\n",
    "query = iroha.query('GetRolePermissions',role_id=ROLE_ID)\n",
    "IrohaCrypto.sign_query(query, ADMIN_PRIVATE_KEY)\n",
    "response = net.send_query(query)\n",
    "data = response\n",
    "print(ROLE_ID, data)"
   ]
  },
  {
   "cell_type": "markdown",
   "id": "51e0415e-ac22-4b9e-b51b-b999fd8401b9",
   "metadata": {},
   "source": [
    "1.2.6 - GetAccountDetail - admin@test"
   ]
  },
  {
   "cell_type": "code",
   "execution_count": 7,
   "id": "c770248c-fff5-4ee3-9e06-5cfd81cd0ff0",
   "metadata": {},
   "outputs": [
    {
     "name": "stdout",
     "output_type": "stream",
     "text": [
      "Account id = admin@test, details = { \"admin@test\" : { \"super\" : \"019050919050565b600081519050919050565b600081519050919050565b600082825260208201905092915050565b600081905092915050565b60008\" } }\n"
     ]
    }
   ],
   "source": [
    "# #Query - GetAccountDetail\n",
    "user = 'admin@test'\n",
    "query = iroha.query('GetAccountDetail',account_id=user)\n",
    "IrohaCrypto.sign_query(query, ADMIN_PRIVATE_KEY)\n",
    "response = net.send_query(query)\n",
    "data = response.account_detail_response\n",
    "print(f'Account id = {user}, details = {data.detail}')"
   ]
  },
  {
   "cell_type": "markdown",
   "id": "4f343fdf-0195-4c4b-b24d-a28bbb5bf73b",
   "metadata": {},
   "source": [
    "1.2.7 - GetAccountDetail - Another user"
   ]
  },
  {
   "cell_type": "code",
   "execution_count": 8,
   "id": "03ac4abb-896f-4bdd-aa77-582fcb6bc803",
   "metadata": {},
   "outputs": [
    {
     "name": "stdout",
     "output_type": "stream",
     "text": [
      "Account id = happy_raman@test, details = \n"
     ]
    }
   ],
   "source": [
    "#Query - GetAccountDetail\n",
    "user = 'happy_raman@test'\n",
    "query = iroha.query('GetAccountDetail',account_id=user)\n",
    "IrohaCrypto.sign_query(query, ADMIN_PRIVATE_KEY)\n",
    "response = net.send_query(query)\n",
    "data = response.account_detail_response\n",
    "print(f'Account id = {user}, details = {data.detail}')"
   ]
  },
  {
   "cell_type": "code",
   "execution_count": null,
   "id": "1d734944-904b-46bb-900c-148a7fbaa592",
   "metadata": {},
   "outputs": [],
   "source": []
  }
 ],
 "metadata": {
  "kernelspec": {
   "display_name": "Python 3 (ipykernel)",
   "language": "python",
   "name": "python3"
  },
  "language_info": {
   "codemirror_mode": {
    "name": "ipython",
    "version": 3
   },
   "file_extension": ".py",
   "mimetype": "text/x-python",
   "name": "python",
   "nbconvert_exporter": "python",
   "pygments_lexer": "ipython3",
   "version": "3.9.20"
  }
 },
 "nbformat": 4,
 "nbformat_minor": 5
}
