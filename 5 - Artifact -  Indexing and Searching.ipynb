{
 "cells": [
  {
   "cell_type": "markdown",
   "id": "13d7ff22-4988-454b-b4db-825c18f05e5f",
   "metadata": {},
   "source": [
    "**IMPORTANT** \n",
    "\n",
    "- For requirements and initial setup go to https://github.com/OliveiraEdu/OpenScience/Readme.md;\n",
    "- To execute the notebook run all cells."
   ]
  },
  {
   "cell_type": "markdown",
   "id": "a09fbc07-8d81-4bd0-b0f3-922e3b0b6d23",
   "metadata": {},
   "source": [
    "# Notebook 5 - Open Science Platform - Indexing, searching, validation and download"
   ]
  },
  {
   "cell_type": "markdown",
   "id": "e63f1f60-5289-4674-90bf-55bae1753d5f",
   "metadata": {},
   "source": [
    "1 - Load modules"
   ]
  },
  {
   "cell_type": "code",
   "execution_count": 4,
   "id": "d4a1c5a2-75c3-482e-999c-70eb25226078",
   "metadata": {
    "editable": true,
    "slideshow": {
     "slide_type": ""
    },
    "tags": []
   },
   "outputs": [],
   "source": [
    "from iroha_helper import *\n",
    "from new_helper import *\n",
    "from super_helper import *\n",
    "from loguru import logger"
   ]
  },
  {
   "cell_type": "markdown",
   "id": "68a70b05-1041-43c6-994c-d06c987a502d",
   "metadata": {},
   "source": [
    "2 - Sets variables and values"
   ]
  },
  {
   "cell_type": "code",
   "execution_count": 5,
   "id": "cad05321",
   "metadata": {},
   "outputs": [],
   "source": [
    "# Local path for file upload\n",
    "directory_path = \"upload\"\n",
    "\n",
    "# Directory for file downloads\n",
    "download_path = \"download\"\n",
    "\n",
    "#for the index system\n",
    "index_path = \"indexdir\"\n",
    "index = open_dir(index_path)\n"
   ]
  },
  {
   "cell_type": "markdown",
   "id": "82d0a843-e5b5-4c7a-95e0-ea065244132a",
   "metadata": {},
   "source": [
    "3 - To reset the index, uncomment the line below. Once executed comment it again."
   ]
  },
  {
   "cell_type": "code",
   "execution_count": 6,
   "id": "6768fedd-b830-4ee4-9669-389482caac84",
   "metadata": {},
   "outputs": [],
   "source": [
    "# logger.info(recreate_index()) "
   ]
  },
  {
   "cell_type": "markdown",
   "id": "5c444196-6d75-4a0a-b135-c284648a4885",
   "metadata": {},
   "source": [
    "3 - Load variable `project_id` from the local file system."
   ]
  },
  {
   "cell_type": "code",
   "execution_count": 7,
   "id": "53802dfc-9441-44c1-97a2-78fdcb7501a0",
   "metadata": {},
   "outputs": [
    {
     "name": "stderr",
     "output_type": "stream",
     "text": [
      "\u001b[32m2025-02-20 12:39:42.500\u001b[0m | \u001b[32m\u001b[1mSUCCESS \u001b[0m | \u001b[36mnew_helper\u001b[0m:\u001b[36mload_variable\u001b[0m:\u001b[36m317\u001b[0m - \u001b[32m\u001b[1mVariable 'Project Id' successfully loaded from temp/Project Id.json\u001b[0m\n",
      "\u001b[32m2025-02-20 12:39:42.501\u001b[0m | \u001b[1mINFO    \u001b[0m | \u001b[36m__main__\u001b[0m:\u001b[36m<module>\u001b[0m:\u001b[36m3\u001b[0m - \u001b[1m10278@test\u001b[0m\n"
     ]
    }
   ],
   "source": [
    "# Loading the variable from JSON\n",
    "project_id = load_variable(\"Project Id\")\n",
    "logger.info(project_id)"
   ]
  },
  {
   "cell_type": "markdown",
   "id": "f34275bf-520d-44eb-9f7f-c8dc40bdf5b1",
   "metadata": {},
   "source": [
    "4 - Index files in the `upload` directory"
   ]
  },
  {
   "cell_type": "code",
   "execution_count": 8,
   "id": "f06a221d",
   "metadata": {},
   "outputs": [
    {
     "name": "stderr",
     "output_type": "stream",
     "text": [
      "\u001b[32m2025-02-20 12:39:42.512\u001b[0m | \u001b[1mINFO    \u001b[0m | \u001b[36m__main__\u001b[0m:\u001b[36m<module>\u001b[0m:\u001b[36m3\u001b[0m - \u001b[1m<Schema: ['abstract', 'created', 'creator', 'date', 'description', 'file_cid', 'format', 'full_text', 'language', 'metadata_cid', 'modified', 'project_id', 'publisher', 'subject', 'title']>\u001b[0m\n",
      "\u001b[32m2025-02-20 12:39:42.514\u001b[0m | \u001b[1mINFO    \u001b[0m | \u001b[36mnew_helper\u001b[0m:\u001b[36mprocess_files\u001b[0m:\u001b[36m120\u001b[0m - \u001b[1mIndexing file:  upload/Random-feature-selection-using-random-subspace-l_2023_Expert-Systems-with-Ap.pdf\u001b[0m\n",
      "2025-02-20 12:39:42,519 [MainThread  ] [INFO ]  Retrieving http://search.maven.org/remotecontent?filepath=org/apache/tika/tika-server-standard/2.6.0/tika-server-standard-2.6.0.jar to /tmp/tika-server.jar.\n",
      "2025-02-20 12:39:42,519 - INFO - Retrieving http://search.maven.org/remotecontent?filepath=org/apache/tika/tika-server-standard/2.6.0/tika-server-standard-2.6.0.jar to /tmp/tika-server.jar.\n",
      "2025-02-20 12:40:03,797 [MainThread  ] [INFO ]  Retrieving http://search.maven.org/remotecontent?filepath=org/apache/tika/tika-server-standard/2.6.0/tika-server-standard-2.6.0.jar.md5 to /tmp/tika-server.jar.md5.\n",
      "2025-02-20 12:40:03,797 - INFO - Retrieving http://search.maven.org/remotecontent?filepath=org/apache/tika/tika-server-standard/2.6.0/tika-server-standard-2.6.0.jar.md5 to /tmp/tika-server.jar.md5.\n",
      "2025-02-20 12:40:11,025 [MainThread  ] [WARNI]  Failed to see startup log message; retrying...\n",
      "2025-02-20 12:40:11,025 - WARNING - Failed to see startup log message; retrying...\n",
      "\u001b[32m2025-02-20 12:40:17.960\u001b[0m | \u001b[32m\u001b[1mSUCCESS \u001b[0m | \u001b[36mipfs_functions\u001b[0m:\u001b[36mupload_file_to_ipfs\u001b[0m:\u001b[36m22\u001b[0m - \u001b[32m\u001b[1mSuccess uploading file to IPFS. CID: QmTLZSqzPexwEdniZXLPN6fUfmEXX6MXS3b4QjKURgxc9y\u001b[0m\n",
      "\u001b[32m2025-02-20 12:40:18.004\u001b[0m | \u001b[32m\u001b[1mSUCCESS \u001b[0m | \u001b[36mipfs_functions\u001b[0m:\u001b[36mupload_json_to_ipfs\u001b[0m:\u001b[36m42\u001b[0m - \u001b[32m\u001b[1mSuccess uploading JSON to IPFS. CID: QmeZuVTyv58oZPQK1yXNrjYKTtheiUnS8nn5aJNpEx6LP9\u001b[0m\n",
      "\u001b[32m2025-02-20 12:40:18.009\u001b[0m | \u001b[34m\u001b[1mDEBUG   \u001b[0m | \u001b[36mintegration_helpers\u001b[0m:\u001b[36mtracer\u001b[0m:\u001b[36m35\u001b[0m - \u001b[34m\u001b[1m\tEntering \"create_contract\"\u001b[0m\n",
      "2025-02-20 12:40:18,043 - INFO - ('STATELESS_VALIDATION_SUCCESS', 1, 0)\n",
      "2025-02-20 12:40:18,048 - INFO - ('ENOUGH_SIGNATURES_COLLECTED', 9, 0)\n",
      "2025-02-20 12:40:20,458 - INFO - ('STATEFUL_VALIDATION_SUCCESS', 3, 0)\n",
      "2025-02-20 12:40:20,466 - INFO - ('COMMITTED', 5, 0)\n",
      "\u001b[32m2025-02-20 12:40:20.468\u001b[0m | \u001b[34m\u001b[1mDEBUG   \u001b[0m | \u001b[36mintegration_helpers\u001b[0m:\u001b[36mtracer\u001b[0m:\u001b[36m37\u001b[0m - \u001b[34m\u001b[1m\tLeaving \"create_contract\"\u001b[0m\n",
      "\u001b[32m2025-02-20 12:40:20.470\u001b[0m | \u001b[34m\u001b[1mDEBUG   \u001b[0m | \u001b[36mintegration_helpers\u001b[0m:\u001b[36mtracer\u001b[0m:\u001b[36m35\u001b[0m - \u001b[34m\u001b[1m\tEntering \"get_engine_receipts_address\"\u001b[0m\n",
      "\u001b[32m2025-02-20 12:40:20.486\u001b[0m | \u001b[1mINFO    \u001b[0m | \u001b[36mintegration_helpers\u001b[0m:\u001b[36mget_engine_receipts_address\u001b[0m:\u001b[36m96\u001b[0m - \u001b[1mRetrieved contract address for transaction hash: b'bde150aec8f9d0ac8b456742b0cafef6a73f4f8fb2b6550eea4650316918f5d3'\u001b[0m\n",
      "\u001b[32m2025-02-20 12:40:20.489\u001b[0m | \u001b[34m\u001b[1mDEBUG   \u001b[0m | \u001b[36mintegration_helpers\u001b[0m:\u001b[36mget_engine_receipts_address\u001b[0m:\u001b[36m97\u001b[0m - \u001b[34m\u001b[1mContract address: F899F47BC9704BD3C85327621C1F5CE1BEC548F7\u001b[0m\n",
      "\u001b[32m2025-02-20 12:40:20.491\u001b[0m | \u001b[34m\u001b[1mDEBUG   \u001b[0m | \u001b[36mintegration_helpers\u001b[0m:\u001b[36mtracer\u001b[0m:\u001b[36m37\u001b[0m - \u001b[34m\u001b[1m\tLeaving \"get_engine_receipts_address\"\u001b[0m\n",
      "\u001b[32m2025-02-20 12:40:20.496\u001b[0m | \u001b[34m\u001b[1mDEBUG   \u001b[0m | \u001b[36mnew_helper\u001b[0m:\u001b[36mprocess_files\u001b[0m:\u001b[36m159\u001b[0m - \u001b[34m\u001b[1m10278@test\u001b[0m\n",
      "\u001b[32m2025-02-20 12:40:20.499\u001b[0m | \u001b[34m\u001b[1mDEBUG   \u001b[0m | \u001b[36mintegration_helpers\u001b[0m:\u001b[36mtracer\u001b[0m:\u001b[36m35\u001b[0m - \u001b[34m\u001b[1m\tEntering \"set_account_detail\"\u001b[0m\n",
      "2025-02-20 12:40:20,516 - INFO - None\n",
      "2025-02-20 12:40:20,519 - INFO - ('ENOUGH_SIGNATURES_COLLECTED', 9, 0)\n",
      "2025-02-20 12:40:23,504 - INFO - ('STATEFUL_VALIDATION_SUCCESS', 3, 0)\n",
      "2025-02-20 12:40:23,512 - INFO - ('COMMITTED', 5, 0)\n",
      "\u001b[32m2025-02-20 12:40:23.514\u001b[0m | \u001b[34m\u001b[1mDEBUG   \u001b[0m | \u001b[36mintegration_helpers\u001b[0m:\u001b[36mtracer\u001b[0m:\u001b[36m35\u001b[0m - \u001b[34m\u001b[1m\tEntering \"get_engine_receipts_result\"\u001b[0m\n",
      "\u001b[32m2025-02-20 12:40:23.531\u001b[0m | \u001b[1mINFO    \u001b[0m | \u001b[36mintegration_helpers\u001b[0m:\u001b[36mget_engine_receipts_result\u001b[0m:\u001b[36m139\u001b[0m - \u001b[1mResult data: 000000000000000000000000000000000000000000000000000000000000002000000000000000000000000000000000000000000000000000000000000000200000000000000000000000000000000000000000000000000000000000000001\u001b[0m\n",
      "\u001b[32m2025-02-20 12:40:23.533\u001b[0m | \u001b[34m\u001b[1mDEBUG   \u001b[0m | \u001b[36mintegration_helpers\u001b[0m:\u001b[36mget_engine_receipts_result\u001b[0m:\u001b[36m140\u001b[0m - \u001b[34m\u001b[1mResult decoded string: \u0000\u0000\u0000\u0000\u0000\u0000\u0000\u0000\u0000\u0000\u0000\u0000\u0000\u0000\u0000\u0000\u0000\u0000\u0000\u0000\u0000\u0000\u0000\u0000\u0000\u0000\u0000\u0000\u0000\u0000\u0000 \u0000\u0000\u0000\u0000\u0000\u0000\u0000\u0000\u0000\u0000\u0000\u0000\u0000\u0000\u0000\u0000\u0000\u0000\u0000\u0000\u0000\u0000\u0000\u0000\u0000\u0000\u0000\u0000\u0000\u0000\u0000 \u0000\u0000\u0000\u0000\u0000\u0000\u0000\u0000\u0000\u0000\u0000\u0000\u0000\u0000\u0000\u0000\u0000\u0000\u0000\u0000\u0000\u0000\u0000\u0000\u0000\u0000\u0000\u0000\u0000\u0000\u0000\u0001\u001b[0m\n",
      "\u001b[32m2025-02-20 12:40:23.535\u001b[0m | \u001b[34m\u001b[1mDEBUG   \u001b[0m | \u001b[36mintegration_helpers\u001b[0m:\u001b[36mtracer\u001b[0m:\u001b[36m37\u001b[0m - \u001b[34m\u001b[1m\tLeaving \"get_engine_receipts_result\"\u001b[0m\n",
      "\u001b[32m2025-02-20 12:40:23.537\u001b[0m | \u001b[34m\u001b[1mDEBUG   \u001b[0m | \u001b[36mintegration_helpers\u001b[0m:\u001b[36mtracer\u001b[0m:\u001b[36m37\u001b[0m - \u001b[34m\u001b[1m\tLeaving \"set_account_detail\"\u001b[0m\n",
      "\u001b[32m2025-02-20 12:40:23.540\u001b[0m | \u001b[1mINFO    \u001b[0m | \u001b[36msuper_helper\u001b[0m:\u001b[36msetup_index\u001b[0m:\u001b[36m481\u001b[0m - \u001b[1mOpened existing index.\u001b[0m\n",
      "\u001b[32m2025-02-20 12:40:23.960\u001b[0m | \u001b[1mINFO    \u001b[0m | \u001b[36msuper_helper\u001b[0m:\u001b[36mindex_metadata\u001b[0m:\u001b[36m320\u001b[0m - \u001b[1mMetadata indexed successfully: QmeZuVTyv58oZPQK1yXNrjYKTtheiUnS8nn5aJNpEx6LP9\u001b[0m\n"
     ]
    }
   ],
   "source": [
    "schema = get_schema() #super_helper.py\n",
    "\n",
    "logger.info(schema)\n",
    "\n",
    "processed_data = process_files(directory_path, project_id, schema) #new_helper.py\n",
    "    "
   ]
  },
  {
   "cell_type": "markdown",
   "id": "22eee527-0e40-4b48-b6e9-b62e452259e6",
   "metadata": {},
   "source": [
    "5 - To perform a search update the variable `keyword` with the word or term you are searching for."
   ]
  },
  {
   "cell_type": "code",
   "execution_count": 9,
   "id": "192bca4c-e506-414d-aee5-f9a58ff3105b",
   "metadata": {},
   "outputs": [
    {
     "name": "stderr",
     "output_type": "stream",
     "text": [
      "\u001b[32m2025-02-20 12:40:23.971\u001b[0m | \u001b[1mINFO    \u001b[0m | \u001b[36msuper_helper\u001b[0m:\u001b[36msearch_index\u001b[0m:\u001b[36m341\u001b[0m - \u001b[1mStarting keyword search...\u001b[0m\n",
      "\u001b[32m2025-02-20 12:40:23.975\u001b[0m | \u001b[1mINFO    \u001b[0m | \u001b[36msuper_helper\u001b[0m:\u001b[36msearch_index\u001b[0m:\u001b[36m342\u001b[0m - \u001b[1mKeyword: 'lasso'\u001b[0m\n",
      "\u001b[32m2025-02-20 12:40:23.999\u001b[0m | \u001b[1mINFO    \u001b[0m | \u001b[36msuper_helper\u001b[0m:\u001b[36mwith_logging_block\u001b[0m:\u001b[36m33\u001b[0m - \u001b[1m\n",
      "==================================================\u001b[0m\n",
      "\u001b[32m2025-02-20 12:40:24.000\u001b[0m | \u001b[1mINFO    \u001b[0m | \u001b[36msuper_helper\u001b[0m:\u001b[36mwith_logging_block\u001b[0m:\u001b[36m34\u001b[0m - \u001b[1mSTARTING BLOCK: Keyword Search\u001b[0m\n",
      "\u001b[32m2025-02-20 12:40:24.002\u001b[0m | \u001b[1mINFO    \u001b[0m | \u001b[36msuper_helper\u001b[0m:\u001b[36mwith_logging_block\u001b[0m:\u001b[36m35\u001b[0m - \u001b[1m==================================================\u001b[0m\n",
      "\u001b[32m2025-02-20 12:40:24.003\u001b[0m | \u001b[1mINFO    \u001b[0m | \u001b[36msuper_helper\u001b[0m:\u001b[36msearch_index\u001b[0m:\u001b[36m360\u001b[0m - \u001b[1mTotal search results found for keyword 'lasso': 1\u001b[0m\n",
      "\u001b[32m2025-02-20 12:40:24.004\u001b[0m | \u001b[1mINFO    \u001b[0m | \u001b[36msuper_helper\u001b[0m:\u001b[36msearch_index\u001b[0m:\u001b[36m363\u001b[0m - \u001b[1mListing all search results:\u001b[0m\n",
      "\u001b[32m2025-02-20 12:40:24.009\u001b[0m | \u001b[1mINFO    \u001b[0m | \u001b[36msuper_helper\u001b[0m:\u001b[36msearch_index\u001b[0m:\u001b[36m367\u001b[0m - \u001b[1mResult 1: Project ID: 10278@test, File CID: QmTLZSqzPexwEdniZXLPN6fUfmEXX6MXS3b4QjKURgxc9y\u001b[0m\n",
      "\u001b[32m2025-02-20 12:40:24.013\u001b[0m | \u001b[1mINFO    \u001b[0m | \u001b[36msuper_helper\u001b[0m:\u001b[36msearch_index\u001b[0m:\u001b[36m370\u001b[0m - \u001b[1mFull search results for keyword 'lasso' (excluding 'full_text'):\u001b[0m\n",
      "\u001b[32m2025-02-20 12:40:24.016\u001b[0m | \u001b[1mINFO    \u001b[0m | \u001b[36msuper_helper\u001b[0m:\u001b[36msearch_index\u001b[0m:\u001b[36m373\u001b[0m - \u001b[1mResult 1: {\n",
      "  \"abstract\": \"\",\n",
      "  \"created\": \"2023-09-04t20:45:13z\",\n",
      "  \"creator\": \"nuttanan wichitaksorn, yingyue kang, faqiang zhang\",\n",
      "  \"date\": \"\",\n",
      "  \"description\": \"expert systems with applications, 217 (2023) 119535. doi:10.1016/j.eswa.2023.119535\",\n",
      "  \"file_cid\": \"QmTLZSqzPexwEdniZXLPN6fUfmEXX6MXS3b4QjKURgxc9y\",\n",
      "  \"format\": \"application/pdf; version=1.7\",\n",
      "  \"language\": \"en-us\",\n",
      "  \"metadata_cid\": \"QmeZuVTyv58oZPQK1yXNrjYKTtheiUnS8nn5aJNpEx6LP9\",\n",
      "  \"modified\": \"2023-09-04t23:27:57z\",\n",
      "  \"project_id\": \"10278@test\",\n",
      "  \"publisher\": \"unknown\",\n",
      "  \"subject\": \"feature selection,logistic regression,lasso logistic,random subspace,bootstrap, expert systems with applications, 217 (2023) 119535. doi:10.1016/j.eswa.2023.119535\",\n",
      "  \"title\": \"random feature selection using random subspace logistic regression\"\n",
      "}\u001b[0m\n",
      "\u001b[32m2025-02-20 12:40:24.017\u001b[0m | \u001b[1mINFO    \u001b[0m | \u001b[36msuper_helper\u001b[0m:\u001b[36mwith_logging_block\u001b[0m:\u001b[36m41\u001b[0m - \u001b[1mCOMPLETED BLOCK: Keyword Search\u001b[0m\n",
      "\u001b[32m2025-02-20 12:40:24.019\u001b[0m | \u001b[1mINFO    \u001b[0m | \u001b[36msuper_helper\u001b[0m:\u001b[36mwith_logging_block\u001b[0m:\u001b[36m42\u001b[0m - \u001b[1m--------------------------------------------------\n",
      "\u001b[0m\n"
     ]
    }
   ],
   "source": [
    "# Perform a keyword search\n",
    "keyword = \"lasso\"\n",
    "search_results, project_ids = search_index(index, keyword)\n"
   ]
  },
  {
   "attachments": {},
   "cell_type": "markdown",
   "id": "e1e9bcdd-2f1c-4323-a2c3-686cf3c58b82",
   "metadata": {},
   "source": [
    "6 - Processes the search results and validates the result files (Validation criteria: File CID must exist in IPFS `AND` the blockchain)"
   ]
  },
  {
   "cell_type": "code",
   "execution_count": 10,
   "id": "7c184261-17e7-4b89-ae87-bca1727ef74f",
   "metadata": {},
   "outputs": [
    {
     "name": "stderr",
     "output_type": "stream",
     "text": [
      "\u001b[32m2025-02-20 12:40:24.032\u001b[0m | \u001b[1mINFO    \u001b[0m | \u001b[36msuper_helper\u001b[0m:\u001b[36mwith_logging_block\u001b[0m:\u001b[36m33\u001b[0m - \u001b[1m\n",
      "==================================================\u001b[0m\n",
      "\u001b[32m2025-02-20 12:40:24.037\u001b[0m | \u001b[1mINFO    \u001b[0m | \u001b[36msuper_helper\u001b[0m:\u001b[36mwith_logging_block\u001b[0m:\u001b[36m34\u001b[0m - \u001b[1mSTARTING BLOCK: Processing Search Results\u001b[0m\n",
      "\u001b[32m2025-02-20 12:40:24.038\u001b[0m | \u001b[1mINFO    \u001b[0m | \u001b[36msuper_helper\u001b[0m:\u001b[36mwith_logging_block\u001b[0m:\u001b[36m35\u001b[0m - \u001b[1m==================================================\u001b[0m\n",
      "\u001b[32m2025-02-20 12:40:24.040\u001b[0m | \u001b[1mINFO    \u001b[0m | \u001b[36msuper_helper\u001b[0m:\u001b[36mwith_logging_block\u001b[0m:\u001b[36m33\u001b[0m - \u001b[1m\n",
      "==================================================\u001b[0m\n",
      "\u001b[32m2025-02-20 12:40:24.042\u001b[0m | \u001b[1mINFO    \u001b[0m | \u001b[36msuper_helper\u001b[0m:\u001b[36mwith_logging_block\u001b[0m:\u001b[36m34\u001b[0m - \u001b[1mSTARTING BLOCK: Processing Result for Project ID: 10278@test\u001b[0m\n",
      "\u001b[32m2025-02-20 12:40:24.044\u001b[0m | \u001b[1mINFO    \u001b[0m | \u001b[36msuper_helper\u001b[0m:\u001b[36mwith_logging_block\u001b[0m:\u001b[36m35\u001b[0m - \u001b[1m==================================================\u001b[0m\n",
      "\u001b[32m2025-02-20 12:40:24.045\u001b[0m | \u001b[1mINFO    \u001b[0m | \u001b[36msuper_helper\u001b[0m:\u001b[36mprocessing_search_results_block\u001b[0m:\u001b[36m72\u001b[0m - \u001b[1mFile CID: QmTLZSqzPexwEdniZXLPN6fUfmEXX6MXS3b4QjKURgxc9y\u001b[0m\n",
      "\u001b[32m2025-02-20 12:40:24.047\u001b[0m | \u001b[1mINFO    \u001b[0m | \u001b[36msuper_helper\u001b[0m:\u001b[36mprocessing_search_results_block\u001b[0m:\u001b[36m73\u001b[0m - \u001b[1mMetadata CID: QmeZuVTyv58oZPQK1yXNrjYKTtheiUnS8nn5aJNpEx6LP9\u001b[0m\n",
      "\u001b[32m2025-02-20 12:40:24.051\u001b[0m | \u001b[1mINFO    \u001b[0m | \u001b[36msuper_helper\u001b[0m:\u001b[36mwith_logging_block\u001b[0m:\u001b[36m33\u001b[0m - \u001b[1m\n",
      "==================================================\u001b[0m\n",
      "\u001b[32m2025-02-20 12:40:24.053\u001b[0m | \u001b[1mINFO    \u001b[0m | \u001b[36msuper_helper\u001b[0m:\u001b[36mwith_logging_block\u001b[0m:\u001b[36m34\u001b[0m - \u001b[1mSTARTING BLOCK: Fetching Project Details in the blockchain\u001b[0m\n",
      "\u001b[32m2025-02-20 12:40:24.054\u001b[0m | \u001b[1mINFO    \u001b[0m | \u001b[36msuper_helper\u001b[0m:\u001b[36mwith_logging_block\u001b[0m:\u001b[36m35\u001b[0m - \u001b[1m==================================================\u001b[0m\n",
      "\u001b[32m2025-02-20 12:40:24.055\u001b[0m | \u001b[34m\u001b[1mDEBUG   \u001b[0m | \u001b[36mintegration_helpers\u001b[0m:\u001b[36mtracer\u001b[0m:\u001b[36m35\u001b[0m - \u001b[34m\u001b[1m\tEntering \"get_account_detail\"\u001b[0m\n",
      "2025-02-20 12:40:24,079 - INFO - User Account id = 10278@test, { \"admin@test\" : { \"account_metadata_cid\" : \"QmeGiBxNBmv42LKGd2ju7Y7SxkQscX8zCiVaS2wLgXKjjx\", \"file_1\" : \"QmTLZSqzPexwEdniZXLPN6fUfmEXX6MXS3b4QjKURgxc9y, QmeZuVTyv58oZPQK1yXNrjYKTtheiUnS8nn5aJNpEx6LP9\", \"linked_user\" : \"jolly_noether@test\" } }\n",
      "\u001b[32m2025-02-20 12:40:24.080\u001b[0m | \u001b[34m\u001b[1mDEBUG   \u001b[0m | \u001b[36mintegration_helpers\u001b[0m:\u001b[36mtracer\u001b[0m:\u001b[36m37\u001b[0m - \u001b[34m\u001b[1m\tLeaving \"get_account_detail\"\u001b[0m\n",
      "\u001b[32m2025-02-20 12:40:24.082\u001b[0m | \u001b[1mINFO    \u001b[0m | \u001b[36msuper_helper\u001b[0m:\u001b[36mprocessing_search_results_block\u001b[0m:\u001b[36m82\u001b[0m - \u001b[1mFetched project details for 10278@test: { \"admin@test\" : { \"account_metadata_cid\" : \"QmeGiBxNBmv42LKGd2ju7Y7SxkQscX8zCiVaS2wLgXKjjx\", \"file_1\" : \"QmTLZSqzPexwEdniZXLPN6fUfmEXX6MXS3b4QjKURgxc9y, QmeZuVTyv58oZPQK1yXNrjYKTtheiUnS8nn5aJNpEx6LP9\", \"linked_user\" : \"jolly_noether@test\" } }\u001b[0m\n",
      "\u001b[32m2025-02-20 12:40:24.083\u001b[0m | \u001b[1mINFO    \u001b[0m | \u001b[36msuper_helper\u001b[0m:\u001b[36mwith_logging_block\u001b[0m:\u001b[36m41\u001b[0m - \u001b[1mCOMPLETED BLOCK: Fetching Project Details in the blockchain\u001b[0m\n",
      "\u001b[32m2025-02-20 12:40:24.084\u001b[0m | \u001b[1mINFO    \u001b[0m | \u001b[36msuper_helper\u001b[0m:\u001b[36mwith_logging_block\u001b[0m:\u001b[36m42\u001b[0m - \u001b[1m--------------------------------------------------\n",
      "\u001b[0m\n",
      "\u001b[32m2025-02-20 12:40:24.086\u001b[0m | \u001b[1mINFO    \u001b[0m | \u001b[36msuper_helper\u001b[0m:\u001b[36mwith_logging_block\u001b[0m:\u001b[36m33\u001b[0m - \u001b[1m\n",
      "==================================================\u001b[0m\n",
      "\u001b[32m2025-02-20 12:40:24.088\u001b[0m | \u001b[1mINFO    \u001b[0m | \u001b[36msuper_helper\u001b[0m:\u001b[36mwith_logging_block\u001b[0m:\u001b[36m34\u001b[0m - \u001b[1mSTARTING BLOCK: Validating File CID\u001b[0m\n",
      "\u001b[32m2025-02-20 12:40:24.100\u001b[0m | \u001b[1mINFO    \u001b[0m | \u001b[36msuper_helper\u001b[0m:\u001b[36mwith_logging_block\u001b[0m:\u001b[36m35\u001b[0m - \u001b[1m==================================================\u001b[0m\n",
      "\u001b[32m2025-02-20 12:40:24.102\u001b[0m | \u001b[1mINFO    \u001b[0m | \u001b[36msuper_helper\u001b[0m:\u001b[36mfetch_project_details\u001b[0m:\u001b[36m416\u001b[0m - \u001b[1mValidating and fetching details for CID: QmTLZSqzPexwEdniZXLPN6fUfmEXX6MXS3b4QjKURgxc9y\u001b[0m\n",
      "\u001b[32m2025-02-20 12:40:24.104\u001b[0m | \u001b[1mINFO    \u001b[0m | \u001b[36msuper_helper\u001b[0m:\u001b[36mfetch_project_details\u001b[0m:\u001b[36m424\u001b[0m - \u001b[1m***** File CID QmTLZSqzPexwEdniZXLPN6fUfmEXX6MXS3b4QjKURgxc9y found under file_1, the file is VALID *****\u001b[0m\n",
      "\u001b[32m2025-02-20 12:40:24.106\u001b[0m | \u001b[1mINFO    \u001b[0m | \u001b[36msuper_helper\u001b[0m:\u001b[36mwith_logging_block\u001b[0m:\u001b[36m41\u001b[0m - \u001b[1mCOMPLETED BLOCK: Validating File CID\u001b[0m\n",
      "\u001b[32m2025-02-20 12:40:24.109\u001b[0m | \u001b[1mINFO    \u001b[0m | \u001b[36msuper_helper\u001b[0m:\u001b[36mwith_logging_block\u001b[0m:\u001b[36m42\u001b[0m - \u001b[1m--------------------------------------------------\n",
      "\u001b[0m\n",
      "\u001b[32m2025-02-20 12:40:24.111\u001b[0m | \u001b[1mINFO    \u001b[0m | \u001b[36msuper_helper\u001b[0m:\u001b[36mwith_logging_block\u001b[0m:\u001b[36m41\u001b[0m - \u001b[1mCOMPLETED BLOCK: Processing Result for Project ID: 10278@test\u001b[0m\n",
      "\u001b[32m2025-02-20 12:40:24.112\u001b[0m | \u001b[1mINFO    \u001b[0m | \u001b[36msuper_helper\u001b[0m:\u001b[36mwith_logging_block\u001b[0m:\u001b[36m42\u001b[0m - \u001b[1m--------------------------------------------------\n",
      "\u001b[0m\n",
      "\u001b[32m2025-02-20 12:40:24.113\u001b[0m | \u001b[1mINFO    \u001b[0m | \u001b[36msuper_helper\u001b[0m:\u001b[36mwith_logging_block\u001b[0m:\u001b[36m41\u001b[0m - \u001b[1mCOMPLETED BLOCK: Processing Search Results\u001b[0m\n",
      "\u001b[32m2025-02-20 12:40:24.115\u001b[0m | \u001b[1mINFO    \u001b[0m | \u001b[36msuper_helper\u001b[0m:\u001b[36mwith_logging_block\u001b[0m:\u001b[36m42\u001b[0m - \u001b[1m--------------------------------------------------\n",
      "\u001b[0m\n"
     ]
    }
   ],
   "source": [
    "processed_results = processing_search_results_block(search_results)"
   ]
  },
  {
   "cell_type": "markdown",
   "id": "38a12696-84c2-4e15-b0f3-d9761a386d82",
   "metadata": {},
   "source": [
    "8 - Displays additional metadata from IPFS about the Project and the User and download valid file in the project directory beneath `download`."
   ]
  },
  {
   "cell_type": "code",
   "execution_count": 11,
   "id": "188f2247-12d5-4abc-9cd3-af60b4718af1",
   "metadata": {},
   "outputs": [
    {
     "name": "stderr",
     "output_type": "stream",
     "text": [
      "\u001b[32m2025-02-20 12:40:24.127\u001b[0m | \u001b[1mINFO    \u001b[0m | \u001b[36msuper_helper\u001b[0m:\u001b[36mwith_logging_block\u001b[0m:\u001b[36m33\u001b[0m - \u001b[1m\n",
      "==================================================\u001b[0m\n",
      "\u001b[32m2025-02-20 12:40:24.133\u001b[0m | \u001b[1mINFO    \u001b[0m | \u001b[36msuper_helper\u001b[0m:\u001b[36mwith_logging_block\u001b[0m:\u001b[36m34\u001b[0m - \u001b[1mSTARTING BLOCK: Processing Metadata Block\u001b[0m\n",
      "\u001b[32m2025-02-20 12:40:24.135\u001b[0m | \u001b[1mINFO    \u001b[0m | \u001b[36msuper_helper\u001b[0m:\u001b[36mwith_logging_block\u001b[0m:\u001b[36m35\u001b[0m - \u001b[1m==================================================\u001b[0m\n",
      "\u001b[32m2025-02-20 12:40:24.139\u001b[0m | \u001b[1mINFO    \u001b[0m | \u001b[36msuper_helper\u001b[0m:\u001b[36mwith_logging_block\u001b[0m:\u001b[36m33\u001b[0m - \u001b[1m\n",
      "==================================================\u001b[0m\n",
      "\u001b[32m2025-02-20 12:40:24.141\u001b[0m | \u001b[1mINFO    \u001b[0m | \u001b[36msuper_helper\u001b[0m:\u001b[36mwith_logging_block\u001b[0m:\u001b[36m34\u001b[0m - \u001b[1mSTARTING BLOCK: Processing Linked User: jolly_noether@test\u001b[0m\n",
      "\u001b[32m2025-02-20 12:40:24.145\u001b[0m | \u001b[1mINFO    \u001b[0m | \u001b[36msuper_helper\u001b[0m:\u001b[36mwith_logging_block\u001b[0m:\u001b[36m35\u001b[0m - \u001b[1m==================================================\u001b[0m\n",
      "\u001b[32m2025-02-20 12:40:24.148\u001b[0m | \u001b[34m\u001b[1mDEBUG   \u001b[0m | \u001b[36mintegration_helpers\u001b[0m:\u001b[36mtracer\u001b[0m:\u001b[36m35\u001b[0m - \u001b[34m\u001b[1m\tEntering \"get_account_detail\"\u001b[0m\n",
      "2025-02-20 12:40:24,167 - INFO - User Account id = jolly_noether@test, { \"admin@test\" : { \"account_metadata_cid\" : \"QmSVWKfCzvnpKNgx4SJgbNefDzY1ECf8Y8vHPXraCcspzB\", \"linked_project\" : \"10278@test\" } }\n",
      "\u001b[32m2025-02-20 12:40:24.168\u001b[0m | \u001b[34m\u001b[1mDEBUG   \u001b[0m | \u001b[36mintegration_helpers\u001b[0m:\u001b[36mtracer\u001b[0m:\u001b[36m37\u001b[0m - \u001b[34m\u001b[1m\tLeaving \"get_account_detail\"\u001b[0m\n",
      "\u001b[32m2025-02-20 12:40:24.178\u001b[0m | \u001b[32m\u001b[1mSUCCESS \u001b[0m | \u001b[36mipfs_functions\u001b[0m:\u001b[36mdownload_json_from_ipfs\u001b[0m:\u001b[36m52\u001b[0m - \u001b[32m\u001b[1mSuccess downloading JSON from IPFS. Metadata: {'@type': 'foaf:Person', 'foaf:holdsAccount': {'schema:identifier': 'jolly_noether@test', 'schema:publicKey': '93b24e83e5a01970f786207eb4d3d194731fed63daf76ed9ee31c1ac83310ab6', 'schema:roleName': 'author'}, 'foaf:mbox': 'jolly_noether@email.com', 'foaf:name': 'Jolly Noether', 'foaf:organization': {'@type': 'foaf:Organization', 'foaf:name': 'Morris College'}, 'schema:identifier': {'@type': 'PropertyValue', 'propertyID': 'ORCID', 'value': '9833-6461-2701-X'}}\u001b[0m\n",
      "\u001b[32m2025-02-20 12:40:24.180\u001b[0m | \u001b[1mINFO    \u001b[0m | \u001b[36msuper_helper\u001b[0m:\u001b[36mmetadata_block\u001b[0m:\u001b[36m132\u001b[0m - \u001b[1mDownloaded user metadata: {'@type': 'foaf:Person', 'foaf:holdsAccount': {'schema:identifier': 'jolly_noether@test', 'schema:publicKey': '93b24e83e5a01970f786207eb4d3d194731fed63daf76ed9ee31c1ac83310ab6', 'schema:roleName': 'author'}, 'foaf:mbox': 'jolly_noether@email.com', 'foaf:name': 'Jolly Noether', 'foaf:organization': {'@type': 'foaf:Organization', 'foaf:name': 'Morris College'}, 'schema:identifier': {'@type': 'PropertyValue', 'propertyID': 'ORCID', 'value': '9833-6461-2701-X'}}\u001b[0m\n",
      "\u001b[32m2025-02-20 12:40:24.181\u001b[0m | \u001b[1mINFO    \u001b[0m | \u001b[36msuper_helper\u001b[0m:\u001b[36mwith_logging_block\u001b[0m:\u001b[36m41\u001b[0m - \u001b[1mCOMPLETED BLOCK: Processing Linked User: jolly_noether@test\u001b[0m\n",
      "\u001b[32m2025-02-20 12:40:24.183\u001b[0m | \u001b[1mINFO    \u001b[0m | \u001b[36msuper_helper\u001b[0m:\u001b[36mwith_logging_block\u001b[0m:\u001b[36m42\u001b[0m - \u001b[1m--------------------------------------------------\n",
      "\u001b[0m\n",
      "\u001b[32m2025-02-20 12:40:24.185\u001b[0m | \u001b[1mINFO    \u001b[0m | \u001b[36msuper_helper\u001b[0m:\u001b[36mwith_logging_block\u001b[0m:\u001b[36m33\u001b[0m - \u001b[1m\n",
      "==================================================\u001b[0m\n",
      "\u001b[32m2025-02-20 12:40:24.186\u001b[0m | \u001b[1mINFO    \u001b[0m | \u001b[36msuper_helper\u001b[0m:\u001b[36mwith_logging_block\u001b[0m:\u001b[36m34\u001b[0m - \u001b[1mSTARTING BLOCK: Processing Metadata CID\u001b[0m\n",
      "\u001b[32m2025-02-20 12:40:24.188\u001b[0m | \u001b[1mINFO    \u001b[0m | \u001b[36msuper_helper\u001b[0m:\u001b[36mwith_logging_block\u001b[0m:\u001b[36m35\u001b[0m - \u001b[1m==================================================\u001b[0m\n",
      "\u001b[32m2025-02-20 12:40:24.198\u001b[0m | \u001b[32m\u001b[1mSUCCESS \u001b[0m | \u001b[36mipfs_functions\u001b[0m:\u001b[36mdownload_json_from_ipfs\u001b[0m:\u001b[36m52\u001b[0m - \u001b[32m\u001b[1mSuccess downloading JSON from IPFS. Metadata: {'Content-Length': '766401', 'Content-Type': 'application/pdf', 'CreationDate--Text': '4th September 2023', 'CrossMarkDomains[1]': 'elsevier.com', 'CrossMarkDomains[2]': 'sciencedirect.com', 'CrossmarkDomainExclusive': 'true', 'CrossmarkMajorVersionDate': '2010-04-23', 'ElsevierWebPDFSpecifications': '7.0', 'X-TIKA:Parsed-By': ['org.apache.tika.parser.DefaultParser', 'org.apache.tika.parser.pdf.PDFParser'], 'X-TIKA:Parsed-By-Full-Set': ['org.apache.tika.parser.DefaultParser', 'org.apache.tika.parser.pdf.PDFParser'], 'X-TIKA:content_handler': 'ToTextContentHandler', 'X-TIKA:embedded_depth': '0', 'X-TIKA:parse_time_millis': '1633', 'access_permission:assemble_document': 'true', 'access_permission:can_modify': 'true', 'access_permission:can_print': 'true', 'access_permission:can_print_degraded': 'true', 'access_permission:extract_content': 'true', 'access_permission:extract_for_accessibility': 'true', 'access_permission:fill_in_form': 'true', 'access_permission:modify_annotations': 'true', 'dc:creator': ['Nuttanan Wichitaksorn', 'Yingyue Kang', 'Faqiang Zhang'], 'dc:description': 'Expert Systems With Applications, 217 (2023) 119535. doi:10.1016/j.eswa.2023.119535', 'dc:format': 'application/pdf; version=1.7', 'dc:language': 'en-US', 'dc:subject': ['Feature selection,Logistic regression,Lasso logistic,Random subspace,Bootstrap', 'Expert Systems With Applications, 217 (2023) 119535. doi:10.1016/j.eswa.2023.119535'], 'dc:title': 'Random feature selection using random subspace logistic regression', 'dcterms:created': '2023-09-04T20:45:13Z', 'dcterms:modified': '2023-09-04T23:27:57Z', 'doi': '10.1016/j.eswa.2023.119535', 'meta:keyword': 'Feature selection,Logistic regression,Lasso logistic,Random subspace,Bootstrap', 'pdf:PDFVersion': '1.7', 'pdf:annotationSubtypes': 'Link', 'pdf:annotationTypes': 'null', 'pdf:charsPerPage': ['4438', '4300', '6562', '6279', '5556', '3073', '9664', '1698'], 'pdf:containsDamagedFont': 'false', 'pdf:containsNonEmbeddedFont': 'false', 'pdf:docinfo:created': '2023-09-04T20:45:13Z', 'pdf:docinfo:creator': 'Nuttanan Wichitaksorn', 'pdf:docinfo:creator_tool': 'Elsevier', 'pdf:docinfo:custom:CreationDate--Text': '4th September 2023', 'pdf:docinfo:custom:CrossMarkDomains[1]': 'elsevier.com', 'pdf:docinfo:custom:CrossMarkDomains[2]': 'sciencedirect.com', 'pdf:docinfo:custom:CrossmarkDomainExclusive': 'true', 'pdf:docinfo:custom:CrossmarkMajorVersionDate': '2010-04-23', 'pdf:docinfo:custom:ElsevierWebPDFSpecifications': '7.0', 'pdf:docinfo:custom:doi': '10.1016/j.eswa.2023.119535', 'pdf:docinfo:custom:robots': 'noindex', 'pdf:docinfo:keywords': 'Feature selection,Logistic regression,Lasso logistic,Random subspace,Bootstrap', 'pdf:docinfo:modified': '2023-09-04T23:27:57Z', 'pdf:docinfo:producer': 'Acrobat Distiller 8.1.0 (Windows)', 'pdf:docinfo:subject': 'Expert Systems With Applications, 217 (2023) 119535. doi:10.1016/j.eswa.2023.119535', 'pdf:docinfo:title': 'Random feature selection using random subspace logistic regression', 'pdf:encrypted': 'false', 'pdf:hasCollection': 'false', 'pdf:hasMarkedContent': 'false', 'pdf:hasXFA': 'false', 'pdf:hasXMP': 'true', 'pdf:num3DAnnotations': '0', 'pdf:overallPercentageUnmappedUnicodeChars': '0.0', 'pdf:producer': 'Acrobat Distiller 8.1.0 (Windows)', 'pdf:totalUnmappedUnicodeChars': '0', 'pdf:unmappedUnicodeCharsPerPage': ['0', '0', '0', '0', '0', '0', '0', '0'], 'resourceName': \"b'Random-feature-selection-using-random-subspace-l_2023_Expert-Systems-with-Ap.pdf'\", 'robots': 'noindex', 'xmp:CreateDate': '2023-09-04T20:45:13Z', 'xmp:CreatorTool': 'Elsevier', 'xmp:MetadataDate': '2023-09-04T23:27:57Z', 'xmp:ModifyDate': '2023-09-04T23:27:57Z', 'xmpMM:DocumentID': 'uuid:1b499bed-4ce8-4c0c-b682-0d58baae1cbe', 'xmpTPg:NPages': '8'}\u001b[0m\n",
      "\u001b[32m2025-02-20 12:40:24.200\u001b[0m | \u001b[1mINFO    \u001b[0m | \u001b[36msuper_helper\u001b[0m:\u001b[36mdownload_file\u001b[0m:\u001b[36m159\u001b[0m - \u001b[1mCleaned file name: Random-feature-selection-using-random-subspace-l_2023_Expert-Systems-with-Ap.pdf\u001b[0m\n",
      "\u001b[32m2025-02-20 12:40:24.203\u001b[0m | \u001b[1mINFO    \u001b[0m | \u001b[36msuper_helper\u001b[0m:\u001b[36mdownload_file\u001b[0m:\u001b[36m164\u001b[0m - \u001b[1mDownload directory ready: download/10278@test\u001b[0m\n",
      "\u001b[32m2025-02-20 12:40:24.207\u001b[0m | \u001b[1mINFO    \u001b[0m | \u001b[36msuper_helper\u001b[0m:\u001b[36mdownload_file\u001b[0m:\u001b[36m168\u001b[0m - \u001b[1mDownloading file to: download/10278@test/Random-feature-selection-using-random-subspace-l_2023_Expert-Systems-with-Ap.pdf\u001b[0m\n",
      "\u001b[32m2025-02-20 12:40:24.229\u001b[0m | \u001b[32m\u001b[1mSUCCESS \u001b[0m | \u001b[36mipfs_functions\u001b[0m:\u001b[36mdownload_file_from_ipfs\u001b[0m:\u001b[36m33\u001b[0m - \u001b[32m\u001b[1mSuccess downloading file from IPFS. Saved to: download/10278@test/Random-feature-selection-using-random-subspace-l_2023_Expert-Systems-with-Ap.pdf\u001b[0m\n",
      "\u001b[32m2025-02-20 12:40:24.230\u001b[0m | \u001b[1mINFO    \u001b[0m | \u001b[36msuper_helper\u001b[0m:\u001b[36mmetadata_block\u001b[0m:\u001b[36m148\u001b[0m - \u001b[1mDownloaded file metadata for QmTLZSqzPexwEdniZXLPN6fUfmEXX6MXS3b4QjKURgxc9y in project 10278@test.\u001b[0m\n",
      "\u001b[32m2025-02-20 12:40:24.232\u001b[0m | \u001b[1mINFO    \u001b[0m | \u001b[36msuper_helper\u001b[0m:\u001b[36mwith_logging_block\u001b[0m:\u001b[36m41\u001b[0m - \u001b[1mCOMPLETED BLOCK: Processing Metadata CID\u001b[0m\n",
      "\u001b[32m2025-02-20 12:40:24.233\u001b[0m | \u001b[1mINFO    \u001b[0m | \u001b[36msuper_helper\u001b[0m:\u001b[36mwith_logging_block\u001b[0m:\u001b[36m42\u001b[0m - \u001b[1m--------------------------------------------------\n",
      "\u001b[0m\n",
      "\u001b[32m2025-02-20 12:40:24.235\u001b[0m | \u001b[1mINFO    \u001b[0m | \u001b[36msuper_helper\u001b[0m:\u001b[36mwith_logging_block\u001b[0m:\u001b[36m41\u001b[0m - \u001b[1mCOMPLETED BLOCK: Processing Metadata Block\u001b[0m\n",
      "\u001b[32m2025-02-20 12:40:24.235\u001b[0m | \u001b[1mINFO    \u001b[0m | \u001b[36msuper_helper\u001b[0m:\u001b[36mwith_logging_block\u001b[0m:\u001b[36m42\u001b[0m - \u001b[1m--------------------------------------------------\n",
      "\u001b[0m\n"
     ]
    }
   ],
   "source": [
    "metadata_results = metadata_block(processed_results, download_path)"
   ]
  }
 ],
 "metadata": {
  "kernelspec": {
   "display_name": "Python 3 (ipykernel)",
   "language": "python",
   "name": "python3"
  },
  "language_info": {
   "codemirror_mode": {
    "name": "ipython",
    "version": 3
   },
   "file_extension": ".py",
   "mimetype": "text/x-python",
   "name": "python",
   "nbconvert_exporter": "python",
   "pygments_lexer": "ipython3",
   "version": "3.9.21"
  }
 },
 "nbformat": 4,
 "nbformat_minor": 5
}
