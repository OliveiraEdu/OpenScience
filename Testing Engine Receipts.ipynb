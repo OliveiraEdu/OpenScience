{
 "cells": [
  {
   "cell_type": "code",
   "execution_count": 1,
   "id": "f14b8c1b-8f42-4689-9011-80183c8fcf31",
   "metadata": {},
   "outputs": [],
   "source": [
    "\n",
    "from iroha_helper import *"
   ]
  },
  {
   "cell_type": "code",
   "execution_count": 2,
   "id": "513c9cc2-1ea9-41b4-a8a4-9365c9a563dd",
   "metadata": {},
   "outputs": [],
   "source": [
    "def get_engine_receipts_address(tx_hash: str):\n",
    "    \"\"\"\n",
    "    Retrieves and logs the contract address associated with a given transaction hash.\n",
    "\n",
    "    Args:\n",
    "        tx_hash (str): The hex-encoded hash of a transaction on the Iroha blockchain.\n",
    "\n",
    "    Returns:\n",
    "        str: The contract address, or None if not found.\n",
    "    \"\"\"\n",
    "    # Construct the query to retrieve engine receipts\n",
    "    query = iroha.query(\"GetEngineReceipts\", tx_hash=tx_hash)\n",
    "\n",
    "    try:\n",
    "        # Sign the query with the admin private key\n",
    "        IrohaCrypto.sign_query(query, ADMIN_PRIVATE_KEY)\n",
    "\n",
    "        # Send the signed query to the network and get the response\n",
    "        response = net.send_query(query)\n",
    "\n",
    "        # Validate engine receipts existence\n",
    "        if not response.engine_receipts_response.engine_receipts:\n",
    "            logger.error(f\"No engine receipts found for transaction hash: {tx_hash}\")\n",
    "            return None\n",
    "\n",
    "        # Extract the contract address\n",
    "        contract_add = response.engine_receipts_response.engine_receipts[0].contract_address\n",
    "\n",
    "        # Log the transaction hash and contract address\n",
    "        logger.info(f\"Retrieved contract address for transaction hash: {tx_hash}\")\n",
    "        logger.debug(f\"Contract address: {contract_add}\")\n",
    "\n",
    "        return contract_add\n",
    "\n",
    "    except iroha_error.IrohaError as e:\n",
    "        # Log any Iroha-specific errors\n",
    "        logger.error(f\"Iroha error occurred: {e}\")\n",
    "    except Exception as e:\n",
    "        # Log any other exceptions\n",
    "        logger.error(f\"An unexpected error occurred: {e}\")\n",
    "\n",
    "\n",
    "\n"
   ]
  },
  {
   "cell_type": "code",
   "execution_count": 3,
   "id": "7ed4613e-7baf-4be9-b0fb-a1087012239a",
   "metadata": {},
   "outputs": [
    {
     "ename": "SyntaxError",
     "evalue": "leading zeros in decimal integer literals are not permitted; use an 0o prefix for octal integers (3063269234.py, line 5)",
     "output_type": "error",
     "traceback": [
      "\u001b[0;36m  Cell \u001b[0;32mIn[3], line 5\u001b[0;36m\u001b[0m\n\u001b[0;31m    set_account_detail_transaction = 000000000000000000000000000000000000000000000000000000000000002000000000000000000000000000000000000000000000000000000000000000200000000000000000000000000000000000000000000000000000000000000001\u001b[0m\n\u001b[0m                                                                                                                                                                                                                                    ^\u001b[0m\n\u001b[0;31mSyntaxError\u001b[0m\u001b[0;31m:\u001b[0m leading zeros in decimal integer literals are not permitted; use an 0o prefix for octal integers\n"
     ]
    }
   ],
   "source": [
    "create_account_contract_hash =  b'c70f039bde02dc3467b4353a3f901c32b5079bf5c09861215fa09f783c3286b4'\n",
    "\n",
    "detail_contract_hash = b'16b7b681c1d22f83c49ef0c56c4bb6d8360a4a19a2ea6321e31211ff7050ec5d'\n",
    "\n",
    "set_account_detail_transaction = 000000000000000000000000000000000000000000000000000000000000002000000000000000000000000000000000000000000000000000000000000000200000000000000000000000000000000000000000000000000000000000000001"
   ]
  },
  {
   "cell_type": "code",
   "execution_count": null,
   "id": "f1680fd0-c826-4aa5-a951-ceff9ddc3770",
   "metadata": {},
   "outputs": [],
   "source": [
    "get_engine_receipts_address(create_account_contract_hash)"
   ]
  },
  {
   "cell_type": "code",
   "execution_count": null,
   "id": "0ad0eb3f-d62c-44de-8e15-ac0591b29619",
   "metadata": {},
   "outputs": [],
   "source": [
    "get_engine_receipts_address(detail_contract_hash)"
   ]
  },
  {
   "cell_type": "code",
   "execution_count": null,
   "id": "a792e38b-db2c-4552-9b17-942dfeb50acf",
   "metadata": {},
   "outputs": [],
   "source": [
    "def get_engine_receipts_result(tx_hash: str):\n",
    "    \"\"\"\n",
    "    Retrieves and logs the result of a GetEngineReceipts query on the Iroha blockchain.\n",
    "\n",
    "    Args:\n",
    "        tx_hash (str): The hash of the transaction for which the receipt is requested.\n",
    "\n",
    "    Returns:\n",
    "        str: The decoded ASCII string from the result data, or None if not found.\n",
    "    \"\"\"\n",
    "    # Create the query to retrieve engine receipts\n",
    "    query = iroha.query(\"GetEngineReceipts\", tx_hash=tx_hash)\n",
    "\n",
    "    try:\n",
    "        # Sign the query with the admin private key\n",
    "        IrohaCrypto.sign_query(query, ADMIN_PRIVATE_KEY)\n",
    "\n",
    "        # Send the query and get the response\n",
    "        response = net.send_query(query)\n",
    "\n",
    "        # Validate engine receipts existence\n",
    "        if not response.engine_receipts_response.engine_receipts:\n",
    "            logger.error(f\"No engine receipts found for transaction hash: {tx_hash}\")\n",
    "            return None\n",
    "\n",
    "        # Extract the call result\n",
    "        call_result = response.engine_receipts_response.engine_receipts[0].call_result\n",
    "\n",
    "        if not call_result or not call_result.result_data:\n",
    "            logger.error(f\"No result data found for transaction hash: {tx_hash}\")\n",
    "            return None\n",
    "\n",
    "        # Convert the hex string to a byte array\n",
    "        bytes_object = bytes.fromhex(call_result.result_data)\n",
    "\n",
    "        # Decode the byte array to an ASCII string, ignoring any non-ASCII characters\n",
    "        ascii_string = bytes_object.decode('ASCII', 'ignore')\n",
    "\n",
    "        # Log the result\n",
    "        logger.info(f\"Result data (hex): {call_result.result_data}\")\n",
    "        logger.debug(f\"Result decoded string: {ascii_string}\")\n",
    "\n",
    "        return ascii_string\n",
    "\n",
    "    except ValueError as ve:\n",
    "        # Handle hex decoding errors\n",
    "        logger.error(f\"Invalid hexadecimal result data for transaction hash: {tx_hash}, error: {ve}\")\n",
    "    except iroha_error.IrohaError as e:\n",
    "        # Log any Iroha-specific errors\n",
    "        logger.error(f\"Iroha error occurred: {e}\")\n",
    "    except Exception as e:\n",
    "        # Log any other exceptions\n",
    "        logger.error(f\"An unexpected error occurred: {e}\")\n",
    "\n",
    "    return None\n"
   ]
  },
  {
   "cell_type": "code",
   "execution_count": null,
   "id": "d765bd88-0daa-4a02-8f03-8268f14bc407",
   "metadata": {},
   "outputs": [],
   "source": [
    "get_engine_receipts_result(set_account_detail_transaction)"
   ]
  },
  {
   "cell_type": "code",
   "execution_count": null,
   "id": "a8084989-9051-4e2e-ab54-ed35a361da7b",
   "metadata": {},
   "outputs": [],
   "source": []
  }
 ],
 "metadata": {
  "kernelspec": {
   "display_name": "Python 3 (ipykernel)",
   "language": "python",
   "name": "python3"
  },
  "language_info": {
   "codemirror_mode": {
    "name": "ipython",
    "version": 3
   },
   "file_extension": ".py",
   "mimetype": "text/x-python",
   "name": "python",
   "nbconvert_exporter": "python",
   "pygments_lexer": "ipython3",
   "version": "3.9.21"
  }
 },
 "nbformat": 4,
 "nbformat_minor": 5
}
