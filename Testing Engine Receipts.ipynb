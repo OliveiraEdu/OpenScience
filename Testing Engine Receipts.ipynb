{
 "cells": [
  {
   "cell_type": "code",
   "execution_count": 1,
   "id": "f14b8c1b-8f42-4689-9011-80183c8fcf31",
   "metadata": {},
   "outputs": [],
   "source": [
    "from iroha_helper import *\n",
    "from integration_helpers import get_engine_receipts_result, trace\n",
    "from get_transactions import *"
   ]
  },
  {
   "cell_type": "code",
   "execution_count": 2,
   "id": "8a48a535-0107-4cc6-a17d-65968ebabbd2",
   "metadata": {},
   "outputs": [],
   "source": [
    "# This is the hash of the deployed create account contract\n",
    "transaction_hash = b'54e85ab1e872d823704a147d7467048e664000293111416763b4017ced86affb'"
   ]
  },
  {
   "cell_type": "code",
   "execution_count": 4,
   "id": "53842c3f-6d53-4cbd-bd4c-893bed46fdb2",
   "metadata": {},
   "outputs": [
    {
     "name": "stderr",
     "output_type": "stream",
     "text": [
      "\u001b[32m2025-01-24 20:51:57.483\u001b[0m | \u001b[34m\u001b[1mDEBUG   \u001b[0m | \u001b[36mintegration_helpers\u001b[0m:\u001b[36mtracer\u001b[0m:\u001b[36m35\u001b[0m - \u001b[34m\u001b[1m\tEntering \"make_initial_transactions\"\u001b[0m\n",
      "\u001b[32m2025-01-24 20:51:57.485\u001b[0m | \u001b[34m\u001b[1mDEBUG   \u001b[0m | \u001b[36mintegration_helpers\u001b[0m:\u001b[36mtracer\u001b[0m:\u001b[36m35\u001b[0m - \u001b[34m\u001b[1m\tEntering \"send_transaction_and_print_status\"\u001b[0m\n",
      "2025-01-24 20:51:57,501 - INFO - Transaction hash = b'd2884bbcd5764c0830fd24b608e4b2f1d38e208b2e835a0cd563bc296d68dcf9', creator = admin@test\n",
      "2025-01-24 20:51:57,506 - INFO - None\n",
      "2025-01-24 20:51:57,508 - INFO - ('ENOUGH_SIGNATURES_COLLECTED', 9, 0)\n",
      "2025-01-24 20:51:58,097 - INFO - ('STATEFUL_VALIDATION_SUCCESS', 3, 0)\n",
      "2025-01-24 20:51:58,118 - INFO - ('COMMITTED', 5, 0)\n",
      "\u001b[32m2025-01-24 20:51:58.120\u001b[0m | \u001b[34m\u001b[1mDEBUG   \u001b[0m | \u001b[36mintegration_helpers\u001b[0m:\u001b[36mtracer\u001b[0m:\u001b[36m37\u001b[0m - \u001b[34m\u001b[1m\tLeaving \"send_transaction_and_print_status\"\u001b[0m\n",
      "\u001b[32m2025-01-24 20:51:58.122\u001b[0m | \u001b[34m\u001b[1mDEBUG   \u001b[0m | \u001b[36mintegration_helpers\u001b[0m:\u001b[36mtracer\u001b[0m:\u001b[36m35\u001b[0m - \u001b[34m\u001b[1m\tEntering \"send_transaction_and_print_status\"\u001b[0m\n",
      "2025-01-24 20:51:58,137 - INFO - Transaction hash = b'f176a57cecba77a47045a02d306e9f92ec542eb14ca0d27bf690cde82b5074b3', creator = admin@test\n",
      "2025-01-24 20:51:58,141 - INFO - None\n",
      "2025-01-24 20:51:58,145 - INFO - ('ENOUGH_SIGNATURES_COLLECTED', 9, 0)\n",
      "2025-01-24 20:52:01,133 - INFO - ('STATEFUL_VALIDATION_SUCCESS', 3, 0)\n",
      "2025-01-24 20:52:01,158 - INFO - ('COMMITTED', 5, 0)\n",
      "\u001b[32m2025-01-24 20:52:01.161\u001b[0m | \u001b[34m\u001b[1mDEBUG   \u001b[0m | \u001b[36mintegration_helpers\u001b[0m:\u001b[36mtracer\u001b[0m:\u001b[36m37\u001b[0m - \u001b[34m\u001b[1m\tLeaving \"send_transaction_and_print_status\"\u001b[0m\n",
      "\u001b[32m2025-01-24 20:52:01.163\u001b[0m | \u001b[34m\u001b[1mDEBUG   \u001b[0m | \u001b[36mintegration_helpers\u001b[0m:\u001b[36mtracer\u001b[0m:\u001b[36m35\u001b[0m - \u001b[34m\u001b[1m\tEntering \"send_transaction_and_print_status\"\u001b[0m\n",
      "2025-01-24 20:52:01,177 - INFO - Transaction hash = b'735f3216cb2642cd12cc82c0a1f0cde08ef1ef5682295eda7666119c950ddff4', creator = admin@test\n",
      "2025-01-24 20:52:01,181 - INFO - None\n",
      "2025-01-24 20:52:01,184 - INFO - ('ENOUGH_SIGNATURES_COLLECTED', 9, 0)\n",
      "2025-01-24 20:52:04,171 - INFO - ('STATEFUL_VALIDATION_SUCCESS', 3, 0)\n",
      "2025-01-24 20:52:04,193 - INFO - ('COMMITTED', 5, 0)\n",
      "\u001b[32m2025-01-24 20:52:04.195\u001b[0m | \u001b[34m\u001b[1mDEBUG   \u001b[0m | \u001b[36mintegration_helpers\u001b[0m:\u001b[36mtracer\u001b[0m:\u001b[36m37\u001b[0m - \u001b[34m\u001b[1m\tLeaving \"send_transaction_and_print_status\"\u001b[0m\n",
      "\u001b[32m2025-01-24 20:52:04.196\u001b[0m | \u001b[34m\u001b[1mDEBUG   \u001b[0m | \u001b[36mintegration_helpers\u001b[0m:\u001b[36mtracer\u001b[0m:\u001b[36m35\u001b[0m - \u001b[34m\u001b[1m\tEntering \"send_transaction_and_print_status\"\u001b[0m\n",
      "2025-01-24 20:52:04,213 - INFO - Transaction hash = b'f37adabd00edbc06bbe426e18121d9818db8903461c8e67e14dcff89c3d7a747', creator = admin@test\n",
      "2025-01-24 20:52:04,217 - INFO - None\n",
      "2025-01-24 20:52:04,219 - INFO - ('ENOUGH_SIGNATURES_COLLECTED', 9, 0)\n",
      "2025-01-24 20:52:07,208 - INFO - ('STATEFUL_VALIDATION_SUCCESS', 3, 0)\n",
      "2025-01-24 20:52:07,233 - INFO - ('COMMITTED', 5, 0)\n",
      "\u001b[32m2025-01-24 20:52:07.235\u001b[0m | \u001b[34m\u001b[1mDEBUG   \u001b[0m | \u001b[36mintegration_helpers\u001b[0m:\u001b[36mtracer\u001b[0m:\u001b[36m37\u001b[0m - \u001b[34m\u001b[1m\tLeaving \"send_transaction_and_print_status\"\u001b[0m\n",
      "\u001b[32m2025-01-24 20:52:07.238\u001b[0m | \u001b[34m\u001b[1mDEBUG   \u001b[0m | \u001b[36mintegration_helpers\u001b[0m:\u001b[36mtracer\u001b[0m:\u001b[36m35\u001b[0m - \u001b[34m\u001b[1m\tEntering \"send_transaction_and_print_status\"\u001b[0m\n",
      "2025-01-24 20:52:07,255 - INFO - Transaction hash = b'a543acc521f0c9a83b01ab3eed96f01385d809384a1cd89b4eac94037baaabc9', creator = admin@test\n",
      "2025-01-24 20:52:07,259 - INFO - None\n",
      "2025-01-24 20:52:07,262 - INFO - ('MST_PENDING', 8, 0)\n",
      "\u001b[32m2025-01-24 20:52:13.244\u001b[0m | \u001b[34m\u001b[1mDEBUG   \u001b[0m | \u001b[36mintegration_helpers\u001b[0m:\u001b[36mtracer\u001b[0m:\u001b[36m37\u001b[0m - \u001b[34m\u001b[1m\tLeaving \"send_transaction_and_print_status\"\u001b[0m\n",
      "\u001b[32m2025-01-24 20:52:13.247\u001b[0m | \u001b[34m\u001b[1mDEBUG   \u001b[0m | \u001b[36mintegration_helpers\u001b[0m:\u001b[36mtracer\u001b[0m:\u001b[36m35\u001b[0m - \u001b[34m\u001b[1m\tEntering \"send_transaction_and_print_status\"\u001b[0m\n",
      "2025-01-24 20:52:13,266 - INFO - Transaction hash = b'63542e611067611817d475463198c337d8c722445f849539aabeddf2f21c8a91', creator = admin@test\n",
      "2025-01-24 20:52:13,272 - INFO - None\n",
      "2025-01-24 20:52:13,275 - INFO - ('ENOUGH_SIGNATURES_COLLECTED', 9, 0)\n",
      "2025-01-24 20:52:16,255 - INFO - ('STATEFUL_VALIDATION_SUCCESS', 3, 0)\n",
      "2025-01-24 20:52:16,280 - INFO - ('COMMITTED', 5, 0)\n",
      "\u001b[32m2025-01-24 20:52:16.282\u001b[0m | \u001b[34m\u001b[1mDEBUG   \u001b[0m | \u001b[36mintegration_helpers\u001b[0m:\u001b[36mtracer\u001b[0m:\u001b[36m37\u001b[0m - \u001b[34m\u001b[1m\tLeaving \"send_transaction_and_print_status\"\u001b[0m\n",
      "\u001b[32m2025-01-24 20:52:16.285\u001b[0m | \u001b[34m\u001b[1mDEBUG   \u001b[0m | \u001b[36mintegration_helpers\u001b[0m:\u001b[36mtracer\u001b[0m:\u001b[36m37\u001b[0m - \u001b[34m\u001b[1m\tLeaving \"make_initial_transactions\"\u001b[0m\n",
      "\u001b[32m2025-01-24 20:52:16.287\u001b[0m | \u001b[34m\u001b[1mDEBUG   \u001b[0m | \u001b[36mintegration_helpers\u001b[0m:\u001b[36mtracer\u001b[0m:\u001b[36m35\u001b[0m - \u001b[34m\u001b[1m\tEntering \"create_contract\"\u001b[0m\n",
      "\u001b[32m2025-01-24 20:52:16.289\u001b[0m | \u001b[34m\u001b[1mDEBUG   \u001b[0m | \u001b[36mintegration_helpers\u001b[0m:\u001b[36mtracer\u001b[0m:\u001b[36m35\u001b[0m - \u001b[34m\u001b[1m\tEntering \"send_transaction_and_print_status\"\u001b[0m\n",
      "2025-01-24 20:52:16,303 - INFO - Transaction hash = b'2a51d6d3ae0009287447b70ad47d8320aed505a505f9893b82c2bce5eb0e23a9', creator = admin@test\n",
      "2025-01-24 20:52:16,310 - INFO - None\n",
      "2025-01-24 20:52:16,314 - INFO - ('STATELESS_VALIDATION_SUCCESS', 1, 0)\n",
      "2025-01-24 20:52:16,318 - INFO - ('ENOUGH_SIGNATURES_COLLECTED', 9, 0)\n",
      "2025-01-24 20:52:19,321 - INFO - ('STATEFUL_VALIDATION_SUCCESS', 3, 0)\n",
      "2025-01-24 20:52:19,368 - INFO - ('COMMITTED', 5, 0)\n",
      "\u001b[32m2025-01-24 20:52:19.370\u001b[0m | \u001b[34m\u001b[1mDEBUG   \u001b[0m | \u001b[36mintegration_helpers\u001b[0m:\u001b[36mtracer\u001b[0m:\u001b[36m37\u001b[0m - \u001b[34m\u001b[1m\tLeaving \"send_transaction_and_print_status\"\u001b[0m\n",
      "\u001b[32m2025-01-24 20:52:19.372\u001b[0m | \u001b[34m\u001b[1mDEBUG   \u001b[0m | \u001b[36mintegration_helpers\u001b[0m:\u001b[36mtracer\u001b[0m:\u001b[36m37\u001b[0m - \u001b[34m\u001b[1m\tLeaving \"create_contract\"\u001b[0m\n",
      "\u001b[32m2025-01-24 20:52:19.373\u001b[0m | \u001b[34m\u001b[1mDEBUG   \u001b[0m | \u001b[36mintegration_helpers\u001b[0m:\u001b[36mtracer\u001b[0m:\u001b[36m35\u001b[0m - \u001b[34m\u001b[1m\tEntering \"get_engine_receipts_address\"\u001b[0m\n",
      "\u001b[32m2025-01-24 20:52:19.393\u001b[0m | \u001b[34m\u001b[1mDEBUG   \u001b[0m | \u001b[36mintegration_helpers\u001b[0m:\u001b[36mtracer\u001b[0m:\u001b[36m37\u001b[0m - \u001b[34m\u001b[1m\tLeaving \"get_engine_receipts_address\"\u001b[0m\n",
      "\u001b[32m2025-01-24 20:52:19.395\u001b[0m | \u001b[34m\u001b[1mDEBUG   \u001b[0m | \u001b[36mintegration_helpers\u001b[0m:\u001b[36mtracer\u001b[0m:\u001b[36m35\u001b[0m - \u001b[34m\u001b[1m\tEntering \"get_account_transactions\"\u001b[0m\n",
      "\u001b[32m2025-01-24 20:52:19.396\u001b[0m | \u001b[34m\u001b[1mDEBUG   \u001b[0m | \u001b[36mintegration_helpers\u001b[0m:\u001b[36mtracer\u001b[0m:\u001b[36m35\u001b[0m - \u001b[34m\u001b[1m\tEntering \"send_transaction_and_print_status\"\u001b[0m\n",
      "2025-01-24 20:52:19,409 - INFO - Transaction hash = b'324cd451f89bcb7c8d770e3187ebf6c8e4d2d047e0d4187d72cb8d650780c973', creator = admin@test\n",
      "2025-01-24 20:52:19,413 - INFO - None\n",
      "2025-01-24 20:52:19,416 - INFO - ('ENOUGH_SIGNATURES_COLLECTED', 9, 0)\n"
     ]
    },
    {
     "name": "stdout",
     "output_type": "stream",
     "text": [
      "get account transactions results: \n"
     ]
    },
    {
     "name": "stderr",
     "output_type": "stream",
     "text": [
      "2025-01-24 20:52:22,418 - INFO - ('STATEFUL_VALIDATION_SUCCESS', 3, 0)\n",
      "2025-01-24 20:52:22,459 - INFO - ('COMMITTED', 5, 0)\n",
      "\u001b[32m2025-01-24 20:52:22.460\u001b[0m | \u001b[34m\u001b[1mDEBUG   \u001b[0m | \u001b[36mintegration_helpers\u001b[0m:\u001b[36mtracer\u001b[0m:\u001b[36m37\u001b[0m - \u001b[34m\u001b[1m\tLeaving \"send_transaction_and_print_status\"\u001b[0m\n",
      "\u001b[32m2025-01-24 20:52:22.462\u001b[0m | \u001b[34m\u001b[1mDEBUG   \u001b[0m | \u001b[36mintegration_helpers\u001b[0m:\u001b[36mtracer\u001b[0m:\u001b[36m37\u001b[0m - \u001b[34m\u001b[1m\tLeaving \"get_account_transactions\"\u001b[0m\n",
      "\u001b[32m2025-01-24 20:52:22.464\u001b[0m | \u001b[34m\u001b[1mDEBUG   \u001b[0m | \u001b[36mintegration_helpers\u001b[0m:\u001b[36mtracer\u001b[0m:\u001b[36m35\u001b[0m - \u001b[34m\u001b[1m\tEntering \"get_engine_receipts_result\"\u001b[0m\n",
      "\u001b[32m2025-01-24 20:52:22.485\u001b[0m | \u001b[1mINFO    \u001b[0m | \u001b[36mintegration_helpers\u001b[0m:\u001b[36mget_engine_receipts_result\u001b[0m:\u001b[36m163\u001b[0m - \u001b[1m\u0000\u0000\u0000\u0000\u0000\u0000\u0000\u0000\u0000\u0000\u0000\u0000\u0000\u0000\u0000\u0000\u0000\u0000\u0000\u0000\u0000\u0000\u0000\u0000\u0000\u0000\u0000\u0000\u0000\u0000\u0000 \u0000\u0000\u0000\u0000\u0000\u0000\u0000\u0000\u0000\u0000\u0000\u0000\u0000\u0000\u0000\u0000\u0000\u0000\u0000\u0000\u0000\u0000\u0000\u0000\u0000\u0000\u0000\u0000\u0000\u0000\u0015\u0000\u0000\u0000\u0000\u0000\u0000\u0000\u0000\u0000\u0000\u0000\u0000\u0000\u0000\u0000\u0000\u0000\u0000\u0000\u0000\u0000\u0000\u0000\u0000\u0000\u0000\u0000\u0000\u0000\u0000\u0000 \u0000\u0000\u0000\u0000\u0000\u0000\u0000\u0000\u0000\u0000\u0000\u0000\u0000\u0000\u0000\u0000\u0000\u0000\u0000\u0000\u0000\u0000\u0000\u0000\u0000\u0000\u0000\u0000\u0000\u0000\u0015[{\"payload\":{\"reduced_payload\":{\"commands\":[{\"Command\":{\"CallEngine\":{\"caller\":\"admin@test\",\"OptCallee\":null,\"input\":\"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\"}}}],\"creator_account_id\":\"admin@test\",\"created_time\":1719169409837,\"quorum\":1},\"OptionalBatchMeta\":null},\"signatures\":[{\"public_key\":\"313a07e6384776ed95447710d15e59148473ccfc052a681317a72a69f2a49910\",\"signature\":\"1b20bab01db807b8b0a2c7cbd7836eba642cb57edd0c7204e2ef16f8bb239ddb243259c85431fcbbc72c06d971f96cab16ec5df7c2fa1493279f2466712f6909\"}]}]\u0000\u0000\u0000\u0000\u0000\u0000\u0000\u0000\u0000\u0000\u0000\u0000\u0000\u0000\u0000\u0000\u001b[0m\n",
      "\u001b[32m2025-01-24 20:52:22.486\u001b[0m | \u001b[34m\u001b[1mDEBUG   \u001b[0m | \u001b[36mintegration_helpers\u001b[0m:\u001b[36mtracer\u001b[0m:\u001b[36m37\u001b[0m - \u001b[34m\u001b[1m\tLeaving \"get_engine_receipts_result\"\u001b[0m\n",
      "2025-01-24 20:52:22,488 - WARNING - [\"63542e611067611817d475463198c337d8c722445f849539aabeddf2f21c8a91\"]\n",
      "\u001b[32m2025-01-24 20:52:22.490\u001b[0m | \u001b[34m\u001b[1mDEBUG   \u001b[0m | \u001b[36mintegration_helpers\u001b[0m:\u001b[36mtracer\u001b[0m:\u001b[36m35\u001b[0m - \u001b[34m\u001b[1m\tEntering \"send_transaction_and_print_status\"\u001b[0m\n",
      "2025-01-24 20:52:22,504 - INFO - Transaction hash = b'7d088aa64670487c1b1a52248fa74768ea02690b19da6f9a539d959117cc199f', creator = admin@test\n",
      "2025-01-24 20:52:22,507 - INFO - None\n",
      "2025-01-24 20:52:22,510 - INFO - ('ENOUGH_SIGNATURES_COLLECTED', 9, 0)\n"
     ]
    },
    {
     "name": "stdout",
     "output_type": "stream",
     "text": [
      "get transactions result\n"
     ]
    },
    {
     "name": "stderr",
     "output_type": "stream",
     "text": [
      "2025-01-24 20:52:25,484 - INFO - ('STATEFUL_VALIDATION_SUCCESS', 3, 0)\n",
      "2025-01-24 20:52:25,513 - INFO - ('COMMITTED', 5, 0)\n",
      "\u001b[32m2025-01-24 20:52:25.515\u001b[0m | \u001b[34m\u001b[1mDEBUG   \u001b[0m | \u001b[36mintegration_helpers\u001b[0m:\u001b[36mtracer\u001b[0m:\u001b[36m37\u001b[0m - \u001b[34m\u001b[1m\tLeaving \"send_transaction_and_print_status\"\u001b[0m\n",
      "\u001b[32m2025-01-24 20:52:25.516\u001b[0m | \u001b[34m\u001b[1mDEBUG   \u001b[0m | \u001b[36mintegration_helpers\u001b[0m:\u001b[36mtracer\u001b[0m:\u001b[36m35\u001b[0m - \u001b[34m\u001b[1m\tEntering \"get_engine_receipts_result\"\u001b[0m\n",
      "\u001b[32m2025-01-24 20:52:25.538\u001b[0m | \u001b[1mINFO    \u001b[0m | \u001b[36mintegration_helpers\u001b[0m:\u001b[36mget_engine_receipts_result\u001b[0m:\u001b[36m163\u001b[0m - \u001b[1m\u0000\u0000\u0000\u0000\u0000\u0000\u0000\u0000\u0000\u0000\u0000\u0000\u0000\u0000\u0000\u0000\u0000\u0000\u0000\u0000\u0000\u0000\u0000\u0000\u0000\u0000\u0000\u0000\u0000\u0000\u0000 \u0000\u0000\u0000\u0000\u0000\u0000\u0000\u0000\u0000\u0000\u0000\u0000\u0000\u0000\u0000\u0000\u0000\u0000\u0000\u0000\u0000\u0000\u0000\u0000\u0000\u0000\u0000\u0000\u0000\u0000\u0002`\u0000\u0000\u0000\u0000\u0000\u0000\u0000\u0000\u0000\u0000\u0000\u0000\u0000\u0000\u0000\u0000\u0000\u0000\u0000\u0000\u0000\u0000\u0000\u0000\u0000\u0000\u0000\u0000\u0000\u0000\u0000 \u0000\u0000\u0000\u0000\u0000\u0000\u0000\u0000\u0000\u0000\u0000\u0000\u0000\u0000\u0000\u0000\u0000\u0000\u0000\u0000\u0000\u0000\u0000\u0000\u0000\u0000\u0000\u0000\u0000\u0000\u0002\t[{\"payload\":{\"reduced_payload\":{\"commands\":[{\"Command\":{\"TransferAsset\":{\"src_account_id\":\"admin@test\",\"dest_account_id\":\"test@test\",\"asset_id\":\"coin#test\",\"amount\":\"1000.00\"}}}],\"creator_account_id\":\"admin@test\",\"created_time\":1737751933247,\"quorum\":1},\"OptionalBatchMeta\":null},\"signatures\":[{\"public_key\":\"313a07e6384776ed95447710d15e59148473ccfc052a681317a72a69f2a49910\",\"signature\":\"e2ceabd567fafa2067085ce6c76b1ae131bcf3cd132c19bf27acd253f414bfe232cd406b6cc6b3f4db4e26696b91e648535dcb3cd37d855eda32f762f376da07\"}]}]\u0000\u0000\u0000\u0000\u0000\u0000\u0000\u0000\u0000\u0000\u0000\u0000\u0000\u0000\u0000\u0000\u0000\u0000\u0000\u0000\u0000\u0000\u0000\u001b[0m\n",
      "\u001b[32m2025-01-24 20:52:25.539\u001b[0m | \u001b[34m\u001b[1mDEBUG   \u001b[0m | \u001b[36mintegration_helpers\u001b[0m:\u001b[36mtracer\u001b[0m:\u001b[36m37\u001b[0m - \u001b[34m\u001b[1m\tLeaving \"get_engine_receipts_result\"\u001b[0m\n"
     ]
    },
    {
     "name": "stdout",
     "output_type": "stream",
     "text": [
      "done\n"
     ]
    }
   ],
   "source": [
    "tx_hash, first_time, last_time, ft_p, lt_p = make_initial_transactions()\n",
    "# logger.info(f\"{tx_hash}, {first_time}, {last_time}, {ft_p}, {lt_p}\")\n",
    "\n",
    "# tx_hash = transaction_hash\n",
    "\n",
    "hash = create_contract()\n",
    "address = integration_helpers.get_engine_receipts_address(hash)\n",
    "print('get account transactions results: ')\n",
    "\n",
    "hash = get_account_transactions(address, 4, 5, '[{\"Field\": \"kCreatedTime\", \"Direction\": \"kDescending\"},{\"Field\": \"kPosition\", \"Direction\": \"kDescending\"}]')\n",
    "\n",
    "integration_helpers.get_engine_receipts_result(hash)\n",
    "print('get transactions result')\n",
    "\n",
    "tx_hashes = json.dumps([tx_hash.decode()])\n",
    "logger.warning(tx_hashes)\n",
    "\n",
    "hash = get_transactions(address, tx_hashes)\n",
    "integration_helpers.get_engine_receipts_result(hash)\n",
    "print('done')"
   ]
  }
 ],
 "metadata": {
  "kernelspec": {
   "display_name": "Python 3 (ipykernel)",
   "language": "python",
   "name": "python3"
  },
  "language_info": {
   "codemirror_mode": {
    "name": "ipython",
    "version": 3
   },
   "file_extension": ".py",
   "mimetype": "text/x-python",
   "name": "python",
   "nbconvert_exporter": "python",
   "pygments_lexer": "ipython3",
   "version": "3.9.21"
  }
 },
 "nbformat": 4,
 "nbformat_minor": 5
}
