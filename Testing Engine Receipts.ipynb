{
 "cells": [
  {
   "cell_type": "code",
   "execution_count": 1,
   "id": "f14b8c1b-8f42-4689-9011-80183c8fcf31",
   "metadata": {},
   "outputs": [],
   "source": [
    "\n",
    "from iroha_helper import *"
   ]
  },
  {
   "cell_type": "code",
   "execution_count": 2,
   "id": "513c9cc2-1ea9-41b4-a8a4-9365c9a563dd",
   "metadata": {},
   "outputs": [],
   "source": [
    "def get_engine_receipts_address(tx_hash: str):\n",
    "    \"\"\"\n",
    "    Retrieves and logs the contract address associated with a given transaction hash.\n",
    "\n",
    "    Args:\n",
    "        tx_hash (str): The hex-encoded hash of a transaction on the Iroha blockchain.\n",
    "\n",
    "    Returns:\n",
    "        str: The contract address, or None if not found.\n",
    "    \"\"\"\n",
    "    # Construct the query to retrieve engine receipts\n",
    "    query = iroha.query(\"GetEngineReceipts\", tx_hash=tx_hash)\n",
    "\n",
    "    try:\n",
    "        # Sign the query with the admin private key\n",
    "        IrohaCrypto.sign_query(query, ADMIN_PRIVATE_KEY)\n",
    "\n",
    "        # Send the signed query to the network and get the response\n",
    "        response = net.send_query(query)\n",
    "\n",
    "        # Validate engine receipts existence\n",
    "        if not response.engine_receipts_response.engine_receipts:\n",
    "            logger.error(f\"No engine receipts found for transaction hash: {tx_hash}\")\n",
    "            return None\n",
    "\n",
    "        # Extract the contract address\n",
    "        contract_add = response.engine_receipts_response.engine_receipts[0].contract_address\n",
    "\n",
    "        # Log the transaction hash and contract address\n",
    "        logger.info(f\"Retrieved contract address for transaction hash: {tx_hash}\")\n",
    "        logger.debug(f\"Contract address: {contract_add}\")\n",
    "\n",
    "        return contract_add\n",
    "\n",
    "    except iroha_error.IrohaError as e:\n",
    "        # Log any Iroha-specific errors\n",
    "        logger.error(f\"Iroha error occurred: {e}\")\n",
    "    except Exception as e:\n",
    "        # Log any other exceptions\n",
    "        logger.error(f\"An unexpected error occurred: {e}\")\n",
    "\n",
    "\n",
    "\n"
   ]
  },
  {
   "cell_type": "code",
   "execution_count": 3,
   "id": "a792e38b-db2c-4552-9b17-942dfeb50acf",
   "metadata": {},
   "outputs": [],
   "source": [
    "def get_engine_receipts_result(tx_hash: str):\n",
    "    \"\"\"\n",
    "    Retrieves and logs the result of a GetEngineReceipts query on the Iroha blockchain.\n",
    "\n",
    "    Args:\n",
    "        tx_hash (str): The hash of the transaction for which the receipt is requested.\n",
    "\n",
    "    Returns:\n",
    "        str: The decoded ASCII string from the result data, or None if not found.\n",
    "    \"\"\"\n",
    "    # Create the query to retrieve engine receipts\n",
    "    query = iroha.query(\"GetEngineReceipts\", tx_hash=tx_hash)\n",
    "\n",
    "    try:\n",
    "        # Sign the query with the admin private key\n",
    "        IrohaCrypto.sign_query(query, ADMIN_PRIVATE_KEY)\n",
    "\n",
    "        # Send the query and get the response\n",
    "        response = net.send_query(query)\n",
    "\n",
    "        # Validate engine receipts existence\n",
    "        if not response.engine_receipts_response.engine_receipts:\n",
    "            logger.error(f\"No engine receipts found for transaction hash: {tx_hash}\")\n",
    "            return None\n",
    "\n",
    "        # Extract the call result\n",
    "        call_result = response.engine_receipts_response.engine_receipts[0].call_result\n",
    "\n",
    "        if not call_result or not call_result.result_data:\n",
    "            logger.error(f\"No result data found for transaction hash: {tx_hash}\")\n",
    "            return None\n",
    "\n",
    "        # Convert the hex string to a byte array\n",
    "        bytes_object = bytes.fromhex(call_result.result_data)\n",
    "\n",
    "        # Decode the byte array to an ASCII string, ignoring any non-ASCII characters\n",
    "        ascii_string = bytes_object.decode('ASCII', 'ignore')\n",
    "\n",
    "        # Log the result\n",
    "        logger.info(f\"Result data (hex): {call_result.result_data}\")\n",
    "        logger.debug(f\"Result decoded string: {ascii_string}\")\n",
    "\n",
    "        return ascii_string\n",
    "\n",
    "    except ValueError as ve:\n",
    "        # Handle hex decoding errors\n",
    "        logger.error(f\"Invalid hexadecimal result data for transaction hash: {tx_hash}, error: {ve}\")\n",
    "    except iroha_error.IrohaError as e:\n",
    "        # Log any Iroha-specific errors\n",
    "        logger.error(f\"Iroha error occurred: {e}\")\n",
    "    except Exception as e:\n",
    "        # Log any other exceptions\n",
    "        logger.error(f\"An unexpected error occurred: {e}\")\n",
    "\n",
    "    return None\n"
   ]
  },
  {
   "cell_type": "code",
   "execution_count": 4,
   "id": "7ed4613e-7baf-4be9-b0fb-a1087012239a",
   "metadata": {},
   "outputs": [],
   "source": [
    "create_account_contract_hash =  b'c70f039bde02dc3467b4353a3f901c32b5079bf5c09861215fa09f783c3286b4'\n",
    "\n",
    "detail_contract_hash = b'22417e9512e72fd659378a363b0786f6105f4c29f40e9ac9fa8c47f01c195a23'\n",
    "\n",
    "# This is the hash of the deployed create account contract\n",
    "transaction_hash = b'd8af2c98efc4ed9d280f86c7e06a0474272992fc9d6d2f5f95dbfa050ab0245e'\n",
    "\n",
    "id = \"jovial_kirch\"\n",
    "DOMAIN = \"test\"\n"
   ]
  },
  {
   "cell_type": "code",
   "execution_count": 5,
   "id": "eaf06bed-e319-458c-8adb-bcee4fcf2db7",
   "metadata": {},
   "outputs": [
    {
     "name": "stderr",
     "output_type": "stream",
     "text": [
      "\u001b[32m2025-01-22 21:28:09.620\u001b[0m | \u001b[34m\u001b[1mDEBUG   \u001b[0m | \u001b[36mintegration_helpers\u001b[0m:\u001b[36mtracer\u001b[0m:\u001b[36m35\u001b[0m - \u001b[34m\u001b[1m\tEntering \"get_engine_receipts_address\"\u001b[0m\n",
      "\u001b[32m2025-01-22 21:28:09.626\u001b[0m | \u001b[1mINFO    \u001b[0m | \u001b[36mintegration_helpers\u001b[0m:\u001b[36mget_engine_receipts_address\u001b[0m:\u001b[36m96\u001b[0m - \u001b[1mRetrieved contract address for transaction hash: b'd8af2c98efc4ed9d280f86c7e06a0474272992fc9d6d2f5f95dbfa050ab0245e'\u001b[0m\n",
      "\u001b[32m2025-01-22 21:28:09.626\u001b[0m | \u001b[34m\u001b[1mDEBUG   \u001b[0m | \u001b[36mintegration_helpers\u001b[0m:\u001b[36mget_engine_receipts_address\u001b[0m:\u001b[36m97\u001b[0m - \u001b[34m\u001b[1mContract address: 4C07A68238A104742E028A300D6CE73FCCFFCF54\u001b[0m\n",
      "\u001b[32m2025-01-22 21:28:09.627\u001b[0m | \u001b[34m\u001b[1mDEBUG   \u001b[0m | \u001b[36mintegration_helpers\u001b[0m:\u001b[36mtracer\u001b[0m:\u001b[36m37\u001b[0m - \u001b[34m\u001b[1m\tLeaving \"get_engine_receipts_address\"\u001b[0m\n",
      "\u001b[32m2025-01-22 21:28:09.627\u001b[0m | \u001b[34m\u001b[1mDEBUG   \u001b[0m | \u001b[36mintegration_helpers\u001b[0m:\u001b[36mtracer\u001b[0m:\u001b[36m35\u001b[0m - \u001b[34m\u001b[1m\tEntering \"get_account\"\u001b[0m\n",
      "\u001b[32m2025-01-22 21:28:09.635\u001b[0m | \u001b[1mINFO    \u001b[0m | \u001b[36miroha_helper\u001b[0m:\u001b[36mget_account\u001b[0m:\u001b[36m303\u001b[0m - \u001b[1m('STATELESS_VALIDATION_SUCCESS', 1, 0)\u001b[0m\n",
      "\u001b[32m2025-01-22 21:28:09.636\u001b[0m | \u001b[1mINFO    \u001b[0m | \u001b[36miroha_helper\u001b[0m:\u001b[36mget_account\u001b[0m:\u001b[36m303\u001b[0m - \u001b[1m('ENOUGH_SIGNATURES_COLLECTED', 9, 0)\u001b[0m\n",
      "\u001b[32m2025-01-22 21:28:12.622\u001b[0m | \u001b[1mINFO    \u001b[0m | \u001b[36miroha_helper\u001b[0m:\u001b[36mget_account\u001b[0m:\u001b[36m303\u001b[0m - \u001b[1m('STATEFUL_VALIDATION_SUCCESS', 3, 0)\u001b[0m\n",
      "\u001b[32m2025-01-22 21:28:12.656\u001b[0m | \u001b[1mINFO    \u001b[0m | \u001b[36miroha_helper\u001b[0m:\u001b[36mget_account\u001b[0m:\u001b[36m303\u001b[0m - \u001b[1m('COMMITTED', 5, 0)\u001b[0m\n",
      "\u001b[32m2025-01-22 21:28:12.658\u001b[0m | \u001b[34m\u001b[1mDEBUG   \u001b[0m | \u001b[36mintegration_helpers\u001b[0m:\u001b[36mtracer\u001b[0m:\u001b[36m37\u001b[0m - \u001b[34m\u001b[1m\tLeaving \"get_account\"\u001b[0m\n",
      "\u001b[32m2025-01-22 21:28:12.660\u001b[0m | \u001b[34m\u001b[1mDEBUG   \u001b[0m | \u001b[36mintegration_helpers\u001b[0m:\u001b[36mtracer\u001b[0m:\u001b[36m35\u001b[0m - \u001b[34m\u001b[1m\tEntering \"get_engine_receipts_result\"\u001b[0m\n",
      "\u001b[32m2025-01-22 21:28:12.682\u001b[0m | \u001b[1mINFO    \u001b[0m | \u001b[36mintegration_helpers\u001b[0m:\u001b[36mget_engine_receipts_result\u001b[0m:\u001b[36m139\u001b[0m - \u001b[1mResult data: 00000000000000000000000000000000000000000000000000000000000000200000000000000000000000000000000000000000000000000000000000000100000000000000000000000000000000000000000000000000000000000000002000000000000000000000000000000000000000000000000000000000000000ab7b226163636f756e745f6964223a226a6f7669616c5f6b697263684074657374222c22646f6d61696e5f6964223a2274657374222c2271756f72756d223a312c226a736f6e5f64617461223a227b5c2261646d696e40746573745c223a207b5c22757365725f6a736f6e5f6c645f6369645c223a205c22516d5136464b76566448767574326b32627678754c75675470364d4a64743244664b393979456662324e316f47425c227d7d227d000000000000000000000000000000000000000000\u001b[0m\n",
      "\u001b[32m2025-01-22 21:28:12.683\u001b[0m | \u001b[34m\u001b[1mDEBUG   \u001b[0m | \u001b[36mintegration_helpers\u001b[0m:\u001b[36mget_engine_receipts_result\u001b[0m:\u001b[36m140\u001b[0m - \u001b[34m\u001b[1mResult decoded string: \u0000\u0000\u0000\u0000\u0000\u0000\u0000\u0000\u0000\u0000\u0000\u0000\u0000\u0000\u0000\u0000\u0000\u0000\u0000\u0000\u0000\u0000\u0000\u0000\u0000\u0000\u0000\u0000\u0000\u0000\u0000 \u0000\u0000\u0000\u0000\u0000\u0000\u0000\u0000\u0000\u0000\u0000\u0000\u0000\u0000\u0000\u0000\u0000\u0000\u0000\u0000\u0000\u0000\u0000\u0000\u0000\u0000\u0000\u0000\u0000\u0000\u0001\u0000\u0000\u0000\u0000\u0000\u0000\u0000\u0000\u0000\u0000\u0000\u0000\u0000\u0000\u0000\u0000\u0000\u0000\u0000\u0000\u0000\u0000\u0000\u0000\u0000\u0000\u0000\u0000\u0000\u0000\u0000\u0000 \u0000\u0000\u0000\u0000\u0000\u0000\u0000\u0000\u0000\u0000\u0000\u0000\u0000\u0000\u0000\u0000\u0000\u0000\u0000\u0000\u0000\u0000\u0000\u0000\u0000\u0000\u0000\u0000\u0000\u0000\u0000{\"account_id\":\"jovial_kirch@test\",\"domain_id\":\"test\",\"quorum\":1,\"json_data\":\"{\\\"admin@test\\\": {\\\"user_json_ld_cid\\\": \\\"QmQ6FKvVdHvut2k2bvxuLugTp6MJdt2DfK99yEfb2N1oGB\\\"}}\"}\u0000\u0000\u0000\u0000\u0000\u0000\u0000\u0000\u0000\u0000\u0000\u0000\u0000\u0000\u0000\u0000\u0000\u0000\u0000\u0000\u0000\u001b[0m\n",
      "\u001b[32m2025-01-22 21:28:12.684\u001b[0m | \u001b[34m\u001b[1mDEBUG   \u001b[0m | \u001b[36mintegration_helpers\u001b[0m:\u001b[36mtracer\u001b[0m:\u001b[36m37\u001b[0m - \u001b[34m\u001b[1m\tLeaving \"get_engine_receipts_result\"\u001b[0m\n"
     ]
    }
   ],
   "source": [
    "address = integration_helpers.get_engine_receipts_address(transaction_hash)\n",
    "\n",
    "# - Get account info\n",
    "hash = get_account(address, id, DOMAIN)\n",
    "address = integration_helpers.get_engine_receipts_result(hash)"
   ]
  },
  {
   "cell_type": "code",
   "execution_count": 7,
   "id": "ae711923-69fe-4368-a7e8-62bf021b3f68",
   "metadata": {},
   "outputs": [
    {
     "name": "stderr",
     "output_type": "stream",
     "text": [
      "\u001b[32m2025-01-22 21:28:19.159\u001b[0m | \u001b[34m\u001b[1mDEBUG   \u001b[0m | \u001b[36mintegration_helpers\u001b[0m:\u001b[36mtracer\u001b[0m:\u001b[36m35\u001b[0m - \u001b[34m\u001b[1m\tEntering \"get_engine_receipts_address\"\u001b[0m\n",
      "\u001b[32m2025-01-22 21:28:19.192\u001b[0m | \u001b[1mINFO    \u001b[0m | \u001b[36mintegration_helpers\u001b[0m:\u001b[36mget_engine_receipts_address\u001b[0m:\u001b[36m96\u001b[0m - \u001b[1mRetrieved contract address for transaction hash: b'd8af2c98efc4ed9d280f86c7e06a0474272992fc9d6d2f5f95dbfa050ab0245e'\u001b[0m\n",
      "\u001b[32m2025-01-22 21:28:19.194\u001b[0m | \u001b[34m\u001b[1mDEBUG   \u001b[0m | \u001b[36mintegration_helpers\u001b[0m:\u001b[36mget_engine_receipts_address\u001b[0m:\u001b[36m97\u001b[0m - \u001b[34m\u001b[1mContract address: 4C07A68238A104742E028A300D6CE73FCCFFCF54\u001b[0m\n",
      "\u001b[32m2025-01-22 21:28:19.195\u001b[0m | \u001b[34m\u001b[1mDEBUG   \u001b[0m | \u001b[36mintegration_helpers\u001b[0m:\u001b[36mtracer\u001b[0m:\u001b[36m37\u001b[0m - \u001b[34m\u001b[1m\tLeaving \"get_engine_receipts_address\"\u001b[0m\n",
      "\u001b[32m2025-01-22 21:28:19.197\u001b[0m | \u001b[34m\u001b[1mDEBUG   \u001b[0m | \u001b[36mintegration_helpers\u001b[0m:\u001b[36mtracer\u001b[0m:\u001b[36m35\u001b[0m - \u001b[34m\u001b[1m\tEntering \"get_account\"\u001b[0m\n",
      "\u001b[32m2025-01-22 21:28:19.215\u001b[0m | \u001b[1mINFO    \u001b[0m | \u001b[36miroha_helper\u001b[0m:\u001b[36mget_account\u001b[0m:\u001b[36m303\u001b[0m - \u001b[1m('STATELESS_VALIDATION_SUCCESS', 1, 0)\u001b[0m\n",
      "\u001b[32m2025-01-22 21:28:19.216\u001b[0m | \u001b[1mINFO    \u001b[0m | \u001b[36miroha_helper\u001b[0m:\u001b[36mget_account\u001b[0m:\u001b[36m303\u001b[0m - \u001b[1m('ENOUGH_SIGNATURES_COLLECTED', 9, 0)\u001b[0m\n",
      "\u001b[32m2025-01-22 21:28:21.694\u001b[0m | \u001b[1mINFO    \u001b[0m | \u001b[36miroha_helper\u001b[0m:\u001b[36mget_account\u001b[0m:\u001b[36m303\u001b[0m - \u001b[1m('STATEFUL_VALIDATION_SUCCESS', 3, 0)\u001b[0m\n",
      "\u001b[32m2025-01-22 21:28:21.735\u001b[0m | \u001b[1mINFO    \u001b[0m | \u001b[36miroha_helper\u001b[0m:\u001b[36mget_account\u001b[0m:\u001b[36m303\u001b[0m - \u001b[1m('COMMITTED', 5, 0)\u001b[0m\n",
      "\u001b[32m2025-01-22 21:28:21.736\u001b[0m | \u001b[34m\u001b[1mDEBUG   \u001b[0m | \u001b[36mintegration_helpers\u001b[0m:\u001b[36mtracer\u001b[0m:\u001b[36m37\u001b[0m - \u001b[34m\u001b[1m\tLeaving \"get_account\"\u001b[0m\n",
      "\u001b[32m2025-01-22 21:28:21.738\u001b[0m | \u001b[34m\u001b[1mDEBUG   \u001b[0m | \u001b[36mintegration_helpers\u001b[0m:\u001b[36mtracer\u001b[0m:\u001b[36m35\u001b[0m - \u001b[34m\u001b[1m\tEntering \"get_engine_receipts_result\"\u001b[0m\n",
      "\u001b[32m2025-01-22 21:28:21.762\u001b[0m | \u001b[1mINFO    \u001b[0m | \u001b[36mintegration_helpers\u001b[0m:\u001b[36mget_engine_receipts_result\u001b[0m:\u001b[36m139\u001b[0m - \u001b[1mResult data: 00000000000000000000000000000000000000000000000000000000000000200000000000000000000000000000000000000000000000000000000000000100000000000000000000000000000000000000000000000000000000000000002000000000000000000000000000000000000000000000000000000000000000ab7b226163636f756e745f6964223a226a6f7669616c5f6b697263684074657374222c22646f6d61696e5f6964223a2274657374222c2271756f72756d223a312c226a736f6e5f64617461223a227b5c2261646d696e40746573745c223a207b5c22757365725f6a736f6e5f6c645f6369645c223a205c22516d5136464b76566448767574326b32627678754c75675470364d4a64743244664b393979456662324e316f47425c227d7d227d000000000000000000000000000000000000000000\u001b[0m\n",
      "\u001b[32m2025-01-22 21:28:21.763\u001b[0m | \u001b[34m\u001b[1mDEBUG   \u001b[0m | \u001b[36mintegration_helpers\u001b[0m:\u001b[36mget_engine_receipts_result\u001b[0m:\u001b[36m140\u001b[0m - \u001b[34m\u001b[1mResult decoded string: \u0000\u0000\u0000\u0000\u0000\u0000\u0000\u0000\u0000\u0000\u0000\u0000\u0000\u0000\u0000\u0000\u0000\u0000\u0000\u0000\u0000\u0000\u0000\u0000\u0000\u0000\u0000\u0000\u0000\u0000\u0000 \u0000\u0000\u0000\u0000\u0000\u0000\u0000\u0000\u0000\u0000\u0000\u0000\u0000\u0000\u0000\u0000\u0000\u0000\u0000\u0000\u0000\u0000\u0000\u0000\u0000\u0000\u0000\u0000\u0000\u0000\u0001\u0000\u0000\u0000\u0000\u0000\u0000\u0000\u0000\u0000\u0000\u0000\u0000\u0000\u0000\u0000\u0000\u0000\u0000\u0000\u0000\u0000\u0000\u0000\u0000\u0000\u0000\u0000\u0000\u0000\u0000\u0000\u0000 \u0000\u0000\u0000\u0000\u0000\u0000\u0000\u0000\u0000\u0000\u0000\u0000\u0000\u0000\u0000\u0000\u0000\u0000\u0000\u0000\u0000\u0000\u0000\u0000\u0000\u0000\u0000\u0000\u0000\u0000\u0000{\"account_id\":\"jovial_kirch@test\",\"domain_id\":\"test\",\"quorum\":1,\"json_data\":\"{\\\"admin@test\\\": {\\\"user_json_ld_cid\\\": \\\"QmQ6FKvVdHvut2k2bvxuLugTp6MJdt2DfK99yEfb2N1oGB\\\"}}\"}\u0000\u0000\u0000\u0000\u0000\u0000\u0000\u0000\u0000\u0000\u0000\u0000\u0000\u0000\u0000\u0000\u0000\u0000\u0000\u0000\u0000\u001b[0m\n",
      "\u001b[32m2025-01-22 21:28:21.764\u001b[0m | \u001b[34m\u001b[1mDEBUG   \u001b[0m | \u001b[36mintegration_helpers\u001b[0m:\u001b[36mtracer\u001b[0m:\u001b[36m37\u001b[0m - \u001b[34m\u001b[1m\tLeaving \"get_engine_receipts_result\"\u001b[0m\n"
     ]
    }
   ],
   "source": [
    "address = integration_helpers.get_engine_receipts_address(transaction_hash)\n",
    "\n",
    "# - Get account info\n",
    "hash = get_account(address, id, DOMAIN)\n",
    "address = integration_helpers.get_engine_receipts_result(hash)"
   ]
  },
  {
   "cell_type": "code",
   "execution_count": null,
   "id": "5d0ae5ad-e55b-4c5f-a3b5-29354db7bc40",
   "metadata": {},
   "outputs": [],
   "source": []
  }
 ],
 "metadata": {
  "kernelspec": {
   "display_name": "Python 3 (ipykernel)",
   "language": "python",
   "name": "python3"
  },
  "language_info": {
   "codemirror_mode": {
    "name": "ipython",
    "version": 3
   },
   "file_extension": ".py",
   "mimetype": "text/x-python",
   "name": "python",
   "nbconvert_exporter": "python",
   "pygments_lexer": "ipython3",
   "version": "3.9.21"
  }
 },
 "nbformat": 4,
 "nbformat_minor": 5
}
