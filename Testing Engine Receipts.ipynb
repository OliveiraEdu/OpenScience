{
 "cells": [
  {
   "cell_type": "code",
   "execution_count": 1,
   "id": "f14b8c1b-8f42-4689-9011-80183c8fcf31",
   "metadata": {},
   "outputs": [],
   "source": [
    "from iroha_helper import *"
   ]
  },
  {
   "cell_type": "code",
   "execution_count": 3,
   "id": "a792e38b-db2c-4552-9b17-942dfeb50acf",
   "metadata": {},
   "outputs": [],
   "source": [
    "def get_engine_receipts_result(tx_hash: str):\n",
    "    \"\"\"\n",
    "    Retrieves and logs the result of a GetEngineReceipts query on the Iroha blockchain.\n",
    "\n",
    "    Args:\n",
    "        tx_hash (str): The hash of the transaction for which the receipt is requested.\n",
    "\n",
    "    Returns:\n",
    "        str: The decoded ASCII string from the result data, or None if not found.\n",
    "    \"\"\"\n",
    "    # Create the query to retrieve engine receipts\n",
    "    query = iroha.query(\"GetEngineReceipts\", tx_hash=tx_hash)\n",
    "\n",
    "    try:\n",
    "        # Sign the query with the admin private key\n",
    "        IrohaCrypto.sign_query(query, ADMIN_PRIVATE_KEY)\n",
    "\n",
    "        # Send the query and get the response\n",
    "        response = net.send_query(query)\n",
    "\n",
    "        # Validate engine receipts existence\n",
    "        if not response.engine_receipts_response.engine_receipts:\n",
    "            logger.error(f\"No engine receipts found for transaction hash: {tx_hash}\")\n",
    "            return None\n",
    "\n",
    "        # Extract the call result\n",
    "        call_result = response.engine_receipts_response.engine_receipts[0].call_result\n",
    "\n",
    "        if not call_result or not call_result.result_data:\n",
    "            logger.error(f\"No result data found for transaction hash: {tx_hash}\")\n",
    "            return None\n",
    "\n",
    "        # Convert the hex string to a byte array\n",
    "        bytes_object = bytes.fromhex(call_result.result_data)\n",
    "\n",
    "        # Decode the byte array to an ASCII string, ignoring any non-ASCII characters\n",
    "        ascii_string = bytes_object.decode('ASCII', 'ignore')\n",
    "\n",
    "        # Log the result\n",
    "        logger.info(f\"Result data (hex): {call_result.result_data}\")\n",
    "        logger.debug(f\"Result decoded string: {ascii_string}\")\n",
    "\n",
    "        return ascii_string\n",
    "\n",
    "    except ValueError as ve:\n",
    "        # Handle hex decoding errors\n",
    "        logger.error(f\"Invalid hexadecimal result data for transaction hash: {tx_hash}, error: {ve}\")\n",
    "    except iroha_error.IrohaError as e:\n",
    "        # Log any Iroha-specific errors\n",
    "        logger.error(f\"Iroha error occurred: {e}\")\n",
    "    except Exception as e:\n",
    "        # Log any other exceptions\n",
    "        logger.error(f\"An unexpected error occurred: {e}\")\n",
    "\n",
    "    return None\n"
   ]
  },
  {
   "cell_type": "code",
   "execution_count": 4,
   "id": "7ed4613e-7baf-4be9-b0fb-a1087012239a",
   "metadata": {},
   "outputs": [],
   "source": [
    "create_account_contract_hash =  b'c70f039bde02dc3467b4353a3f901c32b5079bf5c09861215fa09f783c3286b4'\n",
    "                                  \n",
    "detail_contract_hash = b'22417e9512e72fd659378a363b0786f6105f4c29f40e9ac9fa8c47f01c195a23'\n",
    "\n",
    "# This is the hash of the deployed create account contract\n",
    "transaction_hash = b'd8af2c98efc4ed9d280f86c7e06a0474272992fc9d6d2f5f95dbfa050ab0245e'\n",
    "\n",
    "id = \"jovial_kirch\"\n",
    "DOMAIN = \"test\"\n"
   ]
  },
  {
   "cell_type": "code",
   "execution_count": 16,
   "id": "eaf06bed-e319-458c-8adb-bcee4fcf2db7",
   "metadata": {},
   "outputs": [
    {
     "name": "stderr",
     "output_type": "stream",
     "text": [
      "\u001b[32m2025-01-23 18:26:52.705\u001b[0m | \u001b[34m\u001b[1mDEBUG   \u001b[0m | \u001b[36mintegration_helpers\u001b[0m:\u001b[36mtracer\u001b[0m:\u001b[36m35\u001b[0m - \u001b[34m\u001b[1m\tEntering \"get_engine_receipts_address\"\u001b[0m\n",
      "\u001b[32m2025-01-23 18:26:52.736\u001b[0m | \u001b[1mINFO    \u001b[0m | \u001b[36mintegration_helpers\u001b[0m:\u001b[36mget_engine_receipts_address\u001b[0m:\u001b[36m96\u001b[0m - \u001b[1mRetrieved contract address for transaction hash: b'd8af2c98efc4ed9d280f86c7e06a0474272992fc9d6d2f5f95dbfa050ab0245e'\u001b[0m\n",
      "\u001b[32m2025-01-23 18:26:52.738\u001b[0m | \u001b[34m\u001b[1mDEBUG   \u001b[0m | \u001b[36mintegration_helpers\u001b[0m:\u001b[36mget_engine_receipts_address\u001b[0m:\u001b[36m97\u001b[0m - \u001b[34m\u001b[1mContract address: 4C07A68238A104742E028A300D6CE73FCCFFCF54\u001b[0m\n",
      "\u001b[32m2025-01-23 18:26:52.740\u001b[0m | \u001b[34m\u001b[1mDEBUG   \u001b[0m | \u001b[36mintegration_helpers\u001b[0m:\u001b[36mtracer\u001b[0m:\u001b[36m37\u001b[0m - \u001b[34m\u001b[1m\tLeaving \"get_engine_receipts_address\"\u001b[0m\n",
      "\u001b[32m2025-01-23 18:26:52.742\u001b[0m | \u001b[34m\u001b[1mDEBUG   \u001b[0m | \u001b[36mintegration_helpers\u001b[0m:\u001b[36mtracer\u001b[0m:\u001b[36m35\u001b[0m - \u001b[34m\u001b[1m\tEntering \"get_account\"\u001b[0m\n",
      "\u001b[32m2025-01-23 18:26:52.763\u001b[0m | \u001b[1mINFO    \u001b[0m | \u001b[36miroha_helper\u001b[0m:\u001b[36mget_account\u001b[0m:\u001b[36m303\u001b[0m - \u001b[1m('STATELESS_VALIDATION_SUCCESS', 1, 0)\u001b[0m\n",
      "\u001b[32m2025-01-23 18:26:52.765\u001b[0m | \u001b[1mINFO    \u001b[0m | \u001b[36miroha_helper\u001b[0m:\u001b[36mget_account\u001b[0m:\u001b[36m303\u001b[0m - \u001b[1m('ENOUGH_SIGNATURES_COLLECTED', 9, 0)\u001b[0m\n",
      "\u001b[32m2025-01-23 18:26:54.809\u001b[0m | \u001b[1mINFO    \u001b[0m | \u001b[36miroha_helper\u001b[0m:\u001b[36mget_account\u001b[0m:\u001b[36m303\u001b[0m - \u001b[1m('STATEFUL_VALIDATION_FAILED', 2, 3)\u001b[0m\n",
      "\u001b[32m2025-01-23 18:26:54.829\u001b[0m | \u001b[1mINFO    \u001b[0m | \u001b[36miroha_helper\u001b[0m:\u001b[36mget_account\u001b[0m:\u001b[36m303\u001b[0m - \u001b[1m('REJECTED', 4, 0)\u001b[0m\n",
      "\u001b[32m2025-01-23 18:26:54.831\u001b[0m | \u001b[34m\u001b[1mDEBUG   \u001b[0m | \u001b[36mintegration_helpers\u001b[0m:\u001b[36mtracer\u001b[0m:\u001b[36m37\u001b[0m - \u001b[34m\u001b[1m\tLeaving \"get_account\"\u001b[0m\n",
      "\u001b[32m2025-01-23 18:26:54.833\u001b[0m | \u001b[34m\u001b[1mDEBUG   \u001b[0m | \u001b[36mintegration_helpers\u001b[0m:\u001b[36mtracer\u001b[0m:\u001b[36m35\u001b[0m - \u001b[34m\u001b[1m\tEntering \"get_engine_receipts_result\"\u001b[0m\n",
      "\u001b[32m2025-01-23 18:26:54.854\u001b[0m | \u001b[31m\u001b[1mERROR   \u001b[0m | \u001b[36mintegration_helpers\u001b[0m:\u001b[36mget_engine_receipts_result\u001b[0m:\u001b[36m143\u001b[0m - \u001b[31m\u001b[1mAn error occurred: list index (0) out of range\u001b[0m\n",
      "\u001b[32m2025-01-23 18:26:54.856\u001b[0m | \u001b[34m\u001b[1mDEBUG   \u001b[0m | \u001b[36mintegration_helpers\u001b[0m:\u001b[36mtracer\u001b[0m:\u001b[36m37\u001b[0m - \u001b[34m\u001b[1m\tLeaving \"get_engine_receipts_result\"\u001b[0m\n"
     ]
    }
   ],
   "source": [
    "address = integration_helpers.get_engine_receipts_address(transaction_hash)\n",
    "\n",
    "# - Get account info\n",
    "hash = get_account(address, id, DOMAIN)\n",
    "address = integration_helpers.get_engine_receipts_result(hash)"
   ]
  },
  {
   "cell_type": "code",
   "execution_count": 6,
   "id": "ae711923-69fe-4368-a7e8-62bf021b3f68",
   "metadata": {},
   "outputs": [
    {
     "name": "stderr",
     "output_type": "stream",
     "text": [
      "\u001b[32m2025-01-24 00:18:56.730\u001b[0m | \u001b[34m\u001b[1mDEBUG   \u001b[0m | \u001b[36mintegration_helpers\u001b[0m:\u001b[36mtracer\u001b[0m:\u001b[36m35\u001b[0m - \u001b[34m\u001b[1m\tEntering \"get_engine_receipts_address\"\u001b[0m\n",
      "\u001b[32m2025-01-24 00:18:56.761\u001b[0m | \u001b[1mINFO    \u001b[0m | \u001b[36mintegration_helpers\u001b[0m:\u001b[36mget_engine_receipts_address\u001b[0m:\u001b[36m96\u001b[0m - \u001b[1mRetrieved contract address for transaction hash: b'1610d881aa9e55ebc55afbdb668494c8093edf6d008cd7408931441089fa6712'\u001b[0m\n",
      "\u001b[32m2025-01-24 00:18:56.763\u001b[0m | \u001b[34m\u001b[1mDEBUG   \u001b[0m | \u001b[36mintegration_helpers\u001b[0m:\u001b[36mget_engine_receipts_address\u001b[0m:\u001b[36m97\u001b[0m - \u001b[34m\u001b[1mContract address: \u001b[0m\n",
      "\u001b[32m2025-01-24 00:18:56.766\u001b[0m | \u001b[34m\u001b[1mDEBUG   \u001b[0m | \u001b[36mintegration_helpers\u001b[0m:\u001b[36mtracer\u001b[0m:\u001b[36m37\u001b[0m - \u001b[34m\u001b[1m\tLeaving \"get_engine_receipts_address\"\u001b[0m\n",
      "\u001b[32m2025-01-24 00:18:56.768\u001b[0m | \u001b[34m\u001b[1mDEBUG   \u001b[0m | \u001b[36mintegration_helpers\u001b[0m:\u001b[36mtracer\u001b[0m:\u001b[36m35\u001b[0m - \u001b[34m\u001b[1m\tEntering \"get_account\"\u001b[0m\n",
      "2025-01-24 00:18:56,769 - WARNING - create_account_contract_address: \n",
      "2025-01-24 00:18:56,788 - INFO - ('STATELESS_VALIDATION_FAILED', 0, 0)\n",
      "2025-01-24 00:18:56,790 - WARNING - Account Data: {'address': '', 'hex_hash': '0c6ef1abdd0a6ba0ab1eb54c7d06fef52b4b0be09d7c8cf01d4b7953c703dce0'}\n",
      "\u001b[32m2025-01-24 00:18:56.791\u001b[0m | \u001b[34m\u001b[1mDEBUG   \u001b[0m | \u001b[36mintegration_helpers\u001b[0m:\u001b[36mtracer\u001b[0m:\u001b[36m35\u001b[0m - \u001b[34m\u001b[1m\tEntering \"append_to_json_file\"\u001b[0m\n",
      "2025-01-24 00:18:56,795 - INFO - Appended data under 'stoic_pare@test' in logs/account_data.json\n",
      "\u001b[32m2025-01-24 00:18:56.796\u001b[0m | \u001b[34m\u001b[1mDEBUG   \u001b[0m | \u001b[36mintegration_helpers\u001b[0m:\u001b[36mtracer\u001b[0m:\u001b[36m37\u001b[0m - \u001b[34m\u001b[1m\tLeaving \"append_to_json_file\"\u001b[0m\n",
      "\u001b[32m2025-01-24 00:18:56.797\u001b[0m | \u001b[34m\u001b[1mDEBUG   \u001b[0m | \u001b[36mintegration_helpers\u001b[0m:\u001b[36mtracer\u001b[0m:\u001b[36m37\u001b[0m - \u001b[34m\u001b[1m\tLeaving \"get_account\"\u001b[0m\n",
      "\u001b[32m2025-01-24 00:18:56.799\u001b[0m | \u001b[34m\u001b[1mDEBUG   \u001b[0m | \u001b[36mintegration_helpers\u001b[0m:\u001b[36mtracer\u001b[0m:\u001b[36m35\u001b[0m - \u001b[34m\u001b[1m\tEntering \"get_engine_receipts_result\"\u001b[0m\n",
      "\u001b[32m2025-01-24 00:18:56.818\u001b[0m | \u001b[31m\u001b[1mERROR   \u001b[0m | \u001b[36mintegration_helpers\u001b[0m:\u001b[36mget_engine_receipts_result\u001b[0m:\u001b[36m144\u001b[0m - \u001b[31m\u001b[1mAn error occurred: list index (0) out of range\u001b[0m\n",
      "\u001b[32m2025-01-24 00:18:56.819\u001b[0m | \u001b[34m\u001b[1mDEBUG   \u001b[0m | \u001b[36mintegration_helpers\u001b[0m:\u001b[36mtracer\u001b[0m:\u001b[36m37\u001b[0m - \u001b[34m\u001b[1m\tLeaving \"get_engine_receipts_result\"\u001b[0m\n",
      "\u001b[32m2025-01-24 00:18:56.821\u001b[0m | \u001b[34m\u001b[1mDEBUG   \u001b[0m | \u001b[36mintegration_helpers\u001b[0m:\u001b[36mtracer\u001b[0m:\u001b[36m35\u001b[0m - \u001b[34m\u001b[1m\tEntering \"get_engine_receipts_address\"\u001b[0m\n",
      "\u001b[32m2025-01-24 00:18:56.840\u001b[0m | \u001b[1mINFO    \u001b[0m | \u001b[36mintegration_helpers\u001b[0m:\u001b[36mget_engine_receipts_address\u001b[0m:\u001b[36m96\u001b[0m - \u001b[1mRetrieved contract address for transaction hash: b'901dd96e5517cdf4cc7f1da9766f5bfc71c8d0286235fdf45d882afd47479f5d'\u001b[0m\n",
      "\u001b[32m2025-01-24 00:18:56.841\u001b[0m | \u001b[34m\u001b[1mDEBUG   \u001b[0m | \u001b[36mintegration_helpers\u001b[0m:\u001b[36mget_engine_receipts_address\u001b[0m:\u001b[36m97\u001b[0m - \u001b[34m\u001b[1mContract address: \u001b[0m\n",
      "\u001b[32m2025-01-24 00:18:56.843\u001b[0m | \u001b[34m\u001b[1mDEBUG   \u001b[0m | \u001b[36mintegration_helpers\u001b[0m:\u001b[36mtracer\u001b[0m:\u001b[36m37\u001b[0m - \u001b[34m\u001b[1m\tLeaving \"get_engine_receipts_address\"\u001b[0m\n",
      "\u001b[32m2025-01-24 00:18:56.844\u001b[0m | \u001b[34m\u001b[1mDEBUG   \u001b[0m | \u001b[36mintegration_helpers\u001b[0m:\u001b[36mtracer\u001b[0m:\u001b[36m35\u001b[0m - \u001b[34m\u001b[1m\tEntering \"get_account\"\u001b[0m\n",
      "2025-01-24 00:18:56,847 - WARNING - create_account_contract_address: \n",
      "2025-01-24 00:18:56,861 - INFO - ('STATELESS_VALIDATION_FAILED', 0, 0)\n",
      "2025-01-24 00:18:56,862 - WARNING - Account Data: {'address': '', 'hex_hash': 'c64fa25e2215af268be289e2f69c4e13db81a32f299738c657d2923e2581272c'}\n",
      "\u001b[32m2025-01-24 00:18:56.863\u001b[0m | \u001b[34m\u001b[1mDEBUG   \u001b[0m | \u001b[36mintegration_helpers\u001b[0m:\u001b[36mtracer\u001b[0m:\u001b[36m35\u001b[0m - \u001b[34m\u001b[1m\tEntering \"append_to_json_file\"\u001b[0m\n",
      "2025-01-24 00:18:56,865 - INFO - Appended data under 'stoic_pare@test' in logs/account_data.json\n",
      "\u001b[32m2025-01-24 00:18:56.866\u001b[0m | \u001b[34m\u001b[1mDEBUG   \u001b[0m | \u001b[36mintegration_helpers\u001b[0m:\u001b[36mtracer\u001b[0m:\u001b[36m37\u001b[0m - \u001b[34m\u001b[1m\tLeaving \"append_to_json_file\"\u001b[0m\n",
      "\u001b[32m2025-01-24 00:18:56.867\u001b[0m | \u001b[34m\u001b[1mDEBUG   \u001b[0m | \u001b[36mintegration_helpers\u001b[0m:\u001b[36mtracer\u001b[0m:\u001b[36m37\u001b[0m - \u001b[34m\u001b[1m\tLeaving \"get_account\"\u001b[0m\n",
      "\u001b[32m2025-01-24 00:18:56.868\u001b[0m | \u001b[34m\u001b[1mDEBUG   \u001b[0m | \u001b[36mintegration_helpers\u001b[0m:\u001b[36mtracer\u001b[0m:\u001b[36m35\u001b[0m - \u001b[34m\u001b[1m\tEntering \"get_engine_receipts_result\"\u001b[0m\n",
      "\u001b[32m2025-01-24 00:18:56.886\u001b[0m | \u001b[31m\u001b[1mERROR   \u001b[0m | \u001b[36mintegration_helpers\u001b[0m:\u001b[36mget_engine_receipts_result\u001b[0m:\u001b[36m144\u001b[0m - \u001b[31m\u001b[1mAn error occurred: list index (0) out of range\u001b[0m\n",
      "\u001b[32m2025-01-24 00:18:56.888\u001b[0m | \u001b[34m\u001b[1mDEBUG   \u001b[0m | \u001b[36mintegration_helpers\u001b[0m:\u001b[36mtracer\u001b[0m:\u001b[36m37\u001b[0m - \u001b[34m\u001b[1m\tLeaving \"get_engine_receipts_result\"\u001b[0m\n"
     ]
    }
   ],
   "source": [
    "id = \"stoic_pare\"\n",
    "DOMAIN = \"test\"\n",
    "\n",
    "\n",
    "a = b'1610d881aa9e55ebc55afbdb668494c8093edf6d008cd7408931441089fa6712'\n",
    "\n",
    "address = integration_helpers.get_engine_receipts_address(a)\n",
    "\n",
    "# - Get account info\n",
    "hash = get_account(address, id, DOMAIN)\n",
    "address = integration_helpers.get_engine_receipts_result(hash)\n",
    "\n",
    "\n",
    "b = b'901dd96e5517cdf4cc7f1da9766f5bfc71c8d0286235fdf45d882afd47479f5d'\n",
    "\n",
    "address = integration_helpers.get_engine_receipts_address(b)\n",
    "\n",
    "# - Get account info\n",
    "hash = get_account(address, id, DOMAIN)\n",
    "address = integration_helpers.get_engine_receipts_result(hash)\n"
   ]
  },
  {
   "cell_type": "code",
   "execution_count": null,
   "id": "5d0ae5ad-e55b-4c5f-a3b5-29354db7bc40",
   "metadata": {},
   "outputs": [],
   "source": []
  },
  {
   "cell_type": "code",
   "execution_count": null,
   "id": "34f3ca58-bd11-41dd-946c-9f3a71ba0074",
   "metadata": {},
   "outputs": [],
   "source": []
  }
 ],
 "metadata": {
  "kernelspec": {
   "display_name": "Python 3 (ipykernel)",
   "language": "python",
   "name": "python3"
  },
  "language_info": {
   "codemirror_mode": {
    "name": "ipython",
    "version": 3
   },
   "file_extension": ".py",
   "mimetype": "text/x-python",
   "name": "python",
   "nbconvert_exporter": "python",
   "pygments_lexer": "ipython3",
   "version": "3.9.21"
  }
 },
 "nbformat": 4,
 "nbformat_minor": 5
}
