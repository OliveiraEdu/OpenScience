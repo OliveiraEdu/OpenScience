{
 "cells": [
  {
   "cell_type": "markdown",
   "id": "13d7ff22-4988-454b-b4db-825c18f05e5f",
   "metadata": {},
   "source": [
    "**IMPORTANT** \n",
    "\n",
    "- For requirements and initial setup go to https://github.com/OliveiraEdu/OpenScience/Readme.md;\n",
    "- To execute the notebook run all cells."
   ]
  },
  {
   "cell_type": "markdown",
   "id": "a09fbc07-8d81-4bd0-b0f3-922e3b0b6d23",
   "metadata": {},
   "source": [
    "# Open Science Platform Notebook 4 - Indexing, searching, validation and download"
   ]
  },
  {
   "cell_type": "markdown",
   "id": "e63f1f60-5289-4674-90bf-55bae1753d5f",
   "metadata": {},
   "source": [
    "1 - Load modules"
   ]
  },
  {
   "cell_type": "code",
   "execution_count": 1,
   "id": "d4a1c5a2-75c3-482e-999c-70eb25226078",
   "metadata": {
    "editable": true,
    "slideshow": {
     "slide_type": ""
    },
    "tags": []
   },
   "outputs": [],
   "source": [
    "from iroha_helper import *\n",
    "from new_helper import *\n",
    "from super_helper import *\n",
    "from loguru import logger"
   ]
  },
  {
   "cell_type": "markdown",
   "id": "68a70b05-1041-43c6-994c-d06c987a502d",
   "metadata": {},
   "source": [
    "2 - Sets variables and values"
   ]
  },
  {
   "cell_type": "code",
   "execution_count": null,
   "id": "cad05321",
   "metadata": {},
   "outputs": [],
   "source": [
    "# # Index for objects in both user account and project account JSON-LDs.\n",
    "# json_ld_index = 0\n",
    "\n",
    "# Local path for file upload\n",
    "directory_path = \"upload\"\n",
    "\n",
    "# Directory for file downloads\n",
    "download_path = \"download\"\n",
    "\n",
    "#for the index system\n",
    "index_path = \"indexdir\"\n",
    "index = open_dir(index_path)\n"
   ]
  },
  {
   "cell_type": "markdown",
   "id": "82d0a843-e5b5-4c7a-95e0-ea065244132a",
   "metadata": {},
   "source": [
    "3 - To reset the index, uncomment the line below. Once executed comment it again."
   ]
  },
  {
   "cell_type": "code",
   "execution_count": null,
   "id": "6768fedd-b830-4ee4-9669-389482caac84",
   "metadata": {},
   "outputs": [],
   "source": [
    "# logger.info(recreate_index()) "
   ]
  },
  {
   "cell_type": "markdown",
   "id": "5c444196-6d75-4a0a-b135-c284648a4885",
   "metadata": {},
   "source": [
    "3 - Load variable `project_id` from the local file system."
   ]
  },
  {
   "cell_type": "code",
   "execution_count": 4,
   "id": "53802dfc-9441-44c1-97a2-78fdcb7501a0",
   "metadata": {},
   "outputs": [
    {
     "name": "stderr",
     "output_type": "stream",
     "text": [
      "2025-01-27 09:32:34,158 - INFO - Variable 'Project Id' successfully loaded from temp/Project Id.json\n",
      "\u001b[32m2025-01-27 09:32:34.160\u001b[0m | \u001b[1mINFO    \u001b[0m | \u001b[36m__main__\u001b[0m:\u001b[36m<module>\u001b[0m:\u001b[36m3\u001b[0m - \u001b[1m41830@test\u001b[0m\n"
     ]
    }
   ],
   "source": [
    "# Loading the variable from JSON\n",
    "project_id = load_variable(\"Project Id\")\n",
    "logger.info(project_id)"
   ]
  },
  {
   "cell_type": "markdown",
   "id": "f34275bf-520d-44eb-9f7f-c8dc40bdf5b1",
   "metadata": {},
   "source": [
    "4 - Index files in the `upload` directory"
   ]
  },
  {
   "cell_type": "code",
   "execution_count": 5,
   "id": "f06a221d",
   "metadata": {},
   "outputs": [
    {
     "name": "stderr",
     "output_type": "stream",
     "text": [
      "\u001b[32m2025-01-27 09:32:34.179\u001b[0m | \u001b[1mINFO    \u001b[0m | \u001b[36m__main__\u001b[0m:\u001b[36m<module>\u001b[0m:\u001b[36m3\u001b[0m - \u001b[1m<Schema: ['abstract', 'created', 'creator', 'date', 'description', 'file_cid', 'format', 'full_text', 'language', 'metadata_cid', 'modified', 'project_id', 'publisher', 'subject', 'title']>\u001b[0m\n",
      "2025-01-27 09:32:34,184 - INFO - Indexing file:  upload/Random-feature-selection-using-random-subspace-l_2023_Expert-Systems-with-Ap.pdf\n",
      "2025-01-27 09:32:34,189 [MainThread  ] [INFO ]  Retrieving http://search.maven.org/remotecontent?filepath=org/apache/tika/tika-server-standard/2.6.0/tika-server-standard-2.6.0.jar to /tmp/tika-server.jar.\n",
      "2025-01-27 09:32:34,189 - INFO - Retrieving http://search.maven.org/remotecontent?filepath=org/apache/tika/tika-server-standard/2.6.0/tika-server-standard-2.6.0.jar to /tmp/tika-server.jar.\n",
      "2025-01-27 09:32:42,462 [MainThread  ] [INFO ]  Retrieving http://search.maven.org/remotecontent?filepath=org/apache/tika/tika-server-standard/2.6.0/tika-server-standard-2.6.0.jar.md5 to /tmp/tika-server.jar.md5.\n",
      "2025-01-27 09:32:42,462 - INFO - Retrieving http://search.maven.org/remotecontent?filepath=org/apache/tika/tika-server-standard/2.6.0/tika-server-standard-2.6.0.jar.md5 to /tmp/tika-server.jar.md5.\n",
      "2025-01-27 09:32:43,730 [MainThread  ] [WARNI]  Failed to see startup log message; retrying...\n",
      "2025-01-27 09:32:43,730 - WARNING - Failed to see startup log message; retrying...\n",
      "\u001b[32m2025-01-27 09:32:50.628\u001b[0m | \u001b[34m\u001b[1mDEBUG   \u001b[0m | \u001b[36mintegration_helpers\u001b[0m:\u001b[36mtracer\u001b[0m:\u001b[36m35\u001b[0m - \u001b[34m\u001b[1m\tEntering \"create_contract\"\u001b[0m\n",
      "2025-01-27 09:32:50,646 - INFO - ('STATELESS_VALIDATION_SUCCESS', 1, 0)\n",
      "2025-01-27 09:32:50,651 - INFO - ('ENOUGH_SIGNATURES_COLLECTED', 9, 0)\n",
      "2025-01-27 09:32:50,885 - INFO - ('STATEFUL_VALIDATION_SUCCESS', 3, 0)\n",
      "2025-01-27 09:32:50,893 - INFO - ('COMMITTED', 5, 0)\n",
      "\u001b[32m2025-01-27 09:32:50.895\u001b[0m | \u001b[34m\u001b[1mDEBUG   \u001b[0m | \u001b[36mintegration_helpers\u001b[0m:\u001b[36mtracer\u001b[0m:\u001b[36m37\u001b[0m - \u001b[34m\u001b[1m\tLeaving \"create_contract\"\u001b[0m\n",
      "\u001b[32m2025-01-27 09:32:50.896\u001b[0m | \u001b[34m\u001b[1mDEBUG   \u001b[0m | \u001b[36mintegration_helpers\u001b[0m:\u001b[36mtracer\u001b[0m:\u001b[36m35\u001b[0m - \u001b[34m\u001b[1m\tEntering \"get_engine_receipts_address\"\u001b[0m\n",
      "\u001b[32m2025-01-27 09:32:50.914\u001b[0m | \u001b[1mINFO    \u001b[0m | \u001b[36mintegration_helpers\u001b[0m:\u001b[36mget_engine_receipts_address\u001b[0m:\u001b[36m96\u001b[0m - \u001b[1mRetrieved contract address for transaction hash: b'5ab994ab771e683d171350c04c262bf4a9aec92815882dc17e5cb5612f796b7d'\u001b[0m\n",
      "\u001b[32m2025-01-27 09:32:50.915\u001b[0m | \u001b[34m\u001b[1mDEBUG   \u001b[0m | \u001b[36mintegration_helpers\u001b[0m:\u001b[36mget_engine_receipts_address\u001b[0m:\u001b[36m97\u001b[0m - \u001b[34m\u001b[1mContract address: BF7618102D873EA6BBAB3EF59343CDF5AB4F375F\u001b[0m\n",
      "\u001b[32m2025-01-27 09:32:50.916\u001b[0m | \u001b[34m\u001b[1mDEBUG   \u001b[0m | \u001b[36mintegration_helpers\u001b[0m:\u001b[36mtracer\u001b[0m:\u001b[36m37\u001b[0m - \u001b[34m\u001b[1m\tLeaving \"get_engine_receipts_address\"\u001b[0m\n",
      "\u001b[32m2025-01-27 09:32:50.919\u001b[0m | \u001b[34m\u001b[1mDEBUG   \u001b[0m | \u001b[36mintegration_helpers\u001b[0m:\u001b[36mtracer\u001b[0m:\u001b[36m35\u001b[0m - \u001b[34m\u001b[1m\tEntering \"set_account_detail\"\u001b[0m\n",
      "2025-01-27 09:32:50,934 - INFO - None\n",
      "2025-01-27 09:32:50,936 - INFO - ('ENOUGH_SIGNATURES_COLLECTED', 9, 0)\n",
      "2025-01-27 09:32:53,934 - INFO - ('STATEFUL_VALIDATION_SUCCESS', 3, 0)\n",
      "2025-01-27 09:32:53,943 - INFO - ('COMMITTED', 5, 0)\n",
      "\u001b[32m2025-01-27 09:32:53.945\u001b[0m | \u001b[34m\u001b[1mDEBUG   \u001b[0m | \u001b[36mintegration_helpers\u001b[0m:\u001b[36mtracer\u001b[0m:\u001b[36m35\u001b[0m - \u001b[34m\u001b[1m\tEntering \"get_engine_receipts_result\"\u001b[0m\n",
      "\u001b[32m2025-01-27 09:32:53.963\u001b[0m | \u001b[1mINFO    \u001b[0m | \u001b[36mintegration_helpers\u001b[0m:\u001b[36mget_engine_receipts_result\u001b[0m:\u001b[36m146\u001b[0m - \u001b[1mResult data: 000000000000000000000000000000000000000000000000000000000000002000000000000000000000000000000000000000000000000000000000000000200000000000000000000000000000000000000000000000000000000000000001\u001b[0m\n",
      "\u001b[32m2025-01-27 09:32:53.965\u001b[0m | \u001b[34m\u001b[1mDEBUG   \u001b[0m | \u001b[36mintegration_helpers\u001b[0m:\u001b[36mget_engine_receipts_result\u001b[0m:\u001b[36m147\u001b[0m - \u001b[34m\u001b[1mResult decoded string: \u0000\u0000\u0000\u0000\u0000\u0000\u0000\u0000\u0000\u0000\u0000\u0000\u0000\u0000\u0000\u0000\u0000\u0000\u0000\u0000\u0000\u0000\u0000\u0000\u0000\u0000\u0000\u0000\u0000\u0000\u0000 \u0000\u0000\u0000\u0000\u0000\u0000\u0000\u0000\u0000\u0000\u0000\u0000\u0000\u0000\u0000\u0000\u0000\u0000\u0000\u0000\u0000\u0000\u0000\u0000\u0000\u0000\u0000\u0000\u0000\u0000\u0000 \u0000\u0000\u0000\u0000\u0000\u0000\u0000\u0000\u0000\u0000\u0000\u0000\u0000\u0000\u0000\u0000\u0000\u0000\u0000\u0000\u0000\u0000\u0000\u0000\u0000\u0000\u0000\u0000\u0000\u0000\u0000\u0001\u001b[0m\n",
      "\u001b[32m2025-01-27 09:32:53.966\u001b[0m | \u001b[34m\u001b[1mDEBUG   \u001b[0m | \u001b[36mintegration_helpers\u001b[0m:\u001b[36mtracer\u001b[0m:\u001b[36m37\u001b[0m - \u001b[34m\u001b[1m\tLeaving \"get_engine_receipts_result\"\u001b[0m\n",
      "\u001b[32m2025-01-27 09:32:53.967\u001b[0m | \u001b[34m\u001b[1mDEBUG   \u001b[0m | \u001b[36mintegration_helpers\u001b[0m:\u001b[36mtracer\u001b[0m:\u001b[36m37\u001b[0m - \u001b[34m\u001b[1m\tLeaving \"set_account_detail\"\u001b[0m\n",
      "\u001b[32m2025-01-27 09:32:53.971\u001b[0m | \u001b[1mINFO    \u001b[0m | \u001b[36msuper_helper\u001b[0m:\u001b[36msetup_index\u001b[0m:\u001b[36m481\u001b[0m - \u001b[1mOpened existing index.\u001b[0m\n",
      "\u001b[32m2025-01-27 09:32:54.282\u001b[0m | \u001b[1mINFO    \u001b[0m | \u001b[36msuper_helper\u001b[0m:\u001b[36mindex_metadata\u001b[0m:\u001b[36m320\u001b[0m - \u001b[1mMetadata indexed successfully: QmZ9D9EoKTafYnZcrbUwqbyPXtZuZr7LgREJ1pG9szyLFa\u001b[0m\n"
     ]
    }
   ],
   "source": [
    "schema = get_schema() #super_helper.py\n",
    "\n",
    "logger.info(schema)\n",
    "\n",
    "processed_data = process_files(directory_path, project_id, schema) #new_helper.py\n",
    "    "
   ]
  },
  {
   "cell_type": "markdown",
   "id": "22eee527-0e40-4b48-b6e9-b62e452259e6",
   "metadata": {},
   "source": [
    "5 - To perform a search update the variable `keyword` with the word or term you are searching for."
   ]
  },
  {
   "cell_type": "code",
   "execution_count": 10,
   "id": "192bca4c-e506-414d-aee5-f9a58ff3105b",
   "metadata": {},
   "outputs": [
    {
     "name": "stderr",
     "output_type": "stream",
     "text": [
      "\u001b[32m2025-01-27 09:39:52.261\u001b[0m | \u001b[1mINFO    \u001b[0m | \u001b[36msuper_helper\u001b[0m:\u001b[36msearch_index\u001b[0m:\u001b[36m341\u001b[0m - \u001b[1mStarting keyword search...\u001b[0m\n",
      "\u001b[32m2025-01-27 09:39:52.268\u001b[0m | \u001b[1mINFO    \u001b[0m | \u001b[36msuper_helper\u001b[0m:\u001b[36msearch_index\u001b[0m:\u001b[36m342\u001b[0m - \u001b[1mKeyword: 'lasso'\u001b[0m\n",
      "\u001b[32m2025-01-27 09:39:52.278\u001b[0m | \u001b[1mINFO    \u001b[0m | \u001b[36msuper_helper\u001b[0m:\u001b[36mwith_logging_block\u001b[0m:\u001b[36m33\u001b[0m - \u001b[1m\n",
      "==================================================\u001b[0m\n",
      "\u001b[32m2025-01-27 09:39:52.279\u001b[0m | \u001b[1mINFO    \u001b[0m | \u001b[36msuper_helper\u001b[0m:\u001b[36mwith_logging_block\u001b[0m:\u001b[36m34\u001b[0m - \u001b[1mSTARTING BLOCK: Keyword Search\u001b[0m\n",
      "\u001b[32m2025-01-27 09:39:52.282\u001b[0m | \u001b[1mINFO    \u001b[0m | \u001b[36msuper_helper\u001b[0m:\u001b[36mwith_logging_block\u001b[0m:\u001b[36m35\u001b[0m - \u001b[1m==================================================\u001b[0m\n",
      "\u001b[32m2025-01-27 09:39:52.283\u001b[0m | \u001b[1mINFO    \u001b[0m | \u001b[36msuper_helper\u001b[0m:\u001b[36msearch_index\u001b[0m:\u001b[36m360\u001b[0m - \u001b[1mTotal search results found for keyword 'lasso': 1\u001b[0m\n",
      "\u001b[32m2025-01-27 09:39:52.287\u001b[0m | \u001b[1mINFO    \u001b[0m | \u001b[36msuper_helper\u001b[0m:\u001b[36msearch_index\u001b[0m:\u001b[36m363\u001b[0m - \u001b[1mListing all search results:\u001b[0m\n",
      "\u001b[32m2025-01-27 09:39:52.289\u001b[0m | \u001b[1mINFO    \u001b[0m | \u001b[36msuper_helper\u001b[0m:\u001b[36msearch_index\u001b[0m:\u001b[36m367\u001b[0m - \u001b[1mResult 1: Project ID: 41830@test, File CID: QmTLZSqzPexwEdniZXLPN6fUfmEXX6MXS3b4QjKURgxc9y\u001b[0m\n",
      "\u001b[32m2025-01-27 09:39:52.292\u001b[0m | \u001b[1mINFO    \u001b[0m | \u001b[36msuper_helper\u001b[0m:\u001b[36msearch_index\u001b[0m:\u001b[36m370\u001b[0m - \u001b[1mFull search results for keyword 'lasso' (excluding 'full_text'):\u001b[0m\n",
      "\u001b[32m2025-01-27 09:39:52.294\u001b[0m | \u001b[1mINFO    \u001b[0m | \u001b[36msuper_helper\u001b[0m:\u001b[36msearch_index\u001b[0m:\u001b[36m373\u001b[0m - \u001b[1mResult 1: {\n",
      "  \"abstract\": \"\",\n",
      "  \"created\": \"2023-09-04t20:45:13z\",\n",
      "  \"creator\": \"nuttanan wichitaksorn, yingyue kang, faqiang zhang\",\n",
      "  \"date\": \"\",\n",
      "  \"description\": \"expert systems with applications, 217 (2023) 119535. doi:10.1016/j.eswa.2023.119535\",\n",
      "  \"file_cid\": \"QmTLZSqzPexwEdniZXLPN6fUfmEXX6MXS3b4QjKURgxc9y\",\n",
      "  \"format\": \"application/pdf; version=1.7\",\n",
      "  \"language\": \"en-us\",\n",
      "  \"metadata_cid\": \"QmZ9D9EoKTafYnZcrbUwqbyPXtZuZr7LgREJ1pG9szyLFa\",\n",
      "  \"modified\": \"2023-09-04t23:27:57z\",\n",
      "  \"project_id\": \"41830@test\",\n",
      "  \"publisher\": \"unknown\",\n",
      "  \"subject\": \"feature selection,logistic regression,lasso logistic,random subspace,bootstrap, expert systems with applications, 217 (2023) 119535. doi:10.1016/j.eswa.2023.119535\",\n",
      "  \"title\": \"random feature selection using random subspace logistic regression\"\n",
      "}\u001b[0m\n",
      "\u001b[32m2025-01-27 09:39:52.297\u001b[0m | \u001b[1mINFO    \u001b[0m | \u001b[36msuper_helper\u001b[0m:\u001b[36mwith_logging_block\u001b[0m:\u001b[36m41\u001b[0m - \u001b[1mCOMPLETED BLOCK: Keyword Search\u001b[0m\n",
      "\u001b[32m2025-01-27 09:39:52.304\u001b[0m | \u001b[1mINFO    \u001b[0m | \u001b[36msuper_helper\u001b[0m:\u001b[36mwith_logging_block\u001b[0m:\u001b[36m42\u001b[0m - \u001b[1m--------------------------------------------------\n",
      "\u001b[0m\n"
     ]
    }
   ],
   "source": [
    "# Perform a keyword search\n",
    "keyword = \"lasso\"\n",
    "search_results, project_ids = search_index(index, keyword)\n"
   ]
  },
  {
   "attachments": {},
   "cell_type": "markdown",
   "id": "e1e9bcdd-2f1c-4323-a2c3-686cf3c58b82",
   "metadata": {},
   "source": [
    "6 - Processes the search results and validates the result files (Validation criteria: File CID must exist in IPFS `AND` the blockchain)"
   ]
  },
  {
   "cell_type": "code",
   "execution_count": 7,
   "id": "7c184261-17e7-4b89-ae87-bca1727ef74f",
   "metadata": {},
   "outputs": [
    {
     "name": "stderr",
     "output_type": "stream",
     "text": [
      "\u001b[32m2025-01-27 09:32:54.355\u001b[0m | \u001b[1mINFO    \u001b[0m | \u001b[36msuper_helper\u001b[0m:\u001b[36mwith_logging_block\u001b[0m:\u001b[36m33\u001b[0m - \u001b[1m\n",
      "==================================================\u001b[0m\n",
      "\u001b[32m2025-01-27 09:32:54.356\u001b[0m | \u001b[1mINFO    \u001b[0m | \u001b[36msuper_helper\u001b[0m:\u001b[36mwith_logging_block\u001b[0m:\u001b[36m34\u001b[0m - \u001b[1mSTARTING BLOCK: Processing Search Results\u001b[0m\n",
      "\u001b[32m2025-01-27 09:32:54.357\u001b[0m | \u001b[1mINFO    \u001b[0m | \u001b[36msuper_helper\u001b[0m:\u001b[36mwith_logging_block\u001b[0m:\u001b[36m35\u001b[0m - \u001b[1m==================================================\u001b[0m\n",
      "\u001b[32m2025-01-27 09:32:54.359\u001b[0m | \u001b[1mINFO    \u001b[0m | \u001b[36msuper_helper\u001b[0m:\u001b[36mwith_logging_block\u001b[0m:\u001b[36m33\u001b[0m - \u001b[1m\n",
      "==================================================\u001b[0m\n",
      "\u001b[32m2025-01-27 09:32:54.360\u001b[0m | \u001b[1mINFO    \u001b[0m | \u001b[36msuper_helper\u001b[0m:\u001b[36mwith_logging_block\u001b[0m:\u001b[36m34\u001b[0m - \u001b[1mSTARTING BLOCK: Processing Result for Project ID: 41830@test\u001b[0m\n",
      "\u001b[32m2025-01-27 09:32:54.361\u001b[0m | \u001b[1mINFO    \u001b[0m | \u001b[36msuper_helper\u001b[0m:\u001b[36mwith_logging_block\u001b[0m:\u001b[36m35\u001b[0m - \u001b[1m==================================================\u001b[0m\n",
      "\u001b[32m2025-01-27 09:32:54.362\u001b[0m | \u001b[1mINFO    \u001b[0m | \u001b[36msuper_helper\u001b[0m:\u001b[36mprocessing_search_results_block\u001b[0m:\u001b[36m72\u001b[0m - \u001b[1mFile CID: QmTLZSqzPexwEdniZXLPN6fUfmEXX6MXS3b4QjKURgxc9y\u001b[0m\n",
      "\u001b[32m2025-01-27 09:32:54.363\u001b[0m | \u001b[1mINFO    \u001b[0m | \u001b[36msuper_helper\u001b[0m:\u001b[36mprocessing_search_results_block\u001b[0m:\u001b[36m73\u001b[0m - \u001b[1mMetadata CID: QmZ9D9EoKTafYnZcrbUwqbyPXtZuZr7LgREJ1pG9szyLFa\u001b[0m\n",
      "\u001b[32m2025-01-27 09:32:54.364\u001b[0m | \u001b[1mINFO    \u001b[0m | \u001b[36msuper_helper\u001b[0m:\u001b[36mwith_logging_block\u001b[0m:\u001b[36m33\u001b[0m - \u001b[1m\n",
      "==================================================\u001b[0m\n",
      "\u001b[32m2025-01-27 09:32:54.365\u001b[0m | \u001b[1mINFO    \u001b[0m | \u001b[36msuper_helper\u001b[0m:\u001b[36mwith_logging_block\u001b[0m:\u001b[36m34\u001b[0m - \u001b[1mSTARTING BLOCK: Fetching Project Details in the blockchain\u001b[0m\n",
      "\u001b[32m2025-01-27 09:32:54.365\u001b[0m | \u001b[1mINFO    \u001b[0m | \u001b[36msuper_helper\u001b[0m:\u001b[36mwith_logging_block\u001b[0m:\u001b[36m35\u001b[0m - \u001b[1m==================================================\u001b[0m\n",
      "\u001b[32m2025-01-27 09:32:54.368\u001b[0m | \u001b[34m\u001b[1mDEBUG   \u001b[0m | \u001b[36mintegration_helpers\u001b[0m:\u001b[36mtracer\u001b[0m:\u001b[36m35\u001b[0m - \u001b[34m\u001b[1m\tEntering \"get_account_detail\"\u001b[0m\n",
      "2025-01-27 09:32:54,382 - INFO - User Account id = 41830@test, { \"admin@test\" : { \"account_metadata_cid\" : \"QmYV8eTg9bnigUvND3M1n7D2yxUMD4UjF1aRbdGE9UvSFB\", \"file_1\" : \"QmTLZSqzPexwEdniZXLPN6fUfmEXX6MXS3b4QjKURgxc9y, QmZ9D9EoKTafYnZcrbUwqbyPXtZuZr7LgREJ1pG9szyLFa\", \"linked_user\" : \"great_black@test\" } }\n",
      "\u001b[32m2025-01-27 09:32:54.384\u001b[0m | \u001b[34m\u001b[1mDEBUG   \u001b[0m | \u001b[36mintegration_helpers\u001b[0m:\u001b[36mtracer\u001b[0m:\u001b[36m37\u001b[0m - \u001b[34m\u001b[1m\tLeaving \"get_account_detail\"\u001b[0m\n",
      "\u001b[32m2025-01-27 09:32:54.386\u001b[0m | \u001b[1mINFO    \u001b[0m | \u001b[36msuper_helper\u001b[0m:\u001b[36mprocessing_search_results_block\u001b[0m:\u001b[36m82\u001b[0m - \u001b[1mFetched project details for 41830@test: { \"admin@test\" : { \"account_metadata_cid\" : \"QmYV8eTg9bnigUvND3M1n7D2yxUMD4UjF1aRbdGE9UvSFB\", \"file_1\" : \"QmTLZSqzPexwEdniZXLPN6fUfmEXX6MXS3b4QjKURgxc9y, QmZ9D9EoKTafYnZcrbUwqbyPXtZuZr7LgREJ1pG9szyLFa\", \"linked_user\" : \"great_black@test\" } }\u001b[0m\n",
      "\u001b[32m2025-01-27 09:32:54.387\u001b[0m | \u001b[1mINFO    \u001b[0m | \u001b[36msuper_helper\u001b[0m:\u001b[36mwith_logging_block\u001b[0m:\u001b[36m41\u001b[0m - \u001b[1mCOMPLETED BLOCK: Fetching Project Details in the blockchain\u001b[0m\n",
      "\u001b[32m2025-01-27 09:32:54.389\u001b[0m | \u001b[1mINFO    \u001b[0m | \u001b[36msuper_helper\u001b[0m:\u001b[36mwith_logging_block\u001b[0m:\u001b[36m42\u001b[0m - \u001b[1m--------------------------------------------------\n",
      "\u001b[0m\n",
      "\u001b[32m2025-01-27 09:32:54.392\u001b[0m | \u001b[1mINFO    \u001b[0m | \u001b[36msuper_helper\u001b[0m:\u001b[36mwith_logging_block\u001b[0m:\u001b[36m33\u001b[0m - \u001b[1m\n",
      "==================================================\u001b[0m\n",
      "\u001b[32m2025-01-27 09:32:54.394\u001b[0m | \u001b[1mINFO    \u001b[0m | \u001b[36msuper_helper\u001b[0m:\u001b[36mwith_logging_block\u001b[0m:\u001b[36m34\u001b[0m - \u001b[1mSTARTING BLOCK: Validating File CID\u001b[0m\n",
      "\u001b[32m2025-01-27 09:32:54.396\u001b[0m | \u001b[1mINFO    \u001b[0m | \u001b[36msuper_helper\u001b[0m:\u001b[36mwith_logging_block\u001b[0m:\u001b[36m35\u001b[0m - \u001b[1m==================================================\u001b[0m\n",
      "\u001b[32m2025-01-27 09:32:54.397\u001b[0m | \u001b[1mINFO    \u001b[0m | \u001b[36msuper_helper\u001b[0m:\u001b[36mfetch_project_details\u001b[0m:\u001b[36m416\u001b[0m - \u001b[1mValidating and fetching details for CID: QmTLZSqzPexwEdniZXLPN6fUfmEXX6MXS3b4QjKURgxc9y\u001b[0m\n",
      "\u001b[32m2025-01-27 09:32:54.403\u001b[0m | \u001b[1mINFO    \u001b[0m | \u001b[36msuper_helper\u001b[0m:\u001b[36mfetch_project_details\u001b[0m:\u001b[36m424\u001b[0m - \u001b[1m***** File CID QmTLZSqzPexwEdniZXLPN6fUfmEXX6MXS3b4QjKURgxc9y found under file_1, the file is VALID *****\u001b[0m\n",
      "\u001b[32m2025-01-27 09:32:54.405\u001b[0m | \u001b[1mINFO    \u001b[0m | \u001b[36msuper_helper\u001b[0m:\u001b[36mwith_logging_block\u001b[0m:\u001b[36m41\u001b[0m - \u001b[1mCOMPLETED BLOCK: Validating File CID\u001b[0m\n",
      "\u001b[32m2025-01-27 09:32:54.407\u001b[0m | \u001b[1mINFO    \u001b[0m | \u001b[36msuper_helper\u001b[0m:\u001b[36mwith_logging_block\u001b[0m:\u001b[36m42\u001b[0m - \u001b[1m--------------------------------------------------\n",
      "\u001b[0m\n",
      "\u001b[32m2025-01-27 09:32:54.410\u001b[0m | \u001b[1mINFO    \u001b[0m | \u001b[36msuper_helper\u001b[0m:\u001b[36mwith_logging_block\u001b[0m:\u001b[36m41\u001b[0m - \u001b[1mCOMPLETED BLOCK: Processing Result for Project ID: 41830@test\u001b[0m\n",
      "\u001b[32m2025-01-27 09:32:54.411\u001b[0m | \u001b[1mINFO    \u001b[0m | \u001b[36msuper_helper\u001b[0m:\u001b[36mwith_logging_block\u001b[0m:\u001b[36m42\u001b[0m - \u001b[1m--------------------------------------------------\n",
      "\u001b[0m\n",
      "\u001b[32m2025-01-27 09:32:54.413\u001b[0m | \u001b[1mINFO    \u001b[0m | \u001b[36msuper_helper\u001b[0m:\u001b[36mwith_logging_block\u001b[0m:\u001b[36m41\u001b[0m - \u001b[1mCOMPLETED BLOCK: Processing Search Results\u001b[0m\n",
      "\u001b[32m2025-01-27 09:32:54.415\u001b[0m | \u001b[1mINFO    \u001b[0m | \u001b[36msuper_helper\u001b[0m:\u001b[36mwith_logging_block\u001b[0m:\u001b[36m42\u001b[0m - \u001b[1m--------------------------------------------------\n",
      "\u001b[0m\n"
     ]
    }
   ],
   "source": [
    "processed_results = processing_search_results_block(search_results)"
   ]
  },
  {
   "cell_type": "markdown",
   "id": "38a12696-84c2-4e15-b0f3-d9761a386d82",
   "metadata": {},
   "source": [
    "8 - Displays additional metadata from IPFS about the Project and the User and download valid file in the project directory beneath `download`."
   ]
  },
  {
   "cell_type": "code",
   "execution_count": 8,
   "id": "188f2247-12d5-4abc-9cd3-af60b4718af1",
   "metadata": {},
   "outputs": [
    {
     "name": "stderr",
     "output_type": "stream",
     "text": [
      "\u001b[32m2025-01-27 09:32:54.431\u001b[0m | \u001b[1mINFO    \u001b[0m | \u001b[36msuper_helper\u001b[0m:\u001b[36mwith_logging_block\u001b[0m:\u001b[36m33\u001b[0m - \u001b[1m\n",
      "==================================================\u001b[0m\n",
      "\u001b[32m2025-01-27 09:32:54.433\u001b[0m | \u001b[1mINFO    \u001b[0m | \u001b[36msuper_helper\u001b[0m:\u001b[36mwith_logging_block\u001b[0m:\u001b[36m34\u001b[0m - \u001b[1mSTARTING BLOCK: Processing Metadata Block\u001b[0m\n",
      "\u001b[32m2025-01-27 09:32:54.436\u001b[0m | \u001b[1mINFO    \u001b[0m | \u001b[36msuper_helper\u001b[0m:\u001b[36mwith_logging_block\u001b[0m:\u001b[36m35\u001b[0m - \u001b[1m==================================================\u001b[0m\n",
      "\u001b[32m2025-01-27 09:32:54.437\u001b[0m | \u001b[1mINFO    \u001b[0m | \u001b[36msuper_helper\u001b[0m:\u001b[36mwith_logging_block\u001b[0m:\u001b[36m33\u001b[0m - \u001b[1m\n",
      "==================================================\u001b[0m\n",
      "\u001b[32m2025-01-27 09:32:54.438\u001b[0m | \u001b[1mINFO    \u001b[0m | \u001b[36msuper_helper\u001b[0m:\u001b[36mwith_logging_block\u001b[0m:\u001b[36m34\u001b[0m - \u001b[1mSTARTING BLOCK: Processing Linked User: great_black@test\u001b[0m\n",
      "\u001b[32m2025-01-27 09:32:54.439\u001b[0m | \u001b[1mINFO    \u001b[0m | \u001b[36msuper_helper\u001b[0m:\u001b[36mwith_logging_block\u001b[0m:\u001b[36m35\u001b[0m - \u001b[1m==================================================\u001b[0m\n",
      "\u001b[32m2025-01-27 09:32:54.440\u001b[0m | \u001b[34m\u001b[1mDEBUG   \u001b[0m | \u001b[36mintegration_helpers\u001b[0m:\u001b[36mtracer\u001b[0m:\u001b[36m35\u001b[0m - \u001b[34m\u001b[1m\tEntering \"get_account_detail\"\u001b[0m\n",
      "2025-01-27 09:32:54,454 - INFO - User Account id = great_black@test, { \"admin@test\" : { \"account_metadata_cid\" : \"QmSAq3297ccBLN4AsSRrrTLNW9mvpnbBZonkDNtsYVnocM\", \"linked_project\" : \"41830@test\" } }\n",
      "\u001b[32m2025-01-27 09:32:54.455\u001b[0m | \u001b[34m\u001b[1mDEBUG   \u001b[0m | \u001b[36mintegration_helpers\u001b[0m:\u001b[36mtracer\u001b[0m:\u001b[36m37\u001b[0m - \u001b[34m\u001b[1m\tLeaving \"get_account_detail\"\u001b[0m\n",
      "\u001b[32m2025-01-27 09:32:54.462\u001b[0m | \u001b[1mINFO    \u001b[0m | \u001b[36msuper_helper\u001b[0m:\u001b[36mmetadata_block\u001b[0m:\u001b[36m132\u001b[0m - \u001b[1mDownloaded user metadata: {'@type': 'foaf:Person', 'foaf:holdsAccount': {'schema:identifier': 'great_black@test', 'schema:publicKey': 'cf698d65a3f8b17d684e64de9dda1c0e7c220b53079e5680bd10a8c70c70bcbb', 'schema:roleName': 'publisher'}, 'foaf:mbox': 'great_black@email.com', 'foaf:name': 'Great Black', 'foaf:organization': {'@type': 'foaf:Organization', 'foaf:name': 'Effat College'}, 'schema:identifier': {'@type': 'PropertyValue', 'propertyID': 'ORCID', 'value': '2210-3293-8398-X'}}\u001b[0m\n",
      "\u001b[32m2025-01-27 09:32:54.463\u001b[0m | \u001b[1mINFO    \u001b[0m | \u001b[36msuper_helper\u001b[0m:\u001b[36mwith_logging_block\u001b[0m:\u001b[36m41\u001b[0m - \u001b[1mCOMPLETED BLOCK: Processing Linked User: great_black@test\u001b[0m\n",
      "\u001b[32m2025-01-27 09:32:54.464\u001b[0m | \u001b[1mINFO    \u001b[0m | \u001b[36msuper_helper\u001b[0m:\u001b[36mwith_logging_block\u001b[0m:\u001b[36m42\u001b[0m - \u001b[1m--------------------------------------------------\n",
      "\u001b[0m\n",
      "\u001b[32m2025-01-27 09:32:54.466\u001b[0m | \u001b[1mINFO    \u001b[0m | \u001b[36msuper_helper\u001b[0m:\u001b[36mwith_logging_block\u001b[0m:\u001b[36m33\u001b[0m - \u001b[1m\n",
      "==================================================\u001b[0m\n",
      "\u001b[32m2025-01-27 09:32:54.468\u001b[0m | \u001b[1mINFO    \u001b[0m | \u001b[36msuper_helper\u001b[0m:\u001b[36mwith_logging_block\u001b[0m:\u001b[36m34\u001b[0m - \u001b[1mSTARTING BLOCK: Processing Metadata CID\u001b[0m\n",
      "\u001b[32m2025-01-27 09:32:54.470\u001b[0m | \u001b[1mINFO    \u001b[0m | \u001b[36msuper_helper\u001b[0m:\u001b[36mwith_logging_block\u001b[0m:\u001b[36m35\u001b[0m - \u001b[1m==================================================\u001b[0m\n",
      "\u001b[32m2025-01-27 09:32:54.480\u001b[0m | \u001b[1mINFO    \u001b[0m | \u001b[36msuper_helper\u001b[0m:\u001b[36mdownload_file\u001b[0m:\u001b[36m159\u001b[0m - \u001b[1mCleaned file name: Random-feature-selection-using-random-subspace-l_2023_Expert-Systems-with-Ap.pdf\u001b[0m\n",
      "\u001b[32m2025-01-27 09:32:54.483\u001b[0m | \u001b[1mINFO    \u001b[0m | \u001b[36msuper_helper\u001b[0m:\u001b[36mdownload_file\u001b[0m:\u001b[36m164\u001b[0m - \u001b[1mDownload directory ready: download/41830@test\u001b[0m\n",
      "\u001b[32m2025-01-27 09:32:54.487\u001b[0m | \u001b[1mINFO    \u001b[0m | \u001b[36msuper_helper\u001b[0m:\u001b[36mdownload_file\u001b[0m:\u001b[36m168\u001b[0m - \u001b[1mDownloading file to: download/41830@test/Random-feature-selection-using-random-subspace-l_2023_Expert-Systems-with-Ap.pdf\u001b[0m\n",
      "\u001b[32m2025-01-27 09:32:54.515\u001b[0m | \u001b[1mINFO    \u001b[0m | \u001b[36msuper_helper\u001b[0m:\u001b[36mmetadata_block\u001b[0m:\u001b[36m148\u001b[0m - \u001b[1mDownloaded file metadata for QmTLZSqzPexwEdniZXLPN6fUfmEXX6MXS3b4QjKURgxc9y in project 41830@test.\u001b[0m\n",
      "\u001b[32m2025-01-27 09:32:54.517\u001b[0m | \u001b[1mINFO    \u001b[0m | \u001b[36msuper_helper\u001b[0m:\u001b[36mwith_logging_block\u001b[0m:\u001b[36m41\u001b[0m - \u001b[1mCOMPLETED BLOCK: Processing Metadata CID\u001b[0m\n",
      "\u001b[32m2025-01-27 09:32:54.518\u001b[0m | \u001b[1mINFO    \u001b[0m | \u001b[36msuper_helper\u001b[0m:\u001b[36mwith_logging_block\u001b[0m:\u001b[36m42\u001b[0m - \u001b[1m--------------------------------------------------\n",
      "\u001b[0m\n",
      "\u001b[32m2025-01-27 09:32:54.519\u001b[0m | \u001b[1mINFO    \u001b[0m | \u001b[36msuper_helper\u001b[0m:\u001b[36mwith_logging_block\u001b[0m:\u001b[36m41\u001b[0m - \u001b[1mCOMPLETED BLOCK: Processing Metadata Block\u001b[0m\n",
      "\u001b[32m2025-01-27 09:32:54.521\u001b[0m | \u001b[1mINFO    \u001b[0m | \u001b[36msuper_helper\u001b[0m:\u001b[36mwith_logging_block\u001b[0m:\u001b[36m42\u001b[0m - \u001b[1m--------------------------------------------------\n",
      "\u001b[0m\n"
     ]
    }
   ],
   "source": [
    "metadata_results = metadata_block(processed_results, download_path)"
   ]
  }
 ],
 "metadata": {
  "kernelspec": {
   "display_name": "Python 3",
   "language": "python",
   "name": "python3"
  },
  "language_info": {
   "codemirror_mode": {
    "name": "ipython",
    "version": 3
   },
   "file_extension": ".py",
   "mimetype": "text/x-python",
   "name": "python",
   "nbconvert_exporter": "python",
   "pygments_lexer": "ipython3",
   "version": "3.9.21"
  }
 },
 "nbformat": 4,
 "nbformat_minor": 5
}
