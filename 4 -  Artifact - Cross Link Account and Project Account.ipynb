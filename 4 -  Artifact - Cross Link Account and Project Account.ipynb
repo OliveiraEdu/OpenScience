{
 "cells": [
  {
   "cell_type": "markdown",
   "id": "1df1fc44-0e30-4546-a1a0-b7dfe6348bbc",
   "metadata": {},
   "source": [
    "**IMPORTANT** \n",
    "\n",
    "- For requirements and initial setup go to https://github.com/OliveiraEdu/OpenScience/Readme.md;\n",
    "- To execute the notebook run all cells."
   ]
  },
  {
   "cell_type": "markdown",
   "id": "9351e37b-0088-46ee-b277-8e31b639fb1e",
   "metadata": {},
   "source": [
    "# Notebook 4 - Open Science Platform - Cross link User and Project accounts"
   ]
  },
  {
   "cell_type": "markdown",
   "id": "1cc0795b-dd42-4250-9edb-785e5057b9ad",
   "metadata": {},
   "source": [
    "1 - Load required modules"
   ]
  },
  {
   "cell_type": "code",
   "execution_count": 15,
   "id": "d4a1c5a2-75c3-482e-999c-70eb25226078",
   "metadata": {
    "editable": true,
    "slideshow": {
     "slide_type": ""
    },
    "tags": []
   },
   "outputs": [],
   "source": [
    "from new_helper import *\n",
    "from super_helper import *\n",
    "from loguru import logger"
   ]
  },
  {
   "cell_type": "markdown",
   "id": "8f1d5d04-7879-406b-93b9-b2e97ff2c51c",
   "metadata": {},
   "source": [
    "2 - Set variables and values"
   ]
  },
  {
   "cell_type": "code",
   "execution_count": 16,
   "id": "cad05321",
   "metadata": {},
   "outputs": [],
   "source": [
    "# Index for objects in both user account and project account JSON-LDs.\n",
    "json_ld_index = 0\n",
    "\n",
    "# Local path for file upload\n",
    "directory_path = \"upload\"\n",
    "\n",
    "# Directory for file downloads\n",
    "download_path = \"download\"\n",
    "\n",
    "# Read accounts from JSON-LD\n",
    "user_accounts, user_account_short_ids  = read_user_accounts_from_jsonld('logs/accounts.json')\n",
    "project_accounts, project_account_short_ids = read_project_accounts_from_jsonld('logs/projects.json')"
   ]
  },
  {
   "cell_type": "markdown",
   "id": "9a043d51-4a22-4186-975e-7e3e8a4b54ef",
   "metadata": {},
   "source": [
    "4 - Deploys a smart contract into the Iroha 1 blockchain for details (attributes) setting;"
   ]
  },
  {
   "cell_type": "code",
   "execution_count": 17,
   "id": "0e6442fc",
   "metadata": {},
   "outputs": [
    {
     "name": "stderr",
     "output_type": "stream",
     "text": [
      "2025-03-04 01:44:14,673 - INFO - Variable 'Account Detail Contract Hash' successfully loaded from temp/Account Detail Contract Hash.json\n",
      "\u001b[32m2025-03-04 01:44:14.675\u001b[0m | \u001b[1mINFO    \u001b[0m | \u001b[36m__main__\u001b[0m:\u001b[36m<module>\u001b[0m:\u001b[36m3\u001b[0m - \u001b[1mb'd106deced13a349403f823cc50875ad0ad36ac062b6da6b258e227fea9280824'\u001b[0m\n"
     ]
    }
   ],
   "source": [
    "# Loading the variable from JSON\n",
    "account_detail_contract_hash = load_variable(\"Account Detail Contract Hash\")\n",
    "logger.info(account_detail_contract_hash)"
   ]
  },
  {
   "cell_type": "markdown",
   "id": "a4ea1051-cb1c-4c29-97e5-38ba90248081",
   "metadata": {},
   "source": [
    "5 - Data extraction from JSON-LD.\n",
    "\n",
    "Extracts account ids from `datasets/accounts.json` and `datasets/projects.json`.\n",
    "\n",
    "Must update `json_ld_index` (see item 2) with a entry number related to the position of an existing object in `datasets/accounts.json` and `datasets/projects.json`. Example: `json_ld_index = 2`, selects the second object in each json file."
   ]
  },
  {
   "cell_type": "markdown",
   "id": "26e068d0-2247-4fd3-827f-4144b66965e1",
   "metadata": {},
   "source": [
    "6 - Sets details for both User and Project accounts providing a logical link between them for later references."
   ]
  },
  {
   "cell_type": "code",
   "execution_count": 18,
   "id": "1304dbe4",
   "metadata": {},
   "outputs": [
    {
     "name": "stderr",
     "output_type": "stream",
     "text": [
      "\u001b[32m2025-03-04 01:44:14.694\u001b[0m | \u001b[34m\u001b[1mDEBUG   \u001b[0m | \u001b[36mintegration_helpers\u001b[0m:\u001b[36mtracer\u001b[0m:\u001b[36m35\u001b[0m - \u001b[34m\u001b[1m\tEntering \"get_engine_receipts_address\"\u001b[0m\n",
      "\u001b[32m2025-03-04 01:44:14.718\u001b[0m | \u001b[1mINFO    \u001b[0m | \u001b[36mintegration_helpers\u001b[0m:\u001b[36mget_engine_receipts_address\u001b[0m:\u001b[36m96\u001b[0m - \u001b[1mRetrieved contract address for transaction hash: b'd106deced13a349403f823cc50875ad0ad36ac062b6da6b258e227fea9280824'\u001b[0m\n",
      "\u001b[32m2025-03-04 01:44:14.719\u001b[0m | \u001b[34m\u001b[1mDEBUG   \u001b[0m | \u001b[36mintegration_helpers\u001b[0m:\u001b[36mget_engine_receipts_address\u001b[0m:\u001b[36m97\u001b[0m - \u001b[34m\u001b[1mContract address: B1665A25BB86FD84BF06FAC9980EC563FDBFC55D\u001b[0m\n",
      "\u001b[32m2025-03-04 01:44:14.721\u001b[0m | \u001b[34m\u001b[1mDEBUG   \u001b[0m | \u001b[36mintegration_helpers\u001b[0m:\u001b[36mtracer\u001b[0m:\u001b[36m37\u001b[0m - \u001b[34m\u001b[1m\tLeaving \"get_engine_receipts_address\"\u001b[0m\n",
      "\u001b[32m2025-03-04 01:44:14.722\u001b[0m | \u001b[34m\u001b[1mDEBUG   \u001b[0m | \u001b[36m__main__\u001b[0m:\u001b[36m<module>\u001b[0m:\u001b[36m11\u001b[0m - \u001b[34m\u001b[1mzealous_ptolemy@test\u001b[0m\n",
      "\u001b[32m2025-03-04 01:44:14.723\u001b[0m | \u001b[34m\u001b[1mDEBUG   \u001b[0m | \u001b[36m__main__\u001b[0m:\u001b[36m<module>\u001b[0m:\u001b[36m12\u001b[0m - \u001b[34m\u001b[1mzealous_ptolemy\u001b[0m\n",
      "\u001b[32m2025-03-04 01:44:14.724\u001b[0m | \u001b[34m\u001b[1mDEBUG   \u001b[0m | \u001b[36mintegration_helpers\u001b[0m:\u001b[36mtracer\u001b[0m:\u001b[36m35\u001b[0m - \u001b[34m\u001b[1m\tEntering \"set_account_detail\"\u001b[0m\n",
      "2025-03-04 01:44:14,743 - INFO - None\n",
      "2025-03-04 01:44:14,746 - INFO - ('ENOUGH_SIGNATURES_COLLECTED', 9, 0)\n",
      "2025-03-04 01:44:15,967 - INFO - ('STATEFUL_VALIDATION_SUCCESS', 3, 0)\n",
      "2025-03-04 01:44:15,976 - INFO - ('COMMITTED', 5, 0)\n",
      "\u001b[32m2025-03-04 01:44:15.979\u001b[0m | \u001b[34m\u001b[1mDEBUG   \u001b[0m | \u001b[36mintegration_helpers\u001b[0m:\u001b[36mtracer\u001b[0m:\u001b[36m35\u001b[0m - \u001b[34m\u001b[1m\tEntering \"get_engine_receipts_result\"\u001b[0m\n",
      "\u001b[32m2025-03-04 01:44:16.002\u001b[0m | \u001b[1mINFO    \u001b[0m | \u001b[36mintegration_helpers\u001b[0m:\u001b[36mget_engine_receipts_result\u001b[0m:\u001b[36m139\u001b[0m - \u001b[1mResult data: 000000000000000000000000000000000000000000000000000000000000002000000000000000000000000000000000000000000000000000000000000000200000000000000000000000000000000000000000000000000000000000000001\u001b[0m\n",
      "\u001b[32m2025-03-04 01:44:16.003\u001b[0m | \u001b[34m\u001b[1mDEBUG   \u001b[0m | \u001b[36mintegration_helpers\u001b[0m:\u001b[36mget_engine_receipts_result\u001b[0m:\u001b[36m140\u001b[0m - \u001b[34m\u001b[1mResult decoded string: \u0000\u0000\u0000\u0000\u0000\u0000\u0000\u0000\u0000\u0000\u0000\u0000\u0000\u0000\u0000\u0000\u0000\u0000\u0000\u0000\u0000\u0000\u0000\u0000\u0000\u0000\u0000\u0000\u0000\u0000\u0000 \u0000\u0000\u0000\u0000\u0000\u0000\u0000\u0000\u0000\u0000\u0000\u0000\u0000\u0000\u0000\u0000\u0000\u0000\u0000\u0000\u0000\u0000\u0000\u0000\u0000\u0000\u0000\u0000\u0000\u0000\u0000 \u0000\u0000\u0000\u0000\u0000\u0000\u0000\u0000\u0000\u0000\u0000\u0000\u0000\u0000\u0000\u0000\u0000\u0000\u0000\u0000\u0000\u0000\u0000\u0000\u0000\u0000\u0000\u0000\u0000\u0000\u0000\u0001\u001b[0m\n",
      "\u001b[32m2025-03-04 01:44:16.004\u001b[0m | \u001b[34m\u001b[1mDEBUG   \u001b[0m | \u001b[36mintegration_helpers\u001b[0m:\u001b[36mtracer\u001b[0m:\u001b[36m37\u001b[0m - \u001b[34m\u001b[1m\tLeaving \"get_engine_receipts_result\"\u001b[0m\n",
      "\u001b[32m2025-03-04 01:44:16.005\u001b[0m | \u001b[34m\u001b[1mDEBUG   \u001b[0m | \u001b[36mintegration_helpers\u001b[0m:\u001b[36mtracer\u001b[0m:\u001b[36m37\u001b[0m - \u001b[34m\u001b[1m\tLeaving \"set_account_detail\"\u001b[0m\n",
      "\u001b[32m2025-03-04 01:44:16.006\u001b[0m | \u001b[34m\u001b[1mDEBUG   \u001b[0m | \u001b[36mintegration_helpers\u001b[0m:\u001b[36mtracer\u001b[0m:\u001b[36m35\u001b[0m - \u001b[34m\u001b[1m\tEntering \"set_account_detail\"\u001b[0m\n",
      "2025-03-04 01:44:16,021 - INFO - None\n",
      "2025-03-04 01:44:16,025 - INFO - ('ENOUGH_SIGNATURES_COLLECTED', 9, 0)\n",
      "2025-03-04 01:44:19,008 - INFO - ('STATEFUL_VALIDATION_SUCCESS', 3, 0)\n",
      "2025-03-04 01:44:19,017 - INFO - ('COMMITTED', 5, 0)\n",
      "\u001b[32m2025-03-04 01:44:19.020\u001b[0m | \u001b[34m\u001b[1mDEBUG   \u001b[0m | \u001b[36mintegration_helpers\u001b[0m:\u001b[36mtracer\u001b[0m:\u001b[36m35\u001b[0m - \u001b[34m\u001b[1m\tEntering \"get_engine_receipts_result\"\u001b[0m\n",
      "\u001b[32m2025-03-04 01:44:19.046\u001b[0m | \u001b[1mINFO    \u001b[0m | \u001b[36mintegration_helpers\u001b[0m:\u001b[36mget_engine_receipts_result\u001b[0m:\u001b[36m139\u001b[0m - \u001b[1mResult data: 000000000000000000000000000000000000000000000000000000000000002000000000000000000000000000000000000000000000000000000000000000200000000000000000000000000000000000000000000000000000000000000001\u001b[0m\n",
      "\u001b[32m2025-03-04 01:44:19.047\u001b[0m | \u001b[34m\u001b[1mDEBUG   \u001b[0m | \u001b[36mintegration_helpers\u001b[0m:\u001b[36mget_engine_receipts_result\u001b[0m:\u001b[36m140\u001b[0m - \u001b[34m\u001b[1mResult decoded string: \u0000\u0000\u0000\u0000\u0000\u0000\u0000\u0000\u0000\u0000\u0000\u0000\u0000\u0000\u0000\u0000\u0000\u0000\u0000\u0000\u0000\u0000\u0000\u0000\u0000\u0000\u0000\u0000\u0000\u0000\u0000 \u0000\u0000\u0000\u0000\u0000\u0000\u0000\u0000\u0000\u0000\u0000\u0000\u0000\u0000\u0000\u0000\u0000\u0000\u0000\u0000\u0000\u0000\u0000\u0000\u0000\u0000\u0000\u0000\u0000\u0000\u0000 \u0000\u0000\u0000\u0000\u0000\u0000\u0000\u0000\u0000\u0000\u0000\u0000\u0000\u0000\u0000\u0000\u0000\u0000\u0000\u0000\u0000\u0000\u0000\u0000\u0000\u0000\u0000\u0000\u0000\u0000\u0000\u0001\u001b[0m\n",
      "\u001b[32m2025-03-04 01:44:19.049\u001b[0m | \u001b[34m\u001b[1mDEBUG   \u001b[0m | \u001b[36mintegration_helpers\u001b[0m:\u001b[36mtracer\u001b[0m:\u001b[36m37\u001b[0m - \u001b[34m\u001b[1m\tLeaving \"get_engine_receipts_result\"\u001b[0m\n",
      "\u001b[32m2025-03-04 01:44:19.051\u001b[0m | \u001b[34m\u001b[1mDEBUG   \u001b[0m | \u001b[36mintegration_helpers\u001b[0m:\u001b[36mtracer\u001b[0m:\u001b[36m37\u001b[0m - \u001b[34m\u001b[1m\tLeaving \"set_account_detail\"\u001b[0m\n",
      "2025-03-04 01:44:19,054 - INFO - Updated user account zealous_ptolemy@test with linked project 02226@test\n",
      "2025-03-04 01:44:19,056 - INFO - Updated project account 02226@test with linked user zealous_ptolemy@test\n",
      "\u001b[32m2025-03-04 01:44:19.059\u001b[0m | \u001b[1mINFO    \u001b[0m | \u001b[36m__main__\u001b[0m:\u001b[36m<module>\u001b[0m:\u001b[36m35\u001b[0m - \u001b[1mUser account zealous_ptolemy@test linked to project 02226@test\u001b[0m\n",
      "\u001b[32m2025-03-04 01:44:19.060\u001b[0m | \u001b[1mINFO    \u001b[0m | \u001b[36m__main__\u001b[0m:\u001b[36m<module>\u001b[0m:\u001b[36m36\u001b[0m - \u001b[1mProject account 02226@test linked to user zealous_ptolemy@test\u001b[0m\n"
     ]
    },
    {
     "name": "stderr",
     "output_type": "stream",
     "text": [
      "2025-02-10 15:06:28,131 - INFO - ('STATEFUL_VALIDATION_SUCCESS', 3, 0)\n",
      "2025-02-10 15:06:28,139 - INFO - ('COMMITTED', 5, 0)\n",
      "\u001b[32m2025-02-10 15:06:28.141\u001b[0m | \u001b[34m\u001b[1mDEBUG   \u001b[0m | \u001b[36mintegration_helpers\u001b[0m:\u001b[36mtracer\u001b[0m:\u001b[36m35\u001b[0m - \u001b[34m\u001b[1m\tEntering \"get_engine_receipts_result\"\u001b[0m\n",
      "\u001b[32m2025-02-10 15:06:28.161\u001b[0m | \u001b[1mINFO    \u001b[0m | \u001b[36mintegration_helpers\u001b[0m:\u001b[36mget_engine_receipts_result\u001b[0m:\u001b[36m139\u001b[0m - \u001b[1mResult data: 000000000000000000000000000000000000000000000000000000000000002000000000000000000000000000000000000000000000000000000000000000200000000000000000000000000000000000000000000000000000000000000001\u001b[0m\n",
      "\u001b[32m2025-02-10 15:06:28.162\u001b[0m | \u001b[34m\u001b[1mDEBUG   \u001b[0m | \u001b[36mintegration_helpers\u001b[0m:\u001b[36mget_engine_receipts_result\u001b[0m:\u001b[36m140\u001b[0m - \u001b[34m\u001b[1mResult decoded string: \u0000\u0000\u0000\u0000\u0000\u0000\u0000\u0000\u0000\u0000\u0000\u0000\u0000\u0000\u0000\u0000\u0000\u0000\u0000\u0000\u0000\u0000\u0000\u0000\u0000\u0000\u0000\u0000\u0000\u0000\u0000 \u0000\u0000\u0000\u0000\u0000\u0000\u0000\u0000\u0000\u0000\u0000\u0000\u0000\u0000\u0000\u0000\u0000\u0000\u0000\u0000\u0000\u0000\u0000\u0000\u0000\u0000\u0000\u0000\u0000\u0000\u0000 \u0000\u0000\u0000\u0000\u0000\u0000\u0000\u0000\u0000\u0000\u0000\u0000\u0000\u0000\u0000\u0000\u0000\u0000\u0000\u0000\u0000\u0000\u0000\u0000\u0000\u0000\u0000\u0000\u0000\u0000\u0000\u0001\u001b[0m\n",
      "\u001b[32m2025-02-10 15:06:28.164\u001b[0m | \u001b[34m\u001b[1mDEBUG   \u001b[0m | \u001b[36mintegration_helpers\u001b[0m:\u001b[36mtracer\u001b[0m:\u001b[36m37\u001b[0m - \u001b[34m\u001b[1m\tLeaving \"get_engine_receipts_result\"\u001b[0m\n",
      "\u001b[32m2025-02-10 15:06:28.166\u001b[0m | \u001b[34m\u001b[1mDEBUG   \u001b[0m | \u001b[36mintegration_helpers\u001b[0m:\u001b[36mtracer\u001b[0m:\u001b[36m37\u001b[0m - \u001b[34m\u001b[1m\tLeaving \"set_account_detail\"\u001b[0m\n",
      "\u001b[32m2025-02-10 15:06:28.167\u001b[0m | \u001b[34m\u001b[1mDEBUG   \u001b[0m | \u001b[36mintegration_helpers\u001b[0m:\u001b[36mtracer\u001b[0m:\u001b[36m35\u001b[0m - \u001b[34m\u001b[1m\tEntering \"set_account_detail\"\u001b[0m\n",
      "2025-02-10 15:06:28,182 - INFO - None\n",
      "2025-02-10 15:06:28,185 - INFO - ('ENOUGH_SIGNATURES_COLLECTED', 9, 0)\n",
      "2025-02-10 15:06:31,165 - INFO - ('STATEFUL_VALIDATION_SUCCESS', 3, 0)\n",
      "2025-02-10 15:06:31,173 - INFO - ('COMMITTED', 5, 0)\n",
      "\u001b[32m2025-02-10 15:06:31.174\u001b[0m | \u001b[34m\u001b[1mDEBUG   \u001b[0m | \u001b[36mintegration_helpers\u001b[0m:\u001b[36mtracer\u001b[0m:\u001b[36m35\u001b[0m - \u001b[34m\u001b[1m\tEntering \"get_engine_receipts_result\"\u001b[0m\n",
      "\u001b[32m2025-02-10 15:06:31.195\u001b[0m | \u001b[1mINFO    \u001b[0m | \u001b[36mintegration_helpers\u001b[0m:\u001b[36mget_engine_receipts_result\u001b[0m:\u001b[36m139\u001b[0m - \u001b[1mResult data: 000000000000000000000000000000000000000000000000000000000000002000000000000000000000000000000000000000000000000000000000000000200000000000000000000000000000000000000000000000000000000000000001\u001b[0m\n",
      "\u001b[32m2025-02-10 15:06:31.196\u001b[0m | \u001b[34m\u001b[1mDEBUG   \u001b[0m | \u001b[36mintegration_helpers\u001b[0m:\u001b[36mget_engine_receipts_result\u001b[0m:\u001b[36m140\u001b[0m - \u001b[34m\u001b[1mResult decoded string: \u0000\u0000\u0000\u0000\u0000\u0000\u0000\u0000\u0000\u0000\u0000\u0000\u0000\u0000\u0000\u0000\u0000\u0000\u0000\u0000\u0000\u0000\u0000\u0000\u0000\u0000\u0000\u0000\u0000\u0000\u0000 \u0000\u0000\u0000\u0000\u0000\u0000\u0000\u0000\u0000\u0000\u0000\u0000\u0000\u0000\u0000\u0000\u0000\u0000\u0000\u0000\u0000\u0000\u0000\u0000\u0000\u0000\u0000\u0000\u0000\u0000\u0000 \u0000\u0000\u0000\u0000\u0000\u0000\u0000\u0000\u0000\u0000\u0000\u0000\u0000\u0000\u0000\u0000\u0000\u0000\u0000\u0000\u0000\u0000\u0000\u0000\u0000\u0000\u0000\u0000\u0000\u0000\u0000\u0001\u001b[0m\n",
      "\u001b[32m2025-02-10 15:06:31.197\u001b[0m | \u001b[34m\u001b[1mDEBUG   \u001b[0m | \u001b[36mintegration_helpers\u001b[0m:\u001b[36mtracer\u001b[0m:\u001b[36m37\u001b[0m - \u001b[34m\u001b[1m\tLeaving \"get_engine_receipts_result\"\u001b[0m\n",
      "\u001b[32m2025-02-10 15:06:31.198\u001b[0m | \u001b[34m\u001b[1mDEBUG   \u001b[0m | \u001b[36mintegration_helpers\u001b[0m:\u001b[36mtracer\u001b[0m:\u001b[36m37\u001b[0m - \u001b[34m\u001b[1m\tLeaving \"set_account_detail\"\u001b[0m\n",
      "2025-02-10 15:06:31,201 - INFO - Updated user account optimistic_aryabhata@test with linked project 98639@test\n",
      "2025-02-10 15:06:31,203 - INFO - Updated project account 98639@test with linked user optimistic_aryabhata@test\n",
      "\u001b[32m2025-02-10 15:06:31.205\u001b[0m | \u001b[1mINFO    \u001b[0m | \u001b[36m__main__\u001b[0m:\u001b[36m<module>\u001b[0m:\u001b[36m35\u001b[0m - \u001b[1mUser account optimistic_aryabhata@test linked to project 98639@test\u001b[0m\n",
      "\u001b[32m2025-02-10 15:06:31.206\u001b[0m | \u001b[1mINFO    \u001b[0m | \u001b[36m__main__\u001b[0m:\u001b[36m<module>\u001b[0m:\u001b[36m36\u001b[0m - \u001b[1mProject account 98639@test linked to user optimistic_aryabhata@test\u001b[0m\n"
     ]
    }
   ],
   "source": [
    "address = integration_helpers.get_engine_receipts_address(account_detail_contract_hash)\n",
    "\n",
    "\n",
    "\n",
    "# Assuming json_ld_index is defined\n",
    "user_account = user_accounts[json_ld_index]\n",
    "user_account_short_id = user_account_short_ids[json_ld_index]\n",
    "project_account = project_accounts[json_ld_index]\n",
    "project_account_short_id = project_account_short_ids[json_ld_index]\n",
    "\n",
    "logger.debug(f\"{user_account['account_id']}\")\n",
    "logger.debug(f\"{user_account_short_id['account_id']}\")\n",
    "\n",
    "# Set project_id as a detail for the user account\n",
    "hash_user_to_project = set_account_detail(\n",
    "    address, \n",
    "    user_account['account_id'], \n",
    "    \"linked_project\", \n",
    "    project_account['account_id']\n",
    ")\n",
    "\n",
    "# Set user_account_id as a detail for the project account\n",
    "hash_project_to_user = set_account_detail(\n",
    "    address, \n",
    "    project_account['account_id'], \n",
    "    \"linked_user\", \n",
    "    user_account['account_id']\n",
    ")\n",
    "\n",
    "# Update the JSON-LD files with the linked details\n",
    "update_user_account_link(user_account['account_id'], project_account['account_id'])\n",
    "update_project_account_link(project_account['account_id'], user_account['account_id'])\n",
    "\n",
    "# Confirming the operation\n",
    "logger.info(f\"User account {user_account['account_id']} linked to project {project_account['account_id']}\")\n",
    "logger.info(f\"Project account {project_account['account_id']} linked to user {user_account['account_id']}\")"
   ]
  },
  {
   "cell_type": "markdown",
   "id": "79fcb2a4-5b5b-49ff-8a16-2b82c682d6ac",
   "metadata": {},
   "source": [
    "7 - Load the contract hash"
   ]
  },
  {
   "cell_type": "code",
   "execution_count": 19,
   "id": "a4da4de1",
   "metadata": {},
   "outputs": [
    {
     "name": "stderr",
     "output_type": "stream",
     "text": [
      "2025-03-04 01:44:19,073 - INFO - Variable 'Create Account Hash' successfully loaded from temp/Create Account Hash.json\n",
      "\u001b[32m2025-03-04 01:44:19.075\u001b[0m | \u001b[1mINFO    \u001b[0m | \u001b[36m__main__\u001b[0m:\u001b[36m<module>\u001b[0m:\u001b[36m3\u001b[0m - \u001b[1mb'8e084bc80f005ae06e30255a1bb1b28abecdc3da9d6533ab4751fa58e4a8a0ae'\u001b[0m\n",
      "\u001b[32m2025-03-04 01:44:19.077\u001b[0m | \u001b[34m\u001b[1mDEBUG   \u001b[0m | \u001b[36mintegration_helpers\u001b[0m:\u001b[36mtracer\u001b[0m:\u001b[36m35\u001b[0m - \u001b[34m\u001b[1m\tEntering \"get_engine_receipts_address\"\u001b[0m\n",
      "\u001b[32m2025-03-04 01:44:19.099\u001b[0m | \u001b[1mINFO    \u001b[0m | \u001b[36mintegration_helpers\u001b[0m:\u001b[36mget_engine_receipts_address\u001b[0m:\u001b[36m96\u001b[0m - \u001b[1mRetrieved contract address for transaction hash: b'8e084bc80f005ae06e30255a1bb1b28abecdc3da9d6533ab4751fa58e4a8a0ae'\u001b[0m\n",
      "\u001b[32m2025-03-04 01:44:19.101\u001b[0m | \u001b[34m\u001b[1mDEBUG   \u001b[0m | \u001b[36mintegration_helpers\u001b[0m:\u001b[36mget_engine_receipts_address\u001b[0m:\u001b[36m97\u001b[0m - \u001b[34m\u001b[1mContract address: 1A080D809C95C764FC96320885CFAF7744ED8970\u001b[0m\n",
      "\u001b[32m2025-03-04 01:44:19.102\u001b[0m | \u001b[34m\u001b[1mDEBUG   \u001b[0m | \u001b[36mintegration_helpers\u001b[0m:\u001b[36mtracer\u001b[0m:\u001b[36m37\u001b[0m - \u001b[34m\u001b[1m\tLeaving \"get_engine_receipts_address\"\u001b[0m\n"
     ]
    }
   ],
   "source": [
    "# Loading the variable from JSON\n",
    "create_account_contract_hash = load_variable(\"Create Account Hash\")\n",
    "logger.info(create_account_contract_hash)\n",
    "create_account_contract_address = integration_helpers.get_engine_receipts_address(create_account_contract_hash)"
   ]
  },
  {
   "cell_type": "markdown",
   "id": "3562857c-d86d-42cf-a24b-23a5c3f5cb4e",
   "metadata": {},
   "source": [
    "8 - Queries Iroha 1 for the User account and exposes the variable `project_id` from user details."
   ]
  },
  {
   "cell_type": "code",
   "execution_count": 20,
   "id": "4339f798",
   "metadata": {},
   "outputs": [
    {
     "name": "stderr",
     "output_type": "stream",
     "text": [
      "\u001b[32m2025-03-04 01:44:19.113\u001b[0m | \u001b[34m\u001b[1mDEBUG   \u001b[0m | \u001b[36mintegration_helpers\u001b[0m:\u001b[36mtracer\u001b[0m:\u001b[36m35\u001b[0m - \u001b[34m\u001b[1m\tEntering \"get_account\"\u001b[0m\n",
      "2025-03-04 01:44:19,116 - WARNING - create_account_contract_address: 1A080D809C95C764FC96320885CFAF7744ED8970\n",
      "2025-03-04 01:44:19,134 - INFO - ('STATELESS_VALIDATION_SUCCESS', 1, 0)\n",
      "2025-03-04 01:44:19,136 - INFO - ('ENOUGH_SIGNATURES_COLLECTED', 9, 0)\n",
      "2025-03-04 01:44:22,048 - INFO - ('STATEFUL_VALIDATION_SUCCESS', 3, 0)\n",
      "2025-03-04 01:44:22,056 - INFO - ('COMMITTED', 5, 0)\n",
      "2025-03-04 01:44:22,059 - WARNING - Account Data: {'address': '1A080D809C95C764FC96320885CFAF7744ED8970', 'hex_hash': 'a607713e1db0a6016e13d9a28291866d285a984277abbd2562909a11df4c8d4c', 'timestamp': 1741052662059}\n",
      "\u001b[32m2025-03-04 01:44:22.061\u001b[0m | \u001b[34m\u001b[1mDEBUG   \u001b[0m | \u001b[36mintegration_helpers\u001b[0m:\u001b[36mtracer\u001b[0m:\u001b[36m35\u001b[0m - \u001b[34m\u001b[1m\tEntering \"append_to_json_file\"\u001b[0m\n",
      "2025-03-04 01:44:22,065 - INFO - Appended data under 'zealous_ptolemy@test' in logs/account_data.json\n",
      "\u001b[32m2025-03-04 01:44:22.067\u001b[0m | \u001b[34m\u001b[1mDEBUG   \u001b[0m | \u001b[36mintegration_helpers\u001b[0m:\u001b[36mtracer\u001b[0m:\u001b[36m37\u001b[0m - \u001b[34m\u001b[1m\tLeaving \"append_to_json_file\"\u001b[0m\n",
      "\u001b[32m2025-03-04 01:44:22.068\u001b[0m | \u001b[34m\u001b[1mDEBUG   \u001b[0m | \u001b[36mintegration_helpers\u001b[0m:\u001b[36mtracer\u001b[0m:\u001b[36m37\u001b[0m - \u001b[34m\u001b[1m\tLeaving \"get_account\"\u001b[0m\n",
      "\u001b[32m2025-03-04 01:44:22.070\u001b[0m | \u001b[34m\u001b[1mDEBUG   \u001b[0m | \u001b[36mintegration_helpers\u001b[0m:\u001b[36mtracer\u001b[0m:\u001b[36m35\u001b[0m - \u001b[34m\u001b[1m\tEntering \"get_engine_receipts_result\"\u001b[0m\n",
      "\u001b[32m2025-03-04 01:44:22.093\u001b[0m | \u001b[1mINFO    \u001b[0m | \u001b[36mintegration_helpers\u001b[0m:\u001b[36mget_engine_receipts_result\u001b[0m:\u001b[36m139\u001b[0m - \u001b[1mResult data: 00000000000000000000000000000000000000000000000000000000000000200000000000000000000000000000000000000000000000000000000000000120000000000000000000000000000000000000000000000000000000000000002000000000000000000000000000000000000000000000000000000000000000d67b226163636f756e745f6964223a227a65616c6f75735f70746f6c656d794074657374222c22646f6d61696e5f6964223a2274657374222c2271756f72756d223a312c226a736f6e5f64617461223a227b5c2261646d696e40746573745c223a207b5c226c696e6b65645f70726f6a6563745c223a205c22303232323640746573745c222c205c226163636f756e745f6d657461646174615f6369645c223a205c22516d543331667a44424e59417a316a416f4161376751715350376d44717576336652387a31784c6678654852356f5c227d7d227d00000000000000000000\u001b[0m\n",
      "\u001b[32m2025-03-04 01:44:22.095\u001b[0m | \u001b[34m\u001b[1mDEBUG   \u001b[0m | \u001b[36mintegration_helpers\u001b[0m:\u001b[36mget_engine_receipts_result\u001b[0m:\u001b[36m140\u001b[0m - \u001b[34m\u001b[1mResult decoded string: \u0000\u0000\u0000\u0000\u0000\u0000\u0000\u0000\u0000\u0000\u0000\u0000\u0000\u0000\u0000\u0000\u0000\u0000\u0000\u0000\u0000\u0000\u0000\u0000\u0000\u0000\u0000\u0000\u0000\u0000\u0000 \u0000\u0000\u0000\u0000\u0000\u0000\u0000\u0000\u0000\u0000\u0000\u0000\u0000\u0000\u0000\u0000\u0000\u0000\u0000\u0000\u0000\u0000\u0000\u0000\u0000\u0000\u0000\u0000\u0000\u0000\u0001 \u0000\u0000\u0000\u0000\u0000\u0000\u0000\u0000\u0000\u0000\u0000\u0000\u0000\u0000\u0000\u0000\u0000\u0000\u0000\u0000\u0000\u0000\u0000\u0000\u0000\u0000\u0000\u0000\u0000\u0000\u0000 \u0000\u0000\u0000\u0000\u0000\u0000\u0000\u0000\u0000\u0000\u0000\u0000\u0000\u0000\u0000\u0000\u0000\u0000\u0000\u0000\u0000\u0000\u0000\u0000\u0000\u0000\u0000\u0000\u0000\u0000\u0000{\"account_id\":\"zealous_ptolemy@test\",\"domain_id\":\"test\",\"quorum\":1,\"json_data\":\"{\\\"admin@test\\\": {\\\"linked_project\\\": \\\"02226@test\\\", \\\"account_metadata_cid\\\": \\\"QmT31fzDBNYAz1jAoAa7gQqSP7mDquv3fR8z1xLfxeHR5o\\\"}}\"}\u0000\u0000\u0000\u0000\u0000\u0000\u0000\u0000\u0000\u0000\u001b[0m\n",
      "\u001b[32m2025-03-04 01:44:22.096\u001b[0m | \u001b[34m\u001b[1mDEBUG   \u001b[0m | \u001b[36mintegration_helpers\u001b[0m:\u001b[36mtracer\u001b[0m:\u001b[36m37\u001b[0m - \u001b[34m\u001b[1m\tLeaving \"get_engine_receipts_result\"\u001b[0m\n",
      "\u001b[32m2025-03-04 01:44:22.098\u001b[0m | \u001b[34m\u001b[1mDEBUG   \u001b[0m | \u001b[36mintegration_helpers\u001b[0m:\u001b[36mtracer\u001b[0m:\u001b[36m35\u001b[0m - \u001b[34m\u001b[1m\tEntering \"process_raw_data\"\u001b[0m\n",
      "\u001b[32m2025-03-04 01:44:22.099\u001b[0m | \u001b[34m\u001b[1mDEBUG   \u001b[0m | \u001b[36mintegration_helpers\u001b[0m:\u001b[36mtracer\u001b[0m:\u001b[36m35\u001b[0m - \u001b[34m\u001b[1m\tEntering \"extract_metadata_from_data\"\u001b[0m\n",
      "\u001b[32m2025-03-04 01:44:22.101\u001b[0m | \u001b[34m\u001b[1mDEBUG   \u001b[0m | \u001b[36mintegration_helpers\u001b[0m:\u001b[36mtracer\u001b[0m:\u001b[36m37\u001b[0m - \u001b[34m\u001b[1m\tLeaving \"extract_metadata_from_data\"\u001b[0m\n",
      "2025-03-04 01:44:22,102 - INFO - User Metadata CID: QmT31fzDBNYAz1jAoAa7gQqSP7mDquv3fR8z1xLfxeHR5o\n",
      "2025-03-04 01:44:22,104 - INFO - Project ID: 02226@test\n",
      "\u001b[32m2025-03-04 01:44:22.105\u001b[0m | \u001b[34m\u001b[1mDEBUG   \u001b[0m | \u001b[36mintegration_helpers\u001b[0m:\u001b[36mtracer\u001b[0m:\u001b[36m37\u001b[0m - \u001b[34m\u001b[1m\tLeaving \"process_raw_data\"\u001b[0m\n"
     ]
    }
   ],
   "source": [
    "# - Get account info\n",
    "get_account_hash = get_account(create_account_contract_address, user_account_short_id['account_id'], \"test\")\n",
    "address = integration_helpers.get_engine_receipts_result(get_account_hash)\n",
    "\n",
    "# Process the raw data\n",
    "# account_metadata_cid = process_raw_data(address) \n",
    "\n",
    "# Process the raw data\n",
    "account_metadata_cid, project_id = process_raw_data(address) #TO DO - From now"
   ]
  },
  {
   "cell_type": "markdown",
   "id": "9ad3ecfa-ecb4-4e74-859a-30483fd5ff75",
   "metadata": {},
   "source": [
    "9 - Queries Iroha 1 for the project account."
   ]
  },
  {
   "cell_type": "code",
   "execution_count": 21,
   "id": "399d3629",
   "metadata": {},
   "outputs": [
    {
     "name": "stderr",
     "output_type": "stream",
     "text": [
      "\u001b[32m2025-03-04 01:44:22.118\u001b[0m | \u001b[34m\u001b[1mDEBUG   \u001b[0m | \u001b[36mintegration_helpers\u001b[0m:\u001b[36mtracer\u001b[0m:\u001b[36m35\u001b[0m - \u001b[34m\u001b[1m\tEntering \"get_account\"\u001b[0m\n",
      "2025-03-04 01:44:22,120 - WARNING - create_account_contract_address: 1A080D809C95C764FC96320885CFAF7744ED8970\n",
      "2025-03-04 01:44:22,137 - INFO - ('STATELESS_VALIDATION_SUCCESS', 1, 0)\n",
      "2025-03-04 01:44:22,139 - INFO - ('ENOUGH_SIGNATURES_COLLECTED', 9, 0)\n",
      "2025-03-04 01:44:25,086 - INFO - ('STATEFUL_VALIDATION_SUCCESS', 3, 0)\n",
      "2025-03-04 01:44:25,095 - INFO - ('COMMITTED', 5, 0)\n",
      "2025-03-04 01:44:25,098 - WARNING - Account Data: {'address': '1A080D809C95C764FC96320885CFAF7744ED8970', 'hex_hash': '8d2766d07025b789d5785b86b5bf7ebc16c56d3950679975a91f8ae51b6cecc1', 'timestamp': 1741052665098}\n",
      "\u001b[32m2025-03-04 01:44:25.100\u001b[0m | \u001b[34m\u001b[1mDEBUG   \u001b[0m | \u001b[36mintegration_helpers\u001b[0m:\u001b[36mtracer\u001b[0m:\u001b[36m35\u001b[0m - \u001b[34m\u001b[1m\tEntering \"append_to_json_file\"\u001b[0m\n",
      "2025-03-04 01:44:25,103 - INFO - Appended data under '02226@test' in logs/account_data.json\n",
      "\u001b[32m2025-03-04 01:44:25.105\u001b[0m | \u001b[34m\u001b[1mDEBUG   \u001b[0m | \u001b[36mintegration_helpers\u001b[0m:\u001b[36mtracer\u001b[0m:\u001b[36m37\u001b[0m - \u001b[34m\u001b[1m\tLeaving \"append_to_json_file\"\u001b[0m\n",
      "\u001b[32m2025-03-04 01:44:25.107\u001b[0m | \u001b[34m\u001b[1mDEBUG   \u001b[0m | \u001b[36mintegration_helpers\u001b[0m:\u001b[36mtracer\u001b[0m:\u001b[36m37\u001b[0m - \u001b[34m\u001b[1m\tLeaving \"get_account\"\u001b[0m\n",
      "\u001b[32m2025-03-04 01:44:25.108\u001b[0m | \u001b[34m\u001b[1mDEBUG   \u001b[0m | \u001b[36mintegration_helpers\u001b[0m:\u001b[36mtracer\u001b[0m:\u001b[36m35\u001b[0m - \u001b[34m\u001b[1m\tEntering \"get_engine_receipts_result\"\u001b[0m\n",
      "\u001b[32m2025-03-04 01:44:25.133\u001b[0m | \u001b[1mINFO    \u001b[0m | \u001b[36mintegration_helpers\u001b[0m:\u001b[36mget_engine_receipts_result\u001b[0m:\u001b[36m139\u001b[0m - \u001b[1mResult data: 00000000000000000000000000000000000000000000000000000000000000200000000000000000000000000000000000000000000000000000000000000120000000000000000000000000000000000000000000000000000000000000002000000000000000000000000000000000000000000000000000000000000000d37b226163636f756e745f6964223a2230323232364074657374222c22646f6d61696e5f6964223a2274657374222c2271756f72756d223a312c226a736f6e5f64617461223a227b5c2261646d696e40746573745c223a207b5c226c696e6b65645f757365725c223a205c227a65616c6f75735f70746f6c656d7940746573745c222c205c226163636f756e745f6d657461646174615f6369645c223a205c22516d6179346344617855615a61486f4a4b717a4e3639586b695838774d783137614734564d6d776d6b4c634c31615c227d7d227d00000000000000000000000000\u001b[0m\n",
      "\u001b[32m2025-03-04 01:44:25.134\u001b[0m | \u001b[34m\u001b[1mDEBUG   \u001b[0m | \u001b[36mintegration_helpers\u001b[0m:\u001b[36mget_engine_receipts_result\u001b[0m:\u001b[36m140\u001b[0m - \u001b[34m\u001b[1mResult decoded string: \u0000\u0000\u0000\u0000\u0000\u0000\u0000\u0000\u0000\u0000\u0000\u0000\u0000\u0000\u0000\u0000\u0000\u0000\u0000\u0000\u0000\u0000\u0000\u0000\u0000\u0000\u0000\u0000\u0000\u0000\u0000 \u0000\u0000\u0000\u0000\u0000\u0000\u0000\u0000\u0000\u0000\u0000\u0000\u0000\u0000\u0000\u0000\u0000\u0000\u0000\u0000\u0000\u0000\u0000\u0000\u0000\u0000\u0000\u0000\u0000\u0000\u0001 \u0000\u0000\u0000\u0000\u0000\u0000\u0000\u0000\u0000\u0000\u0000\u0000\u0000\u0000\u0000\u0000\u0000\u0000\u0000\u0000\u0000\u0000\u0000\u0000\u0000\u0000\u0000\u0000\u0000\u0000\u0000 \u0000\u0000\u0000\u0000\u0000\u0000\u0000\u0000\u0000\u0000\u0000\u0000\u0000\u0000\u0000\u0000\u0000\u0000\u0000\u0000\u0000\u0000\u0000\u0000\u0000\u0000\u0000\u0000\u0000\u0000\u0000{\"account_id\":\"02226@test\",\"domain_id\":\"test\",\"quorum\":1,\"json_data\":\"{\\\"admin@test\\\": {\\\"linked_user\\\": \\\"zealous_ptolemy@test\\\", \\\"account_metadata_cid\\\": \\\"Qmay4cDaxUaZaHoJKqzN69XkiX8wMx17aG4VMmwmkLcL1a\\\"}}\"}\u0000\u0000\u0000\u0000\u0000\u0000\u0000\u0000\u0000\u0000\u0000\u0000\u0000\u001b[0m\n",
      "\u001b[32m2025-03-04 01:44:25.136\u001b[0m | \u001b[34m\u001b[1mDEBUG   \u001b[0m | \u001b[36mintegration_helpers\u001b[0m:\u001b[36mtracer\u001b[0m:\u001b[36m37\u001b[0m - \u001b[34m\u001b[1m\tLeaving \"get_engine_receipts_result\"\u001b[0m\n"
     ]
    }
   ],
   "source": [
    "# - Get account info\n",
    "get_account_hash = get_account(create_account_contract_address, project_account_short_id['account_id'], \"test\")\n",
    "details = integration_helpers.get_engine_receipts_result(get_account_hash)"
   ]
  },
  {
   "cell_type": "markdown",
   "id": "5c444196-6d75-4a0a-b135-c284648a4885",
   "metadata": {},
   "source": [
    "10 - Saves `project_id` in the local file sytem for use in Notebook 4"
   ]
  },
  {
   "cell_type": "code",
   "execution_count": 22,
   "id": "a5237870-f562-488f-9213-6a3acb313274",
   "metadata": {},
   "outputs": [
    {
     "name": "stderr",
     "output_type": "stream",
     "text": [
      "\u001b[32m2025-03-04 01:44:25.148\u001b[0m | \u001b[34m\u001b[1mDEBUG   \u001b[0m | \u001b[36mintegration_helpers\u001b[0m:\u001b[36mtracer\u001b[0m:\u001b[36m35\u001b[0m - \u001b[34m\u001b[1m\tEntering \"dump_variable\"\u001b[0m\n",
      "2025-03-04 01:44:25,152 - INFO - Variable 'Project Id' successfully dumped to temp/Project Id.json\n",
      "\u001b[32m2025-03-04 01:44:25.153\u001b[0m | \u001b[34m\u001b[1mDEBUG   \u001b[0m | \u001b[36mintegration_helpers\u001b[0m:\u001b[36mtracer\u001b[0m:\u001b[36m37\u001b[0m - \u001b[34m\u001b[1m\tLeaving \"dump_variable\"\u001b[0m\n"
     ]
    }
   ],
   "source": [
    "# Dumping the variable to JSON\n",
    "dump_variable(project_id, \"Project Id\")"
   ]
  }
 ],
 "metadata": {
  "kernelspec": {
   "display_name": "Python 3 (ipykernel)",
   "language": "python",
   "name": "python3"
  },
  "language_info": {
   "codemirror_mode": {
    "name": "ipython",
    "version": 3
   },
   "file_extension": ".py",
   "mimetype": "text/x-python",
   "name": "python",
   "nbconvert_exporter": "python",
   "pygments_lexer": "ipython3",
   "version": "3.9.21"
  }
 },
 "nbformat": 4,
 "nbformat_minor": 5
}
