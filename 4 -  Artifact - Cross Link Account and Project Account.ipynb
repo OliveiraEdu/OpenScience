{
 "cells": [
  {
   "cell_type": "markdown",
   "id": "1df1fc44-0e30-4546-a1a0-b7dfe6348bbc",
   "metadata": {},
   "source": [
    "**IMPORTANT** \n",
    "\n",
    "- For requirements and initial setup go to https://github.com/OliveiraEdu/OpenScience/Readme.md;\n",
    "- To execute the notebook run all cells."
   ]
  },
  {
   "cell_type": "markdown",
   "id": "9351e37b-0088-46ee-b277-8e31b639fb1e",
   "metadata": {},
   "source": [
    "# Notebook 4 - Open Science Platform - Cross link User and Project accounts"
   ]
  },
  {
   "cell_type": "markdown",
   "id": "1cc0795b-dd42-4250-9edb-785e5057b9ad",
   "metadata": {},
   "source": [
    "1 - Load required modules"
   ]
  },
  {
   "cell_type": "code",
   "execution_count": 7,
   "id": "d4a1c5a2-75c3-482e-999c-70eb25226078",
   "metadata": {
    "editable": true,
    "slideshow": {
     "slide_type": ""
    },
    "tags": []
   },
   "outputs": [],
   "source": [
    "from new_helper import *\n",
    "from super_helper import *\n",
    "from loguru import logger"
   ]
  },
  {
   "cell_type": "markdown",
   "id": "8f1d5d04-7879-406b-93b9-b2e97ff2c51c",
   "metadata": {},
   "source": [
    "2 - Set variables and values"
   ]
  },
  {
   "cell_type": "code",
   "execution_count": 8,
   "id": "cad05321",
   "metadata": {},
   "outputs": [],
   "source": [
    "# Index for objects in both user account and project account JSON-LDs.\n",
    "json_ld_index = 0\n",
    "\n",
    "# Local path for file upload\n",
    "directory_path = \"upload\"\n",
    "\n",
    "# Directory for file downloads\n",
    "download_path = \"download\"\n",
    "\n",
    "# Read accounts from JSON-LD\n",
    "user_accounts = read_user_accounts_from_jsonld('datasets/accounts.json')\n",
    "project_accounts = read_project_accounts_from_jsonld('datasets/projects.json')"
   ]
  },
  {
   "cell_type": "markdown",
   "id": "9a043d51-4a22-4186-975e-7e3e8a4b54ef",
   "metadata": {},
   "source": [
    "4 - Deploys a smart contract into the Iroha 1 blockchain for details (attributes) setting;"
   ]
  },
  {
   "cell_type": "code",
   "execution_count": 9,
   "id": "0e6442fc",
   "metadata": {},
   "outputs": [
    {
     "name": "stderr",
     "output_type": "stream",
     "text": [
      "2025-02-09 10:21:17,232 - INFO - Variable 'Account Detail Contract Hash' successfully loaded from temp/Account Detail Contract Hash.json\n",
      "\u001b[32m2025-02-09 10:21:17.234\u001b[0m | \u001b[1mINFO    \u001b[0m | \u001b[36m__main__\u001b[0m:\u001b[36m<module>\u001b[0m:\u001b[36m3\u001b[0m - \u001b[1mb'86452d50ed5d8cdb132dc84c548608c8454a8a993a6deab3384e17e1aee55ec0'\u001b[0m\n"
     ]
    }
   ],
   "source": [
    "# Loading the variable from JSON\n",
    "account_detail_contract_hash = load_variable(\"Account Detail Contract Hash\")\n",
    "logger.info(account_detail_contract_hash)"
   ]
  },
  {
   "cell_type": "markdown",
   "id": "a4ea1051-cb1c-4c29-97e5-38ba90248081",
   "metadata": {},
   "source": [
    "5 - Data extraction from JSON-LD.\n",
    "\n",
    "Extracts account ids from `datasets/accounts.json` and `datasets/projects.json`.\n",
    "\n",
    "Must update `json_ld_index` (see item 2) with a entry number related to the position of an existing object in `datasets/accounts.json` and `datasets/projects.json`. Example: `json_ld_index = 2`, selects the second object in each json file."
   ]
  },
  {
   "cell_type": "markdown",
   "id": "26e068d0-2247-4fd3-827f-4144b66965e1",
   "metadata": {},
   "source": [
    "6 - Sets details for both User and Project accounts providing a logical link between them for later references."
   ]
  },
  {
   "cell_type": "code",
   "execution_count": 10,
   "id": "1304dbe4",
   "metadata": {},
   "outputs": [
    {
     "name": "stderr",
     "output_type": "stream",
     "text": [
      "\u001b[32m2025-02-09 10:21:17.294\u001b[0m | \u001b[34m\u001b[1mDEBUG   \u001b[0m | \u001b[36mintegration_helpers\u001b[0m:\u001b[36mtracer\u001b[0m:\u001b[36m35\u001b[0m - \u001b[34m\u001b[1m\tEntering \"get_engine_receipts_address\"\u001b[0m\n",
      "\u001b[32m2025-02-09 10:21:17.315\u001b[0m | \u001b[1mINFO    \u001b[0m | \u001b[36mintegration_helpers\u001b[0m:\u001b[36mget_engine_receipts_address\u001b[0m:\u001b[36m96\u001b[0m - \u001b[1mRetrieved contract address for transaction hash: b'86452d50ed5d8cdb132dc84c548608c8454a8a993a6deab3384e17e1aee55ec0'\u001b[0m\n",
      "\u001b[32m2025-02-09 10:21:17.316\u001b[0m | \u001b[34m\u001b[1mDEBUG   \u001b[0m | \u001b[36mintegration_helpers\u001b[0m:\u001b[36mget_engine_receipts_address\u001b[0m:\u001b[36m97\u001b[0m - \u001b[34m\u001b[1mContract address: A518E3EE4D45C20EF834361093305D2500A46228\u001b[0m\n",
      "\u001b[32m2025-02-09 10:21:17.318\u001b[0m | \u001b[34m\u001b[1mDEBUG   \u001b[0m | \u001b[36mintegration_helpers\u001b[0m:\u001b[36mtracer\u001b[0m:\u001b[36m37\u001b[0m - \u001b[34m\u001b[1m\tLeaving \"get_engine_receipts_address\"\u001b[0m\n",
      "\u001b[32m2025-02-09 10:21:17.320\u001b[0m | \u001b[34m\u001b[1mDEBUG   \u001b[0m | \u001b[36mintegration_helpers\u001b[0m:\u001b[36mtracer\u001b[0m:\u001b[36m35\u001b[0m - \u001b[34m\u001b[1m\tEntering \"set_account_detail\"\u001b[0m\n",
      "2025-02-09 10:21:17,335 - INFO - None\n",
      "2025-02-09 10:21:17,338 - INFO - ('ENOUGH_SIGNATURES_COLLECTED', 9, 0)\n"
     ]
    },
    {
     "name": "stderr",
     "output_type": "stream",
     "text": [
      "2025-02-09 10:21:18,015 - INFO - ('STATEFUL_VALIDATION_SUCCESS', 3, 0)\n",
      "2025-02-09 10:21:18,023 - INFO - ('COMMITTED', 5, 0)\n",
      "\u001b[32m2025-02-09 10:21:18.024\u001b[0m | \u001b[34m\u001b[1mDEBUG   \u001b[0m | \u001b[36mintegration_helpers\u001b[0m:\u001b[36mtracer\u001b[0m:\u001b[36m35\u001b[0m - \u001b[34m\u001b[1m\tEntering \"get_engine_receipts_result\"\u001b[0m\n",
      "\u001b[32m2025-02-09 10:21:18.046\u001b[0m | \u001b[1mINFO    \u001b[0m | \u001b[36mintegration_helpers\u001b[0m:\u001b[36mget_engine_receipts_result\u001b[0m:\u001b[36m139\u001b[0m - \u001b[1mResult data: 000000000000000000000000000000000000000000000000000000000000002000000000000000000000000000000000000000000000000000000000000000200000000000000000000000000000000000000000000000000000000000000001\u001b[0m\n",
      "\u001b[32m2025-02-09 10:21:18.047\u001b[0m | \u001b[34m\u001b[1mDEBUG   \u001b[0m | \u001b[36mintegration_helpers\u001b[0m:\u001b[36mget_engine_receipts_result\u001b[0m:\u001b[36m140\u001b[0m - \u001b[34m\u001b[1mResult decoded string: \u0000\u0000\u0000\u0000\u0000\u0000\u0000\u0000\u0000\u0000\u0000\u0000\u0000\u0000\u0000\u0000\u0000\u0000\u0000\u0000\u0000\u0000\u0000\u0000\u0000\u0000\u0000\u0000\u0000\u0000\u0000 \u0000\u0000\u0000\u0000\u0000\u0000\u0000\u0000\u0000\u0000\u0000\u0000\u0000\u0000\u0000\u0000\u0000\u0000\u0000\u0000\u0000\u0000\u0000\u0000\u0000\u0000\u0000\u0000\u0000\u0000\u0000 \u0000\u0000\u0000\u0000\u0000\u0000\u0000\u0000\u0000\u0000\u0000\u0000\u0000\u0000\u0000\u0000\u0000\u0000\u0000\u0000\u0000\u0000\u0000\u0000\u0000\u0000\u0000\u0000\u0000\u0000\u0000\u0001\u001b[0m\n",
      "\u001b[32m2025-02-09 10:21:18.049\u001b[0m | \u001b[34m\u001b[1mDEBUG   \u001b[0m | \u001b[36mintegration_helpers\u001b[0m:\u001b[36mtracer\u001b[0m:\u001b[36m37\u001b[0m - \u001b[34m\u001b[1m\tLeaving \"get_engine_receipts_result\"\u001b[0m\n",
      "\u001b[32m2025-02-09 10:21:18.050\u001b[0m | \u001b[34m\u001b[1mDEBUG   \u001b[0m | \u001b[36mintegration_helpers\u001b[0m:\u001b[36mtracer\u001b[0m:\u001b[36m37\u001b[0m - \u001b[34m\u001b[1m\tLeaving \"set_account_detail\"\u001b[0m\n",
      "\u001b[32m2025-02-09 10:21:18.051\u001b[0m | \u001b[34m\u001b[1mDEBUG   \u001b[0m | \u001b[36mintegration_helpers\u001b[0m:\u001b[36mtracer\u001b[0m:\u001b[36m35\u001b[0m - \u001b[34m\u001b[1m\tEntering \"set_account_detail\"\u001b[0m\n",
      "2025-02-09 10:21:18,066 - INFO - None\n",
      "2025-02-09 10:21:18,069 - INFO - ('ENOUGH_SIGNATURES_COLLECTED', 9, 0)\n",
      "2025-02-09 10:21:21,045 - INFO - ('STATEFUL_VALIDATION_SUCCESS', 3, 0)\n",
      "2025-02-09 10:21:21,053 - INFO - ('COMMITTED', 5, 0)\n",
      "\u001b[32m2025-02-09 10:21:21.055\u001b[0m | \u001b[34m\u001b[1mDEBUG   \u001b[0m | \u001b[36mintegration_helpers\u001b[0m:\u001b[36mtracer\u001b[0m:\u001b[36m35\u001b[0m - \u001b[34m\u001b[1m\tEntering \"get_engine_receipts_result\"\u001b[0m\n",
      "\u001b[32m2025-02-09 10:21:21.076\u001b[0m | \u001b[1mINFO    \u001b[0m | \u001b[36mintegration_helpers\u001b[0m:\u001b[36mget_engine_receipts_result\u001b[0m:\u001b[36m139\u001b[0m - \u001b[1mResult data: 000000000000000000000000000000000000000000000000000000000000002000000000000000000000000000000000000000000000000000000000000000200000000000000000000000000000000000000000000000000000000000000001\u001b[0m\n",
      "\u001b[32m2025-02-09 10:21:21.077\u001b[0m | \u001b[34m\u001b[1mDEBUG   \u001b[0m | \u001b[36mintegration_helpers\u001b[0m:\u001b[36mget_engine_receipts_result\u001b[0m:\u001b[36m140\u001b[0m - \u001b[34m\u001b[1mResult decoded string: \u0000\u0000\u0000\u0000\u0000\u0000\u0000\u0000\u0000\u0000\u0000\u0000\u0000\u0000\u0000\u0000\u0000\u0000\u0000\u0000\u0000\u0000\u0000\u0000\u0000\u0000\u0000\u0000\u0000\u0000\u0000 \u0000\u0000\u0000\u0000\u0000\u0000\u0000\u0000\u0000\u0000\u0000\u0000\u0000\u0000\u0000\u0000\u0000\u0000\u0000\u0000\u0000\u0000\u0000\u0000\u0000\u0000\u0000\u0000\u0000\u0000\u0000 \u0000\u0000\u0000\u0000\u0000\u0000\u0000\u0000\u0000\u0000\u0000\u0000\u0000\u0000\u0000\u0000\u0000\u0000\u0000\u0000\u0000\u0000\u0000\u0000\u0000\u0000\u0000\u0000\u0000\u0000\u0000\u0001\u001b[0m\n",
      "\u001b[32m2025-02-09 10:21:21.078\u001b[0m | \u001b[34m\u001b[1mDEBUG   \u001b[0m | \u001b[36mintegration_helpers\u001b[0m:\u001b[36mtracer\u001b[0m:\u001b[36m37\u001b[0m - \u001b[34m\u001b[1m\tLeaving \"get_engine_receipts_result\"\u001b[0m\n",
      "\u001b[32m2025-02-09 10:21:21.079\u001b[0m | \u001b[34m\u001b[1mDEBUG   \u001b[0m | \u001b[36mintegration_helpers\u001b[0m:\u001b[36mtracer\u001b[0m:\u001b[36m37\u001b[0m - \u001b[34m\u001b[1m\tLeaving \"set_account_detail\"\u001b[0m\n",
      "2025-02-09 10:21:21,082 - INFO - Updated user account distracted_rhodes@test with linked project 23897@test\n",
      "2025-02-09 10:21:21,084 - INFO - Updated project account 23897@test with linked user distracted_rhodes@test\n",
      "\u001b[32m2025-02-09 10:21:21.086\u001b[0m | \u001b[1mINFO    \u001b[0m | \u001b[36m__main__\u001b[0m:\u001b[36m<module>\u001b[0m:\u001b[36m28\u001b[0m - \u001b[1mUser account distracted_rhodes@test linked to project 23897@test\u001b[0m\n",
      "\u001b[32m2025-02-09 10:21:21.087\u001b[0m | \u001b[1mINFO    \u001b[0m | \u001b[36m__main__\u001b[0m:\u001b[36m<module>\u001b[0m:\u001b[36m29\u001b[0m - \u001b[1mProject account 23897@test linked to user distracted_rhodes@test\u001b[0m\n"
     ]
    }
   ],
   "source": [
    "address = integration_helpers.get_engine_receipts_address(account_detail_contract_hash)\n",
    "\n",
    "# Assuming json_ld_index is defined\n",
    "user_account = user_accounts[json_ld_index]\n",
    "project_account = project_accounts[json_ld_index]\n",
    "\n",
    "# Set project_id as a detail for the user account\n",
    "hash_user_to_project = set_account_detail(\n",
    "    address, \n",
    "    user_account['account_id'], \n",
    "    \"linked_project\", \n",
    "    project_account['account_id']\n",
    ")\n",
    "\n",
    "# Set user_account_id as a detail for the project account\n",
    "hash_project_to_user = set_account_detail(\n",
    "    address, \n",
    "    project_account['account_id'], \n",
    "    \"linked_user\", \n",
    "    user_account['account_id']\n",
    ")\n",
    "\n",
    "# Update the JSON-LD files with the linked details\n",
    "update_user_account_link(user_account['account_id'], project_account['account_id'])\n",
    "update_project_account_link(project_account['account_id'], user_account['account_id'])\n",
    "\n",
    "# Confirming the operation\n",
    "logger.info(f\"User account {user_account['account_id']} linked to project {project_account['account_id']}\")\n",
    "logger.info(f\"Project account {project_account['account_id']} linked to user {user_account['account_id']}\")"
   ]
  },
  {
   "cell_type": "markdown",
   "id": "3562857c-d86d-42cf-a24b-23a5c3f5cb4e",
   "metadata": {},
   "source": [
    "7 - Queries Iroha 1 for the User account and exposes the variable `project_id` from user details."
   ]
  },
  {
   "cell_type": "code",
   "execution_count": 11,
   "id": "12f0de82-0c4d-43ff-9f9e-ca6a2b5667ca",
   "metadata": {},
   "outputs": [
    {
     "name": "stderr",
     "output_type": "stream",
     "text": [
      "\u001b[32m2025-02-09 10:21:21.105\u001b[0m | \u001b[34m\u001b[1mDEBUG   \u001b[0m | \u001b[36mintegration_helpers\u001b[0m:\u001b[36mtracer\u001b[0m:\u001b[36m35\u001b[0m - \u001b[34m\u001b[1m\tEntering \"get_account_detail\"\u001b[0m\n",
      "2025-02-09 10:21:21,126 - INFO - User Account id = distracted_rhodes@test, { \"admin@test\" : { \"account_metadata_cid\" : \"QmXBxKDZmmoKLjHkMHCK3rmezZSD9rGzp5EMfxQnK8Vmia\", \"linked_project\" : \"23897@test\" } }\n",
      "\u001b[32m2025-02-09 10:21:21.128\u001b[0m | \u001b[34m\u001b[1mDEBUG   \u001b[0m | \u001b[36mintegration_helpers\u001b[0m:\u001b[36mtracer\u001b[0m:\u001b[36m37\u001b[0m - \u001b[34m\u001b[1m\tLeaving \"get_account_detail\"\u001b[0m\n",
      "\u001b[32m2025-02-09 10:21:21.129\u001b[0m | \u001b[1mINFO    \u001b[0m | \u001b[36m__main__\u001b[0m:\u001b[36m<module>\u001b[0m:\u001b[36m14\u001b[0m - \u001b[1mProject Id = 23897@test\u001b[0m\n"
     ]
    }
   ],
   "source": [
    "#Query - GetAccountDetail\n",
    "\n",
    "from iroha_helper import get_account_detail\n",
    "\n",
    "user_details = get_account_detail(f\"{user_account['account_id']}\")\n",
    "\n",
    "# logger.info(f'User Account id = {user_account}, {user_details}')\n",
    "\n",
    "# # Process the account details response in JSON format\n",
    "user_details_dict = json.loads(user_details)  # Convert the string to a JSON object\n",
    "\n",
    "# # Exposes the project_id \n",
    "project_id = user_details_dict[\"admin@test\"][\"linked_project\"]\n",
    "logger.info(f\"Project Id = {project_id}\")"
   ]
  },
  {
   "cell_type": "code",
   "execution_count": 13,
   "id": "a4da4de1",
   "metadata": {},
   "outputs": [
    {
     "name": "stderr",
     "output_type": "stream",
     "text": [
      "2025-02-09 10:37:43,965 - INFO - Variable 'Create Account Hash' successfully loaded from temp/Create Account Hash.json\n",
      "\u001b[32m2025-02-09 10:37:43.968\u001b[0m | \u001b[1mINFO    \u001b[0m | \u001b[36m__main__\u001b[0m:\u001b[36m<module>\u001b[0m:\u001b[36m3\u001b[0m - \u001b[1mb'a76bb4a33334ef018daf965042478cfc41229121be8e4d461a3dc9f9c709c2ce'\u001b[0m\n",
      "\u001b[32m2025-02-09 10:37:43.971\u001b[0m | \u001b[34m\u001b[1mDEBUG   \u001b[0m | \u001b[36mintegration_helpers\u001b[0m:\u001b[36mtracer\u001b[0m:\u001b[36m35\u001b[0m - \u001b[34m\u001b[1m\tEntering \"get_engine_receipts_address\"\u001b[0m\n",
      "\u001b[32m2025-02-09 10:37:43.999\u001b[0m | \u001b[1mINFO    \u001b[0m | \u001b[36mintegration_helpers\u001b[0m:\u001b[36mget_engine_receipts_address\u001b[0m:\u001b[36m96\u001b[0m - \u001b[1mRetrieved contract address for transaction hash: b'a76bb4a33334ef018daf965042478cfc41229121be8e4d461a3dc9f9c709c2ce'\u001b[0m\n",
      "\u001b[32m2025-02-09 10:37:44.001\u001b[0m | \u001b[34m\u001b[1mDEBUG   \u001b[0m | \u001b[36mintegration_helpers\u001b[0m:\u001b[36mget_engine_receipts_address\u001b[0m:\u001b[36m97\u001b[0m - \u001b[34m\u001b[1mContract address: 93F622673AA712B7298FDD2212E3228D8D9DD8BF\u001b[0m\n",
      "\u001b[32m2025-02-09 10:37:44.003\u001b[0m | \u001b[34m\u001b[1mDEBUG   \u001b[0m | \u001b[36mintegration_helpers\u001b[0m:\u001b[36mtracer\u001b[0m:\u001b[36m37\u001b[0m - \u001b[34m\u001b[1m\tLeaving \"get_engine_receipts_address\"\u001b[0m\n"
     ]
    }
   ],
   "source": [
    "# Loading the variable from JSON\n",
    "create_account_contract_hash = load_variable(\"Create Account Hash\")\n",
    "logger.info(create_account_contract_hash)\n",
    "create_account_contract_address = integration_helpers.get_engine_receipts_address(create_account_contract_hash)"
   ]
  },
  {
   "cell_type": "code",
   "execution_count": 16,
   "id": "4339f798",
   "metadata": {},
   "outputs": [
    {
     "name": "stderr",
     "output_type": "stream",
     "text": [
      "\u001b[32m2025-02-09 10:42:54.075\u001b[0m | \u001b[34m\u001b[1mDEBUG   \u001b[0m | \u001b[36mintegration_helpers\u001b[0m:\u001b[36mtracer\u001b[0m:\u001b[36m35\u001b[0m - \u001b[34m\u001b[1m\tEntering \"get_account\"\u001b[0m\n",
      "2025-02-09 10:42:54,078 - WARNING - create_account_contract_address: 93F622673AA712B7298FDD2212E3228D8D9DD8BF\n",
      "2025-02-09 10:42:54,098 - INFO - ('STATELESS_VALIDATION_SUCCESS', 1, 0)\n",
      "2025-02-09 10:42:54,100 - INFO - ('ENOUGH_SIGNATURES_COLLECTED', 9, 0)\n",
      "2025-02-09 10:42:55,454 - INFO - ('STATEFUL_VALIDATION_SUCCESS', 3, 0)\n",
      "2025-02-09 10:42:55,464 - INFO - ('COMMITTED', 5, 0)\n",
      "2025-02-09 10:42:55,466 - WARNING - Account Data: {'address': '93F622673AA712B7298FDD2212E3228D8D9DD8BF', 'hex_hash': 'd1c3d0961d635bf7af313ec458006a3933221700edcf21f2a34091c6f9b5280d', 'timestamp': 1739097775466}\n",
      "\u001b[32m2025-02-09 10:42:55.468\u001b[0m | \u001b[34m\u001b[1mDEBUG   \u001b[0m | \u001b[36mintegration_helpers\u001b[0m:\u001b[36mtracer\u001b[0m:\u001b[36m35\u001b[0m - \u001b[34m\u001b[1m\tEntering \"append_to_json_file\"\u001b[0m\n",
      "2025-02-09 10:42:55,471 - INFO - Appended data under 'distracted_rhodes@test' in logs/account_data.json\n",
      "\u001b[32m2025-02-09 10:42:55.472\u001b[0m | \u001b[34m\u001b[1mDEBUG   \u001b[0m | \u001b[36mintegration_helpers\u001b[0m:\u001b[36mtracer\u001b[0m:\u001b[36m37\u001b[0m - \u001b[34m\u001b[1m\tLeaving \"append_to_json_file\"\u001b[0m\n",
      "\u001b[32m2025-02-09 10:42:55.473\u001b[0m | \u001b[34m\u001b[1mDEBUG   \u001b[0m | \u001b[36mintegration_helpers\u001b[0m:\u001b[36mtracer\u001b[0m:\u001b[36m37\u001b[0m - \u001b[34m\u001b[1m\tLeaving \"get_account\"\u001b[0m\n",
      "\u001b[32m2025-02-09 10:42:55.475\u001b[0m | \u001b[34m\u001b[1mDEBUG   \u001b[0m | \u001b[36mintegration_helpers\u001b[0m:\u001b[36mtracer\u001b[0m:\u001b[36m35\u001b[0m - \u001b[34m\u001b[1m\tEntering \"get_engine_receipts_result\"\u001b[0m\n",
      "\u001b[32m2025-02-09 10:42:55.497\u001b[0m | \u001b[1mINFO    \u001b[0m | \u001b[36mintegration_helpers\u001b[0m:\u001b[36mget_engine_receipts_result\u001b[0m:\u001b[36m139\u001b[0m - \u001b[1mResult data: 00000000000000000000000000000000000000000000000000000000000000200000000000000000000000000000000000000000000000000000000000000120000000000000000000000000000000000000000000000000000000000000002000000000000000000000000000000000000000000000000000000000000000d87b226163636f756e745f6964223a22646973747261637465645f72686f6465734074657374222c22646f6d61696e5f6964223a2274657374222c2271756f72756d223a312c226a736f6e5f64617461223a227b5c2261646d696e40746573745c223a207b5c226c696e6b65645f70726f6a6563745c223a205c22323338393740746573745c222c205c226163636f756e745f6d657461646174615f6369645c223a205c22516d5842784b445a6d6d6f4b4c6a486b4d48434b33726d657a5a53443972477a7035454d6678516e4b38566d69615c227d7d227d0000000000000000\u001b[0m\n",
      "\u001b[32m2025-02-09 10:42:55.498\u001b[0m | \u001b[34m\u001b[1mDEBUG   \u001b[0m | \u001b[36mintegration_helpers\u001b[0m:\u001b[36mget_engine_receipts_result\u001b[0m:\u001b[36m140\u001b[0m - \u001b[34m\u001b[1mResult decoded string: \u0000\u0000\u0000\u0000\u0000\u0000\u0000\u0000\u0000\u0000\u0000\u0000\u0000\u0000\u0000\u0000\u0000\u0000\u0000\u0000\u0000\u0000\u0000\u0000\u0000\u0000\u0000\u0000\u0000\u0000\u0000 \u0000\u0000\u0000\u0000\u0000\u0000\u0000\u0000\u0000\u0000\u0000\u0000\u0000\u0000\u0000\u0000\u0000\u0000\u0000\u0000\u0000\u0000\u0000\u0000\u0000\u0000\u0000\u0000\u0000\u0000\u0001 \u0000\u0000\u0000\u0000\u0000\u0000\u0000\u0000\u0000\u0000\u0000\u0000\u0000\u0000\u0000\u0000\u0000\u0000\u0000\u0000\u0000\u0000\u0000\u0000\u0000\u0000\u0000\u0000\u0000\u0000\u0000 \u0000\u0000\u0000\u0000\u0000\u0000\u0000\u0000\u0000\u0000\u0000\u0000\u0000\u0000\u0000\u0000\u0000\u0000\u0000\u0000\u0000\u0000\u0000\u0000\u0000\u0000\u0000\u0000\u0000\u0000\u0000{\"account_id\":\"distracted_rhodes@test\",\"domain_id\":\"test\",\"quorum\":1,\"json_data\":\"{\\\"admin@test\\\": {\\\"linked_project\\\": \\\"23897@test\\\", \\\"account_metadata_cid\\\": \\\"QmXBxKDZmmoKLjHkMHCK3rmezZSD9rGzp5EMfxQnK8Vmia\\\"}}\"}\u0000\u0000\u0000\u0000\u0000\u0000\u0000\u0000\u001b[0m\n",
      "\u001b[32m2025-02-09 10:42:55.500\u001b[0m | \u001b[34m\u001b[1mDEBUG   \u001b[0m | \u001b[36mintegration_helpers\u001b[0m:\u001b[36mtracer\u001b[0m:\u001b[36m37\u001b[0m - \u001b[34m\u001b[1m\tLeaving \"get_engine_receipts_result\"\u001b[0m\n"
     ]
    }
   ],
   "source": [
    "# - Get account info\n",
    "get_account_hash = get_account(create_account_contract_address, \"distracted_rhodes\", \"test\")\n",
    "address = integration_helpers.get_engine_receipts_result(get_account_hash)"
   ]
  },
  {
   "cell_type": "code",
   "execution_count": 17,
   "id": "399d3629",
   "metadata": {},
   "outputs": [
    {
     "name": "stderr",
     "output_type": "stream",
     "text": [
      "\u001b[32m2025-02-09 10:43:19.663\u001b[0m | \u001b[34m\u001b[1mDEBUG   \u001b[0m | \u001b[36mintegration_helpers\u001b[0m:\u001b[36mtracer\u001b[0m:\u001b[36m35\u001b[0m - \u001b[34m\u001b[1m\tEntering \"get_account\"\u001b[0m\n",
      "2025-02-09 10:43:19,668 - WARNING - create_account_contract_address: 93F622673AA712B7298FDD2212E3228D8D9DD8BF\n",
      "2025-02-09 10:43:19,685 - INFO - ('STATELESS_VALIDATION_SUCCESS', 1, 0)\n",
      "2025-02-09 10:43:19,687 - INFO - ('ENOUGH_SIGNATURES_COLLECTED', 9, 0)\n",
      "2025-02-09 10:43:22,511 - INFO - ('STATEFUL_VALIDATION_SUCCESS', 3, 0)\n",
      "2025-02-09 10:43:22,520 - INFO - ('COMMITTED', 5, 0)\n",
      "2025-02-09 10:43:22,523 - WARNING - Account Data: {'address': '93F622673AA712B7298FDD2212E3228D8D9DD8BF', 'hex_hash': 'f7517325370d12f0c29b2c5a0bf507a9d16a3c17902b8e7f741a7d8343c56610', 'timestamp': 1739097802523}\n",
      "\u001b[32m2025-02-09 10:43:22.524\u001b[0m | \u001b[34m\u001b[1mDEBUG   \u001b[0m | \u001b[36mintegration_helpers\u001b[0m:\u001b[36mtracer\u001b[0m:\u001b[36m35\u001b[0m - \u001b[34m\u001b[1m\tEntering \"append_to_json_file\"\u001b[0m\n",
      "2025-02-09 10:43:22,527 - INFO - Appended data under '23897@test' in logs/account_data.json\n",
      "\u001b[32m2025-02-09 10:43:22.528\u001b[0m | \u001b[34m\u001b[1mDEBUG   \u001b[0m | \u001b[36mintegration_helpers\u001b[0m:\u001b[36mtracer\u001b[0m:\u001b[36m37\u001b[0m - \u001b[34m\u001b[1m\tLeaving \"append_to_json_file\"\u001b[0m\n",
      "\u001b[32m2025-02-09 10:43:22.530\u001b[0m | \u001b[34m\u001b[1mDEBUG   \u001b[0m | \u001b[36mintegration_helpers\u001b[0m:\u001b[36mtracer\u001b[0m:\u001b[36m37\u001b[0m - \u001b[34m\u001b[1m\tLeaving \"get_account\"\u001b[0m\n",
      "\u001b[32m2025-02-09 10:43:22.531\u001b[0m | \u001b[34m\u001b[1mDEBUG   \u001b[0m | \u001b[36mintegration_helpers\u001b[0m:\u001b[36mtracer\u001b[0m:\u001b[36m35\u001b[0m - \u001b[34m\u001b[1m\tEntering \"get_engine_receipts_result\"\u001b[0m\n",
      "\u001b[32m2025-02-09 10:43:22.555\u001b[0m | \u001b[1mINFO    \u001b[0m | \u001b[36mintegration_helpers\u001b[0m:\u001b[36mget_engine_receipts_result\u001b[0m:\u001b[36m139\u001b[0m - \u001b[1mResult data: 00000000000000000000000000000000000000000000000000000000000000200000000000000000000000000000000000000000000000000000000000000120000000000000000000000000000000000000000000000000000000000000002000000000000000000000000000000000000000000000000000000000000000d57b226163636f756e745f6964223a2232333839374074657374222c22646f6d61696e5f6964223a2274657374222c2271756f72756d223a312c226a736f6e5f64617461223a227b5c2261646d696e40746573745c223a207b5c226c696e6b65645f757365725c223a205c22646973747261637465645f72686f64657340746573745c222c205c226163636f756e745f6d657461646174615f6369645c223a205c22516d5a577876716639544d784c4d4b6a4d424c48704e6d6e5861554a52764143616858715a7432646b66374733755c227d7d227d0000000000000000000000\u001b[0m\n",
      "\u001b[32m2025-02-09 10:43:22.557\u001b[0m | \u001b[34m\u001b[1mDEBUG   \u001b[0m | \u001b[36mintegration_helpers\u001b[0m:\u001b[36mget_engine_receipts_result\u001b[0m:\u001b[36m140\u001b[0m - \u001b[34m\u001b[1mResult decoded string: \u0000\u0000\u0000\u0000\u0000\u0000\u0000\u0000\u0000\u0000\u0000\u0000\u0000\u0000\u0000\u0000\u0000\u0000\u0000\u0000\u0000\u0000\u0000\u0000\u0000\u0000\u0000\u0000\u0000\u0000\u0000 \u0000\u0000\u0000\u0000\u0000\u0000\u0000\u0000\u0000\u0000\u0000\u0000\u0000\u0000\u0000\u0000\u0000\u0000\u0000\u0000\u0000\u0000\u0000\u0000\u0000\u0000\u0000\u0000\u0000\u0000\u0001 \u0000\u0000\u0000\u0000\u0000\u0000\u0000\u0000\u0000\u0000\u0000\u0000\u0000\u0000\u0000\u0000\u0000\u0000\u0000\u0000\u0000\u0000\u0000\u0000\u0000\u0000\u0000\u0000\u0000\u0000\u0000 \u0000\u0000\u0000\u0000\u0000\u0000\u0000\u0000\u0000\u0000\u0000\u0000\u0000\u0000\u0000\u0000\u0000\u0000\u0000\u0000\u0000\u0000\u0000\u0000\u0000\u0000\u0000\u0000\u0000\u0000\u0000{\"account_id\":\"23897@test\",\"domain_id\":\"test\",\"quorum\":1,\"json_data\":\"{\\\"admin@test\\\": {\\\"linked_user\\\": \\\"distracted_rhodes@test\\\", \\\"account_metadata_cid\\\": \\\"QmZWxvqf9TMxLMKjMBLHpNmnXaUJRvACahXqZt2dkf7G3u\\\"}}\"}\u0000\u0000\u0000\u0000\u0000\u0000\u0000\u0000\u0000\u0000\u0000\u001b[0m\n",
      "\u001b[32m2025-02-09 10:43:22.558\u001b[0m | \u001b[34m\u001b[1mDEBUG   \u001b[0m | \u001b[36mintegration_helpers\u001b[0m:\u001b[36mtracer\u001b[0m:\u001b[36m37\u001b[0m - \u001b[34m\u001b[1m\tLeaving \"get_engine_receipts_result\"\u001b[0m\n",
      "\u001b[32m2025-02-09 10:43:22.559\u001b[0m | \u001b[34m\u001b[1mDEBUG   \u001b[0m | \u001b[36mintegration_helpers\u001b[0m:\u001b[36mtracer\u001b[0m:\u001b[36m35\u001b[0m - \u001b[34m\u001b[1m\tEntering \"process_raw_data\"\u001b[0m\n",
      "\u001b[32m2025-02-09 10:43:22.560\u001b[0m | \u001b[34m\u001b[1mDEBUG   \u001b[0m | \u001b[36mintegration_helpers\u001b[0m:\u001b[36mtracer\u001b[0m:\u001b[36m35\u001b[0m - \u001b[34m\u001b[1m\tEntering \"extract_account_metadata_cid_from_data\"\u001b[0m\n",
      "\u001b[32m2025-02-09 10:43:22.561\u001b[0m | \u001b[34m\u001b[1mDEBUG   \u001b[0m | \u001b[36mintegration_helpers\u001b[0m:\u001b[36mtracer\u001b[0m:\u001b[36m37\u001b[0m - \u001b[34m\u001b[1m\tLeaving \"extract_account_metadata_cid_from_data\"\u001b[0m\n",
      "2025-02-09 10:43:22,562 - INFO - User Metadata CID: QmZWxvqf9TMxLMKjMBLHpNmnXaUJRvACahXqZt2dkf7G3u\n",
      "\u001b[32m2025-02-09 10:43:22.563\u001b[0m | \u001b[34m\u001b[1mDEBUG   \u001b[0m | \u001b[36mintegration_helpers\u001b[0m:\u001b[36mtracer\u001b[0m:\u001b[36m37\u001b[0m - \u001b[34m\u001b[1m\tLeaving \"process_raw_data\"\u001b[0m\n"
     ]
    }
   ],
   "source": [
    "# - Get account info\n",
    "get_account_hash = get_account(create_account_contract_address, \"23897\", \"test\")\n",
    "details = integration_helpers.get_engine_receipts_result(get_account_hash)\n",
    "\n",
    "# Process the raw data\n",
    "account_metadata_cid = process_raw_data(details) #TO DO - From now"
   ]
  },
  {
   "cell_type": "markdown",
   "id": "5c444196-6d75-4a0a-b135-c284648a4885",
   "metadata": {},
   "source": [
    "8 - Saves `project_id` in the local file sytem for use in Notebook 4"
   ]
  },
  {
   "cell_type": "code",
   "execution_count": 12,
   "id": "a5237870-f562-488f-9213-6a3acb313274",
   "metadata": {},
   "outputs": [
    {
     "name": "stderr",
     "output_type": "stream",
     "text": [
      "2025-02-09 10:21:21,147 - INFO - Variable 'Project Id' successfully dumped to temp/Project Id.json\n"
     ]
    }
   ],
   "source": [
    "# Dumping the variable to JSON\n",
    "dump_variable(project_id, \"Project Id\")"
   ]
  }
 ],
 "metadata": {
  "kernelspec": {
   "display_name": "Python 3 (ipykernel)",
   "language": "python",
   "name": "python3"
  },
  "language_info": {
   "codemirror_mode": {
    "name": "ipython",
    "version": 3
   },
   "file_extension": ".py",
   "mimetype": "text/x-python",
   "name": "python",
   "nbconvert_exporter": "python",
   "pygments_lexer": "ipython3",
   "version": "3.9.21"
  }
 },
 "nbformat": 4,
 "nbformat_minor": 5
}
