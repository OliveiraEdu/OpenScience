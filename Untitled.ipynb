{
 "cells": [
  {
   "cell_type": "code",
   "execution_count": 5,
   "id": "5b00ce6b-1e2d-4a8e-ae1f-8569e1ffa097",
   "metadata": {},
   "outputs": [
    {
     "name": "stdout",
     "output_type": "stream",
     "text": [
      "3501142780256269\n"
     ]
    }
   ],
   "source": [
    "import random\n",
    "\n",
    "def generate_orcid():\n",
    "    orcid = \"\"\n",
    "    for i in range(16):\n",
    "        orcid += str(random.randrange(0, 10))\n",
    "    return orcid\n",
    "\n",
    "\n",
    "\n",
    "orcid = generate_orcid()\n",
    "print(orcid)"
   ]
  },
  {
   "cell_type": "code",
   "execution_count": null,
   "id": "a8d477e5-00a0-4c3b-80de-dbbb333022bc",
   "metadata": {},
   "outputs": [],
   "source": []
  },
  {
   "cell_type": "code",
   "execution_count": null,
   "id": "8dc68b1d-38cb-4016-98ed-82964671bf1d",
   "metadata": {},
   "outputs": [],
   "source": []
  }
 ],
 "metadata": {
  "kernelspec": {
   "display_name": "Python 3 (ipykernel)",
   "language": "python",
   "name": "python3"
  },
  "language_info": {
   "codemirror_mode": {
    "name": "ipython",
    "version": 3
   },
   "file_extension": ".py",
   "mimetype": "text/x-python",
   "name": "python",
   "nbconvert_exporter": "python",
   "pygments_lexer": "ipython3",
   "version": "3.9.19"
  }
 },
 "nbformat": 4,
 "nbformat_minor": 5
}
