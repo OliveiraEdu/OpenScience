{
 "cells": [
  {
   "cell_type": "code",
   "execution_count": null,
   "id": "299a3a61-b60f-4345-a0ad-43cc473454a7",
   "metadata": {},
   "outputs": [],
   "source": [
    "from ipfs_search import *\n",
    "\n",
    "file_path = \"upload/Aeroacoustic-airfoil-shape-optimization-enhance_2023_Expert-Systems-with-App.pdf\"\n",
    "metadata = extract_metadata(file_path)"
   ]
  },
  {
   "cell_type": "code",
   "execution_count": null,
   "id": "e4bfcbcf-034d-4750-954e-9b1b682ff41d",
   "metadata": {},
   "outputs": [],
   "source": []
  }
 ],
 "metadata": {
  "kernelspec": {
   "display_name": "Python 3 (ipykernel)",
   "language": "python",
   "name": "python3"
  },
  "language_info": {
   "codemirror_mode": {
    "name": "ipython",
    "version": 3
   },
   "file_extension": ".py",
   "mimetype": "text/x-python",
   "name": "python",
   "nbconvert_exporter": "python",
   "pygments_lexer": "ipython3",
   "version": "3.9.19"
  }
 },
 "nbformat": 4,
 "nbformat_minor": 5
}
