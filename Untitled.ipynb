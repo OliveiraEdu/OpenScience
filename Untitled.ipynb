{
 "cells": [
  {
   "cell_type": "code",
   "execution_count": 1,
   "id": "2db6c142-8117-4a86-8f8e-356ca42819dd",
   "metadata": {},
   "outputs": [
    {
     "ename": "NameError",
     "evalue": "name 'process_json_data' is not defined",
     "output_type": "error",
     "traceback": [
      "\u001b[0;31m---------------------------------------------------------------------------\u001b[0m",
      "\u001b[0;31mNameError\u001b[0m                                 Traceback (most recent call last)",
      "Cell \u001b[0;32mIn[1], line 11\u001b[0m\n\u001b[1;32m      8\u001b[0m current_directory \u001b[38;5;241m=\u001b[39m os\u001b[38;5;241m.\u001b[39mgetcwd()\n\u001b[1;32m     10\u001b[0m \u001b[38;5;66;03m# Generate docstrings for all Python files in the current directory\u001b[39;00m\n\u001b[0;32m---> 11\u001b[0m temp_dir \u001b[38;5;241m=\u001b[39m \u001b[43mgenerate_docstrings_for_directory\u001b[49m\u001b[43m(\u001b[49m\u001b[43mcurrent_directory\u001b[49m\u001b[43m)\u001b[49m\n\u001b[1;32m     13\u001b[0m \u001b[38;5;28mprint\u001b[39m(\u001b[38;5;124mf\u001b[39m\u001b[38;5;124m\"\u001b[39m\u001b[38;5;124mAll updated files saved in: \u001b[39m\u001b[38;5;132;01m{\u001b[39;00mtemp_dir\u001b[38;5;132;01m}\u001b[39;00m\u001b[38;5;124m\"\u001b[39m)\n",
      "File \u001b[0;32m~/OpenScience/add_docstring.py:25\u001b[0m, in \u001b[0;36mgenerate_docstrings_for_directory\u001b[0;34m(directory_path)\u001b[0m\n\u001b[1;32m     23\u001b[0m         file_path \u001b[38;5;241m=\u001b[39m os\u001b[38;5;241m.\u001b[39mpath\u001b[38;5;241m.\u001b[39mjoin(directory_path, file_name)\n\u001b[1;32m     24\u001b[0m         \u001b[38;5;66;03m# Process each file and update docstrings\u001b[39;00m\n\u001b[0;32m---> 25\u001b[0m         \u001b[43mupdate_file_with_docstrings\u001b[49m\u001b[43m(\u001b[49m\u001b[43mfile_path\u001b[49m\u001b[43m,\u001b[49m\u001b[43m \u001b[49m\u001b[43mtemp_dir\u001b[49m\u001b[43m)\u001b[49m\n\u001b[1;32m     27\u001b[0m \u001b[38;5;28;01mreturn\u001b[39;00m temp_dir\n",
      "File \u001b[0;32m~/OpenScience/add_docstring.py:49\u001b[0m, in \u001b[0;36mupdate_file_with_docstrings\u001b[0;34m(file_path, temp_dir)\u001b[0m\n\u001b[1;32m     46\u001b[0m \u001b[38;5;28;01mif\u001b[39;00m line\u001b[38;5;241m.\u001b[39mstrip()\u001b[38;5;241m.\u001b[39mstartswith(\u001b[38;5;124m\"\u001b[39m\u001b[38;5;124mdef \u001b[39m\u001b[38;5;124m\"\u001b[39m):\n\u001b[1;32m     47\u001b[0m     \u001b[38;5;66;03m# Get the function name and arguments using inspect\u001b[39;00m\n\u001b[1;32m     48\u001b[0m     func_name \u001b[38;5;241m=\u001b[39m line\u001b[38;5;241m.\u001b[39mstrip()\u001b[38;5;241m.\u001b[39msplit(\u001b[38;5;124m\"\u001b[39m\u001b[38;5;124m \u001b[39m\u001b[38;5;124m\"\u001b[39m)[\u001b[38;5;241m1\u001b[39m]\u001b[38;5;241m.\u001b[39msplit(\u001b[38;5;124m\"\u001b[39m\u001b[38;5;124m(\u001b[39m\u001b[38;5;124m\"\u001b[39m)[\u001b[38;5;241m0\u001b[39m]\n\u001b[0;32m---> 49\u001b[0m     signature \u001b[38;5;241m=\u001b[39m inspect\u001b[38;5;241m.\u001b[39msignature(\u001b[38;5;28;43meval\u001b[39;49m\u001b[43m(\u001b[49m\u001b[43mfunc_name\u001b[49m\u001b[43m)\u001b[49m)\n\u001b[1;32m     50\u001b[0m     params \u001b[38;5;241m=\u001b[39m signature\u001b[38;5;241m.\u001b[39mparameters\n\u001b[1;32m     52\u001b[0m     \u001b[38;5;66;03m# Create the function docstring\u001b[39;00m\n",
      "File \u001b[0;32m<string>:1\u001b[0m\n",
      "\u001b[0;31mNameError\u001b[0m: name 'process_json_data' is not defined"
     ]
    }
   ],
   "source": [
    "# Import the functions from docstring_generator.py\n",
    "from add_docstring import generate_docstrings_for_directory, update_file_with_docstrings\n",
    "import os\n",
    "\n",
    "# Example usage\n",
    "if __name__ == \"__main__\":\n",
    "    # Get the current directory\n",
    "    current_directory = os.getcwd()\n",
    "    \n",
    "    # Generate docstrings for all Python files in the current directory\n",
    "    temp_dir = generate_docstrings_for_directory(current_directory)\n",
    "\n",
    "    print(f\"All updated files saved in: {temp_dir}\")\n"
   ]
  },
  {
   "cell_type": "code",
   "execution_count": null,
   "id": "eeeb23b8-4f01-43e8-bff2-e263b08475ad",
   "metadata": {},
   "outputs": [],
   "source": []
  },
  {
   "cell_type": "code",
   "execution_count": null,
   "id": "c14fd26a-a912-439a-848d-4ce7dca941bc",
   "metadata": {},
   "outputs": [],
   "source": []
  }
 ],
 "metadata": {
  "kernelspec": {
   "display_name": "Python 3 (ipykernel)",
   "language": "python",
   "name": "python3"
  },
  "language_info": {
   "codemirror_mode": {
    "name": "ipython",
    "version": 3
   },
   "file_extension": ".py",
   "mimetype": "text/x-python",
   "name": "python",
   "nbconvert_exporter": "python",
   "pygments_lexer": "ipython3",
   "version": "3.9.21"
  }
 },
 "nbformat": 4,
 "nbformat_minor": 5
}
