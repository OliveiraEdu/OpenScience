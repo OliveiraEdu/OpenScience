{
 "cells": [
  {
   "cell_type": "markdown",
   "id": "0e9fb879-04c1-42e6-98e2-a10fad6cd6fc",
   "metadata": {},
   "source": [
    "# Artifact - Diagrams"
   ]
  },
  {
   "cell_type": "markdown",
   "id": "567f74ac-9e6b-477a-a6ec-5a1b06ceb64e",
   "metadata": {},
   "source": [
    "```mermaid\n",
    "flowchart TD\n",
    "    subgraph Platform\n",
    "        A[User]\n",
    "        B[Project]\n",
    "        C[Project Materials]\n",
    "        D[Metadata]\n",
    "        E[File]\n",
    "        F[File Metadata]\n",
    "        G[Project Owner]\n",
    "    end\n",
    "    \n",
    "    subgraph Blockchain\n",
    "        H[User Account]\n",
    "        I[Atributes]\n",
    "        J[Project Account]\n",
    "        K[Attributes]\n",
    "        S[Decentralized Nodes]\n",
    "    end\n",
    "\n",
    "    subgraph IPFS\n",
    "        L[Decentralized Nodes]\n",
    "        M[File]\n",
    "        N[File Metadata]\n",
    "        O[File CID]\n",
    "        P[Project Metadata]\n",
    "        Q[Project Metadata CID]\n",
    "        R[File Metadata CID]\n",
    "    end\n",
    "\n",
    "\n",
    "    A -->|Registers| B\n",
    "    B -->|Has| C\n",
    "    C -->|Has| D\n",
    "    C -->|Has| E\n",
    "    C -->|Has| F\n",
    "    A -->|Is| G\n",
    "    A -->|Instantiates| H\n",
    "    H -->|Has| I\n",
    "    J -->|Has| K\n",
    "    B -->|Instantiates| J\n",
    "    G <-->|Links| K\n",
    "    D -->|Is stored at| P\n",
    "    E -->|Is stored at| M\n",
    "    F -->|Is stored at| N\n",
    "    M -->|Generates| O\n",
    "    P -->|Generates| Q\n",
    "    N -->|Generates| R\n",
    "    O -->|Stores| K\n",
    "    Q -->|Stores| K\n",
    "    R -->|Stores| K"
   ]
  }
 ],
 "metadata": {
  "kernelspec": {
   "display_name": "Python 3 (ipykernel)",
   "language": "python",
   "name": "python3"
  },
  "language_info": {
   "codemirror_mode": {
    "name": "ipython",
    "version": 3
   },
   "file_extension": ".py",
   "mimetype": "text/x-python",
   "name": "python",
   "nbconvert_exporter": "python",
   "pygments_lexer": "ipython3",
   "version": "3.9.19"
  }
 },
 "nbformat": 4,
 "nbformat_minor": 5
}
