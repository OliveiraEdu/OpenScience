{
 "cells": [
  {
   "cell_type": "code",
   "execution_count": 5,
   "id": "f19bf297-2109-4287-9f86-7528413bb081",
   "metadata": {},
   "outputs": [
    {
     "name": "stdout",
     "output_type": "stream",
     "text": [
      "File metadata saved to file_metadata.json\n"
     ]
    }
   ],
   "source": [
    "import os\n",
    "import json\n",
    "import stat\n",
    "import datetime\n",
    "\n",
    "def get_file_metadata(file_path):\n",
    "    # Get file stats (permissions, size, last modified time)\n",
    "    file_stats = os.stat(file_path)\n",
    "\n",
    "    # Get file metadata (owner, group, permissions, last modified date/time)\n",
    "    file_metadata = {\n",
    "        'file_name': os.path.basename(file_path),\n",
    "        'path': file_path,\n",
    "        'size': file_stats.st_size,\n",
    "        'permissions': oct(stat.S_IMODE(file_stats.st_mode))[2:],\n",
    "        'last_modified_time': datetime.datetime.fromtimestamp(file_stats.st_mtime).strftime('%Y-%m-%d %H:%M:%S')\n",
    "    }\n",
    "\n",
    "    return file_metadata\n",
    "\n",
    "def save_file_metadata_to_json(file_path, metadata):\n",
    "    # Save file metadata to JSON file\n",
    "    with open('file_metadata.json', 'w') as f:\n",
    "        json.dump(metadata, f)\n",
    "\n",
    "# Specify the file path\n",
    "file_path = 'datasets/accounts.csv'\n",
    "\n",
    "# Get and store file metadata in a JSON file\n",
    "metadata = get_file_metadata(file_path)\n",
    "save_file_metadata_to_json(file_path, metadata)\n",
    "\n",
    "print(\"File metadata saved to file_metadata.json\")"
   ]
  },
  {
   "cell_type": "code",
   "execution_count": null,
   "id": "1cee1478-e900-41e1-8183-6d27acdbb0f9",
   "metadata": {},
   "outputs": [],
   "source": []
  }
 ],
 "metadata": {
  "kernelspec": {
   "display_name": "Python 3 (ipykernel)",
   "language": "python",
   "name": "python3"
  },
  "language_info": {
   "codemirror_mode": {
    "name": "ipython",
    "version": 3
   },
   "file_extension": ".py",
   "mimetype": "text/x-python",
   "name": "python",
   "nbconvert_exporter": "python",
   "pygments_lexer": "ipython3",
   "version": "3.9.19"
  }
 },
 "nbformat": 4,
 "nbformat_minor": 5
}
