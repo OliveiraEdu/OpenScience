{
 "cells": [
  {
   "cell_type": "code",
   "execution_count": 1,
   "id": "b27efec9",
   "metadata": {},
   "outputs": [],
   "source": [
    "from new_helper import *\n",
    "from super_helper import *"
   ]
  },
  {
   "cell_type": "code",
   "execution_count": 2,
   "id": "79650b49",
   "metadata": {},
   "outputs": [
    {
     "name": "stdout",
     "output_type": "stream",
     "text": [
      "----------------------------------------\n"
     ]
    }
   ],
   "source": [
    "id = \"06535\"\n",
    "DOMAIN = \"test\"\n",
    "\n",
    "project_id = f\"{id}@{DOMAIN}\"\n",
    "\n",
    "directory_path = \"upload\"\n",
    "\n",
    "print(40*\"-\")\n",
    "\n"
   ]
  },
  {
   "cell_type": "code",
   "execution_count": 3,
   "id": "4d0d0bcb",
   "metadata": {},
   "outputs": [
    {
     "name": "stdout",
     "output_type": "stream",
     "text": [
      "<Schema: ['abstract', 'created', 'creator', 'date', 'description', 'file_cid', 'format', 'full_text', 'language', 'metadata_cid', 'modified', 'project_id', 'publisher', 'subject', 'title']>\n",
      "file path:  upload/Integration Test.ipynb\n",
      "file name:  Integration Test.ipynb\n",
      "file cid:  QmVk8gxENq6PThSGZTuk7RtbufR2XeN7LtXBj2LVTUoAdN\n",
      "file metadata cid:  QmRxGqNkpdBVeq2GmfbK2ZbW1oZyX14VtiYRZnmSq6nnm7\n",
      "file_key : file_1\n",
      "joined_cids : QmVk8gxENq6PThSGZTuk7RtbufR2XeN7LtXBj2LVTUoAdN, QmRxGqNkpdBVeq2GmfbK2ZbW1oZyX14VtiYRZnmSq6nnm7\n",
      "\tEntering \"create_contract\"\n",
      "('STATELESS_VALIDATION_SUCCESS', 1, 0)\n",
      "('ENOUGH_SIGNATURES_COLLECTED', 9, 0)\n",
      "('STATEFUL_VALIDATION_SUCCESS', 3, 0)\n",
      "('COMMITTED', 5, 0)\n",
      "\tLeaving \"create_contract\"\n",
      "\tEntering \"get_engine_receipts_address\"\n",
      "\tLeaving \"get_engine_receipts_address\"\n",
      "\tEntering \"set_account_detail\"\n",
      "None\n",
      "('STATELESS_VALIDATION_SUCCESS', 1, 0)\n",
      "('ENOUGH_SIGNATURES_COLLECTED', 9, 0)\n"
     ]
    },
    {
     "name": "stderr",
     "output_type": "stream",
     "text": [
      "\u001b[32m2025-01-03 20:54:39.583\u001b[0m | \u001b[1mINFO    \u001b[0m | \u001b[36msuper_helper\u001b[0m:\u001b[36msetup_index\u001b[0m:\u001b[36m288\u001b[0m - \u001b[1mOpened existing index.\u001b[0m\n"
     ]
    },
    {
     "name": "stdout",
     "output_type": "stream",
     "text": [
      "('STATEFUL_VALIDATION_SUCCESS', 3, 0)\n",
      "('COMMITTED', 5, 0)\n",
      "\tLeaving \"set_account_detail\"\n",
      "hash : b'8e6e2de8b491c0628e1abae4caa324989883addeeb70ca5d8fac15040aca569f'\n"
     ]
    },
    {
     "name": "stderr",
     "output_type": "stream",
     "text": [
      "\u001b[32m2025-01-03 20:54:40.607\u001b[0m | \u001b[1mINFO    \u001b[0m | \u001b[36msuper_helper\u001b[0m:\u001b[36mindex_metadata\u001b[0m:\u001b[36m98\u001b[0m - \u001b[1mMetadata indexed successfully: QmRxGqNkpdBVeq2GmfbK2ZbW1oZyX14VtiYRZnmSq6nnm7\u001b[0m\n"
     ]
    },
    {
     "name": "stdout",
     "output_type": "stream",
     "text": [
      "This is ix:  FileIndex(FileStorage('indexdir'), 'MAIN')\n",
      "file path:  upload/Diabetic-retinopathy-identification-using-parallel-convo_2023_Expert-Systems.pdf\n",
      "file name:  Diabetic-retinopathy-identification-using-parallel-convo_2023_Expert-Systems.pdf\n",
      "file cid:  QmT7ximApXtExAedhzUHGHDwRismRzuKykpH4dgTvGrNZs\n",
      "file metadata cid:  Qmdx66C5eMBgBw1NxB6hdxAc6v9g2ctGPZMPnYED4JYSYe\n",
      "file_key : file_2\n",
      "joined_cids : QmT7ximApXtExAedhzUHGHDwRismRzuKykpH4dgTvGrNZs, Qmdx66C5eMBgBw1NxB6hdxAc6v9g2ctGPZMPnYED4JYSYe\n",
      "\tEntering \"set_account_detail\"\n",
      "None\n",
      "('STATELESS_VALIDATION_SUCCESS', 1, 0)\n",
      "('ENOUGH_SIGNATURES_COLLECTED', 9, 0)\n"
     ]
    },
    {
     "name": "stderr",
     "output_type": "stream",
     "text": [
      "\u001b[32m2025-01-03 20:54:42.616\u001b[0m | \u001b[1mINFO    \u001b[0m | \u001b[36msuper_helper\u001b[0m:\u001b[36msetup_index\u001b[0m:\u001b[36m288\u001b[0m - \u001b[1mOpened existing index.\u001b[0m\n",
      "\u001b[32m2025-01-03 20:54:42.776\u001b[0m | \u001b[1mINFO    \u001b[0m | \u001b[36msuper_helper\u001b[0m:\u001b[36mindex_metadata\u001b[0m:\u001b[36m98\u001b[0m - \u001b[1mMetadata indexed successfully: Qmdx66C5eMBgBw1NxB6hdxAc6v9g2ctGPZMPnYED4JYSYe\u001b[0m\n"
     ]
    },
    {
     "name": "stdout",
     "output_type": "stream",
     "text": [
      "('STATEFUL_VALIDATION_SUCCESS', 3, 0)\n",
      "('COMMITTED', 5, 0)\n",
      "\tLeaving \"set_account_detail\"\n",
      "hash : b'd842eb09f8e5dcd51ae2060a865344300a715ed952d0013c04d5407e2ba0fdda'\n",
      "This is ix:  FileIndex(FileStorage('indexdir'), 'MAIN')\n",
      "file path:  upload/Editorial-Board_2023_Expert-Systems-with-Applications.pdf\n",
      "file name:  Editorial-Board_2023_Expert-Systems-with-Applications.pdf\n",
      "file cid:  QmZnh5Uuo7moZKMESFHpRjQFbbND5e3nArCzZg8uLARAgg\n",
      "file metadata cid:  QmXgwRkPFxG2FWQTbVGgKsaEz7thbg4WLBcndsRfKUfeaa\n",
      "file_key : file_3\n",
      "joined_cids : QmZnh5Uuo7moZKMESFHpRjQFbbND5e3nArCzZg8uLARAgg, QmXgwRkPFxG2FWQTbVGgKsaEz7thbg4WLBcndsRfKUfeaa\n",
      "\tEntering \"set_account_detail\"\n",
      "None\n",
      "('STATELESS_VALIDATION_SUCCESS', 1, 0)\n",
      "('ENOUGH_SIGNATURES_COLLECTED', 9, 0)\n"
     ]
    },
    {
     "name": "stderr",
     "output_type": "stream",
     "text": [
      "\u001b[32m2025-01-03 20:54:45.662\u001b[0m | \u001b[1mINFO    \u001b[0m | \u001b[36msuper_helper\u001b[0m:\u001b[36msetup_index\u001b[0m:\u001b[36m288\u001b[0m - \u001b[1mOpened existing index.\u001b[0m\n",
      "\u001b[32m2025-01-03 20:54:45.740\u001b[0m | \u001b[1mINFO    \u001b[0m | \u001b[36msuper_helper\u001b[0m:\u001b[36mindex_metadata\u001b[0m:\u001b[36m98\u001b[0m - \u001b[1mMetadata indexed successfully: QmXgwRkPFxG2FWQTbVGgKsaEz7thbg4WLBcndsRfKUfeaa\u001b[0m\n"
     ]
    },
    {
     "name": "stdout",
     "output_type": "stream",
     "text": [
      "('STATEFUL_VALIDATION_SUCCESS', 3, 0)\n",
      "('COMMITTED', 5, 0)\n",
      "\tLeaving \"set_account_detail\"\n",
      "hash : b'9d6a9edfd44082a089b93070203440dd07c319e4715f06f9aee7e4e0681669c6'\n",
      "This is ix:  FileIndex(FileStorage('indexdir'), 'MAIN')\n",
      "file path:  upload/COVID19-MLSF--A-multi-task-learning-based-stock-market_2023_Expert-Systems-w.pdf\n",
      "file name:  COVID19-MLSF--A-multi-task-learning-based-stock-market_2023_Expert-Systems-w.pdf\n",
      "file cid:  QmUq29KRwpTdvScB5oYzEDobDHyb4N1f9eaZXm4VaMCgiW\n",
      "file metadata cid:  QmedM2sDbqRi5VmoWAUvwbuPrtSkLjHzYqor4FWK4223FV\n",
      "file_key : file_4\n",
      "joined_cids : QmUq29KRwpTdvScB5oYzEDobDHyb4N1f9eaZXm4VaMCgiW, QmedM2sDbqRi5VmoWAUvwbuPrtSkLjHzYqor4FWK4223FV\n",
      "\tEntering \"set_account_detail\"\n",
      "None\n",
      "('STATELESS_VALIDATION_SUCCESS', 1, 0)\n",
      "('ENOUGH_SIGNATURES_COLLECTED', 9, 0)\n"
     ]
    },
    {
     "name": "stderr",
     "output_type": "stream",
     "text": [
      "\u001b[32m2025-01-03 20:54:48.709\u001b[0m | \u001b[1mINFO    \u001b[0m | \u001b[36msuper_helper\u001b[0m:\u001b[36msetup_index\u001b[0m:\u001b[36m288\u001b[0m - \u001b[1mOpened existing index.\u001b[0m\n",
      "\u001b[32m2025-01-03 20:54:48.874\u001b[0m | \u001b[1mINFO    \u001b[0m | \u001b[36msuper_helper\u001b[0m:\u001b[36mindex_metadata\u001b[0m:\u001b[36m98\u001b[0m - \u001b[1mMetadata indexed successfully: QmedM2sDbqRi5VmoWAUvwbuPrtSkLjHzYqor4FWK4223FV\u001b[0m\n"
     ]
    },
    {
     "name": "stdout",
     "output_type": "stream",
     "text": [
      "('STATEFUL_VALIDATION_SUCCESS', 3, 0)\n",
      "('COMMITTED', 5, 0)\n",
      "\tLeaving \"set_account_detail\"\n",
      "hash : b'4a614bf259de068c59bd6aa955ee2db1ee91b94492711e96a9f40ad064f59c16'\n",
      "This is ix:  FileIndex(FileStorage('indexdir'), 'MAIN')\n",
      "file path:  upload/Deep-learning-in-insurance--Accuracy-and-model-int_2023_Expert-Systems-with-.pdf\n",
      "file name:  Deep-learning-in-insurance--Accuracy-and-model-int_2023_Expert-Systems-with-.pdf\n",
      "file cid:  QmV1vYkuiwKGPA5Tyi4ECNFfWYocyTtQ3E5j7CSvPBX49Q\n",
      "file metadata cid:  QmeVGyHTArPSs2psP26Akwi69ZbGNN7J8Tri7JzMfSJsFN\n",
      "file_key : file_5\n",
      "joined_cids : QmV1vYkuiwKGPA5Tyi4ECNFfWYocyTtQ3E5j7CSvPBX49Q, QmeVGyHTArPSs2psP26Akwi69ZbGNN7J8Tri7JzMfSJsFN\n",
      "\tEntering \"set_account_detail\"\n",
      "None\n",
      "('STATELESS_VALIDATION_SUCCESS', 1, 0)\n",
      "('ENOUGH_SIGNATURES_COLLECTED', 9, 0)\n"
     ]
    },
    {
     "name": "stderr",
     "output_type": "stream",
     "text": [
      "\u001b[32m2025-01-03 20:54:51.760\u001b[0m | \u001b[1mINFO    \u001b[0m | \u001b[36msuper_helper\u001b[0m:\u001b[36msetup_index\u001b[0m:\u001b[36m288\u001b[0m - \u001b[1mOpened existing index.\u001b[0m\n",
      "\u001b[32m2025-01-03 20:54:51.899\u001b[0m | \u001b[1mINFO    \u001b[0m | \u001b[36msuper_helper\u001b[0m:\u001b[36mindex_metadata\u001b[0m:\u001b[36m98\u001b[0m - \u001b[1mMetadata indexed successfully: QmeVGyHTArPSs2psP26Akwi69ZbGNN7J8Tri7JzMfSJsFN\u001b[0m\n"
     ]
    },
    {
     "name": "stdout",
     "output_type": "stream",
     "text": [
      "('STATEFUL_VALIDATION_SUCCESS', 3, 0)\n",
      "('COMMITTED', 5, 0)\n",
      "\tLeaving \"set_account_detail\"\n",
      "hash : b'd04003507c4f94b831cfee8fd94fa9db272707b675c21a8b716595704e366ac2'\n",
      "This is ix:  FileIndex(FileStorage('indexdir'), 'MAIN')\n"
     ]
    }
   ],
   "source": [
    "\n",
    "\n",
    "schema = get_schema() #super_helper.py\n",
    "\n",
    "print(schema)\n",
    "\n",
    "processed_data = process_files(directory_path, project_id, schema) #new_helper.py\n",
    " \n",
    "    "
   ]
  },
  {
   "cell_type": "code",
   "execution_count": 4,
   "id": "96c16c27",
   "metadata": {},
   "outputs": [
    {
     "name": "stdout",
     "output_type": "stream",
     "text": [
      "06535@test { \"admin@test\" : { \"file_1\" : \"QmVk8gxENq6PThSGZTuk7RtbufR2XeN7LtXBj2LVTUoAdN, QmRxGqNkpdBVeq2GmfbK2ZbW1oZyX14VtiYRZnmSq6nnm7\", \"file_2\" : \"QmT7ximApXtExAedhzUHGHDwRismRzuKykpH4dgTvGrNZs, Qmdx66C5eMBgBw1NxB6hdxAc6v9g2ctGPZMPnYED4JYSYe\", \"file_3\" : \"QmZnh5Uuo7moZKMESFHpRjQFbbND5e3nArCzZg8uLARAgg, QmXgwRkPFxG2FWQTbVGgKsaEz7thbg4WLBcndsRfKUfeaa\", \"file_4\" : \"QmUq29KRwpTdvScB5oYzEDobDHyb4N1f9eaZXm4VaMCgiW, QmedM2sDbqRi5VmoWAUvwbuPrtSkLjHzYqor4FWK4223FV\", \"file_5\" : \"QmV1vYkuiwKGPA5Tyi4ECNFfWYocyTtQ3E5j7CSvPBX49Q, QmeVGyHTArPSs2psP26Akwi69ZbGNN7J8Tri7JzMfSJsFN\", \"linked_user\" : \"crazy_nash@test\", \"project_metadata_cid\" : \"QmbmyecKUbwCDFPt6Uddx411bCvefLiRXPxHs5vnYz4XZm\" } }\n"
     ]
    }
   ],
   "source": [
    "account_detail = get_account_detail(project_id)\n",
    "print(project_id, account_detail)\n"
   ]
  },
  {
   "cell_type": "code",
   "execution_count": 5,
   "id": "053afc13",
   "metadata": {},
   "outputs": [],
   "source": [
    "# recreate_index() #Controls the reset of the index manually"
   ]
  },
  {
   "cell_type": "code",
   "execution_count": 6,
   "id": "02b32910",
   "metadata": {},
   "outputs": [
    {
     "name": "stderr",
     "output_type": "stream",
     "text": [
      "\u001b[32m2025-01-03 20:54:52.130\u001b[0m | \u001b[1mINFO    \u001b[0m | \u001b[36msuper_helper\u001b[0m:\u001b[36msearch_index\u001b[0m:\u001b[36m116\u001b[0m - \u001b[1mStarting keyword search...\u001b[0m\n",
      "\u001b[32m2025-01-03 20:54:52.132\u001b[0m | \u001b[1mINFO    \u001b[0m | \u001b[36msuper_helper\u001b[0m:\u001b[36msearch_index\u001b[0m:\u001b[36m117\u001b[0m - \u001b[1mKeyword: 'paper'\u001b[0m\n",
      "\u001b[32m2025-01-03 20:54:52.178\u001b[0m | \u001b[1mINFO    \u001b[0m | \u001b[36msuper_helper\u001b[0m:\u001b[36msearch_index\u001b[0m:\u001b[36m128\u001b[0m - \u001b[1mSearch successful: Found 30 result(s).\u001b[0m\n",
      "\u001b[32m2025-01-03 20:54:52.182\u001b[0m | \u001b[1mINFO    \u001b[0m | \u001b[36msuper_helper\u001b[0m:\u001b[36msearch_index\u001b[0m:\u001b[36m130\u001b[0m - \u001b[1m1. Project Id: 06535@test, File CID: QmV1vYkuiwKGPA5Tyi4ECNFfWYocyTtQ3E5j7CSvPBX49Q, Metadata CID: QmSQGvPYaP8n53HALbGuAX5QfGu6zTFzpG6adWAsx5cAmW, Title: deep learning in insurance: accuracy and model interpretability using tabnet\u001b[0m\n",
      "\u001b[32m2025-01-03 20:54:52.186\u001b[0m | \u001b[1mINFO    \u001b[0m | \u001b[36msuper_helper\u001b[0m:\u001b[36msearch_index\u001b[0m:\u001b[36m130\u001b[0m - \u001b[1m2. Project Id: 06535@test, File CID: QmV1vYkuiwKGPA5Tyi4ECNFfWYocyTtQ3E5j7CSvPBX49Q, Metadata CID: QmfFa6RYjNWygojdBpFWzxYFW3Ea9Ldh4dNnAXteikNBFE, Title: deep learning in insurance: accuracy and model interpretability using tabnet\u001b[0m\n",
      "\u001b[32m2025-01-03 20:54:52.189\u001b[0m | \u001b[1mINFO    \u001b[0m | \u001b[36msuper_helper\u001b[0m:\u001b[36msearch_index\u001b[0m:\u001b[36m130\u001b[0m - \u001b[1m3. Project Id: 37887@test, File CID: QmV1vYkuiwKGPA5Tyi4ECNFfWYocyTtQ3E5j7CSvPBX49Q, Metadata CID: Qmb2oVa1Ukvh9mUgih8EoqgUeAPPUnLY73LHGenAH8o3Nc, Title: deep learning in insurance: accuracy and model interpretability using tabnet\u001b[0m\n",
      "\u001b[32m2025-01-03 20:54:52.192\u001b[0m | \u001b[1mINFO    \u001b[0m | \u001b[36msuper_helper\u001b[0m:\u001b[36msearch_index\u001b[0m:\u001b[36m130\u001b[0m - \u001b[1m4. Project Id: 37887@test, File CID: QmV1vYkuiwKGPA5Tyi4ECNFfWYocyTtQ3E5j7CSvPBX49Q, Metadata CID: QmbNv3CdwzFZZ3iaC8BGEjot2hmrenJ3jh2wdao1p5rwLZ, Title: deep learning in insurance: accuracy and model interpretability using tabnet\u001b[0m\n",
      "\u001b[32m2025-01-03 20:54:52.195\u001b[0m | \u001b[1mINFO    \u001b[0m | \u001b[36msuper_helper\u001b[0m:\u001b[36msearch_index\u001b[0m:\u001b[36m130\u001b[0m - \u001b[1m5. Project Id: 37887@test, File CID: QmV1vYkuiwKGPA5Tyi4ECNFfWYocyTtQ3E5j7CSvPBX49Q, Metadata CID: QmPeppmD2cn5B7Y5tk2QyMq7xXscdx6jtRaD1A9Zq9JU8y, Title: deep learning in insurance: accuracy and model interpretability using tabnet\u001b[0m\n",
      "\u001b[32m2025-01-03 20:54:52.198\u001b[0m | \u001b[1mINFO    \u001b[0m | \u001b[36msuper_helper\u001b[0m:\u001b[36msearch_index\u001b[0m:\u001b[36m130\u001b[0m - \u001b[1m6. Project Id: 37887@test, File CID: QmV1vYkuiwKGPA5Tyi4ECNFfWYocyTtQ3E5j7CSvPBX49Q, Metadata CID: QmSQGvPYaP8n53HALbGuAX5QfGu6zTFzpG6adWAsx5cAmW, Title: deep learning in insurance: accuracy and model interpretability using tabnet\u001b[0m\n",
      "\u001b[32m2025-01-03 20:54:52.201\u001b[0m | \u001b[1mINFO    \u001b[0m | \u001b[36msuper_helper\u001b[0m:\u001b[36msearch_index\u001b[0m:\u001b[36m130\u001b[0m - \u001b[1m7. Project Id: 37887@test, File CID: QmV1vYkuiwKGPA5Tyi4ECNFfWYocyTtQ3E5j7CSvPBX49Q, Metadata CID: QmZvKzsuNtg49WqQnCdKjaYLSCPWidepcPb6ufWkg6CzMy, Title: deep learning in insurance: accuracy and model interpretability using tabnet\u001b[0m\n",
      "\u001b[32m2025-01-03 20:54:52.203\u001b[0m | \u001b[1mINFO    \u001b[0m | \u001b[36msuper_helper\u001b[0m:\u001b[36msearch_index\u001b[0m:\u001b[36m130\u001b[0m - \u001b[1m8. Project Id: 37887@test, File CID: QmV1vYkuiwKGPA5Tyi4ECNFfWYocyTtQ3E5j7CSvPBX49Q, Metadata CID: QmZUche1vEJ19c314tbhPZXQWkFDDtYJeJ1nKg6pHxWwfj, Title: deep learning in insurance: accuracy and model interpretability using tabnet\u001b[0m\n",
      "\u001b[32m2025-01-03 20:54:52.206\u001b[0m | \u001b[1mINFO    \u001b[0m | \u001b[36msuper_helper\u001b[0m:\u001b[36msearch_index\u001b[0m:\u001b[36m130\u001b[0m - \u001b[1m9. Project Id: 37887@test, File CID: QmV1vYkuiwKGPA5Tyi4ECNFfWYocyTtQ3E5j7CSvPBX49Q, Metadata CID: QmSQGvPYaP8n53HALbGuAX5QfGu6zTFzpG6adWAsx5cAmW, Title: deep learning in insurance: accuracy and model interpretability using tabnet\u001b[0m\n",
      "\u001b[32m2025-01-03 20:54:52.209\u001b[0m | \u001b[1mINFO    \u001b[0m | \u001b[36msuper_helper\u001b[0m:\u001b[36msearch_index\u001b[0m:\u001b[36m130\u001b[0m - \u001b[1m10. Project Id: 06535@test, File CID: QmV1vYkuiwKGPA5Tyi4ECNFfWYocyTtQ3E5j7CSvPBX49Q, Metadata CID: QmeVGyHTArPSs2psP26Akwi69ZbGNN7J8Tri7JzMfSJsFN, Title: deep learning in insurance: accuracy and model interpretability using tabnet\u001b[0m\n",
      "\u001b[32m2025-01-03 20:54:52.212\u001b[0m | \u001b[1mINFO    \u001b[0m | \u001b[36msuper_helper\u001b[0m:\u001b[36msearch_index\u001b[0m:\u001b[36m130\u001b[0m - \u001b[1m11. Project Id: 06535@test, File CID: QmUq29KRwpTdvScB5oYzEDobDHyb4N1f9eaZXm4VaMCgiW, Metadata CID: QmbDa6tBa5HBWikEf2R74kuNzBAMKNhgc44HbcHajbNswT, Title: covid19-mlsf: a multi-task learning-based stock market forecasting framework during the covid-19 pandemic\u001b[0m\n",
      "\u001b[32m2025-01-03 20:54:52.215\u001b[0m | \u001b[1mINFO    \u001b[0m | \u001b[36msuper_helper\u001b[0m:\u001b[36msearch_index\u001b[0m:\u001b[36m130\u001b[0m - \u001b[1m12. Project Id: 06535@test, File CID: QmUq29KRwpTdvScB5oYzEDobDHyb4N1f9eaZXm4VaMCgiW, Metadata CID: QmQNaRSjBgPYWoAoDHtuankqaqN38iZEZrJYiLigpqyiXV, Title: covid19-mlsf: a multi-task learning-based stock market forecasting framework during the covid-19 pandemic\u001b[0m\n",
      "\u001b[32m2025-01-03 20:54:52.218\u001b[0m | \u001b[1mINFO    \u001b[0m | \u001b[36msuper_helper\u001b[0m:\u001b[36msearch_index\u001b[0m:\u001b[36m130\u001b[0m - \u001b[1m13. Project Id: 37887@test, File CID: QmUq29KRwpTdvScB5oYzEDobDHyb4N1f9eaZXm4VaMCgiW, Metadata CID: QmSPumufDMLPk1x7mUY6QCZaaCooNZmDjYqQsd2UQTQxti, Title: covid19-mlsf: a multi-task learning-based stock market forecasting framework during the covid-19 pandemic\u001b[0m\n",
      "\u001b[32m2025-01-03 20:54:52.221\u001b[0m | \u001b[1mINFO    \u001b[0m | \u001b[36msuper_helper\u001b[0m:\u001b[36msearch_index\u001b[0m:\u001b[36m130\u001b[0m - \u001b[1m14. Project Id: 37887@test, File CID: QmUq29KRwpTdvScB5oYzEDobDHyb4N1f9eaZXm4VaMCgiW, Metadata CID: QmbDa6tBa5HBWikEf2R74kuNzBAMKNhgc44HbcHajbNswT, Title: covid19-mlsf: a multi-task learning-based stock market forecasting framework during the covid-19 pandemic\u001b[0m\n",
      "\u001b[32m2025-01-03 20:54:52.224\u001b[0m | \u001b[1mINFO    \u001b[0m | \u001b[36msuper_helper\u001b[0m:\u001b[36msearch_index\u001b[0m:\u001b[36m130\u001b[0m - \u001b[1m15. Project Id: 37887@test, File CID: QmUq29KRwpTdvScB5oYzEDobDHyb4N1f9eaZXm4VaMCgiW, Metadata CID: Qmd1NaZKsfeF47LMX7a7DgkDUxUYi2ykQpKTbqYeVaVw62, Title: covid19-mlsf: a multi-task learning-based stock market forecasting framework during the covid-19 pandemic\u001b[0m\n",
      "\u001b[32m2025-01-03 20:54:52.227\u001b[0m | \u001b[1mINFO    \u001b[0m | \u001b[36msuper_helper\u001b[0m:\u001b[36msearch_index\u001b[0m:\u001b[36m130\u001b[0m - \u001b[1m16. Project Id: 37887@test, File CID: QmUq29KRwpTdvScB5oYzEDobDHyb4N1f9eaZXm4VaMCgiW, Metadata CID: QmVpjvVCh8PwFqQUaKNYt5CAFQ5uFWHs2JKMho2WvRe7p7, Title: covid19-mlsf: a multi-task learning-based stock market forecasting framework during the covid-19 pandemic\u001b[0m\n",
      "\u001b[32m2025-01-03 20:54:52.229\u001b[0m | \u001b[1mINFO    \u001b[0m | \u001b[36msuper_helper\u001b[0m:\u001b[36msearch_index\u001b[0m:\u001b[36m130\u001b[0m - \u001b[1m17. Project Id: 37887@test, File CID: QmUq29KRwpTdvScB5oYzEDobDHyb4N1f9eaZXm4VaMCgiW, Metadata CID: QmTZ9KucoLHCf6SgktDd8gJJpZGMDLJYXTN4V7nnUBUNFQ, Title: covid19-mlsf: a multi-task learning-based stock market forecasting framework during the covid-19 pandemic\u001b[0m\n",
      "\u001b[32m2025-01-03 20:54:52.232\u001b[0m | \u001b[1mINFO    \u001b[0m | \u001b[36msuper_helper\u001b[0m:\u001b[36msearch_index\u001b[0m:\u001b[36m130\u001b[0m - \u001b[1m18. Project Id: 37887@test, File CID: QmUq29KRwpTdvScB5oYzEDobDHyb4N1f9eaZXm4VaMCgiW, Metadata CID: QmWcdZFjgVaocJrPvDqKzf5KSFDcxypn5Ffyq9SNxQM1dN, Title: covid19-mlsf: a multi-task learning-based stock market forecasting framework during the covid-19 pandemic\u001b[0m\n",
      "\u001b[32m2025-01-03 20:54:52.236\u001b[0m | \u001b[1mINFO    \u001b[0m | \u001b[36msuper_helper\u001b[0m:\u001b[36msearch_index\u001b[0m:\u001b[36m130\u001b[0m - \u001b[1m19. Project Id: 37887@test, File CID: QmUq29KRwpTdvScB5oYzEDobDHyb4N1f9eaZXm4VaMCgiW, Metadata CID: Qme4JyFfsENc5s8XaqoxwGYdN2AXxRpMmXC249cyrK8ghN, Title: covid19-mlsf: a multi-task learning-based stock market forecasting framework during the covid-19 pandemic\u001b[0m\n",
      "\u001b[32m2025-01-03 20:54:52.239\u001b[0m | \u001b[1mINFO    \u001b[0m | \u001b[36msuper_helper\u001b[0m:\u001b[36msearch_index\u001b[0m:\u001b[36m130\u001b[0m - \u001b[1m20. Project Id: 06535@test, File CID: QmUq29KRwpTdvScB5oYzEDobDHyb4N1f9eaZXm4VaMCgiW, Metadata CID: QmedM2sDbqRi5VmoWAUvwbuPrtSkLjHzYqor4FWK4223FV, Title: covid19-mlsf: a multi-task learning-based stock market forecasting framework during the covid-19 pandemic\u001b[0m\n",
      "\u001b[32m2025-01-03 20:54:52.298\u001b[0m | \u001b[34m\u001b[1mDEBUG   \u001b[0m | \u001b[36msuper_helper\u001b[0m:\u001b[36mvalidate_file_cid\u001b[0m:\u001b[36m192\u001b[0m - \u001b[34m\u001b[1mValidating CID: QmV1vYkuiwKGPA5Tyi4ECNFfWYocyTtQ3E5j7CSvPBX49Q\u001b[0m\n",
      "\u001b[32m2025-01-03 20:54:52.298\u001b[0m | \u001b[34m\u001b[1mDEBUG   \u001b[0m | \u001b[36msuper_helper\u001b[0m:\u001b[36mvalidate_file_cid\u001b[0m:\u001b[36m200\u001b[0m - \u001b[34m\u001b[1mCID QmV1vYkuiwKGPA5Tyi4ECNFfWYocyTtQ3E5j7CSvPBX49Q found in file_5.\u001b[0m\n",
      "\u001b[32m2025-01-03 20:54:52.313\u001b[0m | \u001b[34m\u001b[1mDEBUG   \u001b[0m | \u001b[36msuper_helper\u001b[0m:\u001b[36mvalidate_file_cid\u001b[0m:\u001b[36m192\u001b[0m - \u001b[34m\u001b[1mValidating CID: QmV1vYkuiwKGPA5Tyi4ECNFfWYocyTtQ3E5j7CSvPBX49Q\u001b[0m\n",
      "\u001b[32m2025-01-03 20:54:52.315\u001b[0m | \u001b[34m\u001b[1mDEBUG   \u001b[0m | \u001b[36msuper_helper\u001b[0m:\u001b[36mvalidate_file_cid\u001b[0m:\u001b[36m200\u001b[0m - \u001b[34m\u001b[1mCID QmV1vYkuiwKGPA5Tyi4ECNFfWYocyTtQ3E5j7CSvPBX49Q found in file_5.\u001b[0m\n",
      "\u001b[32m2025-01-03 20:54:52.332\u001b[0m | \u001b[34m\u001b[1mDEBUG   \u001b[0m | \u001b[36msuper_helper\u001b[0m:\u001b[36mvalidate_file_cid\u001b[0m:\u001b[36m192\u001b[0m - \u001b[34m\u001b[1mValidating CID: QmV1vYkuiwKGPA5Tyi4ECNFfWYocyTtQ3E5j7CSvPBX49Q\u001b[0m\n",
      "\u001b[32m2025-01-03 20:54:52.333\u001b[0m | \u001b[34m\u001b[1mDEBUG   \u001b[0m | \u001b[36msuper_helper\u001b[0m:\u001b[36mvalidate_file_cid\u001b[0m:\u001b[36m200\u001b[0m - \u001b[34m\u001b[1mCID QmV1vYkuiwKGPA5Tyi4ECNFfWYocyTtQ3E5j7CSvPBX49Q found in file_5.\u001b[0m\n",
      "\u001b[32m2025-01-03 20:54:52.350\u001b[0m | \u001b[34m\u001b[1mDEBUG   \u001b[0m | \u001b[36msuper_helper\u001b[0m:\u001b[36mvalidate_file_cid\u001b[0m:\u001b[36m192\u001b[0m - \u001b[34m\u001b[1mValidating CID: QmV1vYkuiwKGPA5Tyi4ECNFfWYocyTtQ3E5j7CSvPBX49Q\u001b[0m\n",
      "\u001b[32m2025-01-03 20:54:52.351\u001b[0m | \u001b[34m\u001b[1mDEBUG   \u001b[0m | \u001b[36msuper_helper\u001b[0m:\u001b[36mvalidate_file_cid\u001b[0m:\u001b[36m200\u001b[0m - \u001b[34m\u001b[1mCID QmV1vYkuiwKGPA5Tyi4ECNFfWYocyTtQ3E5j7CSvPBX49Q found in file_5.\u001b[0m\n",
      "\u001b[32m2025-01-03 20:54:52.369\u001b[0m | \u001b[34m\u001b[1mDEBUG   \u001b[0m | \u001b[36msuper_helper\u001b[0m:\u001b[36mvalidate_file_cid\u001b[0m:\u001b[36m192\u001b[0m - \u001b[34m\u001b[1mValidating CID: QmV1vYkuiwKGPA5Tyi4ECNFfWYocyTtQ3E5j7CSvPBX49Q\u001b[0m\n",
      "\u001b[32m2025-01-03 20:54:52.370\u001b[0m | \u001b[34m\u001b[1mDEBUG   \u001b[0m | \u001b[36msuper_helper\u001b[0m:\u001b[36mvalidate_file_cid\u001b[0m:\u001b[36m200\u001b[0m - \u001b[34m\u001b[1mCID QmV1vYkuiwKGPA5Tyi4ECNFfWYocyTtQ3E5j7CSvPBX49Q found in file_5.\u001b[0m\n",
      "\u001b[32m2025-01-03 20:54:52.388\u001b[0m | \u001b[34m\u001b[1mDEBUG   \u001b[0m | \u001b[36msuper_helper\u001b[0m:\u001b[36mvalidate_file_cid\u001b[0m:\u001b[36m192\u001b[0m - \u001b[34m\u001b[1mValidating CID: QmV1vYkuiwKGPA5Tyi4ECNFfWYocyTtQ3E5j7CSvPBX49Q\u001b[0m\n",
      "\u001b[32m2025-01-03 20:54:52.389\u001b[0m | \u001b[34m\u001b[1mDEBUG   \u001b[0m | \u001b[36msuper_helper\u001b[0m:\u001b[36mvalidate_file_cid\u001b[0m:\u001b[36m200\u001b[0m - \u001b[34m\u001b[1mCID QmV1vYkuiwKGPA5Tyi4ECNFfWYocyTtQ3E5j7CSvPBX49Q found in file_5.\u001b[0m\n",
      "\u001b[32m2025-01-03 20:54:52.406\u001b[0m | \u001b[34m\u001b[1mDEBUG   \u001b[0m | \u001b[36msuper_helper\u001b[0m:\u001b[36mvalidate_file_cid\u001b[0m:\u001b[36m192\u001b[0m - \u001b[34m\u001b[1mValidating CID: QmV1vYkuiwKGPA5Tyi4ECNFfWYocyTtQ3E5j7CSvPBX49Q\u001b[0m\n",
      "\u001b[32m2025-01-03 20:54:52.407\u001b[0m | \u001b[34m\u001b[1mDEBUG   \u001b[0m | \u001b[36msuper_helper\u001b[0m:\u001b[36mvalidate_file_cid\u001b[0m:\u001b[36m200\u001b[0m - \u001b[34m\u001b[1mCID QmV1vYkuiwKGPA5Tyi4ECNFfWYocyTtQ3E5j7CSvPBX49Q found in file_5.\u001b[0m\n",
      "\u001b[32m2025-01-03 20:54:52.423\u001b[0m | \u001b[34m\u001b[1mDEBUG   \u001b[0m | \u001b[36msuper_helper\u001b[0m:\u001b[36mvalidate_file_cid\u001b[0m:\u001b[36m192\u001b[0m - \u001b[34m\u001b[1mValidating CID: QmV1vYkuiwKGPA5Tyi4ECNFfWYocyTtQ3E5j7CSvPBX49Q\u001b[0m\n",
      "\u001b[32m2025-01-03 20:54:52.424\u001b[0m | \u001b[34m\u001b[1mDEBUG   \u001b[0m | \u001b[36msuper_helper\u001b[0m:\u001b[36mvalidate_file_cid\u001b[0m:\u001b[36m200\u001b[0m - \u001b[34m\u001b[1mCID QmV1vYkuiwKGPA5Tyi4ECNFfWYocyTtQ3E5j7CSvPBX49Q found in file_5.\u001b[0m\n",
      "\u001b[32m2025-01-03 20:54:52.440\u001b[0m | \u001b[34m\u001b[1mDEBUG   \u001b[0m | \u001b[36msuper_helper\u001b[0m:\u001b[36mvalidate_file_cid\u001b[0m:\u001b[36m192\u001b[0m - \u001b[34m\u001b[1mValidating CID: QmV1vYkuiwKGPA5Tyi4ECNFfWYocyTtQ3E5j7CSvPBX49Q\u001b[0m\n",
      "\u001b[32m2025-01-03 20:54:52.441\u001b[0m | \u001b[34m\u001b[1mDEBUG   \u001b[0m | \u001b[36msuper_helper\u001b[0m:\u001b[36mvalidate_file_cid\u001b[0m:\u001b[36m200\u001b[0m - \u001b[34m\u001b[1mCID QmV1vYkuiwKGPA5Tyi4ECNFfWYocyTtQ3E5j7CSvPBX49Q found in file_5.\u001b[0m\n",
      "\u001b[32m2025-01-03 20:54:52.457\u001b[0m | \u001b[34m\u001b[1mDEBUG   \u001b[0m | \u001b[36msuper_helper\u001b[0m:\u001b[36mvalidate_file_cid\u001b[0m:\u001b[36m192\u001b[0m - \u001b[34m\u001b[1mValidating CID: QmV1vYkuiwKGPA5Tyi4ECNFfWYocyTtQ3E5j7CSvPBX49Q\u001b[0m\n",
      "\u001b[32m2025-01-03 20:54:52.458\u001b[0m | \u001b[34m\u001b[1mDEBUG   \u001b[0m | \u001b[36msuper_helper\u001b[0m:\u001b[36mvalidate_file_cid\u001b[0m:\u001b[36m200\u001b[0m - \u001b[34m\u001b[1mCID QmV1vYkuiwKGPA5Tyi4ECNFfWYocyTtQ3E5j7CSvPBX49Q found in file_5.\u001b[0m\n",
      "\u001b[32m2025-01-03 20:54:52.474\u001b[0m | \u001b[34m\u001b[1mDEBUG   \u001b[0m | \u001b[36msuper_helper\u001b[0m:\u001b[36mvalidate_file_cid\u001b[0m:\u001b[36m192\u001b[0m - \u001b[34m\u001b[1mValidating CID: QmUq29KRwpTdvScB5oYzEDobDHyb4N1f9eaZXm4VaMCgiW\u001b[0m\n",
      "\u001b[32m2025-01-03 20:54:52.475\u001b[0m | \u001b[34m\u001b[1mDEBUG   \u001b[0m | \u001b[36msuper_helper\u001b[0m:\u001b[36mvalidate_file_cid\u001b[0m:\u001b[36m200\u001b[0m - \u001b[34m\u001b[1mCID QmUq29KRwpTdvScB5oYzEDobDHyb4N1f9eaZXm4VaMCgiW found in file_4.\u001b[0m\n",
      "\u001b[32m2025-01-03 20:54:52.491\u001b[0m | \u001b[34m\u001b[1mDEBUG   \u001b[0m | \u001b[36msuper_helper\u001b[0m:\u001b[36mvalidate_file_cid\u001b[0m:\u001b[36m192\u001b[0m - \u001b[34m\u001b[1mValidating CID: QmUq29KRwpTdvScB5oYzEDobDHyb4N1f9eaZXm4VaMCgiW\u001b[0m\n",
      "\u001b[32m2025-01-03 20:54:52.492\u001b[0m | \u001b[34m\u001b[1mDEBUG   \u001b[0m | \u001b[36msuper_helper\u001b[0m:\u001b[36mvalidate_file_cid\u001b[0m:\u001b[36m200\u001b[0m - \u001b[34m\u001b[1mCID QmUq29KRwpTdvScB5oYzEDobDHyb4N1f9eaZXm4VaMCgiW found in file_4.\u001b[0m\n"
     ]
    },
    {
     "name": "stdout",
     "output_type": "stream",
     "text": [
      "06535@test\n",
      "QmV1vYkuiwKGPA5Tyi4ECNFfWYocyTtQ3E5j7CSvPBX49Q\n",
      "QmSQGvPYaP8n53HALbGuAX5QfGu6zTFzpG6adWAsx5cAmW\n",
      "{ \"admin@test\" : { \"file_1\" : \"QmVk8gxENq6PThSGZTuk7RtbufR2XeN7LtXBj2LVTUoAdN, QmRxGqNkpdBVeq2GmfbK2ZbW1oZyX14VtiYRZnmSq6nnm7\", \"file_2\" : \"QmT7ximApXtExAedhzUHGHDwRismRzuKykpH4dgTvGrNZs, Qmdx66C5eMBgBw1NxB6hdxAc6v9g2ctGPZMPnYED4JYSYe\", \"file_3\" : \"QmZnh5Uuo7moZKMESFHpRjQFbbND5e3nArCzZg8uLARAgg, QmXgwRkPFxG2FWQTbVGgKsaEz7thbg4WLBcndsRfKUfeaa\", \"file_4\" : \"QmUq29KRwpTdvScB5oYzEDobDHyb4N1f9eaZXm4VaMCgiW, QmedM2sDbqRi5VmoWAUvwbuPrtSkLjHzYqor4FWK4223FV\", \"file_5\" : \"QmV1vYkuiwKGPA5Tyi4ECNFfWYocyTtQ3E5j7CSvPBX49Q, QmeVGyHTArPSs2psP26Akwi69ZbGNN7J8Tri7JzMfSJsFN\", \"linked_user\" : \"crazy_nash@test\", \"project_metadata_cid\" : \"QmbmyecKUbwCDFPt6Uddx411bCvefLiRXPxHs5vnYz4XZm\" } }\n",
      "File is valid.\n",
      "06535@test\n",
      "QmV1vYkuiwKGPA5Tyi4ECNFfWYocyTtQ3E5j7CSvPBX49Q\n",
      "QmfFa6RYjNWygojdBpFWzxYFW3Ea9Ldh4dNnAXteikNBFE\n",
      "{ \"admin@test\" : { \"file_1\" : \"QmVk8gxENq6PThSGZTuk7RtbufR2XeN7LtXBj2LVTUoAdN, QmRxGqNkpdBVeq2GmfbK2ZbW1oZyX14VtiYRZnmSq6nnm7\", \"file_2\" : \"QmT7ximApXtExAedhzUHGHDwRismRzuKykpH4dgTvGrNZs, Qmdx66C5eMBgBw1NxB6hdxAc6v9g2ctGPZMPnYED4JYSYe\", \"file_3\" : \"QmZnh5Uuo7moZKMESFHpRjQFbbND5e3nArCzZg8uLARAgg, QmXgwRkPFxG2FWQTbVGgKsaEz7thbg4WLBcndsRfKUfeaa\", \"file_4\" : \"QmUq29KRwpTdvScB5oYzEDobDHyb4N1f9eaZXm4VaMCgiW, QmedM2sDbqRi5VmoWAUvwbuPrtSkLjHzYqor4FWK4223FV\", \"file_5\" : \"QmV1vYkuiwKGPA5Tyi4ECNFfWYocyTtQ3E5j7CSvPBX49Q, QmeVGyHTArPSs2psP26Akwi69ZbGNN7J8Tri7JzMfSJsFN\", \"linked_user\" : \"crazy_nash@test\", \"project_metadata_cid\" : \"QmbmyecKUbwCDFPt6Uddx411bCvefLiRXPxHs5vnYz4XZm\" } }\n",
      "File is valid.\n",
      "37887@test\n",
      "QmV1vYkuiwKGPA5Tyi4ECNFfWYocyTtQ3E5j7CSvPBX49Q\n",
      "Qmb2oVa1Ukvh9mUgih8EoqgUeAPPUnLY73LHGenAH8o3Nc\n",
      "{ \"admin@test\" : { \"file_1\" : \"QmVk8gxENq6PThSGZTuk7RtbufR2XeN7LtXBj2LVTUoAdN, QmRxGqNkpdBVeq2GmfbK2ZbW1oZyX14VtiYRZnmSq6nnm7\", \"file_2\" : \"QmT7ximApXtExAedhzUHGHDwRismRzuKykpH4dgTvGrNZs, QmSCF9dc1p25xuKapk8kem2jJj3rG1U5L6vb72nhkMpr3h\", \"file_3\" : \"QmZnh5Uuo7moZKMESFHpRjQFbbND5e3nArCzZg8uLARAgg, QmXgwRkPFxG2FWQTbVGgKsaEz7thbg4WLBcndsRfKUfeaa\", \"file_4\" : \"QmUq29KRwpTdvScB5oYzEDobDHyb4N1f9eaZXm4VaMCgiW, QmSPumufDMLPk1x7mUY6QCZaaCooNZmDjYqQsd2UQTQxti\", \"file_5\" : \"QmV1vYkuiwKGPA5Tyi4ECNFfWYocyTtQ3E5j7CSvPBX49Q, Qmb2oVa1Ukvh9mUgih8EoqgUeAPPUnLY73LHGenAH8o3Nc\", \"project_metadata_cid\" : \"QmT1cPcYNcGntxCc2goVmkJuQG9EdVthjvG6SVNs7WCXc8\" } }\n",
      "File is valid.\n",
      "37887@test\n",
      "QmV1vYkuiwKGPA5Tyi4ECNFfWYocyTtQ3E5j7CSvPBX49Q\n",
      "QmbNv3CdwzFZZ3iaC8BGEjot2hmrenJ3jh2wdao1p5rwLZ\n",
      "{ \"admin@test\" : { \"file_1\" : \"QmVk8gxENq6PThSGZTuk7RtbufR2XeN7LtXBj2LVTUoAdN, QmRxGqNkpdBVeq2GmfbK2ZbW1oZyX14VtiYRZnmSq6nnm7\", \"file_2\" : \"QmT7ximApXtExAedhzUHGHDwRismRzuKykpH4dgTvGrNZs, QmSCF9dc1p25xuKapk8kem2jJj3rG1U5L6vb72nhkMpr3h\", \"file_3\" : \"QmZnh5Uuo7moZKMESFHpRjQFbbND5e3nArCzZg8uLARAgg, QmXgwRkPFxG2FWQTbVGgKsaEz7thbg4WLBcndsRfKUfeaa\", \"file_4\" : \"QmUq29KRwpTdvScB5oYzEDobDHyb4N1f9eaZXm4VaMCgiW, QmSPumufDMLPk1x7mUY6QCZaaCooNZmDjYqQsd2UQTQxti\", \"file_5\" : \"QmV1vYkuiwKGPA5Tyi4ECNFfWYocyTtQ3E5j7CSvPBX49Q, Qmb2oVa1Ukvh9mUgih8EoqgUeAPPUnLY73LHGenAH8o3Nc\", \"project_metadata_cid\" : \"QmT1cPcYNcGntxCc2goVmkJuQG9EdVthjvG6SVNs7WCXc8\" } }\n",
      "File is valid.\n",
      "37887@test\n",
      "QmV1vYkuiwKGPA5Tyi4ECNFfWYocyTtQ3E5j7CSvPBX49Q\n",
      "QmPeppmD2cn5B7Y5tk2QyMq7xXscdx6jtRaD1A9Zq9JU8y\n",
      "{ \"admin@test\" : { \"file_1\" : \"QmVk8gxENq6PThSGZTuk7RtbufR2XeN7LtXBj2LVTUoAdN, QmRxGqNkpdBVeq2GmfbK2ZbW1oZyX14VtiYRZnmSq6nnm7\", \"file_2\" : \"QmT7ximApXtExAedhzUHGHDwRismRzuKykpH4dgTvGrNZs, QmSCF9dc1p25xuKapk8kem2jJj3rG1U5L6vb72nhkMpr3h\", \"file_3\" : \"QmZnh5Uuo7moZKMESFHpRjQFbbND5e3nArCzZg8uLARAgg, QmXgwRkPFxG2FWQTbVGgKsaEz7thbg4WLBcndsRfKUfeaa\", \"file_4\" : \"QmUq29KRwpTdvScB5oYzEDobDHyb4N1f9eaZXm4VaMCgiW, QmSPumufDMLPk1x7mUY6QCZaaCooNZmDjYqQsd2UQTQxti\", \"file_5\" : \"QmV1vYkuiwKGPA5Tyi4ECNFfWYocyTtQ3E5j7CSvPBX49Q, Qmb2oVa1Ukvh9mUgih8EoqgUeAPPUnLY73LHGenAH8o3Nc\", \"project_metadata_cid\" : \"QmT1cPcYNcGntxCc2goVmkJuQG9EdVthjvG6SVNs7WCXc8\" } }\n",
      "File is valid.\n",
      "37887@test\n",
      "QmV1vYkuiwKGPA5Tyi4ECNFfWYocyTtQ3E5j7CSvPBX49Q\n",
      "QmSQGvPYaP8n53HALbGuAX5QfGu6zTFzpG6adWAsx5cAmW\n",
      "{ \"admin@test\" : { \"file_1\" : \"QmVk8gxENq6PThSGZTuk7RtbufR2XeN7LtXBj2LVTUoAdN, QmRxGqNkpdBVeq2GmfbK2ZbW1oZyX14VtiYRZnmSq6nnm7\", \"file_2\" : \"QmT7ximApXtExAedhzUHGHDwRismRzuKykpH4dgTvGrNZs, QmSCF9dc1p25xuKapk8kem2jJj3rG1U5L6vb72nhkMpr3h\", \"file_3\" : \"QmZnh5Uuo7moZKMESFHpRjQFbbND5e3nArCzZg8uLARAgg, QmXgwRkPFxG2FWQTbVGgKsaEz7thbg4WLBcndsRfKUfeaa\", \"file_4\" : \"QmUq29KRwpTdvScB5oYzEDobDHyb4N1f9eaZXm4VaMCgiW, QmSPumufDMLPk1x7mUY6QCZaaCooNZmDjYqQsd2UQTQxti\", \"file_5\" : \"QmV1vYkuiwKGPA5Tyi4ECNFfWYocyTtQ3E5j7CSvPBX49Q, Qmb2oVa1Ukvh9mUgih8EoqgUeAPPUnLY73LHGenAH8o3Nc\", \"project_metadata_cid\" : \"QmT1cPcYNcGntxCc2goVmkJuQG9EdVthjvG6SVNs7WCXc8\" } }\n",
      "File is valid.\n",
      "37887@test\n",
      "QmV1vYkuiwKGPA5Tyi4ECNFfWYocyTtQ3E5j7CSvPBX49Q\n",
      "QmZvKzsuNtg49WqQnCdKjaYLSCPWidepcPb6ufWkg6CzMy\n",
      "{ \"admin@test\" : { \"file_1\" : \"QmVk8gxENq6PThSGZTuk7RtbufR2XeN7LtXBj2LVTUoAdN, QmRxGqNkpdBVeq2GmfbK2ZbW1oZyX14VtiYRZnmSq6nnm7\", \"file_2\" : \"QmT7ximApXtExAedhzUHGHDwRismRzuKykpH4dgTvGrNZs, QmSCF9dc1p25xuKapk8kem2jJj3rG1U5L6vb72nhkMpr3h\", \"file_3\" : \"QmZnh5Uuo7moZKMESFHpRjQFbbND5e3nArCzZg8uLARAgg, QmXgwRkPFxG2FWQTbVGgKsaEz7thbg4WLBcndsRfKUfeaa\", \"file_4\" : \"QmUq29KRwpTdvScB5oYzEDobDHyb4N1f9eaZXm4VaMCgiW, QmSPumufDMLPk1x7mUY6QCZaaCooNZmDjYqQsd2UQTQxti\", \"file_5\" : \"QmV1vYkuiwKGPA5Tyi4ECNFfWYocyTtQ3E5j7CSvPBX49Q, Qmb2oVa1Ukvh9mUgih8EoqgUeAPPUnLY73LHGenAH8o3Nc\", \"project_metadata_cid\" : \"QmT1cPcYNcGntxCc2goVmkJuQG9EdVthjvG6SVNs7WCXc8\" } }\n",
      "File is valid.\n",
      "37887@test\n",
      "QmV1vYkuiwKGPA5Tyi4ECNFfWYocyTtQ3E5j7CSvPBX49Q\n",
      "QmZUche1vEJ19c314tbhPZXQWkFDDtYJeJ1nKg6pHxWwfj\n",
      "{ \"admin@test\" : { \"file_1\" : \"QmVk8gxENq6PThSGZTuk7RtbufR2XeN7LtXBj2LVTUoAdN, QmRxGqNkpdBVeq2GmfbK2ZbW1oZyX14VtiYRZnmSq6nnm7\", \"file_2\" : \"QmT7ximApXtExAedhzUHGHDwRismRzuKykpH4dgTvGrNZs, QmSCF9dc1p25xuKapk8kem2jJj3rG1U5L6vb72nhkMpr3h\", \"file_3\" : \"QmZnh5Uuo7moZKMESFHpRjQFbbND5e3nArCzZg8uLARAgg, QmXgwRkPFxG2FWQTbVGgKsaEz7thbg4WLBcndsRfKUfeaa\", \"file_4\" : \"QmUq29KRwpTdvScB5oYzEDobDHyb4N1f9eaZXm4VaMCgiW, QmSPumufDMLPk1x7mUY6QCZaaCooNZmDjYqQsd2UQTQxti\", \"file_5\" : \"QmV1vYkuiwKGPA5Tyi4ECNFfWYocyTtQ3E5j7CSvPBX49Q, Qmb2oVa1Ukvh9mUgih8EoqgUeAPPUnLY73LHGenAH8o3Nc\", \"project_metadata_cid\" : \"QmT1cPcYNcGntxCc2goVmkJuQG9EdVthjvG6SVNs7WCXc8\" } }\n",
      "File is valid.\n",
      "37887@test\n",
      "QmV1vYkuiwKGPA5Tyi4ECNFfWYocyTtQ3E5j7CSvPBX49Q\n",
      "QmSQGvPYaP8n53HALbGuAX5QfGu6zTFzpG6adWAsx5cAmW\n",
      "{ \"admin@test\" : { \"file_1\" : \"QmVk8gxENq6PThSGZTuk7RtbufR2XeN7LtXBj2LVTUoAdN, QmRxGqNkpdBVeq2GmfbK2ZbW1oZyX14VtiYRZnmSq6nnm7\", \"file_2\" : \"QmT7ximApXtExAedhzUHGHDwRismRzuKykpH4dgTvGrNZs, QmSCF9dc1p25xuKapk8kem2jJj3rG1U5L6vb72nhkMpr3h\", \"file_3\" : \"QmZnh5Uuo7moZKMESFHpRjQFbbND5e3nArCzZg8uLARAgg, QmXgwRkPFxG2FWQTbVGgKsaEz7thbg4WLBcndsRfKUfeaa\", \"file_4\" : \"QmUq29KRwpTdvScB5oYzEDobDHyb4N1f9eaZXm4VaMCgiW, QmSPumufDMLPk1x7mUY6QCZaaCooNZmDjYqQsd2UQTQxti\", \"file_5\" : \"QmV1vYkuiwKGPA5Tyi4ECNFfWYocyTtQ3E5j7CSvPBX49Q, Qmb2oVa1Ukvh9mUgih8EoqgUeAPPUnLY73LHGenAH8o3Nc\", \"project_metadata_cid\" : \"QmT1cPcYNcGntxCc2goVmkJuQG9EdVthjvG6SVNs7WCXc8\" } }\n",
      "File is valid.\n",
      "06535@test\n",
      "QmV1vYkuiwKGPA5Tyi4ECNFfWYocyTtQ3E5j7CSvPBX49Q\n",
      "QmeVGyHTArPSs2psP26Akwi69ZbGNN7J8Tri7JzMfSJsFN\n",
      "{ \"admin@test\" : { \"file_1\" : \"QmVk8gxENq6PThSGZTuk7RtbufR2XeN7LtXBj2LVTUoAdN, QmRxGqNkpdBVeq2GmfbK2ZbW1oZyX14VtiYRZnmSq6nnm7\", \"file_2\" : \"QmT7ximApXtExAedhzUHGHDwRismRzuKykpH4dgTvGrNZs, Qmdx66C5eMBgBw1NxB6hdxAc6v9g2ctGPZMPnYED4JYSYe\", \"file_3\" : \"QmZnh5Uuo7moZKMESFHpRjQFbbND5e3nArCzZg8uLARAgg, QmXgwRkPFxG2FWQTbVGgKsaEz7thbg4WLBcndsRfKUfeaa\", \"file_4\" : \"QmUq29KRwpTdvScB5oYzEDobDHyb4N1f9eaZXm4VaMCgiW, QmedM2sDbqRi5VmoWAUvwbuPrtSkLjHzYqor4FWK4223FV\", \"file_5\" : \"QmV1vYkuiwKGPA5Tyi4ECNFfWYocyTtQ3E5j7CSvPBX49Q, QmeVGyHTArPSs2psP26Akwi69ZbGNN7J8Tri7JzMfSJsFN\", \"linked_user\" : \"crazy_nash@test\", \"project_metadata_cid\" : \"QmbmyecKUbwCDFPt6Uddx411bCvefLiRXPxHs5vnYz4XZm\" } }\n",
      "File is valid.\n",
      "06535@test\n",
      "QmUq29KRwpTdvScB5oYzEDobDHyb4N1f9eaZXm4VaMCgiW\n",
      "QmbDa6tBa5HBWikEf2R74kuNzBAMKNhgc44HbcHajbNswT\n",
      "{ \"admin@test\" : { \"file_1\" : \"QmVk8gxENq6PThSGZTuk7RtbufR2XeN7LtXBj2LVTUoAdN, QmRxGqNkpdBVeq2GmfbK2ZbW1oZyX14VtiYRZnmSq6nnm7\", \"file_2\" : \"QmT7ximApXtExAedhzUHGHDwRismRzuKykpH4dgTvGrNZs, Qmdx66C5eMBgBw1NxB6hdxAc6v9g2ctGPZMPnYED4JYSYe\", \"file_3\" : \"QmZnh5Uuo7moZKMESFHpRjQFbbND5e3nArCzZg8uLARAgg, QmXgwRkPFxG2FWQTbVGgKsaEz7thbg4WLBcndsRfKUfeaa\", \"file_4\" : \"QmUq29KRwpTdvScB5oYzEDobDHyb4N1f9eaZXm4VaMCgiW, QmedM2sDbqRi5VmoWAUvwbuPrtSkLjHzYqor4FWK4223FV\", \"file_5\" : \"QmV1vYkuiwKGPA5Tyi4ECNFfWYocyTtQ3E5j7CSvPBX49Q, QmeVGyHTArPSs2psP26Akwi69ZbGNN7J8Tri7JzMfSJsFN\", \"linked_user\" : \"crazy_nash@test\", \"project_metadata_cid\" : \"QmbmyecKUbwCDFPt6Uddx411bCvefLiRXPxHs5vnYz4XZm\" } }\n",
      "File is valid.\n",
      "06535@test\n",
      "QmUq29KRwpTdvScB5oYzEDobDHyb4N1f9eaZXm4VaMCgiW\n",
      "QmQNaRSjBgPYWoAoDHtuankqaqN38iZEZrJYiLigpqyiXV\n",
      "{ \"admin@test\" : { \"file_1\" : \"QmVk8gxENq6PThSGZTuk7RtbufR2XeN7LtXBj2LVTUoAdN, QmRxGqNkpdBVeq2GmfbK2ZbW1oZyX14VtiYRZnmSq6nnm7\", \"file_2\" : \"QmT7ximApXtExAedhzUHGHDwRismRzuKykpH4dgTvGrNZs, Qmdx66C5eMBgBw1NxB6hdxAc6v9g2ctGPZMPnYED4JYSYe\", \"file_3\" : \"QmZnh5Uuo7moZKMESFHpRjQFbbND5e3nArCzZg8uLARAgg, QmXgwRkPFxG2FWQTbVGgKsaEz7thbg4WLBcndsRfKUfeaa\", \"file_4\" : \"QmUq29KRwpTdvScB5oYzEDobDHyb4N1f9eaZXm4VaMCgiW, QmedM2sDbqRi5VmoWAUvwbuPrtSkLjHzYqor4FWK4223FV\", \"file_5\" : \"QmV1vYkuiwKGPA5Tyi4ECNFfWYocyTtQ3E5j7CSvPBX49Q, QmeVGyHTArPSs2psP26Akwi69ZbGNN7J8Tri7JzMfSJsFN\", \"linked_user\" : \"crazy_nash@test\", \"project_metadata_cid\" : \"QmbmyecKUbwCDFPt6Uddx411bCvefLiRXPxHs5vnYz4XZm\" } }\n",
      "File is valid.\n",
      "37887@test\n",
      "QmUq29KRwpTdvScB5oYzEDobDHyb4N1f9eaZXm4VaMCgiW\n",
      "QmSPumufDMLPk1x7mUY6QCZaaCooNZmDjYqQsd2UQTQxti\n"
     ]
    },
    {
     "name": "stderr",
     "output_type": "stream",
     "text": [
      "\u001b[32m2025-01-03 20:54:52.508\u001b[0m | \u001b[34m\u001b[1mDEBUG   \u001b[0m | \u001b[36msuper_helper\u001b[0m:\u001b[36mvalidate_file_cid\u001b[0m:\u001b[36m192\u001b[0m - \u001b[34m\u001b[1mValidating CID: QmUq29KRwpTdvScB5oYzEDobDHyb4N1f9eaZXm4VaMCgiW\u001b[0m\n",
      "\u001b[32m2025-01-03 20:54:52.509\u001b[0m | \u001b[34m\u001b[1mDEBUG   \u001b[0m | \u001b[36msuper_helper\u001b[0m:\u001b[36mvalidate_file_cid\u001b[0m:\u001b[36m200\u001b[0m - \u001b[34m\u001b[1mCID QmUq29KRwpTdvScB5oYzEDobDHyb4N1f9eaZXm4VaMCgiW found in file_4.\u001b[0m\n",
      "\u001b[32m2025-01-03 20:54:52.526\u001b[0m | \u001b[34m\u001b[1mDEBUG   \u001b[0m | \u001b[36msuper_helper\u001b[0m:\u001b[36mvalidate_file_cid\u001b[0m:\u001b[36m192\u001b[0m - \u001b[34m\u001b[1mValidating CID: QmUq29KRwpTdvScB5oYzEDobDHyb4N1f9eaZXm4VaMCgiW\u001b[0m\n",
      "\u001b[32m2025-01-03 20:54:52.528\u001b[0m | \u001b[34m\u001b[1mDEBUG   \u001b[0m | \u001b[36msuper_helper\u001b[0m:\u001b[36mvalidate_file_cid\u001b[0m:\u001b[36m200\u001b[0m - \u001b[34m\u001b[1mCID QmUq29KRwpTdvScB5oYzEDobDHyb4N1f9eaZXm4VaMCgiW found in file_4.\u001b[0m\n",
      "\u001b[32m2025-01-03 20:54:52.544\u001b[0m | \u001b[34m\u001b[1mDEBUG   \u001b[0m | \u001b[36msuper_helper\u001b[0m:\u001b[36mvalidate_file_cid\u001b[0m:\u001b[36m192\u001b[0m - \u001b[34m\u001b[1mValidating CID: QmUq29KRwpTdvScB5oYzEDobDHyb4N1f9eaZXm4VaMCgiW\u001b[0m\n",
      "\u001b[32m2025-01-03 20:54:52.545\u001b[0m | \u001b[34m\u001b[1mDEBUG   \u001b[0m | \u001b[36msuper_helper\u001b[0m:\u001b[36mvalidate_file_cid\u001b[0m:\u001b[36m200\u001b[0m - \u001b[34m\u001b[1mCID QmUq29KRwpTdvScB5oYzEDobDHyb4N1f9eaZXm4VaMCgiW found in file_4.\u001b[0m\n",
      "\u001b[32m2025-01-03 20:54:52.560\u001b[0m | \u001b[34m\u001b[1mDEBUG   \u001b[0m | \u001b[36msuper_helper\u001b[0m:\u001b[36mvalidate_file_cid\u001b[0m:\u001b[36m192\u001b[0m - \u001b[34m\u001b[1mValidating CID: QmUq29KRwpTdvScB5oYzEDobDHyb4N1f9eaZXm4VaMCgiW\u001b[0m\n",
      "\u001b[32m2025-01-03 20:54:52.561\u001b[0m | \u001b[34m\u001b[1mDEBUG   \u001b[0m | \u001b[36msuper_helper\u001b[0m:\u001b[36mvalidate_file_cid\u001b[0m:\u001b[36m200\u001b[0m - \u001b[34m\u001b[1mCID QmUq29KRwpTdvScB5oYzEDobDHyb4N1f9eaZXm4VaMCgiW found in file_4.\u001b[0m\n",
      "\u001b[32m2025-01-03 20:54:52.577\u001b[0m | \u001b[34m\u001b[1mDEBUG   \u001b[0m | \u001b[36msuper_helper\u001b[0m:\u001b[36mvalidate_file_cid\u001b[0m:\u001b[36m192\u001b[0m - \u001b[34m\u001b[1mValidating CID: QmUq29KRwpTdvScB5oYzEDobDHyb4N1f9eaZXm4VaMCgiW\u001b[0m\n",
      "\u001b[32m2025-01-03 20:54:52.578\u001b[0m | \u001b[34m\u001b[1mDEBUG   \u001b[0m | \u001b[36msuper_helper\u001b[0m:\u001b[36mvalidate_file_cid\u001b[0m:\u001b[36m200\u001b[0m - \u001b[34m\u001b[1mCID QmUq29KRwpTdvScB5oYzEDobDHyb4N1f9eaZXm4VaMCgiW found in file_4.\u001b[0m\n",
      "\u001b[32m2025-01-03 20:54:52.593\u001b[0m | \u001b[34m\u001b[1mDEBUG   \u001b[0m | \u001b[36msuper_helper\u001b[0m:\u001b[36mvalidate_file_cid\u001b[0m:\u001b[36m192\u001b[0m - \u001b[34m\u001b[1mValidating CID: QmUq29KRwpTdvScB5oYzEDobDHyb4N1f9eaZXm4VaMCgiW\u001b[0m\n",
      "\u001b[32m2025-01-03 20:54:52.594\u001b[0m | \u001b[34m\u001b[1mDEBUG   \u001b[0m | \u001b[36msuper_helper\u001b[0m:\u001b[36mvalidate_file_cid\u001b[0m:\u001b[36m200\u001b[0m - \u001b[34m\u001b[1mCID QmUq29KRwpTdvScB5oYzEDobDHyb4N1f9eaZXm4VaMCgiW found in file_4.\u001b[0m\n",
      "\u001b[32m2025-01-03 20:54:52.608\u001b[0m | \u001b[34m\u001b[1mDEBUG   \u001b[0m | \u001b[36msuper_helper\u001b[0m:\u001b[36mvalidate_file_cid\u001b[0m:\u001b[36m192\u001b[0m - \u001b[34m\u001b[1mValidating CID: QmUq29KRwpTdvScB5oYzEDobDHyb4N1f9eaZXm4VaMCgiW\u001b[0m\n",
      "\u001b[32m2025-01-03 20:54:52.609\u001b[0m | \u001b[34m\u001b[1mDEBUG   \u001b[0m | \u001b[36msuper_helper\u001b[0m:\u001b[36mvalidate_file_cid\u001b[0m:\u001b[36m200\u001b[0m - \u001b[34m\u001b[1mCID QmUq29KRwpTdvScB5oYzEDobDHyb4N1f9eaZXm4VaMCgiW found in file_4.\u001b[0m\n",
      "\u001b[32m2025-01-03 20:54:52.625\u001b[0m | \u001b[34m\u001b[1mDEBUG   \u001b[0m | \u001b[36msuper_helper\u001b[0m:\u001b[36mvalidate_file_cid\u001b[0m:\u001b[36m192\u001b[0m - \u001b[34m\u001b[1mValidating CID: QmUq29KRwpTdvScB5oYzEDobDHyb4N1f9eaZXm4VaMCgiW\u001b[0m\n",
      "\u001b[32m2025-01-03 20:54:52.626\u001b[0m | \u001b[34m\u001b[1mDEBUG   \u001b[0m | \u001b[36msuper_helper\u001b[0m:\u001b[36mvalidate_file_cid\u001b[0m:\u001b[36m200\u001b[0m - \u001b[34m\u001b[1mCID QmUq29KRwpTdvScB5oYzEDobDHyb4N1f9eaZXm4VaMCgiW found in file_4.\u001b[0m\n"
     ]
    },
    {
     "name": "stdout",
     "output_type": "stream",
     "text": [
      "{ \"admin@test\" : { \"file_1\" : \"QmVk8gxENq6PThSGZTuk7RtbufR2XeN7LtXBj2LVTUoAdN, QmRxGqNkpdBVeq2GmfbK2ZbW1oZyX14VtiYRZnmSq6nnm7\", \"file_2\" : \"QmT7ximApXtExAedhzUHGHDwRismRzuKykpH4dgTvGrNZs, QmSCF9dc1p25xuKapk8kem2jJj3rG1U5L6vb72nhkMpr3h\", \"file_3\" : \"QmZnh5Uuo7moZKMESFHpRjQFbbND5e3nArCzZg8uLARAgg, QmXgwRkPFxG2FWQTbVGgKsaEz7thbg4WLBcndsRfKUfeaa\", \"file_4\" : \"QmUq29KRwpTdvScB5oYzEDobDHyb4N1f9eaZXm4VaMCgiW, QmSPumufDMLPk1x7mUY6QCZaaCooNZmDjYqQsd2UQTQxti\", \"file_5\" : \"QmV1vYkuiwKGPA5Tyi4ECNFfWYocyTtQ3E5j7CSvPBX49Q, Qmb2oVa1Ukvh9mUgih8EoqgUeAPPUnLY73LHGenAH8o3Nc\", \"project_metadata_cid\" : \"QmT1cPcYNcGntxCc2goVmkJuQG9EdVthjvG6SVNs7WCXc8\" } }\n",
      "File is valid.\n",
      "37887@test\n",
      "QmUq29KRwpTdvScB5oYzEDobDHyb4N1f9eaZXm4VaMCgiW\n",
      "QmbDa6tBa5HBWikEf2R74kuNzBAMKNhgc44HbcHajbNswT\n",
      "{ \"admin@test\" : { \"file_1\" : \"QmVk8gxENq6PThSGZTuk7RtbufR2XeN7LtXBj2LVTUoAdN, QmRxGqNkpdBVeq2GmfbK2ZbW1oZyX14VtiYRZnmSq6nnm7\", \"file_2\" : \"QmT7ximApXtExAedhzUHGHDwRismRzuKykpH4dgTvGrNZs, QmSCF9dc1p25xuKapk8kem2jJj3rG1U5L6vb72nhkMpr3h\", \"file_3\" : \"QmZnh5Uuo7moZKMESFHpRjQFbbND5e3nArCzZg8uLARAgg, QmXgwRkPFxG2FWQTbVGgKsaEz7thbg4WLBcndsRfKUfeaa\", \"file_4\" : \"QmUq29KRwpTdvScB5oYzEDobDHyb4N1f9eaZXm4VaMCgiW, QmSPumufDMLPk1x7mUY6QCZaaCooNZmDjYqQsd2UQTQxti\", \"file_5\" : \"QmV1vYkuiwKGPA5Tyi4ECNFfWYocyTtQ3E5j7CSvPBX49Q, Qmb2oVa1Ukvh9mUgih8EoqgUeAPPUnLY73LHGenAH8o3Nc\", \"project_metadata_cid\" : \"QmT1cPcYNcGntxCc2goVmkJuQG9EdVthjvG6SVNs7WCXc8\" } }\n",
      "File is valid.\n",
      "37887@test\n",
      "QmUq29KRwpTdvScB5oYzEDobDHyb4N1f9eaZXm4VaMCgiW\n",
      "Qmd1NaZKsfeF47LMX7a7DgkDUxUYi2ykQpKTbqYeVaVw62\n",
      "{ \"admin@test\" : { \"file_1\" : \"QmVk8gxENq6PThSGZTuk7RtbufR2XeN7LtXBj2LVTUoAdN, QmRxGqNkpdBVeq2GmfbK2ZbW1oZyX14VtiYRZnmSq6nnm7\", \"file_2\" : \"QmT7ximApXtExAedhzUHGHDwRismRzuKykpH4dgTvGrNZs, QmSCF9dc1p25xuKapk8kem2jJj3rG1U5L6vb72nhkMpr3h\", \"file_3\" : \"QmZnh5Uuo7moZKMESFHpRjQFbbND5e3nArCzZg8uLARAgg, QmXgwRkPFxG2FWQTbVGgKsaEz7thbg4WLBcndsRfKUfeaa\", \"file_4\" : \"QmUq29KRwpTdvScB5oYzEDobDHyb4N1f9eaZXm4VaMCgiW, QmSPumufDMLPk1x7mUY6QCZaaCooNZmDjYqQsd2UQTQxti\", \"file_5\" : \"QmV1vYkuiwKGPA5Tyi4ECNFfWYocyTtQ3E5j7CSvPBX49Q, Qmb2oVa1Ukvh9mUgih8EoqgUeAPPUnLY73LHGenAH8o3Nc\", \"project_metadata_cid\" : \"QmT1cPcYNcGntxCc2goVmkJuQG9EdVthjvG6SVNs7WCXc8\" } }\n",
      "File is valid.\n",
      "37887@test\n",
      "QmUq29KRwpTdvScB5oYzEDobDHyb4N1f9eaZXm4VaMCgiW\n",
      "QmVpjvVCh8PwFqQUaKNYt5CAFQ5uFWHs2JKMho2WvRe7p7\n",
      "{ \"admin@test\" : { \"file_1\" : \"QmVk8gxENq6PThSGZTuk7RtbufR2XeN7LtXBj2LVTUoAdN, QmRxGqNkpdBVeq2GmfbK2ZbW1oZyX14VtiYRZnmSq6nnm7\", \"file_2\" : \"QmT7ximApXtExAedhzUHGHDwRismRzuKykpH4dgTvGrNZs, QmSCF9dc1p25xuKapk8kem2jJj3rG1U5L6vb72nhkMpr3h\", \"file_3\" : \"QmZnh5Uuo7moZKMESFHpRjQFbbND5e3nArCzZg8uLARAgg, QmXgwRkPFxG2FWQTbVGgKsaEz7thbg4WLBcndsRfKUfeaa\", \"file_4\" : \"QmUq29KRwpTdvScB5oYzEDobDHyb4N1f9eaZXm4VaMCgiW, QmSPumufDMLPk1x7mUY6QCZaaCooNZmDjYqQsd2UQTQxti\", \"file_5\" : \"QmV1vYkuiwKGPA5Tyi4ECNFfWYocyTtQ3E5j7CSvPBX49Q, Qmb2oVa1Ukvh9mUgih8EoqgUeAPPUnLY73LHGenAH8o3Nc\", \"project_metadata_cid\" : \"QmT1cPcYNcGntxCc2goVmkJuQG9EdVthjvG6SVNs7WCXc8\" } }\n",
      "File is valid.\n",
      "37887@test\n",
      "QmUq29KRwpTdvScB5oYzEDobDHyb4N1f9eaZXm4VaMCgiW\n",
      "QmTZ9KucoLHCf6SgktDd8gJJpZGMDLJYXTN4V7nnUBUNFQ\n",
      "{ \"admin@test\" : { \"file_1\" : \"QmVk8gxENq6PThSGZTuk7RtbufR2XeN7LtXBj2LVTUoAdN, QmRxGqNkpdBVeq2GmfbK2ZbW1oZyX14VtiYRZnmSq6nnm7\", \"file_2\" : \"QmT7ximApXtExAedhzUHGHDwRismRzuKykpH4dgTvGrNZs, QmSCF9dc1p25xuKapk8kem2jJj3rG1U5L6vb72nhkMpr3h\", \"file_3\" : \"QmZnh5Uuo7moZKMESFHpRjQFbbND5e3nArCzZg8uLARAgg, QmXgwRkPFxG2FWQTbVGgKsaEz7thbg4WLBcndsRfKUfeaa\", \"file_4\" : \"QmUq29KRwpTdvScB5oYzEDobDHyb4N1f9eaZXm4VaMCgiW, QmSPumufDMLPk1x7mUY6QCZaaCooNZmDjYqQsd2UQTQxti\", \"file_5\" : \"QmV1vYkuiwKGPA5Tyi4ECNFfWYocyTtQ3E5j7CSvPBX49Q, Qmb2oVa1Ukvh9mUgih8EoqgUeAPPUnLY73LHGenAH8o3Nc\", \"project_metadata_cid\" : \"QmT1cPcYNcGntxCc2goVmkJuQG9EdVthjvG6SVNs7WCXc8\" } }\n",
      "File is valid.\n",
      "37887@test\n",
      "QmUq29KRwpTdvScB5oYzEDobDHyb4N1f9eaZXm4VaMCgiW\n",
      "QmWcdZFjgVaocJrPvDqKzf5KSFDcxypn5Ffyq9SNxQM1dN\n",
      "{ \"admin@test\" : { \"file_1\" : \"QmVk8gxENq6PThSGZTuk7RtbufR2XeN7LtXBj2LVTUoAdN, QmRxGqNkpdBVeq2GmfbK2ZbW1oZyX14VtiYRZnmSq6nnm7\", \"file_2\" : \"QmT7ximApXtExAedhzUHGHDwRismRzuKykpH4dgTvGrNZs, QmSCF9dc1p25xuKapk8kem2jJj3rG1U5L6vb72nhkMpr3h\", \"file_3\" : \"QmZnh5Uuo7moZKMESFHpRjQFbbND5e3nArCzZg8uLARAgg, QmXgwRkPFxG2FWQTbVGgKsaEz7thbg4WLBcndsRfKUfeaa\", \"file_4\" : \"QmUq29KRwpTdvScB5oYzEDobDHyb4N1f9eaZXm4VaMCgiW, QmSPumufDMLPk1x7mUY6QCZaaCooNZmDjYqQsd2UQTQxti\", \"file_5\" : \"QmV1vYkuiwKGPA5Tyi4ECNFfWYocyTtQ3E5j7CSvPBX49Q, Qmb2oVa1Ukvh9mUgih8EoqgUeAPPUnLY73LHGenAH8o3Nc\", \"project_metadata_cid\" : \"QmT1cPcYNcGntxCc2goVmkJuQG9EdVthjvG6SVNs7WCXc8\" } }\n",
      "File is valid.\n",
      "37887@test\n",
      "QmUq29KRwpTdvScB5oYzEDobDHyb4N1f9eaZXm4VaMCgiW\n",
      "Qme4JyFfsENc5s8XaqoxwGYdN2AXxRpMmXC249cyrK8ghN\n",
      "{ \"admin@test\" : { \"file_1\" : \"QmVk8gxENq6PThSGZTuk7RtbufR2XeN7LtXBj2LVTUoAdN, QmRxGqNkpdBVeq2GmfbK2ZbW1oZyX14VtiYRZnmSq6nnm7\", \"file_2\" : \"QmT7ximApXtExAedhzUHGHDwRismRzuKykpH4dgTvGrNZs, QmSCF9dc1p25xuKapk8kem2jJj3rG1U5L6vb72nhkMpr3h\", \"file_3\" : \"QmZnh5Uuo7moZKMESFHpRjQFbbND5e3nArCzZg8uLARAgg, QmXgwRkPFxG2FWQTbVGgKsaEz7thbg4WLBcndsRfKUfeaa\", \"file_4\" : \"QmUq29KRwpTdvScB5oYzEDobDHyb4N1f9eaZXm4VaMCgiW, QmSPumufDMLPk1x7mUY6QCZaaCooNZmDjYqQsd2UQTQxti\", \"file_5\" : \"QmV1vYkuiwKGPA5Tyi4ECNFfWYocyTtQ3E5j7CSvPBX49Q, Qmb2oVa1Ukvh9mUgih8EoqgUeAPPUnLY73LHGenAH8o3Nc\", \"project_metadata_cid\" : \"QmT1cPcYNcGntxCc2goVmkJuQG9EdVthjvG6SVNs7WCXc8\" } }\n",
      "File is valid.\n",
      "06535@test\n",
      "QmUq29KRwpTdvScB5oYzEDobDHyb4N1f9eaZXm4VaMCgiW\n",
      "QmedM2sDbqRi5VmoWAUvwbuPrtSkLjHzYqor4FWK4223FV\n",
      "{ \"admin@test\" : { \"file_1\" : \"QmVk8gxENq6PThSGZTuk7RtbufR2XeN7LtXBj2LVTUoAdN, QmRxGqNkpdBVeq2GmfbK2ZbW1oZyX14VtiYRZnmSq6nnm7\", \"file_2\" : \"QmT7ximApXtExAedhzUHGHDwRismRzuKykpH4dgTvGrNZs, Qmdx66C5eMBgBw1NxB6hdxAc6v9g2ctGPZMPnYED4JYSYe\", \"file_3\" : \"QmZnh5Uuo7moZKMESFHpRjQFbbND5e3nArCzZg8uLARAgg, QmXgwRkPFxG2FWQTbVGgKsaEz7thbg4WLBcndsRfKUfeaa\", \"file_4\" : \"QmUq29KRwpTdvScB5oYzEDobDHyb4N1f9eaZXm4VaMCgiW, QmedM2sDbqRi5VmoWAUvwbuPrtSkLjHzYqor4FWK4223FV\", \"file_5\" : \"QmV1vYkuiwKGPA5Tyi4ECNFfWYocyTtQ3E5j7CSvPBX49Q, QmeVGyHTArPSs2psP26Akwi69ZbGNN7J8Tri7JzMfSJsFN\", \"linked_user\" : \"crazy_nash@test\", \"project_metadata_cid\" : \"QmbmyecKUbwCDFPt6Uddx411bCvefLiRXPxHs5vnYz4XZm\" } }\n",
      "File is valid.\n"
     ]
    }
   ],
   "source": [
    "\n",
    "# Open an existing index (adjust the path to your index directory)\n",
    "index_path = \"indexdir\"\n",
    "index = open_dir(index_path)\n",
    "\n",
    "# Perform a keyword search\n",
    "keyword = \"paper\"\n",
    "\n",
    "search_results, project_ids_with_cids = search_index(index, keyword)\n",
    "\n",
    "# Now you can directly access each dictionary from 'search_results'\n",
    "for dict in search_results:\n",
    "    project_id = dict['project_id']\n",
    "    print(dict['project_id'])\n",
    "    file_cid = dict['file_cid']\n",
    "    print(dict['file_cid'])\n",
    "    metadata_cid = dict['metadata_cid']\n",
    "    print(dict['metadata_cid'])\n",
    "    \n",
    "    project_details = get_account_detail(dict['project_id'])\n",
    "    \n",
    "    print(project_details)\n",
    "    \n",
    "    blockchain_data = json.loads(project_details)\n",
    "    \n",
    "    result = validate_file_cid(file_cid, blockchain_data)\n",
    "\n",
    "    if result:\n",
    "        print(\"File is valid.\")\n",
    "    else:\n",
    "        print(\"File is invalid.\")"
   ]
  },
  {
   "cell_type": "code",
   "execution_count": 7,
   "id": "c3d13517",
   "metadata": {},
   "outputs": [
    {
     "name": "stderr",
     "output_type": "stream",
     "text": [
      "\u001b[32m2025-01-03 20:54:52.645\u001b[0m | \u001b[34m\u001b[1mDEBUG   \u001b[0m | \u001b[36msuper_helper\u001b[0m:\u001b[36mfetch_project_details\u001b[0m:\u001b[36m223\u001b[0m - \u001b[34m\u001b[1mValidating and fetching details for CID: QmUq29KRwpTdvScB5oYzEDobDHyb4N1f9eaZXm4VaMCgiW\u001b[0m\n",
      "\u001b[32m2025-01-03 20:54:52.646\u001b[0m | \u001b[34m\u001b[1mDEBUG   \u001b[0m | \u001b[36msuper_helper\u001b[0m:\u001b[36mfetch_project_details\u001b[0m:\u001b[36m231\u001b[0m - \u001b[34m\u001b[1mFile CID QmUq29KRwpTdvScB5oYzEDobDHyb4N1f9eaZXm4VaMCgiW found under file_4.\u001b[0m\n",
      "\u001b[32m2025-01-03 20:54:52.648\u001b[0m | \u001b[1mINFO    \u001b[0m | \u001b[36m__main__\u001b[0m:\u001b[36m<module>\u001b[0m:\u001b[36m2\u001b[0m - \u001b[1mResult: {'is_valid': True, 'project_metadata_cid': 'QmbmyecKUbwCDFPt6Uddx411bCvefLiRXPxHs5vnYz4XZm', 'linked_user': 'crazy_nash@test'}\u001b[0m\n"
     ]
    }
   ],
   "source": [
    "result = fetch_project_details(file_cid, blockchain_data)\n",
    "logger.info(f\"Result: {result}\")"
   ]
  },
  {
   "cell_type": "code",
   "execution_count": null,
   "id": "ee68f57b",
   "metadata": {},
   "outputs": [
    {
     "name": "stderr",
     "output_type": "stream",
     "text": [
      "\u001b[32m2025-01-03 21:12:59.100\u001b[0m | \u001b[34m\u001b[1mDEBUG   \u001b[0m | \u001b[36msuper_helper\u001b[0m:\u001b[36mfetch_project_details\u001b[0m:\u001b[36m223\u001b[0m - \u001b[34m\u001b[1mValidating and fetching details for CID: QmUq29KRwpTdvScB5oYzEDobDHyb4N1f9eaZXm4VaMCgiW\u001b[0m\n",
      "\u001b[32m2025-01-03 21:12:59.103\u001b[0m | \u001b[34m\u001b[1mDEBUG   \u001b[0m | \u001b[36msuper_helper\u001b[0m:\u001b[36mfetch_project_details\u001b[0m:\u001b[36m231\u001b[0m - \u001b[34m\u001b[1mFile CID QmUq29KRwpTdvScB5oYzEDobDHyb4N1f9eaZXm4VaMCgiW found under file_4.\u001b[0m\n",
      "\u001b[32m2025-01-03 21:12:59.105\u001b[0m | \u001b[1mINFO    \u001b[0m | \u001b[36m__main__\u001b[0m:\u001b[36m<module>\u001b[0m:\u001b[36m8\u001b[0m - \u001b[1mProject Metadata CID: QmbmyecKUbwCDFPt6Uddx411bCvefLiRXPxHs5vnYz4XZm\u001b[0m\n",
      "\u001b[32m2025-01-03 21:12:59.107\u001b[0m | \u001b[1mINFO    \u001b[0m | \u001b[36m__main__\u001b[0m:\u001b[36m<module>\u001b[0m:\u001b[36m9\u001b[0m - \u001b[1mLinked User: crazy_nash@test\u001b[0m\n",
      "\u001b[32m2025-01-03 21:12:59.108\u001b[0m | \u001b[34m\u001b[1mDEBUG   \u001b[0m | \u001b[36m__main__\u001b[0m:\u001b[36m<module>\u001b[0m:\u001b[36m14\u001b[0m - \u001b[34m\u001b[1mProcessing project metadata CID: QmbmyecKUbwCDFPt6Uddx411bCvefLiRXPxHs5vnYz4XZm\u001b[0m\n",
      "\u001b[32m2025-01-03 21:12:59.109\u001b[0m | \u001b[34m\u001b[1mDEBUG   \u001b[0m | \u001b[36m__main__\u001b[0m:\u001b[36m<module>\u001b[0m:\u001b[36m17\u001b[0m - \u001b[34m\u001b[1mProcessing linked user: crazy_nash@test\u001b[0m\n"
     ]
    }
   ],
   "source": [
    "result = fetch_project_details(file_cid, blockchain_data)\n",
    "\n",
    "if result[\"is_valid\"]:\n",
    "    project_metadata_cid = result[\"project_metadata_cid\"]\n",
    "    linked_user = result[\"linked_user\"]\n",
    "    \n",
    "    # Use the returned values\n",
    "    logger.info(f\"Project Metadata CID: {project_metadata_cid}\")\n",
    "    logger.info(f\"Linked User: {linked_user}\")\n",
    "    \n",
    "    # Perform other actions with the data\n",
    "    if project_metadata_cid:\n",
    "        # Process project metadata CID\n",
    "        logger.debug(f\"Processing project metadata CID: {project_metadata_cid}\")\n",
    "    if linked_user:\n",
    "        # Process linked user\n",
    "        logger.debug(f\"Processing linked user: {linked_user}\")\n",
    "else:\n",
    "    logger.warning(\"File CID is invalid. No project metadata or linked user available.\")\n",
    "\n",
    "\n"
   ]
  },
  {
   "cell_type": "code",
   "execution_count": 13,
   "id": "4e841a50",
   "metadata": {},
   "outputs": [
    {
     "name": "stdout",
     "output_type": "stream",
     "text": [
      "{'admin@test': {'linked_project': '06535@test', 'user_json_ld_cid': 'QmVQLbPmAqVYWPT1x9niJEC3w1YK5zxXYJPC8FraoasHuU'}}\n"
     ]
    }
   ],
   "source": [
    "user = get_account_detail(linked_user)\n",
    "user = json.loads(user)\n",
    "print(user)"
   ]
  },
  {
   "cell_type": "code",
   "execution_count": 14,
   "id": "45e6fb11",
   "metadata": {},
   "outputs": [
    {
     "name": "stdout",
     "output_type": "stream",
     "text": [
      "user_json_ld_cid: QmVQLbPmAqVYWPT1x9niJEC3w1YK5zxXYJPC8FraoasHuU\n"
     ]
    }
   ],
   "source": [
    "user = get_account_detail(linked_user)\n",
    "user = json.loads(user)  # Convert the JSON string to a Python dictionary\n",
    "\n",
    "# Accessing user_json_ld_cid\n",
    "user_json_ld_cid = user.get(\"admin@test\", {}).get(\"user_json_ld_cid\", None)\n",
    "\n",
    "# Check if the value exists and use it\n",
    "if user_json_ld_cid:\n",
    "    print(f\"user_json_ld_cid: {user_json_ld_cid}\")\n",
    "else:\n",
    "    print(\"user_json_ld_cid not found.\")\n"
   ]
  },
  {
   "cell_type": "code",
   "execution_count": 11,
   "id": "10934ef2",
   "metadata": {},
   "outputs": [
    {
     "name": "stdout",
     "output_type": "stream",
     "text": [
      "{'@context': {'dc': 'http://purl.org/dc/terms/', 'schema': 'http://schema.org/'}, '@type': 'schema:ResearchProject', 'dc:abstract': 'This study explores the impact of quantum computing in supply chain management, focusing on biodiversity.', 'schema:endDate': '2026-07-23', 'schema:funding': {'@type': 'schema:Organization', 'schema:name': 'National Science Foundation'}, 'schema:keywords': ['quantum computing', 'supply chain management', 'biodiversity'], 'schema:location': {'@type': 'schema:Place', 'schema:name': 'Lagos, Nigeria'}, 'schema:name': 'Investigating the Role of quantum computing in supply chain management', 'schema:startDate': '2023-07-03'}\n"
     ]
    }
   ],
   "source": [
    "project_metadata = download_json_from_ipfs(project_metadata_cid)\n",
    "print(project_metadata)"
   ]
  }
 ],
 "metadata": {
  "kernelspec": {
   "display_name": "Python 3 (ipykernel)",
   "language": "python",
   "name": "python3"
  },
  "language_info": {
   "codemirror_mode": {
    "name": "ipython",
    "version": 3
   },
   "file_extension": ".py",
   "mimetype": "text/x-python",
   "name": "python",
   "nbconvert_exporter": "python",
   "pygments_lexer": "ipython3",
   "version": "3.9.21"
  }
 },
 "nbformat": 4,
 "nbformat_minor": 5
}
