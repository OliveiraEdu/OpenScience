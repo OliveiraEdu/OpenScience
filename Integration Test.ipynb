{
 "cells": [
  {
   "cell_type": "code",
   "execution_count": 1,
   "id": "b27efec9",
   "metadata": {},
   "outputs": [],
   "source": [
    "from new_helper import *\n",
    "from super_helper import *"
   ]
  },
  {
   "cell_type": "code",
   "execution_count": 17,
   "id": "79650b49",
   "metadata": {},
   "outputs": [
    {
     "name": "stdout",
     "output_type": "stream",
     "text": [
      "----------------------------------------\n"
     ]
    }
   ],
   "source": [
    "id = \"06535\"\n",
    "DOMAIN = \"test\"\n",
    "\n",
    "project_id = f\"{id}@{DOMAIN}\"\n",
    "\n",
    "directory_path = \"upload\"\n",
    "\n",
    "print(40*\"-\")\n",
    "\n"
   ]
  },
  {
   "cell_type": "code",
   "execution_count": 3,
   "id": "4d0d0bcb",
   "metadata": {},
   "outputs": [
    {
     "name": "stdout",
     "output_type": "stream",
     "text": [
      "<Schema: ['abstract', 'created', 'creator', 'date', 'description', 'file_cid', 'format', 'full_text', 'language', 'metadata_cid', 'modified', 'project_id', 'publisher', 'subject', 'title']>\n",
      "file path:  upload/COVID19-MLSF--A-multi-task-learning-based-stock-market_2023_Expert-Systems-w.pdf\n",
      "file name:  COVID19-MLSF--A-multi-task-learning-based-stock-market_2023_Expert-Systems-w.pdf\n",
      "file cid:  QmUq29KRwpTdvScB5oYzEDobDHyb4N1f9eaZXm4VaMCgiW\n",
      "file metadata cid:  Qme5cwgyMn5R2LRqT6jvrg4GfjuauPKwGR4m6njHpzhAtR\n",
      "file_key : file_1\n",
      "joined_cids : QmUq29KRwpTdvScB5oYzEDobDHyb4N1f9eaZXm4VaMCgiW, Qme5cwgyMn5R2LRqT6jvrg4GfjuauPKwGR4m6njHpzhAtR\n",
      "\tEntering \"create_contract\"\n",
      "('STATELESS_VALIDATION_SUCCESS', 1, 0)\n",
      "('ENOUGH_SIGNATURES_COLLECTED', 9, 0)\n",
      "('STATEFUL_VALIDATION_SUCCESS', 3, 0)\n",
      "('COMMITTED', 5, 0)\n",
      "\tLeaving \"create_contract\"\n",
      "\tEntering \"get_engine_receipts_address\"\n",
      "\tLeaving \"get_engine_receipts_address\"\n",
      "\tEntering \"set_account_detail\"\n",
      "None\n",
      "('STATELESS_VALIDATION_SUCCESS', 1, 0)\n",
      "('ENOUGH_SIGNATURES_COLLECTED', 9, 0)\n"
     ]
    },
    {
     "name": "stderr",
     "output_type": "stream",
     "text": [
      "\u001b[32m2025-01-09 15:15:49.335\u001b[0m | \u001b[1mINFO    \u001b[0m | \u001b[36msuper_helper\u001b[0m:\u001b[36msetup_index\u001b[0m:\u001b[36m328\u001b[0m - \u001b[1mOpened existing index.\u001b[0m\n",
      "\u001b[32m2025-01-09 15:15:49.473\u001b[0m | \u001b[1mINFO    \u001b[0m | \u001b[36msuper_helper\u001b[0m:\u001b[36mindex_metadata\u001b[0m:\u001b[36m186\u001b[0m - \u001b[1mMetadata indexed successfully: Qme5cwgyMn5R2LRqT6jvrg4GfjuauPKwGR4m6njHpzhAtR\u001b[0m\n"
     ]
    },
    {
     "name": "stdout",
     "output_type": "stream",
     "text": [
      "('STATEFUL_VALIDATION_SUCCESS', 3, 0)\n",
      "('COMMITTED', 5, 0)\n",
      "\tLeaving \"set_account_detail\"\n",
      "hash : b'e2659cd178643e10ff1d4d5174147250e7313b453bb68649fd41678be7893ac6'\n",
      "This is ix:  FileIndex(FileStorage('indexdir'), 'MAIN')\n"
     ]
    }
   ],
   "source": [
    "\n",
    "\n",
    "schema = get_schema() #super_helper.py\n",
    "\n",
    "print(schema)\n",
    "\n",
    "processed_data = process_files(directory_path, project_id, schema) #new_helper.py\n",
    " \n",
    "    "
   ]
  },
  {
   "cell_type": "code",
   "execution_count": 4,
   "id": "96c16c27",
   "metadata": {},
   "outputs": [
    {
     "name": "stdout",
     "output_type": "stream",
     "text": [
      "06535@test { \"admin@test\" : { \"file_1\" : \"QmUq29KRwpTdvScB5oYzEDobDHyb4N1f9eaZXm4VaMCgiW, Qme5cwgyMn5R2LRqT6jvrg4GfjuauPKwGR4m6njHpzhAtR\", \"file_2\" : \"QmUq29KRwpTdvScB5oYzEDobDHyb4N1f9eaZXm4VaMCgiW, Qmd1NaZKsfeF47LMX7a7DgkDUxUYi2ykQpKTbqYeVaVw62\", \"file_3\" : \"QmZnh5Uuo7moZKMESFHpRjQFbbND5e3nArCzZg8uLARAgg, QmXgwRkPFxG2FWQTbVGgKsaEz7thbg4WLBcndsRfKUfeaa\", \"file_4\" : \"QmUq29KRwpTdvScB5oYzEDobDHyb4N1f9eaZXm4VaMCgiW, QmbKquQj5bMdMMHaNfacbXkT9NgwWbj157EPpRVi1tPPdx\", \"file_5\" : \"QmV1vYkuiwKGPA5Tyi4ECNFfWYocyTtQ3E5j7CSvPBX49Q, QmY7xwK4beVPQLbeKxEAeStqxY69f7GzRhqTukXXsLMkMh\", \"linked_user\" : \"crazy_nash@test\", \"project_metadata_cid\" : \"QmbmyecKUbwCDFPt6Uddx411bCvefLiRXPxHs5vnYz4XZm\" } }\n"
     ]
    }
   ],
   "source": [
    "account_detail = get_account_detail(project_id)\n",
    "print(project_id, account_detail)\n"
   ]
  },
  {
   "cell_type": "code",
   "execution_count": 5,
   "id": "053afc13",
   "metadata": {},
   "outputs": [],
   "source": [
    "# recreate_index() #Controls the reset of the index manually"
   ]
  },
  {
   "cell_type": "code",
   "execution_count": 6,
   "id": "5e9abe02",
   "metadata": {},
   "outputs": [
    {
     "name": "stderr",
     "output_type": "stream",
     "text": [
      "\u001b[32m2025-01-09 15:15:49.582\u001b[0m | \u001b[1mINFO    \u001b[0m | \u001b[36msuper_helper\u001b[0m:\u001b[36msearch_index\u001b[0m:\u001b[36m204\u001b[0m - \u001b[1mStarting keyword search...\u001b[0m\n",
      "\u001b[32m2025-01-09 15:15:49.584\u001b[0m | \u001b[1mINFO    \u001b[0m | \u001b[36msuper_helper\u001b[0m:\u001b[36msearch_index\u001b[0m:\u001b[36m205\u001b[0m - \u001b[1mKeyword: 'must'\u001b[0m\n",
      "\u001b[32m2025-01-09 15:15:49.612\u001b[0m | \u001b[1mINFO    \u001b[0m | \u001b[36msuper_helper\u001b[0m:\u001b[36msearch_index\u001b[0m:\u001b[36m216\u001b[0m - \u001b[1mSearch successful: Found 3 result(s).\u001b[0m\n",
      "\u001b[32m2025-01-09 15:15:49.616\u001b[0m | \u001b[1mINFO    \u001b[0m | \u001b[36msuper_helper\u001b[0m:\u001b[36msearch_index\u001b[0m:\u001b[36m218\u001b[0m - \u001b[1m1. Project Id: 06535@test, File CID: QmUq29KRwpTdvScB5oYzEDobDHyb4N1f9eaZXm4VaMCgiW, Metadata CID: QmdyAE132FSeSQaqUHzE5GtMrEwy821ScAYKEXsxpWSnV5, Title: covid19-mlsf: a multi-task learning-based stock market forecasting framework during the covid-19 pandemic\u001b[0m\n",
      "\u001b[32m2025-01-09 15:15:49.619\u001b[0m | \u001b[1mINFO    \u001b[0m | \u001b[36msuper_helper\u001b[0m:\u001b[36msearch_index\u001b[0m:\u001b[36m218\u001b[0m - \u001b[1m2. Project Id: 06535@test, File CID: QmUq29KRwpTdvScB5oYzEDobDHyb4N1f9eaZXm4VaMCgiW, Metadata CID: QmZxZTHgeGuQmkSwHJLcfzsPVtfvMCXckzw5EGVKY9Ecda, Title: covid19-mlsf: a multi-task learning-based stock market forecasting framework during the covid-19 pandemic\u001b[0m\n",
      "\u001b[32m2025-01-09 15:15:49.622\u001b[0m | \u001b[1mINFO    \u001b[0m | \u001b[36msuper_helper\u001b[0m:\u001b[36msearch_index\u001b[0m:\u001b[36m218\u001b[0m - \u001b[1m3. Project Id: 06535@test, File CID: QmUq29KRwpTdvScB5oYzEDobDHyb4N1f9eaZXm4VaMCgiW, Metadata CID: Qme5cwgyMn5R2LRqT6jvrg4GfjuauPKwGR4m6njHpzhAtR, Title: covid19-mlsf: a multi-task learning-based stock market forecasting framework during the covid-19 pandemic\u001b[0m\n",
      "\u001b[32m2025-01-09 15:15:49.635\u001b[0m | \u001b[1mINFO    \u001b[0m | \u001b[36m__main__\u001b[0m:\u001b[36m<module>\u001b[0m:\u001b[36m31\u001b[0m - \u001b[1mProcessing Project ID: 06535@test\u001b[0m\n",
      "\u001b[32m2025-01-09 15:15:49.636\u001b[0m | \u001b[34m\u001b[1mDEBUG   \u001b[0m | \u001b[36m__main__\u001b[0m:\u001b[36m<module>\u001b[0m:\u001b[36m32\u001b[0m - \u001b[34m\u001b[1mFile CID: QmUq29KRwpTdvScB5oYzEDobDHyb4N1f9eaZXm4VaMCgiW\u001b[0m\n",
      "\u001b[32m2025-01-09 15:15:49.637\u001b[0m | \u001b[34m\u001b[1mDEBUG   \u001b[0m | \u001b[36m__main__\u001b[0m:\u001b[36m<module>\u001b[0m:\u001b[36m33\u001b[0m - \u001b[34m\u001b[1mMetadata CID: QmdyAE132FSeSQaqUHzE5GtMrEwy821ScAYKEXsxpWSnV5\u001b[0m\n",
      "\u001b[32m2025-01-09 15:15:49.656\u001b[0m | \u001b[34m\u001b[1mDEBUG   \u001b[0m | \u001b[36m__main__\u001b[0m:\u001b[36m<module>\u001b[0m:\u001b[36m44\u001b[0m - \u001b[34m\u001b[1mFetched project details for 06535@test: { \"admin@test\" : { \"file_1\" : \"QmUq29KRwpTdvScB5oYzEDobDHyb4N1f9eaZXm4VaMCgiW, Qme5cwgyMn5R2LRqT6jvrg4GfjuauPKwGR4m6njHpzhAtR\", \"file_2\" : \"QmUq29KRwpTdvScB5oYzEDobDHyb4N1f9eaZXm4VaMCgiW, Qmd1NaZKsfeF47LMX7a7DgkDUxUYi2ykQpKTbqYeVaVw62\", \"file_3\" : \"QmZnh5Uuo7moZKMESFHpRjQFbbND5e3nArCzZg8uLARAgg, QmXgwRkPFxG2FWQTbVGgKsaEz7thbg4WLBcndsRfKUfeaa\", \"file_4\" : \"QmUq29KRwpTdvScB5oYzEDobDHyb4N1f9eaZXm4VaMCgiW, QmbKquQj5bMdMMHaNfacbXkT9NgwWbj157EPpRVi1tPPdx\", \"file_5\" : \"QmV1vYkuiwKGPA5Tyi4ECNFfWYocyTtQ3E5j7CSvPBX49Q, QmY7xwK4beVPQLbeKxEAeStqxY69f7GzRhqTukXXsLMkMh\", \"linked_user\" : \"crazy_nash@test\", \"project_metadata_cid\" : \"QmbmyecKUbwCDFPt6Uddx411bCvefLiRXPxHs5vnYz4XZm\" } }\u001b[0m\n",
      "\u001b[32m2025-01-09 15:15:49.657\u001b[0m | \u001b[34m\u001b[1mDEBUG   \u001b[0m | \u001b[36msuper_helper\u001b[0m:\u001b[36mfetch_project_details\u001b[0m:\u001b[36m263\u001b[0m - \u001b[34m\u001b[1mValidating and fetching details for CID: QmUq29KRwpTdvScB5oYzEDobDHyb4N1f9eaZXm4VaMCgiW\u001b[0m\n",
      "\u001b[32m2025-01-09 15:15:49.658\u001b[0m | \u001b[34m\u001b[1mDEBUG   \u001b[0m | \u001b[36msuper_helper\u001b[0m:\u001b[36mfetch_project_details\u001b[0m:\u001b[36m271\u001b[0m - \u001b[34m\u001b[1mFile CID QmUq29KRwpTdvScB5oYzEDobDHyb4N1f9eaZXm4VaMCgiW found under file_1.\u001b[0m\n",
      "\u001b[32m2025-01-09 15:15:49.659\u001b[0m | \u001b[1mINFO    \u001b[0m | \u001b[36m__main__\u001b[0m:\u001b[36m<module>\u001b[0m:\u001b[36m62\u001b[0m - \u001b[1mValid File CID for 06535@test.\u001b[0m\n",
      "\u001b[32m2025-01-09 15:15:49.661\u001b[0m | \u001b[34m\u001b[1mDEBUG   \u001b[0m | \u001b[36m__main__\u001b[0m:\u001b[36m<module>\u001b[0m:\u001b[36m63\u001b[0m - \u001b[34m\u001b[1mProject Metadata CID: QmbmyecKUbwCDFPt6Uddx411bCvefLiRXPxHs5vnYz4XZm\u001b[0m\n",
      "\u001b[32m2025-01-09 15:15:49.662\u001b[0m | \u001b[34m\u001b[1mDEBUG   \u001b[0m | \u001b[36m__main__\u001b[0m:\u001b[36m<module>\u001b[0m:\u001b[36m64\u001b[0m - \u001b[34m\u001b[1mLinked User: crazy_nash@test\u001b[0m\n",
      "\u001b[32m2025-01-09 15:15:49.663\u001b[0m | \u001b[34m\u001b[1mDEBUG   \u001b[0m | \u001b[36m__main__\u001b[0m:\u001b[36m<module>\u001b[0m:\u001b[36m68\u001b[0m - \u001b[34m\u001b[1mProcessing project metadata CID: QmbmyecKUbwCDFPt6Uddx411bCvefLiRXPxHs5vnYz4XZm\u001b[0m\n",
      "\u001b[32m2025-01-09 15:15:49.670\u001b[0m | \u001b[34m\u001b[1mDEBUG   \u001b[0m | \u001b[36m__main__\u001b[0m:\u001b[36m<module>\u001b[0m:\u001b[36m70\u001b[0m - \u001b[34m\u001b[1mDownloaded project metadata: {'@context': {'dc': 'http://purl.org/dc/terms/', 'schema': 'http://schema.org/'}, '@type': 'schema:ResearchProject', 'dc:abstract': 'This study explores the impact of quantum computing in supply chain management, focusing on biodiversity.', 'schema:endDate': '2026-07-23', 'schema:funding': {'@type': 'schema:Organization', 'schema:name': 'National Science Foundation'}, 'schema:keywords': ['quantum computing', 'supply chain management', 'biodiversity'], 'schema:location': {'@type': 'schema:Place', 'schema:name': 'Lagos, Nigeria'}, 'schema:name': 'Investigating the Role of quantum computing in supply chain management', 'schema:startDate': '2023-07-03'}\u001b[0m\n",
      "\u001b[32m2025-01-09 15:15:49.672\u001b[0m | \u001b[34m\u001b[1mDEBUG   \u001b[0m | \u001b[36m__main__\u001b[0m:\u001b[36m<module>\u001b[0m:\u001b[36m73\u001b[0m - \u001b[34m\u001b[1mProcessing linked user: crazy_nash@test\u001b[0m\n",
      "\u001b[32m2025-01-09 15:15:49.690\u001b[0m | \u001b[1mINFO    \u001b[0m | \u001b[36m__main__\u001b[0m:\u001b[36m<module>\u001b[0m:\u001b[36m83\u001b[0m - \u001b[1mUser JSON-LD CID: QmVQLbPmAqVYWPT1x9niJEC3w1YK5zxXYJPC8FraoasHuU\u001b[0m\n",
      "\u001b[32m2025-01-09 15:15:49.697\u001b[0m | \u001b[34m\u001b[1mDEBUG   \u001b[0m | \u001b[36m__main__\u001b[0m:\u001b[36m<module>\u001b[0m:\u001b[36m85\u001b[0m - \u001b[34m\u001b[1mDownloaded user metadata: {'@type': 'foaf:Person', 'foaf:holdsAccount': {'schema:identifier': 'crazy_nash@test', 'schema:publicKey': 'e9a68ae4790e255c80ec8a3c0cd2e179ce815507c5df23f1fa03287a7d6252a9', 'schema:roleName': 'reviewer'}, 'foaf:mbox': 'crazy_nash@email.com', 'foaf:name': 'Crazy Nash', 'foaf:organization': {'@type': 'foaf:Organization', 'foaf:name': \"Institut Supérieure d'Electronique de Paris\"}, 'schema:identifier': {'@type': 'PropertyValue', 'propertyID': 'ORCID', 'value': '9331-2337-8591-X'}}\u001b[0m\n",
      "\u001b[32m2025-01-09 15:15:49.698\u001b[0m | \u001b[1mINFO    \u001b[0m | \u001b[36m__main__\u001b[0m:\u001b[36m<module>\u001b[0m:\u001b[36m90\u001b[0m - \u001b[1mProcessing metadata CID: QmdyAE132FSeSQaqUHzE5GtMrEwy821ScAYKEXsxpWSnV5\u001b[0m\n",
      "\u001b[32m2025-01-09 15:15:49.704\u001b[0m | \u001b[1mINFO    \u001b[0m | \u001b[36msuper_helper\u001b[0m:\u001b[36mdownload_file\u001b[0m:\u001b[36m25\u001b[0m - \u001b[1mCleaned file name: COVID19-MLSF--A-multi-task-learning-based-stock-market_2023_Expert-Systems-w.pdf\u001b[0m\n",
      "\u001b[32m2025-01-09 15:15:49.707\u001b[0m | \u001b[1mINFO    \u001b[0m | \u001b[36msuper_helper\u001b[0m:\u001b[36mdownload_file\u001b[0m:\u001b[36m30\u001b[0m - \u001b[1mDownload directory ready: download/06535@test\u001b[0m\n",
      "\u001b[32m2025-01-09 15:15:49.708\u001b[0m | \u001b[1mINFO    \u001b[0m | \u001b[36msuper_helper\u001b[0m:\u001b[36mdownload_file\u001b[0m:\u001b[36m34\u001b[0m - \u001b[1mDownloading file to: download/06535@test/COVID19-MLSF--A-multi-task-learning-based-stock-market_2023_Expert-Systems-w.pdf\u001b[0m\n",
      "\u001b[32m2025-01-09 15:15:49.763\u001b[0m | \u001b[1mINFO    \u001b[0m | \u001b[36m__main__\u001b[0m:\u001b[36m<module>\u001b[0m:\u001b[36m93\u001b[0m - \u001b[1mDownloaded file metadata: QmdyAE132FSeSQaqUHzE5GtMrEwy821ScAYKEXsxpWSnV5\u001b[0m\n",
      "\u001b[32m2025-01-09 15:15:49.765\u001b[0m | \u001b[1mINFO    \u001b[0m | \u001b[36m__main__\u001b[0m:\u001b[36m<module>\u001b[0m:\u001b[36m94\u001b[0m - \u001b[1mfile metadata: {'Content-Length': '4016043', 'Content-Type': 'application/pdf', 'CreationDate--Text': '7th February 2023', 'CrossMarkDomains[1]': 'elsevier.com', 'CrossMarkDomains[2]': 'sciencedirect.com', 'CrossmarkDomainExclusive': 'true', 'CrossmarkMajorVersionDate': '2010-04-23', 'ElsevierWebPDFSpecifications': '7.0', 'X-TIKA:Parsed-By': ['org.apache.tika.parser.DefaultParser', 'org.apache.tika.parser.pdf.PDFParser'], 'X-TIKA:Parsed-By-Full-Set': ['org.apache.tika.parser.DefaultParser', 'org.apache.tika.parser.pdf.PDFParser'], 'X-TIKA:content_handler': 'ToTextContentHandler', 'X-TIKA:embedded_depth': '0', 'X-TIKA:parse_time_millis': '121', 'access_permission:assemble_document': 'true', 'access_permission:can_modify': 'true', 'access_permission:can_print': 'true', 'access_permission:can_print_degraded': 'true', 'access_permission:extract_content': 'true', 'access_permission:extract_for_accessibility': 'true', 'access_permission:fill_in_form': 'true', 'access_permission:modify_annotations': 'true', 'dc:creator': ['Chenxun Yuan', 'Xiang Ma', 'Hua Wang', 'Caiming Zhang', 'Xuemei Li'], 'dc:description': 'Expert Systems With Applications, 217 (2023) 119549. doi:10.1016/j.eswa.2023.119549', 'dc:format': 'application/pdf; version=1.7', 'dc:language': 'en-US', 'dc:subject': ['Stock market forecasting,COVID-19 pandemic,Multi-task learning,Feature fusion,K-nearest neighbor classifier', 'Expert Systems With Applications, 217 (2023) 119549. doi:10.1016/j.eswa.2023.119549'], 'dc:title': 'COVID19-MLSF: A multi-task learning-based stock market forecasting framework during the COVID-19 pandemic', 'dcterms:created': '2023-02-04T09:40:15Z', 'dcterms:modified': '2023-02-07T16:52:03Z', 'doi': '10.1016/j.eswa.2023.119549', 'meta:keyword': 'Stock market forecasting,COVID-19 pandemic,Multi-task learning,Feature fusion,K-nearest neighbor classifier', 'pdf:PDFVersion': '1.7', 'pdf:annotationSubtypes': 'Link', 'pdf:annotationTypes': 'null', 'pdf:charsPerPage': ['4308', '4046', '7115', '4551', '3567', '6426', '1218', '6119', '1896', '4055', '3517', '5861', '730', '833', '5274', '6307'], 'pdf:containsDamagedFont': 'false', 'pdf:containsNonEmbeddedFont': 'false', 'pdf:docinfo:created': '2023-02-04T09:40:15Z', 'pdf:docinfo:creator': 'Chenxun Yuan', 'pdf:docinfo:creator_tool': 'Elsevier', 'pdf:docinfo:custom:CreationDate--Text': '7th February 2023', 'pdf:docinfo:custom:CrossMarkDomains[1]': 'elsevier.com', 'pdf:docinfo:custom:CrossMarkDomains[2]': 'sciencedirect.com', 'pdf:docinfo:custom:CrossmarkDomainExclusive': 'true', 'pdf:docinfo:custom:CrossmarkMajorVersionDate': '2010-04-23', 'pdf:docinfo:custom:ElsevierWebPDFSpecifications': '7.0', 'pdf:docinfo:custom:doi': '10.1016/j.eswa.2023.119549', 'pdf:docinfo:custom:robots': 'noindex', 'pdf:docinfo:keywords': 'Stock market forecasting,COVID-19 pandemic,Multi-task learning,Feature fusion,K-nearest neighbor classifier', 'pdf:docinfo:modified': '2023-02-07T16:52:03Z', 'pdf:docinfo:producer': 'Acrobat Distiller 8.1.0 (Windows)', 'pdf:docinfo:subject': 'Expert Systems With Applications, 217 (2023) 119549. doi:10.1016/j.eswa.2023.119549', 'pdf:docinfo:title': 'COVID19-MLSF: A multi-task learning-based stock market forecasting framework during the COVID-19 pandemic', 'pdf:encrypted': 'false', 'pdf:hasCollection': 'false', 'pdf:hasMarkedContent': 'false', 'pdf:hasXFA': 'false', 'pdf:hasXMP': 'true', 'pdf:num3DAnnotations': '0', 'pdf:overallPercentageUnmappedUnicodeChars': '0.0', 'pdf:producer': 'Acrobat Distiller 8.1.0 (Windows)', 'pdf:totalUnmappedUnicodeChars': '0', 'pdf:unmappedUnicodeCharsPerPage': ['0', '0', '0', '0', '0', '0', '0', '0', '0', '0', '0', '0', '0', '0', '0', '0'], 'resourceName': \"b'COVID19-MLSF--A-multi-task-learning-based-stock-market_2023_Expert-Systems-w.pdf'\", 'robots': 'noindex', 'xmp:CreateDate': '2023-02-04T09:40:15Z', 'xmp:CreatorTool': 'Elsevier', 'xmp:MetadataDate': '2023-02-07T16:52:03Z', 'xmp:ModifyDate': '2023-02-07T16:52:03Z', 'xmpMM:DocumentID': 'uuid:1b499bed-4ce8-4c0c-b682-0d58baae1cbe', 'xmpTPg:NPages': '16'}\u001b[0m\n",
      "\u001b[32m2025-01-09 15:15:49.767\u001b[0m | \u001b[1mINFO    \u001b[0m | \u001b[36m__main__\u001b[0m:\u001b[36m<module>\u001b[0m:\u001b[36m95\u001b[0m - \u001b[1mNone\u001b[0m\n",
      "\u001b[32m2025-01-09 15:15:49.769\u001b[0m | \u001b[1mINFO    \u001b[0m | \u001b[36m__main__\u001b[0m:\u001b[36m<module>\u001b[0m:\u001b[36m31\u001b[0m - \u001b[1mProcessing Project ID: 06535@test\u001b[0m\n",
      "\u001b[32m2025-01-09 15:15:49.772\u001b[0m | \u001b[34m\u001b[1mDEBUG   \u001b[0m | \u001b[36m__main__\u001b[0m:\u001b[36m<module>\u001b[0m:\u001b[36m32\u001b[0m - \u001b[34m\u001b[1mFile CID: QmUq29KRwpTdvScB5oYzEDobDHyb4N1f9eaZXm4VaMCgiW\u001b[0m\n",
      "\u001b[32m2025-01-09 15:15:49.774\u001b[0m | \u001b[34m\u001b[1mDEBUG   \u001b[0m | \u001b[36m__main__\u001b[0m:\u001b[36m<module>\u001b[0m:\u001b[36m33\u001b[0m - \u001b[34m\u001b[1mMetadata CID: QmZxZTHgeGuQmkSwHJLcfzsPVtfvMCXckzw5EGVKY9Ecda\u001b[0m\n",
      "\u001b[32m2025-01-09 15:15:49.792\u001b[0m | \u001b[34m\u001b[1mDEBUG   \u001b[0m | \u001b[36m__main__\u001b[0m:\u001b[36m<module>\u001b[0m:\u001b[36m44\u001b[0m - \u001b[34m\u001b[1mFetched project details for 06535@test: { \"admin@test\" : { \"file_1\" : \"QmUq29KRwpTdvScB5oYzEDobDHyb4N1f9eaZXm4VaMCgiW, Qme5cwgyMn5R2LRqT6jvrg4GfjuauPKwGR4m6njHpzhAtR\", \"file_2\" : \"QmUq29KRwpTdvScB5oYzEDobDHyb4N1f9eaZXm4VaMCgiW, Qmd1NaZKsfeF47LMX7a7DgkDUxUYi2ykQpKTbqYeVaVw62\", \"file_3\" : \"QmZnh5Uuo7moZKMESFHpRjQFbbND5e3nArCzZg8uLARAgg, QmXgwRkPFxG2FWQTbVGgKsaEz7thbg4WLBcndsRfKUfeaa\", \"file_4\" : \"QmUq29KRwpTdvScB5oYzEDobDHyb4N1f9eaZXm4VaMCgiW, QmbKquQj5bMdMMHaNfacbXkT9NgwWbj157EPpRVi1tPPdx\", \"file_5\" : \"QmV1vYkuiwKGPA5Tyi4ECNFfWYocyTtQ3E5j7CSvPBX49Q, QmY7xwK4beVPQLbeKxEAeStqxY69f7GzRhqTukXXsLMkMh\", \"linked_user\" : \"crazy_nash@test\", \"project_metadata_cid\" : \"QmbmyecKUbwCDFPt6Uddx411bCvefLiRXPxHs5vnYz4XZm\" } }\u001b[0m\n",
      "\u001b[32m2025-01-09 15:15:49.792\u001b[0m | \u001b[34m\u001b[1mDEBUG   \u001b[0m | \u001b[36msuper_helper\u001b[0m:\u001b[36mfetch_project_details\u001b[0m:\u001b[36m263\u001b[0m - \u001b[34m\u001b[1mValidating and fetching details for CID: QmUq29KRwpTdvScB5oYzEDobDHyb4N1f9eaZXm4VaMCgiW\u001b[0m\n",
      "\u001b[32m2025-01-09 15:15:49.793\u001b[0m | \u001b[34m\u001b[1mDEBUG   \u001b[0m | \u001b[36msuper_helper\u001b[0m:\u001b[36mfetch_project_details\u001b[0m:\u001b[36m271\u001b[0m - \u001b[34m\u001b[1mFile CID QmUq29KRwpTdvScB5oYzEDobDHyb4N1f9eaZXm4VaMCgiW found under file_1.\u001b[0m\n",
      "\u001b[32m2025-01-09 15:15:49.793\u001b[0m | \u001b[1mINFO    \u001b[0m | \u001b[36m__main__\u001b[0m:\u001b[36m<module>\u001b[0m:\u001b[36m62\u001b[0m - \u001b[1mValid File CID for 06535@test.\u001b[0m\n",
      "\u001b[32m2025-01-09 15:15:49.797\u001b[0m | \u001b[34m\u001b[1mDEBUG   \u001b[0m | \u001b[36m__main__\u001b[0m:\u001b[36m<module>\u001b[0m:\u001b[36m63\u001b[0m - \u001b[34m\u001b[1mProject Metadata CID: QmbmyecKUbwCDFPt6Uddx411bCvefLiRXPxHs5vnYz4XZm\u001b[0m\n",
      "\u001b[32m2025-01-09 15:15:49.798\u001b[0m | \u001b[34m\u001b[1mDEBUG   \u001b[0m | \u001b[36m__main__\u001b[0m:\u001b[36m<module>\u001b[0m:\u001b[36m64\u001b[0m - \u001b[34m\u001b[1mLinked User: crazy_nash@test\u001b[0m\n",
      "\u001b[32m2025-01-09 15:15:49.798\u001b[0m | \u001b[34m\u001b[1mDEBUG   \u001b[0m | \u001b[36m__main__\u001b[0m:\u001b[36m<module>\u001b[0m:\u001b[36m68\u001b[0m - \u001b[34m\u001b[1mProcessing project metadata CID: QmbmyecKUbwCDFPt6Uddx411bCvefLiRXPxHs5vnYz4XZm\u001b[0m\n",
      "\u001b[32m2025-01-09 15:15:49.800\u001b[0m | \u001b[34m\u001b[1mDEBUG   \u001b[0m | \u001b[36m__main__\u001b[0m:\u001b[36m<module>\u001b[0m:\u001b[36m70\u001b[0m - \u001b[34m\u001b[1mDownloaded project metadata: {'@context': {'dc': 'http://purl.org/dc/terms/', 'schema': 'http://schema.org/'}, '@type': 'schema:ResearchProject', 'dc:abstract': 'This study explores the impact of quantum computing in supply chain management, focusing on biodiversity.', 'schema:endDate': '2026-07-23', 'schema:funding': {'@type': 'schema:Organization', 'schema:name': 'National Science Foundation'}, 'schema:keywords': ['quantum computing', 'supply chain management', 'biodiversity'], 'schema:location': {'@type': 'schema:Place', 'schema:name': 'Lagos, Nigeria'}, 'schema:name': 'Investigating the Role of quantum computing in supply chain management', 'schema:startDate': '2023-07-03'}\u001b[0m\n",
      "\u001b[32m2025-01-09 15:15:49.801\u001b[0m | \u001b[34m\u001b[1mDEBUG   \u001b[0m | \u001b[36m__main__\u001b[0m:\u001b[36m<module>\u001b[0m:\u001b[36m73\u001b[0m - \u001b[34m\u001b[1mProcessing linked user: crazy_nash@test\u001b[0m\n",
      "\u001b[32m2025-01-09 15:15:49.808\u001b[0m | \u001b[1mINFO    \u001b[0m | \u001b[36m__main__\u001b[0m:\u001b[36m<module>\u001b[0m:\u001b[36m83\u001b[0m - \u001b[1mUser JSON-LD CID: QmVQLbPmAqVYWPT1x9niJEC3w1YK5zxXYJPC8FraoasHuU\u001b[0m\n",
      "\u001b[32m2025-01-09 15:15:49.811\u001b[0m | \u001b[34m\u001b[1mDEBUG   \u001b[0m | \u001b[36m__main__\u001b[0m:\u001b[36m<module>\u001b[0m:\u001b[36m85\u001b[0m - \u001b[34m\u001b[1mDownloaded user metadata: {'@type': 'foaf:Person', 'foaf:holdsAccount': {'schema:identifier': 'crazy_nash@test', 'schema:publicKey': 'e9a68ae4790e255c80ec8a3c0cd2e179ce815507c5df23f1fa03287a7d6252a9', 'schema:roleName': 'reviewer'}, 'foaf:mbox': 'crazy_nash@email.com', 'foaf:name': 'Crazy Nash', 'foaf:organization': {'@type': 'foaf:Organization', 'foaf:name': \"Institut Supérieure d'Electronique de Paris\"}, 'schema:identifier': {'@type': 'PropertyValue', 'propertyID': 'ORCID', 'value': '9331-2337-8591-X'}}\u001b[0m\n",
      "\u001b[32m2025-01-09 15:15:49.812\u001b[0m | \u001b[1mINFO    \u001b[0m | \u001b[36m__main__\u001b[0m:\u001b[36m<module>\u001b[0m:\u001b[36m90\u001b[0m - \u001b[1mProcessing metadata CID: QmZxZTHgeGuQmkSwHJLcfzsPVtfvMCXckzw5EGVKY9Ecda\u001b[0m\n",
      "\u001b[32m2025-01-09 15:15:49.814\u001b[0m | \u001b[1mINFO    \u001b[0m | \u001b[36msuper_helper\u001b[0m:\u001b[36mdownload_file\u001b[0m:\u001b[36m25\u001b[0m - \u001b[1mCleaned file name: COVID19-MLSF--A-multi-task-learning-based-stock-market_2023_Expert-Systems-w.pdf\u001b[0m\n",
      "\u001b[32m2025-01-09 15:15:49.815\u001b[0m | \u001b[1mINFO    \u001b[0m | \u001b[36msuper_helper\u001b[0m:\u001b[36mdownload_file\u001b[0m:\u001b[36m30\u001b[0m - \u001b[1mDownload directory ready: download/06535@test\u001b[0m\n",
      "\u001b[32m2025-01-09 15:15:49.815\u001b[0m | \u001b[1mINFO    \u001b[0m | \u001b[36msuper_helper\u001b[0m:\u001b[36mdownload_file\u001b[0m:\u001b[36m34\u001b[0m - \u001b[1mDownloading file to: download/06535@test/COVID19-MLSF--A-multi-task-learning-based-stock-market_2023_Expert-Systems-w.pdf\u001b[0m\n",
      "\u001b[32m2025-01-09 15:15:49.835\u001b[0m | \u001b[1mINFO    \u001b[0m | \u001b[36m__main__\u001b[0m:\u001b[36m<module>\u001b[0m:\u001b[36m93\u001b[0m - \u001b[1mDownloaded file metadata: QmZxZTHgeGuQmkSwHJLcfzsPVtfvMCXckzw5EGVKY9Ecda\u001b[0m\n",
      "\u001b[32m2025-01-09 15:15:49.836\u001b[0m | \u001b[1mINFO    \u001b[0m | \u001b[36m__main__\u001b[0m:\u001b[36m<module>\u001b[0m:\u001b[36m94\u001b[0m - \u001b[1mfile metadata: {'Content-Length': '4016043', 'Content-Type': 'application/pdf', 'CreationDate--Text': '7th February 2023', 'CrossMarkDomains[1]': 'elsevier.com', 'CrossMarkDomains[2]': 'sciencedirect.com', 'CrossmarkDomainExclusive': 'true', 'CrossmarkMajorVersionDate': '2010-04-23', 'ElsevierWebPDFSpecifications': '7.0', 'X-TIKA:Parsed-By': ['org.apache.tika.parser.DefaultParser', 'org.apache.tika.parser.pdf.PDFParser'], 'X-TIKA:Parsed-By-Full-Set': ['org.apache.tika.parser.DefaultParser', 'org.apache.tika.parser.pdf.PDFParser'], 'X-TIKA:content_handler': 'ToTextContentHandler', 'X-TIKA:embedded_depth': '0', 'X-TIKA:parse_time_millis': '166', 'access_permission:assemble_document': 'true', 'access_permission:can_modify': 'true', 'access_permission:can_print': 'true', 'access_permission:can_print_degraded': 'true', 'access_permission:extract_content': 'true', 'access_permission:extract_for_accessibility': 'true', 'access_permission:fill_in_form': 'true', 'access_permission:modify_annotations': 'true', 'dc:creator': ['Chenxun Yuan', 'Xiang Ma', 'Hua Wang', 'Caiming Zhang', 'Xuemei Li'], 'dc:description': 'Expert Systems With Applications, 217 (2023) 119549. doi:10.1016/j.eswa.2023.119549', 'dc:format': 'application/pdf; version=1.7', 'dc:language': 'en-US', 'dc:subject': ['Stock market forecasting,COVID-19 pandemic,Multi-task learning,Feature fusion,K-nearest neighbor classifier', 'Expert Systems With Applications, 217 (2023) 119549. doi:10.1016/j.eswa.2023.119549'], 'dc:title': 'COVID19-MLSF: A multi-task learning-based stock market forecasting framework during the COVID-19 pandemic', 'dcterms:created': '2023-02-04T09:40:15Z', 'dcterms:modified': '2023-02-07T16:52:03Z', 'doi': '10.1016/j.eswa.2023.119549', 'meta:keyword': 'Stock market forecasting,COVID-19 pandemic,Multi-task learning,Feature fusion,K-nearest neighbor classifier', 'pdf:PDFVersion': '1.7', 'pdf:annotationSubtypes': 'Link', 'pdf:annotationTypes': 'null', 'pdf:charsPerPage': ['4308', '4046', '7115', '4551', '3567', '6426', '1218', '6119', '1896', '4055', '3517', '5861', '730', '833', '5274', '6307'], 'pdf:containsDamagedFont': 'false', 'pdf:containsNonEmbeddedFont': 'false', 'pdf:docinfo:created': '2023-02-04T09:40:15Z', 'pdf:docinfo:creator': 'Chenxun Yuan', 'pdf:docinfo:creator_tool': 'Elsevier', 'pdf:docinfo:custom:CreationDate--Text': '7th February 2023', 'pdf:docinfo:custom:CrossMarkDomains[1]': 'elsevier.com', 'pdf:docinfo:custom:CrossMarkDomains[2]': 'sciencedirect.com', 'pdf:docinfo:custom:CrossmarkDomainExclusive': 'true', 'pdf:docinfo:custom:CrossmarkMajorVersionDate': '2010-04-23', 'pdf:docinfo:custom:ElsevierWebPDFSpecifications': '7.0', 'pdf:docinfo:custom:doi': '10.1016/j.eswa.2023.119549', 'pdf:docinfo:custom:robots': 'noindex', 'pdf:docinfo:keywords': 'Stock market forecasting,COVID-19 pandemic,Multi-task learning,Feature fusion,K-nearest neighbor classifier', 'pdf:docinfo:modified': '2023-02-07T16:52:03Z', 'pdf:docinfo:producer': 'Acrobat Distiller 8.1.0 (Windows)', 'pdf:docinfo:subject': 'Expert Systems With Applications, 217 (2023) 119549. doi:10.1016/j.eswa.2023.119549', 'pdf:docinfo:title': 'COVID19-MLSF: A multi-task learning-based stock market forecasting framework during the COVID-19 pandemic', 'pdf:encrypted': 'false', 'pdf:hasCollection': 'false', 'pdf:hasMarkedContent': 'false', 'pdf:hasXFA': 'false', 'pdf:hasXMP': 'true', 'pdf:num3DAnnotations': '0', 'pdf:overallPercentageUnmappedUnicodeChars': '0.0', 'pdf:producer': 'Acrobat Distiller 8.1.0 (Windows)', 'pdf:totalUnmappedUnicodeChars': '0', 'pdf:unmappedUnicodeCharsPerPage': ['0', '0', '0', '0', '0', '0', '0', '0', '0', '0', '0', '0', '0', '0', '0', '0'], 'resourceName': \"b'COVID19-MLSF--A-multi-task-learning-based-stock-market_2023_Expert-Systems-w.pdf'\", 'robots': 'noindex', 'xmp:CreateDate': '2023-02-04T09:40:15Z', 'xmp:CreatorTool': 'Elsevier', 'xmp:MetadataDate': '2023-02-07T16:52:03Z', 'xmp:ModifyDate': '2023-02-07T16:52:03Z', 'xmpMM:DocumentID': 'uuid:1b499bed-4ce8-4c0c-b682-0d58baae1cbe', 'xmpTPg:NPages': '16'}\u001b[0m\n",
      "\u001b[32m2025-01-09 15:15:49.836\u001b[0m | \u001b[1mINFO    \u001b[0m | \u001b[36m__main__\u001b[0m:\u001b[36m<module>\u001b[0m:\u001b[36m95\u001b[0m - \u001b[1mNone\u001b[0m\n",
      "\u001b[32m2025-01-09 15:15:49.836\u001b[0m | \u001b[1mINFO    \u001b[0m | \u001b[36m__main__\u001b[0m:\u001b[36m<module>\u001b[0m:\u001b[36m31\u001b[0m - \u001b[1mProcessing Project ID: 06535@test\u001b[0m\n",
      "\u001b[32m2025-01-09 15:15:49.837\u001b[0m | \u001b[34m\u001b[1mDEBUG   \u001b[0m | \u001b[36m__main__\u001b[0m:\u001b[36m<module>\u001b[0m:\u001b[36m32\u001b[0m - \u001b[34m\u001b[1mFile CID: QmUq29KRwpTdvScB5oYzEDobDHyb4N1f9eaZXm4VaMCgiW\u001b[0m\n",
      "\u001b[32m2025-01-09 15:15:49.837\u001b[0m | \u001b[34m\u001b[1mDEBUG   \u001b[0m | \u001b[36m__main__\u001b[0m:\u001b[36m<module>\u001b[0m:\u001b[36m33\u001b[0m - \u001b[34m\u001b[1mMetadata CID: Qme5cwgyMn5R2LRqT6jvrg4GfjuauPKwGR4m6njHpzhAtR\u001b[0m\n",
      "\u001b[32m2025-01-09 15:15:49.843\u001b[0m | \u001b[34m\u001b[1mDEBUG   \u001b[0m | \u001b[36m__main__\u001b[0m:\u001b[36m<module>\u001b[0m:\u001b[36m44\u001b[0m - \u001b[34m\u001b[1mFetched project details for 06535@test: { \"admin@test\" : { \"file_1\" : \"QmUq29KRwpTdvScB5oYzEDobDHyb4N1f9eaZXm4VaMCgiW, Qme5cwgyMn5R2LRqT6jvrg4GfjuauPKwGR4m6njHpzhAtR\", \"file_2\" : \"QmUq29KRwpTdvScB5oYzEDobDHyb4N1f9eaZXm4VaMCgiW, Qmd1NaZKsfeF47LMX7a7DgkDUxUYi2ykQpKTbqYeVaVw62\", \"file_3\" : \"QmZnh5Uuo7moZKMESFHpRjQFbbND5e3nArCzZg8uLARAgg, QmXgwRkPFxG2FWQTbVGgKsaEz7thbg4WLBcndsRfKUfeaa\", \"file_4\" : \"QmUq29KRwpTdvScB5oYzEDobDHyb4N1f9eaZXm4VaMCgiW, QmbKquQj5bMdMMHaNfacbXkT9NgwWbj157EPpRVi1tPPdx\", \"file_5\" : \"QmV1vYkuiwKGPA5Tyi4ECNFfWYocyTtQ3E5j7CSvPBX49Q, QmY7xwK4beVPQLbeKxEAeStqxY69f7GzRhqTukXXsLMkMh\", \"linked_user\" : \"crazy_nash@test\", \"project_metadata_cid\" : \"QmbmyecKUbwCDFPt6Uddx411bCvefLiRXPxHs5vnYz4XZm\" } }\u001b[0m\n",
      "\u001b[32m2025-01-09 15:15:49.843\u001b[0m | \u001b[34m\u001b[1mDEBUG   \u001b[0m | \u001b[36msuper_helper\u001b[0m:\u001b[36mfetch_project_details\u001b[0m:\u001b[36m263\u001b[0m - \u001b[34m\u001b[1mValidating and fetching details for CID: QmUq29KRwpTdvScB5oYzEDobDHyb4N1f9eaZXm4VaMCgiW\u001b[0m\n",
      "\u001b[32m2025-01-09 15:15:49.844\u001b[0m | \u001b[34m\u001b[1mDEBUG   \u001b[0m | \u001b[36msuper_helper\u001b[0m:\u001b[36mfetch_project_details\u001b[0m:\u001b[36m271\u001b[0m - \u001b[34m\u001b[1mFile CID QmUq29KRwpTdvScB5oYzEDobDHyb4N1f9eaZXm4VaMCgiW found under file_1.\u001b[0m\n",
      "\u001b[32m2025-01-09 15:15:49.844\u001b[0m | \u001b[1mINFO    \u001b[0m | \u001b[36m__main__\u001b[0m:\u001b[36m<module>\u001b[0m:\u001b[36m62\u001b[0m - \u001b[1mValid File CID for 06535@test.\u001b[0m\n",
      "\u001b[32m2025-01-09 15:15:49.844\u001b[0m | \u001b[34m\u001b[1mDEBUG   \u001b[0m | \u001b[36m__main__\u001b[0m:\u001b[36m<module>\u001b[0m:\u001b[36m63\u001b[0m - \u001b[34m\u001b[1mProject Metadata CID: QmbmyecKUbwCDFPt6Uddx411bCvefLiRXPxHs5vnYz4XZm\u001b[0m\n",
      "\u001b[32m2025-01-09 15:15:49.844\u001b[0m | \u001b[34m\u001b[1mDEBUG   \u001b[0m | \u001b[36m__main__\u001b[0m:\u001b[36m<module>\u001b[0m:\u001b[36m64\u001b[0m - \u001b[34m\u001b[1mLinked User: crazy_nash@test\u001b[0m\n",
      "\u001b[32m2025-01-09 15:15:49.845\u001b[0m | \u001b[34m\u001b[1mDEBUG   \u001b[0m | \u001b[36m__main__\u001b[0m:\u001b[36m<module>\u001b[0m:\u001b[36m68\u001b[0m - \u001b[34m\u001b[1mProcessing project metadata CID: QmbmyecKUbwCDFPt6Uddx411bCvefLiRXPxHs5vnYz4XZm\u001b[0m\n",
      "\u001b[32m2025-01-09 15:15:49.847\u001b[0m | \u001b[34m\u001b[1mDEBUG   \u001b[0m | \u001b[36m__main__\u001b[0m:\u001b[36m<module>\u001b[0m:\u001b[36m70\u001b[0m - \u001b[34m\u001b[1mDownloaded project metadata: {'@context': {'dc': 'http://purl.org/dc/terms/', 'schema': 'http://schema.org/'}, '@type': 'schema:ResearchProject', 'dc:abstract': 'This study explores the impact of quantum computing in supply chain management, focusing on biodiversity.', 'schema:endDate': '2026-07-23', 'schema:funding': {'@type': 'schema:Organization', 'schema:name': 'National Science Foundation'}, 'schema:keywords': ['quantum computing', 'supply chain management', 'biodiversity'], 'schema:location': {'@type': 'schema:Place', 'schema:name': 'Lagos, Nigeria'}, 'schema:name': 'Investigating the Role of quantum computing in supply chain management', 'schema:startDate': '2023-07-03'}\u001b[0m\n",
      "\u001b[32m2025-01-09 15:15:49.848\u001b[0m | \u001b[34m\u001b[1mDEBUG   \u001b[0m | \u001b[36m__main__\u001b[0m:\u001b[36m<module>\u001b[0m:\u001b[36m73\u001b[0m - \u001b[34m\u001b[1mProcessing linked user: crazy_nash@test\u001b[0m\n",
      "\u001b[32m2025-01-09 15:15:49.852\u001b[0m | \u001b[1mINFO    \u001b[0m | \u001b[36m__main__\u001b[0m:\u001b[36m<module>\u001b[0m:\u001b[36m83\u001b[0m - \u001b[1mUser JSON-LD CID: QmVQLbPmAqVYWPT1x9niJEC3w1YK5zxXYJPC8FraoasHuU\u001b[0m\n",
      "\u001b[32m2025-01-09 15:15:49.855\u001b[0m | \u001b[34m\u001b[1mDEBUG   \u001b[0m | \u001b[36m__main__\u001b[0m:\u001b[36m<module>\u001b[0m:\u001b[36m85\u001b[0m - \u001b[34m\u001b[1mDownloaded user metadata: {'@type': 'foaf:Person', 'foaf:holdsAccount': {'schema:identifier': 'crazy_nash@test', 'schema:publicKey': 'e9a68ae4790e255c80ec8a3c0cd2e179ce815507c5df23f1fa03287a7d6252a9', 'schema:roleName': 'reviewer'}, 'foaf:mbox': 'crazy_nash@email.com', 'foaf:name': 'Crazy Nash', 'foaf:organization': {'@type': 'foaf:Organization', 'foaf:name': \"Institut Supérieure d'Electronique de Paris\"}, 'schema:identifier': {'@type': 'PropertyValue', 'propertyID': 'ORCID', 'value': '9331-2337-8591-X'}}\u001b[0m\n",
      "\u001b[32m2025-01-09 15:15:49.855\u001b[0m | \u001b[1mINFO    \u001b[0m | \u001b[36m__main__\u001b[0m:\u001b[36m<module>\u001b[0m:\u001b[36m90\u001b[0m - \u001b[1mProcessing metadata CID: Qme5cwgyMn5R2LRqT6jvrg4GfjuauPKwGR4m6njHpzhAtR\u001b[0m\n",
      "\u001b[32m2025-01-09 15:15:49.858\u001b[0m | \u001b[1mINFO    \u001b[0m | \u001b[36msuper_helper\u001b[0m:\u001b[36mdownload_file\u001b[0m:\u001b[36m25\u001b[0m - \u001b[1mCleaned file name: COVID19-MLSF--A-multi-task-learning-based-stock-market_2023_Expert-Systems-w.pdf\u001b[0m\n",
      "\u001b[32m2025-01-09 15:15:49.858\u001b[0m | \u001b[1mINFO    \u001b[0m | \u001b[36msuper_helper\u001b[0m:\u001b[36mdownload_file\u001b[0m:\u001b[36m30\u001b[0m - \u001b[1mDownload directory ready: download/06535@test\u001b[0m\n",
      "\u001b[32m2025-01-09 15:15:49.859\u001b[0m | \u001b[1mINFO    \u001b[0m | \u001b[36msuper_helper\u001b[0m:\u001b[36mdownload_file\u001b[0m:\u001b[36m34\u001b[0m - \u001b[1mDownloading file to: download/06535@test/COVID19-MLSF--A-multi-task-learning-based-stock-market_2023_Expert-Systems-w.pdf\u001b[0m\n",
      "\u001b[32m2025-01-09 15:15:49.878\u001b[0m | \u001b[1mINFO    \u001b[0m | \u001b[36m__main__\u001b[0m:\u001b[36m<module>\u001b[0m:\u001b[36m93\u001b[0m - \u001b[1mDownloaded file metadata: Qme5cwgyMn5R2LRqT6jvrg4GfjuauPKwGR4m6njHpzhAtR\u001b[0m\n",
      "\u001b[32m2025-01-09 15:15:49.878\u001b[0m | \u001b[1mINFO    \u001b[0m | \u001b[36m__main__\u001b[0m:\u001b[36m<module>\u001b[0m:\u001b[36m94\u001b[0m - \u001b[1mfile metadata: {'Content-Length': '4016043', 'Content-Type': 'application/pdf', 'CreationDate--Text': '7th February 2023', 'CrossMarkDomains[1]': 'elsevier.com', 'CrossMarkDomains[2]': 'sciencedirect.com', 'CrossmarkDomainExclusive': 'true', 'CrossmarkMajorVersionDate': '2010-04-23', 'ElsevierWebPDFSpecifications': '7.0', 'X-TIKA:Parsed-By': ['org.apache.tika.parser.DefaultParser', 'org.apache.tika.parser.pdf.PDFParser'], 'X-TIKA:Parsed-By-Full-Set': ['org.apache.tika.parser.DefaultParser', 'org.apache.tika.parser.pdf.PDFParser'], 'X-TIKA:content_handler': 'ToTextContentHandler', 'X-TIKA:embedded_depth': '0', 'X-TIKA:parse_time_millis': '124', 'access_permission:assemble_document': 'true', 'access_permission:can_modify': 'true', 'access_permission:can_print': 'true', 'access_permission:can_print_degraded': 'true', 'access_permission:extract_content': 'true', 'access_permission:extract_for_accessibility': 'true', 'access_permission:fill_in_form': 'true', 'access_permission:modify_annotations': 'true', 'dc:creator': ['Chenxun Yuan', 'Xiang Ma', 'Hua Wang', 'Caiming Zhang', 'Xuemei Li'], 'dc:description': 'Expert Systems With Applications, 217 (2023) 119549. doi:10.1016/j.eswa.2023.119549', 'dc:format': 'application/pdf; version=1.7', 'dc:language': 'en-US', 'dc:subject': ['Stock market forecasting,COVID-19 pandemic,Multi-task learning,Feature fusion,K-nearest neighbor classifier', 'Expert Systems With Applications, 217 (2023) 119549. doi:10.1016/j.eswa.2023.119549'], 'dc:title': 'COVID19-MLSF: A multi-task learning-based stock market forecasting framework during the COVID-19 pandemic', 'dcterms:created': '2023-02-04T09:40:15Z', 'dcterms:modified': '2023-02-07T16:52:03Z', 'doi': '10.1016/j.eswa.2023.119549', 'meta:keyword': 'Stock market forecasting,COVID-19 pandemic,Multi-task learning,Feature fusion,K-nearest neighbor classifier', 'pdf:PDFVersion': '1.7', 'pdf:annotationSubtypes': 'Link', 'pdf:annotationTypes': 'null', 'pdf:charsPerPage': ['4308', '4046', '7115', '4551', '3567', '6426', '1218', '6119', '1896', '4055', '3517', '5861', '730', '833', '5274', '6307'], 'pdf:containsDamagedFont': 'false', 'pdf:containsNonEmbeddedFont': 'false', 'pdf:docinfo:created': '2023-02-04T09:40:15Z', 'pdf:docinfo:creator': 'Chenxun Yuan', 'pdf:docinfo:creator_tool': 'Elsevier', 'pdf:docinfo:custom:CreationDate--Text': '7th February 2023', 'pdf:docinfo:custom:CrossMarkDomains[1]': 'elsevier.com', 'pdf:docinfo:custom:CrossMarkDomains[2]': 'sciencedirect.com', 'pdf:docinfo:custom:CrossmarkDomainExclusive': 'true', 'pdf:docinfo:custom:CrossmarkMajorVersionDate': '2010-04-23', 'pdf:docinfo:custom:ElsevierWebPDFSpecifications': '7.0', 'pdf:docinfo:custom:doi': '10.1016/j.eswa.2023.119549', 'pdf:docinfo:custom:robots': 'noindex', 'pdf:docinfo:keywords': 'Stock market forecasting,COVID-19 pandemic,Multi-task learning,Feature fusion,K-nearest neighbor classifier', 'pdf:docinfo:modified': '2023-02-07T16:52:03Z', 'pdf:docinfo:producer': 'Acrobat Distiller 8.1.0 (Windows)', 'pdf:docinfo:subject': 'Expert Systems With Applications, 217 (2023) 119549. doi:10.1016/j.eswa.2023.119549', 'pdf:docinfo:title': 'COVID19-MLSF: A multi-task learning-based stock market forecasting framework during the COVID-19 pandemic', 'pdf:encrypted': 'false', 'pdf:hasCollection': 'false', 'pdf:hasMarkedContent': 'false', 'pdf:hasXFA': 'false', 'pdf:hasXMP': 'true', 'pdf:num3DAnnotations': '0', 'pdf:overallPercentageUnmappedUnicodeChars': '0.0', 'pdf:producer': 'Acrobat Distiller 8.1.0 (Windows)', 'pdf:totalUnmappedUnicodeChars': '0', 'pdf:unmappedUnicodeCharsPerPage': ['0', '0', '0', '0', '0', '0', '0', '0', '0', '0', '0', '0', '0', '0', '0', '0'], 'resourceName': \"b'COVID19-MLSF--A-multi-task-learning-based-stock-market_2023_Expert-Systems-w.pdf'\", 'robots': 'noindex', 'xmp:CreateDate': '2023-02-04T09:40:15Z', 'xmp:CreatorTool': 'Elsevier', 'xmp:MetadataDate': '2023-02-07T16:52:03Z', 'xmp:ModifyDate': '2023-02-07T16:52:03Z', 'xmpMM:DocumentID': 'uuid:1b499bed-4ce8-4c0c-b682-0d58baae1cbe', 'xmpTPg:NPages': '16'}\u001b[0m\n",
      "\u001b[32m2025-01-09 15:15:49.879\u001b[0m | \u001b[1mINFO    \u001b[0m | \u001b[36m__main__\u001b[0m:\u001b[36m<module>\u001b[0m:\u001b[36m95\u001b[0m - \u001b[1mNone\u001b[0m\n"
     ]
    }
   ],
   "source": [
    "from loguru import logger\n",
    "import json\n",
    "from whoosh.index import open_dir\n",
    "\n",
    "# Open an existing index (adjust the path to your index directory)\n",
    "index_path = \"indexdir\"\n",
    "index = open_dir(index_path)\n",
    "\n",
    "# Directory for file downloads\n",
    "download_path = \"download\"\n",
    "\n",
    "# Perform a keyword search\n",
    "keyword = \"must\"\n",
    "search_results, project_ids_with_cids = search_index(index, keyword)\n",
    "\n",
    "# Check if there are no search results\n",
    "if not search_results:\n",
    "    logger.warning(f\"No search results found for keyword: '{keyword}'. Exiting the script.\")\n",
    "else:\n",
    "    # Process each dictionary in search results\n",
    "    for result_dict in search_results:\n",
    "        project_id = result_dict.get('project_id')\n",
    "        file_cid = result_dict.get('file_cid')\n",
    "        metadata_cid = result_dict.get('metadata_cid')\n",
    "\n",
    "        if not project_id or not file_cid or not metadata_cid:\n",
    "            logger.error(f\"Missing required data in result: {result_dict}\")\n",
    "            continue\n",
    "\n",
    "        # Log the retrieved project details\n",
    "        logger.info(f\"Processing Project ID: {project_id}\")\n",
    "        logger.debug(f\"File CID: {file_cid}\")\n",
    "        logger.debug(f\"Metadata CID: {metadata_cid}\")\n",
    "        # file_metadata_json = download_json_from_ipfs(metadata_cid)\n",
    "        # print(\"file_metadata_json:\", file_metadata_json)\n",
    "        \n",
    "\n",
    "        # Fetch project details from the blockchain\n",
    "        project_details = get_account_detail(project_id)\n",
    "        if not project_details:\n",
    "            logger.error(f\"No project details found for Project ID: {project_id}.\")\n",
    "            continue\n",
    "\n",
    "        logger.debug(f\"Fetched project details for {project_id}: {project_details}\")\n",
    "\n",
    "        # Parse blockchain data\n",
    "        try:\n",
    "            blockchain_data = json.loads(project_details)\n",
    "        except json.JSONDecodeError as e:\n",
    "            logger.error(f\"Error decoding project details JSON for {project_id}: {e}\")\n",
    "            continue\n",
    "\n",
    "        # Validate file CID and fetch project details\n",
    "        validation_result = fetch_project_details(file_cid, blockchain_data)\n",
    "        if validation_result[\"is_valid\"]:\n",
    "            project_metadata_cid = validation_result.get(\"project_metadata_cid\")\n",
    "            linked_user = validation_result.get(\"linked_user\")\n",
    "            file_metadata_cid = validation_result.get(\"metadata_cid\")\n",
    "            \n",
    "            # download_file(file_metadata_json, download_path, project_id, file_cid)\n",
    "\n",
    "            logger.info(f\"Valid File CID for {project_id}.\")\n",
    "            logger.debug(f\"Project Metadata CID: {project_metadata_cid}\")\n",
    "            logger.debug(f\"Linked User: {linked_user}\")\n",
    "\n",
    "            # Fetch and process metadata and user details\n",
    "            if project_metadata_cid:\n",
    "                logger.debug(f\"Processing project metadata CID: {project_metadata_cid}\")\n",
    "                project_metadata = download_json_from_ipfs(project_metadata_cid)\n",
    "                logger.debug(f\"Downloaded project metadata: {project_metadata}\")\n",
    "\n",
    "            if linked_user:\n",
    "                logger.debug(f\"Processing linked user: {linked_user}\")\n",
    "                user_details = get_account_detail(linked_user)\n",
    "                try:\n",
    "                    user_details = json.loads(user_details)\n",
    "                except json.JSONDecodeError as e:\n",
    "                    logger.error(f\"Error decoding user details JSON for {linked_user}: {e}\")\n",
    "                    continue\n",
    "\n",
    "                user_json_ld_cid = user_details.get(\"admin@test\", {}).get(\"user_json_ld_cid\", None)\n",
    "                if user_json_ld_cid:\n",
    "                    logger.info(f\"User JSON-LD CID: {user_json_ld_cid}\")\n",
    "                    user_metadata = download_json_from_ipfs(user_json_ld_cid)\n",
    "                    logger.debug(f\"Downloaded user metadata: {user_metadata}\")\n",
    "                else:\n",
    "                    logger.warning(f\"User JSON-LD CID not found for linked user {linked_user}.\")\n",
    "            \n",
    "            if metadata_cid:\n",
    "                logger.info(f\"Processing metadata CID: {metadata_cid}\")\n",
    "                file_metadata = download_json_from_ipfs(metadata_cid)\n",
    "                file_metadata_json = download_file(file_metadata, download_path, project_id, file_cid)\n",
    "                logger.info(f\"Downloaded file metadata: {metadata_cid}\")\n",
    "                logger.info(f\"file metadata: {file_metadata}\")\n",
    "                logger.info(file_metadata_json)\n",
    "            \n",
    "        \n",
    "        else:\n",
    "            logger.warning(f\"Invalid File CID for Project ID: {project_id}. Skipping metadata processing.\")\n"
   ]
  },
  {
   "cell_type": "code",
   "execution_count": 7,
   "id": "4617cd65",
   "metadata": {},
   "outputs": [],
   "source": [
    "# Perform a keyword search\n",
    "# keyword = \"paper\"\n",
    "# search_results, project_ids_with_cids = search_index(index, keyword)\n",
    "\n",
    "# if not search_results:\n",
    "#     logger.warning(f\"No search results found for keyword: '{keyword}'. Exiting the script.\")\n",
    "# else:\n",
    "#     for result in search_results:\n",
    "#         process_search_result(result)"
   ]
  }
 ],
 "metadata": {
  "kernelspec": {
   "display_name": "Python 3 (ipykernel)",
   "language": "python",
   "name": "python3"
  },
  "language_info": {
   "codemirror_mode": {
    "name": "ipython",
    "version": 3
   },
   "file_extension": ".py",
   "mimetype": "text/x-python",
   "name": "python",
   "nbconvert_exporter": "python",
   "pygments_lexer": "ipython3",
   "version": "3.9.21"
  }
 },
 "nbformat": 4,
 "nbformat_minor": 5
}
