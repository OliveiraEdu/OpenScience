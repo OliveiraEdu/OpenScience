{
 "cells": [
  {
   "cell_type": "code",
   "execution_count": 4,
   "id": "79650b49",
   "metadata": {},
   "outputs": [
    {
     "name": "stdout",
     "output_type": "stream",
     "text": [
      "----------------------------------------\n"
     ]
    }
   ],
   "source": [
    "#Deploys the Account Detail smart contract\n",
    "from new_helper import *\n",
    "\n",
    "# Deploys the contract\n",
    "# hash = create_contract()\n",
    "# address = integration_helpers.get_engine_receipts_address(hash)\n",
    "\n",
    "# print(integration_helpers.get_engine_receipts_result(hash))\n",
    "\n",
    "# print(address)\n",
    "\n",
    "print(40*\"-\")\n",
    "\n",
    "id = \"07546\"\n",
    "DOMAIN = \"test\""
   ]
  },
  {
   "cell_type": "code",
   "execution_count": 5,
   "id": "4d0d0bcb",
   "metadata": {},
   "outputs": [
    {
     "name": "stderr",
     "output_type": "stream",
     "text": [
      "\u001b[32m2024-11-21 01:56:03.007\u001b[0m | \u001b[1mINFO    \u001b[0m | \u001b[36mnew_helper\u001b[0m:\u001b[36mparse_file_with_tika\u001b[0m:\u001b[36m29\u001b[0m - \u001b[1mParsing upload.old/Diabetic-retinopathy-identification-using-parallel-convo_2023_Expert-Systems.pdf with Tika...\u001b[0m\n"
     ]
    },
    {
     "name": "stdout",
     "output_type": "stream",
     "text": [
      "file:  upload.old/Diabetic-retinopathy-identification-using-parallel-convo_2023_Expert-Systems.pdf\n",
      "file metadata:  {'pdf:PDFVersion': '1.7', 'xmp:CreatorTool': 'Elsevier', 'pdf:docinfo:title': 'Diabetic retinopathy identification using parallel convolutional neural network based feature extractor and ELM classifier', 'pdf:hasXFA': 'false', 'access_permission:can_print_degraded': 'true', 'X-TIKA:Parsed-By-Full-Set': ['org.apache.tika.parser.DefaultParser', 'org.apache.tika.parser.pdf.PDFParser'], 'X-TIKA:content_handler': 'ToTextContentHandler', 'pdf:num3DAnnotations': '0', 'dc:format': 'application/pdf; version=1.7', 'pdf:docinfo:custom:robots': 'noindex', 'pdf:docinfo:creator_tool': 'Elsevier', 'access_permission:fill_in_form': 'true', 'pdf:docinfo:custom:CreationDate--Text': '7th February 2023', 'pdf:hasCollection': 'false', 'pdf:encrypted': 'false', 'dc:title': 'Diabetic retinopathy identification using parallel convolutional neural network based feature extractor and ELM classifier', 'pdf:containsNonEmbeddedFont': 'false', 'xmp:CreateDate': '2023-02-04T09:40:15Z', 'pdf:docinfo:custom:CrossMarkDomains[1]': 'elsevier.com', 'robots': 'noindex', 'pdf:docinfo:subject': 'Expert Systems With Applications, 217 (2023) 119557. doi:10.1016/j.eswa.2023.119557', 'pdf:hasMarkedContent': 'true', 'xmp:ModifyDate': '2023-02-07T17:54:35Z', 'pdf:docinfo:creator': 'Md. Nahiduzzaman', 'pdf:docinfo:custom:CrossmarkMajorVersionDate': '2010-04-23', 'access_permission:extract_for_accessibility': 'true', 'resourceName': \"b'Diabetic-retinopathy-identification-using-parallel-convo_2023_Expert-Systems.pdf'\", 'pdf:docinfo:custom:CrossMarkDomains[2]': 'sciencedirect.com', 'X-TIKA:Parsed-By': ['org.apache.tika.parser.DefaultParser', 'org.apache.tika.parser.pdf.PDFParser'], 'ElsevierWebPDFSpecifications': '7.0', 'pdf:docinfo:custom:doi': '10.1016/j.eswa.2023.119557', 'pdf:docinfo:custom:CrossmarkDomainExclusive': 'true', 'X-TIKA:embedded_depth': '0', 'CrossmarkDomainExclusive': 'true', 'pdf:annotationTypes': 'null', 'pdf:docinfo:producer': 'Acrobat Distiller 8.1.0 (Windows)', 'pdf:annotationSubtypes': 'Link', 'CreationDate--Text': '7th February 2023', 'doi': '10.1016/j.eswa.2023.119557', 'pdf:containsDamagedFont': 'false', 'pdf:unmappedUnicodeCharsPerPage': ['0', '0', '0', '0', '0', '0', '0', '0', '0', '0', '0'], 'dc:description': 'Expert Systems With Applications, 217 (2023) 119557. doi:10.1016/j.eswa.2023.119557', 'access_permission:modify_annotations': 'true', 'dc:creator': ['Md. Nahiduzzaman', 'Md. Robiul Islam', 'Md. Omaer Faruq Goni', 'Md. Shamim Anower', 'Mominul Ahsan', 'Julfikar Haider', 'Marcin Kowalski'], 'dcterms:created': '2023-02-04T09:40:15Z', 'dcterms:modified': '2023-02-07T17:54:35Z', 'xmpMM:DocumentID': 'uuid:1b499bed-4ce8-4c0c-b682-0d58baae1cbe', 'CrossMarkDomains[1]': 'elsevier.com', 'pdf:overallPercentageUnmappedUnicodeChars': '0.0', 'pdf:docinfo:keywords': 'Contrast limited adaptive histogram equalization (CLAHE),Diabetic retinopathy (DR),Parallel convolutional neural network (PCNN),Extreme LEARNING MACHine (ELM)', 'pdf:docinfo:modified': '2023-02-07T17:54:35Z', 'Content-Length': '6122917', 'Content-Type': 'application/pdf', 'xmp:MetadataDate': '2023-02-07T17:54:35Z', 'dc:language': 'en', 'pdf:producer': 'Acrobat Distiller 8.1.0 (Windows)', 'dc:subject': ['Contrast limited adaptive histogram equalization (CLAHE),Diabetic retinopathy (DR),Parallel convolutional neural network (PCNN),Extreme LEARNING MACHine (ELM)', 'Expert Systems With Applications, 217 (2023) 119557. doi:10.1016/j.eswa.2023.119557'], 'pdf:docinfo:custom:ElsevierWebPDFSpecifications': '7.0', 'pdf:totalUnmappedUnicodeChars': '0', 'access_permission:assemble_document': 'true', 'xmpTPg:NPages': '11', 'pdf:hasXMP': 'true', 'pdf:charsPerPage': ['4980', '8262', '7998', '1077', '4759', '5305', '3814', '3469', '7158', '10210', '4231'], 'access_permission:extract_content': 'true', 'access_permission:can_print': 'true', 'CrossMarkDomains[2]': 'sciencedirect.com', 'meta:keyword': 'Contrast limited adaptive histogram equalization (CLAHE),Diabetic retinopathy (DR),Parallel convolutional neural network (PCNN),Extreme LEARNING MACHine (ELM)', 'X-TIKA:parse_time_millis': '122', 'access_permission:can_modify': 'true', 'pdf:docinfo:created': '2023-02-04T09:40:15Z', 'CrossmarkMajorVersionDate': '2010-04-23'}\n",
      "file cid:  QmT7ximApXtExAedhzUHGHDwRismRzuKykpH4dgTvGrNZs\n",
      "file metadata cid:  QmabjZMBrZPw1KBhn1vHpRykzmA6y4U6k3D2sg5jajxai4\n",
      "\tEntering \"create_contract\"\n",
      "('STATELESS_VALIDATION_SUCCESS', 1, 0)\n",
      "('ENOUGH_SIGNATURES_COLLECTED', 9, 0)\n",
      "('STATEFUL_VALIDATION_SUCCESS', 3, 0)\n",
      "('COMMITTED', 5, 0)\n",
      "\tLeaving \"create_contract\"\n",
      "\tEntering \"get_engine_receipts_address\"\n",
      "\tLeaving \"get_engine_receipts_address\"\n",
      "\tEntering \"set_account_detail\"\n",
      "None\n",
      "('STATELESS_VALIDATION_SUCCESS', 1, 0)\n",
      "('ENOUGH_SIGNATURES_COLLECTED', 9, 0)\n"
     ]
    },
    {
     "name": "stderr",
     "output_type": "stream",
     "text": [
      "\u001b[32m2024-11-21 01:56:07.906\u001b[0m | \u001b[1mINFO    \u001b[0m | \u001b[36mnew_helper\u001b[0m:\u001b[36mparse_file_with_tika\u001b[0m:\u001b[36m29\u001b[0m - \u001b[1mParsing upload.old/Munafò et al. - 2022 - The reproducibility debate is an opportunity, not .pdf with Tika...\u001b[0m\n"
     ]
    },
    {
     "name": "stdout",
     "output_type": "stream",
     "text": [
      "('STATEFUL_VALIDATION_SUCCESS', 3, 0)\n",
      "('COMMITTED', 5, 0)\n",
      "\tLeaving \"set_account_detail\"\n",
      "file:  upload.old/Munafò et al. - 2022 - The reproducibility debate is an opportunity, not .pdf\n",
      "file metadata:  {'pdf:PDFVersion': '1.6', 'xmp:CreatorTool': 'Springer', 'pdf:docinfo:title': 'The reproducibility debate is an opportunity, not a crisis', 'pdf:hasXFA': 'false', 'access_permission:can_print_degraded': 'true', 'pdfa:PDFVersion': 'A-2b', 'X-TIKA:Parsed-By-Full-Set': ['org.apache.tika.parser.DefaultParser', 'org.apache.tika.parser.pdf.PDFParser'], 'X-TIKA:content_handler': 'ToTextContentHandler', 'pdf:num3DAnnotations': '0', 'xmpMM:History:Action': ['converted', 'converted'], 'dc:format': 'application/pdf; version=1.6', 'pdf:docinfo:custom:robots': 'noindex', 'pdf:docinfo:creator_tool': 'Springer', 'access_permission:fill_in_form': 'true', 'xmpMM:History:When': ['2022-02-04T12:24:18Z', '2022-02-04T12:24:46Z'], 'pdf:hasCollection': 'false', 'pdf:encrypted': 'false', 'dc:title': 'The reproducibility debate is an opportunity, not a crisis', 'pdf:containsNonEmbeddedFont': 'false', 'xmp:CreateDate': '2022-02-04T12:22:19Z', 'xmpMM:History:SoftwareAgent': ['pdfToolbox', 'pdfToolbox'], 'pdf:docinfo:custom:CrossMarkDomains[1]': 'springer.com', 'robots': 'noindex', 'pdf:docinfo:subject': 'BMC Research Notes, https://doi.org/10.1186/s13104-022-05942-3', 'pdf:hasMarkedContent': 'false', 'xmpMM:History:InstanceID': ['uuid:42b1466b-ce3d-4831-b6fd-ec595177b7a2', 'uuid:46d1ef82-99a4-426b-ba14-311817d6f6f1'], 'xmp:ModifyDate': '2022-02-10T13:46:46Z', 'pdf:docinfo:creator': 'Marcus R. Munafò ', 'pdf:docinfo:custom:CrossmarkMajorVersionDate': '2010-04-23', 'access_permission:extract_for_accessibility': 'true', 'resourceName': \"b'Munaf\\\\xc3\\\\xb2 et al. - 2022 - The reproducibility debate is an opportunity, not .pdf'\", 'pdfaid:part': '2', 'pdf:docinfo:custom:CrossMarkDomains[2]': 'springerlink.com', 'X-TIKA:Parsed-By': ['org.apache.tika.parser.DefaultParser', 'org.apache.tika.parser.pdf.PDFParser'], 'pdf:docinfo:custom:doi': '10.1186/s13104-022-05942-3', 'pdf:docinfo:custom:CrossmarkDomainExclusive': 'true', 'X-TIKA:embedded_depth': '0', 'CrossmarkDomainExclusive': 'true', 'pdf:annotationTypes': 'null', 'pdf:docinfo:producer': 'Acrobat Distiller 10.1.8 (Windows); modified using iText® 5.3.5 ©2000-2012 1T3XT BVBA (SPRINGER SBM; licensed version)', 'pdf:annotationSubtypes': 'Link', 'doi': '10.1186/s13104-022-05942-3', 'pdf:containsDamagedFont': 'false', 'pdf:unmappedUnicodeCharsPerPage': ['0', '0', '0'], 'dc:description': 'BMC Research Notes, https://doi.org/10.1186/s13104-022-05942-3', 'access_permission:modify_annotations': 'true', 'dc:creator': ['Marcus R. Munafò ', 'Chris Chambers ', 'Alexandra Collins ', 'Laura Fortunato ', 'Malcolm Macleod '], 'dcterms:created': '2022-02-04T06:52:19Z', 'dcterms:modified': '2022-02-10T12:46:46Z', 'xmpMM:DocumentID': 'uuid:ba33d111-0f78-432f-94c0-9d4831112079', 'CrossMarkDomains[1]': 'springer.com', 'pdf:overallPercentageUnmappedUnicodeChars': '0.0', 'pdf:docinfo:keywords': 'UK Reproducibility Network,Reproducibility,Replicability,Research Integrity', 'pdf:docinfo:modified': '2022-02-10T12:46:46Z', 'Content-Length': '694525', 'Content-Type': 'application/pdf', 'xmp:MetadataDate': '2022-02-10T13:46:46Z', 'pdfaid:conformance': 'B', 'dc:language': 'EN', 'pdf:producer': 'Acrobat Distiller 10.1.8 (Windows); modified using iText® 5.3.5 ©2000-2012 1T3XT BVBA (SPRINGER SBM; licensed version)', 'dc:subject': ['UK Reproducibility Network,Reproducibility,Replicability,Research Integrity', 'BMC Research Notes, https://doi.org/10.1186/s13104-022-05942-3'], 'pdf:totalUnmappedUnicodeChars': '0', 'access_permission:assemble_document': 'true', 'xmpTPg:NPages': '3', 'pdf:hasXMP': 'true', 'pdf:charsPerPage': ['4801', '5534', '5242'], 'access_permission:extract_content': 'true', 'access_permission:can_print': 'true', 'CrossMarkDomains[2]': 'springerlink.com', 'meta:keyword': 'UK Reproducibility Network,Reproducibility,Replicability,Research Integrity', 'X-TIKA:parse_time_millis': '65', 'access_permission:can_modify': 'true', 'pdf:docinfo:created': '2022-02-04T06:52:19Z', 'CrossmarkMajorVersionDate': '2010-04-23'}\n",
      "file cid:  QmdiRawzVNUiB28ENKQ7WefeFLEJ1xMjsJjwtHL2jnJ9xW\n",
      "file metadata cid:  QmfRiny4Croq3YXtEcqvfy954X5WX5ksB7dxfdEH9oHPrs\n",
      "\tEntering \"set_account_detail\"\n",
      "None\n",
      "('STATELESS_VALIDATION_SUCCESS', 1, 0)\n",
      "('ENOUGH_SIGNATURES_COLLECTED', 9, 0)\n",
      "('STATEFUL_VALIDATION_SUCCESS', 3, 0)\n",
      "('COMMITTED', 5, 0)\n",
      "\tLeaving \"set_account_detail\"\n",
      "file:  upload.old/Mel-Spectrogram-based-advanced-deep-temporal-clusterin_2023_Expert-Systems-w.pdf\n"
     ]
    },
    {
     "name": "stderr",
     "output_type": "stream",
     "text": [
      "\u001b[32m2024-11-21 01:56:11.089\u001b[0m | \u001b[1mINFO    \u001b[0m | \u001b[36mnew_helper\u001b[0m:\u001b[36mparse_file_with_tika\u001b[0m:\u001b[36m29\u001b[0m - \u001b[1mParsing upload.old/Mel-Spectrogram-based-advanced-deep-temporal-clusterin_2023_Expert-Systems-w.pdf with Tika...\u001b[0m\n"
     ]
    },
    {
     "name": "stdout",
     "output_type": "stream",
     "text": [
      "file metadata:  {'pdf:PDFVersion': '1.7', 'pdf:docinfo:title': 'Mel Spectrogram-based advanced deep temporal clustering model with unsupervised data for fault diagnosis', 'xmp:CreatorTool': 'Elsevier', 'pdf:hasXFA': 'false', 'access_permission:can_print_degraded': 'true', 'X-TIKA:Parsed-By-Full-Set': ['org.apache.tika.parser.DefaultParser', 'org.apache.tika.parser.pdf.PDFParser'], 'X-TIKA:content_handler': 'ToTextContentHandler', 'pdf:num3DAnnotations': '0', 'dc:format': 'application/pdf; version=1.7', 'pdf:docinfo:custom:robots': 'noindex', 'pdf:docinfo:creator_tool': 'Elsevier', 'access_permission:fill_in_form': 'true', 'pdf:docinfo:custom:CreationDate--Text': '7th February 2023', 'pdf:hasCollection': 'false', 'pdf:encrypted': 'false', 'dc:title': 'Mel Spectrogram-based advanced deep temporal clustering model with unsupervised data for fault diagnosis', 'pdf:containsNonEmbeddedFont': 'false', 'pdf:docinfo:custom:CrossMarkDomains[1]': 'elsevier.com', 'robots': 'noindex', 'pdf:docinfo:subject': 'Expert Systems With Applications, 217 (2023) 119551. doi:10.1016/j.eswa.2023.119551', 'pdf:hasMarkedContent': 'true', 'pdf:docinfo:creator': 'Geonkyo Hong', 'pdf:docinfo:custom:CrossmarkMajorVersionDate': '2010-04-23', 'access_permission:extract_for_accessibility': 'true', 'resourceName': \"b'Mel-Spectrogram-based-advanced-deep-temporal-clusterin_2023_Expert-Systems-w.pdf'\", 'pdf:docinfo:custom:CrossMarkDomains[2]': 'sciencedirect.com', 'X-TIKA:Parsed-By': ['org.apache.tika.parser.DefaultParser', 'org.apache.tika.parser.pdf.PDFParser'], 'ElsevierWebPDFSpecifications': '7.0', 'pdf:docinfo:custom:doi': '10.1016/j.eswa.2023.119551', 'pdf:docinfo:custom:CrossmarkDomainExclusive': 'true', 'X-TIKA:embedded_depth': '0', 'CrossmarkDomainExclusive': 'true', 'pdf:annotationTypes': 'null', 'pdf:docinfo:producer': 'Acrobat Distiller 8.1.0 (Windows)', 'pdf:annotationSubtypes': 'Link', 'CreationDate--Text': '7th February 2023', 'doi': '10.1016/j.eswa.2023.119551', 'pdf:containsDamagedFont': 'false', 'pdf:unmappedUnicodeCharsPerPage': ['0', '0', '0', '0', '0', '0', '0', '0', '0', '0', '0', '0', '0', '0', '0', '0'], 'access_permission:modify_annotations': 'true', 'dc:creator': 'Geonkyo Hong', 'dcterms:created': '2023-02-07T18:16:11Z', 'dcterms:modified': '2023-02-07T18:19:55Z', 'CrossMarkDomains[1]': 'elsevier.com', 'pdf:overallPercentageUnmappedUnicodeChars': '0.0', 'pdf:docinfo:keywords': 'Anomaly detection,Data augmentation,Fault diagnosis,Mel spectrogram,Time series,Unsupervised learning', 'pdf:docinfo:modified': '2023-02-07T18:19:55Z', 'Content-Length': '7956340', 'Content-Type': 'application/pdf', 'dc:language': 'en', 'pdf:producer': 'Acrobat Distiller 8.1.0 (Windows)', 'dc:subject': ['Anomaly detection,Data augmentation,Fault diagnosis,Mel spectrogram,Time series,Unsupervised learning', 'Expert Systems With Applications, 217 (2023) 119551. doi:10.1016/j.eswa.2023.119551'], 'X-TIKA:EXCEPTION:warn': 'org.xml.sax.SAXParseException; lineNumber: 82; columnNumber: 11; The content of elements must consist of well-formed character data or markup.\\n\\tat org.apache.xerces.parsers.DOMParser.parse(Unknown Source)\\n\\tat org.apache.xerces.jaxp.DocumentBuilderImpl.parse(Unknown Source)\\n\\tat java.xml/javax.xml.parsers.DocumentBuilder.parse(DocumentBuilder.java:122)\\n\\tat org.apache.tika.utils.XMLReaderUtils.buildDOM(XMLReaderUtils.java:396)\\n\\tat org.apache.tika.parser.pdf.PDMetadataExtractor.loadDOM(PDMetadataExtractor.java:472)\\n\\tat org.apache.tika.parser.pdf.PDMetadataExtractor.extract(PDMetadataExtractor.java:69)\\n\\tat org.apache.tika.parser.pdf.PDFParser.extractMetadata(PDFParser.java:423)\\n\\tat org.apache.tika.parser.pdf.PDFParser.parse(PDFParser.java:181)\\n\\tat org.apache.tika.parser.CompositeParser.parse(CompositeParser.java:298)\\n\\tat org.apache.tika.parser.CompositeParser.parse(CompositeParser.java:298)\\n\\tat org.apache.tika.parser.AutoDetectParser.parse(AutoDetectParser.java:175)\\n\\tat org.apache.tika.parser.RecursiveParserWrapper.parse(RecursiveParserWrapper.java:163)\\n\\tat org.apache.tika.server.core.resource.TikaResource.parse(TikaResource.java:352)\\n\\tat org.apache.tika.server.core.resource.RecursiveMetadataResource.parseMetadata(RecursiveMetadataResource.java:78)\\n\\tat org.apache.tika.server.core.resource.RecursiveMetadataResource.parseMetadataToMetadataList(RecursiveMetadataResource.java:190)\\n\\tat org.apache.tika.server.core.resource.RecursiveMetadataResource.getMetadata(RecursiveMetadataResource.java:179)\\n\\tat jdk.internal.reflect.GeneratedMethodAccessor4.invoke(Unknown Source)\\n\\tat java.base/jdk.internal.reflect.DelegatingMethodAccessorImpl.invoke(DelegatingMethodAccessorImpl.java:43)\\n\\tat java.base/java.lang.reflect.Method.invoke(Method.java:569)\\n\\tat org.apache.cxf.service.invoker.AbstractInvoker.performInvocation(AbstractInvoker.java:179)\\n\\tat org.apache.cxf.service.invoker.AbstractInvoker.invoke(AbstractInvoker.java:96)\\n\\tat org.apache.cxf.jaxrs.JAXRSInvoker.invoke(JAXRSInvoker.java:201)\\n\\tat org.apache.cxf.jaxrs.JAXRSInvoker.invoke(JAXRSInvoker.java:104)\\n\\tat org.apache.cxf.interceptor.ServiceInvokerInterceptor$1.run(ServiceInvokerInterceptor.java:59)\\n\\tat org.apache.cxf.interceptor.ServiceInvokerInterceptor.handleMessage(ServiceInvokerInterceptor.java:96)\\n\\tat org.apache.cxf.phase.PhaseInterceptorChain.doIntercept(PhaseInterceptorChain.java:307)\\n\\tat org.apache.cxf.transport.ChainInitiationObserver.onMessage(ChainInitiationObserver.java:121)\\n\\tat org.apache.cxf.transport.http.AbstractHTTPDestination.invoke(AbstractHTTPDestination.java:265)\\n\\tat org.apache.cxf.transport.http_jetty.JettyHTTPDestination.doService(JettyHTTPDestination.java:247)\\n\\tat org.apache.cxf.transport.http_jetty.JettyHTTPHandler.handle(JettyHTTPHandler.java:79)\\n\\tat org.eclipse.jetty.server.handler.HandlerWrapper.handle(HandlerWrapper.java:127)\\n\\tat org.eclipse.jetty.server.handler.ScopedHandler.nextHandle(ScopedHandler.java:235)\\n\\tat org.eclipse.jetty.server.handler.ContextHandler.doHandle(ContextHandler.java:1440)\\n\\tat org.eclipse.jetty.server.handler.ScopedHandler.nextScope(ScopedHandler.java:190)\\n\\tat org.eclipse.jetty.server.handler.ContextHandler.doScope(ContextHandler.java:1355)\\n\\tat org.eclipse.jetty.server.handler.ScopedHandler.handle(ScopedHandler.java:141)\\n\\tat org.eclipse.jetty.server.handler.ContextHandlerCollection.handle(ContextHandlerCollection.java:191)\\n\\tat org.eclipse.jetty.server.handler.HandlerWrapper.handle(HandlerWrapper.java:127)\\n\\tat org.eclipse.jetty.server.Server.handle(Server.java:516)\\n\\tat org.eclipse.jetty.server.HttpChannel.lambda$handle$1(HttpChannel.java:487)\\n\\tat org.eclipse.jetty.server.HttpChannel.dispatch(HttpChannel.java:732)\\n\\tat org.eclipse.jetty.server.HttpChannel.handle(HttpChannel.java:479)\\n\\tat org.eclipse.jetty.server.HttpConnection.onFillable(HttpConnection.java:277)\\n\\tat org.eclipse.jetty.io.AbstractConnection$ReadCallback.succeeded(AbstractConnection.java:311)\\n\\tat org.eclipse.jetty.io.FillInterest.fillable(FillInterest.java:105)\\n\\tat org.eclipse.jetty.io.ChannelEndPoint$1.run(ChannelEndPoint.java:104)\\n\\tat org.eclipse.jetty.util.thread.strategy.EatWhatYouKill.runTask(EatWhatYouKill.java:338)\\n\\tat org.eclipse.jetty.util.thread.strategy.EatWhatYouKill.doProduce(EatWhatYouKill.java:315)\\n\\tat org.eclipse.jetty.util.thread.strategy.EatWhatYouKill.tryProduce(EatWhatYouKill.java:173)\\n\\tat org.eclipse.jetty.util.thread.strategy.EatWhatYouKill.run(EatWhatYouKill.java:131)\\n\\tat org.eclipse.jetty.util.thread.ReservedThreadExecutor$ReservedThread.run(ReservedThreadExecutor.java:409)\\n\\tat org.eclipse.jetty.util.thread.QueuedThreadPool.runJob(QueuedThreadPool.java:883)\\n\\tat org.eclipse.jetty.util.thread.QueuedThreadPool$Runner.run(QueuedThreadPool.java:1034)\\n\\tat java.base/java.lang.Thread.run(Thread.java:840)\\n', 'pdf:docinfo:custom:ElsevierWebPDFSpecifications': '7.0', 'pdf:totalUnmappedUnicodeChars': '0', 'access_permission:assemble_document': 'true', 'xmpTPg:NPages': '16', 'pdf:hasXMP': 'true', 'pdf:charsPerPage': ['5080', '8647', '7249', '349', '6806', '5847', '4697', '8242', '340', '5601', '331', '2701', '876', '3591', '9060', '8038'], 'access_permission:extract_content': 'true', 'access_permission:can_print': 'true', 'CrossMarkDomains[2]': 'sciencedirect.com', 'X-TIKA:parse_time_millis': '203', 'access_permission:can_modify': 'true', 'pdf:docinfo:created': '2023-02-07T18:16:11Z', 'CrossmarkMajorVersionDate': '2010-04-23'}\n",
      "file cid:  QmXquoApMLCcauNkz4tYw1Sp2tsqZ4edv1YtnQi5pmbw6C\n",
      "file metadata cid:  QmcukKDEWA1othtCKkS8RDNUC7Xak8HEHjLmLD91H2xoxZ\n",
      "\tEntering \"set_account_detail\"\n",
      "None\n",
      "('STATELESS_VALIDATION_SUCCESS', 1, 0)\n",
      "('ENOUGH_SIGNATURES_COLLECTED', 9, 0)\n",
      "('STATEFUL_VALIDATION_SUCCESS', 3, 0)\n",
      "('COMMITTED', 5, 0)\n",
      "\tLeaving \"set_account_detail\"\n",
      "file:  upload.old/Aeroacoustic-airfoil-shape-optimization-enhance_2023_Expert-Systems-with-App.pdf\n"
     ]
    },
    {
     "name": "stderr",
     "output_type": "stream",
     "text": [
      "\u001b[32m2024-11-21 01:56:14.127\u001b[0m | \u001b[1mINFO    \u001b[0m | \u001b[36mnew_helper\u001b[0m:\u001b[36mparse_file_with_tika\u001b[0m:\u001b[36m29\u001b[0m - \u001b[1mParsing upload.old/Aeroacoustic-airfoil-shape-optimization-enhance_2023_Expert-Systems-with-App.pdf with Tika...\u001b[0m\n"
     ]
    },
    {
     "name": "stdout",
     "output_type": "stream",
     "text": [
      "file metadata:  {'pdf:PDFVersion': '1.7', 'pdf:docinfo:title': 'Aeroacoustic airfoil shape optimization enhanced by autoencoders', 'xmp:CreatorTool': 'Elsevier', 'pdf:hasXFA': 'false', 'access_permission:can_print_degraded': 'true', 'X-TIKA:Parsed-By-Full-Set': ['org.apache.tika.parser.DefaultParser', 'org.apache.tika.parser.pdf.PDFParser'], 'X-TIKA:content_handler': 'ToTextContentHandler', 'pdf:num3DAnnotations': '0', 'dc:format': 'application/pdf; version=1.7', 'pdf:docinfo:custom:robots': 'noindex', 'pdf:docinfo:creator_tool': 'Elsevier', 'access_permission:fill_in_form': 'true', 'pdf:docinfo:custom:CreationDate--Text': '7th February 2023', 'pdf:hasCollection': 'false', 'pdf:encrypted': 'false', 'dc:title': 'Aeroacoustic airfoil shape optimization enhanced by autoencoders', 'pdf:containsNonEmbeddedFont': 'false', 'pdf:docinfo:custom:CrossMarkDomains[1]': 'elsevier.com', 'robots': 'noindex', 'pdf:docinfo:subject': 'Expert Systems With Applications, 217 (2023) 119513. doi:10.1016/j.eswa.2023.119513', 'pdf:hasMarkedContent': 'false', 'pdf:docinfo:creator': 'Jiaqing Kou', 'pdf:docinfo:custom:CrossmarkMajorVersionDate': '2010-04-23', 'access_permission:extract_for_accessibility': 'true', 'resourceName': \"b'Aeroacoustic-airfoil-shape-optimization-enhance_2023_Expert-Systems-with-App.pdf'\", 'pdf:docinfo:custom:CrossMarkDomains[2]': 'sciencedirect.com', 'X-TIKA:Parsed-By': ['org.apache.tika.parser.DefaultParser', 'org.apache.tika.parser.pdf.PDFParser'], 'ElsevierWebPDFSpecifications': '7.0', 'pdf:docinfo:custom:doi': '10.1016/j.eswa.2023.119513', 'pdf:docinfo:custom:CrossmarkDomainExclusive': 'true', 'X-TIKA:embedded_depth': '0', 'CrossmarkDomainExclusive': 'true', 'pdf:annotationTypes': 'null', 'pdf:docinfo:producer': 'Acrobat Distiller 8.1.0 (Windows)', 'pdf:annotationSubtypes': 'Link', 'CreationDate--Text': '7th February 2023', 'doi': '10.1016/j.eswa.2023.119513', 'pdf:containsDamagedFont': 'false', 'pdf:unmappedUnicodeCharsPerPage': ['0', '0', '0', '0', '0', '0', '0', '0', '0', '0', '0', '0', '0', '0'], 'access_permission:modify_annotations': 'true', 'dc:creator': 'Jiaqing Kou', 'dcterms:created': '2023-02-04T09:40:15Z', 'dcterms:modified': '2023-02-07T16:56:45Z', 'CrossMarkDomains[1]': 'elsevier.com', 'pdf:overallPercentageUnmappedUnicodeChars': '0.0', 'pdf:docinfo:keywords': 'Aeroacoustics,Optimization design,Amiet theory,Machine learning,Autoencoder', 'pdf:docinfo:modified': '2023-02-07T16:56:45Z', 'Content-Length': '1324070', 'Content-Type': 'application/pdf', 'dc:language': 'en-US', 'pdf:producer': 'Acrobat Distiller 8.1.0 (Windows)', 'dc:subject': ['Aeroacoustics,Optimization design,Amiet theory,Machine learning,Autoencoder', 'Expert Systems With Applications, 217 (2023) 119513. doi:10.1016/j.eswa.2023.119513'], 'X-TIKA:EXCEPTION:warn': 'org.xml.sax.SAXParseException; lineNumber: 87; columnNumber: 11; The content of elements must consist of well-formed character data or markup.\\n\\tat org.apache.xerces.parsers.DOMParser.parse(Unknown Source)\\n\\tat org.apache.xerces.jaxp.DocumentBuilderImpl.parse(Unknown Source)\\n\\tat java.xml/javax.xml.parsers.DocumentBuilder.parse(DocumentBuilder.java:122)\\n\\tat org.apache.tika.utils.XMLReaderUtils.buildDOM(XMLReaderUtils.java:396)\\n\\tat org.apache.tika.parser.pdf.PDMetadataExtractor.loadDOM(PDMetadataExtractor.java:472)\\n\\tat org.apache.tika.parser.pdf.PDMetadataExtractor.extract(PDMetadataExtractor.java:69)\\n\\tat org.apache.tika.parser.pdf.PDFParser.extractMetadata(PDFParser.java:423)\\n\\tat org.apache.tika.parser.pdf.PDFParser.parse(PDFParser.java:181)\\n\\tat org.apache.tika.parser.CompositeParser.parse(CompositeParser.java:298)\\n\\tat org.apache.tika.parser.CompositeParser.parse(CompositeParser.java:298)\\n\\tat org.apache.tika.parser.AutoDetectParser.parse(AutoDetectParser.java:175)\\n\\tat org.apache.tika.parser.RecursiveParserWrapper.parse(RecursiveParserWrapper.java:163)\\n\\tat org.apache.tika.server.core.resource.TikaResource.parse(TikaResource.java:352)\\n\\tat org.apache.tika.server.core.resource.RecursiveMetadataResource.parseMetadata(RecursiveMetadataResource.java:78)\\n\\tat org.apache.tika.server.core.resource.RecursiveMetadataResource.parseMetadataToMetadataList(RecursiveMetadataResource.java:190)\\n\\tat org.apache.tika.server.core.resource.RecursiveMetadataResource.getMetadata(RecursiveMetadataResource.java:179)\\n\\tat jdk.internal.reflect.GeneratedMethodAccessor4.invoke(Unknown Source)\\n\\tat java.base/jdk.internal.reflect.DelegatingMethodAccessorImpl.invoke(DelegatingMethodAccessorImpl.java:43)\\n\\tat java.base/java.lang.reflect.Method.invoke(Method.java:569)\\n\\tat org.apache.cxf.service.invoker.AbstractInvoker.performInvocation(AbstractInvoker.java:179)\\n\\tat org.apache.cxf.service.invoker.AbstractInvoker.invoke(AbstractInvoker.java:96)\\n\\tat org.apache.cxf.jaxrs.JAXRSInvoker.invoke(JAXRSInvoker.java:201)\\n\\tat org.apache.cxf.jaxrs.JAXRSInvoker.invoke(JAXRSInvoker.java:104)\\n\\tat org.apache.cxf.interceptor.ServiceInvokerInterceptor$1.run(ServiceInvokerInterceptor.java:59)\\n\\tat org.apache.cxf.interceptor.ServiceInvokerInterceptor.handleMessage(ServiceInvokerInterceptor.java:96)\\n\\tat org.apache.cxf.phase.PhaseInterceptorChain.doIntercept(PhaseInterceptorChain.java:307)\\n\\tat org.apache.cxf.transport.ChainInitiationObserver.onMessage(ChainInitiationObserver.java:121)\\n\\tat org.apache.cxf.transport.http.AbstractHTTPDestination.invoke(AbstractHTTPDestination.java:265)\\n\\tat org.apache.cxf.transport.http_jetty.JettyHTTPDestination.doService(JettyHTTPDestination.java:247)\\n\\tat org.apache.cxf.transport.http_jetty.JettyHTTPHandler.handle(JettyHTTPHandler.java:79)\\n\\tat org.eclipse.jetty.server.handler.HandlerWrapper.handle(HandlerWrapper.java:127)\\n\\tat org.eclipse.jetty.server.handler.ScopedHandler.nextHandle(ScopedHandler.java:235)\\n\\tat org.eclipse.jetty.server.handler.ContextHandler.doHandle(ContextHandler.java:1440)\\n\\tat org.eclipse.jetty.server.handler.ScopedHandler.nextScope(ScopedHandler.java:190)\\n\\tat org.eclipse.jetty.server.handler.ContextHandler.doScope(ContextHandler.java:1355)\\n\\tat org.eclipse.jetty.server.handler.ScopedHandler.handle(ScopedHandler.java:141)\\n\\tat org.eclipse.jetty.server.handler.ContextHandlerCollection.handle(ContextHandlerCollection.java:191)\\n\\tat org.eclipse.jetty.server.handler.HandlerWrapper.handle(HandlerWrapper.java:127)\\n\\tat org.eclipse.jetty.server.Server.handle(Server.java:516)\\n\\tat org.eclipse.jetty.server.HttpChannel.lambda$handle$1(HttpChannel.java:487)\\n\\tat org.eclipse.jetty.server.HttpChannel.dispatch(HttpChannel.java:732)\\n\\tat org.eclipse.jetty.server.HttpChannel.handle(HttpChannel.java:479)\\n\\tat org.eclipse.jetty.server.HttpConnection.onFillable(HttpConnection.java:277)\\n\\tat org.eclipse.jetty.io.AbstractConnection$ReadCallback.succeeded(AbstractConnection.java:311)\\n\\tat org.eclipse.jetty.io.FillInterest.fillable(FillInterest.java:105)\\n\\tat org.eclipse.jetty.io.ChannelEndPoint$1.run(ChannelEndPoint.java:104)\\n\\tat org.eclipse.jetty.util.thread.strategy.EatWhatYouKill.runTask(EatWhatYouKill.java:338)\\n\\tat org.eclipse.jetty.util.thread.strategy.EatWhatYouKill.doProduce(EatWhatYouKill.java:315)\\n\\tat org.eclipse.jetty.util.thread.strategy.EatWhatYouKill.tryProduce(EatWhatYouKill.java:173)\\n\\tat org.eclipse.jetty.util.thread.strategy.EatWhatYouKill.run(EatWhatYouKill.java:131)\\n\\tat org.eclipse.jetty.util.thread.ReservedThreadExecutor$ReservedThread.run(ReservedThreadExecutor.java:409)\\n\\tat org.eclipse.jetty.util.thread.QueuedThreadPool.runJob(QueuedThreadPool.java:883)\\n\\tat org.eclipse.jetty.util.thread.QueuedThreadPool$Runner.run(QueuedThreadPool.java:1034)\\n\\tat java.base/java.lang.Thread.run(Thread.java:840)\\n', 'pdf:docinfo:custom:ElsevierWebPDFSpecifications': '7.0', 'pdf:totalUnmappedUnicodeChars': '0', 'access_permission:assemble_document': 'true', 'xmpTPg:NPages': '14', 'pdf:hasXMP': 'true', 'pdf:charsPerPage': ['4632', '7035', '4418', '4887', '4242', '3215', '3361', '3553', '3680', '2730', '3569', '4967', '5447', '7572'], 'access_permission:extract_content': 'true', 'access_permission:can_print': 'true', 'CrossMarkDomains[2]': 'sciencedirect.com', 'X-TIKA:parse_time_millis': '188', 'access_permission:can_modify': 'true', 'pdf:docinfo:created': '2023-02-04T09:40:15Z', 'CrossmarkMajorVersionDate': '2010-04-23'}\n",
      "file cid:  QmXh37WXcrLXkJX2cAPjbPdKZ2cxJXD58XX6eU1Zc41ka4\n",
      "file metadata cid:  QmZNVmUjmP4T6Dq2R3faHWEjjZPkwmAukfeG8jJtnJmJVt\n",
      "\tEntering \"set_account_detail\"\n",
      "None\n",
      "('STATELESS_VALIDATION_SUCCESS', 1, 0)\n",
      "('ENOUGH_SIGNATURES_COLLECTED', 9, 0)\n"
     ]
    },
    {
     "name": "stderr",
     "output_type": "stream",
     "text": [
      "\u001b[32m2024-11-21 01:56:17.051\u001b[0m | \u001b[1mINFO    \u001b[0m | \u001b[36mnew_helper\u001b[0m:\u001b[36mparse_file_with_tika\u001b[0m:\u001b[36m29\u001b[0m - \u001b[1mParsing upload.old/Editorial-Board_2023_Expert-Systems-with-Applications.pdf with Tika...\u001b[0m\n"
     ]
    },
    {
     "name": "stdout",
     "output_type": "stream",
     "text": [
      "('STATEFUL_VALIDATION_SUCCESS', 3, 0)\n",
      "('COMMITTED', 5, 0)\n",
      "\tLeaving \"set_account_detail\"\n",
      "file:  upload.old/Editorial-Board_2023_Expert-Systems-with-Applications.pdf\n",
      "file metadata:  {'pdf:unmappedUnicodeCharsPerPage': ['0', '0', '0'], 'pdf:PDFVersion': '1.7', 'xmp:CreatorTool': 'Elsevier', 'pdf:hasXFA': 'false', 'access_permission:modify_annotations': 'true', 'access_permission:can_print_degraded': 'true', 'X-TIKA:Parsed-By-Full-Set': ['org.apache.tika.parser.DefaultParser', 'org.apache.tika.parser.pdf.PDFParser'], 'X-TIKA:content_handler': 'ToTextContentHandler', 'pdf:num3DAnnotations': '0', 'dcterms:created': '2023-02-07T10:24:44Z', 'dcterms:modified': '2023-02-07T10:25:02Z', 'dc:format': 'application/pdf; version=1.7', 'xmpMM:DocumentID': 'xmp.id:88483799D0A6ED118966FC0221C82C06', 'pdf:docinfo:creator_tool': 'Elsevier', 'pdf:overallPercentageUnmappedUnicodeChars': '0.0', 'access_permission:fill_in_form': 'true', 'pdf:docinfo:modified': '2023-02-07T10:25:02Z', 'pdf:hasCollection': 'false', 'pdf:encrypted': 'false', 'pdf:containsNonEmbeddedFont': 'false', 'Content-Length': '142113', 'pdf:hasMarkedContent': 'true', 'Content-Type': 'application/pdf', 'pdf:producer': 'Adobe PDF Library 10.0.1', 'pdf:totalUnmappedUnicodeChars': '0', 'access_permission:extract_for_accessibility': 'true', 'access_permission:assemble_document': 'true', 'xmpTPg:NPages': '3', 'resourceName': \"b'Editorial-Board_2023_Expert-Systems-with-Applications.pdf'\", 'pdf:hasXMP': 'true', 'pdf:charsPerPage': ['7393', '5386', '2644'], 'access_permission:extract_content': 'true', 'access_permission:can_print': 'true', 'pdf:docinfo:trapped': 'False', 'X-TIKA:Parsed-By': ['org.apache.tika.parser.DefaultParser', 'org.apache.tika.parser.pdf.PDFParser'], 'X-TIKA:parse_time_millis': '66', 'X-TIKA:embedded_depth': '0', 'access_permission:can_modify': 'true', 'pdf:docinfo:producer': 'Adobe PDF Library 10.0.1', 'pdf:docinfo:created': '2023-02-07T10:24:44Z', 'pdf:containsDamagedFont': 'false'}\n",
      "file cid:  QmZnh5Uuo7moZKMESFHpRjQFbbND5e3nArCzZg8uLARAgg\n",
      "file metadata cid:  QmXdrzkyw1KNsXDbT1KuraRivnB1SYvYCMsZQJ4pfEyMJx\n",
      "\tEntering \"set_account_detail\"\n",
      "None\n",
      "('STATELESS_VALIDATION_SUCCESS', 1, 0)\n",
      "('ENOUGH_SIGNATURES_COLLECTED', 9, 0)\n"
     ]
    },
    {
     "name": "stderr",
     "output_type": "stream",
     "text": [
      "\u001b[32m2024-11-21 01:56:20.191\u001b[0m | \u001b[1mINFO    \u001b[0m | \u001b[36mnew_helper\u001b[0m:\u001b[36mparse_file_with_tika\u001b[0m:\u001b[36m29\u001b[0m - \u001b[1mParsing upload.old/COVID19-MLSF--A-multi-task-learning-based-stock-market_2023_Expert-Systems-w.pdf with Tika...\u001b[0m\n"
     ]
    },
    {
     "name": "stdout",
     "output_type": "stream",
     "text": [
      "('STATEFUL_VALIDATION_SUCCESS', 3, 0)\n",
      "('COMMITTED', 5, 0)\n",
      "\tLeaving \"set_account_detail\"\n",
      "file:  upload.old/COVID19-MLSF--A-multi-task-learning-based-stock-market_2023_Expert-Systems-w.pdf\n",
      "file metadata:  {'pdf:PDFVersion': '1.7', 'xmp:CreatorTool': 'Elsevier', 'pdf:docinfo:title': 'COVID19-MLSF: A multi-task learning-based stock market forecasting framework during the COVID-19 pandemic', 'pdf:hasXFA': 'false', 'access_permission:can_print_degraded': 'true', 'X-TIKA:Parsed-By-Full-Set': ['org.apache.tika.parser.DefaultParser', 'org.apache.tika.parser.pdf.PDFParser'], 'X-TIKA:content_handler': 'ToTextContentHandler', 'pdf:num3DAnnotations': '0', 'dc:format': 'application/pdf; version=1.7', 'pdf:docinfo:custom:robots': 'noindex', 'pdf:docinfo:creator_tool': 'Elsevier', 'access_permission:fill_in_form': 'true', 'pdf:docinfo:custom:CreationDate--Text': '7th February 2023', 'pdf:hasCollection': 'false', 'pdf:encrypted': 'false', 'dc:title': 'COVID19-MLSF: A multi-task learning-based stock market forecasting framework during the COVID-19 pandemic', 'pdf:containsNonEmbeddedFont': 'false', 'xmp:CreateDate': '2023-02-04T09:40:15Z', 'pdf:docinfo:custom:CrossMarkDomains[1]': 'elsevier.com', 'robots': 'noindex', 'pdf:docinfo:subject': 'Expert Systems With Applications, 217 (2023) 119549. doi:10.1016/j.eswa.2023.119549', 'pdf:hasMarkedContent': 'false', 'xmp:ModifyDate': '2023-02-07T16:52:03Z', 'pdf:docinfo:creator': 'Chenxun Yuan', 'pdf:docinfo:custom:CrossmarkMajorVersionDate': '2010-04-23', 'access_permission:extract_for_accessibility': 'true', 'resourceName': \"b'COVID19-MLSF--A-multi-task-learning-based-stock-market_2023_Expert-Systems-w.pdf'\", 'pdf:docinfo:custom:CrossMarkDomains[2]': 'sciencedirect.com', 'X-TIKA:Parsed-By': ['org.apache.tika.parser.DefaultParser', 'org.apache.tika.parser.pdf.PDFParser'], 'ElsevierWebPDFSpecifications': '7.0', 'pdf:docinfo:custom:doi': '10.1016/j.eswa.2023.119549', 'pdf:docinfo:custom:CrossmarkDomainExclusive': 'true', 'X-TIKA:embedded_depth': '0', 'CrossmarkDomainExclusive': 'true', 'pdf:annotationTypes': 'null', 'pdf:docinfo:producer': 'Acrobat Distiller 8.1.0 (Windows)', 'pdf:annotationSubtypes': 'Link', 'CreationDate--Text': '7th February 2023', 'doi': '10.1016/j.eswa.2023.119549', 'pdf:containsDamagedFont': 'false', 'pdf:unmappedUnicodeCharsPerPage': ['0', '0', '0', '0', '0', '0', '0', '0', '0', '0', '0', '0', '0', '0', '0', '0'], 'dc:description': 'Expert Systems With Applications, 217 (2023) 119549. doi:10.1016/j.eswa.2023.119549', 'access_permission:modify_annotations': 'true', 'dc:creator': ['Chenxun Yuan', 'Xiang Ma', 'Hua Wang', 'Caiming Zhang', 'Xuemei Li'], 'dcterms:created': '2023-02-04T09:40:15Z', 'dcterms:modified': '2023-02-07T16:52:03Z', 'xmpMM:DocumentID': 'uuid:1b499bed-4ce8-4c0c-b682-0d58baae1cbe', 'CrossMarkDomains[1]': 'elsevier.com', 'pdf:overallPercentageUnmappedUnicodeChars': '0.0', 'pdf:docinfo:keywords': 'Stock market forecasting,COVID-19 pandemic,Multi-task learning,Feature fusion,K-nearest neighbor classifier', 'pdf:docinfo:modified': '2023-02-07T16:52:03Z', 'Content-Length': '4016043', 'Content-Type': 'application/pdf', 'xmp:MetadataDate': '2023-02-07T16:52:03Z', 'dc:language': 'en-US', 'pdf:producer': 'Acrobat Distiller 8.1.0 (Windows)', 'dc:subject': ['Stock market forecasting,COVID-19 pandemic,Multi-task learning,Feature fusion,K-nearest neighbor classifier', 'Expert Systems With Applications, 217 (2023) 119549. doi:10.1016/j.eswa.2023.119549'], 'pdf:docinfo:custom:ElsevierWebPDFSpecifications': '7.0', 'pdf:totalUnmappedUnicodeChars': '0', 'access_permission:assemble_document': 'true', 'xmpTPg:NPages': '16', 'pdf:hasXMP': 'true', 'pdf:charsPerPage': ['4308', '4046', '7115', '4551', '3567', '6426', '1218', '6119', '1896', '4055', '3517', '5861', '730', '833', '5274', '6307'], 'access_permission:extract_content': 'true', 'access_permission:can_print': 'true', 'CrossMarkDomains[2]': 'sciencedirect.com', 'meta:keyword': 'Stock market forecasting,COVID-19 pandemic,Multi-task learning,Feature fusion,K-nearest neighbor classifier', 'X-TIKA:parse_time_millis': '156', 'access_permission:can_modify': 'true', 'pdf:docinfo:created': '2023-02-04T09:40:15Z', 'CrossmarkMajorVersionDate': '2010-04-23'}\n",
      "file cid:  QmUq29KRwpTdvScB5oYzEDobDHyb4N1f9eaZXm4VaMCgiW\n",
      "file metadata cid:  QmNr97Gp5srTYGW7pJy5NM9J3z7yeSi7Tg2ocZNqxwRgVJ\n",
      "\tEntering \"set_account_detail\"\n",
      "None\n",
      "('STATELESS_VALIDATION_SUCCESS', 1, 0)\n",
      "('ENOUGH_SIGNATURES_COLLECTED', 9, 0)\n"
     ]
    },
    {
     "name": "stderr",
     "output_type": "stream",
     "text": [
      "\u001b[32m2024-11-21 01:56:23.107\u001b[0m | \u001b[1mINFO    \u001b[0m | \u001b[36mnew_helper\u001b[0m:\u001b[36mparse_file_with_tika\u001b[0m:\u001b[36m29\u001b[0m - \u001b[1mParsing upload.old/World_Energy_By_Country_And_Region_1965_to_2023.csv with Tika...\u001b[0m\n"
     ]
    },
    {
     "name": "stdout",
     "output_type": "stream",
     "text": [
      "('STATEFUL_VALIDATION_SUCCESS', 3, 0)\n",
      "('COMMITTED', 5, 0)\n",
      "\tLeaving \"set_account_detail\"\n",
      "file:  upload.old/World_Energy_By_Country_And_Region_1965_to_2023.csv\n",
      "file metadata:  {'X-TIKA:Parsed-By': ['org.apache.tika.parser.DefaultParser', 'org.apache.tika.parser.csv.TextAndCSVParser'], 'X-TIKA:Parsed-By-Full-Set': ['org.apache.tika.parser.DefaultParser', 'org.apache.tika.parser.csv.TextAndCSVParser'], 'X-TIKA:content_handler': 'ToTextContentHandler', 'Content-Encoding': 'windows-1252', 'X-TIKA:parse_time_millis': '19', 'X-TIKA:embedded_depth': '0', 'resourceName': \"b'World_Energy_By_Country_And_Region_1965_to_2023.csv'\", 'csv:delimiter': 'comma', 'Content-Length': '32622', 'Content-Type': 'text/csv; charset=windows-1252; delimiter=comma'}\n",
      "file cid:  QmSSY49SnmbCZ3oSaTki7CYZe1ZaWZfE1CsWHpt8Ge7acJ\n",
      "file metadata cid:  QmWBTc4uk8HxqtyEHRCXBdjEBpyQyJ7L5txL3fZLevqHvg\n",
      "\tEntering \"set_account_detail\"\n",
      "None\n",
      "('STATELESS_VALIDATION_SUCCESS', 1, 0)\n",
      "('ENOUGH_SIGNATURES_COLLECTED', 9, 0)\n"
     ]
    },
    {
     "name": "stderr",
     "output_type": "stream",
     "text": [
      "\u001b[32m2024-11-21 01:56:26.268\u001b[0m | \u001b[1mINFO    \u001b[0m | \u001b[36mnew_helper\u001b[0m:\u001b[36mparse_file_with_tika\u001b[0m:\u001b[36m29\u001b[0m - \u001b[1mParsing upload.old/Deep-learning-in-insurance--Accuracy-and-model-int_2023_Expert-Systems-with-.pdf with Tika...\u001b[0m\n"
     ]
    },
    {
     "name": "stdout",
     "output_type": "stream",
     "text": [
      "('STATEFUL_VALIDATION_SUCCESS', 3, 0)\n",
      "('COMMITTED', 5, 0)\n",
      "\tLeaving \"set_account_detail\"\n",
      "file:  upload.old/Deep-learning-in-insurance--Accuracy-and-model-int_2023_Expert-Systems-with-.pdf\n",
      "file metadata:  {'pdf:PDFVersion': '1.7', 'xmp:CreatorTool': 'Elsevier', 'pdf:docinfo:title': 'Deep learning in insurance: Accuracy and model interpretability using TabNet', 'pdf:hasXFA': 'false', 'access_permission:can_print_degraded': 'true', 'X-TIKA:Parsed-By-Full-Set': ['org.apache.tika.parser.DefaultParser', 'org.apache.tika.parser.pdf.PDFParser'], 'X-TIKA:content_handler': 'ToTextContentHandler', 'pdf:num3DAnnotations': '0', 'dc:format': 'application/pdf; version=1.7', 'pdf:docinfo:custom:robots': 'noindex', 'pdf:docinfo:creator_tool': 'Elsevier', 'access_permission:fill_in_form': 'true', 'pdf:docinfo:custom:CreationDate--Text': '7th February 2023', 'pdf:hasCollection': 'false', 'pdf:encrypted': 'false', 'dc:title': 'Deep learning in insurance: Accuracy and model interpretability using TabNet', 'pdf:containsNonEmbeddedFont': 'false', 'xmp:CreateDate': '2023-02-04T09:40:15Z', 'pdf:docinfo:custom:CrossMarkDomains[1]': 'elsevier.com', 'robots': 'noindex', 'pdf:docinfo:subject': 'Expert Systems With Applications, 217 (2023) 119543. doi:10.1016/j.eswa.2023.119543', 'pdf:hasMarkedContent': 'true', 'xmp:ModifyDate': '2023-02-07T17:36:19Z', 'pdf:docinfo:creator': 'Kevin McDonnell', 'pdf:docinfo:custom:CrossmarkMajorVersionDate': '2010-04-23', 'access_permission:extract_for_accessibility': 'true', 'resourceName': \"b'Deep-learning-in-insurance--Accuracy-and-model-int_2023_Expert-Systems-with-.pdf'\", 'pdf:docinfo:custom:CrossMarkDomains[2]': 'sciencedirect.com', 'X-TIKA:Parsed-By': ['org.apache.tika.parser.DefaultParser', 'org.apache.tika.parser.pdf.PDFParser'], 'ElsevierWebPDFSpecifications': '7.0', 'pdf:docinfo:custom:doi': '10.1016/j.eswa.2023.119543', 'pdf:docinfo:custom:CrossmarkDomainExclusive': 'true', 'X-TIKA:embedded_depth': '0', 'CrossmarkDomainExclusive': 'true', 'pdf:annotationTypes': 'null', 'pdf:docinfo:producer': 'Acrobat Distiller 8.1.0 (Windows)', 'pdf:annotationSubtypes': 'Link', 'CreationDate--Text': '7th February 2023', 'doi': '10.1016/j.eswa.2023.119543', 'pdf:containsDamagedFont': 'false', 'pdf:unmappedUnicodeCharsPerPage': ['0', '0', '0', '0', '0', '0', '0', '0', '0', '0'], 'dc:description': 'Expert Systems With Applications, 217 (2023) 119543. doi:10.1016/j.eswa.2023.119543', 'access_permission:modify_annotations': 'true', 'dc:creator': ['Kevin McDonnell', 'Finbarr Murphy', 'Barry Sheehan', 'Leandro Masello', 'German Castignani'], 'dcterms:created': '2023-02-04T09:40:15Z', 'dcterms:modified': '2023-02-07T17:36:19Z', 'xmpMM:DocumentID': 'uuid:1b499bed-4ce8-4c0c-b682-0d58baae1cbe', 'CrossMarkDomains[1]': 'elsevier.com', 'pdf:overallPercentageUnmappedUnicodeChars': '0.0', 'pdf:docinfo:keywords': 'Deep Learning,Telematics,Connected Vehicles,Insurance,General Linear Model,XGBoost,Machine Learning,Explainable AI', 'pdf:docinfo:modified': '2023-02-07T17:36:19Z', 'Content-Length': '1697865', 'Content-Type': 'application/pdf', 'xmp:MetadataDate': '2023-02-07T17:36:19Z', 'dc:language': 'en', 'pdf:producer': 'Acrobat Distiller 8.1.0 (Windows)', 'dc:subject': ['Deep Learning,Telematics,Connected Vehicles,Insurance,General Linear Model,XGBoost,Machine Learning,Explainable AI', 'Expert Systems With Applications, 217 (2023) 119543. doi:10.1016/j.eswa.2023.119543'], 'pdf:docinfo:custom:ElsevierWebPDFSpecifications': '7.0', 'pdf:totalUnmappedUnicodeChars': '0', 'access_permission:assemble_document': 'true', 'xmpTPg:NPages': '10', 'pdf:hasXMP': 'true', 'pdf:charsPerPage': ['4694', '9144', '7582', '7133', '5283', '4337', '8096', '3645', '8070', '6797'], 'access_permission:extract_content': 'true', 'access_permission:can_print': 'true', 'CrossMarkDomains[2]': 'sciencedirect.com', 'meta:keyword': 'Deep Learning,Telematics,Connected Vehicles,Insurance,General Linear Model,XGBoost,Machine Learning,Explainable AI', 'X-TIKA:parse_time_millis': '139', 'access_permission:can_modify': 'true', 'pdf:docinfo:created': '2023-02-04T09:40:15Z', 'CrossmarkMajorVersionDate': '2010-04-23'}\n",
      "file cid:  QmV1vYkuiwKGPA5Tyi4ECNFfWYocyTtQ3E5j7CSvPBX49Q\n",
      "file metadata cid:  QmTRbT73e7jHrLy4k2mLHGsSavWVziREaFEU3jzoefBVcC\n",
      "\tEntering \"set_account_detail\"\n",
      "None\n",
      "('STATELESS_VALIDATION_SUCCESS', 1, 0)\n",
      "('ENOUGH_SIGNATURES_COLLECTED', 9, 0)\n"
     ]
    },
    {
     "name": "stderr",
     "output_type": "stream",
     "text": [
      "\u001b[32m2024-11-21 01:56:29.183\u001b[0m | \u001b[1mINFO    \u001b[0m | \u001b[36mnew_helper\u001b[0m:\u001b[36mparse_file_with_tika\u001b[0m:\u001b[36m29\u001b[0m - \u001b[1mParsing upload.old/Jean-Baptiste_Perronneau_-_Magdaleine_Pinceloup_de_la_Grange,_née_de_Parseval.jpg with Tika...\u001b[0m\n"
     ]
    },
    {
     "name": "stdout",
     "output_type": "stream",
     "text": [
      "('STATEFUL_VALIDATION_SUCCESS', 3, 0)\n",
      "('COMMITTED', 5, 0)\n",
      "\tLeaving \"set_account_detail\"\n",
      "file:  upload.old/Jean-Baptiste_Perronneau_-_Magdaleine_Pinceloup_de_la_Grange,_née_de_Parseval.jpg\n",
      "file metadata:  {'Number of Tables': '4 Huffman tables', 'File Modified Date': 'Thu Nov 21 01:56:29 +00:00 2024', 'Compression Type': 'Baseline', 'Data Precision': '8 bits', 'X-TIKA:Parsed-By-Full-Set': ['org.apache.tika.parser.DefaultParser', 'org.apache.tika.parser.image.JpegParser'], 'Number of Components': '3', 'tiff:ImageLength': '623', 'resourceName': \"b'Jean-Baptiste_Perronneau_-_Magdaleine_Pinceloup_de_la_Grange,_n\\\\xc3\\\\xa9e_de_Parseval.jpg'\", 'Component 2': 'Cb component: Quantization table 1, Sampling factors 1 horiz/1 vert', 'Component 1': 'Y component: Quantization table 0, Sampling factors 2 horiz/2 vert', 'Image Height': '623 pixels', 'Image Width': '500 pixels', 'File Size': '72495 bytes', 'Component 3': 'Cr component: Quantization table 1, Sampling factors 1 horiz/1 vert', 'X-TIKA:Parsed-By': ['org.apache.tika.parser.DefaultParser', 'org.apache.tika.parser.image.JpegParser'], 'X-TIKA:parse_time_millis': '10', 'X-TIKA:embedded_depth': '0', 'File Name': \"apache-tika-10723760230767089761.jpg'\", 'Content-Length': '72495', 'tiff:BitsPerSample': '8', 'tiff:ImageWidth': '500', 'Content-Type': 'image/jpeg'}\n",
      "file cid:  QmVTTcqbGvYRn7n7uPYwk4vi8NdbeYvnZkX9MVT3byrAx2\n",
      "file metadata cid:  QmVJxR93qd6huzaGyoRLcAVnqZzuFdzUPkhNNNEgoPKNyS\n",
      "\tEntering \"set_account_detail\"\n",
      "None\n",
      "('STATELESS_VALIDATION_SUCCESS', 1, 0)\n",
      "('ENOUGH_SIGNATURES_COLLECTED', 9, 0)\n"
     ]
    },
    {
     "name": "stderr",
     "output_type": "stream",
     "text": [
      "\u001b[32m2024-11-21 01:56:32.288\u001b[0m | \u001b[1mINFO    \u001b[0m | \u001b[36mnew_helper\u001b[0m:\u001b[36mparse_file_with_tika\u001b[0m:\u001b[36m29\u001b[0m - \u001b[1mParsing upload.old/bitcoin.pdf with Tika...\u001b[0m\n"
     ]
    },
    {
     "name": "stdout",
     "output_type": "stream",
     "text": [
      "('STATEFUL_VALIDATION_SUCCESS', 3, 0)\n",
      "('COMMITTED', 5, 0)\n",
      "\tLeaving \"set_account_detail\"\n",
      "file:  upload.old/bitcoin.pdf\n",
      "file metadata:  {'pdf:unmappedUnicodeCharsPerPage': ['0', '0', '0', '0', '0', '0', '0', '0', '0'], 'pdf:PDFVersion': '1.4', 'xmp:CreatorTool': 'Writer', 'pdf:hasXFA': 'false', 'access_permission:modify_annotations': 'true', 'access_permission:can_print_degraded': 'true', 'X-TIKA:Parsed-By-Full-Set': ['org.apache.tika.parser.DefaultParser', 'org.apache.tika.parser.pdf.PDFParser'], 'X-TIKA:content_handler': 'ToTextContentHandler', 'pdf:num3DAnnotations': '0', 'dcterms:created': '2009-03-24T17:33:15Z', 'dc:format': 'application/pdf; version=1.4', 'pdf:docinfo:creator_tool': 'Writer', 'pdf:overallPercentageUnmappedUnicodeChars': '0.0', 'access_permission:fill_in_form': 'true', 'pdf:hasCollection': 'false', 'pdf:encrypted': 'false', 'pdf:containsNonEmbeddedFont': 'false', 'Content-Length': '184292', 'pdf:hasMarkedContent': 'false', 'Content-Type': 'application/pdf', 'dc:language': 'en-GB', 'pdf:producer': 'OpenOffice.org 2.4', 'pdf:totalUnmappedUnicodeChars': '0', 'access_permission:extract_for_accessibility': 'true', 'access_permission:assemble_document': 'true', 'xmpTPg:NPages': '9', 'resourceName': \"b'bitcoin.pdf'\", 'pdf:hasXMP': 'false', 'pdf:charsPerPage': ['3050', '2387', '3060', '2736', '2260', '2592', '2192', '1763', '1106'], 'access_permission:extract_content': 'true', 'access_permission:can_print': 'true', 'X-TIKA:Parsed-By': ['org.apache.tika.parser.DefaultParser', 'org.apache.tika.parser.pdf.PDFParser'], 'X-TIKA:parse_time_millis': '73', 'X-TIKA:embedded_depth': '0', 'access_permission:can_modify': 'true', 'pdf:docinfo:producer': 'OpenOffice.org 2.4', 'pdf:docinfo:created': '2009-03-24T17:33:15Z', 'pdf:containsDamagedFont': 'false'}\n",
      "file cid:  QmRA3NWM82ZGynMbYzAgYTSXCVM14Wx1RZ8fKP42G6gjgj\n",
      "file metadata cid:  QmYaqvYishGF9GkQVWMQWoEHZD6uk7inqBatxqu4Xak7BL\n",
      "\tEntering \"set_account_detail\"\n",
      "None\n",
      "('STATELESS_VALIDATION_SUCCESS', 1, 0)\n",
      "('ENOUGH_SIGNATURES_COLLECTED', 9, 0)\n"
     ]
    },
    {
     "name": "stderr",
     "output_type": "stream",
     "text": [
      "\u001b[32m2024-11-21 01:56:35.399\u001b[0m | \u001b[1mINFO    \u001b[0m | \u001b[36mnew_helper\u001b[0m:\u001b[36mparse_file_with_tika\u001b[0m:\u001b[36m29\u001b[0m - \u001b[1mParsing upload.old/Random-feature-selection-using-random-subspace-l_2023_Expert-Systems-with-Ap.pdf with Tika...\u001b[0m\n"
     ]
    },
    {
     "name": "stdout",
     "output_type": "stream",
     "text": [
      "('STATEFUL_VALIDATION_SUCCESS', 3, 0)\n",
      "('COMMITTED', 5, 0)\n",
      "\tLeaving \"set_account_detail\"\n",
      "file:  upload.old/Random-feature-selection-using-random-subspace-l_2023_Expert-Systems-with-Ap.pdf\n",
      "file metadata:  {'pdf:PDFVersion': '1.7', 'xmp:CreatorTool': 'Elsevier', 'pdf:docinfo:title': 'Random feature selection using random subspace logistic regression', 'pdf:hasXFA': 'false', 'access_permission:can_print_degraded': 'true', 'X-TIKA:Parsed-By-Full-Set': ['org.apache.tika.parser.DefaultParser', 'org.apache.tika.parser.pdf.PDFParser'], 'X-TIKA:content_handler': 'ToTextContentHandler', 'pdf:num3DAnnotations': '0', 'dc:format': 'application/pdf; version=1.7', 'pdf:docinfo:custom:robots': 'noindex', 'pdf:docinfo:creator_tool': 'Elsevier', 'access_permission:fill_in_form': 'true', 'pdf:docinfo:custom:CreationDate--Text': '4th September 2023', 'pdf:hasCollection': 'false', 'pdf:encrypted': 'false', 'dc:title': 'Random feature selection using random subspace logistic regression', 'pdf:containsNonEmbeddedFont': 'false', 'xmp:CreateDate': '2023-09-04T20:45:13Z', 'pdf:docinfo:custom:CrossMarkDomains[1]': 'elsevier.com', 'robots': 'noindex', 'pdf:docinfo:subject': 'Expert Systems With Applications, 217 (2023) 119535. doi:10.1016/j.eswa.2023.119535', 'pdf:hasMarkedContent': 'false', 'xmp:ModifyDate': '2023-09-04T23:27:57Z', 'pdf:docinfo:creator': 'Nuttanan Wichitaksorn', 'pdf:docinfo:custom:CrossmarkMajorVersionDate': '2010-04-23', 'access_permission:extract_for_accessibility': 'true', 'resourceName': \"b'Random-feature-selection-using-random-subspace-l_2023_Expert-Systems-with-Ap.pdf'\", 'pdf:docinfo:custom:CrossMarkDomains[2]': 'sciencedirect.com', 'X-TIKA:Parsed-By': ['org.apache.tika.parser.DefaultParser', 'org.apache.tika.parser.pdf.PDFParser'], 'ElsevierWebPDFSpecifications': '7.0', 'pdf:docinfo:custom:doi': '10.1016/j.eswa.2023.119535', 'pdf:docinfo:custom:CrossmarkDomainExclusive': 'true', 'X-TIKA:embedded_depth': '0', 'CrossmarkDomainExclusive': 'true', 'pdf:annotationTypes': 'null', 'pdf:docinfo:producer': 'Acrobat Distiller 8.1.0 (Windows)', 'pdf:annotationSubtypes': 'Link', 'CreationDate--Text': '4th September 2023', 'doi': '10.1016/j.eswa.2023.119535', 'pdf:containsDamagedFont': 'false', 'pdf:unmappedUnicodeCharsPerPage': ['0', '0', '0', '0', '0', '0', '0', '0'], 'dc:description': 'Expert Systems With Applications, 217 (2023) 119535. doi:10.1016/j.eswa.2023.119535', 'access_permission:modify_annotations': 'true', 'dc:creator': ['Nuttanan Wichitaksorn', 'Yingyue Kang', 'Faqiang Zhang'], 'dcterms:created': '2023-09-04T20:45:13Z', 'dcterms:modified': '2023-09-04T23:27:57Z', 'xmpMM:DocumentID': 'uuid:1b499bed-4ce8-4c0c-b682-0d58baae1cbe', 'CrossMarkDomains[1]': 'elsevier.com', 'pdf:overallPercentageUnmappedUnicodeChars': '0.0', 'pdf:docinfo:keywords': 'Feature selection,Logistic regression,Lasso logistic,Random subspace,Bootstrap', 'pdf:docinfo:modified': '2023-09-04T23:27:57Z', 'Content-Length': '766401', 'Content-Type': 'application/pdf', 'xmp:MetadataDate': '2023-09-04T23:27:57Z', 'dc:language': 'en-US', 'pdf:producer': 'Acrobat Distiller 8.1.0 (Windows)', 'dc:subject': ['Feature selection,Logistic regression,Lasso logistic,Random subspace,Bootstrap', 'Expert Systems With Applications, 217 (2023) 119535. doi:10.1016/j.eswa.2023.119535'], 'pdf:docinfo:custom:ElsevierWebPDFSpecifications': '7.0', 'pdf:totalUnmappedUnicodeChars': '0', 'access_permission:assemble_document': 'true', 'xmpTPg:NPages': '8', 'pdf:hasXMP': 'true', 'pdf:charsPerPage': ['4438', '4300', '6562', '6279', '5556', '3073', '9664', '1698'], 'access_permission:extract_content': 'true', 'access_permission:can_print': 'true', 'CrossMarkDomains[2]': 'sciencedirect.com', 'meta:keyword': 'Feature selection,Logistic regression,Lasso logistic,Random subspace,Bootstrap', 'X-TIKA:parse_time_millis': '136', 'access_permission:can_modify': 'true', 'pdf:docinfo:created': '2023-09-04T20:45:13Z', 'CrossmarkMajorVersionDate': '2010-04-23'}\n",
      "file cid:  QmTLZSqzPexwEdniZXLPN6fUfmEXX6MXS3b4QjKURgxc9y\n",
      "file metadata cid:  QmY6bff4C98K1XRcDYyjpNmNrwwtF1ZRwgykyMWnU8y8Wh\n",
      "\tEntering \"set_account_detail\"\n",
      "None\n",
      "('STATELESS_VALIDATION_SUCCESS', 1, 0)\n",
      "('ENOUGH_SIGNATURES_COLLECTED', 9, 0)\n"
     ]
    },
    {
     "name": "stderr",
     "output_type": "stream",
     "text": [
      "\u001b[32m2024-11-21 01:56:38.316\u001b[0m | \u001b[1mINFO    \u001b[0m | \u001b[36mnew_helper\u001b[0m:\u001b[36mparse_file_with_tika\u001b[0m:\u001b[36m29\u001b[0m - \u001b[1mParsing upload.old/hello_world.py with Tika...\u001b[0m\n"
     ]
    },
    {
     "name": "stdout",
     "output_type": "stream",
     "text": [
      "('STATEFUL_VALIDATION_SUCCESS', 3, 0)\n",
      "('COMMITTED', 5, 0)\n",
      "\tLeaving \"set_account_detail\"\n",
      "file:  upload.old/hello_world.py\n",
      "file metadata:  {'X-TIKA:Parsed-By': ['org.apache.tika.parser.DefaultParser', 'org.apache.tika.parser.csv.TextAndCSVParser'], 'X-TIKA:Parsed-By-Full-Set': ['org.apache.tika.parser.DefaultParser', 'org.apache.tika.parser.csv.TextAndCSVParser'], 'X-TIKA:content_handler': 'ToTextContentHandler', 'Content-Encoding': 'ISO-8859-1', 'X-TIKA:parse_time_millis': '3', 'X-TIKA:embedded_depth': '0', 'resourceName': \"b'hello_world.py'\", 'Content-Length': '44', 'Content-Type': 'application/x-sh; charset=ISO-8859-1'}\n",
      "file cid:  QmeBTz4ZwyqPkPigpASZ3wJodBXzJRpeXQMwNcsWRqU5Jv\n",
      "file metadata cid:  QmYMUAWmij5SHTJsFDsbkEK7UwaCnQFVngQ3vRkq3vFEWX\n",
      "\tEntering \"set_account_detail\"\n",
      "None\n",
      "('STATELESS_VALIDATION_SUCCESS', 1, 0)\n",
      "('ENOUGH_SIGNATURES_COLLECTED', 9, 0)\n",
      "('STATEFUL_VALIDATION_SUCCESS', 3, 0)\n",
      "('COMMITTED', 5, 0)\n",
      "\tLeaving \"set_account_detail\"\n"
     ]
    }
   ],
   "source": [
    "# Option 10 - Integrated with detail setting\n",
    "\n",
    "\n",
    "from new_helper import *\n",
    "\n",
    "directory_path = \"upload.old/\"\n",
    "\n",
    "processed_data = process_files(directory_path, id, DOMAIN)\n",
    "# print(\"CIDs:\", processed_data[1][0])\n",
    "# print(\"CID Str:\", processed_data[1])\n",
    "# print(\"Joined CIDs:\", processed_data[2])\n",
    "\n",
    "# print (80*\"-\")\n",
    "    "
   ]
  },
  {
   "cell_type": "code",
   "execution_count": 6,
   "id": "96c16c27",
   "metadata": {},
   "outputs": [
    {
     "name": "stdout",
     "output_type": "stream",
     "text": [
      "Project Account id = 07546@test, { \"admin@test\" : { \"file_1\" : \"QmT7ximApXtExAedhzUHGHDwRismRzuKykpH4dgTvGrNZs, QmabjZMBrZPw1KBhn1vHpRykzmA6y4U6k3D2sg5jajxai4\", \"file_10\" : \"QmRA3NWM82ZGynMbYzAgYTSXCVM14Wx1RZ8fKP42G6gjgj, QmYaqvYishGF9GkQVWMQWoEHZD6uk7inqBatxqu4Xak7BL\", \"file_11\" : \"QmTLZSqzPexwEdniZXLPN6fUfmEXX6MXS3b4QjKURgxc9y, QmY6bff4C98K1XRcDYyjpNmNrwwtF1ZRwgykyMWnU8y8Wh\", \"file_12\" : \"QmeBTz4ZwyqPkPigpASZ3wJodBXzJRpeXQMwNcsWRqU5Jv, QmYMUAWmij5SHTJsFDsbkEK7UwaCnQFVngQ3vRkq3vFEWX\", \"file_2\" : \"QmdiRawzVNUiB28ENKQ7WefeFLEJ1xMjsJjwtHL2jnJ9xW, QmfRiny4Croq3YXtEcqvfy954X5WX5ksB7dxfdEH9oHPrs\", \"file_3\" : \"QmXquoApMLCcauNkz4tYw1Sp2tsqZ4edv1YtnQi5pmbw6C, QmcukKDEWA1othtCKkS8RDNUC7Xak8HEHjLmLD91H2xoxZ\", \"file_4\" : \"QmXh37WXcrLXkJX2cAPjbPdKZ2cxJXD58XX6eU1Zc41ka4, QmZNVmUjmP4T6Dq2R3faHWEjjZPkwmAukfeG8jJtnJmJVt\", \"file_5\" : \"QmZnh5Uuo7moZKMESFHpRjQFbbND5e3nArCzZg8uLARAgg, QmXdrzkyw1KNsXDbT1KuraRivnB1SYvYCMsZQJ4pfEyMJx\", \"file_6\" : \"QmUq29KRwpTdvScB5oYzEDobDHyb4N1f9eaZXm4VaMCgiW, QmNr97Gp5srTYGW7pJy5NM9J3z7yeSi7Tg2ocZNqxwRgVJ\", \"file_7\" : \"QmSSY49SnmbCZ3oSaTki7CYZe1ZaWZfE1CsWHpt8Ge7acJ, QmWBTc4uk8HxqtyEHRCXBdjEBpyQyJ7L5txL3fZLevqHvg\", \"file_8\" : \"QmV1vYkuiwKGPA5Tyi4ECNFfWYocyTtQ3E5j7CSvPBX49Q, QmTRbT73e7jHrLy4k2mLHGsSavWVziREaFEU3jzoefBVcC\", \"file_9\" : \"QmVTTcqbGvYRn7n7uPYwk4vi8NdbeYvnZkX9MVT3byrAx2, QmVJxR93qd6huzaGyoRLcAVnqZzuFdzUPkhNNNEgoPKNyS\", \"project_metadata_cid\" : \"Qmbvikqo3MSMhS5yX1R1vjcrjaMvBFQyUTfRV45iFkKuDr\" } }\n"
     ]
    }
   ],
   "source": [
    "#Query - GetAccountDetail\n",
    "\n",
    "query = iroha.query('GetAccountDetail',account_id=f\"{id}@{DOMAIN}\")\n",
    "IrohaCrypto.sign_query(query, ADMIN_PRIVATE_KEY)\n",
    "response = net.send_query(query)\n",
    "data = response.account_detail_response\n",
    "details = data.detail\n",
    "# ic(details)\n",
    "print(f'Project Account id = {id}@{DOMAIN}, {details}')\n"
   ]
  }
 ],
 "metadata": {
  "kernelspec": {
   "display_name": "Python 3 (ipykernel)",
   "language": "python",
   "name": "python3"
  },
  "language_info": {
   "codemirror_mode": {
    "name": "ipython",
    "version": 3
   },
   "file_extension": ".py",
   "mimetype": "text/x-python",
   "name": "python",
   "nbconvert_exporter": "python",
   "pygments_lexer": "ipython3",
   "version": "3.9.20"
  }
 },
 "nbformat": 4,
 "nbformat_minor": 5
}
