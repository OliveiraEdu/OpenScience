{
 "cells": [
  {
   "cell_type": "code",
   "execution_count": 1,
   "id": "79650b49",
   "metadata": {},
   "outputs": [
    {
     "name": "stdout",
     "output_type": "stream",
     "text": [
      "----------------------------------------\n",
      "07546@test\n"
     ]
    }
   ],
   "source": [
    "#Deploys the Account Detail smart contract\n",
    "from new_helper import *\n",
    "\n",
    "print(40*\"-\")\n",
    "\n",
    "id = \"07546\"\n",
    "DOMAIN = \"test\"\n",
    "\n",
    "project_id = f\"{id}@{DOMAIN}\"\n",
    "\n",
    "print(project_id)"
   ]
  },
  {
   "cell_type": "code",
   "execution_count": 2,
   "id": "4d0d0bcb",
   "metadata": {},
   "outputs": [
    {
     "name": "stdout",
     "output_type": "stream",
     "text": [
      "<Schema: ['abstract', 'cid', 'created', 'creator', 'date', 'description', 'filetype', 'format', 'full_text', 'language', 'modified', 'name', 'project_id', 'publisher', 'size', 'subject', 'title']>\n",
      "file:  upload/Aeroacoustic-airfoil-shape-optimization-enhance_2023_Expert-Systems-with-App.pdf\n",
      "file name:  Aeroacoustic-airfoil-shape-optimization-enhance_2023_Expert-Systems-with-App.pdf\n"
     ]
    },
    {
     "name": "stderr",
     "output_type": "stream",
     "text": [
      "\u001b[32m2024-11-24 23:54:06.942\u001b[0m | \u001b[1mINFO    \u001b[0m | \u001b[36msuper_helper\u001b[0m:\u001b[36mindex_metadata\u001b[0m:\u001b[36m123\u001b[0m - \u001b[1mFile indexed\u001b[0m\n"
     ]
    },
    {
     "name": "stdout",
     "output_type": "stream",
     "text": [
      "This is ix:  FileIndex(FileStorage('indexdir'), 'MAIN')\n",
      "file cid:  QmXh37WXcrLXkJX2cAPjbPdKZ2cxJXD58XX6eU1Zc41ka4\n",
      "file metadata cid:  QmPSyVvrBU7zzaFGiyXdantRLPie24S8zfv515u823nwid\n",
      "\tEntering \"create_contract\"\n",
      "('STATELESS_VALIDATION_SUCCESS', 1, 0)\n",
      "('ENOUGH_SIGNATURES_COLLECTED', 9, 0)\n",
      "('STATEFUL_VALIDATION_SUCCESS', 3, 0)\n",
      "('COMMITTED', 5, 0)\n",
      "\tLeaving \"create_contract\"\n",
      "\tEntering \"get_engine_receipts_address\"\n",
      "\tLeaving \"get_engine_receipts_address\"\n",
      "\tEntering \"set_account_detail\"\n",
      "None\n",
      "('STATELESS_VALIDATION_SUCCESS', 1, 0)\n",
      "('ENOUGH_SIGNATURES_COLLECTED', 9, 0)\n",
      "('STATEFUL_VALIDATION_SUCCESS', 3, 0)\n",
      "('COMMITTED', 5, 0)\n",
      "\tLeaving \"set_account_detail\"\n"
     ]
    }
   ],
   "source": [
    "# Option 10 - Integrated with detail setting\n",
    "\n",
    "from new_helper import *\n",
    "from super_helper import *\n",
    "\n",
    "directory_path = \"upload\"\n",
    "\n",
    "schema = get_schema()\n",
    "\n",
    "print(schema)\n",
    "\n",
    "processed_data = process_files(directory_path, project_id, schema)\n",
    " \n",
    "    "
   ]
  },
  {
   "cell_type": "code",
   "execution_count": 3,
   "id": "96c16c27",
   "metadata": {},
   "outputs": [
    {
     "name": "stdout",
     "output_type": "stream",
     "text": [
      "Project Account id = 07546@test, { \"admin@test\" : { \"file_1\" : \"QmXh37WXcrLXkJX2cAPjbPdKZ2cxJXD58XX6eU1Zc41ka4, QmPSyVvrBU7zzaFGiyXdantRLPie24S8zfv515u823nwid\", \"file_10\" : \"QmRA3NWM82ZGynMbYzAgYTSXCVM14Wx1RZ8fKP42G6gjgj, Qmcg7Ls7g9D55ZtF2E6iYN78QaHQ7xpEPhf3nCge433enP\", \"file_11\" : \"QmTLZSqzPexwEdniZXLPN6fUfmEXX6MXS3b4QjKURgxc9y, QmcwLUvjzWLvtHgBH2Q1tvVyvrraddgTiUzBRHDd6gL6St\", \"file_12\" : \"QmeBTz4ZwyqPkPigpASZ3wJodBXzJRpeXQMwNcsWRqU5Jv, QmRZY8kn1vdSTr9L23sYXfDE16BFmnXovtD3kkTdaB1X4z\", \"file_2\" : \"QmdiRawzVNUiB28ENKQ7WefeFLEJ1xMjsJjwtHL2jnJ9xW, QmW4dpkSxZ948ULuaDz5KYMMR4n3KLikBChqwyfh6AEBd5\", \"file_3\" : \"QmXquoApMLCcauNkz4tYw1Sp2tsqZ4edv1YtnQi5pmbw6C, QmRNfGhGQaeUKaHweHeUgXpQ4P4Tjtt3nWWCakCbrtgLoS\", \"file_4\" : \"QmXh37WXcrLXkJX2cAPjbPdKZ2cxJXD58XX6eU1Zc41ka4, QmdzXweLYWzGn6yx7gz6SuCNHeJS6ZcJaESLutb6zfcCEf\", \"file_5\" : \"QmZnh5Uuo7moZKMESFHpRjQFbbND5e3nArCzZg8uLARAgg, QmcRLVsdk77DZk5X7t37daaMDQ6VSg7FZiYszmMxAco8ab\", \"file_6\" : \"QmUq29KRwpTdvScB5oYzEDobDHyb4N1f9eaZXm4VaMCgiW, QmUhfN3cY5GPrBrvyGAFkhNRH7RgpJPaDVto5JN69a1XgW\", \"file_7\" : \"QmSSY49SnmbCZ3oSaTki7CYZe1ZaWZfE1CsWHpt8Ge7acJ, QmVWtFRf8ikghf68Y6Bx1w2wRnkoWY1uZqSeMMMN2euDr5\", \"file_8\" : \"QmV1vYkuiwKGPA5Tyi4ECNFfWYocyTtQ3E5j7CSvPBX49Q, QmVEKVfqFkTwU6yUZDAezKhMSyKUWitcWpV4gEV6BKzKLV\", \"file_9\" : \"QmVTTcqbGvYRn7n7uPYwk4vi8NdbeYvnZkX9MVT3byrAx2, QmVEKVfqFkTwU6yUZDAezKhMSyKUWitcWpV4gEV6BKzKLV\", \"project_metadata_cid\" : \"Qmbvikqo3MSMhS5yX1R1vjcrjaMvBFQyUTfRV45iFkKuDr\" } }\n"
     ]
    }
   ],
   "source": [
    "#Query - GetAccountDetail\n",
    "\n",
    "query = iroha.query('GetAccountDetail',account_id=f\"{id}@{DOMAIN}\")\n",
    "IrohaCrypto.sign_query(query, ADMIN_PRIVATE_KEY)\n",
    "response = net.send_query(query)\n",
    "data = response.account_detail_response\n",
    "details = data.detail\n",
    "# ic(details)\n",
    "print(f'Project Account id = {id}@{DOMAIN}, {details}')\n"
   ]
  },
  {
   "cell_type": "code",
   "execution_count": 4,
   "id": "02b32910",
   "metadata": {},
   "outputs": [
    {
     "name": "stderr",
     "output_type": "stream",
     "text": [
      "\u001b[32m2024-11-24 23:54:12.796\u001b[0m | \u001b[1mINFO    \u001b[0m | \u001b[36msuper_helper\u001b[0m:\u001b[36msetup_index\u001b[0m:\u001b[36m220\u001b[0m - \u001b[1mOpened existing index.\u001b[0m\n",
      "\u001b[32m2024-11-24 23:54:12.816\u001b[0m | \u001b[1mINFO    \u001b[0m | \u001b[36msuper_helper\u001b[0m:\u001b[36msearch_index\u001b[0m:\u001b[36m148\u001b[0m - \u001b[1mCID: , Project: , Name: , Title: , Creator: , Size: 0 bytes\u001b[0m\n"
     ]
    },
    {
     "name": "stdout",
     "output_type": "stream",
     "text": [
      "FileIndex(FileStorage('indexdir'), 'MAIN')\n"
     ]
    },
    {
     "data": {
      "text/plain": [
       "['']"
      ]
     },
     "execution_count": 4,
     "metadata": {},
     "output_type": "execute_result"
    }
   ],
   "source": [
    "# Example search usage\n",
    "ix = setup_index(schema)\n",
    "print(ix)\n",
    "\n",
    "keyword = \"airfoil\"\n",
    "search_index(keyword, ix)\n"
   ]
  },
  {
   "cell_type": "code",
   "execution_count": 5,
   "id": "bd504373",
   "metadata": {},
   "outputs": [
    {
     "name": "stderr",
     "output_type": "stream",
     "text": [
      "\u001b[32m2024-11-24 23:54:12.845\u001b[0m | \u001b[1mINFO    \u001b[0m | \u001b[36msuper_helper\u001b[0m:\u001b[36msearch_index\u001b[0m:\u001b[36m148\u001b[0m - \u001b[1mCID: , Project: , Name: , Title: , Creator: , Size: 0 bytes\u001b[0m\n"
     ]
    },
    {
     "name": "stdout",
     "output_type": "stream",
     "text": [
      "FileIndex(FileStorage('indexdir'), 'MAIN')\n",
      "['']\n"
     ]
    }
   ],
   "source": [
    "print(ix)\n",
    "project_ids = search_index(keyword, ix)\n",
    "print(project_ids)  # prints the list of project ids found in thvc e results"
   ]
  }
 ],
 "metadata": {
  "kernelspec": {
   "display_name": "Python 3",
   "language": "python",
   "name": "python3"
  },
  "language_info": {
   "codemirror_mode": {
    "name": "ipython",
    "version": 3
   },
   "file_extension": ".py",
   "mimetype": "text/x-python",
   "name": "python",
   "nbconvert_exporter": "python",
   "pygments_lexer": "ipython3",
   "version": "3.9.20"
  }
 },
 "nbformat": 4,
 "nbformat_minor": 5
}
