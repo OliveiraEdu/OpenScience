{
 "cells": [
  {
   "cell_type": "code",
   "execution_count": null,
   "id": "79650b49",
   "metadata": {},
   "outputs": [],
   "source": [
    "#Deploys the Account Detail smart contract\n",
    "from new_helper import *\n",
    "\n",
    "print(40*\"-\")\n",
    "\n",
    "id = \"07546\"\n",
    "DOMAIN = \"test\""
   ]
  },
  {
   "cell_type": "code",
   "execution_count": null,
   "id": "4d0d0bcb",
   "metadata": {},
   "outputs": [],
   "source": [
    "# Option 10 - Integrated with detail setting\n",
    "\n",
    "from new_helper import *\n",
    "\n",
    "directory_path = \"upload.old/\"\n",
    "\n",
    "processed_data = process_files(directory_path, id, DOMAIN)\n",
    "    "
   ]
  },
  {
   "cell_type": "code",
   "execution_count": null,
   "id": "96c16c27",
   "metadata": {},
   "outputs": [],
   "source": [
    "#Query - GetAccountDetail\n",
    "\n",
    "query = iroha.query('GetAccountDetail',account_id=f\"{id}@{DOMAIN}\")\n",
    "IrohaCrypto.sign_query(query, ADMIN_PRIVATE_KEY)\n",
    "response = net.send_query(query)\n",
    "data = response.account_detail_response\n",
    "details = data.detail\n",
    "# ic(details)\n",
    "print(f'Project Account id = {id}@{DOMAIN}, {details}')\n"
   ]
  }
 ],
 "metadata": {
  "kernelspec": {
   "display_name": "Python 3 (ipykernel)",
   "language": "python",
   "name": "python3"
  },
  "language_info": {
   "codemirror_mode": {
    "name": "ipython",
    "version": 3
   },
   "file_extension": ".py",
   "mimetype": "text/x-python",
   "name": "python",
   "nbconvert_exporter": "python",
   "pygments_lexer": "ipython3",
   "version": "3.9.20"
  }
 },
 "nbformat": 4,
 "nbformat_minor": 5
}
