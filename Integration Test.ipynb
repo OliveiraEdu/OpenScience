{
 "cells": [
  {
   "cell_type": "code",
   "execution_count": null,
   "id": "b27efec9",
   "metadata": {},
   "outputs": [],
   "source": [
    "from new_helper import *\n",
    "from super_helper import *"
   ]
  },
  {
   "cell_type": "code",
   "execution_count": null,
   "id": "79650b49",
   "metadata": {},
   "outputs": [],
   "source": [
    "id = \"06535\"\n",
    "DOMAIN = \"test\"\n",
    "\n",
    "project_id = f\"{id}@{DOMAIN}\"\n",
    "\n",
    "directory_path = \"upload\"\n",
    "\n",
    "print(40*\"-\")\n",
    "\n"
   ]
  },
  {
   "cell_type": "code",
   "execution_count": null,
   "id": "4d0d0bcb",
   "metadata": {},
   "outputs": [],
   "source": [
    "\n",
    "\n",
    "schema = get_schema() #super_helper.py\n",
    "\n",
    "print(schema)\n",
    "\n",
    "processed_data = process_files(directory_path, project_id, schema) #new_helper.py\n",
    " \n",
    "    "
   ]
  },
  {
   "cell_type": "code",
   "execution_count": null,
   "id": "96c16c27",
   "metadata": {},
   "outputs": [],
   "source": [
    "account_detail = get_account_detail(project_id)\n",
    "print(project_id, account_detail)\n"
   ]
  },
  {
   "cell_type": "code",
   "execution_count": null,
   "id": "053afc13",
   "metadata": {},
   "outputs": [],
   "source": [
    "# recreate_index() #Controls the reset of the index manually"
   ]
  },
  {
   "cell_type": "code",
   "execution_count": 16,
   "id": "02b32910",
   "metadata": {},
   "outputs": [
    {
     "name": "stderr",
     "output_type": "stream",
     "text": [
      "\u001b[32m2025-01-03 23:19:32.128\u001b[0m | \u001b[1mINFO    \u001b[0m | \u001b[36msuper_helper\u001b[0m:\u001b[36msearch_index\u001b[0m:\u001b[36m116\u001b[0m - \u001b[1mStarting keyword search...\u001b[0m\n",
      "\u001b[32m2025-01-03 23:19:32.130\u001b[0m | \u001b[1mINFO    \u001b[0m | \u001b[36msuper_helper\u001b[0m:\u001b[36msearch_index\u001b[0m:\u001b[36m117\u001b[0m - \u001b[1mKeyword: 'paper'\u001b[0m\n",
      "\u001b[32m2025-01-03 23:19:32.150\u001b[0m | \u001b[1mINFO    \u001b[0m | \u001b[36msuper_helper\u001b[0m:\u001b[36msearch_index\u001b[0m:\u001b[36m128\u001b[0m - \u001b[1mSearch successful: Found 3 result(s).\u001b[0m\n",
      "\u001b[32m2025-01-03 23:19:32.153\u001b[0m | \u001b[1mINFO    \u001b[0m | \u001b[36msuper_helper\u001b[0m:\u001b[36msearch_index\u001b[0m:\u001b[36m130\u001b[0m - \u001b[1m1. Project Id: 06535@test, File CID: QmV1vYkuiwKGPA5Tyi4ECNFfWYocyTtQ3E5j7CSvPBX49Q, Metadata CID: QmQqKd4baTssKXxcaojU3GYJpHL32zw5qfSAThEwfYTPSv, Title: deep learning in insurance: accuracy and model interpretability using tabnet\u001b[0m\n",
      "\u001b[32m2025-01-03 23:19:32.156\u001b[0m | \u001b[1mINFO    \u001b[0m | \u001b[36msuper_helper\u001b[0m:\u001b[36msearch_index\u001b[0m:\u001b[36m130\u001b[0m - \u001b[1m2. Project Id: 06535@test, File CID: QmUq29KRwpTdvScB5oYzEDobDHyb4N1f9eaZXm4VaMCgiW, Metadata CID: QmedM2sDbqRi5VmoWAUvwbuPrtSkLjHzYqor4FWK4223FV, Title: covid19-mlsf: a multi-task learning-based stock market forecasting framework during the covid-19 pandemic\u001b[0m\n",
      "\u001b[32m2025-01-03 23:19:32.159\u001b[0m | \u001b[1mINFO    \u001b[0m | \u001b[36msuper_helper\u001b[0m:\u001b[36msearch_index\u001b[0m:\u001b[36m130\u001b[0m - \u001b[1m3. Project Id: 06535@test, File CID: QmT7ximApXtExAedhzUHGHDwRismRzuKykpH4dgTvGrNZs, Metadata CID: QmcM72cnLAihvKo5Yjs41sPJDHjTvaxVuVsBYps24S4QMR, Title: diabetic retinopathy identification using parallel convolutional neural network based feature extractor and elm classifier\u001b[0m\n",
      "\u001b[32m2025-01-03 23:19:32.188\u001b[0m | \u001b[34m\u001b[1mDEBUG   \u001b[0m | \u001b[36msuper_helper\u001b[0m:\u001b[36mfetch_project_details\u001b[0m:\u001b[36m223\u001b[0m - \u001b[34m\u001b[1mValidating and fetching details for CID: QmV1vYkuiwKGPA5Tyi4ECNFfWYocyTtQ3E5j7CSvPBX49Q\u001b[0m\n",
      "\u001b[32m2025-01-03 23:19:32.189\u001b[0m | \u001b[34m\u001b[1mDEBUG   \u001b[0m | \u001b[36msuper_helper\u001b[0m:\u001b[36mfetch_project_details\u001b[0m:\u001b[36m231\u001b[0m - \u001b[34m\u001b[1mFile CID QmV1vYkuiwKGPA5Tyi4ECNFfWYocyTtQ3E5j7CSvPBX49Q found under file_5.\u001b[0m\n",
      "\u001b[32m2025-01-03 23:19:32.190\u001b[0m | \u001b[1mINFO    \u001b[0m | \u001b[36m__main__\u001b[0m:\u001b[36m<module>\u001b[0m:\u001b[36m32\u001b[0m - \u001b[1mProject Metadata CID: QmbmyecKUbwCDFPt6Uddx411bCvefLiRXPxHs5vnYz4XZm\u001b[0m\n",
      "\u001b[32m2025-01-03 23:19:32.191\u001b[0m | \u001b[1mINFO    \u001b[0m | \u001b[36m__main__\u001b[0m:\u001b[36m<module>\u001b[0m:\u001b[36m33\u001b[0m - \u001b[1mLinked User: crazy_nash@test\u001b[0m\n",
      "\u001b[32m2025-01-03 23:19:32.193\u001b[0m | \u001b[34m\u001b[1mDEBUG   \u001b[0m | \u001b[36m__main__\u001b[0m:\u001b[36m<module>\u001b[0m:\u001b[36m38\u001b[0m - \u001b[34m\u001b[1mProcessing project metadata CID: QmbmyecKUbwCDFPt6Uddx411bCvefLiRXPxHs5vnYz4XZm\u001b[0m\n",
      "\u001b[32m2025-01-03 23:19:32.194\u001b[0m | \u001b[34m\u001b[1mDEBUG   \u001b[0m | \u001b[36m__main__\u001b[0m:\u001b[36m<module>\u001b[0m:\u001b[36m41\u001b[0m - \u001b[34m\u001b[1mProcessing linked user: crazy_nash@test\u001b[0m\n",
      "\u001b[32m2025-01-03 23:19:32.240\u001b[0m | \u001b[34m\u001b[1mDEBUG   \u001b[0m | \u001b[36msuper_helper\u001b[0m:\u001b[36mfetch_project_details\u001b[0m:\u001b[36m223\u001b[0m - \u001b[34m\u001b[1mValidating and fetching details for CID: QmUq29KRwpTdvScB5oYzEDobDHyb4N1f9eaZXm4VaMCgiW\u001b[0m\n",
      "\u001b[32m2025-01-03 23:19:32.241\u001b[0m | \u001b[34m\u001b[1mDEBUG   \u001b[0m | \u001b[36msuper_helper\u001b[0m:\u001b[36mfetch_project_details\u001b[0m:\u001b[36m231\u001b[0m - \u001b[34m\u001b[1mFile CID QmUq29KRwpTdvScB5oYzEDobDHyb4N1f9eaZXm4VaMCgiW found under file_4.\u001b[0m\n",
      "\u001b[32m2025-01-03 23:19:32.242\u001b[0m | \u001b[1mINFO    \u001b[0m | \u001b[36m__main__\u001b[0m:\u001b[36m<module>\u001b[0m:\u001b[36m32\u001b[0m - \u001b[1mProject Metadata CID: QmbmyecKUbwCDFPt6Uddx411bCvefLiRXPxHs5vnYz4XZm\u001b[0m\n",
      "\u001b[32m2025-01-03 23:19:32.244\u001b[0m | \u001b[1mINFO    \u001b[0m | \u001b[36m__main__\u001b[0m:\u001b[36m<module>\u001b[0m:\u001b[36m33\u001b[0m - \u001b[1mLinked User: crazy_nash@test\u001b[0m\n",
      "\u001b[32m2025-01-03 23:19:32.245\u001b[0m | \u001b[34m\u001b[1mDEBUG   \u001b[0m | \u001b[36m__main__\u001b[0m:\u001b[36m<module>\u001b[0m:\u001b[36m38\u001b[0m - \u001b[34m\u001b[1mProcessing project metadata CID: QmbmyecKUbwCDFPt6Uddx411bCvefLiRXPxHs5vnYz4XZm\u001b[0m\n",
      "\u001b[32m2025-01-03 23:19:32.246\u001b[0m | \u001b[34m\u001b[1mDEBUG   \u001b[0m | \u001b[36m__main__\u001b[0m:\u001b[36m<module>\u001b[0m:\u001b[36m41\u001b[0m - \u001b[34m\u001b[1mProcessing linked user: crazy_nash@test\u001b[0m\n",
      "\u001b[32m2025-01-03 23:19:32.292\u001b[0m | \u001b[34m\u001b[1mDEBUG   \u001b[0m | \u001b[36msuper_helper\u001b[0m:\u001b[36mfetch_project_details\u001b[0m:\u001b[36m223\u001b[0m - \u001b[34m\u001b[1mValidating and fetching details for CID: QmT7ximApXtExAedhzUHGHDwRismRzuKykpH4dgTvGrNZs\u001b[0m\n",
      "\u001b[32m2025-01-03 23:19:32.294\u001b[0m | \u001b[34m\u001b[1mDEBUG   \u001b[0m | \u001b[36msuper_helper\u001b[0m:\u001b[36mfetch_project_details\u001b[0m:\u001b[36m231\u001b[0m - \u001b[34m\u001b[1mFile CID QmT7ximApXtExAedhzUHGHDwRismRzuKykpH4dgTvGrNZs found under file_2.\u001b[0m\n",
      "\u001b[32m2025-01-03 23:19:32.295\u001b[0m | \u001b[1mINFO    \u001b[0m | \u001b[36m__main__\u001b[0m:\u001b[36m<module>\u001b[0m:\u001b[36m32\u001b[0m - \u001b[1mProject Metadata CID: QmbmyecKUbwCDFPt6Uddx411bCvefLiRXPxHs5vnYz4XZm\u001b[0m\n",
      "\u001b[32m2025-01-03 23:19:32.296\u001b[0m | \u001b[1mINFO    \u001b[0m | \u001b[36m__main__\u001b[0m:\u001b[36m<module>\u001b[0m:\u001b[36m33\u001b[0m - \u001b[1mLinked User: crazy_nash@test\u001b[0m\n",
      "\u001b[32m2025-01-03 23:19:32.299\u001b[0m | \u001b[34m\u001b[1mDEBUG   \u001b[0m | \u001b[36m__main__\u001b[0m:\u001b[36m<module>\u001b[0m:\u001b[36m38\u001b[0m - \u001b[34m\u001b[1mProcessing project metadata CID: QmbmyecKUbwCDFPt6Uddx411bCvefLiRXPxHs5vnYz4XZm\u001b[0m\n",
      "\u001b[32m2025-01-03 23:19:32.300\u001b[0m | \u001b[34m\u001b[1mDEBUG   \u001b[0m | \u001b[36m__main__\u001b[0m:\u001b[36m<module>\u001b[0m:\u001b[36m41\u001b[0m - \u001b[34m\u001b[1mProcessing linked user: crazy_nash@test\u001b[0m\n"
     ]
    },
    {
     "name": "stdout",
     "output_type": "stream",
     "text": [
      "06535@test\n",
      "QmV1vYkuiwKGPA5Tyi4ECNFfWYocyTtQ3E5j7CSvPBX49Q\n",
      "QmQqKd4baTssKXxcaojU3GYJpHL32zw5qfSAThEwfYTPSv\n",
      "{ \"admin@test\" : { \"file_1\" : \"QmVk8gxENq6PThSGZTuk7RtbufR2XeN7LtXBj2LVTUoAdN, QmRxGqNkpdBVeq2GmfbK2ZbW1oZyX14VtiYRZnmSq6nnm7\", \"file_2\" : \"QmT7ximApXtExAedhzUHGHDwRismRzuKykpH4dgTvGrNZs, QmcM72cnLAihvKo5Yjs41sPJDHjTvaxVuVsBYps24S4QMR\", \"file_3\" : \"QmZnh5Uuo7moZKMESFHpRjQFbbND5e3nArCzZg8uLARAgg, QmR8TDkLuMV2QF2v8RavtRh5F3c8WCNer5KoWK9LZK2cur\", \"file_4\" : \"QmUq29KRwpTdvScB5oYzEDobDHyb4N1f9eaZXm4VaMCgiW, QmedM2sDbqRi5VmoWAUvwbuPrtSkLjHzYqor4FWK4223FV\", \"file_5\" : \"QmV1vYkuiwKGPA5Tyi4ECNFfWYocyTtQ3E5j7CSvPBX49Q, QmQqKd4baTssKXxcaojU3GYJpHL32zw5qfSAThEwfYTPSv\", \"linked_user\" : \"crazy_nash@test\", \"project_metadata_cid\" : \"QmbmyecKUbwCDFPt6Uddx411bCvefLiRXPxHs5vnYz4XZm\" } }\n",
      "user_json_ld_cid: QmVQLbPmAqVYWPT1x9niJEC3w1YK5zxXYJPC8FraoasHuU\n",
      "{'@type': 'foaf:Person', 'foaf:holdsAccount': {'schema:identifier': 'crazy_nash@test', 'schema:publicKey': 'e9a68ae4790e255c80ec8a3c0cd2e179ce815507c5df23f1fa03287a7d6252a9', 'schema:roleName': 'reviewer'}, 'foaf:mbox': 'crazy_nash@email.com', 'foaf:name': 'Crazy Nash', 'foaf:organization': {'@type': 'foaf:Organization', 'foaf:name': \"Institut Supérieure d'Electronique de Paris\"}, 'schema:identifier': {'@type': 'PropertyValue', 'propertyID': 'ORCID', 'value': '9331-2337-8591-X'}}\n",
      "{'@context': {'dc': 'http://purl.org/dc/terms/', 'schema': 'http://schema.org/'}, '@type': 'schema:ResearchProject', 'dc:abstract': 'This study explores the impact of quantum computing in supply chain management, focusing on biodiversity.', 'schema:endDate': '2026-07-23', 'schema:funding': {'@type': 'schema:Organization', 'schema:name': 'National Science Foundation'}, 'schema:keywords': ['quantum computing', 'supply chain management', 'biodiversity'], 'schema:location': {'@type': 'schema:Place', 'schema:name': 'Lagos, Nigeria'}, 'schema:name': 'Investigating the Role of quantum computing in supply chain management', 'schema:startDate': '2023-07-03'}\n",
      "06535@test\n",
      "QmUq29KRwpTdvScB5oYzEDobDHyb4N1f9eaZXm4VaMCgiW\n",
      "QmedM2sDbqRi5VmoWAUvwbuPrtSkLjHzYqor4FWK4223FV\n",
      "{ \"admin@test\" : { \"file_1\" : \"QmVk8gxENq6PThSGZTuk7RtbufR2XeN7LtXBj2LVTUoAdN, QmRxGqNkpdBVeq2GmfbK2ZbW1oZyX14VtiYRZnmSq6nnm7\", \"file_2\" : \"QmT7ximApXtExAedhzUHGHDwRismRzuKykpH4dgTvGrNZs, QmcM72cnLAihvKo5Yjs41sPJDHjTvaxVuVsBYps24S4QMR\", \"file_3\" : \"QmZnh5Uuo7moZKMESFHpRjQFbbND5e3nArCzZg8uLARAgg, QmR8TDkLuMV2QF2v8RavtRh5F3c8WCNer5KoWK9LZK2cur\", \"file_4\" : \"QmUq29KRwpTdvScB5oYzEDobDHyb4N1f9eaZXm4VaMCgiW, QmedM2sDbqRi5VmoWAUvwbuPrtSkLjHzYqor4FWK4223FV\", \"file_5\" : \"QmV1vYkuiwKGPA5Tyi4ECNFfWYocyTtQ3E5j7CSvPBX49Q, QmQqKd4baTssKXxcaojU3GYJpHL32zw5qfSAThEwfYTPSv\", \"linked_user\" : \"crazy_nash@test\", \"project_metadata_cid\" : \"QmbmyecKUbwCDFPt6Uddx411bCvefLiRXPxHs5vnYz4XZm\" } }\n",
      "user_json_ld_cid: QmVQLbPmAqVYWPT1x9niJEC3w1YK5zxXYJPC8FraoasHuU\n",
      "{'@type': 'foaf:Person', 'foaf:holdsAccount': {'schema:identifier': 'crazy_nash@test', 'schema:publicKey': 'e9a68ae4790e255c80ec8a3c0cd2e179ce815507c5df23f1fa03287a7d6252a9', 'schema:roleName': 'reviewer'}, 'foaf:mbox': 'crazy_nash@email.com', 'foaf:name': 'Crazy Nash', 'foaf:organization': {'@type': 'foaf:Organization', 'foaf:name': \"Institut Supérieure d'Electronique de Paris\"}, 'schema:identifier': {'@type': 'PropertyValue', 'propertyID': 'ORCID', 'value': '9331-2337-8591-X'}}\n",
      "{'@context': {'dc': 'http://purl.org/dc/terms/', 'schema': 'http://schema.org/'}, '@type': 'schema:ResearchProject', 'dc:abstract': 'This study explores the impact of quantum computing in supply chain management, focusing on biodiversity.', 'schema:endDate': '2026-07-23', 'schema:funding': {'@type': 'schema:Organization', 'schema:name': 'National Science Foundation'}, 'schema:keywords': ['quantum computing', 'supply chain management', 'biodiversity'], 'schema:location': {'@type': 'schema:Place', 'schema:name': 'Lagos, Nigeria'}, 'schema:name': 'Investigating the Role of quantum computing in supply chain management', 'schema:startDate': '2023-07-03'}\n",
      "06535@test\n",
      "QmT7ximApXtExAedhzUHGHDwRismRzuKykpH4dgTvGrNZs\n",
      "QmcM72cnLAihvKo5Yjs41sPJDHjTvaxVuVsBYps24S4QMR\n",
      "{ \"admin@test\" : { \"file_1\" : \"QmVk8gxENq6PThSGZTuk7RtbufR2XeN7LtXBj2LVTUoAdN, QmRxGqNkpdBVeq2GmfbK2ZbW1oZyX14VtiYRZnmSq6nnm7\", \"file_2\" : \"QmT7ximApXtExAedhzUHGHDwRismRzuKykpH4dgTvGrNZs, QmcM72cnLAihvKo5Yjs41sPJDHjTvaxVuVsBYps24S4QMR\", \"file_3\" : \"QmZnh5Uuo7moZKMESFHpRjQFbbND5e3nArCzZg8uLARAgg, QmR8TDkLuMV2QF2v8RavtRh5F3c8WCNer5KoWK9LZK2cur\", \"file_4\" : \"QmUq29KRwpTdvScB5oYzEDobDHyb4N1f9eaZXm4VaMCgiW, QmedM2sDbqRi5VmoWAUvwbuPrtSkLjHzYqor4FWK4223FV\", \"file_5\" : \"QmV1vYkuiwKGPA5Tyi4ECNFfWYocyTtQ3E5j7CSvPBX49Q, QmQqKd4baTssKXxcaojU3GYJpHL32zw5qfSAThEwfYTPSv\", \"linked_user\" : \"crazy_nash@test\", \"project_metadata_cid\" : \"QmbmyecKUbwCDFPt6Uddx411bCvefLiRXPxHs5vnYz4XZm\" } }\n",
      "user_json_ld_cid: QmVQLbPmAqVYWPT1x9niJEC3w1YK5zxXYJPC8FraoasHuU\n",
      "{'@type': 'foaf:Person', 'foaf:holdsAccount': {'schema:identifier': 'crazy_nash@test', 'schema:publicKey': 'e9a68ae4790e255c80ec8a3c0cd2e179ce815507c5df23f1fa03287a7d6252a9', 'schema:roleName': 'reviewer'}, 'foaf:mbox': 'crazy_nash@email.com', 'foaf:name': 'Crazy Nash', 'foaf:organization': {'@type': 'foaf:Organization', 'foaf:name': \"Institut Supérieure d'Electronique de Paris\"}, 'schema:identifier': {'@type': 'PropertyValue', 'propertyID': 'ORCID', 'value': '9331-2337-8591-X'}}\n",
      "{'@context': {'dc': 'http://purl.org/dc/terms/', 'schema': 'http://schema.org/'}, '@type': 'schema:ResearchProject', 'dc:abstract': 'This study explores the impact of quantum computing in supply chain management, focusing on biodiversity.', 'schema:endDate': '2026-07-23', 'schema:funding': {'@type': 'schema:Organization', 'schema:name': 'National Science Foundation'}, 'schema:keywords': ['quantum computing', 'supply chain management', 'biodiversity'], 'schema:location': {'@type': 'schema:Place', 'schema:name': 'Lagos, Nigeria'}, 'schema:name': 'Investigating the Role of quantum computing in supply chain management', 'schema:startDate': '2023-07-03'}\n"
     ]
    }
   ],
   "source": [
    "\n",
    "# Open an existing index (adjust the path to your index directory)\n",
    "index_path = \"indexdir\"\n",
    "index = open_dir(index_path)\n",
    "\n",
    "# Perform a keyword search\n",
    "keyword = \"paper\"\n",
    "\n",
    "search_results, project_ids_with_cids = search_index(index, keyword)\n",
    "\n",
    "# Now you can directly access each dictionary from 'search_results'\n",
    "for dict in search_results:\n",
    "    project_id = dict['project_id']\n",
    "    print(dict['project_id'])\n",
    "    file_cid = dict['file_cid']\n",
    "    print(dict['file_cid'])\n",
    "    metadata_cid = dict['metadata_cid']\n",
    "    print(dict['metadata_cid'])\n",
    "    \n",
    "    project_details = get_account_detail(dict['project_id'])\n",
    "    \n",
    "    print(project_details)\n",
    "    \n",
    "    blockchain_data = json.loads(project_details)\n",
    "    \n",
    "    result = fetch_project_details(file_cid, blockchain_data)\n",
    "\n",
    "    if result[\"is_valid\"]:\n",
    "        project_metadata_cid = result[\"project_metadata_cid\"]\n",
    "        linked_user = result[\"linked_user\"]\n",
    "    \n",
    "        # Use the returned values\n",
    "        logger.info(f\"Project Metadata CID: {project_metadata_cid}\")\n",
    "        logger.info(f\"Linked User: {linked_user}\")\n",
    "    \n",
    "        # Perform other actions with the data\n",
    "        if project_metadata_cid:\n",
    "            # Process project metadata CID\n",
    "            logger.debug(f\"Processing project metadata CID: {project_metadata_cid}\")\n",
    "        if linked_user:\n",
    "            # Process linked user\n",
    "            logger.debug(f\"Processing linked user: {linked_user}\")\n",
    "    else:\n",
    "        logger.warning(\"File CID is invalid. No project metadata or linked user available.\")\n",
    "    \n",
    "    user = get_account_detail(linked_user)\n",
    "    user = json.loads(user)  # Convert the JSON string to a Python dictionary\n",
    "\n",
    "    # Accessing user_json_ld_cid\n",
    "    user_json_ld_cid = user.get(\"admin@test\", {}).get(\"user_json_ld_cid\", None)\n",
    "\n",
    "    # Check if the value exists and use it\n",
    "    if user_json_ld_cid:\n",
    "        print(f\"user_json_ld_cid: {user_json_ld_cid}\")\n",
    "    else:\n",
    "        print(\"user_json_ld_cid not found.\")\n",
    "        \n",
    "    project_metadata = download_json_from_ipfs(user_json_ld_cid)\n",
    "    print(project_metadata)\n",
    "    \n",
    "    project_metadata = download_json_from_ipfs(project_metadata_cid)\n",
    "    print(project_metadata)\n",
    "\n"
   ]
  }
 ],
 "metadata": {
  "kernelspec": {
   "display_name": "Python 3 (ipykernel)",
   "language": "python",
   "name": "python3"
  },
  "language_info": {
   "codemirror_mode": {
    "name": "ipython",
    "version": 3
   },
   "file_extension": ".py",
   "mimetype": "text/x-python",
   "name": "python",
   "nbconvert_exporter": "python",
   "pygments_lexer": "ipython3",
   "version": "3.9.21"
  }
 },
 "nbformat": 4,
 "nbformat_minor": 5
}
