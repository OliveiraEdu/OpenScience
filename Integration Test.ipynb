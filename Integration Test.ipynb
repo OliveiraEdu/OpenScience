{
 "cells": [
  {
   "cell_type": "code",
   "execution_count": null,
   "id": "8131eb55",
   "metadata": {},
   "outputs": [],
   "source": [
    "from new_helper import *\n",
    "\n",
    "# DIRECTORY_PATH = \"upload.old/\"\n",
    "\n",
    "# upload_documents_in_directory(DIRECTORY_PATH)\n",
    "\n",
    "\n",
    "# Example usage:\n",
    "directory_path = \"upload\"\n",
    "process_files(directory_path)\n",
    "\n",
    "print(file_cid, metadata_cid) \n"
   ]
  },
  {
   "cell_type": "code",
   "execution_count": null,
   "id": "b0a89557",
   "metadata": {},
   "outputs": [],
   "source": [
    "#Option 1\n",
    "# Example usage\n",
    "\n",
    "from new_helper import *\n",
    "\n",
    "directory_path = \"upload\"\n",
    "for file_cid, metadata_cid in process_files(directory_path):\n",
    "    # Now you can use the returned values here\n",
    "    print(\"File CID:\", file_cid)\n",
    "    print(\"Metadata CID:\", metadata_cid)\n"
   ]
  },
  {
   "cell_type": "code",
   "execution_count": null,
   "id": "9bac91f2",
   "metadata": {},
   "outputs": [],
   "source": [
    "#Option 3\n",
    "from new_helper import *\n",
    "\n",
    "directory_path = \"upload\"\n",
    "\n",
    "# Call the function and store its result\n",
    "result = process_files(directory_path)\n",
    "\n",
    "# Now you can access the file and metadata CIDs as a list of tuples\n",
    "file_cid, metadata_cid = result[0]  # Access the first tuple in the list\n",
    "\n",
    "# Pass a list\n",
    "value1 = encoder([file_cid, metadata_cid])\n",
    "print(value1)\n",
    "\n",
    "# Pass a dictionary\n",
    "cid_dict = process_files(directory_path)\n",
    "value2 = encoder(list(cid_dict.values()))\n",
    "print(value2)"
   ]
  },
  {
   "cell_type": "code",
   "execution_count": null,
   "id": "5321f6d0",
   "metadata": {},
   "outputs": [],
   "source": [
    "#Option 4\n",
    "\n",
    "from new_helper import *\n",
    "\n",
    "directory_path = \"upload\"\n",
    "\n",
    "# project_account_id = {'account_id': '09938@test'}\n",
    "user_details = process_files(directory_path)\n",
    "\n",
    "# # Assuming cid_dict is the output from process_files(), you would do something like:\n",
    "# project_account_id.update({username: user_details[filename]})"
   ]
  },
  {
   "cell_type": "code",
   "execution_count": null,
   "id": "83d90eff",
   "metadata": {},
   "outputs": [],
   "source": [
    "#Option 5\n",
    "\n",
    "from new_helper import *\n",
    "\n",
    "directory_path = \"upload\"\n",
    "file_cids = process_files(directory_path)\n",
    "print(file_cids)\n",
    "\n",
    "print(\"File key:\", file_key)\n",
    "print(\"File CID:\", file_cid)\n",
    "print(\"Metadata CID:\", metadata_cid)\n"
   ]
  },
  {
   "cell_type": "code",
   "execution_count": null,
   "id": "0a9356e3",
   "metadata": {},
   "outputs": [],
   "source": [
    "#Option 6\n",
    "\n",
    "\n",
    "from new_helper import *\n",
    "\n",
    "directory_path = \"upload\"\n",
    "cids = process_files(directory_path)\n",
    "print_cids(cids)"
   ]
  },
  {
   "cell_type": "code",
   "execution_count": 3,
   "id": "5eef092d",
   "metadata": {},
   "outputs": [
    {
     "name": "stderr",
     "output_type": "stream",
     "text": [
      "\u001b[32m2024-11-19 10:48:41.429\u001b[0m | \u001b[1mINFO    \u001b[0m | \u001b[36mnew_helper\u001b[0m:\u001b[36mparse_file_with_tika\u001b[0m:\u001b[36m29\u001b[0m - \u001b[1mParsing upload/Aeroacoustic-airfoil-shape-optimization-enhance_2023_Expert-Systems-with-App.pdf with Tika...\u001b[0m\n"
     ]
    },
    {
     "name": "stdout",
     "output_type": "stream",
     "text": [
      "file:  upload/Aeroacoustic-airfoil-shape-optimization-enhance_2023_Expert-Systems-with-App.pdf\n",
      "file metadata:  {'pdf:PDFVersion': '1.7', 'pdf:docinfo:title': 'Aeroacoustic airfoil shape optimization enhanced by autoencoders', 'xmp:CreatorTool': 'Elsevier', 'pdf:hasXFA': 'false', 'access_permission:can_print_degraded': 'true', 'X-TIKA:Parsed-By-Full-Set': ['org.apache.tika.parser.DefaultParser', 'org.apache.tika.parser.pdf.PDFParser'], 'X-TIKA:content_handler': 'ToTextContentHandler', 'pdf:num3DAnnotations': '0', 'dc:format': 'application/pdf; version=1.7', 'pdf:docinfo:custom:robots': 'noindex', 'pdf:docinfo:creator_tool': 'Elsevier', 'access_permission:fill_in_form': 'true', 'pdf:docinfo:custom:CreationDate--Text': '7th February 2023', 'pdf:hasCollection': 'false', 'pdf:encrypted': 'false', 'dc:title': 'Aeroacoustic airfoil shape optimization enhanced by autoencoders', 'pdf:containsNonEmbeddedFont': 'false', 'pdf:docinfo:custom:CrossMarkDomains[1]': 'elsevier.com', 'robots': 'noindex', 'pdf:docinfo:subject': 'Expert Systems With Applications, 217 (2023) 119513. doi:10.1016/j.eswa.2023.119513', 'pdf:hasMarkedContent': 'false', 'pdf:docinfo:creator': 'Jiaqing Kou', 'pdf:docinfo:custom:CrossmarkMajorVersionDate': '2010-04-23', 'access_permission:extract_for_accessibility': 'true', 'resourceName': \"b'Aeroacoustic-airfoil-shape-optimization-enhance_2023_Expert-Systems-with-App.pdf'\", 'pdf:docinfo:custom:CrossMarkDomains[2]': 'sciencedirect.com', 'X-TIKA:Parsed-By': ['org.apache.tika.parser.DefaultParser', 'org.apache.tika.parser.pdf.PDFParser'], 'ElsevierWebPDFSpecifications': '7.0', 'pdf:docinfo:custom:doi': '10.1016/j.eswa.2023.119513', 'pdf:docinfo:custom:CrossmarkDomainExclusive': 'true', 'X-TIKA:embedded_depth': '0', 'CrossmarkDomainExclusive': 'true', 'pdf:annotationTypes': 'null', 'pdf:docinfo:producer': 'Acrobat Distiller 8.1.0 (Windows)', 'pdf:annotationSubtypes': 'Link', 'CreationDate--Text': '7th February 2023', 'doi': '10.1016/j.eswa.2023.119513', 'pdf:containsDamagedFont': 'false', 'pdf:unmappedUnicodeCharsPerPage': ['0', '0', '0', '0', '0', '0', '0', '0', '0', '0', '0', '0', '0', '0'], 'access_permission:modify_annotations': 'true', 'dc:creator': 'Jiaqing Kou', 'dcterms:created': '2023-02-04T09:40:15Z', 'dcterms:modified': '2023-02-07T16:56:45Z', 'CrossMarkDomains[1]': 'elsevier.com', 'pdf:overallPercentageUnmappedUnicodeChars': '0.0', 'pdf:docinfo:keywords': 'Aeroacoustics,Optimization design,Amiet theory,Machine learning,Autoencoder', 'pdf:docinfo:modified': '2023-02-07T16:56:45Z', 'Content-Length': '1324070', 'Content-Type': 'application/pdf', 'dc:language': 'en-US', 'pdf:producer': 'Acrobat Distiller 8.1.0 (Windows)', 'dc:subject': ['Aeroacoustics,Optimization design,Amiet theory,Machine learning,Autoencoder', 'Expert Systems With Applications, 217 (2023) 119513. doi:10.1016/j.eswa.2023.119513'], 'X-TIKA:EXCEPTION:warn': 'org.xml.sax.SAXParseException; lineNumber: 87; columnNumber: 11; The content of elements must consist of well-formed character data or markup.\\n\\tat org.apache.xerces.parsers.DOMParser.parse(Unknown Source)\\n\\tat org.apache.xerces.jaxp.DocumentBuilderImpl.parse(Unknown Source)\\n\\tat java.xml/javax.xml.parsers.DocumentBuilder.parse(DocumentBuilder.java:122)\\n\\tat org.apache.tika.utils.XMLReaderUtils.buildDOM(XMLReaderUtils.java:396)\\n\\tat org.apache.tika.parser.pdf.PDMetadataExtractor.loadDOM(PDMetadataExtractor.java:472)\\n\\tat org.apache.tika.parser.pdf.PDMetadataExtractor.extract(PDMetadataExtractor.java:69)\\n\\tat org.apache.tika.parser.pdf.PDFParser.extractMetadata(PDFParser.java:423)\\n\\tat org.apache.tika.parser.pdf.PDFParser.parse(PDFParser.java:181)\\n\\tat org.apache.tika.parser.CompositeParser.parse(CompositeParser.java:298)\\n\\tat org.apache.tika.parser.CompositeParser.parse(CompositeParser.java:298)\\n\\tat org.apache.tika.parser.AutoDetectParser.parse(AutoDetectParser.java:175)\\n\\tat org.apache.tika.parser.RecursiveParserWrapper.parse(RecursiveParserWrapper.java:163)\\n\\tat org.apache.tika.server.core.resource.TikaResource.parse(TikaResource.java:352)\\n\\tat org.apache.tika.server.core.resource.RecursiveMetadataResource.parseMetadata(RecursiveMetadataResource.java:78)\\n\\tat org.apache.tika.server.core.resource.RecursiveMetadataResource.parseMetadataToMetadataList(RecursiveMetadataResource.java:190)\\n\\tat org.apache.tika.server.core.resource.RecursiveMetadataResource.getMetadata(RecursiveMetadataResource.java:179)\\n\\tat jdk.internal.reflect.GeneratedMethodAccessor4.invoke(Unknown Source)\\n\\tat java.base/jdk.internal.reflect.DelegatingMethodAccessorImpl.invoke(DelegatingMethodAccessorImpl.java:43)\\n\\tat java.base/java.lang.reflect.Method.invoke(Method.java:569)\\n\\tat org.apache.cxf.service.invoker.AbstractInvoker.performInvocation(AbstractInvoker.java:179)\\n\\tat org.apache.cxf.service.invoker.AbstractInvoker.invoke(AbstractInvoker.java:96)\\n\\tat org.apache.cxf.jaxrs.JAXRSInvoker.invoke(JAXRSInvoker.java:201)\\n\\tat org.apache.cxf.jaxrs.JAXRSInvoker.invoke(JAXRSInvoker.java:104)\\n\\tat org.apache.cxf.interceptor.ServiceInvokerInterceptor$1.run(ServiceInvokerInterceptor.java:59)\\n\\tat org.apache.cxf.interceptor.ServiceInvokerInterceptor.handleMessage(ServiceInvokerInterceptor.java:96)\\n\\tat org.apache.cxf.phase.PhaseInterceptorChain.doIntercept(PhaseInterceptorChain.java:307)\\n\\tat org.apache.cxf.transport.ChainInitiationObserver.onMessage(ChainInitiationObserver.java:121)\\n\\tat org.apache.cxf.transport.http.AbstractHTTPDestination.invoke(AbstractHTTPDestination.java:265)\\n\\tat org.apache.cxf.transport.http_jetty.JettyHTTPDestination.doService(JettyHTTPDestination.java:247)\\n\\tat org.apache.cxf.transport.http_jetty.JettyHTTPHandler.handle(JettyHTTPHandler.java:79)\\n\\tat org.eclipse.jetty.server.handler.HandlerWrapper.handle(HandlerWrapper.java:127)\\n\\tat org.eclipse.jetty.server.handler.ScopedHandler.nextHandle(ScopedHandler.java:235)\\n\\tat org.eclipse.jetty.server.handler.ContextHandler.doHandle(ContextHandler.java:1440)\\n\\tat org.eclipse.jetty.server.handler.ScopedHandler.nextScope(ScopedHandler.java:190)\\n\\tat org.eclipse.jetty.server.handler.ContextHandler.doScope(ContextHandler.java:1355)\\n\\tat org.eclipse.jetty.server.handler.ScopedHandler.handle(ScopedHandler.java:141)\\n\\tat org.eclipse.jetty.server.handler.ContextHandlerCollection.handle(ContextHandlerCollection.java:191)\\n\\tat org.eclipse.jetty.server.handler.HandlerWrapper.handle(HandlerWrapper.java:127)\\n\\tat org.eclipse.jetty.server.Server.handle(Server.java:516)\\n\\tat org.eclipse.jetty.server.HttpChannel.lambda$handle$1(HttpChannel.java:487)\\n\\tat org.eclipse.jetty.server.HttpChannel.dispatch(HttpChannel.java:732)\\n\\tat org.eclipse.jetty.server.HttpChannel.handle(HttpChannel.java:479)\\n\\tat org.eclipse.jetty.server.HttpConnection.onFillable(HttpConnection.java:277)\\n\\tat org.eclipse.jetty.io.AbstractConnection$ReadCallback.succeeded(AbstractConnection.java:311)\\n\\tat org.eclipse.jetty.io.FillInterest.fillable(FillInterest.java:105)\\n\\tat org.eclipse.jetty.io.ChannelEndPoint$1.run(ChannelEndPoint.java:104)\\n\\tat org.eclipse.jetty.util.thread.strategy.EatWhatYouKill.runTask(EatWhatYouKill.java:338)\\n\\tat org.eclipse.jetty.util.thread.strategy.EatWhatYouKill.doProduce(EatWhatYouKill.java:315)\\n\\tat org.eclipse.jetty.util.thread.strategy.EatWhatYouKill.tryProduce(EatWhatYouKill.java:173)\\n\\tat org.eclipse.jetty.util.thread.strategy.EatWhatYouKill.run(EatWhatYouKill.java:131)\\n\\tat org.eclipse.jetty.util.thread.ReservedThreadExecutor$ReservedThread.run(ReservedThreadExecutor.java:409)\\n\\tat org.eclipse.jetty.util.thread.QueuedThreadPool.runJob(QueuedThreadPool.java:883)\\n\\tat org.eclipse.jetty.util.thread.QueuedThreadPool$Runner.run(QueuedThreadPool.java:1034)\\n\\tat java.base/java.lang.Thread.run(Thread.java:840)\\n', 'pdf:docinfo:custom:ElsevierWebPDFSpecifications': '7.0', 'pdf:totalUnmappedUnicodeChars': '0', 'access_permission:assemble_document': 'true', 'xmpTPg:NPages': '14', 'pdf:hasXMP': 'true', 'pdf:charsPerPage': ['4632', '7035', '4418', '4887', '4242', '3215', '3361', '3553', '3680', '2730', '3569', '4967', '5447', '7572'], 'access_permission:extract_content': 'true', 'access_permission:can_print': 'true', 'CrossMarkDomains[2]': 'sciencedirect.com', 'X-TIKA:parse_time_millis': '183', 'access_permission:can_modify': 'true', 'pdf:docinfo:created': '2023-02-04T09:40:15Z', 'CrossmarkMajorVersionDate': '2010-04-23'}\n",
      "file cid:  QmXh37WXcrLXkJX2cAPjbPdKZ2cxJXD58XX6eU1Zc41ka4\n",
      "file metadata cid:  QmVtyZisRNJdTtB2XZxjfCbznAs8msBq8jTu9BSLjuMa4K\n",
      "File Key: file_1\n",
      "CIDs: QmXh37WXcrLXkJX2cAPjbPdKZ2cxJXD58XX6eU1Zc41ka4, QmVtyZisRNJdTtB2XZxjfCbznAs8msBq8jTu9BSLjuMa4K\n",
      "------------------------\n"
     ]
    }
   ],
   "source": [
    "#Option 7\n",
    "\n",
    "from new_helper import *\n",
    "\n",
    "directory_path = \"upload\"\n",
    "cids = process_files(directory_path)\n",
    "print_cids(cids)"
   ]
  },
  {
   "cell_type": "code",
   "execution_count": 5,
   "id": "4d0d0bcb",
   "metadata": {},
   "outputs": [
    {
     "name": "stderr",
     "output_type": "stream",
     "text": [
      "\u001b[32m2024-11-19 10:49:02.971\u001b[0m | \u001b[1mINFO    \u001b[0m | \u001b[36mnew_helper\u001b[0m:\u001b[36mparse_file_with_tika\u001b[0m:\u001b[36m29\u001b[0m - \u001b[1mParsing upload/Aeroacoustic-airfoil-shape-optimization-enhance_2023_Expert-Systems-with-App.pdf with Tika...\u001b[0m\n"
     ]
    },
    {
     "name": "stdout",
     "output_type": "stream",
     "text": [
      "file:  upload/Aeroacoustic-airfoil-shape-optimization-enhance_2023_Expert-Systems-with-App.pdf\n",
      "file metadata:  {'pdf:PDFVersion': '1.7', 'pdf:docinfo:title': 'Aeroacoustic airfoil shape optimization enhanced by autoencoders', 'xmp:CreatorTool': 'Elsevier', 'pdf:hasXFA': 'false', 'access_permission:can_print_degraded': 'true', 'X-TIKA:Parsed-By-Full-Set': ['org.apache.tika.parser.DefaultParser', 'org.apache.tika.parser.pdf.PDFParser'], 'X-TIKA:content_handler': 'ToTextContentHandler', 'pdf:num3DAnnotations': '0', 'dc:format': 'application/pdf; version=1.7', 'pdf:docinfo:custom:robots': 'noindex', 'pdf:docinfo:creator_tool': 'Elsevier', 'access_permission:fill_in_form': 'true', 'pdf:docinfo:custom:CreationDate--Text': '7th February 2023', 'pdf:hasCollection': 'false', 'pdf:encrypted': 'false', 'dc:title': 'Aeroacoustic airfoil shape optimization enhanced by autoencoders', 'pdf:containsNonEmbeddedFont': 'false', 'pdf:docinfo:custom:CrossMarkDomains[1]': 'elsevier.com', 'robots': 'noindex', 'pdf:docinfo:subject': 'Expert Systems With Applications, 217 (2023) 119513. doi:10.1016/j.eswa.2023.119513', 'pdf:hasMarkedContent': 'false', 'pdf:docinfo:creator': 'Jiaqing Kou', 'pdf:docinfo:custom:CrossmarkMajorVersionDate': '2010-04-23', 'access_permission:extract_for_accessibility': 'true', 'resourceName': \"b'Aeroacoustic-airfoil-shape-optimization-enhance_2023_Expert-Systems-with-App.pdf'\", 'pdf:docinfo:custom:CrossMarkDomains[2]': 'sciencedirect.com', 'X-TIKA:Parsed-By': ['org.apache.tika.parser.DefaultParser', 'org.apache.tika.parser.pdf.PDFParser'], 'ElsevierWebPDFSpecifications': '7.0', 'pdf:docinfo:custom:doi': '10.1016/j.eswa.2023.119513', 'pdf:docinfo:custom:CrossmarkDomainExclusive': 'true', 'X-TIKA:embedded_depth': '0', 'CrossmarkDomainExclusive': 'true', 'pdf:annotationTypes': 'null', 'pdf:docinfo:producer': 'Acrobat Distiller 8.1.0 (Windows)', 'pdf:annotationSubtypes': 'Link', 'CreationDate--Text': '7th February 2023', 'doi': '10.1016/j.eswa.2023.119513', 'pdf:containsDamagedFont': 'false', 'pdf:unmappedUnicodeCharsPerPage': ['0', '0', '0', '0', '0', '0', '0', '0', '0', '0', '0', '0', '0', '0'], 'access_permission:modify_annotations': 'true', 'dc:creator': 'Jiaqing Kou', 'dcterms:created': '2023-02-04T09:40:15Z', 'dcterms:modified': '2023-02-07T16:56:45Z', 'CrossMarkDomains[1]': 'elsevier.com', 'pdf:overallPercentageUnmappedUnicodeChars': '0.0', 'pdf:docinfo:keywords': 'Aeroacoustics,Optimization design,Amiet theory,Machine learning,Autoencoder', 'pdf:docinfo:modified': '2023-02-07T16:56:45Z', 'Content-Length': '1324070', 'Content-Type': 'application/pdf', 'dc:language': 'en-US', 'pdf:producer': 'Acrobat Distiller 8.1.0 (Windows)', 'dc:subject': ['Aeroacoustics,Optimization design,Amiet theory,Machine learning,Autoencoder', 'Expert Systems With Applications, 217 (2023) 119513. doi:10.1016/j.eswa.2023.119513'], 'X-TIKA:EXCEPTION:warn': 'org.xml.sax.SAXParseException; lineNumber: 87; columnNumber: 11; The content of elements must consist of well-formed character data or markup.\\n\\tat org.apache.xerces.parsers.DOMParser.parse(Unknown Source)\\n\\tat org.apache.xerces.jaxp.DocumentBuilderImpl.parse(Unknown Source)\\n\\tat java.xml/javax.xml.parsers.DocumentBuilder.parse(DocumentBuilder.java:122)\\n\\tat org.apache.tika.utils.XMLReaderUtils.buildDOM(XMLReaderUtils.java:396)\\n\\tat org.apache.tika.parser.pdf.PDMetadataExtractor.loadDOM(PDMetadataExtractor.java:472)\\n\\tat org.apache.tika.parser.pdf.PDMetadataExtractor.extract(PDMetadataExtractor.java:69)\\n\\tat org.apache.tika.parser.pdf.PDFParser.extractMetadata(PDFParser.java:423)\\n\\tat org.apache.tika.parser.pdf.PDFParser.parse(PDFParser.java:181)\\n\\tat org.apache.tika.parser.CompositeParser.parse(CompositeParser.java:298)\\n\\tat org.apache.tika.parser.CompositeParser.parse(CompositeParser.java:298)\\n\\tat org.apache.tika.parser.AutoDetectParser.parse(AutoDetectParser.java:175)\\n\\tat org.apache.tika.parser.RecursiveParserWrapper.parse(RecursiveParserWrapper.java:163)\\n\\tat org.apache.tika.server.core.resource.TikaResource.parse(TikaResource.java:352)\\n\\tat org.apache.tika.server.core.resource.RecursiveMetadataResource.parseMetadata(RecursiveMetadataResource.java:78)\\n\\tat org.apache.tika.server.core.resource.RecursiveMetadataResource.parseMetadataToMetadataList(RecursiveMetadataResource.java:190)\\n\\tat org.apache.tika.server.core.resource.RecursiveMetadataResource.getMetadata(RecursiveMetadataResource.java:179)\\n\\tat jdk.internal.reflect.GeneratedMethodAccessor4.invoke(Unknown Source)\\n\\tat java.base/jdk.internal.reflect.DelegatingMethodAccessorImpl.invoke(DelegatingMethodAccessorImpl.java:43)\\n\\tat java.base/java.lang.reflect.Method.invoke(Method.java:569)\\n\\tat org.apache.cxf.service.invoker.AbstractInvoker.performInvocation(AbstractInvoker.java:179)\\n\\tat org.apache.cxf.service.invoker.AbstractInvoker.invoke(AbstractInvoker.java:96)\\n\\tat org.apache.cxf.jaxrs.JAXRSInvoker.invoke(JAXRSInvoker.java:201)\\n\\tat org.apache.cxf.jaxrs.JAXRSInvoker.invoke(JAXRSInvoker.java:104)\\n\\tat org.apache.cxf.interceptor.ServiceInvokerInterceptor$1.run(ServiceInvokerInterceptor.java:59)\\n\\tat org.apache.cxf.interceptor.ServiceInvokerInterceptor.handleMessage(ServiceInvokerInterceptor.java:96)\\n\\tat org.apache.cxf.phase.PhaseInterceptorChain.doIntercept(PhaseInterceptorChain.java:307)\\n\\tat org.apache.cxf.transport.ChainInitiationObserver.onMessage(ChainInitiationObserver.java:121)\\n\\tat org.apache.cxf.transport.http.AbstractHTTPDestination.invoke(AbstractHTTPDestination.java:265)\\n\\tat org.apache.cxf.transport.http_jetty.JettyHTTPDestination.doService(JettyHTTPDestination.java:247)\\n\\tat org.apache.cxf.transport.http_jetty.JettyHTTPHandler.handle(JettyHTTPHandler.java:79)\\n\\tat org.eclipse.jetty.server.handler.HandlerWrapper.handle(HandlerWrapper.java:127)\\n\\tat org.eclipse.jetty.server.handler.ScopedHandler.nextHandle(ScopedHandler.java:235)\\n\\tat org.eclipse.jetty.server.handler.ContextHandler.doHandle(ContextHandler.java:1440)\\n\\tat org.eclipse.jetty.server.handler.ScopedHandler.nextScope(ScopedHandler.java:190)\\n\\tat org.eclipse.jetty.server.handler.ContextHandler.doScope(ContextHandler.java:1355)\\n\\tat org.eclipse.jetty.server.handler.ScopedHandler.handle(ScopedHandler.java:141)\\n\\tat org.eclipse.jetty.server.handler.ContextHandlerCollection.handle(ContextHandlerCollection.java:191)\\n\\tat org.eclipse.jetty.server.handler.HandlerWrapper.handle(HandlerWrapper.java:127)\\n\\tat org.eclipse.jetty.server.Server.handle(Server.java:516)\\n\\tat org.eclipse.jetty.server.HttpChannel.lambda$handle$1(HttpChannel.java:487)\\n\\tat org.eclipse.jetty.server.HttpChannel.dispatch(HttpChannel.java:732)\\n\\tat org.eclipse.jetty.server.HttpChannel.handle(HttpChannel.java:479)\\n\\tat org.eclipse.jetty.server.HttpConnection.onFillable(HttpConnection.java:277)\\n\\tat org.eclipse.jetty.io.AbstractConnection$ReadCallback.succeeded(AbstractConnection.java:311)\\n\\tat org.eclipse.jetty.io.FillInterest.fillable(FillInterest.java:105)\\n\\tat org.eclipse.jetty.io.ChannelEndPoint$1.run(ChannelEndPoint.java:104)\\n\\tat org.eclipse.jetty.util.thread.strategy.EatWhatYouKill.runTask(EatWhatYouKill.java:338)\\n\\tat org.eclipse.jetty.util.thread.strategy.EatWhatYouKill.doProduce(EatWhatYouKill.java:315)\\n\\tat org.eclipse.jetty.util.thread.strategy.EatWhatYouKill.tryProduce(EatWhatYouKill.java:173)\\n\\tat org.eclipse.jetty.util.thread.strategy.EatWhatYouKill.run(EatWhatYouKill.java:131)\\n\\tat org.eclipse.jetty.util.thread.ReservedThreadExecutor$ReservedThread.run(ReservedThreadExecutor.java:409)\\n\\tat org.eclipse.jetty.util.thread.QueuedThreadPool.runJob(QueuedThreadPool.java:883)\\n\\tat org.eclipse.jetty.util.thread.QueuedThreadPool$Runner.run(QueuedThreadPool.java:1034)\\n\\tat java.base/java.lang.Thread.run(Thread.java:840)\\n', 'pdf:docinfo:custom:ElsevierWebPDFSpecifications': '7.0', 'pdf:totalUnmappedUnicodeChars': '0', 'access_permission:assemble_document': 'true', 'xmpTPg:NPages': '14', 'pdf:hasXMP': 'true', 'pdf:charsPerPage': ['4632', '7035', '4418', '4887', '4242', '3215', '3361', '3553', '3680', '2730', '3569', '4967', '5447', '7572'], 'access_permission:extract_content': 'true', 'access_permission:can_print': 'true', 'CrossMarkDomains[2]': 'sciencedirect.com', 'X-TIKA:parse_time_millis': '158', 'access_permission:can_modify': 'true', 'pdf:docinfo:created': '2023-02-04T09:40:15Z', 'CrossmarkMajorVersionDate': '2010-04-23'}\n",
      "file cid:  QmXh37WXcrLXkJX2cAPjbPdKZ2cxJXD58XX6eU1Zc41ka4\n",
      "file metadata cid:  QmSqGkSxs7oD7dPyLATW2SRS8Z1CCcaA5EsaNLALjtELDT\n",
      "File Key: file_1\n",
      "CIDs: QmXh37WXcrLXkJX2cAPjbPdKZ2cxJXD58XX6eU1Zc41ka4, QmSqGkSxs7oD7dPyLATW2SRS8Z1CCcaA5EsaNLALjtELDT\n",
      "------------------------\n",
      "file_1\n",
      "QmXh37WXcrLXkJX2cAPjbPdKZ2cxJXD58XX6eU1Zc41ka4\n",
      "QmSqGkSxs7oD7dPyLATW2SRS8Z1CCcaA5EsaNLALjtELDT\n"
     ]
    }
   ],
   "source": [
    "# Option 7 - Integrated with detail setting\n",
    "\n",
    "\n",
    "from new_helper import *\n",
    "\n",
    "directory_path = \"upload\"\n",
    "cids = process_files(directory_path)\n",
    "# print(cids)\n",
    "print_cids(cids)\n",
    "\n",
    "\n",
    "for cid in cids:\n",
    "    # address = 'address_value'\n",
    "    # project_account = {'account_id': 'id_value'}\n",
    "\n",
    "    file_key = cid[0]\n",
    "    print(file_key)\n",
    "    # cid_str = cid[2]\n",
    "    # print(cid_str)\n",
    "    file_cid = cid[1]\n",
    "    print(file_cid)\n",
    "    metadata_cid = cid[2]\n",
    "    print(metadata_cid)\n",
    "\n",
    "    "
   ]
  },
  {
   "cell_type": "code",
   "execution_count": null,
   "id": "e3ea2734-29d0-45e3-b681-25b56769edf0",
   "metadata": {},
   "outputs": [
    {
     "name": "stdout",
     "output_type": "stream",
     "text": [
      "\tEntering \"create_contract\"\n",
      "('STATELESS_VALIDATION_SUCCESS', 1, 0)\n",
      "('ENOUGH_SIGNATURES_COLLECTED', 9, 0)\n",
      "('STATEFUL_VALIDATION_SUCCESS', 3, 0)\n",
      "('COMMITTED', 5, 0)\n",
      "\tLeaving \"create_contract\"\n",
      "\tEntering \"get_engine_receipts_address\"\n",
      "\tLeaving \"get_engine_receipts_address\"\n",
      "----------------------------------------\n",
      "\tEntering \"set_account_detail\"\n",
      "('STATELESS_VALIDATION_SUCCESS', 1, 0)\n",
      "('ENOUGH_SIGNATURES_COLLECTED', 9, 0)\n",
      "('STATEFUL_VALIDATION_SUCCESS', 3, 0)\n",
      "('COMMITTED', 5, 0)\n",
      "\tLeaving \"set_account_detail\"\n"
     ]
    }
   ],
   "source": [
    "from new_helper import *\n",
    "\n",
    "# Deploys the contract\n",
    "hash = create_contract()\n",
    "address = integration_helpers.get_engine_receipts_address(hash)\n",
    "\n",
    "# print(integration_helpers.get_engine_receipts_result(hash))\n",
    "\n",
    "# print(address)\n",
    "\n",
    "print(40*\"-\")\n",
    "\n",
    "id = \"13355\"\n",
    "DOMAIN = \"test\"\n",
    "\n",
    "hash = set_account_detail(\n",
    "    address, \n",
    "    f\"{id}@{DOMAIN}\",  # Project ID as account\n",
    "    f\"{file_key}\",    # The key we're setting\n",
    "    \"f'{file_cid}',f'{metadata_cid}'\"      # The value (CID from IPFS)\n",
    ")\n"
   ]
  },
  {
   "cell_type": "code",
   "execution_count": null,
   "id": "96c16c27",
   "metadata": {},
   "outputs": [
    {
     "name": "stdout",
     "output_type": "stream",
     "text": [
      "Project Account id = 07210@test, { \"admin@test\" : { \"project_metadata_cid\" : \"QmdtLJkc1C66HP2iYWLnqfdUdN8nSgehjeJSoFWHtsjUgG\" } }\n"
     ]
    }
   ],
   "source": [
    "#Query - GetAccountDetail\n",
    "\n",
    "query = iroha.query('GetAccountDetail',account_id=f\"{id}@{DOMAIN}\")\n",
    "IrohaCrypto.sign_query(query, ADMIN_PRIVATE_KEY)\n",
    "response = net.send_query(query)\n",
    "data = response.account_detail_response\n",
    "details = data.detail\n",
    "# ic(details)\n",
    "print(f'Project Account id = {project_id}@{DOMAIN}, {details}')\n"
   ]
  }
 ],
 "metadata": {
  "kernelspec": {
   "display_name": "Python 3 (ipykernel)",
   "language": "python",
   "name": "python3"
  },
  "language_info": {
   "codemirror_mode": {
    "name": "ipython",
    "version": 3
   },
   "file_extension": ".py",
   "mimetype": "text/x-python",
   "name": "python",
   "nbconvert_exporter": "python",
   "pygments_lexer": "ipython3",
   "version": "3.9.20"
  }
 },
 "nbformat": 4,
 "nbformat_minor": 5
}
