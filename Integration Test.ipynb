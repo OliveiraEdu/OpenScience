{
 "cells": [
  {
   "cell_type": "code",
   "execution_count": 1,
   "id": "b27efec9",
   "metadata": {},
   "outputs": [],
   "source": [
    "from new_helper import *\n",
    "from super_helper import *"
   ]
  },
  {
   "cell_type": "code",
   "execution_count": 2,
   "id": "79650b49",
   "metadata": {},
   "outputs": [
    {
     "name": "stdout",
     "output_type": "stream",
     "text": [
      "----------------------------------------\n"
     ]
    }
   ],
   "source": [
    "id = \"06535\"\n",
    "DOMAIN = \"test\"\n",
    "\n",
    "project_id = f\"{id}@{DOMAIN}\"\n",
    "\n",
    "directory_path = \"upload\"\n",
    "\n",
    "print(40*\"-\")\n",
    "\n"
   ]
  },
  {
   "cell_type": "code",
   "execution_count": 3,
   "id": "4d0d0bcb",
   "metadata": {},
   "outputs": [
    {
     "name": "stdout",
     "output_type": "stream",
     "text": [
      "<Schema: ['abstract', 'created', 'creator', 'date', 'description', 'file_cid', 'format', 'full_text', 'language', 'metadata_cid', 'modified', 'project_id', 'publisher', 'subject', 'title']>\n",
      "file path:  upload/Integration Test.ipynb\n",
      "file name:  Integration Test.ipynb\n",
      "file cid:  QmVk8gxENq6PThSGZTuk7RtbufR2XeN7LtXBj2LVTUoAdN\n",
      "file metadata cid:  QmRxGqNkpdBVeq2GmfbK2ZbW1oZyX14VtiYRZnmSq6nnm7\n",
      "file_key : file_1\n",
      "joined_cids : QmVk8gxENq6PThSGZTuk7RtbufR2XeN7LtXBj2LVTUoAdN, QmRxGqNkpdBVeq2GmfbK2ZbW1oZyX14VtiYRZnmSq6nnm7\n",
      "\tEntering \"create_contract\"\n",
      "('STATELESS_VALIDATION_SUCCESS', 1, 0)\n",
      "('ENOUGH_SIGNATURES_COLLECTED', 9, 0)\n",
      "('STATEFUL_VALIDATION_SUCCESS', 3, 0)\n",
      "('COMMITTED', 5, 0)\n",
      "\tLeaving \"create_contract\"\n",
      "\tEntering \"get_engine_receipts_address\"\n",
      "\tLeaving \"get_engine_receipts_address\"\n",
      "\tEntering \"set_account_detail\"\n",
      "None\n",
      "('STATELESS_VALIDATION_SUCCESS', 1, 0)\n",
      "('ENOUGH_SIGNATURES_COLLECTED', 9, 0)\n"
     ]
    },
    {
     "name": "stderr",
     "output_type": "stream",
     "text": [
      "\u001b[32m2025-01-03 23:39:02.355\u001b[0m | \u001b[1mINFO    \u001b[0m | \u001b[36msuper_helper\u001b[0m:\u001b[36msetup_index\u001b[0m:\u001b[36m288\u001b[0m - \u001b[1mOpened existing index.\u001b[0m\n"
     ]
    },
    {
     "name": "stdout",
     "output_type": "stream",
     "text": [
      "('STATEFUL_VALIDATION_SUCCESS', 3, 0)\n",
      "('COMMITTED', 5, 0)\n",
      "\tLeaving \"set_account_detail\"\n",
      "hash : b'1ffff5da3bea849fa8f83c2d1fe843f91df731fb0d8c10c8c2de9feccd2a1f30'\n"
     ]
    },
    {
     "name": "stderr",
     "output_type": "stream",
     "text": [
      "\u001b[32m2025-01-03 23:39:02.780\u001b[0m | \u001b[1mINFO    \u001b[0m | \u001b[36msuper_helper\u001b[0m:\u001b[36mindex_metadata\u001b[0m:\u001b[36m98\u001b[0m - \u001b[1mMetadata indexed successfully: QmRxGqNkpdBVeq2GmfbK2ZbW1oZyX14VtiYRZnmSq6nnm7\u001b[0m\n"
     ]
    },
    {
     "name": "stdout",
     "output_type": "stream",
     "text": [
      "This is ix:  FileIndex(FileStorage('indexdir'), 'MAIN')\n",
      "file path:  upload/Diabetic-retinopathy-identification-using-parallel-convo_2023_Expert-Systems.pdf\n",
      "file name:  Diabetic-retinopathy-identification-using-parallel-convo_2023_Expert-Systems.pdf\n",
      "file cid:  QmT7ximApXtExAedhzUHGHDwRismRzuKykpH4dgTvGrNZs\n",
      "file metadata cid:  Qmbexy2Yn3XqN25jU1wHp4fbeB6ur2bijgc4SdJiVJNmzj\n",
      "file_key : file_2\n",
      "joined_cids : QmT7ximApXtExAedhzUHGHDwRismRzuKykpH4dgTvGrNZs, Qmbexy2Yn3XqN25jU1wHp4fbeB6ur2bijgc4SdJiVJNmzj\n",
      "\tEntering \"set_account_detail\"\n",
      "None\n",
      "('ENOUGH_SIGNATURES_COLLECTED', 9, 0)\n"
     ]
    },
    {
     "name": "stderr",
     "output_type": "stream",
     "text": [
      "\u001b[32m2025-01-03 23:39:05.386\u001b[0m | \u001b[1mINFO    \u001b[0m | \u001b[36msuper_helper\u001b[0m:\u001b[36msetup_index\u001b[0m:\u001b[36m288\u001b[0m - \u001b[1mOpened existing index.\u001b[0m\n",
      "\u001b[32m2025-01-03 23:39:05.522\u001b[0m | \u001b[1mINFO    \u001b[0m | \u001b[36msuper_helper\u001b[0m:\u001b[36mindex_metadata\u001b[0m:\u001b[36m98\u001b[0m - \u001b[1mMetadata indexed successfully: Qmbexy2Yn3XqN25jU1wHp4fbeB6ur2bijgc4SdJiVJNmzj\u001b[0m\n"
     ]
    },
    {
     "name": "stdout",
     "output_type": "stream",
     "text": [
      "('STATEFUL_VALIDATION_SUCCESS', 3, 0)\n",
      "('COMMITTED', 5, 0)\n",
      "\tLeaving \"set_account_detail\"\n",
      "hash : b'afae0808fdf9b4da46effebe906edc67fd914188aec0aef2587b64af949d1ebf'\n",
      "This is ix:  FileIndex(FileStorage('indexdir'), 'MAIN')\n",
      "file path:  upload/Editorial-Board_2023_Expert-Systems-with-Applications.pdf\n",
      "file name:  Editorial-Board_2023_Expert-Systems-with-Applications.pdf\n",
      "file cid:  QmZnh5Uuo7moZKMESFHpRjQFbbND5e3nArCzZg8uLARAgg\n",
      "file metadata cid:  QmR8TDkLuMV2QF2v8RavtRh5F3c8WCNer5KoWK9LZK2cur\n",
      "file_key : file_3\n",
      "joined_cids : QmZnh5Uuo7moZKMESFHpRjQFbbND5e3nArCzZg8uLARAgg, QmR8TDkLuMV2QF2v8RavtRh5F3c8WCNer5KoWK9LZK2cur\n",
      "\tEntering \"set_account_detail\"\n",
      "None\n",
      "('STATELESS_VALIDATION_SUCCESS', 1, 0)\n",
      "('ENOUGH_SIGNATURES_COLLECTED', 9, 0)\n"
     ]
    },
    {
     "name": "stderr",
     "output_type": "stream",
     "text": [
      "\u001b[32m2025-01-03 23:39:08.434\u001b[0m | \u001b[1mINFO    \u001b[0m | \u001b[36msuper_helper\u001b[0m:\u001b[36msetup_index\u001b[0m:\u001b[36m288\u001b[0m - \u001b[1mOpened existing index.\u001b[0m\n",
      "\u001b[32m2025-01-03 23:39:08.532\u001b[0m | \u001b[1mINFO    \u001b[0m | \u001b[36msuper_helper\u001b[0m:\u001b[36mindex_metadata\u001b[0m:\u001b[36m98\u001b[0m - \u001b[1mMetadata indexed successfully: QmR8TDkLuMV2QF2v8RavtRh5F3c8WCNer5KoWK9LZK2cur\u001b[0m\n"
     ]
    },
    {
     "name": "stdout",
     "output_type": "stream",
     "text": [
      "('STATEFUL_VALIDATION_SUCCESS', 3, 0)\n",
      "('COMMITTED', 5, 0)\n",
      "\tLeaving \"set_account_detail\"\n",
      "hash : b'd455aebb4b7fcb50a2bcd086ef0129262e409aa4838cc5781f6f95c0f5e86bb0'\n",
      "This is ix:  FileIndex(FileStorage('indexdir'), 'MAIN')\n",
      "file path:  upload/COVID19-MLSF--A-multi-task-learning-based-stock-market_2023_Expert-Systems-w.pdf\n",
      "file name:  COVID19-MLSF--A-multi-task-learning-based-stock-market_2023_Expert-Systems-w.pdf\n",
      "file cid:  QmUq29KRwpTdvScB5oYzEDobDHyb4N1f9eaZXm4VaMCgiW\n",
      "file metadata cid:  QmcEd1CvbCB98BjtV48ufLfJXH6nkRkfhySonJddo4kXub\n",
      "file_key : file_4\n",
      "joined_cids : QmUq29KRwpTdvScB5oYzEDobDHyb4N1f9eaZXm4VaMCgiW, QmcEd1CvbCB98BjtV48ufLfJXH6nkRkfhySonJddo4kXub\n",
      "\tEntering \"set_account_detail\"\n",
      "None\n",
      "('STATELESS_VALIDATION_SUCCESS', 1, 0)\n",
      "('ENOUGH_SIGNATURES_COLLECTED', 9, 0)\n"
     ]
    },
    {
     "name": "stderr",
     "output_type": "stream",
     "text": [
      "\u001b[32m2025-01-03 23:39:11.478\u001b[0m | \u001b[1mINFO    \u001b[0m | \u001b[36msuper_helper\u001b[0m:\u001b[36msetup_index\u001b[0m:\u001b[36m288\u001b[0m - \u001b[1mOpened existing index.\u001b[0m\n",
      "\u001b[32m2025-01-03 23:39:11.654\u001b[0m | \u001b[1mINFO    \u001b[0m | \u001b[36msuper_helper\u001b[0m:\u001b[36mindex_metadata\u001b[0m:\u001b[36m98\u001b[0m - \u001b[1mMetadata indexed successfully: QmcEd1CvbCB98BjtV48ufLfJXH6nkRkfhySonJddo4kXub\u001b[0m\n"
     ]
    },
    {
     "name": "stdout",
     "output_type": "stream",
     "text": [
      "('STATEFUL_VALIDATION_SUCCESS', 3, 0)\n",
      "('COMMITTED', 5, 0)\n",
      "\tLeaving \"set_account_detail\"\n",
      "hash : b'ac97d3c395dcec0f41ca0493f82b065e056ba5ef5000a4352252606645304ae1'\n",
      "This is ix:  FileIndex(FileStorage('indexdir'), 'MAIN')\n",
      "file path:  upload/Deep-learning-in-insurance--Accuracy-and-model-int_2023_Expert-Systems-with-.pdf\n",
      "file name:  Deep-learning-in-insurance--Accuracy-and-model-int_2023_Expert-Systems-with-.pdf\n",
      "file cid:  QmV1vYkuiwKGPA5Tyi4ECNFfWYocyTtQ3E5j7CSvPBX49Q\n",
      "file metadata cid:  QmX8RE8fXTCPfqtPQAu7pysNUmv3BGoHf8ix4kmwVuVkS9\n",
      "file_key : file_5\n",
      "joined_cids : QmV1vYkuiwKGPA5Tyi4ECNFfWYocyTtQ3E5j7CSvPBX49Q, QmX8RE8fXTCPfqtPQAu7pysNUmv3BGoHf8ix4kmwVuVkS9\n",
      "\tEntering \"set_account_detail\"\n",
      "None\n",
      "('STATELESS_VALIDATION_SUCCESS', 1, 0)\n",
      "('ENOUGH_SIGNATURES_COLLECTED', 9, 0)\n"
     ]
    },
    {
     "name": "stderr",
     "output_type": "stream",
     "text": [
      "\u001b[32m2025-01-03 23:39:14.522\u001b[0m | \u001b[1mINFO    \u001b[0m | \u001b[36msuper_helper\u001b[0m:\u001b[36msetup_index\u001b[0m:\u001b[36m288\u001b[0m - \u001b[1mOpened existing index.\u001b[0m\n",
      "\u001b[32m2025-01-03 23:39:14.658\u001b[0m | \u001b[1mINFO    \u001b[0m | \u001b[36msuper_helper\u001b[0m:\u001b[36mindex_metadata\u001b[0m:\u001b[36m98\u001b[0m - \u001b[1mMetadata indexed successfully: QmX8RE8fXTCPfqtPQAu7pysNUmv3BGoHf8ix4kmwVuVkS9\u001b[0m\n"
     ]
    },
    {
     "name": "stdout",
     "output_type": "stream",
     "text": [
      "('STATEFUL_VALIDATION_SUCCESS', 3, 0)\n",
      "('COMMITTED', 5, 0)\n",
      "\tLeaving \"set_account_detail\"\n",
      "hash : b'f618d33b9426abdd3a9df80d3cce46058cdce95f4955cecf0703288ef932265a'\n",
      "This is ix:  FileIndex(FileStorage('indexdir'), 'MAIN')\n"
     ]
    }
   ],
   "source": [
    "\n",
    "\n",
    "schema = get_schema() #super_helper.py\n",
    "\n",
    "print(schema)\n",
    "\n",
    "processed_data = process_files(directory_path, project_id, schema) #new_helper.py\n",
    " \n",
    "    "
   ]
  },
  {
   "cell_type": "code",
   "execution_count": 4,
   "id": "96c16c27",
   "metadata": {},
   "outputs": [
    {
     "name": "stdout",
     "output_type": "stream",
     "text": [
      "06535@test { \"admin@test\" : { \"file_1\" : \"QmVk8gxENq6PThSGZTuk7RtbufR2XeN7LtXBj2LVTUoAdN, QmRxGqNkpdBVeq2GmfbK2ZbW1oZyX14VtiYRZnmSq6nnm7\", \"file_2\" : \"QmT7ximApXtExAedhzUHGHDwRismRzuKykpH4dgTvGrNZs, Qmbexy2Yn3XqN25jU1wHp4fbeB6ur2bijgc4SdJiVJNmzj\", \"file_3\" : \"QmZnh5Uuo7moZKMESFHpRjQFbbND5e3nArCzZg8uLARAgg, QmR8TDkLuMV2QF2v8RavtRh5F3c8WCNer5KoWK9LZK2cur\", \"file_4\" : \"QmUq29KRwpTdvScB5oYzEDobDHyb4N1f9eaZXm4VaMCgiW, QmcEd1CvbCB98BjtV48ufLfJXH6nkRkfhySonJddo4kXub\", \"file_5\" : \"QmV1vYkuiwKGPA5Tyi4ECNFfWYocyTtQ3E5j7CSvPBX49Q, QmX8RE8fXTCPfqtPQAu7pysNUmv3BGoHf8ix4kmwVuVkS9\", \"linked_user\" : \"crazy_nash@test\", \"project_metadata_cid\" : \"QmbmyecKUbwCDFPt6Uddx411bCvefLiRXPxHs5vnYz4XZm\" } }\n"
     ]
    }
   ],
   "source": [
    "account_detail = get_account_detail(project_id)\n",
    "print(project_id, account_detail)\n"
   ]
  },
  {
   "cell_type": "code",
   "execution_count": 5,
   "id": "053afc13",
   "metadata": {},
   "outputs": [],
   "source": [
    "# recreate_index() #Controls the reset of the index manually"
   ]
  },
  {
   "cell_type": "code",
   "execution_count": 6,
   "id": "02b32910",
   "metadata": {},
   "outputs": [
    {
     "name": "stderr",
     "output_type": "stream",
     "text": [
      "\u001b[32m2025-01-03 23:39:14.752\u001b[0m | \u001b[1mINFO    \u001b[0m | \u001b[36msuper_helper\u001b[0m:\u001b[36msearch_index\u001b[0m:\u001b[36m116\u001b[0m - \u001b[1mStarting keyword search...\u001b[0m\n",
      "\u001b[32m2025-01-03 23:39:14.754\u001b[0m | \u001b[1mINFO    \u001b[0m | \u001b[36msuper_helper\u001b[0m:\u001b[36msearch_index\u001b[0m:\u001b[36m117\u001b[0m - \u001b[1mKeyword: 'paper'\u001b[0m\n",
      "\u001b[32m2025-01-03 23:39:14.786\u001b[0m | \u001b[1mINFO    \u001b[0m | \u001b[36msuper_helper\u001b[0m:\u001b[36msearch_index\u001b[0m:\u001b[36m128\u001b[0m - \u001b[1mSearch successful: Found 6 result(s).\u001b[0m\n",
      "\u001b[32m2025-01-03 23:39:14.789\u001b[0m | \u001b[1mINFO    \u001b[0m | \u001b[36msuper_helper\u001b[0m:\u001b[36msearch_index\u001b[0m:\u001b[36m130\u001b[0m - \u001b[1m1. Project Id: 06535@test, File CID: QmV1vYkuiwKGPA5Tyi4ECNFfWYocyTtQ3E5j7CSvPBX49Q, Metadata CID: QmbSaWyN5BVtvNxrifikvcS3ZAAvLV5DAHnNE5oxZ6Rxod, Title: deep learning in insurance: accuracy and model interpretability using tabnet\u001b[0m\n",
      "\u001b[32m2025-01-03 23:39:14.793\u001b[0m | \u001b[1mINFO    \u001b[0m | \u001b[36msuper_helper\u001b[0m:\u001b[36msearch_index\u001b[0m:\u001b[36m130\u001b[0m - \u001b[1m2. Project Id: 06535@test, File CID: QmV1vYkuiwKGPA5Tyi4ECNFfWYocyTtQ3E5j7CSvPBX49Q, Metadata CID: QmX8RE8fXTCPfqtPQAu7pysNUmv3BGoHf8ix4kmwVuVkS9, Title: deep learning in insurance: accuracy and model interpretability using tabnet\u001b[0m\n",
      "\u001b[32m2025-01-03 23:39:14.796\u001b[0m | \u001b[1mINFO    \u001b[0m | \u001b[36msuper_helper\u001b[0m:\u001b[36msearch_index\u001b[0m:\u001b[36m130\u001b[0m - \u001b[1m3. Project Id: 06535@test, File CID: QmUq29KRwpTdvScB5oYzEDobDHyb4N1f9eaZXm4VaMCgiW, Metadata CID: QmUDmBpFAf5Ns5VsNigNNWJmwLSS6b4Y2DRbvEdSaDFCuv, Title: covid19-mlsf: a multi-task learning-based stock market forecasting framework during the covid-19 pandemic\u001b[0m\n",
      "\u001b[32m2025-01-03 23:39:14.799\u001b[0m | \u001b[1mINFO    \u001b[0m | \u001b[36msuper_helper\u001b[0m:\u001b[36msearch_index\u001b[0m:\u001b[36m130\u001b[0m - \u001b[1m4. Project Id: 06535@test, File CID: QmUq29KRwpTdvScB5oYzEDobDHyb4N1f9eaZXm4VaMCgiW, Metadata CID: QmcEd1CvbCB98BjtV48ufLfJXH6nkRkfhySonJddo4kXub, Title: covid19-mlsf: a multi-task learning-based stock market forecasting framework during the covid-19 pandemic\u001b[0m\n",
      "\u001b[32m2025-01-03 23:39:14.802\u001b[0m | \u001b[1mINFO    \u001b[0m | \u001b[36msuper_helper\u001b[0m:\u001b[36msearch_index\u001b[0m:\u001b[36m130\u001b[0m - \u001b[1m5. Project Id: 06535@test, File CID: QmT7ximApXtExAedhzUHGHDwRismRzuKykpH4dgTvGrNZs, Metadata CID: QmabjZMBrZPw1KBhn1vHpRykzmA6y4U6k3D2sg5jajxai4, Title: diabetic retinopathy identification using parallel convolutional neural network based feature extractor and elm classifier\u001b[0m\n",
      "\u001b[32m2025-01-03 23:39:14.804\u001b[0m | \u001b[1mINFO    \u001b[0m | \u001b[36msuper_helper\u001b[0m:\u001b[36msearch_index\u001b[0m:\u001b[36m130\u001b[0m - \u001b[1m6. Project Id: 06535@test, File CID: QmT7ximApXtExAedhzUHGHDwRismRzuKykpH4dgTvGrNZs, Metadata CID: Qmbexy2Yn3XqN25jU1wHp4fbeB6ur2bijgc4SdJiVJNmzj, Title: diabetic retinopathy identification using parallel convolutional neural network based feature extractor and elm classifier\u001b[0m\n",
      "\u001b[32m2025-01-03 23:39:14.822\u001b[0m | \u001b[1mINFO    \u001b[0m | \u001b[36m__main__\u001b[0m:\u001b[36m<module>\u001b[0m:\u001b[36m20\u001b[0m - \u001b[1mProcessing Project ID: 06535@test\u001b[0m\n",
      "\u001b[32m2025-01-03 23:39:14.823\u001b[0m | \u001b[34m\u001b[1mDEBUG   \u001b[0m | \u001b[36m__main__\u001b[0m:\u001b[36m<module>\u001b[0m:\u001b[36m21\u001b[0m - \u001b[34m\u001b[1mFile CID: QmV1vYkuiwKGPA5Tyi4ECNFfWYocyTtQ3E5j7CSvPBX49Q\u001b[0m\n",
      "\u001b[32m2025-01-03 23:39:14.824\u001b[0m | \u001b[34m\u001b[1mDEBUG   \u001b[0m | \u001b[36m__main__\u001b[0m:\u001b[36m<module>\u001b[0m:\u001b[36m22\u001b[0m - \u001b[34m\u001b[1mMetadata CID: QmbSaWyN5BVtvNxrifikvcS3ZAAvLV5DAHnNE5oxZ6Rxod\u001b[0m\n"
     ]
    },
    {
     "name": "stderr",
     "output_type": "stream",
     "text": [
      "\u001b[32m2025-01-03 23:39:14.842\u001b[0m | \u001b[34m\u001b[1mDEBUG   \u001b[0m | \u001b[36m__main__\u001b[0m:\u001b[36m<module>\u001b[0m:\u001b[36m26\u001b[0m - \u001b[34m\u001b[1mFetched project details for 06535@test: { \"admin@test\" : { \"file_1\" : \"QmVk8gxENq6PThSGZTuk7RtbufR2XeN7LtXBj2LVTUoAdN, QmRxGqNkpdBVeq2GmfbK2ZbW1oZyX14VtiYRZnmSq6nnm7\", \"file_2\" : \"QmT7ximApXtExAedhzUHGHDwRismRzuKykpH4dgTvGrNZs, Qmbexy2Yn3XqN25jU1wHp4fbeB6ur2bijgc4SdJiVJNmzj\", \"file_3\" : \"QmZnh5Uuo7moZKMESFHpRjQFbbND5e3nArCzZg8uLARAgg, QmR8TDkLuMV2QF2v8RavtRh5F3c8WCNer5KoWK9LZK2cur\", \"file_4\" : \"QmUq29KRwpTdvScB5oYzEDobDHyb4N1f9eaZXm4VaMCgiW, QmcEd1CvbCB98BjtV48ufLfJXH6nkRkfhySonJddo4kXub\", \"file_5\" : \"QmV1vYkuiwKGPA5Tyi4ECNFfWYocyTtQ3E5j7CSvPBX49Q, QmX8RE8fXTCPfqtPQAu7pysNUmv3BGoHf8ix4kmwVuVkS9\", \"linked_user\" : \"crazy_nash@test\", \"project_metadata_cid\" : \"QmbmyecKUbwCDFPt6Uddx411bCvefLiRXPxHs5vnYz4XZm\" } }\u001b[0m\n",
      "\u001b[32m2025-01-03 23:39:14.843\u001b[0m | \u001b[34m\u001b[1mDEBUG   \u001b[0m | \u001b[36msuper_helper\u001b[0m:\u001b[36mfetch_project_details\u001b[0m:\u001b[36m223\u001b[0m - \u001b[34m\u001b[1mValidating and fetching details for CID: QmV1vYkuiwKGPA5Tyi4ECNFfWYocyTtQ3E5j7CSvPBX49Q\u001b[0m\n",
      "\u001b[32m2025-01-03 23:39:14.844\u001b[0m | \u001b[34m\u001b[1mDEBUG   \u001b[0m | \u001b[36msuper_helper\u001b[0m:\u001b[36mfetch_project_details\u001b[0m:\u001b[36m231\u001b[0m - \u001b[34m\u001b[1mFile CID QmV1vYkuiwKGPA5Tyi4ECNFfWYocyTtQ3E5j7CSvPBX49Q found under file_5.\u001b[0m\n",
      "\u001b[32m2025-01-03 23:39:14.845\u001b[0m | \u001b[1mINFO    \u001b[0m | \u001b[36m__main__\u001b[0m:\u001b[36m<module>\u001b[0m:\u001b[36m41\u001b[0m - \u001b[1mValid File CID for 06535@test.\u001b[0m\n",
      "\u001b[32m2025-01-03 23:39:14.847\u001b[0m | \u001b[34m\u001b[1mDEBUG   \u001b[0m | \u001b[36m__main__\u001b[0m:\u001b[36m<module>\u001b[0m:\u001b[36m42\u001b[0m - \u001b[34m\u001b[1mProject Metadata CID: QmbmyecKUbwCDFPt6Uddx411bCvefLiRXPxHs5vnYz4XZm\u001b[0m\n",
      "\u001b[32m2025-01-03 23:39:14.848\u001b[0m | \u001b[34m\u001b[1mDEBUG   \u001b[0m | \u001b[36m__main__\u001b[0m:\u001b[36m<module>\u001b[0m:\u001b[36m43\u001b[0m - \u001b[34m\u001b[1mLinked User: crazy_nash@test\u001b[0m\n",
      "\u001b[32m2025-01-03 23:39:14.849\u001b[0m | \u001b[34m\u001b[1mDEBUG   \u001b[0m | \u001b[36m__main__\u001b[0m:\u001b[36m<module>\u001b[0m:\u001b[36m47\u001b[0m - \u001b[34m\u001b[1mProcessing project metadata CID: QmbmyecKUbwCDFPt6Uddx411bCvefLiRXPxHs5vnYz4XZm\u001b[0m\n",
      "\u001b[32m2025-01-03 23:39:14.849\u001b[0m | \u001b[34m\u001b[1mDEBUG   \u001b[0m | \u001b[36m__main__\u001b[0m:\u001b[36m<module>\u001b[0m:\u001b[36m51\u001b[0m - \u001b[34m\u001b[1mProcessing linked user: crazy_nash@test\u001b[0m\n",
      "\u001b[32m2025-01-03 23:39:14.867\u001b[0m | \u001b[1mINFO    \u001b[0m | \u001b[36m__main__\u001b[0m:\u001b[36m<module>\u001b[0m:\u001b[36m64\u001b[0m - \u001b[1mUser JSON-LD CID: QmVQLbPmAqVYWPT1x9niJEC3w1YK5zxXYJPC8FraoasHuU\u001b[0m\n",
      "\u001b[32m2025-01-03 23:39:14.874\u001b[0m | \u001b[34m\u001b[1mDEBUG   \u001b[0m | \u001b[36m__main__\u001b[0m:\u001b[36m<module>\u001b[0m:\u001b[36m71\u001b[0m - \u001b[34m\u001b[1mDownloaded user project metadata: {'@type': 'foaf:Person', 'foaf:holdsAccount': {'schema:identifier': 'crazy_nash@test', 'schema:publicKey': 'e9a68ae4790e255c80ec8a3c0cd2e179ce815507c5df23f1fa03287a7d6252a9', 'schema:roleName': 'reviewer'}, 'foaf:mbox': 'crazy_nash@email.com', 'foaf:name': 'Crazy Nash', 'foaf:organization': {'@type': 'foaf:Organization', 'foaf:name': \"Institut Supérieure d'Electronique de Paris\"}, 'schema:identifier': {'@type': 'PropertyValue', 'propertyID': 'ORCID', 'value': '9331-2337-8591-X'}}\u001b[0m\n",
      "\u001b[32m2025-01-03 23:39:14.880\u001b[0m | \u001b[34m\u001b[1mDEBUG   \u001b[0m | \u001b[36m__main__\u001b[0m:\u001b[36m<module>\u001b[0m:\u001b[36m75\u001b[0m - \u001b[34m\u001b[1mDownloaded project metadata: {'@context': {'dc': 'http://purl.org/dc/terms/', 'schema': 'http://schema.org/'}, '@type': 'schema:ResearchProject', 'dc:abstract': 'This study explores the impact of quantum computing in supply chain management, focusing on biodiversity.', 'schema:endDate': '2026-07-23', 'schema:funding': {'@type': 'schema:Organization', 'schema:name': 'National Science Foundation'}, 'schema:keywords': ['quantum computing', 'supply chain management', 'biodiversity'], 'schema:location': {'@type': 'schema:Place', 'schema:name': 'Lagos, Nigeria'}, 'schema:name': 'Investigating the Role of quantum computing in supply chain management', 'schema:startDate': '2023-07-03'}\u001b[0m\n",
      "\u001b[32m2025-01-03 23:39:14.881\u001b[0m | \u001b[1mINFO    \u001b[0m | \u001b[36m__main__\u001b[0m:\u001b[36m<module>\u001b[0m:\u001b[36m20\u001b[0m - \u001b[1mProcessing Project ID: 06535@test\u001b[0m\n",
      "\u001b[32m2025-01-03 23:39:14.883\u001b[0m | \u001b[34m\u001b[1mDEBUG   \u001b[0m | \u001b[36m__main__\u001b[0m:\u001b[36m<module>\u001b[0m:\u001b[36m21\u001b[0m - \u001b[34m\u001b[1mFile CID: QmV1vYkuiwKGPA5Tyi4ECNFfWYocyTtQ3E5j7CSvPBX49Q\u001b[0m\n",
      "\u001b[32m2025-01-03 23:39:14.883\u001b[0m | \u001b[34m\u001b[1mDEBUG   \u001b[0m | \u001b[36m__main__\u001b[0m:\u001b[36m<module>\u001b[0m:\u001b[36m22\u001b[0m - \u001b[34m\u001b[1mMetadata CID: QmX8RE8fXTCPfqtPQAu7pysNUmv3BGoHf8ix4kmwVuVkS9\u001b[0m\n",
      "\u001b[32m2025-01-03 23:39:14.901\u001b[0m | \u001b[34m\u001b[1mDEBUG   \u001b[0m | \u001b[36m__main__\u001b[0m:\u001b[36m<module>\u001b[0m:\u001b[36m26\u001b[0m - \u001b[34m\u001b[1mFetched project details for 06535@test: { \"admin@test\" : { \"file_1\" : \"QmVk8gxENq6PThSGZTuk7RtbufR2XeN7LtXBj2LVTUoAdN, QmRxGqNkpdBVeq2GmfbK2ZbW1oZyX14VtiYRZnmSq6nnm7\", \"file_2\" : \"QmT7ximApXtExAedhzUHGHDwRismRzuKykpH4dgTvGrNZs, Qmbexy2Yn3XqN25jU1wHp4fbeB6ur2bijgc4SdJiVJNmzj\", \"file_3\" : \"QmZnh5Uuo7moZKMESFHpRjQFbbND5e3nArCzZg8uLARAgg, QmR8TDkLuMV2QF2v8RavtRh5F3c8WCNer5KoWK9LZK2cur\", \"file_4\" : \"QmUq29KRwpTdvScB5oYzEDobDHyb4N1f9eaZXm4VaMCgiW, QmcEd1CvbCB98BjtV48ufLfJXH6nkRkfhySonJddo4kXub\", \"file_5\" : \"QmV1vYkuiwKGPA5Tyi4ECNFfWYocyTtQ3E5j7CSvPBX49Q, QmX8RE8fXTCPfqtPQAu7pysNUmv3BGoHf8ix4kmwVuVkS9\", \"linked_user\" : \"crazy_nash@test\", \"project_metadata_cid\" : \"QmbmyecKUbwCDFPt6Uddx411bCvefLiRXPxHs5vnYz4XZm\" } }\u001b[0m\n",
      "\u001b[32m2025-01-03 23:39:14.903\u001b[0m | \u001b[34m\u001b[1mDEBUG   \u001b[0m | \u001b[36msuper_helper\u001b[0m:\u001b[36mfetch_project_details\u001b[0m:\u001b[36m223\u001b[0m - \u001b[34m\u001b[1mValidating and fetching details for CID: QmV1vYkuiwKGPA5Tyi4ECNFfWYocyTtQ3E5j7CSvPBX49Q\u001b[0m\n",
      "\u001b[32m2025-01-03 23:39:14.904\u001b[0m | \u001b[34m\u001b[1mDEBUG   \u001b[0m | \u001b[36msuper_helper\u001b[0m:\u001b[36mfetch_project_details\u001b[0m:\u001b[36m231\u001b[0m - \u001b[34m\u001b[1mFile CID QmV1vYkuiwKGPA5Tyi4ECNFfWYocyTtQ3E5j7CSvPBX49Q found under file_5.\u001b[0m\n",
      "\u001b[32m2025-01-03 23:39:14.905\u001b[0m | \u001b[1mINFO    \u001b[0m | \u001b[36m__main__\u001b[0m:\u001b[36m<module>\u001b[0m:\u001b[36m41\u001b[0m - \u001b[1mValid File CID for 06535@test.\u001b[0m\n",
      "\u001b[32m2025-01-03 23:39:14.907\u001b[0m | \u001b[34m\u001b[1mDEBUG   \u001b[0m | \u001b[36m__main__\u001b[0m:\u001b[36m<module>\u001b[0m:\u001b[36m42\u001b[0m - \u001b[34m\u001b[1mProject Metadata CID: QmbmyecKUbwCDFPt6Uddx411bCvefLiRXPxHs5vnYz4XZm\u001b[0m\n",
      "\u001b[32m2025-01-03 23:39:14.907\u001b[0m | \u001b[34m\u001b[1mDEBUG   \u001b[0m | \u001b[36m__main__\u001b[0m:\u001b[36m<module>\u001b[0m:\u001b[36m43\u001b[0m - \u001b[34m\u001b[1mLinked User: crazy_nash@test\u001b[0m\n",
      "\u001b[32m2025-01-03 23:39:14.908\u001b[0m | \u001b[34m\u001b[1mDEBUG   \u001b[0m | \u001b[36m__main__\u001b[0m:\u001b[36m<module>\u001b[0m:\u001b[36m47\u001b[0m - \u001b[34m\u001b[1mProcessing project metadata CID: QmbmyecKUbwCDFPt6Uddx411bCvefLiRXPxHs5vnYz4XZm\u001b[0m\n",
      "\u001b[32m2025-01-03 23:39:14.909\u001b[0m | \u001b[34m\u001b[1mDEBUG   \u001b[0m | \u001b[36m__main__\u001b[0m:\u001b[36m<module>\u001b[0m:\u001b[36m51\u001b[0m - \u001b[34m\u001b[1mProcessing linked user: crazy_nash@test\u001b[0m\n",
      "\u001b[32m2025-01-03 23:39:14.927\u001b[0m | \u001b[1mINFO    \u001b[0m | \u001b[36m__main__\u001b[0m:\u001b[36m<module>\u001b[0m:\u001b[36m64\u001b[0m - \u001b[1mUser JSON-LD CID: QmVQLbPmAqVYWPT1x9niJEC3w1YK5zxXYJPC8FraoasHuU\u001b[0m\n",
      "\u001b[32m2025-01-03 23:39:14.934\u001b[0m | \u001b[34m\u001b[1mDEBUG   \u001b[0m | \u001b[36m__main__\u001b[0m:\u001b[36m<module>\u001b[0m:\u001b[36m71\u001b[0m - \u001b[34m\u001b[1mDownloaded user project metadata: {'@type': 'foaf:Person', 'foaf:holdsAccount': {'schema:identifier': 'crazy_nash@test', 'schema:publicKey': 'e9a68ae4790e255c80ec8a3c0cd2e179ce815507c5df23f1fa03287a7d6252a9', 'schema:roleName': 'reviewer'}, 'foaf:mbox': 'crazy_nash@email.com', 'foaf:name': 'Crazy Nash', 'foaf:organization': {'@type': 'foaf:Organization', 'foaf:name': \"Institut Supérieure d'Electronique de Paris\"}, 'schema:identifier': {'@type': 'PropertyValue', 'propertyID': 'ORCID', 'value': '9331-2337-8591-X'}}\u001b[0m\n",
      "\u001b[32m2025-01-03 23:39:14.940\u001b[0m | \u001b[34m\u001b[1mDEBUG   \u001b[0m | \u001b[36m__main__\u001b[0m:\u001b[36m<module>\u001b[0m:\u001b[36m75\u001b[0m - \u001b[34m\u001b[1mDownloaded project metadata: {'@context': {'dc': 'http://purl.org/dc/terms/', 'schema': 'http://schema.org/'}, '@type': 'schema:ResearchProject', 'dc:abstract': 'This study explores the impact of quantum computing in supply chain management, focusing on biodiversity.', 'schema:endDate': '2026-07-23', 'schema:funding': {'@type': 'schema:Organization', 'schema:name': 'National Science Foundation'}, 'schema:keywords': ['quantum computing', 'supply chain management', 'biodiversity'], 'schema:location': {'@type': 'schema:Place', 'schema:name': 'Lagos, Nigeria'}, 'schema:name': 'Investigating the Role of quantum computing in supply chain management', 'schema:startDate': '2023-07-03'}\u001b[0m\n",
      "\u001b[32m2025-01-03 23:39:14.942\u001b[0m | \u001b[1mINFO    \u001b[0m | \u001b[36m__main__\u001b[0m:\u001b[36m<module>\u001b[0m:\u001b[36m20\u001b[0m - \u001b[1mProcessing Project ID: 06535@test\u001b[0m\n",
      "\u001b[32m2025-01-03 23:39:14.943\u001b[0m | \u001b[34m\u001b[1mDEBUG   \u001b[0m | \u001b[36m__main__\u001b[0m:\u001b[36m<module>\u001b[0m:\u001b[36m21\u001b[0m - \u001b[34m\u001b[1mFile CID: QmUq29KRwpTdvScB5oYzEDobDHyb4N1f9eaZXm4VaMCgiW\u001b[0m\n",
      "\u001b[32m2025-01-03 23:39:14.944\u001b[0m | \u001b[34m\u001b[1mDEBUG   \u001b[0m | \u001b[36m__main__\u001b[0m:\u001b[36m<module>\u001b[0m:\u001b[36m22\u001b[0m - \u001b[34m\u001b[1mMetadata CID: QmUDmBpFAf5Ns5VsNigNNWJmwLSS6b4Y2DRbvEdSaDFCuv\u001b[0m\n",
      "\u001b[32m2025-01-03 23:39:14.962\u001b[0m | \u001b[34m\u001b[1mDEBUG   \u001b[0m | \u001b[36m__main__\u001b[0m:\u001b[36m<module>\u001b[0m:\u001b[36m26\u001b[0m - \u001b[34m\u001b[1mFetched project details for 06535@test: { \"admin@test\" : { \"file_1\" : \"QmVk8gxENq6PThSGZTuk7RtbufR2XeN7LtXBj2LVTUoAdN, QmRxGqNkpdBVeq2GmfbK2ZbW1oZyX14VtiYRZnmSq6nnm7\", \"file_2\" : \"QmT7ximApXtExAedhzUHGHDwRismRzuKykpH4dgTvGrNZs, Qmbexy2Yn3XqN25jU1wHp4fbeB6ur2bijgc4SdJiVJNmzj\", \"file_3\" : \"QmZnh5Uuo7moZKMESFHpRjQFbbND5e3nArCzZg8uLARAgg, QmR8TDkLuMV2QF2v8RavtRh5F3c8WCNer5KoWK9LZK2cur\", \"file_4\" : \"QmUq29KRwpTdvScB5oYzEDobDHyb4N1f9eaZXm4VaMCgiW, QmcEd1CvbCB98BjtV48ufLfJXH6nkRkfhySonJddo4kXub\", \"file_5\" : \"QmV1vYkuiwKGPA5Tyi4ECNFfWYocyTtQ3E5j7CSvPBX49Q, QmX8RE8fXTCPfqtPQAu7pysNUmv3BGoHf8ix4kmwVuVkS9\", \"linked_user\" : \"crazy_nash@test\", \"project_metadata_cid\" : \"QmbmyecKUbwCDFPt6Uddx411bCvefLiRXPxHs5vnYz4XZm\" } }\u001b[0m\n",
      "\u001b[32m2025-01-03 23:39:14.963\u001b[0m | \u001b[34m\u001b[1mDEBUG   \u001b[0m | \u001b[36msuper_helper\u001b[0m:\u001b[36mfetch_project_details\u001b[0m:\u001b[36m223\u001b[0m - \u001b[34m\u001b[1mValidating and fetching details for CID: QmUq29KRwpTdvScB5oYzEDobDHyb4N1f9eaZXm4VaMCgiW\u001b[0m\n",
      "\u001b[32m2025-01-03 23:39:14.964\u001b[0m | \u001b[34m\u001b[1mDEBUG   \u001b[0m | \u001b[36msuper_helper\u001b[0m:\u001b[36mfetch_project_details\u001b[0m:\u001b[36m231\u001b[0m - \u001b[34m\u001b[1mFile CID QmUq29KRwpTdvScB5oYzEDobDHyb4N1f9eaZXm4VaMCgiW found under file_4.\u001b[0m\n",
      "\u001b[32m2025-01-03 23:39:14.965\u001b[0m | \u001b[1mINFO    \u001b[0m | \u001b[36m__main__\u001b[0m:\u001b[36m<module>\u001b[0m:\u001b[36m41\u001b[0m - \u001b[1mValid File CID for 06535@test.\u001b[0m\n",
      "\u001b[32m2025-01-03 23:39:14.967\u001b[0m | \u001b[34m\u001b[1mDEBUG   \u001b[0m | \u001b[36m__main__\u001b[0m:\u001b[36m<module>\u001b[0m:\u001b[36m42\u001b[0m - \u001b[34m\u001b[1mProject Metadata CID: QmbmyecKUbwCDFPt6Uddx411bCvefLiRXPxHs5vnYz4XZm\u001b[0m\n",
      "\u001b[32m2025-01-03 23:39:14.967\u001b[0m | \u001b[34m\u001b[1mDEBUG   \u001b[0m | \u001b[36m__main__\u001b[0m:\u001b[36m<module>\u001b[0m:\u001b[36m43\u001b[0m - \u001b[34m\u001b[1mLinked User: crazy_nash@test\u001b[0m\n",
      "\u001b[32m2025-01-03 23:39:14.968\u001b[0m | \u001b[34m\u001b[1mDEBUG   \u001b[0m | \u001b[36m__main__\u001b[0m:\u001b[36m<module>\u001b[0m:\u001b[36m47\u001b[0m - \u001b[34m\u001b[1mProcessing project metadata CID: QmbmyecKUbwCDFPt6Uddx411bCvefLiRXPxHs5vnYz4XZm\u001b[0m\n",
      "\u001b[32m2025-01-03 23:39:14.969\u001b[0m | \u001b[34m\u001b[1mDEBUG   \u001b[0m | \u001b[36m__main__\u001b[0m:\u001b[36m<module>\u001b[0m:\u001b[36m51\u001b[0m - \u001b[34m\u001b[1mProcessing linked user: crazy_nash@test\u001b[0m\n",
      "\u001b[32m2025-01-03 23:39:14.986\u001b[0m | \u001b[1mINFO    \u001b[0m | \u001b[36m__main__\u001b[0m:\u001b[36m<module>\u001b[0m:\u001b[36m64\u001b[0m - \u001b[1mUser JSON-LD CID: QmVQLbPmAqVYWPT1x9niJEC3w1YK5zxXYJPC8FraoasHuU\u001b[0m\n",
      "\u001b[32m2025-01-03 23:39:14.994\u001b[0m | \u001b[34m\u001b[1mDEBUG   \u001b[0m | \u001b[36m__main__\u001b[0m:\u001b[36m<module>\u001b[0m:\u001b[36m71\u001b[0m - \u001b[34m\u001b[1mDownloaded user project metadata: {'@type': 'foaf:Person', 'foaf:holdsAccount': {'schema:identifier': 'crazy_nash@test', 'schema:publicKey': 'e9a68ae4790e255c80ec8a3c0cd2e179ce815507c5df23f1fa03287a7d6252a9', 'schema:roleName': 'reviewer'}, 'foaf:mbox': 'crazy_nash@email.com', 'foaf:name': 'Crazy Nash', 'foaf:organization': {'@type': 'foaf:Organization', 'foaf:name': \"Institut Supérieure d'Electronique de Paris\"}, 'schema:identifier': {'@type': 'PropertyValue', 'propertyID': 'ORCID', 'value': '9331-2337-8591-X'}}\u001b[0m\n",
      "\u001b[32m2025-01-03 23:39:15.001\u001b[0m | \u001b[34m\u001b[1mDEBUG   \u001b[0m | \u001b[36m__main__\u001b[0m:\u001b[36m<module>\u001b[0m:\u001b[36m75\u001b[0m - \u001b[34m\u001b[1mDownloaded project metadata: {'@context': {'dc': 'http://purl.org/dc/terms/', 'schema': 'http://schema.org/'}, '@type': 'schema:ResearchProject', 'dc:abstract': 'This study explores the impact of quantum computing in supply chain management, focusing on biodiversity.', 'schema:endDate': '2026-07-23', 'schema:funding': {'@type': 'schema:Organization', 'schema:name': 'National Science Foundation'}, 'schema:keywords': ['quantum computing', 'supply chain management', 'biodiversity'], 'schema:location': {'@type': 'schema:Place', 'schema:name': 'Lagos, Nigeria'}, 'schema:name': 'Investigating the Role of quantum computing in supply chain management', 'schema:startDate': '2023-07-03'}\u001b[0m\n",
      "\u001b[32m2025-01-03 23:39:15.002\u001b[0m | \u001b[1mINFO    \u001b[0m | \u001b[36m__main__\u001b[0m:\u001b[36m<module>\u001b[0m:\u001b[36m20\u001b[0m - \u001b[1mProcessing Project ID: 06535@test\u001b[0m\n",
      "\u001b[32m2025-01-03 23:39:15.003\u001b[0m | \u001b[34m\u001b[1mDEBUG   \u001b[0m | \u001b[36m__main__\u001b[0m:\u001b[36m<module>\u001b[0m:\u001b[36m21\u001b[0m - \u001b[34m\u001b[1mFile CID: QmUq29KRwpTdvScB5oYzEDobDHyb4N1f9eaZXm4VaMCgiW\u001b[0m\n",
      "\u001b[32m2025-01-03 23:39:15.004\u001b[0m | \u001b[34m\u001b[1mDEBUG   \u001b[0m | \u001b[36m__main__\u001b[0m:\u001b[36m<module>\u001b[0m:\u001b[36m22\u001b[0m - \u001b[34m\u001b[1mMetadata CID: QmcEd1CvbCB98BjtV48ufLfJXH6nkRkfhySonJddo4kXub\u001b[0m\n",
      "\u001b[32m2025-01-03 23:39:15.022\u001b[0m | \u001b[34m\u001b[1mDEBUG   \u001b[0m | \u001b[36m__main__\u001b[0m:\u001b[36m<module>\u001b[0m:\u001b[36m26\u001b[0m - \u001b[34m\u001b[1mFetched project details for 06535@test: { \"admin@test\" : { \"file_1\" : \"QmVk8gxENq6PThSGZTuk7RtbufR2XeN7LtXBj2LVTUoAdN, QmRxGqNkpdBVeq2GmfbK2ZbW1oZyX14VtiYRZnmSq6nnm7\", \"file_2\" : \"QmT7ximApXtExAedhzUHGHDwRismRzuKykpH4dgTvGrNZs, Qmbexy2Yn3XqN25jU1wHp4fbeB6ur2bijgc4SdJiVJNmzj\", \"file_3\" : \"QmZnh5Uuo7moZKMESFHpRjQFbbND5e3nArCzZg8uLARAgg, QmR8TDkLuMV2QF2v8RavtRh5F3c8WCNer5KoWK9LZK2cur\", \"file_4\" : \"QmUq29KRwpTdvScB5oYzEDobDHyb4N1f9eaZXm4VaMCgiW, QmcEd1CvbCB98BjtV48ufLfJXH6nkRkfhySonJddo4kXub\", \"file_5\" : \"QmV1vYkuiwKGPA5Tyi4ECNFfWYocyTtQ3E5j7CSvPBX49Q, QmX8RE8fXTCPfqtPQAu7pysNUmv3BGoHf8ix4kmwVuVkS9\", \"linked_user\" : \"crazy_nash@test\", \"project_metadata_cid\" : \"QmbmyecKUbwCDFPt6Uddx411bCvefLiRXPxHs5vnYz4XZm\" } }\u001b[0m\n",
      "\u001b[32m2025-01-03 23:39:15.023\u001b[0m | \u001b[34m\u001b[1mDEBUG   \u001b[0m | \u001b[36msuper_helper\u001b[0m:\u001b[36mfetch_project_details\u001b[0m:\u001b[36m223\u001b[0m - \u001b[34m\u001b[1mValidating and fetching details for CID: QmUq29KRwpTdvScB5oYzEDobDHyb4N1f9eaZXm4VaMCgiW\u001b[0m\n",
      "\u001b[32m2025-01-03 23:39:15.024\u001b[0m | \u001b[34m\u001b[1mDEBUG   \u001b[0m | \u001b[36msuper_helper\u001b[0m:\u001b[36mfetch_project_details\u001b[0m:\u001b[36m231\u001b[0m - \u001b[34m\u001b[1mFile CID QmUq29KRwpTdvScB5oYzEDobDHyb4N1f9eaZXm4VaMCgiW found under file_4.\u001b[0m\n",
      "\u001b[32m2025-01-03 23:39:15.025\u001b[0m | \u001b[1mINFO    \u001b[0m | \u001b[36m__main__\u001b[0m:\u001b[36m<module>\u001b[0m:\u001b[36m41\u001b[0m - \u001b[1mValid File CID for 06535@test.\u001b[0m\n",
      "\u001b[32m2025-01-03 23:39:15.027\u001b[0m | \u001b[34m\u001b[1mDEBUG   \u001b[0m | \u001b[36m__main__\u001b[0m:\u001b[36m<module>\u001b[0m:\u001b[36m42\u001b[0m - \u001b[34m\u001b[1mProject Metadata CID: QmbmyecKUbwCDFPt6Uddx411bCvefLiRXPxHs5vnYz4XZm\u001b[0m\n",
      "\u001b[32m2025-01-03 23:39:15.028\u001b[0m | \u001b[34m\u001b[1mDEBUG   \u001b[0m | \u001b[36m__main__\u001b[0m:\u001b[36m<module>\u001b[0m:\u001b[36m43\u001b[0m - \u001b[34m\u001b[1mLinked User: crazy_nash@test\u001b[0m\n",
      "\u001b[32m2025-01-03 23:39:15.029\u001b[0m | \u001b[34m\u001b[1mDEBUG   \u001b[0m | \u001b[36m__main__\u001b[0m:\u001b[36m<module>\u001b[0m:\u001b[36m47\u001b[0m - \u001b[34m\u001b[1mProcessing project metadata CID: QmbmyecKUbwCDFPt6Uddx411bCvefLiRXPxHs5vnYz4XZm\u001b[0m\n",
      "\u001b[32m2025-01-03 23:39:15.031\u001b[0m | \u001b[34m\u001b[1mDEBUG   \u001b[0m | \u001b[36m__main__\u001b[0m:\u001b[36m<module>\u001b[0m:\u001b[36m51\u001b[0m - \u001b[34m\u001b[1mProcessing linked user: crazy_nash@test\u001b[0m\n",
      "\u001b[32m2025-01-03 23:39:15.048\u001b[0m | \u001b[1mINFO    \u001b[0m | \u001b[36m__main__\u001b[0m:\u001b[36m<module>\u001b[0m:\u001b[36m64\u001b[0m - \u001b[1mUser JSON-LD CID: QmVQLbPmAqVYWPT1x9niJEC3w1YK5zxXYJPC8FraoasHuU\u001b[0m\n",
      "\u001b[32m2025-01-03 23:39:15.054\u001b[0m | \u001b[34m\u001b[1mDEBUG   \u001b[0m | \u001b[36m__main__\u001b[0m:\u001b[36m<module>\u001b[0m:\u001b[36m71\u001b[0m - \u001b[34m\u001b[1mDownloaded user project metadata: {'@type': 'foaf:Person', 'foaf:holdsAccount': {'schema:identifier': 'crazy_nash@test', 'schema:publicKey': 'e9a68ae4790e255c80ec8a3c0cd2e179ce815507c5df23f1fa03287a7d6252a9', 'schema:roleName': 'reviewer'}, 'foaf:mbox': 'crazy_nash@email.com', 'foaf:name': 'Crazy Nash', 'foaf:organization': {'@type': 'foaf:Organization', 'foaf:name': \"Institut Supérieure d'Electronique de Paris\"}, 'schema:identifier': {'@type': 'PropertyValue', 'propertyID': 'ORCID', 'value': '9331-2337-8591-X'}}\u001b[0m\n",
      "\u001b[32m2025-01-03 23:39:15.060\u001b[0m | \u001b[34m\u001b[1mDEBUG   \u001b[0m | \u001b[36m__main__\u001b[0m:\u001b[36m<module>\u001b[0m:\u001b[36m75\u001b[0m - \u001b[34m\u001b[1mDownloaded project metadata: {'@context': {'dc': 'http://purl.org/dc/terms/', 'schema': 'http://schema.org/'}, '@type': 'schema:ResearchProject', 'dc:abstract': 'This study explores the impact of quantum computing in supply chain management, focusing on biodiversity.', 'schema:endDate': '2026-07-23', 'schema:funding': {'@type': 'schema:Organization', 'schema:name': 'National Science Foundation'}, 'schema:keywords': ['quantum computing', 'supply chain management', 'biodiversity'], 'schema:location': {'@type': 'schema:Place', 'schema:name': 'Lagos, Nigeria'}, 'schema:name': 'Investigating the Role of quantum computing in supply chain management', 'schema:startDate': '2023-07-03'}\u001b[0m\n",
      "\u001b[32m2025-01-03 23:39:15.061\u001b[0m | \u001b[1mINFO    \u001b[0m | \u001b[36m__main__\u001b[0m:\u001b[36m<module>\u001b[0m:\u001b[36m20\u001b[0m - \u001b[1mProcessing Project ID: 06535@test\u001b[0m\n",
      "\u001b[32m2025-01-03 23:39:15.063\u001b[0m | \u001b[34m\u001b[1mDEBUG   \u001b[0m | \u001b[36m__main__\u001b[0m:\u001b[36m<module>\u001b[0m:\u001b[36m21\u001b[0m - \u001b[34m\u001b[1mFile CID: QmT7ximApXtExAedhzUHGHDwRismRzuKykpH4dgTvGrNZs\u001b[0m\n",
      "\u001b[32m2025-01-03 23:39:15.064\u001b[0m | \u001b[34m\u001b[1mDEBUG   \u001b[0m | \u001b[36m__main__\u001b[0m:\u001b[36m<module>\u001b[0m:\u001b[36m22\u001b[0m - \u001b[34m\u001b[1mMetadata CID: QmabjZMBrZPw1KBhn1vHpRykzmA6y4U6k3D2sg5jajxai4\u001b[0m\n",
      "\u001b[32m2025-01-03 23:39:15.081\u001b[0m | \u001b[34m\u001b[1mDEBUG   \u001b[0m | \u001b[36m__main__\u001b[0m:\u001b[36m<module>\u001b[0m:\u001b[36m26\u001b[0m - \u001b[34m\u001b[1mFetched project details for 06535@test: { \"admin@test\" : { \"file_1\" : \"QmVk8gxENq6PThSGZTuk7RtbufR2XeN7LtXBj2LVTUoAdN, QmRxGqNkpdBVeq2GmfbK2ZbW1oZyX14VtiYRZnmSq6nnm7\", \"file_2\" : \"QmT7ximApXtExAedhzUHGHDwRismRzuKykpH4dgTvGrNZs, Qmbexy2Yn3XqN25jU1wHp4fbeB6ur2bijgc4SdJiVJNmzj\", \"file_3\" : \"QmZnh5Uuo7moZKMESFHpRjQFbbND5e3nArCzZg8uLARAgg, QmR8TDkLuMV2QF2v8RavtRh5F3c8WCNer5KoWK9LZK2cur\", \"file_4\" : \"QmUq29KRwpTdvScB5oYzEDobDHyb4N1f9eaZXm4VaMCgiW, QmcEd1CvbCB98BjtV48ufLfJXH6nkRkfhySonJddo4kXub\", \"file_5\" : \"QmV1vYkuiwKGPA5Tyi4ECNFfWYocyTtQ3E5j7CSvPBX49Q, QmX8RE8fXTCPfqtPQAu7pysNUmv3BGoHf8ix4kmwVuVkS9\", \"linked_user\" : \"crazy_nash@test\", \"project_metadata_cid\" : \"QmbmyecKUbwCDFPt6Uddx411bCvefLiRXPxHs5vnYz4XZm\" } }\u001b[0m\n",
      "\u001b[32m2025-01-03 23:39:15.083\u001b[0m | \u001b[34m\u001b[1mDEBUG   \u001b[0m | \u001b[36msuper_helper\u001b[0m:\u001b[36mfetch_project_details\u001b[0m:\u001b[36m223\u001b[0m - \u001b[34m\u001b[1mValidating and fetching details for CID: QmT7ximApXtExAedhzUHGHDwRismRzuKykpH4dgTvGrNZs\u001b[0m\n",
      "\u001b[32m2025-01-03 23:39:15.084\u001b[0m | \u001b[34m\u001b[1mDEBUG   \u001b[0m | \u001b[36msuper_helper\u001b[0m:\u001b[36mfetch_project_details\u001b[0m:\u001b[36m231\u001b[0m - \u001b[34m\u001b[1mFile CID QmT7ximApXtExAedhzUHGHDwRismRzuKykpH4dgTvGrNZs found under file_2.\u001b[0m\n",
      "\u001b[32m2025-01-03 23:39:15.085\u001b[0m | \u001b[1mINFO    \u001b[0m | \u001b[36m__main__\u001b[0m:\u001b[36m<module>\u001b[0m:\u001b[36m41\u001b[0m - \u001b[1mValid File CID for 06535@test.\u001b[0m\n",
      "\u001b[32m2025-01-03 23:39:15.088\u001b[0m | \u001b[34m\u001b[1mDEBUG   \u001b[0m | \u001b[36m__main__\u001b[0m:\u001b[36m<module>\u001b[0m:\u001b[36m42\u001b[0m - \u001b[34m\u001b[1mProject Metadata CID: QmbmyecKUbwCDFPt6Uddx411bCvefLiRXPxHs5vnYz4XZm\u001b[0m\n",
      "\u001b[32m2025-01-03 23:39:15.089\u001b[0m | \u001b[34m\u001b[1mDEBUG   \u001b[0m | \u001b[36m__main__\u001b[0m:\u001b[36m<module>\u001b[0m:\u001b[36m43\u001b[0m - \u001b[34m\u001b[1mLinked User: crazy_nash@test\u001b[0m\n",
      "\u001b[32m2025-01-03 23:39:15.090\u001b[0m | \u001b[34m\u001b[1mDEBUG   \u001b[0m | \u001b[36m__main__\u001b[0m:\u001b[36m<module>\u001b[0m:\u001b[36m47\u001b[0m - \u001b[34m\u001b[1mProcessing project metadata CID: QmbmyecKUbwCDFPt6Uddx411bCvefLiRXPxHs5vnYz4XZm\u001b[0m\n",
      "\u001b[32m2025-01-03 23:39:15.090\u001b[0m | \u001b[34m\u001b[1mDEBUG   \u001b[0m | \u001b[36m__main__\u001b[0m:\u001b[36m<module>\u001b[0m:\u001b[36m51\u001b[0m - \u001b[34m\u001b[1mProcessing linked user: crazy_nash@test\u001b[0m\n",
      "\u001b[32m2025-01-03 23:39:15.108\u001b[0m | \u001b[1mINFO    \u001b[0m | \u001b[36m__main__\u001b[0m:\u001b[36m<module>\u001b[0m:\u001b[36m64\u001b[0m - \u001b[1mUser JSON-LD CID: QmVQLbPmAqVYWPT1x9niJEC3w1YK5zxXYJPC8FraoasHuU\u001b[0m\n",
      "\u001b[32m2025-01-03 23:39:15.115\u001b[0m | \u001b[34m\u001b[1mDEBUG   \u001b[0m | \u001b[36m__main__\u001b[0m:\u001b[36m<module>\u001b[0m:\u001b[36m71\u001b[0m - \u001b[34m\u001b[1mDownloaded user project metadata: {'@type': 'foaf:Person', 'foaf:holdsAccount': {'schema:identifier': 'crazy_nash@test', 'schema:publicKey': 'e9a68ae4790e255c80ec8a3c0cd2e179ce815507c5df23f1fa03287a7d6252a9', 'schema:roleName': 'reviewer'}, 'foaf:mbox': 'crazy_nash@email.com', 'foaf:name': 'Crazy Nash', 'foaf:organization': {'@type': 'foaf:Organization', 'foaf:name': \"Institut Supérieure d'Electronique de Paris\"}, 'schema:identifier': {'@type': 'PropertyValue', 'propertyID': 'ORCID', 'value': '9331-2337-8591-X'}}\u001b[0m\n",
      "\u001b[32m2025-01-03 23:39:15.121\u001b[0m | \u001b[34m\u001b[1mDEBUG   \u001b[0m | \u001b[36m__main__\u001b[0m:\u001b[36m<module>\u001b[0m:\u001b[36m75\u001b[0m - \u001b[34m\u001b[1mDownloaded project metadata: {'@context': {'dc': 'http://purl.org/dc/terms/', 'schema': 'http://schema.org/'}, '@type': 'schema:ResearchProject', 'dc:abstract': 'This study explores the impact of quantum computing in supply chain management, focusing on biodiversity.', 'schema:endDate': '2026-07-23', 'schema:funding': {'@type': 'schema:Organization', 'schema:name': 'National Science Foundation'}, 'schema:keywords': ['quantum computing', 'supply chain management', 'biodiversity'], 'schema:location': {'@type': 'schema:Place', 'schema:name': 'Lagos, Nigeria'}, 'schema:name': 'Investigating the Role of quantum computing in supply chain management', 'schema:startDate': '2023-07-03'}\u001b[0m\n",
      "\u001b[32m2025-01-03 23:39:15.123\u001b[0m | \u001b[1mINFO    \u001b[0m | \u001b[36m__main__\u001b[0m:\u001b[36m<module>\u001b[0m:\u001b[36m20\u001b[0m - \u001b[1mProcessing Project ID: 06535@test\u001b[0m\n",
      "\u001b[32m2025-01-03 23:39:15.124\u001b[0m | \u001b[34m\u001b[1mDEBUG   \u001b[0m | \u001b[36m__main__\u001b[0m:\u001b[36m<module>\u001b[0m:\u001b[36m21\u001b[0m - \u001b[34m\u001b[1mFile CID: QmT7ximApXtExAedhzUHGHDwRismRzuKykpH4dgTvGrNZs\u001b[0m\n",
      "\u001b[32m2025-01-03 23:39:15.125\u001b[0m | \u001b[34m\u001b[1mDEBUG   \u001b[0m | \u001b[36m__main__\u001b[0m:\u001b[36m<module>\u001b[0m:\u001b[36m22\u001b[0m - \u001b[34m\u001b[1mMetadata CID: Qmbexy2Yn3XqN25jU1wHp4fbeB6ur2bijgc4SdJiVJNmzj\u001b[0m\n",
      "\u001b[32m2025-01-03 23:39:15.143\u001b[0m | \u001b[34m\u001b[1mDEBUG   \u001b[0m | \u001b[36m__main__\u001b[0m:\u001b[36m<module>\u001b[0m:\u001b[36m26\u001b[0m - \u001b[34m\u001b[1mFetched project details for 06535@test: { \"admin@test\" : { \"file_1\" : \"QmVk8gxENq6PThSGZTuk7RtbufR2XeN7LtXBj2LVTUoAdN, QmRxGqNkpdBVeq2GmfbK2ZbW1oZyX14VtiYRZnmSq6nnm7\", \"file_2\" : \"QmT7ximApXtExAedhzUHGHDwRismRzuKykpH4dgTvGrNZs, Qmbexy2Yn3XqN25jU1wHp4fbeB6ur2bijgc4SdJiVJNmzj\", \"file_3\" : \"QmZnh5Uuo7moZKMESFHpRjQFbbND5e3nArCzZg8uLARAgg, QmR8TDkLuMV2QF2v8RavtRh5F3c8WCNer5KoWK9LZK2cur\", \"file_4\" : \"QmUq29KRwpTdvScB5oYzEDobDHyb4N1f9eaZXm4VaMCgiW, QmcEd1CvbCB98BjtV48ufLfJXH6nkRkfhySonJddo4kXub\", \"file_5\" : \"QmV1vYkuiwKGPA5Tyi4ECNFfWYocyTtQ3E5j7CSvPBX49Q, QmX8RE8fXTCPfqtPQAu7pysNUmv3BGoHf8ix4kmwVuVkS9\", \"linked_user\" : \"crazy_nash@test\", \"project_metadata_cid\" : \"QmbmyecKUbwCDFPt6Uddx411bCvefLiRXPxHs5vnYz4XZm\" } }\u001b[0m\n",
      "\u001b[32m2025-01-03 23:39:15.145\u001b[0m | \u001b[34m\u001b[1mDEBUG   \u001b[0m | \u001b[36msuper_helper\u001b[0m:\u001b[36mfetch_project_details\u001b[0m:\u001b[36m223\u001b[0m - \u001b[34m\u001b[1mValidating and fetching details for CID: QmT7ximApXtExAedhzUHGHDwRismRzuKykpH4dgTvGrNZs\u001b[0m\n",
      "\u001b[32m2025-01-03 23:39:15.146\u001b[0m | \u001b[34m\u001b[1mDEBUG   \u001b[0m | \u001b[36msuper_helper\u001b[0m:\u001b[36mfetch_project_details\u001b[0m:\u001b[36m231\u001b[0m - \u001b[34m\u001b[1mFile CID QmT7ximApXtExAedhzUHGHDwRismRzuKykpH4dgTvGrNZs found under file_2.\u001b[0m\n",
      "\u001b[32m2025-01-03 23:39:15.147\u001b[0m | \u001b[1mINFO    \u001b[0m | \u001b[36m__main__\u001b[0m:\u001b[36m<module>\u001b[0m:\u001b[36m41\u001b[0m - \u001b[1mValid File CID for 06535@test.\u001b[0m\n",
      "\u001b[32m2025-01-03 23:39:15.148\u001b[0m | \u001b[34m\u001b[1mDEBUG   \u001b[0m | \u001b[36m__main__\u001b[0m:\u001b[36m<module>\u001b[0m:\u001b[36m42\u001b[0m - \u001b[34m\u001b[1mProject Metadata CID: QmbmyecKUbwCDFPt6Uddx411bCvefLiRXPxHs5vnYz4XZm\u001b[0m\n",
      "\u001b[32m2025-01-03 23:39:15.149\u001b[0m | \u001b[34m\u001b[1mDEBUG   \u001b[0m | \u001b[36m__main__\u001b[0m:\u001b[36m<module>\u001b[0m:\u001b[36m43\u001b[0m - \u001b[34m\u001b[1mLinked User: crazy_nash@test\u001b[0m\n",
      "\u001b[32m2025-01-03 23:39:15.150\u001b[0m | \u001b[34m\u001b[1mDEBUG   \u001b[0m | \u001b[36m__main__\u001b[0m:\u001b[36m<module>\u001b[0m:\u001b[36m47\u001b[0m - \u001b[34m\u001b[1mProcessing project metadata CID: QmbmyecKUbwCDFPt6Uddx411bCvefLiRXPxHs5vnYz4XZm\u001b[0m\n",
      "\u001b[32m2025-01-03 23:39:15.151\u001b[0m | \u001b[34m\u001b[1mDEBUG   \u001b[0m | \u001b[36m__main__\u001b[0m:\u001b[36m<module>\u001b[0m:\u001b[36m51\u001b[0m - \u001b[34m\u001b[1mProcessing linked user: crazy_nash@test\u001b[0m\n",
      "\u001b[32m2025-01-03 23:39:15.168\u001b[0m | \u001b[1mINFO    \u001b[0m | \u001b[36m__main__\u001b[0m:\u001b[36m<module>\u001b[0m:\u001b[36m64\u001b[0m - \u001b[1mUser JSON-LD CID: QmVQLbPmAqVYWPT1x9niJEC3w1YK5zxXYJPC8FraoasHuU\u001b[0m\n",
      "\u001b[32m2025-01-03 23:39:15.174\u001b[0m | \u001b[34m\u001b[1mDEBUG   \u001b[0m | \u001b[36m__main__\u001b[0m:\u001b[36m<module>\u001b[0m:\u001b[36m71\u001b[0m - \u001b[34m\u001b[1mDownloaded user project metadata: {'@type': 'foaf:Person', 'foaf:holdsAccount': {'schema:identifier': 'crazy_nash@test', 'schema:publicKey': 'e9a68ae4790e255c80ec8a3c0cd2e179ce815507c5df23f1fa03287a7d6252a9', 'schema:roleName': 'reviewer'}, 'foaf:mbox': 'crazy_nash@email.com', 'foaf:name': 'Crazy Nash', 'foaf:organization': {'@type': 'foaf:Organization', 'foaf:name': \"Institut Supérieure d'Electronique de Paris\"}, 'schema:identifier': {'@type': 'PropertyValue', 'propertyID': 'ORCID', 'value': '9331-2337-8591-X'}}\u001b[0m\n",
      "\u001b[32m2025-01-03 23:39:15.180\u001b[0m | \u001b[34m\u001b[1mDEBUG   \u001b[0m | \u001b[36m__main__\u001b[0m:\u001b[36m<module>\u001b[0m:\u001b[36m75\u001b[0m - \u001b[34m\u001b[1mDownloaded project metadata: {'@context': {'dc': 'http://purl.org/dc/terms/', 'schema': 'http://schema.org/'}, '@type': 'schema:ResearchProject', 'dc:abstract': 'This study explores the impact of quantum computing in supply chain management, focusing on biodiversity.', 'schema:endDate': '2026-07-23', 'schema:funding': {'@type': 'schema:Organization', 'schema:name': 'National Science Foundation'}, 'schema:keywords': ['quantum computing', 'supply chain management', 'biodiversity'], 'schema:location': {'@type': 'schema:Place', 'schema:name': 'Lagos, Nigeria'}, 'schema:name': 'Investigating the Role of quantum computing in supply chain management', 'schema:startDate': '2023-07-03'}\u001b[0m\n"
     ]
    }
   ],
   "source": [
    "from loguru import logger\n",
    "import json\n",
    "from whoosh.index import open_dir\n",
    "\n",
    "# Open an existing index (adjust the path to your index directory)\n",
    "index_path = \"indexdir\"\n",
    "index = open_dir(index_path)\n",
    "\n",
    "# Perform a keyword search\n",
    "keyword = \"paper\"\n",
    "search_results, project_ids_with_cids = search_index(index, keyword)\n",
    "\n",
    "# Process each dictionary in search results\n",
    "for result_dict in search_results:\n",
    "    project_id = result_dict['project_id']\n",
    "    file_cid = result_dict['file_cid']\n",
    "    metadata_cid = result_dict['metadata_cid']\n",
    "    \n",
    "    # Log the retrieved project details\n",
    "    logger.info(f\"Processing Project ID: {project_id}\")\n",
    "    logger.debug(f\"File CID: {file_cid}\")\n",
    "    logger.debug(f\"Metadata CID: {metadata_cid}\")\n",
    "    \n",
    "    # Fetch project details from the blockchain\n",
    "    project_details = get_account_detail(project_id)\n",
    "    logger.debug(f\"Fetched project details for {project_id}: {project_details}\")\n",
    "    \n",
    "    # Parse blockchain data\n",
    "    try:\n",
    "        blockchain_data = json.loads(project_details)\n",
    "    except json.JSONDecodeError as e:\n",
    "        logger.error(f\"Error decoding project details JSON for {project_id}: {e}\")\n",
    "        continue\n",
    "    \n",
    "    # Validate file CID and fetch project details\n",
    "    validation_result = fetch_project_details(file_cid, blockchain_data)\n",
    "    if validation_result[\"is_valid\"]:\n",
    "        project_metadata_cid = validation_result[\"project_metadata_cid\"]\n",
    "        linked_user = validation_result[\"linked_user\"]\n",
    "        \n",
    "        logger.info(f\"Valid File CID for {project_id}.\")\n",
    "        logger.debug(f\"Project Metadata CID: {project_metadata_cid}\")\n",
    "        logger.debug(f\"Linked User: {linked_user}\")\n",
    "        \n",
    "        # Process project metadata CID\n",
    "        if project_metadata_cid:\n",
    "            logger.debug(f\"Processing project metadata CID: {project_metadata_cid}\")\n",
    "        \n",
    "        # Process linked user\n",
    "        if linked_user:\n",
    "            logger.debug(f\"Processing linked user: {linked_user}\")\n",
    "            \n",
    "        # Fetch user details\n",
    "        user_details = get_account_detail(linked_user)\n",
    "        try:\n",
    "            user_details = json.loads(user_details)\n",
    "        except json.JSONDecodeError as e:\n",
    "            logger.error(f\"Error decoding user details JSON for {linked_user}: {e}\")\n",
    "            continue\n",
    "        \n",
    "        # Access user_json_ld_cid\n",
    "        user_json_ld_cid = user_details.get(\"admin@test\", {}).get(\"user_json_ld_cid\", None)\n",
    "        if user_json_ld_cid:\n",
    "            logger.info(f\"User JSON-LD CID: {user_json_ld_cid}\")\n",
    "        else:\n",
    "            logger.warning(\"User JSON-LD CID not found.\")\n",
    "        \n",
    "        # Download and process project metadata\n",
    "        if user_json_ld_cid:\n",
    "            project_metadata = download_json_from_ipfs(user_json_ld_cid)\n",
    "            logger.debug(f\"Downloaded user project metadata: {project_metadata}\")\n",
    "        \n",
    "        if project_metadata_cid:\n",
    "            project_metadata = download_json_from_ipfs(project_metadata_cid)\n",
    "            logger.debug(f\"Downloaded project metadata: {project_metadata}\")\n",
    "    else:\n",
    "        logger.warning(f\"Invalid File CID for Project ID: {project_id}. Skipping metadata processing.\")\n"
   ]
  },
  {
   "cell_type": "code",
   "execution_count": 7,
   "id": "010cf137",
   "metadata": {},
   "outputs": [
    {
     "name": "stderr",
     "output_type": "stream",
     "text": [
      "\u001b[32m2025-01-03 23:39:15.358\u001b[0m | \u001b[1mINFO    \u001b[0m | \u001b[36mknowledge_graph_helper\u001b[0m:\u001b[36mbuild_knowledge_graph\u001b[0m:\u001b[36m15\u001b[0m - \u001b[1mStarting knowledge graph creation.\u001b[0m\n",
      "\u001b[32m2025-01-03 23:39:15.358\u001b[0m | \u001b[34m\u001b[1mDEBUG   \u001b[0m | \u001b[36mknowledge_graph_helper\u001b[0m:\u001b[36mbuild_knowledge_graph\u001b[0m:\u001b[36m25\u001b[0m - \u001b[34m\u001b[1mAdded project node: 06535@test\u001b[0m\n",
      "\u001b[32m2025-01-03 23:39:15.359\u001b[0m | \u001b[34m\u001b[1mDEBUG   \u001b[0m | \u001b[36mknowledge_graph_helper\u001b[0m:\u001b[36mbuild_knowledge_graph\u001b[0m:\u001b[36m29\u001b[0m - \u001b[34m\u001b[1mAdded file CID node: QmV1vYkuiwKGPA5Tyi4ECNFfWYocyTtQ3E5j7CSvPBX49Q\u001b[0m\n",
      "\u001b[32m2025-01-03 23:39:15.359\u001b[0m | \u001b[34m\u001b[1mDEBUG   \u001b[0m | \u001b[36mknowledge_graph_helper\u001b[0m:\u001b[36mbuild_knowledge_graph\u001b[0m:\u001b[36m33\u001b[0m - \u001b[34m\u001b[1mAdded metadata CID node: QmbSaWyN5BVtvNxrifikvcS3ZAAvLV5DAHnNE5oxZ6Rxod\u001b[0m\n",
      "\u001b[32m2025-01-03 23:39:15.360\u001b[0m | \u001b[34m\u001b[1mDEBUG   \u001b[0m | \u001b[36mknowledge_graph_helper\u001b[0m:\u001b[36mbuild_knowledge_graph\u001b[0m:\u001b[36m37\u001b[0m - \u001b[34m\u001b[1mAdded edge: 06535@test -> QmV1vYkuiwKGPA5Tyi4ECNFfWYocyTtQ3E5j7CSvPBX49Q\u001b[0m\n",
      "\u001b[32m2025-01-03 23:39:15.360\u001b[0m | \u001b[34m\u001b[1mDEBUG   \u001b[0m | \u001b[36mknowledge_graph_helper\u001b[0m:\u001b[36mbuild_knowledge_graph\u001b[0m:\u001b[36m41\u001b[0m - \u001b[34m\u001b[1mAdded edge: QmV1vYkuiwKGPA5Tyi4ECNFfWYocyTtQ3E5j7CSvPBX49Q -> QmbSaWyN5BVtvNxrifikvcS3ZAAvLV5DAHnNE5oxZ6Rxod\u001b[0m\n",
      "\u001b[32m2025-01-03 23:39:15.365\u001b[0m | \u001b[34m\u001b[1mDEBUG   \u001b[0m | \u001b[36msuper_helper\u001b[0m:\u001b[36mfetch_project_details\u001b[0m:\u001b[36m223\u001b[0m - \u001b[34m\u001b[1mValidating and fetching details for CID: QmV1vYkuiwKGPA5Tyi4ECNFfWYocyTtQ3E5j7CSvPBX49Q\u001b[0m\n",
      "\u001b[32m2025-01-03 23:39:15.365\u001b[0m | \u001b[34m\u001b[1mDEBUG   \u001b[0m | \u001b[36msuper_helper\u001b[0m:\u001b[36mfetch_project_details\u001b[0m:\u001b[36m231\u001b[0m - \u001b[34m\u001b[1mFile CID QmV1vYkuiwKGPA5Tyi4ECNFfWYocyTtQ3E5j7CSvPBX49Q found under file_5.\u001b[0m\n",
      "\u001b[32m2025-01-03 23:39:15.365\u001b[0m | \u001b[34m\u001b[1mDEBUG   \u001b[0m | \u001b[36mknowledge_graph_helper\u001b[0m:\u001b[36mbuild_knowledge_graph\u001b[0m:\u001b[36m56\u001b[0m - \u001b[34m\u001b[1mAdded edge: 06535@test -> QmbmyecKUbwCDFPt6Uddx411bCvefLiRXPxHs5vnYz4XZm\u001b[0m\n",
      "\u001b[32m2025-01-03 23:39:15.365\u001b[0m | \u001b[34m\u001b[1mDEBUG   \u001b[0m | \u001b[36mknowledge_graph_helper\u001b[0m:\u001b[36mbuild_knowledge_graph\u001b[0m:\u001b[36m62\u001b[0m - \u001b[34m\u001b[1mAdded edge: crazy_nash@test -> 06535@test\u001b[0m\n",
      "\u001b[32m2025-01-03 23:39:15.366\u001b[0m | \u001b[34m\u001b[1mDEBUG   \u001b[0m | \u001b[36mknowledge_graph_helper\u001b[0m:\u001b[36mbuild_knowledge_graph\u001b[0m:\u001b[36m25\u001b[0m - \u001b[34m\u001b[1mAdded project node: 06535@test\u001b[0m\n",
      "\u001b[32m2025-01-03 23:39:15.366\u001b[0m | \u001b[34m\u001b[1mDEBUG   \u001b[0m | \u001b[36mknowledge_graph_helper\u001b[0m:\u001b[36mbuild_knowledge_graph\u001b[0m:\u001b[36m29\u001b[0m - \u001b[34m\u001b[1mAdded file CID node: QmV1vYkuiwKGPA5Tyi4ECNFfWYocyTtQ3E5j7CSvPBX49Q\u001b[0m\n",
      "\u001b[32m2025-01-03 23:39:15.366\u001b[0m | \u001b[34m\u001b[1mDEBUG   \u001b[0m | \u001b[36mknowledge_graph_helper\u001b[0m:\u001b[36mbuild_knowledge_graph\u001b[0m:\u001b[36m33\u001b[0m - \u001b[34m\u001b[1mAdded metadata CID node: QmX8RE8fXTCPfqtPQAu7pysNUmv3BGoHf8ix4kmwVuVkS9\u001b[0m\n",
      "\u001b[32m2025-01-03 23:39:15.367\u001b[0m | \u001b[34m\u001b[1mDEBUG   \u001b[0m | \u001b[36mknowledge_graph_helper\u001b[0m:\u001b[36mbuild_knowledge_graph\u001b[0m:\u001b[36m37\u001b[0m - \u001b[34m\u001b[1mAdded edge: 06535@test -> QmV1vYkuiwKGPA5Tyi4ECNFfWYocyTtQ3E5j7CSvPBX49Q\u001b[0m\n",
      "\u001b[32m2025-01-03 23:39:15.367\u001b[0m | \u001b[34m\u001b[1mDEBUG   \u001b[0m | \u001b[36mknowledge_graph_helper\u001b[0m:\u001b[36mbuild_knowledge_graph\u001b[0m:\u001b[36m41\u001b[0m - \u001b[34m\u001b[1mAdded edge: QmV1vYkuiwKGPA5Tyi4ECNFfWYocyTtQ3E5j7CSvPBX49Q -> QmX8RE8fXTCPfqtPQAu7pysNUmv3BGoHf8ix4kmwVuVkS9\u001b[0m\n",
      "\u001b[32m2025-01-03 23:39:15.372\u001b[0m | \u001b[34m\u001b[1mDEBUG   \u001b[0m | \u001b[36msuper_helper\u001b[0m:\u001b[36mfetch_project_details\u001b[0m:\u001b[36m223\u001b[0m - \u001b[34m\u001b[1mValidating and fetching details for CID: QmV1vYkuiwKGPA5Tyi4ECNFfWYocyTtQ3E5j7CSvPBX49Q\u001b[0m\n",
      "\u001b[32m2025-01-03 23:39:15.373\u001b[0m | \u001b[34m\u001b[1mDEBUG   \u001b[0m | \u001b[36msuper_helper\u001b[0m:\u001b[36mfetch_project_details\u001b[0m:\u001b[36m231\u001b[0m - \u001b[34m\u001b[1mFile CID QmV1vYkuiwKGPA5Tyi4ECNFfWYocyTtQ3E5j7CSvPBX49Q found under file_5.\u001b[0m\n",
      "\u001b[32m2025-01-03 23:39:15.373\u001b[0m | \u001b[34m\u001b[1mDEBUG   \u001b[0m | \u001b[36mknowledge_graph_helper\u001b[0m:\u001b[36mbuild_knowledge_graph\u001b[0m:\u001b[36m56\u001b[0m - \u001b[34m\u001b[1mAdded edge: 06535@test -> QmbmyecKUbwCDFPt6Uddx411bCvefLiRXPxHs5vnYz4XZm\u001b[0m\n",
      "\u001b[32m2025-01-03 23:39:15.373\u001b[0m | \u001b[34m\u001b[1mDEBUG   \u001b[0m | \u001b[36mknowledge_graph_helper\u001b[0m:\u001b[36mbuild_knowledge_graph\u001b[0m:\u001b[36m62\u001b[0m - \u001b[34m\u001b[1mAdded edge: crazy_nash@test -> 06535@test\u001b[0m\n",
      "\u001b[32m2025-01-03 23:39:15.373\u001b[0m | \u001b[34m\u001b[1mDEBUG   \u001b[0m | \u001b[36mknowledge_graph_helper\u001b[0m:\u001b[36mbuild_knowledge_graph\u001b[0m:\u001b[36m25\u001b[0m - \u001b[34m\u001b[1mAdded project node: 06535@test\u001b[0m\n",
      "\u001b[32m2025-01-03 23:39:15.373\u001b[0m | \u001b[34m\u001b[1mDEBUG   \u001b[0m | \u001b[36mknowledge_graph_helper\u001b[0m:\u001b[36mbuild_knowledge_graph\u001b[0m:\u001b[36m29\u001b[0m - \u001b[34m\u001b[1mAdded file CID node: QmUq29KRwpTdvScB5oYzEDobDHyb4N1f9eaZXm4VaMCgiW\u001b[0m\n",
      "\u001b[32m2025-01-03 23:39:15.374\u001b[0m | \u001b[34m\u001b[1mDEBUG   \u001b[0m | \u001b[36mknowledge_graph_helper\u001b[0m:\u001b[36mbuild_knowledge_graph\u001b[0m:\u001b[36m33\u001b[0m - \u001b[34m\u001b[1mAdded metadata CID node: QmUDmBpFAf5Ns5VsNigNNWJmwLSS6b4Y2DRbvEdSaDFCuv\u001b[0m\n",
      "\u001b[32m2025-01-03 23:39:15.374\u001b[0m | \u001b[34m\u001b[1mDEBUG   \u001b[0m | \u001b[36mknowledge_graph_helper\u001b[0m:\u001b[36mbuild_knowledge_graph\u001b[0m:\u001b[36m37\u001b[0m - \u001b[34m\u001b[1mAdded edge: 06535@test -> QmUq29KRwpTdvScB5oYzEDobDHyb4N1f9eaZXm4VaMCgiW\u001b[0m\n",
      "\u001b[32m2025-01-03 23:39:15.374\u001b[0m | \u001b[34m\u001b[1mDEBUG   \u001b[0m | \u001b[36mknowledge_graph_helper\u001b[0m:\u001b[36mbuild_knowledge_graph\u001b[0m:\u001b[36m41\u001b[0m - \u001b[34m\u001b[1mAdded edge: QmUq29KRwpTdvScB5oYzEDobDHyb4N1f9eaZXm4VaMCgiW -> QmUDmBpFAf5Ns5VsNigNNWJmwLSS6b4Y2DRbvEdSaDFCuv\u001b[0m\n",
      "\u001b[32m2025-01-03 23:39:15.378\u001b[0m | \u001b[34m\u001b[1mDEBUG   \u001b[0m | \u001b[36msuper_helper\u001b[0m:\u001b[36mfetch_project_details\u001b[0m:\u001b[36m223\u001b[0m - \u001b[34m\u001b[1mValidating and fetching details for CID: QmUq29KRwpTdvScB5oYzEDobDHyb4N1f9eaZXm4VaMCgiW\u001b[0m\n",
      "\u001b[32m2025-01-03 23:39:15.379\u001b[0m | \u001b[34m\u001b[1mDEBUG   \u001b[0m | \u001b[36msuper_helper\u001b[0m:\u001b[36mfetch_project_details\u001b[0m:\u001b[36m231\u001b[0m - \u001b[34m\u001b[1mFile CID QmUq29KRwpTdvScB5oYzEDobDHyb4N1f9eaZXm4VaMCgiW found under file_4.\u001b[0m\n",
      "\u001b[32m2025-01-03 23:39:15.379\u001b[0m | \u001b[34m\u001b[1mDEBUG   \u001b[0m | \u001b[36mknowledge_graph_helper\u001b[0m:\u001b[36mbuild_knowledge_graph\u001b[0m:\u001b[36m56\u001b[0m - \u001b[34m\u001b[1mAdded edge: 06535@test -> QmbmyecKUbwCDFPt6Uddx411bCvefLiRXPxHs5vnYz4XZm\u001b[0m\n",
      "\u001b[32m2025-01-03 23:39:15.379\u001b[0m | \u001b[34m\u001b[1mDEBUG   \u001b[0m | \u001b[36mknowledge_graph_helper\u001b[0m:\u001b[36mbuild_knowledge_graph\u001b[0m:\u001b[36m62\u001b[0m - \u001b[34m\u001b[1mAdded edge: crazy_nash@test -> 06535@test\u001b[0m\n",
      "\u001b[32m2025-01-03 23:39:15.379\u001b[0m | \u001b[34m\u001b[1mDEBUG   \u001b[0m | \u001b[36mknowledge_graph_helper\u001b[0m:\u001b[36mbuild_knowledge_graph\u001b[0m:\u001b[36m25\u001b[0m - \u001b[34m\u001b[1mAdded project node: 06535@test\u001b[0m\n",
      "\u001b[32m2025-01-03 23:39:15.380\u001b[0m | \u001b[34m\u001b[1mDEBUG   \u001b[0m | \u001b[36mknowledge_graph_helper\u001b[0m:\u001b[36mbuild_knowledge_graph\u001b[0m:\u001b[36m29\u001b[0m - \u001b[34m\u001b[1mAdded file CID node: QmUq29KRwpTdvScB5oYzEDobDHyb4N1f9eaZXm4VaMCgiW\u001b[0m\n",
      "\u001b[32m2025-01-03 23:39:15.380\u001b[0m | \u001b[34m\u001b[1mDEBUG   \u001b[0m | \u001b[36mknowledge_graph_helper\u001b[0m:\u001b[36mbuild_knowledge_graph\u001b[0m:\u001b[36m33\u001b[0m - \u001b[34m\u001b[1mAdded metadata CID node: QmcEd1CvbCB98BjtV48ufLfJXH6nkRkfhySonJddo4kXub\u001b[0m\n",
      "\u001b[32m2025-01-03 23:39:15.380\u001b[0m | \u001b[34m\u001b[1mDEBUG   \u001b[0m | \u001b[36mknowledge_graph_helper\u001b[0m:\u001b[36mbuild_knowledge_graph\u001b[0m:\u001b[36m37\u001b[0m - \u001b[34m\u001b[1mAdded edge: 06535@test -> QmUq29KRwpTdvScB5oYzEDobDHyb4N1f9eaZXm4VaMCgiW\u001b[0m\n",
      "\u001b[32m2025-01-03 23:39:15.380\u001b[0m | \u001b[34m\u001b[1mDEBUG   \u001b[0m | \u001b[36mknowledge_graph_helper\u001b[0m:\u001b[36mbuild_knowledge_graph\u001b[0m:\u001b[36m41\u001b[0m - \u001b[34m\u001b[1mAdded edge: QmUq29KRwpTdvScB5oYzEDobDHyb4N1f9eaZXm4VaMCgiW -> QmcEd1CvbCB98BjtV48ufLfJXH6nkRkfhySonJddo4kXub\u001b[0m\n",
      "\u001b[32m2025-01-03 23:39:15.385\u001b[0m | \u001b[34m\u001b[1mDEBUG   \u001b[0m | \u001b[36msuper_helper\u001b[0m:\u001b[36mfetch_project_details\u001b[0m:\u001b[36m223\u001b[0m - \u001b[34m\u001b[1mValidating and fetching details for CID: QmUq29KRwpTdvScB5oYzEDobDHyb4N1f9eaZXm4VaMCgiW\u001b[0m\n",
      "\u001b[32m2025-01-03 23:39:15.385\u001b[0m | \u001b[34m\u001b[1mDEBUG   \u001b[0m | \u001b[36msuper_helper\u001b[0m:\u001b[36mfetch_project_details\u001b[0m:\u001b[36m231\u001b[0m - \u001b[34m\u001b[1mFile CID QmUq29KRwpTdvScB5oYzEDobDHyb4N1f9eaZXm4VaMCgiW found under file_4.\u001b[0m\n",
      "\u001b[32m2025-01-03 23:39:15.385\u001b[0m | \u001b[34m\u001b[1mDEBUG   \u001b[0m | \u001b[36mknowledge_graph_helper\u001b[0m:\u001b[36mbuild_knowledge_graph\u001b[0m:\u001b[36m56\u001b[0m - \u001b[34m\u001b[1mAdded edge: 06535@test -> QmbmyecKUbwCDFPt6Uddx411bCvefLiRXPxHs5vnYz4XZm\u001b[0m\n",
      "\u001b[32m2025-01-03 23:39:15.385\u001b[0m | \u001b[34m\u001b[1mDEBUG   \u001b[0m | \u001b[36mknowledge_graph_helper\u001b[0m:\u001b[36mbuild_knowledge_graph\u001b[0m:\u001b[36m62\u001b[0m - \u001b[34m\u001b[1mAdded edge: crazy_nash@test -> 06535@test\u001b[0m\n",
      "\u001b[32m2025-01-03 23:39:15.386\u001b[0m | \u001b[34m\u001b[1mDEBUG   \u001b[0m | \u001b[36mknowledge_graph_helper\u001b[0m:\u001b[36mbuild_knowledge_graph\u001b[0m:\u001b[36m25\u001b[0m - \u001b[34m\u001b[1mAdded project node: 06535@test\u001b[0m\n",
      "\u001b[32m2025-01-03 23:39:15.386\u001b[0m | \u001b[34m\u001b[1mDEBUG   \u001b[0m | \u001b[36mknowledge_graph_helper\u001b[0m:\u001b[36mbuild_knowledge_graph\u001b[0m:\u001b[36m29\u001b[0m - \u001b[34m\u001b[1mAdded file CID node: QmT7ximApXtExAedhzUHGHDwRismRzuKykpH4dgTvGrNZs\u001b[0m\n",
      "\u001b[32m2025-01-03 23:39:15.386\u001b[0m | \u001b[34m\u001b[1mDEBUG   \u001b[0m | \u001b[36mknowledge_graph_helper\u001b[0m:\u001b[36mbuild_knowledge_graph\u001b[0m:\u001b[36m33\u001b[0m - \u001b[34m\u001b[1mAdded metadata CID node: QmabjZMBrZPw1KBhn1vHpRykzmA6y4U6k3D2sg5jajxai4\u001b[0m\n",
      "\u001b[32m2025-01-03 23:39:15.386\u001b[0m | \u001b[34m\u001b[1mDEBUG   \u001b[0m | \u001b[36mknowledge_graph_helper\u001b[0m:\u001b[36mbuild_knowledge_graph\u001b[0m:\u001b[36m37\u001b[0m - \u001b[34m\u001b[1mAdded edge: 06535@test -> QmT7ximApXtExAedhzUHGHDwRismRzuKykpH4dgTvGrNZs\u001b[0m\n",
      "\u001b[32m2025-01-03 23:39:15.386\u001b[0m | \u001b[34m\u001b[1mDEBUG   \u001b[0m | \u001b[36mknowledge_graph_helper\u001b[0m:\u001b[36mbuild_knowledge_graph\u001b[0m:\u001b[36m41\u001b[0m - \u001b[34m\u001b[1mAdded edge: QmT7ximApXtExAedhzUHGHDwRismRzuKykpH4dgTvGrNZs -> QmabjZMBrZPw1KBhn1vHpRykzmA6y4U6k3D2sg5jajxai4\u001b[0m\n",
      "\u001b[32m2025-01-03 23:39:15.391\u001b[0m | \u001b[34m\u001b[1mDEBUG   \u001b[0m | \u001b[36msuper_helper\u001b[0m:\u001b[36mfetch_project_details\u001b[0m:\u001b[36m223\u001b[0m - \u001b[34m\u001b[1mValidating and fetching details for CID: QmT7ximApXtExAedhzUHGHDwRismRzuKykpH4dgTvGrNZs\u001b[0m\n",
      "\u001b[32m2025-01-03 23:39:15.391\u001b[0m | \u001b[34m\u001b[1mDEBUG   \u001b[0m | \u001b[36msuper_helper\u001b[0m:\u001b[36mfetch_project_details\u001b[0m:\u001b[36m231\u001b[0m - \u001b[34m\u001b[1mFile CID QmT7ximApXtExAedhzUHGHDwRismRzuKykpH4dgTvGrNZs found under file_2.\u001b[0m\n",
      "\u001b[32m2025-01-03 23:39:15.392\u001b[0m | \u001b[34m\u001b[1mDEBUG   \u001b[0m | \u001b[36mknowledge_graph_helper\u001b[0m:\u001b[36mbuild_knowledge_graph\u001b[0m:\u001b[36m56\u001b[0m - \u001b[34m\u001b[1mAdded edge: 06535@test -> QmbmyecKUbwCDFPt6Uddx411bCvefLiRXPxHs5vnYz4XZm\u001b[0m\n",
      "\u001b[32m2025-01-03 23:39:15.392\u001b[0m | \u001b[34m\u001b[1mDEBUG   \u001b[0m | \u001b[36mknowledge_graph_helper\u001b[0m:\u001b[36mbuild_knowledge_graph\u001b[0m:\u001b[36m62\u001b[0m - \u001b[34m\u001b[1mAdded edge: crazy_nash@test -> 06535@test\u001b[0m\n",
      "\u001b[32m2025-01-03 23:39:15.392\u001b[0m | \u001b[34m\u001b[1mDEBUG   \u001b[0m | \u001b[36mknowledge_graph_helper\u001b[0m:\u001b[36mbuild_knowledge_graph\u001b[0m:\u001b[36m25\u001b[0m - \u001b[34m\u001b[1mAdded project node: 06535@test\u001b[0m\n",
      "\u001b[32m2025-01-03 23:39:15.392\u001b[0m | \u001b[34m\u001b[1mDEBUG   \u001b[0m | \u001b[36mknowledge_graph_helper\u001b[0m:\u001b[36mbuild_knowledge_graph\u001b[0m:\u001b[36m29\u001b[0m - \u001b[34m\u001b[1mAdded file CID node: QmT7ximApXtExAedhzUHGHDwRismRzuKykpH4dgTvGrNZs\u001b[0m\n",
      "\u001b[32m2025-01-03 23:39:15.393\u001b[0m | \u001b[34m\u001b[1mDEBUG   \u001b[0m | \u001b[36mknowledge_graph_helper\u001b[0m:\u001b[36mbuild_knowledge_graph\u001b[0m:\u001b[36m33\u001b[0m - \u001b[34m\u001b[1mAdded metadata CID node: Qmbexy2Yn3XqN25jU1wHp4fbeB6ur2bijgc4SdJiVJNmzj\u001b[0m\n",
      "\u001b[32m2025-01-03 23:39:15.393\u001b[0m | \u001b[34m\u001b[1mDEBUG   \u001b[0m | \u001b[36mknowledge_graph_helper\u001b[0m:\u001b[36mbuild_knowledge_graph\u001b[0m:\u001b[36m37\u001b[0m - \u001b[34m\u001b[1mAdded edge: 06535@test -> QmT7ximApXtExAedhzUHGHDwRismRzuKykpH4dgTvGrNZs\u001b[0m\n",
      "\u001b[32m2025-01-03 23:39:15.393\u001b[0m | \u001b[34m\u001b[1mDEBUG   \u001b[0m | \u001b[36mknowledge_graph_helper\u001b[0m:\u001b[36mbuild_knowledge_graph\u001b[0m:\u001b[36m41\u001b[0m - \u001b[34m\u001b[1mAdded edge: QmT7ximApXtExAedhzUHGHDwRismRzuKykpH4dgTvGrNZs -> Qmbexy2Yn3XqN25jU1wHp4fbeB6ur2bijgc4SdJiVJNmzj\u001b[0m\n",
      "\u001b[32m2025-01-03 23:39:15.401\u001b[0m | \u001b[34m\u001b[1mDEBUG   \u001b[0m | \u001b[36msuper_helper\u001b[0m:\u001b[36mfetch_project_details\u001b[0m:\u001b[36m223\u001b[0m - \u001b[34m\u001b[1mValidating and fetching details for CID: QmT7ximApXtExAedhzUHGHDwRismRzuKykpH4dgTvGrNZs\u001b[0m\n",
      "\u001b[32m2025-01-03 23:39:15.401\u001b[0m | \u001b[34m\u001b[1mDEBUG   \u001b[0m | \u001b[36msuper_helper\u001b[0m:\u001b[36mfetch_project_details\u001b[0m:\u001b[36m231\u001b[0m - \u001b[34m\u001b[1mFile CID QmT7ximApXtExAedhzUHGHDwRismRzuKykpH4dgTvGrNZs found under file_2.\u001b[0m\n",
      "\u001b[32m2025-01-03 23:39:15.402\u001b[0m | \u001b[34m\u001b[1mDEBUG   \u001b[0m | \u001b[36mknowledge_graph_helper\u001b[0m:\u001b[36mbuild_knowledge_graph\u001b[0m:\u001b[36m56\u001b[0m - \u001b[34m\u001b[1mAdded edge: 06535@test -> QmbmyecKUbwCDFPt6Uddx411bCvefLiRXPxHs5vnYz4XZm\u001b[0m\n",
      "\u001b[32m2025-01-03 23:39:15.402\u001b[0m | \u001b[34m\u001b[1mDEBUG   \u001b[0m | \u001b[36mknowledge_graph_helper\u001b[0m:\u001b[36mbuild_knowledge_graph\u001b[0m:\u001b[36m62\u001b[0m - \u001b[34m\u001b[1mAdded edge: crazy_nash@test -> 06535@test\u001b[0m\n",
      "\u001b[32m2025-01-03 23:39:15.402\u001b[0m | \u001b[1mINFO    \u001b[0m | \u001b[36mknowledge_graph_helper\u001b[0m:\u001b[36mbuild_knowledge_graph\u001b[0m:\u001b[36m64\u001b[0m - \u001b[1mKnowledge graph creation complete.\u001b[0m\n",
      "\u001b[32m2025-01-03 23:39:15.443\u001b[0m | \u001b[1mINFO    \u001b[0m | \u001b[36mknowledge_graph_helper\u001b[0m:\u001b[36mvisualize_knowledge_graph\u001b[0m:\u001b[36m82\u001b[0m - \u001b[1mVisualizing the knowledge graph.\u001b[0m\n",
      "\u001b[32m2025-01-03 23:39:15.451\u001b[0m | \u001b[1mINFO    \u001b[0m | \u001b[36mknowledge_graph_helper\u001b[0m:\u001b[36mvisualize_knowledge_graph\u001b[0m:\u001b[36m84\u001b[0m - \u001b[1mKnowledge graph saved to research_knowledge_graph.html.\u001b[0m\n"
     ]
    },
    {
     "name": "stdout",
     "output_type": "stream",
     "text": [
      "Warning: When  cdn_resources is 'local' jupyter notebook has issues displaying graphics on chrome/safari. Use cdn_resources='in_line' or cdn_resources='remote' if you have issues viewing graphics in a notebook.\n",
      "research_knowledge_graph.html\n"
     ]
    }
   ],
   "source": [
    "from knowledge_graph_helper import *\n",
    "# Example usage (assuming `search_results` is populated):\n",
    "# Call the build_knowledge_graph function with the processed data\n",
    "graph = build_knowledge_graph(search_results)\n",
    "\n",
    "# Visualize the graph and save it as an HTML file\n",
    "visualize_knowledge_graph(graph, \"research_knowledge_graph.html\")"
   ]
  }
 ],
 "metadata": {
  "kernelspec": {
   "display_name": "Python 3 (ipykernel)",
   "language": "python",
   "name": "python3"
  },
  "language_info": {
   "codemirror_mode": {
    "name": "ipython",
    "version": 3
   },
   "file_extension": ".py",
   "mimetype": "text/x-python",
   "name": "python",
   "nbconvert_exporter": "python",
   "pygments_lexer": "ipython3",
   "version": "3.9.21"
  }
 },
 "nbformat": 4,
 "nbformat_minor": 5
}
