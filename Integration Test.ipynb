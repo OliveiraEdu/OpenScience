{
 "cells": [
  {
   "cell_type": "code",
   "execution_count": 1,
   "id": "b27efec9",
   "metadata": {},
   "outputs": [],
   "source": [
    "from new_helper import *\n",
    "from super_helper import *"
   ]
  },
  {
   "cell_type": "code",
   "execution_count": 2,
   "id": "79650b49",
   "metadata": {},
   "outputs": [
    {
     "name": "stdout",
     "output_type": "stream",
     "text": [
      "----------------------------------------\n"
     ]
    }
   ],
   "source": [
    "id = \"37887\"\n",
    "DOMAIN = \"test\"\n",
    "\n",
    "project_id = f\"{id}@{DOMAIN}\"\n",
    "\n",
    "directory_path = \"upload\"\n",
    "\n",
    "print(40*\"-\")\n",
    "\n"
   ]
  },
  {
   "cell_type": "code",
   "execution_count": 3,
   "id": "4d0d0bcb",
   "metadata": {},
   "outputs": [
    {
     "name": "stderr",
     "output_type": "stream",
     "text": [
      "DEBUG:urllib3.connectionpool:Starting new HTTP connection (1): localhost:9998\n",
      "DEBUG:urllib3.connectionpool:http://localhost:9998 \"PUT /rmeta/text HTTP/1.1\" 200 None\n",
      "DEBUG:urllib3.connectionpool:Starting new HTTP connection (1): 10.0.0.100:5001\n",
      "DEBUG:urllib3.connectionpool:http://10.0.0.100:5001 \"POST /api/v0/add?stream-channels=true&trickle=False&only-hash=False&wrap-with-directory=False&pin=True&raw-leaves=False&nocopy=False HTTP/1.1\" 200 None\n",
      "DEBUG:urllib3.connectionpool:Starting new HTTP connection (1): 10.0.0.100:5001\n",
      "DEBUG:urllib3.connectionpool:http://10.0.0.100:5001 \"POST /api/v0/add?stream-channels=true HTTP/1.1\" 200 None\n"
     ]
    },
    {
     "name": "stdout",
     "output_type": "stream",
     "text": [
      "<Schema: ['abstract', 'created', 'creator', 'date', 'description', 'file_cid', 'format', 'full_text', 'language', 'metadata_cid', 'modified', 'project_id', 'publisher', 'subject', 'title']>\n",
      "file path:  upload/Integration Test.ipynb\n",
      "file name:  Integration Test.ipynb\n",
      "file cid:  QmVk8gxENq6PThSGZTuk7RtbufR2XeN7LtXBj2LVTUoAdN\n",
      "file metadata cid:  QmRxGqNkpdBVeq2GmfbK2ZbW1oZyX14VtiYRZnmSq6nnm7\n",
      "file_key : file_1\n",
      "joined_cids : QmVk8gxENq6PThSGZTuk7RtbufR2XeN7LtXBj2LVTUoAdN, QmRxGqNkpdBVeq2GmfbK2ZbW1oZyX14VtiYRZnmSq6nnm7\n",
      "\tEntering \"create_contract\"\n",
      "('STATELESS_VALIDATION_SUCCESS', 1, 0)\n",
      "('ENOUGH_SIGNATURES_COLLECTED', 9, 0)\n",
      "('STATEFUL_VALIDATION_SUCCESS', 3, 0)\n",
      "('COMMITTED', 5, 0)\n",
      "\tLeaving \"create_contract\"\n",
      "\tEntering \"get_engine_receipts_address\"\n",
      "\tLeaving \"get_engine_receipts_address\"\n",
      "\tEntering \"set_account_detail\"\n",
      "None\n",
      "('STATELESS_VALIDATION_SUCCESS', 1, 0)\n",
      "('ENOUGH_SIGNATURES_COLLECTED', 9, 0)\n"
     ]
    },
    {
     "name": "stderr",
     "output_type": "stream",
     "text": [
      "\u001b[32m2025-01-03 16:14:18.666\u001b[0m | \u001b[1mINFO    \u001b[0m | \u001b[36msuper_helper\u001b[0m:\u001b[36msetup_index\u001b[0m:\u001b[36m233\u001b[0m - \u001b[1mOpened existing index.\u001b[0m\n",
      "\u001b[32m2025-01-03 16:14:18.732\u001b[0m | \u001b[1mINFO    \u001b[0m | \u001b[36msuper_helper\u001b[0m:\u001b[36mindex_metadata\u001b[0m:\u001b[36m98\u001b[0m - \u001b[1mMetadata indexed successfully: QmRxGqNkpdBVeq2GmfbK2ZbW1oZyX14VtiYRZnmSq6nnm7\u001b[0m\n",
      "DEBUG:urllib3.connectionpool:Starting new HTTP connection (1): localhost:9998\n"
     ]
    },
    {
     "name": "stdout",
     "output_type": "stream",
     "text": [
      "('STATEFUL_VALIDATION_SUCCESS', 3, 0)\n",
      "('COMMITTED', 5, 0)\n",
      "\tLeaving \"set_account_detail\"\n",
      "hash : b'7596cd3e069bc7ebcc995e42499b93b6cf1f0deac3ddfea410c14b9fccb24f64'\n",
      "This is ix:  FileIndex(FileStorage('indexdir'), 'MAIN')\n",
      "file path:  upload/Diabetic-retinopathy-identification-using-parallel-convo_2023_Expert-Systems.pdf\n",
      "file name:  Diabetic-retinopathy-identification-using-parallel-convo_2023_Expert-Systems.pdf\n"
     ]
    },
    {
     "name": "stderr",
     "output_type": "stream",
     "text": [
      "DEBUG:urllib3.connectionpool:http://localhost:9998 \"PUT /rmeta/text HTTP/1.1\" 200 None\n",
      "DEBUG:urllib3.connectionpool:Starting new HTTP connection (1): 10.0.0.100:5001\n",
      "DEBUG:urllib3.connectionpool:http://10.0.0.100:5001 \"POST /api/v0/add?stream-channels=true&trickle=False&only-hash=False&wrap-with-directory=False&pin=True&raw-leaves=False&nocopy=False HTTP/1.1\" 200 None\n",
      "DEBUG:urllib3.connectionpool:Starting new HTTP connection (1): 10.0.0.100:5001\n",
      "DEBUG:urllib3.connectionpool:http://10.0.0.100:5001 \"POST /api/v0/add?stream-channels=true HTTP/1.1\" 200 None\n"
     ]
    },
    {
     "name": "stdout",
     "output_type": "stream",
     "text": [
      "file cid:  QmT7ximApXtExAedhzUHGHDwRismRzuKykpH4dgTvGrNZs\n",
      "file metadata cid:  QmUoWr9QLUf4A6XmZJ8RSAUWu5BhKELcdh6pTyfDRNx9jj\n",
      "file_key : file_2\n",
      "joined_cids : QmT7ximApXtExAedhzUHGHDwRismRzuKykpH4dgTvGrNZs, QmUoWr9QLUf4A6XmZJ8RSAUWu5BhKELcdh6pTyfDRNx9jj\n",
      "\tEntering \"set_account_detail\"\n",
      "None\n",
      "('STATELESS_VALIDATION_SUCCESS', 1, 0)\n",
      "('ENOUGH_SIGNATURES_COLLECTED', 9, 0)\n"
     ]
    },
    {
     "name": "stderr",
     "output_type": "stream",
     "text": [
      "\u001b[32m2025-01-03 16:14:21.705\u001b[0m | \u001b[1mINFO    \u001b[0m | \u001b[36msuper_helper\u001b[0m:\u001b[36msetup_index\u001b[0m:\u001b[36m233\u001b[0m - \u001b[1mOpened existing index.\u001b[0m\n",
      "\u001b[32m2025-01-03 16:14:21.855\u001b[0m | \u001b[1mINFO    \u001b[0m | \u001b[36msuper_helper\u001b[0m:\u001b[36mindex_metadata\u001b[0m:\u001b[36m98\u001b[0m - \u001b[1mMetadata indexed successfully: QmUoWr9QLUf4A6XmZJ8RSAUWu5BhKELcdh6pTyfDRNx9jj\u001b[0m\n",
      "DEBUG:urllib3.connectionpool:Starting new HTTP connection (1): localhost:9998\n",
      "DEBUG:urllib3.connectionpool:http://localhost:9998 \"PUT /rmeta/text HTTP/1.1\" 200 None\n",
      "DEBUG:urllib3.connectionpool:Starting new HTTP connection (1): 10.0.0.100:5001\n",
      "DEBUG:urllib3.connectionpool:http://10.0.0.100:5001 \"POST /api/v0/add?stream-channels=true&trickle=False&only-hash=False&wrap-with-directory=False&pin=True&raw-leaves=False&nocopy=False HTTP/1.1\" 200 None\n",
      "DEBUG:urllib3.connectionpool:Starting new HTTP connection (1): 10.0.0.100:5001\n",
      "DEBUG:urllib3.connectionpool:http://10.0.0.100:5001 \"POST /api/v0/add?stream-channels=true HTTP/1.1\" 200 None\n"
     ]
    },
    {
     "name": "stdout",
     "output_type": "stream",
     "text": [
      "('STATEFUL_VALIDATION_SUCCESS', 3, 0)\n",
      "('COMMITTED', 5, 0)\n",
      "\tLeaving \"set_account_detail\"\n",
      "hash : b'67f48f24f8f53427270bf5d8ef5134133bbdb9c08c16c976cd36b09748f5c019'\n",
      "This is ix:  FileIndex(FileStorage('indexdir'), 'MAIN')\n",
      "file path:  upload/Editorial-Board_2023_Expert-Systems-with-Applications.pdf\n",
      "file name:  Editorial-Board_2023_Expert-Systems-with-Applications.pdf\n",
      "file cid:  QmZnh5Uuo7moZKMESFHpRjQFbbND5e3nArCzZg8uLARAgg\n",
      "file metadata cid:  QmR8TDkLuMV2QF2v8RavtRh5F3c8WCNer5KoWK9LZK2cur\n",
      "file_key : file_3\n",
      "joined_cids : QmZnh5Uuo7moZKMESFHpRjQFbbND5e3nArCzZg8uLARAgg, QmR8TDkLuMV2QF2v8RavtRh5F3c8WCNer5KoWK9LZK2cur\n",
      "\tEntering \"set_account_detail\"\n",
      "None\n",
      "('STATELESS_VALIDATION_SUCCESS', 1, 0)\n",
      "('ENOUGH_SIGNATURES_COLLECTED', 9, 0)\n"
     ]
    },
    {
     "name": "stderr",
     "output_type": "stream",
     "text": [
      "\u001b[32m2025-01-03 16:14:24.750\u001b[0m | \u001b[1mINFO    \u001b[0m | \u001b[36msuper_helper\u001b[0m:\u001b[36msetup_index\u001b[0m:\u001b[36m233\u001b[0m - \u001b[1mOpened existing index.\u001b[0m\n",
      "\u001b[32m2025-01-03 16:14:24.853\u001b[0m | \u001b[1mINFO    \u001b[0m | \u001b[36msuper_helper\u001b[0m:\u001b[36mindex_metadata\u001b[0m:\u001b[36m98\u001b[0m - \u001b[1mMetadata indexed successfully: QmR8TDkLuMV2QF2v8RavtRh5F3c8WCNer5KoWK9LZK2cur\u001b[0m\n",
      "DEBUG:urllib3.connectionpool:Starting new HTTP connection (1): localhost:9998\n"
     ]
    },
    {
     "name": "stdout",
     "output_type": "stream",
     "text": [
      "('STATEFUL_VALIDATION_SUCCESS', 3, 0)\n",
      "('COMMITTED', 5, 0)\n",
      "\tLeaving \"set_account_detail\"\n",
      "hash : b'f3ce8a7c486784c29ac80898f7f7f30ce73311ddf3912b10667efdd426faa1f2'\n",
      "This is ix:  FileIndex(FileStorage('indexdir'), 'MAIN')\n",
      "file path:  upload/COVID19-MLSF--A-multi-task-learning-based-stock-market_2023_Expert-Systems-w.pdf\n",
      "file name:  COVID19-MLSF--A-multi-task-learning-based-stock-market_2023_Expert-Systems-w.pdf\n"
     ]
    },
    {
     "name": "stderr",
     "output_type": "stream",
     "text": [
      "DEBUG:urllib3.connectionpool:http://localhost:9998 \"PUT /rmeta/text HTTP/1.1\" 200 None\n",
      "DEBUG:urllib3.connectionpool:Starting new HTTP connection (1): 10.0.0.100:5001\n",
      "DEBUG:urllib3.connectionpool:http://10.0.0.100:5001 \"POST /api/v0/add?stream-channels=true&trickle=False&only-hash=False&wrap-with-directory=False&pin=True&raw-leaves=False&nocopy=False HTTP/1.1\" 200 None\n",
      "DEBUG:urllib3.connectionpool:Starting new HTTP connection (1): 10.0.0.100:5001\n",
      "DEBUG:urllib3.connectionpool:http://10.0.0.100:5001 \"POST /api/v0/add?stream-channels=true HTTP/1.1\" 200 None\n"
     ]
    },
    {
     "name": "stdout",
     "output_type": "stream",
     "text": [
      "file cid:  QmUq29KRwpTdvScB5oYzEDobDHyb4N1f9eaZXm4VaMCgiW\n",
      "file metadata cid:  QmYzddjum6j9Gq4iAgmh5YLhP5PvpqbDraAWeakektgFP8\n",
      "file_key : file_4\n",
      "joined_cids : QmUq29KRwpTdvScB5oYzEDobDHyb4N1f9eaZXm4VaMCgiW, QmYzddjum6j9Gq4iAgmh5YLhP5PvpqbDraAWeakektgFP8\n",
      "\tEntering \"set_account_detail\"\n",
      "None\n",
      "('STATELESS_VALIDATION_SUCCESS', 1, 0)\n",
      "('ENOUGH_SIGNATURES_COLLECTED', 9, 0)\n"
     ]
    },
    {
     "name": "stderr",
     "output_type": "stream",
     "text": [
      "\u001b[32m2025-01-03 16:14:27.798\u001b[0m | \u001b[1mINFO    \u001b[0m | \u001b[36msuper_helper\u001b[0m:\u001b[36msetup_index\u001b[0m:\u001b[36m233\u001b[0m - \u001b[1mOpened existing index.\u001b[0m\n"
     ]
    },
    {
     "name": "stdout",
     "output_type": "stream",
     "text": [
      "('STATEFUL_VALIDATION_SUCCESS', 3, 0)\n",
      "('COMMITTED', 5, 0)\n",
      "\tLeaving \"set_account_detail\"\n",
      "hash : b'eb65135fed7fe91b82114dffa954e449ce29443b0044441dd83196179f209e10'\n"
     ]
    },
    {
     "name": "stderr",
     "output_type": "stream",
     "text": [
      "\u001b[32m2025-01-03 16:14:27.982\u001b[0m | \u001b[1mINFO    \u001b[0m | \u001b[36msuper_helper\u001b[0m:\u001b[36mindex_metadata\u001b[0m:\u001b[36m98\u001b[0m - \u001b[1mMetadata indexed successfully: QmYzddjum6j9Gq4iAgmh5YLhP5PvpqbDraAWeakektgFP8\u001b[0m\n",
      "DEBUG:urllib3.connectionpool:Starting new HTTP connection (1): localhost:9998\n",
      "DEBUG:urllib3.connectionpool:http://localhost:9998 \"PUT /rmeta/text HTTP/1.1\" 200 None\n",
      "DEBUG:urllib3.connectionpool:Starting new HTTP connection (1): 10.0.0.100:5001\n",
      "DEBUG:urllib3.connectionpool:http://10.0.0.100:5001 \"POST /api/v0/add?stream-channels=true&trickle=False&only-hash=False&wrap-with-directory=False&pin=True&raw-leaves=False&nocopy=False HTTP/1.1\" 200 None\n",
      "DEBUG:urllib3.connectionpool:Starting new HTTP connection (1): 10.0.0.100:5001\n",
      "DEBUG:urllib3.connectionpool:http://10.0.0.100:5001 \"POST /api/v0/add?stream-channels=true HTTP/1.1\" 200 None\n"
     ]
    },
    {
     "name": "stdout",
     "output_type": "stream",
     "text": [
      "This is ix:  FileIndex(FileStorage('indexdir'), 'MAIN')\n",
      "file path:  upload/Deep-learning-in-insurance--Accuracy-and-model-int_2023_Expert-Systems-with-.pdf\n",
      "file name:  Deep-learning-in-insurance--Accuracy-and-model-int_2023_Expert-Systems-with-.pdf\n",
      "file cid:  QmV1vYkuiwKGPA5Tyi4ECNFfWYocyTtQ3E5j7CSvPBX49Q\n",
      "file metadata cid:  QmVgt2KLZN59CbU1yvpAApZRi55QVZNhAYMG5fshz9JTsG\n",
      "file_key : file_5\n",
      "joined_cids : QmV1vYkuiwKGPA5Tyi4ECNFfWYocyTtQ3E5j7CSvPBX49Q, QmVgt2KLZN59CbU1yvpAApZRi55QVZNhAYMG5fshz9JTsG\n",
      "\tEntering \"set_account_detail\"\n",
      "None\n",
      "('STATELESS_VALIDATION_SUCCESS', 1, 0)\n",
      "('ENOUGH_SIGNATURES_COLLECTED', 9, 0)\n"
     ]
    },
    {
     "name": "stderr",
     "output_type": "stream",
     "text": [
      "\u001b[32m2025-01-03 16:14:30.840\u001b[0m | \u001b[1mINFO    \u001b[0m | \u001b[36msuper_helper\u001b[0m:\u001b[36msetup_index\u001b[0m:\u001b[36m233\u001b[0m - \u001b[1mOpened existing index.\u001b[0m\n",
      "\u001b[32m2025-01-03 16:14:30.968\u001b[0m | \u001b[1mINFO    \u001b[0m | \u001b[36msuper_helper\u001b[0m:\u001b[36mindex_metadata\u001b[0m:\u001b[36m98\u001b[0m - \u001b[1mMetadata indexed successfully: QmVgt2KLZN59CbU1yvpAApZRi55QVZNhAYMG5fshz9JTsG\u001b[0m\n"
     ]
    },
    {
     "name": "stdout",
     "output_type": "stream",
     "text": [
      "('STATEFUL_VALIDATION_SUCCESS', 3, 0)\n",
      "('COMMITTED', 5, 0)\n",
      "\tLeaving \"set_account_detail\"\n",
      "hash : b'ba2bf8e367126270da9379fbdaf5ee58348c12254933ced7d666284de1f5bf39'\n",
      "This is ix:  FileIndex(FileStorage('indexdir'), 'MAIN')\n"
     ]
    }
   ],
   "source": [
    "\n",
    "\n",
    "schema = get_schema() #super_helper.py\n",
    "\n",
    "print(schema)\n",
    "\n",
    "processed_data = process_files(directory_path, project_id, schema) #new_helper.py\n",
    " \n",
    "    "
   ]
  },
  {
   "cell_type": "code",
   "execution_count": 4,
   "id": "96c16c27",
   "metadata": {},
   "outputs": [],
   "source": [
    "account_detail = get_account_detail(project_id)\n"
   ]
  },
  {
   "cell_type": "code",
   "execution_count": 5,
   "id": "053afc13",
   "metadata": {},
   "outputs": [],
   "source": [
    "# recreate_index() #Controls the reset of the index manually"
   ]
  },
  {
   "cell_type": "code",
   "execution_count": 6,
   "id": "02b32910",
   "metadata": {},
   "outputs": [
    {
     "name": "stderr",
     "output_type": "stream",
     "text": [
      "\u001b[32m2025-01-03 16:14:30.989\u001b[0m | \u001b[1mINFO    \u001b[0m | \u001b[36msuper_helper\u001b[0m:\u001b[36msearch_index\u001b[0m:\u001b[36m116\u001b[0m - \u001b[1mStarting keyword search...\u001b[0m\n",
      "\u001b[32m2025-01-03 16:14:30.989\u001b[0m | \u001b[1mINFO    \u001b[0m | \u001b[36msuper_helper\u001b[0m:\u001b[36msearch_index\u001b[0m:\u001b[36m117\u001b[0m - \u001b[1mKeyword: 'paper'\u001b[0m\n",
      "\u001b[32m2025-01-03 16:14:30.999\u001b[0m | \u001b[1mINFO    \u001b[0m | \u001b[36msuper_helper\u001b[0m:\u001b[36msearch_index\u001b[0m:\u001b[36m128\u001b[0m - \u001b[1mSearch successful: Found 3 result(s).\u001b[0m\n",
      "\u001b[32m2025-01-03 16:14:31.000\u001b[0m | \u001b[1mINFO    \u001b[0m | \u001b[36msuper_helper\u001b[0m:\u001b[36msearch_index\u001b[0m:\u001b[36m130\u001b[0m - \u001b[1m1. Project Id: 37887@test, File CID: QmV1vYkuiwKGPA5Tyi4ECNFfWYocyTtQ3E5j7CSvPBX49Q, Metadata CID: QmVgt2KLZN59CbU1yvpAApZRi55QVZNhAYMG5fshz9JTsG, Title: deep learning in insurance: accuracy and model interpretability using tabnet\u001b[0m\n",
      "\u001b[32m2025-01-03 16:14:31.002\u001b[0m | \u001b[1mINFO    \u001b[0m | \u001b[36msuper_helper\u001b[0m:\u001b[36msearch_index\u001b[0m:\u001b[36m130\u001b[0m - \u001b[1m2. Project Id: 37887@test, File CID: QmUq29KRwpTdvScB5oYzEDobDHyb4N1f9eaZXm4VaMCgiW, Metadata CID: QmYzddjum6j9Gq4iAgmh5YLhP5PvpqbDraAWeakektgFP8, Title: covid19-mlsf: a multi-task learning-based stock market forecasting framework during the covid-19 pandemic\u001b[0m\n",
      "\u001b[32m2025-01-03 16:14:31.003\u001b[0m | \u001b[1mINFO    \u001b[0m | \u001b[36msuper_helper\u001b[0m:\u001b[36msearch_index\u001b[0m:\u001b[36m130\u001b[0m - \u001b[1m3. Project Id: 37887@test, File CID: QmT7ximApXtExAedhzUHGHDwRismRzuKykpH4dgTvGrNZs, Metadata CID: QmUoWr9QLUf4A6XmZJ8RSAUWu5BhKELcdh6pTyfDRNx9jj, Title: diabetic retinopathy identification using parallel convolutional neural network based feature extractor and elm classifier\u001b[0m\n"
     ]
    },
    {
     "name": "stdout",
     "output_type": "stream",
     "text": [
      "['37887@test', '37887@test', '37887@test']\n",
      "37887@test\n"
     ]
    }
   ],
   "source": [
    "\n",
    "# Open an existing index (adjust the path to your index directory)\n",
    "index_path = \"indexdir\"\n",
    "index = open_dir(index_path)\n",
    "\n",
    "# Perform a keyword search\n",
    "keyword = \"paper\"\n",
    "# results = search_index(index, keyword)\n",
    "\n",
    "search_results, project_ids = search_index(index, keyword)\n",
    "\n",
    "print(project_ids)  # Will print a list of extracted project IDs\n",
    "\n",
    "first_dict = project_ids[0]\n",
    "\n",
    "print(first_dict)\n",
    "\n",
    "# Convert project_ids to a set to remove duplicates\n",
    "# unique_project_ids = set(project_ids)\n",
    "# print(unique_project_ids)"
   ]
  },
  {
   "cell_type": "code",
   "execution_count": 7,
   "id": "fe8d9292",
   "metadata": {},
   "outputs": [
    {
     "name": "stderr",
     "output_type": "stream",
     "text": [
      "\u001b[32m2025-01-03 16:14:31.024\u001b[0m | \u001b[1mINFO    \u001b[0m | \u001b[36msuper_helper\u001b[0m:\u001b[36msearch_index\u001b[0m:\u001b[36m116\u001b[0m - \u001b[1mStarting keyword search...\u001b[0m\n",
      "\u001b[32m2025-01-03 16:14:31.026\u001b[0m | \u001b[1mINFO    \u001b[0m | \u001b[36msuper_helper\u001b[0m:\u001b[36msearch_index\u001b[0m:\u001b[36m117\u001b[0m - \u001b[1mKeyword: 'paper'\u001b[0m\n",
      "\u001b[32m2025-01-03 16:14:31.038\u001b[0m | \u001b[1mINFO    \u001b[0m | \u001b[36msuper_helper\u001b[0m:\u001b[36msearch_index\u001b[0m:\u001b[36m128\u001b[0m - \u001b[1mSearch successful: Found 3 result(s).\u001b[0m\n",
      "\u001b[32m2025-01-03 16:14:31.040\u001b[0m | \u001b[1mINFO    \u001b[0m | \u001b[36msuper_helper\u001b[0m:\u001b[36msearch_index\u001b[0m:\u001b[36m130\u001b[0m - \u001b[1m1. Project Id: 37887@test, File CID: QmV1vYkuiwKGPA5Tyi4ECNFfWYocyTtQ3E5j7CSvPBX49Q, Metadata CID: QmVgt2KLZN59CbU1yvpAApZRi55QVZNhAYMG5fshz9JTsG, Title: deep learning in insurance: accuracy and model interpretability using tabnet\u001b[0m\n",
      "\u001b[32m2025-01-03 16:14:31.043\u001b[0m | \u001b[1mINFO    \u001b[0m | \u001b[36msuper_helper\u001b[0m:\u001b[36msearch_index\u001b[0m:\u001b[36m130\u001b[0m - \u001b[1m2. Project Id: 37887@test, File CID: QmUq29KRwpTdvScB5oYzEDobDHyb4N1f9eaZXm4VaMCgiW, Metadata CID: QmYzddjum6j9Gq4iAgmh5YLhP5PvpqbDraAWeakektgFP8, Title: covid19-mlsf: a multi-task learning-based stock market forecasting framework during the covid-19 pandemic\u001b[0m\n",
      "\u001b[32m2025-01-03 16:14:31.045\u001b[0m | \u001b[1mINFO    \u001b[0m | \u001b[36msuper_helper\u001b[0m:\u001b[36msearch_index\u001b[0m:\u001b[36m130\u001b[0m - \u001b[1m3. Project Id: 37887@test, File CID: QmT7ximApXtExAedhzUHGHDwRismRzuKykpH4dgTvGrNZs, Metadata CID: QmUoWr9QLUf4A6XmZJ8RSAUWu5BhKELcdh6pTyfDRNx9jj, Title: diabetic retinopathy identification using parallel convolutional neural network based feature extractor and elm classifier\u001b[0m\n",
      "DEBUG:root:Validating CID: QmV1vYkuiwKGPA5Tyi4ECNFfWYocyTtQ3E5j7CSvPBX49Q\n",
      "DEBUG:root:Blockchain Data: {'admin@test': {'file_1': 'QmVk8gxENq6PThSGZTuk7RtbufR2XeN7LtXBj2LVTUoAdN, QmRxGqNkpdBVeq2GmfbK2ZbW1oZyX14VtiYRZnmSq6nnm7', 'file_2': 'QmT7ximApXtExAedhzUHGHDwRismRzuKykpH4dgTvGrNZs, QmUoWr9QLUf4A6XmZJ8RSAUWu5BhKELcdh6pTyfDRNx9jj', 'file_3': 'QmZnh5Uuo7moZKMESFHpRjQFbbND5e3nArCzZg8uLARAgg, QmR8TDkLuMV2QF2v8RavtRh5F3c8WCNer5KoWK9LZK2cur', 'file_4': 'QmUq29KRwpTdvScB5oYzEDobDHyb4N1f9eaZXm4VaMCgiW, QmYzddjum6j9Gq4iAgmh5YLhP5PvpqbDraAWeakektgFP8', 'file_5': 'QmV1vYkuiwKGPA5Tyi4ECNFfWYocyTtQ3E5j7CSvPBX49Q, QmVgt2KLZN59CbU1yvpAApZRi55QVZNhAYMG5fshz9JTsG', 'project_metadata_cid': 'QmT1cPcYNcGntxCc2goVmkJuQG9EdVthjvG6SVNs7WCXc8'}}\n",
      "DEBUG:root:Admin Data: {'file_1': 'QmVk8gxENq6PThSGZTuk7RtbufR2XeN7LtXBj2LVTUoAdN, QmRxGqNkpdBVeq2GmfbK2ZbW1oZyX14VtiYRZnmSq6nnm7', 'file_2': 'QmT7ximApXtExAedhzUHGHDwRismRzuKykpH4dgTvGrNZs, QmUoWr9QLUf4A6XmZJ8RSAUWu5BhKELcdh6pTyfDRNx9jj', 'file_3': 'QmZnh5Uuo7moZKMESFHpRjQFbbND5e3nArCzZg8uLARAgg, QmR8TDkLuMV2QF2v8RavtRh5F3c8WCNer5KoWK9LZK2cur', 'file_4': 'QmUq29KRwpTdvScB5oYzEDobDHyb4N1f9eaZXm4VaMCgiW, QmYzddjum6j9Gq4iAgmh5YLhP5PvpqbDraAWeakektgFP8', 'file_5': 'QmV1vYkuiwKGPA5Tyi4ECNFfWYocyTtQ3E5j7CSvPBX49Q, QmVgt2KLZN59CbU1yvpAApZRi55QVZNhAYMG5fshz9JTsG', 'project_metadata_cid': 'QmT1cPcYNcGntxCc2goVmkJuQG9EdVthjvG6SVNs7WCXc8'}\n",
      "DEBUG:root:Checking Key: file_1, Encoded CIDs: QmVk8gxENq6PThSGZTuk7RtbufR2XeN7LtXBj2LVTUoAdN, QmRxGqNkpdBVeq2GmfbK2ZbW1oZyX14VtiYRZnmSq6nnm7\n",
      "DEBUG:root:Parsed CIDs: ['QmVk8gxENq6PThSGZTuk7RtbufR2XeN7LtXBj2LVTUoAdN', 'QmRxGqNkpdBVeq2GmfbK2ZbW1oZyX14VtiYRZnmSq6nnm7']\n",
      "DEBUG:root:Checking Key: file_2, Encoded CIDs: QmT7ximApXtExAedhzUHGHDwRismRzuKykpH4dgTvGrNZs, QmUoWr9QLUf4A6XmZJ8RSAUWu5BhKELcdh6pTyfDRNx9jj\n",
      "DEBUG:root:Parsed CIDs: ['QmT7ximApXtExAedhzUHGHDwRismRzuKykpH4dgTvGrNZs', 'QmUoWr9QLUf4A6XmZJ8RSAUWu5BhKELcdh6pTyfDRNx9jj']\n",
      "DEBUG:root:Checking Key: file_3, Encoded CIDs: QmZnh5Uuo7moZKMESFHpRjQFbbND5e3nArCzZg8uLARAgg, QmR8TDkLuMV2QF2v8RavtRh5F3c8WCNer5KoWK9LZK2cur\n",
      "DEBUG:root:Parsed CIDs: ['QmZnh5Uuo7moZKMESFHpRjQFbbND5e3nArCzZg8uLARAgg', 'QmR8TDkLuMV2QF2v8RavtRh5F3c8WCNer5KoWK9LZK2cur']\n",
      "DEBUG:root:Checking Key: file_4, Encoded CIDs: QmUq29KRwpTdvScB5oYzEDobDHyb4N1f9eaZXm4VaMCgiW, QmYzddjum6j9Gq4iAgmh5YLhP5PvpqbDraAWeakektgFP8\n",
      "DEBUG:root:Parsed CIDs: ['QmUq29KRwpTdvScB5oYzEDobDHyb4N1f9eaZXm4VaMCgiW', 'QmYzddjum6j9Gq4iAgmh5YLhP5PvpqbDraAWeakektgFP8']\n",
      "DEBUG:root:Checking Key: file_5, Encoded CIDs: QmV1vYkuiwKGPA5Tyi4ECNFfWYocyTtQ3E5j7CSvPBX49Q, QmVgt2KLZN59CbU1yvpAApZRi55QVZNhAYMG5fshz9JTsG\n",
      "DEBUG:root:Parsed CIDs: ['QmV1vYkuiwKGPA5Tyi4ECNFfWYocyTtQ3E5j7CSvPBX49Q', 'QmVgt2KLZN59CbU1yvpAApZRi55QVZNhAYMG5fshz9JTsG']\n",
      "INFO:root:Match found for CID: QmV1vYkuiwKGPA5Tyi4ECNFfWYocyTtQ3E5j7CSvPBX49Q\n",
      "DEBUG:root:Validating CID: QmUq29KRwpTdvScB5oYzEDobDHyb4N1f9eaZXm4VaMCgiW\n",
      "DEBUG:root:Blockchain Data: {'admin@test': {'file_1': 'QmVk8gxENq6PThSGZTuk7RtbufR2XeN7LtXBj2LVTUoAdN, QmRxGqNkpdBVeq2GmfbK2ZbW1oZyX14VtiYRZnmSq6nnm7', 'file_2': 'QmT7ximApXtExAedhzUHGHDwRismRzuKykpH4dgTvGrNZs, QmUoWr9QLUf4A6XmZJ8RSAUWu5BhKELcdh6pTyfDRNx9jj', 'file_3': 'QmZnh5Uuo7moZKMESFHpRjQFbbND5e3nArCzZg8uLARAgg, QmR8TDkLuMV2QF2v8RavtRh5F3c8WCNer5KoWK9LZK2cur', 'file_4': 'QmUq29KRwpTdvScB5oYzEDobDHyb4N1f9eaZXm4VaMCgiW, QmYzddjum6j9Gq4iAgmh5YLhP5PvpqbDraAWeakektgFP8', 'file_5': 'QmV1vYkuiwKGPA5Tyi4ECNFfWYocyTtQ3E5j7CSvPBX49Q, QmVgt2KLZN59CbU1yvpAApZRi55QVZNhAYMG5fshz9JTsG', 'project_metadata_cid': 'QmT1cPcYNcGntxCc2goVmkJuQG9EdVthjvG6SVNs7WCXc8'}}\n",
      "DEBUG:root:Admin Data: {'file_1': 'QmVk8gxENq6PThSGZTuk7RtbufR2XeN7LtXBj2LVTUoAdN, QmRxGqNkpdBVeq2GmfbK2ZbW1oZyX14VtiYRZnmSq6nnm7', 'file_2': 'QmT7ximApXtExAedhzUHGHDwRismRzuKykpH4dgTvGrNZs, QmUoWr9QLUf4A6XmZJ8RSAUWu5BhKELcdh6pTyfDRNx9jj', 'file_3': 'QmZnh5Uuo7moZKMESFHpRjQFbbND5e3nArCzZg8uLARAgg, QmR8TDkLuMV2QF2v8RavtRh5F3c8WCNer5KoWK9LZK2cur', 'file_4': 'QmUq29KRwpTdvScB5oYzEDobDHyb4N1f9eaZXm4VaMCgiW, QmYzddjum6j9Gq4iAgmh5YLhP5PvpqbDraAWeakektgFP8', 'file_5': 'QmV1vYkuiwKGPA5Tyi4ECNFfWYocyTtQ3E5j7CSvPBX49Q, QmVgt2KLZN59CbU1yvpAApZRi55QVZNhAYMG5fshz9JTsG', 'project_metadata_cid': 'QmT1cPcYNcGntxCc2goVmkJuQG9EdVthjvG6SVNs7WCXc8'}\n",
      "DEBUG:root:Checking Key: file_1, Encoded CIDs: QmVk8gxENq6PThSGZTuk7RtbufR2XeN7LtXBj2LVTUoAdN, QmRxGqNkpdBVeq2GmfbK2ZbW1oZyX14VtiYRZnmSq6nnm7\n",
      "DEBUG:root:Parsed CIDs: ['QmVk8gxENq6PThSGZTuk7RtbufR2XeN7LtXBj2LVTUoAdN', 'QmRxGqNkpdBVeq2GmfbK2ZbW1oZyX14VtiYRZnmSq6nnm7']\n",
      "DEBUG:root:Checking Key: file_2, Encoded CIDs: QmT7ximApXtExAedhzUHGHDwRismRzuKykpH4dgTvGrNZs, QmUoWr9QLUf4A6XmZJ8RSAUWu5BhKELcdh6pTyfDRNx9jj\n",
      "DEBUG:root:Parsed CIDs: ['QmT7ximApXtExAedhzUHGHDwRismRzuKykpH4dgTvGrNZs', 'QmUoWr9QLUf4A6XmZJ8RSAUWu5BhKELcdh6pTyfDRNx9jj']\n",
      "DEBUG:root:Checking Key: file_3, Encoded CIDs: QmZnh5Uuo7moZKMESFHpRjQFbbND5e3nArCzZg8uLARAgg, QmR8TDkLuMV2QF2v8RavtRh5F3c8WCNer5KoWK9LZK2cur\n",
      "DEBUG:root:Parsed CIDs: ['QmZnh5Uuo7moZKMESFHpRjQFbbND5e3nArCzZg8uLARAgg', 'QmR8TDkLuMV2QF2v8RavtRh5F3c8WCNer5KoWK9LZK2cur']\n",
      "DEBUG:root:Checking Key: file_4, Encoded CIDs: QmUq29KRwpTdvScB5oYzEDobDHyb4N1f9eaZXm4VaMCgiW, QmYzddjum6j9Gq4iAgmh5YLhP5PvpqbDraAWeakektgFP8\n",
      "DEBUG:root:Parsed CIDs: ['QmUq29KRwpTdvScB5oYzEDobDHyb4N1f9eaZXm4VaMCgiW', 'QmYzddjum6j9Gq4iAgmh5YLhP5PvpqbDraAWeakektgFP8']\n",
      "INFO:root:Match found for CID: QmUq29KRwpTdvScB5oYzEDobDHyb4N1f9eaZXm4VaMCgiW\n",
      "DEBUG:root:Validating CID: QmT7ximApXtExAedhzUHGHDwRismRzuKykpH4dgTvGrNZs\n",
      "DEBUG:root:Blockchain Data: {'admin@test': {'file_1': 'QmVk8gxENq6PThSGZTuk7RtbufR2XeN7LtXBj2LVTUoAdN, QmRxGqNkpdBVeq2GmfbK2ZbW1oZyX14VtiYRZnmSq6nnm7', 'file_2': 'QmT7ximApXtExAedhzUHGHDwRismRzuKykpH4dgTvGrNZs, QmUoWr9QLUf4A6XmZJ8RSAUWu5BhKELcdh6pTyfDRNx9jj', 'file_3': 'QmZnh5Uuo7moZKMESFHpRjQFbbND5e3nArCzZg8uLARAgg, QmR8TDkLuMV2QF2v8RavtRh5F3c8WCNer5KoWK9LZK2cur', 'file_4': 'QmUq29KRwpTdvScB5oYzEDobDHyb4N1f9eaZXm4VaMCgiW, QmYzddjum6j9Gq4iAgmh5YLhP5PvpqbDraAWeakektgFP8', 'file_5': 'QmV1vYkuiwKGPA5Tyi4ECNFfWYocyTtQ3E5j7CSvPBX49Q, QmVgt2KLZN59CbU1yvpAApZRi55QVZNhAYMG5fshz9JTsG', 'project_metadata_cid': 'QmT1cPcYNcGntxCc2goVmkJuQG9EdVthjvG6SVNs7WCXc8'}}\n",
      "DEBUG:root:Admin Data: {'file_1': 'QmVk8gxENq6PThSGZTuk7RtbufR2XeN7LtXBj2LVTUoAdN, QmRxGqNkpdBVeq2GmfbK2ZbW1oZyX14VtiYRZnmSq6nnm7', 'file_2': 'QmT7ximApXtExAedhzUHGHDwRismRzuKykpH4dgTvGrNZs, QmUoWr9QLUf4A6XmZJ8RSAUWu5BhKELcdh6pTyfDRNx9jj', 'file_3': 'QmZnh5Uuo7moZKMESFHpRjQFbbND5e3nArCzZg8uLARAgg, QmR8TDkLuMV2QF2v8RavtRh5F3c8WCNer5KoWK9LZK2cur', 'file_4': 'QmUq29KRwpTdvScB5oYzEDobDHyb4N1f9eaZXm4VaMCgiW, QmYzddjum6j9Gq4iAgmh5YLhP5PvpqbDraAWeakektgFP8', 'file_5': 'QmV1vYkuiwKGPA5Tyi4ECNFfWYocyTtQ3E5j7CSvPBX49Q, QmVgt2KLZN59CbU1yvpAApZRi55QVZNhAYMG5fshz9JTsG', 'project_metadata_cid': 'QmT1cPcYNcGntxCc2goVmkJuQG9EdVthjvG6SVNs7WCXc8'}\n",
      "DEBUG:root:Checking Key: file_1, Encoded CIDs: QmVk8gxENq6PThSGZTuk7RtbufR2XeN7LtXBj2LVTUoAdN, QmRxGqNkpdBVeq2GmfbK2ZbW1oZyX14VtiYRZnmSq6nnm7\n",
      "DEBUG:root:Parsed CIDs: ['QmVk8gxENq6PThSGZTuk7RtbufR2XeN7LtXBj2LVTUoAdN', 'QmRxGqNkpdBVeq2GmfbK2ZbW1oZyX14VtiYRZnmSq6nnm7']\n",
      "DEBUG:root:Checking Key: file_2, Encoded CIDs: QmT7ximApXtExAedhzUHGHDwRismRzuKykpH4dgTvGrNZs, QmUoWr9QLUf4A6XmZJ8RSAUWu5BhKELcdh6pTyfDRNx9jj\n",
      "DEBUG:root:Parsed CIDs: ['QmT7ximApXtExAedhzUHGHDwRismRzuKykpH4dgTvGrNZs', 'QmUoWr9QLUf4A6XmZJ8RSAUWu5BhKELcdh6pTyfDRNx9jj']\n",
      "INFO:root:Match found for CID: QmT7ximApXtExAedhzUHGHDwRismRzuKykpH4dgTvGrNZs\n"
     ]
    },
    {
     "name": "stdout",
     "output_type": "stream",
     "text": [
      "37887@test\n",
      "QmV1vYkuiwKGPA5Tyi4ECNFfWYocyTtQ3E5j7CSvPBX49Q\n",
      "QmVgt2KLZN59CbU1yvpAApZRi55QVZNhAYMG5fshz9JTsG\n",
      "{ \"admin@test\" : { \"file_1\" : \"QmVk8gxENq6PThSGZTuk7RtbufR2XeN7LtXBj2LVTUoAdN, QmRxGqNkpdBVeq2GmfbK2ZbW1oZyX14VtiYRZnmSq6nnm7\", \"file_2\" : \"QmT7ximApXtExAedhzUHGHDwRismRzuKykpH4dgTvGrNZs, QmUoWr9QLUf4A6XmZJ8RSAUWu5BhKELcdh6pTyfDRNx9jj\", \"file_3\" : \"QmZnh5Uuo7moZKMESFHpRjQFbbND5e3nArCzZg8uLARAgg, QmR8TDkLuMV2QF2v8RavtRh5F3c8WCNer5KoWK9LZK2cur\", \"file_4\" : \"QmUq29KRwpTdvScB5oYzEDobDHyb4N1f9eaZXm4VaMCgiW, QmYzddjum6j9Gq4iAgmh5YLhP5PvpqbDraAWeakektgFP8\", \"file_5\" : \"QmV1vYkuiwKGPA5Tyi4ECNFfWYocyTtQ3E5j7CSvPBX49Q, QmVgt2KLZN59CbU1yvpAApZRi55QVZNhAYMG5fshz9JTsG\", \"project_metadata_cid\" : \"QmT1cPcYNcGntxCc2goVmkJuQG9EdVthjvG6SVNs7WCXc8\" } }\n",
      "File is valid.\n",
      "37887@test\n",
      "QmUq29KRwpTdvScB5oYzEDobDHyb4N1f9eaZXm4VaMCgiW\n",
      "QmYzddjum6j9Gq4iAgmh5YLhP5PvpqbDraAWeakektgFP8\n",
      "{ \"admin@test\" : { \"file_1\" : \"QmVk8gxENq6PThSGZTuk7RtbufR2XeN7LtXBj2LVTUoAdN, QmRxGqNkpdBVeq2GmfbK2ZbW1oZyX14VtiYRZnmSq6nnm7\", \"file_2\" : \"QmT7ximApXtExAedhzUHGHDwRismRzuKykpH4dgTvGrNZs, QmUoWr9QLUf4A6XmZJ8RSAUWu5BhKELcdh6pTyfDRNx9jj\", \"file_3\" : \"QmZnh5Uuo7moZKMESFHpRjQFbbND5e3nArCzZg8uLARAgg, QmR8TDkLuMV2QF2v8RavtRh5F3c8WCNer5KoWK9LZK2cur\", \"file_4\" : \"QmUq29KRwpTdvScB5oYzEDobDHyb4N1f9eaZXm4VaMCgiW, QmYzddjum6j9Gq4iAgmh5YLhP5PvpqbDraAWeakektgFP8\", \"file_5\" : \"QmV1vYkuiwKGPA5Tyi4ECNFfWYocyTtQ3E5j7CSvPBX49Q, QmVgt2KLZN59CbU1yvpAApZRi55QVZNhAYMG5fshz9JTsG\", \"project_metadata_cid\" : \"QmT1cPcYNcGntxCc2goVmkJuQG9EdVthjvG6SVNs7WCXc8\" } }\n",
      "File is valid.\n",
      "37887@test\n",
      "QmT7ximApXtExAedhzUHGHDwRismRzuKykpH4dgTvGrNZs\n",
      "QmUoWr9QLUf4A6XmZJ8RSAUWu5BhKELcdh6pTyfDRNx9jj\n",
      "{ \"admin@test\" : { \"file_1\" : \"QmVk8gxENq6PThSGZTuk7RtbufR2XeN7LtXBj2LVTUoAdN, QmRxGqNkpdBVeq2GmfbK2ZbW1oZyX14VtiYRZnmSq6nnm7\", \"file_2\" : \"QmT7ximApXtExAedhzUHGHDwRismRzuKykpH4dgTvGrNZs, QmUoWr9QLUf4A6XmZJ8RSAUWu5BhKELcdh6pTyfDRNx9jj\", \"file_3\" : \"QmZnh5Uuo7moZKMESFHpRjQFbbND5e3nArCzZg8uLARAgg, QmR8TDkLuMV2QF2v8RavtRh5F3c8WCNer5KoWK9LZK2cur\", \"file_4\" : \"QmUq29KRwpTdvScB5oYzEDobDHyb4N1f9eaZXm4VaMCgiW, QmYzddjum6j9Gq4iAgmh5YLhP5PvpqbDraAWeakektgFP8\", \"file_5\" : \"QmV1vYkuiwKGPA5Tyi4ECNFfWYocyTtQ3E5j7CSvPBX49Q, QmVgt2KLZN59CbU1yvpAApZRi55QVZNhAYMG5fshz9JTsG\", \"project_metadata_cid\" : \"QmT1cPcYNcGntxCc2goVmkJuQG9EdVthjvG6SVNs7WCXc8\" } }\n",
      "File is valid.\n"
     ]
    }
   ],
   "source": [
    "search_results, project_ids_with_cids = search_index(index, keyword)\n",
    "\n",
    "# Now you can directly access each dictionary from 'search_results'\n",
    "for dict in search_results:\n",
    "    project_id = dict['project_id']\n",
    "    print(dict['project_id'])\n",
    "    file_cid = dict['file_cid']\n",
    "    print(dict['file_cid'])\n",
    "    metadata_cid = dict['metadata_cid']\n",
    "    print(dict['metadata_cid'])\n",
    "    project_details = get_account_detail(dict['project_id'])\n",
    "    print(project_details)\n",
    "    \n",
    "    blockchain_data = json.loads(project_details)\n",
    "    \n",
    "    result = validate_file_cid(file_cid, blockchain_data)\n",
    "\n",
    "    if result:\n",
    "        print(\"File is valid.\")\n",
    "    else:\n",
    "        print(\"File is invalid.\")"
   ]
  }
 ],
 "metadata": {
  "kernelspec": {
   "display_name": "Python 3 (ipykernel)",
   "language": "python",
   "name": "python3"
  },
  "language_info": {
   "codemirror_mode": {
    "name": "ipython",
    "version": 3
   },
   "file_extension": ".py",
   "mimetype": "text/x-python",
   "name": "python",
   "nbconvert_exporter": "python",
   "pygments_lexer": "ipython3",
   "version": "3.9.21"
  }
 },
 "nbformat": 4,
 "nbformat_minor": 5
}
