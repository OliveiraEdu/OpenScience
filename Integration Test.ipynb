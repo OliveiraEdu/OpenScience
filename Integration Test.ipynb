{
 "cells": [
  {
   "cell_type": "code",
   "execution_count": 1,
   "id": "79650b49",
   "metadata": {},
   "outputs": [
    {
     "name": "stdout",
     "output_type": "stream",
     "text": [
      "----------------------------------------\n"
     ]
    }
   ],
   "source": [
    "#Deploys the Account Detail smart contract\n",
    "from new_helper import *\n",
    "\n",
    "print(40*\"-\")\n",
    "\n",
    "id = \"07546\"\n",
    "DOMAIN = \"test\"\n",
    "\n",
    "project_id = f\"{id}@{DOMAIN}\""
   ]
  },
  {
   "cell_type": "code",
   "execution_count": null,
   "id": "4d0d0bcb",
   "metadata": {},
   "outputs": [
    {
     "ename": "TypeError",
     "evalue": "process_files() takes 2 positional arguments but 3 were given",
     "output_type": "error",
     "traceback": [
      "\u001b[0;31m---------------------------------------------------------------------------\u001b[0m",
      "\u001b[0;31mTypeError\u001b[0m                                 Traceback (most recent call last)",
      "Cell \u001b[0;32mIn[2], line 7\u001b[0m\n\u001b[1;32m      3\u001b[0m \u001b[38;5;28;01mfrom\u001b[39;00m \u001b[38;5;21;01mnew_helper\u001b[39;00m \u001b[38;5;28;01mimport\u001b[39;00m \u001b[38;5;241m*\u001b[39m\n\u001b[1;32m      5\u001b[0m directory_path \u001b[38;5;241m=\u001b[39m \u001b[38;5;124m\"\u001b[39m\u001b[38;5;124mupload.old/\u001b[39m\u001b[38;5;124m\"\u001b[39m\n\u001b[0;32m----> 7\u001b[0m processed_data \u001b[38;5;241m=\u001b[39m \u001b[43mprocess_files\u001b[49m\u001b[43m(\u001b[49m\u001b[43mdirectory_path\u001b[49m\u001b[43m,\u001b[49m\u001b[43m \u001b[49m\u001b[38;5;28;43mid\u001b[39;49m\u001b[43m,\u001b[49m\u001b[43m \u001b[49m\u001b[43mDOMAIN\u001b[49m\u001b[43m)\u001b[49m\n",
      "\u001b[0;31mTypeError\u001b[0m: process_files() takes 2 positional arguments but 3 were given"
     ]
    }
   ],
   "source": [
    "# Option 10 - Integrated with detail setting\n",
    "\n",
    "from new_helper import *\n",
    "\n",
    "directory_path = \"upload.old/\"\n",
    "\n",
    "processed_data = process_files(directory_path, project_id)\n",
    "    "
   ]
  },
  {
   "cell_type": "code",
   "execution_count": null,
   "id": "96c16c27",
   "metadata": {},
   "outputs": [
    {
     "name": "stdout",
     "output_type": "stream",
     "text": [
      "Project Account id = 07546@test, { \"admin@test\" : { \"file_1\" : \"QmT7ximApXtExAedhzUHGHDwRismRzuKykpH4dgTvGrNZs, QmNdYB2qeaCHuxA5W5kkY84UF7vTE4TUBSB7YB7FbQ7dxC\", \"file_10\" : \"QmRA3NWM82ZGynMbYzAgYTSXCVM14Wx1RZ8fKP42G6gjgj, QmRU9AkPhGSZESPeADSUmfLeGKdw2BVDpB22bEYQpY9nd1\", \"file_11\" : \"QmTLZSqzPexwEdniZXLPN6fUfmEXX6MXS3b4QjKURgxc9y, QmZyZHKpSDEBKaGXDaQvvSEovJAr9WqNzhBvuBJLcgt1sa\", \"file_12\" : \"QmeBTz4ZwyqPkPigpASZ3wJodBXzJRpeXQMwNcsWRqU5Jv, QmPDE69isvBDk8gaMYWCWNE7KoqVs746oejZixveLC6qjs\", \"file_2\" : \"QmdiRawzVNUiB28ENKQ7WefeFLEJ1xMjsJjwtHL2jnJ9xW, QmNau427fGvSVa9Ni8iaRmp1iZWZGoFXQMmwVEiKt3hKNz\", \"file_3\" : \"QmXquoApMLCcauNkz4tYw1Sp2tsqZ4edv1YtnQi5pmbw6C, QmdftZFwSyu4KwrvfRcMprax7rwyyPEdzZmp5p2THgSFUb\", \"file_4\" : \"QmXh37WXcrLXkJX2cAPjbPdKZ2cxJXD58XX6eU1Zc41ka4, QmVrzEvtahUb19ZYvja6HozBi8stp8T8mUK3jG1uZ59TKp\", \"file_5\" : \"QmZnh5Uuo7moZKMESFHpRjQFbbND5e3nArCzZg8uLARAgg, QmPuucxrqUWK3ScBgVQSZ4ujC4LQR4k5nJ85926SdYNNFg\", \"file_6\" : \"QmUq29KRwpTdvScB5oYzEDobDHyb4N1f9eaZXm4VaMCgiW, QmS9WLHWGBfACPA5WR8yVoESxXNTMtDiE6nfXVnf6T69QR\", \"file_7\" : \"QmSSY49SnmbCZ3oSaTki7CYZe1ZaWZfE1CsWHpt8Ge7acJ, QmRi3XcvRxe1TV9XuvFPXJi4BkZqfsYNJH2mwyrMkLBDXf\", \"file_8\" : \"QmV1vYkuiwKGPA5Tyi4ECNFfWYocyTtQ3E5j7CSvPBX49Q, QmPWNW7i9xDDTa2CXGDkf46jgmhEcmqXfFMz2n7XBymvo1\", \"file_9\" : \"QmVTTcqbGvYRn7n7uPYwk4vi8NdbeYvnZkX9MVT3byrAx2, QmcWgzSiJFTP8ju4bh4bVheppZxb7332LDmGNK3LWxoe92\", \"project_metadata_cid\" : \"Qmbvikqo3MSMhS5yX1R1vjcrjaMvBFQyUTfRV45iFkKuDr\" } }\n"
     ]
    }
   ],
   "source": [
    "#Query - GetAccountDetail\n",
    "\n",
    "query = iroha.query('GetAccountDetail',account_id=f\"{id}@{DOMAIN}\")\n",
    "IrohaCrypto.sign_query(query, ADMIN_PRIVATE_KEY)\n",
    "response = net.send_query(query)\n",
    "data = response.account_detail_response\n",
    "details = data.detail\n",
    "# ic(details)\n",
    "print(f'Project Account id = {id}@{DOMAIN}, {details}')\n"
   ]
  }
 ],
 "metadata": {
  "kernelspec": {
   "display_name": "Python 3 (ipykernel)",
   "language": "python",
   "name": "python3"
  },
  "language_info": {
   "codemirror_mode": {
    "name": "ipython",
    "version": 3
   },
   "file_extension": ".py",
   "mimetype": "text/x-python",
   "name": "python",
   "nbconvert_exporter": "python",
   "pygments_lexer": "ipython3",
   "version": "3.9.20"
  }
 },
 "nbformat": 4,
 "nbformat_minor": 5
}
