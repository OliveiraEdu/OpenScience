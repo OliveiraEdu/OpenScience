{
 "cells": [
  {
   "cell_type": "code",
   "execution_count": 13,
   "id": "79650b49",
   "metadata": {},
   "outputs": [
    {
     "name": "stdout",
     "output_type": "stream",
     "text": [
      "----------------------------------------\n",
      "07546@test\n"
     ]
    }
   ],
   "source": [
    "#Deploys the Account Detail smart contract\n",
    "from new_helper import *\n",
    "\n",
    "print(40*\"-\")\n",
    "\n",
    "id = \"07546\"\n",
    "DOMAIN = \"test\"\n",
    "\n",
    "project_id = f\"{id}@{DOMAIN}\"\n",
    "\n",
    "print(project_id)"
   ]
  },
  {
   "cell_type": "code",
   "execution_count": 14,
   "id": "4d0d0bcb",
   "metadata": {},
   "outputs": [
    {
     "name": "stdout",
     "output_type": "stream",
     "text": [
      "file:  upload.old/Diabetic-retinopathy-identification-using-parallel-convo_2023_Expert-Systems.pdf\n",
      "file name:  Diabetic-retinopathy-identification-using-parallel-convo_2023_Expert-Systems.pdf\n"
     ]
    },
    {
     "name": "stderr",
     "output_type": "stream",
     "text": [
      "\u001b[32m2024-11-23 23:56:34.723\u001b[0m | \u001b[1mINFO    \u001b[0m | \u001b[36msuper_helper\u001b[0m:\u001b[36mindex_metadata\u001b[0m:\u001b[36m118\u001b[0m - \u001b[1mFile indexed\u001b[0m\n"
     ]
    },
    {
     "name": "stdout",
     "output_type": "stream",
     "text": [
      "file cid:  QmT7ximApXtExAedhzUHGHDwRismRzuKykpH4dgTvGrNZs\n",
      "file metadata cid:  QmV6H1XBKcxC38JhPB67ESWJ64C13rGDCjzZVW6E1pds6Y\n",
      "\tEntering \"create_contract\"\n",
      "('STATELESS_VALIDATION_SUCCESS', 1, 0)\n",
      "('ENOUGH_SIGNATURES_COLLECTED', 9, 0)\n",
      "('STATEFUL_VALIDATION_SUCCESS', 3, 0)\n",
      "('COMMITTED', 5, 0)\n",
      "\tLeaving \"create_contract\"\n",
      "\tEntering \"get_engine_receipts_address\"\n",
      "\tLeaving \"get_engine_receipts_address\"\n",
      "\tEntering \"set_account_detail\"\n",
      "None\n",
      "('STATELESS_VALIDATION_SUCCESS', 1, 0)\n",
      "('ENOUGH_SIGNATURES_COLLECTED', 9, 0)\n",
      "('STATEFUL_VALIDATION_SUCCESS', 3, 0)\n",
      "('COMMITTED', 5, 0)\n",
      "\tLeaving \"set_account_detail\"\n",
      "file:  upload.old/Munafò et al. - 2022 - The reproducibility debate is an opportunity, not .pdf\n",
      "file name:  Munafò et al. - 2022 - The reproducibility debate is an opportunity, not .pdf\n"
     ]
    },
    {
     "name": "stderr",
     "output_type": "stream",
     "text": [
      "\u001b[32m2024-11-23 23:56:39.168\u001b[0m | \u001b[1mINFO    \u001b[0m | \u001b[36msuper_helper\u001b[0m:\u001b[36mindex_metadata\u001b[0m:\u001b[36m118\u001b[0m - \u001b[1mFile indexed\u001b[0m\n"
     ]
    },
    {
     "name": "stdout",
     "output_type": "stream",
     "text": [
      "file cid:  QmdiRawzVNUiB28ENKQ7WefeFLEJ1xMjsJjwtHL2jnJ9xW\n",
      "file metadata cid:  QmXaVWX8d67wHGek7SEVQWvJxmB4xSRz8gAEBUEAoZh1jr\n",
      "\tEntering \"set_account_detail\"\n",
      "None\n",
      "('STATELESS_VALIDATION_SUCCESS', 1, 0)\n",
      "('ENOUGH_SIGNATURES_COLLECTED', 9, 0)\n",
      "('STATEFUL_VALIDATION_SUCCESS', 3, 0)\n",
      "('COMMITTED', 5, 0)\n",
      "\tLeaving \"set_account_detail\"\n",
      "file:  upload.old/Mel-Spectrogram-based-advanced-deep-temporal-clusterin_2023_Expert-Systems-w.pdf\n",
      "file name:  Mel-Spectrogram-based-advanced-deep-temporal-clusterin_2023_Expert-Systems-w.pdf\n"
     ]
    },
    {
     "name": "stderr",
     "output_type": "stream",
     "text": [
      "\u001b[32m2024-11-23 23:56:42.313\u001b[0m | \u001b[1mINFO    \u001b[0m | \u001b[36msuper_helper\u001b[0m:\u001b[36mindex_metadata\u001b[0m:\u001b[36m118\u001b[0m - \u001b[1mFile indexed\u001b[0m\n"
     ]
    },
    {
     "name": "stdout",
     "output_type": "stream",
     "text": [
      "file cid:  QmXquoApMLCcauNkz4tYw1Sp2tsqZ4edv1YtnQi5pmbw6C\n",
      "file metadata cid:  QmVaEMXxuoFRsTfiNc9Dy1QomooDCDjCVh7d1ywAY8pvSn\n",
      "\tEntering \"set_account_detail\"\n",
      "None\n",
      "('STATELESS_VALIDATION_SUCCESS', 1, 0)\n",
      "('ENOUGH_SIGNATURES_COLLECTED', 9, 0)\n",
      "('STATEFUL_VALIDATION_SUCCESS', 3, 0)\n",
      "('COMMITTED', 5, 0)\n",
      "\tLeaving \"set_account_detail\"\n",
      "file:  upload.old/Aeroacoustic-airfoil-shape-optimization-enhance_2023_Expert-Systems-with-App.pdf\n",
      "file name:  Aeroacoustic-airfoil-shape-optimization-enhance_2023_Expert-Systems-with-App.pdf\n"
     ]
    },
    {
     "name": "stderr",
     "output_type": "stream",
     "text": [
      "\u001b[32m2024-11-23 23:56:45.440\u001b[0m | \u001b[1mINFO    \u001b[0m | \u001b[36msuper_helper\u001b[0m:\u001b[36mindex_metadata\u001b[0m:\u001b[36m118\u001b[0m - \u001b[1mFile indexed\u001b[0m\n"
     ]
    },
    {
     "name": "stdout",
     "output_type": "stream",
     "text": [
      "file cid:  QmXh37WXcrLXkJX2cAPjbPdKZ2cxJXD58XX6eU1Zc41ka4\n",
      "file metadata cid:  QmTFZNmhkGTTfThAJsG4J1WqLska4vvqyh1ZqBDpZfXHRJ\n",
      "\tEntering \"set_account_detail\"\n",
      "None\n",
      "('STATELESS_VALIDATION_SUCCESS', 1, 0)\n",
      "('ENOUGH_SIGNATURES_COLLECTED', 9, 0)\n"
     ]
    },
    {
     "name": "stderr",
     "output_type": "stream",
     "text": [
      "\u001b[32m2024-11-23 23:56:48.259\u001b[0m | \u001b[1mINFO    \u001b[0m | \u001b[36msuper_helper\u001b[0m:\u001b[36mindex_metadata\u001b[0m:\u001b[36m118\u001b[0m - \u001b[1mFile indexed\u001b[0m\n"
     ]
    },
    {
     "name": "stdout",
     "output_type": "stream",
     "text": [
      "('STATEFUL_VALIDATION_SUCCESS', 3, 0)\n",
      "('COMMITTED', 5, 0)\n",
      "\tLeaving \"set_account_detail\"\n",
      "file:  upload.old/Editorial-Board_2023_Expert-Systems-with-Applications.pdf\n",
      "file name:  Editorial-Board_2023_Expert-Systems-with-Applications.pdf\n",
      "file cid:  QmZnh5Uuo7moZKMESFHpRjQFbbND5e3nArCzZg8uLARAgg\n",
      "file metadata cid:  QmZD6izY3bhx6aVUXfEWfseFJy7aersxgkPDhkxgn5b8yY\n",
      "\tEntering \"set_account_detail\"\n",
      "None\n",
      "('STATELESS_VALIDATION_SUCCESS', 1, 0)\n",
      "('ENOUGH_SIGNATURES_COLLECTED', 9, 0)\n",
      "('STATEFUL_VALIDATION_SUCCESS', 3, 0)\n",
      "('COMMITTED', 5, 0)\n",
      "\tLeaving \"set_account_detail\"\n",
      "file:  upload.old/COVID19-MLSF--A-multi-task-learning-based-stock-market_2023_Expert-Systems-w.pdf\n",
      "file name:  COVID19-MLSF--A-multi-task-learning-based-stock-market_2023_Expert-Systems-w.pdf\n"
     ]
    },
    {
     "name": "stderr",
     "output_type": "stream",
     "text": [
      "\u001b[32m2024-11-23 23:56:51.501\u001b[0m | \u001b[1mINFO    \u001b[0m | \u001b[36msuper_helper\u001b[0m:\u001b[36mindex_metadata\u001b[0m:\u001b[36m118\u001b[0m - \u001b[1mFile indexed\u001b[0m\n"
     ]
    },
    {
     "name": "stdout",
     "output_type": "stream",
     "text": [
      "file cid:  QmUq29KRwpTdvScB5oYzEDobDHyb4N1f9eaZXm4VaMCgiW\n",
      "file metadata cid:  QmU7x5Rto1K8CfCFoC56b9aHMobr6LbsqzrkQReWxhbFXY\n",
      "\tEntering \"set_account_detail\"\n",
      "None\n",
      "('STATELESS_VALIDATION_SUCCESS', 1, 0)\n",
      "('ENOUGH_SIGNATURES_COLLECTED', 9, 0)\n"
     ]
    },
    {
     "name": "stderr",
     "output_type": "stream",
     "text": [
      "\u001b[32m2024-11-23 23:56:54.413\u001b[0m | \u001b[1mINFO    \u001b[0m | \u001b[36msuper_helper\u001b[0m:\u001b[36mindex_metadata\u001b[0m:\u001b[36m118\u001b[0m - \u001b[1mFile indexed\u001b[0m\n"
     ]
    },
    {
     "name": "stdout",
     "output_type": "stream",
     "text": [
      "('STATEFUL_VALIDATION_SUCCESS', 3, 0)\n",
      "('COMMITTED', 5, 0)\n",
      "\tLeaving \"set_account_detail\"\n",
      "file:  upload.old/World_Energy_By_Country_And_Region_1965_to_2023.csv\n",
      "file name:  World_Energy_By_Country_And_Region_1965_to_2023.csv\n",
      "file cid:  QmSSY49SnmbCZ3oSaTki7CYZe1ZaWZfE1CsWHpt8Ge7acJ\n",
      "file metadata cid:  QmaYMfeQuYBi4M7QN7b2WUWZyS6nTBiVzsi4SVKh1wtNFZ\n",
      "\tEntering \"set_account_detail\"\n",
      "None\n",
      "('STATELESS_VALIDATION_SUCCESS', 1, 0)\n",
      "('ENOUGH_SIGNATURES_COLLECTED', 9, 0)\n",
      "('STATEFUL_VALIDATION_SUCCESS', 3, 0)\n",
      "('COMMITTED', 5, 0)\n",
      "\tLeaving \"set_account_detail\"\n",
      "file:  upload.old/Deep-learning-in-insurance--Accuracy-and-model-int_2023_Expert-Systems-with-.pdf\n",
      "file name:  Deep-learning-in-insurance--Accuracy-and-model-int_2023_Expert-Systems-with-.pdf\n"
     ]
    },
    {
     "name": "stderr",
     "output_type": "stream",
     "text": [
      "\u001b[32m2024-11-23 23:56:57.485\u001b[0m | \u001b[1mINFO    \u001b[0m | \u001b[36msuper_helper\u001b[0m:\u001b[36mindex_metadata\u001b[0m:\u001b[36m118\u001b[0m - \u001b[1mFile indexed\u001b[0m\n"
     ]
    },
    {
     "name": "stdout",
     "output_type": "stream",
     "text": [
      "file cid:  QmV1vYkuiwKGPA5Tyi4ECNFfWYocyTtQ3E5j7CSvPBX49Q\n",
      "file metadata cid:  QmR9LbL7TrAB3A3u9vUyDq4tejHxmpq4iYuUT2bjDrVHQV\n",
      "\tEntering \"set_account_detail\"\n",
      "None\n",
      "('STATELESS_VALIDATION_SUCCESS', 1, 0)\n",
      "('ENOUGH_SIGNATURES_COLLECTED', 9, 0)\n"
     ]
    },
    {
     "name": "stderr",
     "output_type": "stream",
     "text": [
      "\u001b[32m2024-11-23 23:57:00.384\u001b[0m | \u001b[31m\u001b[1mERROR   \u001b[0m | \u001b[36mnew_helper\u001b[0m:\u001b[36mprocess_files\u001b[0m:\u001b[36m61\u001b[0m - \u001b[31m\u001b[1mError extracting and normalizing upload.old/Jean-Baptiste_Perronneau_-_Magdaleine_Pinceloup_de_la_Grange,_née_de_Parseval.jpg: 'NoneType' object has no attribute 'strip'\u001b[0m\n",
      "\u001b[32m2024-11-23 23:57:00.498\u001b[0m | \u001b[1mINFO    \u001b[0m | \u001b[36msuper_helper\u001b[0m:\u001b[36mindex_metadata\u001b[0m:\u001b[36m118\u001b[0m - \u001b[1mFile indexed\u001b[0m\n"
     ]
    },
    {
     "name": "stdout",
     "output_type": "stream",
     "text": [
      "('STATEFUL_VALIDATION_SUCCESS', 3, 0)\n",
      "('COMMITTED', 5, 0)\n",
      "\tLeaving \"set_account_detail\"\n",
      "file:  upload.old/Jean-Baptiste_Perronneau_-_Magdaleine_Pinceloup_de_la_Grange,_née_de_Parseval.jpg\n",
      "file name:  Jean-Baptiste_Perronneau_-_Magdaleine_Pinceloup_de_la_Grange,_née_de_Parseval.jpg\n",
      "file cid:  QmVTTcqbGvYRn7n7uPYwk4vi8NdbeYvnZkX9MVT3byrAx2\n",
      "file metadata cid:  QmR9LbL7TrAB3A3u9vUyDq4tejHxmpq4iYuUT2bjDrVHQV\n",
      "\tEntering \"set_account_detail\"\n",
      "None\n",
      "('STATELESS_VALIDATION_SUCCESS', 1, 0)\n",
      "('ENOUGH_SIGNATURES_COLLECTED', 9, 0)\n",
      "('STATEFUL_VALIDATION_SUCCESS', 3, 0)\n",
      "('COMMITTED', 5, 0)\n",
      "\tLeaving \"set_account_detail\"\n",
      "file:  upload.old/bitcoin.pdf\n",
      "file name:  bitcoin.pdf\n"
     ]
    },
    {
     "name": "stderr",
     "output_type": "stream",
     "text": [
      "\u001b[32m2024-11-23 23:57:03.618\u001b[0m | \u001b[1mINFO    \u001b[0m | \u001b[36msuper_helper\u001b[0m:\u001b[36mindex_metadata\u001b[0m:\u001b[36m118\u001b[0m - \u001b[1mFile indexed\u001b[0m\n"
     ]
    },
    {
     "name": "stdout",
     "output_type": "stream",
     "text": [
      "file cid:  QmRA3NWM82ZGynMbYzAgYTSXCVM14Wx1RZ8fKP42G6gjgj\n",
      "file metadata cid:  QmbJmi9ditRe69uhoaUcM3J8U2k3e8hJKwWoRq7iS25eRF\n",
      "\tEntering \"set_account_detail\"\n",
      "None\n",
      "('STATELESS_VALIDATION_SUCCESS', 1, 0)\n",
      "('ENOUGH_SIGNATURES_COLLECTED', 9, 0)\n"
     ]
    },
    {
     "name": "stderr",
     "output_type": "stream",
     "text": [
      "\u001b[32m2024-11-23 23:57:06.623\u001b[0m | \u001b[1mINFO    \u001b[0m | \u001b[36msuper_helper\u001b[0m:\u001b[36mindex_metadata\u001b[0m:\u001b[36m118\u001b[0m - \u001b[1mFile indexed\u001b[0m\n"
     ]
    },
    {
     "name": "stdout",
     "output_type": "stream",
     "text": [
      "('STATEFUL_VALIDATION_SUCCESS', 3, 0)\n",
      "('COMMITTED', 5, 0)\n",
      "\tLeaving \"set_account_detail\"\n",
      "file:  upload.old/Random-feature-selection-using-random-subspace-l_2023_Expert-Systems-with-Ap.pdf\n",
      "file name:  Random-feature-selection-using-random-subspace-l_2023_Expert-Systems-with-Ap.pdf\n",
      "file cid:  QmTLZSqzPexwEdniZXLPN6fUfmEXX6MXS3b4QjKURgxc9y\n",
      "file metadata cid:  QmQUXfr4sSzDQbJpkiEopLPjoaDSfvBJ9t9s9Mp1NfeqT6\n",
      "\tEntering \"set_account_detail\"\n",
      "None\n",
      "('STATELESS_VALIDATION_SUCCESS', 1, 0)\n",
      "('ENOUGH_SIGNATURES_COLLECTED', 9, 0)\n"
     ]
    },
    {
     "name": "stderr",
     "output_type": "stream",
     "text": [
      "\u001b[32m2024-11-23 23:57:09.538\u001b[0m | \u001b[1mINFO    \u001b[0m | \u001b[36msuper_helper\u001b[0m:\u001b[36mindex_metadata\u001b[0m:\u001b[36m118\u001b[0m - \u001b[1mFile indexed\u001b[0m\n"
     ]
    },
    {
     "name": "stdout",
     "output_type": "stream",
     "text": [
      "('STATEFUL_VALIDATION_SUCCESS', 3, 0)\n",
      "('COMMITTED', 5, 0)\n",
      "\tLeaving \"set_account_detail\"\n",
      "file:  upload.old/hello_world.py\n",
      "file name:  hello_world.py\n",
      "file cid:  QmeBTz4ZwyqPkPigpASZ3wJodBXzJRpeXQMwNcsWRqU5Jv\n",
      "file metadata cid:  QmRZY8kn1vdSTr9L23sYXfDE16BFmnXovtD3kkTdaB1X4z\n",
      "\tEntering \"set_account_detail\"\n",
      "None\n",
      "('STATELESS_VALIDATION_SUCCESS', 1, 0)\n",
      "('ENOUGH_SIGNATURES_COLLECTED', 9, 0)\n",
      "('STATEFUL_VALIDATION_SUCCESS', 3, 0)\n",
      "('COMMITTED', 5, 0)\n",
      "\tLeaving \"set_account_detail\"\n"
     ]
    }
   ],
   "source": [
    "# Option 10 - Integrated with detail setting\n",
    "\n",
    "from new_helper import *\n",
    "\n",
    "directory_path = \"upload.old/\"\n",
    "\n",
    "processed_data = process_files(directory_path, project_id)\n",
    "    "
   ]
  },
  {
   "cell_type": "code",
   "execution_count": 15,
   "id": "96c16c27",
   "metadata": {},
   "outputs": [
    {
     "name": "stdout",
     "output_type": "stream",
     "text": [
      "Project Account id = 07546@test, { \"admin@test\" : { \"file_1\" : \"QmT7ximApXtExAedhzUHGHDwRismRzuKykpH4dgTvGrNZs, QmV6H1XBKcxC38JhPB67ESWJ64C13rGDCjzZVW6E1pds6Y\", \"file_10\" : \"QmRA3NWM82ZGynMbYzAgYTSXCVM14Wx1RZ8fKP42G6gjgj, QmbJmi9ditRe69uhoaUcM3J8U2k3e8hJKwWoRq7iS25eRF\", \"file_11\" : \"QmTLZSqzPexwEdniZXLPN6fUfmEXX6MXS3b4QjKURgxc9y, QmQUXfr4sSzDQbJpkiEopLPjoaDSfvBJ9t9s9Mp1NfeqT6\", \"file_12\" : \"QmeBTz4ZwyqPkPigpASZ3wJodBXzJRpeXQMwNcsWRqU5Jv, QmRZY8kn1vdSTr9L23sYXfDE16BFmnXovtD3kkTdaB1X4z\", \"file_2\" : \"QmdiRawzVNUiB28ENKQ7WefeFLEJ1xMjsJjwtHL2jnJ9xW, QmXaVWX8d67wHGek7SEVQWvJxmB4xSRz8gAEBUEAoZh1jr\", \"file_3\" : \"QmXquoApMLCcauNkz4tYw1Sp2tsqZ4edv1YtnQi5pmbw6C, QmVaEMXxuoFRsTfiNc9Dy1QomooDCDjCVh7d1ywAY8pvSn\", \"file_4\" : \"QmXh37WXcrLXkJX2cAPjbPdKZ2cxJXD58XX6eU1Zc41ka4, QmTFZNmhkGTTfThAJsG4J1WqLska4vvqyh1ZqBDpZfXHRJ\", \"file_5\" : \"QmZnh5Uuo7moZKMESFHpRjQFbbND5e3nArCzZg8uLARAgg, QmZD6izY3bhx6aVUXfEWfseFJy7aersxgkPDhkxgn5b8yY\", \"file_6\" : \"QmUq29KRwpTdvScB5oYzEDobDHyb4N1f9eaZXm4VaMCgiW, QmU7x5Rto1K8CfCFoC56b9aHMobr6LbsqzrkQReWxhbFXY\", \"file_7\" : \"QmSSY49SnmbCZ3oSaTki7CYZe1ZaWZfE1CsWHpt8Ge7acJ, QmaYMfeQuYBi4M7QN7b2WUWZyS6nTBiVzsi4SVKh1wtNFZ\", \"file_8\" : \"QmV1vYkuiwKGPA5Tyi4ECNFfWYocyTtQ3E5j7CSvPBX49Q, QmR9LbL7TrAB3A3u9vUyDq4tejHxmpq4iYuUT2bjDrVHQV\", \"file_9\" : \"QmVTTcqbGvYRn7n7uPYwk4vi8NdbeYvnZkX9MVT3byrAx2, QmR9LbL7TrAB3A3u9vUyDq4tejHxmpq4iYuUT2bjDrVHQV\", \"project_metadata_cid\" : \"Qmbvikqo3MSMhS5yX1R1vjcrjaMvBFQyUTfRV45iFkKuDr\" } }\n"
     ]
    }
   ],
   "source": [
    "#Query - GetAccountDetail\n",
    "\n",
    "query = iroha.query('GetAccountDetail',account_id=f\"{id}@{DOMAIN}\")\n",
    "IrohaCrypto.sign_query(query, ADMIN_PRIVATE_KEY)\n",
    "response = net.send_query(query)\n",
    "data = response.account_detail_response\n",
    "details = data.detail\n",
    "# ic(details)\n",
    "print(f'Project Account id = {id}@{DOMAIN}, {details}')\n"
   ]
  },
  {
   "cell_type": "code",
   "execution_count": 18,
   "id": "02b32910",
   "metadata": {},
   "outputs": [
    {
     "name": "stdout",
     "output_type": "stream",
     "text": [
      "\n",
      "Step 4: Searching Metadata by Keyword\n",
      "Search Results (Metadata CIDs): []\n"
     ]
    }
   ],
   "source": [
    "# Step 4: Search Metadata by Keyword\n",
    "keyword = \"blockchain\"  # Replace with an actual keyword relevant to your metadata\n",
    "print(\"\\nStep 4: Searching Metadata by Keyword\")\n",
    "metadata_cids = search_metadata(keyword)\n",
    "print(\"Search Results (Metadata CIDs):\", metadata_cids)"
   ]
  }
 ],
 "metadata": {
  "kernelspec": {
   "display_name": "Python 3",
   "language": "python",
   "name": "python3"
  },
  "language_info": {
   "codemirror_mode": {
    "name": "ipython",
    "version": 3
   },
   "file_extension": ".py",
   "mimetype": "text/x-python",
   "name": "python",
   "nbconvert_exporter": "python",
   "pygments_lexer": "ipython3",
   "version": "3.9.20"
  }
 },
 "nbformat": 4,
 "nbformat_minor": 5
}
