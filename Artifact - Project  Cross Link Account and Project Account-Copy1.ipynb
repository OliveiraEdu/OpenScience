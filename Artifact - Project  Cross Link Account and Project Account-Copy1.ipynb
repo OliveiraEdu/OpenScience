{
 "cells": [
  {
   "cell_type": "markdown",
   "id": "11965914-6a6a-43b4-a793-01a3eda28617",
   "metadata": {},
   "source": [
    "# Artifact - Querying Linked Account and Project accounts"
   ]
  },
  {
   "cell_type": "markdown",
   "id": "0f965815-8625-49cb-9627-267ef1a19069",
   "metadata": {},
   "source": [
    "** For requirements and initial setup go to https://github.com/OliveiraEdu/OpenScience/Readme.md **"
   ]
  },
  {
   "cell_type": "markdown",
   "id": "66cef193-d12a-48e8-b194-d2032e56e75e",
   "metadata": {},
   "source": [
    "1.1 - Initial settings and modules loading"
   ]
  },
  {
   "cell_type": "code",
   "execution_count": 1,
   "id": "96107910-0318-4770-8bbd-a1419537e474",
   "metadata": {
    "editable": true,
    "slideshow": {
     "slide_type": ""
    },
    "tags": []
   },
   "outputs": [],
   "source": [
    "from Crypto.Hash import keccak\n",
    "import os\n",
    "import binascii\n",
    "from iroha import IrohaCrypto\n",
    "from iroha import Iroha, IrohaGrpc\n",
    "from iroha.ed25519 import H\n",
    "import integration_helpers\n",
    "from iroha.primitive_pb2 import can_set_my_account_detail\n",
    "import sys\n",
    "import csv\n",
    "import json\n",
    "\n",
    "if sys.version_info[0] < 3:\n",
    "    raise Exception(\"Python 3 or a more recent version is required.\")\n",
    "\n",
    "# Load configuration from config.json file\n",
    "config_path = \"config.json\"  # Update this path as needed\n",
    "with open(config_path, \"r\") as f:\n",
    "    config = json.load(f)\n",
    "\n",
    "IROHA_HOST_ADDR = config[\"IROHA_HOST_ADDR\"]\n",
    "IROHA_PORT = config[\"IROHA_PORT\"]\n",
    "ADMIN_ACCOUNT_ID = config[\"ADMIN_ACCOUNT_ID\"]\n",
    "ADMIN_PRIVATE_KEY = config[\"ADMIN_PRIVATE_KEY\"]\n",
    "\n",
    "iroha = Iroha(ADMIN_ACCOUNT_ID)\n",
    "net = IrohaGrpc(\"{}:{}\".format(IROHA_HOST_ADDR, IROHA_PORT))"
   ]
  },
  {
   "cell_type": "markdown",
   "id": "c2b074d9-3edc-410d-9972-222d9cbb551f",
   "metadata": {},
   "source": [
    "1.2 -  Contract Deployment"
   ]
  },
  {
   "cell_type": "code",
   "execution_count": 2,
   "id": "151b3677-b262-4e04-9253-4481b1802de7",
   "metadata": {
    "editable": true,
    "slideshow": {
     "slide_type": ""
    },
    "tags": []
   },
   "outputs": [
    {
     "name": "stdout",
     "output_type": "stream",
     "text": [
      "\tEntering \"create_contract\"\n",
      "('STATELESS_VALIDATION_SUCCESS', 1, 0)\n",
      "('ENOUGH_SIGNATURES_COLLECTED', 9, 0)\n",
      "('STATEFUL_VALIDATION_SUCCESS', 3, 0)\n",
      "('COMMITTED', 5, 0)\n",
      "\tLeaving \"create_contract\"\n",
      "\tEntering \"get_engine_receipts_address\"\n",
      "\tLeaving \"get_engine_receipts_address\"\n",
      "\tEntering \"get_engine_receipts_result\"\n",
      "\n",
      "\tLeaving \"get_engine_receipts_result\"\n",
      "done\n"
     ]
    }
   ],
   "source": [
    "@integration_helpers.trace\n",
    "def create_contract():\n",
    "    bytecode = \"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\"\n",
    "    \"\"\"Bytecode was generated using remix editor  https://remix.ethereum.org/ from file detail.sol. \"\"\"\n",
    "    tx = iroha.transaction(\n",
    "        [iroha.command(\"CallEngine\", caller=ADMIN_ACCOUNT_ID, input=bytecode)]\n",
    "    )\n",
    "    IrohaCrypto.sign_transaction(tx, ADMIN_PRIVATE_KEY)\n",
    "    net.send_tx(tx)\n",
    "    hex_hash = binascii.hexlify(IrohaCrypto.hash(tx))\n",
    "    for status in net.tx_status_stream(tx):\n",
    "        print(status)\n",
    "    return hex_hash\n",
    "\n",
    "\n",
    "@integration_helpers.trace\n",
    "def set_account_detail(address, account, variable_1, variable_2):\n",
    "    params = integration_helpers.get_first_four_bytes_of_keccak(\n",
    "        b\"setAccountDetail(string,string,string)\"\n",
    "    )\n",
    "    no_of_param = 3\n",
    "    for x in range(no_of_param):\n",
    "        params = params + integration_helpers.left_padded_address_of_param(\n",
    "            x, no_of_param\n",
    "        )\n",
    "    params = params + integration_helpers.argument_encoding(\n",
    "        entity_id\n",
    "    )  # source user or project account id\n",
    "    params = params + integration_helpers.argument_encoding(variable_1)  # key\n",
    "    params = params + integration_helpers.argument_encoding(variable_2)  #  value\n",
    "    tx = iroha.transaction(\n",
    "        [\n",
    "            iroha.command(\n",
    "                \"CallEngine\", caller=ADMIN_ACCOUNT_ID, callee=address, input=params\n",
    "            )\n",
    "        ]\n",
    "    )\n",
    "    IrohaCrypto.sign_transaction(tx, ADMIN_PRIVATE_KEY)\n",
    "    response = net.send_tx(tx)\n",
    "    print(response)\n",
    "    for status in net.tx_status_stream(tx):\n",
    "        print(status)\n",
    "    hex_hash = binascii.hexlify(IrohaCrypto.hash(tx))\n",
    "    return hex_hash\n",
    "\n",
    "\n",
    "@integration_helpers.trace\n",
    "def get_account_details():\n",
    "    params = integration_helpers.get_first_four_bytes_of_keccak(b\"getAccountDetail()\")\n",
    "    no_of_param = 0\n",
    "    tx = iroha.transaction(\n",
    "        [\n",
    "            iroha.command(\n",
    "                \"CallEngine\", caller=ADMIN_ACCOUNT_ID, callee=address, input=params\n",
    "            )\n",
    "        ]\n",
    "    )\n",
    "    IrohaCrypto.sign_transaction(tx, ADMIN_PRIVATE_KEY)\n",
    "    response = net.send_tx(tx)\n",
    "    for status in net.tx_status_stream(tx):\n",
    "        print(status)\n",
    "    hex_hash = binascii.hexlify(IrohaCrypto.hash(tx))\n",
    "    return hex_hash\n",
    "\n",
    "\n",
    "hash = create_contract()\n",
    "address = integration_helpers.get_engine_receipts_address(hash)\n",
    "integration_helpers.get_engine_receipts_result(hash)\n",
    "print(\"done\")"
   ]
  },
  {
   "cell_type": "markdown",
   "id": "a4ea1051-cb1c-4c29-97e5-38ba90248081",
   "metadata": {},
   "source": [
    "1.3 -  Read User and Project accounts from their respective CSVs, based on the positional index `csv_index`"
   ]
  },
  {
   "cell_type": "code",
   "execution_count": 3,
   "id": "3d2e2f55-b70f-4031-bb48-ae27ebeed482",
   "metadata": {
    "editable": true,
    "slideshow": {
     "slide_type": ""
    },
    "tags": []
   },
   "outputs": [
    {
     "name": "stdout",
     "output_type": "stream",
     "text": [
      "{'account_id': 'agitated_bartik@test'}\n",
      "agitated_bartik@test\n",
      "{'account_id': '40713@test'}\n",
      "40713@test\n"
     ]
    }
   ],
   "source": [
    "# Read user account attributes from a csv\n",
    "def read_user_accounts_from_csv(file_path):\n",
    "    user_accounts = []\n",
    "    with open(file_path, mode='r') as file:\n",
    "        csv_reader = csv.DictReader(file)\n",
    "        for row in csv_reader:\n",
    "            user_accounts.append({\n",
    "                'account_id': row['account_id']\n",
    "            })\n",
    "    return user_accounts\n",
    "\n",
    "# Index for rows in both user account and project account CSVs.\n",
    "csv_index = 0\n",
    "\n",
    "# Path to the CSV file\n",
    "user_accounts_csv_file_path = 'datasets/accounts.csv'\n",
    "\n",
    "# Read accounts from CSV\n",
    "user_accounts = read_user_accounts_from_csv(user_accounts_csv_file_path)\n",
    "\n",
    "# Use the [n] account from the CSV for the example\n",
    "user_account = user_accounts[csv_index]\n",
    "print(user_account)\n",
    "print(user_account['account_id'])\n",
    "# - \n",
    "\n",
    "# Read project account attributes from a csv\n",
    "def read_project_accounts_from_csv(file_path):\n",
    "    project_accounts = []\n",
    "    with open(file_path, mode='r') as file:\n",
    "        csv_reader = csv.DictReader(file)\n",
    "        for row in csv_reader:\n",
    "            project_accounts.append({\n",
    "                'account_id': row['project_id']\n",
    "            })\n",
    "    return project_accounts\n",
    "\n",
    "# Path to the CSV file\n",
    "project_accounts_csv_file_path = 'datasets/projects.csv'\n",
    "\n",
    "# Read accounts from CSV\n",
    "project_accounts = read_project_accounts_from_csv(project_accounts_csv_file_path)\n",
    "\n",
    "# Use the [n] account from the CSV for the example\n",
    "project_account = project_accounts[csv_index]\n",
    "print(project_account)\n",
    "print(project_account['account_id'])\n",
    "\n",
    "# -"
   ]
  },
  {
   "cell_type": "markdown",
   "id": "26e068d0-2247-4fd3-827f-4144b66965e1",
   "metadata": {},
   "source": [
    "1.5 - Sets details for both User and Project accounts providing a logical link between them for later references."
   ]
  },
  {
   "cell_type": "code",
   "execution_count": 4,
   "id": "56f6343e-7a08-4e24-90fe-7aaf22bdc60c",
   "metadata": {},
   "outputs": [
    {
     "name": "stdout",
     "output_type": "stream",
     "text": [
      "agitated_bartik@test\n",
      "\tEntering \"set_account_detail\"\n",
      "None\n",
      "('STATELESS_VALIDATION_SUCCESS', 1, 0)\n",
      "('ENOUGH_SIGNATURES_COLLECTED', 9, 0)\n",
      "('STATEFUL_VALIDATION_SUCCESS', 3, 0)\n",
      "('COMMITTED', 5, 0)\n",
      "\tLeaving \"set_account_detail\"\n",
      "40713@test\n",
      "\tEntering \"set_account_detail\"\n",
      "None\n",
      "('STATELESS_VALIDATION_SUCCESS', 1, 0)\n",
      "('ENOUGH_SIGNATURES_COLLECTED', 9, 0)\n",
      "('STATEFUL_VALIDATION_SUCCESS', 3, 0)\n",
      "('COMMITTED', 5, 0)\n",
      "\tLeaving \"set_account_detail\"\n"
     ]
    }
   ],
   "source": [
    "\n",
    "entity_id = user_account['account_id']\n",
    "print(entity_id)\n",
    "hash = set_account_detail(address, entity_id, \"project\", project_account['account_id'])\n",
    "\n",
    "# print (\"-\" * 20)\n",
    "\n",
    "entity_id = project_account['account_id']\n",
    "print(entity_id)\n",
    "hash = set_account_detail(address, entity_id, \"project_owner\", user_account['account_id'])                   \n"
   ]
  },
  {
   "cell_type": "code",
   "execution_count": 5,
   "id": "142aae56-c7bc-4656-a367-9232ee28625f",
   "metadata": {},
   "outputs": [
    {
     "name": "stdout",
     "output_type": "stream",
     "text": [
      "User Account id = {'account_id': 'agitated_bartik@test'}, details = { \"admin@test\" : { \"project\" : \"40713@test\", \"user_account_email\" : \"agitated_bartik@email.com\", \"user_account_full_name\" : \"Agitated Bartik\", \"user_account_institution\" : \"Pak-AIMS (American Institute of Management Sciences)\", \"user_account_orcid\" : \"6761-5714-3845-X\", \"user_private_key\" : \"b'c7e6254dec78949adb31c86d3fdbc9415621af9f292081d3a455b1ffa756c430'\", \"user_public_key\" : \"8520e544b0afb0708e5b2a591f5ea01a5bf6c5720bcea6a4c1c7f0f138a4f164\" } }\n"
     ]
    }
   ],
   "source": [
    "#Query - GetAccountDetail\n",
    "query = iroha.query('GetAccountDetail',account_id=user_account['account_id'])\n",
    "IrohaCrypto.sign_query(query, ADMIN_PRIVATE_KEY)\n",
    "response = net.send_query(query)\n",
    "data = response.account_detail_response\n",
    "print(f'User Account id = {user_account}, details = {data.detail}')"
   ]
  },
  {
   "cell_type": "markdown",
   "id": "ffa394c5-d7f3-483f-85b7-ade53d08b8d7",
   "metadata": {},
   "source": [
    "1.7 - Queries the user account, locates the project account and queries the project, gets the metadata and files"
   ]
  },
  {
   "cell_type": "code",
   "execution_count": 44,
   "id": "3c5a903a-716b-4f96-ab42-0e73a74da61f",
   "metadata": {},
   "outputs": [
    {
     "name": "stderr",
     "output_type": "stream",
     "text": [
      "ic| account_details_dict: {'admin@test': {'project': '40713@test',\n",
      "                                          'user_account_email': 'agitated_bartik@email.com',\n",
      "                                          'user_account_full_name': 'Agitated Bartik',\n",
      "                                          'user_account_institution': 'Pak-AIMS (American Institute of '\n",
      "                                                                      'Management Sciences)',\n",
      "                                          'user_account_orcid': '6761-5714-3845-X',\n",
      "                                          'user_private_key': \"b'c7e6254dec78949adb31c86d3fdbc9415621af9f292081d3a455b1ffa756c430'\",\n",
      "                                          'user_public_key': '8520e544b0afb0708e5b2a591f5ea01a5bf6c5720bcea6a4c1c7f0f138a4f164'}}\n",
      "ic| files_metadata: {'project': '40713@test',\n",
      "                     'user_account_email': 'agitated_bartik@email.com',\n",
      "                     'user_account_full_name': 'Agitated Bartik',\n",
      "                     'user_account_institution': 'Pak-AIMS (American Institute of Management '\n",
      "                                                 'Sciences)',\n",
      "                     'user_account_orcid': '6761-5714-3845-X',\n",
      "                     'user_private_key': \"b'c7e6254dec78949adb31c86d3fdbc9415621af9f292081d3a455b1ffa756c430'\",\n",
      "                     'user_public_key': '8520e544b0afb0708e5b2a591f5ea01a5bf6c5720bcea6a4c1c7f0f138a4f164'}\n",
      "ic| key: 'project'\n",
      "ic| value: '40713@test'\n",
      "ic| query: payload {\n",
      "             meta {\n",
      "               created_time: 1726533294206\n",
      "               creator_account_id: \"admin@test\"\n",
      "               query_counter: 1\n",
      "             }\n",
      "             get_account_detail {\n",
      "               account_id: \"40713@test\"\n",
      "             }\n",
      "           }\n",
      "ic| response: account_detail_response {\n",
      "                detail: \"{ \\\"admin@test\\\" : { \\\"project_metadata_cid\\\" : \\\"QmUg9Bo7uwH3ummGsnqp9vQoEUwjsaca5EEe3nzbYeaSPQ\\\", \\\"project_owner\\\" : \\\"agitated_bartik@test\\\" } }\"\n",
      "                total_number: 2\n",
      "              }\n",
      "              query_hash: \"2eef383d2f8f69b5c680b07c3c6bb15b90856ebee35888762ffe4e9ad4e0820f\"\n",
      "ic| result: detail: \"{ \\\"admin@test\\\" : { \\\"project_metadata_cid\\\" : \\\"QmUg9Bo7uwH3ummGsnqp9vQoEUwjsaca5EEe3nzbYeaSPQ\\\", \\\"project_owner\\\" : \\\"agitated_bartik@test\\\" } }\"\n",
      "            total_number: 2\n",
      "ic| result.detail: ('{ \"admin@test\" : { \"project_metadata_cid\" : '\n",
      "                    '\"QmUg9Bo7uwH3ummGsnqp9vQoEUwjsaca5EEe3nzbYeaSPQ\", \"project_owner\" : '\n",
      "                    '\"agitated_bartik@test\" } }')\n",
      "ic| details: {'{ \"admin@test\" : { \"project_metadata_cid\" : '\n",
      "              '\"QmUg9Bo7uwH3ummGsnqp9vQoEUwjsaca5EEe3nzbYeaSPQ\", \"project_owner\" : '\n",
      "              '\"agitated_bartik@test\" } }'}\n",
      "ic| details_dict: {'admin@test': {'project_metadata_cid': 'QmUg9Bo7uwH3ummGsnqp9vQoEUwjsaca5EEe3nzbYeaSPQ',\n",
      "                                  'project_owner': 'agitated_bartik@test'}}\n",
      "ic| details_metadata: {'project_metadata_cid': 'QmUg9Bo7uwH3ummGsnqp9vQoEUwjsaca5EEe3nzbYeaSPQ',\n",
      "                       'project_owner': 'agitated_bartik@test'}\n",
      "ic| project_metadata_cid: 'QmUg9Bo7uwH3ummGsnqp9vQoEUwjsaca5EEe3nzbYeaSPQ'\n",
      "ic| project_metadata_json: {'abstract': 'This study aims to investigate the effects of urbanization on '\n",
      "                                        'avian migration patterns and identify potential conservation '\n",
      "                                        'strategies.',\n",
      "                            'end_date': '2022-12-31',\n",
      "                            'funding_agency': 'National Science Foundation',\n",
      "                            'keywords': ['urbanization', 'avian migration', 'conservation'],\n",
      "                            'location': 'San Francisco Bay Area, California, USA',\n",
      "                            'start_date': '2020-01-01',\n",
      "                            'title': 'Assessing the Impact of Urbanization on Avian Migration Patterns'}\n"
     ]
    }
   ],
   "source": [
    "from ipfs_functions import *\n",
    "from clean_file_name import *\n",
    "\n",
    "\n",
    "# Process the account details response\n",
    "account_details_dict = json.loads(data.detail)  # Convert the string to a JSON object\n",
    "ic(account_details_dict)\n",
    "\n",
    "# Get the value of the dictionary (the actual file metadata)\n",
    "files_metadata = account_details_dict['admin@test']\n",
    "ic(files_metadata)\n",
    "\n",
    "\n",
    "for key, value in files_metadata.items():\n",
    "    if 'project' in key:  # Check if this is a file CID\n",
    "        # key = \"project_id\"    \n",
    "        ic(key)\n",
    "        # file_CID = value\n",
    "        ic(value)\n",
    "        #Query - GetAccountDetail\n",
    "        query = iroha.query('GetAccountDetail',account_id = value)\n",
    "        ic(query)\n",
    "        IrohaCrypto.sign_query(query, ADMIN_PRIVATE_KEY)\n",
    "        response = net.send_query(query)\n",
    "        ic(response)\n",
    "        result = response.account_detail_response\n",
    "        ic(result)\n",
    "        ic(result.detail)        \n",
    "        # print(f'Project Account id = {value}, details = {result.detail}')\n",
    "        details = {result.detail}\n",
    "        ic(details)\n",
    "        # Process the account details response\n",
    "        details_dict = json.loads(result.detail)  # Convert the string to a JSON object\n",
    "        ic(details_dict)\n",
    "\n",
    "        # # Get the value of the dictionary (the actual file metadata)\n",
    "        details_metadata = details_dict['admin@test']\n",
    "        ic(details_metadata)\n",
    "        project_metadata_cid = details_metadata['project_metadata_cid']\n",
    "        ic(project_metadata_cid)\n",
    "        project_metadata_json = download_json_from_ipfs(project_metadata_cid)\n",
    "        ic(project_metadata_json)\n",
    "\n",
    "        \n",
    "\n",
    "        \n",
    "#     else:\n",
    "#         print(\"Done\")\n",
    "\n",
    "\n",
    "\n",
    "# for key, value in files_metadata.items():\n",
    "#     if 'project' in key:  # Check if this is a file CID\n",
    "#         key = '_'.join(key.split('_')[:-1])+\"_CID\"    \n",
    "#         ic(key)\n",
    "#         file_CID = value\n",
    "#         ic(value)\n",
    "        \n",
    "#     else:\n",
    "#         file_metadata_key = '_'.join(key.split('_')[:-2])  # Extract the actual filename from the key\n",
    "#         ic(file_metadata_key)\n",
    "#         file_metadata_CID = value  # Get the corresponding metadata CID\n",
    "#         ic(file_metadata_CID)\n",
    "#         # print(f\"Downloading {file_metadata_CID} metadata...\")\n",
    "#         file_metadata_json = download_json_from_ipfs(file_metadata_CID)\n",
    "#         # ic(file_metadata_json)\n",
    "#         if 'resourceName' in file_metadata_json:  # check if key exists in the dictionary\n",
    "#             raw_original_file_name = file_metadata_json['resourceName']\n",
    "#             ic(raw_original_file_name)\n",
    "#             clean_original_file_name = clean_file_name(raw_original_file_name)  # Remove the 'b' prefix and quotes\n",
    "#             ic(clean_original_file_name)\n",
    "\n",
    "#             # Create a home directory for the user with the account ID as the username under /download/\n",
    "#             user_id = account['account_id']\n",
    "#             download_directory = os.path.join(\"download\", user_id)\n",
    "#             if not os.path.exists(download_directory):\n",
    "#                 os.makedirs(download_directory)  # Create the directory if it doesn't exist\n",
    "\n",
    "#             file_path = os.path.join(download_directory, clean_original_file_name)\n",
    "#             download_file_from_ipfs(file_CID, file_path)"
   ]
  },
  {
   "cell_type": "code",
   "execution_count": null,
   "id": "a7411473-ac4a-4fdc-86f8-4036c5fb9fe0",
   "metadata": {},
   "outputs": [],
   "source": []
  },
  {
   "cell_type": "code",
   "execution_count": null,
   "id": "4581ce9a-a1ae-4b44-90c9-34cf50b739e4",
   "metadata": {},
   "outputs": [],
   "source": []
  }
 ],
 "metadata": {
  "kernelspec": {
   "display_name": "Python 3 (ipykernel)",
   "language": "python",
   "name": "python3"
  },
  "language_info": {
   "codemirror_mode": {
    "name": "ipython",
    "version": 3
   },
   "file_extension": ".py",
   "mimetype": "text/x-python",
   "name": "python",
   "nbconvert_exporter": "python",
   "pygments_lexer": "ipython3",
   "version": "3.9.20"
  }
 },
 "nbformat": 4,
 "nbformat_minor": 5
}
