{
 "cells": [
  {
   "cell_type": "code",
   "execution_count": null,
   "id": "bbaf1ac6-1d4b-43ae-bdae-28e93dbb0ac7",
   "metadata": {},
   "outputs": [],
   "source": [
    "System Context Diagram for the Scientific Project Platform"
   ]
  },
  {
   "cell_type": "markdown",
   "id": "9fb5c83b-c972-47a4-bfc8-837080339e89",
   "metadata": {},
   "source": [
    "```mermaid\n",
    "C4Context\n",
    "title System Contex diagram for a Scientific Projects Platform\n",
    "\n",
    "\n",
    "    Person(user, \"User\", \"Any entity with an account in the platform\")\n",
    "\n",
    "    Boundary(b0, \"Platform Boundary\")\n",
    "    {\n",
    "        System(client, \"Client\", \"Provides a user interface and interactions with the persistence elements\")\n",
    "Boundary(c1, \"Persistence Boundary\")\n",
    "                    {\n",
    "                        System(distributed_ledger, \"Distributed Ledger\", \"Records transactions\")\n",
    "                        \n",
    "                        System(IPFS, \"Distributed File System\", \"Stores objects\")\n",
    "\n",
    "                    }\n",
    "    }\n",
    "\n",
    "\n",
    "\n",
    "Rel(user, client,\"Register and manages research project articles and data\")\n",
    "\n",
    "\n",
    "Rel(client, distributed_ledger,\"Register research records and data\")\n",
    "\n",
    "Rel(client, IPFS,\"Stores article files and objects\")\n",
    "\n",
    "Rel(distributed_ledger, IPFS,\"Store objects hashes\")\n",
    "\n",
    "UpdateElementStyle(user, $fontColor=\"black\", $bgColor=\"white\", $borderColor=\"black\")\n",
    "\n",
    "UpdateElementStyle(client,$fontColor=\"black\", $bgColor=\"white\", $borderColor=\"black\")\n",
    "\n",
    "UpdateElementStyle(distributed_ledger,$fontColor=\"black\", $bgColor=\"white\", $borderColor=\"black\")\n",
    "\n",
    "UpdateElementStyle(IPFS,$fontColor=\"black\", $bgColor=\"white\", $borderColor=\"black\")\n",
    "\n",
    "UpdateRelStyle(user, client, $textColor=\"black\", $offsetX=\"-160\",$offsetY=\"-40\")\n",
    "\n",
    "UpdateRelStyle(client, distributed_ledger, $textColor=\"black\", $offsetX=\"-130\",$offsetY=\"-40\")\n",
    "\n",
    "UpdateRelStyle(client, IPFS, $textColor=\"black\", $offsetX=\"0\",$offsetY=\"-40\")\n",
    "\n",
    "UpdateRelStyle(distributed_ledger, IPFS, $textColor=\"black\", $offsetX=\"-40\",$offsetY=\"40\")\n",
    "\n",
    "\n",
    "\n",
    "```"
   ]
  },
  {
   "cell_type": "code",
   "execution_count": null,
   "id": "3224a745-8820-4bf5-8301-f05cb24832ef",
   "metadata": {},
   "outputs": [],
   "source": []
  }
 ],
 "metadata": {
  "kernelspec": {
   "display_name": "Python 3 (ipykernel)",
   "language": "python",
   "name": "python3"
  },
  "language_info": {
   "codemirror_mode": {
    "name": "ipython",
    "version": 3
   },
   "file_extension": ".py",
   "mimetype": "text/x-python",
   "name": "python",
   "nbconvert_exporter": "python",
   "pygments_lexer": "ipython3",
   "version": "3.9.19"
  }
 },
 "nbformat": 4,
 "nbformat_minor": 5
}
