{
 "cells": [
  {
   "cell_type": "markdown",
   "id": "ec853d71-5120-4afc-9f68-3ecd4df6ab47",
   "metadata": {},
   "source": [
    "**IMPORTANT** \n",
    "\n",
    "- For requirements and initial setup go to https://github.com/OliveiraEdu/OpenScience/Readme.md;\n",
    "- To execute the notebook run all cells."
   ]
  },
  {
   "attachments": {},
   "cell_type": "markdown",
   "id": "e5247753-2c03-456c-b55b-2b5512d13561",
   "metadata": {},
   "source": [
    "# Notebook 2 - Open Science Platform - User Account Creation"
   ]
  },
  {
   "cell_type": "code",
   "execution_count": 1,
   "id": "fba1af83-f461-4858-a6d7-c7d036097756",
   "metadata": {},
   "outputs": [],
   "source": [
    "import json\n",
    "import datetime\n",
    "\n",
    "def process_engine_receipts(input_json_file=\"logs/account_data.json\", output_json_file=\"logs/decoded_results.json\"):\n",
    "    try:\n",
    "        # Load the input JSON file\n",
    "        with open(input_json_file, \"r\") as f:\n",
    "            account_data = json.load(f)\n",
    "        \n",
    "        result_data = {}\n",
    "        \n",
    "        # Iterate through each account and its transaction logs\n",
    "        for account, transactions in account_data.items():\n",
    "            result_data[account] = []\n",
    "            \n",
    "            for entry in transactions:\n",
    "                tx_hash = entry[\"hex_hash\"]\n",
    "                timestamp = entry[\"timestamp\"]\n",
    "                \n",
    "                # Convert timestamp to UTC\n",
    "                utc_time = datetime.datetime.utcfromtimestamp(timestamp / 1000).isoformat()\n",
    "                \n",
    "                # Get decoded result from transaction hash\n",
    "                decoded_string = get_engine_receipts_result(tx_hash)\n",
    "                \n",
    "                # Append new data to the result structure\n",
    "                result_data[account].append({\n",
    "                    \"address\": entry[\"address\"],\n",
    "                    \"hex_hash\": tx_hash,\n",
    "                    \"timestamp\": timestamp,\n",
    "                    \"timestamp_utc\": utc_time,\n",
    "                    \"decoded_string\": decoded_string\n",
    "                })\n",
    "        \n",
    "        # Write the output JSON file\n",
    "        with open(output_json_file, \"w\") as f:\n",
    "            json.dump(result_data, f, indent=4)\n",
    "        \n",
    "        logger.info(f\"Decoded results saved to {output_json_file}\")\n",
    "    except Exception as e:\n",
    "        logger.error(f\"Error processing engine receipts: {e}\")\n"
   ]
  },
  {
   "cell_type": "code",
   "execution_count": 2,
   "id": "86b3da4c-3a64-4fb7-8fbc-79f98d4e0d42",
   "metadata": {},
   "outputs": [
    {
     "ename": "NameError",
     "evalue": "name 'logger' is not defined",
     "output_type": "error",
     "traceback": [
      "\u001b[0;31m---------------------------------------------------------------------------\u001b[0m",
      "\u001b[0;31mFileNotFoundError\u001b[0m                         Traceback (most recent call last)",
      "Cell \u001b[0;32mIn[1], line 7\u001b[0m, in \u001b[0;36mprocess_engine_receipts\u001b[0;34m(input_json_file, output_json_file)\u001b[0m\n\u001b[1;32m      5\u001b[0m \u001b[38;5;28;01mtry\u001b[39;00m:\n\u001b[1;32m      6\u001b[0m     \u001b[38;5;66;03m# Load the input JSON file\u001b[39;00m\n\u001b[0;32m----> 7\u001b[0m     \u001b[38;5;28;01mwith\u001b[39;00m \u001b[38;5;28;43mopen\u001b[39;49m\u001b[43m(\u001b[49m\u001b[43minput_json_file\u001b[49m\u001b[43m,\u001b[49m\u001b[43m \u001b[49m\u001b[38;5;124;43m\"\u001b[39;49m\u001b[38;5;124;43mr\u001b[39;49m\u001b[38;5;124;43m\"\u001b[39;49m\u001b[43m)\u001b[49m \u001b[38;5;28;01mas\u001b[39;00m f:\n\u001b[1;32m      8\u001b[0m         account_data \u001b[38;5;241m=\u001b[39m json\u001b[38;5;241m.\u001b[39mload(f)\n",
      "File \u001b[0;32m~/.local/lib/python3.9/site-packages/IPython/core/interactiveshell.py:310\u001b[0m, in \u001b[0;36m_modified_open\u001b[0;34m(file, *args, **kwargs)\u001b[0m\n\u001b[1;32m    304\u001b[0m     \u001b[38;5;28;01mraise\u001b[39;00m \u001b[38;5;167;01mValueError\u001b[39;00m(\n\u001b[1;32m    305\u001b[0m         \u001b[38;5;124mf\u001b[39m\u001b[38;5;124m\"\u001b[39m\u001b[38;5;124mIPython won\u001b[39m\u001b[38;5;124m'\u001b[39m\u001b[38;5;124mt let you open fd=\u001b[39m\u001b[38;5;132;01m{\u001b[39;00mfile\u001b[38;5;132;01m}\u001b[39;00m\u001b[38;5;124m by default \u001b[39m\u001b[38;5;124m\"\u001b[39m\n\u001b[1;32m    306\u001b[0m         \u001b[38;5;124m\"\u001b[39m\u001b[38;5;124mas it is likely to crash IPython. If you know what you are doing, \u001b[39m\u001b[38;5;124m\"\u001b[39m\n\u001b[1;32m    307\u001b[0m         \u001b[38;5;124m\"\u001b[39m\u001b[38;5;124myou can use builtins\u001b[39m\u001b[38;5;124m'\u001b[39m\u001b[38;5;124m open.\u001b[39m\u001b[38;5;124m\"\u001b[39m\n\u001b[1;32m    308\u001b[0m     )\n\u001b[0;32m--> 310\u001b[0m \u001b[38;5;28;01mreturn\u001b[39;00m \u001b[43mio_open\u001b[49m\u001b[43m(\u001b[49m\u001b[43mfile\u001b[49m\u001b[43m,\u001b[49m\u001b[43m \u001b[49m\u001b[38;5;241;43m*\u001b[39;49m\u001b[43margs\u001b[49m\u001b[43m,\u001b[49m\u001b[43m \u001b[49m\u001b[38;5;241;43m*\u001b[39;49m\u001b[38;5;241;43m*\u001b[39;49m\u001b[43mkwargs\u001b[49m\u001b[43m)\u001b[49m\n",
      "\u001b[0;31mFileNotFoundError\u001b[0m: [Errno 2] No such file or directory: 'logs/account_data.json'",
      "\nDuring handling of the above exception, another exception occurred:\n",
      "\u001b[0;31mNameError\u001b[0m                                 Traceback (most recent call last)",
      "Cell \u001b[0;32mIn[2], line 1\u001b[0m\n\u001b[0;32m----> 1\u001b[0m \u001b[43mprocess_engine_receipts\u001b[49m\u001b[43m(\u001b[49m\u001b[43m)\u001b[49m\n",
      "Cell \u001b[0;32mIn[1], line 41\u001b[0m, in \u001b[0;36mprocess_engine_receipts\u001b[0;34m(input_json_file, output_json_file)\u001b[0m\n\u001b[1;32m     39\u001b[0m     logger\u001b[38;5;241m.\u001b[39minfo(\u001b[38;5;124mf\u001b[39m\u001b[38;5;124m\"\u001b[39m\u001b[38;5;124mDecoded results saved to \u001b[39m\u001b[38;5;132;01m{\u001b[39;00moutput_json_file\u001b[38;5;132;01m}\u001b[39;00m\u001b[38;5;124m\"\u001b[39m)\n\u001b[1;32m     40\u001b[0m \u001b[38;5;28;01mexcept\u001b[39;00m \u001b[38;5;167;01mException\u001b[39;00m \u001b[38;5;28;01mas\u001b[39;00m e:\n\u001b[0;32m---> 41\u001b[0m     \u001b[43mlogger\u001b[49m\u001b[38;5;241m.\u001b[39merror(\u001b[38;5;124mf\u001b[39m\u001b[38;5;124m\"\u001b[39m\u001b[38;5;124mError processing engine receipts: \u001b[39m\u001b[38;5;132;01m{\u001b[39;00me\u001b[38;5;132;01m}\u001b[39;00m\u001b[38;5;124m\"\u001b[39m)\n",
      "\u001b[0;31mNameError\u001b[0m: name 'logger' is not defined"
     ]
    }
   ],
   "source": [
    "process_engine_receipts()"
   ]
  },
  {
   "cell_type": "code",
   "execution_count": null,
   "id": "8d12fcbe-81aa-4ad5-97b3-601c6953821c",
   "metadata": {},
   "outputs": [],
   "source": []
  }
 ],
 "metadata": {
  "kernelspec": {
   "display_name": "Python 3 (ipykernel)",
   "language": "python",
   "name": "python3"
  },
  "language_info": {
   "codemirror_mode": {
    "name": "ipython",
    "version": 3
   },
   "file_extension": ".py",
   "mimetype": "text/x-python",
   "name": "python",
   "nbconvert_exporter": "python",
   "pygments_lexer": "ipython3",
   "version": "3.9.21"
  }
 },
 "nbformat": 4,
 "nbformat_minor": 5
}
