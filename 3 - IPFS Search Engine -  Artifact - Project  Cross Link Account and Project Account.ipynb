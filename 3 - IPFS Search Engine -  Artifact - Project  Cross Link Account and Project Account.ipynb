{
 "cells": [
  {
   "cell_type": "code",
   "execution_count": 13,
   "id": "d4a1c5a2-75c3-482e-999c-70eb25226078",
   "metadata": {
    "editable": true,
    "slideshow": {
     "slide_type": ""
    },
    "tags": []
   },
   "outputs": [],
   "source": [
    "from iroha import IrohaCrypto\n",
    "from iroha.ed25519 import H\n",
    "import integration_helpers\n",
    "from iroha.primitive_pb2 import can_set_my_account_detail\n",
    "import json\n",
    "from iroha_helper import *\n",
    "from new_helper import *\n",
    "from super_helper import *\n",
    "from ipfs_functions import *\n",
    "from loguru import logger"
   ]
  },
  {
   "cell_type": "code",
   "execution_count": 14,
   "id": "cad05321",
   "metadata": {},
   "outputs": [],
   "source": [
    "# Index for objects in both user account and project account JSON-LDs.\n",
    "json_ld_index = 2\n",
    "\n",
    "# Local path for file upload\n",
    "directory_path = \"upload\"\n",
    "\n",
    "# Directory for file downloads\n",
    "download_path = \"download\"\n",
    "\n",
    "# Read accounts from JSON-LD\n",
    "user_accounts = read_user_accounts_from_jsonld('datasets/accounts.json')\n",
    "project_accounts = read_project_accounts_from_jsonld('datasets/projects.json')\n",
    "\n",
    "#for the index system\n",
    "index_path = \"indexdir\"\n",
    "index = open_dir(index_path)\n"
   ]
  },
  {
   "cell_type": "code",
   "execution_count": 15,
   "id": "089523ec",
   "metadata": {},
   "outputs": [
    {
     "data": {
      "text/plain": [
       "3"
      ]
     },
     "execution_count": 15,
     "metadata": {},
     "output_type": "execute_result"
    }
   ],
   "source": [
    "# Customize the logger format\n",
    "logger.remove()\n",
    "logger.add(\n",
    "    sink=lambda msg: print(msg, end=\"\"),\n",
    "    format=\"<green>{time:YYYY-MM-DD HH:mm:ss.SSS}</green> | \"\n",
    "           \"<level>{level: <8}</level> | \"\n",
    "           \"<cyan>{name}</cyan>:<cyan>{function}</cyan>:<cyan>{line}</cyan> - \"\n",
    "           \"{message}\",\n",
    "    colorize=True,  # Enable colors for supported terminals\n",
    ")"
   ]
  },
  {
   "cell_type": "code",
   "execution_count": 16,
   "id": "14eaf61c",
   "metadata": {},
   "outputs": [],
   "source": [
    "#Manually resets the index on execution\n",
    "# recreate_index() "
   ]
  },
  {
   "cell_type": "markdown",
   "id": "9a043d51-4a22-4186-975e-7e3e8a4b54ef",
   "metadata": {},
   "source": [
    "1 - Deploys a smart contract into the Iroha 1 blockchain for details (attributes) setting;"
   ]
  },
  {
   "cell_type": "code",
   "execution_count": 17,
   "id": "0e6442fc",
   "metadata": {},
   "outputs": [
    {
     "name": "stdout",
     "output_type": "stream",
     "text": [
      "\u001b[32m2025-01-13 11:20:03.324\u001b[0m | \u001b[1mINFO    \u001b[0m | \u001b[36mintegration_helpers\u001b[0m:\u001b[36mtracer\u001b[0m:\u001b[36m34\u001b[0m - \tEntering \"create_detail_contract\"\n",
      "\u001b[32m2025-01-13 11:20:03.343\u001b[0m | \u001b[1mINFO    \u001b[0m | \u001b[36miroha_helper\u001b[0m:\u001b[36mcreate_detail_contract\u001b[0m:\u001b[36m55\u001b[0m - ('STATELESS_VALIDATION_SUCCESS', 1, 0)\n",
      "\u001b[32m2025-01-13 11:20:03.347\u001b[0m | \u001b[1mINFO    \u001b[0m | \u001b[36miroha_helper\u001b[0m:\u001b[36mcreate_detail_contract\u001b[0m:\u001b[36m55\u001b[0m - ('ENOUGH_SIGNATURES_COLLECTED', 9, 0)\n"
     ]
    },
    {
     "name": "stdout",
     "output_type": "stream",
     "text": [
      "\u001b[32m2025-01-13 11:20:04.025\u001b[0m | \u001b[1mINFO    \u001b[0m | \u001b[36miroha_helper\u001b[0m:\u001b[36mcreate_detail_contract\u001b[0m:\u001b[36m55\u001b[0m - ('STATEFUL_VALIDATION_SUCCESS', 3, 0)\n",
      "\u001b[32m2025-01-13 11:20:04.053\u001b[0m | \u001b[1mINFO    \u001b[0m | \u001b[36miroha_helper\u001b[0m:\u001b[36mcreate_detail_contract\u001b[0m:\u001b[36m55\u001b[0m - ('COMMITTED', 5, 0)\n",
      "\u001b[32m2025-01-13 11:20:04.054\u001b[0m | \u001b[1mINFO    \u001b[0m | \u001b[36mintegration_helpers\u001b[0m:\u001b[36mtracer\u001b[0m:\u001b[36m36\u001b[0m - \tLeaving \"create_detail_contract\"\n",
      "\u001b[32m2025-01-13 11:20:04.054\u001b[0m | \u001b[1mINFO    \u001b[0m | \u001b[36mintegration_helpers\u001b[0m:\u001b[36mtracer\u001b[0m:\u001b[36m34\u001b[0m - \tEntering \"get_engine_receipts_result\"\n",
      "\u001b[32m2025-01-13 11:20:04.072\u001b[0m | \u001b[1mINFO    \u001b[0m | \u001b[36mintegration_helpers\u001b[0m:\u001b[36mget_engine_receipts_result\u001b[0m:\u001b[36m92\u001b[0m - \n",
      "\u001b[32m2025-01-13 11:20:04.072\u001b[0m | \u001b[1mINFO    \u001b[0m | \u001b[36mintegration_helpers\u001b[0m:\u001b[36mtracer\u001b[0m:\u001b[36m36\u001b[0m - \tLeaving \"get_engine_receipts_result\"\n"
     ]
    }
   ],
   "source": [
    "hash = create_detail_contract()\n",
    "integration_helpers.get_engine_receipts_result(hash)"
   ]
  },
  {
   "cell_type": "markdown",
   "id": "a4ea1051-cb1c-4c29-97e5-38ba90248081",
   "metadata": {},
   "source": [
    "2 - Data extraction from JSON-LD.\n",
    "\n",
    "Extracts account ids from `datasets/accounts.json` and `datasets/projects.json`.\n",
    "\n",
    "Must update `json_ld_index` with a entry number related to an existing object in `datasets/accounts.json` and `datasets/projects.json`"
   ]
  },
  {
   "cell_type": "markdown",
   "id": "26e068d0-2247-4fd3-827f-4144b66965e1",
   "metadata": {},
   "source": [
    "4 - Sets details for both User and Project accounts providing a logical link between them for later references."
   ]
  },
  {
   "cell_type": "code",
   "execution_count": 18,
   "id": "1304dbe4",
   "metadata": {},
   "outputs": [
    {
     "name": "stdout",
     "output_type": "stream",
     "text": [
      "\u001b[32m2025-01-13 11:20:04.093\u001b[0m | \u001b[1mINFO    \u001b[0m | \u001b[36mintegration_helpers\u001b[0m:\u001b[36mtracer\u001b[0m:\u001b[36m34\u001b[0m - \tEntering \"get_engine_receipts_address\"\n",
      "\u001b[32m2025-01-13 11:20:04.111\u001b[0m | \u001b[1mINFO    \u001b[0m | \u001b[36mintegration_helpers\u001b[0m:\u001b[36mtracer\u001b[0m:\u001b[36m36\u001b[0m - \tLeaving \"get_engine_receipts_address\"\n",
      "\u001b[32m2025-01-13 11:20:04.112\u001b[0m | \u001b[1mINFO    \u001b[0m | \u001b[36miroha_helper\u001b[0m:\u001b[36mtracer\u001b[0m:\u001b[36m244\u001b[0m - \tEntering \"set_account_detail\"\n",
      "\u001b[32m2025-01-13 11:20:04.126\u001b[0m | \u001b[1mINFO    \u001b[0m | \u001b[36miroha_helper\u001b[0m:\u001b[36mset_account_detail\u001b[0m:\u001b[36m296\u001b[0m - None\n",
      "\u001b[32m2025-01-13 11:20:04.127\u001b[0m | \u001b[1mINFO    \u001b[0m | \u001b[36miroha_helper\u001b[0m:\u001b[36mset_account_detail\u001b[0m:\u001b[36m298\u001b[0m - ('STATELESS_VALIDATION_SUCCESS', 1, 0)\n",
      "\u001b[32m2025-01-13 11:20:04.127\u001b[0m | \u001b[1mINFO    \u001b[0m | \u001b[36miroha_helper\u001b[0m:\u001b[36mset_account_detail\u001b[0m:\u001b[36m298\u001b[0m - ('ENOUGH_SIGNATURES_COLLECTED', 9, 0)\n",
      "\u001b[32m2025-01-13 11:20:07.071\u001b[0m | \u001b[1mINFO    \u001b[0m | \u001b[36miroha_helper\u001b[0m:\u001b[36mset_account_detail\u001b[0m:\u001b[36m298\u001b[0m - ('STATEFUL_VALIDATION_SUCCESS', 3, 0)\n",
      "\u001b[32m2025-01-13 11:20:07.096\u001b[0m | \u001b[1mINFO    \u001b[0m | \u001b[36miroha_helper\u001b[0m:\u001b[36mset_account_detail\u001b[0m:\u001b[36m298\u001b[0m - ('COMMITTED', 5, 0)\n",
      "\u001b[32m2025-01-13 11:20:07.096\u001b[0m | \u001b[1mINFO    \u001b[0m | \u001b[36miroha_helper\u001b[0m:\u001b[36mtracer\u001b[0m:\u001b[36m246\u001b[0m - \tLeaving \"set_account_detail\"\n",
      "\u001b[32m2025-01-13 11:20:07.097\u001b[0m | \u001b[1mINFO    \u001b[0m | \u001b[36miroha_helper\u001b[0m:\u001b[36mtracer\u001b[0m:\u001b[36m244\u001b[0m - \tEntering \"set_account_detail\"\n",
      "\u001b[32m2025-01-13 11:20:07.111\u001b[0m | \u001b[1mINFO    \u001b[0m | \u001b[36miroha_helper\u001b[0m:\u001b[36mset_account_detail\u001b[0m:\u001b[36m296\u001b[0m - None\n",
      "\u001b[32m2025-01-13 11:20:07.112\u001b[0m | \u001b[1mINFO    \u001b[0m | \u001b[36miroha_helper\u001b[0m:\u001b[36mset_account_detail\u001b[0m:\u001b[36m298\u001b[0m - ('STATELESS_VALIDATION_SUCCESS', 1, 0)\n",
      "\u001b[32m2025-01-13 11:20:07.112\u001b[0m | \u001b[1mINFO    \u001b[0m | \u001b[36miroha_helper\u001b[0m:\u001b[36mset_account_detail\u001b[0m:\u001b[36m298\u001b[0m - ('ENOUGH_SIGNATURES_COLLECTED', 9, 0)\n",
      "\u001b[32m2025-01-13 11:20:10.121\u001b[0m | \u001b[1mINFO    \u001b[0m | \u001b[36miroha_helper\u001b[0m:\u001b[36mset_account_detail\u001b[0m:\u001b[36m298\u001b[0m - ('STATEFUL_VALIDATION_SUCCESS', 3, 0)\n",
      "\u001b[32m2025-01-13 11:20:10.152\u001b[0m | \u001b[1mINFO    \u001b[0m | \u001b[36miroha_helper\u001b[0m:\u001b[36mset_account_detail\u001b[0m:\u001b[36m298\u001b[0m - ('COMMITTED', 5, 0)\n",
      "\u001b[32m2025-01-13 11:20:10.153\u001b[0m | \u001b[1mINFO    \u001b[0m | \u001b[36miroha_helper\u001b[0m:\u001b[36mtracer\u001b[0m:\u001b[36m246\u001b[0m - \tLeaving \"set_account_detail\"\n",
      "\u001b[32m2025-01-13 11:20:10.153\u001b[0m | \u001b[1mINFO    \u001b[0m | \u001b[36miroha_helper\u001b[0m:\u001b[36mupdate_user_account_link\u001b[0m:\u001b[36m160\u001b[0m - Updated user account wizardly_murdock@test with linked project 37355@test\n",
      "\u001b[32m2025-01-13 11:20:10.155\u001b[0m | \u001b[1mINFO    \u001b[0m | \u001b[36miroha_helper\u001b[0m:\u001b[36mupdate_project_account_link\u001b[0m:\u001b[36m191\u001b[0m - Updated project account 37355@test with linked user wizardly_murdock@test\n",
      "\u001b[32m2025-01-13 11:20:10.156\u001b[0m | \u001b[1mINFO    \u001b[0m | \u001b[36m__main__\u001b[0m:\u001b[36m<module>\u001b[0m:\u001b[36m29\u001b[0m - User account wizardly_murdock@test linked to project 37355@test\n",
      "\u001b[32m2025-01-13 11:20:10.156\u001b[0m | \u001b[1mINFO    \u001b[0m | \u001b[36m__main__\u001b[0m:\u001b[36m<module>\u001b[0m:\u001b[36m30\u001b[0m - Project account 37355@test linked to user wizardly_murdock@test\n"
     ]
    }
   ],
   "source": [
    "# Example execution of the previous snippet\n",
    "address = integration_helpers.get_engine_receipts_address(hash)\n",
    "\n",
    "# Assuming json_ld_index is defined\n",
    "user_account = user_accounts[json_ld_index]\n",
    "project_account = project_accounts[json_ld_index]\n",
    "\n",
    "# Set project_id as a detail for the user account\n",
    "hash_user_to_project = set_account_detail(\n",
    "    address, \n",
    "    user_account['account_id'], \n",
    "    \"linked_project\", \n",
    "    project_account['account_id']\n",
    ")\n",
    "\n",
    "# Set user_account_id as a detail for the project account\n",
    "hash_project_to_user = set_account_detail(\n",
    "    address, \n",
    "    project_account['account_id'], \n",
    "    \"linked_user\", \n",
    "    user_account['account_id']\n",
    ")\n",
    "\n",
    "# Update the JSON-LD files with the linked details\n",
    "update_user_account_link(user_account['account_id'], project_account['account_id'])\n",
    "update_project_account_link(project_account['account_id'], user_account['account_id'])\n",
    "\n",
    "# Confirming the operation\n",
    "logger.info(f\"User account {user_account['account_id']} linked to project {project_account['account_id']}\")\n",
    "logger.info(f\"Project account {project_account['account_id']} linked to user {user_account['account_id']}\")"
   ]
  },
  {
   "cell_type": "markdown",
   "id": "3562857c-d86d-42cf-a24b-23a5c3f5cb4e",
   "metadata": {},
   "source": [
    "3 - Queries Iroha 1 for User account and checks its values"
   ]
  },
  {
   "cell_type": "code",
   "execution_count": 19,
   "id": "b52e47a4-b1c5-4ebe-a2d8-8edae10063d8",
   "metadata": {},
   "outputs": [
    {
     "name": "stdout",
     "output_type": "stream",
     "text": [
      "\u001b[32m2025-01-13 11:20:10.195\u001b[0m | \u001b[1mINFO    \u001b[0m | \u001b[36m__main__\u001b[0m:\u001b[36m<module>\u001b[0m:\u001b[36m11\u001b[0m - User Account id = {'account_id': 'wizardly_murdock@test'}, { \"admin@test\" : { \"linked_project\" : \"37355@test\", \"user_json_ld_cid\" : \"QmasGHctfDbkzhaqebKGicpyDtVxhswtDaX99XpMnLvcXC\" } }\n"
     ]
    }
   ],
   "source": [
    "#Query - GetAccountDetail\n",
    "query = iroha.query('GetAccountDetail',account_id=user_account['account_id'])\n",
    "# logger.info(query)\n",
    "IrohaCrypto.sign_query(query, ADMIN_PRIVATE_KEY)\n",
    "response = net.send_query(query)\n",
    "# logger.info(response)\n",
    "\n",
    "user_data = response.account_detail_response\n",
    "user_details = user_data.detail\n",
    "\n",
    "logger.info(f'User Account id = {user_account}, {user_details}')"
   ]
  },
  {
   "cell_type": "markdown",
   "id": "47f33098-43df-47f3-8708-f3212dec1c0f",
   "metadata": {},
   "source": [
    "6 - Queries the user account, locates the project id, queries the project account, gets the metadata and files from IPFS."
   ]
  },
  {
   "cell_type": "code",
   "execution_count": 20,
   "id": "374843b3-6862-4a93-b298-1bdd0320c4c9",
   "metadata": {},
   "outputs": [
    {
     "name": "stdout",
     "output_type": "stream",
     "text": [
      "\u001b[32m2025-01-13 11:20:10.252\u001b[0m | \u001b[1mINFO    \u001b[0m | \u001b[36m__main__\u001b[0m:\u001b[36m<module>\u001b[0m:\u001b[36m3\u001b[0m - {'admin@test': {'linked_project': '37355@test', 'user_json_ld_cid': 'QmasGHctfDbkzhaqebKGicpyDtVxhswtDaX99XpMnLvcXC'}}\n",
      "\u001b[32m2025-01-13 11:20:10.252\u001b[0m | \u001b[1mINFO    \u001b[0m | \u001b[36m__main__\u001b[0m:\u001b[36m<module>\u001b[0m:\u001b[36m7\u001b[0m - 37355@test\n"
     ]
    }
   ],
   "source": [
    "# Process the account details response\n",
    "user_details_dict = json.loads(user_details)  # Convert the string to a JSON object\n",
    "logger.info(user_details_dict)\n",
    "\n",
    "# Now you can access the specific key like this\n",
    "project_id = user_details_dict[\"admin@test\"][\"linked_project\"]\n",
    "logger.info(project_id)"
   ]
  },
  {
   "cell_type": "code",
   "execution_count": 21,
   "id": "f06a221d",
   "metadata": {},
   "outputs": [
    {
     "name": "stdout",
     "output_type": "stream",
     "text": [
      "\u001b[32m2025-01-13 11:20:10.311\u001b[0m | \u001b[1mINFO    \u001b[0m | \u001b[36m__main__\u001b[0m:\u001b[36m<module>\u001b[0m:\u001b[36m3\u001b[0m - <Schema: ['abstract', 'created', 'creator', 'date', 'description', 'file_cid', 'format', 'full_text', 'language', 'metadata_cid', 'modified', 'project_id', 'publisher', 'subject', 'title']>\n"
     ]
    },
    {
     "name": "stdout",
     "output_type": "stream",
     "text": [
      "\u001b[32m2025-01-13 11:20:10.466\u001b[0m | \u001b[1mINFO    \u001b[0m | \u001b[36miroha_helper\u001b[0m:\u001b[36mtracer\u001b[0m:\u001b[36m244\u001b[0m - \tEntering \"create_contract\"\n",
      "\u001b[32m2025-01-13 11:20:10.473\u001b[0m | \u001b[1mINFO    \u001b[0m | \u001b[36miroha_helper\u001b[0m:\u001b[36mcreate_contract\u001b[0m:\u001b[36m263\u001b[0m - ('STATELESS_VALIDATION_SUCCESS', 1, 0)\n",
      "\u001b[32m2025-01-13 11:20:10.474\u001b[0m | \u001b[1mINFO    \u001b[0m | \u001b[36miroha_helper\u001b[0m:\u001b[36mcreate_contract\u001b[0m:\u001b[36m263\u001b[0m - ('ENOUGH_SIGNATURES_COLLECTED', 9, 0)\n",
      "\u001b[32m2025-01-13 11:20:13.176\u001b[0m | \u001b[1mINFO    \u001b[0m | \u001b[36miroha_helper\u001b[0m:\u001b[36mcreate_contract\u001b[0m:\u001b[36m263\u001b[0m - ('STATEFUL_VALIDATION_SUCCESS', 3, 0)\n",
      "\u001b[32m2025-01-13 11:20:13.205\u001b[0m | \u001b[1mINFO    \u001b[0m | \u001b[36miroha_helper\u001b[0m:\u001b[36mcreate_contract\u001b[0m:\u001b[36m263\u001b[0m - ('COMMITTED', 5, 0)\n",
      "\u001b[32m2025-01-13 11:20:13.205\u001b[0m | \u001b[1mINFO    \u001b[0m | \u001b[36miroha_helper\u001b[0m:\u001b[36mtracer\u001b[0m:\u001b[36m246\u001b[0m - \tLeaving \"create_contract\"\n",
      "\u001b[32m2025-01-13 11:20:13.206\u001b[0m | \u001b[1mINFO    \u001b[0m | \u001b[36mintegration_helpers\u001b[0m:\u001b[36mtracer\u001b[0m:\u001b[36m34\u001b[0m - \tEntering \"get_engine_receipts_address\"\n",
      "\u001b[32m2025-01-13 11:20:13.222\u001b[0m | \u001b[1mINFO    \u001b[0m | \u001b[36mintegration_helpers\u001b[0m:\u001b[36mtracer\u001b[0m:\u001b[36m36\u001b[0m - \tLeaving \"get_engine_receipts_address\"\n",
      "\u001b[32m2025-01-13 11:20:13.223\u001b[0m | \u001b[1mINFO    \u001b[0m | \u001b[36miroha_helper\u001b[0m:\u001b[36mtracer\u001b[0m:\u001b[36m244\u001b[0m - \tEntering \"set_account_detail\"\n",
      "\u001b[32m2025-01-13 11:20:13.235\u001b[0m | \u001b[1mINFO    \u001b[0m | \u001b[36miroha_helper\u001b[0m:\u001b[36mset_account_detail\u001b[0m:\u001b[36m296\u001b[0m - None\n",
      "\u001b[32m2025-01-13 11:20:13.236\u001b[0m | \u001b[1mINFO    \u001b[0m | \u001b[36miroha_helper\u001b[0m:\u001b[36mset_account_detail\u001b[0m:\u001b[36m298\u001b[0m - ('STATELESS_VALIDATION_SUCCESS', 1, 0)\n",
      "\u001b[32m2025-01-13 11:20:13.237\u001b[0m | \u001b[1mINFO    \u001b[0m | \u001b[36miroha_helper\u001b[0m:\u001b[36mset_account_detail\u001b[0m:\u001b[36m298\u001b[0m - ('ENOUGH_SIGNATURES_COLLECTED', 9, 0)\n",
      "\u001b[32m2025-01-13 11:20:16.227\u001b[0m | \u001b[1mINFO    \u001b[0m | \u001b[36miroha_helper\u001b[0m:\u001b[36mset_account_detail\u001b[0m:\u001b[36m298\u001b[0m - ('STATEFUL_VALIDATION_SUCCESS', 3, 0)\n",
      "\u001b[32m2025-01-13 11:20:16.253\u001b[0m | \u001b[1mINFO    \u001b[0m | \u001b[36miroha_helper\u001b[0m:\u001b[36mset_account_detail\u001b[0m:\u001b[36m298\u001b[0m - ('COMMITTED', 5, 0)\n",
      "\u001b[32m2025-01-13 11:20:16.253\u001b[0m | \u001b[1mINFO    \u001b[0m | \u001b[36miroha_helper\u001b[0m:\u001b[36mtracer\u001b[0m:\u001b[36m246\u001b[0m - \tLeaving \"set_account_detail\"\n",
      "\u001b[32m2025-01-13 11:20:16.256\u001b[0m | \u001b[1mINFO    \u001b[0m | \u001b[36msuper_helper\u001b[0m:\u001b[36msetup_index\u001b[0m:\u001b[36m331\u001b[0m - Opened existing index.\n",
      "\u001b[32m2025-01-13 11:20:16.875\u001b[0m | \u001b[1mINFO    \u001b[0m | \u001b[36msuper_helper\u001b[0m:\u001b[36mindex_metadata\u001b[0m:\u001b[36m189\u001b[0m - Metadata indexed successfully: QmNf9v11kNmrrrFw58VdMnS7GAjdfss6aiBaVkKq4ghdn7\n"
     ]
    }
   ],
   "source": [
    "schema = get_schema() #super_helper.py\n",
    "\n",
    "logger.info(schema)\n",
    "\n",
    "processed_data = process_files(directory_path, project_id, schema) #new_helper.py\n",
    " \n",
    "    "
   ]
  },
  {
   "cell_type": "code",
   "execution_count": 22,
   "id": "3a01a3b9",
   "metadata": {},
   "outputs": [
    {
     "name": "stdout",
     "output_type": "stream",
     "text": [
      "\u001b[32m2025-01-13 11:20:16.886\u001b[0m | \u001b[1mINFO    \u001b[0m | \u001b[36m__main__\u001b[0m:\u001b[36m<module>\u001b[0m:\u001b[36m2\u001b[0m - 37355@test, { \"admin@test\" : { \"file_1\" : \"QmUq29KRwpTdvScB5oYzEDobDHyb4N1f9eaZXm4VaMCgiW, QmNf9v11kNmrrrFw58VdMnS7GAjdfss6aiBaVkKq4ghdn7\", \"linked_user\" : \"wizardly_murdock@test\", \"project_metadata_cid\" : \"QmVqM2d9FhPwQNAhQ2mUCi9mzw8EdF3oqM4wzAHMUqcWWd\" } }\n"
     ]
    }
   ],
   "source": [
    "account_detail = get_account_detail(project_id)\n",
    "logger.info(f\"{project_id}, {account_detail}\")\n"
   ]
  },
  {
   "cell_type": "code",
   "execution_count": 23,
   "id": "192bca4c-e506-414d-aee5-f9a58ff3105b",
   "metadata": {},
   "outputs": [
    {
     "name": "stdout",
     "output_type": "stream",
     "text": [
      "\u001b[32m2025-01-13 11:20:16.940\u001b[0m | \u001b[1mINFO    \u001b[0m | \u001b[36msuper_helper\u001b[0m:\u001b[36msearch_index\u001b[0m:\u001b[36m207\u001b[0m - Starting keyword search...\n",
      "\u001b[32m2025-01-13 11:20:16.940\u001b[0m | \u001b[1mINFO    \u001b[0m | \u001b[36msuper_helper\u001b[0m:\u001b[36msearch_index\u001b[0m:\u001b[36m208\u001b[0m - Keyword: 'paper'\n",
      "\u001b[32m2025-01-13 11:20:16.949\u001b[0m | \u001b[1mINFO    \u001b[0m | \u001b[36msuper_helper\u001b[0m:\u001b[36msearch_index\u001b[0m:\u001b[36m219\u001b[0m - Search successful: Found 11 result(s).\n",
      "\u001b[32m2025-01-13 11:20:16.952\u001b[0m | \u001b[1mINFO    \u001b[0m | \u001b[36msuper_helper\u001b[0m:\u001b[36msearch_index\u001b[0m:\u001b[36m221\u001b[0m - 1. Project Id: 37355@test, File CID: QmUq29KRwpTdvScB5oYzEDobDHyb4N1f9eaZXm4VaMCgiW, Metadata CID: QmNf9v11kNmrrrFw58VdMnS7GAjdfss6aiBaVkKq4ghdn7, Title: covid19-mlsf: a multi-task learning-based stock market forecasting framework during the covid-19 pandemic\n",
      "\u001b[32m2025-01-13 11:20:16.953\u001b[0m | \u001b[1mINFO    \u001b[0m | \u001b[36msuper_helper\u001b[0m:\u001b[36msearch_index\u001b[0m:\u001b[36m221\u001b[0m - 2. Project Id: 37355@test, File CID: QmUq29KRwpTdvScB5oYzEDobDHyb4N1f9eaZXm4VaMCgiW, Metadata CID: QmedM2sDbqRi5VmoWAUvwbuPrtSkLjHzYqor4FWK4223FV, Title: covid19-mlsf: a multi-task learning-based stock market forecasting framework during the covid-19 pandemic\n",
      "\u001b[32m2025-01-13 11:20:16.955\u001b[0m | \u001b[1mINFO    \u001b[0m | \u001b[36msuper_helper\u001b[0m:\u001b[36msearch_index\u001b[0m:\u001b[36m221\u001b[0m - 3. Project Id: 37355@test, File CID: QmUq29KRwpTdvScB5oYzEDobDHyb4N1f9eaZXm4VaMCgiW, Metadata CID: QmY3c4tCzveKDUZKjqyj9a6U8vDkuAs3q88D1UkcmWdBtJ, Title: covid19-mlsf: a multi-task learning-based stock market forecasting framework during the covid-19 pandemic\n",
      "\u001b[32m2025-01-13 11:20:16.957\u001b[0m | \u001b[1mINFO    \u001b[0m | \u001b[36msuper_helper\u001b[0m:\u001b[36msearch_index\u001b[0m:\u001b[36m221\u001b[0m - 4. Project Id: 37355@test, File CID: QmUq29KRwpTdvScB5oYzEDobDHyb4N1f9eaZXm4VaMCgiW, Metadata CID: QmTDECsHqEHEthrKVChmpeo1VXS1fpptph3EhLCMKZNxCy, Title: covid19-mlsf: a multi-task learning-based stock market forecasting framework during the covid-19 pandemic\n",
      "\u001b[32m2025-01-13 11:20:16.958\u001b[0m | \u001b[1mINFO    \u001b[0m | \u001b[36msuper_helper\u001b[0m:\u001b[36msearch_index\u001b[0m:\u001b[36m221\u001b[0m - 5. Project Id: 37355@test, File CID: QmUq29KRwpTdvScB5oYzEDobDHyb4N1f9eaZXm4VaMCgiW, Metadata CID: QmcEd1CvbCB98BjtV48ufLfJXH6nkRkfhySonJddo4kXub, Title: covid19-mlsf: a multi-task learning-based stock market forecasting framework during the covid-19 pandemic\n",
      "\u001b[32m2025-01-13 11:20:16.960\u001b[0m | \u001b[1mINFO    \u001b[0m | \u001b[36msuper_helper\u001b[0m:\u001b[36msearch_index\u001b[0m:\u001b[36m221\u001b[0m - 6. Project Id: 37355@test, File CID: QmUq29KRwpTdvScB5oYzEDobDHyb4N1f9eaZXm4VaMCgiW, Metadata CID: Qmda3UGvN1Ywmc2FkxuKSEHK8iy5vW5YrRFE9sqKKxdUVw, Title: covid19-mlsf: a multi-task learning-based stock market forecasting framework during the covid-19 pandemic\n",
      "\u001b[32m2025-01-13 11:20:16.962\u001b[0m | \u001b[1mINFO    \u001b[0m | \u001b[36msuper_helper\u001b[0m:\u001b[36msearch_index\u001b[0m:\u001b[36m221\u001b[0m - 7. Project Id: 73243@test, File CID: QmUq29KRwpTdvScB5oYzEDobDHyb4N1f9eaZXm4VaMCgiW, Metadata CID: QmNjaCTeNdmrJfLYUpD8qhpjndXXX7QrWagRMhNSAtQkC6, Title: covid19-mlsf: a multi-task learning-based stock market forecasting framework during the covid-19 pandemic\n",
      "\u001b[32m2025-01-13 11:20:16.963\u001b[0m | \u001b[1mINFO    \u001b[0m | \u001b[36msuper_helper\u001b[0m:\u001b[36msearch_index\u001b[0m:\u001b[36m221\u001b[0m - 8. Project Id: 73243@test, File CID: QmUq29KRwpTdvScB5oYzEDobDHyb4N1f9eaZXm4VaMCgiW, Metadata CID: QmdyAE132FSeSQaqUHzE5GtMrEwy821ScAYKEXsxpWSnV5, Title: covid19-mlsf: a multi-task learning-based stock market forecasting framework during the covid-19 pandemic\n",
      "\u001b[32m2025-01-13 11:20:16.965\u001b[0m | \u001b[1mINFO    \u001b[0m | \u001b[36msuper_helper\u001b[0m:\u001b[36msearch_index\u001b[0m:\u001b[36m221\u001b[0m - 9. Project Id: 73243@test, File CID: QmUq29KRwpTdvScB5oYzEDobDHyb4N1f9eaZXm4VaMCgiW, Metadata CID: QmPiZKhXpmKCJ7scjBNGeU2BxuDEac3AaDrNr55PwPuZZV, Title: covid19-mlsf: a multi-task learning-based stock market forecasting framework during the covid-19 pandemic\n",
      "\u001b[32m2025-01-13 11:20:16.967\u001b[0m | \u001b[1mINFO    \u001b[0m | \u001b[36msuper_helper\u001b[0m:\u001b[36msearch_index\u001b[0m:\u001b[36m221\u001b[0m - 10. Project Id: 37355@test, File CID: QmUq29KRwpTdvScB5oYzEDobDHyb4N1f9eaZXm4VaMCgiW, Metadata CID: QmWcdZFjgVaocJrPvDqKzf5KSFDcxypn5Ffyq9SNxQM1dN, Title: covid19-mlsf: a multi-task learning-based stock market forecasting framework during the covid-19 pandemic\n",
      "\u001b[32m2025-01-13 11:20:16.968\u001b[0m | \u001b[1mINFO    \u001b[0m | \u001b[36msuper_helper\u001b[0m:\u001b[36msearch_index\u001b[0m:\u001b[36m221\u001b[0m - 11. Project Id: 37355@test, File CID: QmUq29KRwpTdvScB5oYzEDobDHyb4N1f9eaZXm4VaMCgiW, Metadata CID: QmY3c4tCzveKDUZKjqyj9a6U8vDkuAs3q88D1UkcmWdBtJ, Title: covid19-mlsf: a multi-task learning-based stock market forecasting framework during the covid-19 pandemic\n"
     ]
    }
   ],
   "source": [
    "# Perform a keyword search\n",
    "keyword = \"paper\"\n",
    "search_results, project_ids_with_cids = search_index(index, keyword)"
   ]
  },
  {
   "cell_type": "code",
   "execution_count": 24,
   "id": "d09a150d-7e23-4e81-9b77-fa6febdc43c0",
   "metadata": {},
   "outputs": [
    {
     "name": "stdout",
     "output_type": "stream",
     "text": [
      "\u001b[32m2025-01-13 11:20:17.038\u001b[0m | \u001b[1mINFO    \u001b[0m | \u001b[36m__main__\u001b[0m:\u001b[36m<module>\u001b[0m:\u001b[36m16\u001b[0m - Processing Project ID: 37355@test\n",
      "\u001b[32m2025-01-13 11:20:17.038\u001b[0m | \u001b[1mINFO    \u001b[0m | \u001b[36m__main__\u001b[0m:\u001b[36m<module>\u001b[0m:\u001b[36m17\u001b[0m - File CID: QmUq29KRwpTdvScB5oYzEDobDHyb4N1f9eaZXm4VaMCgiW\n",
      "\u001b[32m2025-01-13 11:20:17.038\u001b[0m | \u001b[1mINFO    \u001b[0m | \u001b[36m__main__\u001b[0m:\u001b[36m<module>\u001b[0m:\u001b[36m18\u001b[0m - Metadata CID: QmNf9v11kNmrrrFw58VdMnS7GAjdfss6aiBaVkKq4ghdn7\n",
      "\u001b[32m2025-01-13 11:20:17.055\u001b[0m | \u001b[1mINFO    \u001b[0m | \u001b[36m__main__\u001b[0m:\u001b[36m<module>\u001b[0m:\u001b[36m29\u001b[0m - Fetched project details for 37355@test: { \"admin@test\" : { \"file_1\" : \"QmUq29KRwpTdvScB5oYzEDobDHyb4N1f9eaZXm4VaMCgiW, QmNf9v11kNmrrrFw58VdMnS7GAjdfss6aiBaVkKq4ghdn7\", \"linked_user\" : \"wizardly_murdock@test\", \"project_metadata_cid\" : \"QmVqM2d9FhPwQNAhQ2mUCi9mzw8EdF3oqM4wzAHMUqcWWd\" } }\n",
      "\u001b[32m2025-01-13 11:20:17.055\u001b[0m | \u001b[1mINFO    \u001b[0m | \u001b[36msuper_helper\u001b[0m:\u001b[36mfetch_project_details\u001b[0m:\u001b[36m266\u001b[0m - Validating and fetching details for CID: QmUq29KRwpTdvScB5oYzEDobDHyb4N1f9eaZXm4VaMCgiW\n",
      "\u001b[32m2025-01-13 11:20:17.055\u001b[0m | \u001b[1mINFO    \u001b[0m | \u001b[36msuper_helper\u001b[0m:\u001b[36mfetch_project_details\u001b[0m:\u001b[36m274\u001b[0m - File CID QmUq29KRwpTdvScB5oYzEDobDHyb4N1f9eaZXm4VaMCgiW found under file_1.\n",
      "\u001b[32m2025-01-13 11:20:17.055\u001b[0m | \u001b[1mINFO    \u001b[0m | \u001b[36m__main__\u001b[0m:\u001b[36m<module>\u001b[0m:\u001b[36m40\u001b[0m - Valid Result for 37355@test is {'is_valid': True, 'project_metadata_cid': 'QmVqM2d9FhPwQNAhQ2mUCi9mzw8EdF3oqM4wzAHMUqcWWd', 'linked_user': 'wizardly_murdock@test'}.\n",
      "\u001b[32m2025-01-13 11:20:17.055\u001b[0m | \u001b[1mINFO    \u001b[0m | \u001b[36m__main__\u001b[0m:\u001b[36m<module>\u001b[0m:\u001b[36m48\u001b[0m - Valid File CID for 37355@test.\n",
      "\u001b[32m2025-01-13 11:20:17.056\u001b[0m | \u001b[1mINFO    \u001b[0m | \u001b[36m__main__\u001b[0m:\u001b[36m<module>\u001b[0m:\u001b[36m49\u001b[0m - Project Metadata CID: QmVqM2d9FhPwQNAhQ2mUCi9mzw8EdF3oqM4wzAHMUqcWWd\n",
      "\u001b[32m2025-01-13 11:20:17.056\u001b[0m | \u001b[1mINFO    \u001b[0m | \u001b[36m__main__\u001b[0m:\u001b[36m<module>\u001b[0m:\u001b[36m50\u001b[0m - Linked User: wizardly_murdock@test\n",
      "\u001b[32m2025-01-13 11:20:17.056\u001b[0m | \u001b[1mINFO    \u001b[0m | \u001b[36m__main__\u001b[0m:\u001b[36m<module>\u001b[0m:\u001b[36m54\u001b[0m - Processing project metadata CID: QmVqM2d9FhPwQNAhQ2mUCi9mzw8EdF3oqM4wzAHMUqcWWd\n",
      "\u001b[32m2025-01-13 11:20:17.061\u001b[0m | \u001b[1mINFO    \u001b[0m | \u001b[36m__main__\u001b[0m:\u001b[36m<module>\u001b[0m:\u001b[36m56\u001b[0m - Downloaded project metadata: {'@context': {'dc': 'http://purl.org/dc/terms/', 'schema': 'http://schema.org/'}, '@type': 'schema:ResearchProject', 'dc:abstract': 'This research focuses on the benefits and challenges posed by virtual reality for urban planning, with an emphasis on its potential for environmental restoration.', 'schema:endDate': '2025-05-16', 'schema:funding': {'@type': 'schema:Organization', 'schema:name': 'Bill and Melinda Gates Foundation'}, 'schema:keywords': ['virtual reality', 'urban planning', 'environmental restoration'], 'schema:location': {'@type': 'schema:Place', 'schema:name': 'Tokyo, Japan'}, 'schema:name': 'Assessing the Benefits of virtual reality for urban planning', 'schema:startDate': '2022-05-05'}\n",
      "\u001b[32m2025-01-13 11:20:17.061\u001b[0m | \u001b[1mINFO    \u001b[0m | \u001b[36m__main__\u001b[0m:\u001b[36m<module>\u001b[0m:\u001b[36m59\u001b[0m - Processing linked user: wizardly_murdock@test\n",
      "\u001b[32m2025-01-13 11:20:17.077\u001b[0m | \u001b[1mINFO    \u001b[0m | \u001b[36m__main__\u001b[0m:\u001b[36m<module>\u001b[0m:\u001b[36m69\u001b[0m - User JSON-LD CID: QmasGHctfDbkzhaqebKGicpyDtVxhswtDaX99XpMnLvcXC\n",
      "\u001b[32m2025-01-13 11:20:17.083\u001b[0m | \u001b[1mINFO    \u001b[0m | \u001b[36m__main__\u001b[0m:\u001b[36m<module>\u001b[0m:\u001b[36m71\u001b[0m - Downloaded user metadata: {'@type': 'foaf:Person', 'foaf:holdsAccount': {'schema:identifier': 'wizardly_murdock@test', 'schema:publicKey': '944f6ca0b600f7d9705a9dc1853ea6432221b91836251196630c02bf465cbf20', 'schema:roleName': 'author'}, 'foaf:mbox': 'wizardly_murdock@email.com', 'foaf:name': 'Wizardly Murdock', 'foaf:organization': {'@type': 'foaf:Organization', 'foaf:name': 'Baqai Medical University'}, 'schema:identifier': {'@type': 'PropertyValue', 'propertyID': 'ORCID', 'value': '3202-1900-4101-X'}}\n",
      "\u001b[32m2025-01-13 11:20:17.083\u001b[0m | \u001b[1mINFO    \u001b[0m | \u001b[36m__main__\u001b[0m:\u001b[36m<module>\u001b[0m:\u001b[36m76\u001b[0m - Processing metadata CID: QmNf9v11kNmrrrFw58VdMnS7GAjdfss6aiBaVkKq4ghdn7\n"
     ]
    },
    {
     "name": "stdout",
     "output_type": "stream",
     "text": [
      "\u001b[32m2025-01-13 11:20:17.089\u001b[0m | \u001b[1mINFO    \u001b[0m | \u001b[36msuper_helper\u001b[0m:\u001b[36mdownload_file\u001b[0m:\u001b[36m28\u001b[0m - Cleaned file name: COVID19-MLSF--A-multi-task-learning-based-stock-market_2023_Expert-Systems-w.pdf\n",
      "\u001b[32m2025-01-13 11:20:17.090\u001b[0m | \u001b[1mINFO    \u001b[0m | \u001b[36msuper_helper\u001b[0m:\u001b[36mdownload_file\u001b[0m:\u001b[36m33\u001b[0m - Download directory ready: download/37355@test\n",
      "\u001b[32m2025-01-13 11:20:17.091\u001b[0m | \u001b[1mINFO    \u001b[0m | \u001b[36msuper_helper\u001b[0m:\u001b[36mdownload_file\u001b[0m:\u001b[36m37\u001b[0m - Downloading file to: download/37355@test/COVID19-MLSF--A-multi-task-learning-based-stock-market_2023_Expert-Systems-w.pdf\n",
      "\u001b[32m2025-01-13 11:20:17.137\u001b[0m | \u001b[1mINFO    \u001b[0m | \u001b[36m__main__\u001b[0m:\u001b[36m<module>\u001b[0m:\u001b[36m79\u001b[0m - Downloaded file metadata: QmNf9v11kNmrrrFw58VdMnS7GAjdfss6aiBaVkKq4ghdn7\n",
      "\u001b[32m2025-01-13 11:20:17.138\u001b[0m | \u001b[1mINFO    \u001b[0m | \u001b[36m__main__\u001b[0m:\u001b[36m<module>\u001b[0m:\u001b[36m80\u001b[0m - file metadata: {'Content-Length': '4016043', 'Content-Type': 'application/pdf', 'CreationDate--Text': '7th February 2023', 'CrossMarkDomains[1]': 'elsevier.com', 'CrossMarkDomains[2]': 'sciencedirect.com', 'CrossmarkDomainExclusive': 'true', 'CrossmarkMajorVersionDate': '2010-04-23', 'ElsevierWebPDFSpecifications': '7.0', 'X-TIKA:Parsed-By': ['org.apache.tika.parser.DefaultParser', 'org.apache.tika.parser.pdf.PDFParser'], 'X-TIKA:Parsed-By-Full-Set': ['org.apache.tika.parser.DefaultParser', 'org.apache.tika.parser.pdf.PDFParser'], 'X-TIKA:content_handler': 'ToTextContentHandler', 'X-TIKA:embedded_depth': '0', 'X-TIKA:parse_time_millis': '128', 'access_permission:assemble_document': 'true', 'access_permission:can_modify': 'true', 'access_permission:can_print': 'true', 'access_permission:can_print_degraded': 'true', 'access_permission:extract_content': 'true', 'access_permission:extract_for_accessibility': 'true', 'access_permission:fill_in_form': 'true', 'access_permission:modify_annotations': 'true', 'dc:creator': ['Chenxun Yuan', 'Xiang Ma', 'Hua Wang', 'Caiming Zhang', 'Xuemei Li'], 'dc:description': 'Expert Systems With Applications, 217 (2023) 119549. doi:10.1016/j.eswa.2023.119549', 'dc:format': 'application/pdf; version=1.7', 'dc:language': 'en-US', 'dc:subject': ['Stock market forecasting,COVID-19 pandemic,Multi-task learning,Feature fusion,K-nearest neighbor classifier', 'Expert Systems With Applications, 217 (2023) 119549. doi:10.1016/j.eswa.2023.119549'], 'dc:title': 'COVID19-MLSF: A multi-task learning-based stock market forecasting framework during the COVID-19 pandemic', 'dcterms:created': '2023-02-04T09:40:15Z', 'dcterms:modified': '2023-02-07T16:52:03Z', 'doi': '10.1016/j.eswa.2023.119549', 'meta:keyword': 'Stock market forecasting,COVID-19 pandemic,Multi-task learning,Feature fusion,K-nearest neighbor classifier', 'pdf:PDFVersion': '1.7', 'pdf:annotationSubtypes': 'Link', 'pdf:annotationTypes': 'null', 'pdf:charsPerPage': ['4308', '4046', '7115', '4551', '3567', '6426', '1218', '6119', '1896', '4055', '3517', '5861', '730', '833', '5274', '6307'], 'pdf:containsDamagedFont': 'false', 'pdf:containsNonEmbeddedFont': 'false', 'pdf:docinfo:created': '2023-02-04T09:40:15Z', 'pdf:docinfo:creator': 'Chenxun Yuan', 'pdf:docinfo:creator_tool': 'Elsevier', 'pdf:docinfo:custom:CreationDate--Text': '7th February 2023', 'pdf:docinfo:custom:CrossMarkDomains[1]': 'elsevier.com', 'pdf:docinfo:custom:CrossMarkDomains[2]': 'sciencedirect.com', 'pdf:docinfo:custom:CrossmarkDomainExclusive': 'true', 'pdf:docinfo:custom:CrossmarkMajorVersionDate': '2010-04-23', 'pdf:docinfo:custom:ElsevierWebPDFSpecifications': '7.0', 'pdf:docinfo:custom:doi': '10.1016/j.eswa.2023.119549', 'pdf:docinfo:custom:robots': 'noindex', 'pdf:docinfo:keywords': 'Stock market forecasting,COVID-19 pandemic,Multi-task learning,Feature fusion,K-nearest neighbor classifier', 'pdf:docinfo:modified': '2023-02-07T16:52:03Z', 'pdf:docinfo:producer': 'Acrobat Distiller 8.1.0 (Windows)', 'pdf:docinfo:subject': 'Expert Systems With Applications, 217 (2023) 119549. doi:10.1016/j.eswa.2023.119549', 'pdf:docinfo:title': 'COVID19-MLSF: A multi-task learning-based stock market forecasting framework during the COVID-19 pandemic', 'pdf:encrypted': 'false', 'pdf:hasCollection': 'false', 'pdf:hasMarkedContent': 'false', 'pdf:hasXFA': 'false', 'pdf:hasXMP': 'true', 'pdf:num3DAnnotations': '0', 'pdf:overallPercentageUnmappedUnicodeChars': '0.0', 'pdf:producer': 'Acrobat Distiller 8.1.0 (Windows)', 'pdf:totalUnmappedUnicodeChars': '0', 'pdf:unmappedUnicodeCharsPerPage': ['0', '0', '0', '0', '0', '0', '0', '0', '0', '0', '0', '0', '0', '0', '0', '0'], 'resourceName': \"b'COVID19-MLSF--A-multi-task-learning-based-stock-market_2023_Expert-Systems-w.pdf'\", 'robots': 'noindex', 'xmp:CreateDate': '2023-02-04T09:40:15Z', 'xmp:CreatorTool': 'Elsevier', 'xmp:MetadataDate': '2023-02-07T16:52:03Z', 'xmp:ModifyDate': '2023-02-07T16:52:03Z', 'xmpMM:DocumentID': 'uuid:1b499bed-4ce8-4c0c-b682-0d58baae1cbe', 'xmpTPg:NPages': '16'}\n",
      "\u001b[32m2025-01-13 11:20:17.138\u001b[0m | \u001b[1mINFO    \u001b[0m | \u001b[36m__main__\u001b[0m:\u001b[36m<module>\u001b[0m:\u001b[36m81\u001b[0m - file metadata JSON: None\n",
      "\u001b[32m2025-01-13 11:20:17.138\u001b[0m | \u001b[1mINFO    \u001b[0m | \u001b[36m__main__\u001b[0m:\u001b[36m<module>\u001b[0m:\u001b[36m16\u001b[0m - Processing Project ID: 37355@test\n",
      "\u001b[32m2025-01-13 11:20:17.138\u001b[0m | \u001b[1mINFO    \u001b[0m | \u001b[36m__main__\u001b[0m:\u001b[36m<module>\u001b[0m:\u001b[36m17\u001b[0m - File CID: QmUq29KRwpTdvScB5oYzEDobDHyb4N1f9eaZXm4VaMCgiW\n",
      "\u001b[32m2025-01-13 11:20:17.138\u001b[0m | \u001b[1mINFO    \u001b[0m | \u001b[36m__main__\u001b[0m:\u001b[36m<module>\u001b[0m:\u001b[36m18\u001b[0m - Metadata CID: QmedM2sDbqRi5VmoWAUvwbuPrtSkLjHzYqor4FWK4223FV\n",
      "\u001b[32m2025-01-13 11:20:17.156\u001b[0m | \u001b[1mINFO    \u001b[0m | \u001b[36m__main__\u001b[0m:\u001b[36m<module>\u001b[0m:\u001b[36m29\u001b[0m - Fetched project details for 37355@test: { \"admin@test\" : { \"file_1\" : \"QmUq29KRwpTdvScB5oYzEDobDHyb4N1f9eaZXm4VaMCgiW, QmNf9v11kNmrrrFw58VdMnS7GAjdfss6aiBaVkKq4ghdn7\", \"linked_user\" : \"wizardly_murdock@test\", \"project_metadata_cid\" : \"QmVqM2d9FhPwQNAhQ2mUCi9mzw8EdF3oqM4wzAHMUqcWWd\" } }\n",
      "\u001b[32m2025-01-13 11:20:17.156\u001b[0m | \u001b[1mINFO    \u001b[0m | \u001b[36msuper_helper\u001b[0m:\u001b[36mfetch_project_details\u001b[0m:\u001b[36m266\u001b[0m - Validating and fetching details for CID: QmUq29KRwpTdvScB5oYzEDobDHyb4N1f9eaZXm4VaMCgiW\n",
      "\u001b[32m2025-01-13 11:20:17.156\u001b[0m | \u001b[1mINFO    \u001b[0m | \u001b[36msuper_helper\u001b[0m:\u001b[36mfetch_project_details\u001b[0m:\u001b[36m274\u001b[0m - File CID QmUq29KRwpTdvScB5oYzEDobDHyb4N1f9eaZXm4VaMCgiW found under file_1.\n",
      "\u001b[32m2025-01-13 11:20:17.157\u001b[0m | \u001b[1mINFO    \u001b[0m | \u001b[36m__main__\u001b[0m:\u001b[36m<module>\u001b[0m:\u001b[36m40\u001b[0m - Valid Result for 37355@test is {'is_valid': True, 'project_metadata_cid': 'QmVqM2d9FhPwQNAhQ2mUCi9mzw8EdF3oqM4wzAHMUqcWWd', 'linked_user': 'wizardly_murdock@test'}.\n",
      "\u001b[32m2025-01-13 11:20:17.157\u001b[0m | \u001b[1mINFO    \u001b[0m | \u001b[36m__main__\u001b[0m:\u001b[36m<module>\u001b[0m:\u001b[36m48\u001b[0m - Valid File CID for 37355@test.\n",
      "\u001b[32m2025-01-13 11:20:17.157\u001b[0m | \u001b[1mINFO    \u001b[0m | \u001b[36m__main__\u001b[0m:\u001b[36m<module>\u001b[0m:\u001b[36m49\u001b[0m - Project Metadata CID: QmVqM2d9FhPwQNAhQ2mUCi9mzw8EdF3oqM4wzAHMUqcWWd\n",
      "\u001b[32m2025-01-13 11:20:17.157\u001b[0m | \u001b[1mINFO    \u001b[0m | \u001b[36m__main__\u001b[0m:\u001b[36m<module>\u001b[0m:\u001b[36m50\u001b[0m - Linked User: wizardly_murdock@test\n",
      "\u001b[32m2025-01-13 11:20:17.157\u001b[0m | \u001b[1mINFO    \u001b[0m | \u001b[36m__main__\u001b[0m:\u001b[36m<module>\u001b[0m:\u001b[36m54\u001b[0m - Processing project metadata CID: QmVqM2d9FhPwQNAhQ2mUCi9mzw8EdF3oqM4wzAHMUqcWWd\n",
      "\u001b[32m2025-01-13 11:20:17.164\u001b[0m | \u001b[1mINFO    \u001b[0m | \u001b[36m__main__\u001b[0m:\u001b[36m<module>\u001b[0m:\u001b[36m56\u001b[0m - Downloaded project metadata: {'@context': {'dc': 'http://purl.org/dc/terms/', 'schema': 'http://schema.org/'}, '@type': 'schema:ResearchProject', 'dc:abstract': 'This research focuses on the benefits and challenges posed by virtual reality for urban planning, with an emphasis on its potential for environmental restoration.', 'schema:endDate': '2025-05-16', 'schema:funding': {'@type': 'schema:Organization', 'schema:name': 'Bill and Melinda Gates Foundation'}, 'schema:keywords': ['virtual reality', 'urban planning', 'environmental restoration'], 'schema:location': {'@type': 'schema:Place', 'schema:name': 'Tokyo, Japan'}, 'schema:name': 'Assessing the Benefits of virtual reality for urban planning', 'schema:startDate': '2022-05-05'}\n",
      "\u001b[32m2025-01-13 11:20:17.165\u001b[0m | \u001b[1mINFO    \u001b[0m | \u001b[36m__main__\u001b[0m:\u001b[36m<module>\u001b[0m:\u001b[36m59\u001b[0m - Processing linked user: wizardly_murdock@test\n",
      "\u001b[32m2025-01-13 11:20:17.184\u001b[0m | \u001b[1mINFO    \u001b[0m | \u001b[36m__main__\u001b[0m:\u001b[36m<module>\u001b[0m:\u001b[36m69\u001b[0m - User JSON-LD CID: QmasGHctfDbkzhaqebKGicpyDtVxhswtDaX99XpMnLvcXC\n",
      "\u001b[32m2025-01-13 11:20:17.189\u001b[0m | \u001b[1mINFO    \u001b[0m | \u001b[36m__main__\u001b[0m:\u001b[36m<module>\u001b[0m:\u001b[36m71\u001b[0m - Downloaded user metadata: {'@type': 'foaf:Person', 'foaf:holdsAccount': {'schema:identifier': 'wizardly_murdock@test', 'schema:publicKey': '944f6ca0b600f7d9705a9dc1853ea6432221b91836251196630c02bf465cbf20', 'schema:roleName': 'author'}, 'foaf:mbox': 'wizardly_murdock@email.com', 'foaf:name': 'Wizardly Murdock', 'foaf:organization': {'@type': 'foaf:Organization', 'foaf:name': 'Baqai Medical University'}, 'schema:identifier': {'@type': 'PropertyValue', 'propertyID': 'ORCID', 'value': '3202-1900-4101-X'}}\n",
      "\u001b[32m2025-01-13 11:20:17.190\u001b[0m | \u001b[1mINFO    \u001b[0m | \u001b[36m__main__\u001b[0m:\u001b[36m<module>\u001b[0m:\u001b[36m76\u001b[0m - Processing metadata CID: QmedM2sDbqRi5VmoWAUvwbuPrtSkLjHzYqor4FWK4223FV\n",
      "\u001b[32m2025-01-13 11:20:17.195\u001b[0m | \u001b[1mINFO    \u001b[0m | \u001b[36msuper_helper\u001b[0m:\u001b[36mdownload_file\u001b[0m:\u001b[36m28\u001b[0m - Cleaned file name: COVID19-MLSF--A-multi-task-learning-based-stock-market_2023_Expert-Systems-w.pdf\n",
      "\u001b[32m2025-01-13 11:20:17.195\u001b[0m | \u001b[1mINFO    \u001b[0m | \u001b[36msuper_helper\u001b[0m:\u001b[36mdownload_file\u001b[0m:\u001b[36m33\u001b[0m - Download directory ready: download/37355@test\n",
      "\u001b[32m2025-01-13 11:20:17.195\u001b[0m | \u001b[1mINFO    \u001b[0m | \u001b[36msuper_helper\u001b[0m:\u001b[36mdownload_file\u001b[0m:\u001b[36m37\u001b[0m - Downloading file to: download/37355@test/COVID19-MLSF--A-multi-task-learning-based-stock-market_2023_Expert-Systems-w.pdf\n",
      "\u001b[32m2025-01-13 11:20:17.271\u001b[0m | \u001b[1mINFO    \u001b[0m | \u001b[36m__main__\u001b[0m:\u001b[36m<module>\u001b[0m:\u001b[36m79\u001b[0m - Downloaded file metadata: QmedM2sDbqRi5VmoWAUvwbuPrtSkLjHzYqor4FWK4223FV\n",
      "\u001b[32m2025-01-13 11:20:17.272\u001b[0m | \u001b[1mINFO    \u001b[0m | \u001b[36m__main__\u001b[0m:\u001b[36m<module>\u001b[0m:\u001b[36m80\u001b[0m - file metadata: {'Content-Length': '4016043', 'Content-Type': 'application/pdf', 'CreationDate--Text': '7th February 2023', 'CrossMarkDomains[1]': 'elsevier.com', 'CrossMarkDomains[2]': 'sciencedirect.com', 'CrossmarkDomainExclusive': 'true', 'CrossmarkMajorVersionDate': '2010-04-23', 'ElsevierWebPDFSpecifications': '7.0', 'X-TIKA:Parsed-By': ['org.apache.tika.parser.DefaultParser', 'org.apache.tika.parser.pdf.PDFParser'], 'X-TIKA:Parsed-By-Full-Set': ['org.apache.tika.parser.DefaultParser', 'org.apache.tika.parser.pdf.PDFParser'], 'X-TIKA:content_handler': 'ToTextContentHandler', 'X-TIKA:embedded_depth': '0', 'X-TIKA:parse_time_millis': '110', 'access_permission:assemble_document': 'true', 'access_permission:can_modify': 'true', 'access_permission:can_print': 'true', 'access_permission:can_print_degraded': 'true', 'access_permission:extract_content': 'true', 'access_permission:extract_for_accessibility': 'true', 'access_permission:fill_in_form': 'true', 'access_permission:modify_annotations': 'true', 'dc:creator': ['Chenxun Yuan', 'Xiang Ma', 'Hua Wang', 'Caiming Zhang', 'Xuemei Li'], 'dc:description': 'Expert Systems With Applications, 217 (2023) 119549. doi:10.1016/j.eswa.2023.119549', 'dc:format': 'application/pdf; version=1.7', 'dc:language': 'en-US', 'dc:subject': ['Stock market forecasting,COVID-19 pandemic,Multi-task learning,Feature fusion,K-nearest neighbor classifier', 'Expert Systems With Applications, 217 (2023) 119549. doi:10.1016/j.eswa.2023.119549'], 'dc:title': 'COVID19-MLSF: A multi-task learning-based stock market forecasting framework during the COVID-19 pandemic', 'dcterms:created': '2023-02-04T09:40:15Z', 'dcterms:modified': '2023-02-07T16:52:03Z', 'doi': '10.1016/j.eswa.2023.119549', 'meta:keyword': 'Stock market forecasting,COVID-19 pandemic,Multi-task learning,Feature fusion,K-nearest neighbor classifier', 'pdf:PDFVersion': '1.7', 'pdf:annotationSubtypes': 'Link', 'pdf:annotationTypes': 'null', 'pdf:charsPerPage': ['4308', '4046', '7115', '4551', '3567', '6426', '1218', '6119', '1896', '4055', '3517', '5861', '730', '833', '5274', '6307'], 'pdf:containsDamagedFont': 'false', 'pdf:containsNonEmbeddedFont': 'false', 'pdf:docinfo:created': '2023-02-04T09:40:15Z', 'pdf:docinfo:creator': 'Chenxun Yuan', 'pdf:docinfo:creator_tool': 'Elsevier', 'pdf:docinfo:custom:CreationDate--Text': '7th February 2023', 'pdf:docinfo:custom:CrossMarkDomains[1]': 'elsevier.com', 'pdf:docinfo:custom:CrossMarkDomains[2]': 'sciencedirect.com', 'pdf:docinfo:custom:CrossmarkDomainExclusive': 'true', 'pdf:docinfo:custom:CrossmarkMajorVersionDate': '2010-04-23', 'pdf:docinfo:custom:ElsevierWebPDFSpecifications': '7.0', 'pdf:docinfo:custom:doi': '10.1016/j.eswa.2023.119549', 'pdf:docinfo:custom:robots': 'noindex', 'pdf:docinfo:keywords': 'Stock market forecasting,COVID-19 pandemic,Multi-task learning,Feature fusion,K-nearest neighbor classifier', 'pdf:docinfo:modified': '2023-02-07T16:52:03Z', 'pdf:docinfo:producer': 'Acrobat Distiller 8.1.0 (Windows)', 'pdf:docinfo:subject': 'Expert Systems With Applications, 217 (2023) 119549. doi:10.1016/j.eswa.2023.119549', 'pdf:docinfo:title': 'COVID19-MLSF: A multi-task learning-based stock market forecasting framework during the COVID-19 pandemic', 'pdf:encrypted': 'false', 'pdf:hasCollection': 'false', 'pdf:hasMarkedContent': 'false', 'pdf:hasXFA': 'false', 'pdf:hasXMP': 'true', 'pdf:num3DAnnotations': '0', 'pdf:overallPercentageUnmappedUnicodeChars': '0.0', 'pdf:producer': 'Acrobat Distiller 8.1.0 (Windows)', 'pdf:totalUnmappedUnicodeChars': '0', 'pdf:unmappedUnicodeCharsPerPage': ['0', '0', '0', '0', '0', '0', '0', '0', '0', '0', '0', '0', '0', '0', '0', '0'], 'resourceName': \"b'COVID19-MLSF--A-multi-task-learning-based-stock-market_2023_Expert-Systems-w.pdf'\", 'robots': 'noindex', 'xmp:CreateDate': '2023-02-04T09:40:15Z', 'xmp:CreatorTool': 'Elsevier', 'xmp:MetadataDate': '2023-02-07T16:52:03Z', 'xmp:ModifyDate': '2023-02-07T16:52:03Z', 'xmpMM:DocumentID': 'uuid:1b499bed-4ce8-4c0c-b682-0d58baae1cbe', 'xmpTPg:NPages': '16'}\n",
      "\u001b[32m2025-01-13 11:20:17.272\u001b[0m | \u001b[1mINFO    \u001b[0m | \u001b[36m__main__\u001b[0m:\u001b[36m<module>\u001b[0m:\u001b[36m81\u001b[0m - file metadata JSON: None\n",
      "\u001b[32m2025-01-13 11:20:17.272\u001b[0m | \u001b[1mINFO    \u001b[0m | \u001b[36m__main__\u001b[0m:\u001b[36m<module>\u001b[0m:\u001b[36m16\u001b[0m - Processing Project ID: 37355@test\n",
      "\u001b[32m2025-01-13 11:20:17.272\u001b[0m | \u001b[1mINFO    \u001b[0m | \u001b[36m__main__\u001b[0m:\u001b[36m<module>\u001b[0m:\u001b[36m17\u001b[0m - File CID: QmUq29KRwpTdvScB5oYzEDobDHyb4N1f9eaZXm4VaMCgiW\n",
      "\u001b[32m2025-01-13 11:20:17.273\u001b[0m | \u001b[1mINFO    \u001b[0m | \u001b[36m__main__\u001b[0m:\u001b[36m<module>\u001b[0m:\u001b[36m18\u001b[0m - Metadata CID: QmY3c4tCzveKDUZKjqyj9a6U8vDkuAs3q88D1UkcmWdBtJ\n",
      "\u001b[32m2025-01-13 11:20:17.288\u001b[0m | \u001b[1mINFO    \u001b[0m | \u001b[36m__main__\u001b[0m:\u001b[36m<module>\u001b[0m:\u001b[36m29\u001b[0m - Fetched project details for 37355@test: { \"admin@test\" : { \"file_1\" : \"QmUq29KRwpTdvScB5oYzEDobDHyb4N1f9eaZXm4VaMCgiW, QmNf9v11kNmrrrFw58VdMnS7GAjdfss6aiBaVkKq4ghdn7\", \"linked_user\" : \"wizardly_murdock@test\", \"project_metadata_cid\" : \"QmVqM2d9FhPwQNAhQ2mUCi9mzw8EdF3oqM4wzAHMUqcWWd\" } }\n",
      "\u001b[32m2025-01-13 11:20:17.288\u001b[0m | \u001b[1mINFO    \u001b[0m | \u001b[36msuper_helper\u001b[0m:\u001b[36mfetch_project_details\u001b[0m:\u001b[36m266\u001b[0m - Validating and fetching details for CID: QmUq29KRwpTdvScB5oYzEDobDHyb4N1f9eaZXm4VaMCgiW\n",
      "\u001b[32m2025-01-13 11:20:17.289\u001b[0m | \u001b[1mINFO    \u001b[0m | \u001b[36msuper_helper\u001b[0m:\u001b[36mfetch_project_details\u001b[0m:\u001b[36m274\u001b[0m - File CID QmUq29KRwpTdvScB5oYzEDobDHyb4N1f9eaZXm4VaMCgiW found under file_1.\n",
      "\u001b[32m2025-01-13 11:20:17.289\u001b[0m | \u001b[1mINFO    \u001b[0m | \u001b[36m__main__\u001b[0m:\u001b[36m<module>\u001b[0m:\u001b[36m40\u001b[0m - Valid Result for 37355@test is {'is_valid': True, 'project_metadata_cid': 'QmVqM2d9FhPwQNAhQ2mUCi9mzw8EdF3oqM4wzAHMUqcWWd', 'linked_user': 'wizardly_murdock@test'}.\n",
      "\u001b[32m2025-01-13 11:20:17.289\u001b[0m | \u001b[1mINFO    \u001b[0m | \u001b[36m__main__\u001b[0m:\u001b[36m<module>\u001b[0m:\u001b[36m48\u001b[0m - Valid File CID for 37355@test.\n",
      "\u001b[32m2025-01-13 11:20:17.289\u001b[0m | \u001b[1mINFO    \u001b[0m | \u001b[36m__main__\u001b[0m:\u001b[36m<module>\u001b[0m:\u001b[36m49\u001b[0m - Project Metadata CID: QmVqM2d9FhPwQNAhQ2mUCi9mzw8EdF3oqM4wzAHMUqcWWd\n",
      "\u001b[32m2025-01-13 11:20:17.289\u001b[0m | \u001b[1mINFO    \u001b[0m | \u001b[36m__main__\u001b[0m:\u001b[36m<module>\u001b[0m:\u001b[36m50\u001b[0m - Linked User: wizardly_murdock@test\n",
      "\u001b[32m2025-01-13 11:20:17.289\u001b[0m | \u001b[1mINFO    \u001b[0m | \u001b[36m__main__\u001b[0m:\u001b[36m<module>\u001b[0m:\u001b[36m54\u001b[0m - Processing project metadata CID: QmVqM2d9FhPwQNAhQ2mUCi9mzw8EdF3oqM4wzAHMUqcWWd\n",
      "\u001b[32m2025-01-13 11:20:17.296\u001b[0m | \u001b[1mINFO    \u001b[0m | \u001b[36m__main__\u001b[0m:\u001b[36m<module>\u001b[0m:\u001b[36m56\u001b[0m - Downloaded project metadata: {'@context': {'dc': 'http://purl.org/dc/terms/', 'schema': 'http://schema.org/'}, '@type': 'schema:ResearchProject', 'dc:abstract': 'This research focuses on the benefits and challenges posed by virtual reality for urban planning, with an emphasis on its potential for environmental restoration.', 'schema:endDate': '2025-05-16', 'schema:funding': {'@type': 'schema:Organization', 'schema:name': 'Bill and Melinda Gates Foundation'}, 'schema:keywords': ['virtual reality', 'urban planning', 'environmental restoration'], 'schema:location': {'@type': 'schema:Place', 'schema:name': 'Tokyo, Japan'}, 'schema:name': 'Assessing the Benefits of virtual reality for urban planning', 'schema:startDate': '2022-05-05'}\n",
      "\u001b[32m2025-01-13 11:20:17.296\u001b[0m | \u001b[1mINFO    \u001b[0m | \u001b[36m__main__\u001b[0m:\u001b[36m<module>\u001b[0m:\u001b[36m59\u001b[0m - Processing linked user: wizardly_murdock@test\n",
      "\u001b[32m2025-01-13 11:20:17.314\u001b[0m | \u001b[1mINFO    \u001b[0m | \u001b[36m__main__\u001b[0m:\u001b[36m<module>\u001b[0m:\u001b[36m69\u001b[0m - User JSON-LD CID: QmasGHctfDbkzhaqebKGicpyDtVxhswtDaX99XpMnLvcXC\n",
      "\u001b[32m2025-01-13 11:20:17.320\u001b[0m | \u001b[1mINFO    \u001b[0m | \u001b[36m__main__\u001b[0m:\u001b[36m<module>\u001b[0m:\u001b[36m71\u001b[0m - Downloaded user metadata: {'@type': 'foaf:Person', 'foaf:holdsAccount': {'schema:identifier': 'wizardly_murdock@test', 'schema:publicKey': '944f6ca0b600f7d9705a9dc1853ea6432221b91836251196630c02bf465cbf20', 'schema:roleName': 'author'}, 'foaf:mbox': 'wizardly_murdock@email.com', 'foaf:name': 'Wizardly Murdock', 'foaf:organization': {'@type': 'foaf:Organization', 'foaf:name': 'Baqai Medical University'}, 'schema:identifier': {'@type': 'PropertyValue', 'propertyID': 'ORCID', 'value': '3202-1900-4101-X'}}\n",
      "\u001b[32m2025-01-13 11:20:17.320\u001b[0m | \u001b[1mINFO    \u001b[0m | \u001b[36m__main__\u001b[0m:\u001b[36m<module>\u001b[0m:\u001b[36m76\u001b[0m - Processing metadata CID: QmY3c4tCzveKDUZKjqyj9a6U8vDkuAs3q88D1UkcmWdBtJ\n",
      "\u001b[32m2025-01-13 11:20:17.325\u001b[0m | \u001b[1mINFO    \u001b[0m | \u001b[36msuper_helper\u001b[0m:\u001b[36mdownload_file\u001b[0m:\u001b[36m28\u001b[0m - Cleaned file name: COVID19-MLSF--A-multi-task-learning-based-stock-market_2023_Expert-Systems-w.pdf\n",
      "\u001b[32m2025-01-13 11:20:17.325\u001b[0m | \u001b[1mINFO    \u001b[0m | \u001b[36msuper_helper\u001b[0m:\u001b[36mdownload_file\u001b[0m:\u001b[36m33\u001b[0m - Download directory ready: download/37355@test\n",
      "\u001b[32m2025-01-13 11:20:17.325\u001b[0m | \u001b[1mINFO    \u001b[0m | \u001b[36msuper_helper\u001b[0m:\u001b[36mdownload_file\u001b[0m:\u001b[36m37\u001b[0m - Downloading file to: download/37355@test/COVID19-MLSF--A-multi-task-learning-based-stock-market_2023_Expert-Systems-w.pdf\n",
      "\u001b[32m2025-01-13 11:20:17.366\u001b[0m | \u001b[1mINFO    \u001b[0m | \u001b[36m__main__\u001b[0m:\u001b[36m<module>\u001b[0m:\u001b[36m79\u001b[0m - Downloaded file metadata: QmY3c4tCzveKDUZKjqyj9a6U8vDkuAs3q88D1UkcmWdBtJ\n",
      "\u001b[32m2025-01-13 11:20:17.367\u001b[0m | \u001b[1mINFO    \u001b[0m | \u001b[36m__main__\u001b[0m:\u001b[36m<module>\u001b[0m:\u001b[36m80\u001b[0m - file metadata: {'Content-Length': '4016043', 'Content-Type': 'application/pdf', 'CreationDate--Text': '7th February 2023', 'CrossMarkDomains[1]': 'elsevier.com', 'CrossMarkDomains[2]': 'sciencedirect.com', 'CrossmarkDomainExclusive': 'true', 'CrossmarkMajorVersionDate': '2010-04-23', 'ElsevierWebPDFSpecifications': '7.0', 'X-TIKA:Parsed-By': ['org.apache.tika.parser.DefaultParser', 'org.apache.tika.parser.pdf.PDFParser'], 'X-TIKA:Parsed-By-Full-Set': ['org.apache.tika.parser.DefaultParser', 'org.apache.tika.parser.pdf.PDFParser'], 'X-TIKA:content_handler': 'ToTextContentHandler', 'X-TIKA:embedded_depth': '0', 'X-TIKA:parse_time_millis': '122', 'access_permission:assemble_document': 'true', 'access_permission:can_modify': 'true', 'access_permission:can_print': 'true', 'access_permission:can_print_degraded': 'true', 'access_permission:extract_content': 'true', 'access_permission:extract_for_accessibility': 'true', 'access_permission:fill_in_form': 'true', 'access_permission:modify_annotations': 'true', 'dc:creator': ['Chenxun Yuan', 'Xiang Ma', 'Hua Wang', 'Caiming Zhang', 'Xuemei Li'], 'dc:description': 'Expert Systems With Applications, 217 (2023) 119549. doi:10.1016/j.eswa.2023.119549', 'dc:format': 'application/pdf; version=1.7', 'dc:language': 'en-US', 'dc:subject': ['Stock market forecasting,COVID-19 pandemic,Multi-task learning,Feature fusion,K-nearest neighbor classifier', 'Expert Systems With Applications, 217 (2023) 119549. doi:10.1016/j.eswa.2023.119549'], 'dc:title': 'COVID19-MLSF: A multi-task learning-based stock market forecasting framework during the COVID-19 pandemic', 'dcterms:created': '2023-02-04T09:40:15Z', 'dcterms:modified': '2023-02-07T16:52:03Z', 'doi': '10.1016/j.eswa.2023.119549', 'meta:keyword': 'Stock market forecasting,COVID-19 pandemic,Multi-task learning,Feature fusion,K-nearest neighbor classifier', 'pdf:PDFVersion': '1.7', 'pdf:annotationSubtypes': 'Link', 'pdf:annotationTypes': 'null', 'pdf:charsPerPage': ['4308', '4046', '7115', '4551', '3567', '6426', '1218', '6119', '1896', '4055', '3517', '5861', '730', '833', '5274', '6307'], 'pdf:containsDamagedFont': 'false', 'pdf:containsNonEmbeddedFont': 'false', 'pdf:docinfo:created': '2023-02-04T09:40:15Z', 'pdf:docinfo:creator': 'Chenxun Yuan', 'pdf:docinfo:creator_tool': 'Elsevier', 'pdf:docinfo:custom:CreationDate--Text': '7th February 2023', 'pdf:docinfo:custom:CrossMarkDomains[1]': 'elsevier.com', 'pdf:docinfo:custom:CrossMarkDomains[2]': 'sciencedirect.com', 'pdf:docinfo:custom:CrossmarkDomainExclusive': 'true', 'pdf:docinfo:custom:CrossmarkMajorVersionDate': '2010-04-23', 'pdf:docinfo:custom:ElsevierWebPDFSpecifications': '7.0', 'pdf:docinfo:custom:doi': '10.1016/j.eswa.2023.119549', 'pdf:docinfo:custom:robots': 'noindex', 'pdf:docinfo:keywords': 'Stock market forecasting,COVID-19 pandemic,Multi-task learning,Feature fusion,K-nearest neighbor classifier', 'pdf:docinfo:modified': '2023-02-07T16:52:03Z', 'pdf:docinfo:producer': 'Acrobat Distiller 8.1.0 (Windows)', 'pdf:docinfo:subject': 'Expert Systems With Applications, 217 (2023) 119549. doi:10.1016/j.eswa.2023.119549', 'pdf:docinfo:title': 'COVID19-MLSF: A multi-task learning-based stock market forecasting framework during the COVID-19 pandemic', 'pdf:encrypted': 'false', 'pdf:hasCollection': 'false', 'pdf:hasMarkedContent': 'false', 'pdf:hasXFA': 'false', 'pdf:hasXMP': 'true', 'pdf:num3DAnnotations': '0', 'pdf:overallPercentageUnmappedUnicodeChars': '0.0', 'pdf:producer': 'Acrobat Distiller 8.1.0 (Windows)', 'pdf:totalUnmappedUnicodeChars': '0', 'pdf:unmappedUnicodeCharsPerPage': ['0', '0', '0', '0', '0', '0', '0', '0', '0', '0', '0', '0', '0', '0', '0', '0'], 'resourceName': \"b'COVID19-MLSF--A-multi-task-learning-based-stock-market_2023_Expert-Systems-w.pdf'\", 'robots': 'noindex', 'xmp:CreateDate': '2023-02-04T09:40:15Z', 'xmp:CreatorTool': 'Elsevier', 'xmp:MetadataDate': '2023-02-07T16:52:03Z', 'xmp:ModifyDate': '2023-02-07T16:52:03Z', 'xmpMM:DocumentID': 'uuid:1b499bed-4ce8-4c0c-b682-0d58baae1cbe', 'xmpTPg:NPages': '16'}\n",
      "\u001b[32m2025-01-13 11:20:17.367\u001b[0m | \u001b[1mINFO    \u001b[0m | \u001b[36m__main__\u001b[0m:\u001b[36m<module>\u001b[0m:\u001b[36m81\u001b[0m - file metadata JSON: None\n",
      "\u001b[32m2025-01-13 11:20:17.367\u001b[0m | \u001b[1mINFO    \u001b[0m | \u001b[36m__main__\u001b[0m:\u001b[36m<module>\u001b[0m:\u001b[36m16\u001b[0m - Processing Project ID: 37355@test\n",
      "\u001b[32m2025-01-13 11:20:17.367\u001b[0m | \u001b[1mINFO    \u001b[0m | \u001b[36m__main__\u001b[0m:\u001b[36m<module>\u001b[0m:\u001b[36m17\u001b[0m - File CID: QmUq29KRwpTdvScB5oYzEDobDHyb4N1f9eaZXm4VaMCgiW\n",
      "\u001b[32m2025-01-13 11:20:17.367\u001b[0m | \u001b[1mINFO    \u001b[0m | \u001b[36m__main__\u001b[0m:\u001b[36m<module>\u001b[0m:\u001b[36m18\u001b[0m - Metadata CID: QmTDECsHqEHEthrKVChmpeo1VXS1fpptph3EhLCMKZNxCy\n",
      "\u001b[32m2025-01-13 11:20:17.384\u001b[0m | \u001b[1mINFO    \u001b[0m | \u001b[36m__main__\u001b[0m:\u001b[36m<module>\u001b[0m:\u001b[36m29\u001b[0m - Fetched project details for 37355@test: { \"admin@test\" : { \"file_1\" : \"QmUq29KRwpTdvScB5oYzEDobDHyb4N1f9eaZXm4VaMCgiW, QmNf9v11kNmrrrFw58VdMnS7GAjdfss6aiBaVkKq4ghdn7\", \"linked_user\" : \"wizardly_murdock@test\", \"project_metadata_cid\" : \"QmVqM2d9FhPwQNAhQ2mUCi9mzw8EdF3oqM4wzAHMUqcWWd\" } }\n",
      "\u001b[32m2025-01-13 11:20:17.384\u001b[0m | \u001b[1mINFO    \u001b[0m | \u001b[36msuper_helper\u001b[0m:\u001b[36mfetch_project_details\u001b[0m:\u001b[36m266\u001b[0m - Validating and fetching details for CID: QmUq29KRwpTdvScB5oYzEDobDHyb4N1f9eaZXm4VaMCgiW\n",
      "\u001b[32m2025-01-13 11:20:17.384\u001b[0m | \u001b[1mINFO    \u001b[0m | \u001b[36msuper_helper\u001b[0m:\u001b[36mfetch_project_details\u001b[0m:\u001b[36m274\u001b[0m - File CID QmUq29KRwpTdvScB5oYzEDobDHyb4N1f9eaZXm4VaMCgiW found under file_1.\n",
      "\u001b[32m2025-01-13 11:20:17.385\u001b[0m | \u001b[1mINFO    \u001b[0m | \u001b[36m__main__\u001b[0m:\u001b[36m<module>\u001b[0m:\u001b[36m40\u001b[0m - Valid Result for 37355@test is {'is_valid': True, 'project_metadata_cid': 'QmVqM2d9FhPwQNAhQ2mUCi9mzw8EdF3oqM4wzAHMUqcWWd', 'linked_user': 'wizardly_murdock@test'}.\n",
      "\u001b[32m2025-01-13 11:20:17.385\u001b[0m | \u001b[1mINFO    \u001b[0m | \u001b[36m__main__\u001b[0m:\u001b[36m<module>\u001b[0m:\u001b[36m48\u001b[0m - Valid File CID for 37355@test.\n",
      "\u001b[32m2025-01-13 11:20:17.385\u001b[0m | \u001b[1mINFO    \u001b[0m | \u001b[36m__main__\u001b[0m:\u001b[36m<module>\u001b[0m:\u001b[36m49\u001b[0m - Project Metadata CID: QmVqM2d9FhPwQNAhQ2mUCi9mzw8EdF3oqM4wzAHMUqcWWd\n",
      "\u001b[32m2025-01-13 11:20:17.385\u001b[0m | \u001b[1mINFO    \u001b[0m | \u001b[36m__main__\u001b[0m:\u001b[36m<module>\u001b[0m:\u001b[36m50\u001b[0m - Linked User: wizardly_murdock@test\n",
      "\u001b[32m2025-01-13 11:20:17.385\u001b[0m | \u001b[1mINFO    \u001b[0m | \u001b[36m__main__\u001b[0m:\u001b[36m<module>\u001b[0m:\u001b[36m54\u001b[0m - Processing project metadata CID: QmVqM2d9FhPwQNAhQ2mUCi9mzw8EdF3oqM4wzAHMUqcWWd\n",
      "\u001b[32m2025-01-13 11:20:17.390\u001b[0m | \u001b[1mINFO    \u001b[0m | \u001b[36m__main__\u001b[0m:\u001b[36m<module>\u001b[0m:\u001b[36m56\u001b[0m - Downloaded project metadata: {'@context': {'dc': 'http://purl.org/dc/terms/', 'schema': 'http://schema.org/'}, '@type': 'schema:ResearchProject', 'dc:abstract': 'This research focuses on the benefits and challenges posed by virtual reality for urban planning, with an emphasis on its potential for environmental restoration.', 'schema:endDate': '2025-05-16', 'schema:funding': {'@type': 'schema:Organization', 'schema:name': 'Bill and Melinda Gates Foundation'}, 'schema:keywords': ['virtual reality', 'urban planning', 'environmental restoration'], 'schema:location': {'@type': 'schema:Place', 'schema:name': 'Tokyo, Japan'}, 'schema:name': 'Assessing the Benefits of virtual reality for urban planning', 'schema:startDate': '2022-05-05'}\n",
      "\u001b[32m2025-01-13 11:20:17.390\u001b[0m | \u001b[1mINFO    \u001b[0m | \u001b[36m__main__\u001b[0m:\u001b[36m<module>\u001b[0m:\u001b[36m59\u001b[0m - Processing linked user: wizardly_murdock@test\n",
      "\u001b[32m2025-01-13 11:20:17.407\u001b[0m | \u001b[1mINFO    \u001b[0m | \u001b[36m__main__\u001b[0m:\u001b[36m<module>\u001b[0m:\u001b[36m69\u001b[0m - User JSON-LD CID: QmasGHctfDbkzhaqebKGicpyDtVxhswtDaX99XpMnLvcXC\n",
      "\u001b[32m2025-01-13 11:20:17.413\u001b[0m | \u001b[1mINFO    \u001b[0m | \u001b[36m__main__\u001b[0m:\u001b[36m<module>\u001b[0m:\u001b[36m71\u001b[0m - Downloaded user metadata: {'@type': 'foaf:Person', 'foaf:holdsAccount': {'schema:identifier': 'wizardly_murdock@test', 'schema:publicKey': '944f6ca0b600f7d9705a9dc1853ea6432221b91836251196630c02bf465cbf20', 'schema:roleName': 'author'}, 'foaf:mbox': 'wizardly_murdock@email.com', 'foaf:name': 'Wizardly Murdock', 'foaf:organization': {'@type': 'foaf:Organization', 'foaf:name': 'Baqai Medical University'}, 'schema:identifier': {'@type': 'PropertyValue', 'propertyID': 'ORCID', 'value': '3202-1900-4101-X'}}\n",
      "\u001b[32m2025-01-13 11:20:17.413\u001b[0m | \u001b[1mINFO    \u001b[0m | \u001b[36m__main__\u001b[0m:\u001b[36m<module>\u001b[0m:\u001b[36m76\u001b[0m - Processing metadata CID: QmTDECsHqEHEthrKVChmpeo1VXS1fpptph3EhLCMKZNxCy\n",
      "\u001b[32m2025-01-13 11:20:17.418\u001b[0m | \u001b[1mINFO    \u001b[0m | \u001b[36msuper_helper\u001b[0m:\u001b[36mdownload_file\u001b[0m:\u001b[36m28\u001b[0m - Cleaned file name: COVID19-MLSF--A-multi-task-learning-based-stock-market_2023_Expert-Systems-w.pdf\n",
      "\u001b[32m2025-01-13 11:20:17.418\u001b[0m | \u001b[1mINFO    \u001b[0m | \u001b[36msuper_helper\u001b[0m:\u001b[36mdownload_file\u001b[0m:\u001b[36m33\u001b[0m - Download directory ready: download/37355@test\n",
      "\u001b[32m2025-01-13 11:20:17.419\u001b[0m | \u001b[1mINFO    \u001b[0m | \u001b[36msuper_helper\u001b[0m:\u001b[36mdownload_file\u001b[0m:\u001b[36m37\u001b[0m - Downloading file to: download/37355@test/COVID19-MLSF--A-multi-task-learning-based-stock-market_2023_Expert-Systems-w.pdf\n",
      "\u001b[32m2025-01-13 11:20:17.451\u001b[0m | \u001b[1mINFO    \u001b[0m | \u001b[36m__main__\u001b[0m:\u001b[36m<module>\u001b[0m:\u001b[36m79\u001b[0m - Downloaded file metadata: QmTDECsHqEHEthrKVChmpeo1VXS1fpptph3EhLCMKZNxCy\n",
      "\u001b[32m2025-01-13 11:20:17.451\u001b[0m | \u001b[1mINFO    \u001b[0m | \u001b[36m__main__\u001b[0m:\u001b[36m<module>\u001b[0m:\u001b[36m80\u001b[0m - file metadata: {'Content-Length': '4016043', 'Content-Type': 'application/pdf', 'CreationDate--Text': '7th February 2023', 'CrossMarkDomains[1]': 'elsevier.com', 'CrossMarkDomains[2]': 'sciencedirect.com', 'CrossmarkDomainExclusive': 'true', 'CrossmarkMajorVersionDate': '2010-04-23', 'ElsevierWebPDFSpecifications': '7.0', 'X-TIKA:Parsed-By': ['org.apache.tika.parser.DefaultParser', 'org.apache.tika.parser.pdf.PDFParser'], 'X-TIKA:Parsed-By-Full-Set': ['org.apache.tika.parser.DefaultParser', 'org.apache.tika.parser.pdf.PDFParser'], 'X-TIKA:content_handler': 'ToTextContentHandler', 'X-TIKA:embedded_depth': '0', 'X-TIKA:parse_time_millis': '160', 'access_permission:assemble_document': 'true', 'access_permission:can_modify': 'true', 'access_permission:can_print': 'true', 'access_permission:can_print_degraded': 'true', 'access_permission:extract_content': 'true', 'access_permission:extract_for_accessibility': 'true', 'access_permission:fill_in_form': 'true', 'access_permission:modify_annotations': 'true', 'dc:creator': ['Chenxun Yuan', 'Xiang Ma', 'Hua Wang', 'Caiming Zhang', 'Xuemei Li'], 'dc:description': 'Expert Systems With Applications, 217 (2023) 119549. doi:10.1016/j.eswa.2023.119549', 'dc:format': 'application/pdf; version=1.7', 'dc:language': 'en-US', 'dc:subject': ['Stock market forecasting,COVID-19 pandemic,Multi-task learning,Feature fusion,K-nearest neighbor classifier', 'Expert Systems With Applications, 217 (2023) 119549. doi:10.1016/j.eswa.2023.119549'], 'dc:title': 'COVID19-MLSF: A multi-task learning-based stock market forecasting framework during the COVID-19 pandemic', 'dcterms:created': '2023-02-04T09:40:15Z', 'dcterms:modified': '2023-02-07T16:52:03Z', 'doi': '10.1016/j.eswa.2023.119549', 'meta:keyword': 'Stock market forecasting,COVID-19 pandemic,Multi-task learning,Feature fusion,K-nearest neighbor classifier', 'pdf:PDFVersion': '1.7', 'pdf:annotationSubtypes': 'Link', 'pdf:annotationTypes': 'null', 'pdf:charsPerPage': ['4308', '4046', '7115', '4551', '3567', '6426', '1218', '6119', '1896', '4055', '3517', '5861', '730', '833', '5274', '6307'], 'pdf:containsDamagedFont': 'false', 'pdf:containsNonEmbeddedFont': 'false', 'pdf:docinfo:created': '2023-02-04T09:40:15Z', 'pdf:docinfo:creator': 'Chenxun Yuan', 'pdf:docinfo:creator_tool': 'Elsevier', 'pdf:docinfo:custom:CreationDate--Text': '7th February 2023', 'pdf:docinfo:custom:CrossMarkDomains[1]': 'elsevier.com', 'pdf:docinfo:custom:CrossMarkDomains[2]': 'sciencedirect.com', 'pdf:docinfo:custom:CrossmarkDomainExclusive': 'true', 'pdf:docinfo:custom:CrossmarkMajorVersionDate': '2010-04-23', 'pdf:docinfo:custom:ElsevierWebPDFSpecifications': '7.0', 'pdf:docinfo:custom:doi': '10.1016/j.eswa.2023.119549', 'pdf:docinfo:custom:robots': 'noindex', 'pdf:docinfo:keywords': 'Stock market forecasting,COVID-19 pandemic,Multi-task learning,Feature fusion,K-nearest neighbor classifier', 'pdf:docinfo:modified': '2023-02-07T16:52:03Z', 'pdf:docinfo:producer': 'Acrobat Distiller 8.1.0 (Windows)', 'pdf:docinfo:subject': 'Expert Systems With Applications, 217 (2023) 119549. doi:10.1016/j.eswa.2023.119549', 'pdf:docinfo:title': 'COVID19-MLSF: A multi-task learning-based stock market forecasting framework during the COVID-19 pandemic', 'pdf:encrypted': 'false', 'pdf:hasCollection': 'false', 'pdf:hasMarkedContent': 'false', 'pdf:hasXFA': 'false', 'pdf:hasXMP': 'true', 'pdf:num3DAnnotations': '0', 'pdf:overallPercentageUnmappedUnicodeChars': '0.0', 'pdf:producer': 'Acrobat Distiller 8.1.0 (Windows)', 'pdf:totalUnmappedUnicodeChars': '0', 'pdf:unmappedUnicodeCharsPerPage': ['0', '0', '0', '0', '0', '0', '0', '0', '0', '0', '0', '0', '0', '0', '0', '0'], 'resourceName': \"b'COVID19-MLSF--A-multi-task-learning-based-stock-market_2023_Expert-Systems-w.pdf'\", 'robots': 'noindex', 'xmp:CreateDate': '2023-02-04T09:40:15Z', 'xmp:CreatorTool': 'Elsevier', 'xmp:MetadataDate': '2023-02-07T16:52:03Z', 'xmp:ModifyDate': '2023-02-07T16:52:03Z', 'xmpMM:DocumentID': 'uuid:1b499bed-4ce8-4c0c-b682-0d58baae1cbe', 'xmpTPg:NPages': '16'}\n",
      "\u001b[32m2025-01-13 11:20:17.451\u001b[0m | \u001b[1mINFO    \u001b[0m | \u001b[36m__main__\u001b[0m:\u001b[36m<module>\u001b[0m:\u001b[36m81\u001b[0m - file metadata JSON: None\n",
      "\u001b[32m2025-01-13 11:20:17.451\u001b[0m | \u001b[1mINFO    \u001b[0m | \u001b[36m__main__\u001b[0m:\u001b[36m<module>\u001b[0m:\u001b[36m16\u001b[0m - Processing Project ID: 37355@test\n",
      "\u001b[32m2025-01-13 11:20:17.451\u001b[0m | \u001b[1mINFO    \u001b[0m | \u001b[36m__main__\u001b[0m:\u001b[36m<module>\u001b[0m:\u001b[36m17\u001b[0m - File CID: QmUq29KRwpTdvScB5oYzEDobDHyb4N1f9eaZXm4VaMCgiW\n",
      "\u001b[32m2025-01-13 11:20:17.451\u001b[0m | \u001b[1mINFO    \u001b[0m | \u001b[36m__main__\u001b[0m:\u001b[36m<module>\u001b[0m:\u001b[36m18\u001b[0m - Metadata CID: QmcEd1CvbCB98BjtV48ufLfJXH6nkRkfhySonJddo4kXub\n",
      "\u001b[32m2025-01-13 11:20:17.458\u001b[0m | \u001b[1mINFO    \u001b[0m | \u001b[36m__main__\u001b[0m:\u001b[36m<module>\u001b[0m:\u001b[36m29\u001b[0m - Fetched project details for 37355@test: { \"admin@test\" : { \"file_1\" : \"QmUq29KRwpTdvScB5oYzEDobDHyb4N1f9eaZXm4VaMCgiW, QmNf9v11kNmrrrFw58VdMnS7GAjdfss6aiBaVkKq4ghdn7\", \"linked_user\" : \"wizardly_murdock@test\", \"project_metadata_cid\" : \"QmVqM2d9FhPwQNAhQ2mUCi9mzw8EdF3oqM4wzAHMUqcWWd\" } }\n",
      "\u001b[32m2025-01-13 11:20:17.458\u001b[0m | \u001b[1mINFO    \u001b[0m | \u001b[36msuper_helper\u001b[0m:\u001b[36mfetch_project_details\u001b[0m:\u001b[36m266\u001b[0m - Validating and fetching details for CID: QmUq29KRwpTdvScB5oYzEDobDHyb4N1f9eaZXm4VaMCgiW\n",
      "\u001b[32m2025-01-13 11:20:17.458\u001b[0m | \u001b[1mINFO    \u001b[0m | \u001b[36msuper_helper\u001b[0m:\u001b[36mfetch_project_details\u001b[0m:\u001b[36m274\u001b[0m - File CID QmUq29KRwpTdvScB5oYzEDobDHyb4N1f9eaZXm4VaMCgiW found under file_1.\n",
      "\u001b[32m2025-01-13 11:20:17.458\u001b[0m | \u001b[1mINFO    \u001b[0m | \u001b[36m__main__\u001b[0m:\u001b[36m<module>\u001b[0m:\u001b[36m40\u001b[0m - Valid Result for 37355@test is {'is_valid': True, 'project_metadata_cid': 'QmVqM2d9FhPwQNAhQ2mUCi9mzw8EdF3oqM4wzAHMUqcWWd', 'linked_user': 'wizardly_murdock@test'}.\n",
      "\u001b[32m2025-01-13 11:20:17.458\u001b[0m | \u001b[1mINFO    \u001b[0m | \u001b[36m__main__\u001b[0m:\u001b[36m<module>\u001b[0m:\u001b[36m48\u001b[0m - Valid File CID for 37355@test.\n",
      "\u001b[32m2025-01-13 11:20:17.459\u001b[0m | \u001b[1mINFO    \u001b[0m | \u001b[36m__main__\u001b[0m:\u001b[36m<module>\u001b[0m:\u001b[36m49\u001b[0m - Project Metadata CID: QmVqM2d9FhPwQNAhQ2mUCi9mzw8EdF3oqM4wzAHMUqcWWd\n",
      "\u001b[32m2025-01-13 11:20:17.459\u001b[0m | \u001b[1mINFO    \u001b[0m | \u001b[36m__main__\u001b[0m:\u001b[36m<module>\u001b[0m:\u001b[36m50\u001b[0m - Linked User: wizardly_murdock@test\n",
      "\u001b[32m2025-01-13 11:20:17.459\u001b[0m | \u001b[1mINFO    \u001b[0m | \u001b[36m__main__\u001b[0m:\u001b[36m<module>\u001b[0m:\u001b[36m54\u001b[0m - Processing project metadata CID: QmVqM2d9FhPwQNAhQ2mUCi9mzw8EdF3oqM4wzAHMUqcWWd\n",
      "\u001b[32m2025-01-13 11:20:17.461\u001b[0m | \u001b[1mINFO    \u001b[0m | \u001b[36m__main__\u001b[0m:\u001b[36m<module>\u001b[0m:\u001b[36m56\u001b[0m - Downloaded project metadata: {'@context': {'dc': 'http://purl.org/dc/terms/', 'schema': 'http://schema.org/'}, '@type': 'schema:ResearchProject', 'dc:abstract': 'This research focuses on the benefits and challenges posed by virtual reality for urban planning, with an emphasis on its potential for environmental restoration.', 'schema:endDate': '2025-05-16', 'schema:funding': {'@type': 'schema:Organization', 'schema:name': 'Bill and Melinda Gates Foundation'}, 'schema:keywords': ['virtual reality', 'urban planning', 'environmental restoration'], 'schema:location': {'@type': 'schema:Place', 'schema:name': 'Tokyo, Japan'}, 'schema:name': 'Assessing the Benefits of virtual reality for urban planning', 'schema:startDate': '2022-05-05'}\n",
      "\u001b[32m2025-01-13 11:20:17.461\u001b[0m | \u001b[1mINFO    \u001b[0m | \u001b[36m__main__\u001b[0m:\u001b[36m<module>\u001b[0m:\u001b[36m59\u001b[0m - Processing linked user: wizardly_murdock@test\n",
      "\u001b[32m2025-01-13 11:20:17.468\u001b[0m | \u001b[1mINFO    \u001b[0m | \u001b[36m__main__\u001b[0m:\u001b[36m<module>\u001b[0m:\u001b[36m69\u001b[0m - User JSON-LD CID: QmasGHctfDbkzhaqebKGicpyDtVxhswtDaX99XpMnLvcXC\n",
      "\u001b[32m2025-01-13 11:20:17.471\u001b[0m | \u001b[1mINFO    \u001b[0m | \u001b[36m__main__\u001b[0m:\u001b[36m<module>\u001b[0m:\u001b[36m71\u001b[0m - Downloaded user metadata: {'@type': 'foaf:Person', 'foaf:holdsAccount': {'schema:identifier': 'wizardly_murdock@test', 'schema:publicKey': '944f6ca0b600f7d9705a9dc1853ea6432221b91836251196630c02bf465cbf20', 'schema:roleName': 'author'}, 'foaf:mbox': 'wizardly_murdock@email.com', 'foaf:name': 'Wizardly Murdock', 'foaf:organization': {'@type': 'foaf:Organization', 'foaf:name': 'Baqai Medical University'}, 'schema:identifier': {'@type': 'PropertyValue', 'propertyID': 'ORCID', 'value': '3202-1900-4101-X'}}\n",
      "\u001b[32m2025-01-13 11:20:17.471\u001b[0m | \u001b[1mINFO    \u001b[0m | \u001b[36m__main__\u001b[0m:\u001b[36m<module>\u001b[0m:\u001b[36m76\u001b[0m - Processing metadata CID: QmcEd1CvbCB98BjtV48ufLfJXH6nkRkfhySonJddo4kXub\n",
      "\u001b[32m2025-01-13 11:20:17.473\u001b[0m | \u001b[1mINFO    \u001b[0m | \u001b[36msuper_helper\u001b[0m:\u001b[36mdownload_file\u001b[0m:\u001b[36m28\u001b[0m - Cleaned file name: COVID19-MLSF--A-multi-task-learning-based-stock-market_2023_Expert-Systems-w.pdf\n",
      "\u001b[32m2025-01-13 11:20:17.473\u001b[0m | \u001b[1mINFO    \u001b[0m | \u001b[36msuper_helper\u001b[0m:\u001b[36mdownload_file\u001b[0m:\u001b[36m33\u001b[0m - Download directory ready: download/37355@test\n",
      "\u001b[32m2025-01-13 11:20:17.473\u001b[0m | \u001b[1mINFO    \u001b[0m | \u001b[36msuper_helper\u001b[0m:\u001b[36mdownload_file\u001b[0m:\u001b[36m37\u001b[0m - Downloading file to: download/37355@test/COVID19-MLSF--A-multi-task-learning-based-stock-market_2023_Expert-Systems-w.pdf\n",
      "\u001b[32m2025-01-13 11:20:17.495\u001b[0m | \u001b[1mINFO    \u001b[0m | \u001b[36m__main__\u001b[0m:\u001b[36m<module>\u001b[0m:\u001b[36m79\u001b[0m - Downloaded file metadata: QmcEd1CvbCB98BjtV48ufLfJXH6nkRkfhySonJddo4kXub\n",
      "\u001b[32m2025-01-13 11:20:17.495\u001b[0m | \u001b[1mINFO    \u001b[0m | \u001b[36m__main__\u001b[0m:\u001b[36m<module>\u001b[0m:\u001b[36m80\u001b[0m - file metadata: {'Content-Length': '4016043', 'Content-Type': 'application/pdf', 'CreationDate--Text': '7th February 2023', 'CrossMarkDomains[1]': 'elsevier.com', 'CrossMarkDomains[2]': 'sciencedirect.com', 'CrossmarkDomainExclusive': 'true', 'CrossmarkMajorVersionDate': '2010-04-23', 'ElsevierWebPDFSpecifications': '7.0', 'X-TIKA:Parsed-By': ['org.apache.tika.parser.DefaultParser', 'org.apache.tika.parser.pdf.PDFParser'], 'X-TIKA:Parsed-By-Full-Set': ['org.apache.tika.parser.DefaultParser', 'org.apache.tika.parser.pdf.PDFParser'], 'X-TIKA:content_handler': 'ToTextContentHandler', 'X-TIKA:embedded_depth': '0', 'X-TIKA:parse_time_millis': '116', 'access_permission:assemble_document': 'true', 'access_permission:can_modify': 'true', 'access_permission:can_print': 'true', 'access_permission:can_print_degraded': 'true', 'access_permission:extract_content': 'true', 'access_permission:extract_for_accessibility': 'true', 'access_permission:fill_in_form': 'true', 'access_permission:modify_annotations': 'true', 'dc:creator': ['Chenxun Yuan', 'Xiang Ma', 'Hua Wang', 'Caiming Zhang', 'Xuemei Li'], 'dc:description': 'Expert Systems With Applications, 217 (2023) 119549. doi:10.1016/j.eswa.2023.119549', 'dc:format': 'application/pdf; version=1.7', 'dc:language': 'en-US', 'dc:subject': ['Stock market forecasting,COVID-19 pandemic,Multi-task learning,Feature fusion,K-nearest neighbor classifier', 'Expert Systems With Applications, 217 (2023) 119549. doi:10.1016/j.eswa.2023.119549'], 'dc:title': 'COVID19-MLSF: A multi-task learning-based stock market forecasting framework during the COVID-19 pandemic', 'dcterms:created': '2023-02-04T09:40:15Z', 'dcterms:modified': '2023-02-07T16:52:03Z', 'doi': '10.1016/j.eswa.2023.119549', 'meta:keyword': 'Stock market forecasting,COVID-19 pandemic,Multi-task learning,Feature fusion,K-nearest neighbor classifier', 'pdf:PDFVersion': '1.7', 'pdf:annotationSubtypes': 'Link', 'pdf:annotationTypes': 'null', 'pdf:charsPerPage': ['4308', '4046', '7115', '4551', '3567', '6426', '1218', '6119', '1896', '4055', '3517', '5861', '730', '833', '5274', '6307'], 'pdf:containsDamagedFont': 'false', 'pdf:containsNonEmbeddedFont': 'false', 'pdf:docinfo:created': '2023-02-04T09:40:15Z', 'pdf:docinfo:creator': 'Chenxun Yuan', 'pdf:docinfo:creator_tool': 'Elsevier', 'pdf:docinfo:custom:CreationDate--Text': '7th February 2023', 'pdf:docinfo:custom:CrossMarkDomains[1]': 'elsevier.com', 'pdf:docinfo:custom:CrossMarkDomains[2]': 'sciencedirect.com', 'pdf:docinfo:custom:CrossmarkDomainExclusive': 'true', 'pdf:docinfo:custom:CrossmarkMajorVersionDate': '2010-04-23', 'pdf:docinfo:custom:ElsevierWebPDFSpecifications': '7.0', 'pdf:docinfo:custom:doi': '10.1016/j.eswa.2023.119549', 'pdf:docinfo:custom:robots': 'noindex', 'pdf:docinfo:keywords': 'Stock market forecasting,COVID-19 pandemic,Multi-task learning,Feature fusion,K-nearest neighbor classifier', 'pdf:docinfo:modified': '2023-02-07T16:52:03Z', 'pdf:docinfo:producer': 'Acrobat Distiller 8.1.0 (Windows)', 'pdf:docinfo:subject': 'Expert Systems With Applications, 217 (2023) 119549. doi:10.1016/j.eswa.2023.119549', 'pdf:docinfo:title': 'COVID19-MLSF: A multi-task learning-based stock market forecasting framework during the COVID-19 pandemic', 'pdf:encrypted': 'false', 'pdf:hasCollection': 'false', 'pdf:hasMarkedContent': 'false', 'pdf:hasXFA': 'false', 'pdf:hasXMP': 'true', 'pdf:num3DAnnotations': '0', 'pdf:overallPercentageUnmappedUnicodeChars': '0.0', 'pdf:producer': 'Acrobat Distiller 8.1.0 (Windows)', 'pdf:totalUnmappedUnicodeChars': '0', 'pdf:unmappedUnicodeCharsPerPage': ['0', '0', '0', '0', '0', '0', '0', '0', '0', '0', '0', '0', '0', '0', '0', '0'], 'resourceName': \"b'COVID19-MLSF--A-multi-task-learning-based-stock-market_2023_Expert-Systems-w.pdf'\", 'robots': 'noindex', 'xmp:CreateDate': '2023-02-04T09:40:15Z', 'xmp:CreatorTool': 'Elsevier', 'xmp:MetadataDate': '2023-02-07T16:52:03Z', 'xmp:ModifyDate': '2023-02-07T16:52:03Z', 'xmpMM:DocumentID': 'uuid:1b499bed-4ce8-4c0c-b682-0d58baae1cbe', 'xmpTPg:NPages': '16'}\n",
      "\u001b[32m2025-01-13 11:20:17.496\u001b[0m | \u001b[1mINFO    \u001b[0m | \u001b[36m__main__\u001b[0m:\u001b[36m<module>\u001b[0m:\u001b[36m81\u001b[0m - file metadata JSON: None\n",
      "\u001b[32m2025-01-13 11:20:17.496\u001b[0m | \u001b[1mINFO    \u001b[0m | \u001b[36m__main__\u001b[0m:\u001b[36m<module>\u001b[0m:\u001b[36m16\u001b[0m - Processing Project ID: 37355@test\n",
      "\u001b[32m2025-01-13 11:20:17.496\u001b[0m | \u001b[1mINFO    \u001b[0m | \u001b[36m__main__\u001b[0m:\u001b[36m<module>\u001b[0m:\u001b[36m17\u001b[0m - File CID: QmUq29KRwpTdvScB5oYzEDobDHyb4N1f9eaZXm4VaMCgiW\n",
      "\u001b[32m2025-01-13 11:20:17.496\u001b[0m | \u001b[1mINFO    \u001b[0m | \u001b[36m__main__\u001b[0m:\u001b[36m<module>\u001b[0m:\u001b[36m18\u001b[0m - Metadata CID: Qmda3UGvN1Ywmc2FkxuKSEHK8iy5vW5YrRFE9sqKKxdUVw\n",
      "\u001b[32m2025-01-13 11:20:17.505\u001b[0m | \u001b[1mINFO    \u001b[0m | \u001b[36m__main__\u001b[0m:\u001b[36m<module>\u001b[0m:\u001b[36m29\u001b[0m - Fetched project details for 37355@test: { \"admin@test\" : { \"file_1\" : \"QmUq29KRwpTdvScB5oYzEDobDHyb4N1f9eaZXm4VaMCgiW, QmNf9v11kNmrrrFw58VdMnS7GAjdfss6aiBaVkKq4ghdn7\", \"linked_user\" : \"wizardly_murdock@test\", \"project_metadata_cid\" : \"QmVqM2d9FhPwQNAhQ2mUCi9mzw8EdF3oqM4wzAHMUqcWWd\" } }\n",
      "\u001b[32m2025-01-13 11:20:17.505\u001b[0m | \u001b[1mINFO    \u001b[0m | \u001b[36msuper_helper\u001b[0m:\u001b[36mfetch_project_details\u001b[0m:\u001b[36m266\u001b[0m - Validating and fetching details for CID: QmUq29KRwpTdvScB5oYzEDobDHyb4N1f9eaZXm4VaMCgiW\n",
      "\u001b[32m2025-01-13 11:20:17.505\u001b[0m | \u001b[1mINFO    \u001b[0m | \u001b[36msuper_helper\u001b[0m:\u001b[36mfetch_project_details\u001b[0m:\u001b[36m274\u001b[0m - File CID QmUq29KRwpTdvScB5oYzEDobDHyb4N1f9eaZXm4VaMCgiW found under file_1.\n",
      "\u001b[32m2025-01-13 11:20:17.505\u001b[0m | \u001b[1mINFO    \u001b[0m | \u001b[36m__main__\u001b[0m:\u001b[36m<module>\u001b[0m:\u001b[36m40\u001b[0m - Valid Result for 37355@test is {'is_valid': True, 'project_metadata_cid': 'QmVqM2d9FhPwQNAhQ2mUCi9mzw8EdF3oqM4wzAHMUqcWWd', 'linked_user': 'wizardly_murdock@test'}.\n",
      "\u001b[32m2025-01-13 11:20:17.505\u001b[0m | \u001b[1mINFO    \u001b[0m | \u001b[36m__main__\u001b[0m:\u001b[36m<module>\u001b[0m:\u001b[36m48\u001b[0m - Valid File CID for 37355@test.\n",
      "\u001b[32m2025-01-13 11:20:17.505\u001b[0m | \u001b[1mINFO    \u001b[0m | \u001b[36m__main__\u001b[0m:\u001b[36m<module>\u001b[0m:\u001b[36m49\u001b[0m - Project Metadata CID: QmVqM2d9FhPwQNAhQ2mUCi9mzw8EdF3oqM4wzAHMUqcWWd\n",
      "\u001b[32m2025-01-13 11:20:17.505\u001b[0m | \u001b[1mINFO    \u001b[0m | \u001b[36m__main__\u001b[0m:\u001b[36m<module>\u001b[0m:\u001b[36m50\u001b[0m - Linked User: wizardly_murdock@test\n",
      "\u001b[32m2025-01-13 11:20:17.505\u001b[0m | \u001b[1mINFO    \u001b[0m | \u001b[36m__main__\u001b[0m:\u001b[36m<module>\u001b[0m:\u001b[36m54\u001b[0m - Processing project metadata CID: QmVqM2d9FhPwQNAhQ2mUCi9mzw8EdF3oqM4wzAHMUqcWWd\n",
      "\u001b[32m2025-01-13 11:20:17.510\u001b[0m | \u001b[1mINFO    \u001b[0m | \u001b[36m__main__\u001b[0m:\u001b[36m<module>\u001b[0m:\u001b[36m56\u001b[0m - Downloaded project metadata: {'@context': {'dc': 'http://purl.org/dc/terms/', 'schema': 'http://schema.org/'}, '@type': 'schema:ResearchProject', 'dc:abstract': 'This research focuses on the benefits and challenges posed by virtual reality for urban planning, with an emphasis on its potential for environmental restoration.', 'schema:endDate': '2025-05-16', 'schema:funding': {'@type': 'schema:Organization', 'schema:name': 'Bill and Melinda Gates Foundation'}, 'schema:keywords': ['virtual reality', 'urban planning', 'environmental restoration'], 'schema:location': {'@type': 'schema:Place', 'schema:name': 'Tokyo, Japan'}, 'schema:name': 'Assessing the Benefits of virtual reality for urban planning', 'schema:startDate': '2022-05-05'}\n",
      "\u001b[32m2025-01-13 11:20:17.510\u001b[0m | \u001b[1mINFO    \u001b[0m | \u001b[36m__main__\u001b[0m:\u001b[36m<module>\u001b[0m:\u001b[36m59\u001b[0m - Processing linked user: wizardly_murdock@test\n",
      "\u001b[32m2025-01-13 11:20:17.524\u001b[0m | \u001b[1mINFO    \u001b[0m | \u001b[36m__main__\u001b[0m:\u001b[36m<module>\u001b[0m:\u001b[36m69\u001b[0m - User JSON-LD CID: QmasGHctfDbkzhaqebKGicpyDtVxhswtDaX99XpMnLvcXC\n",
      "\u001b[32m2025-01-13 11:20:17.529\u001b[0m | \u001b[1mINFO    \u001b[0m | \u001b[36m__main__\u001b[0m:\u001b[36m<module>\u001b[0m:\u001b[36m71\u001b[0m - Downloaded user metadata: {'@type': 'foaf:Person', 'foaf:holdsAccount': {'schema:identifier': 'wizardly_murdock@test', 'schema:publicKey': '944f6ca0b600f7d9705a9dc1853ea6432221b91836251196630c02bf465cbf20', 'schema:roleName': 'author'}, 'foaf:mbox': 'wizardly_murdock@email.com', 'foaf:name': 'Wizardly Murdock', 'foaf:organization': {'@type': 'foaf:Organization', 'foaf:name': 'Baqai Medical University'}, 'schema:identifier': {'@type': 'PropertyValue', 'propertyID': 'ORCID', 'value': '3202-1900-4101-X'}}\n",
      "\u001b[32m2025-01-13 11:20:17.530\u001b[0m | \u001b[1mINFO    \u001b[0m | \u001b[36m__main__\u001b[0m:\u001b[36m<module>\u001b[0m:\u001b[36m76\u001b[0m - Processing metadata CID: Qmda3UGvN1Ywmc2FkxuKSEHK8iy5vW5YrRFE9sqKKxdUVw\n",
      "\u001b[32m2025-01-13 11:20:17.536\u001b[0m | \u001b[1mINFO    \u001b[0m | \u001b[36msuper_helper\u001b[0m:\u001b[36mdownload_file\u001b[0m:\u001b[36m28\u001b[0m - Cleaned file name: COVID19-MLSF--A-multi-task-learning-based-stock-market_2023_Expert-Systems-w.pdf\n",
      "\u001b[32m2025-01-13 11:20:17.536\u001b[0m | \u001b[1mINFO    \u001b[0m | \u001b[36msuper_helper\u001b[0m:\u001b[36mdownload_file\u001b[0m:\u001b[36m33\u001b[0m - Download directory ready: download/37355@test\n",
      "\u001b[32m2025-01-13 11:20:17.536\u001b[0m | \u001b[1mINFO    \u001b[0m | \u001b[36msuper_helper\u001b[0m:\u001b[36mdownload_file\u001b[0m:\u001b[36m37\u001b[0m - Downloading file to: download/37355@test/COVID19-MLSF--A-multi-task-learning-based-stock-market_2023_Expert-Systems-w.pdf\n",
      "\u001b[32m2025-01-13 11:20:17.581\u001b[0m | \u001b[1mINFO    \u001b[0m | \u001b[36m__main__\u001b[0m:\u001b[36m<module>\u001b[0m:\u001b[36m79\u001b[0m - Downloaded file metadata: Qmda3UGvN1Ywmc2FkxuKSEHK8iy5vW5YrRFE9sqKKxdUVw\n",
      "\u001b[32m2025-01-13 11:20:17.582\u001b[0m | \u001b[1mINFO    \u001b[0m | \u001b[36m__main__\u001b[0m:\u001b[36m<module>\u001b[0m:\u001b[36m80\u001b[0m - file metadata: {'Content-Length': '4016043', 'Content-Type': 'application/pdf', 'CreationDate--Text': '7th February 2023', 'CrossMarkDomains[1]': 'elsevier.com', 'CrossMarkDomains[2]': 'sciencedirect.com', 'CrossmarkDomainExclusive': 'true', 'CrossmarkMajorVersionDate': '2010-04-23', 'ElsevierWebPDFSpecifications': '7.0', 'X-TIKA:Parsed-By': ['org.apache.tika.parser.DefaultParser', 'org.apache.tika.parser.pdf.PDFParser'], 'X-TIKA:Parsed-By-Full-Set': ['org.apache.tika.parser.DefaultParser', 'org.apache.tika.parser.pdf.PDFParser'], 'X-TIKA:content_handler': 'ToTextContentHandler', 'X-TIKA:embedded_depth': '0', 'X-TIKA:parse_time_millis': '132', 'access_permission:assemble_document': 'true', 'access_permission:can_modify': 'true', 'access_permission:can_print': 'true', 'access_permission:can_print_degraded': 'true', 'access_permission:extract_content': 'true', 'access_permission:extract_for_accessibility': 'true', 'access_permission:fill_in_form': 'true', 'access_permission:modify_annotations': 'true', 'dc:creator': ['Chenxun Yuan', 'Xiang Ma', 'Hua Wang', 'Caiming Zhang', 'Xuemei Li'], 'dc:description': 'Expert Systems With Applications, 217 (2023) 119549. doi:10.1016/j.eswa.2023.119549', 'dc:format': 'application/pdf; version=1.7', 'dc:language': 'en-US', 'dc:subject': ['Stock market forecasting,COVID-19 pandemic,Multi-task learning,Feature fusion,K-nearest neighbor classifier', 'Expert Systems With Applications, 217 (2023) 119549. doi:10.1016/j.eswa.2023.119549'], 'dc:title': 'COVID19-MLSF: A multi-task learning-based stock market forecasting framework during the COVID-19 pandemic', 'dcterms:created': '2023-02-04T09:40:15Z', 'dcterms:modified': '2023-02-07T16:52:03Z', 'doi': '10.1016/j.eswa.2023.119549', 'meta:keyword': 'Stock market forecasting,COVID-19 pandemic,Multi-task learning,Feature fusion,K-nearest neighbor classifier', 'pdf:PDFVersion': '1.7', 'pdf:annotationSubtypes': 'Link', 'pdf:annotationTypes': 'null', 'pdf:charsPerPage': ['4308', '4046', '7115', '4551', '3567', '6426', '1218', '6119', '1896', '4055', '3517', '5861', '730', '833', '5274', '6307'], 'pdf:containsDamagedFont': 'false', 'pdf:containsNonEmbeddedFont': 'false', 'pdf:docinfo:created': '2023-02-04T09:40:15Z', 'pdf:docinfo:creator': 'Chenxun Yuan', 'pdf:docinfo:creator_tool': 'Elsevier', 'pdf:docinfo:custom:CreationDate--Text': '7th February 2023', 'pdf:docinfo:custom:CrossMarkDomains[1]': 'elsevier.com', 'pdf:docinfo:custom:CrossMarkDomains[2]': 'sciencedirect.com', 'pdf:docinfo:custom:CrossmarkDomainExclusive': 'true', 'pdf:docinfo:custom:CrossmarkMajorVersionDate': '2010-04-23', 'pdf:docinfo:custom:ElsevierWebPDFSpecifications': '7.0', 'pdf:docinfo:custom:doi': '10.1016/j.eswa.2023.119549', 'pdf:docinfo:custom:robots': 'noindex', 'pdf:docinfo:keywords': 'Stock market forecasting,COVID-19 pandemic,Multi-task learning,Feature fusion,K-nearest neighbor classifier', 'pdf:docinfo:modified': '2023-02-07T16:52:03Z', 'pdf:docinfo:producer': 'Acrobat Distiller 8.1.0 (Windows)', 'pdf:docinfo:subject': 'Expert Systems With Applications, 217 (2023) 119549. doi:10.1016/j.eswa.2023.119549', 'pdf:docinfo:title': 'COVID19-MLSF: A multi-task learning-based stock market forecasting framework during the COVID-19 pandemic', 'pdf:encrypted': 'false', 'pdf:hasCollection': 'false', 'pdf:hasMarkedContent': 'false', 'pdf:hasXFA': 'false', 'pdf:hasXMP': 'true', 'pdf:num3DAnnotations': '0', 'pdf:overallPercentageUnmappedUnicodeChars': '0.0', 'pdf:producer': 'Acrobat Distiller 8.1.0 (Windows)', 'pdf:totalUnmappedUnicodeChars': '0', 'pdf:unmappedUnicodeCharsPerPage': ['0', '0', '0', '0', '0', '0', '0', '0', '0', '0', '0', '0', '0', '0', '0', '0'], 'resourceName': \"b'COVID19-MLSF--A-multi-task-learning-based-stock-market_2023_Expert-Systems-w.pdf'\", 'robots': 'noindex', 'xmp:CreateDate': '2023-02-04T09:40:15Z', 'xmp:CreatorTool': 'Elsevier', 'xmp:MetadataDate': '2023-02-07T16:52:03Z', 'xmp:ModifyDate': '2023-02-07T16:52:03Z', 'xmpMM:DocumentID': 'uuid:1b499bed-4ce8-4c0c-b682-0d58baae1cbe', 'xmpTPg:NPages': '16'}\n",
      "\u001b[32m2025-01-13 11:20:17.582\u001b[0m | \u001b[1mINFO    \u001b[0m | \u001b[36m__main__\u001b[0m:\u001b[36m<module>\u001b[0m:\u001b[36m81\u001b[0m - file metadata JSON: None\n",
      "\u001b[32m2025-01-13 11:20:17.582\u001b[0m | \u001b[1mINFO    \u001b[0m | \u001b[36m__main__\u001b[0m:\u001b[36m<module>\u001b[0m:\u001b[36m16\u001b[0m - Processing Project ID: 73243@test\n",
      "\u001b[32m2025-01-13 11:20:17.582\u001b[0m | \u001b[1mINFO    \u001b[0m | \u001b[36m__main__\u001b[0m:\u001b[36m<module>\u001b[0m:\u001b[36m17\u001b[0m - File CID: QmUq29KRwpTdvScB5oYzEDobDHyb4N1f9eaZXm4VaMCgiW\n",
      "\u001b[32m2025-01-13 11:20:17.582\u001b[0m | \u001b[1mINFO    \u001b[0m | \u001b[36m__main__\u001b[0m:\u001b[36m<module>\u001b[0m:\u001b[36m18\u001b[0m - Metadata CID: QmNjaCTeNdmrJfLYUpD8qhpjndXXX7QrWagRMhNSAtQkC6\n",
      "\u001b[32m2025-01-13 11:20:17.601\u001b[0m | \u001b[1mINFO    \u001b[0m | \u001b[36m__main__\u001b[0m:\u001b[36m<module>\u001b[0m:\u001b[36m29\u001b[0m - Fetched project details for 73243@test: { \"admin@test\" : { \"file_1\" : \"QmUq29KRwpTdvScB5oYzEDobDHyb4N1f9eaZXm4VaMCgiW, QmPiZKhXpmKCJ7scjBNGeU2BxuDEac3AaDrNr55PwPuZZV\", \"linked_user\" : \"elated_noether@test\", \"project_metadata_cid\" : \"QmW6MDJSfQD8pgMNkqCxNMYzeKkC8YDkCgHtkP5mkKzEqg\" } }\n",
      "\u001b[32m2025-01-13 11:20:17.601\u001b[0m | \u001b[1mINFO    \u001b[0m | \u001b[36msuper_helper\u001b[0m:\u001b[36mfetch_project_details\u001b[0m:\u001b[36m266\u001b[0m - Validating and fetching details for CID: QmUq29KRwpTdvScB5oYzEDobDHyb4N1f9eaZXm4VaMCgiW\n",
      "\u001b[32m2025-01-13 11:20:17.601\u001b[0m | \u001b[1mINFO    \u001b[0m | \u001b[36msuper_helper\u001b[0m:\u001b[36mfetch_project_details\u001b[0m:\u001b[36m274\u001b[0m - File CID QmUq29KRwpTdvScB5oYzEDobDHyb4N1f9eaZXm4VaMCgiW found under file_1.\n",
      "\u001b[32m2025-01-13 11:20:17.601\u001b[0m | \u001b[1mINFO    \u001b[0m | \u001b[36m__main__\u001b[0m:\u001b[36m<module>\u001b[0m:\u001b[36m40\u001b[0m - Valid Result for 73243@test is {'is_valid': True, 'project_metadata_cid': 'QmW6MDJSfQD8pgMNkqCxNMYzeKkC8YDkCgHtkP5mkKzEqg', 'linked_user': 'elated_noether@test'}.\n",
      "\u001b[32m2025-01-13 11:20:17.601\u001b[0m | \u001b[1mINFO    \u001b[0m | \u001b[36m__main__\u001b[0m:\u001b[36m<module>\u001b[0m:\u001b[36m48\u001b[0m - Valid File CID for 73243@test.\n",
      "\u001b[32m2025-01-13 11:20:17.601\u001b[0m | \u001b[1mINFO    \u001b[0m | \u001b[36m__main__\u001b[0m:\u001b[36m<module>\u001b[0m:\u001b[36m49\u001b[0m - Project Metadata CID: QmW6MDJSfQD8pgMNkqCxNMYzeKkC8YDkCgHtkP5mkKzEqg\n",
      "\u001b[32m2025-01-13 11:20:17.601\u001b[0m | \u001b[1mINFO    \u001b[0m | \u001b[36m__main__\u001b[0m:\u001b[36m<module>\u001b[0m:\u001b[36m50\u001b[0m - Linked User: elated_noether@test\n",
      "\u001b[32m2025-01-13 11:20:17.601\u001b[0m | \u001b[1mINFO    \u001b[0m | \u001b[36m__main__\u001b[0m:\u001b[36m<module>\u001b[0m:\u001b[36m54\u001b[0m - Processing project metadata CID: QmW6MDJSfQD8pgMNkqCxNMYzeKkC8YDkCgHtkP5mkKzEqg\n",
      "\u001b[32m2025-01-13 11:20:17.607\u001b[0m | \u001b[1mINFO    \u001b[0m | \u001b[36m__main__\u001b[0m:\u001b[36m<module>\u001b[0m:\u001b[36m56\u001b[0m - Downloaded project metadata: {'@context': {'dc': 'http://purl.org/dc/terms/', 'schema': 'http://schema.org/'}, '@type': 'schema:ResearchProject', 'dc:abstract': 'This paper analyzes how digital twins influences precision medicine, providing insights into how to maximize its energy reliability.', 'schema:endDate': '2025-03-10', 'schema:funding': {'@type': 'schema:Organization', 'schema:name': 'Bill and Melinda Gates Foundation'}, 'schema:keywords': ['digital twins', 'precision medicine', 'energy reliability'], 'schema:location': {'@type': 'schema:Place', 'schema:name': 'Tokyo, Japan'}, 'schema:name': 'Analyzing the Influence of digital twins on precision medicine', 'schema:startDate': '2023-05-12'}\n",
      "\u001b[32m2025-01-13 11:20:17.608\u001b[0m | \u001b[1mINFO    \u001b[0m | \u001b[36m__main__\u001b[0m:\u001b[36m<module>\u001b[0m:\u001b[36m59\u001b[0m - Processing linked user: elated_noether@test\n",
      "\u001b[32m2025-01-13 11:20:17.624\u001b[0m | \u001b[1mINFO    \u001b[0m | \u001b[36m__main__\u001b[0m:\u001b[36m<module>\u001b[0m:\u001b[36m69\u001b[0m - User JSON-LD CID: QmS6HCQXDnFaZT4GJmR4Yv2j4vhdqRBdauXZYoazL3KKcf\n",
      "\u001b[32m2025-01-13 11:20:17.629\u001b[0m | \u001b[1mINFO    \u001b[0m | \u001b[36m__main__\u001b[0m:\u001b[36m<module>\u001b[0m:\u001b[36m71\u001b[0m - Downloaded user metadata: {'@type': 'foaf:Person', 'foaf:holdsAccount': {'schema:identifier': 'elated_noether@test', 'schema:publicKey': 'f26542c817bef9db2133e2a67fde4cbf07f408d897b9ce323b2d463cffe2598a', 'schema:roleName': 'author'}, 'foaf:mbox': 'elated_noether@email.com', 'foaf:name': 'Elated Noether', 'foaf:organization': {'@type': 'foaf:Organization', 'foaf:name': 'Karachi School of Art'}, 'schema:identifier': {'@type': 'PropertyValue', 'propertyID': 'ORCID', 'value': '2182-3432-2982-X'}}\n",
      "\u001b[32m2025-01-13 11:20:17.629\u001b[0m | \u001b[1mINFO    \u001b[0m | \u001b[36m__main__\u001b[0m:\u001b[36m<module>\u001b[0m:\u001b[36m76\u001b[0m - Processing metadata CID: QmNjaCTeNdmrJfLYUpD8qhpjndXXX7QrWagRMhNSAtQkC6\n",
      "\u001b[32m2025-01-13 11:20:17.634\u001b[0m | \u001b[1mINFO    \u001b[0m | \u001b[36msuper_helper\u001b[0m:\u001b[36mdownload_file\u001b[0m:\u001b[36m28\u001b[0m - Cleaned file name: COVID19-MLSF--A-multi-task-learning-based-stock-market_2023_Expert-Systems-w.pdf\n",
      "\u001b[32m2025-01-13 11:20:17.634\u001b[0m | \u001b[1mINFO    \u001b[0m | \u001b[36msuper_helper\u001b[0m:\u001b[36mdownload_file\u001b[0m:\u001b[36m33\u001b[0m - Download directory ready: download/73243@test\n",
      "\u001b[32m2025-01-13 11:20:17.634\u001b[0m | \u001b[1mINFO    \u001b[0m | \u001b[36msuper_helper\u001b[0m:\u001b[36mdownload_file\u001b[0m:\u001b[36m37\u001b[0m - Downloading file to: download/73243@test/COVID19-MLSF--A-multi-task-learning-based-stock-market_2023_Expert-Systems-w.pdf\n",
      "\u001b[32m2025-01-13 11:20:17.664\u001b[0m | \u001b[1mINFO    \u001b[0m | \u001b[36m__main__\u001b[0m:\u001b[36m<module>\u001b[0m:\u001b[36m79\u001b[0m - Downloaded file metadata: QmNjaCTeNdmrJfLYUpD8qhpjndXXX7QrWagRMhNSAtQkC6\n",
      "\u001b[32m2025-01-13 11:20:17.665\u001b[0m | \u001b[1mINFO    \u001b[0m | \u001b[36m__main__\u001b[0m:\u001b[36m<module>\u001b[0m:\u001b[36m80\u001b[0m - file metadata: {'Content-Length': '4016043', 'Content-Type': 'application/pdf', 'CreationDate--Text': '7th February 2023', 'CrossMarkDomains[1]': 'elsevier.com', 'CrossMarkDomains[2]': 'sciencedirect.com', 'CrossmarkDomainExclusive': 'true', 'CrossmarkMajorVersionDate': '2010-04-23', 'ElsevierWebPDFSpecifications': '7.0', 'X-TIKA:Parsed-By': ['org.apache.tika.parser.DefaultParser', 'org.apache.tika.parser.pdf.PDFParser'], 'X-TIKA:Parsed-By-Full-Set': ['org.apache.tika.parser.DefaultParser', 'org.apache.tika.parser.pdf.PDFParser'], 'X-TIKA:content_handler': 'ToTextContentHandler', 'X-TIKA:embedded_depth': '0', 'X-TIKA:parse_time_millis': '101', 'access_permission:assemble_document': 'true', 'access_permission:can_modify': 'true', 'access_permission:can_print': 'true', 'access_permission:can_print_degraded': 'true', 'access_permission:extract_content': 'true', 'access_permission:extract_for_accessibility': 'true', 'access_permission:fill_in_form': 'true', 'access_permission:modify_annotations': 'true', 'dc:creator': ['Chenxun Yuan', 'Xiang Ma', 'Hua Wang', 'Caiming Zhang', 'Xuemei Li'], 'dc:description': 'Expert Systems With Applications, 217 (2023) 119549. doi:10.1016/j.eswa.2023.119549', 'dc:format': 'application/pdf; version=1.7', 'dc:language': 'en-US', 'dc:subject': ['Stock market forecasting,COVID-19 pandemic,Multi-task learning,Feature fusion,K-nearest neighbor classifier', 'Expert Systems With Applications, 217 (2023) 119549. doi:10.1016/j.eswa.2023.119549'], 'dc:title': 'COVID19-MLSF: A multi-task learning-based stock market forecasting framework during the COVID-19 pandemic', 'dcterms:created': '2023-02-04T09:40:15Z', 'dcterms:modified': '2023-02-07T16:52:03Z', 'doi': '10.1016/j.eswa.2023.119549', 'meta:keyword': 'Stock market forecasting,COVID-19 pandemic,Multi-task learning,Feature fusion,K-nearest neighbor classifier', 'pdf:PDFVersion': '1.7', 'pdf:annotationSubtypes': 'Link', 'pdf:annotationTypes': 'null', 'pdf:charsPerPage': ['4308', '4046', '7115', '4551', '3567', '6426', '1218', '6119', '1896', '4055', '3517', '5861', '730', '833', '5274', '6307'], 'pdf:containsDamagedFont': 'false', 'pdf:containsNonEmbeddedFont': 'false', 'pdf:docinfo:created': '2023-02-04T09:40:15Z', 'pdf:docinfo:creator': 'Chenxun Yuan', 'pdf:docinfo:creator_tool': 'Elsevier', 'pdf:docinfo:custom:CreationDate--Text': '7th February 2023', 'pdf:docinfo:custom:CrossMarkDomains[1]': 'elsevier.com', 'pdf:docinfo:custom:CrossMarkDomains[2]': 'sciencedirect.com', 'pdf:docinfo:custom:CrossmarkDomainExclusive': 'true', 'pdf:docinfo:custom:CrossmarkMajorVersionDate': '2010-04-23', 'pdf:docinfo:custom:ElsevierWebPDFSpecifications': '7.0', 'pdf:docinfo:custom:doi': '10.1016/j.eswa.2023.119549', 'pdf:docinfo:custom:robots': 'noindex', 'pdf:docinfo:keywords': 'Stock market forecasting,COVID-19 pandemic,Multi-task learning,Feature fusion,K-nearest neighbor classifier', 'pdf:docinfo:modified': '2023-02-07T16:52:03Z', 'pdf:docinfo:producer': 'Acrobat Distiller 8.1.0 (Windows)', 'pdf:docinfo:subject': 'Expert Systems With Applications, 217 (2023) 119549. doi:10.1016/j.eswa.2023.119549', 'pdf:docinfo:title': 'COVID19-MLSF: A multi-task learning-based stock market forecasting framework during the COVID-19 pandemic', 'pdf:encrypted': 'false', 'pdf:hasCollection': 'false', 'pdf:hasMarkedContent': 'false', 'pdf:hasXFA': 'false', 'pdf:hasXMP': 'true', 'pdf:num3DAnnotations': '0', 'pdf:overallPercentageUnmappedUnicodeChars': '0.0', 'pdf:producer': 'Acrobat Distiller 8.1.0 (Windows)', 'pdf:totalUnmappedUnicodeChars': '0', 'pdf:unmappedUnicodeCharsPerPage': ['0', '0', '0', '0', '0', '0', '0', '0', '0', '0', '0', '0', '0', '0', '0', '0'], 'resourceName': \"b'COVID19-MLSF--A-multi-task-learning-based-stock-market_2023_Expert-Systems-w.pdf'\", 'robots': 'noindex', 'xmp:CreateDate': '2023-02-04T09:40:15Z', 'xmp:CreatorTool': 'Elsevier', 'xmp:MetadataDate': '2023-02-07T16:52:03Z', 'xmp:ModifyDate': '2023-02-07T16:52:03Z', 'xmpMM:DocumentID': 'uuid:1b499bed-4ce8-4c0c-b682-0d58baae1cbe', 'xmpTPg:NPages': '16'}\n",
      "\u001b[32m2025-01-13 11:20:17.665\u001b[0m | \u001b[1mINFO    \u001b[0m | \u001b[36m__main__\u001b[0m:\u001b[36m<module>\u001b[0m:\u001b[36m81\u001b[0m - file metadata JSON: None\n",
      "\u001b[32m2025-01-13 11:20:17.665\u001b[0m | \u001b[1mINFO    \u001b[0m | \u001b[36m__main__\u001b[0m:\u001b[36m<module>\u001b[0m:\u001b[36m16\u001b[0m - Processing Project ID: 73243@test\n",
      "\u001b[32m2025-01-13 11:20:17.665\u001b[0m | \u001b[1mINFO    \u001b[0m | \u001b[36m__main__\u001b[0m:\u001b[36m<module>\u001b[0m:\u001b[36m17\u001b[0m - File CID: QmUq29KRwpTdvScB5oYzEDobDHyb4N1f9eaZXm4VaMCgiW\n",
      "\u001b[32m2025-01-13 11:20:17.665\u001b[0m | \u001b[1mINFO    \u001b[0m | \u001b[36m__main__\u001b[0m:\u001b[36m<module>\u001b[0m:\u001b[36m18\u001b[0m - Metadata CID: QmdyAE132FSeSQaqUHzE5GtMrEwy821ScAYKEXsxpWSnV5\n",
      "\u001b[32m2025-01-13 11:20:17.675\u001b[0m | \u001b[1mINFO    \u001b[0m | \u001b[36m__main__\u001b[0m:\u001b[36m<module>\u001b[0m:\u001b[36m29\u001b[0m - Fetched project details for 73243@test: { \"admin@test\" : { \"file_1\" : \"QmUq29KRwpTdvScB5oYzEDobDHyb4N1f9eaZXm4VaMCgiW, QmPiZKhXpmKCJ7scjBNGeU2BxuDEac3AaDrNr55PwPuZZV\", \"linked_user\" : \"elated_noether@test\", \"project_metadata_cid\" : \"QmW6MDJSfQD8pgMNkqCxNMYzeKkC8YDkCgHtkP5mkKzEqg\" } }\n",
      "\u001b[32m2025-01-13 11:20:17.675\u001b[0m | \u001b[1mINFO    \u001b[0m | \u001b[36msuper_helper\u001b[0m:\u001b[36mfetch_project_details\u001b[0m:\u001b[36m266\u001b[0m - Validating and fetching details for CID: QmUq29KRwpTdvScB5oYzEDobDHyb4N1f9eaZXm4VaMCgiW\n",
      "\u001b[32m2025-01-13 11:20:17.675\u001b[0m | \u001b[1mINFO    \u001b[0m | \u001b[36msuper_helper\u001b[0m:\u001b[36mfetch_project_details\u001b[0m:\u001b[36m274\u001b[0m - File CID QmUq29KRwpTdvScB5oYzEDobDHyb4N1f9eaZXm4VaMCgiW found under file_1.\n",
      "\u001b[32m2025-01-13 11:20:17.675\u001b[0m | \u001b[1mINFO    \u001b[0m | \u001b[36m__main__\u001b[0m:\u001b[36m<module>\u001b[0m:\u001b[36m40\u001b[0m - Valid Result for 73243@test is {'is_valid': True, 'project_metadata_cid': 'QmW6MDJSfQD8pgMNkqCxNMYzeKkC8YDkCgHtkP5mkKzEqg', 'linked_user': 'elated_noether@test'}.\n",
      "\u001b[32m2025-01-13 11:20:17.676\u001b[0m | \u001b[1mINFO    \u001b[0m | \u001b[36m__main__\u001b[0m:\u001b[36m<module>\u001b[0m:\u001b[36m48\u001b[0m - Valid File CID for 73243@test.\n",
      "\u001b[32m2025-01-13 11:20:17.676\u001b[0m | \u001b[1mINFO    \u001b[0m | \u001b[36m__main__\u001b[0m:\u001b[36m<module>\u001b[0m:\u001b[36m49\u001b[0m - Project Metadata CID: QmW6MDJSfQD8pgMNkqCxNMYzeKkC8YDkCgHtkP5mkKzEqg\n",
      "\u001b[32m2025-01-13 11:20:17.676\u001b[0m | \u001b[1mINFO    \u001b[0m | \u001b[36m__main__\u001b[0m:\u001b[36m<module>\u001b[0m:\u001b[36m50\u001b[0m - Linked User: elated_noether@test\n",
      "\u001b[32m2025-01-13 11:20:17.676\u001b[0m | \u001b[1mINFO    \u001b[0m | \u001b[36m__main__\u001b[0m:\u001b[36m<module>\u001b[0m:\u001b[36m54\u001b[0m - Processing project metadata CID: QmW6MDJSfQD8pgMNkqCxNMYzeKkC8YDkCgHtkP5mkKzEqg\n",
      "\u001b[32m2025-01-13 11:20:17.679\u001b[0m | \u001b[1mINFO    \u001b[0m | \u001b[36m__main__\u001b[0m:\u001b[36m<module>\u001b[0m:\u001b[36m56\u001b[0m - Downloaded project metadata: {'@context': {'dc': 'http://purl.org/dc/terms/', 'schema': 'http://schema.org/'}, '@type': 'schema:ResearchProject', 'dc:abstract': 'This paper analyzes how digital twins influences precision medicine, providing insights into how to maximize its energy reliability.', 'schema:endDate': '2025-03-10', 'schema:funding': {'@type': 'schema:Organization', 'schema:name': 'Bill and Melinda Gates Foundation'}, 'schema:keywords': ['digital twins', 'precision medicine', 'energy reliability'], 'schema:location': {'@type': 'schema:Place', 'schema:name': 'Tokyo, Japan'}, 'schema:name': 'Analyzing the Influence of digital twins on precision medicine', 'schema:startDate': '2023-05-12'}\n",
      "\u001b[32m2025-01-13 11:20:17.679\u001b[0m | \u001b[1mINFO    \u001b[0m | \u001b[36m__main__\u001b[0m:\u001b[36m<module>\u001b[0m:\u001b[36m59\u001b[0m - Processing linked user: elated_noether@test\n",
      "\u001b[32m2025-01-13 11:20:17.689\u001b[0m | \u001b[1mINFO    \u001b[0m | \u001b[36m__main__\u001b[0m:\u001b[36m<module>\u001b[0m:\u001b[36m69\u001b[0m - User JSON-LD CID: QmS6HCQXDnFaZT4GJmR4Yv2j4vhdqRBdauXZYoazL3KKcf\n",
      "\u001b[32m2025-01-13 11:20:17.692\u001b[0m | \u001b[1mINFO    \u001b[0m | \u001b[36m__main__\u001b[0m:\u001b[36m<module>\u001b[0m:\u001b[36m71\u001b[0m - Downloaded user metadata: {'@type': 'foaf:Person', 'foaf:holdsAccount': {'schema:identifier': 'elated_noether@test', 'schema:publicKey': 'f26542c817bef9db2133e2a67fde4cbf07f408d897b9ce323b2d463cffe2598a', 'schema:roleName': 'author'}, 'foaf:mbox': 'elated_noether@email.com', 'foaf:name': 'Elated Noether', 'foaf:organization': {'@type': 'foaf:Organization', 'foaf:name': 'Karachi School of Art'}, 'schema:identifier': {'@type': 'PropertyValue', 'propertyID': 'ORCID', 'value': '2182-3432-2982-X'}}\n",
      "\u001b[32m2025-01-13 11:20:17.692\u001b[0m | \u001b[1mINFO    \u001b[0m | \u001b[36m__main__\u001b[0m:\u001b[36m<module>\u001b[0m:\u001b[36m76\u001b[0m - Processing metadata CID: QmdyAE132FSeSQaqUHzE5GtMrEwy821ScAYKEXsxpWSnV5\n",
      "\u001b[32m2025-01-13 11:20:17.695\u001b[0m | \u001b[1mINFO    \u001b[0m | \u001b[36msuper_helper\u001b[0m:\u001b[36mdownload_file\u001b[0m:\u001b[36m28\u001b[0m - Cleaned file name: COVID19-MLSF--A-multi-task-learning-based-stock-market_2023_Expert-Systems-w.pdf\n",
      "\u001b[32m2025-01-13 11:20:17.695\u001b[0m | \u001b[1mINFO    \u001b[0m | \u001b[36msuper_helper\u001b[0m:\u001b[36mdownload_file\u001b[0m:\u001b[36m33\u001b[0m - Download directory ready: download/73243@test\n",
      "\u001b[32m2025-01-13 11:20:17.695\u001b[0m | \u001b[1mINFO    \u001b[0m | \u001b[36msuper_helper\u001b[0m:\u001b[36mdownload_file\u001b[0m:\u001b[36m37\u001b[0m - Downloading file to: download/73243@test/COVID19-MLSF--A-multi-task-learning-based-stock-market_2023_Expert-Systems-w.pdf\n",
      "\u001b[32m2025-01-13 11:20:17.714\u001b[0m | \u001b[1mINFO    \u001b[0m | \u001b[36m__main__\u001b[0m:\u001b[36m<module>\u001b[0m:\u001b[36m79\u001b[0m - Downloaded file metadata: QmdyAE132FSeSQaqUHzE5GtMrEwy821ScAYKEXsxpWSnV5\n",
      "\u001b[32m2025-01-13 11:20:17.714\u001b[0m | \u001b[1mINFO    \u001b[0m | \u001b[36m__main__\u001b[0m:\u001b[36m<module>\u001b[0m:\u001b[36m80\u001b[0m - file metadata: {'Content-Length': '4016043', 'Content-Type': 'application/pdf', 'CreationDate--Text': '7th February 2023', 'CrossMarkDomains[1]': 'elsevier.com', 'CrossMarkDomains[2]': 'sciencedirect.com', 'CrossmarkDomainExclusive': 'true', 'CrossmarkMajorVersionDate': '2010-04-23', 'ElsevierWebPDFSpecifications': '7.0', 'X-TIKA:Parsed-By': ['org.apache.tika.parser.DefaultParser', 'org.apache.tika.parser.pdf.PDFParser'], 'X-TIKA:Parsed-By-Full-Set': ['org.apache.tika.parser.DefaultParser', 'org.apache.tika.parser.pdf.PDFParser'], 'X-TIKA:content_handler': 'ToTextContentHandler', 'X-TIKA:embedded_depth': '0', 'X-TIKA:parse_time_millis': '121', 'access_permission:assemble_document': 'true', 'access_permission:can_modify': 'true', 'access_permission:can_print': 'true', 'access_permission:can_print_degraded': 'true', 'access_permission:extract_content': 'true', 'access_permission:extract_for_accessibility': 'true', 'access_permission:fill_in_form': 'true', 'access_permission:modify_annotations': 'true', 'dc:creator': ['Chenxun Yuan', 'Xiang Ma', 'Hua Wang', 'Caiming Zhang', 'Xuemei Li'], 'dc:description': 'Expert Systems With Applications, 217 (2023) 119549. doi:10.1016/j.eswa.2023.119549', 'dc:format': 'application/pdf; version=1.7', 'dc:language': 'en-US', 'dc:subject': ['Stock market forecasting,COVID-19 pandemic,Multi-task learning,Feature fusion,K-nearest neighbor classifier', 'Expert Systems With Applications, 217 (2023) 119549. doi:10.1016/j.eswa.2023.119549'], 'dc:title': 'COVID19-MLSF: A multi-task learning-based stock market forecasting framework during the COVID-19 pandemic', 'dcterms:created': '2023-02-04T09:40:15Z', 'dcterms:modified': '2023-02-07T16:52:03Z', 'doi': '10.1016/j.eswa.2023.119549', 'meta:keyword': 'Stock market forecasting,COVID-19 pandemic,Multi-task learning,Feature fusion,K-nearest neighbor classifier', 'pdf:PDFVersion': '1.7', 'pdf:annotationSubtypes': 'Link', 'pdf:annotationTypes': 'null', 'pdf:charsPerPage': ['4308', '4046', '7115', '4551', '3567', '6426', '1218', '6119', '1896', '4055', '3517', '5861', '730', '833', '5274', '6307'], 'pdf:containsDamagedFont': 'false', 'pdf:containsNonEmbeddedFont': 'false', 'pdf:docinfo:created': '2023-02-04T09:40:15Z', 'pdf:docinfo:creator': 'Chenxun Yuan', 'pdf:docinfo:creator_tool': 'Elsevier', 'pdf:docinfo:custom:CreationDate--Text': '7th February 2023', 'pdf:docinfo:custom:CrossMarkDomains[1]': 'elsevier.com', 'pdf:docinfo:custom:CrossMarkDomains[2]': 'sciencedirect.com', 'pdf:docinfo:custom:CrossmarkDomainExclusive': 'true', 'pdf:docinfo:custom:CrossmarkMajorVersionDate': '2010-04-23', 'pdf:docinfo:custom:ElsevierWebPDFSpecifications': '7.0', 'pdf:docinfo:custom:doi': '10.1016/j.eswa.2023.119549', 'pdf:docinfo:custom:robots': 'noindex', 'pdf:docinfo:keywords': 'Stock market forecasting,COVID-19 pandemic,Multi-task learning,Feature fusion,K-nearest neighbor classifier', 'pdf:docinfo:modified': '2023-02-07T16:52:03Z', 'pdf:docinfo:producer': 'Acrobat Distiller 8.1.0 (Windows)', 'pdf:docinfo:subject': 'Expert Systems With Applications, 217 (2023) 119549. doi:10.1016/j.eswa.2023.119549', 'pdf:docinfo:title': 'COVID19-MLSF: A multi-task learning-based stock market forecasting framework during the COVID-19 pandemic', 'pdf:encrypted': 'false', 'pdf:hasCollection': 'false', 'pdf:hasMarkedContent': 'false', 'pdf:hasXFA': 'false', 'pdf:hasXMP': 'true', 'pdf:num3DAnnotations': '0', 'pdf:overallPercentageUnmappedUnicodeChars': '0.0', 'pdf:producer': 'Acrobat Distiller 8.1.0 (Windows)', 'pdf:totalUnmappedUnicodeChars': '0', 'pdf:unmappedUnicodeCharsPerPage': ['0', '0', '0', '0', '0', '0', '0', '0', '0', '0', '0', '0', '0', '0', '0', '0'], 'resourceName': \"b'COVID19-MLSF--A-multi-task-learning-based-stock-market_2023_Expert-Systems-w.pdf'\", 'robots': 'noindex', 'xmp:CreateDate': '2023-02-04T09:40:15Z', 'xmp:CreatorTool': 'Elsevier', 'xmp:MetadataDate': '2023-02-07T16:52:03Z', 'xmp:ModifyDate': '2023-02-07T16:52:03Z', 'xmpMM:DocumentID': 'uuid:1b499bed-4ce8-4c0c-b682-0d58baae1cbe', 'xmpTPg:NPages': '16'}\n",
      "\u001b[32m2025-01-13 11:20:17.714\u001b[0m | \u001b[1mINFO    \u001b[0m | \u001b[36m__main__\u001b[0m:\u001b[36m<module>\u001b[0m:\u001b[36m81\u001b[0m - file metadata JSON: None\n",
      "\u001b[32m2025-01-13 11:20:17.714\u001b[0m | \u001b[1mINFO    \u001b[0m | \u001b[36m__main__\u001b[0m:\u001b[36m<module>\u001b[0m:\u001b[36m16\u001b[0m - Processing Project ID: 73243@test\n",
      "\u001b[32m2025-01-13 11:20:17.714\u001b[0m | \u001b[1mINFO    \u001b[0m | \u001b[36m__main__\u001b[0m:\u001b[36m<module>\u001b[0m:\u001b[36m17\u001b[0m - File CID: QmUq29KRwpTdvScB5oYzEDobDHyb4N1f9eaZXm4VaMCgiW\n",
      "\u001b[32m2025-01-13 11:20:17.714\u001b[0m | \u001b[1mINFO    \u001b[0m | \u001b[36m__main__\u001b[0m:\u001b[36m<module>\u001b[0m:\u001b[36m18\u001b[0m - Metadata CID: QmPiZKhXpmKCJ7scjBNGeU2BxuDEac3AaDrNr55PwPuZZV\n",
      "\u001b[32m2025-01-13 11:20:17.720\u001b[0m | \u001b[1mINFO    \u001b[0m | \u001b[36m__main__\u001b[0m:\u001b[36m<module>\u001b[0m:\u001b[36m29\u001b[0m - Fetched project details for 73243@test: { \"admin@test\" : { \"file_1\" : \"QmUq29KRwpTdvScB5oYzEDobDHyb4N1f9eaZXm4VaMCgiW, QmPiZKhXpmKCJ7scjBNGeU2BxuDEac3AaDrNr55PwPuZZV\", \"linked_user\" : \"elated_noether@test\", \"project_metadata_cid\" : \"QmW6MDJSfQD8pgMNkqCxNMYzeKkC8YDkCgHtkP5mkKzEqg\" } }\n",
      "\u001b[32m2025-01-13 11:20:17.720\u001b[0m | \u001b[1mINFO    \u001b[0m | \u001b[36msuper_helper\u001b[0m:\u001b[36mfetch_project_details\u001b[0m:\u001b[36m266\u001b[0m - Validating and fetching details for CID: QmUq29KRwpTdvScB5oYzEDobDHyb4N1f9eaZXm4VaMCgiW\n",
      "\u001b[32m2025-01-13 11:20:17.720\u001b[0m | \u001b[1mINFO    \u001b[0m | \u001b[36msuper_helper\u001b[0m:\u001b[36mfetch_project_details\u001b[0m:\u001b[36m274\u001b[0m - File CID QmUq29KRwpTdvScB5oYzEDobDHyb4N1f9eaZXm4VaMCgiW found under file_1.\n",
      "\u001b[32m2025-01-13 11:20:17.720\u001b[0m | \u001b[1mINFO    \u001b[0m | \u001b[36m__main__\u001b[0m:\u001b[36m<module>\u001b[0m:\u001b[36m40\u001b[0m - Valid Result for 73243@test is {'is_valid': True, 'project_metadata_cid': 'QmW6MDJSfQD8pgMNkqCxNMYzeKkC8YDkCgHtkP5mkKzEqg', 'linked_user': 'elated_noether@test'}.\n",
      "\u001b[32m2025-01-13 11:20:17.720\u001b[0m | \u001b[1mINFO    \u001b[0m | \u001b[36m__main__\u001b[0m:\u001b[36m<module>\u001b[0m:\u001b[36m48\u001b[0m - Valid File CID for 73243@test.\n",
      "\u001b[32m2025-01-13 11:20:17.720\u001b[0m | \u001b[1mINFO    \u001b[0m | \u001b[36m__main__\u001b[0m:\u001b[36m<module>\u001b[0m:\u001b[36m49\u001b[0m - Project Metadata CID: QmW6MDJSfQD8pgMNkqCxNMYzeKkC8YDkCgHtkP5mkKzEqg\n",
      "\u001b[32m2025-01-13 11:20:17.720\u001b[0m | \u001b[1mINFO    \u001b[0m | \u001b[36m__main__\u001b[0m:\u001b[36m<module>\u001b[0m:\u001b[36m50\u001b[0m - Linked User: elated_noether@test\n",
      "\u001b[32m2025-01-13 11:20:17.720\u001b[0m | \u001b[1mINFO    \u001b[0m | \u001b[36m__main__\u001b[0m:\u001b[36m<module>\u001b[0m:\u001b[36m54\u001b[0m - Processing project metadata CID: QmW6MDJSfQD8pgMNkqCxNMYzeKkC8YDkCgHtkP5mkKzEqg\n",
      "\u001b[32m2025-01-13 11:20:17.723\u001b[0m | \u001b[1mINFO    \u001b[0m | \u001b[36m__main__\u001b[0m:\u001b[36m<module>\u001b[0m:\u001b[36m56\u001b[0m - Downloaded project metadata: {'@context': {'dc': 'http://purl.org/dc/terms/', 'schema': 'http://schema.org/'}, '@type': 'schema:ResearchProject', 'dc:abstract': 'This paper analyzes how digital twins influences precision medicine, providing insights into how to maximize its energy reliability.', 'schema:endDate': '2025-03-10', 'schema:funding': {'@type': 'schema:Organization', 'schema:name': 'Bill and Melinda Gates Foundation'}, 'schema:keywords': ['digital twins', 'precision medicine', 'energy reliability'], 'schema:location': {'@type': 'schema:Place', 'schema:name': 'Tokyo, Japan'}, 'schema:name': 'Analyzing the Influence of digital twins on precision medicine', 'schema:startDate': '2023-05-12'}\n",
      "\u001b[32m2025-01-13 11:20:17.723\u001b[0m | \u001b[1mINFO    \u001b[0m | \u001b[36m__main__\u001b[0m:\u001b[36m<module>\u001b[0m:\u001b[36m59\u001b[0m - Processing linked user: elated_noether@test\n",
      "\u001b[32m2025-01-13 11:20:17.728\u001b[0m | \u001b[1mINFO    \u001b[0m | \u001b[36m__main__\u001b[0m:\u001b[36m<module>\u001b[0m:\u001b[36m69\u001b[0m - User JSON-LD CID: QmS6HCQXDnFaZT4GJmR4Yv2j4vhdqRBdauXZYoazL3KKcf\n",
      "\u001b[32m2025-01-13 11:20:17.730\u001b[0m | \u001b[1mINFO    \u001b[0m | \u001b[36m__main__\u001b[0m:\u001b[36m<module>\u001b[0m:\u001b[36m71\u001b[0m - Downloaded user metadata: {'@type': 'foaf:Person', 'foaf:holdsAccount': {'schema:identifier': 'elated_noether@test', 'schema:publicKey': 'f26542c817bef9db2133e2a67fde4cbf07f408d897b9ce323b2d463cffe2598a', 'schema:roleName': 'author'}, 'foaf:mbox': 'elated_noether@email.com', 'foaf:name': 'Elated Noether', 'foaf:organization': {'@type': 'foaf:Organization', 'foaf:name': 'Karachi School of Art'}, 'schema:identifier': {'@type': 'PropertyValue', 'propertyID': 'ORCID', 'value': '2182-3432-2982-X'}}\n",
      "\u001b[32m2025-01-13 11:20:17.730\u001b[0m | \u001b[1mINFO    \u001b[0m | \u001b[36m__main__\u001b[0m:\u001b[36m<module>\u001b[0m:\u001b[36m76\u001b[0m - Processing metadata CID: QmPiZKhXpmKCJ7scjBNGeU2BxuDEac3AaDrNr55PwPuZZV\n",
      "\u001b[32m2025-01-13 11:20:17.731\u001b[0m | \u001b[1mINFO    \u001b[0m | \u001b[36msuper_helper\u001b[0m:\u001b[36mdownload_file\u001b[0m:\u001b[36m28\u001b[0m - Cleaned file name: COVID19-MLSF--A-multi-task-learning-based-stock-market_2023_Expert-Systems-w.pdf\n",
      "\u001b[32m2025-01-13 11:20:17.732\u001b[0m | \u001b[1mINFO    \u001b[0m | \u001b[36msuper_helper\u001b[0m:\u001b[36mdownload_file\u001b[0m:\u001b[36m33\u001b[0m - Download directory ready: download/73243@test\n",
      "\u001b[32m2025-01-13 11:20:17.732\u001b[0m | \u001b[1mINFO    \u001b[0m | \u001b[36msuper_helper\u001b[0m:\u001b[36mdownload_file\u001b[0m:\u001b[36m37\u001b[0m - Downloading file to: download/73243@test/COVID19-MLSF--A-multi-task-learning-based-stock-market_2023_Expert-Systems-w.pdf\n",
      "\u001b[32m2025-01-13 11:20:17.745\u001b[0m | \u001b[1mINFO    \u001b[0m | \u001b[36m__main__\u001b[0m:\u001b[36m<module>\u001b[0m:\u001b[36m79\u001b[0m - Downloaded file metadata: QmPiZKhXpmKCJ7scjBNGeU2BxuDEac3AaDrNr55PwPuZZV\n",
      "\u001b[32m2025-01-13 11:20:17.745\u001b[0m | \u001b[1mINFO    \u001b[0m | \u001b[36m__main__\u001b[0m:\u001b[36m<module>\u001b[0m:\u001b[36m80\u001b[0m - file metadata: {'Content-Length': '4016043', 'Content-Type': 'application/pdf', 'CreationDate--Text': '7th February 2023', 'CrossMarkDomains[1]': 'elsevier.com', 'CrossMarkDomains[2]': 'sciencedirect.com', 'CrossmarkDomainExclusive': 'true', 'CrossmarkMajorVersionDate': '2010-04-23', 'ElsevierWebPDFSpecifications': '7.0', 'X-TIKA:Parsed-By': ['org.apache.tika.parser.DefaultParser', 'org.apache.tika.parser.pdf.PDFParser'], 'X-TIKA:Parsed-By-Full-Set': ['org.apache.tika.parser.DefaultParser', 'org.apache.tika.parser.pdf.PDFParser'], 'X-TIKA:content_handler': 'ToTextContentHandler', 'X-TIKA:embedded_depth': '0', 'X-TIKA:parse_time_millis': '133', 'access_permission:assemble_document': 'true', 'access_permission:can_modify': 'true', 'access_permission:can_print': 'true', 'access_permission:can_print_degraded': 'true', 'access_permission:extract_content': 'true', 'access_permission:extract_for_accessibility': 'true', 'access_permission:fill_in_form': 'true', 'access_permission:modify_annotations': 'true', 'dc:creator': ['Chenxun Yuan', 'Xiang Ma', 'Hua Wang', 'Caiming Zhang', 'Xuemei Li'], 'dc:description': 'Expert Systems With Applications, 217 (2023) 119549. doi:10.1016/j.eswa.2023.119549', 'dc:format': 'application/pdf; version=1.7', 'dc:language': 'en-US', 'dc:subject': ['Stock market forecasting,COVID-19 pandemic,Multi-task learning,Feature fusion,K-nearest neighbor classifier', 'Expert Systems With Applications, 217 (2023) 119549. doi:10.1016/j.eswa.2023.119549'], 'dc:title': 'COVID19-MLSF: A multi-task learning-based stock market forecasting framework during the COVID-19 pandemic', 'dcterms:created': '2023-02-04T09:40:15Z', 'dcterms:modified': '2023-02-07T16:52:03Z', 'doi': '10.1016/j.eswa.2023.119549', 'meta:keyword': 'Stock market forecasting,COVID-19 pandemic,Multi-task learning,Feature fusion,K-nearest neighbor classifier', 'pdf:PDFVersion': '1.7', 'pdf:annotationSubtypes': 'Link', 'pdf:annotationTypes': 'null', 'pdf:charsPerPage': ['4308', '4046', '7115', '4551', '3567', '6426', '1218', '6119', '1896', '4055', '3517', '5861', '730', '833', '5274', '6307'], 'pdf:containsDamagedFont': 'false', 'pdf:containsNonEmbeddedFont': 'false', 'pdf:docinfo:created': '2023-02-04T09:40:15Z', 'pdf:docinfo:creator': 'Chenxun Yuan', 'pdf:docinfo:creator_tool': 'Elsevier', 'pdf:docinfo:custom:CreationDate--Text': '7th February 2023', 'pdf:docinfo:custom:CrossMarkDomains[1]': 'elsevier.com', 'pdf:docinfo:custom:CrossMarkDomains[2]': 'sciencedirect.com', 'pdf:docinfo:custom:CrossmarkDomainExclusive': 'true', 'pdf:docinfo:custom:CrossmarkMajorVersionDate': '2010-04-23', 'pdf:docinfo:custom:ElsevierWebPDFSpecifications': '7.0', 'pdf:docinfo:custom:doi': '10.1016/j.eswa.2023.119549', 'pdf:docinfo:custom:robots': 'noindex', 'pdf:docinfo:keywords': 'Stock market forecasting,COVID-19 pandemic,Multi-task learning,Feature fusion,K-nearest neighbor classifier', 'pdf:docinfo:modified': '2023-02-07T16:52:03Z', 'pdf:docinfo:producer': 'Acrobat Distiller 8.1.0 (Windows)', 'pdf:docinfo:subject': 'Expert Systems With Applications, 217 (2023) 119549. doi:10.1016/j.eswa.2023.119549', 'pdf:docinfo:title': 'COVID19-MLSF: A multi-task learning-based stock market forecasting framework during the COVID-19 pandemic', 'pdf:encrypted': 'false', 'pdf:hasCollection': 'false', 'pdf:hasMarkedContent': 'false', 'pdf:hasXFA': 'false', 'pdf:hasXMP': 'true', 'pdf:num3DAnnotations': '0', 'pdf:overallPercentageUnmappedUnicodeChars': '0.0', 'pdf:producer': 'Acrobat Distiller 8.1.0 (Windows)', 'pdf:totalUnmappedUnicodeChars': '0', 'pdf:unmappedUnicodeCharsPerPage': ['0', '0', '0', '0', '0', '0', '0', '0', '0', '0', '0', '0', '0', '0', '0', '0'], 'resourceName': \"b'COVID19-MLSF--A-multi-task-learning-based-stock-market_2023_Expert-Systems-w.pdf'\", 'robots': 'noindex', 'xmp:CreateDate': '2023-02-04T09:40:15Z', 'xmp:CreatorTool': 'Elsevier', 'xmp:MetadataDate': '2023-02-07T16:52:03Z', 'xmp:ModifyDate': '2023-02-07T16:52:03Z', 'xmpMM:DocumentID': 'uuid:1b499bed-4ce8-4c0c-b682-0d58baae1cbe', 'xmpTPg:NPages': '16'}\n",
      "\u001b[32m2025-01-13 11:20:17.745\u001b[0m | \u001b[1mINFO    \u001b[0m | \u001b[36m__main__\u001b[0m:\u001b[36m<module>\u001b[0m:\u001b[36m81\u001b[0m - file metadata JSON: None\n",
      "\u001b[32m2025-01-13 11:20:17.745\u001b[0m | \u001b[1mINFO    \u001b[0m | \u001b[36m__main__\u001b[0m:\u001b[36m<module>\u001b[0m:\u001b[36m16\u001b[0m - Processing Project ID: 37355@test\n",
      "\u001b[32m2025-01-13 11:20:17.745\u001b[0m | \u001b[1mINFO    \u001b[0m | \u001b[36m__main__\u001b[0m:\u001b[36m<module>\u001b[0m:\u001b[36m17\u001b[0m - File CID: QmUq29KRwpTdvScB5oYzEDobDHyb4N1f9eaZXm4VaMCgiW\n",
      "\u001b[32m2025-01-13 11:20:17.745\u001b[0m | \u001b[1mINFO    \u001b[0m | \u001b[36m__main__\u001b[0m:\u001b[36m<module>\u001b[0m:\u001b[36m18\u001b[0m - Metadata CID: QmWcdZFjgVaocJrPvDqKzf5KSFDcxypn5Ffyq9SNxQM1dN\n",
      "\u001b[32m2025-01-13 11:20:17.749\u001b[0m | \u001b[1mINFO    \u001b[0m | \u001b[36m__main__\u001b[0m:\u001b[36m<module>\u001b[0m:\u001b[36m29\u001b[0m - Fetched project details for 37355@test: { \"admin@test\" : { \"file_1\" : \"QmUq29KRwpTdvScB5oYzEDobDHyb4N1f9eaZXm4VaMCgiW, QmNf9v11kNmrrrFw58VdMnS7GAjdfss6aiBaVkKq4ghdn7\", \"linked_user\" : \"wizardly_murdock@test\", \"project_metadata_cid\" : \"QmVqM2d9FhPwQNAhQ2mUCi9mzw8EdF3oqM4wzAHMUqcWWd\" } }\n",
      "\u001b[32m2025-01-13 11:20:17.749\u001b[0m | \u001b[1mINFO    \u001b[0m | \u001b[36msuper_helper\u001b[0m:\u001b[36mfetch_project_details\u001b[0m:\u001b[36m266\u001b[0m - Validating and fetching details for CID: QmUq29KRwpTdvScB5oYzEDobDHyb4N1f9eaZXm4VaMCgiW\n",
      "\u001b[32m2025-01-13 11:20:17.749\u001b[0m | \u001b[1mINFO    \u001b[0m | \u001b[36msuper_helper\u001b[0m:\u001b[36mfetch_project_details\u001b[0m:\u001b[36m274\u001b[0m - File CID QmUq29KRwpTdvScB5oYzEDobDHyb4N1f9eaZXm4VaMCgiW found under file_1.\n",
      "\u001b[32m2025-01-13 11:20:17.750\u001b[0m | \u001b[1mINFO    \u001b[0m | \u001b[36m__main__\u001b[0m:\u001b[36m<module>\u001b[0m:\u001b[36m40\u001b[0m - Valid Result for 37355@test is {'is_valid': True, 'project_metadata_cid': 'QmVqM2d9FhPwQNAhQ2mUCi9mzw8EdF3oqM4wzAHMUqcWWd', 'linked_user': 'wizardly_murdock@test'}.\n",
      "\u001b[32m2025-01-13 11:20:17.750\u001b[0m | \u001b[1mINFO    \u001b[0m | \u001b[36m__main__\u001b[0m:\u001b[36m<module>\u001b[0m:\u001b[36m48\u001b[0m - Valid File CID for 37355@test.\n",
      "\u001b[32m2025-01-13 11:20:17.750\u001b[0m | \u001b[1mINFO    \u001b[0m | \u001b[36m__main__\u001b[0m:\u001b[36m<module>\u001b[0m:\u001b[36m49\u001b[0m - Project Metadata CID: QmVqM2d9FhPwQNAhQ2mUCi9mzw8EdF3oqM4wzAHMUqcWWd\n",
      "\u001b[32m2025-01-13 11:20:17.750\u001b[0m | \u001b[1mINFO    \u001b[0m | \u001b[36m__main__\u001b[0m:\u001b[36m<module>\u001b[0m:\u001b[36m50\u001b[0m - Linked User: wizardly_murdock@test\n",
      "\u001b[32m2025-01-13 11:20:17.750\u001b[0m | \u001b[1mINFO    \u001b[0m | \u001b[36m__main__\u001b[0m:\u001b[36m<module>\u001b[0m:\u001b[36m54\u001b[0m - Processing project metadata CID: QmVqM2d9FhPwQNAhQ2mUCi9mzw8EdF3oqM4wzAHMUqcWWd\n",
      "\u001b[32m2025-01-13 11:20:17.751\u001b[0m | \u001b[1mINFO    \u001b[0m | \u001b[36m__main__\u001b[0m:\u001b[36m<module>\u001b[0m:\u001b[36m56\u001b[0m - Downloaded project metadata: {'@context': {'dc': 'http://purl.org/dc/terms/', 'schema': 'http://schema.org/'}, '@type': 'schema:ResearchProject', 'dc:abstract': 'This research focuses on the benefits and challenges posed by virtual reality for urban planning, with an emphasis on its potential for environmental restoration.', 'schema:endDate': '2025-05-16', 'schema:funding': {'@type': 'schema:Organization', 'schema:name': 'Bill and Melinda Gates Foundation'}, 'schema:keywords': ['virtual reality', 'urban planning', 'environmental restoration'], 'schema:location': {'@type': 'schema:Place', 'schema:name': 'Tokyo, Japan'}, 'schema:name': 'Assessing the Benefits of virtual reality for urban planning', 'schema:startDate': '2022-05-05'}\n",
      "\u001b[32m2025-01-13 11:20:17.751\u001b[0m | \u001b[1mINFO    \u001b[0m | \u001b[36m__main__\u001b[0m:\u001b[36m<module>\u001b[0m:\u001b[36m59\u001b[0m - Processing linked user: wizardly_murdock@test\n",
      "\u001b[32m2025-01-13 11:20:17.755\u001b[0m | \u001b[1mINFO    \u001b[0m | \u001b[36m__main__\u001b[0m:\u001b[36m<module>\u001b[0m:\u001b[36m69\u001b[0m - User JSON-LD CID: QmasGHctfDbkzhaqebKGicpyDtVxhswtDaX99XpMnLvcXC\n",
      "\u001b[32m2025-01-13 11:20:17.757\u001b[0m | \u001b[1mINFO    \u001b[0m | \u001b[36m__main__\u001b[0m:\u001b[36m<module>\u001b[0m:\u001b[36m71\u001b[0m - Downloaded user metadata: {'@type': 'foaf:Person', 'foaf:holdsAccount': {'schema:identifier': 'wizardly_murdock@test', 'schema:publicKey': '944f6ca0b600f7d9705a9dc1853ea6432221b91836251196630c02bf465cbf20', 'schema:roleName': 'author'}, 'foaf:mbox': 'wizardly_murdock@email.com', 'foaf:name': 'Wizardly Murdock', 'foaf:organization': {'@type': 'foaf:Organization', 'foaf:name': 'Baqai Medical University'}, 'schema:identifier': {'@type': 'PropertyValue', 'propertyID': 'ORCID', 'value': '3202-1900-4101-X'}}\n",
      "\u001b[32m2025-01-13 11:20:17.757\u001b[0m | \u001b[1mINFO    \u001b[0m | \u001b[36m__main__\u001b[0m:\u001b[36m<module>\u001b[0m:\u001b[36m76\u001b[0m - Processing metadata CID: QmWcdZFjgVaocJrPvDqKzf5KSFDcxypn5Ffyq9SNxQM1dN\n",
      "\u001b[32m2025-01-13 11:20:17.758\u001b[0m | \u001b[1mINFO    \u001b[0m | \u001b[36msuper_helper\u001b[0m:\u001b[36mdownload_file\u001b[0m:\u001b[36m28\u001b[0m - Cleaned file name: COVID19-MLSF--A-multi-task-learning-based-stock-market_2023_Expert-Systems-w.pdf\n",
      "\u001b[32m2025-01-13 11:20:17.758\u001b[0m | \u001b[1mINFO    \u001b[0m | \u001b[36msuper_helper\u001b[0m:\u001b[36mdownload_file\u001b[0m:\u001b[36m33\u001b[0m - Download directory ready: download/37355@test\n",
      "\u001b[32m2025-01-13 11:20:17.758\u001b[0m | \u001b[1mINFO    \u001b[0m | \u001b[36msuper_helper\u001b[0m:\u001b[36mdownload_file\u001b[0m:\u001b[36m37\u001b[0m - Downloading file to: download/37355@test/COVID19-MLSF--A-multi-task-learning-based-stock-market_2023_Expert-Systems-w.pdf\n",
      "\u001b[32m2025-01-13 11:20:17.770\u001b[0m | \u001b[1mINFO    \u001b[0m | \u001b[36m__main__\u001b[0m:\u001b[36m<module>\u001b[0m:\u001b[36m79\u001b[0m - Downloaded file metadata: QmWcdZFjgVaocJrPvDqKzf5KSFDcxypn5Ffyq9SNxQM1dN\n",
      "\u001b[32m2025-01-13 11:20:17.770\u001b[0m | \u001b[1mINFO    \u001b[0m | \u001b[36m__main__\u001b[0m:\u001b[36m<module>\u001b[0m:\u001b[36m80\u001b[0m - file metadata: {'Content-Length': '4016043', 'Content-Type': 'application/pdf', 'CreationDate--Text': '7th February 2023', 'CrossMarkDomains[1]': 'elsevier.com', 'CrossMarkDomains[2]': 'sciencedirect.com', 'CrossmarkDomainExclusive': 'true', 'CrossmarkMajorVersionDate': '2010-04-23', 'ElsevierWebPDFSpecifications': '7.0', 'X-TIKA:Parsed-By': ['org.apache.tika.parser.DefaultParser', 'org.apache.tika.parser.pdf.PDFParser'], 'X-TIKA:Parsed-By-Full-Set': ['org.apache.tika.parser.DefaultParser', 'org.apache.tika.parser.pdf.PDFParser'], 'X-TIKA:content_handler': 'ToTextContentHandler', 'X-TIKA:embedded_depth': '0', 'X-TIKA:parse_time_millis': '125', 'access_permission:assemble_document': 'true', 'access_permission:can_modify': 'true', 'access_permission:can_print': 'true', 'access_permission:can_print_degraded': 'true', 'access_permission:extract_content': 'true', 'access_permission:extract_for_accessibility': 'true', 'access_permission:fill_in_form': 'true', 'access_permission:modify_annotations': 'true', 'dc:creator': ['Chenxun Yuan', 'Xiang Ma', 'Hua Wang', 'Caiming Zhang', 'Xuemei Li'], 'dc:description': 'Expert Systems With Applications, 217 (2023) 119549. doi:10.1016/j.eswa.2023.119549', 'dc:format': 'application/pdf; version=1.7', 'dc:language': 'en-US', 'dc:subject': ['Stock market forecasting,COVID-19 pandemic,Multi-task learning,Feature fusion,K-nearest neighbor classifier', 'Expert Systems With Applications, 217 (2023) 119549. doi:10.1016/j.eswa.2023.119549'], 'dc:title': 'COVID19-MLSF: A multi-task learning-based stock market forecasting framework during the COVID-19 pandemic', 'dcterms:created': '2023-02-04T09:40:15Z', 'dcterms:modified': '2023-02-07T16:52:03Z', 'doi': '10.1016/j.eswa.2023.119549', 'meta:keyword': 'Stock market forecasting,COVID-19 pandemic,Multi-task learning,Feature fusion,K-nearest neighbor classifier', 'pdf:PDFVersion': '1.7', 'pdf:annotationSubtypes': 'Link', 'pdf:annotationTypes': 'null', 'pdf:charsPerPage': ['4308', '4046', '7115', '4551', '3567', '6426', '1218', '6119', '1896', '4055', '3517', '5861', '730', '833', '5274', '6307'], 'pdf:containsDamagedFont': 'false', 'pdf:containsNonEmbeddedFont': 'false', 'pdf:docinfo:created': '2023-02-04T09:40:15Z', 'pdf:docinfo:creator': 'Chenxun Yuan', 'pdf:docinfo:creator_tool': 'Elsevier', 'pdf:docinfo:custom:CreationDate--Text': '7th February 2023', 'pdf:docinfo:custom:CrossMarkDomains[1]': 'elsevier.com', 'pdf:docinfo:custom:CrossMarkDomains[2]': 'sciencedirect.com', 'pdf:docinfo:custom:CrossmarkDomainExclusive': 'true', 'pdf:docinfo:custom:CrossmarkMajorVersionDate': '2010-04-23', 'pdf:docinfo:custom:ElsevierWebPDFSpecifications': '7.0', 'pdf:docinfo:custom:doi': '10.1016/j.eswa.2023.119549', 'pdf:docinfo:custom:robots': 'noindex', 'pdf:docinfo:keywords': 'Stock market forecasting,COVID-19 pandemic,Multi-task learning,Feature fusion,K-nearest neighbor classifier', 'pdf:docinfo:modified': '2023-02-07T16:52:03Z', 'pdf:docinfo:producer': 'Acrobat Distiller 8.1.0 (Windows)', 'pdf:docinfo:subject': 'Expert Systems With Applications, 217 (2023) 119549. doi:10.1016/j.eswa.2023.119549', 'pdf:docinfo:title': 'COVID19-MLSF: A multi-task learning-based stock market forecasting framework during the COVID-19 pandemic', 'pdf:encrypted': 'false', 'pdf:hasCollection': 'false', 'pdf:hasMarkedContent': 'false', 'pdf:hasXFA': 'false', 'pdf:hasXMP': 'true', 'pdf:num3DAnnotations': '0', 'pdf:overallPercentageUnmappedUnicodeChars': '0.0', 'pdf:producer': 'Acrobat Distiller 8.1.0 (Windows)', 'pdf:totalUnmappedUnicodeChars': '0', 'pdf:unmappedUnicodeCharsPerPage': ['0', '0', '0', '0', '0', '0', '0', '0', '0', '0', '0', '0', '0', '0', '0', '0'], 'resourceName': \"b'COVID19-MLSF--A-multi-task-learning-based-stock-market_2023_Expert-Systems-w.pdf'\", 'robots': 'noindex', 'xmp:CreateDate': '2023-02-04T09:40:15Z', 'xmp:CreatorTool': 'Elsevier', 'xmp:MetadataDate': '2023-02-07T16:52:03Z', 'xmp:ModifyDate': '2023-02-07T16:52:03Z', 'xmpMM:DocumentID': 'uuid:1b499bed-4ce8-4c0c-b682-0d58baae1cbe', 'xmpTPg:NPages': '16'}\n",
      "\u001b[32m2025-01-13 11:20:17.770\u001b[0m | \u001b[1mINFO    \u001b[0m | \u001b[36m__main__\u001b[0m:\u001b[36m<module>\u001b[0m:\u001b[36m81\u001b[0m - file metadata JSON: None\n",
      "\u001b[32m2025-01-13 11:20:17.770\u001b[0m | \u001b[1mINFO    \u001b[0m | \u001b[36m__main__\u001b[0m:\u001b[36m<module>\u001b[0m:\u001b[36m16\u001b[0m - Processing Project ID: 37355@test\n",
      "\u001b[32m2025-01-13 11:20:17.770\u001b[0m | \u001b[1mINFO    \u001b[0m | \u001b[36m__main__\u001b[0m:\u001b[36m<module>\u001b[0m:\u001b[36m17\u001b[0m - File CID: QmUq29KRwpTdvScB5oYzEDobDHyb4N1f9eaZXm4VaMCgiW\n",
      "\u001b[32m2025-01-13 11:20:17.770\u001b[0m | \u001b[1mINFO    \u001b[0m | \u001b[36m__main__\u001b[0m:\u001b[36m<module>\u001b[0m:\u001b[36m18\u001b[0m - Metadata CID: QmY3c4tCzveKDUZKjqyj9a6U8vDkuAs3q88D1UkcmWdBtJ\n",
      "\u001b[32m2025-01-13 11:20:17.775\u001b[0m | \u001b[1mINFO    \u001b[0m | \u001b[36m__main__\u001b[0m:\u001b[36m<module>\u001b[0m:\u001b[36m29\u001b[0m - Fetched project details for 37355@test: { \"admin@test\" : { \"file_1\" : \"QmUq29KRwpTdvScB5oYzEDobDHyb4N1f9eaZXm4VaMCgiW, QmNf9v11kNmrrrFw58VdMnS7GAjdfss6aiBaVkKq4ghdn7\", \"linked_user\" : \"wizardly_murdock@test\", \"project_metadata_cid\" : \"QmVqM2d9FhPwQNAhQ2mUCi9mzw8EdF3oqM4wzAHMUqcWWd\" } }\n",
      "\u001b[32m2025-01-13 11:20:17.775\u001b[0m | \u001b[1mINFO    \u001b[0m | \u001b[36msuper_helper\u001b[0m:\u001b[36mfetch_project_details\u001b[0m:\u001b[36m266\u001b[0m - Validating and fetching details for CID: QmUq29KRwpTdvScB5oYzEDobDHyb4N1f9eaZXm4VaMCgiW\n",
      "\u001b[32m2025-01-13 11:20:17.776\u001b[0m | \u001b[1mINFO    \u001b[0m | \u001b[36msuper_helper\u001b[0m:\u001b[36mfetch_project_details\u001b[0m:\u001b[36m274\u001b[0m - File CID QmUq29KRwpTdvScB5oYzEDobDHyb4N1f9eaZXm4VaMCgiW found under file_1.\n",
      "\u001b[32m2025-01-13 11:20:17.776\u001b[0m | \u001b[1mINFO    \u001b[0m | \u001b[36m__main__\u001b[0m:\u001b[36m<module>\u001b[0m:\u001b[36m40\u001b[0m - Valid Result for 37355@test is {'is_valid': True, 'project_metadata_cid': 'QmVqM2d9FhPwQNAhQ2mUCi9mzw8EdF3oqM4wzAHMUqcWWd', 'linked_user': 'wizardly_murdock@test'}.\n",
      "\u001b[32m2025-01-13 11:20:17.776\u001b[0m | \u001b[1mINFO    \u001b[0m | \u001b[36m__main__\u001b[0m:\u001b[36m<module>\u001b[0m:\u001b[36m48\u001b[0m - Valid File CID for 37355@test.\n",
      "\u001b[32m2025-01-13 11:20:17.776\u001b[0m | \u001b[1mINFO    \u001b[0m | \u001b[36m__main__\u001b[0m:\u001b[36m<module>\u001b[0m:\u001b[36m49\u001b[0m - Project Metadata CID: QmVqM2d9FhPwQNAhQ2mUCi9mzw8EdF3oqM4wzAHMUqcWWd\n",
      "\u001b[32m2025-01-13 11:20:17.776\u001b[0m | \u001b[1mINFO    \u001b[0m | \u001b[36m__main__\u001b[0m:\u001b[36m<module>\u001b[0m:\u001b[36m50\u001b[0m - Linked User: wizardly_murdock@test\n",
      "\u001b[32m2025-01-13 11:20:17.776\u001b[0m | \u001b[1mINFO    \u001b[0m | \u001b[36m__main__\u001b[0m:\u001b[36m<module>\u001b[0m:\u001b[36m54\u001b[0m - Processing project metadata CID: QmVqM2d9FhPwQNAhQ2mUCi9mzw8EdF3oqM4wzAHMUqcWWd\n",
      "\u001b[32m2025-01-13 11:20:17.778\u001b[0m | \u001b[1mINFO    \u001b[0m | \u001b[36m__main__\u001b[0m:\u001b[36m<module>\u001b[0m:\u001b[36m56\u001b[0m - Downloaded project metadata: {'@context': {'dc': 'http://purl.org/dc/terms/', 'schema': 'http://schema.org/'}, '@type': 'schema:ResearchProject', 'dc:abstract': 'This research focuses on the benefits and challenges posed by virtual reality for urban planning, with an emphasis on its potential for environmental restoration.', 'schema:endDate': '2025-05-16', 'schema:funding': {'@type': 'schema:Organization', 'schema:name': 'Bill and Melinda Gates Foundation'}, 'schema:keywords': ['virtual reality', 'urban planning', 'environmental restoration'], 'schema:location': {'@type': 'schema:Place', 'schema:name': 'Tokyo, Japan'}, 'schema:name': 'Assessing the Benefits of virtual reality for urban planning', 'schema:startDate': '2022-05-05'}\n",
      "\u001b[32m2025-01-13 11:20:17.778\u001b[0m | \u001b[1mINFO    \u001b[0m | \u001b[36m__main__\u001b[0m:\u001b[36m<module>\u001b[0m:\u001b[36m59\u001b[0m - Processing linked user: wizardly_murdock@test\n",
      "\u001b[32m2025-01-13 11:20:17.788\u001b[0m | \u001b[1mINFO    \u001b[0m | \u001b[36m__main__\u001b[0m:\u001b[36m<module>\u001b[0m:\u001b[36m69\u001b[0m - User JSON-LD CID: QmasGHctfDbkzhaqebKGicpyDtVxhswtDaX99XpMnLvcXC\n",
      "\u001b[32m2025-01-13 11:20:17.793\u001b[0m | \u001b[1mINFO    \u001b[0m | \u001b[36m__main__\u001b[0m:\u001b[36m<module>\u001b[0m:\u001b[36m71\u001b[0m - Downloaded user metadata: {'@type': 'foaf:Person', 'foaf:holdsAccount': {'schema:identifier': 'wizardly_murdock@test', 'schema:publicKey': '944f6ca0b600f7d9705a9dc1853ea6432221b91836251196630c02bf465cbf20', 'schema:roleName': 'author'}, 'foaf:mbox': 'wizardly_murdock@email.com', 'foaf:name': 'Wizardly Murdock', 'foaf:organization': {'@type': 'foaf:Organization', 'foaf:name': 'Baqai Medical University'}, 'schema:identifier': {'@type': 'PropertyValue', 'propertyID': 'ORCID', 'value': '3202-1900-4101-X'}}\n",
      "\u001b[32m2025-01-13 11:20:17.794\u001b[0m | \u001b[1mINFO    \u001b[0m | \u001b[36m__main__\u001b[0m:\u001b[36m<module>\u001b[0m:\u001b[36m76\u001b[0m - Processing metadata CID: QmY3c4tCzveKDUZKjqyj9a6U8vDkuAs3q88D1UkcmWdBtJ\n",
      "\u001b[32m2025-01-13 11:20:17.799\u001b[0m | \u001b[1mINFO    \u001b[0m | \u001b[36msuper_helper\u001b[0m:\u001b[36mdownload_file\u001b[0m:\u001b[36m28\u001b[0m - Cleaned file name: COVID19-MLSF--A-multi-task-learning-based-stock-market_2023_Expert-Systems-w.pdf\n",
      "\u001b[32m2025-01-13 11:20:17.799\u001b[0m | \u001b[1mINFO    \u001b[0m | \u001b[36msuper_helper\u001b[0m:\u001b[36mdownload_file\u001b[0m:\u001b[36m33\u001b[0m - Download directory ready: download/37355@test\n",
      "\u001b[32m2025-01-13 11:20:17.799\u001b[0m | \u001b[1mINFO    \u001b[0m | \u001b[36msuper_helper\u001b[0m:\u001b[36mdownload_file\u001b[0m:\u001b[36m37\u001b[0m - Downloading file to: download/37355@test/COVID19-MLSF--A-multi-task-learning-based-stock-market_2023_Expert-Systems-w.pdf\n",
      "\u001b[32m2025-01-13 11:20:17.839\u001b[0m | \u001b[1mINFO    \u001b[0m | \u001b[36m__main__\u001b[0m:\u001b[36m<module>\u001b[0m:\u001b[36m79\u001b[0m - Downloaded file metadata: QmY3c4tCzveKDUZKjqyj9a6U8vDkuAs3q88D1UkcmWdBtJ\n",
      "\u001b[32m2025-01-13 11:20:17.839\u001b[0m | \u001b[1mINFO    \u001b[0m | \u001b[36m__main__\u001b[0m:\u001b[36m<module>\u001b[0m:\u001b[36m80\u001b[0m - file metadata: {'Content-Length': '4016043', 'Content-Type': 'application/pdf', 'CreationDate--Text': '7th February 2023', 'CrossMarkDomains[1]': 'elsevier.com', 'CrossMarkDomains[2]': 'sciencedirect.com', 'CrossmarkDomainExclusive': 'true', 'CrossmarkMajorVersionDate': '2010-04-23', 'ElsevierWebPDFSpecifications': '7.0', 'X-TIKA:Parsed-By': ['org.apache.tika.parser.DefaultParser', 'org.apache.tika.parser.pdf.PDFParser'], 'X-TIKA:Parsed-By-Full-Set': ['org.apache.tika.parser.DefaultParser', 'org.apache.tika.parser.pdf.PDFParser'], 'X-TIKA:content_handler': 'ToTextContentHandler', 'X-TIKA:embedded_depth': '0', 'X-TIKA:parse_time_millis': '122', 'access_permission:assemble_document': 'true', 'access_permission:can_modify': 'true', 'access_permission:can_print': 'true', 'access_permission:can_print_degraded': 'true', 'access_permission:extract_content': 'true', 'access_permission:extract_for_accessibility': 'true', 'access_permission:fill_in_form': 'true', 'access_permission:modify_annotations': 'true', 'dc:creator': ['Chenxun Yuan', 'Xiang Ma', 'Hua Wang', 'Caiming Zhang', 'Xuemei Li'], 'dc:description': 'Expert Systems With Applications, 217 (2023) 119549. doi:10.1016/j.eswa.2023.119549', 'dc:format': 'application/pdf; version=1.7', 'dc:language': 'en-US', 'dc:subject': ['Stock market forecasting,COVID-19 pandemic,Multi-task learning,Feature fusion,K-nearest neighbor classifier', 'Expert Systems With Applications, 217 (2023) 119549. doi:10.1016/j.eswa.2023.119549'], 'dc:title': 'COVID19-MLSF: A multi-task learning-based stock market forecasting framework during the COVID-19 pandemic', 'dcterms:created': '2023-02-04T09:40:15Z', 'dcterms:modified': '2023-02-07T16:52:03Z', 'doi': '10.1016/j.eswa.2023.119549', 'meta:keyword': 'Stock market forecasting,COVID-19 pandemic,Multi-task learning,Feature fusion,K-nearest neighbor classifier', 'pdf:PDFVersion': '1.7', 'pdf:annotationSubtypes': 'Link', 'pdf:annotationTypes': 'null', 'pdf:charsPerPage': ['4308', '4046', '7115', '4551', '3567', '6426', '1218', '6119', '1896', '4055', '3517', '5861', '730', '833', '5274', '6307'], 'pdf:containsDamagedFont': 'false', 'pdf:containsNonEmbeddedFont': 'false', 'pdf:docinfo:created': '2023-02-04T09:40:15Z', 'pdf:docinfo:creator': 'Chenxun Yuan', 'pdf:docinfo:creator_tool': 'Elsevier', 'pdf:docinfo:custom:CreationDate--Text': '7th February 2023', 'pdf:docinfo:custom:CrossMarkDomains[1]': 'elsevier.com', 'pdf:docinfo:custom:CrossMarkDomains[2]': 'sciencedirect.com', 'pdf:docinfo:custom:CrossmarkDomainExclusive': 'true', 'pdf:docinfo:custom:CrossmarkMajorVersionDate': '2010-04-23', 'pdf:docinfo:custom:ElsevierWebPDFSpecifications': '7.0', 'pdf:docinfo:custom:doi': '10.1016/j.eswa.2023.119549', 'pdf:docinfo:custom:robots': 'noindex', 'pdf:docinfo:keywords': 'Stock market forecasting,COVID-19 pandemic,Multi-task learning,Feature fusion,K-nearest neighbor classifier', 'pdf:docinfo:modified': '2023-02-07T16:52:03Z', 'pdf:docinfo:producer': 'Acrobat Distiller 8.1.0 (Windows)', 'pdf:docinfo:subject': 'Expert Systems With Applications, 217 (2023) 119549. doi:10.1016/j.eswa.2023.119549', 'pdf:docinfo:title': 'COVID19-MLSF: A multi-task learning-based stock market forecasting framework during the COVID-19 pandemic', 'pdf:encrypted': 'false', 'pdf:hasCollection': 'false', 'pdf:hasMarkedContent': 'false', 'pdf:hasXFA': 'false', 'pdf:hasXMP': 'true', 'pdf:num3DAnnotations': '0', 'pdf:overallPercentageUnmappedUnicodeChars': '0.0', 'pdf:producer': 'Acrobat Distiller 8.1.0 (Windows)', 'pdf:totalUnmappedUnicodeChars': '0', 'pdf:unmappedUnicodeCharsPerPage': ['0', '0', '0', '0', '0', '0', '0', '0', '0', '0', '0', '0', '0', '0', '0', '0'], 'resourceName': \"b'COVID19-MLSF--A-multi-task-learning-based-stock-market_2023_Expert-Systems-w.pdf'\", 'robots': 'noindex', 'xmp:CreateDate': '2023-02-04T09:40:15Z', 'xmp:CreatorTool': 'Elsevier', 'xmp:MetadataDate': '2023-02-07T16:52:03Z', 'xmp:ModifyDate': '2023-02-07T16:52:03Z', 'xmpMM:DocumentID': 'uuid:1b499bed-4ce8-4c0c-b682-0d58baae1cbe', 'xmpTPg:NPages': '16'}\n",
      "\u001b[32m2025-01-13 11:20:17.839\u001b[0m | \u001b[1mINFO    \u001b[0m | \u001b[36m__main__\u001b[0m:\u001b[36m<module>\u001b[0m:\u001b[36m81\u001b[0m - file metadata JSON: None\n"
     ]
    }
   ],
   "source": [
    "# Check if there are no search results\n",
    "if not search_results:\n",
    "    logger.warning(f\"No search results found for keyword: '{keyword}'. Exiting the script.\")\n",
    "else:\n",
    "    # Process each dictionary in search results\n",
    "    for result_dict in search_results:\n",
    "        project_id = result_dict.get('project_id')\n",
    "        file_cid = result_dict.get('file_cid')\n",
    "        metadata_cid = result_dict.get('metadata_cid')\n",
    "\n",
    "        if not project_id or not file_cid or not metadata_cid:\n",
    "            logger.error(f\"Missing required data in result: {result_dict}\")\n",
    "            continue\n",
    "\n",
    "        # Log the retrieved project details\n",
    "        logger.info(f\"Processing Project ID: {project_id}\")\n",
    "        logger.info(f\"File CID: {file_cid}\")\n",
    "        logger.info(f\"Metadata CID: {metadata_cid}\")\n",
    "        # file_metadata_json = download_json_from_ipfs(metadata_cid)\n",
    "        # logger.info(\"file_metadata_json:\", file_metadata_json)\n",
    "        \n",
    "\n",
    "        # Fetch project details from the blockchain\n",
    "        project_details = get_account_detail(project_id)\n",
    "        if not project_details:\n",
    "            logger.error(f\"No project details found for Project ID: {project_id}.\")\n",
    "            continue\n",
    "\n",
    "        logger.info(f\"Fetched project details for {project_id}: {project_details}\")\n",
    "\n",
    "        # Parse blockchain data\n",
    "        try:\n",
    "            blockchain_data = json.loads(project_details)\n",
    "        except json.JSONDecodeError as e:\n",
    "            logger.error(f\"Error decoding project details JSON for {project_id}: {e}\")\n",
    "            continue\n",
    "\n",
    "        # Validate file CID and fetch project details\n",
    "        validation_result = fetch_project_details(file_cid, blockchain_data)\n",
    "        logger.info(f\"Valid Result for {project_id} is {validation_result}.\")\n",
    "        if validation_result[\"is_valid\"]:\n",
    "            project_metadata_cid = validation_result.get(\"project_metadata_cid\")\n",
    "            linked_user = validation_result.get(\"linked_user\")\n",
    "            file_metadata_cid = validation_result.get(\"metadata_cid\")\n",
    "            \n",
    "            # download_file(file_metadata_json, download_path, project_id, file_cid)\n",
    "\n",
    "            logger.info(f\"Valid File CID for {project_id}.\")\n",
    "            logger.info(f\"Project Metadata CID: {project_metadata_cid}\")\n",
    "            logger.info(f\"Linked User: {linked_user}\")\n",
    "\n",
    "            # Fetch and process metadata and user details\n",
    "            if project_metadata_cid:\n",
    "                logger.info(f\"Processing project metadata CID: {project_metadata_cid}\")\n",
    "                project_metadata = download_json_from_ipfs(project_metadata_cid)\n",
    "                logger.info(f\"Downloaded project metadata: {project_metadata}\")\n",
    "\n",
    "            if linked_user:\n",
    "                logger.info(f\"Processing linked user: {linked_user}\")\n",
    "                user_details = get_account_detail(linked_user)\n",
    "                try:\n",
    "                    user_details = json.loads(user_details)\n",
    "                except json.JSONDecodeError as e:\n",
    "                    logger.error(f\"Error decoding user details JSON for {linked_user}: {e}\")\n",
    "                    continue\n",
    "\n",
    "                user_json_ld_cid = user_details.get(\"admin@test\", {}).get(\"user_json_ld_cid\", None)\n",
    "                if user_json_ld_cid:\n",
    "                    logger.info(f\"User JSON-LD CID: {user_json_ld_cid}\")\n",
    "                    user_metadata = download_json_from_ipfs(user_json_ld_cid)\n",
    "                    logger.info(f\"Downloaded user metadata: {user_metadata}\")\n",
    "                else:\n",
    "                    logger.warning(f\"User JSON-LD CID not found for linked user {linked_user}.\")\n",
    "            \n",
    "            if metadata_cid:\n",
    "                logger.info(f\"Processing metadata CID: {metadata_cid}\")\n",
    "                file_metadata = download_json_from_ipfs(metadata_cid)\n",
    "                file_metadata_json = download_file(file_metadata, download_path, project_id, file_cid)\n",
    "                logger.info(f\"Downloaded file metadata: {metadata_cid}\")\n",
    "                logger.info(f\"file metadata: {file_metadata}\")\n",
    "                logger.info(f\"file metadata JSON: {file_metadata_json}\")\n",
    "            \n",
    "        \n",
    "        else:\n",
    "            logger.warning(f\"Invalid File CID for Project ID: {project_id}. Skipping metadata processing.\")"
   ]
  }
 ],
 "metadata": {
  "kernelspec": {
   "display_name": "Python 3 (ipykernel)",
   "language": "python",
   "name": "python3"
  },
  "language_info": {
   "codemirror_mode": {
    "name": "ipython",
    "version": 3
   },
   "file_extension": ".py",
   "mimetype": "text/x-python",
   "name": "python",
   "nbconvert_exporter": "python",
   "pygments_lexer": "ipython3",
   "version": "3.9.21"
  }
 },
 "nbformat": 4,
 "nbformat_minor": 5
}
