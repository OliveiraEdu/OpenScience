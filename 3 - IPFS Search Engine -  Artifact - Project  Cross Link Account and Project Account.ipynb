{
 "cells": [
  {
   "cell_type": "code",
   "execution_count": 1,
   "id": "d4a1c5a2-75c3-482e-999c-70eb25226078",
   "metadata": {
    "editable": true,
    "slideshow": {
     "slide_type": ""
    },
    "tags": []
   },
   "outputs": [],
   "source": [
    "from iroha import IrohaCrypto\n",
    "from iroha.ed25519 import H\n",
    "import integration_helpers\n",
    "from iroha.primitive_pb2 import can_set_my_account_detail\n",
    "import json\n",
    "from iroha_helper import *\n",
    "from new_helper import *\n",
    "from super_helper import *\n",
    "from ipfs_functions import *\n",
    "from loguru import logger"
   ]
  },
  {
   "cell_type": "code",
   "execution_count": 2,
   "id": "cad05321",
   "metadata": {},
   "outputs": [],
   "source": [
    "# Index for objects in both user account and project account JSON-LDs.\n",
    "json_ld_index = 2\n",
    "\n",
    "# Local path for file upload\n",
    "directory_path = \"upload\"\n",
    "\n",
    "# Directory for file downloads\n",
    "download_path = \"download\"\n",
    "\n",
    "# Read accounts from JSON-LD\n",
    "user_accounts = read_user_accounts_from_jsonld('datasets/accounts.json')\n",
    "project_accounts = read_project_accounts_from_jsonld('datasets/projects.json')\n",
    "\n",
    "#for the index system\n",
    "index_path = \"indexdir\"\n",
    "index = open_dir(index_path)\n"
   ]
  },
  {
   "cell_type": "code",
   "execution_count": 3,
   "id": "14eaf61c",
   "metadata": {},
   "outputs": [],
   "source": [
    "#Manually resets the index on execution\n",
    "# logger.info(recreate_index()) "
   ]
  },
  {
   "cell_type": "markdown",
   "id": "9a043d51-4a22-4186-975e-7e3e8a4b54ef",
   "metadata": {},
   "source": [
    "1 - Deploys a smart contract into the Iroha 1 blockchain for details (attributes) setting;"
   ]
  },
  {
   "cell_type": "code",
   "execution_count": 4,
   "id": "0e6442fc",
   "metadata": {},
   "outputs": [
    {
     "name": "stderr",
     "output_type": "stream",
     "text": [
      "\u001b[32m2025-01-14 21:57:53.179\u001b[0m | \u001b[1mINFO    \u001b[0m | \u001b[36mintegration_helpers\u001b[0m:\u001b[36mtracer\u001b[0m:\u001b[36m34\u001b[0m - \u001b[1m\tEntering \"create_detail_contract\"\u001b[0m\n",
      "\u001b[32m2025-01-14 21:57:53.186\u001b[0m | \u001b[1mINFO    \u001b[0m | \u001b[36miroha_helper\u001b[0m:\u001b[36mcreate_detail_contract\u001b[0m:\u001b[36m55\u001b[0m - \u001b[1m('STATELESS_VALIDATION_SUCCESS', 1, 0)\u001b[0m\n",
      "\u001b[32m2025-01-14 21:57:53.187\u001b[0m | \u001b[1mINFO    \u001b[0m | \u001b[36miroha_helper\u001b[0m:\u001b[36mcreate_detail_contract\u001b[0m:\u001b[36m55\u001b[0m - \u001b[1m('ENOUGH_SIGNATURES_COLLECTED', 9, 0)\u001b[0m\n",
      "\u001b[32m2025-01-14 21:57:54.859\u001b[0m | \u001b[1mINFO    \u001b[0m | \u001b[36miroha_helper\u001b[0m:\u001b[36mcreate_detail_contract\u001b[0m:\u001b[36m55\u001b[0m - \u001b[1m('STATEFUL_VALIDATION_SUCCESS', 3, 0)\u001b[0m\n",
      "\u001b[32m2025-01-14 21:57:54.890\u001b[0m | \u001b[1mINFO    \u001b[0m | \u001b[36miroha_helper\u001b[0m:\u001b[36mcreate_detail_contract\u001b[0m:\u001b[36m55\u001b[0m - \u001b[1m('COMMITTED', 5, 0)\u001b[0m\n",
      "\u001b[32m2025-01-14 21:57:54.892\u001b[0m | \u001b[1mINFO    \u001b[0m | \u001b[36mintegration_helpers\u001b[0m:\u001b[36mtracer\u001b[0m:\u001b[36m36\u001b[0m - \u001b[1m\tLeaving \"create_detail_contract\"\u001b[0m\n",
      "\u001b[32m2025-01-14 21:57:54.893\u001b[0m | \u001b[1mINFO    \u001b[0m | \u001b[36mintegration_helpers\u001b[0m:\u001b[36mtracer\u001b[0m:\u001b[36m34\u001b[0m - \u001b[1m\tEntering \"get_engine_receipts_result\"\u001b[0m\n",
      "\u001b[32m2025-01-14 21:57:54.913\u001b[0m | \u001b[1mINFO    \u001b[0m | \u001b[36mintegration_helpers\u001b[0m:\u001b[36mget_engine_receipts_result\u001b[0m:\u001b[36m92\u001b[0m - \u001b[1m\u001b[0m\n",
      "\u001b[32m2025-01-14 21:57:54.915\u001b[0m | \u001b[1mINFO    \u001b[0m | \u001b[36mintegration_helpers\u001b[0m:\u001b[36mtracer\u001b[0m:\u001b[36m36\u001b[0m - \u001b[1m\tLeaving \"get_engine_receipts_result\"\u001b[0m\n"
     ]
    },
    {
     "name": "stderr",
     "output_type": "stream",
     "text": [
      "\u001b[32m2025-01-14 21:29:16.735\u001b[0m | \u001b[1mINFO    \u001b[0m | \u001b[36miroha_helper\u001b[0m:\u001b[36mcreate_detail_contract\u001b[0m:\u001b[36m55\u001b[0m - \u001b[1m('STATEFUL_VALIDATION_SUCCESS', 3, 0)\u001b[0m\n",
      "\u001b[32m2025-01-14 21:29:16.764\u001b[0m | \u001b[1mINFO    \u001b[0m | \u001b[36miroha_helper\u001b[0m:\u001b[36mcreate_detail_contract\u001b[0m:\u001b[36m55\u001b[0m - \u001b[1m('COMMITTED', 5, 0)\u001b[0m\n",
      "\u001b[32m2025-01-14 21:29:16.766\u001b[0m | \u001b[1mINFO    \u001b[0m | \u001b[36mintegration_helpers\u001b[0m:\u001b[36mtracer\u001b[0m:\u001b[36m36\u001b[0m - \u001b[1m\tLeaving \"create_detail_contract\"\u001b[0m\n",
      "\u001b[32m2025-01-14 21:29:16.768\u001b[0m | \u001b[1mINFO    \u001b[0m | \u001b[36mintegration_helpers\u001b[0m:\u001b[36mtracer\u001b[0m:\u001b[36m34\u001b[0m - \u001b[1m\tEntering \"get_engine_receipts_result\"\u001b[0m\n",
      "\u001b[32m2025-01-14 21:29:16.789\u001b[0m | \u001b[1mINFO    \u001b[0m | \u001b[36mintegration_helpers\u001b[0m:\u001b[36mget_engine_receipts_result\u001b[0m:\u001b[36m92\u001b[0m - \u001b[1m\u001b[0m\n",
      "\u001b[32m2025-01-14 21:29:16.790\u001b[0m | \u001b[1mINFO    \u001b[0m | \u001b[36mintegration_helpers\u001b[0m:\u001b[36mtracer\u001b[0m:\u001b[36m36\u001b[0m - \u001b[1m\tLeaving \"get_engine_receipts_result\"\u001b[0m\n"
     ]
    }
   ],
   "source": [
    "hash = create_detail_contract()\n",
    "integration_helpers.get_engine_receipts_result(hash)"
   ]
  },
  {
   "cell_type": "markdown",
   "id": "a4ea1051-cb1c-4c29-97e5-38ba90248081",
   "metadata": {},
   "source": [
    "2 - Data extraction from JSON-LD.\n",
    "\n",
    "Extracts account ids from `datasets/accounts.json` and `datasets/projects.json`.\n",
    "\n",
    "Must update `json_ld_index` with a entry number related to an existing object in `datasets/accounts.json` and `datasets/projects.json`"
   ]
  },
  {
   "cell_type": "markdown",
   "id": "26e068d0-2247-4fd3-827f-4144b66965e1",
   "metadata": {},
   "source": [
    "4 - Sets details for both User and Project accounts providing a logical link between them for later references."
   ]
  },
  {
   "cell_type": "code",
   "execution_count": 5,
   "id": "1304dbe4",
   "metadata": {},
   "outputs": [
    {
     "name": "stderr",
     "output_type": "stream",
     "text": [
      "\u001b[32m2025-01-14 21:57:54.930\u001b[0m | \u001b[1mINFO    \u001b[0m | \u001b[36mintegration_helpers\u001b[0m:\u001b[36mtracer\u001b[0m:\u001b[36m34\u001b[0m - \u001b[1m\tEntering \"get_engine_receipts_address\"\u001b[0m\n",
      "\u001b[32m2025-01-14 21:57:54.952\u001b[0m | \u001b[1mINFO    \u001b[0m | \u001b[36mintegration_helpers\u001b[0m:\u001b[36mtracer\u001b[0m:\u001b[36m36\u001b[0m - \u001b[1m\tLeaving \"get_engine_receipts_address\"\u001b[0m\n",
      "\u001b[32m2025-01-14 21:57:54.954\u001b[0m | \u001b[1mINFO    \u001b[0m | \u001b[36miroha_helper\u001b[0m:\u001b[36mtracer\u001b[0m:\u001b[36m244\u001b[0m - \u001b[1m\tEntering \"set_account_detail\"\u001b[0m\n",
      "\u001b[32m2025-01-14 21:57:54.975\u001b[0m | \u001b[1mINFO    \u001b[0m | \u001b[36miroha_helper\u001b[0m:\u001b[36mset_account_detail\u001b[0m:\u001b[36m296\u001b[0m - \u001b[1mNone\u001b[0m\n",
      "\u001b[32m2025-01-14 21:57:54.977\u001b[0m | \u001b[1mINFO    \u001b[0m | \u001b[36miroha_helper\u001b[0m:\u001b[36mset_account_detail\u001b[0m:\u001b[36m298\u001b[0m - \u001b[1m('ENOUGH_SIGNATURES_COLLECTED', 9, 0)\u001b[0m\n",
      "\u001b[32m2025-01-14 21:57:57.919\u001b[0m | \u001b[1mINFO    \u001b[0m | \u001b[36miroha_helper\u001b[0m:\u001b[36mset_account_detail\u001b[0m:\u001b[36m298\u001b[0m - \u001b[1m('STATEFUL_VALIDATION_SUCCESS', 3, 0)\u001b[0m\n",
      "\u001b[32m2025-01-14 21:57:57.946\u001b[0m | \u001b[1mINFO    \u001b[0m | \u001b[36miroha_helper\u001b[0m:\u001b[36mset_account_detail\u001b[0m:\u001b[36m298\u001b[0m - \u001b[1m('COMMITTED', 5, 0)\u001b[0m\n",
      "\u001b[32m2025-01-14 21:57:57.948\u001b[0m | \u001b[1mINFO    \u001b[0m | \u001b[36miroha_helper\u001b[0m:\u001b[36mtracer\u001b[0m:\u001b[36m246\u001b[0m - \u001b[1m\tLeaving \"set_account_detail\"\u001b[0m\n",
      "\u001b[32m2025-01-14 21:57:57.950\u001b[0m | \u001b[1mINFO    \u001b[0m | \u001b[36miroha_helper\u001b[0m:\u001b[36mtracer\u001b[0m:\u001b[36m244\u001b[0m - \u001b[1m\tEntering \"set_account_detail\"\u001b[0m\n",
      "\u001b[32m2025-01-14 21:57:57.965\u001b[0m | \u001b[1mINFO    \u001b[0m | \u001b[36miroha_helper\u001b[0m:\u001b[36mset_account_detail\u001b[0m:\u001b[36m296\u001b[0m - \u001b[1mNone\u001b[0m\n",
      "\u001b[32m2025-01-14 21:57:57.968\u001b[0m | \u001b[1mINFO    \u001b[0m | \u001b[36miroha_helper\u001b[0m:\u001b[36mset_account_detail\u001b[0m:\u001b[36m298\u001b[0m - \u001b[1m('ENOUGH_SIGNATURES_COLLECTED', 9, 0)\u001b[0m\n",
      "\u001b[32m2025-01-14 21:58:00.970\u001b[0m | \u001b[1mINFO    \u001b[0m | \u001b[36miroha_helper\u001b[0m:\u001b[36mset_account_detail\u001b[0m:\u001b[36m298\u001b[0m - \u001b[1m('STATEFUL_VALIDATION_SUCCESS', 3, 0)\u001b[0m\n",
      "\u001b[32m2025-01-14 21:58:00.999\u001b[0m | \u001b[1mINFO    \u001b[0m | \u001b[36miroha_helper\u001b[0m:\u001b[36mset_account_detail\u001b[0m:\u001b[36m298\u001b[0m - \u001b[1m('COMMITTED', 5, 0)\u001b[0m\n",
      "\u001b[32m2025-01-14 21:58:01.002\u001b[0m | \u001b[1mINFO    \u001b[0m | \u001b[36miroha_helper\u001b[0m:\u001b[36mtracer\u001b[0m:\u001b[36m246\u001b[0m - \u001b[1m\tLeaving \"set_account_detail\"\u001b[0m\n",
      "\u001b[32m2025-01-14 21:58:01.004\u001b[0m | \u001b[1mINFO    \u001b[0m | \u001b[36miroha_helper\u001b[0m:\u001b[36mupdate_user_account_link\u001b[0m:\u001b[36m160\u001b[0m - \u001b[1mUpdated user account jolly_carson@test with linked project 60032@test\u001b[0m\n",
      "\u001b[32m2025-01-14 21:58:01.007\u001b[0m | \u001b[1mINFO    \u001b[0m | \u001b[36miroha_helper\u001b[0m:\u001b[36mupdate_project_account_link\u001b[0m:\u001b[36m191\u001b[0m - \u001b[1mUpdated project account 60032@test with linked user jolly_carson@test\u001b[0m\n",
      "\u001b[32m2025-01-14 21:58:01.009\u001b[0m | \u001b[1mINFO    \u001b[0m | \u001b[36m__main__\u001b[0m:\u001b[36m<module>\u001b[0m:\u001b[36m29\u001b[0m - \u001b[1mUser account jolly_carson@test linked to project 60032@test\u001b[0m\n",
      "\u001b[32m2025-01-14 21:58:01.011\u001b[0m | \u001b[1mINFO    \u001b[0m | \u001b[36m__main__\u001b[0m:\u001b[36m<module>\u001b[0m:\u001b[36m30\u001b[0m - \u001b[1mProject account 60032@test linked to user jolly_carson@test\u001b[0m\n"
     ]
    },
    {
     "name": "stderr",
     "output_type": "stream",
     "text": [
      "\u001b[32m2025-01-14 21:29:19.789\u001b[0m | \u001b[1mINFO    \u001b[0m | \u001b[36miroha_helper\u001b[0m:\u001b[36mset_account_detail\u001b[0m:\u001b[36m298\u001b[0m - \u001b[1m('STATEFUL_VALIDATION_SUCCESS', 3, 0)\u001b[0m\n",
      "\u001b[32m2025-01-14 21:29:19.814\u001b[0m | \u001b[1mINFO    \u001b[0m | \u001b[36miroha_helper\u001b[0m:\u001b[36mset_account_detail\u001b[0m:\u001b[36m298\u001b[0m - \u001b[1m('COMMITTED', 5, 0)\u001b[0m\n",
      "\u001b[32m2025-01-14 21:29:19.817\u001b[0m | \u001b[1mINFO    \u001b[0m | \u001b[36miroha_helper\u001b[0m:\u001b[36mtracer\u001b[0m:\u001b[36m246\u001b[0m - \u001b[1m\tLeaving \"set_account_detail\"\u001b[0m\n",
      "\u001b[32m2025-01-14 21:29:19.819\u001b[0m | \u001b[1mINFO    \u001b[0m | \u001b[36miroha_helper\u001b[0m:\u001b[36mtracer\u001b[0m:\u001b[36m244\u001b[0m - \u001b[1m\tEntering \"set_account_detail\"\u001b[0m\n",
      "\u001b[32m2025-01-14 21:29:19.835\u001b[0m | \u001b[1mINFO    \u001b[0m | \u001b[36miroha_helper\u001b[0m:\u001b[36mset_account_detail\u001b[0m:\u001b[36m296\u001b[0m - \u001b[1mNone\u001b[0m\n",
      "\u001b[32m2025-01-14 21:29:19.838\u001b[0m | \u001b[1mINFO    \u001b[0m | \u001b[36miroha_helper\u001b[0m:\u001b[36mset_account_detail\u001b[0m:\u001b[36m298\u001b[0m - \u001b[1m('ENOUGH_SIGNATURES_COLLECTED', 9, 0)\u001b[0m\n",
      "\u001b[32m2025-01-14 21:29:22.838\u001b[0m | \u001b[1mINFO    \u001b[0m | \u001b[36miroha_helper\u001b[0m:\u001b[36mset_account_detail\u001b[0m:\u001b[36m298\u001b[0m - \u001b[1m('STATEFUL_VALIDATION_SUCCESS', 3, 0)\u001b[0m\n",
      "\u001b[32m2025-01-14 21:29:22.865\u001b[0m | \u001b[1mINFO    \u001b[0m | \u001b[36miroha_helper\u001b[0m:\u001b[36mset_account_detail\u001b[0m:\u001b[36m298\u001b[0m - \u001b[1m('COMMITTED', 5, 0)\u001b[0m\n",
      "\u001b[32m2025-01-14 21:29:22.867\u001b[0m | \u001b[1mINFO    \u001b[0m | \u001b[36miroha_helper\u001b[0m:\u001b[36mtracer\u001b[0m:\u001b[36m246\u001b[0m - \u001b[1m\tLeaving \"set_account_detail\"\u001b[0m\n",
      "\u001b[32m2025-01-14 21:29:22.871\u001b[0m | \u001b[1mINFO    \u001b[0m | \u001b[36miroha_helper\u001b[0m:\u001b[36mupdate_user_account_link\u001b[0m:\u001b[36m160\u001b[0m - \u001b[1mUpdated user account jolly_carson@test with linked project 60032@test\u001b[0m\n",
      "\u001b[32m2025-01-14 21:29:22.874\u001b[0m | \u001b[1mINFO    \u001b[0m | \u001b[36miroha_helper\u001b[0m:\u001b[36mupdate_project_account_link\u001b[0m:\u001b[36m191\u001b[0m - \u001b[1mUpdated project account 60032@test with linked user jolly_carson@test\u001b[0m\n",
      "\u001b[32m2025-01-14 21:29:22.877\u001b[0m | \u001b[1mINFO    \u001b[0m | \u001b[36m__main__\u001b[0m:\u001b[36m<module>\u001b[0m:\u001b[36m29\u001b[0m - \u001b[1mUser account jolly_carson@test linked to project 60032@test\u001b[0m\n",
      "\u001b[32m2025-01-14 21:29:22.879\u001b[0m | \u001b[1mINFO    \u001b[0m | \u001b[36m__main__\u001b[0m:\u001b[36m<module>\u001b[0m:\u001b[36m30\u001b[0m - \u001b[1mProject account 60032@test linked to user jolly_carson@test\u001b[0m\n"
     ]
    }
   ],
   "source": [
    "# Example execution of the previous snippet\n",
    "address = integration_helpers.get_engine_receipts_address(hash)\n",
    "\n",
    "# Assuming json_ld_index is defined\n",
    "user_account = user_accounts[json_ld_index]\n",
    "project_account = project_accounts[json_ld_index]\n",
    "\n",
    "# Set project_id as a detail for the user account\n",
    "hash_user_to_project = set_account_detail(\n",
    "    address, \n",
    "    user_account['account_id'], \n",
    "    \"linked_project\", \n",
    "    project_account['account_id']\n",
    ")\n",
    "\n",
    "# Set user_account_id as a detail for the project account\n",
    "hash_project_to_user = set_account_detail(\n",
    "    address, \n",
    "    project_account['account_id'], \n",
    "    \"linked_user\", \n",
    "    user_account['account_id']\n",
    ")\n",
    "\n",
    "# Update the JSON-LD files with the linked details\n",
    "update_user_account_link(user_account['account_id'], project_account['account_id'])\n",
    "update_project_account_link(project_account['account_id'], user_account['account_id'])\n",
    "\n",
    "# Confirming the operation\n",
    "logger.info(f\"User account {user_account['account_id']} linked to project {project_account['account_id']}\")\n",
    "logger.info(f\"Project account {project_account['account_id']} linked to user {user_account['account_id']}\")"
   ]
  },
  {
   "cell_type": "markdown",
   "id": "3562857c-d86d-42cf-a24b-23a5c3f5cb4e",
   "metadata": {},
   "source": [
    "3 - Queries Iroha 1 for User account and checks its values"
   ]
  },
  {
   "cell_type": "code",
   "execution_count": 6,
   "id": "b52e47a4-b1c5-4ebe-a2d8-8edae10063d8",
   "metadata": {},
   "outputs": [
    {
     "name": "stderr",
     "output_type": "stream",
     "text": [
      "\u001b[32m2025-01-14 21:58:01.044\u001b[0m | \u001b[1mINFO    \u001b[0m | \u001b[36m__main__\u001b[0m:\u001b[36m<module>\u001b[0m:\u001b[36m11\u001b[0m - \u001b[1mUser Account id = {'account_id': 'jolly_carson@test'}, { \"admin@test\" : { \"linked_project\" : \"60032@test\", \"user_json_ld_cid\" : \"QmaooJHb4vCziESs7MqcC4LhnR7RfMMhG3iQvcpUyxrUHU\" } }\u001b[0m\n"
     ]
    }
   ],
   "source": [
    "#Query - GetAccountDetail\n",
    "query = iroha.query('GetAccountDetail',account_id=user_account['account_id'])\n",
    "# logger.info(query)\n",
    "IrohaCrypto.sign_query(query, ADMIN_PRIVATE_KEY)\n",
    "response = net.send_query(query)\n",
    "# logger.info(response)\n",
    "\n",
    "user_data = response.account_detail_response\n",
    "user_details = user_data.detail\n",
    "\n",
    "logger.info(f'User Account id = {user_account}, {user_details}')"
   ]
  },
  {
   "cell_type": "markdown",
   "id": "47f33098-43df-47f3-8708-f3212dec1c0f",
   "metadata": {},
   "source": [
    "6 - Queries the user account, locates the project id, queries the project account, gets the metadata and files from IPFS."
   ]
  },
  {
   "cell_type": "code",
   "execution_count": 7,
   "id": "374843b3-6862-4a93-b298-1bdd0320c4c9",
   "metadata": {},
   "outputs": [
    {
     "name": "stderr",
     "output_type": "stream",
     "text": [
      "\u001b[32m2025-01-14 21:58:01.057\u001b[0m | \u001b[1mINFO    \u001b[0m | \u001b[36m__main__\u001b[0m:\u001b[36m<module>\u001b[0m:\u001b[36m3\u001b[0m - \u001b[1m{'admin@test': {'linked_project': '60032@test', 'user_json_ld_cid': 'QmaooJHb4vCziESs7MqcC4LhnR7RfMMhG3iQvcpUyxrUHU'}}\u001b[0m\n",
      "\u001b[32m2025-01-14 21:58:01.060\u001b[0m | \u001b[1mINFO    \u001b[0m | \u001b[36m__main__\u001b[0m:\u001b[36m<module>\u001b[0m:\u001b[36m7\u001b[0m - \u001b[1m60032@test\u001b[0m\n"
     ]
    }
   ],
   "source": [
    "# Process the account details response\n",
    "user_details_dict = json.loads(user_details)  # Convert the string to a JSON object\n",
    "logger.info(user_details_dict)\n",
    "\n",
    "# Now you can access the specific key like this\n",
    "project_id = user_details_dict[\"admin@test\"][\"linked_project\"]\n",
    "logger.info(project_id)"
   ]
  },
  {
   "cell_type": "markdown",
   "id": "5c444196-6d75-4a0a-b135-c284648a4885",
   "metadata": {},
   "source": [
    "In order to star a new notebook from here, the only dependency is `project_id`"
   ]
  },
  {
   "cell_type": "code",
   "execution_count": 9,
   "id": "a5237870-f562-488f-9213-6a3acb313274",
   "metadata": {},
   "outputs": [],
   "source": [
    "import pickle\n",
    "\n",
    "# Save project_id to a file\n",
    "\n",
    "with open(\"temp/project_id.pkl\", \"wb\") as f:\n",
    "    pickle.dump(project_id, f)\n"
   ]
  }
 ],
 "metadata": {
  "kernelspec": {
   "display_name": "Python 3 (ipykernel)",
   "language": "python",
   "name": "python3"
  }
 },
 "nbformat": 4,
 "nbformat_minor": 5
}
