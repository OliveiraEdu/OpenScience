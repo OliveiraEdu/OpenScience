{
 "cells": [
  {
   "cell_type": "markdown",
   "id": "a06f63cb-d53a-4477-9588-2a3a8cfca53c",
   "metadata": {},
   "source": [
    "**IMPORTANT** \n",
    "\n",
    "- For requirements and initial setup go to https://github.com/OliveiraEdu/OpenScience/Readme.md;\n",
    "- To execute the notebook run all cells."
   ]
  },
  {
   "attachments": {},
   "cell_type": "markdown",
   "id": "223cd9f9-991c-4c3c-88d3-3721af152e8d",
   "metadata": {},
   "source": [
    "# Open Science Platform Notebook 2 - Project Account Creation"
   ]
  },
  {
   "cell_type": "markdown",
   "id": "8ad49fbf-50e7-4ccd-943c-5be80234e89a",
   "metadata": {},
   "source": [
    "## Activities\n",
    "\n",
    "1 - Deploys a smart contract into the Iroha 1 blockchain for account creation;\n",
    "\n",
    "2 - Creates a project account into the blockchain;\n",
    "\n",
    "3 - Queries the blockchain to confirm the succesful creation of the account;\n",
    "\n",
    "4 - Deploys a smart contract into the Iroha 1 blockchain for details (attributes) setting;\n",
    "\n",
    "5 - Sets details for the project account;\n",
    "\n",
    "6 - Queries the blockchain again to confirm the succesfull details setting.\n",
    "\n",
    "Every account succesfully created is dumped to `datasets/projects.json` for later use and evidence collection.  "
   ]
  },
  {
   "cell_type": "markdown",
   "id": "ed33eade-31e0-4926-8a19-48a95c652a70",
   "metadata": {},
   "source": [
    "```mermaid\n",
    "\n",
    "%%{\n",
    "  init: {\n",
    "    'theme': 'base',\n",
    "    'themeVariables': {\n",
    "      'primaryColor': '#ffffff',\n",
    "      'primaryTextColor': '#000000',\n",
    "      'primaryBorderColor': '#000000',\n",
    "      'lineColor': '#000000',\n",
    "      'secondaryColor': '#f4f4f4',\n",
    "      'secondaryTextColor': '#000000',\n",
    "      'tertiaryColor': '#d3d3d3',\n",
    "      'tertiaryTextColor': '#000000',\n",
    "      'background': '#ffffff',\n",
    "      'actorBkg': '#B4B4B4',\n",
    "      'actorTextColor': '#000000',\n",
    "      'actorBorder': '#000000',\n",
    "      'actorLineColor': '#000000',\n",
    "      'signalColor': '#000000',\n",
    "      'signalTextColor': '#000000',\n",
    "      'activationBorderColor': '#000000',\n",
    "      'activationBkgColor': '#d3d3d3',\n",
    "      'sequenceNumberColor': '#000000',\n",
    "      'noteBkgColor': '#F0F0F0',\n",
    "      'noteTextColor': '#000000',\n",
    "      'noteBorderColor': '#000000'\n",
    "    }\n",
    "  }\n",
    "}%%\n",
    "\n",
    "sequenceDiagram\n",
    "    participant Platform as \"Platform\"\n",
    "    participant Blockchain as \"Iroha 1 Blockchain\"\n",
    "    participant IPFS as \"Interplanetary File System\"\n",
    "\n",
    "    Note over Platform, Blockchain: Deploy smart contract for account creation\n",
    "    Platform->>Blockchain: Deploy Smart Contract\n",
    "    Blockchain-->>Platform: Smart Contract Deployed Successfully\n",
    "    \n",
    "    Note over Platform, Blockchain: Project Account creation\n",
    "    Platform->>Blockchain: Create Project Account\n",
    "    Blockchain-->>Platform: Project Account Created Successfully\n",
    "\n",
    "    Note over Platform, Blockchain: Queries the blockchain to confirm account creation\n",
    "    Platform->>Blockchain: Query Account Details\n",
    "    Blockchain-->>Platform: Query Response\n",
    "        \n",
    "    Note over Platform, Blockchain: Deploy smart contract for details setting\n",
    "    Platform->>Blockchain: Deploy Smart Contract\n",
    "    Blockchain-->>Platform: Smart Contract Deployed Successfully\n",
    "\n",
    "    Note over Platform, IPFS: Set project details\n",
    "    Platform->>IPFS: Send project JSON metadata to IPFS\n",
    "    IPFS-->>Platform: Send metadata CID to the Platform\n",
    "    Platform->>Blockchain: Set Project Metadata as Details in Blockchain\n",
    "    Blockchain-->>Platform: Project Details Set Successfully\n",
    "\n",
    "    Note over Platform, Blockchain: Queries the blockchain to confirm details setting\n",
    "    Platform->>Blockchain: Query Account Details\n",
    "    Blockchain-->>Platform: Query Response\n",
    "```"
   ]
  },
  {
   "cell_type": "code",
   "execution_count": 1,
   "id": "cd32c746-c4c7-4715-9d11-99d853ca2395",
   "metadata": {},
   "outputs": [],
   "source": [
    "from name_generator import left, right\n",
    "from utilities import *\n",
    "from project_id_generator import * # - Random generated synthetic project ID\n",
    "from iroha_helper import *\n",
    "from loguru import logger\n",
    "from dump_to_json import ProjectAccount, update_or_append_project_metadata\n",
    "from ipfs_functions import *\n",
    "from synthetic_project_json_ld import *"
   ]
  },
  {
   "cell_type": "code",
   "execution_count": 2,
   "id": "c55ca349",
   "metadata": {},
   "outputs": [],
   "source": [
    "DOMAIN = \"test\""
   ]
  },
  {
   "cell_type": "markdown",
   "id": "603ec5bf-68ef-46bb-a47b-341a570052d4",
   "metadata": {},
   "source": [
    "1 - Deploys a smart contract into the Iroha 1 blockchain for account creation;  "
   ]
  },
  {
   "cell_type": "code",
   "execution_count": 3,
   "id": "609528c7",
   "metadata": {},
   "outputs": [
    {
     "name": "stderr",
     "output_type": "stream",
     "text": [
      "\u001b[32m2025-01-22 18:40:23.838\u001b[0m | \u001b[34m\u001b[1mDEBUG   \u001b[0m | \u001b[36mintegration_helpers\u001b[0m:\u001b[36mtracer\u001b[0m:\u001b[36m35\u001b[0m - \u001b[34m\u001b[1m\tEntering \"create_account_contract\"\u001b[0m\n",
      "\u001b[32m2025-01-22 18:40:23.844\u001b[0m | \u001b[1mINFO    \u001b[0m | \u001b[36miroha_helper\u001b[0m:\u001b[36mcreate_account_contract\u001b[0m:\u001b[36m41\u001b[0m - \u001b[1m('STATELESS_VALIDATION_SUCCESS', 1, 0)\u001b[0m\n",
      "\u001b[32m2025-01-22 18:40:23.845\u001b[0m | \u001b[1mINFO    \u001b[0m | \u001b[36miroha_helper\u001b[0m:\u001b[36mcreate_account_contract\u001b[0m:\u001b[36m41\u001b[0m - \u001b[1m('ENOUGH_SIGNATURES_COLLECTED', 9, 0)\u001b[0m\n",
      "\u001b[32m2025-01-22 18:40:24.498\u001b[0m | \u001b[1mINFO    \u001b[0m | \u001b[36miroha_helper\u001b[0m:\u001b[36mcreate_account_contract\u001b[0m:\u001b[36m41\u001b[0m - \u001b[1m('STATEFUL_VALIDATION_SUCCESS', 3, 0)\u001b[0m\n",
      "\u001b[32m2025-01-22 18:40:24.527\u001b[0m | \u001b[1mINFO    \u001b[0m | \u001b[36miroha_helper\u001b[0m:\u001b[36mcreate_account_contract\u001b[0m:\u001b[36m41\u001b[0m - \u001b[1m('COMMITTED', 5, 0)\u001b[0m\n",
      "\u001b[32m2025-01-22 18:40:24.529\u001b[0m | \u001b[34m\u001b[1mDEBUG   \u001b[0m | \u001b[36mintegration_helpers\u001b[0m:\u001b[36mtracer\u001b[0m:\u001b[36m35\u001b[0m - \u001b[34m\u001b[1m\tEntering \"get_engine_receipts_address\"\u001b[0m\n",
      "\u001b[32m2025-01-22 18:40:24.549\u001b[0m | \u001b[1mINFO    \u001b[0m | \u001b[36mintegration_helpers\u001b[0m:\u001b[36mget_engine_receipts_address\u001b[0m:\u001b[36m96\u001b[0m - \u001b[1mRetrieved contract address for transaction hash: b'68c43d557923010c94984acee01d3c440b62cc570af7a0a24170665a1a55342f'\u001b[0m\n",
      "\u001b[32m2025-01-22 18:40:24.550\u001b[0m | \u001b[34m\u001b[1mDEBUG   \u001b[0m | \u001b[36mintegration_helpers\u001b[0m:\u001b[36mget_engine_receipts_address\u001b[0m:\u001b[36m97\u001b[0m - \u001b[34m\u001b[1mContract address: CAA81FECBA7826B572035BA13F851557C3D92AB0\u001b[0m\n",
      "\u001b[32m2025-01-22 18:40:24.551\u001b[0m | \u001b[34m\u001b[1mDEBUG   \u001b[0m | \u001b[36mintegration_helpers\u001b[0m:\u001b[36mtracer\u001b[0m:\u001b[36m37\u001b[0m - \u001b[34m\u001b[1m\tLeaving \"get_engine_receipts_address\"\u001b[0m\n",
      "\u001b[32m2025-01-22 18:40:24.552\u001b[0m | \u001b[34m\u001b[1mDEBUG   \u001b[0m | \u001b[36mintegration_helpers\u001b[0m:\u001b[36mtracer\u001b[0m:\u001b[36m37\u001b[0m - \u001b[34m\u001b[1m\tLeaving \"create_account_contract\"\u001b[0m\n"
     ]
    }
   ],
   "source": [
    "# - Deploy contract\n",
    "hash = create_account_contract()\n"
   ]
  },
  {
   "cell_type": "markdown",
   "id": "220d3a84-6cc3-4173-8cc0-6bf53990e453",
   "metadata": {},
   "source": [
    "2 - Creates a project account into the blockchain;"
   ]
  },
  {
   "cell_type": "code",
   "execution_count": 4,
   "id": "12c2a43b-c8cb-4c69-bb14-455d3fc1ce4d",
   "metadata": {},
   "outputs": [
    {
     "name": "stderr",
     "output_type": "stream",
     "text": [
      "\u001b[32m2025-01-22 18:40:24.570\u001b[0m | \u001b[1mINFO    \u001b[0m | \u001b[36m__main__\u001b[0m:\u001b[36m<module>\u001b[0m:\u001b[36m6\u001b[0m - \u001b[1mCreating project with name: 98192\u001b[0m\n",
      "\u001b[32m2025-01-22 18:40:24.574\u001b[0m | \u001b[1mINFO    \u001b[0m | \u001b[36m__main__\u001b[0m:\u001b[36m<module>\u001b[0m:\u001b[36m13\u001b[0m - \u001b[1mCreating project with name: 98192\u001b[0m\n",
      "\u001b[32m2025-01-22 18:40:24.576\u001b[0m | \u001b[34m\u001b[1mDEBUG   \u001b[0m | \u001b[36mintegration_helpers\u001b[0m:\u001b[36mtracer\u001b[0m:\u001b[36m35\u001b[0m - \u001b[34m\u001b[1m\tEntering \"get_engine_receipts_address\"\u001b[0m\n",
      "\u001b[32m2025-01-22 18:40:24.595\u001b[0m | \u001b[1mINFO    \u001b[0m | \u001b[36mintegration_helpers\u001b[0m:\u001b[36mget_engine_receipts_address\u001b[0m:\u001b[36m96\u001b[0m - \u001b[1mRetrieved contract address for transaction hash: b'68c43d557923010c94984acee01d3c440b62cc570af7a0a24170665a1a55342f'\u001b[0m\n",
      "\u001b[32m2025-01-22 18:40:24.596\u001b[0m | \u001b[34m\u001b[1mDEBUG   \u001b[0m | \u001b[36mintegration_helpers\u001b[0m:\u001b[36mget_engine_receipts_address\u001b[0m:\u001b[36m97\u001b[0m - \u001b[34m\u001b[1mContract address: CAA81FECBA7826B572035BA13F851557C3D92AB0\u001b[0m\n",
      "\u001b[32m2025-01-22 18:40:24.597\u001b[0m | \u001b[34m\u001b[1mDEBUG   \u001b[0m | \u001b[36mintegration_helpers\u001b[0m:\u001b[36mtracer\u001b[0m:\u001b[36m37\u001b[0m - \u001b[34m\u001b[1m\tLeaving \"get_engine_receipts_address\"\u001b[0m\n",
      "\u001b[32m2025-01-22 18:40:24.599\u001b[0m | \u001b[34m\u001b[1mDEBUG   \u001b[0m | \u001b[36mintegration_helpers\u001b[0m:\u001b[36mtracer\u001b[0m:\u001b[36m35\u001b[0m - \u001b[34m\u001b[1m\tEntering \"create_project_account\"\u001b[0m\n",
      "\u001b[32m2025-01-22 18:40:24.620\u001b[0m | \u001b[1mINFO    \u001b[0m | \u001b[36miroha_helper\u001b[0m:\u001b[36mcreate_project_account\u001b[0m:\u001b[36m112\u001b[0m - \u001b[1m('STATELESS_VALIDATION_SUCCESS', 1, 0)\u001b[0m\n",
      "\u001b[32m2025-01-22 18:40:24.622\u001b[0m | \u001b[1mINFO    \u001b[0m | \u001b[36miroha_helper\u001b[0m:\u001b[36mcreate_project_account\u001b[0m:\u001b[36m112\u001b[0m - \u001b[1m('ENOUGH_SIGNATURES_COLLECTED', 9, 0)\u001b[0m\n",
      "\u001b[32m2025-01-22 18:40:27.554\u001b[0m | \u001b[1mINFO    \u001b[0m | \u001b[36miroha_helper\u001b[0m:\u001b[36mcreate_project_account\u001b[0m:\u001b[36m112\u001b[0m - \u001b[1m('STATEFUL_VALIDATION_SUCCESS', 3, 0)\u001b[0m\n",
      "\u001b[32m2025-01-22 18:40:27.583\u001b[0m | \u001b[1mINFO    \u001b[0m | \u001b[36miroha_helper\u001b[0m:\u001b[36mcreate_project_account\u001b[0m:\u001b[36m112\u001b[0m - \u001b[1m('COMMITTED', 5, 0)\u001b[0m\n",
      "\u001b[32m2025-01-22 18:40:27.588\u001b[0m | \u001b[1mINFO    \u001b[0m | \u001b[36mdump_to_json\u001b[0m:\u001b[36mdump_project_to_json_ld\u001b[0m:\u001b[36m128\u001b[0m - \u001b[1mAppended new project entry to file 'datasets/projects.json', current total entries: 15\u001b[0m\n",
      "\u001b[32m2025-01-22 18:40:27.589\u001b[0m | \u001b[1mINFO    \u001b[0m | \u001b[36miroha_helper\u001b[0m:\u001b[36mcreate_project_account\u001b[0m:\u001b[36m115\u001b[0m - \u001b[1m15\u001b[0m\n",
      "\u001b[32m2025-01-22 18:40:27.590\u001b[0m | \u001b[34m\u001b[1mDEBUG   \u001b[0m | \u001b[36mintegration_helpers\u001b[0m:\u001b[36mtracer\u001b[0m:\u001b[36m37\u001b[0m - \u001b[34m\u001b[1m\tLeaving \"create_project_account\"\u001b[0m\n",
      "\u001b[32m2025-01-22 18:40:27.591\u001b[0m | \u001b[34m\u001b[1mDEBUG   \u001b[0m | \u001b[36mintegration_helpers\u001b[0m:\u001b[36mtracer\u001b[0m:\u001b[36m35\u001b[0m - \u001b[34m\u001b[1m\tEntering \"get_account\"\u001b[0m\n",
      "\u001b[32m2025-01-22 18:40:27.608\u001b[0m | \u001b[1mINFO    \u001b[0m | \u001b[36miroha_helper\u001b[0m:\u001b[36mget_account\u001b[0m:\u001b[36m303\u001b[0m - \u001b[1m('STATELESS_VALIDATION_SUCCESS', 1, 0)\u001b[0m\n",
      "\u001b[32m2025-01-22 18:40:27.610\u001b[0m | \u001b[1mINFO    \u001b[0m | \u001b[36miroha_helper\u001b[0m:\u001b[36mget_account\u001b[0m:\u001b[36m303\u001b[0m - \u001b[1m('ENOUGH_SIGNATURES_COLLECTED', 9, 0)\u001b[0m\n",
      "\u001b[32m2025-01-22 18:40:30.607\u001b[0m | \u001b[1mINFO    \u001b[0m | \u001b[36miroha_helper\u001b[0m:\u001b[36mget_account\u001b[0m:\u001b[36m303\u001b[0m - \u001b[1m('STATEFUL_VALIDATION_SUCCESS', 3, 0)\u001b[0m\n",
      "\u001b[32m2025-01-22 18:40:30.631\u001b[0m | \u001b[1mINFO    \u001b[0m | \u001b[36miroha_helper\u001b[0m:\u001b[36mget_account\u001b[0m:\u001b[36m303\u001b[0m - \u001b[1m('COMMITTED', 5, 0)\u001b[0m\n",
      "\u001b[32m2025-01-22 18:40:30.633\u001b[0m | \u001b[34m\u001b[1mDEBUG   \u001b[0m | \u001b[36mintegration_helpers\u001b[0m:\u001b[36mtracer\u001b[0m:\u001b[36m37\u001b[0m - \u001b[34m\u001b[1m\tLeaving \"get_account\"\u001b[0m\n",
      "\u001b[32m2025-01-22 18:40:30.635\u001b[0m | \u001b[34m\u001b[1mDEBUG   \u001b[0m | \u001b[36mintegration_helpers\u001b[0m:\u001b[36mtracer\u001b[0m:\u001b[36m35\u001b[0m - \u001b[34m\u001b[1m\tEntering \"get_engine_receipts_result\"\u001b[0m\n",
      "\u001b[32m2025-01-22 18:40:30.658\u001b[0m | \u001b[1mINFO    \u001b[0m | \u001b[36mintegration_helpers\u001b[0m:\u001b[36mget_engine_receipts_result\u001b[0m:\u001b[36m139\u001b[0m - \u001b[1mResult data: 000000000000000000000000000000000000000000000000000000000000002000000000000000000000000000000000000000000000000000000000000000a00000000000000000000000000000000000000000000000000000000000000020000000000000000000000000000000000000000000000000000000000000004a7b226163636f756e745f6964223a2239383139324074657374222c22646f6d61696e5f6964223a2274657374222c2271756f72756d223a312c226a736f6e5f64617461223a227b7d227d00000000000000000000000000000000000000000000\u001b[0m\n",
      "\u001b[32m2025-01-22 18:40:30.659\u001b[0m | \u001b[34m\u001b[1mDEBUG   \u001b[0m | \u001b[36mintegration_helpers\u001b[0m:\u001b[36mget_engine_receipts_result\u001b[0m:\u001b[36m140\u001b[0m - \u001b[34m\u001b[1mResult decoded string: \u0000\u0000\u0000\u0000\u0000\u0000\u0000\u0000\u0000\u0000\u0000\u0000\u0000\u0000\u0000\u0000\u0000\u0000\u0000\u0000\u0000\u0000\u0000\u0000\u0000\u0000\u0000\u0000\u0000\u0000\u0000 \u0000\u0000\u0000\u0000\u0000\u0000\u0000\u0000\u0000\u0000\u0000\u0000\u0000\u0000\u0000\u0000\u0000\u0000\u0000\u0000\u0000\u0000\u0000\u0000\u0000\u0000\u0000\u0000\u0000\u0000\u0000\u0000\u0000\u0000\u0000\u0000\u0000\u0000\u0000\u0000\u0000\u0000\u0000\u0000\u0000\u0000\u0000\u0000\u0000\u0000\u0000\u0000\u0000\u0000\u0000\u0000\u0000\u0000\u0000\u0000\u0000\u0000 \u0000\u0000\u0000\u0000\u0000\u0000\u0000\u0000\u0000\u0000\u0000\u0000\u0000\u0000\u0000\u0000\u0000\u0000\u0000\u0000\u0000\u0000\u0000\u0000\u0000\u0000\u0000\u0000\u0000\u0000\u0000J{\"account_id\":\"98192@test\",\"domain_id\":\"test\",\"quorum\":1,\"json_data\":\"{}\"}\u0000\u0000\u0000\u0000\u0000\u0000\u0000\u0000\u0000\u0000\u0000\u0000\u0000\u0000\u0000\u0000\u0000\u0000\u0000\u0000\u0000\u0000\u001b[0m\n",
      "\u001b[32m2025-01-22 18:40:30.660\u001b[0m | \u001b[34m\u001b[1mDEBUG   \u001b[0m | \u001b[36mintegration_helpers\u001b[0m:\u001b[36mtracer\u001b[0m:\u001b[36m37\u001b[0m - \u001b[34m\u001b[1m\tLeaving \"get_engine_receipts_result\"\u001b[0m\n"
     ]
    }
   ],
   "source": [
    "project_private_key = IrohaCrypto.private_key()\n",
    "project_public_key = IrohaCrypto.derive_public_key(project_private_key).decode(\"utf-8\")\n",
    "\n",
    "project_id = generate_project_id()\n",
    "\n",
    "logger.info(f\"Creating project with name: {project_id}\")\n",
    "\n",
    "# project_account = ProjectAccount(\n",
    "#     project_id=f\"{project_id}@{DOMAIN}\",\n",
    "#     public_key=project_public_key\n",
    "# )\n",
    "\n",
    "logger.info(f\"Creating project with name: {project_id}\")\n",
    "\n",
    "# - Create account\n",
    "address = integration_helpers.get_engine_receipts_address(hash)\n",
    "create_project_account(address, project_id, DOMAIN, project_public_key)\n",
    "\n",
    "# - Get account info\n",
    "user_account_hash = get_account(address, project_id, DOMAIN)\n",
    "integration_helpers.get_engine_receipts_result(user_account_hash)\n",
    "\n"
   ]
  },
  {
   "cell_type": "markdown",
   "id": "f7ea8ce4-7253-4028-b4d6-0e97177f979f",
   "metadata": {},
   "source": [
    "3 - Queries the blockchain to confirm the succesful creation of the account;"
   ]
  },
  {
   "cell_type": "code",
   "execution_count": 5,
   "id": "bcf5d96b-813e-4222-b46c-9040ce1b7cce",
   "metadata": {},
   "outputs": [
    {
     "name": "stderr",
     "output_type": "stream",
     "text": [
      "\u001b[32m2025-01-22 18:40:30.670\u001b[0m | \u001b[34m\u001b[1mDEBUG   \u001b[0m | \u001b[36mintegration_helpers\u001b[0m:\u001b[36mtracer\u001b[0m:\u001b[36m35\u001b[0m - \u001b[34m\u001b[1m\tEntering \"get_account_detail\"\u001b[0m\n",
      "\u001b[32m2025-01-22 18:40:30.692\u001b[0m | \u001b[1mINFO    \u001b[0m | \u001b[36miroha_helper\u001b[0m:\u001b[36mget_account_detail\u001b[0m:\u001b[36m279\u001b[0m - \u001b[1mUser Account id = 98192@test, {}\u001b[0m\n",
      "\u001b[32m2025-01-22 18:40:30.693\u001b[0m | \u001b[34m\u001b[1mDEBUG   \u001b[0m | \u001b[36mintegration_helpers\u001b[0m:\u001b[36mtracer\u001b[0m:\u001b[36m37\u001b[0m - \u001b[34m\u001b[1m\tLeaving \"get_account_detail\"\u001b[0m\n"
     ]
    }
   ],
   "source": [
    "#Query - GetAccountDetail\n",
    "\n",
    "details = get_account_detail(f\"{project_id}@{DOMAIN}\")"
   ]
  },
  {
   "cell_type": "markdown",
   "id": "d349b3b2-4b56-4d15-a7a3-8a9fb93ab895",
   "metadata": {},
   "source": [
    "4 - Deploys a smart contract into the Iroha 1 blockchain for details (attributes) setting;"
   ]
  },
  {
   "cell_type": "code",
   "execution_count": 6,
   "id": "9186699c-d352-401f-abf2-2381a251a08d",
   "metadata": {},
   "outputs": [
    {
     "name": "stderr",
     "output_type": "stream",
     "text": [
      "\u001b[32m2025-01-22 18:40:30.700\u001b[0m | \u001b[34m\u001b[1mDEBUG   \u001b[0m | \u001b[36mintegration_helpers\u001b[0m:\u001b[36mtracer\u001b[0m:\u001b[36m35\u001b[0m - \u001b[34m\u001b[1m\tEntering \"create_detail_contract\"\u001b[0m\n",
      "\u001b[32m2025-01-22 18:40:30.720\u001b[0m | \u001b[1mINFO    \u001b[0m | \u001b[36miroha_helper\u001b[0m:\u001b[36mcreate_detail_contract\u001b[0m:\u001b[36m56\u001b[0m - \u001b[1m('STATELESS_VALIDATION_SUCCESS', 1, 0)\u001b[0m\n",
      "\u001b[32m2025-01-22 18:40:30.723\u001b[0m | \u001b[1mINFO    \u001b[0m | \u001b[36miroha_helper\u001b[0m:\u001b[36mcreate_detail_contract\u001b[0m:\u001b[36m56\u001b[0m - \u001b[1m('ENOUGH_SIGNATURES_COLLECTED', 9, 0)\u001b[0m\n",
      "\u001b[32m2025-01-22 18:40:33.661\u001b[0m | \u001b[1mINFO    \u001b[0m | \u001b[36miroha_helper\u001b[0m:\u001b[36mcreate_detail_contract\u001b[0m:\u001b[36m56\u001b[0m - \u001b[1m('STATEFUL_VALIDATION_SUCCESS', 3, 0)\u001b[0m\n",
      "\u001b[32m2025-01-22 18:40:33.692\u001b[0m | \u001b[1mINFO    \u001b[0m | \u001b[36miroha_helper\u001b[0m:\u001b[36mcreate_detail_contract\u001b[0m:\u001b[36m56\u001b[0m - \u001b[1m('COMMITTED', 5, 0)\u001b[0m\n",
      "\u001b[32m2025-01-22 18:40:33.694\u001b[0m | \u001b[34m\u001b[1mDEBUG   \u001b[0m | \u001b[36mintegration_helpers\u001b[0m:\u001b[36mtracer\u001b[0m:\u001b[36m35\u001b[0m - \u001b[34m\u001b[1m\tEntering \"get_engine_receipts_address\"\u001b[0m\n",
      "\u001b[32m2025-01-22 18:40:33.716\u001b[0m | \u001b[1mINFO    \u001b[0m | \u001b[36mintegration_helpers\u001b[0m:\u001b[36mget_engine_receipts_address\u001b[0m:\u001b[36m96\u001b[0m - \u001b[1mRetrieved contract address for transaction hash: b'6371b09e741964e2de8dc14fc44c990ef0522f7240891fd54e0cc8c4435c5bb7'\u001b[0m\n",
      "\u001b[32m2025-01-22 18:40:33.718\u001b[0m | \u001b[34m\u001b[1mDEBUG   \u001b[0m | \u001b[36mintegration_helpers\u001b[0m:\u001b[36mget_engine_receipts_address\u001b[0m:\u001b[36m97\u001b[0m - \u001b[34m\u001b[1mContract address: 899304BE2832B3E43FD67D88756F7F9F2505DD95\u001b[0m\n",
      "\u001b[32m2025-01-22 18:40:33.719\u001b[0m | \u001b[34m\u001b[1mDEBUG   \u001b[0m | \u001b[36mintegration_helpers\u001b[0m:\u001b[36mtracer\u001b[0m:\u001b[36m37\u001b[0m - \u001b[34m\u001b[1m\tLeaving \"get_engine_receipts_address\"\u001b[0m\n",
      "\u001b[32m2025-01-22 18:40:33.721\u001b[0m | \u001b[34m\u001b[1mDEBUG   \u001b[0m | \u001b[36mintegration_helpers\u001b[0m:\u001b[36mtracer\u001b[0m:\u001b[36m37\u001b[0m - \u001b[34m\u001b[1m\tLeaving \"create_detail_contract\"\u001b[0m\n"
     ]
    }
   ],
   "source": [
    "# - Deploys the contract\n",
    "hash = create_detail_contract()"
   ]
  },
  {
   "cell_type": "markdown",
   "id": "aaab4311-7557-44a7-9391-1441574342aa",
   "metadata": {},
   "source": [
    "5 - Sets details for the project account:"
   ]
  },
  {
   "cell_type": "code",
   "execution_count": 7,
   "id": "58039bbf-81dc-4ee5-8a2f-57edf1ae171f",
   "metadata": {},
   "outputs": [
    {
     "name": "stderr",
     "output_type": "stream",
     "text": [
      "\u001b[32m2025-01-22 18:40:33.773\u001b[0m | \u001b[1mINFO    \u001b[0m | \u001b[36mdump_to_json\u001b[0m:\u001b[36mupdate_or_append_project_metadata\u001b[0m:\u001b[36m216\u001b[0m - \u001b[1mUpdated existing project entry for project ID: 98192@test\u001b[0m\n",
      "\u001b[32m2025-01-22 18:40:33.777\u001b[0m | \u001b[1mINFO    \u001b[0m | \u001b[36mdump_to_json\u001b[0m:\u001b[36mupdate_or_append_project_metadata\u001b[0m:\u001b[36m235\u001b[0m - \u001b[1mCurrent total entries in 'datasets/projects.json': 15\u001b[0m\n",
      "\u001b[32m2025-01-22 18:40:33.779\u001b[0m | \u001b[34m\u001b[1mDEBUG   \u001b[0m | \u001b[36mintegration_helpers\u001b[0m:\u001b[36mtracer\u001b[0m:\u001b[36m35\u001b[0m - \u001b[34m\u001b[1m\tEntering \"get_engine_receipts_address\"\u001b[0m\n",
      "\u001b[32m2025-01-22 18:40:33.798\u001b[0m | \u001b[1mINFO    \u001b[0m | \u001b[36mintegration_helpers\u001b[0m:\u001b[36mget_engine_receipts_address\u001b[0m:\u001b[36m96\u001b[0m - \u001b[1mRetrieved contract address for transaction hash: b'6371b09e741964e2de8dc14fc44c990ef0522f7240891fd54e0cc8c4435c5bb7'\u001b[0m\n",
      "\u001b[32m2025-01-22 18:40:33.799\u001b[0m | \u001b[34m\u001b[1mDEBUG   \u001b[0m | \u001b[36mintegration_helpers\u001b[0m:\u001b[36mget_engine_receipts_address\u001b[0m:\u001b[36m97\u001b[0m - \u001b[34m\u001b[1mContract address: 899304BE2832B3E43FD67D88756F7F9F2505DD95\u001b[0m\n",
      "\u001b[32m2025-01-22 18:40:33.800\u001b[0m | \u001b[34m\u001b[1mDEBUG   \u001b[0m | \u001b[36mintegration_helpers\u001b[0m:\u001b[36mtracer\u001b[0m:\u001b[36m37\u001b[0m - \u001b[34m\u001b[1m\tLeaving \"get_engine_receipts_address\"\u001b[0m\n",
      "\u001b[32m2025-01-22 18:40:33.802\u001b[0m | \u001b[34m\u001b[1mDEBUG   \u001b[0m | \u001b[36mintegration_helpers\u001b[0m:\u001b[36mtracer\u001b[0m:\u001b[36m35\u001b[0m - \u001b[34m\u001b[1m\tEntering \"set_account_detail\"\u001b[0m\n",
      "\u001b[32m2025-01-22 18:40:33.816\u001b[0m | \u001b[1mINFO    \u001b[0m | \u001b[36miroha_helper\u001b[0m:\u001b[36mset_account_detail\u001b[0m:\u001b[36m373\u001b[0m - \u001b[1mNone\u001b[0m\n",
      "\u001b[32m2025-01-22 18:40:33.819\u001b[0m | \u001b[1mINFO    \u001b[0m | \u001b[36miroha_helper\u001b[0m:\u001b[36mset_account_detail\u001b[0m:\u001b[36m375\u001b[0m - \u001b[1m('ENOUGH_SIGNATURES_COLLECTED', 9, 0)\u001b[0m\n",
      "\u001b[32m2025-01-22 18:40:36.720\u001b[0m | \u001b[1mINFO    \u001b[0m | \u001b[36miroha_helper\u001b[0m:\u001b[36mset_account_detail\u001b[0m:\u001b[36m375\u001b[0m - \u001b[1m('STATEFUL_VALIDATION_SUCCESS', 3, 0)\u001b[0m\n",
      "\u001b[32m2025-01-22 18:40:36.746\u001b[0m | \u001b[1mINFO    \u001b[0m | \u001b[36miroha_helper\u001b[0m:\u001b[36mset_account_detail\u001b[0m:\u001b[36m375\u001b[0m - \u001b[1m('COMMITTED', 5, 0)\u001b[0m\n",
      "\u001b[32m2025-01-22 18:40:36.748\u001b[0m | \u001b[34m\u001b[1mDEBUG   \u001b[0m | \u001b[36mintegration_helpers\u001b[0m:\u001b[36mtracer\u001b[0m:\u001b[36m35\u001b[0m - \u001b[34m\u001b[1m\tEntering \"get_engine_receipts_result\"\u001b[0m\n",
      "\u001b[32m2025-01-22 18:40:36.771\u001b[0m | \u001b[1mINFO    \u001b[0m | \u001b[36mintegration_helpers\u001b[0m:\u001b[36mget_engine_receipts_result\u001b[0m:\u001b[36m139\u001b[0m - \u001b[1mResult data: 000000000000000000000000000000000000000000000000000000000000002000000000000000000000000000000000000000000000000000000000000000200000000000000000000000000000000000000000000000000000000000000001\u001b[0m\n",
      "\u001b[32m2025-01-22 18:40:36.772\u001b[0m | \u001b[34m\u001b[1mDEBUG   \u001b[0m | \u001b[36mintegration_helpers\u001b[0m:\u001b[36mget_engine_receipts_result\u001b[0m:\u001b[36m140\u001b[0m - \u001b[34m\u001b[1mResult decoded string: \u0000\u0000\u0000\u0000\u0000\u0000\u0000\u0000\u0000\u0000\u0000\u0000\u0000\u0000\u0000\u0000\u0000\u0000\u0000\u0000\u0000\u0000\u0000\u0000\u0000\u0000\u0000\u0000\u0000\u0000\u0000 \u0000\u0000\u0000\u0000\u0000\u0000\u0000\u0000\u0000\u0000\u0000\u0000\u0000\u0000\u0000\u0000\u0000\u0000\u0000\u0000\u0000\u0000\u0000\u0000\u0000\u0000\u0000\u0000\u0000\u0000\u0000 \u0000\u0000\u0000\u0000\u0000\u0000\u0000\u0000\u0000\u0000\u0000\u0000\u0000\u0000\u0000\u0000\u0000\u0000\u0000\u0000\u0000\u0000\u0000\u0000\u0000\u0000\u0000\u0000\u0000\u0000\u0000\u0001\u001b[0m\n",
      "\u001b[32m2025-01-22 18:40:36.774\u001b[0m | \u001b[34m\u001b[1mDEBUG   \u001b[0m | \u001b[36mintegration_helpers\u001b[0m:\u001b[36mtracer\u001b[0m:\u001b[36m37\u001b[0m - \u001b[34m\u001b[1m\tLeaving \"get_engine_receipts_result\"\u001b[0m\n",
      "\u001b[32m2025-01-22 18:40:36.775\u001b[0m | \u001b[34m\u001b[1mDEBUG   \u001b[0m | \u001b[36mintegration_helpers\u001b[0m:\u001b[36mtracer\u001b[0m:\u001b[36m37\u001b[0m - \u001b[34m\u001b[1m\tLeaving \"set_account_detail\"\u001b[0m\n"
     ]
    }
   ],
   "source": [
    "# Generate synthetic project metadata JSON (assumed to be done already)\n",
    "project_metadata_json = generate_synthetic_entry_ld()\n",
    "project_metadata_cid = upload_json_to_ipfs(project_metadata_json)  # Assuming this is done before calling the function\n",
    "\n",
    "# Call the function to update or append a new entry to the JSON-LD file\n",
    "updated_entry_count = update_or_append_project_metadata(\n",
    "    project_id, \n",
    "    project_metadata_json, \n",
    "    project_metadata_cid\n",
    ")\n",
    "\n",
    "\n",
    "address = integration_helpers.get_engine_receipts_address(hash)\n",
    "\n",
    "# Setting account detail using the generated project metadata CID\n",
    "hash = set_account_detail(\n",
    "    address, \n",
    "    f\"{project_id}@{DOMAIN}\",  # Project ID as account\n",
    "    \"project_metadata_cid\",    # The key we're setting\n",
    "    project_metadata_cid       # The value (CID from IPFS)\n",
    ")"
   ]
  },
  {
   "cell_type": "markdown",
   "id": "2252800d-e177-4325-8552-49aebe396755",
   "metadata": {},
   "source": [
    "6 - Queries the blockchain to confirm the succesful details setting"
   ]
  },
  {
   "cell_type": "code",
   "execution_count": 8,
   "id": "0bed585f-6faa-4f35-b308-a4d9f680f3ca",
   "metadata": {},
   "outputs": [
    {
     "name": "stderr",
     "output_type": "stream",
     "text": [
      "\u001b[32m2025-01-22 18:40:36.785\u001b[0m | \u001b[34m\u001b[1mDEBUG   \u001b[0m | \u001b[36mintegration_helpers\u001b[0m:\u001b[36mtracer\u001b[0m:\u001b[36m35\u001b[0m - \u001b[34m\u001b[1m\tEntering \"get_account_detail\"\u001b[0m\n",
      "\u001b[32m2025-01-22 18:40:36.809\u001b[0m | \u001b[1mINFO    \u001b[0m | \u001b[36miroha_helper\u001b[0m:\u001b[36mget_account_detail\u001b[0m:\u001b[36m279\u001b[0m - \u001b[1mUser Account id = 98192@test, { \"admin@test\" : { \"project_metadata_cid\" : \"QmNiame5i7oGQ36VTufxBpQEshFsWUGszkXGtngXSfFtuk\" } }\u001b[0m\n",
      "\u001b[32m2025-01-22 18:40:36.811\u001b[0m | \u001b[34m\u001b[1mDEBUG   \u001b[0m | \u001b[36mintegration_helpers\u001b[0m:\u001b[36mtracer\u001b[0m:\u001b[36m37\u001b[0m - \u001b[34m\u001b[1m\tLeaving \"get_account_detail\"\u001b[0m\n"
     ]
    }
   ],
   "source": [
    "#Query - GetAccountDetail\n",
    "\n",
    "details = get_account_detail(f\"{project_id}@{DOMAIN}\")"
   ]
  },
  {
   "cell_type": "markdown",
   "id": "584a4e11-b89d-4224-8f12-119e74750d52",
   "metadata": {},
   "source": [
    "7 - Retrieves Project metadata (JSON-LD formatted) from IPFS"
   ]
  },
  {
   "cell_type": "code",
   "execution_count": 9,
   "id": "acd05eed-f4bb-4da8-87aa-e133bf4c45bc",
   "metadata": {},
   "outputs": [
    {
     "name": "stderr",
     "output_type": "stream",
     "text": [
      "\u001b[32m2025-01-22 18:40:36.824\u001b[0m | \u001b[1mINFO    \u001b[0m | \u001b[36m__main__\u001b[0m:\u001b[36m<module>\u001b[0m:\u001b[36m7\u001b[0m - \u001b[1mProject Metadata CID: QmNiame5i7oGQ36VTufxBpQEshFsWUGszkXGtngXSfFtuk\u001b[0m\n",
      "\u001b[32m2025-01-22 18:40:36.833\u001b[0m | \u001b[1mINFO    \u001b[0m | \u001b[36m__main__\u001b[0m:\u001b[36m<module>\u001b[0m:\u001b[36m11\u001b[0m - \u001b[1mProject Metadata: {'@context': {'dc': 'http://purl.org/dc/terms/', 'schema': 'http://schema.org/'}, '@type': 'schema:ResearchProject', 'dc:abstract': 'This research focuses on the benefits and challenges posed by cloud computing for smart transportation, with an emphasis on its potential for environmental restoration.', 'schema:endDate': '2027-07-10', 'schema:funding': {'@type': 'schema:Organization', 'schema:name': 'Bill and Melinda Gates Foundation'}, 'schema:keywords': ['cloud computing', 'smart transportation', 'environmental restoration'], 'schema:location': {'@type': 'schema:Place', 'schema:name': 'Svalbard, Norway'}, 'schema:name': 'Assessing the Benefits of cloud computing for smart transportation', 'schema:startDate': '2024-11-29'}\u001b[0m\n"
     ]
    }
   ],
   "source": [
    "# Convert the JSON string to a Python dictionary\n",
    "details_dict = json.loads(details)\n",
    "\n",
    "# Now you can access the specific key like this\n",
    "project_metadata_cid = details_dict[\"admin@test\"][\"project_metadata_cid\"]\n",
    "\n",
    "logger.info(f\"Project Metadata CID: {project_metadata_cid}\")\n",
    "\n",
    "project_metadata = download_json_from_ipfs(project_metadata_cid)\n",
    "\n",
    "logger.info(f\"Project Metadata: {project_metadata}\")"
   ]
  }
 ],
 "metadata": {
  "kernelspec": {
   "display_name": "Python 3 (ipykernel)",
   "language": "python",
   "name": "python3"
  },
  "language_info": {
   "codemirror_mode": {
    "name": "ipython",
    "version": 3
   },
   "file_extension": ".py",
   "mimetype": "text/x-python",
   "name": "python",
   "nbconvert_exporter": "python",
   "pygments_lexer": "ipython3",
   "version": "3.9.21"
  }
 },
 "nbformat": 4,
 "nbformat_minor": 5
}
