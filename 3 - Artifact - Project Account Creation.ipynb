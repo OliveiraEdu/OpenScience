{
 "cells": [
  {
   "cell_type": "markdown",
   "id": "a06f63cb-d53a-4477-9588-2a3a8cfca53c",
   "metadata": {},
   "source": [
    "**IMPORTANT** \n",
    "\n",
    "- For requirements and initial setup go to https://github.com/OliveiraEdu/OpenScience/Readme.md;\n",
    "- To execute the notebook run all cells."
   ]
  },
  {
   "attachments": {},
   "cell_type": "markdown",
   "id": "223cd9f9-991c-4c3c-88d3-3721af152e8d",
   "metadata": {},
   "source": [
    "# Notebook 3 - Open Science Platform - Project Account Creation"
   ]
  },
  {
   "cell_type": "markdown",
   "id": "8ad49fbf-50e7-4ccd-943c-5be80234e89a",
   "metadata": {},
   "source": [
    "## Activities\n",
    "\n",
    "1 - Deploys a smart contract into the Iroha 1 blockchain for account creation;\n",
    "\n",
    "2 - Creates a project account into the blockchain;\n",
    "\n",
    "3 - Queries the blockchain to confirm the succesful creation of the account;\n",
    "\n",
    "4 - Deploys a smart contract into the Iroha 1 blockchain for details (attributes) setting;\n",
    "\n",
    "5 - Sets details for the project account;\n",
    "\n",
    "6 - Queries the blockchain again to confirm the succesfull details setting.\n",
    "\n",
    "Every account succesfully created is dumped to `datasets/projects.json` for later use and evidence collection.  "
   ]
  },
  {
   "cell_type": "code",
   "execution_count": 1,
   "id": "cd32c746-c4c7-4715-9d11-99d853ca2395",
   "metadata": {},
   "outputs": [],
   "source": [
    "# from name_generator import left, right\n",
    "from utilities import *\n",
    "from project_id_generator import * # - Random generated synthetic project ID\n",
    "from iroha_helper import *\n",
    "from loguru import logger\n",
    "from dump_to_json import ProjectAccount, update_or_append_project_metadata\n",
    "from ipfs_functions import download_json_from_ipfs\n",
    "from synthetic_project_json_ld import *\n",
    "from new_helper import extract_account_metadata_cid_from_data, process_raw_data, load_variable\n",
    "from loguru import logger"
   ]
  },
  {
   "cell_type": "code",
   "execution_count": null,
   "id": "c55ca349",
   "metadata": {},
   "outputs": [],
   "source": [
    "DOMAIN = \"test\""
   ]
  },
  {
   "cell_type": "markdown",
   "id": "603ec5bf-68ef-46bb-a47b-341a570052d4",
   "metadata": {},
   "source": [
    "1 - Loads the smart contract hash for account creation into the Iroha 1 blockchain.  "
   ]
  },
  {
   "cell_type": "code",
   "execution_count": null,
   "id": "609528c7",
   "metadata": {},
   "outputs": [
    {
     "name": "stderr",
     "output_type": "stream",
     "text": [
      "2025-02-09 22:11:14,846 - INFO - Variable 'Create Account Hash' successfully loaded from temp/Create Account Hash.json\n",
      "\u001b[32m2025-02-09 22:11:14.846\u001b[0m | \u001b[1mINFO    \u001b[0m | \u001b[36m__main__\u001b[0m:\u001b[36m<module>\u001b[0m:\u001b[36m3\u001b[0m - \u001b[1mb'a76bb4a33334ef018daf965042478cfc41229121be8e4d461a3dc9f9c709c2ce'\u001b[0m\n"
     ]
    }
   ],
   "source": [
    "# Loading the variable from JSON\n",
    "create_account_contract_hash = load_variable(\"Create Account Hash\")\n",
    "logger.info(create_account_contract_hash)\n"
   ]
  },
  {
   "cell_type": "markdown",
   "id": "220d3a84-6cc3-4173-8cc0-6bf53990e453",
   "metadata": {},
   "source": [
    "2 - Creates a project account into the blockchain;"
   ]
  },
  {
   "cell_type": "code",
   "execution_count": 4,
   "id": "12c2a43b-c8cb-4c69-bb14-455d3fc1ce4d",
   "metadata": {},
   "outputs": [
    {
     "name": "stderr",
     "output_type": "stream",
     "text": [
      "\u001b[32m2025-02-09 22:11:14.857\u001b[0m | \u001b[1mINFO    \u001b[0m | \u001b[36m__main__\u001b[0m:\u001b[36m<module>\u001b[0m:\u001b[36m6\u001b[0m - \u001b[1mCreating project with name: 92181\u001b[0m\n",
      "\u001b[32m2025-02-09 22:11:14.857\u001b[0m | \u001b[34m\u001b[1mDEBUG   \u001b[0m | \u001b[36mintegration_helpers\u001b[0m:\u001b[36mtracer\u001b[0m:\u001b[36m35\u001b[0m - \u001b[34m\u001b[1m\tEntering \"get_engine_receipts_address\"\u001b[0m\n",
      "\u001b[32m2025-02-09 22:11:14.866\u001b[0m | \u001b[1mINFO    \u001b[0m | \u001b[36mintegration_helpers\u001b[0m:\u001b[36mget_engine_receipts_address\u001b[0m:\u001b[36m96\u001b[0m - \u001b[1mRetrieved contract address for transaction hash: b'a76bb4a33334ef018daf965042478cfc41229121be8e4d461a3dc9f9c709c2ce'\u001b[0m\n",
      "\u001b[32m2025-02-09 22:11:14.866\u001b[0m | \u001b[34m\u001b[1mDEBUG   \u001b[0m | \u001b[36mintegration_helpers\u001b[0m:\u001b[36mget_engine_receipts_address\u001b[0m:\u001b[36m97\u001b[0m - \u001b[34m\u001b[1mContract address: 93F622673AA712B7298FDD2212E3228D8D9DD8BF\u001b[0m\n",
      "\u001b[32m2025-02-09 22:11:14.867\u001b[0m | \u001b[34m\u001b[1mDEBUG   \u001b[0m | \u001b[36mintegration_helpers\u001b[0m:\u001b[36mtracer\u001b[0m:\u001b[36m37\u001b[0m - \u001b[34m\u001b[1m\tLeaving \"get_engine_receipts_address\"\u001b[0m\n",
      "\u001b[32m2025-02-09 22:11:14.868\u001b[0m | \u001b[34m\u001b[1mDEBUG   \u001b[0m | \u001b[36mintegration_helpers\u001b[0m:\u001b[36mtracer\u001b[0m:\u001b[36m35\u001b[0m - \u001b[34m\u001b[1m\tEntering \"create_project_account\"\u001b[0m\n",
      "2025-02-09 22:11:14,882 - INFO - ('STATELESS_VALIDATION_SUCCESS', 1, 0)\n",
      "2025-02-09 22:11:14,883 - INFO - ('ENOUGH_SIGNATURES_COLLECTED', 9, 0)\n",
      "2025-02-09 22:11:15,597 - INFO - ('STATEFUL_VALIDATION_SUCCESS', 3, 0)\n",
      "2025-02-09 22:11:15,605 - INFO - ('COMMITTED', 5, 0)\n",
      "\u001b[32m2025-02-09 22:11:15.609\u001b[0m | \u001b[1mINFO    \u001b[0m | \u001b[36mdump_to_json\u001b[0m:\u001b[36mdump_project_to_json_ld\u001b[0m:\u001b[36m128\u001b[0m - \u001b[1mAppended new project entry to file 'datasets/projects.json', current total entries: 3\u001b[0m\n",
      "2025-02-09 22:11:15,611 - INFO - 3\n",
      "\u001b[32m2025-02-09 22:11:15.612\u001b[0m | \u001b[34m\u001b[1mDEBUG   \u001b[0m | \u001b[36mintegration_helpers\u001b[0m:\u001b[36mtracer\u001b[0m:\u001b[36m37\u001b[0m - \u001b[34m\u001b[1m\tLeaving \"create_project_account\"\u001b[0m\n"
     ]
    }
   ],
   "source": [
    "project_private_key = IrohaCrypto.private_key()\n",
    "project_public_key = IrohaCrypto.derive_public_key(project_private_key).decode(\"utf-8\")\n",
    "\n",
    "project_id = generate_project_id()\n",
    "\n",
    "logger.info(f\"Creating project with name: {project_id}\")\n",
    "\n",
    "# - Create account\n",
    "create_account_contract_address = integration_helpers.get_engine_receipts_address(create_account_contract_hash)\n",
    "create_project_account(create_account_contract_address, project_id, DOMAIN, project_public_key)\n"
   ]
  },
  {
   "cell_type": "markdown",
   "id": "f7ea8ce4-7253-4028-b4d6-0e97177f979f",
   "metadata": {},
   "source": [
    "3 - Queries the blockchain to confirm the succesful creation of the account;"
   ]
  },
  {
   "cell_type": "code",
   "execution_count": 5,
   "id": "bcf5d96b-813e-4222-b46c-9040ce1b7cce",
   "metadata": {},
   "outputs": [
    {
     "name": "stderr",
     "output_type": "stream",
     "text": [
      "\u001b[32m2025-02-09 22:11:15.634\u001b[0m | \u001b[34m\u001b[1mDEBUG   \u001b[0m | \u001b[36mintegration_helpers\u001b[0m:\u001b[36mtracer\u001b[0m:\u001b[36m35\u001b[0m - \u001b[34m\u001b[1m\tEntering \"get_account\"\u001b[0m\n",
      "2025-02-09 22:11:15,636 - WARNING - create_account_contract_address: 93F622673AA712B7298FDD2212E3228D8D9DD8BF\n",
      "2025-02-09 22:11:15,653 - INFO - ('STATELESS_VALIDATION_SUCCESS', 1, 0)\n",
      "2025-02-09 22:11:15,655 - INFO - ('ENOUGH_SIGNATURES_COLLECTED', 9, 0)\n",
      "2025-02-09 22:11:18,631 - INFO - ('STATEFUL_VALIDATION_SUCCESS', 3, 0)\n",
      "2025-02-09 22:11:18,640 - INFO - ('COMMITTED', 5, 0)\n",
      "2025-02-09 22:11:18,643 - WARNING - Account Data: {'address': '93F622673AA712B7298FDD2212E3228D8D9DD8BF', 'hex_hash': '89e3ff62c93cb705f8b13baa638b3bc51e431403253be78e5633bed786aaf0ed', 'timestamp': 1739139078643}\n",
      "\u001b[32m2025-02-09 22:11:18.644\u001b[0m | \u001b[34m\u001b[1mDEBUG   \u001b[0m | \u001b[36mintegration_helpers\u001b[0m:\u001b[36mtracer\u001b[0m:\u001b[36m35\u001b[0m - \u001b[34m\u001b[1m\tEntering \"append_to_json_file\"\u001b[0m\n",
      "2025-02-09 22:11:18,648 - INFO - Appended data under '92181@test' in logs/account_data.json\n",
      "\u001b[32m2025-02-09 22:11:18.649\u001b[0m | \u001b[34m\u001b[1mDEBUG   \u001b[0m | \u001b[36mintegration_helpers\u001b[0m:\u001b[36mtracer\u001b[0m:\u001b[36m37\u001b[0m - \u001b[34m\u001b[1m\tLeaving \"append_to_json_file\"\u001b[0m\n",
      "\u001b[32m2025-02-09 22:11:18.651\u001b[0m | \u001b[34m\u001b[1mDEBUG   \u001b[0m | \u001b[36mintegration_helpers\u001b[0m:\u001b[36mtracer\u001b[0m:\u001b[36m37\u001b[0m - \u001b[34m\u001b[1m\tLeaving \"get_account\"\u001b[0m\n",
      "\u001b[32m2025-02-09 22:11:18.653\u001b[0m | \u001b[34m\u001b[1mDEBUG   \u001b[0m | \u001b[36mintegration_helpers\u001b[0m:\u001b[36mtracer\u001b[0m:\u001b[36m35\u001b[0m - \u001b[34m\u001b[1m\tEntering \"get_engine_receipts_result\"\u001b[0m\n",
      "\u001b[32m2025-02-09 22:11:18.678\u001b[0m | \u001b[1mINFO    \u001b[0m | \u001b[36mintegration_helpers\u001b[0m:\u001b[36mget_engine_receipts_result\u001b[0m:\u001b[36m139\u001b[0m - \u001b[1mResult data: 000000000000000000000000000000000000000000000000000000000000002000000000000000000000000000000000000000000000000000000000000000a00000000000000000000000000000000000000000000000000000000000000020000000000000000000000000000000000000000000000000000000000000004a7b226163636f756e745f6964223a2239323138314074657374222c22646f6d61696e5f6964223a2274657374222c2271756f72756d223a312c226a736f6e5f64617461223a227b7d227d00000000000000000000000000000000000000000000\u001b[0m\n",
      "\u001b[32m2025-02-09 22:11:18.680\u001b[0m | \u001b[34m\u001b[1mDEBUG   \u001b[0m | \u001b[36mintegration_helpers\u001b[0m:\u001b[36mget_engine_receipts_result\u001b[0m:\u001b[36m140\u001b[0m - \u001b[34m\u001b[1mResult decoded string: \u0000\u0000\u0000\u0000\u0000\u0000\u0000\u0000\u0000\u0000\u0000\u0000\u0000\u0000\u0000\u0000\u0000\u0000\u0000\u0000\u0000\u0000\u0000\u0000\u0000\u0000\u0000\u0000\u0000\u0000\u0000 \u0000\u0000\u0000\u0000\u0000\u0000\u0000\u0000\u0000\u0000\u0000\u0000\u0000\u0000\u0000\u0000\u0000\u0000\u0000\u0000\u0000\u0000\u0000\u0000\u0000\u0000\u0000\u0000\u0000\u0000\u0000\u0000\u0000\u0000\u0000\u0000\u0000\u0000\u0000\u0000\u0000\u0000\u0000\u0000\u0000\u0000\u0000\u0000\u0000\u0000\u0000\u0000\u0000\u0000\u0000\u0000\u0000\u0000\u0000\u0000\u0000\u0000 \u0000\u0000\u0000\u0000\u0000\u0000\u0000\u0000\u0000\u0000\u0000\u0000\u0000\u0000\u0000\u0000\u0000\u0000\u0000\u0000\u0000\u0000\u0000\u0000\u0000\u0000\u0000\u0000\u0000\u0000\u0000J{\"account_id\":\"92181@test\",\"domain_id\":\"test\",\"quorum\":1,\"json_data\":\"{}\"}\u0000\u0000\u0000\u0000\u0000\u0000\u0000\u0000\u0000\u0000\u0000\u0000\u0000\u0000\u0000\u0000\u0000\u0000\u0000\u0000\u0000\u0000\u001b[0m\n",
      "\u001b[32m2025-02-09 22:11:18.681\u001b[0m | \u001b[34m\u001b[1mDEBUG   \u001b[0m | \u001b[36mintegration_helpers\u001b[0m:\u001b[36mtracer\u001b[0m:\u001b[36m37\u001b[0m - \u001b[34m\u001b[1m\tLeaving \"get_engine_receipts_result\"\u001b[0m\n"
     ]
    }
   ],
   "source": [
    "#Query - GetAccountDetail\n",
    "\n",
    "# - Get account info\n",
    "project_account_hash = get_account(create_account_contract_address, project_id, DOMAIN)\n",
    "address = integration_helpers.get_engine_receipts_result(project_account_hash)\n"
   ]
  },
  {
   "cell_type": "markdown",
   "id": "d349b3b2-4b56-4d15-a7a3-8a9fb93ab895",
   "metadata": {},
   "source": [
    "4 - Deploys a smart contract into the Iroha 1 blockchain for details (attributes) setting;"
   ]
  },
  {
   "cell_type": "code",
   "execution_count": 6,
   "id": "9186699c-d352-401f-abf2-2381a251a08d",
   "metadata": {},
   "outputs": [
    {
     "name": "stderr",
     "output_type": "stream",
     "text": [
      "2025-02-09 22:11:18,707 - INFO - Variable 'Account Detail Contract Hash' successfully loaded from temp/Account Detail Contract Hash.json\n",
      "\u001b[32m2025-02-09 22:11:18.709\u001b[0m | \u001b[1mINFO    \u001b[0m | \u001b[36m__main__\u001b[0m:\u001b[36m<module>\u001b[0m:\u001b[36m3\u001b[0m - \u001b[1mb'86452d50ed5d8cdb132dc84c548608c8454a8a993a6deab3384e17e1aee55ec0'\u001b[0m\n"
     ]
    }
   ],
   "source": [
    "# Loading the variable from JSON\n",
    "account_detail_contract_hash = load_variable(\"Account Detail Contract Hash\")\n",
    "logger.info(account_detail_contract_hash)"
   ]
  },
  {
   "cell_type": "markdown",
   "id": "aaab4311-7557-44a7-9391-1441574342aa",
   "metadata": {},
   "source": [
    "5 - Sets details for the project account:"
   ]
  },
  {
   "cell_type": "code",
   "execution_count": 7,
   "id": "58039bbf-81dc-4ee5-8a2f-57edf1ae171f",
   "metadata": {},
   "outputs": [
    {
     "name": "stderr",
     "output_type": "stream",
     "text": [
      "\u001b[32m2025-02-09 22:11:18.780\u001b[0m | \u001b[1mINFO    \u001b[0m | \u001b[36mdump_to_json\u001b[0m:\u001b[36mupdate_or_append_project_metadata\u001b[0m:\u001b[36m216\u001b[0m - \u001b[1mUpdated existing project entry for project ID: 92181@test\u001b[0m\n",
      "\u001b[32m2025-02-09 22:11:18.783\u001b[0m | \u001b[1mINFO    \u001b[0m | \u001b[36mdump_to_json\u001b[0m:\u001b[36mupdate_or_append_project_metadata\u001b[0m:\u001b[36m235\u001b[0m - \u001b[1mCurrent total entries in 'datasets/projects.json': 3\u001b[0m\n",
      "\u001b[32m2025-02-09 22:11:18.784\u001b[0m | \u001b[34m\u001b[1mDEBUG   \u001b[0m | \u001b[36mintegration_helpers\u001b[0m:\u001b[36mtracer\u001b[0m:\u001b[36m35\u001b[0m - \u001b[34m\u001b[1m\tEntering \"get_engine_receipts_address\"\u001b[0m\n",
      "\u001b[32m2025-02-09 22:11:18.805\u001b[0m | \u001b[1mINFO    \u001b[0m | \u001b[36mintegration_helpers\u001b[0m:\u001b[36mget_engine_receipts_address\u001b[0m:\u001b[36m96\u001b[0m - \u001b[1mRetrieved contract address for transaction hash: b'86452d50ed5d8cdb132dc84c548608c8454a8a993a6deab3384e17e1aee55ec0'\u001b[0m\n",
      "\u001b[32m2025-02-09 22:11:18.807\u001b[0m | \u001b[34m\u001b[1mDEBUG   \u001b[0m | \u001b[36mintegration_helpers\u001b[0m:\u001b[36mget_engine_receipts_address\u001b[0m:\u001b[36m97\u001b[0m - \u001b[34m\u001b[1mContract address: A518E3EE4D45C20EF834361093305D2500A46228\u001b[0m\n",
      "\u001b[32m2025-02-09 22:11:18.808\u001b[0m | \u001b[34m\u001b[1mDEBUG   \u001b[0m | \u001b[36mintegration_helpers\u001b[0m:\u001b[36mtracer\u001b[0m:\u001b[36m37\u001b[0m - \u001b[34m\u001b[1m\tLeaving \"get_engine_receipts_address\"\u001b[0m\n",
      "\u001b[32m2025-02-09 22:11:18.809\u001b[0m | \u001b[34m\u001b[1mDEBUG   \u001b[0m | \u001b[36mintegration_helpers\u001b[0m:\u001b[36mtracer\u001b[0m:\u001b[36m35\u001b[0m - \u001b[34m\u001b[1m\tEntering \"set_account_detail\"\u001b[0m\n",
      "2025-02-09 22:11:18,826 - INFO - None\n",
      "2025-02-09 22:11:18,828 - INFO - ('ENOUGH_SIGNATURES_COLLECTED', 9, 0)\n",
      "2025-02-09 22:11:21,668 - INFO - ('STATEFUL_VALIDATION_SUCCESS', 3, 0)\n",
      "2025-02-09 22:11:21,677 - INFO - ('COMMITTED', 5, 0)\n",
      "\u001b[32m2025-02-09 22:11:21.679\u001b[0m | \u001b[34m\u001b[1mDEBUG   \u001b[0m | \u001b[36mintegration_helpers\u001b[0m:\u001b[36mtracer\u001b[0m:\u001b[36m35\u001b[0m - \u001b[34m\u001b[1m\tEntering \"get_engine_receipts_result\"\u001b[0m\n",
      "\u001b[32m2025-02-09 22:11:21.705\u001b[0m | \u001b[1mINFO    \u001b[0m | \u001b[36mintegration_helpers\u001b[0m:\u001b[36mget_engine_receipts_result\u001b[0m:\u001b[36m139\u001b[0m - \u001b[1mResult data: 000000000000000000000000000000000000000000000000000000000000002000000000000000000000000000000000000000000000000000000000000000200000000000000000000000000000000000000000000000000000000000000001\u001b[0m\n",
      "\u001b[32m2025-02-09 22:11:21.706\u001b[0m | \u001b[34m\u001b[1mDEBUG   \u001b[0m | \u001b[36mintegration_helpers\u001b[0m:\u001b[36mget_engine_receipts_result\u001b[0m:\u001b[36m140\u001b[0m - \u001b[34m\u001b[1mResult decoded string: \u0000\u0000\u0000\u0000\u0000\u0000\u0000\u0000\u0000\u0000\u0000\u0000\u0000\u0000\u0000\u0000\u0000\u0000\u0000\u0000\u0000\u0000\u0000\u0000\u0000\u0000\u0000\u0000\u0000\u0000\u0000 \u0000\u0000\u0000\u0000\u0000\u0000\u0000\u0000\u0000\u0000\u0000\u0000\u0000\u0000\u0000\u0000\u0000\u0000\u0000\u0000\u0000\u0000\u0000\u0000\u0000\u0000\u0000\u0000\u0000\u0000\u0000 \u0000\u0000\u0000\u0000\u0000\u0000\u0000\u0000\u0000\u0000\u0000\u0000\u0000\u0000\u0000\u0000\u0000\u0000\u0000\u0000\u0000\u0000\u0000\u0000\u0000\u0000\u0000\u0000\u0000\u0000\u0000\u0001\u001b[0m\n",
      "\u001b[32m2025-02-09 22:11:21.707\u001b[0m | \u001b[34m\u001b[1mDEBUG   \u001b[0m | \u001b[36mintegration_helpers\u001b[0m:\u001b[36mtracer\u001b[0m:\u001b[36m37\u001b[0m - \u001b[34m\u001b[1m\tLeaving \"get_engine_receipts_result\"\u001b[0m\n",
      "\u001b[32m2025-02-09 22:11:21.708\u001b[0m | \u001b[34m\u001b[1mDEBUG   \u001b[0m | \u001b[36mintegration_helpers\u001b[0m:\u001b[36mtracer\u001b[0m:\u001b[36m37\u001b[0m - \u001b[34m\u001b[1m\tLeaving \"set_account_detail\"\u001b[0m\n"
     ]
    }
   ],
   "source": [
    "# Generate synthetic project metadata JSON (assumed to be done already)\n",
    "project_metadata_json = generate_synthetic_entry_ld()\n",
    "account_metadata_cid = upload_json_to_ipfs(project_metadata_json)  # Assuming this is done before calling the function\n",
    "\n",
    "# Call the function to update or append a new entry to the JSON-LD file\n",
    "updated_entry_count = update_or_append_project_metadata(\n",
    "    project_id, \n",
    "    project_metadata_json, \n",
    "    account_metadata_cid\n",
    ")\n",
    "\n",
    "\n",
    "address = integration_helpers.get_engine_receipts_address(account_detail_contract_hash)\n",
    "\n",
    "# Setting account detail using the generated project metadata CID\n",
    "hash = set_account_detail(\n",
    "    address, \n",
    "    f\"{project_id}@{DOMAIN}\",  # Project ID as account\n",
    "    \"account_metadata_cid\",    # The key we're setting\n",
    "    account_metadata_cid       # The value (CID from IPFS)\n",
    ")"
   ]
  },
  {
   "cell_type": "markdown",
   "id": "2252800d-e177-4325-8552-49aebe396755",
   "metadata": {},
   "source": [
    "6 - Queries the blockchain to confirm the succesful details setting"
   ]
  },
  {
   "cell_type": "code",
   "execution_count": 8,
   "id": "0bed585f-6faa-4f35-b308-a4d9f680f3ca",
   "metadata": {},
   "outputs": [
    {
     "name": "stderr",
     "output_type": "stream",
     "text": [
      "\u001b[32m2025-02-09 22:11:21.729\u001b[0m | \u001b[34m\u001b[1mDEBUG   \u001b[0m | \u001b[36mintegration_helpers\u001b[0m:\u001b[36mtracer\u001b[0m:\u001b[36m35\u001b[0m - \u001b[34m\u001b[1m\tEntering \"get_account\"\u001b[0m\n",
      "2025-02-09 22:11:21,731 - WARNING - create_account_contract_address: 93F622673AA712B7298FDD2212E3228D8D9DD8BF\n",
      "2025-02-09 22:11:21,748 - INFO - ('STATELESS_VALIDATION_SUCCESS', 1, 0)\n",
      "2025-02-09 22:11:21,749 - INFO - ('ENOUGH_SIGNATURES_COLLECTED', 9, 0)\n",
      "2025-02-09 22:11:24,699 - INFO - ('STATEFUL_VALIDATION_SUCCESS', 3, 0)\n",
      "2025-02-09 22:11:24,706 - INFO - ('COMMITTED', 5, 0)\n",
      "2025-02-09 22:11:24,708 - WARNING - Account Data: {'address': '93F622673AA712B7298FDD2212E3228D8D9DD8BF', 'hex_hash': '0c33f6767533cd4288aa9823364d164f64e50bb60df6a8ef8fade31d8730c9ac', 'timestamp': 1739139084708}\n",
      "\u001b[32m2025-02-09 22:11:24.709\u001b[0m | \u001b[34m\u001b[1mDEBUG   \u001b[0m | \u001b[36mintegration_helpers\u001b[0m:\u001b[36mtracer\u001b[0m:\u001b[36m35\u001b[0m - \u001b[34m\u001b[1m\tEntering \"append_to_json_file\"\u001b[0m\n",
      "2025-02-09 22:11:24,713 - INFO - Appended data under '92181@test' in logs/account_data.json\n",
      "\u001b[32m2025-02-09 22:11:24.714\u001b[0m | \u001b[34m\u001b[1mDEBUG   \u001b[0m | \u001b[36mintegration_helpers\u001b[0m:\u001b[36mtracer\u001b[0m:\u001b[36m37\u001b[0m - \u001b[34m\u001b[1m\tLeaving \"append_to_json_file\"\u001b[0m\n",
      "\u001b[32m2025-02-09 22:11:24.715\u001b[0m | \u001b[34m\u001b[1mDEBUG   \u001b[0m | \u001b[36mintegration_helpers\u001b[0m:\u001b[36mtracer\u001b[0m:\u001b[36m37\u001b[0m - \u001b[34m\u001b[1m\tLeaving \"get_account\"\u001b[0m\n",
      "\u001b[32m2025-02-09 22:11:24.717\u001b[0m | \u001b[34m\u001b[1mDEBUG   \u001b[0m | \u001b[36mintegration_helpers\u001b[0m:\u001b[36mtracer\u001b[0m:\u001b[36m35\u001b[0m - \u001b[34m\u001b[1m\tEntering \"get_engine_receipts_result\"\u001b[0m\n",
      "\u001b[32m2025-02-09 22:11:24.737\u001b[0m | \u001b[1mINFO    \u001b[0m | \u001b[36mintegration_helpers\u001b[0m:\u001b[36mget_engine_receipts_result\u001b[0m:\u001b[36m139\u001b[0m - \u001b[1mResult data: 00000000000000000000000000000000000000000000000000000000000000200000000000000000000000000000000000000000000000000000000000000100000000000000000000000000000000000000000000000000000000000000002000000000000000000000000000000000000000000000000000000000000000a87b226163636f756e745f6964223a2239323138314074657374222c22646f6d61696e5f6964223a2274657374222c2271756f72756d223a312c226a736f6e5f64617461223a227b5c2261646d696e40746573745c223a207b5c226163636f756e745f6d657461646174615f6369645c223a205c22516d6333656675445463424532424b6551336232324b61646f487a36323836334d6465655873374774514d3466545c227d7d227d000000000000000000000000000000000000000000000000\u001b[0m\n",
      "\u001b[32m2025-02-09 22:11:24.739\u001b[0m | \u001b[34m\u001b[1mDEBUG   \u001b[0m | \u001b[36mintegration_helpers\u001b[0m:\u001b[36mget_engine_receipts_result\u001b[0m:\u001b[36m140\u001b[0m - \u001b[34m\u001b[1mResult decoded string: \u0000\u0000\u0000\u0000\u0000\u0000\u0000\u0000\u0000\u0000\u0000\u0000\u0000\u0000\u0000\u0000\u0000\u0000\u0000\u0000\u0000\u0000\u0000\u0000\u0000\u0000\u0000\u0000\u0000\u0000\u0000 \u0000\u0000\u0000\u0000\u0000\u0000\u0000\u0000\u0000\u0000\u0000\u0000\u0000\u0000\u0000\u0000\u0000\u0000\u0000\u0000\u0000\u0000\u0000\u0000\u0000\u0000\u0000\u0000\u0000\u0000\u0001\u0000\u0000\u0000\u0000\u0000\u0000\u0000\u0000\u0000\u0000\u0000\u0000\u0000\u0000\u0000\u0000\u0000\u0000\u0000\u0000\u0000\u0000\u0000\u0000\u0000\u0000\u0000\u0000\u0000\u0000\u0000\u0000 \u0000\u0000\u0000\u0000\u0000\u0000\u0000\u0000\u0000\u0000\u0000\u0000\u0000\u0000\u0000\u0000\u0000\u0000\u0000\u0000\u0000\u0000\u0000\u0000\u0000\u0000\u0000\u0000\u0000\u0000\u0000{\"account_id\":\"92181@test\",\"domain_id\":\"test\",\"quorum\":1,\"json_data\":\"{\\\"admin@test\\\": {\\\"account_metadata_cid\\\": \\\"Qmc3efuDTcBE2BKeQ3b22KadoHz62863MdeeXs7GtQM4fT\\\"}}\"}\u0000\u0000\u0000\u0000\u0000\u0000\u0000\u0000\u0000\u0000\u0000\u0000\u0000\u0000\u0000\u0000\u0000\u0000\u0000\u0000\u0000\u0000\u0000\u0000\u001b[0m\n",
      "\u001b[32m2025-02-09 22:11:24.740\u001b[0m | \u001b[34m\u001b[1mDEBUG   \u001b[0m | \u001b[36mintegration_helpers\u001b[0m:\u001b[36mtracer\u001b[0m:\u001b[36m37\u001b[0m - \u001b[34m\u001b[1m\tLeaving \"get_engine_receipts_result\"\u001b[0m\n",
      "\u001b[32m2025-02-09 22:11:24.741\u001b[0m | \u001b[34m\u001b[1mDEBUG   \u001b[0m | \u001b[36mintegration_helpers\u001b[0m:\u001b[36mtracer\u001b[0m:\u001b[36m35\u001b[0m - \u001b[34m\u001b[1m\tEntering \"process_raw_data\"\u001b[0m\n",
      "\u001b[32m2025-02-09 22:11:24.743\u001b[0m | \u001b[34m\u001b[1mDEBUG   \u001b[0m | \u001b[36mintegration_helpers\u001b[0m:\u001b[36mtracer\u001b[0m:\u001b[36m35\u001b[0m - \u001b[34m\u001b[1m\tEntering \"extract_metadata_from_data\"\u001b[0m\n",
      "\u001b[32m2025-02-09 22:11:24.745\u001b[0m | \u001b[34m\u001b[1mDEBUG   \u001b[0m | \u001b[36mintegration_helpers\u001b[0m:\u001b[36mtracer\u001b[0m:\u001b[36m37\u001b[0m - \u001b[34m\u001b[1m\tLeaving \"extract_metadata_from_data\"\u001b[0m\n",
      "2025-02-09 22:11:24,746 - INFO - User Metadata CID: Qmc3efuDTcBE2BKeQ3b22KadoHz62863MdeeXs7GtQM4fT\n",
      "2025-02-09 22:11:24,747 - INFO - 'project_id' not found or an error occurred.\n",
      "\u001b[32m2025-02-09 22:11:24.748\u001b[0m | \u001b[34m\u001b[1mDEBUG   \u001b[0m | \u001b[36mintegration_helpers\u001b[0m:\u001b[36mtracer\u001b[0m:\u001b[36m37\u001b[0m - \u001b[34m\u001b[1m\tLeaving \"process_raw_data\"\u001b[0m\n"
     ]
    }
   ],
   "source": [
    "# - Get account info\n",
    "get_account_hash = get_account(create_account_contract_address, project_id, DOMAIN)\n",
    "details = integration_helpers.get_engine_receipts_result(get_account_hash)\n",
    "\n",
    "# Process the raw data\n",
    "account_metadata_cid, project_id = process_raw_data(details) #TO DO - From now"
   ]
  },
  {
   "cell_type": "markdown",
   "id": "584a4e11-b89d-4224-8f12-119e74750d52",
   "metadata": {},
   "source": [
    "7 - Retrieves Project metadata (JSON-LD formatted) from IPFS"
   ]
  },
  {
   "cell_type": "code",
   "execution_count": 9,
   "id": "acd05eed-f4bb-4da8-87aa-e133bf4c45bc",
   "metadata": {},
   "outputs": [
    {
     "name": "stderr",
     "output_type": "stream",
     "text": [
      "\u001b[32m2025-02-09 22:11:24.772\u001b[0m | \u001b[1mINFO    \u001b[0m | \u001b[36m__main__\u001b[0m:\u001b[36m<module>\u001b[0m:\u001b[36m2\u001b[0m - \u001b[1mUser Metadata: {'@context': {'dc': 'http://purl.org/dc/terms/', 'schema': 'http://schema.org/'}, '@type': 'schema:ResearchProject', 'dc:abstract': 'This paper analyzes how hydrogen energy influences disaster preparedness, providing insights into how to maximize its climate resilience.', 'schema:endDate': '2028-04-20', 'schema:funding': {'@type': 'schema:Organization', 'schema:name': 'Asian Development Bank'}, 'schema:keywords': ['hydrogen energy', 'disaster preparedness', 'climate resilience'], 'schema:location': {'@type': 'schema:Place', 'schema:name': 'Rajasthan, India'}, 'schema:name': 'Analyzing the Influence of hydrogen energy on disaster preparedness', 'schema:startDate': '2022-01-14'}\u001b[0m\n"
     ]
    }
   ],
   "source": [
    "project_metadata = download_json_from_ipfs(account_metadata_cid)\n",
    "logger.info(f\"User Metadata: {project_metadata}\")"
   ]
  }
 ],
 "metadata": {
  "kernelspec": {
   "display_name": "Python 3 (ipykernel)",
   "language": "python",
   "name": "python3"
  },
  "language_info": {
   "codemirror_mode": {
    "name": "ipython",
    "version": 3
   },
   "file_extension": ".py",
   "mimetype": "text/x-python",
   "name": "python",
   "nbconvert_exporter": "python",
   "pygments_lexer": "ipython3",
   "version": "3.9.21"
  }
 },
 "nbformat": 4,
 "nbformat_minor": 5
}
