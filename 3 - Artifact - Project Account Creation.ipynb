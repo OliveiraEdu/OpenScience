{
 "cells": [
  {
   "cell_type": "markdown",
   "id": "a06f63cb-d53a-4477-9588-2a3a8cfca53c",
   "metadata": {},
   "source": [
    "**IMPORTANT** \n",
    "\n",
    "- For requirements and initial setup go to https://github.com/OliveiraEdu/OpenScience/Readme.md;\n",
    "- To execute the notebook run all cells."
   ]
  },
  {
   "attachments": {},
   "cell_type": "markdown",
   "id": "223cd9f9-991c-4c3c-88d3-3721af152e8d",
   "metadata": {},
   "source": [
    "# Notebook 3 - Open Science Platform - Project Account Creation"
   ]
  },
  {
   "cell_type": "markdown",
   "id": "8ad49fbf-50e7-4ccd-943c-5be80234e89a",
   "metadata": {},
   "source": [
    "## Activities\n",
    "\n",
    "1 - Deploys a smart contract into the Iroha 1 blockchain for account creation;\n",
    "\n",
    "2 - Creates a project account into the blockchain;\n",
    "\n",
    "3 - Queries the blockchain to confirm the succesful creation of the account;\n",
    "\n",
    "4 - Deploys a smart contract into the Iroha 1 blockchain for details (attributes) setting;\n",
    "\n",
    "5 - Sets details for the project account;\n",
    "\n",
    "6 - Queries the blockchain again to confirm the succesfull details setting.\n",
    "\n",
    "Every account succesfully created is dumped to `datasets/projects.json` for later use and evidence collection.  "
   ]
  },
  {
   "cell_type": "code",
   "execution_count": 1,
   "id": "cd32c746-c4c7-4715-9d11-99d853ca2395",
   "metadata": {},
   "outputs": [],
   "source": [
    "# from name_generator import left, right\n",
    "from utilities import *\n",
    "from project_id_generator import * # - Random generated synthetic project ID\n",
    "from iroha_helper import *\n",
    "from loguru import logger\n",
    "from dump_to_json import ProjectAccount, update_or_append_project_metadata\n",
    "from ipfs_functions import download_json_from_ipfs\n",
    "from synthetic_project_json_ld import *\n",
    "from new_helper import extract_account_metadata_cid_from_data, process_raw_data, load_variable\n",
    "from loguru import logger"
   ]
  },
  {
   "cell_type": "code",
   "execution_count": 2,
   "id": "c55ca349",
   "metadata": {},
   "outputs": [],
   "source": [
    "DOMAIN = \"test\""
   ]
  },
  {
   "cell_type": "markdown",
   "id": "603ec5bf-68ef-46bb-a47b-341a570052d4",
   "metadata": {},
   "source": [
    "1 - Loads the smart contract hash for account creation into the Iroha 1 blockchain.  "
   ]
  },
  {
   "cell_type": "code",
   "execution_count": 3,
   "id": "609528c7",
   "metadata": {},
   "outputs": [
    {
     "name": "stderr",
     "output_type": "stream",
     "text": [
      "2025-02-03 13:21:58,805 - INFO - Variable 'Create Account Hash' successfully loaded from temp/Create Account Hash.json\n",
      "\u001b[32m2025-02-03 13:21:58.806\u001b[0m | \u001b[1mINFO    \u001b[0m | \u001b[36m__main__\u001b[0m:\u001b[36m<module>\u001b[0m:\u001b[36m3\u001b[0m - \u001b[1mb'a92e8a81f05c6d79d9d21e027e1be9141819e7e4ec3c2eedc0b0f6d0f9b1ed08'\u001b[0m\n"
     ]
    }
   ],
   "source": [
    "# Loading the variable from JSON\n",
    "create_account_contract_hash = load_variable(\"Create Account Hash\")\n",
    "logger.info(create_account_contract_hash)\n"
   ]
  },
  {
   "cell_type": "markdown",
   "id": "220d3a84-6cc3-4173-8cc0-6bf53990e453",
   "metadata": {},
   "source": [
    "2 - Creates a project account into the blockchain;"
   ]
  },
  {
   "cell_type": "code",
   "execution_count": 4,
   "id": "12c2a43b-c8cb-4c69-bb14-455d3fc1ce4d",
   "metadata": {},
   "outputs": [
    {
     "name": "stderr",
     "output_type": "stream",
     "text": [
      "\u001b[32m2025-02-03 13:21:58.866\u001b[0m | \u001b[1mINFO    \u001b[0m | \u001b[36m__main__\u001b[0m:\u001b[36m<module>\u001b[0m:\u001b[36m6\u001b[0m - \u001b[1mCreating project with name: 38139\u001b[0m\n",
      "\u001b[32m2025-02-03 13:21:58.869\u001b[0m | \u001b[34m\u001b[1mDEBUG   \u001b[0m | \u001b[36mintegration_helpers\u001b[0m:\u001b[36mtracer\u001b[0m:\u001b[36m35\u001b[0m - \u001b[34m\u001b[1m\tEntering \"get_engine_receipts_address\"\u001b[0m\n",
      "\u001b[32m2025-02-03 13:21:58.891\u001b[0m | \u001b[1mINFO    \u001b[0m | \u001b[36mintegration_helpers\u001b[0m:\u001b[36mget_engine_receipts_address\u001b[0m:\u001b[36m96\u001b[0m - \u001b[1mRetrieved contract address for transaction hash: b'a92e8a81f05c6d79d9d21e027e1be9141819e7e4ec3c2eedc0b0f6d0f9b1ed08'\u001b[0m\n",
      "\u001b[32m2025-02-03 13:21:58.892\u001b[0m | \u001b[34m\u001b[1mDEBUG   \u001b[0m | \u001b[36mintegration_helpers\u001b[0m:\u001b[36mget_engine_receipts_address\u001b[0m:\u001b[36m97\u001b[0m - \u001b[34m\u001b[1mContract address: D8FED27AE4768FCF4AFAB71AC6D148957A38EDB3\u001b[0m\n",
      "\u001b[32m2025-02-03 13:21:58.893\u001b[0m | \u001b[34m\u001b[1mDEBUG   \u001b[0m | \u001b[36mintegration_helpers\u001b[0m:\u001b[36mtracer\u001b[0m:\u001b[36m37\u001b[0m - \u001b[34m\u001b[1m\tLeaving \"get_engine_receipts_address\"\u001b[0m\n",
      "\u001b[32m2025-02-03 13:21:58.894\u001b[0m | \u001b[34m\u001b[1mDEBUG   \u001b[0m | \u001b[36mintegration_helpers\u001b[0m:\u001b[36mtracer\u001b[0m:\u001b[36m35\u001b[0m - \u001b[34m\u001b[1m\tEntering \"create_project_account\"\u001b[0m\n",
      "2025-02-03 13:21:58,917 - INFO - ('STATELESS_VALIDATION_SUCCESS', 1, 0)\n",
      "2025-02-03 13:21:58,919 - INFO - ('ENOUGH_SIGNATURES_COLLECTED', 9, 0)\n",
      "2025-02-03 13:22:01,246 - INFO - ('STATEFUL_VALIDATION_SUCCESS', 3, 0)\n",
      "2025-02-03 13:22:01,257 - INFO - ('COMMITTED', 5, 0)\n",
      "\u001b[32m2025-02-03 13:22:01.260\u001b[0m | \u001b[1mINFO    \u001b[0m | \u001b[36mdump_to_json\u001b[0m:\u001b[36mdump_project_to_json_ld\u001b[0m:\u001b[36m128\u001b[0m - \u001b[1mAppended new project entry to file 'datasets/projects.json', current total entries: 6\u001b[0m\n",
      "2025-02-03 13:22:01,262 - INFO - 6\n",
      "\u001b[32m2025-02-03 13:22:01.263\u001b[0m | \u001b[34m\u001b[1mDEBUG   \u001b[0m | \u001b[36mintegration_helpers\u001b[0m:\u001b[36mtracer\u001b[0m:\u001b[36m37\u001b[0m - \u001b[34m\u001b[1m\tLeaving \"create_project_account\"\u001b[0m\n"
     ]
    },
    {
     "data": {
      "text/plain": [
       "b'84b4c4e7f134c6f5c4f86f544b9e23d0519fe37fb6d740fd49531ef7bb3c4008'"
      ]
     },
     "execution_count": 4,
     "metadata": {},
     "output_type": "execute_result"
    }
   ],
   "source": [
    "project_private_key = IrohaCrypto.private_key()\n",
    "project_public_key = IrohaCrypto.derive_public_key(project_private_key).decode(\"utf-8\")\n",
    "\n",
    "project_id = generate_project_id()\n",
    "\n",
    "logger.info(f\"Creating project with name: {project_id}\")\n",
    "\n",
    "# - Create account\n",
    "create_account_contract_address = integration_helpers.get_engine_receipts_address(create_account_contract_hash)\n",
    "create_project_account(create_account_contract_address, project_id, DOMAIN, project_public_key)\n"
   ]
  },
  {
   "cell_type": "markdown",
   "id": "f7ea8ce4-7253-4028-b4d6-0e97177f979f",
   "metadata": {},
   "source": [
    "3 - Queries the blockchain to confirm the succesful creation of the account;"
   ]
  },
  {
   "cell_type": "code",
   "execution_count": 11,
   "id": "bcf5d96b-813e-4222-b46c-9040ce1b7cce",
   "metadata": {},
   "outputs": [
    {
     "name": "stderr",
     "output_type": "stream",
     "text": [
      "\u001b[32m2025-02-03 13:39:27.039\u001b[0m | \u001b[34m\u001b[1mDEBUG   \u001b[0m | \u001b[36mintegration_helpers\u001b[0m:\u001b[36mtracer\u001b[0m:\u001b[36m35\u001b[0m - \u001b[34m\u001b[1m\tEntering \"get_account\"\u001b[0m\n",
      "2025-02-03 13:39:27,043 - WARNING - create_account_contract_address: D8FED27AE4768FCF4AFAB71AC6D148957A38EDB3\n",
      "2025-02-03 13:39:27,062 - INFO - ('STATELESS_VALIDATION_SUCCESS', 1, 0)\n",
      "2025-02-03 13:39:27,064 - INFO - ('ENOUGH_SIGNATURES_COLLECTED', 9, 0)\n",
      "2025-02-03 13:39:29,558 - INFO - ('STATEFUL_VALIDATION_SUCCESS', 3, 0)\n",
      "2025-02-03 13:39:29,568 - INFO - ('COMMITTED', 5, 0)\n",
      "2025-02-03 13:39:29,571 - WARNING - Account Data: {'address': 'D8FED27AE4768FCF4AFAB71AC6D148957A38EDB3', 'hex_hash': '58c1d665c019b896bb5dad7c3e2be95a59d404e328fcdb30694d36a1bd47fdb2'}\n",
      "\u001b[32m2025-02-03 13:39:29.572\u001b[0m | \u001b[34m\u001b[1mDEBUG   \u001b[0m | \u001b[36mintegration_helpers\u001b[0m:\u001b[36mtracer\u001b[0m:\u001b[36m35\u001b[0m - \u001b[34m\u001b[1m\tEntering \"append_to_json_file\"\u001b[0m\n",
      "2025-02-03 13:39:29,578 - INFO - Appended data under '38139@test' in logs/account_data.json\n",
      "\u001b[32m2025-02-03 13:39:29.580\u001b[0m | \u001b[34m\u001b[1mDEBUG   \u001b[0m | \u001b[36mintegration_helpers\u001b[0m:\u001b[36mtracer\u001b[0m:\u001b[36m37\u001b[0m - \u001b[34m\u001b[1m\tLeaving \"append_to_json_file\"\u001b[0m\n",
      "\u001b[32m2025-02-03 13:39:29.581\u001b[0m | \u001b[34m\u001b[1mDEBUG   \u001b[0m | \u001b[36mintegration_helpers\u001b[0m:\u001b[36mtracer\u001b[0m:\u001b[36m37\u001b[0m - \u001b[34m\u001b[1m\tLeaving \"get_account\"\u001b[0m\n",
      "\u001b[32m2025-02-03 13:39:29.583\u001b[0m | \u001b[34m\u001b[1mDEBUG   \u001b[0m | \u001b[36mintegration_helpers\u001b[0m:\u001b[36mtracer\u001b[0m:\u001b[36m35\u001b[0m - \u001b[34m\u001b[1m\tEntering \"get_engine_receipts_result\"\u001b[0m\n",
      "\u001b[32m2025-02-03 13:39:29.605\u001b[0m | \u001b[1mINFO    \u001b[0m | \u001b[36mintegration_helpers\u001b[0m:\u001b[36mget_engine_receipts_result\u001b[0m:\u001b[36m139\u001b[0m - \u001b[1mResult data: 00000000000000000000000000000000000000000000000000000000000000200000000000000000000000000000000000000000000000000000000000000100000000000000000000000000000000000000000000000000000000000000002000000000000000000000000000000000000000000000000000000000000000a87b226163636f756e745f6964223a2233383133394074657374222c22646f6d61696e5f6964223a2274657374222c2271756f72756d223a312c226a736f6e5f64617461223a227b5c2261646d696e40746573745c223a207b5c226163636f756e745f6d657461646174615f6369645c223a205c22516d537534715266585570456b5252486f445763385343626565774474456835616d455046466f48595a6a354e565c227d7d227d000000000000000000000000000000000000000000000000\u001b[0m\n",
      "\u001b[32m2025-02-03 13:39:29.606\u001b[0m | \u001b[34m\u001b[1mDEBUG   \u001b[0m | \u001b[36mintegration_helpers\u001b[0m:\u001b[36mget_engine_receipts_result\u001b[0m:\u001b[36m140\u001b[0m - \u001b[34m\u001b[1mResult decoded string: \u0000\u0000\u0000\u0000\u0000\u0000\u0000\u0000\u0000\u0000\u0000\u0000\u0000\u0000\u0000\u0000\u0000\u0000\u0000\u0000\u0000\u0000\u0000\u0000\u0000\u0000\u0000\u0000\u0000\u0000\u0000 \u0000\u0000\u0000\u0000\u0000\u0000\u0000\u0000\u0000\u0000\u0000\u0000\u0000\u0000\u0000\u0000\u0000\u0000\u0000\u0000\u0000\u0000\u0000\u0000\u0000\u0000\u0000\u0000\u0000\u0000\u0001\u0000\u0000\u0000\u0000\u0000\u0000\u0000\u0000\u0000\u0000\u0000\u0000\u0000\u0000\u0000\u0000\u0000\u0000\u0000\u0000\u0000\u0000\u0000\u0000\u0000\u0000\u0000\u0000\u0000\u0000\u0000\u0000 \u0000\u0000\u0000\u0000\u0000\u0000\u0000\u0000\u0000\u0000\u0000\u0000\u0000\u0000\u0000\u0000\u0000\u0000\u0000\u0000\u0000\u0000\u0000\u0000\u0000\u0000\u0000\u0000\u0000\u0000\u0000{\"account_id\":\"38139@test\",\"domain_id\":\"test\",\"quorum\":1,\"json_data\":\"{\\\"admin@test\\\": {\\\"account_metadata_cid\\\": \\\"QmSu4qRfXUpEkRRHoDWc8SCbeewDtEh5amEPFFoHYZj5NV\\\"}}\"}\u0000\u0000\u0000\u0000\u0000\u0000\u0000\u0000\u0000\u0000\u0000\u0000\u0000\u0000\u0000\u0000\u0000\u0000\u0000\u0000\u0000\u0000\u0000\u0000\u001b[0m\n",
      "\u001b[32m2025-02-03 13:39:29.608\u001b[0m | \u001b[34m\u001b[1mDEBUG   \u001b[0m | \u001b[36mintegration_helpers\u001b[0m:\u001b[36mtracer\u001b[0m:\u001b[36m37\u001b[0m - \u001b[34m\u001b[1m\tLeaving \"get_engine_receipts_result\"\u001b[0m\n"
     ]
    },
    {
     "data": {
      "text/plain": [
       "'\\x00\\x00\\x00\\x00\\x00\\x00\\x00\\x00\\x00\\x00\\x00\\x00\\x00\\x00\\x00\\x00\\x00\\x00\\x00\\x00\\x00\\x00\\x00\\x00\\x00\\x00\\x00\\x00\\x00\\x00\\x00 \\x00\\x00\\x00\\x00\\x00\\x00\\x00\\x00\\x00\\x00\\x00\\x00\\x00\\x00\\x00\\x00\\x00\\x00\\x00\\x00\\x00\\x00\\x00\\x00\\x00\\x00\\x00\\x00\\x00\\x00\\x01\\x00\\x00\\x00\\x00\\x00\\x00\\x00\\x00\\x00\\x00\\x00\\x00\\x00\\x00\\x00\\x00\\x00\\x00\\x00\\x00\\x00\\x00\\x00\\x00\\x00\\x00\\x00\\x00\\x00\\x00\\x00\\x00 \\x00\\x00\\x00\\x00\\x00\\x00\\x00\\x00\\x00\\x00\\x00\\x00\\x00\\x00\\x00\\x00\\x00\\x00\\x00\\x00\\x00\\x00\\x00\\x00\\x00\\x00\\x00\\x00\\x00\\x00\\x00{\"account_id\":\"38139@test\",\"domain_id\":\"test\",\"quorum\":1,\"json_data\":\"{\\\\\"admin@test\\\\\": {\\\\\"account_metadata_cid\\\\\": \\\\\"QmSu4qRfXUpEkRRHoDWc8SCbeewDtEh5amEPFFoHYZj5NV\\\\\"}}\"}\\x00\\x00\\x00\\x00\\x00\\x00\\x00\\x00\\x00\\x00\\x00\\x00\\x00\\x00\\x00\\x00\\x00\\x00\\x00\\x00\\x00\\x00\\x00\\x00'"
      ]
     },
     "execution_count": 11,
     "metadata": {},
     "output_type": "execute_result"
    }
   ],
   "source": [
    "#Query - GetAccountDetail\n",
    "\n",
    "# - Get account info\n",
    "project_account_hash = get_account(create_account_contract_address, project_id, DOMAIN)\n",
    "integration_helpers.get_engine_receipts_result(project_account_hash)\n"
   ]
  },
  {
   "cell_type": "markdown",
   "id": "d349b3b2-4b56-4d15-a7a3-8a9fb93ab895",
   "metadata": {},
   "source": [
    "4 - Deploys a smart contract into the Iroha 1 blockchain for details (attributes) setting;"
   ]
  },
  {
   "cell_type": "code",
   "execution_count": 6,
   "id": "9186699c-d352-401f-abf2-2381a251a08d",
   "metadata": {},
   "outputs": [
    {
     "name": "stderr",
     "output_type": "stream",
     "text": [
      "2025-02-03 13:22:04,356 - INFO - Variable 'Account Detail Contract Hash' successfully loaded from temp/Account Detail Contract Hash.json\n",
      "\u001b[32m2025-02-03 13:22:04.357\u001b[0m | \u001b[1mINFO    \u001b[0m | \u001b[36m__main__\u001b[0m:\u001b[36m<module>\u001b[0m:\u001b[36m3\u001b[0m - \u001b[1mb'6db5738a5c634925422b433313fe74ce671f54fdbd480d024e1c60f7f22e46b8'\u001b[0m\n"
     ]
    }
   ],
   "source": [
    "# Loading the variable from JSON\n",
    "account_detail_contract_hash = load_variable(\"Account Detail Contract Hash\")\n",
    "logger.info(account_detail_contract_hash)"
   ]
  },
  {
   "cell_type": "markdown",
   "id": "aaab4311-7557-44a7-9391-1441574342aa",
   "metadata": {},
   "source": [
    "5 - Sets details for the project account:"
   ]
  },
  {
   "cell_type": "code",
   "execution_count": 7,
   "id": "58039bbf-81dc-4ee5-8a2f-57edf1ae171f",
   "metadata": {},
   "outputs": [
    {
     "name": "stderr",
     "output_type": "stream",
     "text": [
      "\u001b[32m2025-02-03 13:22:04.473\u001b[0m | \u001b[1mINFO    \u001b[0m | \u001b[36mdump_to_json\u001b[0m:\u001b[36mupdate_or_append_project_metadata\u001b[0m:\u001b[36m216\u001b[0m - \u001b[1mUpdated existing project entry for project ID: 38139@test\u001b[0m\n",
      "\u001b[32m2025-02-03 13:22:04.476\u001b[0m | \u001b[1mINFO    \u001b[0m | \u001b[36mdump_to_json\u001b[0m:\u001b[36mupdate_or_append_project_metadata\u001b[0m:\u001b[36m235\u001b[0m - \u001b[1mCurrent total entries in 'datasets/projects.json': 6\u001b[0m\n",
      "\u001b[32m2025-02-03 13:22:04.478\u001b[0m | \u001b[34m\u001b[1mDEBUG   \u001b[0m | \u001b[36mintegration_helpers\u001b[0m:\u001b[36mtracer\u001b[0m:\u001b[36m35\u001b[0m - \u001b[34m\u001b[1m\tEntering \"get_engine_receipts_address\"\u001b[0m\n",
      "\u001b[32m2025-02-03 13:22:04.498\u001b[0m | \u001b[1mINFO    \u001b[0m | \u001b[36mintegration_helpers\u001b[0m:\u001b[36mget_engine_receipts_address\u001b[0m:\u001b[36m96\u001b[0m - \u001b[1mRetrieved contract address for transaction hash: b'6db5738a5c634925422b433313fe74ce671f54fdbd480d024e1c60f7f22e46b8'\u001b[0m\n",
      "\u001b[32m2025-02-03 13:22:04.499\u001b[0m | \u001b[34m\u001b[1mDEBUG   \u001b[0m | \u001b[36mintegration_helpers\u001b[0m:\u001b[36mget_engine_receipts_address\u001b[0m:\u001b[36m97\u001b[0m - \u001b[34m\u001b[1mContract address: BBD42BBFF4F6911A42D249C85FA8F7BB246E6130\u001b[0m\n",
      "\u001b[32m2025-02-03 13:22:04.500\u001b[0m | \u001b[34m\u001b[1mDEBUG   \u001b[0m | \u001b[36mintegration_helpers\u001b[0m:\u001b[36mtracer\u001b[0m:\u001b[36m37\u001b[0m - \u001b[34m\u001b[1m\tLeaving \"get_engine_receipts_address\"\u001b[0m\n",
      "\u001b[32m2025-02-03 13:22:04.502\u001b[0m | \u001b[34m\u001b[1mDEBUG   \u001b[0m | \u001b[36mintegration_helpers\u001b[0m:\u001b[36mtracer\u001b[0m:\u001b[36m35\u001b[0m - \u001b[34m\u001b[1m\tEntering \"set_account_detail\"\u001b[0m\n",
      "2025-02-03 13:22:04,518 - INFO - None\n",
      "2025-02-03 13:22:04,520 - INFO - ('ENOUGH_SIGNATURES_COLLECTED', 9, 0)\n"
     ]
    },
    {
     "name": "stderr",
     "output_type": "stream",
     "text": [
      "2025-02-03 13:22:07,322 - INFO - ('STATEFUL_VALIDATION_SUCCESS', 3, 0)\n",
      "2025-02-03 13:22:07,332 - INFO - ('COMMITTED', 5, 0)\n",
      "\u001b[32m2025-02-03 13:22:07.333\u001b[0m | \u001b[34m\u001b[1mDEBUG   \u001b[0m | \u001b[36mintegration_helpers\u001b[0m:\u001b[36mtracer\u001b[0m:\u001b[36m35\u001b[0m - \u001b[34m\u001b[1m\tEntering \"get_engine_receipts_result\"\u001b[0m\n",
      "\u001b[32m2025-02-03 13:22:07.358\u001b[0m | \u001b[1mINFO    \u001b[0m | \u001b[36mintegration_helpers\u001b[0m:\u001b[36mget_engine_receipts_result\u001b[0m:\u001b[36m139\u001b[0m - \u001b[1mResult data: 000000000000000000000000000000000000000000000000000000000000002000000000000000000000000000000000000000000000000000000000000000200000000000000000000000000000000000000000000000000000000000000001\u001b[0m\n",
      "\u001b[32m2025-02-03 13:22:07.359\u001b[0m | \u001b[34m\u001b[1mDEBUG   \u001b[0m | \u001b[36mintegration_helpers\u001b[0m:\u001b[36mget_engine_receipts_result\u001b[0m:\u001b[36m140\u001b[0m - \u001b[34m\u001b[1mResult decoded string: \u0000\u0000\u0000\u0000\u0000\u0000\u0000\u0000\u0000\u0000\u0000\u0000\u0000\u0000\u0000\u0000\u0000\u0000\u0000\u0000\u0000\u0000\u0000\u0000\u0000\u0000\u0000\u0000\u0000\u0000\u0000 \u0000\u0000\u0000\u0000\u0000\u0000\u0000\u0000\u0000\u0000\u0000\u0000\u0000\u0000\u0000\u0000\u0000\u0000\u0000\u0000\u0000\u0000\u0000\u0000\u0000\u0000\u0000\u0000\u0000\u0000\u0000 \u0000\u0000\u0000\u0000\u0000\u0000\u0000\u0000\u0000\u0000\u0000\u0000\u0000\u0000\u0000\u0000\u0000\u0000\u0000\u0000\u0000\u0000\u0000\u0000\u0000\u0000\u0000\u0000\u0000\u0000\u0000\u0001\u001b[0m\n",
      "\u001b[32m2025-02-03 13:22:07.361\u001b[0m | \u001b[34m\u001b[1mDEBUG   \u001b[0m | \u001b[36mintegration_helpers\u001b[0m:\u001b[36mtracer\u001b[0m:\u001b[36m37\u001b[0m - \u001b[34m\u001b[1m\tLeaving \"get_engine_receipts_result\"\u001b[0m\n",
      "\u001b[32m2025-02-03 13:22:07.362\u001b[0m | \u001b[34m\u001b[1mDEBUG   \u001b[0m | \u001b[36mintegration_helpers\u001b[0m:\u001b[36mtracer\u001b[0m:\u001b[36m37\u001b[0m - \u001b[34m\u001b[1m\tLeaving \"set_account_detail\"\u001b[0m\n"
     ]
    }
   ],
   "source": [
    "# Generate synthetic project metadata JSON (assumed to be done already)\n",
    "project_metadata_json = generate_synthetic_entry_ld()\n",
    "account_metadata_cid = upload_json_to_ipfs(project_metadata_json)  # Assuming this is done before calling the function\n",
    "\n",
    "# Call the function to update or append a new entry to the JSON-LD file\n",
    "updated_entry_count = update_or_append_project_metadata(\n",
    "    project_id, \n",
    "    project_metadata_json, \n",
    "    account_metadata_cid\n",
    ")\n",
    "\n",
    "\n",
    "address = integration_helpers.get_engine_receipts_address(account_detail_contract_hash)\n",
    "\n",
    "# Setting account detail using the generated project metadata CID\n",
    "hash = set_account_detail(\n",
    "    address, \n",
    "    f\"{project_id}@{DOMAIN}\",  # Project ID as account\n",
    "    \"account_metadata_cid\",    # The key we're setting\n",
    "    account_metadata_cid       # The value (CID from IPFS)\n",
    ")"
   ]
  },
  {
   "cell_type": "markdown",
   "id": "2252800d-e177-4325-8552-49aebe396755",
   "metadata": {},
   "source": [
    "6 - Queries the blockchain to confirm the succesful details setting"
   ]
  },
  {
   "cell_type": "code",
   "execution_count": 8,
   "id": "0bed585f-6faa-4f35-b308-a4d9f680f3ca",
   "metadata": {},
   "outputs": [
    {
     "name": "stderr",
     "output_type": "stream",
     "text": [
      "\u001b[32m2025-02-03 13:22:07.382\u001b[0m | \u001b[34m\u001b[1mDEBUG   \u001b[0m | \u001b[36mintegration_helpers\u001b[0m:\u001b[36mtracer\u001b[0m:\u001b[36m35\u001b[0m - \u001b[34m\u001b[1m\tEntering \"get_account\"\u001b[0m\n",
      "2025-02-03 13:22:07,384 - WARNING - create_account_contract_address: D8FED27AE4768FCF4AFAB71AC6D148957A38EDB3\n",
      "2025-02-03 13:22:07,404 - INFO - ('STATELESS_VALIDATION_SUCCESS', 1, 0)\n",
      "2025-02-03 13:22:07,406 - INFO - ('ENOUGH_SIGNATURES_COLLECTED', 9, 0)\n",
      "2025-02-03 13:22:10,357 - INFO - ('STATEFUL_VALIDATION_SUCCESS', 3, 0)\n",
      "2025-02-03 13:22:10,368 - INFO - ('COMMITTED', 5, 0)\n",
      "2025-02-03 13:22:10,370 - WARNING - Account Data: {'address': 'D8FED27AE4768FCF4AFAB71AC6D148957A38EDB3', 'hex_hash': 'ee475b849c5a7e3682b19b5bf622fef98ae0366452b6707b095f757fd33686a5'}\n",
      "\u001b[32m2025-02-03 13:22:10.371\u001b[0m | \u001b[34m\u001b[1mDEBUG   \u001b[0m | \u001b[36mintegration_helpers\u001b[0m:\u001b[36mtracer\u001b[0m:\u001b[36m35\u001b[0m - \u001b[34m\u001b[1m\tEntering \"append_to_json_file\"\u001b[0m\n",
      "2025-02-03 13:22:10,376 - INFO - Appended data under '38139@test' in logs/account_data.json\n",
      "\u001b[32m2025-02-03 13:22:10.377\u001b[0m | \u001b[34m\u001b[1mDEBUG   \u001b[0m | \u001b[36mintegration_helpers\u001b[0m:\u001b[36mtracer\u001b[0m:\u001b[36m37\u001b[0m - \u001b[34m\u001b[1m\tLeaving \"append_to_json_file\"\u001b[0m\n",
      "\u001b[32m2025-02-03 13:22:10.378\u001b[0m | \u001b[34m\u001b[1mDEBUG   \u001b[0m | \u001b[36mintegration_helpers\u001b[0m:\u001b[36mtracer\u001b[0m:\u001b[36m37\u001b[0m - \u001b[34m\u001b[1m\tLeaving \"get_account\"\u001b[0m\n",
      "\u001b[32m2025-02-03 13:22:10.380\u001b[0m | \u001b[34m\u001b[1mDEBUG   \u001b[0m | \u001b[36mintegration_helpers\u001b[0m:\u001b[36mtracer\u001b[0m:\u001b[36m35\u001b[0m - \u001b[34m\u001b[1m\tEntering \"get_engine_receipts_result\"\u001b[0m\n",
      "\u001b[32m2025-02-03 13:22:10.400\u001b[0m | \u001b[1mINFO    \u001b[0m | \u001b[36mintegration_helpers\u001b[0m:\u001b[36mget_engine_receipts_result\u001b[0m:\u001b[36m139\u001b[0m - \u001b[1mResult data: 00000000000000000000000000000000000000000000000000000000000000200000000000000000000000000000000000000000000000000000000000000100000000000000000000000000000000000000000000000000000000000000002000000000000000000000000000000000000000000000000000000000000000a87b226163636f756e745f6964223a2233383133394074657374222c22646f6d61696e5f6964223a2274657374222c2271756f72756d223a312c226a736f6e5f64617461223a227b5c2261646d696e40746573745c223a207b5c226163636f756e745f6d657461646174615f6369645c223a205c22516d537534715266585570456b5252486f445763385343626565774474456835616d455046466f48595a6a354e565c227d7d227d000000000000000000000000000000000000000000000000\u001b[0m\n",
      "\u001b[32m2025-02-03 13:22:10.402\u001b[0m | \u001b[34m\u001b[1mDEBUG   \u001b[0m | \u001b[36mintegration_helpers\u001b[0m:\u001b[36mget_engine_receipts_result\u001b[0m:\u001b[36m140\u001b[0m - \u001b[34m\u001b[1mResult decoded string: \u0000\u0000\u0000\u0000\u0000\u0000\u0000\u0000\u0000\u0000\u0000\u0000\u0000\u0000\u0000\u0000\u0000\u0000\u0000\u0000\u0000\u0000\u0000\u0000\u0000\u0000\u0000\u0000\u0000\u0000\u0000 \u0000\u0000\u0000\u0000\u0000\u0000\u0000\u0000\u0000\u0000\u0000\u0000\u0000\u0000\u0000\u0000\u0000\u0000\u0000\u0000\u0000\u0000\u0000\u0000\u0000\u0000\u0000\u0000\u0000\u0000\u0001\u0000\u0000\u0000\u0000\u0000\u0000\u0000\u0000\u0000\u0000\u0000\u0000\u0000\u0000\u0000\u0000\u0000\u0000\u0000\u0000\u0000\u0000\u0000\u0000\u0000\u0000\u0000\u0000\u0000\u0000\u0000\u0000 \u0000\u0000\u0000\u0000\u0000\u0000\u0000\u0000\u0000\u0000\u0000\u0000\u0000\u0000\u0000\u0000\u0000\u0000\u0000\u0000\u0000\u0000\u0000\u0000\u0000\u0000\u0000\u0000\u0000\u0000\u0000{\"account_id\":\"38139@test\",\"domain_id\":\"test\",\"quorum\":1,\"json_data\":\"{\\\"admin@test\\\": {\\\"account_metadata_cid\\\": \\\"QmSu4qRfXUpEkRRHoDWc8SCbeewDtEh5amEPFFoHYZj5NV\\\"}}\"}\u0000\u0000\u0000\u0000\u0000\u0000\u0000\u0000\u0000\u0000\u0000\u0000\u0000\u0000\u0000\u0000\u0000\u0000\u0000\u0000\u0000\u0000\u0000\u0000\u001b[0m\n",
      "\u001b[32m2025-02-03 13:22:10.403\u001b[0m | \u001b[34m\u001b[1mDEBUG   \u001b[0m | \u001b[36mintegration_helpers\u001b[0m:\u001b[36mtracer\u001b[0m:\u001b[36m37\u001b[0m - \u001b[34m\u001b[1m\tLeaving \"get_engine_receipts_result\"\u001b[0m\n",
      "\u001b[32m2025-02-03 13:22:10.404\u001b[0m | \u001b[34m\u001b[1mDEBUG   \u001b[0m | \u001b[36mintegration_helpers\u001b[0m:\u001b[36mtracer\u001b[0m:\u001b[36m35\u001b[0m - \u001b[34m\u001b[1m\tEntering \"process_raw_data\"\u001b[0m\n",
      "\u001b[32m2025-02-03 13:22:10.406\u001b[0m | \u001b[34m\u001b[1mDEBUG   \u001b[0m | \u001b[36mintegration_helpers\u001b[0m:\u001b[36mtracer\u001b[0m:\u001b[36m35\u001b[0m - \u001b[34m\u001b[1m\tEntering \"extract_account_metadata_cid_from_data\"\u001b[0m\n",
      "\u001b[32m2025-02-03 13:22:10.407\u001b[0m | \u001b[34m\u001b[1mDEBUG   \u001b[0m | \u001b[36mintegration_helpers\u001b[0m:\u001b[36mtracer\u001b[0m:\u001b[36m37\u001b[0m - \u001b[34m\u001b[1m\tLeaving \"extract_account_metadata_cid_from_data\"\u001b[0m\n",
      "2025-02-03 13:22:10,408 - INFO - User Metadata CID: QmSu4qRfXUpEkRRHoDWc8SCbeewDtEh5amEPFFoHYZj5NV\n",
      "\u001b[32m2025-02-03 13:22:10.409\u001b[0m | \u001b[34m\u001b[1mDEBUG   \u001b[0m | \u001b[36mintegration_helpers\u001b[0m:\u001b[36mtracer\u001b[0m:\u001b[36m37\u001b[0m - \u001b[34m\u001b[1m\tLeaving \"process_raw_data\"\u001b[0m\n"
     ]
    }
   ],
   "source": [
    "# - Get account info\n",
    "get_account_hash = get_account(create_account_contract_address, project_id, DOMAIN)\n",
    "details = integration_helpers.get_engine_receipts_result(get_account_hash)\n",
    "\n",
    "# Process the raw data\n",
    "account_metadata_cid = process_raw_data(details) #TO DO - From now"
   ]
  },
  {
   "cell_type": "markdown",
   "id": "584a4e11-b89d-4224-8f12-119e74750d52",
   "metadata": {},
   "source": [
    "7 - Retrieves Project metadata (JSON-LD formatted) from IPFS"
   ]
  },
  {
   "cell_type": "code",
   "execution_count": 9,
   "id": "acd05eed-f4bb-4da8-87aa-e133bf4c45bc",
   "metadata": {},
   "outputs": [
    {
     "name": "stderr",
     "output_type": "stream",
     "text": [
      "\u001b[32m2025-02-03 13:22:10.436\u001b[0m | \u001b[1mINFO    \u001b[0m | \u001b[36m__main__\u001b[0m:\u001b[36m<module>\u001b[0m:\u001b[36m2\u001b[0m - \u001b[1mUser Metadata: {'@context': {'dc': 'http://purl.org/dc/terms/', 'schema': 'http://schema.org/'}, '@type': 'schema:ResearchProject', 'dc:abstract': 'This research focuses on the benefits and challenges posed by renewable plastics for industrial automation, with an emphasis on its potential for financial inclusion.', 'schema:endDate': '2027-05-21', 'schema:funding': {'@type': 'schema:Organization', 'schema:name': 'World Wildlife Fund'}, 'schema:keywords': ['renewable plastics', 'industrial automation', 'financial inclusion'], 'schema:location': {'@type': 'schema:Place', 'schema:name': 'Los Angeles, California, USA'}, 'schema:name': 'Assessing the Benefits of renewable plastics for industrial automation', 'schema:startDate': '2020-12-08'}\u001b[0m\n"
     ]
    }
   ],
   "source": [
    "project_metadata = download_json_from_ipfs(account_metadata_cid)\n",
    "logger.info(f\"User Metadata: {project_metadata}\")"
   ]
  }
 ],
 "metadata": {
  "kernelspec": {
   "display_name": "Python 3 (ipykernel)",
   "language": "python",
   "name": "python3"
  },
  "language_info": {
   "codemirror_mode": {
    "name": "ipython",
    "version": 3
   },
   "file_extension": ".py",
   "mimetype": "text/x-python",
   "name": "python",
   "nbconvert_exporter": "python",
   "pygments_lexer": "ipython3",
   "version": "3.9.21"
  }
 },
 "nbformat": 4,
 "nbformat_minor": 5
}
