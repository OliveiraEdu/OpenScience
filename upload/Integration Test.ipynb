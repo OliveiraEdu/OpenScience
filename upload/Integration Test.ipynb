{
 "cells": [
  {
   "cell_type": "code",
   "execution_count": 1,
   "id": "b27efec9",
   "metadata": {},
   "outputs": [],
   "source": [
    "from new_helper import *\n",
    "from super_helper import *"
   ]
  },
  {
   "cell_type": "code",
   "execution_count": null,
   "id": "79650b49",
   "metadata": {},
   "outputs": [
    {
     "name": "stdout",
     "output_type": "stream",
     "text": [
      "----------------------------------------\n"
     ]
    }
   ],
   "source": [
    "id = \"96858\"\n",
    "DOMAIN = \"test\"\n",
    "\n",
    "project_id = f\"{id}@{DOMAIN}\"\n",
    "\n",
    "directory_path = \"upload\"\n",
    "\n",
    "print(40*\"-\")\n",
    "\n"
   ]
  },
  {
   "cell_type": "code",
   "execution_count": 3,
   "id": "4d0d0bcb",
   "metadata": {},
   "outputs": [
    {
     "name": "stdout",
     "output_type": "stream",
     "text": [
      "<Schema: ['abstract', 'cid', 'created', 'creator', 'date', 'description', 'format', 'full_text', 'language', 'modified', 'project_id', 'publisher', 'subject', 'title']>\n",
      "file path:  upload/Aeroacoustic-airfoil-shape-optimization-enhance_2023_Expert-Systems-with-App.pdf\n",
      "file name:  Aeroacoustic-airfoil-shape-optimization-enhance_2023_Expert-Systems-with-App.pdf\n",
      "file cid:  QmXh37WXcrLXkJX2cAPjbPdKZ2cxJXD58XX6eU1Zc41ka4\n",
      "file metadata cid:  QmWxedMfVwuGfyqnWZQpLi6PrpKmqiYLA1JziC2iwnMPyw\n",
      "file_key : file_1\n",
      "joined_cids : QmXh37WXcrLXkJX2cAPjbPdKZ2cxJXD58XX6eU1Zc41ka4, QmWxedMfVwuGfyqnWZQpLi6PrpKmqiYLA1JziC2iwnMPyw\n",
      "\tEntering \"create_contract\"\n",
      "('STATELESS_VALIDATION_SUCCESS', 1, 0)\n",
      "('ENOUGH_SIGNATURES_COLLECTED', 9, 0)\n",
      "('STATEFUL_VALIDATION_SUCCESS', 3, 0)\n",
      "('COMMITTED', 5, 0)\n",
      "\tLeaving \"create_contract\"\n",
      "\tEntering \"get_engine_receipts_address\"\n",
      "\tLeaving \"get_engine_receipts_address\"\n",
      "\tEntering \"set_account_detail\"\n",
      "None\n",
      "('STATELESS_VALIDATION_SUCCESS', 1, 0)\n",
      "('ENOUGH_SIGNATURES_COLLECTED', 9, 0)\n"
     ]
    },
    {
     "name": "stderr",
     "output_type": "stream",
     "text": [
      "\u001b[32m2024-12-30 22:51:20.937\u001b[0m | \u001b[1mINFO    \u001b[0m | \u001b[36msuper_helper\u001b[0m:\u001b[36msetup_index\u001b[0m:\u001b[36m216\u001b[0m - \u001b[1mOpened existing index.\u001b[0m\n",
      "\u001b[32m2024-12-30 22:51:21.091\u001b[0m | \u001b[1mINFO    \u001b[0m | \u001b[36msuper_helper\u001b[0m:\u001b[36mindex_metadata\u001b[0m:\u001b[36m95\u001b[0m - \u001b[1mMetadata indexed successfully: QmWxedMfVwuGfyqnWZQpLi6PrpKmqiYLA1JziC2iwnMPyw\u001b[0m\n"
     ]
    },
    {
     "name": "stdout",
     "output_type": "stream",
     "text": [
      "('STATEFUL_VALIDATION_SUCCESS', 3, 0)\n",
      "('COMMITTED', 5, 0)\n",
      "\tLeaving \"set_account_detail\"\n",
      "hash : b'90332ef5cdca10b8377c5ac37d0327d169d28c461d146c3219afe8d87aacf68b'\n",
      "This is ix:  FileIndex(FileStorage('indexdir'), 'MAIN')\n",
      "file path:  upload/bitcoin.pdf\n",
      "file name:  bitcoin.pdf\n",
      "file cid:  QmRA3NWM82ZGynMbYzAgYTSXCVM14Wx1RZ8fKP42G6gjgj\n",
      "file metadata cid:  QmYAfm2E6b5EhzmN3QkzyfVgRSRUczBpaVDNYGhHrG3gQA\n",
      "file_key : file_2\n",
      "joined_cids : QmRA3NWM82ZGynMbYzAgYTSXCVM14Wx1RZ8fKP42G6gjgj, QmYAfm2E6b5EhzmN3QkzyfVgRSRUczBpaVDNYGhHrG3gQA\n",
      "\tEntering \"set_account_detail\"\n",
      "None\n",
      "('STATELESS_VALIDATION_SUCCESS', 1, 0)\n",
      "('ENOUGH_SIGNATURES_COLLECTED', 9, 0)\n"
     ]
    },
    {
     "name": "stderr",
     "output_type": "stream",
     "text": [
      "\u001b[32m2024-12-30 22:51:23.984\u001b[0m | \u001b[1mINFO    \u001b[0m | \u001b[36msuper_helper\u001b[0m:\u001b[36msetup_index\u001b[0m:\u001b[36m216\u001b[0m - \u001b[1mOpened existing index.\u001b[0m\n",
      "\u001b[32m2024-12-30 22:51:24.076\u001b[0m | \u001b[1mINFO    \u001b[0m | \u001b[36msuper_helper\u001b[0m:\u001b[36mindex_metadata\u001b[0m:\u001b[36m95\u001b[0m - \u001b[1mMetadata indexed successfully: QmYAfm2E6b5EhzmN3QkzyfVgRSRUczBpaVDNYGhHrG3gQA\u001b[0m\n"
     ]
    },
    {
     "name": "stdout",
     "output_type": "stream",
     "text": [
      "('STATEFUL_VALIDATION_SUCCESS', 3, 0)\n",
      "('COMMITTED', 5, 0)\n",
      "\tLeaving \"set_account_detail\"\n",
      "hash : b'b98e82f87fbc532c4a3be6fc4a3854515601ab22dfa133d2f902a36c0b1ca437'\n",
      "This is ix:  FileIndex(FileStorage('indexdir'), 'MAIN')\n"
     ]
    }
   ],
   "source": [
    "\n",
    "\n",
    "schema = get_schema() #super_helper.py\n",
    "\n",
    "print(schema)\n",
    "\n",
    "processed_data = process_files(directory_path, project_id, schema) #new_helper.py\n",
    " \n",
    "    "
   ]
  },
  {
   "cell_type": "code",
   "execution_count": 4,
   "id": "96c16c27",
   "metadata": {},
   "outputs": [
    {
     "name": "stdout",
     "output_type": "stream",
     "text": [
      "Project Account id = id, { \"admin@test\" : { \"file_1\" : \"QmXh37WXcrLXkJX2cAPjbPdKZ2cxJXD58XX6eU1Zc41ka4, QmWxedMfVwuGfyqnWZQpLi6PrpKmqiYLA1JziC2iwnMPyw\", \"file_2\" : \"QmRA3NWM82ZGynMbYzAgYTSXCVM14Wx1RZ8fKP42G6gjgj, QmYAfm2E6b5EhzmN3QkzyfVgRSRUczBpaVDNYGhHrG3gQA\", \"project_metadata_cid\" : \"QmbmyecKUbwCDFPt6Uddx411bCvefLiRXPxHs5vnYz4XZm\" } }\n"
     ]
    }
   ],
   "source": [
    "account_detail = get_account_detail(project_id)\n"
   ]
  },
  {
   "cell_type": "code",
   "execution_count": 5,
   "id": "053afc13",
   "metadata": {},
   "outputs": [],
   "source": [
    "# recreate_index() #Controls the reset of the index manually"
   ]
  },
  {
   "cell_type": "code",
   "execution_count": 6,
   "id": "02b32910",
   "metadata": {},
   "outputs": [
    {
     "name": "stderr",
     "output_type": "stream",
     "text": [
      "\u001b[32m2024-12-30 22:51:24.161\u001b[0m | \u001b[1mINFO    \u001b[0m | \u001b[36msuper_helper\u001b[0m:\u001b[36msearch_index\u001b[0m:\u001b[36m150\u001b[0m - \u001b[1mStarting keyword search...\u001b[0m\n",
      "\u001b[32m2024-12-30 22:51:24.163\u001b[0m | \u001b[1mINFO    \u001b[0m | \u001b[36msuper_helper\u001b[0m:\u001b[36msearch_index\u001b[0m:\u001b[36m151\u001b[0m - \u001b[1mKeyword: 'airfoil'\u001b[0m\n",
      "\u001b[32m2024-12-30 22:51:24.188\u001b[0m | \u001b[1mINFO    \u001b[0m | \u001b[36msuper_helper\u001b[0m:\u001b[36msearch_index\u001b[0m:\u001b[36m162\u001b[0m - \u001b[1mSearch successful: Found 1 result(s).\u001b[0m\n",
      "\u001b[32m2024-12-30 22:51:24.191\u001b[0m | \u001b[1mINFO    \u001b[0m | \u001b[36msuper_helper\u001b[0m:\u001b[36msearch_index\u001b[0m:\u001b[36m164\u001b[0m - \u001b[1m1. Project Id: 06535@test, Metadata CID: QmWxedMfVwuGfyqnWZQpLi6PrpKmqiYLA1JziC2iwnMPyw, Title: aeroacoustic airfoil shape optimization enhanced by autoencoders\u001b[0m\n"
     ]
    },
    {
     "name": "stdout",
     "output_type": "stream",
     "text": [
      "['06535@test']\n"
     ]
    }
   ],
   "source": [
    "\n",
    "# Open an existing index (adjust the path to your index directory)\n",
    "index_path = \"indexdir\"\n",
    "index = open_dir(index_path)\n",
    "\n",
    "# Perform a keyword search\n",
    "keyword = \"airfoil\"\n",
    "# results = search_index(index, keyword)\n",
    "\n",
    "search_results, project_ids = search_index(index, keyword)\n",
    "\n",
    "print(project_ids)  # Will print a list of extracted project IDs\n",
    "\n",
    "# Convert project_ids to a set to remove duplicates\n",
    "unique_project_ids = set(project_ids)"
   ]
  },
  {
   "cell_type": "code",
   "execution_count": 7,
   "id": "fe8d9292",
   "metadata": {},
   "outputs": [
    {
     "name": "stdout",
     "output_type": "stream",
     "text": [
      "[{'account_id': '06535@test', 'project_details': '{ \"admin@test\" : { \"file_1\" : \"QmXh37WXcrLXkJX2cAPjbPdKZ2cxJXD58XX6eU1Zc41ka4, QmWxedMfVwuGfyqnWZQpLi6PrpKmqiYLA1JziC2iwnMPyw\", \"file_2\" : \"QmRA3NWM82ZGynMbYzAgYTSXCVM14Wx1RZ8fKP42G6gjgj, QmYAfm2E6b5EhzmN3QkzyfVgRSRUczBpaVDNYGhHrG3gQA\", \"project_metadata_cid\" : \"QmbmyecKUbwCDFPt6Uddx411bCvefLiRXPxHs5vnYz4XZm\" } }'}]\n"
     ]
    }
   ],
   "source": [
    "\n",
    "# Step 2: Fetch project details for matched project IDs\n",
    "project_details = get_project_details(unique_project_ids, net, iroha)\n",
    "print(project_details)\n",
    "\n"
   ]
  },
  {
   "cell_type": "code",
   "execution_count": 8,
   "id": "80b3e00f",
   "metadata": {},
   "outputs": [
    {
     "ename": "TypeError",
     "evalue": "the JSON object must be str, bytes or bytearray, not list",
     "output_type": "error",
     "traceback": [
      "\u001b[0;31m---------------------------------------------------------------------------\u001b[0m",
      "\u001b[0;31mTypeError\u001b[0m                                 Traceback (most recent call last)",
      "Cell \u001b[0;32mIn[8], line 2\u001b[0m\n\u001b[1;32m      1\u001b[0m \u001b[38;5;66;03m# Convert the JSON string to a Python dictionary\u001b[39;00m\n\u001b[0;32m----> 2\u001b[0m project_details_dict \u001b[38;5;241m=\u001b[39m \u001b[43mjson\u001b[49m\u001b[38;5;241;43m.\u001b[39;49m\u001b[43mloads\u001b[49m\u001b[43m(\u001b[49m\u001b[43mproject_details\u001b[49m\u001b[43m)\u001b[49m\n\u001b[1;32m      4\u001b[0m \u001b[38;5;66;03m# Convert the JSON string to a Python dictionary\u001b[39;00m\n\u001b[1;32m      5\u001b[0m project_details_dict \u001b[38;5;241m=\u001b[39m json\u001b[38;5;241m.\u001b[39mloads(project_details)\n",
      "File \u001b[0;32m/usr/local/lib/python3.9/json/__init__.py:339\u001b[0m, in \u001b[0;36mloads\u001b[0;34m(s, cls, object_hook, parse_float, parse_int, parse_constant, object_pairs_hook, **kw)\u001b[0m\n\u001b[1;32m    337\u001b[0m \u001b[38;5;28;01melse\u001b[39;00m:\n\u001b[1;32m    338\u001b[0m     \u001b[38;5;28;01mif\u001b[39;00m \u001b[38;5;129;01mnot\u001b[39;00m \u001b[38;5;28misinstance\u001b[39m(s, (\u001b[38;5;28mbytes\u001b[39m, \u001b[38;5;28mbytearray\u001b[39m)):\n\u001b[0;32m--> 339\u001b[0m         \u001b[38;5;28;01mraise\u001b[39;00m \u001b[38;5;167;01mTypeError\u001b[39;00m(\u001b[38;5;124mf\u001b[39m\u001b[38;5;124m'\u001b[39m\u001b[38;5;124mthe JSON object must be str, bytes or bytearray, \u001b[39m\u001b[38;5;124m'\u001b[39m\n\u001b[1;32m    340\u001b[0m                         \u001b[38;5;124mf\u001b[39m\u001b[38;5;124m'\u001b[39m\u001b[38;5;124mnot \u001b[39m\u001b[38;5;132;01m{\u001b[39;00ms\u001b[38;5;241m.\u001b[39m\u001b[38;5;18m__class__\u001b[39m\u001b[38;5;241m.\u001b[39m\u001b[38;5;18m__name__\u001b[39m\u001b[38;5;132;01m}\u001b[39;00m\u001b[38;5;124m'\u001b[39m)\n\u001b[1;32m    341\u001b[0m     s \u001b[38;5;241m=\u001b[39m s\u001b[38;5;241m.\u001b[39mdecode(detect_encoding(s), \u001b[38;5;124m'\u001b[39m\u001b[38;5;124msurrogatepass\u001b[39m\u001b[38;5;124m'\u001b[39m)\n\u001b[1;32m    343\u001b[0m \u001b[38;5;28;01mif\u001b[39;00m (\u001b[38;5;28mcls\u001b[39m \u001b[38;5;129;01mis\u001b[39;00m \u001b[38;5;28;01mNone\u001b[39;00m \u001b[38;5;129;01mand\u001b[39;00m object_hook \u001b[38;5;129;01mis\u001b[39;00m \u001b[38;5;28;01mNone\u001b[39;00m \u001b[38;5;129;01mand\u001b[39;00m\n\u001b[1;32m    344\u001b[0m         parse_int \u001b[38;5;129;01mis\u001b[39;00m \u001b[38;5;28;01mNone\u001b[39;00m \u001b[38;5;129;01mand\u001b[39;00m parse_float \u001b[38;5;129;01mis\u001b[39;00m \u001b[38;5;28;01mNone\u001b[39;00m \u001b[38;5;129;01mand\u001b[39;00m\n\u001b[1;32m    345\u001b[0m         parse_constant \u001b[38;5;129;01mis\u001b[39;00m \u001b[38;5;28;01mNone\u001b[39;00m \u001b[38;5;129;01mand\u001b[39;00m object_pairs_hook \u001b[38;5;129;01mis\u001b[39;00m \u001b[38;5;28;01mNone\u001b[39;00m \u001b[38;5;129;01mand\u001b[39;00m \u001b[38;5;129;01mnot\u001b[39;00m kw):\n",
      "\u001b[0;31mTypeError\u001b[0m: the JSON object must be str, bytes or bytearray, not list"
     ]
    }
   ],
   "source": [
    "# Convert the JSON string to a Python dictionary\n",
    "project_details_dict = json.loads(project_details)\n",
    "\n",
    "# Convert the JSON string to a Python dictionary\n",
    "project_details_dict = json.loads(project_details)\n",
    "\n",
    "# Get the value of the dictionary (actual file metadata)\n",
    "files_metadata = project_details_dict['admin@test']\n",
    "print(files_metadata)"
   ]
  }
 ],
 "metadata": {
  "kernelspec": {
   "display_name": "Python 3 (ipykernel)",
   "language": "python",
   "name": "python3"
  },
  "language_info": {
   "codemirror_mode": {
    "name": "ipython",
    "version": 3
   },
   "file_extension": ".py",
   "mimetype": "text/x-python",
   "name": "python",
   "nbconvert_exporter": "python",
   "pygments_lexer": "ipython3",
   "version": "3.9.21"
  }
 },
 "nbformat": 4,
 "nbformat_minor": 5
}
