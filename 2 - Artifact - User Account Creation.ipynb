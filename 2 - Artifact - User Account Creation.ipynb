{
 "cells": [
  {
   "cell_type": "markdown",
   "id": "f43de376-bb3c-4f4a-b6c3-eeddbd4cf2ae",
   "metadata": {},
   "source": [
    "**IMPORTANT** \n",
    "\n",
    "- For requirements and initial setup go to https://github.com/OliveiraEdu/OpenScience/Readme.md;\n",
    "- To execute the notebook run all cells."
   ]
  },
  {
   "attachments": {},
   "cell_type": "markdown",
   "id": "335e6bc9-be10-4431-ba0d-fa83ba7b40fc",
   "metadata": {},
   "source": [
    "# Notebook 2 - Open Science Platform - User Account Creation"
   ]
  },
  {
   "cell_type": "markdown",
   "id": "c2b074d9-3edc-410d-9972-222d9cbb551f",
   "metadata": {},
   "source": [
    "## Activities\n",
    "\n",
    "1 - Deploys a smart contract into the Iroha 1 blockchain for account creation;\n",
    "\n",
    "2 - Creates a user account into the blockchain;\n",
    "\n",
    "3 - Queries the blockchain to confirm the succesful creation of the account;\n",
    "\n",
    "4 - Deploys a smart contract into the Iroha 1 blockchain for details (attributes) setting;\n",
    "\n",
    "5 - Sets details for the user account;\n",
    "\n",
    "6 - Queries the blockchain again to confirm the succesfull details setting.\n",
    "\n",
    "User accounts and their respective attributes are randomly picked, every account succesfully created is dumped to `datasets/accounts.json` for later use and evidence collection.  "
   ]
  },
  {
   "cell_type": "code",
   "execution_count": 10,
   "id": "4a7fb0ca-47eb-4483-a66a-46078e7ad7a2",
   "metadata": {},
   "outputs": [],
   "source": [
    "from name_generator import left, right\n",
    "from utilities import *\n",
    "from dump_to_json import *\n",
    "from iroha_helper import *\n",
    "from new_helper import extract_account_metadata_cid_from_data, process_raw_data, load_variable\n",
    "from loguru import logger"
   ]
  },
  {
   "cell_type": "code",
   "execution_count": 11,
   "id": "5dd63bcb",
   "metadata": {},
   "outputs": [],
   "source": [
    "DOMAIN = \"test\""
   ]
  },
  {
   "cell_type": "markdown",
   "id": "2fa9cb45-0eae-48fd-8b33-d2e54ce432ca",
   "metadata": {},
   "source": [
    "1 - Loads the smart contract hash for account creation into the Iroha 1 blockchain."
   ]
  },
  {
   "cell_type": "code",
   "execution_count": 12,
   "id": "8a792157-7834-4fad-8a63-dd2a8835a0a4",
   "metadata": {},
   "outputs": [
    {
     "name": "stderr",
     "output_type": "stream",
     "text": [
      "\u001b[32m2025-02-20 12:36:27.579\u001b[0m | \u001b[32m\u001b[1mSUCCESS \u001b[0m | \u001b[36mnew_helper\u001b[0m:\u001b[36mload_variable\u001b[0m:\u001b[36m317\u001b[0m - \u001b[32m\u001b[1mVariable 'Create Account Hash' successfully loaded from temp/Create Account Hash.json\u001b[0m\n",
      "\u001b[32m2025-02-20 12:36:27.581\u001b[0m | \u001b[1mINFO    \u001b[0m | \u001b[36m__main__\u001b[0m:\u001b[36m<module>\u001b[0m:\u001b[36m3\u001b[0m - \u001b[1mb'ea82bfd4d4410e5bf81677f20af87196c90af7e1b8616d573d38359207a30422'\u001b[0m\n"
     ]
    }
   ],
   "source": [
    "# Loading the variable from JSON\n",
    "create_account_contract_hash = load_variable(\"Create Account Hash\")\n",
    "logger.info(create_account_contract_hash)\n"
   ]
  },
  {
   "cell_type": "markdown",
   "id": "0d4d0006-0547-439a-88aa-0606da914b3a",
   "metadata": {},
   "source": [
    "2 - Creates a user account into the blockchain."
   ]
  },
  {
   "cell_type": "code",
   "execution_count": 13,
   "id": "aebf801c-e827-4b30-a9ad-3db2207a793d",
   "metadata": {},
   "outputs": [
    {
     "name": "stderr",
     "output_type": "stream",
     "text": [
      "\u001b[32m2025-02-20 12:36:27.630\u001b[0m | \u001b[1mINFO    \u001b[0m | \u001b[36m__main__\u001b[0m:\u001b[36m<module>\u001b[0m:\u001b[36m13\u001b[0m - \u001b[1mUser Role: author\u001b[0m\n",
      "\u001b[32m2025-02-20 12:36:27.632\u001b[0m | \u001b[1mINFO    \u001b[0m | \u001b[36m__main__\u001b[0m:\u001b[36m<module>\u001b[0m:\u001b[36m24\u001b[0m - \u001b[1mCreating account with name: jolly_noether\u001b[0m\n",
      "\u001b[32m2025-02-20 12:36:27.634\u001b[0m | \u001b[34m\u001b[1mDEBUG   \u001b[0m | \u001b[36mintegration_helpers\u001b[0m:\u001b[36mtracer\u001b[0m:\u001b[36m35\u001b[0m - \u001b[34m\u001b[1m\tEntering \"get_engine_receipts_address\"\u001b[0m\n",
      "\u001b[32m2025-02-20 12:36:27.655\u001b[0m | \u001b[1mINFO    \u001b[0m | \u001b[36mintegration_helpers\u001b[0m:\u001b[36mget_engine_receipts_address\u001b[0m:\u001b[36m96\u001b[0m - \u001b[1mRetrieved contract address for transaction hash: b'ea82bfd4d4410e5bf81677f20af87196c90af7e1b8616d573d38359207a30422'\u001b[0m\n",
      "\u001b[32m2025-02-20 12:36:27.658\u001b[0m | \u001b[34m\u001b[1mDEBUG   \u001b[0m | \u001b[36mintegration_helpers\u001b[0m:\u001b[36mget_engine_receipts_address\u001b[0m:\u001b[36m97\u001b[0m - \u001b[34m\u001b[1mContract address: EAA641C8CF286241F52BCD3BFA4407D309A14CEF\u001b[0m\n",
      "\u001b[32m2025-02-20 12:36:27.660\u001b[0m | \u001b[34m\u001b[1mDEBUG   \u001b[0m | \u001b[36mintegration_helpers\u001b[0m:\u001b[36mtracer\u001b[0m:\u001b[36m37\u001b[0m - \u001b[34m\u001b[1m\tLeaving \"get_engine_receipts_address\"\u001b[0m\n",
      "\u001b[32m2025-02-20 12:36:27.661\u001b[0m | \u001b[34m\u001b[1mDEBUG   \u001b[0m | \u001b[36mintegration_helpers\u001b[0m:\u001b[36mtracer\u001b[0m:\u001b[36m35\u001b[0m - \u001b[34m\u001b[1m\tEntering \"create_user_account\"\u001b[0m\n",
      "2025-02-20 12:36:27,674 - INFO - ('ENOUGH_SIGNATURES_COLLECTED', 9, 0)\n",
      "2025-02-20 12:36:28,713 - INFO - ('STATEFUL_VALIDATION_SUCCESS', 3, 0)\n",
      "2025-02-20 12:36:28,724 - INFO - ('COMMITTED', 5, 0)\n",
      "\u001b[32m2025-02-20 12:36:28.728\u001b[0m | \u001b[1mINFO    \u001b[0m | \u001b[36mdump_to_json\u001b[0m:\u001b[36mdump_to_json_ld\u001b[0m:\u001b[36m82\u001b[0m - \u001b[1mAppended new entry to file 'logs/accounts.json', current total entries: 1\u001b[0m\n",
      "\u001b[32m2025-02-20 12:36:28.730\u001b[0m | \u001b[34m\u001b[1mDEBUG   \u001b[0m | \u001b[36mintegration_helpers\u001b[0m:\u001b[36mtracer\u001b[0m:\u001b[36m37\u001b[0m - \u001b[34m\u001b[1m\tLeaving \"create_user_account\"\u001b[0m\n"
     ]
    }
   ],
   "source": [
    "user_private_key = IrohaCrypto.private_key()\n",
    "user_public_key = IrohaCrypto.derive_public_key(user_private_key).decode(\"utf-8\")\n",
    "\n",
    "# - Random generated synthetic user data \n",
    "user_account_left = random.choice(left)\n",
    "user_account_right = random.choice(right)\n",
    "user_account_short_id = f\"{user_account_left}_{user_account_right}\"\n",
    "user_account_full_name = ((f\"{user_account_left}\").capitalize())+\" \"+((f\"{user_account_right}\").capitalize())\n",
    "user_account_email = f\"{user_account_left}_{user_account_right}\"+\"@email.com\"\n",
    "user_account_institution = print_random_from_second_column(\"datasets/world-universities.csv\")\n",
    "user_account_orcid = generate_orcid()\n",
    "user_role = set_random_role()\n",
    "logger.info(f\"User Role: {user_role}\")\n",
    "\n",
    "user_account = UserAccount(\n",
    "    account_id=f\"{user_account_short_id}@{DOMAIN}\",\n",
    "    full_name=user_account_full_name,\n",
    "    email=user_account_email,\n",
    "    institution=user_account_institution,\n",
    "    orcid=user_account_orcid,\n",
    "    role=user_role,\n",
    "    public_key=user_public_key,\n",
    ")\n",
    "logger.info(f\"Creating account with name: {user_account_short_id}\")\n",
    "\n",
    "# - Create account\n",
    "create_account_contract_address = integration_helpers.get_engine_receipts_address(create_account_contract_hash)\n",
    "create_user_account(create_account_contract_address, user_account_short_id, DOMAIN, user_public_key, user_account)"
   ]
  },
  {
   "cell_type": "markdown",
   "id": "bd8efb2f-5187-4bb6-8da5-7651cacc62ba",
   "metadata": {},
   "source": [
    "3 - Queries the blockchain to confirm the succesful creation of the account."
   ]
  },
  {
   "cell_type": "code",
   "execution_count": 14,
   "id": "e1dcb188-90e5-4e36-a8b8-f6a13552ed7c",
   "metadata": {},
   "outputs": [
    {
     "name": "stderr",
     "output_type": "stream",
     "text": [
      "\u001b[32m2025-02-20 12:36:28.746\u001b[0m | \u001b[34m\u001b[1mDEBUG   \u001b[0m | \u001b[36mintegration_helpers\u001b[0m:\u001b[36mtracer\u001b[0m:\u001b[36m35\u001b[0m - \u001b[34m\u001b[1m\tEntering \"get_account\"\u001b[0m\n",
      "2025-02-20 12:36:28,748 - WARNING - create_account_contract_address: EAA641C8CF286241F52BCD3BFA4407D309A14CEF\n",
      "2025-02-20 12:36:28,762 - INFO - ('STATELESS_VALIDATION_SUCCESS', 1, 0)\n",
      "2025-02-20 12:36:28,764 - INFO - ('ENOUGH_SIGNATURES_COLLECTED', 9, 0)\n",
      "2025-02-20 12:36:31,748 - INFO - ('STATEFUL_VALIDATION_SUCCESS', 3, 0)\n",
      "2025-02-20 12:36:31,758 - INFO - ('COMMITTED', 5, 0)\n",
      "2025-02-20 12:36:31,759 - WARNING - Account Data: {'address': 'EAA641C8CF286241F52BCD3BFA4407D309A14CEF', 'hex_hash': 'f3532a7156ca3c7f657a360ad542f3d65354c1244a9ff6782168246a908e878f', 'timestamp': 1740054991759}\n",
      "\u001b[32m2025-02-20 12:36:31.760\u001b[0m | \u001b[34m\u001b[1mDEBUG   \u001b[0m | \u001b[36mintegration_helpers\u001b[0m:\u001b[36mtracer\u001b[0m:\u001b[36m35\u001b[0m - \u001b[34m\u001b[1m\tEntering \"append_to_json_file\"\u001b[0m\n",
      "2025-02-20 12:36:31,764 - INFO - Appended data under 'jolly_noether@test' in logs/account_data.json\n",
      "\u001b[32m2025-02-20 12:36:31.767\u001b[0m | \u001b[34m\u001b[1mDEBUG   \u001b[0m | \u001b[36mintegration_helpers\u001b[0m:\u001b[36mtracer\u001b[0m:\u001b[36m37\u001b[0m - \u001b[34m\u001b[1m\tLeaving \"append_to_json_file\"\u001b[0m\n",
      "\u001b[32m2025-02-20 12:36:31.769\u001b[0m | \u001b[34m\u001b[1mDEBUG   \u001b[0m | \u001b[36mintegration_helpers\u001b[0m:\u001b[36mtracer\u001b[0m:\u001b[36m37\u001b[0m - \u001b[34m\u001b[1m\tLeaving \"get_account\"\u001b[0m\n",
      "\u001b[32m2025-02-20 12:36:31.770\u001b[0m | \u001b[34m\u001b[1mDEBUG   \u001b[0m | \u001b[36mintegration_helpers\u001b[0m:\u001b[36mtracer\u001b[0m:\u001b[36m35\u001b[0m - \u001b[34m\u001b[1m\tEntering \"get_engine_receipts_result\"\u001b[0m\n",
      "\u001b[32m2025-02-20 12:36:31.786\u001b[0m | \u001b[1mINFO    \u001b[0m | \u001b[36mintegration_helpers\u001b[0m:\u001b[36mget_engine_receipts_result\u001b[0m:\u001b[36m139\u001b[0m - \u001b[1mResult data: 000000000000000000000000000000000000000000000000000000000000002000000000000000000000000000000000000000000000000000000000000000a0000000000000000000000000000000000000000000000000000000000000002000000000000000000000000000000000000000000000000000000000000000527b226163636f756e745f6964223a226a6f6c6c795f6e6f65746865724074657374222c22646f6d61696e5f6964223a2274657374222c2271756f72756d223a312c226a736f6e5f64617461223a227b7d227d0000000000000000000000000000\u001b[0m\n",
      "\u001b[32m2025-02-20 12:36:31.788\u001b[0m | \u001b[34m\u001b[1mDEBUG   \u001b[0m | \u001b[36mintegration_helpers\u001b[0m:\u001b[36mget_engine_receipts_result\u001b[0m:\u001b[36m140\u001b[0m - \u001b[34m\u001b[1mResult decoded string: \u0000\u0000\u0000\u0000\u0000\u0000\u0000\u0000\u0000\u0000\u0000\u0000\u0000\u0000\u0000\u0000\u0000\u0000\u0000\u0000\u0000\u0000\u0000\u0000\u0000\u0000\u0000\u0000\u0000\u0000\u0000 \u0000\u0000\u0000\u0000\u0000\u0000\u0000\u0000\u0000\u0000\u0000\u0000\u0000\u0000\u0000\u0000\u0000\u0000\u0000\u0000\u0000\u0000\u0000\u0000\u0000\u0000\u0000\u0000\u0000\u0000\u0000\u0000\u0000\u0000\u0000\u0000\u0000\u0000\u0000\u0000\u0000\u0000\u0000\u0000\u0000\u0000\u0000\u0000\u0000\u0000\u0000\u0000\u0000\u0000\u0000\u0000\u0000\u0000\u0000\u0000\u0000\u0000 \u0000\u0000\u0000\u0000\u0000\u0000\u0000\u0000\u0000\u0000\u0000\u0000\u0000\u0000\u0000\u0000\u0000\u0000\u0000\u0000\u0000\u0000\u0000\u0000\u0000\u0000\u0000\u0000\u0000\u0000\u0000R{\"account_id\":\"jolly_noether@test\",\"domain_id\":\"test\",\"quorum\":1,\"json_data\":\"{}\"}\u0000\u0000\u0000\u0000\u0000\u0000\u0000\u0000\u0000\u0000\u0000\u0000\u0000\u0000\u001b[0m\n",
      "\u001b[32m2025-02-20 12:36:31.790\u001b[0m | \u001b[34m\u001b[1mDEBUG   \u001b[0m | \u001b[36mintegration_helpers\u001b[0m:\u001b[36mtracer\u001b[0m:\u001b[36m37\u001b[0m - \u001b[34m\u001b[1m\tLeaving \"get_engine_receipts_result\"\u001b[0m\n"
     ]
    }
   ],
   "source": [
    "# - Get account info\n",
    "get_account_hash = get_account(create_account_contract_address, user_account_short_id, DOMAIN)\n",
    "address = integration_helpers.get_engine_receipts_result(get_account_hash)"
   ]
  },
  {
   "cell_type": "markdown",
   "id": "860cbd10-6d30-4600-a079-a7b5aa7d9927",
   "metadata": {},
   "source": [
    "4 - Loads the smart contract for details (attributes) setting into the Iroha 1 blockchain ."
   ]
  },
  {
   "cell_type": "code",
   "execution_count": 15,
   "id": "8ea28cb2-e770-4600-8084-b6e009e7d156",
   "metadata": {},
   "outputs": [
    {
     "name": "stderr",
     "output_type": "stream",
     "text": [
      "\u001b[32m2025-02-20 12:36:31.800\u001b[0m | \u001b[32m\u001b[1mSUCCESS \u001b[0m | \u001b[36mnew_helper\u001b[0m:\u001b[36mload_variable\u001b[0m:\u001b[36m317\u001b[0m - \u001b[32m\u001b[1mVariable 'Account Detail Contract Hash' successfully loaded from temp/Account Detail Contract Hash.json\u001b[0m\n",
      "\u001b[32m2025-02-20 12:36:31.802\u001b[0m | \u001b[1mINFO    \u001b[0m | \u001b[36m__main__\u001b[0m:\u001b[36m<module>\u001b[0m:\u001b[36m3\u001b[0m - \u001b[1mb'3f558ff740a962eccf6fcd3d79903cb5328ce832beb888f2d4bdffeea3bdc7bc'\u001b[0m\n"
     ]
    }
   ],
   "source": [
    "# Loading the variable from JSON\n",
    "account_detail_contract_hash = load_variable(\"Account Detail Contract Hash\")\n",
    "logger.info(account_detail_contract_hash)"
   ]
  },
  {
   "cell_type": "markdown",
   "id": "32f29b64-b0fd-4583-952b-ad9a606f4b16",
   "metadata": {},
   "source": [
    "5 - Sets details for the user account:\n",
    "\n",
    "- Full Name\n",
    "- Email\n",
    "- Institution\n",
    "- ORCID\n",
    "- Public key\n",
    "- Role"
   ]
  },
  {
   "cell_type": "code",
   "execution_count": 16,
   "id": "9015a0e4-0166-4dad-863d-897704235fc7",
   "metadata": {},
   "outputs": [
    {
     "name": "stderr",
     "output_type": "stream",
     "text": [
      "\u001b[32m2025-02-20 12:36:31.813\u001b[0m | \u001b[34m\u001b[1mDEBUG   \u001b[0m | \u001b[36mintegration_helpers\u001b[0m:\u001b[36mtracer\u001b[0m:\u001b[36m35\u001b[0m - \u001b[34m\u001b[1m\tEntering \"get_engine_receipts_address\"\u001b[0m\n",
      "\u001b[32m2025-02-20 12:36:31.827\u001b[0m | \u001b[1mINFO    \u001b[0m | \u001b[36mintegration_helpers\u001b[0m:\u001b[36mget_engine_receipts_address\u001b[0m:\u001b[36m96\u001b[0m - \u001b[1mRetrieved contract address for transaction hash: b'3f558ff740a962eccf6fcd3d79903cb5328ce832beb888f2d4bdffeea3bdc7bc'\u001b[0m\n",
      "\u001b[32m2025-02-20 12:36:31.829\u001b[0m | \u001b[34m\u001b[1mDEBUG   \u001b[0m | \u001b[36mintegration_helpers\u001b[0m:\u001b[36mget_engine_receipts_address\u001b[0m:\u001b[36m97\u001b[0m - \u001b[34m\u001b[1mContract address: 03E61119F8C4FFC56025E7431C9F210784A60A63\u001b[0m\n",
      "\u001b[32m2025-02-20 12:36:31.831\u001b[0m | \u001b[34m\u001b[1mDEBUG   \u001b[0m | \u001b[36mintegration_helpers\u001b[0m:\u001b[36mtracer\u001b[0m:\u001b[36m37\u001b[0m - \u001b[34m\u001b[1m\tLeaving \"get_engine_receipts_address\"\u001b[0m\n",
      "\u001b[32m2025-02-20 12:36:31.832\u001b[0m | \u001b[34m\u001b[1mDEBUG   \u001b[0m | \u001b[36mintegration_helpers\u001b[0m:\u001b[36mtracer\u001b[0m:\u001b[36m35\u001b[0m - \u001b[34m\u001b[1m\tEntering \"process_account\"\u001b[0m\n",
      "2025-02-20 12:36:31,834 - INFO - Processing account: jolly_noether@test\n",
      "2025-02-20 12:36:31,836 - INFO - User Account Metadata: {'@type': 'foaf:Person', 'foaf:name': 'Jolly Noether', 'foaf:mbox': 'jolly_noether@email.com', 'foaf:organization': {'@type': 'foaf:Organization', 'foaf:name': 'Morris College'}, 'schema:identifier': {'@type': 'PropertyValue', 'propertyID': 'ORCID', 'value': '9833-6461-2701-X'}, 'foaf:holdsAccount': {'schema:identifier': 'jolly_noether@test', 'schema:roleName': 'author', 'schema:publicKey': '93b24e83e5a01970f786207eb4d3d194731fed63daf76ed9ee31c1ac83310ab6'}}\n",
      "\u001b[32m2025-02-20 12:36:31.863\u001b[0m | \u001b[32m\u001b[1mSUCCESS \u001b[0m | \u001b[36mipfs_functions\u001b[0m:\u001b[36mupload_json_to_ipfs\u001b[0m:\u001b[36m42\u001b[0m - \u001b[32m\u001b[1mSuccess uploading JSON to IPFS. CID: QmSVWKfCzvnpKNgx4SJgbNefDzY1ECf8Y8vHPXraCcspzB\u001b[0m\n",
      "2025-02-20 12:36:31,864 - INFO - User Account Metadata CID: QmSVWKfCzvnpKNgx4SJgbNefDzY1ECf8Y8vHPXraCcspzB\n",
      "\u001b[32m2025-02-20 12:36:31.865\u001b[0m | \u001b[34m\u001b[1mDEBUG   \u001b[0m | \u001b[36mintegration_helpers\u001b[0m:\u001b[36mtracer\u001b[0m:\u001b[36m35\u001b[0m - \u001b[34m\u001b[1m\tEntering \"set_account_detail\"\u001b[0m\n",
      "2025-02-20 12:36:31,876 - INFO - None\n",
      "2025-02-20 12:36:31,878 - INFO - ('ENOUGH_SIGNATURES_COLLECTED', 9, 0)\n",
      "2025-02-20 12:36:34,796 - INFO - ('STATEFUL_VALIDATION_SUCCESS', 3, 0)\n",
      "2025-02-20 12:36:34,807 - INFO - ('COMMITTED', 5, 0)\n",
      "\u001b[32m2025-02-20 12:36:34.810\u001b[0m | \u001b[34m\u001b[1mDEBUG   \u001b[0m | \u001b[36mintegration_helpers\u001b[0m:\u001b[36mtracer\u001b[0m:\u001b[36m35\u001b[0m - \u001b[34m\u001b[1m\tEntering \"get_engine_receipts_result\"\u001b[0m\n",
      "\u001b[32m2025-02-20 12:36:34.843\u001b[0m | \u001b[1mINFO    \u001b[0m | \u001b[36mintegration_helpers\u001b[0m:\u001b[36mget_engine_receipts_result\u001b[0m:\u001b[36m139\u001b[0m - \u001b[1mResult data: 000000000000000000000000000000000000000000000000000000000000002000000000000000000000000000000000000000000000000000000000000000200000000000000000000000000000000000000000000000000000000000000001\u001b[0m\n",
      "\u001b[32m2025-02-20 12:36:34.844\u001b[0m | \u001b[34m\u001b[1mDEBUG   \u001b[0m | \u001b[36mintegration_helpers\u001b[0m:\u001b[36mget_engine_receipts_result\u001b[0m:\u001b[36m140\u001b[0m - \u001b[34m\u001b[1mResult decoded string: \u0000\u0000\u0000\u0000\u0000\u0000\u0000\u0000\u0000\u0000\u0000\u0000\u0000\u0000\u0000\u0000\u0000\u0000\u0000\u0000\u0000\u0000\u0000\u0000\u0000\u0000\u0000\u0000\u0000\u0000\u0000 \u0000\u0000\u0000\u0000\u0000\u0000\u0000\u0000\u0000\u0000\u0000\u0000\u0000\u0000\u0000\u0000\u0000\u0000\u0000\u0000\u0000\u0000\u0000\u0000\u0000\u0000\u0000\u0000\u0000\u0000\u0000 \u0000\u0000\u0000\u0000\u0000\u0000\u0000\u0000\u0000\u0000\u0000\u0000\u0000\u0000\u0000\u0000\u0000\u0000\u0000\u0000\u0000\u0000\u0000\u0000\u0000\u0000\u0000\u0000\u0000\u0000\u0000\u0001\u001b[0m\n",
      "\u001b[32m2025-02-20 12:36:34.846\u001b[0m | \u001b[34m\u001b[1mDEBUG   \u001b[0m | \u001b[36mintegration_helpers\u001b[0m:\u001b[36mtracer\u001b[0m:\u001b[36m37\u001b[0m - \u001b[34m\u001b[1m\tLeaving \"get_engine_receipts_result\"\u001b[0m\n",
      "\u001b[32m2025-02-20 12:36:34.848\u001b[0m | \u001b[34m\u001b[1mDEBUG   \u001b[0m | \u001b[36mintegration_helpers\u001b[0m:\u001b[36mtracer\u001b[0m:\u001b[36m37\u001b[0m - \u001b[34m\u001b[1m\tLeaving \"set_account_detail\"\u001b[0m\n",
      "\u001b[32m2025-02-20 12:36:34.850\u001b[0m | \u001b[34m\u001b[1mDEBUG   \u001b[0m | \u001b[36mintegration_helpers\u001b[0m:\u001b[36mtracer\u001b[0m:\u001b[36m37\u001b[0m - \u001b[34m\u001b[1m\tLeaving \"process_account\"\u001b[0m\n"
     ]
    }
   ],
   "source": [
    "address = integration_helpers.get_engine_receipts_address(account_detail_contract_hash)\n",
    "\n",
    "process_account(address, f\"{user_account_short_id}@{DOMAIN}\")"
   ]
  },
  {
   "cell_type": "markdown",
   "id": "fb6a9a37-7201-407b-b643-1f0acf0894b0",
   "metadata": {},
   "source": [
    "6 - Queries the blockchain again to confirm the succesfull details setting."
   ]
  },
  {
   "cell_type": "code",
   "execution_count": 17,
   "id": "2e45a234",
   "metadata": {},
   "outputs": [
    {
     "name": "stderr",
     "output_type": "stream",
     "text": [
      "\u001b[32m2025-02-20 12:36:34.861\u001b[0m | \u001b[34m\u001b[1mDEBUG   \u001b[0m | \u001b[36mintegration_helpers\u001b[0m:\u001b[36mtracer\u001b[0m:\u001b[36m35\u001b[0m - \u001b[34m\u001b[1m\tEntering \"get_account\"\u001b[0m\n",
      "2025-02-20 12:36:34,863 - WARNING - create_account_contract_address: EAA641C8CF286241F52BCD3BFA4407D309A14CEF\n",
      "2025-02-20 12:36:34,877 - INFO - ('STATELESS_VALIDATION_SUCCESS', 1, 0)\n",
      "2025-02-20 12:36:34,879 - INFO - ('ENOUGH_SIGNATURES_COLLECTED', 9, 0)\n",
      "2025-02-20 12:36:37,837 - INFO - ('STATEFUL_VALIDATION_SUCCESS', 3, 0)\n",
      "2025-02-20 12:36:37,847 - INFO - ('COMMITTED', 5, 0)\n",
      "2025-02-20 12:36:37,851 - WARNING - Account Data: {'address': 'EAA641C8CF286241F52BCD3BFA4407D309A14CEF', 'hex_hash': '7f59fc1eebaed979089816061245eccef9aea82ad5cc28297de10f72cfcbe023', 'timestamp': 1740054997850}\n",
      "\u001b[32m2025-02-20 12:36:37.852\u001b[0m | \u001b[34m\u001b[1mDEBUG   \u001b[0m | \u001b[36mintegration_helpers\u001b[0m:\u001b[36mtracer\u001b[0m:\u001b[36m35\u001b[0m - \u001b[34m\u001b[1m\tEntering \"append_to_json_file\"\u001b[0m\n",
      "2025-02-20 12:36:37,856 - INFO - Appended data under 'jolly_noether@test' in logs/account_data.json\n",
      "\u001b[32m2025-02-20 12:36:37.857\u001b[0m | \u001b[34m\u001b[1mDEBUG   \u001b[0m | \u001b[36mintegration_helpers\u001b[0m:\u001b[36mtracer\u001b[0m:\u001b[36m37\u001b[0m - \u001b[34m\u001b[1m\tLeaving \"append_to_json_file\"\u001b[0m\n",
      "\u001b[32m2025-02-20 12:36:37.859\u001b[0m | \u001b[34m\u001b[1mDEBUG   \u001b[0m | \u001b[36mintegration_helpers\u001b[0m:\u001b[36mtracer\u001b[0m:\u001b[36m37\u001b[0m - \u001b[34m\u001b[1m\tLeaving \"get_account\"\u001b[0m\n",
      "\u001b[32m2025-02-20 12:36:37.863\u001b[0m | \u001b[34m\u001b[1mDEBUG   \u001b[0m | \u001b[36mintegration_helpers\u001b[0m:\u001b[36mtracer\u001b[0m:\u001b[36m35\u001b[0m - \u001b[34m\u001b[1m\tEntering \"get_engine_receipts_result\"\u001b[0m\n",
      "\u001b[32m2025-02-20 12:36:37.882\u001b[0m | \u001b[1mINFO    \u001b[0m | \u001b[36mintegration_helpers\u001b[0m:\u001b[36mget_engine_receipts_result\u001b[0m:\u001b[36m139\u001b[0m - \u001b[1mResult data: 00000000000000000000000000000000000000000000000000000000000000200000000000000000000000000000000000000000000000000000000000000100000000000000000000000000000000000000000000000000000000000000002000000000000000000000000000000000000000000000000000000000000000b07b226163636f756e745f6964223a226a6f6c6c795f6e6f65746865724074657374222c22646f6d61696e5f6964223a2274657374222c2271756f72756d223a312c226a736f6e5f64617461223a227b5c2261646d696e40746573745c223a207b5c226163636f756e745f6d657461646174615f6369645c223a205c22516d5356574b66437a766e704b4e677834534a67624e6566447a5931454366385938764850587261436373707a425c227d7d227d00000000000000000000000000000000\u001b[0m\n",
      "\u001b[32m2025-02-20 12:36:37.883\u001b[0m | \u001b[34m\u001b[1mDEBUG   \u001b[0m | \u001b[36mintegration_helpers\u001b[0m:\u001b[36mget_engine_receipts_result\u001b[0m:\u001b[36m140\u001b[0m - \u001b[34m\u001b[1mResult decoded string: \u0000\u0000\u0000\u0000\u0000\u0000\u0000\u0000\u0000\u0000\u0000\u0000\u0000\u0000\u0000\u0000\u0000\u0000\u0000\u0000\u0000\u0000\u0000\u0000\u0000\u0000\u0000\u0000\u0000\u0000\u0000 \u0000\u0000\u0000\u0000\u0000\u0000\u0000\u0000\u0000\u0000\u0000\u0000\u0000\u0000\u0000\u0000\u0000\u0000\u0000\u0000\u0000\u0000\u0000\u0000\u0000\u0000\u0000\u0000\u0000\u0000\u0001\u0000\u0000\u0000\u0000\u0000\u0000\u0000\u0000\u0000\u0000\u0000\u0000\u0000\u0000\u0000\u0000\u0000\u0000\u0000\u0000\u0000\u0000\u0000\u0000\u0000\u0000\u0000\u0000\u0000\u0000\u0000\u0000 \u0000\u0000\u0000\u0000\u0000\u0000\u0000\u0000\u0000\u0000\u0000\u0000\u0000\u0000\u0000\u0000\u0000\u0000\u0000\u0000\u0000\u0000\u0000\u0000\u0000\u0000\u0000\u0000\u0000\u0000\u0000{\"account_id\":\"jolly_noether@test\",\"domain_id\":\"test\",\"quorum\":1,\"json_data\":\"{\\\"admin@test\\\": {\\\"account_metadata_cid\\\": \\\"QmSVWKfCzvnpKNgx4SJgbNefDzY1ECf8Y8vHPXraCcspzB\\\"}}\"}\u0000\u0000\u0000\u0000\u0000\u0000\u0000\u0000\u0000\u0000\u0000\u0000\u0000\u0000\u0000\u0000\u001b[0m\n",
      "\u001b[32m2025-02-20 12:36:37.885\u001b[0m | \u001b[34m\u001b[1mDEBUG   \u001b[0m | \u001b[36mintegration_helpers\u001b[0m:\u001b[36mtracer\u001b[0m:\u001b[36m37\u001b[0m - \u001b[34m\u001b[1m\tLeaving \"get_engine_receipts_result\"\u001b[0m\n",
      "\u001b[32m2025-02-20 12:36:37.886\u001b[0m | \u001b[34m\u001b[1mDEBUG   \u001b[0m | \u001b[36mintegration_helpers\u001b[0m:\u001b[36mtracer\u001b[0m:\u001b[36m35\u001b[0m - \u001b[34m\u001b[1m\tEntering \"process_raw_data\"\u001b[0m\n",
      "\u001b[32m2025-02-20 12:36:37.887\u001b[0m | \u001b[34m\u001b[1mDEBUG   \u001b[0m | \u001b[36mintegration_helpers\u001b[0m:\u001b[36mtracer\u001b[0m:\u001b[36m35\u001b[0m - \u001b[34m\u001b[1m\tEntering \"extract_metadata_from_data\"\u001b[0m\n",
      "\u001b[32m2025-02-20 12:36:37.888\u001b[0m | \u001b[34m\u001b[1mDEBUG   \u001b[0m | \u001b[36mintegration_helpers\u001b[0m:\u001b[36mtracer\u001b[0m:\u001b[36m37\u001b[0m - \u001b[34m\u001b[1m\tLeaving \"extract_metadata_from_data\"\u001b[0m\n",
      "\u001b[32m2025-02-20 12:36:37.889\u001b[0m | \u001b[1mINFO    \u001b[0m | \u001b[36mnew_helper\u001b[0m:\u001b[36mprocess_raw_data\u001b[0m:\u001b[36m255\u001b[0m - \u001b[1mUser Metadata CID: QmSVWKfCzvnpKNgx4SJgbNefDzY1ECf8Y8vHPXraCcspzB\u001b[0m\n",
      "\u001b[32m2025-02-20 12:36:37.893\u001b[0m | \u001b[1mINFO    \u001b[0m | \u001b[36mnew_helper\u001b[0m:\u001b[36mprocess_raw_data\u001b[0m:\u001b[36m262\u001b[0m - \u001b[1m'project_id' not found or an error occurred.\u001b[0m\n",
      "\u001b[32m2025-02-20 12:36:37.897\u001b[0m | \u001b[34m\u001b[1mDEBUG   \u001b[0m | \u001b[36mintegration_helpers\u001b[0m:\u001b[36mtracer\u001b[0m:\u001b[36m37\u001b[0m - \u001b[34m\u001b[1m\tLeaving \"process_raw_data\"\u001b[0m\n"
     ]
    }
   ],
   "source": [
    "# - Get account info\n",
    "get_account_hash = get_account(create_account_contract_address, user_account_short_id, DOMAIN)\n",
    "details = integration_helpers.get_engine_receipts_result(get_account_hash)\n",
    "\n",
    "# Process the raw data\n",
    "account_metadata_cid, project_id = process_raw_data(details)"
   ]
  },
  {
   "cell_type": "markdown",
   "id": "ad702ee6-5ccb-4613-b300-52687622950d",
   "metadata": {},
   "source": [
    "7 - Retrieves User Metadata (JSON-LD formatted) from IPFS"
   ]
  },
  {
   "cell_type": "code",
   "execution_count": 18,
   "id": "5e2c8878-b164-4681-a428-56068fc6d248",
   "metadata": {},
   "outputs": [
    {
     "name": "stderr",
     "output_type": "stream",
     "text": [
      "\u001b[32m2025-02-20 12:36:37.917\u001b[0m | \u001b[32m\u001b[1mSUCCESS \u001b[0m | \u001b[36mipfs_functions\u001b[0m:\u001b[36mdownload_json_from_ipfs\u001b[0m:\u001b[36m52\u001b[0m - \u001b[32m\u001b[1mSuccess downloading JSON from IPFS. Metadata: {'@type': 'foaf:Person', 'foaf:holdsAccount': {'schema:identifier': 'jolly_noether@test', 'schema:publicKey': '93b24e83e5a01970f786207eb4d3d194731fed63daf76ed9ee31c1ac83310ab6', 'schema:roleName': 'author'}, 'foaf:mbox': 'jolly_noether@email.com', 'foaf:name': 'Jolly Noether', 'foaf:organization': {'@type': 'foaf:Organization', 'foaf:name': 'Morris College'}, 'schema:identifier': {'@type': 'PropertyValue', 'propertyID': 'ORCID', 'value': '9833-6461-2701-X'}}\u001b[0m\n"
     ]
    }
   ],
   "source": [
    "user_metadata = download_json_from_ipfs(account_metadata_cid)\n"
   ]
  }
 ],
 "metadata": {
  "kernelspec": {
   "display_name": "Python 3 (ipykernel)",
   "language": "python",
   "name": "python3"
  },
  "language_info": {
   "codemirror_mode": {
    "name": "ipython",
    "version": 3
   },
   "file_extension": ".py",
   "mimetype": "text/x-python",
   "name": "python",
   "nbconvert_exporter": "python",
   "pygments_lexer": "ipython3",
   "version": "3.9.21"
  }
 },
 "nbformat": 4,
 "nbformat_minor": 5
}
