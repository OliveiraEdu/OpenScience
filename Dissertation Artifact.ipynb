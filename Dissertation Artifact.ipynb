{
 "cells": [
  {
   "cell_type": "markdown",
   "id": "11965914-6a6a-43b4-a793-01a3eda28617",
   "metadata": {},
   "source": [
    "# Artifact"
   ]
  },
  {
   "cell_type": "markdown",
   "id": "0f965815-8625-49cb-9627-267ef1a19069",
   "metadata": {},
   "source": [
    "** For requirements and initial setup go to https://github.com/OliveiraEdu/OpenScience/Readme.md **"
   ]
  },
  {
   "cell_type": "markdown",
   "id": "8d55fe4f-d507-4c5f-9428-d2231aec20cf",
   "metadata": {},
   "source": [
    "1 - Iroha Blockchain Testnet"
   ]
  },
  {
   "cell_type": "markdown",
   "id": "c2b074d9-3edc-410d-9972-222d9cbb551f",
   "metadata": {},
   "source": [
    "1.1 -  General modules and definitions for authentication, connection, status and error tracing."
   ]
  },
  {
   "cell_type": "code",
   "execution_count": 2,
   "id": "b10fcc4b-997b-42b8-abf0-3323a0dfa08a",
   "metadata": {},
   "outputs": [],
   "source": [
    "import os\n",
    "import sys\n",
    "import binascii\n",
    "from grpc import RpcError, StatusCode\n",
    "import inspect\n",
    "from iroha import Iroha, IrohaGrpc, IrohaCrypto\n",
    "from iroha.primitive_pb2 import can_call_engine\n",
    "from functools import wraps\n",
    "\n",
    "IROHA_HOST_ADDR = os.getenv('IROHA_HOST_ADDR', '10.0.0.100')\n",
    "IROHA_PORT = os.getenv('IROHA_PORT', '50051')\n",
    "ADMIN_ACCOUNT_ID = os.getenv('ADMIN_ACCOUNT_ID', 'admin@test')\n",
    "ADMIN_PRIVATE_KEY = os.getenv('ADMIN_PRIVATE_KEY', 'f101537e319568c765b2cc89698325604991dca57b9716b58016b253506cab70')\n",
    "\n",
    "iroha = Iroha(ADMIN_ACCOUNT_ID)\n",
    "net = IrohaGrpc(f'{IROHA_HOST_ADDR}:{IROHA_PORT}')\n",
    "\n",
    "def trace(func):\n",
    "    @wraps(func)\n",
    "    def tracer(*args, **kwargs):\n",
    "        name = func.__name__\n",
    "        stack_size = int(len(inspect.stack(0)) / 2)\n",
    "        indent = stack_size * '\\t'\n",
    "        print(f'{indent} > Entering \"{name}\": args: {args}')\n",
    "        result = func(*args, **kwargs)\n",
    "        print(f'{indent} < Leaving \"{name}\"')\n",
    "        return result\n",
    "    return tracer\n",
    "\n",
    "@trace\n",
    "def send_transaction_and_print_status(transaction):\n",
    "    hex_hash = binascii.hexlify(IrohaCrypto.hash(transaction))\n",
    "    creator_id = transaction.payload.reduced_payload.creator_account_id\n",
    "    commands = get_commands_from_tx(transaction)\n",
    "    print(f'Transaction \"{commands}\", hash = {hex_hash}, creator = {creator_id}')\n",
    "    net.send_tx(transaction)\n",
    "    handle_transaction_errors(transaction)\n",
    "\n",
    "def handle_transaction_errors(transaction):\n",
    "    for i, status in enumerate(net.tx_status_stream(transaction)):\n",
    "        status_name, status_code, error_code = status\n",
    "        print(f\"{i}: status_name={status_name}, status_code={status_code}, error_code={error_code}\")\n",
    "        if status_name in ('STATEFUL_VALIDATION_FAILED', 'STATELESS_VALIDATION_FAILED', 'REJECTED'):\n",
    "            handle_error(status_name, error_code, transaction)\n",
    "\n",
    "def handle_error(status_name, error_code, transaction):\n",
    "    error_messages = {\n",
    "        'STATEFUL_VALIDATION_FAILED': 'Stateful validation failed',\n",
    "        'STATELESS_VALIDATION_FAILED': 'Stateless validation failed',\n",
    "        'REJECTED': 'Transaction rejected'\n",
    "    }\n",
    "    error_message = error_messages.get(status_name, 'Unknown error') + f': {error_code}'\n",
    "    raise RuntimeError(f\"{status_name} failed on tx: {transaction} due to reason {error_code}: {error_message}\")\n",
    "\n",
    "def get_commands_from_tx(transaction):\n",
    "    commands_from_tx = []\n",
    "    for command in transaction.payload.reduced_payload.__getattribute__(\"commands\"):\n",
    "        listed_fields = command.ListFields()\n",
    "        commands_from_tx.append(listed_fields[0][0].name)\n",
    "    return commands_from_tx"
   ]
  },
  {
   "cell_type": "markdown",
   "id": "4621d9bd-0196-4989-83d2-d1bac9ebeb77",
   "metadata": {},
   "source": [
    "1.2 - Queries -Executing a sequence of queries into the iroha blockchain as the admin user."
   ]
  },
  {
   "cell_type": "markdown",
   "id": "2214a1c3-aeef-4805-b15b-7fefcb9603e4",
   "metadata": {},
   "source": [
    "1.2.1 - Get Account Transactions"
   ]
  },
  {
   "cell_type": "code",
   "execution_count": 3,
   "id": "4372bea2-3703-4e6a-a738-e7cdae3dd17d",
   "metadata": {},
   "outputs": [
    {
     "name": "stdout",
     "output_type": "stream",
     "text": [
      "query_hash: \"5e08479ecc7af3e75275ecf7dc4ffdd538f2f23361dff3e24ebdf191314bc8f8\"\n",
      "transactions_page_response {\n",
      "  transactions {\n",
      "    payload {\n",
      "      reduced_payload {\n",
      "        commands {\n",
      "          call_engine {\n",
      "            caller: \"admin@test\"\n",
      "            input: \"608060405234801561001057600080fd5b5073a6abc17819738299b3b2c1ce46d55c74f04e290c6000806101000a81548173ffffffffffffffffffffffffffffffffffffffff021916908373ffffffffffffffffffffffffffffffffffffffff16021790555061096b806100746000396000f3fe608060405234801561001057600080fd5b50600436106100415760003560e01c80634518f6b314610046578063bc53c0c414610076578063d4e804ab146100a6575b600080fd5b610060600480360381019061005b9190610486565b6100c4565b60405161006d91906106ad565b60405180910390f35b610090600480360381019061008b91906104c7565b610230565b60405161009d91906106ad565b60405180910390f35b6100ae6103fa565b6040516100bb9190610692565b60405180910390f35b60606000826040516024016100d991906106cf565b6040516020818303038152906040527f4518f6b3000000000000000000000000000000000000000000000000000000007bffffffffffffffffffffffffffffffffffffffffffffffffffffffff19166020820180517bffffffffffffffffffffffffffffffffffffffffffffffffffffffff8381831617835250505050905060008060008054906101000a900473ffffffffffffffffffffffffffffffffffffffff1673ffffffffffffffffffffffffffffffffffffffff16836040516101a09190610664565b600060405180830381855af49150503d80600081146101db576040519150601f19603f3d011682016040523d82523d6000602084013e6101e0565b606091505b509150915081610225576040517f08c379a000000000000000000000000000000000000000000000000000000000815260040161021c9061073d565b60405180910390fd5b809350505050919050565b60606000848484604051602401610249939291906106f1565b6040516020818303038152906040527fbc53c0c4000000000000000000000000000000000000000000000000000000007bffffffffffffffffffffffffffffffffffffffffffffffffffffffff19166020820180517bffffffffffffffffffffffffffffffffffffffffffffffffffffffff8381831617835250505050905060008060008054906101000a900473ffffffffffffffffffffffffffffffffffffffff1673ffffffffffffffffffffffffffffffffffffffff16836040516103109190610664565b600060405180830381855af49150503d806000811461034b576040519150601f19603f3d011682016040523d82523d6000602084013e610350565b606091505b509150915081610395576040517f08c379a000000000000000000000000000000000000000000000000000000000815260040161038c9061073d565b60405180910390fd5b856040516103a3919061067b565b6040518091039020876040516103b9919061067b565b60405180910390207fb4086b7a9e5eac405225b6c630a4147f0a8dcb4af3583733b10db7b91ad21ffd60405160405180910390a38093505050509392505050565b60008054906101000a900473ffffffffffffffffffffffffffffffffffffffff1681565b600061043161042c84610782565b61075d565b90508281526020810184848401111561044957600080fd5b610454848285610833565b509392505050565b600082601f83011261046d57600080fd5b813561047d84826020860161041e565b91505092915050565b60006020828403121561049857600080fd5b600082013567ffffffffffffffff8111156104b257600080fd5b6104be8482850161045c565b91505092915050565b6000806000606084860312156104dc57600080fd5b600084013567ffffffffffffffff8111156104f657600080fd5b6105028682870161045c565b935050602084013567ffffffffffffffff81111561051f57600080fd5b61052b8682870161045c565b925050604084013567ffffffffffffffff81111561054857600080fd5b6105548682870161045c565b9150509250925092565b61056781610801565b82525050565b6000610578826107b3565b61058281856107c9565b9350610592818560208601610842565b61059b816108d5565b840191505092915050565b60006105b1826107b3565b6105bb81856107da565b93506105cb818560208601610842565b80840191505092915050565b60006105e2826107be565b6105ec81856107e5565b93506105fc818560208601610842565b610605816108d5565b840191505092915050565b600061061b826107be565b61062581856107f6565b9350610635818560208601610842565b80840191505092915050565b600061064e6027836107e5565b9150610659826108e6565b604082019050919050565b600061067082846105a6565b915081905092915050565b60006106878284610610565b915081905092915050565b60006020820190506106a7600083018461055e565b92915050565b600060208201905081810360008301526106c7818461056d565b905092915050565b600060208201905081810360008301526106e981846105d7565b905092915050565b6000606082019050818103600083015261070b81866105d7565b9050818103602083015261071f81856105d7565b9050818103604083015261073381846105d7565b9050949350505050565b6000602082019050818103600083015261075681610641565b9050919050565b6000610767610778565b90506107738282610875565b919050565b6000604051905090565b600067ffffffffffffffff82111561079d5761079c6108a6565b5b6107a6826108d5565b9050602081019050919050565b600081519050919050565b600081519050919050565b600082825260208201905092915050565b600081905092915050565b600082825260208201905092915050565b600081905092915050565b600061080c82610813565b9050919050565b600073ffffffffffffffffffffffffffffffffffffffff82169050919050565b82818337600083830152505050565b60005b83811015610860578082015181840152602081019050610845565b8381111561086f576000848401525b50505050565b61087e826108d5565b810181811067ffffffffffffffff8211171561089d5761089c6108a6565b5b80604052505050565b7f4e487b7100000000000000000000000000000000000000000000000000000000600052604160045260246000fd5b6000601f19601f8301169050919050565b7f4572726f722063616c6c696e67207365727669636520636f6e7472616374206660008201527f756e6374696f6e0000000000000000000000000000000000000000000000000060208201525056fea2646970667358221220507121dff2241b458fa4a533cbbe922dffa784916f897d246f53d353adefc14664736f6c63430008040033\"\n",
      "          }\n",
      "        }\n",
      "        creator_account_id: \"admin@test\"\n",
      "        created_time: 1719169173754\n",
      "        quorum: 1\n",
      "      }\n",
      "    }\n",
      "    signatures {\n",
      "      public_key: \"313a07e6384776ed95447710d15e59148473ccfc052a681317a72a69f2a49910\"\n",
      "      signature: \"452657091f4eea7122ce42761e0993e0095fab74169c3a5e0ff2966240fb19b23bd93b0e7e2f6a89a8b1e011977ff4074f0278ba822ebeae065846c19ce5a30d\"\n",
      "    }\n",
      "  }\n",
      "  transactions {\n",
      "    payload {\n",
      "      reduced_payload {\n",
      "        commands {\n",
      "          call_engine {\n",
      "            caller: \"admin@test\"\n",
      "            input: \"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\"\n",
      "          }\n",
      "        }\n",
      "        creator_account_id: \"admin@test\"\n",
      "        created_time: 1719169184073\n",
      "        quorum: 1\n",
      "      }\n",
      "    }\n",
      "    signatures {\n",
      "      public_key: \"313a07e6384776ed95447710d15e59148473ccfc052a681317a72a69f2a49910\"\n",
      "      signature: \"05ae19541b1d24e397288ccb0fc83f87ae5fd703b18a17f72081d666fd44d357697a57f37cbd239d63053f0bdad628dfb822b826e05d558450be764822213308\"\n",
      "    }\n",
      "  }\n",
      "  transactions {\n",
      "    payload {\n",
      "      reduced_payload {\n",
      "        commands {\n",
      "          call_engine {\n",
      "            caller: \"admin@test\"\n",
      "            input: \"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\"\n",
      "          }\n",
      "        }\n",
      "        creator_account_id: \"admin@test\"\n",
      "        created_time: 1719169409837\n",
      "        quorum: 1\n",
      "      }\n",
      "    }\n",
      "    signatures {\n",
      "      public_key: \"313a07e6384776ed95447710d15e59148473ccfc052a681317a72a69f2a49910\"\n",
      "      signature: \"1b20bab01db807b8b0a2c7cbd7836eba642cb57edd0c7204e2ef16f8bb239ddb243259c85431fcbbc72c06d971f96cab16ec5df7c2fa1493279f2466712f6909\"\n",
      "    }\n",
      "  }\n",
      "  all_transactions_size: 108\n",
      "  next_tx_hash: \"62637e63ca3e09df9355207c21232761c06db076eb74a37a732b91899601fdc6\"\n",
      "}\n",
      "\n"
     ]
    }
   ],
   "source": [
    "#Query - GetAccountTransactions\n",
    "query = iroha.query('GetAccountTransactions', account_id=ADMIN_ACCOUNT_ID, page_size=3)\n",
    "IrohaCrypto.sign_query(query, ADMIN_PRIVATE_KEY)\n",
    "response = net.send_query(query)\n",
    "data = response\n",
    "print(data)"
   ]
  },
  {
   "cell_type": "code",
   "execution_count": null,
   "id": "7dc92b7d-25d9-475c-adcf-0087ea58a9e1",
   "metadata": {},
   "outputs": [],
   "source": [
    "1.2.2 - GetRoles"
   ]
  },
  {
   "cell_type": "code",
   "execution_count": 16,
   "id": "81a0b34d-b43c-4548-95f4-a65e6e7a2266",
   "metadata": {},
   "outputs": [
    {
     "name": "stdout",
     "output_type": "stream",
     "text": [
      "roles_response {\n",
      "  roles: \"admin\"\n",
      "  roles: \"user\"\n",
      "  roles: \"money_creator\"\n",
      "}\n",
      "query_hash: \"62a8859eae1d44e542c0cbbfd23edd9ef95bfc2209dd47efbacf03dd3816e44f\"\n",
      "\n"
     ]
    }
   ],
   "source": [
    "#Query - GetRoles\n",
    "query = iroha.query('GetRoles')\n",
    "IrohaCrypto.sign_query(query, ADMIN_PRIVATE_KEY)\n",
    "response = net.send_query(query)\n",
    "data = response\n",
    "print(data)"
   ]
  },
  {
   "cell_type": "code",
   "execution_count": 12,
   "id": "10638704-495e-4eef-902b-ad862fa3ff99",
   "metadata": {},
   "outputs": [
    {
     "ename": "SyntaxError",
     "evalue": "invalid syntax (3688248656.py, line 1)",
     "output_type": "error",
     "traceback": [
      "\u001b[0;36m  Cell \u001b[0;32mIn[12], line 1\u001b[0;36m\u001b[0m\n\u001b[0;31m    1.2.3 - GetRolePermissions - admin\u001b[0m\n\u001b[0m       ^\u001b[0m\n\u001b[0;31mSyntaxError\u001b[0m\u001b[0;31m:\u001b[0m invalid syntax\n"
     ]
    }
   ],
   "source": [
    "1.2.3 - GetRolePermissions - admin"
   ]
  },
  {
   "cell_type": "code",
   "execution_count": 19,
   "id": "8c85de95-47c8-4900-8fa4-1c691e8f3c10",
   "metadata": {},
   "outputs": [
    {
     "name": "stdout",
     "output_type": "stream",
     "text": [
      "admin role_permissions_response {\n",
      "  permissions: root\n",
      "}\n",
      "query_hash: \"32560412978eff1a37beb0e86bc51bcec0ae68a0c2eb37aad46505921ae8a186\"\n",
      "\n"
     ]
    }
   ],
   "source": [
    "#Query - GetRolePermissions\n",
    "ROLE_ID=\"admin\"\n",
    "query = iroha.query('GetRolePermissions',role_id=ROLE_ID)\n",
    "IrohaCrypto.sign_query(query, ADMIN_PRIVATE_KEY)\n",
    "response = net.send_query(query)\n",
    "data = response\n",
    "print(ROLE_ID, data)"
   ]
  },
  {
   "cell_type": "code",
   "execution_count": null,
   "id": "cb70be7e-d65c-41d9-a309-758943c5761a",
   "metadata": {},
   "outputs": [],
   "source": [
    "1.2.4 - GetRolePermissions - user"
   ]
  },
  {
   "cell_type": "code",
   "execution_count": 18,
   "id": "1261124a-af5a-49d6-b576-292be1bf36bb",
   "metadata": {},
   "outputs": [
    {
     "name": "stdout",
     "output_type": "stream",
     "text": [
      "user role_permissions_response {\n",
      "  permissions: can_add_signatory\n",
      "  permissions: can_remove_signatory\n",
      "  permissions: can_set_quorum\n",
      "  permissions: can_transfer\n",
      "  permissions: can_receive\n",
      "  permissions: can_get_my_account\n",
      "  permissions: can_get_my_signatories\n",
      "  permissions: can_get_my_acc_ast\n",
      "  permissions: can_get_my_acc_detail\n",
      "  permissions: can_get_my_acc_txs\n",
      "  permissions: can_get_my_acc_ast_txs\n",
      "  permissions: can_get_my_txs\n",
      "  permissions: can_grant_can_set_my_quorum\n",
      "  permissions: can_grant_can_add_my_signatory\n",
      "  permissions: can_grant_can_remove_my_signatory\n",
      "  permissions: can_grant_can_transfer_my_assets\n",
      "  permissions: can_grant_can_set_my_account_detail\n",
      "}\n",
      "query_hash: \"fc59abd57ea6ca3dab90ef44a01fe08d100c782adb23ce60d4195c76652af67b\"\n",
      "\n"
     ]
    }
   ],
   "source": [
    "#Query - GetRolePermissions\n",
    "ROLE_ID=\"user\"\n",
    "query = iroha.query('GetRolePermissions',role_id=ROLE_ID)\n",
    "IrohaCrypto.sign_query(query, ADMIN_PRIVATE_KEY)\n",
    "response = net.send_query(query)\n",
    "data = response\n",
    "print(ROLE_ID, data)"
   ]
  },
  {
   "cell_type": "code",
   "execution_count": null,
   "id": "9720bb0c-0490-4196-bef6-001e578c4e44",
   "metadata": {},
   "outputs": [],
   "source": [
    "1.2.5 - GetRolePermissions - money_creator"
   ]
  },
  {
   "cell_type": "code",
   "execution_count": 17,
   "id": "22e29f52-3f3d-4b51-a9b2-93acd66253fb",
   "metadata": {},
   "outputs": [
    {
     "name": "stdout",
     "output_type": "stream",
     "text": [
      "money_creator role_permissions_response {\n",
      "  permissions: can_add_asset_qty\n",
      "  permissions: can_create_asset\n",
      "  permissions: can_transfer\n",
      "  permissions: can_receive\n",
      "}\n",
      "query_hash: \"5759fb6bcf3dcd24b2a2a4f7faab00e0729709f005e649b2b4c40db6ad445cf2\"\n",
      "\n"
     ]
    }
   ],
   "source": [
    "#Query - GetRolePermissions\n",
    "ROLE_ID=\"money_creator\"\n",
    "query = iroha.query('GetRolePermissions',role_id=ROLE_ID)\n",
    "IrohaCrypto.sign_query(query, ADMIN_PRIVATE_KEY)\n",
    "response = net.send_query(query)\n",
    "data = response\n",
    "print(ROLE_ID, data)"
   ]
  },
  {
   "cell_type": "code",
   "execution_count": null,
   "id": "78d40cd1-4f5f-4057-949a-763192b8543e",
   "metadata": {},
   "outputs": [],
   "source": [
    "1.2.6 - GetRolePermissions - first_role"
   ]
  },
  {
   "cell_type": "code",
   "execution_count": 8,
   "id": "b7d9183e-bbc6-4265-8d82-8417d3f75f2f",
   "metadata": {},
   "outputs": [
    {
     "name": "stdout",
     "output_type": "stream",
     "text": [
      "first_role error_response {\n",
      "  reason: NO_ROLES\n",
      "  message: \"no role with such name in account with such id: {first_role, admin@test}\"\n",
      "}\n",
      "query_hash: \"17b6168abb21ed89cbdb875c2a2507c060039164e54eafd61005b60b8871e623\"\n",
      "\n"
     ]
    }
   ],
   "source": [
    "ROLE_ID=\"first_role\"\n",
    "query = iroha.query('GetRolePermissions',role_id=ROLE_ID)\n",
    "IrohaCrypto.sign_query(query, ADMIN_PRIVATE_KEY)\n",
    "response = net.send_query(query)\n",
    "data = response\n",
    "print(ROLE_ID, data)"
   ]
  },
  {
   "cell_type": "code",
   "execution_count": null,
   "id": "4156c50d-54db-45a9-9011-799f3769248e",
   "metadata": {},
   "outputs": [],
   "source": [
    "1.2.7 - GetAccountDetail - admin@test"
   ]
  },
  {
   "cell_type": "code",
   "execution_count": 6,
   "id": "c770248c-fff5-4ee3-9e06-5cfd81cd0ff0",
   "metadata": {},
   "outputs": [
    {
     "name": "stdout",
     "output_type": "stream",
     "text": [
      "Account id = admin@test, details = { \"admin@test\" : { \"super\" : \"019050919050565b600081519050919050565b600081519050919050565b600082825260208201905092915050565b600081905092915050565b60008\" } }\n"
     ]
    }
   ],
   "source": [
    "# #Query - GetAccountDetail\n",
    "user = 'admin@test'\n",
    "query = iroha.query('GetAccountDetail',account_id=user)\n",
    "IrohaCrypto.sign_query(query, ADMIN_PRIVATE_KEY)\n",
    "response = net.send_query(query)\n",
    "data = response.account_detail_response\n",
    "print(f'Account id = {user}, details = {data.detail}')"
   ]
  },
  {
   "cell_type": "code",
   "execution_count": null,
   "id": "8ac90707-591d-4cda-9017-91260762ece7",
   "metadata": {},
   "outputs": [],
   "source": [
    "1.2.8 - GetAccountDetail - ecstatic_dubinsky@test"
   ]
  },
  {
   "cell_type": "code",
   "execution_count": 7,
   "id": "03ac4abb-896f-4bdd-aa77-582fcb6bc803",
   "metadata": {},
   "outputs": [
    {
     "name": "stdout",
     "output_type": "stream",
     "text": [
      "Account id = ecstatic_dubinsky@test, details = \n"
     ]
    }
   ],
   "source": [
    "#Query - GetAccountDetail\n",
    "user = 'ecstatic_dubinsky@test'\n",
    "query = iroha.query('GetAccountDetail',account_id=user)\n",
    "IrohaCrypto.sign_query(query, ADMIN_PRIVATE_KEY)\n",
    "response = net.send_query(query)\n",
    "data = response.account_detail_response\n",
    "print(f'Account id = {user}, details = {data.detail}')"
   ]
  },
  {
   "cell_type": "code",
   "execution_count": 27,
   "id": "3cdb26d9-ac1a-451a-bd28-32c078fad75d",
   "metadata": {},
   "outputs": [],
   "source": [
    "### Smart Contract Deployment"
   ]
  },
  {
   "cell_type": "code",
   "execution_count": 11,
   "id": "9edd2c53-d314-48c4-97d4-30925cdb52a5",
   "metadata": {},
   "outputs": [
    {
     "name": "stdout",
     "output_type": "stream",
     "text": [
      "Creating account with name: infallible_dhawan\n",
      "\tEntering \"create_contract\"\n",
      "('STATELESS_VALIDATION_SUCCESS', 1, 0)\n",
      "('ENOUGH_SIGNATURES_COLLECTED', 9, 0)\n",
      "('STATEFUL_VALIDATION_SUCCESS', 3, 0)\n",
      "('COMMITTED', 5, 0)\n",
      "\tLeaving \"create_contract\"\n",
      "\tEntering \"get_engine_receipts_address\"\n"
     ]
    },
    {
     "ename": "_InactiveRpcError",
     "evalue": "<_InactiveRpcError of RPC that terminated with:\n\tstatus = StatusCode.UNAVAILABLE\n\tdetails = \"failed to connect to all addresses; last error: UNKNOWN: ipv4:127.0.0.1:50051: Failed to connect to remote host: connect: Connection refused (111)\"\n\tdebug_error_string = \"UNKNOWN:Error received from peer  {created_time:\"2024-07-26T18:12:33.31153679+00:00\", grpc_status:14, grpc_message:\"failed to connect to all addresses; last error: UNKNOWN: ipv4:127.0.0.1:50051: Failed to connect to remote host: connect: Connection refused (111)\"}\"\n>",
     "output_type": "error",
     "traceback": [
      "\u001b[0;31m---------------------------------------------------------------------------\u001b[0m",
      "\u001b[0;31m_InactiveRpcError\u001b[0m                         Traceback (most recent call last)",
      "Cell \u001b[0;32mIn[11], line 108\u001b[0m\n\u001b[1;32m    104\u001b[0m     \u001b[38;5;28;01mreturn\u001b[39;00m hex_hash\n\u001b[1;32m    107\u001b[0m \u001b[38;5;28mhash\u001b[39m \u001b[38;5;241m=\u001b[39m create_contract()\n\u001b[0;32m--> 108\u001b[0m address \u001b[38;5;241m=\u001b[39m \u001b[43mintegration_helpers\u001b[49m\u001b[38;5;241;43m.\u001b[39;49m\u001b[43mget_engine_receipts_address\u001b[49m\u001b[43m(\u001b[49m\u001b[38;5;28;43mhash\u001b[39;49m\u001b[43m)\u001b[49m\n\u001b[1;32m    109\u001b[0m create_account(address)\n\u001b[1;32m    110\u001b[0m \u001b[38;5;28mhash\u001b[39m \u001b[38;5;241m=\u001b[39m get_account(address)\n",
      "File \u001b[0;32m~/OpenScience/integration_helpers.py:32\u001b[0m, in \u001b[0;36mtrace.<locals>.tracer\u001b[0;34m(*args, **kwargs)\u001b[0m\n\u001b[1;32m     30\u001b[0m name \u001b[38;5;241m=\u001b[39m func\u001b[38;5;241m.\u001b[39m\u001b[38;5;18m__name__\u001b[39m\n\u001b[1;32m     31\u001b[0m \u001b[38;5;28mprint\u001b[39m(\u001b[38;5;124m'\u001b[39m\u001b[38;5;130;01m\\t\u001b[39;00m\u001b[38;5;124mEntering \u001b[39m\u001b[38;5;124m\"\u001b[39m\u001b[38;5;132;01m{}\u001b[39;00m\u001b[38;5;124m\"\u001b[39m\u001b[38;5;124m'\u001b[39m\u001b[38;5;241m.\u001b[39mformat(name))\n\u001b[0;32m---> 32\u001b[0m result \u001b[38;5;241m=\u001b[39m \u001b[43mfunc\u001b[49m\u001b[43m(\u001b[49m\u001b[38;5;241;43m*\u001b[39;49m\u001b[43margs\u001b[49m\u001b[43m,\u001b[49m\u001b[43m \u001b[49m\u001b[38;5;241;43m*\u001b[39;49m\u001b[38;5;241;43m*\u001b[39;49m\u001b[43mkwargs\u001b[49m\u001b[43m)\u001b[49m\n\u001b[1;32m     33\u001b[0m \u001b[38;5;28mprint\u001b[39m(\u001b[38;5;124m'\u001b[39m\u001b[38;5;130;01m\\t\u001b[39;00m\u001b[38;5;124mLeaving \u001b[39m\u001b[38;5;124m\"\u001b[39m\u001b[38;5;132;01m{}\u001b[39;00m\u001b[38;5;124m\"\u001b[39m\u001b[38;5;124m'\u001b[39m\u001b[38;5;241m.\u001b[39mformat(name))\n\u001b[1;32m     34\u001b[0m \u001b[38;5;28;01mreturn\u001b[39;00m result\n",
      "File \u001b[0;32m~/OpenScience/integration_helpers.py:74\u001b[0m, in \u001b[0;36mget_engine_receipts_address\u001b[0;34m(tx_hash)\u001b[0m\n\u001b[1;32m     72\u001b[0m query \u001b[38;5;241m=\u001b[39m iroha\u001b[38;5;241m.\u001b[39mquery(\u001b[38;5;124m\"\u001b[39m\u001b[38;5;124mGetEngineReceipts\u001b[39m\u001b[38;5;124m\"\u001b[39m, tx_hash\u001b[38;5;241m=\u001b[39mtx_hash)\n\u001b[1;32m     73\u001b[0m IrohaCrypto\u001b[38;5;241m.\u001b[39msign_query(query, ADMIN_PRIVATE_KEY)\n\u001b[0;32m---> 74\u001b[0m response \u001b[38;5;241m=\u001b[39m \u001b[43mnet\u001b[49m\u001b[38;5;241;43m.\u001b[39;49m\u001b[43msend_query\u001b[49m\u001b[43m(\u001b[49m\u001b[43mquery\u001b[49m\u001b[43m)\u001b[49m\n\u001b[1;32m     75\u001b[0m contract_add \u001b[38;5;241m=\u001b[39m response\u001b[38;5;241m.\u001b[39mengine_receipts_response\u001b[38;5;241m.\u001b[39mengine_receipts[\u001b[38;5;241m0\u001b[39m]\u001b[38;5;241m.\u001b[39mcontract_address\n\u001b[1;32m     76\u001b[0m \u001b[38;5;28;01mreturn\u001b[39;00m contract_add\n",
      "File \u001b[0;32m~/OpenScience/venv/lib/python3.9/site-packages/iroha/iroha.py:448\u001b[0m, in \u001b[0;36mIrohaGrpc.send_query\u001b[0;34m(self, query, timeout)\u001b[0m\n\u001b[1;32m    446\u001b[0m \u001b[38;5;28;01mif\u001b[39;00m \u001b[38;5;129;01mnot\u001b[39;00m timeout:\n\u001b[1;32m    447\u001b[0m     timeout \u001b[38;5;241m=\u001b[39m \u001b[38;5;28mself\u001b[39m\u001b[38;5;241m.\u001b[39m_timeout\n\u001b[0;32m--> 448\u001b[0m response \u001b[38;5;241m=\u001b[39m \u001b[38;5;28;43mself\u001b[39;49m\u001b[38;5;241;43m.\u001b[39;49m\u001b[43m_query_service_stub\u001b[49m\u001b[38;5;241;43m.\u001b[39;49m\u001b[43mFind\u001b[49m\u001b[43m(\u001b[49m\u001b[43mquery\u001b[49m\u001b[43m,\u001b[49m\u001b[43m \u001b[49m\u001b[43mtimeout\u001b[49m\u001b[38;5;241;43m=\u001b[39;49m\u001b[43mtimeout\u001b[49m\u001b[43m)\u001b[49m\n\u001b[1;32m    449\u001b[0m \u001b[38;5;28;01mreturn\u001b[39;00m response\n",
      "File \u001b[0;32m~/OpenScience/venv/lib/python3.9/site-packages/grpc/_channel.py:1181\u001b[0m, in \u001b[0;36m_UnaryUnaryMultiCallable.__call__\u001b[0;34m(self, request, timeout, metadata, credentials, wait_for_ready, compression)\u001b[0m\n\u001b[1;32m   1166\u001b[0m \u001b[38;5;28;01mdef\u001b[39;00m \u001b[38;5;21m__call__\u001b[39m(\n\u001b[1;32m   1167\u001b[0m     \u001b[38;5;28mself\u001b[39m,\n\u001b[1;32m   1168\u001b[0m     request: Any,\n\u001b[0;32m   (...)\u001b[0m\n\u001b[1;32m   1173\u001b[0m     compression: Optional[grpc\u001b[38;5;241m.\u001b[39mCompression] \u001b[38;5;241m=\u001b[39m \u001b[38;5;28;01mNone\u001b[39;00m,\n\u001b[1;32m   1174\u001b[0m ) \u001b[38;5;241m-\u001b[39m\u001b[38;5;241m>\u001b[39m Any:\n\u001b[1;32m   1175\u001b[0m     (\n\u001b[1;32m   1176\u001b[0m         state,\n\u001b[1;32m   1177\u001b[0m         call,\n\u001b[1;32m   1178\u001b[0m     ) \u001b[38;5;241m=\u001b[39m \u001b[38;5;28mself\u001b[39m\u001b[38;5;241m.\u001b[39m_blocking(\n\u001b[1;32m   1179\u001b[0m         request, timeout, metadata, credentials, wait_for_ready, compression\n\u001b[1;32m   1180\u001b[0m     )\n\u001b[0;32m-> 1181\u001b[0m     \u001b[38;5;28;01mreturn\u001b[39;00m \u001b[43m_end_unary_response_blocking\u001b[49m\u001b[43m(\u001b[49m\u001b[43mstate\u001b[49m\u001b[43m,\u001b[49m\u001b[43m \u001b[49m\u001b[43mcall\u001b[49m\u001b[43m,\u001b[49m\u001b[43m \u001b[49m\u001b[38;5;28;43;01mFalse\u001b[39;49;00m\u001b[43m,\u001b[49m\u001b[43m \u001b[49m\u001b[38;5;28;43;01mNone\u001b[39;49;00m\u001b[43m)\u001b[49m\n",
      "File \u001b[0;32m~/OpenScience/venv/lib/python3.9/site-packages/grpc/_channel.py:1006\u001b[0m, in \u001b[0;36m_end_unary_response_blocking\u001b[0;34m(state, call, with_call, deadline)\u001b[0m\n\u001b[1;32m   1004\u001b[0m         \u001b[38;5;28;01mreturn\u001b[39;00m state\u001b[38;5;241m.\u001b[39mresponse\n\u001b[1;32m   1005\u001b[0m \u001b[38;5;28;01melse\u001b[39;00m:\n\u001b[0;32m-> 1006\u001b[0m     \u001b[38;5;28;01mraise\u001b[39;00m _InactiveRpcError(state)\n",
      "\u001b[0;31m_InactiveRpcError\u001b[0m: <_InactiveRpcError of RPC that terminated with:\n\tstatus = StatusCode.UNAVAILABLE\n\tdetails = \"failed to connect to all addresses; last error: UNKNOWN: ipv4:127.0.0.1:50051: Failed to connect to remote host: connect: Connection refused (111)\"\n\tdebug_error_string = \"UNKNOWN:Error received from peer  {created_time:\"2024-07-26T18:12:33.31153679+00:00\", grpc_status:14, grpc_message:\"failed to connect to all addresses; last error: UNKNOWN: ipv4:127.0.0.1:50051: Failed to connect to remote host: connect: Connection refused (111)\"}\"\n>"
     ]
    },
    {
     "name": "stderr",
     "output_type": "stream",
     "text": [
      "I0000 00:00:1722017633.977314     214 subchannel.cc:761] subchannel 0x55b1b886bb30 {address=ipv4:0.0.0.0:50051, args={grpc.client_channel_factory=0x55b1b869a3b0, grpc.default_authority=0.0.0.0:50051, grpc.internal.channel_credentials=0x55b1b869a390, grpc.internal.client_channel_call_destination=0x7f0790c633d0, grpc.internal.event_engine=0x55b1b8872120, grpc.internal.security_connector=0x55b1b89d2190, grpc.internal.subchannel_pool=0x55b1b85e7700, grpc.primary_user_agent=grpc-python/1.65.1, grpc.resource_quota=0x55b1b82eb700, grpc.server_uri=dns:///0.0.0.0:50051}}: backoff delay elapsed, reporting IDLE\n",
      "I0000 00:00:1722017634.610037     204 subchannel.cc:806] subchannel 0x55b1b886bb30 {address=ipv4:0.0.0.0:50051, args={grpc.client_channel_factory=0x55b1b869a3b0, grpc.default_authority=0.0.0.0:50051, grpc.internal.channel_credentials=0x55b1b869a390, grpc.internal.client_channel_call_destination=0x7f0790c633d0, grpc.internal.event_engine=0x55b1b8872120, grpc.internal.security_connector=0x55b1b89d2190, grpc.internal.subchannel_pool=0x55b1b85e7700, grpc.primary_user_agent=grpc-python/1.65.1, grpc.resource_quota=0x55b1b82eb700, grpc.server_uri=dns:///0.0.0.0:50051}}: connect failed (UNKNOWN:Failed to connect to remote host: connect: Connection refused (111) {created_time:\"2024-07-26T18:13:54.60967635+00:00\"}), backing off for 120188 ms\n",
      "I0000 00:00:1722017643.949802     214 subchannel.cc:761] subchannel 0x55b1b7b79140 {address=ipv4:127.0.0.1:50051, args={grpc.client_channel_factory=0x55b1b869a3b0, grpc.default_authority=127.0.0.1:50051, grpc.internal.channel_credentials=0x55b1b869a390, grpc.internal.client_channel_call_destination=0x7f0790c633d0, grpc.internal.event_engine=0x55b1b81d68a0, grpc.internal.security_connector=0x55b1b8313890, grpc.internal.subchannel_pool=0x55b1b85e7700, grpc.primary_user_agent=grpc-python/1.65.1, grpc.resource_quota=0x55b1b82eb700, grpc.server_uri=dns:///127.0.0.1:50051}}: backoff delay elapsed, reporting IDLE\n",
      "I0000 00:00:1722017644.609416     204 subchannel.cc:806] subchannel 0x55b1b7b79140 {address=ipv4:127.0.0.1:50051, args={grpc.client_channel_factory=0x55b1b869a3b0, grpc.default_authority=127.0.0.1:50051, grpc.internal.channel_credentials=0x55b1b869a390, grpc.internal.client_channel_call_destination=0x7f0790c633d0, grpc.internal.event_engine=0x55b1b81d68a0, grpc.internal.security_connector=0x55b1b8313890, grpc.internal.subchannel_pool=0x55b1b85e7700, grpc.primary_user_agent=grpc-python/1.65.1, grpc.resource_quota=0x55b1b82eb700, grpc.server_uri=dns:///127.0.0.1:50051}}: connect failed (UNKNOWN:Failed to connect to remote host: connect: Connection refused (111) {created_time:\"2024-07-26T18:14:04.609117956+00:00\"}), backing off for 119503 ms\n",
      "I0000 00:00:1722017754.799692     221 subchannel.cc:761] subchannel 0x55b1b886bb30 {address=ipv4:0.0.0.0:50051, args={grpc.client_channel_factory=0x55b1b869a3b0, grpc.default_authority=0.0.0.0:50051, grpc.internal.channel_credentials=0x55b1b869a390, grpc.internal.client_channel_call_destination=0x7f0790c633d0, grpc.internal.event_engine=0x55b1b8872120, grpc.internal.security_connector=0x55b1b89d2190, grpc.internal.subchannel_pool=0x55b1b85e7700, grpc.primary_user_agent=grpc-python/1.65.1, grpc.resource_quota=0x55b1b82eb700, grpc.server_uri=dns:///0.0.0.0:50051}}: backoff delay elapsed, reporting IDLE\n",
      "I0000 00:00:1722017759.610020     204 subchannel.cc:806] subchannel 0x55b1b886bb30 {address=ipv4:0.0.0.0:50051, args={grpc.client_channel_factory=0x55b1b869a3b0, grpc.default_authority=0.0.0.0:50051, grpc.internal.channel_credentials=0x55b1b869a390, grpc.internal.client_channel_call_destination=0x7f0790c633d0, grpc.internal.event_engine=0x55b1b8872120, grpc.internal.security_connector=0x55b1b89d2190, grpc.internal.subchannel_pool=0x55b1b85e7700, grpc.primary_user_agent=grpc-python/1.65.1, grpc.resource_quota=0x55b1b82eb700, grpc.server_uri=dns:///0.0.0.0:50051}}: connect failed (UNKNOWN:Failed to connect to remote host: connect: Connection refused (111) {created_time:\"2024-07-26T18:15:59.609653067+00:00\"}), backing off for 114377 ms\n",
      "I0000 00:00:1722017764.113420     207 subchannel.cc:761] subchannel 0x55b1b7b79140 {address=ipv4:127.0.0.1:50051, args={grpc.client_channel_factory=0x55b1b869a3b0, grpc.default_authority=127.0.0.1:50051, grpc.internal.channel_credentials=0x55b1b869a390, grpc.internal.client_channel_call_destination=0x7f0790c633d0, grpc.internal.event_engine=0x55b1b81d68a0, grpc.internal.security_connector=0x55b1b8313890, grpc.internal.subchannel_pool=0x55b1b85e7700, grpc.primary_user_agent=grpc-python/1.65.1, grpc.resource_quota=0x55b1b82eb700, grpc.server_uri=dns:///127.0.0.1:50051}}: backoff delay elapsed, reporting IDLE\n",
      "I0000 00:00:1722017764.610041     204 subchannel.cc:806] subchannel 0x55b1b7b79140 {address=ipv4:127.0.0.1:50051, args={grpc.client_channel_factory=0x55b1b869a3b0, grpc.default_authority=127.0.0.1:50051, grpc.internal.channel_credentials=0x55b1b869a390, grpc.internal.client_channel_call_destination=0x7f0790c633d0, grpc.internal.event_engine=0x55b1b81d68a0, grpc.internal.security_connector=0x55b1b8313890, grpc.internal.subchannel_pool=0x55b1b85e7700, grpc.primary_user_agent=grpc-python/1.65.1, grpc.resource_quota=0x55b1b82eb700, grpc.server_uri=dns:///127.0.0.1:50051}}: connect failed (UNKNOWN:Failed to connect to remote host: connect: Connection refused (111) {created_time:\"2024-07-26T18:16:04.60966773+00:00\"}), backing off for 118608 ms\n"
     ]
    }
   ],
   "source": [
    "import os\n",
    "import binascii\n",
    "from iroha import IrohaCrypto\n",
    "from iroha import Iroha, IrohaGrpc\n",
    "import sys\n",
    "from Crypto.Hash import keccak\n",
    "import integration_helpers\n",
    "from name_generator import left, right\n",
    "import random\n",
    "\n",
    "\n",
    "if sys.version_info[0] < 3:\n",
    "    raise Exception(\"Python 3 or a more recent version is required.\")\n",
    "\n",
    "# Here is the information about the environment and admin account information:\n",
    "IROHA_HOST_ADDR = os.getenv(\"IROHA_HOST_ADDR\", \"10.0.0.100\")\n",
    "IROHA_PORT = os.getenv(\"IROHA_PORT\", \"50051\")\n",
    "ADMIN_ACCOUNT_ID = os.getenv(\"ADMIN_ACCOUNT_ID\", \"admin@test\")\n",
    "ADMIN_PRIVATE_KEY = os.getenv(\n",
    "    \"ADMIN_PRIVATE_KEY\",\n",
    "    \"f101537e319568c765b2cc89698325604991dca57b9716b58016b253506cab70\",\n",
    ")\n",
    "\n",
    "iroha = Iroha(ADMIN_ACCOUNT_ID)\n",
    "net = IrohaGrpc(\"{}:{}\".format(IROHA_HOST_ADDR, IROHA_PORT))\n",
    "\n",
    "user_private_key = IrohaCrypto.private_key()\n",
    "user_public_key = IrohaCrypto.derive_public_key(user_private_key).decode(\"utf-8\")\n",
    "\n",
    "\n",
    "DOMAIN = \"test\"\n",
    "\n",
    "user_account_left = random.choice(left)\n",
    "user_account_right = random.choice(right)\n",
    "user_account_short_id = f\"{user_account_left}_{user_account_right}\"\n",
    "print(f\"Creating account with name: {user_account_short_id}\")\n",
    "\n",
    "\n",
    "\n",
    "@integration_helpers.trace\n",
    "def create_contract():\n",
    "    bytecode = \"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\"\n",
    "    \"\"\"Bytecode was generated using remix editor  https://remix.ethereum.org/ from file account.sol. \"\"\"\n",
    "    tx = iroha.transaction(\n",
    "        [iroha.command(\"CallEngine\", caller=ADMIN_ACCOUNT_ID, input=bytecode)]\n",
    "    )\n",
    "    IrohaCrypto.sign_transaction(tx, ADMIN_PRIVATE_KEY)\n",
    "    net.send_tx(tx)\n",
    "    hex_hash = binascii.hexlify(IrohaCrypto.hash(tx))\n",
    "    for status in net.tx_status_stream(tx):\n",
    "        print(status)\n",
    "    return hex_hash\n",
    "\n",
    "\n",
    "@integration_helpers.trace\n",
    "def create_account(address):\n",
    "    params = integration_helpers.get_first_four_bytes_of_keccak(\n",
    "        b\"createAccount(string,string,string)\"\n",
    "    )\n",
    "    no_of_param = 3\n",
    "    for x in range(no_of_param):\n",
    "        params = params + integration_helpers.left_padded_address_of_param(\n",
    "            x, no_of_param\n",
    "        )\n",
    "    params = params + integration_helpers.argument_encoding(user_account_short_id)  # source account id\n",
    "    params = params + integration_helpers.argument_encoding(DOMAIN)  # domain id\n",
    "    params = params + integration_helpers.argument_encoding(user_public_key)  #  key\n",
    "    tx = iroha.transaction(\n",
    "        [\n",
    "            iroha.command(\n",
    "                \"CallEngine\", caller=ADMIN_ACCOUNT_ID, callee=address, input=params\n",
    "            )\n",
    "        ]\n",
    "    )\n",
    "    IrohaCrypto.sign_transaction(tx, ADMIN_PRIVATE_KEY)\n",
    "    response = net.send_tx(tx)\n",
    "    for status in net.tx_status_stream(tx):\n",
    "        print(status)\n",
    "    hex_hash = binascii.hexlify(IrohaCrypto.hash(tx))\n",
    "    return hex_hash\n",
    "\n",
    "\n",
    "@integration_helpers.trace\n",
    "def get_account(address):\n",
    "    params = integration_helpers.get_first_four_bytes_of_keccak(b\"getAccount(string)\")\n",
    "    no_of_param = 1\n",
    "    for x in range(no_of_param):\n",
    "        params = params + integration_helpers.left_padded_address_of_param(\n",
    "            x, no_of_param\n",
    "        )\n",
    "    params = params + integration_helpers.argument_encoding(f\"{user_account_short_id}@{DOMAIN}\")  # account id\n",
    "    tx = iroha.transaction(\n",
    "        [\n",
    "            iroha.command(\n",
    "                \"CallEngine\", caller=ADMIN_ACCOUNT_ID, callee=address, input=params\n",
    "            )\n",
    "        ]\n",
    "    )\n",
    "    IrohaCrypto.sign_transaction(tx, ADMIN_PRIVATE_KEY)\n",
    "    response = net.send_tx(tx)\n",
    "    for status in net.tx_status_stream(tx):\n",
    "        print(status)\n",
    "    hex_hash = binascii.hexlify(IrohaCrypto.hash(tx))\n",
    "    return hex_hash\n",
    "\n",
    "\n",
    "hash = create_contract()\n",
    "address = integration_helpers.get_engine_receipts_address(hash)\n",
    "create_account(address)\n",
    "hash = get_account(address)\n",
    "integration_helpers.get_engine_receipts_result(hash)\n",
    "print(\"done\")\n"
   ]
  },
  {
   "cell_type": "code",
   "execution_count": 8,
   "id": "4ac91450-a7fa-444d-856f-3e7a8a23f571",
   "metadata": {},
   "outputs": [
    {
     "name": "stderr",
     "output_type": "stream",
     "text": [
      "I0000 00:00:1722017224.610041     204 subchannel.cc:806] subchannel 0x55b1b886bb30 {address=ipv4:0.0.0.0:50051, args={grpc.client_channel_factory=0x55b1b869a3b0, grpc.default_authority=0.0.0.0:50051, grpc.internal.channel_credentials=0x55b1b869a390, grpc.internal.client_channel_call_destination=0x7f0790c633d0, grpc.internal.event_engine=0x55b1b8872120, grpc.internal.security_connector=0x55b1b89d2190, grpc.internal.subchannel_pool=0x55b1b85e7700, grpc.primary_user_agent=grpc-python/1.65.1, grpc.resource_quota=0x55b1b82eb700, grpc.server_uri=dns:///0.0.0.0:50051}}: connect failed (UNKNOWN:Failed to connect to remote host: connect: Connection refused (111) {created_time:\"2024-07-26T18:07:04.609653696+00:00\"}), backing off for -2433 ms\n",
      "I0000 00:00:1722017224.610312     209 subchannel.cc:761] subchannel 0x55b1b886bb30 {address=ipv4:0.0.0.0:50051, args={grpc.client_channel_factory=0x55b1b869a3b0, grpc.default_authority=0.0.0.0:50051, grpc.internal.channel_credentials=0x55b1b869a390, grpc.internal.client_channel_call_destination=0x7f0790c633d0, grpc.internal.event_engine=0x55b1b8872120, grpc.internal.security_connector=0x55b1b89d2190, grpc.internal.subchannel_pool=0x55b1b85e7700, grpc.primary_user_agent=grpc-python/1.65.1, grpc.resource_quota=0x55b1b82eb700, grpc.server_uri=dns:///0.0.0.0:50051}}: backoff delay elapsed, reporting IDLE\n",
      "I0000 00:00:1722017229.609531     204 subchannel.cc:806] subchannel 0x55b1b886bb30 {address=ipv4:0.0.0.0:50051, args={grpc.client_channel_factory=0x55b1b869a3b0, grpc.default_authority=0.0.0.0:50051, grpc.internal.channel_credentials=0x55b1b869a390, grpc.internal.client_channel_call_destination=0x7f0790c633d0, grpc.internal.event_engine=0x55b1b8872120, grpc.internal.security_connector=0x55b1b89d2190, grpc.internal.subchannel_pool=0x55b1b85e7700, grpc.primary_user_agent=grpc-python/1.65.1, grpc.resource_quota=0x55b1b82eb700, grpc.server_uri=dns:///0.0.0.0:50051}}: connect failed (UNKNOWN:Failed to connect to remote host: connect: Connection refused (111) {created_time:\"2024-07-26T18:07:09.60920259+00:00\"}), backing off for -1951 ms\n",
      "I0000 00:00:1722017229.609780     212 subchannel.cc:761] subchannel 0x55b1b886bb30 {address=ipv4:0.0.0.0:50051, args={grpc.client_channel_factory=0x55b1b869a3b0, grpc.default_authority=0.0.0.0:50051, grpc.internal.channel_credentials=0x55b1b869a390, grpc.internal.client_channel_call_destination=0x7f0790c633d0, grpc.internal.event_engine=0x55b1b8872120, grpc.internal.security_connector=0x55b1b89d2190, grpc.internal.subchannel_pool=0x55b1b85e7700, grpc.primary_user_agent=grpc-python/1.65.1, grpc.resource_quota=0x55b1b82eb700, grpc.server_uri=dns:///0.0.0.0:50051}}: backoff delay elapsed, reporting IDLE\n",
      "I0000 00:00:1722017234.609463     204 subchannel.cc:806] subchannel 0x55b1b886bb30 {address=ipv4:0.0.0.0:50051, args={grpc.client_channel_factory=0x55b1b869a3b0, grpc.default_authority=0.0.0.0:50051, grpc.internal.channel_credentials=0x55b1b869a390, grpc.internal.client_channel_call_destination=0x7f0790c633d0, grpc.internal.event_engine=0x55b1b8872120, grpc.internal.security_connector=0x55b1b89d2190, grpc.internal.subchannel_pool=0x55b1b85e7700, grpc.primary_user_agent=grpc-python/1.65.1, grpc.resource_quota=0x55b1b82eb700, grpc.server_uri=dns:///0.0.0.0:50051}}: connect failed (UNKNOWN:Failed to connect to remote host: connect: Connection refused (111) {created_time:\"2024-07-26T18:07:14.609212374+00:00\"}), backing off for -1481 ms\n",
      "I0000 00:00:1722017234.609710     215 subchannel.cc:761] subchannel 0x55b1b886bb30 {address=ipv4:0.0.0.0:50051, args={grpc.client_channel_factory=0x55b1b869a3b0, grpc.default_authority=0.0.0.0:50051, grpc.internal.channel_credentials=0x55b1b869a390, grpc.internal.client_channel_call_destination=0x7f0790c633d0, grpc.internal.event_engine=0x55b1b8872120, grpc.internal.security_connector=0x55b1b89d2190, grpc.internal.subchannel_pool=0x55b1b85e7700, grpc.primary_user_agent=grpc-python/1.65.1, grpc.resource_quota=0x55b1b82eb700, grpc.server_uri=dns:///0.0.0.0:50051}}: backoff delay elapsed, reporting IDLE\n",
      "I0000 00:00:1722017239.610030     204 subchannel.cc:806] subchannel 0x55b1b886bb30 {address=ipv4:0.0.0.0:50051, args={grpc.client_channel_factory=0x55b1b869a3b0, grpc.default_authority=0.0.0.0:50051, grpc.internal.channel_credentials=0x55b1b869a390, grpc.internal.client_channel_call_destination=0x7f0790c633d0, grpc.internal.event_engine=0x55b1b8872120, grpc.internal.security_connector=0x55b1b89d2190, grpc.internal.subchannel_pool=0x55b1b85e7700, grpc.primary_user_agent=grpc-python/1.65.1, grpc.resource_quota=0x55b1b82eb700, grpc.server_uri=dns:///0.0.0.0:50051}}: connect failed (UNKNOWN:Failed to connect to remote host: connect: Connection refused (111) {created_time:\"2024-07-26T18:07:19.609668664+00:00\"}), backing off for 1484 ms\n",
      "I0000 00:00:1722017241.096259     217 subchannel.cc:761] subchannel 0x55b1b886bb30 {address=ipv4:0.0.0.0:50051, args={grpc.client_channel_factory=0x55b1b869a3b0, grpc.default_authority=0.0.0.0:50051, grpc.internal.channel_credentials=0x55b1b869a390, grpc.internal.client_channel_call_destination=0x7f0790c633d0, grpc.internal.event_engine=0x55b1b8872120, grpc.internal.security_connector=0x55b1b89d2190, grpc.internal.subchannel_pool=0x55b1b85e7700, grpc.primary_user_agent=grpc-python/1.65.1, grpc.resource_quota=0x55b1b82eb700, grpc.server_uri=dns:///0.0.0.0:50051}}: backoff delay elapsed, reporting IDLE\n",
      "I0000 00:00:1722017244.609548     204 subchannel.cc:806] subchannel 0x55b1b886bb30 {address=ipv4:0.0.0.0:50051, args={grpc.client_channel_factory=0x55b1b869a3b0, grpc.default_authority=0.0.0.0:50051, grpc.internal.channel_credentials=0x55b1b869a390, grpc.internal.client_channel_call_destination=0x7f0790c633d0, grpc.internal.event_engine=0x55b1b8872120, grpc.internal.security_connector=0x55b1b89d2190, grpc.internal.subchannel_pool=0x55b1b85e7700, grpc.primary_user_agent=grpc-python/1.65.1, grpc.resource_quota=0x55b1b82eb700, grpc.server_uri=dns:///0.0.0.0:50051}}: connect failed (UNKNOWN:Failed to connect to remote host: connect: Connection refused (111) {created_time:\"2024-07-26T18:07:24.609230866+00:00\"}), backing off for 7134 ms\n",
      "I0000 00:00:1722017251.744971     214 subchannel.cc:761] subchannel 0x55b1b886bb30 {address=ipv4:0.0.0.0:50051, args={grpc.client_channel_factory=0x55b1b869a3b0, grpc.default_authority=0.0.0.0:50051, grpc.internal.channel_credentials=0x55b1b869a390, grpc.internal.client_channel_call_destination=0x7f0790c633d0, grpc.internal.event_engine=0x55b1b8872120, grpc.internal.security_connector=0x55b1b89d2190, grpc.internal.subchannel_pool=0x55b1b85e7700, grpc.primary_user_agent=grpc-python/1.65.1, grpc.resource_quota=0x55b1b82eb700, grpc.server_uri=dns:///0.0.0.0:50051}}: backoff delay elapsed, reporting IDLE\n"
     ]
    }
   ],
   "source": [
    "### Account Creation"
   ]
  },
  {
   "cell_type": "code",
   "execution_count": null,
   "id": "d978d682-9297-4de2-8309-cdaf085d1944",
   "metadata": {},
   "outputs": [],
   "source": []
  },
  {
   "cell_type": "code",
   "execution_count": null,
   "id": "74ed28e3-8d51-42e5-baf7-8f5a2599960b",
   "metadata": {},
   "outputs": [],
   "source": [
    "### Account Detail Setting"
   ]
  },
  {
   "cell_type": "code",
   "execution_count": null,
   "id": "ec0e8beb-20d9-4d2d-89a3-9dcd168e8e1e",
   "metadata": {},
   "outputs": [],
   "source": []
  }
 ],
 "metadata": {
  "kernelspec": {
   "display_name": "venv",
   "language": "python",
   "name": "venv"
  },
  "language_info": {
   "codemirror_mode": {
    "name": "ipython",
    "version": 3
   },
   "file_extension": ".py",
   "mimetype": "text/x-python",
   "name": "python",
   "nbconvert_exporter": "python",
   "pygments_lexer": "ipython3",
   "version": "3.9.19"
  }
 },
 "nbformat": 4,
 "nbformat_minor": 5
}
