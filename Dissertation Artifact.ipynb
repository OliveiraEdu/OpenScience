{
 "cells": [
  {
   "cell_type": "markdown",
   "id": "11965914-6a6a-43b4-a793-01a3eda28617",
   "metadata": {},
   "source": [
    "# Artifact"
   ]
  },
  {
   "cell_type": "markdown",
   "id": "0f965815-8625-49cb-9627-267ef1a19069",
   "metadata": {},
   "source": [
    "** For requirements and initial setup go to https://github.com/OliveiraEdu/OpenScience/Readme.md **"
   ]
  },
  {
   "cell_type": "markdown",
   "id": "8d55fe4f-d507-4c5f-9428-d2231aec20cf",
   "metadata": {},
   "source": [
    "1 - Iroha Blockchain Testnet"
   ]
  },
  {
   "cell_type": "markdown",
   "id": "c2b074d9-3edc-410d-9972-222d9cbb551f",
   "metadata": {},
   "source": [
    "1.2 -  Performing Basic Tests"
   ]
  },
  {
   "cell_type": "code",
   "execution_count": 5,
   "id": "484a24df-fb51-4b8e-ad9c-d89be0a3e776",
   "metadata": {},
   "outputs": [
    {
     "name": "stdout",
     "output_type": "stream",
     "text": [
      "Account id = admin@test, details = { \"admin@test\" : { \"super\" : \"019050919050565b600081519050919050565b600081519050919050565b600082825260208201905092915050565b600081905092915050565b60008\" } }\n",
      "Account id = ecstatic_dubinsky@test, details = \n"
     ]
    }
   ],
   "source": [
    "import os\n",
    "import sys\n",
    "import binascii\n",
    "from grpc import RpcError, StatusCode\n",
    "import inspect\n",
    "from iroha import Iroha, IrohaGrpc, IrohaCrypto\n",
    "from iroha.primitive_pb2 import can_call_engine\n",
    "from functools import wraps\n",
    "\n",
    "IROHA_HOST_ADDR = os.getenv('IROHA_HOST_ADDR', '10.0.0.100')\n",
    "IROHA_PORT = os.getenv('IROHA_PORT', '50051')\n",
    "ADMIN_ACCOUNT_ID = os.getenv('ADMIN_ACCOUNT_ID', 'admin@test')\n",
    "ADMIN_PRIVATE_KEY = os.getenv('ADMIN_PRIVATE_KEY', 'f101537e319568c765b2cc89698325604991dca57b9716b58016b253506cab70')\n",
    "\n",
    "iroha = Iroha(ADMIN_ACCOUNT_ID)\n",
    "net = IrohaGrpc(f'{IROHA_HOST_ADDR}:{IROHA_PORT}')\n",
    "\n",
    "def trace(func):\n",
    "    @wraps(func)\n",
    "    def tracer(*args, **kwargs):\n",
    "        name = func.__name__\n",
    "        stack_size = int(len(inspect.stack(0)) / 2)\n",
    "        indent = stack_size * '\\t'\n",
    "        print(f'{indent} > Entering \"{name}\": args: {args}')\n",
    "        result = func(*args, **kwargs)\n",
    "        print(f'{indent} < Leaving \"{name}\"')\n",
    "        return result\n",
    "    return tracer\n",
    "\n",
    "@trace\n",
    "def send_transaction_and_print_status(transaction):\n",
    "    hex_hash = binascii.hexlify(IrohaCrypto.hash(transaction))\n",
    "    creator_id = transaction.payload.reduced_payload.creator_account_id\n",
    "    commands = get_commands_from_tx(transaction)\n",
    "    print(f'Transaction \"{commands}\", hash = {hex_hash}, creator = {creator_id}')\n",
    "    net.send_tx(transaction)\n",
    "    handle_transaction_errors(transaction)\n",
    "\n",
    "def handle_transaction_errors(transaction):\n",
    "    for i, status in enumerate(net.tx_status_stream(transaction)):\n",
    "        status_name, status_code, error_code = status\n",
    "        print(f\"{i}: status_name={status_name}, status_code={status_code}, error_code={error_code}\")\n",
    "        if status_name in ('STATEFUL_VALIDATION_FAILED', 'STATELESS_VALIDATION_FAILED', 'REJECTED'):\n",
    "            handle_error(status_name, error_code, transaction)\n",
    "\n",
    "def handle_error(status_name, error_code, transaction):\n",
    "    error_messages = {\n",
    "        'STATEFUL_VALIDATION_FAILED': 'Stateful validation failed',\n",
    "        'STATELESS_VALIDATION_FAILED': 'Stateless validation failed',\n",
    "        'REJECTED': 'Transaction rejected'\n",
    "    }\n",
    "    error_message = error_messages.get(status_name, 'Unknown error') + f': {error_code}'\n",
    "    raise RuntimeError(f\"{status_name} failed on tx: {transaction} due to reason {error_code}: {error_message}\")\n",
    "\n",
    "def get_commands_from_tx(transaction):\n",
    "    commands_from_tx = []\n",
    "    for command in transaction.payload.reduced_payload.__getattribute__(\"commands\"):\n",
    "        listed_fields = command.ListFields()\n",
    "        commands_from_tx.append(listed_fields[0][0].name)\n",
    "    return commands_from_tx\n",
    "\n",
    "\n",
    "# #Query - GetAccountTransactions\n",
    "# query = iroha.query('GetAccountTransactions', account_id=ADMIN_ACCOUNT_ID, page_size=3)\n",
    "# IrohaCrypto.sign_query(query, ADMIN_PRIVATE_KEY)\n",
    "# response = net.send_query(query)\n",
    "# data = response\n",
    "# print(data)\n",
    "\n",
    "# #Query - GetRoles\n",
    "# query = iroha.query('GetRoles')\n",
    "# IrohaCrypto.sign_query(query, ADMIN_PRIVATE_KEY)\n",
    "# response = net.send_query(query)\n",
    "# data = response\n",
    "# print(data)\n",
    "\n",
    "# #Query - GetRolePermissions\n",
    "# ROLE_ID=\"admin\"\n",
    "# query = iroha.query('GetRolePermissions',role_id=ROLE_ID)\n",
    "# IrohaCrypto.sign_query(query, ADMIN_PRIVATE_KEY)\n",
    "# response = net.send_query(query)\n",
    "# data = response\n",
    "# print(ROLE_ID, data)\n",
    "\n",
    "# #Query - GetRolePermissions\n",
    "# ROLE_ID=\"user\"\n",
    "# query = iroha.query('GetRolePermissions',role_id=ROLE_ID)\n",
    "# IrohaCrypto.sign_query(query, ADMIN_PRIVATE_KEY)\n",
    "# response = net.send_query(query)\n",
    "# data = response\n",
    "# print(ROLE_ID, data)\n",
    "\n",
    "# #Query - GetRolePermissions\n",
    "# ROLE_ID=\"money_creator\"\n",
    "# query = iroha.query('GetRolePermissions',role_id=ROLE_ID)\n",
    "# IrohaCrypto.sign_query(query, ADMIN_PRIVATE_KEY)\n",
    "# response = net.send_query(query)\n",
    "# data = response\n",
    "# print(ROLE_ID, data)\n",
    "\n",
    "# #Query - GetRolePermissions\n",
    "# ROLE_ID=\"first_role\"\n",
    "# query = iroha.query('GetRolePermissions',role_id=ROLE_ID)\n",
    "# IrohaCrypto.sign_query(query, ADMIN_PRIVATE_KEY)\n",
    "# response = net.send_query(query)\n",
    "# data = response\n",
    "# print(ROLE_ID, data)\n",
    "\n",
    "\n",
    "# #Query - GetAccountDetail\n",
    "user = 'admin@test'\n",
    "query = iroha.query('GetAccountDetail',account_id=user)\n",
    "IrohaCrypto.sign_query(query, ADMIN_PRIVATE_KEY)\n",
    "response = net.send_query(query)\n",
    "data = response.account_detail_response\n",
    "print(f'Account id = {user}, details = {data.detail}')\n",
    "\n",
    "#Query - GetAccountDetail\n",
    "user = 'ecstatic_dubinsky@test'\n",
    "query = iroha.query('GetAccountDetail',account_id=user)\n",
    "IrohaCrypto.sign_query(query, ADMIN_PRIVATE_KEY)\n",
    "response = net.send_query(query)\n",
    "data = response.account_detail_response\n",
    "print(f'Account id = {user}, details = {data.detail}')\n"
   ]
  },
  {
   "cell_type": "code",
   "execution_count": 27,
   "id": "3cdb26d9-ac1a-451a-bd28-32c078fad75d",
   "metadata": {},
   "outputs": [],
   "source": [
    "### Smart Contract Deployment"
   ]
  },
  {
   "cell_type": "code",
   "execution_count": null,
   "id": "9edd2c53-d314-48c4-97d4-30925cdb52a5",
   "metadata": {},
   "outputs": [],
   "source": []
  },
  {
   "cell_type": "code",
   "execution_count": null,
   "id": "4ac91450-a7fa-444d-856f-3e7a8a23f571",
   "metadata": {},
   "outputs": [],
   "source": [
    "### Account Creation"
   ]
  },
  {
   "cell_type": "code",
   "execution_count": null,
   "id": "d978d682-9297-4de2-8309-cdaf085d1944",
   "metadata": {},
   "outputs": [],
   "source": []
  },
  {
   "cell_type": "code",
   "execution_count": null,
   "id": "74ed28e3-8d51-42e5-baf7-8f5a2599960b",
   "metadata": {},
   "outputs": [],
   "source": [
    "### Account Detail Setting"
   ]
  },
  {
   "cell_type": "code",
   "execution_count": null,
   "id": "ec0e8beb-20d9-4d2d-89a3-9dcd168e8e1e",
   "metadata": {},
   "outputs": [],
   "source": []
  }
 ],
 "metadata": {
  "kernelspec": {
   "display_name": "venv",
   "language": "python",
   "name": "venv"
  },
  "language_info": {
   "codemirror_mode": {
    "name": "ipython",
    "version": 3
   },
   "file_extension": ".py",
   "mimetype": "text/x-python",
   "name": "python",
   "nbconvert_exporter": "python",
   "pygments_lexer": "ipython3",
   "version": "3.8.10"
  }
 },
 "nbformat": 4,
 "nbformat_minor": 5
}
