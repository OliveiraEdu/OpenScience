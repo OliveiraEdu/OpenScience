{
 "cells": [
  {
   "cell_type": "code",
   "execution_count": 2,
   "id": "88ad515f-4bfa-458d-8123-9e64e613d85c",
   "metadata": {},
   "outputs": [
    {
     "name": "stdout",
     "output_type": "stream",
     "text": [
      "File Names: ['hello_world.py', 'World_Energy_By_Country_And_Region_1965_to_2023.csv', 'bitcoin.pdf', 'Jean-Baptiste_Perronneau_-_Magdaleine_Pinceloup_de_la_Grange,_née_de_Parseval.jpg']\n",
      "JSON Objects: [{'file_name': 'hello_world.py', 'file_type': 'code', 'language': 'Python', 'name': 'Hello World', 'description': \"A simple Python program that prints 'Hello, World!' to the console.\", 'author': 'Guido van Rossum', 'dependencies': [], 'version': 'Python 3.x', 'execution_result': {'stdout': 'Hello, World!\\n', 'stderr': '', 'return_code': 0}}, {'file_name': 'World_Energy_By_Country_And_Region_1965_to_2023.csv', 'url': 'https://www.kaggle.com/datasets/patricklford/world-energy-consumption', 'author': 'Patrickl Ford'}, {'file_name': 'bitcoin.pdf', 'file_type': 'article', 'title': 'Bitcoin: A Peer-to-Peer Electronic Cash System', 'author': 'Satoshi Nakamoto', 'journal': 'Decentralized Systems Workshop', 'year': '2008', 'url': 'https://www.bitcoin.org/bitcoin.pdf', 'abstract': 'A peer-to-peer electronic cash system based on cryptographic proof-of-work (PoW) is presented.', 'keywords': ['Bitcoin', 'cryptography', 'peer-to-peer'], 'doi': None, 'citation_count': 1000}, {'file_name': 'Jean-Baptiste_Perronneau_-_Magdaleine_Pinceloup_de_la_Grange,_née_de_Parseval.jpg', 'file_type': 'graphic', 'artist': {'name': 'Jean-Baptiste Perronneau', 'wikidata_id': 'Q2518370'}, 'title': 'Magdaleine Pinceloup de la Grange, née de Parseval', 'object_type': 'painting', 'date': '1747', 'medium': 'oil on canvas', 'dimensions': {'height': '64.9 cm (25.5 in)', 'width': '52.5 cm (20.6 in)'}, 'collection': {'name': 'Getty Center', 'wikidata_id': 'Q29247'}, 'current_location': {'room': 'S202 (Museum South Pavilion)'}, 'accession_number': '84.PA.665 (J. Paul Getty Museum)', 'object_history': [{'year': 1984, 'event': 'purchased by Getty Museum from The Matthiesen Gallery (London, England)'}], 'credit_line': \"Digital image courtesy of the Getty's Open Content Program.\", 'inscriptions': {'signature': '1747/ Perroneau', 'location': 'recto center right'}, 'notes': [{'text': 'This is a retouched picture, which means that it has been digitally altered from its original version. Modifications: A bit lighter and less green..'}], 'references': [{'url': 'http://www.getty.edu/art/collection/objects/747/jean-baptiste-perronneau-magdaleine-pinceloup-de-la-grange-nee-de-parseval-french-1747/', 'wikidata_id': None}, {'type': 'Google Arts & Culture asset ID', 'value': 'ggHWgLzxcKrz9w'}, {'type': 'J. Paul Getty Museum object ID', 'value': '103RGB'}], 'source': {'url': 'http://www.getty.edu/art/collection/objects/747/'}}]\n"
     ]
    }
   ],
   "source": [
    "import json\n",
    "import os\n",
    "\n",
    "def extract_file_name(obj):\n",
    "    global file_names\n",
    "    if 'file_name' in obj:  # Check if the object has a 'file_name' key\n",
    "        file_names.append(obj['file_name'])  # Extract the value of that key\n",
    "\n",
    "def get_object(objs):\n",
    "    global objects_list\n",
    "    for obj in objs:\n",
    "        extract_file_name(obj)  # Call the function to extract the file name\n",
    "        if isinstance(obj, dict):  # Check if the object is a dictionary (JSON object)\n",
    "            objects_list.append(obj)\n",
    "\n",
    "# Initialize lists to store file names and objects\n",
    "file_names = []\n",
    "objects_list = []\n",
    "\n",
    "# Specify the path to the JSON file relative to the current working directory\n",
    "file_path = os.path.join('..', 'upload', 'assets.json')\n",
    "\n",
    "try:\n",
    "    data = json.load(open(file_path))\n",
    "except FileNotFoundError as e:\n",
    "    print(f\"File not found: {e}\")\n",
    "else:\n",
    "    get_object(data)  # Call the function to get all objects\n",
    "\n",
    "print(\"File Names:\", file_names)\n",
    "print(\"JSON Objects:\", objects_list)"
   ]
  },
  {
   "cell_type": "code",
   "execution_count": 4,
   "id": "a4dfeef9-7925-4820-b54e-72c8f795663d",
   "metadata": {},
   "outputs": [
    {
     "name": "stdout",
     "output_type": "stream",
     "text": [
      "File Name: hello_world.py\n",
      "{'file_name': 'hello_world.py', 'file_type': 'code', 'language': 'Python', 'name': 'Hello World', 'description': \"A simple Python program that prints 'Hello, World!' to the console.\", 'author': 'Guido van Rossum', 'dependencies': [], 'version': 'Python 3.x', 'execution_result': {'stdout': 'Hello, World!\\n', 'stderr': '', 'return_code': 0}}\n",
      "\n",
      "File Name: World_Energy_By_Country_And_Region_1965_to_2023.csv\n",
      "{'file_name': 'World_Energy_By_Country_And_Region_1965_to_2023.csv', 'url': 'https://www.kaggle.com/datasets/patricklford/world-energy-consumption', 'author': 'Patrickl Ford'}\n",
      "\n",
      "File Name: bitcoin.pdf\n",
      "{'file_name': 'bitcoin.pdf', 'file_type': 'article', 'title': 'Bitcoin: A Peer-to-Peer Electronic Cash System', 'author': 'Satoshi Nakamoto', 'journal': 'Decentralized Systems Workshop', 'year': '2008', 'url': 'https://www.bitcoin.org/bitcoin.pdf', 'abstract': 'A peer-to-peer electronic cash system based on cryptographic proof-of-work (PoW) is presented.', 'keywords': ['Bitcoin', 'cryptography', 'peer-to-peer'], 'doi': None, 'citation_count': 1000}\n",
      "\n",
      "File Name: Jean-Baptiste_Perronneau_-_Magdaleine_Pinceloup_de_la_Grange,_née_de_Parseval.jpg\n",
      "{'file_name': 'Jean-Baptiste_Perronneau_-_Magdaleine_Pinceloup_de_la_Grange,_née_de_Parseval.jpg', 'file_type': 'graphic', 'artist': {'name': 'Jean-Baptiste Perronneau', 'wikidata_id': 'Q2518370'}, 'title': 'Magdaleine Pinceloup de la Grange, née de Parseval', 'object_type': 'painting', 'date': '1747', 'medium': 'oil on canvas', 'dimensions': {'height': '64.9 cm (25.5 in)', 'width': '52.5 cm (20.6 in)'}, 'collection': {'name': 'Getty Center', 'wikidata_id': 'Q29247'}, 'current_location': {'room': 'S202 (Museum South Pavilion)'}, 'accession_number': '84.PA.665 (J. Paul Getty Museum)', 'object_history': [{'year': 1984, 'event': 'purchased by Getty Museum from The Matthiesen Gallery (London, England)'}], 'credit_line': \"Digital image courtesy of the Getty's Open Content Program.\", 'inscriptions': {'signature': '1747/ Perroneau', 'location': 'recto center right'}, 'notes': [{'text': 'This is a retouched picture, which means that it has been digitally altered from its original version. Modifications: A bit lighter and less green..'}], 'references': [{'url': 'http://www.getty.edu/art/collection/objects/747/jean-baptiste-perronneau-magdaleine-pinceloup-de-la-grange-nee-de-parseval-french-1747/', 'wikidata_id': None}, {'type': 'Google Arts & Culture asset ID', 'value': 'ggHWgLzxcKrz9w'}, {'type': 'J. Paul Getty Museum object ID', 'value': '103RGB'}], 'source': {'url': 'http://www.getty.edu/art/collection/objects/747/'}}\n",
      "\n"
     ]
    }
   ],
   "source": [
    "import json\n",
    "\n",
    "def extract_file_name(obj):\n",
    "    global file_names\n",
    "    if 'file_name' in obj:  # Check if the object has a 'file_name' key\n",
    "        file_names.append(obj['file_name'])  # Extract the value of that key\n",
    "\n",
    "def get_object(objs):\n",
    "    global objects_list\n",
    "    for obj in objs:\n",
    "        extract_file_name(obj)  # Call the function to extract the file name\n",
    "        if isinstance(obj, dict):  # Check if the object is a dictionary (JSON object)\n",
    "            objects_list.append(obj)\n",
    "\n",
    "# Initialize lists to store file names and objects\n",
    "file_names = []\n",
    "objects_list = []\n",
    "\n",
    "# Specify the path to the JSON file relative to the current working directory\n",
    "file_path = os.path.join('..', 'upload', 'assets.json')\n",
    "\n",
    "try:\n",
    "    data = json.load(open(file_path))\n",
    "except FileNotFoundError as e:\n",
    "    print(f\"File not found: {e}\")\n",
    "else:\n",
    "    get_object(data)  # Call the function to get all objects\n",
    "\n",
    "# Iterate over file names and objects\n",
    "for i, obj in enumerate(objects_list):\n",
    "    print(f\"File Name: {file_names[i]}\")\n",
    "    upload_json_to_ipfs(file_names[i])\n",
    "    print(obj)\n",
    "    upload_json_to_ipfs(obj)\n",
    "    print()  # Print a newline for readability\n",
    "\n"
   ]
  },
  {
   "cell_type": "code",
   "execution_count": null,
   "id": "ddaaf945-e072-490a-b0c9-fb43e1cc241c",
   "metadata": {},
   "outputs": [],
   "source": []
  }
 ],
 "metadata": {
  "kernelspec": {
   "display_name": "Python 3 (ipykernel)",
   "language": "python",
   "name": "python3"
  },
  "language_info": {
   "codemirror_mode": {
    "name": "ipython",
    "version": 3
   },
   "file_extension": ".py",
   "mimetype": "text/x-python",
   "name": "python",
   "nbconvert_exporter": "python",
   "pygments_lexer": "ipython3",
   "version": "3.9.19"
  }
 },
 "nbformat": 4,
 "nbformat_minor": 5
}
