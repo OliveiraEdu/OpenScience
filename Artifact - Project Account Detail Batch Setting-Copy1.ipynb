{
 "cells": [
  {
   "cell_type": "markdown",
   "id": "ba09984c-ef5d-42fb-984a-4671840c7b32",
   "metadata": {},
   "source": [
    "# 2 - Artifact - Project Account Detail Batch Setting "
   ]
  },
  {
   "cell_type": "markdown",
   "id": "d7977408-12fd-4dd6-8a66-8b53dd6bb25e",
   "metadata": {},
   "source": [
    "2. 1 - Overview\n",
    "\n",
    "This notebook deploys a contract for account detail setting and than read key/values pairs for each account at `datatase/accounts.csv` and set account details in batch."
   ]
  },
  {
   "cell_type": "code",
   "execution_count": 10,
   "id": "4d50ea32-041f-4437-a044-7381cc043c09",
   "metadata": {},
   "outputs": [
    {
     "name": "stdout",
     "output_type": "stream",
     "text": [
      "\tEntering \"create_contract\"\n",
      "('STATELESS_VALIDATION_SUCCESS', 1, 0)\n",
      "('ENOUGH_SIGNATURES_COLLECTED', 9, 0)\n",
      "('STATEFUL_VALIDATION_SUCCESS', 3, 0)\n",
      "('COMMITTED', 5, 0)\n",
      "\tLeaving \"create_contract\"\n",
      "\tEntering \"get_engine_receipts_address\"\n",
      "\tLeaving \"get_engine_receipts_address\"\n",
      "\tEntering \"get_engine_receipts_result\"\n",
      "\n",
      "\tLeaving \"get_engine_receipts_result\"\n"
     ]
    }
   ],
   "source": [
    "from Crypto.Hash import keccak\n",
    "import os\n",
    "import binascii\n",
    "from iroha import IrohaCrypto\n",
    "from iroha import Iroha, IrohaGrpc\n",
    "from iroha.ed25519 import H\n",
    "import integration_helpers\n",
    "from iroha.primitive_pb2 import can_set_my_account_detail\n",
    "import sys\n",
    "import csv\n",
    "import json\n",
    "\n",
    "\n",
    "\n",
    "if sys.version_info[0] < 3:\n",
    "    raise Exception(\"Python 3 or a more recent version is required.\")\n",
    "\n",
    "# Load configuration from config.json file\n",
    "config_path = \"config.json\"  # Update this path as needed\n",
    "with open(config_path, \"r\") as f:\n",
    "    config = json.load(f)\n",
    "\n",
    "IROHA_HOST_ADDR = config[\"IROHA_HOST_ADDR\"]\n",
    "IROHA_PORT = config[\"IROHA_PORT\"]\n",
    "ADMIN_ACCOUNT_ID = config[\"ADMIN_ACCOUNT_ID\"]\n",
    "ADMIN_PRIVATE_KEY = config[\"ADMIN_PRIVATE_KEY\"]\n",
    "\n",
    "iroha = Iroha(ADMIN_ACCOUNT_ID)\n",
    "net = IrohaGrpc(\"{}:{}\".format(IROHA_HOST_ADDR, IROHA_PORT))\n",
    "\n",
    "@integration_helpers.trace\n",
    "def create_contract():\n",
    "    bytecode = \"608060405234801561001057600080fd5b5073a6abc17819738299b3b2c1ce46d55c74f04e290c6000806101000a81548173ffffffffffffffffffffffffffffffffffffffff021916908373ffffffffffffffffffffffffffffffffffffffff160217905550610b4c806100746000396000f3fe608060405234801561001057600080fd5b506004361061004c5760003560e01c80635bdb3a41146100515780637949a1b31461006f578063b7d66df71461009f578063d4e804ab146100cf575b600080fd5b6100596100ed565b6040516100669190610879565b60405180910390f35b61008960048036038101906100849190610627565b61024c565b6040516100969190610879565b60405180910390f35b6100b960048036038101906100b49190610693565b6103bb565b6040516100c69190610879565b60405180910390f35b6100d761059b565b6040516100e4919061085e565b60405180910390f35b606060006040516024016040516020818303038152906040527f5bdb3a41000000000000000000000000000000000000000000000000000000007bffffffffffffffffffffffffffffffffffffffffffffffffffffffff19166020820180517bffffffffffffffffffffffffffffffffffffffffffffffffffffffff8381831617835250505050905060008060008054906101000a900473ffffffffffffffffffffffffffffffffffffffff1673ffffffffffffffffffffffffffffffffffffffff16836040516101be9190610830565b600060405180830381855af49150503d80600081146101f9576040519150601f19603f3d011682016040523d82523d6000602084013e6101fe565b606091505b509150915081610243576040517f08c379a000000000000000000000000000000000000000000000000000000000815260040161023a9061091e565b60405180910390fd5b80935050505090565b60606000838360405160240161026392919061089b565b6040516020818303038152906040527f7949a1b3000000000000000000000000000000000000000000000000000000007bffffffffffffffffffffffffffffffffffffffffffffffffffffffff19166020820180517bffffffffffffffffffffffffffffffffffffffffffffffffffffffff8381831617835250505050905060008060008054906101000a900473ffffffffffffffffffffffffffffffffffffffff1673ffffffffffffffffffffffffffffffffffffffff168360405161032a9190610830565b600060405180830381855af49150503d8060008114610365576040519150601f19603f3d011682016040523d82523d6000602084013e61036a565b606091505b5091509150816103af576040517f08c379a00000000000000000000000000000000000000000000000000000000081526004016103a69061091e565b60405180910390fd5b80935050505092915050565b606060008484846040516024016103d4939291906108d2565b6040516020818303038152906040527fb7d66df7000000000000000000000000000000000000000000000000000000007bffffffffffffffffffffffffffffffffffffffffffffffffffffffff19166020820180517bffffffffffffffffffffffffffffffffffffffffffffffffffffffff8381831617835250505050905060008060008054906101000a900473ffffffffffffffffffffffffffffffffffffffff1673ffffffffffffffffffffffffffffffffffffffff168360405161049b9190610830565b600060405180830381855af49150503d80600081146104d6576040519150601f19603f3d011682016040523d82523d6000602084013e6104db565b606091505b509150915081610520576040517f08c379a00000000000000000000000000000000000000000000000000000000081526004016105179061091e565b60405180910390fd5b8460405161052e9190610847565b6040518091039020866040516105449190610847565b60405180910390208860405161055a9190610847565b60405180910390207f5e1b38cd47cf21b75d5051af29fa321eedd94877db5ac62067a076770eddc9d060405160405180910390a48093505050509392505050565b60008054906101000a900473ffffffffffffffffffffffffffffffffffffffff1681565b60006105d26105cd84610963565b61093e565b9050828152602081018484840111156105ea57600080fd5b6105f5848285610a14565b509392505050565b600082601f83011261060e57600080fd5b813561061e8482602086016105bf565b91505092915050565b6000806040838503121561063a57600080fd5b600083013567ffffffffffffffff81111561065457600080fd5b610660858286016105fd565b925050602083013567ffffffffffffffff81111561067d57600080fd5b610689858286016105fd565b9150509250929050565b6000806000606084860312156106a857600080fd5b600084013567ffffffffffffffff8111156106c257600080fd5b6106ce868287016105fd565b935050602084013567ffffffffffffffff8111156106eb57600080fd5b6106f7868287016105fd565b925050604084013567ffffffffffffffff81111561071457600080fd5b610720868287016105fd565b9150509250925092565b610733816109e2565b82525050565b600061074482610994565b61074e81856109aa565b935061075e818560208601610a23565b61076781610ab6565b840191505092915050565b600061077d82610994565b61078781856109bb565b9350610797818560208601610a23565b80840191505092915050565b60006107ae8261099f565b6107b881856109c6565b93506107c8818560208601610a23565b6107d181610ab6565b840191505092915050565b60006107e78261099f565b6107f181856109d7565b9350610801818560208601610a23565b80840191505092915050565b600061081a6027836109c6565b915061082582610ac7565b604082019050919050565b600061083c8284610772565b915081905092915050565b600061085382846107dc565b915081905092915050565b6000602082019050610873600083018461072a565b92915050565b600060208201905081810360008301526108938184610739565b905092915050565b600060408201905081810360008301526108b581856107a3565b905081810360208301526108c981846107a3565b90509392505050565b600060608201905081810360008301526108ec81866107a3565b9050818103602083015261090081856107a3565b9050818103604083015261091481846107a3565b9050949350505050565b600060208201905081810360008301526109378161080d565b9050919050565b6000610948610959565b90506109548282610a56565b919050565b6000604051905090565b600067ffffffffffffffff82111561097e5761097d610a87565b5b61098782610ab6565b9050602081019050919050565b600081519050919050565b600081519050919050565b600082825260208201905092915050565b600081905092915050565b600082825260208201905092915050565b600081905092915050565b60006109ed826109f4565b9050919050565b600073ffffffffffffffffffffffffffffffffffffffff82169050919050565b82818337600083830152505050565b60005b83811015610a41578082015181840152602081019050610a26565b83811115610a50576000848401525b50505050565b610a5f82610ab6565b810181811067ffffffffffffffff82111715610a7e57610a7d610a87565b5b80604052505050565b7f4e487b7100000000000000000000000000000000000000000000000000000000600052604160045260246000fd5b6000601f19601f8301169050919050565b7f4572726f722063616c6c696e67207365727669636520636f6e7472616374206660008201527f756e6374696f6e0000000000000000000000000000000000000000000000000060208201525056fea26469706673582212206ad40afbd4cc9c87ae154542d003c9538e4b89473a13cadd3cbf618ea181206864736f6c63430008040033\"\n",
    "    \"\"\"Bytecode was generated using remix editor  https://remix.ethereum.org/ from file detail.sol. \"\"\"\n",
    "    tx = iroha.transaction(\n",
    "        [iroha.command(\"CallEngine\", caller=ADMIN_ACCOUNT_ID, input=bytecode)]\n",
    "    )\n",
    "    IrohaCrypto.sign_transaction(tx, ADMIN_PRIVATE_KEY)\n",
    "    net.send_tx(tx)\n",
    "    hex_hash = binascii.hexlify(IrohaCrypto.hash(tx))\n",
    "    for status in net.tx_status_stream(tx):\n",
    "        print(status)\n",
    "    return hex_hash\n",
    "\n",
    "@integration_helpers.trace\n",
    "def set_account_detail(address, account, key, value):\n",
    "    params = integration_helpers.get_first_four_bytes_of_keccak(\n",
    "        b\"setAccountDetail(string,string,string)\"\n",
    "    )\n",
    "    no_of_param = 3\n",
    "    for x in range(no_of_param):\n",
    "        params = params + integration_helpers.left_padded_address_of_param(\n",
    "            x, no_of_param\n",
    "        )\n",
    "    params = params + integration_helpers.argument_encoding(account)  # source account id\n",
    "    params = params + integration_helpers.argument_encoding(key)  # key\n",
    "    params = params + integration_helpers.argument_encoding(value)  #  value\n",
    "    tx = iroha.transaction(\n",
    "        [\n",
    "            iroha.command(\n",
    "                \"CallEngine\", caller=ADMIN_ACCOUNT_ID, callee=address, input=params\n",
    "            )\n",
    "        ]\n",
    "    )\n",
    "    IrohaCrypto.sign_transaction(tx, ADMIN_PRIVATE_KEY)\n",
    "    response = net.send_tx(tx)\n",
    "    print(response)\n",
    "    for status in net.tx_status_stream(tx):\n",
    "        print(status)\n",
    "    hex_hash = binascii.hexlify(IrohaCrypto.hash(tx))\n",
    "    return hex_hash\n",
    "\n",
    "# - Deploys the contract\n",
    "hash = create_contract()\n",
    "address = integration_helpers.get_engine_receipts_address(hash)\n",
    "integration_helpers.get_engine_receipts_result(hash)"
   ]
  },
  {
   "cell_type": "code",
   "execution_count": 11,
   "id": "f36b18e0-871f-4b42-a612-ded5e7796d0d",
   "metadata": {},
   "outputs": [
    {
     "name": "stdout",
     "output_type": "stream",
     "text": [
      "40713@test\n",
      "88228@test\n",
      "22324@test\n",
      "34035@test\n",
      "8507@test\n",
      "12982@test\n",
      "84013@test\n",
      "79508@test\n",
      "99298@test\n",
      "88401@test\n",
      "38153@test\n",
      "86727@test\n",
      "39616@test\n"
     ]
    }
   ],
   "source": [
    "# - Reads the accounts dataset and set account_id and additional key/value pairs\n",
    "with open('datasets/projects.csv', 'r') as csvfile:\n",
    "    reader = csv.DictReader(csvfile)\n",
    "    for row in reader:\n",
    "        project_id = row['project_id']\n",
    "        print(f\"{project_id}\")\n",
    "        \n",
    "# hash = set_account_detail(address, account_id, key, value)"
   ]
  },
  {
   "cell_type": "code",
   "execution_count": 9,
   "id": "fc91ee51-abb1-4eb4-91e4-848ea39bca8c",
   "metadata": {},
   "outputs": [
    {
     "name": "stdout",
     "output_type": "stream",
     "text": [
      "List of dictionaries:\n",
      "Dictionary 1:\n",
      "{\"title\": \"Assessing the Impact of Urbanization on Avian Migration Patterns\", \"abstract\": \"This study aims to investigate the effects of urbanization on avian migration patterns and identify potential conservation strategies.\", \"keywords\": [\"urbanization\", \"avian migration\", \"conservation\"], \"start_date\": \"2020-01-01\", \"end_date\": \"2022-12-31\", \"funding_agency\": \"National Science Foundation\", \"location\": \"San Francisco Bay Area, California, USA\"}\n",
      "QmX89AFDuK7a44eTQTEdVHaGpoB2KuxFNF1Z58X8VpdUnR\n",
      "Dictionary 2:\n",
      "{\"title\": \"Investigating the Effects of Climate Change on Coral Reef Ecosystems\", \"abstract\": \"This study aims to investigate the impacts of climate change on coral reef ecosystems and identify potential mitigation strategies.\", \"keywords\": [\"climate change\", \"coral reefs\", \"ecosystem resilience\"], \"start_date\": \"2019-06-01\", \"end_date\": \"2021-05-31\", \"funding_agency\": \"National Oceanic and Atmospheric Administration\", \"location\": \"Great Barrier Reef, Australia\"}\n",
      "QmSDWvDVspFSTmnRWryRvC8eJZY6RG9nxCN4wbcnFhJJoD\n",
      "Dictionary 3:\n",
      "{\"title\": \"Understanding the Role of Microplastics in Marine Food Webs\", \"abstract\": \"This study aims to investigate the impacts of microplastics on marine food webs and identify potential strategies for reducing plastic pollution.\", \"keywords\": [\"microplastics\", \"marine food webs\", \"plastic pollution\"], \"start_date\": \"2018-03-01\", \"end_date\": \"2020-02-28\", \"funding_agency\": \"Environmental Protection Agency\", \"location\": \"Gulf of Mexico, USA\"}\n",
      "QmZNXzVjn39kAiE5gefcM7xaNhh1ZCbHyPMNonpcMQVpAJ\n",
      "Dictionary 4:\n",
      "{\"title\": \"Developing Sustainable Agriculture Practices for Small-Scale Farmers\", \"abstract\": \"This study aims to develop and evaluate sustainable agriculture practices for small-scale farmers in developing countries.\", \"keywords\": [\"sustainable agriculture\", \"small-scale farming\", \"developing countries\"], \"start_date\": \"2017-09-01\", \"end_date\": \"2019-08-31\", \"funding_agency\": \"Bill and Melinda Gates Foundation\", \"location\": \"Rwanda, Africa\"}\n",
      "QmZDDN6YBoiJrQ1wLSAUVWZB9SymzQhM7aFJd1i6F4aWuK\n",
      "Dictionary 5:\n",
      "{\"title\": \"Investigating the Effects of Climate Change on Coral Reef Ecosystems\", \"abstract\": \"This study aims to investigate the impacts of climate change on coral reef ecosystems and identify potential management strategies.\", \"keywords\": [\"climate change\", \"coral reefs\", \"ecosystem management\"], \"start_date\": \"2019-06-01\", \"end_date\": \"2021-05-31\", \"funding_agency\": \"National Oceanic and Atmospheric Administration (NOAA)\", \"location\": \"Hawaii, USA\"}\n",
      "QmTdYH7DqAPN3axqnMcKMPgNbRcNjXG6SAJgts7nPQLkeU\n",
      "Dictionary 6:\n",
      "{\"title\": \"Examining the Relationship Between Microplastics and Marine Life\", \"abstract\": \"This study aims to investigate the effects of microplastics on marine life and identify potential strategies for reducing plastic pollution.\", \"keywords\": [\"microplastics\", \"marine life\", \"plastic pollution\"], \"start_date\": \"2018-01-01\", \"end_date\": \"2020-12-31\", \"funding_agency\": \"Environmental Protection Agency (EPA)\", \"location\": \"Great Lakes, USA\"}\n",
      "QmW3ehEVcdLjYcy1HXHZSYYbBBECMENeo37khLGEUuXuAQ\n",
      "Dictionary 7:\n",
      "{\"title\": \"Developing a Novel Materials Platform for Energy Harvesting Applications\", \"abstract\": \"This project aims to design and synthesize a new class of materials with enhanced energy harvesting capabilities.\", \"keywords\": [\"materials science\", \"energy harvesting\", \"nanotechnology\"], \"start_date\": \"2018-06-01\", \"end_date\": \"2021-05-31\", \"funding_agency\": \"Department of Energy\", \"location\": \"Cambridge, Massachusetts, USA\"}\n",
      "QmXMG9hstyRu2B3uuAi3f7eTEukBdSAAMPrW1JbnQeBDdC\n",
      "Dictionary 8:\n",
      "{\"title\": \"Investigating the Role of MicroRNAs in Cancer Progression and Metastasis\", \"abstract\": \"This study aims to elucidate the functional significance of microRNAs in cancer progression and metastasis.\", \"keywords\": [\"cancer biology\", \"microRNA\", \"epigenetics\"], \"start_date\": \"2016-01-01\", \"end_date\": \"2019-12-31\", \"funding_agency\": \"Wellcome Trust\", \"location\": \"New Delhi, India\"}\n",
      "QmRWh4TKnyXb9zL2raBc4BEVQbT9Vh1BdTKba5fynZ6d2W\n",
      "Dictionary 9:\n",
      "{\"title\": \"Development of Novel Antimicrobial Materials for Wound Healing\", \"abstract\": \"This study aims to design and synthesize new antimicrobial materials that can accelerate wound healing and prevent infection.\", \"keywords\": [\"antimicrobial\", \"materials science\", \"wound healing\"], \"start_date\": \"2019-06-01\", \"end_date\": \"2022-05-31\", \"funding_agency\": \"National Institutes of Health (NIH)\", \"location\": \"Cambridge, Massachusetts, USA\"}\n",
      "QmcQSnES8NAijt1nymx4Eh773xRZAMQGQiW6cXJgtofGrC\n",
      "Dictionary 10:\n",
      "{\"title\": \"Investigating the Effects of Climate Change on Coral Reef Ecosystems\", \"abstract\": \"This study aims to investigate the impacts of climate change on coral reef ecosystems and identify potential adaptation strategies.\", \"keywords\": [\"climate change\", \"coral reefs\", \"ecosystem resilience\"], \"start_date\": \"2018-01-01\", \"end_date\": \"2021-12-31\", \"funding_agency\": \"National Oceanic and Atmospheric Administration (NOAA)\", \"location\": \"Austin, Texas, USA\"}\n",
      "QmWXcR26LYn8MwuAMwh27XBUvLdEmAHv6zWTd1h1nfgwLo\n",
      "Dictionary 11:\n",
      "{\"title\": \"Understanding the Role of Soil Microorganisms in Plant Growth\", \"abstract\": \"This study aims to investigate the effects of soil microorganisms on plant growth and development.\", \"keywords\": [\"soil microbiology\", \"plant biology\", \"ecosystem services\"], \"start_date\": \"2019-09-01\", \"end_date\": \"2022-08-31\", \"funding_agency\": \"National Science Foundation (NSF)\", \"location\": \"Boston, Massachusetts, USA\"}\n",
      "QmW6VbuwDusYrL6HUN41EATZfyYaffy4iKQdEt9agYiLMB\n",
      "Dictionary 12:\n",
      "{\"title\": \"Investigating the Effects of Noise Pollution on Marine Mammals\", \"abstract\": \"This study aims to investigate the impacts of noise pollution on marine mammal behavior and physiology.\", \"keywords\": [\"noise pollution\", \"marine mammals\", \"conservation biology\"], \"start_date\": \"2018-01-01\", \"end_date\": \"2021-12-31\", \"funding_agency\": \"National Oceanic and Atmospheric Administration (NOAA)\", \"location\": \"Ann Arbor, Michigan, USA\"}\n",
      "QmcJxgdieE4ayXGyFy3SZuAbyWYDrWWq9UcK8ThxBvZTsk\n",
      "Dictionary 13:\n",
      "{\"title\": \"Developing Novel Biomarkers for Cancer Diagnosis and Treatment\", \"abstract\": \"This study aims to identify novel biomarkers for cancer diagnosis and treatment using advanced genomics and bioinformatics approaches.\", \"keywords\": [\"cancer research\", \"biomarkers\", \"genomics\"], \"start_date\": \"2020-03-01\", \"end_date\": \"2023-02-28\", \"funding_agency\": \"National Institutes of Health (NIH)\", \"location\": \"Palo Alto, California, USA\"}\n",
      "QmPpibf8ZSQqBrJ9GeGSrH3rUSpoFJHssrWby7QBsFEkbQ\n",
      "Dictionary 14:\n",
      "{\"title\": \"Investigating the Role of Gut Microbiota in Human Health and Disease\", \"abstract\": \"This study aims to elucidate the functional significance of gut microbiota in human health and disease.\", \"keywords\": [\"gut microbiology\", \"human health\", \"disease prevention\"], \"start_date\": \"2018-09-01\", \"end_date\": \"2022-08-31\", \"funding_agency\": \"National Institutes of Health (NIH)\", \"location\": \"Austin, Texas, USA\"}\n",
      "QmeqmDJ4mVuQYqTGV2RJPAiVMXqDBxDsdG7VV25MfT4kj1\n",
      "Dictionary 15:\n",
      "{\"title\": \"Examining the Impact of Microplastics on Freshwater Ecosystems\", \"abstract\": \"This study aims to investigate the effects of microplastics on freshwater ecosystems and identify potential mitigation strategies.\", \"keywords\": [\"microplastics\", \"freshwater ecosystems\", \"conservation\"], \"start_date\": \"2020-03-01\", \"end_date\": \"2023-02-28\", \"funding_agency\": \"Environmental Protection Agency (EPA)\", \"location\": \"Ann Arbor, Michigan, USA\"}\n",
      "Qmc6aNvhFJyBKFMf9v3nqg95XxPtHX7TKXTjLQW3CE2MHm\n",
      "Dictionary 16:\n",
      "{\"title\": \"Investigating the Role of Nanoparticles in Plant Growth and Development\", \"abstract\": \"This study aims to elucidate the effects of nanoparticles on plant growth and development, with implications for agriculture and environmental sustainability.\", \"keywords\": [\"nanotechnology\", \"plant biology\", \"sustainable agriculture\"], \"start_date\": \"2019-06-01\", \"end_date\": \"2022-05-31\", \"funding_agency\": \"National Science Foundation (NSF)\", \"location\": \"Stanford, California, USA\"}\n",
      "QmTR5yzTvkF6bCQWnCg4dkgQdhN11DhnqMDiRqf4DGEWUY\n"
     ]
    }
   ],
   "source": [
    "#For metadata handling\n",
    "from json_processing import display_json_data\n",
    "\n",
    "display_json_data('datasets/projects_metadata.json')"
   ]
  },
  {
   "cell_type": "code",
   "execution_count": null,
   "id": "6c68464d-00f5-458c-b4ab-e617b0790651",
   "metadata": {},
   "outputs": [],
   "source": []
  }
 ],
 "metadata": {
  "kernelspec": {
   "display_name": "Python 3 (ipykernel)",
   "language": "python",
   "name": "python3"
  },
  "language_info": {
   "codemirror_mode": {
    "name": "ipython",
    "version": 3
   },
   "file_extension": ".py",
   "mimetype": "text/x-python",
   "name": "python",
   "nbconvert_exporter": "python",
   "pygments_lexer": "ipython3",
   "version": "3.9.20"
  }
 },
 "nbformat": 4,
 "nbformat_minor": 5
}
