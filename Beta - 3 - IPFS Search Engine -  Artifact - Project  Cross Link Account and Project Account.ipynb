{
 "cells": [
  {
   "cell_type": "markdown",
   "id": "9a043d51-4a22-4186-975e-7e3e8a4b54ef",
   "metadata": {},
   "source": [
    "1 - Deploys a smart contract into the Iroha 1 blockchain for details (attributes) setting;"
   ]
  },
  {
   "cell_type": "code",
   "execution_count": 1,
   "id": "d4a1c5a2-75c3-482e-999c-70eb25226078",
   "metadata": {
    "editable": true,
    "slideshow": {
     "slide_type": ""
    },
    "tags": []
   },
   "outputs": [
    {
     "name": "stdout",
     "output_type": "stream",
     "text": [
      "\tEntering \"create_contract\"\n",
      "('STATELESS_VALIDATION_SUCCESS', 1, 0)\n",
      "('ENOUGH_SIGNATURES_COLLECTED', 9, 0)\n",
      "('STATEFUL_VALIDATION_SUCCESS', 3, 0)\n",
      "('COMMITTED', 5, 0)\n",
      "\tLeaving \"create_contract\"\n",
      "\tEntering \"get_engine_receipts_result\"\n",
      "\n",
      "\tLeaving \"get_engine_receipts_result\"\n",
      "done\n"
     ]
    }
   ],
   "source": [
    "from Crypto.Hash import keccak\n",
    "import os\n",
    "import binascii\n",
    "from iroha import IrohaCrypto\n",
    "from iroha import Iroha, IrohaGrpc\n",
    "from iroha.ed25519 import H\n",
    "import integration_helpers\n",
    "from iroha.primitive_pb2 import can_set_my_account_detail\n",
    "import sys\n",
    "# import csv\n",
    "import json\n",
    "import icecream as ic\n",
    "\n",
    "if sys.version_info[0] < 3:\n",
    "    raise Exception(\"Python 3 or a more recent version is required.\")\n",
    "\n",
    "# Load configuration from config.json file\n",
    "config_path = \"config.json\"  # Update this path as needed\n",
    "with open(config_path, \"r\") as f:\n",
    "    config = json.load(f)\n",
    "\n",
    "IROHA_HOST_ADDR = config[\"IROHA_HOST_ADDR\"]\n",
    "IROHA_PORT = config[\"IROHA_PORT\"]\n",
    "ADMIN_ACCOUNT_ID = config[\"ADMIN_ACCOUNT_ID\"]\n",
    "ADMIN_PRIVATE_KEY = config[\"ADMIN_PRIVATE_KEY\"]\n",
    "\n",
    "iroha = Iroha(ADMIN_ACCOUNT_ID)\n",
    "net = IrohaGrpc(\"{}:{}\".format(IROHA_HOST_ADDR, IROHA_PORT))\n",
    "\n",
    "\n",
    "@integration_helpers.trace\n",
    "def create_contract():\n",
    "    bytecode = \"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\"\n",
    "    \"\"\"Bytecode was generated using remix editor  https://remix.ethereum.org/ from file detail.sol. \"\"\"\n",
    "    tx = iroha.transaction(\n",
    "        [iroha.command(\"CallEngine\", caller=ADMIN_ACCOUNT_ID, input=bytecode)]\n",
    "    )\n",
    "    IrohaCrypto.sign_transaction(tx, ADMIN_PRIVATE_KEY)\n",
    "    net.send_tx(tx)\n",
    "    hex_hash = binascii.hexlify(IrohaCrypto.hash(tx))\n",
    "    for status in net.tx_status_stream(tx):\n",
    "        print(status)\n",
    "    return hex_hash\n",
    "\n",
    "hash = create_contract()\n",
    "integration_helpers.get_engine_receipts_result(hash)\n",
    "print(\"done\")"
   ]
  },
  {
   "cell_type": "markdown",
   "id": "a4ea1051-cb1c-4c29-97e5-38ba90248081",
   "metadata": {},
   "source": [
    "2 - Data extraction from JSON-LD.\n",
    "\n",
    "Extracts account ids from `datasets/accounts.json` and `datasets/projects.json`.\n",
    "\n",
    "Must update `json_ld_index` with a entry number related to an existing object in `datasets/accounts.json` and `datasets/projects.json`"
   ]
  },
  {
   "cell_type": "code",
   "execution_count": 2,
   "id": "8f8384a9-49db-44a2-b222-f3657a3bc9d9",
   "metadata": {},
   "outputs": [],
   "source": [
    "# Index for objects in both user account and project account JSON-LDs.\n",
    "json_ld_index = 0"
   ]
  },
  {
   "cell_type": "markdown",
   "id": "26e068d0-2247-4fd3-827f-4144b66965e1",
   "metadata": {},
   "source": [
    "4 - Sets details for both User and Project accounts providing a logical link between them for later references."
   ]
  },
  {
   "cell_type": "code",
   "execution_count": 3,
   "id": "126df4cd-d358-43cc-997f-e17453a5b8dc",
   "metadata": {
    "editable": true,
    "slideshow": {
     "slide_type": ""
    },
    "tags": []
   },
   "outputs": [
    {
     "name": "stdout",
     "output_type": "stream",
     "text": [
      "\tEntering \"get_engine_receipts_address\"\n",
      "\tLeaving \"get_engine_receipts_address\"\n",
      "\tEntering \"get_engine_receipts_address\"\n",
      "\tLeaving \"get_engine_receipts_address\"\n",
      "('STATELESS_VALIDATION_SUCCESS', 1, 0)\n",
      "('ENOUGH_SIGNATURES_COLLECTED', 9, 0)\n",
      "('STATEFUL_VALIDATION_SUCCESS', 3, 0)\n",
      "('COMMITTED', 5, 0)\n",
      "('STATELESS_VALIDATION_SUCCESS', 1, 0)\n",
      "('ENOUGH_SIGNATURES_COLLECTED', 9, 0)\n",
      "('STATEFUL_VALIDATION_SUCCESS', 3, 0)\n",
      "('COMMITTED', 5, 0)\n",
      "Updated user account cranky_lederberg@test with linked project 77557@test\n",
      "Updated project account 77557@test with linked user cranky_lederberg@test\n",
      "User account cranky_lederberg@test linked to project 77557@test\n",
      "Project account 77557@test linked to user cranky_lederberg@test\n"
     ]
    }
   ],
   "source": [
    "import json\n",
    "import os\n",
    "import binascii\n",
    "\n",
    "address = integration_helpers.get_engine_receipts_address(hash)\n",
    "\n",
    "\n",
    "# Function to link details using blockchain\n",
    "def set_account_detail(address, account, key, value):\n",
    "    params = integration_helpers.get_first_four_bytes_of_keccak(\n",
    "        b\"setAccountDetail(string,string,string)\"\n",
    "    )\n",
    "    no_of_param = 3\n",
    "    for x in range(no_of_param):\n",
    "        params = params + integration_helpers.left_padded_address_of_param(\n",
    "            x, no_of_param\n",
    "        )\n",
    "    params = params + integration_helpers.argument_encoding(account)  # account id\n",
    "    params = params + integration_helpers.argument_encoding(key)  # key\n",
    "    params = params + integration_helpers.argument_encoding(value)  # value\n",
    "    tx = iroha.transaction(\n",
    "        [\n",
    "            iroha.command(\n",
    "                \"CallEngine\", caller=ADMIN_ACCOUNT_ID, callee=address, input=params\n",
    "            )\n",
    "        ]\n",
    "    )\n",
    "    IrohaCrypto.sign_transaction(tx, ADMIN_PRIVATE_KEY)\n",
    "    response = net.send_tx(tx)\n",
    "    for status in net.tx_status_stream(tx):\n",
    "        print(status)\n",
    "    hex_hash = binascii.hexlify(IrohaCrypto.hash(tx))\n",
    "    return hex_hash\n",
    "\n",
    "# Function to update user account with linked project\n",
    "def update_user_account_link(user_account_id, linked_project_id, accounts_filename=\"datasets/accounts.json\"):\n",
    "    try:\n",
    "        if os.path.exists(accounts_filename):\n",
    "            with open(accounts_filename, mode='r', encoding='utf-8') as file:\n",
    "                data = json.load(file)\n",
    "        else:\n",
    "            print(f\"{accounts_filename} does not exist.\")\n",
    "            return\n",
    "\n",
    "        user_found = False\n",
    "\n",
    "        # Look for the user account and update it\n",
    "        for entry in data[\"@graph\"]:\n",
    "            if entry[\"@type\"] == \"foaf:Person\" and entry.get(\"foaf:holdsAccount\", {}).get(\"schema:identifier\") == user_account_id:\n",
    "                entry[\"schema:linked_project\"] = linked_project_id\n",
    "                user_found = True\n",
    "                print(f\"Updated user account {user_account_id} with linked project {linked_project_id}\")\n",
    "                break\n",
    "\n",
    "        if not user_found:\n",
    "            print(f\"User account {user_account_id} not found.\")\n",
    "\n",
    "        # Write back the updated data\n",
    "        with open(accounts_filename, mode='w', encoding='utf-8') as file:\n",
    "            json.dump(data, file, indent=4)\n",
    "\n",
    "    except Exception as e:\n",
    "        print(f\"Error updating user account in JSON-LD: {str(e)}\")\n",
    "\n",
    "\n",
    "# Function to update project account with linked user\n",
    "def update_project_account_link(project_account_id, linked_user_id, projects_filename=\"datasets/projects.json\"):\n",
    "    try:\n",
    "        if os.path.exists(projects_filename):\n",
    "            with open(projects_filename, mode='r', encoding='utf-8') as file:\n",
    "                data = json.load(file)\n",
    "        else:\n",
    "            print(f\"{projects_filename} does not exist.\")\n",
    "            return\n",
    "\n",
    "        project_found = False\n",
    "\n",
    "        # Look for the project account and update it\n",
    "        for entry in data[\"@graph\"]:\n",
    "            if entry[\"@type\"] == \"schema:ResearchProject\" and entry.get(\"schema:identifier\") == project_account_id:\n",
    "                entry[\"schema:linked_user\"] = linked_user_id\n",
    "                project_found = True\n",
    "                print(f\"Updated project account {project_account_id} with linked user {linked_user_id}\")\n",
    "                break\n",
    "\n",
    "        if not project_found:\n",
    "            print(f\"Project account {project_account_id} not found.\")\n",
    "\n",
    "        # Write back the updated data\n",
    "        with open(projects_filename, mode='w', encoding='utf-8') as file:\n",
    "            json.dump(data, file, indent=4)\n",
    "\n",
    "    except Exception as e:\n",
    "        print(f\"Error updating project account in JSON-LD: {str(e)}\")\n",
    "\n",
    "\n",
    "# Function to read accounts from JSON-LD\n",
    "def read_user_accounts_from_jsonld(file_path):\n",
    "    with open(file_path, mode='r', encoding='utf-8') as file:\n",
    "        data = json.load(file)\n",
    "        user_accounts = []\n",
    "        for entry in data[\"@graph\"]:\n",
    "            if entry[\"@type\"] == \"foaf:Person\":\n",
    "                account_id = entry.get(\"foaf:holdsAccount\", {}).get(\"schema:identifier\")\n",
    "                if account_id:\n",
    "                    user_accounts.append({'account_id': account_id})\n",
    "        return user_accounts\n",
    "\n",
    "\n",
    "def read_project_accounts_from_jsonld(file_path):\n",
    "    with open(file_path, mode='r', encoding='utf-8') as file:\n",
    "        data = json.load(file)\n",
    "        project_accounts = []\n",
    "        for entry in data[\"@graph\"]:\n",
    "            if entry[\"@type\"] == \"schema:ResearchProject\":\n",
    "                project_id = entry.get(\"schema:identifier\")\n",
    "                if project_id:\n",
    "                    project_accounts.append({'account_id': project_id})\n",
    "        return project_accounts\n",
    "\n",
    "\n",
    "# Example execution of the previous snippet\n",
    "address = integration_helpers.get_engine_receipts_address(hash)\n",
    "\n",
    "# Read accounts from JSON-LD\n",
    "user_accounts = read_user_accounts_from_jsonld('datasets/accounts.json')\n",
    "project_accounts = read_project_accounts_from_jsonld('datasets/projects.json')\n",
    "\n",
    "# Assuming json_ld_index is defined\n",
    "user_account = user_accounts[json_ld_index]\n",
    "project_account = project_accounts[json_ld_index]\n",
    "\n",
    "# Set project_id as a detail for the user account\n",
    "hash_user_to_project = set_account_detail(\n",
    "    address, \n",
    "    user_account['account_id'], \n",
    "    \"linked_project\", \n",
    "    project_account['account_id']\n",
    ")\n",
    "\n",
    "# Set user_account_id as a detail for the project account\n",
    "hash_project_to_user = set_account_detail(\n",
    "    address, \n",
    "    project_account['account_id'], \n",
    "    \"linked_user\", \n",
    "    user_account['account_id']\n",
    ")\n",
    "\n",
    "# Update the JSON-LD files with the linked details\n",
    "update_user_account_link(user_account['account_id'], project_account['account_id'])\n",
    "update_project_account_link(project_account['account_id'], user_account['account_id'])\n",
    "\n",
    "# Confirming the operation\n",
    "print(f\"User account {user_account['account_id']} linked to project {project_account['account_id']}\")\n",
    "print(f\"Project account {project_account['account_id']} linked to user {user_account['account_id']}\")\n"
   ]
  },
  {
   "cell_type": "markdown",
   "id": "3562857c-d86d-42cf-a24b-23a5c3f5cb4e",
   "metadata": {},
   "source": [
    "3 - Queries Iroha 1 for User account and checks its values"
   ]
  },
  {
   "cell_type": "code",
   "execution_count": 4,
   "id": "b52e47a4-b1c5-4ebe-a2d8-8edae10063d8",
   "metadata": {},
   "outputs": [
    {
     "name": "stdout",
     "output_type": "stream",
     "text": [
      "User Account id = {'account_id': 'cranky_lederberg@test'}, { \"admin@test\" : { \"linked_project\" : \"77557@test\", \"user_json_ld_cid\" : \"QmVSXD26RksPSTqi9MH18LNrs2LxAv5MRgznyCk4duwzxH\" } }\n"
     ]
    }
   ],
   "source": [
    "#Query - GetAccountDetail\n",
    "query = iroha.query('GetAccountDetail',account_id=user_account['account_id'])\n",
    "# print(query)\n",
    "IrohaCrypto.sign_query(query, ADMIN_PRIVATE_KEY)\n",
    "response = net.send_query(query)\n",
    "# print(response)\n",
    "\n",
    "user_data = response.account_detail_response\n",
    "user_details = user_data.detail\n",
    "\n",
    "\n",
    "print(f'User Account id = {user_account}, {user_details}')\n",
    "\n"
   ]
  },
  {
   "cell_type": "markdown",
   "id": "168a556f-b657-4a6a-8c9f-b18aac8f8375",
   "metadata": {},
   "source": [
    "3 - Queries Iroha 1 for Project account and checks its values"
   ]
  },
  {
   "cell_type": "code",
   "execution_count": 5,
   "id": "d39cb27c-4f7d-48dd-a137-6bceb294c15f",
   "metadata": {},
   "outputs": [
    {
     "name": "stdout",
     "output_type": "stream",
     "text": [
      "Project Account id = {'account_id': '77557@test'}, { \"admin@test\" : { \"file_1_CID\" : \"QmXh37WXcrLXkJX2cAPjbPdKZ2cxJXD58XX6eU1Zc41ka4\", \"file_1_metadata_CID\" : \"QmaR5nKfYjngZ63dwDQ65g6kmwssKagR6DC745aAjtjnzv\", \"linked_user\" : \"cranky_lederberg@test\", \"project_metadata_cid\" : \"QmW6Am3o3ZhRUfKJM9rB7yAcvEFL1712Rq5vQoZozRasfM\" } }\n"
     ]
    }
   ],
   "source": [
    "#Query - GetAccountDetail\n",
    "query = iroha.query('GetAccountDetail',account_id=project_account['account_id'])\n",
    "IrohaCrypto.sign_query(query, ADMIN_PRIVATE_KEY)\n",
    "response = net.send_query(query)\n",
    "# print(response)\n",
    "project_data = response.account_detail_response\n",
    "project_details = project_data.detail\n",
    "print(f'Project Account id = {project_account}, {project_details}')"
   ]
  },
  {
   "cell_type": "markdown",
   "id": "47f33098-43df-47f3-8708-f3212dec1c0f",
   "metadata": {},
   "source": [
    "6 - Queries the user account, locates the project id, queries the project account, gets the metadata and files from IPFS."
   ]
  },
  {
   "cell_type": "code",
   "execution_count": 6,
   "id": "374843b3-6862-4a93-b298-1bdd0320c4c9",
   "metadata": {},
   "outputs": [
    {
     "name": "stdout",
     "output_type": "stream",
     "text": [
      "{ \"admin@test\" : { \"linked_project\" : \"77557@test\", \"user_json_ld_cid\" : \"QmVSXD26RksPSTqi9MH18LNrs2LxAv5MRgznyCk4duwzxH\" } }\n",
      "{'admin@test': {'linked_project': '77557@test', 'user_json_ld_cid': 'QmVSXD26RksPSTqi9MH18LNrs2LxAv5MRgznyCk4duwzxH'}}\n",
      "77557@test\n"
     ]
    }
   ],
   "source": [
    "from ipfs_functions import *\n",
    "\n",
    "print(user_details)\n",
    "\n",
    "# Process the account details response\n",
    "user_details_dict = json.loads(user_details)  # Convert the string to a JSON object\n",
    "print(user_details_dict)\n",
    "\n",
    "# Now you can access the specific key like this\n",
    "linked_project = user_details_dict[\"admin@test\"][\"linked_project\"]\n",
    "print(linked_project)"
   ]
  },
  {
   "cell_type": "code",
   "execution_count": 7,
   "id": "66b2f2c1-00b1-4b1b-8951-196af1f25208",
   "metadata": {},
   "outputs": [
    {
     "name": "stdout",
     "output_type": "stream",
     "text": [
      "Project Account id = {'account_id': '77557@test'}, { \"admin@test\" : { \"file_1_CID\" : \"QmXh37WXcrLXkJX2cAPjbPdKZ2cxJXD58XX6eU1Zc41ka4\", \"file_1_metadata_CID\" : \"QmaR5nKfYjngZ63dwDQ65g6kmwssKagR6DC745aAjtjnzv\", \"linked_user\" : \"cranky_lederberg@test\", \"project_metadata_cid\" : \"QmW6Am3o3ZhRUfKJM9rB7yAcvEFL1712Rq5vQoZozRasfM\" } }\n"
     ]
    }
   ],
   "source": [
    "#Query - GetAccountDetail\n",
    "query = iroha.query('GetAccountDetail', account_id=linked_project)\n",
    "IrohaCrypto.sign_query(query, ADMIN_PRIVATE_KEY)\n",
    "response = net.send_query(query)\n",
    "# print(response)\n",
    "project_data = response.account_detail_response\n",
    "project_details = project_data.detail\n",
    "print(f'Project Account id = {project_account}, {project_details}')"
   ]
  },
  {
   "cell_type": "code",
   "execution_count": 8,
   "id": "6e7130f8-ad7d-4d0b-a521-ba0de69e9271",
   "metadata": {},
   "outputs": [
    {
     "name": "stdout",
     "output_type": "stream",
     "text": [
      "QmW6Am3o3ZhRUfKJM9rB7yAcvEFL1712Rq5vQoZozRasfM\n",
      "{'@context': {'dc': 'http://purl.org/dc/terms/', 'schema': 'http://schema.org/'}, '@type': 'schema:ResearchProject', 'dc:abstract': 'This study explores the impact of renewable energy in sustainable agriculture, focusing on economic empowerment.', 'schema:endDate': '2027-01-29', 'schema:funding': {'@type': 'schema:Organization', 'schema:name': 'Bill and Melinda Gates Foundation'}, 'schema:keywords': ['renewable energy', 'sustainable agriculture', 'economic empowerment'], 'schema:location': {'@type': 'schema:Place', 'schema:name': 'Tokyo, Japan'}, 'schema:name': 'Investigating the Role of renewable energy in sustainable agriculture', 'schema:startDate': '2018-08-26'}\n"
     ]
    }
   ],
   "source": [
    "# Convert the JSON string to a Python dictionary\n",
    "project_details_dict = json.loads(project_details)\n",
    "\n",
    "# Now you can access the specific key like this\n",
    "project_metadata_cid = project_details_dict[\"admin@test\"][\"project_metadata_cid\"]\n",
    "print(project_metadata_cid)\n",
    "\n",
    "\n",
    "project_metadata = download_json_from_ipfs(project_metadata_cid)\n",
    "\n",
    "# print(20*\"-\")\n",
    "\n",
    "print(project_metadata)"
   ]
  },
  {
   "cell_type": "markdown",
   "id": "845d265a-50e1-423d-9e53-26226afe7756",
   "metadata": {},
   "source": [
    "7 -  Sends every file in the `upload` directory to IPFS, extracts theirs respective metadata with Apache Tika and sends it to IPFS, get the CIDs back and store in Iroha as details of the project account."
   ]
  },
  {
   "cell_type": "code",
   "execution_count": 9,
   "id": "4fcb7790",
   "metadata": {},
   "outputs": [
    {
     "name": "stderr",
     "output_type": "stream",
     "text": [
      "INFO:root:Opened existing index.\n",
      "INFO:root:Processing file: Aeroacoustic-airfoil-shape-optimization-enhance_2023_Expert-Systems-with-App.pdf\n",
      "INFO:root:File Aeroacoustic-airfoil-shape-optimization-enhance_2023_Expert-Systems-with-App.pdf uploaded to IPFS with CID: QmXh37WXcrLXkJX2cAPjbPdKZ2cxJXD58XX6eU1Zc41ka4\n"
     ]
    },
    {
     "name": "stdout",
     "output_type": "stream",
     "text": [
      "77557@test\n",
      "('STATELESS_VALIDATION_SUCCESS', 1, 0)\n",
      "('ENOUGH_SIGNATURES_COLLECTED', 9, 0)\n",
      "('STATEFUL_VALIDATION_SUCCESS', 3, 0)\n",
      "('COMMITTED', 5, 0)\n"
     ]
    },
    {
     "name": "stderr",
     "output_type": "stream",
     "text": [
      "INFO:root:Indexed Aeroacoustic-airfoil-shape-optimization-enhance_2023_Expert-Systems-with-App.pdf with CID: QmWX9bGeZUhLxvafywPYMNLNrtCh3akq4sE8tBVRnShryi\n",
      "INFO:root:Document Aeroacoustic-airfoil-shape-optimization-enhance_2023_Expert-Systems-with-App.pdf indexed successfully.\n",
      "INFO:root:updated project entry\n",
      "INFO:root:File Aeroacoustic-airfoil-shape-optimization-enhance_2023_Expert-Systems-with-App.pdf uploaded to IPFS with CID: QmWX9bGeZUhLxvafywPYMNLNrtCh3akq4sE8tBVRnShryi\n"
     ]
    },
    {
     "name": "stdout",
     "output_type": "stream",
     "text": [
      "{'metadata': {'pdf:PDFVersion': '1.7', 'pdf:docinfo:title': 'Aeroacoustic airfoil shape optimization enhanced by autoencoders', 'xmp:CreatorTool': 'Elsevier', 'pdf:hasXFA': 'false', 'access_permission:can_print_degraded': 'true', 'X-TIKA:Parsed-By-Full-Set': ['org.apache.tika.parser.DefaultParser', 'org.apache.tika.parser.pdf.PDFParser'], 'X-TIKA:content_handler': 'ToTextContentHandler', 'pdf:num3DAnnotations': '0', 'dc:format': 'application/pdf; version=1.7', 'pdf:docinfo:custom:robots': 'noindex', 'pdf:docinfo:creator_tool': 'Elsevier', 'access_permission:fill_in_form': 'true', 'pdf:docinfo:custom:CreationDate--Text': '7th February 2023', 'pdf:hasCollection': 'false', 'pdf:encrypted': 'false', 'dc:title': 'Aeroacoustic airfoil shape optimization enhanced by autoencoders', 'pdf:containsNonEmbeddedFont': 'false', 'pdf:docinfo:custom:CrossMarkDomains[1]': 'elsevier.com', 'robots': 'noindex', 'pdf:docinfo:subject': 'Expert Systems With Applications, 217 (2023) 119513. doi:10.1016/j.eswa.2023.119513', 'pdf:hasMarkedContent': 'false', 'pdf:docinfo:creator': 'Jiaqing Kou', 'pdf:docinfo:custom:CrossmarkMajorVersionDate': '2010-04-23', 'access_permission:extract_for_accessibility': 'true', 'resourceName': \"b'Aeroacoustic-airfoil-shape-optimization-enhance_2023_Expert-Systems-with-App.pdf'\", 'pdf:docinfo:custom:CrossMarkDomains[2]': 'sciencedirect.com', 'X-TIKA:Parsed-By': ['org.apache.tika.parser.DefaultParser', 'org.apache.tika.parser.pdf.PDFParser'], 'ElsevierWebPDFSpecifications': '7.0', 'pdf:docinfo:custom:doi': '10.1016/j.eswa.2023.119513', 'pdf:docinfo:custom:CrossmarkDomainExclusive': 'true', 'X-TIKA:embedded_depth': '0', 'CrossmarkDomainExclusive': 'true', 'pdf:annotationTypes': 'null', 'pdf:docinfo:producer': 'Acrobat Distiller 8.1.0 (Windows)', 'pdf:annotationSubtypes': 'Link', 'CreationDate--Text': '7th February 2023', 'doi': '10.1016/j.eswa.2023.119513', 'pdf:containsDamagedFont': 'false', 'pdf:unmappedUnicodeCharsPerPage': ['0', '0', '0', '0', '0', '0', '0', '0', '0', '0', '0', '0', '0', '0'], 'access_permission:modify_annotations': 'true', 'dc:creator': 'Jiaqing Kou', 'dcterms:created': '2023-02-04T09:40:15Z', 'dcterms:modified': '2023-02-07T16:56:45Z', 'CrossMarkDomains[1]': 'elsevier.com', 'pdf:overallPercentageUnmappedUnicodeChars': '0.0', 'pdf:docinfo:keywords': 'Aeroacoustics,Optimization design,Amiet theory,Machine learning,Autoencoder', 'pdf:docinfo:modified': '2023-02-07T16:56:45Z', 'Content-Length': '1324070', 'Content-Type': 'application/pdf', 'dc:language': 'en-US', 'pdf:producer': 'Acrobat Distiller 8.1.0 (Windows)', 'dc:subject': ['Aeroacoustics,Optimization design,Amiet theory,Machine learning,Autoencoder', 'Expert Systems With Applications, 217 (2023) 119513. doi:10.1016/j.eswa.2023.119513'], 'X-TIKA:EXCEPTION:warn': 'org.xml.sax.SAXParseException; lineNumber: 87; columnNumber: 11; The content of elements must consist of well-formed character data or markup.\\n\\tat org.apache.xerces.parsers.DOMParser.parse(Unknown Source)\\n\\tat org.apache.xerces.jaxp.DocumentBuilderImpl.parse(Unknown Source)\\n\\tat java.xml/javax.xml.parsers.DocumentBuilder.parse(DocumentBuilder.java:122)\\n\\tat org.apache.tika.utils.XMLReaderUtils.buildDOM(XMLReaderUtils.java:396)\\n\\tat org.apache.tika.parser.pdf.PDMetadataExtractor.loadDOM(PDMetadataExtractor.java:472)\\n\\tat org.apache.tika.parser.pdf.PDMetadataExtractor.extract(PDMetadataExtractor.java:69)\\n\\tat org.apache.tika.parser.pdf.PDFParser.extractMetadata(PDFParser.java:423)\\n\\tat org.apache.tika.parser.pdf.PDFParser.parse(PDFParser.java:181)\\n\\tat org.apache.tika.parser.CompositeParser.parse(CompositeParser.java:298)\\n\\tat org.apache.tika.parser.CompositeParser.parse(CompositeParser.java:298)\\n\\tat org.apache.tika.parser.AutoDetectParser.parse(AutoDetectParser.java:175)\\n\\tat org.apache.tika.parser.RecursiveParserWrapper.parse(RecursiveParserWrapper.java:163)\\n\\tat org.apache.tika.server.core.resource.TikaResource.parse(TikaResource.java:352)\\n\\tat org.apache.tika.server.core.resource.RecursiveMetadataResource.parseMetadata(RecursiveMetadataResource.java:78)\\n\\tat org.apache.tika.server.core.resource.RecursiveMetadataResource.parseMetadataToMetadataList(RecursiveMetadataResource.java:190)\\n\\tat org.apache.tika.server.core.resource.RecursiveMetadataResource.getMetadata(RecursiveMetadataResource.java:179)\\n\\tat java.base/jdk.internal.reflect.NativeMethodAccessorImpl.invoke0(Native Method)\\n\\tat java.base/jdk.internal.reflect.NativeMethodAccessorImpl.invoke(NativeMethodAccessorImpl.java:77)\\n\\tat java.base/jdk.internal.reflect.DelegatingMethodAccessorImpl.invoke(DelegatingMethodAccessorImpl.java:43)\\n\\tat java.base/java.lang.reflect.Method.invoke(Method.java:569)\\n\\tat org.apache.cxf.service.invoker.AbstractInvoker.performInvocation(AbstractInvoker.java:179)\\n\\tat org.apache.cxf.service.invoker.AbstractInvoker.invoke(AbstractInvoker.java:96)\\n\\tat org.apache.cxf.jaxrs.JAXRSInvoker.invoke(JAXRSInvoker.java:201)\\n\\tat org.apache.cxf.jaxrs.JAXRSInvoker.invoke(JAXRSInvoker.java:104)\\n\\tat org.apache.cxf.interceptor.ServiceInvokerInterceptor$1.run(ServiceInvokerInterceptor.java:59)\\n\\tat org.apache.cxf.interceptor.ServiceInvokerInterceptor.handleMessage(ServiceInvokerInterceptor.java:96)\\n\\tat org.apache.cxf.phase.PhaseInterceptorChain.doIntercept(PhaseInterceptorChain.java:307)\\n\\tat org.apache.cxf.transport.ChainInitiationObserver.onMessage(ChainInitiationObserver.java:121)\\n\\tat org.apache.cxf.transport.http.AbstractHTTPDestination.invoke(AbstractHTTPDestination.java:265)\\n\\tat org.apache.cxf.transport.http_jetty.JettyHTTPDestination.doService(JettyHTTPDestination.java:247)\\n\\tat org.apache.cxf.transport.http_jetty.JettyHTTPHandler.handle(JettyHTTPHandler.java:79)\\n\\tat org.eclipse.jetty.server.handler.HandlerWrapper.handle(HandlerWrapper.java:127)\\n\\tat org.eclipse.jetty.server.handler.ScopedHandler.nextHandle(ScopedHandler.java:235)\\n\\tat org.eclipse.jetty.server.handler.ContextHandler.doHandle(ContextHandler.java:1440)\\n\\tat org.eclipse.jetty.server.handler.ScopedHandler.nextScope(ScopedHandler.java:190)\\n\\tat org.eclipse.jetty.server.handler.ContextHandler.doScope(ContextHandler.java:1355)\\n\\tat org.eclipse.jetty.server.handler.ScopedHandler.handle(ScopedHandler.java:141)\\n\\tat org.eclipse.jetty.server.handler.ContextHandlerCollection.handle(ContextHandlerCollection.java:191)\\n\\tat org.eclipse.jetty.server.handler.HandlerWrapper.handle(HandlerWrapper.java:127)\\n\\tat org.eclipse.jetty.server.Server.handle(Server.java:516)\\n\\tat org.eclipse.jetty.server.HttpChannel.lambda$handle$1(HttpChannel.java:487)\\n\\tat org.eclipse.jetty.server.HttpChannel.dispatch(HttpChannel.java:732)\\n\\tat org.eclipse.jetty.server.HttpChannel.handle(HttpChannel.java:479)\\n\\tat org.eclipse.jetty.server.HttpConnection.onFillable(HttpConnection.java:277)\\n\\tat org.eclipse.jetty.io.AbstractConnection$ReadCallback.succeeded(AbstractConnection.java:311)\\n\\tat org.eclipse.jetty.io.FillInterest.fillable(FillInterest.java:105)\\n\\tat org.eclipse.jetty.io.ChannelEndPoint$1.run(ChannelEndPoint.java:104)\\n\\tat org.eclipse.jetty.util.thread.QueuedThreadPool.runJob(QueuedThreadPool.java:883)\\n\\tat org.eclipse.jetty.util.thread.QueuedThreadPool$Runner.run(QueuedThreadPool.java:1034)\\n\\tat java.base/java.lang.Thread.run(Thread.java:840)\\n', 'pdf:docinfo:custom:ElsevierWebPDFSpecifications': '7.0', 'pdf:totalUnmappedUnicodeChars': '0', 'access_permission:assemble_document': 'true', 'xmpTPg:NPages': '14', 'pdf:hasXMP': 'true', 'pdf:charsPerPage': ['4632', '7035', '4418', '4887', '4242', '3215', '3361', '3553', '3680', '2730', '3569', '4967', '5447', '7572'], 'access_permission:extract_content': 'true', 'access_permission:can_print': 'true', 'CrossMarkDomains[2]': 'sciencedirect.com', 'X-TIKA:parse_time_millis': '1790', 'access_permission:can_modify': 'true', 'pdf:docinfo:created': '2023-02-04T09:40:15Z', 'CrossmarkMajorVersionDate': '2010-04-23'}, 'content': \"\\n\\n\\n\\n\\n\\n\\n\\n\\n\\n\\n\\n\\n\\n\\n\\n\\n\\n\\n\\n\\n\\n\\n\\n\\n\\n\\n\\n\\n\\n\\n\\n\\n\\n\\n\\n\\n\\n\\n\\n\\n\\n\\n\\n\\n\\n\\n\\n\\n\\n\\n\\n\\n\\n\\n\\n\\nAeroacoustic airfoil shape optimization enhanced by autoencoders\\n\\n\\nExpert Systems With Applications 217 (2023) 119513\\n\\nA\\n0\\nn\\n\\nContents lists available at ScienceDirect\\n\\nExpert Systems With Applications\\n\\njournal homepage: www.elsevier.com/locate/eswa\\n\\nAeroacoustic airfoil shape optimization enhanced by autoencoders\\nJiaqing Kou a,∗, Laura Botero-Bolívar b, Román Ballano a, Oscar Marino a, Leandro de Santana b,\\nEusebio Valero a,c, Esteban Ferrer a,c\\n\\na ETSIAE-UPM-School of Aeronautics, Universidad Politécnica de Madrid, Plaza Cardenal Cisneros 3, E-28040 Madrid, Spain\\nb Department of Thermal Fluid Engineering, University of Twente, PO Box 217, 7522 NB Enschede, The Netherlands\\nc Center for Computational Simulation, Universidad Politécnica de Madrid, Campus de Montegancedo, Boadilla del Monte, 28660, Madrid, Spain\\n\\nA R T I C L E I N F O\\n\\nKeywords:\\nAeroacoustics\\nOptimization design\\nAmiet theory\\nMachine learning\\nAutoencoder\\n\\nA B S T R A C T\\n\\nAeroacoustic noise is a major concern in wind turbine design that can be minimized by optimizing the\\nairfoils that shape the rotating blades. To this end, we present a framework for airfoil shape optimization\\nto reduce the trailing edge noise for the design of wind turbine blades. Far-field noise is evaluated using\\nAmiet’s theory coupled with the TNO-Blake model to calculate the wall pressure spectrum and fast turn-around\\nXFOIL simulations to evaluate the boundary layer parameters. The computational framework is first validated\\nusing a NACA0012 airfoil at 0◦ angle of attack. Particle swarm optimization is used to find the optimized\\nairfoil configuration. The multi-objective optimization minimizes the A-weighted overall sound pressure level\\nat various angles of attack, while ensuring enough lift and minimum drag. Furthermore, traditional shape\\noptimization techniques show difficulties to converge to the optimum, when too many shape parameters are\\nincluded in the optimization. For this reason, we compare classic parameterization methods to define the\\nairfoil geometry (i.e., CST) to a machine learning method (i.e., a variational autoencoder). We observe that\\nvariational autoencoders can represent a wide variety of geometries, with only four encoded variables, leading\\nto efficient optimizations, which result in improved optimal shapes. When compared to the baseline geometry, a\\nNACA0012, the autoencoder-based optimized airfoil reduces by 3% (1.75 dBA) the overall sound pressure level\\n(with decreased noise across the entire frequency range), while maintaining favorable aerodynamic properties\\nin terms of lift and drag.\\n1. Introduction\\n\\nWind turbine noise has typically been one of the main drawbacks of\\nthe wide deployment and acceptance of wind devices for the generation\\nof clean energy. The interest in controlling turbine acoustics is increas-\\ning since turbines are now being integrated in urban environments,\\nwhere noise nuisances can be of great concern (Hubbard & Shepherd,\\n2009; Rogers, Manwell, & Wright, 2006). Wind turbine aeroacoustics is\\na complex phenomenon that includes several sources of noise. The most\\ncritical noise sources of a typical wind turbine are: (1) steady loading,\\nwhich relates to the distribution of forces along the blade leading to\\nbroadband noise; (2) unsteady loading caused by the incoming sheared\\nand turbulent atmospheric flow, associated with low frequency noise;\\nand (3) airfoil self-noise, which encompasses various high frequency\\nphenomena that relate to the boundary layer and eddies generated as\\nthe air passes the blades.\\n\\nAirfoil self-noise (Brooks, Pope, & Marcolini, 1989) is the minimum\\namount of noise produced by an aerodynamic surface and is the main\\n\\n∗ Corresponding author.\\nE-mail addresses: jiaqing.kou@alumnos.upm.es (J. Kou), l.boterobolivar@utwente.nl (L. Botero-Bolívar), r.ballanom@alumnos.upm.es (R. Ballano),\\n\\noscar.marino@upm.es (O. Marino), leandro.de.santana@dnw.aero (L. de Santana), eusebio.valero@upm.es (E. Valero), esteban.ferrer@upm.es (E. Ferrer).\\n\\nnoise source in modern wind turbines (Oerlemans, 2011; Roger &\\nMoreau, 2005). It is caused by the interaction of the turbulent boundary\\nlayer with the blade surface close to the trailing edge, when the\\nhydrodynamic pressure fluctuations originated in the airfoil surface\\nare scattered to the far field as noise, due to the sudden change of\\nimpedance in the blade trailing edge discontinuity (Stalnov, Chaitanya,\\n& Joseph, 2016). To generate quiet wind turbines, it is necessary\\nto select airfoils that minimize noise generation in operational con-\\nditions (e.g. attached flow). Typical turbine airfoils were designed\\nto be insensitive to roughness, by promoting the transition near the\\nleading edge (Bertagnolio, Sørensen, Johansen, & Fuglsang, 2001),\\nwhile noise generation was often neglected. However, social pressure\\nto minimize wind farm noise leads to considering acoustics during\\nthe design phase of new airfoils. The SIROCO project (Humpf, Ferrer,\\n& Munduate, 2007; Lutz, Herrig, Würz, Kamruzzaman, & Krämer,\\n2007; Schepers et al., 2007) incorporated aeroacoustic predictions for\\nshape optimization design. Lutz et al. (2007) proposed a method to\\nvailable online 13 January 2023\\n957-4174/© 2023 The Author(s). Published by Elsevier Ltd. This is an open access ar\\nc-nd/4.0/).\\n\\nhttps://doi.org/10.1016/j.eswa.2023.119513\\nReceived 27 September 2022; Received in revised form 18 December 2022; Accept\\nticle under the CC BY-NC-ND license (http://creativecommons.org/licenses/by-\\n\\ned 3 January 2023\\n\\nhttps://www.elsevier.com/locate/eswa\\nhttp://www.elsevier.com/locate/eswa\\nmailto:jiaqing.kou@alumnos.upm.es\\nmailto:l.boterobolivar@utwente.nl\\nmailto:r.ballanom@alumnos.upm.es\\nmailto:oscar.marino@upm.es\\nmailto:leandro.de.santana@dnw.aero\\nmailto:eusebio.valero@upm.es\\nmailto:esteban.ferrer@upm.es\\nhttps://doi.org/10.1016/j.eswa.2023.119513\\nhttps://doi.org/10.1016/j.eswa.2023.119513\\nhttp://crossmark.crossref.org/dialog/?doi=10.1016/j.eswa.2023.119513&domain=pdf\\nhttp://creativecommons.org/licenses/by-nc-nd/4.0/\\nhttp://creativecommons.org/licenses/by-nc-nd/4.0/\\n\\n\\nExpert Systems With Applications 217 (2023) 119513J. Kou et al.\\n\\nt\\nd\\ns\\na\\ns\\ni\\n\\npredict airfoil trailing edge far-field noise, by combining XFOIL, a\\nfinite-difference code, and a modified TNO-TPD model. The method\\nhas been used to design new, less-noisy airfoils without loss in aero-\\ndynamic performance. Similarly, Hao, Zhang, Liu, and Liu (2008)\\nintroduced aerodynamic and aeroacoustic optimization of the wind\\nturbine blade using a genetic algorithm. Lee, Lee, Ryi, and Choi (2013)\\noptimized the airfoils of the wind turbine based on genetic algorithms,\\nto reduce airfoil self-noise, and validated the results by wind tunnel\\nexperiment. Rodrigues and Marta (2014) performed multi-objective op-\\ntimization to design wind turbine blades, where an increase in annual\\nenergy production of 15% was achieved with a reduction in noise levels\\nof 9.8%. Zhou et al. (2015) proposed a discrete adjoint framework\\nfor unsteady aerodynamic aeroacoustic optimization. More recently,\\nVolkmer and Carolus (2018) performed aeroacoustic airfoil shape opti-\\nmization based on semi-empirical aeroacoustic models. There, XFOIL\\nis combined with Amiet’s model and evolutionary optimization to\\ndesign airfoils with less noise while maintaining the required lift. Ricks,\\nTsirikoglou, Contino, and Ghorbaniasl (2020) proposed multi-objective\\naerodynamic-aeroacoustic shape optimization of airfoils based on a\\nReynolds-averaged Navier–Stokes solver with a state-of-the-art wall\\npressure spectrum model and Amiet’s model for trailing edge noise. Bu,\\nSong, Han, Zhang, and Zhang (2020) developed the framework for\\naerodynamic/aeroacoustic variable-fidelity optimization of helicopter\\nrotor based on hierarchical Kriging model. These works show the effi-\\nciency of using Amiet’s theory and XFOIL for aeroacoustic optimization,\\nwhereas recent machine learning strategies (e.g., autoencoders) have\\nnot been considered.\\n\\nMachine learning (ML) techniques are permeating in all fields of\\nfluid dynamics (Brunton & Kutz, 2019; Garnier et al., 2021; Kou\\n& Zhang, 2021; leClainche et al., 2022; Vinuesa & Brunton, 2022;\\nYondo, Andrés, & Valero, 2018) and aerodynamic optimization; see\\nthe recent review by Li, Du, and Martins (2022). ML can be used as\\na surrogate model to replace the expensive flow simulations (Sun &\\nWang, 2019). For example, Boutemedjet, Samardžić, Rebhi, Rajić, and\\nMouada (2019) proposed the aerodynamic design procedure of a mini\\nunmanned aerial vehicle involving genetic algorithms and artificial\\nneural networks for wing preliminary computation. Liao, Song, Du, and\\nZhao (2021) introduced multi-fidelity convolutional neural networks as\\na surrogate model for aerodynamic optimization. Moreover, Yan, Zhu,\\nKuang, and Wang (2019) developed an optimizer based on reinforce-\\nment learning and transfer learning, to enhance aerodynamic shape\\noptimization.\\n\\nIn particular, unsupervised ML techniques for dimensionality reduc-\\ntion enable the treatment of problems with a large number of variables\\nby coding the information into a reduced number of parameters (i.e., la-\\ntent variables). Neural networks are ideal for representing nonlinear\\nfunctions and can thus encode information very efficiently in very\\nfew latent variables. Autoencoders (AEs) are artificial neural networks\\nthat can reduce the dataset information (encoding), but that can also\\nreconstruct (decode) the original data, minimizing the reconstruction\\nerror. Variational autoencoders (VAEs) improve the behavior of classic\\nautoencoders by enforcing latent variables to follow smooth statistical\\ndistributions (typically normal distributions) (Kingma & Welling, 2013;\\nZhao, Song, & Ermon, 2017). By doing so, it is possible to avoid discon-\\ntinuities in the latent variables, which helps to reconstruct the original\\ndatabase. Another advantage of requiring smooth latent variables is\\nthat they can be used for optimization.\\n\\nVAEs have not been widely adopted for optimization. In fact, to\\nthe authors’ knowledge, only Rios et al. (2021) have used VAEs\\nfor car optimization. They showed the superiority of this technique\\nin incorporating local geometric features, when compared to modal\\ntechniques (e.g., principal component analysis). Additionally, Yonekura\\nand Suzuki (2021) have shown the advantages of VAEs to represent\\nairfoils using latent variables, but did not perform optimizations.\\n\\nEncouraged by the previous work, in this work we propose using\\nVAEs to enhance the aeroacoustic optimization of wind turbine air-\\n2\\n\\nfoils. We target the airfoil self-noise using Amiet’s theory and develop\\nan optimization framework that targets improved aerodynamics with\\nminimum noise in the design. We include VAEs for the parameteri-\\nzation of the airfoil geometry and compare this technique with the\\nCST method (Kulfan & Bussoletti, 2006) to parameterize the airfoil\\ngeometry. Fig. 1 illustrates the proposed framework, including the\\ninputs and outputs, as well as the basic workflow of the optimization\\nframework. As will be shown in the results, VAEs show superiority and\\nenhanced robustness over CST. The main contributions of this work\\nare: (1) We develop a framework for aeroacoustic shape optimization;\\n(2) We incorporate autoencoders to enhance shape parameterization.\\nThe results show the superior capabilities of the aeroacoustic shape\\noptimization framework when enhanced by autoencoders.\\n\\nThe remaining of this paper is organized as follows. Section 2 in-\\ntroduces the far-field noise prediction framework, including the aeroa-\\ncoustic and aerodynamic models, as well as the validation of the\\nframework. The optimization framework is introduced in Section 3,\\nwhere the shape parameterization including CST and VAEs, the op-\\ntimization algorithm, and the problem formulation are detailed. The\\noptimization results are summarized in Section 4. Conclusions are\\nprovided in Section 5.\\n\\n2. Far-field noise prediction\\n\\nThis section introduces the computational models used in the\\npresent study, including the aerodynamic and acoustic models. Amiet’s\\ntheory (Amiet, 1976) is adopted here for the trailing edge noise pre-\\ndiction. The theory calculates the far-field acoustic pressure spectrum\\nusing the wall pressure wavenumber–frequency spectral density in the\\nvicinity of the trailing edge as input. This theory assumes a large span,\\na stationary observer and airfoil, and a uniform flow, and that the\\nboundary layer turbulence is convecting over the trailing edge as a\\nfrozen pattern, i.e., the turbulence is not affected by the discontinuity\\nof the trailing edge.\\n\\n2.1. The acoustic model\\n\\nEq. (1) presents the far-field power spectral density of an airfoil of\\nchord c and span b for an observer perpendicular to the trailing edge\\nat midspan (z0 = 0) (Stalnov et al., 2016):\\n\\n𝑆𝑝𝑝(𝑥𝑜, 𝑦𝑜, 𝑧𝑜 = 0, 𝜔) =\\n(\\n\\n𝜔𝑐𝑦𝑜\\n4𝜋𝑐𝑜𝜎2\\n\\n)\\n\\n𝑏\\n2\\n|\\n\\n|\\n\\n|\\n\\nℒ (𝜅𝑥, 𝜅𝑧 = 0, 𝑥, 𝑦, 𝑈∞, 𝑈𝑐 )\\n|\\n\\n|\\n\\n|\\n\\n2\\n\\n× 𝛬𝑧|𝑃𝑃𝛱pp(𝜔). (1)\\n\\nIn this equation, 𝜔 is the angular frequency (= 2𝜋𝑓 ), and 𝑥𝑜, 𝑦𝑜, 𝑧𝑜 is\\nhe observer location. The reference system adopts 𝑥 in the streamwise\\nirection, 𝑦 in the direction perpendicular to the wall and 𝑧 in the\\npanwise direction, with 𝑥 = 𝑦 = 𝑧 = 0 at the trailing edge of the\\nirfoil in the mid-span. 𝑐𝑜 is the speed of sound, 𝜅𝑥 and 𝜅𝑧 are the\\npatial wavenumber in the 𝑥 and 𝑧 directions, and 𝑈𝑐 = 0.6 × 𝑈∞\\ns the mean convection velocity. ℒ is the airfoil response function\\n\\nproposed by Amiet (1976) which is the transfer between hydrodynamic\\nwall pressure fluctuations caused by the turbulent boundary layer and\\nacoustic waves in the far field. Amiet considered a flat plate, therefore,\\nℒ is constant among the different airfoils. The implementation of ℒ\\nfollowed in this work, was proposed by Roger and Moreau (2005)\\nand considers the backscattering effect of the leading edge. 𝛬𝑧|𝑃𝑃 is\\nthe spanwise correlation length, which is related to the size of the\\nvortices in the spanwise direction. Finally, 𝛱pp(𝜔) is the wall pressure\\nspectrum in the vicinity of the trailing edge and is comparable to the\\nmeasurements of a sensor located on the airfoil surface. The wall-\\npressure spectrum is the only quantity that is different for each airfoil\\nfacing the same inflow conditions. The wall-pressure spectrum is calcu-\\nlated using the TNO-Blake model, explained in detail in Appendix A.2.\\nAdditional details on how to compute the various parameters in Eq. (1),\\n\\nare detailed in Appendix A.\\n\\n\\n\\nExpert Systems With Applications 217 (2023) 119513J. Kou et al.\\nFig. 1. Aeroacoustic shape optimization framework.\\n2.2. Aerodynamic simulation based on XFOIL\\n\\nNumerical simulations using XFOIL (Drela, 1989) are conducted to\\nobtain the boundary layer characteristics, see Appendix A.3, for each\\ncandidate airfoil during the optimization procedure. XFOIL is a viscous-\\ninviscid iterative software code that does not require any prior mesh\\npreparation. The inviscid pressure distribution is modeled using a linear\\nvortex strength distribution. Viscous effects and the development of\\nthe laminar-turbulent boundary layer are modeled using linear stability\\n(i.e., the e method) and integral boundary layer theory. The XFOIL\\noutputs are used to calculate the wall pressure spectrum, which, in turn,\\nis used to predict the far-field noise produced by the airfoil.\\n\\nIn all the cases included in this work, we fix the boundary layer\\ntransition near the leading edge in both pressure and suction sides,\\nto mimic the insensitivity to roughness that is commonly sought in\\nwind turbine airfoils. The number of panel nodes is set to 160 and the\\nnumber of iterations to 1000.\\n\\n2.3. Methodology validation: NACA0012 airfoil\\n\\nTo validate the trailing edge noise prediction methodology, a widely\\nstudied airfoil in the literature, i.e., a NACA 0012 airfoil is used,\\ncomparing our results with those obtained in the literature. The airfoil\\nis assumed to have a 0.4 m chord and a 1 m span. The far-field observer\\nis located at 1 m from the airfoil trailing edge at mid-span, i.e., 𝑥 = 0,\\n𝑦 = 1 m, and 𝑧 = 0. The wall pressure spectrum is calculated at\\n𝑥∕𝑐 = 0.99. The boundary layer transition is fixed at 𝑥∕𝑐 = 0.06\\non both sides. The angle of attack is fixed at 0◦. The inflow velocity\\nis assumed to be 56 m∕s, which corresponds to a Reynolds number of\\n1.5 × 106 and a Mach number of 0.16. The frequency resolution is 1 Hz\\nand the far-field noise 𝑆pp is calculated from 100 Hz to 10 kHz. Sound\\npressure level (SPL) is calculated at the observer location by\\n\\n𝑆𝑃𝐿 = 20 log10\\n𝑝\\n\\n𝑝𝑟𝑒𝑓\\n, (2)\\n\\nwhere 𝑝𝑟𝑒𝑓 is the acoustic pressure reference, that for air, is 20 μPa, and\\n𝑝 is the far field pressure, obtained from the sum of the power spectral\\ndensity (𝑆𝑝𝑝 from Eq. (1)) from both, pressure and suction side, and\\nmultiplied by the frequency resolution.\\n\\nComparisons have been conducted with experimental results re-\\nported in Herr et al. (2012) (results have been scaled to match the\\npresented conditions) and with noise prediction using Amiet’s the-\\nory coupled with the semi-empirical model proposed by Kamruzza-\\nman, Bekiropoulos, Lutz, Würz, and Krämer (2015) and RANS sim-\\nulations (Küçükosman et al., 2018). Fig. 2 shows the far-field noise\\nspectrum in 1/3 octave for the predicted far-field using the methodol-\\nogy presented in this paper and in the literature. Additionally, Table 1\\nshows the integrated pressure level of the spectrum for the same cases,\\nbetween a frequency range of 1000 to 6300 Hz, i.e., the frequency\\nrange where all data is available. The results suggest that the ap-\\nplied methodology, i.e., XFOIL coupled with the TNO-Blake model and\\nAmiet’s theory, is appropriate to predict trailing edge noise and agrees\\n3\\n\\nFig. 2. Far field Noise comparison between current methodology, RANS simulations\\n(from Küçükosman, Christophe, & Schram, 2018) and experimental measurements\\n(from Herr, Bahr, & Kamruzzaman, 2012) for a NACA0012. Sound pressure levels are\\ncomputed from Eq. (2) and presented in 1∕3 octave band.\\n\\nwith the literature showing less than 1 dB difference in the integrated\\nspectra. The validation indicates that the proposed method provides re-\\nsults with comparable accuracy to more costly flow solvers, while being\\nfast enough to be used for optimization, where multiple evaluations of\\nthe acoustic performance are needed for different airfoils.\\n\\n3. Optimization framework\\n\\nThe optimization framework is introduced, including the parameter-\\nization of the shape, the optimization algorithm, and the formulation\\nof the problem (objective function and constraints). As a key ingredient\\nto enhance aeroacoustic shape optimization, a variational autoencoder\\nis introduced to parameterize the airfoil surfaces. Fig. 3 shows the\\nframework for aeroacoustic shape optimization. As shown in the figure,\\nthree main steps are needed:\\n\\nStep 1: Get design variables (shape parameterization) and recon-\\nstruct the airfoil geometry (based on CST parameters, or latent variables\\nand decoder part of autoencoders). The design variables are initialized\\nat the beginning of the optimization and are further updated based on\\nthe optimization algorithm.\\n\\nStep 2: Given each airfoil shape in Step 1, evaluate the correspond-\\ning aerodynamic and acoustic properties, through XFoil and Amiet’s\\ntheory, respectively.\\n\\nStep 3: Check if the aerodynamic properties satisfy the constraint,\\nand calculate the fitness function from the acoustic property (for each\\nparticle). Moreover, update the particle (i.e., design variables for the\\nevaluation in the next generation) based on the PSO algorithm. If\\nthe optimization does not converge, repeat these steps for the next\\ngeneration of the PSO algorithm.\\n\\nMore details about the optimization framework will be given in the\\nnext subsection.\\n\\n\\n\\nExpert Systems With Applications 217 (2023) 119513J. Kou et al.\\nTable 1\\nComparison of the overall sound pressure level in the frequency range from 1000 to 6300 Hz. Values are presented in dB.\\n(LWT: Laminar Wind Tunnel; AWB: Braunschweig Aeroacoustic Wind Tunnel).\\n\\nCurrent work RANS (Küçükosman\\net al., 2018)\\n\\nAWB (Herr et al.,\\n2012), at 60 m/s\\n\\nAWB (Herr et al.,\\n2012), at 50.2 m/s\\n\\nLWT (Herr et al.,\\n2012), at 60 m/s\\n\\n68.87 68.81 68.36 67.67 68.83\\nFig. 3. Aeroacoustic shape optimization framework.\\n\\n3.1. Problem formulation: optimization objective and constraints\\n\\nIn this study, we are interested in geometric optimization for noise\\nminimization. Therefore, the Overall A-weighted Sound Pressure Level\\n(OASPL) is selected as the objective function. The OASPL is used to\\nweight the spectrum energy in the frequency domain with the sensi-\\ntivity of human hearing, resulting in optimized geometries suitable for\\nwind turbines located near urban areas. Since the optimized airfoil is\\nexpected to work on multiple operating conditions, the multi-objective\\noptimization is needed. Therefore, we formulated this problem by\\nconsidering the overall OASPL for various angles of attack (AOAs)\\nas the objective function. Meanwhile, to maintain reasonable aero-\\ndynamic performance and reasonable geometries, several constraints\\nshould be satisfied. Therefore, the following objective and constraints\\nare selected:\\n\\nmin\\n𝑏∕𝑧\\n\\n𝑠\\n∑\\n\\n𝑖=1\\n𝑂𝐴𝑆𝑃𝐿(𝐴𝑂𝐴𝑖), (3)\\n\\nsubject to 𝐶𝑙,𝑖 ≥ 𝐶𝑙0,𝑖 ; 𝐶𝑑,𝑖 ≤ 𝐶𝑑0,𝑖,\\n\\n𝑇 ≤ 𝑇0,\\n\\nmin(𝑦𝑢𝑝𝑝𝑒𝑟(𝑥) − 𝑦𝑙𝑜𝑤𝑒𝑟(𝑥)) > 0 ; 0 < 𝑥 < 1,\\n\\n𝑇Leading ≥ 𝑇Trailing.\\n\\nwhere 𝑏 and 𝑧 refer to the CST parameters or the latent variable\\nof the autoencoder. 𝑇 refers to the maximal thickness of the airfoil.\\nThe sum of OASPL at the 𝑠 angle of attack is used to evaluate the\\nobjective function. The parameter with subscript 0 refers to the baseline\\ngeometry, where the NACA0012 airfoil is chosen for all angles of attack.\\nTo maintain reasonable aerodynamic performance, we do not expect\\na drop in lift or an increase in drag, compared to the baseline case.\\n4\\n\\nTherefore, the first group of constraints is imposed: 𝐶𝑙,𝑖 ≥ 𝐶𝑙0,𝑖, 𝐶𝑑,𝑖 ≤\\n𝐶𝑑0,𝑖, where 𝐶𝑙0 and 𝐶𝑑0 refer to the lift and drag coefficients of the\\nbaseline geometry, respectively. The constraint applies to all AOAs\\nconsidered during optimization. All of them are hard constraints that\\nmust be satisfied during the optimization process; therefore, a suit-\\nable constraint handling technique is needed and will be explained\\nhereafter.\\n\\nApart from aerodynamic considerations, the constraints ensure the\\ngeneration of realistic airfoil geometries. From previous studies on\\naeroacoustic optimization (Brian, William, & Anastasios, 1998; Mon-\\nfaredi, Trompoukis, Tsiakas, & Giannakoglou, 2021; Zhou et al., 2015),\\noptimal aeroacoustic geometry generally does not produce improved\\naerodynamic performance. Therefore, to improve the optimization ef-\\nficiency, geometrical considerations are introduced as constraints. Al-\\nthough a thinner airfoil is expected to be more silent, the second\\nconstraint (𝑇 ≤ 𝑇0) limits the thickness of the airfoil to avoid being\\nthicker than the benchmark airfoil. This is required to ensure structural\\ncapabilities/resistance in the final geometry (Ricks et al., 2020). The\\nthird constraint min(𝑦𝑢𝑝𝑝𝑒𝑟(𝑥) − 𝑦𝑙𝑜𝑤𝑒𝑟(𝑥)) > 0 ; 0 < 𝑥 < 1, ensures that\\nthe upper and lower surfaces do not cross each other (e.g., negative\\nvolume shapes). To satisfy this condition, the difference between the\\nupper layer and the lower layer, given the same 𝑥 coordinate, should\\nalways be positive. Moreover, the last constraint 𝑇Leading ≥ 𝑇Trailing\\ndemands that the first half of the airfoil is thicker than the second half,\\nto ensure a reasonable aerodynamic configuration. The two thickness\\nparameters are defined as follows:\\n\\n𝑇Leading = max(𝑦𝑢𝑝𝑝𝑒𝑟(𝑥) − 𝑦𝑙𝑜𝑤𝑒𝑟(𝑥)) ; 0 ≤ 𝑥 ≤ 0.5, (4)\\n𝑇Trailing = max(𝑦𝑢𝑝𝑝𝑒𝑟(𝑥) − 𝑦𝑙𝑜𝑤𝑒𝑟(𝑥)) ; 0.5 < 𝑥 ≤ 1.\\n\\nThe optimization framework is illustrated in Fig. 3. As shown in\\nthe figure, the entire optimization framework involves three main\\ncomponents: (1) design variables (geometrical parameterization); (2)\\naerodynamic and aeroacoustic models; (3) optimizer (optimization al-\\ngorithm and constraint handling). In the current study, the second and\\nthird components are fixed, while two different methods for geometri-\\ncal parameterization have been considered (CST and autoencoder) to\\nshow the potential of machine learning to enhance aeroacoustic shape\\noptimization.\\n\\nIt should be noted that the optimization results depend heavily\\non the problem formulation (Brian et al., 1998). Therefore, if other\\nconstraints are used, the results can be different. In the present work,\\nthe aim is not to propose a new acoustic geometry but rather to show\\nthe capability of autoencoders to enhance the optimization problem.\\nTo complete the optimization algorithm, robust constraint handling\\ntechniques should be considered (Biswas, Suganthan, Mallipeddi, &\\nAmaratunga, 2020; Kuk et al., 2021). Different methods for constraint\\nhandling have been summarized by Kuk et al. (2021), such as discard-\\ning/modifying unfeasible solutions and transforming objective func-\\ntions, etc. Here, we choose to replace unfeasible solutions by randomly\\ngenerating new solutions (Roy & Bhui, 2013), which is beneficial for\\nglobal searches. At each PSO iteration, the particle is first evaluated\\nbased on the constraints, and is discarded if the constraints are not\\nsatisfied. The discarded particle will be replaced by a new particle\\nrandomly generated in the sampling space.\\n\\nFinally, the range of shape parameters, including the CST shape\\nparameters or latent variable of the autoencoder, should be predeter-\\nmined before the optimization starts. For CST parameterization, we\\nhave observed that if the parameter ranges are not properly chosen,\\n\\n\\n\\nExpert Systems With Applications 217 (2023) 119513J. Kou et al.\\n\\nX\\nv\\nn\\np\\na\\n\\nf\\n\\nw\\n\\n𝐶\\n\\ne\\nu\\n\\n𝑆\\n\\nFig. 4. Variational autoencoder.\\nFOIL can easily stagnate into an infinite loop that hinders the con-\\nergence of the optimization. This is due to the fact that CST does\\not always produce reasonable geometries. Therefore, we chose to\\nerturb the CST parameters of a baseline airfoil (the NACA0012 airfoil),\\nnd the CST parameters are allowed to vary between ±30% of the\\n\\nbaseline parameters. In contrast, since the autoencoder is trained from\\na database of real airfoils, it generates new geometry that follows the\\ntraining database. Therefore, the entire optimization process is easier\\nto converge; thus a wider range of geometrical parameters (latent\\nvariables) can be selected. The optimization process converges when\\nthe predefined number of iterations/generations is reached.\\n\\nDetails on the airfoil shape parameterization, variational autoen-\\ncoders and PSO algorithm will be given in the following subsections.\\n\\n3.2. Airfoil shape parameterization\\n\\nThe review by Li et al. (2022) provides an overview of the tech-\\nniques for airfoil shape parameterization. Our aim in this work is to\\nassess the suitability of variational autoencoders for shape parame-\\nterization when performing optimization. To show the potential of\\nautoencoders, we compare optimization using classic well-established\\nCST parameterization with a variational autoencoder parameterization\\ntechnique.\\n\\n3.2.1. CST parameterization\\nThe Class/Shape function Transformation (CST), proposed by Kul-\\n\\nfan and Bussoletti (2006) in 2006, is a classic and commonly used\\nmethod to represent/parameterize airfoils. CST describes the two-\\ndimensional airfoil (with chord length 𝑐) as the product of a class\\nunction 𝐶(𝑥∕𝑐) and a shape function 𝑆(𝑥∕𝑐), plus a term that considers\\n\\nthe trailing edge thickness (𝛥𝑧𝑡𝑒∕𝑐) (Ceze, Hayashi, & Volpe, 2009;\\nSripawadkul, Padulo, & Guenov, 2010):\\n𝑦\\n𝑐\\n= 𝐶\\n\\n(𝑥\\n𝑐\\n\\n)\\n\\n𝑆\\n(𝑥\\n𝑐\\n\\n)\\n\\n+ 𝑥\\n𝑐\\n𝛥𝑧𝑡𝑒\\n𝑐\\n\\n, (5)\\n\\nhere the class function 𝐶(𝑥∕𝑐) is given by:\\n(𝑥\\n𝑐\\n\\n)\\n\\n=\\n(𝑥\\n𝑐\\n\\n)𝑁1 (\\n\\n1 − 𝑥\\n𝑐\\n\\n)𝑁2\\n, 0 ≤ 𝑥\\n\\n𝑐\\n≤ 1. (6)\\n\\nThe exponents 𝑁1 and 𝑁2 are set to 0.5 and 1.0 for a general airfoil\\nshape. This ensures a round leading edge (\\n\\n√\\n\\n𝑥∕𝑐) and a sharp trailing\\ndge (1 − 𝑥). To generate arbitrary airfoils, a Bernstein polynomial is\\nsed for the shape function:\\n(𝑥) =\\n\\n𝑛\\n∑\\n\\n[\\n\\n𝑏𝑖 ⋅𝐾𝑖,𝑛 ⋅\\n(𝑥)𝑖\\n\\n⋅\\n(\\n\\n1 − 𝑥)𝑛−𝑖\\n]\\n\\n, 𝐾𝑖,𝑛 =\\n𝑛! , (7)\\n5\\n\\n𝑐 𝑖=0 𝑐 𝑐 𝑖!(𝑛 − 𝑖)!\\nwhere 𝑏𝑖 is the design parameter of the CST method. To generate\\nsmooth and well-defined airfoil configurations, the 𝑥 coordinates are\\nspaced using conventional cosine clustering, with 200 coordinates in\\ntotal.\\n\\n3.2.2. Autoencoder-based parameterization\\nAs a nonlinear dimensionality reduction technique, autoencoders\\n\\nhave been used for many engineering applications, such as uncertainty\\nquantification (Yong & Brintrup, 2022), object detection (Scarpiniti,\\nSarv Ahrabi, Baccarelli, Piazzo, & Momenzadeh, 2022), turbulent flow\\nprediction (Eivazi, Le Clainche, Hoyas, & Vinuesa, 2022), etc. Varia-\\ntional autoencoders have been introduced as a new parameterization\\nmethod, which can enhance the parameterization of airfoils (Yonekura\\n& Suzuki, 2021). VAEs allow for efficient random and guided sampling\\nof novel airfoils from the lower-dimensional latent space of variables,\\navoiding nonphysical shapes, while allowing for a wide variety of\\nshapes.\\n\\nThe proposed VAE has been trained using the UIUC airfoil coordi-\\nnate database (Selig, 1996), using 198 cosine-spaced points per airfoil.\\nMore details of the database can be found in Appendix B. Since the\\n𝑥 spacing for every airfoil is the same, only the vertical coordinate\\n𝑦 is needed to train the network. The architecture (Fig. 4) consists\\nof a symmetrically fully connected multilayer perceptron architecture\\n(MLP) with a variable number of latent features 𝑛 between the encoder\\nand decoder parts. The resulting network is capable of generating airfoil\\nshapes by decoding an input set of 𝑛 latent variables, as shown in Fig. 4.\\nBy condensing the information from the original airfoil database into\\na lower-dimensional latent space, this allows for faster optimization\\niterations by means of dimensionality reduction (see Fig. 4).\\n\\nLatent variables contain valuable geometric information about the\\nairfoil coordinates. For example, using only 𝑛 = 4 latent variable\\ngenerator, we can obtain a large family of airfoils, as shown in Fig. 5.\\nThe loss function \\ue232 , which is the sum of the reconstruction loss and\\nthe Kullback–Leibler (KL) divergence; see Eq. (8) can be minimized\\nthrough training. The reconstruction loss quantifies the mean square\\nerror (MSE) between the input and output coordinates, while the KL\\ndivergence tries to approximate the latent space to a standard normal\\ndistribution (Kingma & Welling, 2013). In addition, a scaling term 𝑘 has\\nbeen included in the KL divergence part of the loss function to reduce\\nthe influence of this term. Through Experimenting, we find an optimal\\nvalue of 𝑘 = 5 ⋅ 10−6, see Section 3.3.\\n\\n\\ue232 = \\ue232𝑟𝑒𝑐 + 𝑘 ⋅𝐷𝐾𝐿(𝑝 ∥ 𝑞)\\n\\n\\ue232𝑟𝑒𝑐 =\\n‖\\n\\n‖\\n\\n‖\\n\\n𝒚𝑜𝑢𝑡2 − 𝒚𝑖𝑛2\\n‖\\n\\n‖\\n\\n‖\\n\\n𝐷𝐾𝐿(𝑝 ∥ 𝑞) = −1\\n𝑛\\n∑\\n\\n(\\n\\n1 + log(𝜎2𝑖 ) − 𝜇2\\n𝑖 − 𝜎2𝑖\\n\\n)\\n\\n.\\n\\n(8)\\n2 𝑖=1\\n\\n\\n\\nExpert Systems With Applications 217 (2023) 119513J. Kou et al.\\n\\na\\n(\\n\\n𝐹\\n\\nw\\nd\\nc\\na\\n\\n3\\n\\ns\\nt\\n6\\nu\\n\\nn\\ne\\nl\\nt\\no\\ni\\n\\n(\\nw\\n\\nFig. 5. Randomly generated airfoils using a variational autoencoder (𝜎 = 1, 𝑛 = 4).\\nd\\n\\na\\nt\\nr\\nf\\n𝑘\\nr\\n\\n3\\n\\np\\nl\\n\\nwhere 𝑝 is a prior distribution, and 𝑞 is the approximate posterior.\\nA normally distributed latent space allows for random sampling of\\nairfoils from a standard normal distribution \\ue23a (0, 1) in an efficient\\nway, generating realistic airfoils. Control over the bounds of the latent\\nvariables is done by modifying the standard deviation 𝜎 of the normal\\ndistribution. Namely, 𝜎 > 1 generates airfoil shapes that are more likely\\nto be outside the training envelope, while 𝜎 < 1 tends to produce\\nmore conservative airfoil shapes. A parametric study is included in 3.3\\nto help to determine the optimal autoencoder model for aeroacoustic\\noptimization.\\n\\n3.3. Variational autoencoder parameters\\n\\nIn the following sections, we tune the variational autoencoder pa-\\nrameters to make it suitable for optimization while enhancing its\\nperformance. In particular, we study the number of latent variables and\\nthe value of the loss scaling parameter.\\n\\n3.3.1. Evaluation metric\\nThe metric used to evaluate the performance of the model is the\\n\\nFréchet distance (FD), frequently used to assess image generation mod-\\nels, such as Generative Adversarial Networks (GANs) (Heusel, Ram-\\nsauer, Unterthiner, Nessler, & Hochreiter, 2017). In the variational\\nautoencoder, it is used to quantify the distance between the generated\\nairfoil distribution, with normal distribution (𝜇𝟏, 𝜎𝟏) and the original\\nirfoil distribution from the UIUC database, with normal distribution\\n𝜇𝟐, 𝜎𝟐):\\n\\n𝐷 = 𝑑2 = ‖\\n\\n‖\\n\\n𝜇𝟏 − 𝜇𝟐‖‖\\n2 + 𝑇 𝑟\\n\\n(\\n\\n𝜎𝟏 + 𝜎𝟐 − 2\\n√\\n\\n𝜎𝟏 ⋅ 𝜎𝟐\\n)\\n\\n(9)\\n\\nhere 𝜇𝐢 is the mean vector and 𝜎𝐢 is the covariance matrix for each\\nistribution. 𝑇 𝑟 refers to the trace operation. A low value of FD indi-\\nates closeness between the source and generated airfoil distributions\\nnd, therefore, a good generative capacity.\\n\\n.3.2. Loss scaling parameter 𝑘\\nEq. (8) includes a loss scaling parameter 𝑘, that requires tuning. We\\n\\ntudy several base architectures consisting of three hidden layers where\\nhe number of hidden neurons is successively halved (512, 256, 128,\\n4) and depict the results in Fig. 6. We set 𝑛 = 4 latent variables and\\nse an encoder and decoder with mirrored structure.\\n\\nFig. 6 shows a limited effect when changing the number of hidden\\neurons, both for the Fréchet distance (top) and the reconstruction\\nrror (bottom). The figure also shows the importance of selecting the\\noss scaling parameter 𝑘. For 𝑘 > 10−2, the Kullback–Leibler divergence\\nerm dominates the loss function and causes the network to always\\nutput the same airfoil for any given input. This results in a stagnation\\nn both the FD and the reconstruction error for large 𝑘. For low values\\n\\nof the scaling term, approximately 𝑘 < 4 ⋅ 10−6, the Fréchet distance\\ntop figure) shows a significant decrease in generative quality. Indeed,\\n6\\n\\nhen k is very low, the variational autoencoder resembles a regular o\\nFig. 6. Fréchet distance (top) and reconstruction error (bottom) against 𝑘. Legend\\nindicates number of hidden neurons in the first layer. Optimal 𝑘 = 5 ⋅10−6 marked with\\nashed line.\\n\\nutoencoder, in which latent features do not form a continuous space\\no sample from (i.e., not suitable for optimization). In this case, the\\nandomly sampled airfoils may show nonphysical shapes, deviating\\nrom the statistics of the original dataset. For this reason, we select\\n= 5 ⋅ 10−6 after evaluating the Fréchet distance, along with the\\n\\neconstruction error.\\n\\n.3.3. Architectural details of the autoencoder\\nFrom previous parameter studies, we fix the variational autoencoder\\n\\narameters to 𝑘 = 5 ⋅ 10−6 and optimize the number of neurons and\\nayers for the latent variables 𝑛 = 4. To do so, we optimize the number\\nf neurons and layers using Bayesian methods implemented in the\\n\\n\\n\\nExpert Systems With Applications 217 (2023) 119513J. Kou et al.\\n\\ni\\n\\nP\\ns\\nt\\n[\\nt\\n\\n3\\n\\nc\\nt\\n(\\nv\\na\\ns\\n\\nn\\nd\\nv\\no\\n\\n3\\n\\na\\nt\\nP\\nb\\ns\\no\\ne\\na\\nf\\na\\n2\\n\\np\\nf\\nw\\nt\\na\\n\\nFig. 7. Architecture of the variational autoencoder. The input and output vectors include coordinates of 198 control points defining the airfoil surface in the 𝑦-direction (coordinates\\nn the 𝑥-direction are fixed for all samples).\\n𝜔\\n\\nw\\nm\\np\\nt\\nr\\nw\\n\\nython package Optuna. The algorithm employs a tree parzen estimator\\nampler along with a hyperband pruner. After 500 optimization itera-\\nions, the best architecture found is a mirrored three-layer network with\\n466, 167, 234] neurons in each layer. This architecture is retained\\nhroughout this work, which is illustrated in Fig. 7.\\n\\n.3.4. Number of latent variables\\nTo determine the final autoencoder, we study the effect of in-\\n\\nreasing the number of latent variables in the autoencoder, fixing\\nhe three-layer network with [466, 167, 234] neurons in each layer\\nand optimized in the previous section). We vary the number of latent\\nariables by changing the width of the middle layer of the optimal\\nutoencoder network with the architecture described in the previous\\nubsection.\\n\\nFig. 8 shows the Fréchet distance variations when changing the\\number of latent variables. We observe a sharp increase in the Fréchet\\nistance for 𝑛 < 4 and little improvement for 𝑛 > 4. We keep 𝑛 = 4 latent\\nariables. Note that the latent variables are the variables for shape\\nptimization and thus using a small number leads to fast optimizations.\\n\\n.4. Optimization algorithm\\n\\nTo efficiently explore the global parameter space, an evolution-\\nry algorithm is considered for optimization. In particular, the par-\\nicle swarm optimization (PSO) algorithm is used for optimization.\\nSO is a population-based evolutionary heuristic algorithm proposed\\ny Kennedy and Eberhart (1995). It basically describes a simplified\\nocial model that stems from swarm theory, which mimics the swarm\\nf animal adapting to its surrounding environment. Similar to other\\nvolutionary algorithms (Zhou et al., 2011), PSO does not require\\nny gradient information (gradient-free); therefore, it is very useful\\nor global optimization. So far, PSO has been applied to different\\nerodynamic optimization problems (Venter & Sobieszczanski-Sobieski,\\n004; Wickramasinghe, Carrese, & Li, 2010; Xia, Jiang, & Chen, 2017).\\n\\nIn the PSO algorithm, the particles are initially populated at random\\nositions, each represents a candidate optimization solution. The fitness\\nunction is defined to represent the knowledge gained for each particle,\\nhich defines a criterion that determines the proximity of a particle to\\n\\nhe optimal solution. The basic algorithm of PSO is detailed in Kennedy\\nnd Eberhart (1995), which includes four steps as follows:\\n\\n1. Initialize the particle swarm with random positions and random\\n7\\n\\ninitial velocities;\\nFig. 8. Fréchet distance against number of latent variables for a three-layer network\\nwith [466, 167, 234] neurons in each layer.\\n\\n2. Update the velocity for each particle, using the history of evo-\\nlution and the knowledge (obtained from the fitness function)\\ngained by the swarm;\\n\\n3. Update the position of each particle based on the updated veloc-\\nity and the previous position;\\n\\n4. Go to Step 2 and repeat until convergence.\\n\\nAt each iteration, the position and velocity of the 𝑖th particle are\\nupdated as follows:\\n\\n𝑽 𝑔+1\\n𝑖 = 𝜔(𝑔) × 𝑽 𝑔\\n\\n𝑖 + 𝑐1𝑟1 × (𝑷𝒃𝒆𝒔𝒕𝑔𝑖 −𝑿𝑔\\n𝑖 ) + 𝑐2𝑟2 × (𝑮𝒃𝒆𝒔𝒕𝑔𝑖 −𝑿𝑔\\n\\n𝑖 ), (10)\\n\\n𝑿𝑔+1\\n𝑖 = 𝑿𝑔\\n\\n𝑖 + 𝑽 𝑔+1\\n𝑖 , (11)\\n\\n(𝑔 + 1) = 𝜔2 − (𝜔2 − 𝜔1) × 𝑔∕𝐺, (12)\\n\\nhere 𝑔 is the index of the present generation (iteration), 𝐺 is the\\naximum generation (iteration) number. 𝑿𝑔+1\\n\\n𝑖 and 𝑽 𝑔+1\\n𝑖 denote the\\n\\nosition and velocity of the 𝑖th particle in the 𝑔 + 1th iteration, respec-\\nively; 𝑷𝒃𝒆𝒔𝒕𝑔𝑖 and 𝑮𝒃𝒆𝒔𝒕𝑔𝑖 denote the best local and global positions,\\nespectively. To achieve an effective local search, a linear time-varying\\neight 𝜔(𝑔 + 1) decreases linearly with an increasing number of itera-\\n\\ntions (Shi & Eberhart, 1998). 𝑐1 and 𝑐2 are two acceleration constants,\\n𝑟 and 𝑟 are random numbers from 0 to 1 and 𝜔 and 𝜔 are the lower\\n1 2 1 2\\n\\n\\n\\nExpert Systems With Applications 217 (2023) 119513J. Kou et al.\\n\\no\\np\\n\\na\\nt\\nt\\nt\\nt\\nm\\nt\\nP\\nP\\n\\n4\\n\\ns\\nc\\nd\\n\\no\\nc\\nt\\n\\nt\\nc\\nf\\nc\\nB\\nt\\ne\\n\\n4\\n\\nu\\nb\\nc\\np\\n\\nr\\nu\\nt\\nt\\n\\nA\\na\\ni\\no\\nT\\nt\\na\\nT\\na\\n\\n4\\n\\nFig. 9. Convergence history in the optimization process.\\n\\nFig. 10. Optimized geometry versus the baseline geometry (NACA0012 airfoil) based\\nn CST parameterization. Benchmark geometry is generated from the mean of CST\\narameters, which is the NACA0012 airfoil in this work.\\n\\nnd upper bounds of the weight. The velocity is updated according to\\nhe theory of swarm intelligence, as described in Eq. (10). The first\\nerm reflects the memory effects of the velocity. The second term refers\\no the current knowledge in the swarm, whereas the third term refers\\no the group knowledge in the swarm. In practice, the maximal and\\ninimal values of the particle positions and velocities should be limited\\n\\no avoid crossing the boundaries of the search space. The selection of\\nSO parameters has been well discussed in Juneja and Nagar (2016),\\nedersen (2010) and Wang, Tan, and Liu (2018).\\n\\n. Results and discussion\\n\\nThe initial case to start the optimization procedure is a widely\\ntudied airfoil in the literature, i.e., a NACA 0012 airfoil, in similar\\nonditions as the validation case detailed in Section 2.3, with the\\nifference that it is assumed that the airfoil has a 1 m chord and\\n\\nspan. The far-field observer is located at 1 m from the airfoil trailing\\nedge in the midspan, and the wall pressure spectrum is calculated at\\n𝑥∕𝑐 = 0.99. The boundary layer transition is fixed at 𝑥∕𝑐 = 0.06\\nn both sides. The inflow velocity is assumed to be 56 m∕s, which\\norresponds to a Reynolds number 3.7 × 106 and a Mach number 0.16,\\n8\\n\\nypical for small wind turbine blades. The frequency resolution is 1 Hz a\\nFig. 11. Optimized geometry versus the NACA0012 airfoil based on autoencoder\\nparameterization. Benchmark geometry is generated from the mean of latent variables\\nof autoencoder, which are all set to zero in this work.\\n\\nTable 2\\nCST parameters of the NACA0012 airfoil.\\n\\nSurface 1 2 3 4 5 6\\n\\nUpper 0.170374 0.160207 0.143643 0.166426 0.110476 0.179433\\nLower −0.170374 −0.160207 −0.143643 −0.166426 −0.110476 −0.179433\\n\\nand the far-field noise 𝑆pp is calculated from 100 Hz to 10 kHz. Since\\nhe optimized airfoil is expected to operate under multiple operating\\nonditions, the objective function in Eq. (3) includes the sum of OASPL\\nrom three typical AOAs: 0◦, 2◦, and 4◦. For each AOA, the OASPLs are\\nalculated first by applying the A-weighted filter (Doolan, Moreau, &\\nrooks, 2012; Van den Berg, 2004) in the entire frequency spectrum,\\nhen calculating the SPL, using Eq. (2), and finally by integrating in the\\nntire frequency range (which is the output of our acoustic simulator).\\n\\n.1. Classical optimization with CST parameterization\\n\\nIn the first group of optimization, the CST parameterization is\\nsed. A NACA0012 airfoil is used for baseline geometry, which has\\neen widely used for case validation. Six CST parameters have been\\nhosen for each surface, to sufficiently represent the geometry. The CST\\narameters for NACA0012 airfoil are shown in Table 2.\\n\\nNote that because of the symmetrical configuration, the CST pa-\\nameters for the lower surface are the negative counterparts of the\\npper surface. From the baseline parameters, we allow ±30% to change\\nhe CST parameters. In the PSO optimization, the number of itera-\\nions/generation is set to 80, while a group of 40 particles is initialized.\\n\\nFig. 9 shows a typical convergence plot in the optimization process.\\ns the PSO iterations progress, the objective function drops first rapidly\\nnd then converges to the minimal values. From the first to the final\\nteration, about 3 dBA noise is reduced for all AOAs. We run the\\nptimization several times, resulting in very similar final geometries.\\nhree optimized shapes are shown in Fig. 10, which are very similar\\no each other. Compared to the benchmark profile, the optimized ones\\nre thinner near the leading edge and thicker near the trailing edge.\\nhe predicted aerodynamic and acoustic parameters will be compared\\nnd discussed in the next section, as shown in Tables 3–5.\\n\\n.2. Improved optimization with autoencoder-based parameterization\\n\\nIn this section, the same optimization problem is solved with an\\n\\nutoencoder used for shape parameterization. We train the autoencoder\\n\\n\\n\\nExpert Systems With Applications 217 (2023) 119513J. Kou et al.\\nFig. 12. Comparison of aerodynamic and acoustic performance for the optimized airfoils. (a) Lift coefficient, 𝐶𝑙 . (b) Drag coefficient, 𝐶𝑑 . (c) OASPL.\\nTable 3\\nObjective function for different optima and overall noise reduction when compared to\\na NACA0012 airfoil. The best results are highlighted using bold letters.\\n\\nMethod Objective % noise reduction dBA noise reduction\\nOASPL w.r.t NACA0012 w.r.t NACA0012\\n\\nNACA0012 178.9352 0 0\\nOptimized-1 (CST) 175.6013 1.86 1.1113\\nOptimized-2 (CST) 175.6054 1.86 1.1099\\nOptimized-3 (CST) 175.6087 1.86 1.1083\\nOptimized-1 (AE) 173.6856 2.93 1.7499\\nOptimized-2 (AE) 175.6192 1.85 1.1053\\nOptimized-3 (AE) 176.0466 1.61 0.9629\\n\\nwith 4 latent variables, which are sufficient to represent the two-\\ndimensional aerodynamic configurations. The same PSO parameters\\nare used during the optimization. As detailed in Section 3.2.2, the\\nautoencoder generates reasonably good aerodynamic configurations\\nacross a wide range of latent variables. Therefore, the range of all\\nfour latent variables is set to [−3, 3]. All PSO parameters are set the\\nsame as those used for CST-based optimization. In contrast to when\\nusing CST-based optimization, the autoencoder provides multiple final\\ngeometries. Three optimum geometries are depicted in Fig. 11. When\\nchecking the aerodynamic coefficients and the OASPL, see Table 3,\\nwe observe that all geometries have similar values for the objective\\nfunction, but the profiles are now different. In this case, the benchmark\\ngeometry is generated by setting all the latent variables to zero (and\\ndoes not correspond to the NACA0012).\\n\\nThe values of all objective functions, including both CST-based\\n(named as Optimized-1/2/3 (CST)) and autoencoder-based (named\\nas Optimized-1/2/3 (AE)) optimization, are summarized in Table 3.\\nAs shown in the table, both types of parameterization lead to very\\nsimilar objective values, but the autoencoder finds more silent airfoils\\n(in particular, the Optimized-1 (AE)). This indicates that when the\\n9\\n\\noptimized airfoil based on autoencoder (e.g., Optimized-1 (AE)) is used\\nfor wind turbine design, significant reduction of noise can be reached\\n(thus reducing human annoyance levels). Indeed, Table 3 shows the\\noverall noise reduction attained by the optimization framework and\\nthe proposed autoencoder-based parameterization, when considering\\nthree angles of attack. In addition, for each of the angle of attack, the\\naerodynamic and acoustic characteristics is compared in Table 4 (for\\nall AOAs used for optimization, including 0◦, 2◦ and 4◦) and Table 5\\n(for other AOAs including 1◦ and 3◦). Since all three results are quite\\nsimilar, only the best result from CST parameterization is included.\\nThese results are plotted in Fig. 12. Although having similar OASPL,\\nthe aerodynamic properties from autoencoder-based optimization are\\nbetter than those from CST-based optimization. Furthermore, the opti-\\nmal airfoil in terms of OASPL (Optimized-1(AE)) reduces around 2.97%\\nfor all angles of attack (the mean value, corresponding to 1.75 dBA),\\ncompared to the baseline NACA0012 airfoil. This indicates that the\\nautoencoder can fully explore the parameter space to generate optimal\\nairfoils. For completeness, the pressure coefficients of all configurations\\nare compared in Fig. 13.\\n\\nTo compare the noise reduction for optimized configurations,\\nFig. 14 shows the far-field noise spectrum. It is clear that, although the\\nintegrated value (OASPL) is used as the objective, the noise across all\\nfrequency ranges is reduced. Compared with the baseline NACA0012,\\nthe optimized airfoils reduce noise at all frequencies and all angles of\\nattack considered. At a small angle of attack (e.g., AOA = 0◦), optimized\\nairfoils based on autoencoders show lower noise levels at small frequen-\\ncies, compared to optimized airfoils based on CST. On the contrary, the\\noptimized airfoil based on the third autoencoder shows louder noise at\\nhigh frequencies, similar to the baseline airfoil. As the angle of attack\\nis increased, CST, Autoencoder-2 and Autoencoder-3 airfoils behave\\nsimilarly, producing less noise compared to the NACA0012 airfoil.\\nAdditionally, for all operating conditions, the Autoencoder-1 airfoil\\n\\ngives minimal overall noise for all frequencies, which is consistent with\\n\\n\\n\\nExpert Systems With Applications 217 (2023) 119513J. Kou et al.\\n\\na\\n\\nTable 4\\nAerodynamic and aeroacoustic parameters for different geometries at AOAs used for optimization (0◦, 2◦ and 4◦). OASPL values are presented in dBA. The best results are\\nhighlighted using bold letters.\\n\\nShape AOA = 0◦ AOA = 2◦ AOA = 4◦\\n\\n𝐶𝑙 𝐶𝑑 𝑂𝐴𝑆𝑃𝐿 𝐶𝑙 𝐶𝑑 𝑂𝐴𝑆𝑃𝐿 𝐶𝑙 𝐶𝑑 𝑂𝐴𝑆𝑃𝐿\\n\\nNACA0012 0 0.0085 59.7231 0.2183 0.0086 59.6765 0.4356 0.0088 59.5355\\nCST 0.0213 0.0085 58.6063 0.2307 0.0086 58.5545 0.4381 0.0088 58.4405\\nOptimized-1 (AE) 0.0482 0.0082 57.8251 0.2566 0.0083 57.8940 0.4628 0.0087 57.9665\\nOptimized-2 (AE) 0.0304 0.0079 58.6207 0.2395 0.0082 58.5979 0.4363 0.0087 58.4006\\nOptimized-3 (AE) 0.2572 0.0079 59.1851 0.4926 0.0080 58.7313 0.7235 0.0083 58.1302\\nFig. 13. Comparison of surface pressure coefficient for optimized airfoils. (a) AOA = 0◦. (b) AOA = 2◦. (c) AOA = 4◦.\\nTable 5\\nAerodynamic and aeroacoustic parameters for different geometries (non-optimized\\noperating conditions, 1◦ and 3◦). OASPL values are presented in dBA. The best results\\nre highlighted using bold letters.\\nShape AOA = 1◦ AOA = 3◦\\n\\n𝐶𝑙 𝐶𝑑 𝑂𝐴𝑆𝑃𝐿 𝐶𝑙 𝐶𝑑 𝑂𝐴𝑆𝑃𝐿\\n\\nNACA0012 0.1092 0.0085 59.7126 0.3272 0.0087 59.6183\\nCST 0.1262 0.0085 58.5842 0.3348 0.0087 58.5031\\nOptimized-1 (AE) 0.1524 0.0083 57.8576 0.3604 0.0084 57.9188\\nOptimized-2 (AE) 0.1361 0.0079 58.6163 0.3432 0.0084 58.5739\\nOptimized-3 (AE) 0.3818 0.0078 58.8472 0.6125 0.0080 58.3477\\n\\nthe fact that this airfoil has minimal objective function. This indicates\\nthat OASPL is a good indicator used for the acoustic optimization of\\nairfoils and that the variational autoencoder is a promising tool for\\nairfoil optimization.\\n\\n5. Conclusions\\n\\nThis work develops an aeroacoustic airfoil shape optimization\\nframework to reduce the trailing edge noise produced by an attached\\nturbulent boundary layer. We establish the numerical framework by\\n10\\n\\nw\\n\\nusing Amiet’s theory coupled with the TNO-Blake model for acoustics\\nand the XFOIL solver for aerodynamics. We use PSO in the optimization\\nprocess to ensure an efficient global search. We define the objective\\nfunction of the optimization problem as the OASPL across various\\nAOAs, with aerodynamic and geometric constraints. We introduce\\na variational autoencoder to enhance the shape parameterization of\\nairfoils, to reduce the optimized parameters, and to generate a large\\nfamily of airfoils.\\n\\nThe variational autoencoder finds a large family of optimal ge-\\nometries, whereas the classic CST parameterization converges to very\\nsimilar shapes. Both methods find airfoils with comparable objective\\nfunctions, but the variational autoencoder is superior in better satisfy-\\ning the constraints with improved aerodynamic properties. Compared\\nto the baseline geometry (the NACA0012 airfoil), the autoencoder-\\nbased optimized airfoil reduces by 3% the overall sound pressure\\nlevel (about 1.7 dBA in Overall A-weighted Sound Pressure Level,\\nOASPL), while improving aerodynamic performance. We conclude that\\nthe aeroacoustic optimization framework is a very useful tool for wind\\nturbine airfoil design.\\n\\nCRediT authorship contribution statement\\n\\nJiaqing Kou: Conceptualization, Investigation, Methodology, Soft-\\nare, Writing – original draft, Writing – review & editing. Laura\\n\\n\\n\\nExpert Systems With Applications 217 (2023) 119513J. Kou et al.\\n\\nB\\nw\\nl\\ni\\nt\\nd\\ni\\nW\\nt\\nM\\n&\\nE\\nw\\na\\n\\nD\\n\\nc\\ni\\n\\nD\\n\\nA\\n\\nV\\nt\\n8\\ns\\na\\nr\\nM\\nt\\na\\np\\n\\nFig. 14. Far field noise comparison for optimized airfoils. Sound pressure levels are presented in 1∕3 octave band. (a) AOA = 0◦. (b) AOA = 2◦. (c) AOA = 4◦.\\nA\\n\\nA\\n\\ni\\nc\\nb\\ni\\nl\\ni\\nt\\ns\\no\\nb\\ns\\n\\n𝛬\\n\\notero-Bolívar: Conceptualization, Investigation, Methodology, Soft-\\nare, Writing – original draft, Writing – review & editing. Román Bal-\\nano: Conceptualization, Investigation, Methodology, Software, Writ-\\nng – original draft, Writing – review & editing. Oscar Marino: Concep-\\nualization, Investigation, Methodology, Software, Writing – original\\nraft, Writing – review & editing. Leandro de Santana: Conceptual-\\nzation, Investigation, Methodology, Software, Writing – original draft,\\n\\nriting – review & editing, Funding acquisition, Project administra-\\nion, Supervision. Eusebio Valero: Conceptualization, Investigation,\\nethodology, Software, Writing – original draft, Writing – review\\nediting, Funding acquisition, Project administration, Supervision.\\nsteban Ferrer: Conceptualization, Investigation, Methodology, Soft-\\nare, Writing – original draft, Writing – review & editing, Funding\\ncquisition, Project administration, Supervision.\\n\\neclaration of competing interest\\n\\nThe authors declare that they have no known competing finan-\\nial interests or personal relationships that could have appeared to\\nnfluence the work reported in this paper.\\n\\nata availability\\n\\nData will be made available on request.\\n\\ncknowledgments\\n\\nLaura Botero-Bolívar, Leandro de Santana, Oscar Mariño, Eusebio\\nalero thank the European Union Horizon 2020 Research and Innova-\\n\\nion Program under the Marie Sklodowska-Curie grant agreement No\\n60101 for the zEPHYR project. Esteban Ferrer would like to thank the\\nupport of the Spanish Ministry MCIN/AEI/10.13039/501100011033\\nnd the European Union NextGenerationEU/PRTR for the grant ‘‘Eu-\\nopa Investigación 2020’’ EIN2020-112255, and also the Comunidad de\\nadrid through the call Research Grants for Young Investigators from\\n\\nhe Universidad Politécnica de Madrid. Finally, all authors gratefully\\ncknowledge the Universidad Politécnica de Madrid (www.upm.es) for\\nroviding computing resources on Magerit Supercomputer.\\n11\\nppendix A. Parameters in Amiet’s theory\\n\\n.1. Spanwise correlation length\\n\\nA common methodology to obtain the spanwise correlation length\\ns using Corcos’ model (Corcos, 1964), which depends on an empiri-\\nal constant. This constant can be obtained by fitting the coherence\\netween two sensors located along the span of the airfoil; however,\\nt is usually assumed as a constant value. The spanwise correlation\\nength is related to the distance in the spanwise direction where there\\ns a high level of coherence. It can also be related to the size of\\nhe turbulent structures in the spanwise direction. Theoretically, the\\npanwise correlation length is defined as the integral in the entire span\\nf the coherence between two points in the spanwise direction. It can\\ne calculated from the Corcos’ model for the coherence between two\\npanwise points as:\\n\\n𝑧∣𝑃𝑃 = 𝑏𝑐\\n𝑈𝑐\\n𝜔\\n\\n(A.1)\\n\\nwhere 𝑏𝑐 is the Corco’s constant equal to 1.4.\\n\\nA.2. Wall-pressure spectrum\\n\\nThe wall pressure fluctuations in the vicinity of the trailing edge\\nare the near-field noise source of the far-field noise emitted by an\\nairfoil with an attached and turbulent boundary layer. Therefore, it\\nmight be the most important input of Amiet’s model and critical for\\ngeometry optimization procedures. Therefore, a detailed discussion\\nabout obtaining this quantity is explained in Appendix A.2. They are\\ncaused by velocity fluctuations related to the small structures near the\\nairfoil wall and the larger structures in the outer part of the boundary\\nlayer (Glegg & Devenport, 2017). The smaller structures scale with\\nviscous length (𝑢𝜏∕𝜈) and are responsible for the high frequency range\\nof the wall pressure spectrum, whereas the larger turbulent structures\\nscale with the boundary layer thickness (𝛿) and are responsible for the\\nlow frequency range of the wall pressure spectrum. The mid-frequency\\nrange scales with both types of structures. Based on this theory, several\\n\\nsemiempirical models have been proposed to model the wall pressure\\n\\nhttp://www.upm.es\\n\\n\\nExpert Systems With Applications 217 (2023) 119513J. Kou et al.\\n\\n(\\nc\\ns\\ne\\ni\\n\\nl\\n\\n𝛱\\n\\nw\\n\\na\\n\\nv\\nl\\ns\\n1\\n\\nspectrum, based on experimental measurements of flat plates or airfoils\\nwith pressure gradient (Chase, 1980; Goody, 2004; Hu & Herr, 2016;\\nKamruzzaman et al., 2015; Lee, Blake, & Farabee, 2005; Rozenberg,\\nRobert, & Moreau, 2012). Other model is the one proposed by Blake\\n(2017) which is based on physical analysis by solving the Poisson’s\\nequation, which governs the relationship between the velocity fluctua-\\ntions across the boundary layer and the wall-pressure fluctuations in the\\nairfoil wall. The model proposed by Blake (2017) was later extended\\nby Parchen (1998) and is now known as the TNO-Blake model. The\\nTNO-Blake model incorporates more physics and takes into account\\nseveral turbulence quantities, and not only integral quantities as in\\nsemiempirical models. For this reason, we retain this model to perform\\nthe optimization procedures presented in this work.\\n\\nThe TNO-Blake model is proposed based on the solution of the\\nPoison equation that results from the divergence of the Navier–Stokes\\nequation simplified by the continuity equation. The model can be\\napplied to calculate the wall-pressure spectrum close to the trailing\\nedge, however, the turbulence quantities are calculated assuming that\\nthe discontinuity of the trailing edge does not affect the turbulence.\\nFurthermore, the model assumes that the turbulent pressure and ve-\\nlocity field are spatially homogeneous and stationary on time. The\\nwall pressure spectrum can be calculated in the wavenumber–frequency\\ndomain by applying the Fourier transform in time–space Fourier trans-\\nform. Therefore, the wall pressure spectrum would depend on the\\nwavenumber in the chordwise direction (𝜅𝑥) and spanwise direction\\n𝜅𝑧). Integration in 𝜅𝑧 can be conducted by introducing the spanwise\\norrelation length that depends on the frequency 𝛬𝑧|𝑝𝑝3(𝜔). In this re-\\nearch, we follow the TNO-Blake model extension proposed by Stalnov\\nt al. (2016), which also considers the anisotropy of the turbulence by\\nncorporating the stretching parameters.\\n\\nThe single-point wall pressure spectrum can be calculated as fol-\\nows:\\n\\npp(𝜔) =\\n4𝜋𝜌2\\n\\n𝛬𝑧∣𝑃𝑃 (𝜔) ∫\\n\\n𝛿\\n\\n0\\n𝛬𝑦∣𝑣𝑣(𝑦)𝑈𝑐 (𝑦)\\n\\n[\\n\\n𝜕𝑈 (𝑦)\\n𝜕𝑦\\n\\n]2\\n\\n×\\n𝑢2𝑦(𝑦)\\n\\n𝑈2\\n𝑐 (𝑦)\\n\\n𝜙𝑣𝑣(𝜅𝑥, 𝜅𝑧 = 0)𝑒−2∣𝜅∣𝑦𝑑𝑦 (A.2)\\n\\nwhere 𝛿 is the thickness of the boundary layer, 𝛬𝑦∣𝑣𝑣(𝑦) is the integral\\nlength scale across the boundary layer in the 𝑦 direction, i.e., in the\\ndirection of the boundary layer, perpendicular to the airfoil wall. 𝑈𝑐 (𝑦)\\nis the convection velocity across the boundary layer, which is assumed\\nto be between 0.6 and 0.8 the velocity and the stream-wise velocity.\\n𝑈 (𝑦) is the velocity at each position along the boundary layer, 𝑢𝑦\\nis the velocity fluctuation in the 𝑦 direction. 𝜙𝑣𝑣 is the turbulence\\nspectrum of the velocity fluctuations in the 𝑦-direction. ∣ 𝜅 ∣ is the total\\nwavenumber. Here, only the wave number in the chordwise direction\\nis considered, thus, ∣ 𝜅 ∣= 𝜅𝑥(𝑦) = 𝜔∕𝑈𝑐 (𝑦). Appendix A.3 addresses\\nthe modeling of the boundary layer mean flow characteristics and\\nturbulence quantities across the boundary layer, which are calculated\\nusing XFOIL, as discussed in the next section.\\n\\nA.3. Boundary layer parameters\\n\\nThe following sections detail the relations between the aerodynamic\\nparameters and the aeroacoustic model.\\n\\nA.3.1. Boundary layer thickness\\nThe boundary layer thickness can be calculated with the empirical\\n\\nrelation proposed by (Drela, 1989):\\n\\n𝛿 = 𝜃\\n\\n(\\n\\n3.15 + 1.75\\n𝛿∗\\n𝜃 + 1\\n\\n)\\n\\n+ 𝛿∗ (A.3)\\n\\nwhere 𝛿∗ is the boundary layer displacement thickness and 𝜃 is the\\n12\\n\\nmomentum thickness, which are obtained from XFOIL simulations.\\nA.3.2. Mean velocity profile\\nThe mean velocity across the boundary layer is modeled by the\\n\\nuniversal von-Kármán log law of the wall coupled with the Coles’ wake\\nfactor (𝛱𝑤) that accounts for the pressure gradient (Coles, 1956), as:\\n\\n𝑈 (𝑦)\\n𝑢𝜏\\n\\n= 1\\n𝜅\\nlog\\n\\n(\\n\\n𝑦+\\n)\\n\\n+ 𝐵 +\\n2𝛱𝑤\\n𝜅\\n\\nsin2\\n(𝜋𝑦\\n2𝛿\\n\\n)\\n\\n𝑦+ ≤ 5\\n\\n𝑈 (𝑦)\\n𝑢𝜏\\n\\n= 𝑦+ 𝑦+ < 5\\n\\n𝛱𝑤 = 0.8\\n(\\n\\n𝛿∗\\n\\n𝜏𝑤\\n\\nd𝐶𝑝\\n\\nd𝑥\\n+ 0.5\\n\\n)3∕4\\n\\n𝑢𝜏 =\\n√\\n\\n1\\n2\\n𝑐𝑓𝑈2\\n\\n∞\\n\\n(A.4)\\n\\nhere 𝑢𝜏 is the friction velocity, 𝜅 is the von Kárman constant (=0.38),\\n𝐵 is the level constant (=5), 𝑦+ is the non-dimensional distance from the\\nwall, 𝑦+ = 𝑦𝑢𝜏∕𝜈, 𝐶𝑝 the pressure coefficient, 𝜏𝑤 is the local wall shear\\nstress equal to 𝜏𝑤 = 0.5𝜌𝑈2\\n\\n∞𝑐𝑓 , and 𝑐𝑓 is the local friction coefficient.\\nFor the calculation of the mean velocity across the boundary layer, d𝐶𝑝\\n\\nd𝑥\\nnd 𝑐𝑓 are obtained from XFOIL.\\n\\nA.3.3. Turbulence intensities\\nTo calculate the velocity fluctuations in the streamwise direction,\\n\\nthe model proposed by Alfredsson, Örlü, and Segalini (2011) is used,\\nas shown in Eq. (A.5), where 𝛾 = 64, 𝑎 = 0.2909, and 𝑏 = 0.2598. These\\nalues were obtained empirically for a zero pressure gradient boundary\\nayer. To calculate the velocity fluctuations in the other direction, the\\ntretching parameters for anisotropic turbulence are adopted, i.e. 𝛽𝑥 =\\n, 𝛽𝑦 = 1∕2, 𝛽𝑧 = 3∕4. Thus, 𝑢2𝑦 = 𝛽𝑦𝑢2𝑥 and 𝑢2𝑧 = 𝛽𝑧𝑢2𝑥.\\n\\n𝑢𝑥(𝑦)\\n𝑈 (𝑦)\\n\\n=\\n(\\n\\n𝑎 − 𝑏\\n(\\n\\n𝑈 (𝑦)\\n𝑈∞\\n\\n))\\n\\n𝑄\\n\\n𝑄 = 1 − 𝑒−𝛾\\n(\\n\\n1− 𝑈 (𝑦)\\n𝑈∞\\n\\n)\\n\\n(A.5)\\n\\nA.3.4. Integral length scale\\nThe length scale relevant for wall pressure fluctuations is the one in\\n\\nthe transversal direction of the boundary layer, i.e. the vertical size of\\nthe eddies (𝛬𝑦∣𝑣𝑣(𝑦)). It can be calculated using the model of Schlichting\\nand Kestin (1961) using the concept of mixing length (𝑙mix):\\n\\n𝛬𝑦∣𝑣𝑣(𝑦) =\\n𝑙mix\\n𝑘\\n\\n𝑙mix =\\n0.085𝛿 tanh\\n\\n(\\n\\n𝑘\\n0.085\\n\\n(\\n\\n𝑦\\n𝛿\\n\\n))\\n\\n√\\n\\n1 + 𝐵 (𝑦∕𝛿)6\\n\\n(A.6)\\n\\nThe integral length scale in the streamwise direction can be calcu-\\nlated assuming isotropic turbulence, i.e., 𝛬𝑥∣𝑢𝑢(𝑦) = 2𝛬𝑦∣𝑣𝑣(𝑦)\\n\\nA.3.5. Velocity spectrum\\nThe calculation of the velocity spectrum is based on the von Kármán\\n\\nmodel for the energy spectrum of isotropic turbulence integrated over\\n𝜅𝑦. The incorporation of the stretching parameters accounts for the\\nanisotropy, as shown in Eq. (A.7), where 𝜅𝑒 is the wavenumber of\\nthe eddies that contains most of the energy, therefore related to the\\nstreamwise integral length scale.\\n\\n𝜙𝑣𝑣 = 4\\n9𝜋\\n\\n𝛽𝑥𝛽𝑧\\n𝜅2\\n𝑒\\n\\n(\\n\\n𝛽𝑥𝜅𝑥∕𝜅𝑒\\n)2 +\\n\\n(\\n\\n𝛽𝑧𝜅𝑧∕𝜅𝑒\\n)2\\n\\n[\\n\\n1 +\\n(\\n\\n𝛽𝑥𝜅𝑥∕𝜅𝑒\\n)2 +\\n\\n(\\n\\n𝛽𝑧𝜅𝑧∕𝜅𝑒\\n)2\\n]7∕3\\n\\n𝜅𝑒(𝑦) =\\n\\n√\\n\\n𝜋 𝛤 (5∕6)\\n(A.7)\\n𝛬𝑥∣𝑢𝑢 𝛤 (1∕3)\\n\\n\\n\\nExpert Systems With Applications 217 (2023) 119513J. Kou et al.\\n\\nA\\nf\\nf\\nm\\n\\nTable B.6\\nUIUC airfoil database statistics.\\n\\nNumber of airfoils 1427\\ny-coordinates per airfoil 198\\n(𝑡∕𝑐)𝑚𝑒𝑎𝑛 0.1114\\n(𝑡∕𝑐)𝑚𝑖𝑛 0.0248\\n(𝑡∕𝑐)𝑚𝑎𝑥 0.6536\\n\\nFig. B.15. Airfoils with maximum and minimum thicknesses in the UIUC database. The\\nGOE 9K is a low-thickness airfoil from the early days of aviation, while the Wortmann\\nFX-79-W-660A is a thick airfoil for use on wind turbines.\\n\\nFig. B.16. Example of an airfoil, from the UIUC database, used for training. The airfoil\\nis discretized with 198 points (shown as dots on the airfoil surface).\\n\\nAppendix B. UIUC database\\n\\nThe training data for the autoencoder has been obtained from the\\nUIUC airfoil database (Selig, 1996). To deal with the disparity in\\nnumber of discretization points for each airfoil in the database, all\\nairfoil shapes have been re-defined by interpolation to 198 cosine-\\nspaced 𝑥 points, allowing the use of only the 𝑦 coordinate as the input\\nparameter to the autoencoder:\\n\\n𝑥𝑖 =\\n1\\n2\\n\\n(\\n\\ncos\\n2𝜋(𝑖 − 1)\\n\\n198\\n+ 1\\n\\n)\\n\\n𝑖 = 1, 2,… , 198. (B.1)\\n\\ndditionally, the leading edge point (𝑥 = 𝑦 = 0) has been removed\\nor all airfoils due to it being equal for all shapes and thus not useful\\nor training. Blunt (non-zero thickness) trailing edge airfoils have been\\nodified into sharp trailing edge airfoils by finding the intersection\\n13\\nbetween the upper and lower surfaces and extending them to the end\\npoint.\\n\\nFinally, 1427 airfoil samples defined by 198 𝑦-coordinate points\\neach have been used for training. As detailed in Table B.6, this database\\nencompasses a broad range of non-dimensional airfoil thicknesses 𝑡∕𝑐,\\ndefined as the maximum vertical distance between upper and lower\\nsurfaces for a given airfoil. Two airfoils with maximum and minimum\\nthicknesses in the database are shown in Fig. B.15. Furthermore, the\\nsurface discretization of the airfoil (i.e., distribution of 198 points on\\nthe surface) is shown in Fig. B.16. Note that all airfoils share the same\\ncoordinates in the 𝑥-direction.\\n\\nReferences\\n\\nAlfredsson, P. H., Örlü, R., & Segalini, A. (2011). A new formulation for the streamwise\\nturbulence intensity distribution. In Journal of physics: conference series, Vol. 318.\\nIOP Publishing, Article 022002.\\n\\nAmiet, R. (1976). Noise due to turbulent flow past a trailing edge. Journal of Sound\\nand Vibration, 47(3), 387–393.\\n\\nBertagnolio, F., Sørensen, N., Johansen, J., & Fuglsang, P. (2001). Wind turbine airfoil\\ncatalogue: Technical report, Technical University of Denmark.\\n\\nBiswas, P. P., Suganthan, P. N., Mallipeddi, R., & Amaratunga, G. A. (2020). Multi-\\nobjective optimal power flow solutions using a constraint handling technique of\\nevolutionary algorithms. Soft Computing, 24(4), 2999–3023.\\n\\nBlake, W. K. (2017). Mechanics of flow-induced sound and vibration, volume 2: complex\\nflow-structure interactions. Academic Press.\\n\\nBoutemedjet, A., Samardžić, M., Rebhi, L., Rajić, Z., & Mouada, T. (2019). UAV\\naerodynamic design involving genetic algorithm and artificial neural network for\\nwing preliminary computation. Aerospace Science and Technology, 84, 464–483.\\n\\nBrian, J., William, C., & Anastasios, L. (1998). Aerodynamic and aeroacoustic optimization\\nof airfoils via a parallel genetic algorithm: AIAA paper, (pp. 98–4811).\\n\\nBrooks, T. F., Pope, D. S., & Marcolini, M. A. (1989). Airfoil self-noise and prediction:\\nTechnical report.\\n\\nBrunton, S. L., & Kutz, J. N. (2019). Data-driven science and engineering: machine learning,\\ndynamical systems, and control. Cambridge University Press.\\n\\nBu, Y., Song, W., Han, Z., Zhang, Y., & Zhang, L. (2020). Aerodynamic/aeroacoustic\\nvariable-fidelity optimization of helicopter rotor based on hierarchical kriging\\nmodel. Chinese Journal of Aeronautics, 33(2), 476–492.\\n\\nCeze, M., Hayashi, M., & Volpe, E. (2009). A study of the CST parameterization\\ncharacteristics. In 27th AIAA applied aerodynamics conference (p. 3767).\\n\\nChase, D. M. (1980). Modeling the wavevector-frequency spectrum of turbulent\\nboundary layer wall pressure. Journal of Sound and Vibration, 70(1), 29–67.\\n\\nColes, D. (1956). The law of the wake in the turbulent boundary layer. Journal of Fluid\\nMechanics, 1(2), 191–226.\\n\\nCorcos, G. M. (1964). The structure of the turbulent pressure field in boundary-layer\\nflows. Journal of Fluid Mechanics, 18(3), 353–378.\\n\\nDoolan, C. J., Moreau, D. J., & Brooks, L. A. (2012). Wind turbine noise mechanisms\\nand some concepts for its control. Acoustics Australia, 40(1).\\n\\nDrela, M. (1989). XFOIL: An analysis and design system for low Reynolds number\\nairfoils. In Low Reynolds number aerodynamics (pp. 1–12). Springer.\\n\\nEivazi, H., Le Clainche, S., Hoyas, S., & Vinuesa, R. (2022). Towards extraction of\\northogonal and parsimonious non-linear modes from turbulent flows. Expert Systems\\nwith Applications, 202, Article 117038.\\n\\nGarnier, P., Viquerat, J., Rabault, J., Larcher, A., Kuhnle, A., & Hachem, E. (2021).\\nA review on deep reinforcement learning for fluid mechanics. Computers & Fluids,\\n225, Article 104973.\\n\\nGlegg, S., & Devenport, W. (2017). Aeroacoustics of low mach number flows. Academic\\nPress.\\n\\nGoody, M. (2004). Empirical spectral model of surface pressure fluctuations. American\\nInstitute of Aeronautics and Astronautics, 42(9), 1788–1794.\\n\\nHao, X., Zhang, W., Liu, X., & Liu, J. (2008). Aerodynamic and aeroacoustic optimiza-\\ntion of wind turbine blade by a genetic algorithm. In 46th AIAA aerospace sciences\\nmeeting and exhibit (p. 1331).\\n\\nHerr, M., Bahr, C. J., & Kamruzzaman, M. (2012). Problem statement for the\\nAIAA/CEAS second workshop on benchmark problems for airframe noise computa-\\ntions (BANC-II). In Workshop documentation. https://info.aiaa.org/tac/ASG/FDTC/\\nDG/BECAN_files_/BANCII_category1.\\n\\nHeusel, M., Ramsauer, H., Unterthiner, T., Nessler, B., & Hochreiter, S. (2017). Gans\\ntrained by a two time-scale update rule converge to a local nash equilibrium.\\nAdvances in Neural Information Processing Systems, 30.\\n\\nHu, N., & Herr, M. (2016). Characteristics of wall pressure fluctuations for a flat plate\\nturbulent boundary layer with pressure gradients. In 22nd AIAA/CEAS aeroacoustics\\nconference (p. 2749).\\n\\nHubbard, H. H., & Shepherd, K. P. (2009). Wind turbine acoustics: Technical report, NASA\\nLangley Research Center.\\n\\nHumpf, A., Ferrer, E., & Munduate, X. (2007). Investigation of computational aeroa-\\ncoustic tools for noise predictions of wind turbine aerofoils. Journal of Physics:\\nConference Series, 75, Article 012086.\\n\\nhttp://refhub.elsevier.com/S0957-4174(23)00014-3/sb1\\nhttp://refhub.elsevier.com/S0957-4174(23)00014-3/sb1\\nhttp://refhub.elsevier.com/S0957-4174(23)00014-3/sb1\\nhttp://refhub.elsevier.com/S0957-4174(23)00014-3/sb1\\nhttp://refhub.elsevier.com/S0957-4174(23)00014-3/sb1\\nhttp://refhub.elsevier.com/S0957-4174(23)00014-3/sb2\\nhttp://refhub.elsevier.com/S0957-4174(23)00014-3/sb2\\nhttp://refhub.elsevier.com/S0957-4174(23)00014-3/sb2\\nhttp://refhub.elsevier.com/S0957-4174(23)00014-3/sb3\\nhttp://refhub.elsevier.com/S0957-4174(23)00014-3/sb3\\nhttp://refhub.elsevier.com/S0957-4174(23)00014-3/sb3\\nhttp://refhub.elsevier.com/S0957-4174(23)00014-3/sb4\\nhttp://refhub.elsevier.com/S0957-4174(23)00014-3/sb4\\nhttp://refhub.elsevier.com/S0957-4174(23)00014-3/sb4\\nhttp://refhub.elsevier.com/S0957-4174(23)00014-3/sb4\\nhttp://refhub.elsevier.com/S0957-4174(23)00014-3/sb4\\nhttp://refhub.elsevier.com/S0957-4174(23)00014-3/sb5\\nhttp://refhub.elsevier.com/S0957-4174(23)00014-3/sb5\\nhttp://refhub.elsevier.com/S0957-4174(23)00014-3/sb5\\nhttp://refhub.elsevier.com/S0957-4174(23)00014-3/sb6\\nhttp://refhub.elsevier.com/S0957-4174(23)00014-3/sb6\\nhttp://refhub.elsevier.com/S0957-4174(23)00014-3/sb6\\nhttp://refhub.elsevier.com/S0957-4174(23)00014-3/sb6\\nhttp://refhub.elsevier.com/S0957-4174(23)00014-3/sb6\\nhttp://refhub.elsevier.com/S0957-4174(23)00014-3/sb7\\nhttp://refhub.elsevier.com/S0957-4174(23)00014-3/sb7\\nhttp://refhub.elsevier.com/S0957-4174(23)00014-3/sb7\\nhttp://refhub.elsevier.com/S0957-4174(23)00014-3/sb8\\nhttp://refhub.elsevier.com/S0957-4174(23)00014-3/sb8\\nhttp://refhub.elsevier.com/S0957-4174(23)00014-3/sb8\\nhttp://refhub.elsevier.com/S0957-4174(23)00014-3/sb9\\nhttp://refhub.elsevier.com/S0957-4174(23)00014-3/sb9\\nhttp://refhub.elsevier.com/S0957-4174(23)00014-3/sb9\\nhttp://refhub.elsevier.com/S0957-4174(23)00014-3/sb10\\nhttp://refhub.elsevier.com/S0957-4174(23)00014-3/sb10\\nhttp://refhub.elsevier.com/S0957-4174(23)00014-3/sb10\\nhttp://refhub.elsevier.com/S0957-4174(23)00014-3/sb10\\nhttp://refhub.elsevier.com/S0957-4174(23)00014-3/sb10\\nhttp://refhub.elsevier.com/S0957-4174(23)00014-3/sb11\\nhttp://refhub.elsevier.com/S0957-4174(23)00014-3/sb11\\nhttp://refhub.elsevier.com/S0957-4174(23)00014-3/sb11\\nhttp://refhub.elsevier.com/S0957-4174(23)00014-3/sb12\\nhttp://refhub.elsevier.com/S0957-4174(23)00014-3/sb12\\nhttp://refhub.elsevier.com/S0957-4174(23)00014-3/sb12\\nhttp://refhub.elsevier.com/S0957-4174(23)00014-3/sb13\\nhttp://refhub.elsevier.com/S0957-4174(23)00014-3/sb13\\nhttp://refhub.elsevier.com/S0957-4174(23)00014-3/sb13\\nhttp://refhub.elsevier.com/S0957-4174(23)00014-3/sb14\\nhttp://refhub.elsevier.com/S0957-4174(23)00014-3/sb14\\nhttp://refhub.elsevier.com/S0957-4174(23)00014-3/sb14\\nhttp://refhub.elsevier.com/S0957-4174(23)00014-3/sb15\\nhttp://refhub.elsevier.com/S0957-4174(23)00014-3/sb15\\nhttp://refhub.elsevier.com/S0957-4174(23)00014-3/sb15\\nhttp://refhub.elsevier.com/S0957-4174(23)00014-3/sb16\\nhttp://refhub.elsevier.com/S0957-4174(23)00014-3/sb16\\nhttp://refhub.elsevier.com/S0957-4174(23)00014-3/sb16\\nhttp://refhub.elsevier.com/S0957-4174(23)00014-3/sb17\\nhttp://refhub.elsevier.com/S0957-4174(23)00014-3/sb17\\nhttp://refhub.elsevier.com/S0957-4174(23)00014-3/sb17\\nhttp://refhub.elsevier.com/S0957-4174(23)00014-3/sb17\\nhttp://refhub.elsevier.com/S0957-4174(23)00014-3/sb17\\nhttp://refhub.elsevier.com/S0957-4174(23)00014-3/sb18\\nhttp://refhub.elsevier.com/S0957-4174(23)00014-3/sb18\\nhttp://refhub.elsevier.com/S0957-4174(23)00014-3/sb18\\nhttp://refhub.elsevier.com/S0957-4174(23)00014-3/sb18\\nhttp://refhub.elsevier.com/S0957-4174(23)00014-3/sb18\\nhttp://refhub.elsevier.com/S0957-4174(23)00014-3/sb19\\nhttp://refhub.elsevier.com/S0957-4174(23)00014-3/sb19\\nhttp://refhub.elsevier.com/S0957-4174(23)00014-3/sb19\\nhttp://refhub.elsevier.com/S0957-4174(23)00014-3/sb20\\nhttp://refhub.elsevier.com/S0957-4174(23)00014-3/sb20\\nhttp://refhub.elsevier.com/S0957-4174(23)00014-3/sb20\\nhttp://refhub.elsevier.com/S0957-4174(23)00014-3/sb21\\nhttp://refhub.elsevier.com/S0957-4174(23)00014-3/sb21\\nhttp://refhub.elsevier.com/S0957-4174(23)00014-3/sb21\\nhttp://refhub.elsevier.com/S0957-4174(23)00014-3/sb21\\nhttp://refhub.elsevier.com/S0957-4174(23)00014-3/sb21\\nhttps://info.aiaa.org/tac/ASG/FDTC/DG/BECAN_files_/BANCII_category1\\nhttps://info.aiaa.org/tac/ASG/FDTC/DG/BECAN_files_/BANCII_category1\\nhttps://info.aiaa.org/tac/ASG/FDTC/DG/BECAN_files_/BANCII_category1\\nhttp://refhub.elsevier.com/S0957-4174(23)00014-3/sb23\\nhttp://refhub.elsevier.com/S0957-4174(23)00014-3/sb23\\nhttp://refhub.elsevier.com/S0957-4174(23)00014-3/sb23\\nhttp://refhub.elsevier.com/S0957-4174(23)00014-3/sb23\\nhttp://refhub.elsevier.com/S0957-4174(23)00014-3/sb23\\nhttp://refhub.elsevier.com/S0957-4174(23)00014-3/sb24\\nhttp://refhub.elsevier.com/S0957-4174(23)00014-3/sb24\\nhttp://refhub.elsevier.com/S0957-4174(23)00014-3/sb24\\nhttp://refhub.elsevier.com/S0957-4174(23)00014-3/sb24\\nhttp://refhub.elsevier.com/S0957-4174(23)00014-3/sb24\\nhttp://refhub.elsevier.com/S0957-4174(23)00014-3/sb25\\nhttp://refhub.elsevier.com/S0957-4174(23)00014-3/sb25\\nhttp://refhub.elsevier.com/S0957-4174(23)00014-3/sb25\\nhttp://refhub.elsevier.com/S0957-4174(23)00014-3/sb26\\nhttp://refhub.elsevier.com/S0957-4174(23)00014-3/sb26\\nhttp://refhub.elsevier.com/S0957-4174(23)00014-3/sb26\\nhttp://refhub.elsevier.com/S0957-4174(23)00014-3/sb26\\nhttp://refhub.elsevier.com/S0957-4174(23)00014-3/sb26\\n\\n\\nExpert Systems With Applications 217 (2023) 119513J. Kou et al.\\n\\nK\\n\\nK\\n\\nL\\n\\nL\\n\\nL\\n\\nM\\n\\nO\\n\\nP\\n\\nP\\n\\nR\\n\\nR\\n\\nR\\n\\nR\\n\\nR\\n\\nR\\n\\nR\\n\\nS\\n\\nS\\n\\nS\\nS\\nS\\n\\nS\\n\\nS\\n\\nS\\n\\nV\\n\\nV\\n\\nV\\n\\nV\\n\\nW\\n\\nW\\n\\nX\\n\\nY\\n\\nY\\n\\nY\\n\\nY\\n\\nZ\\n\\nJuneja, M., & Nagar, S. (2016). Particle swarm optimization algorithm and its parame-\\nters: A review. In 2016 international conference on control, computing, communication\\nand materials (pp. 1–5). IEEE.\\n\\nKamruzzaman, M., Bekiropoulos, D., Lutz, T., Würz, W., & Krämer, E. (2015). A semi-\\nempirical surface pressure spectrum model for airfoil trailing-edge noise prediction.\\nInternational Journal of Aeroacoustics, 14(5–6), 833–882.\\n\\nennedy, J., & Eberhart, R. (1995). Particle swarm optimization. In Proceedings of\\nICNN’95-international conference on neural networks, Vol. 4 (pp. 1942–1948). IEEE.\\n\\nKingma, D. P., & Welling, M. (2013). Auto-encoding variational bayes. arXiv preprint\\narXiv:1312.6114.\\n\\nKou, J., & Zhang, W. (2021). Data-driven modeling for unsteady aerodynamics and\\naeroelasticity. Progress in Aerospace Sciences, 125, Article 100725.\\n\\nüçükosman, Y. C., Christophe, J., & Schram, C. (2018). Trailing edge noise prediction\\nbased on wall pressure spectrum models for NACA0012 airfoil. Journal of Wind\\nEngineering and Industrial Aerodynamics, 175, 305–316.\\n\\nKuk, J. N., Goncalves, R. A., Pavelski, L. M., Venske, S. M. G. S., de Almeida, C. P., &\\nPozo, A. T. R. (2021). An empirical analysis of constraint handling on evolutionary\\nmulti-objective algorithms for the environmental/economic load dispatch problem.\\nExpert Systems with Applications, 165, Article 113774.\\n\\nKulfan, B., & Bussoletti, J. (2006). ‘‘Fundamental’’ parameteric geometry representations\\nfor aircraft component shapes. In 11th AIAA/ISSMO multidisciplinary analysis and\\noptimization conference (p. 6948).\\n\\nleClainche, S., Ferrer, E., Gibson, S., Cross, E., Parente, A., & Vinuesa, R. (2022).\\nImproving aircraft performance using machine learning: a review.\\n\\nLee, Y.-T., Blake, W. K., & Farabee, T. M. (2005). Modeling of wall pressure fluctuations\\nbased on time mean flow field. Journal of Fluids Engineering.\\n\\nLee, S., Lee, S., Ryi, J., & Choi, J.-S. (2013). Design optimization of wind turbine blades\\nfor reduction of airfoil self-noise. Journal of Mechanical Science and Technology,\\n27(2), 413–420.\\n\\ni, J., Du, X., & Martins, J. R. (2022). Machine learning in aerodynamic shape\\noptimization. Progress in Aerospace Sciences, 134, Article 100849.\\n\\niao, P., Song, W., Du, P., & Zhao, H. (2021). Multi-fidelity convolutional neural\\nnetwork surrogate model for aerodynamic optimization based on transfer learning.\\nPhysics of Fluids, 33(12), Article 127121.\\n\\nutz, T., Herrig, A., Würz, W., Kamruzzaman, M., & Krämer, E. (2007). Design and\\nwind-tunnel verification of low-noise airfoils for wind turbines. American Institute\\nof Aeronautics and Astronautics, 45(4), 779–785.\\n\\nonfaredi, M., Trompoukis, X., Tsiakas, K., & Giannakoglou, K. (2021). Unsteady\\ncontinuous adjoint to URANS coupled with FW-H analogy for aeroacoustic shape\\noptimization. Computers & Fluids, 230, Article 105136.\\n\\nerlemans, S. (2011). Wind turbine noise: primary noise sources. National Aerospace\\nLaboratory NLR.\\n\\narchen, R. R. (1998). Progress report DRAW: a prediction scheme for trailing edge noise\\nbased on detailed boundary layer characteristics. TNO Institute of Applied Physics.\\n\\nedersen, M. E. H. (2010). Good parameters for particle swarm optimization: Tech. rep.\\nHL1001, (pp. 1551–3203). Copenhagen, Denmark: Hvass Lab..\\n\\nicks, N., Tsirikoglou, P., Contino, F., & Ghorbaniasl, G. (2020). A CFD-based method-\\nology for aerodynamic-aeroacoustic shape optimization of airfoils. In AIAA scitech\\n2020 forum (p. 1729).\\n\\nios, T., van Stein, B., Wollstadt, P., Bäck, T., Sendhoff, B., & Menzel, S. (2021). Ex-\\nploiting local geometric features in vehicle design optimization with 3D point cloud\\nautoencoders. In 2021 IEEE congress on evolutionary computation (pp. 514–521).\\n\\nodrigues, S. S., & Marta, A. C. (2014). On addressing noise constraints in the design of\\nwind turbine blades. Structural and Multidisciplinary Optimization, 50(3), 489–503.\\n\\noger, M., & Moreau, S. (2005). Back-scattering correction and further extensions of\\namiet’s trailing-edge noise model. Part 1: theory. Journal of Sound and Vibration,\\n286(3), 477–506.\\n\\nogers, A. L., Manwell, J. F., & Wright, S. (2006). Wind turbine acoustic noise. Amherst:\\nRenewable Energy Research Laboratory, University of Massachusetts.\\n\\noy, P. K., & Bhui, S. (2013). Multi-objective quasi-oppositional teaching learning based\\noptimization for economic emission load dispatch problem. International Journal of\\nElectrical Power & Energy Systems, 53, 937–948.\\n14\\nozenberg, Y., Robert, G., & Moreau, S. (2012). Wall-pressure spectral model includ-\\ning the adverse pressure gradient effects. American Institute of Aeronautics and\\nAstronautics, 50(10), 2168–2179.\\n\\ncarpiniti, M., Sarv Ahrabi, S., Baccarelli, E., Piazzo, L., & Momenzadeh, A. (2022).\\nA novel unsupervised approach based on the hidden features of deep denoising\\nautoencoders for COVID-19 disease detection. Expert Systems with Applications, 192,\\nArticle 116366.\\n\\nchepers, J., Curvers, A., Oerlemans, S., Braun, K., Lutz, T., Herrig, A., et al. (2007).\\nSirocco: silent rotors by acoustic optimisation. In 2nd international meeting on wind\\nturbine noise. ECN–M–07–064.\\n\\nchlichting, H., & Kestin, J. (1961). Boundary layer theory, Vol. 121. Springer.\\nelig, M. S. (1996). UIUC airfoil data site.\\nhi, Y., & Eberhart, R. (1998). A modified particle swarm optimizer. In 1998 IEEE\\ninternational conference on evolutionary computation proceedings. IEEE world congress\\non computational intelligence (cat. no. 98TH8360) (pp. 69–73). IEEE.\\n\\nripawadkul, V., Padulo, M., & Guenov, M. (2010). A comparison of airfoil shape\\nparameterization techniques for early design optimization. In 13th AIAA/ISSMO\\nmultidisciplinary analysis optimization conference (p. 9050).\\n\\ntalnov, O., Chaitanya, P., & Joseph, P. F. (2016). Towards a non-empirical trailing\\nedge noise prediction model. Journal of Sound and Vibration, 372, 50–68.\\n\\nun, G., & Wang, S. (2019). A review of the artificial neural network surrogate modeling\\nin aerodynamic design. Proceedings of the Institution of Mechanical Engineers, Part G\\n(Journal of Aerospace Engineering), 233(16), 5863–5872.\\n\\nan den Berg, G. P. (2004). Effects of the wind profile at night on wind turbine sound.\\nJournal of Sound and Vibration, 277(4–5), 955–970.\\n\\nenter, G., & Sobieszczanski-Sobieski, J. (2004). Multidisciplinary optimization of\\na transport aircraft wing using particle swarm optimization. Structural and\\nMultidisciplinary Optimization, 26(1), 121–131.\\n\\ninuesa, R., & Brunton, S. L. (2022). Enhancing computational fluid dynamics with\\nmachine learning. Nature Computational Science, 2(6), 358–366.\\n\\nolkmer, K., & Carolus, T. (2018). Aeroacoustic airfoil shape optimization utilizing\\nsemi-empirical models for trailing edge noise prediction. In 2018 AIAA/CEAS\\naeroacoustics conference (p. 3130).\\n\\nang, D., Tan, D., & Liu, L. (2018). Particle swarm optimization algorithm: an\\noverview. Soft Computing, 22(2), 387–408.\\n\\nickramasinghe, U. K., Carrese, R., & Li, X. (2010). Designing airfoils using a reference\\npoint based evolutionary many-objective particle swarm optimization algorithm. In\\nIEEE congress on evolutionary computation (pp. 1–8). IEEE.\\n\\nia, C.-c., Jiang, T.-t., & Chen, W.-f. (2017). Particle swarm optimization of aerody-\\nnamic shapes with nonuniform shape parameter–based radial basis function. Journal\\nof Aerospace Engineering, 30(3), Article 04016089.\\n\\nan, X., Zhu, J., Kuang, M., & Wang, X. (2019). Aerodynamic shape optimization using\\na novel optimizer based on machine learning techniques. Aerospace Science and\\nTechnology, 86, 826–835.\\n\\nondo, R., Andrés, E., & Valero, E. (2018). A review on design of experiments\\nand surrogate models in aircraft real-time and many-query aerodynamic analyses.\\nProgress in Aerospace Sciences, 96, 23–61.\\n\\nonekura, K., & Suzuki, K. (2021). Data-driven design exploration method using\\nconditional variational autoencoder for airfoil design. Structural and Multidisciplinary\\nOptimization, 64(2), 613–624.\\n\\nong, B. X., & Brintrup, A. (2022). Bayesian autoencoders with uncertainty quantifica-\\ntion: Towards trustworthy anomaly detection. Expert Systems with Applications, 209,\\nArticle 118196.\\n\\nZhao, S., Song, J., & Ermon, S. (2017). Infovae: Information maximizing variational\\nautoencoders. arXiv preprint arXiv:1706.02262.\\n\\nZhou, B. Y., Albring, T. A., Gauger, N. R., Economon, T. D., Palacios, F., & Alonso, J.\\nJ. (2015). A discrete adjoint framework for unsteady aerodynamic and aeroa-\\ncoustic optimization. In 16th AIAA/ISSMO multidisciplinary analysis and optimization\\nconference (p. 3355).\\n\\nhou, A., Qu, B.-Y., Li, H., Zhao, S.-Z., Suganthan, P. N., & Zhang, Q. (2011).\\nMultiobjective evolutionary algorithms: A survey of the state of the art. Swarm\\nand Evolutionary Computation, 1(1), 32–49.\\n\\nhttp://refhub.elsevier.com/S0957-4174(23)00014-3/sb27\\nhttp://refhub.elsevier.com/S0957-4174(23)00014-3/sb27\\nhttp://refhub.elsevier.com/S0957-4174(23)00014-3/sb27\\nhttp://refhub.elsevier.com/S0957-4174(23)00014-3/sb27\\nhttp://refhub.elsevier.com/S0957-4174(23)00014-3/sb27\\nhttp://refhub.elsevier.com/S0957-4174(23)00014-3/sb28\\nhttp://refhub.elsevier.com/S0957-4174(23)00014-3/sb28\\nhttp://refhub.elsevier.com/S0957-4174(23)00014-3/sb28\\nhttp://refhub.elsevier.com/S0957-4174(23)00014-3/sb28\\nhttp://refhub.elsevier.com/S0957-4174(23)00014-3/sb28\\nhttp://refhub.elsevier.com/S0957-4174(23)00014-3/sb29\\nhttp://refhub.elsevier.com/S0957-4174(23)00014-3/sb29\\nhttp://refhub.elsevier.com/S0957-4174(23)00014-3/sb29\\nhttp://arxiv.org/abs/1312.6114\\nhttp://refhub.elsevier.com/S0957-4174(23)00014-3/sb31\\nhttp://refhub.elsevier.com/S0957-4174(23)00014-3/sb31\\nhttp://refhub.elsevier.com/S0957-4174(23)00014-3/sb31\\nhttp://refhub.elsevier.com/S0957-4174(23)00014-3/sb32\\nhttp://refhub.elsevier.com/S0957-4174(23)00014-3/sb32\\nhttp://refhub.elsevier.com/S0957-4174(23)00014-3/sb32\\nhttp://refhub.elsevier.com/S0957-4174(23)00014-3/sb32\\nhttp://refhub.elsevier.com/S0957-4174(23)00014-3/sb32\\nhttp://refhub.elsevier.com/S0957-4174(23)00014-3/sb33\\nhttp://refhub.elsevier.com/S0957-4174(23)00014-3/sb33\\nhttp://refhub.elsevier.com/S0957-4174(23)00014-3/sb33\\nhttp://refhub.elsevier.com/S0957-4174(23)00014-3/sb33\\nhttp://refhub.elsevier.com/S0957-4174(23)00014-3/sb33\\nhttp://refhub.elsevier.com/S0957-4174(23)00014-3/sb33\\nhttp://refhub.elsevier.com/S0957-4174(23)00014-3/sb33\\nhttp://refhub.elsevier.com/S0957-4174(23)00014-3/sb34\\nhttp://refhub.elsevier.com/S0957-4174(23)00014-3/sb34\\nhttp://refhub.elsevier.com/S0957-4174(23)00014-3/sb34\\nhttp://refhub.elsevier.com/S0957-4174(23)00014-3/sb34\\nhttp://refhub.elsevier.com/S0957-4174(23)00014-3/sb34\\nhttp://refhub.elsevier.com/S0957-4174(23)00014-3/sb35\\nhttp://refhub.elsevier.com/S0957-4174(23)00014-3/sb35\\nhttp://refhub.elsevier.com/S0957-4174(23)00014-3/sb35\\nhttp://refhub.elsevier.com/S0957-4174(23)00014-3/sb36\\nhttp://refhub.elsevier.com/S0957-4174(23)00014-3/sb36\\nhttp://refhub.elsevier.com/S0957-4174(23)00014-3/sb36\\nhttp://refhub.elsevier.com/S0957-4174(23)00014-3/sb37\\nhttp://refhub.elsevier.com/S0957-4174(23)00014-3/sb37\\nhttp://refhub.elsevier.com/S0957-4174(23)00014-3/sb37\\nhttp://refhub.elsevier.com/S0957-4174(23)00014-3/sb37\\nhttp://refhub.elsevier.com/S0957-4174(23)00014-3/sb37\\nhttp://refhub.elsevier.com/S0957-4174(23)00014-3/sb38\\nhttp://refhub.elsevier.com/S0957-4174(23)00014-3/sb38\\nhttp://refhub.elsevier.com/S0957-4174(23)00014-3/sb38\\nhttp://refhub.elsevier.com/S0957-4174(23)00014-3/sb39\\nhttp://refhub.elsevier.com/S0957-4174(23)00014-3/sb39\\nhttp://refhub.elsevier.com/S0957-4174(23)00014-3/sb39\\nhttp://refhub.elsevier.com/S0957-4174(23)00014-3/sb39\\nhttp://refhub.elsevier.com/S0957-4174(23)00014-3/sb39\\nhttp://refhub.elsevier.com/S0957-4174(23)00014-3/sb40\\nhttp://refhub.elsevier.com/S0957-4174(23)00014-3/sb40\\nhttp://refhub.elsevier.com/S0957-4174(23)00014-3/sb40\\nhttp://refhub.elsevier.com/S0957-4174(23)00014-3/sb40\\nhttp://refhub.elsevier.com/S0957-4174(23)00014-3/sb40\\nhttp://refhub.elsevier.com/S0957-4174(23)00014-3/sb41\\nhttp://refhub.elsevier.com/S0957-4174(23)00014-3/sb41\\nhttp://refhub.elsevier.com/S0957-4174(23)00014-3/sb41\\nhttp://refhub.elsevier.com/S0957-4174(23)00014-3/sb41\\nhttp://refhub.elsevier.com/S0957-4174(23)00014-3/sb41\\nhttp://refhub.elsevier.com/S0957-4174(23)00014-3/sb42\\nhttp://refhub.elsevier.com/S0957-4174(23)00014-3/sb42\\nhttp://refhub.elsevier.com/S0957-4174(23)00014-3/sb42\\nhttp://refhub.elsevier.com/S0957-4174(23)00014-3/sb43\\nhttp://refhub.elsevier.com/S0957-4174(23)00014-3/sb43\\nhttp://refhub.elsevier.com/S0957-4174(23)00014-3/sb43\\nhttp://refhub.elsevier.com/S0957-4174(23)00014-3/sb44\\nhttp://refhub.elsevier.com/S0957-4174(23)00014-3/sb44\\nhttp://refhub.elsevier.com/S0957-4174(23)00014-3/sb44\\nhttp://refhub.elsevier.com/S0957-4174(23)00014-3/sb45\\nhttp://refhub.elsevier.com/S0957-4174(23)00014-3/sb45\\nhttp://refhub.elsevier.com/S0957-4174(23)00014-3/sb45\\nhttp://refhub.elsevier.com/S0957-4174(23)00014-3/sb45\\nhttp://refhub.elsevier.com/S0957-4174(23)00014-3/sb45\\nhttp://refhub.elsevier.com/S0957-4174(23)00014-3/sb46\\nhttp://refhub.elsevier.com/S0957-4174(23)00014-3/sb46\\nhttp://refhub.elsevier.com/S0957-4174(23)00014-3/sb46\\nhttp://refhub.elsevier.com/S0957-4174(23)00014-3/sb46\\nhttp://refhub.elsevier.com/S0957-4174(23)00014-3/sb46\\nhttp://refhub.elsevier.com/S0957-4174(23)00014-3/sb47\\nhttp://refhub.elsevier.com/S0957-4174(23)00014-3/sb47\\nhttp://refhub.elsevier.com/S0957-4174(23)00014-3/sb47\\nhttp://refhub.elsevier.com/S0957-4174(23)00014-3/sb48\\nhttp://refhub.elsevier.com/S0957-4174(23)00014-3/sb48\\nhttp://refhub.elsevier.com/S0957-4174(23)00014-3/sb48\\nhttp://refhub.elsevier.com/S0957-4174(23)00014-3/sb48\\nhttp://refhub.elsevier.com/S0957-4174(23)00014-3/sb48\\nhttp://refhub.elsevier.com/S0957-4174(23)00014-3/sb49\\nhttp://refhub.elsevier.com/S0957-4174(23)00014-3/sb49\\nhttp://refhub.elsevier.com/S0957-4174(23)00014-3/sb49\\nhttp://refhub.elsevier.com/S0957-4174(23)00014-3/sb50\\nhttp://refhub.elsevier.com/S0957-4174(23)00014-3/sb50\\nhttp://refhub.elsevier.com/S0957-4174(23)00014-3/sb50\\nhttp://refhub.elsevier.com/S0957-4174(23)00014-3/sb50\\nhttp://refhub.elsevier.com/S0957-4174(23)00014-3/sb50\\nhttp://refhub.elsevier.com/S0957-4174(23)00014-3/sb51\\nhttp://refhub.elsevier.com/S0957-4174(23)00014-3/sb51\\nhttp://refhub.elsevier.com/S0957-4174(23)00014-3/sb51\\nhttp://refhub.elsevier.com/S0957-4174(23)00014-3/sb51\\nhttp://refhub.elsevier.com/S0957-4174(23)00014-3/sb51\\nhttp://refhub.elsevier.com/S0957-4174(23)00014-3/sb52\\nhttp://refhub.elsevier.com/S0957-4174(23)00014-3/sb52\\nhttp://refhub.elsevier.com/S0957-4174(23)00014-3/sb52\\nhttp://refhub.elsevier.com/S0957-4174(23)00014-3/sb52\\nhttp://refhub.elsevier.com/S0957-4174(23)00014-3/sb52\\nhttp://refhub.elsevier.com/S0957-4174(23)00014-3/sb52\\nhttp://refhub.elsevier.com/S0957-4174(23)00014-3/sb52\\nhttp://refhub.elsevier.com/S0957-4174(23)00014-3/sb53\\nhttp://refhub.elsevier.com/S0957-4174(23)00014-3/sb53\\nhttp://refhub.elsevier.com/S0957-4174(23)00014-3/sb53\\nhttp://refhub.elsevier.com/S0957-4174(23)00014-3/sb53\\nhttp://refhub.elsevier.com/S0957-4174(23)00014-3/sb53\\nhttp://refhub.elsevier.com/S0957-4174(23)00014-3/sb54\\nhttp://refhub.elsevier.com/S0957-4174(23)00014-3/sb55\\nhttp://refhub.elsevier.com/S0957-4174(23)00014-3/sb56\\nhttp://refhub.elsevier.com/S0957-4174(23)00014-3/sb56\\nhttp://refhub.elsevier.com/S0957-4174(23)00014-3/sb56\\nhttp://refhub.elsevier.com/S0957-4174(23)00014-3/sb56\\nhttp://refhub.elsevier.com/S0957-4174(23)00014-3/sb56\\nhttp://refhub.elsevier.com/S0957-4174(23)00014-3/sb57\\nhttp://refhub.elsevier.com/S0957-4174(23)00014-3/sb57\\nhttp://refhub.elsevier.com/S0957-4174(23)00014-3/sb57\\nhttp://refhub.elsevier.com/S0957-4174(23)00014-3/sb57\\nhttp://refhub.elsevier.com/S0957-4174(23)00014-3/sb57\\nhttp://refhub.elsevier.com/S0957-4174(23)00014-3/sb58\\nhttp://refhub.elsevier.com/S0957-4174(23)00014-3/sb58\\nhttp://refhub.elsevier.com/S0957-4174(23)00014-3/sb58\\nhttp://refhub.elsevier.com/S0957-4174(23)00014-3/sb59\\nhttp://refhub.elsevier.com/S0957-4174(23)00014-3/sb59\\nhttp://refhub.elsevier.com/S0957-4174(23)00014-3/sb59\\nhttp://refhub.elsevier.com/S0957-4174(23)00014-3/sb59\\nhttp://refhub.elsevier.com/S0957-4174(23)00014-3/sb59\\nhttp://refhub.elsevier.com/S0957-4174(23)00014-3/sb60\\nhttp://refhub.elsevier.com/S0957-4174(23)00014-3/sb60\\nhttp://refhub.elsevier.com/S0957-4174(23)00014-3/sb60\\nhttp://refhub.elsevier.com/S0957-4174(23)00014-3/sb61\\nhttp://refhub.elsevier.com/S0957-4174(23)00014-3/sb61\\nhttp://refhub.elsevier.com/S0957-4174(23)00014-3/sb61\\nhttp://refhub.elsevier.com/S0957-4174(23)00014-3/sb61\\nhttp://refhub.elsevier.com/S0957-4174(23)00014-3/sb61\\nhttp://refhub.elsevier.com/S0957-4174(23)00014-3/sb62\\nhttp://refhub.elsevier.com/S0957-4174(23)00014-3/sb62\\nhttp://refhub.elsevier.com/S0957-4174(23)00014-3/sb62\\nhttp://refhub.elsevier.com/S0957-4174(23)00014-3/sb63\\nhttp://refhub.elsevier.com/S0957-4174(23)00014-3/sb63\\nhttp://refhub.elsevier.com/S0957-4174(23)00014-3/sb63\\nhttp://refhub.elsevier.com/S0957-4174(23)00014-3/sb63\\nhttp://refhub.elsevier.com/S0957-4174(23)00014-3/sb63\\nhttp://refhub.elsevier.com/S0957-4174(23)00014-3/sb64\\nhttp://refhub.elsevier.com/S0957-4174(23)00014-3/sb64\\nhttp://refhub.elsevier.com/S0957-4174(23)00014-3/sb64\\nhttp://refhub.elsevier.com/S0957-4174(23)00014-3/sb65\\nhttp://refhub.elsevier.com/S0957-4174(23)00014-3/sb65\\nhttp://refhub.elsevier.com/S0957-4174(23)00014-3/sb65\\nhttp://refhub.elsevier.com/S0957-4174(23)00014-3/sb65\\nhttp://refhub.elsevier.com/S0957-4174(23)00014-3/sb65\\nhttp://refhub.elsevier.com/S0957-4174(23)00014-3/sb66\\nhttp://refhub.elsevier.com/S0957-4174(23)00014-3/sb66\\nhttp://refhub.elsevier.com/S0957-4174(23)00014-3/sb66\\nhttp://refhub.elsevier.com/S0957-4174(23)00014-3/sb66\\nhttp://refhub.elsevier.com/S0957-4174(23)00014-3/sb66\\nhttp://refhub.elsevier.com/S0957-4174(23)00014-3/sb67\\nhttp://refhub.elsevier.com/S0957-4174(23)00014-3/sb67\\nhttp://refhub.elsevier.com/S0957-4174(23)00014-3/sb67\\nhttp://refhub.elsevier.com/S0957-4174(23)00014-3/sb67\\nhttp://refhub.elsevier.com/S0957-4174(23)00014-3/sb67\\nhttp://refhub.elsevier.com/S0957-4174(23)00014-3/sb68\\nhttp://refhub.elsevier.com/S0957-4174(23)00014-3/sb68\\nhttp://refhub.elsevier.com/S0957-4174(23)00014-3/sb68\\nhttp://refhub.elsevier.com/S0957-4174(23)00014-3/sb68\\nhttp://refhub.elsevier.com/S0957-4174(23)00014-3/sb68\\nhttp://refhub.elsevier.com/S0957-4174(23)00014-3/sb69\\nhttp://refhub.elsevier.com/S0957-4174(23)00014-3/sb69\\nhttp://refhub.elsevier.com/S0957-4174(23)00014-3/sb69\\nhttp://refhub.elsevier.com/S0957-4174(23)00014-3/sb69\\nhttp://refhub.elsevier.com/S0957-4174(23)00014-3/sb69\\nhttp://refhub.elsevier.com/S0957-4174(23)00014-3/sb70\\nhttp://refhub.elsevier.com/S0957-4174(23)00014-3/sb70\\nhttp://refhub.elsevier.com/S0957-4174(23)00014-3/sb70\\nhttp://refhub.elsevier.com/S0957-4174(23)00014-3/sb70\\nhttp://refhub.elsevier.com/S0957-4174(23)00014-3/sb70\\nhttp://arxiv.org/abs/1706.02262\\nhttp://refhub.elsevier.com/S0957-4174(23)00014-3/sb72\\nhttp://refhub.elsevier.com/S0957-4174(23)00014-3/sb72\\nhttp://refhub.elsevier.com/S0957-4174(23)00014-3/sb72\\nhttp://refhub.elsevier.com/S0957-4174(23)00014-3/sb72\\nhttp://refhub.elsevier.com/S0957-4174(23)00014-3/sb72\\nhttp://refhub.elsevier.com/S0957-4174(23)00014-3/sb72\\nhttp://refhub.elsevier.com/S0957-4174(23)00014-3/sb72\\nhttp://refhub.elsevier.com/S0957-4174(23)00014-3/sb73\\nhttp://refhub.elsevier.com/S0957-4174(23)00014-3/sb73\\nhttp://refhub.elsevier.com/S0957-4174(23)00014-3/sb73\\nhttp://refhub.elsevier.com/S0957-4174(23)00014-3/sb73\\nhttp://refhub.elsevier.com/S0957-4174(23)00014-3/sb73\\n\\n\\tAeroacoustic airfoil shape optimization enhanced by autoencoders\\n\\tIntroduction\\n\\tFar-field noise prediction\\n\\tThe acoustic model\\n\\tAerodynamic simulation based on XFOIL \\n\\tMethodology validation: NACA0012 airfoil\\n\\n\\tOptimization framework\\n\\tProblem formulation: optimization objective and constraints\\n\\tAirfoil shape parameterization\\n\\tCST parameterization\\n\\tAutoencoder-based parameterization\\n\\n\\tVariational autoencoder parameters\\n\\tEvaluation metric\\n\\tLoss scaling parameter k\\n\\tArchitectural details of the autoencoder\\n\\tNumber of latent variables\\n\\n\\tOptimization algorithm\\n\\n\\tResults and discussion\\n\\tClassical optimization with CST parameterization\\n\\tImproved optimization with autoencoder-based parameterization\\n\\n\\tConclusions\\n\\tCRediT authorship contribution statement\\n\\tDeclaration of Competing Interest\\n\\tData availability\\n\\tAcknowledgments\\n\\tAppendix A. Parameters in Amiet's theory\\n\\tSpanwise correlation length\\n\\tWall-pressure spectrum\\n\\tBoundary layer parameters\\n\\tBoundary layer thickness\\n\\tMean velocity profile\\n\\tTurbulence intensities\\n\\tIntegral length scale\\n\\tVelocity spectrum\\n\\n\\n\\tAppendix B. UIUC database\\n\\tReferences\\n\\n\\n\", 'status': 200}\n",
      "Dublin Core Metadata:\n",
      "{\n",
      "    \"dc:format\": \"application/pdf; version=1.7\",\n",
      "    \"dc:title\": \"Aeroacoustic airfoil shape optimization enhanced by autoencoders\",\n",
      "    \"dc:creator\": \"Jiaqing Kou\",\n",
      "    \"dcterms:created\": \"2023-02-04T09:40:15Z\",\n",
      "    \"dcterms:modified\": \"2023-02-07T16:56:45Z\",\n",
      "    \"dc:language\": \"en-US\",\n",
      "    \"dc:subject\": [\n",
      "        \"Aeroacoustics,Optimization design,Amiet theory,Machine learning,Autoencoder\",\n",
      "        \"Expert Systems With Applications, 217 (2023) 119513. doi:10.1016/j.eswa.2023.119513\"\n",
      "    ]\n",
      "}\n",
      "Loaded project data successfully.\n",
      "Current project_data: {\n",
      "    \"@context\": {\n",
      "        \"schema\": \"http://schema.org/\",\n",
      "        \"dc\": \"http://purl.org/dc/terms/\"\n",
      "    },\n",
      "    \"@graph\": [\n",
      "        {\n",
      "            \"@type\": \"schema:ResearchProject\",\n",
      "            \"schema:identifier\": \"77557@test\",\n",
      "            \"schema:publicKey\": \"8f7130f84c8c41f85ff9a5f696c47c5009b9e0ef6d527c3a3bc85bf0322b4f6b\",\n",
      "            \"schema:description\": {\n",
      "                \"@context\": {\n",
      "                    \"schema\": \"http://schema.org/\",\n",
      "                    \"dc\": \"http://purl.org/dc/terms/\"\n",
      "                },\n",
      "                \"@type\": \"schema:ResearchProject\",\n",
      "                \"schema:name\": \"Investigating the Role of renewable energy in sustainable agriculture\",\n",
      "                \"dc:abstract\": \"This study explores the impact of renewable energy in sustainable agriculture, focusing on economic empowerment.\",\n",
      "                \"schema:keywords\": [\n",
      "                    \"renewable energy\",\n",
      "                    \"sustainable agriculture\",\n",
      "                    \"economic empowerment\"\n",
      "                ],\n",
      "                \"schema:startDate\": \"2018-08-26\",\n",
      "                \"schema:endDate\": \"2027-01-29\",\n",
      "                \"schema:funding\": {\n",
      "                    \"@type\": \"schema:Organization\",\n",
      "                    \"schema:name\": \"Bill and Melinda Gates Foundation\"\n",
      "                },\n",
      "                \"schema:location\": {\n",
      "                    \"@type\": \"schema:Place\",\n",
      "                    \"schema:name\": \"Tokyo, Japan\"\n",
      "                }\n",
      "            },\n",
      "            \"schema:metadataCID\": \"QmW6Am3o3ZhRUfKJM9rB7yAcvEFL1712Rq5vQoZozRasfM\",\n",
      "            \"schema:linked_user\": \"cranky_lederberg@test\",\n",
      "            \"schema:files\": [\n",
      "                {\n",
      "                    \"file_index\": 1,\n",
      "                    \"file_cid\": \"QmXh37WXcrLXkJX2cAPjbPdKZ2cxJXD58XX6eU1Zc41ka4\",\n",
      "                    \"metadata_cid\": \"QmaR5nKfYjngZ63dwDQ65g6kmwssKagR6DC745aAjtjnzv\",\n",
      "                    \"metadata\": {\n",
      "                        \"dc:format\": \"application/pdf; version=1.7\",\n",
      "                        \"dc:title\": \"Aeroacoustic airfoil shape optimization enhanced by autoencoders\",\n",
      "                        \"dc:creator\": \"Jiaqing Kou\",\n",
      "                        \"dcterms:created\": \"2023-02-04T09:40:15Z\",\n",
      "                        \"dcterms:modified\": \"2023-02-07T16:56:45Z\",\n",
      "                        \"dc:language\": \"en-US\",\n",
      "                        \"dc:subject\": [\n",
      "                            \"Aeroacoustics,Optimization design,Amiet theory,Machine learning,Autoencoder\",\n",
      "                            \"Expert Systems With Applications, 217 (2023) 119513. doi:10.1016/j.eswa.2023.119513\"\n",
      "                        ]\n",
      "                    }\n",
      "                }\n",
      "            ]\n",
      "        }\n",
      "    ]\n",
      "}\n",
      "Checking project with ID: '77557@test' against '77557@test'\n",
      "Match found for project ID: 77557@test\n",
      "Updated project 77557@test with new file entry: {'file_index': 2, 'file_cid': 'QmXh37WXcrLXkJX2cAPjbPdKZ2cxJXD58XX6eU1Zc41ka4', 'metadata_cid': 'QmWX9bGeZUhLxvafywPYMNLNrtCh3akq4sE8tBVRnShryi', 'metadata': {'dc:format': 'application/pdf; version=1.7', 'dc:title': 'Aeroacoustic airfoil shape optimization enhanced by autoencoders', 'dc:creator': 'Jiaqing Kou', 'dcterms:created': '2023-02-04T09:40:15Z', 'dcterms:modified': '2023-02-07T16:56:45Z', 'dc:language': 'en-US', 'dc:subject': ['Aeroacoustics,Optimization design,Amiet theory,Machine learning,Autoencoder', 'Expert Systems With Applications, 217 (2023) 119513. doi:10.1016/j.eswa.2023.119513']}}\n",
      "Successfully wrote updated data to datasets/projects.json\n",
      "----------------------------------------\n",
      "----------------------------------------\n",
      "('STATELESS_VALIDATION_SUCCESS', 1, 0)\n",
      "('ENOUGH_SIGNATURES_COLLECTED', 9, 0)\n"
     ]
    },
    {
     "name": "stderr",
     "output_type": "stream",
     "text": [
      "INFO:root:----------------------------------------\n"
     ]
    },
    {
     "name": "stdout",
     "output_type": "stream",
     "text": [
      "('STATEFUL_VALIDATION_SUCCESS', 3, 0)\n",
      "('COMMITTED', 5, 0)\n",
      "----------------------------------------\n"
     ]
    },
    {
     "name": "stderr",
     "output_type": "stream",
     "text": [
      "INFO:root:All documents processed and index committed.\n"
     ]
    }
   ],
   "source": [
    "### New version\n",
    "\n",
    "from whoosh.index import create_in, open_dir, EmptyIndexError  # Import EmptyIndexError\n",
    "from metadata_helper import *\n",
    "import os\n",
    "import logging\n",
    "import mimetypes\n",
    "from tika import parser  # Import Apache Tika\n",
    "\n",
    "print(project_account['account_id'])\n",
    "\n",
    "# Function to extract only Dublin Core related metadata\n",
    "def extract_dublin_core(metadata):\n",
    "    \"\"\"Extracts only Dublin Core related metadata.\"\"\"\n",
    "    return {k: v for k, v in metadata.items() if k.startswith('dc:') or k.startswith('dcterms:')}\n",
    "\n",
    "\n",
    "# Function to parse and index documents from a directory\n",
    "def parse_documents_in_directory(directory_path, schema, linked_project, recreate=False):\n",
    "    \"\"\"Parses documents in a directory and indexes them.\"\"\"\n",
    "    ix = recreate_index(schema) if recreate else create_in(\"indexdir\", schema)\n",
    "    writer = get_writer_with_retry(ix)\n",
    "    index = 1\n",
    "\n",
    "    for filename in os.listdir(directory_path):\n",
    "        logging.info(f\"Processing file: {filename}\")\n",
    "\n",
    "        if not os.path.basename(filename).startswith('.'):\n",
    "            file_path = os.path.join(directory_path, filename)\n",
    "\n",
    "            try:\n",
    "                # Upload the file to IPFS and get its CID\n",
    "                file_cid = upload_file_to_ipfs(file_path)\n",
    "                logging.info(f\"File {filename} uploaded to IPFS with CID: {file_cid}\")\n",
    "\n",
    "                \n",
    "                # Update the project details in the Iroha 1 blockchain\n",
    "                hash = set_account_detail(address, project_account['account_id'], f\"file_{index}_CID\", file_cid)\n",
    "\n",
    "\n",
    "                # Parse the document using Apache Tika\n",
    "\n",
    "                try:\n",
    "                    parsed_document = parser.from_file(file_path)\n",
    "                    print(parsed_document)\n",
    "                except Exception as e:\n",
    "                        logging.error(f\"Error parsing file with Tika: {e}\")\n",
    "                        continue\n",
    "                \n",
    "                if parsed_document:\n",
    "                    metadata = parsed_document.get('metadata', {})\n",
    "                    full_text = parsed_document.get(\"content\", \"\").strip() or \"No content extracted\"\n",
    "\n",
    "                    # Extract Dublin Core related metadata\n",
    "                    dublin_core_metadata = extract_dublin_core(metadata)\n",
    "                    \n",
    "                    # Normalize and upload JSON metadata to IPFS\n",
    "                    normalized_metadata = {\n",
    "                        'project_id': linked_project,\n",
    "                        'cid': upload_json_to_ipfs(metadata),  # Upload the full metadata\n",
    "                        'name': filename,\n",
    "                        'size': os.path.getsize(file_path),\n",
    "                        'filetype': mimetypes.guess_type(filename)[0] or \"unknown\",\n",
    "                        'title': normalize_metadata_value(metadata.get(\"dc:title\", f\"Document {index}\")),\n",
    "                        'creator': normalize_metadata_value(metadata.get(\"dc:creator\", \"Unknown\")),\n",
    "                        'language': normalize_metadata_value(metadata.get(\"dc:language\", \"en\")),\n",
    "                        'subject': normalize_metadata_value(metadata.get(\"dc:subject\", \"\")),\n",
    "                        'description': normalize_metadata_value(metadata.get(\"dc:description\", \"\")),\n",
    "                        'publisher': normalize_metadata_value(metadata.get(\"dc:publisher\", \"Unknown\")),\n",
    "                        'date': normalize_metadata_value(metadata.get(\"dc:date\", \"\")),\n",
    "                        'abstract': normalize_metadata_value(metadata.get(\"dc:abstract\", \"\")),\n",
    "                        'format': normalize_metadata_value(metadata.get(\"dc:format\", \"\")),\n",
    "                        'created': normalize_metadata_value(metadata.get(\"dcterms:created\", \"\")),\n",
    "                        'modified': normalize_metadata_value(metadata.get(\"dcterms:modified\", \"\"))\n",
    "                    }\n",
    "                    \n",
    "                    logging.info(f\"Indexed {filename} with CID: {normalized_metadata['cid']}\")\n",
    "\n",
    "                    # Add document to the Whoosh index\n",
    "                    add_document(writer, normalized_metadata, full_text)\n",
    "\n",
    "                    # Print extracted Dublin Core metadata\n",
    "                    print(\"Dublin Core Metadata:\")\n",
    "                    print(json.dumps(dublin_core_metadata, indent=4))\n",
    "\n",
    "                    # Update project entry with file data and Dublin Core metadata\n",
    "                    update_project_entry_with_file_data(\n",
    "                        linked_project, file_cid, normalized_metadata['cid'], dublin_core_metadata\n",
    "                    )\n",
    "                    logging.info(\"updated project entry\")\n",
    "                    \n",
    "                    # Upload the metadata to IPFS and get its CID\n",
    "                    print(40*\"-\")\n",
    "                    metadata_cid = upload_json_to_ipfs(metadata)\n",
    "                    logging.info(f\"File {filename} uploaded to IPFS with CID: {metadata_cid}\")\n",
    "                                        \n",
    "                    #Sets the project account detail with the file metadata\n",
    "                    print(40*\"-\")\n",
    "\n",
    "                    # print(project_account['account_id'])\n",
    "                    # print(index)\n",
    "                    hash = set_account_detail(\n",
    "                        address, project_account['account_id'], f\"file_{index}_metadata_CID\", metadata_cid\n",
    "                        )\n",
    "\n",
    "                    print(40*\"-\")\n",
    "                    \n",
    "                    #-\n",
    "                    \n",
    "                else:\n",
    "                    logging.error(f\"Parsing failed for '{filename}'.\")\n",
    "\n",
    "            except Exception as e:\n",
    "                logging.error(f\"Error processing file '{filename}': {e}\")\n",
    "                continue\n",
    "\n",
    "        logging.info(\"-\" * 40)\n",
    "        index += 1\n",
    "\n",
    "    writer.commit()  # Commit changes once all files are processed\n",
    "    logging.info(\"All documents processed and index committed.\")\n",
    "\n",
    "\n",
    "# Function to set up the Whoosh index directory\n",
    "def setup_index(schema):\n",
    "    \"\"\"Sets up the Whoosh index directory and returns the index object.\"\"\"\n",
    "    index_dir = \"indexdir\"\n",
    "    if not os.path.exists(index_dir):\n",
    "        os.mkdir(index_dir)\n",
    "        logging.info(\"Index directory created.\")\n",
    "        ix = create_in(index_dir, schema)\n",
    "    else:\n",
    "        try:\n",
    "            ix = open_dir(index_dir)\n",
    "            logging.info(\"Opened existing index.\")\n",
    "        except EmptyIndexError:\n",
    "            logging.warning(\"Index is empty. Creating a new index.\")\n",
    "            ix = create_in(index_dir, schema)\n",
    "    return ix\n",
    "\n",
    "# ic(linked_project)\n",
    "\n",
    "# Define the schema (including Dublin Core fields)\n",
    "schema = Schema(\n",
    "    project_id=TEXT(stored=True),\n",
    "    cid=ID(stored=True),\n",
    "    name=TEXT(stored=True),\n",
    "    size=NUMERIC(stored=True),\n",
    "    filetype=TEXT(stored=True),\n",
    "    title=TEXT(stored=True),\n",
    "    creator=TEXT(stored=True),\n",
    "    language=TEXT(stored=True),\n",
    "    subject=TEXT(stored=True),\n",
    "    description=TEXT(stored=True),\n",
    "    publisher=TEXT(stored=True),\n",
    "    date=TEXT(stored=True),\n",
    "    abstract=TEXT(stored=True),\n",
    "    format=TEXT(stored=True),\n",
    "    created=TEXT(stored=True),  # Store as string (e.g., ISO format 'YYYY-MM-DD')\n",
    "    modified=TEXT(stored=True),  # Store as string (e.g., ISO format 'YYYY-MM-DD')\n",
    "    full_text=TEXT(stored=False)\n",
    ")\n",
    "\n",
    "# Setup index directory\n",
    "ix = setup_index(schema)\n",
    "\n",
    "# Example document parsing and indexing execution\n",
    "directory_path = \"upload\"\n",
    "\n",
    "linked_project = project_account['account_id']  # Example placeholder, adjust as needed\n",
    "\n",
    "# Parse documents in the specified directory\n",
    "parse_documents_in_directory(directory_path, schema, linked_project, recreate=False)\n",
    "\n"
   ]
  },
  {
   "cell_type": "code",
   "execution_count": 10,
   "id": "79938646",
   "metadata": {},
   "outputs": [
    {
     "name": "stderr",
     "output_type": "stream",
     "text": [
      "INFO:root:CID: QmWX9bGeZUhLxvafywPYMNLNrtCh3akq4sE8tBVRnShryi, Project: 77557@test, Name: aeroacoustic-airfoil-shape-optimization-enhance_2023_expert-systems-with-app.pdf, Title: aeroacoustic airfoil shape optimization enhanced by autoencoders, Creator: jiaqing kou, Size: 1324070 bytes\n"
     ]
    },
    {
     "data": {
      "text/plain": [
       "(['77557@test'],\n",
       " [{'cid': 'QmWX9bGeZUhLxvafywPYMNLNrtCh3akq4sE8tBVRnShryi',\n",
       "   'project_id': '77557@test',\n",
       "   'name': 'aeroacoustic-airfoil-shape-optimization-enhance_2023_expert-systems-with-app.pdf',\n",
       "   'title': 'aeroacoustic airfoil shape optimization enhanced by autoencoders',\n",
       "   'creator': 'jiaqing kou',\n",
       "   'size': 1324070}])"
      ]
     },
     "execution_count": 10,
     "metadata": {},
     "output_type": "execute_result"
    }
   ],
   "source": [
    "# Example search usage\n",
    "keyword = \"must\"\n",
    "search_index(keyword, ix)\n"
   ]
  },
  {
   "cell_type": "markdown",
   "id": "a74689d5",
   "metadata": {},
   "source": [
    "8 -  Search Engine"
   ]
  },
  {
   "cell_type": "code",
   "execution_count": 11,
   "id": "55a509be",
   "metadata": {},
   "outputs": [
    {
     "name": "stderr",
     "output_type": "stream",
     "text": [
      "INFO:root:CID: QmWX9bGeZUhLxvafywPYMNLNrtCh3akq4sE8tBVRnShryi, Project: 77557@test, Name: aeroacoustic-airfoil-shape-optimization-enhance_2023_expert-systems-with-app.pdf, Title: aeroacoustic airfoil shape optimization enhanced by autoencoders, Creator: jiaqing kou, Size: 1324070 bytes\n"
     ]
    },
    {
     "name": "stdout",
     "output_type": "stream",
     "text": [
      "(['77557@test'], [{'cid': 'QmWX9bGeZUhLxvafywPYMNLNrtCh3akq4sE8tBVRnShryi', 'project_id': '77557@test', 'name': 'aeroacoustic-airfoil-shape-optimization-enhance_2023_expert-systems-with-app.pdf', 'title': 'aeroacoustic airfoil shape optimization enhanced by autoencoders', 'creator': 'jiaqing kou', 'size': 1324070}])\n"
     ]
    }
   ],
   "source": [
    "project_ids = search_index(keyword, ix)\n",
    "print(project_ids)  # prints the list of project ids found in thvc e results"
   ]
  },
  {
   "cell_type": "code",
   "execution_count": 12,
   "id": "e6348ba7",
   "metadata": {},
   "outputs": [],
   "source": [
    "# keyword = \"example_keyword\"\n",
    "\n",
    "# Initialize objects and variables\n",
    "\n",
    "\n",
    "# project_ids = search_index(keyword, ix)\n",
    "# if project_ids:\n",
    "#     get_project_details(project_ids, net, iroha)"
   ]
  },
  {
   "cell_type": "code",
   "execution_count": null,
   "id": "f6e752f4",
   "metadata": {},
   "outputs": [
    {
     "name": "stderr",
     "output_type": "stream",
     "text": [
      "INFO:root:CID: QmWX9bGeZUhLxvafywPYMNLNrtCh3akq4sE8tBVRnShryi, Project: 77557@test, Name: aeroacoustic-airfoil-shape-optimization-enhance_2023_expert-systems-with-app.pdf, Title: aeroacoustic airfoil shape optimization enhanced by autoencoders, Creator: jiaqing kou, Size: 1324070 bytes\n"
     ]
    },
    {
     "ename": "TypeError",
     "evalue": "unhashable type: 'list'",
     "output_type": "error",
     "traceback": [
      "\u001b[0;31m---------------------------------------------------------------------------\u001b[0m",
      "\u001b[0;31mTypeError\u001b[0m                                 Traceback (most recent call last)",
      "Cell \u001b[0;32mIn[13], line 2\u001b[0m\n\u001b[1;32m      1\u001b[0m \u001b[38;5;66;03m# Example usage (replace `ix`, `net`, `iroha`, and `keyword` with actual values)\u001b[39;00m\n\u001b[0;32m----> 2\u001b[0m \u001b[43mcheck_cid_in_project_details\u001b[49m\u001b[43m(\u001b[49m\u001b[43mkeyword\u001b[49m\u001b[43m,\u001b[49m\u001b[43m \u001b[49m\u001b[43mix\u001b[49m\u001b[43m,\u001b[49m\u001b[43m \u001b[49m\u001b[43mnet\u001b[49m\u001b[43m,\u001b[49m\u001b[43m \u001b[49m\u001b[43miroha\u001b[49m\u001b[43m)\u001b[49m\n",
      "File \u001b[0;32m~/OpenScience/metadata_helper.py:291\u001b[0m, in \u001b[0;36mcheck_cid_in_project_details\u001b[0;34m(keyword, ix, net, iroha)\u001b[0m\n\u001b[1;32m    288\u001b[0m     \u001b[38;5;28;01mreturn\u001b[39;00m\n\u001b[1;32m    290\u001b[0m \u001b[38;5;66;03m# Step 2: Get project details for each unique project ID\u001b[39;00m\n\u001b[0;32m--> 291\u001b[0m project_details_list \u001b[38;5;241m=\u001b[39m \u001b[43mget_project_details\u001b[49m\u001b[43m(\u001b[49m\u001b[43mproject_id_cid_pairs\u001b[49m\u001b[43m,\u001b[49m\u001b[43m \u001b[49m\u001b[43mnet\u001b[49m\u001b[43m,\u001b[49m\u001b[43m \u001b[49m\u001b[43miroha\u001b[49m\u001b[43m)\u001b[49m\n\u001b[1;32m    293\u001b[0m \u001b[38;5;66;03m# Step 3: Check for each CID and Project ID in the fetched project details\u001b[39;00m\n\u001b[1;32m    294\u001b[0m \u001b[38;5;28;01mfor\u001b[39;00m cid, project_id \u001b[38;5;129;01min\u001b[39;00m project_id_cid_pairs:\n",
      "File \u001b[0;32m~/OpenScience/metadata_helper.py:156\u001b[0m, in \u001b[0;36mget_project_details\u001b[0;34m(project_ids, net, iroha)\u001b[0m\n\u001b[1;32m    153\u001b[0m admin_private_key \u001b[38;5;241m=\u001b[39m ADMIN_PRIVATE_KEY\n\u001b[1;32m    154\u001b[0m project_accounts \u001b[38;5;241m=\u001b[39m []\n\u001b[0;32m--> 156\u001b[0m \u001b[38;5;28;01mfor\u001b[39;00m project_id \u001b[38;5;129;01min\u001b[39;00m \u001b[38;5;28;43mset\u001b[39;49m\u001b[43m(\u001b[49m\u001b[43mproject_ids\u001b[49m\u001b[43m)\u001b[49m:  \u001b[38;5;66;03m# Remove duplicates by converting to a set\u001b[39;00m\n\u001b[1;32m    157\u001b[0m     query \u001b[38;5;241m=\u001b[39m iroha\u001b[38;5;241m.\u001b[39mquery(\u001b[38;5;124m'\u001b[39m\u001b[38;5;124mGetAccountDetail\u001b[39m\u001b[38;5;124m'\u001b[39m, account_id\u001b[38;5;241m=\u001b[39mproject_id)\n\u001b[1;32m    158\u001b[0m     IrohaCrypto\u001b[38;5;241m.\u001b[39msign_query(query, admin_private_key)\n",
      "\u001b[0;31mTypeError\u001b[0m: unhashable type: 'list'"
     ]
    }
   ],
   "source": [
    "# Example usage (replace `ix`, `net`, `iroha`, and `keyword` with actual values)\n",
    "# check_cid_in_project_details(keyword, ix, net, iroha)\n"
   ]
  },
  {
   "cell_type": "code",
   "execution_count": 14,
   "id": "8dc8733d",
   "metadata": {},
   "outputs": [
    {
     "name": "stderr",
     "output_type": "stream",
     "text": [
      "INFO:root:CID: QmWX9bGeZUhLxvafywPYMNLNrtCh3akq4sE8tBVRnShryi, Project: 77557@test, Name: aeroacoustic-airfoil-shape-optimization-enhance_2023_expert-systems-with-app.pdf, Title: aeroacoustic airfoil shape optimization enhanced by autoencoders, Creator: jiaqing kou, Size: 1324070 bytes\n",
      "INFO:root:Project Account id = 77557@test, { \"admin@test\" : { \"file_1_CID\" : \"QmXh37WXcrLXkJX2cAPjbPdKZ2cxJXD58XX6eU1Zc41ka4\", \"file_1_metadata_CID\" : \"QmWX9bGeZUhLxvafywPYMNLNrtCh3akq4sE8tBVRnShryi\", \"linked_user\" : \"cranky_lederberg@test\", \"project_metadata_cid\" : \"QmW6Am3o3ZhRUfKJM9rB7yAcvEFL1712Rq5vQoZozRasfM\" } }\n"
     ]
    },
    {
     "name": "stdout",
     "output_type": "stream",
     "text": [
      "@prefix ns1: <http://example.org/> .\n",
      "\n",
      "<http://example.org/project/77557@test> a ns1:Project ;\n",
      "    ns1:hasCID \"QmWX9bGeZUhLxvafywPYMNLNrtCh3akq4sE8tBVRnShryi\" ;\n",
      "    ns1:hasFile \"file_1_metadata_CID\" ;\n",
      "    ns1:hasTitle \"aeroacoustic airfoil shape optimization enhanced by autoencoders\" .\n",
      "\n",
      "\n"
     ]
    }
   ],
   "source": [
    "from itertools import chain\n",
    "\n",
    "def main(keyword, ix, net, iroha):\n",
    "    # Step 1: Search index with the provided keyword\n",
    "    project_ids, search_results = search_index(keyword, ix)\n",
    "\n",
    "    # Convert project_ids to a set to remove duplicates\n",
    "    unique_project_ids = set(project_ids)\n",
    "\n",
    "    # Step 2: Fetch project details for matched project IDs\n",
    "    project_details = get_project_details(unique_project_ids, net, iroha)\n",
    "\n",
    "    # Step 3: Generate the knowledge graph with CID matching\n",
    "    generate_knowledge_graph(search_results, project_details)\n",
    "\n",
    "# Example usage\n",
    "main(\"autoencoders\", ix, net, iroha)\n"
   ]
  },
  {
   "cell_type": "markdown",
   "id": "ab8e6b78-9d2c-4543-b88c-ba216b3ed596",
   "metadata": {},
   "source": [
    "9 - Query the project account to verify the details update"
   ]
  },
  {
   "cell_type": "code",
   "execution_count": null,
   "id": "66cfac8c-5f92-487a-87fd-067df3e26299",
   "metadata": {},
   "outputs": [],
   "source": [
    "#Query - GetAccountDetail\n",
    "query = iroha.query('GetAccountDetail', account_id=linked_project)\n",
    "IrohaCrypto.sign_query(query, ADMIN_PRIVATE_KEY)\n",
    "response = net.send_query(query)\n",
    "# print(response)\n",
    "project_data = response.account_detail_response\n",
    "project_details = project_data.detail\n",
    "print(f'Project Account id = {project_account}, {project_details}')"
   ]
  },
  {
   "cell_type": "markdown",
   "id": "9bc6ee05-f89d-44ce-aab8-e57b2acff3a4",
   "metadata": {},
   "source": [
    "10 - Read CIDs from Iroha and download file metadata and files from IPFS to the project home directory"
   ]
  },
  {
   "cell_type": "markdown",
   "id": "4fc6ca74-7343-4109-b774-0582cb9bab9b",
   "metadata": {},
   "source": [
    "11 - Read details from the project account retrieve the CID of every file, download the it file from IPFS and store locally."
   ]
  },
  {
   "cell_type": "code",
   "execution_count": null,
   "id": "1ae73161-a508-408c-81fb-3bb08b13fcec",
   "metadata": {},
   "outputs": [],
   "source": [
    "import os\n",
    "import json\n",
    "from clean_file_name import clean_file_name as clean_name\n",
    "from ipfs_functions import download_file_from_ipfs, download_json_from_ipfs\n",
    "\n",
    "# Convert the JSON string to a Python dictionary\n",
    "project_details_dict = json.loads(project_details)\n",
    "project_account_id = project_account['account_id']\n",
    "\n",
    "print(f\"Processing project account: {project_account_id}\")\n",
    "\n",
    "# Get the value of the dictionary (actual file metadata)\n",
    "files_metadata = project_details_dict['admin@test']\n",
    "# print(files_metadata)\n",
    "\n",
    "# Iterate through files metadata, skip unneeded keys, and process files and metadata CIDs\n",
    "for key, value in files_metadata.items():\n",
    "    if key in ['linked_user', 'project_metadata_cid']:\n",
    "        print(f\"Skipping key: {key}\")\n",
    "        continue\n",
    "\n",
    "    # Distinguish between file CID and metadata CID\n",
    "    if 'metadata_CID' not in key:\n",
    "        file_CID = value\n",
    "        print(f\"Processing file CID: {file_CID} for key: {key}\")\n",
    "    else:\n",
    "        file_metadata_key = '_'.join(key.split('_')[:-2])\n",
    "        file_metadata_CID = value\n",
    "        print(f\"Processing metadata CID: {file_metadata_CID} for key: {file_metadata_key}\")\n",
    "\n",
    "        # Download and process metadata JSON\n",
    "        file_metadata_json = download_json_from_ipfs(file_metadata_CID)\n",
    "        # print(file_metadata_json)\n",
    "\n",
    "        # Ensure 'resourceName' exists in metadata and process the file download\n",
    "        if 'resourceName' in file_metadata_json:\n",
    "            raw_file_name = file_metadata_json['resourceName']\n",
    "            cleaned_file_name = clean_name(raw_file_name)  # Renamed to avoid conflict\n",
    "            print(f\"Cleaned file name: {cleaned_file_name}\")\n",
    "\n",
    "            # Create user-specific download directory if it doesn't exist\n",
    "            download_directory = os.path.join(\"download\", project_account_id)\n",
    "            os.makedirs(download_directory, exist_ok=True)\n",
    "            print(f\"Download directory ready: {download_directory}\")\n",
    "\n",
    "            # Download file using the file CID\n",
    "            file_path = os.path.join(download_directory, cleaned_file_name)\n",
    "            print(f\"Downloading file to: {file_path}\")\n",
    "            download_file_from_ipfs(file_CID, file_path)\n",
    "            print(\"-\" * 40)\n",
    "        else:\n",
    "            print(f\"No 'resourceName' found for metadata CID: {file_metadata_CID}\")\n"
   ]
  }
 ],
 "metadata": {
  "kernelspec": {
   "display_name": "Python 3 (ipykernel)",
   "language": "python",
   "name": "python3"
  },
  "language_info": {
   "codemirror_mode": {
    "name": "ipython",
    "version": 3
   },
   "file_extension": ".py",
   "mimetype": "text/x-python",
   "name": "python",
   "nbconvert_exporter": "python",
   "pygments_lexer": "ipython3",
   "version": "3.9.20"
  }
 },
 "nbformat": 4,
 "nbformat_minor": 5
}
