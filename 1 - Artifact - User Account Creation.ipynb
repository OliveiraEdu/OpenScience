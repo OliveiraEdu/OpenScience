{
 "cells": [
  {
   "cell_type": "markdown",
   "id": "f43de376-bb3c-4f4a-b6c3-eeddbd4cf2ae",
   "metadata": {},
   "source": [
    "**IMPORTANT** \n",
    "\n",
    "- For requirements and initial setup go to https://github.com/OliveiraEdu/OpenScience/Readme.md;\n",
    "- To execute the notebook run all cells."
   ]
  },
  {
   "attachments": {},
   "cell_type": "markdown",
   "id": "335e6bc9-be10-4431-ba0d-fa83ba7b40fc",
   "metadata": {},
   "source": [
    "# User Account Creation"
   ]
  },
  {
   "cell_type": "markdown",
   "id": "c2b074d9-3edc-410d-9972-222d9cbb551f",
   "metadata": {},
   "source": [
    "## Activities\n",
    "\n",
    "1 - Deploys a smart contract into the Iroha 1 blockchain for account creation;\n",
    "\n",
    "2 - Creates a user account into the blockchain;\n",
    "\n",
    "3 - Queries the blockchain to confirm the succesful creation of the account;\n",
    "\n",
    "4 - Deploys a smart contract into the Iroha 1 blockchain for details (attributes) setting;\n",
    "\n",
    "5 - Sets details for the user account;\n",
    "\n",
    "6 - Queries the blockchain again to confirm the succesfull details setting.\n",
    "\n",
    "User accounts and their respective attributes are randomly picked, every account succesfully created is dumped to `datasets/accounts.json` for later use and evidence collection.  "
   ]
  },
  {
   "cell_type": "markdown",
   "id": "ffbd3068-923c-4db1-b99a-c7ef1e04d322",
   "metadata": {},
   "source": [
    "### Sequence Diagram"
   ]
  },
  {
   "cell_type": "markdown",
   "id": "12b6da95-f3c7-40d1-8751-816951584eb6",
   "metadata": {},
   "source": [
    "```mermaid\n",
    "\n",
    "%%{\n",
    "  init: {\n",
    "    'theme': 'base',\n",
    "    'themeVariables': {\n",
    "      'primaryColor': '#ffffff',\n",
    "      'primaryTextColor': '#000000',\n",
    "      'primaryBorderColor': '#000000',\n",
    "      'lineColor': '#000000',\n",
    "      'secondaryColor': '#f4f4f4',\n",
    "      'secondaryTextColor': '#000000',\n",
    "      'tertiaryColor': '#d3d3d3',\n",
    "      'tertiaryTextColor': '#000000',\n",
    "      'background': '#ffffff',\n",
    "      'actorBkg': '#B4B4B4',\n",
    "      'actorTextColor': '#000000',\n",
    "      'actorBorder': '#000000',\n",
    "      'actorLineColor': '#000000',\n",
    "      'signalColor': '#000000',\n",
    "      'signalTextColor': '#000000',\n",
    "      'activationBorderColor': '#000000',\n",
    "      'activationBkgColor': '#d3d3d3',\n",
    "      'sequenceNumberColor': '#000000',\n",
    "      'noteBkgColor': '#F0F0F0',\n",
    "      'noteTextColor': '#000000',\n",
    "      'noteBorderColor': '#000000'\n",
    "    }\n",
    "  }\n",
    "}%%\n",
    "\n",
    "sequenceDiagram\n",
    "    participant Platform as \"Platform\"\n",
    "    participant Blockchain as \"Iroha 1 Blockchain\"\n",
    "\n",
    "    Note over Platform, Blockchain: Deploy smart contract for account creation\n",
    "    Platform->>Blockchain: Deploy Smart Contract\n",
    "    Blockchain-->>Platform: Smart Contract Deployed Successfully\n",
    "    \n",
    "    Note over Platform, Blockchain: Account creation\n",
    "    Platform->>Blockchain: Create Account\n",
    "    Blockchain-->>Platform: Account Created Successfully\n",
    "\n",
    "    Note over Platform, Blockchain: Queries the blockchain to confirm account creation\n",
    "    Platform->>Blockchain: Query Account Details\n",
    "    Blockchain-->>Platform: Query Response\n",
    "    \n",
    "    \n",
    "    Note over Platform, Blockchain: Deploy smart contract for details setting\n",
    "    Platform->>Blockchain: Deploy Smart Contract\n",
    "    Blockchain-->>Platform: Smart Contract Deployed Successfully\n",
    "\n",
    "    Note over Platform, Blockchain: Set user details\n",
    "    Platform->>Blockchain: Set User Details in Blockchain\n",
    "    Blockchain-->>Platform: User Details Set Successfully\n",
    "\n",
    "    Note over Platform, Blockchain: Queries the blockchain to confirm details setting\n",
    "    Platform->>Blockchain: Query Account Details\n",
    "    Blockchain-->>Platform: Query Response\n",
    "```"
   ]
  },
  {
   "cell_type": "markdown",
   "id": "2fa9cb45-0eae-48fd-8b33-d2e54ce432ca",
   "metadata": {},
   "source": [
    "1 - Deploys a smart contract into the Iroha 1 blockchain for account creation;"
   ]
  },
  {
   "cell_type": "code",
   "execution_count": 15,
   "id": "367453fb-5ceb-400e-855b-ac50a4afd95a",
   "metadata": {},
   "outputs": [
    {
     "name": "stdout",
     "output_type": "stream",
     "text": [
      "\tEntering \"create_contract\"\n",
      "('STATELESS_VALIDATION_SUCCESS', 1, 0)\n",
      "('ENOUGH_SIGNATURES_COLLECTED', 9, 0)\n",
      "('STATEFUL_VALIDATION_SUCCESS', 3, 0)\n",
      "('COMMITTED', 5, 0)\n",
      "\tLeaving \"create_contract\"\n"
     ]
    }
   ],
   "source": [
    "import os\n",
    "import binascii\n",
    "# import csv\n",
    "from iroha import IrohaCrypto\n",
    "from iroha import Iroha, IrohaGrpc\n",
    "import sys\n",
    "from Crypto.Hash import keccak\n",
    "import integration_helpers\n",
    "from name_generator import left, right\n",
    "import json\n",
    "from utilities import *\n",
    "from dump_to_json import *\n",
    "\n",
    "if sys.version_info[0] < 3:\n",
    "    raise Exception(\"Python 3 or a more recent version is required.\")\n",
    "\n",
    "# Load configuration from config.json file\n",
    "config_path = \"config.json\"  # Update this path as needed\n",
    "with open(config_path, \"r\") as f:\n",
    "    config = json.load(f)\n",
    "\n",
    "IROHA_HOST_ADDR = config[\"IROHA_HOST_ADDR\"]\n",
    "IROHA_PORT = config[\"IROHA_PORT\"]\n",
    "ADMIN_ACCOUNT_ID = config[\"ADMIN_ACCOUNT_ID\"]\n",
    "ADMIN_PRIVATE_KEY = config[\"ADMIN_PRIVATE_KEY\"]\n",
    "iroha = Iroha(ADMIN_ACCOUNT_ID)\n",
    "net = IrohaGrpc(\"{}:{}\".format(IROHA_HOST_ADDR, IROHA_PORT))\n",
    "\n",
    "\n",
    "\n",
    "@integration_helpers.trace\n",
    "def create_contract():\n",
    "    bytecode = \"608060405234801561001057600080fd5b5073a6abc17819738299b3b2c1ce46d55c74f04e290c6000806101000a81548173ffffffffffffffffffffffffffffffffffffffff021916908373ffffffffffffffffffffffffffffffffffffffff16021790555061096b806100746000396000f3fe608060405234801561001057600080fd5b50600436106100415760003560e01c80634518f6b314610046578063bc53c0c414610076578063d4e804ab146100a6575b600080fd5b610060600480360381019061005b9190610486565b6100c4565b60405161006d91906106ad565b60405180910390f35b610090600480360381019061008b91906104c7565b610230565b60405161009d91906106ad565b60405180910390f35b6100ae6103fa565b6040516100bb9190610692565b60405180910390f35b60606000826040516024016100d991906106cf565b6040516020818303038152906040527f4518f6b3000000000000000000000000000000000000000000000000000000007bffffffffffffffffffffffffffffffffffffffffffffffffffffffff19166020820180517bffffffffffffffffffffffffffffffffffffffffffffffffffffffff8381831617835250505050905060008060008054906101000a900473ffffffffffffffffffffffffffffffffffffffff1673ffffffffffffffffffffffffffffffffffffffff16836040516101a09190610664565b600060405180830381855af49150503d80600081146101db576040519150601f19603f3d011682016040523d82523d6000602084013e6101e0565b606091505b509150915081610225576040517f08c379a000000000000000000000000000000000000000000000000000000000815260040161021c9061073d565b60405180910390fd5b809350505050919050565b60606000848484604051602401610249939291906106f1565b6040516020818303038152906040527fbc53c0c4000000000000000000000000000000000000000000000000000000007bffffffffffffffffffffffffffffffffffffffffffffffffffffffff19166020820180517bffffffffffffffffffffffffffffffffffffffffffffffffffffffff8381831617835250505050905060008060008054906101000a900473ffffffffffffffffffffffffffffffffffffffff1673ffffffffffffffffffffffffffffffffffffffff16836040516103109190610664565b600060405180830381855af49150503d806000811461034b576040519150601f19603f3d011682016040523d82523d6000602084013e610350565b606091505b509150915081610395576040517f08c379a000000000000000000000000000000000000000000000000000000000815260040161038c9061073d565b60405180910390fd5b856040516103a3919061067b565b6040518091039020876040516103b9919061067b565b60405180910390207fb4086b7a9e5eac405225b6c630a4147f0a8dcb4af3583733b10db7b91ad21ffd60405160405180910390a38093505050509392505050565b60008054906101000a900473ffffffffffffffffffffffffffffffffffffffff1681565b600061043161042c84610782565b61075d565b90508281526020810184848401111561044957600080fd5b610454848285610833565b509392505050565b600082601f83011261046d57600080fd5b813561047d84826020860161041e565b91505092915050565b60006020828403121561049857600080fd5b600082013567ffffffffffffffff8111156104b257600080fd5b6104be8482850161045c565b91505092915050565b6000806000606084860312156104dc57600080fd5b600084013567ffffffffffffffff8111156104f657600080fd5b6105028682870161045c565b935050602084013567ffffffffffffffff81111561051f57600080fd5b61052b8682870161045c565b925050604084013567ffffffffffffffff81111561054857600080fd5b6105548682870161045c565b9150509250925092565b61056781610801565b82525050565b6000610578826107b3565b61058281856107c9565b9350610592818560208601610842565b61059b816108d5565b840191505092915050565b60006105b1826107b3565b6105bb81856107da565b93506105cb818560208601610842565b80840191505092915050565b60006105e2826107be565b6105ec81856107e5565b93506105fc818560208601610842565b610605816108d5565b840191505092915050565b600061061b826107be565b61062581856107f6565b9350610635818560208601610842565b80840191505092915050565b600061064e6027836107e5565b9150610659826108e6565b604082019050919050565b600061067082846105a6565b915081905092915050565b60006106878284610610565b915081905092915050565b60006020820190506106a7600083018461055e565b92915050565b600060208201905081810360008301526106c7818461056d565b905092915050565b600060208201905081810360008301526106e981846105d7565b905092915050565b6000606082019050818103600083015261070b81866105d7565b9050818103602083015261071f81856105d7565b9050818103604083015261073381846105d7565b9050949350505050565b6000602082019050818103600083015261075681610641565b9050919050565b6000610767610778565b90506107738282610875565b919050565b6000604051905090565b600067ffffffffffffffff82111561079d5761079c6108a6565b5b6107a6826108d5565b9050602081019050919050565b600081519050919050565b600081519050919050565b600082825260208201905092915050565b600081905092915050565b600082825260208201905092915050565b600081905092915050565b600061080c82610813565b9050919050565b600073ffffffffffffffffffffffffffffffffffffffff82169050919050565b82818337600083830152505050565b60005b83811015610860578082015181840152602081019050610845565b8381111561086f576000848401525b50505050565b61087e826108d5565b810181811067ffffffffffffffff8211171561089d5761089c6108a6565b5b80604052505050565b7f4e487b7100000000000000000000000000000000000000000000000000000000600052604160045260246000fd5b6000601f19601f8301169050919050565b7f4572726f722063616c6c696e67207365727669636520636f6e7472616374206660008201527f756e6374696f6e0000000000000000000000000000000000000000000000000060208201525056fea2646970667358221220507121dff2241b458fa4a533cbbe922dffa784916f897d246f53d353adefc14664736f6c63430008040033\"\n",
    "    \"\"\"Bytecode was generated using remix editor  https://remix.ethereum.org/ from file account.sol. \"\"\"\n",
    "    tx = iroha.transaction(\n",
    "        [iroha.command(\"CallEngine\", caller=ADMIN_ACCOUNT_ID, input=bytecode)]\n",
    "    )\n",
    "    IrohaCrypto.sign_transaction(tx, ADMIN_PRIVATE_KEY)\n",
    "    net.send_tx(tx)\n",
    "    hex_hash = binascii.hexlify(IrohaCrypto.hash(tx))\n",
    "    for status in net.tx_status_stream(tx):\n",
    "        print(status)\n",
    "    return hex_hash\n",
    "\n",
    "# - Deploy contract\n",
    "hash = create_contract()\n",
    "\n"
   ]
  },
  {
   "cell_type": "markdown",
   "id": "0d4d0006-0547-439a-88aa-0606da914b3a",
   "metadata": {},
   "source": [
    "2 - Creates a user account into the blockchain."
   ]
  },
  {
   "cell_type": "code",
   "execution_count": 16,
   "id": "a6968027-487f-4e2d-9be6-16af57ecf99b",
   "metadata": {},
   "outputs": [
    {
     "name": "stdout",
     "output_type": "stream",
     "text": [
      "author\n",
      "Creating account with name: heuristic_proskuriakova\n",
      "\tEntering \"get_engine_receipts_address\"\n",
      "\tLeaving \"get_engine_receipts_address\"\n",
      "\tEntering \"create_account\"\n",
      "('STATELESS_VALIDATION_SUCCESS', 1, 0)\n",
      "('ENOUGH_SIGNATURES_COLLECTED', 9, 0)\n",
      "('STATEFUL_VALIDATION_SUCCESS', 3, 0)\n",
      "('COMMITTED', 5, 0)\n",
      "Appended new entry to file 'datasets/accounts.json', current total entries: 1\n",
      "1\n",
      "\tLeaving \"create_account\"\n",
      "\tEntering \"get_account\"\n",
      "('ENOUGH_SIGNATURES_COLLECTED', 9, 0)\n",
      "('STATEFUL_VALIDATION_SUCCESS', 3, 0)\n",
      "('COMMITTED', 5, 0)\n",
      "\tLeaving \"get_account\"\n",
      "\tEntering \"get_engine_receipts_result\"\n",
      "\u0000\u0000\u0000\u0000\u0000\u0000\u0000\u0000\u0000\u0000\u0000\u0000\u0000\u0000\u0000\u0000\u0000\u0000\u0000\u0000\u0000\u0000\u0000\u0000\u0000\u0000\u0000\u0000\u0000\u0000\u0000 \u0000\u0000\u0000\u0000\u0000\u0000\u0000\u0000\u0000\u0000\u0000\u0000\u0000\u0000\u0000\u0000\u0000\u0000\u0000\u0000\u0000\u0000\u0000\u0000\u0000\u0000\u0000\u0000\u0000\u0000\u0000\u0000\u0000\u0000\u0000\u0000\u0000\u0000\u0000\u0000\u0000\u0000\u0000\u0000\u0000\u0000\u0000\u0000\u0000\u0000\u0000\u0000\u0000\u0000\u0000\u0000\u0000\u0000\u0000\u0000\u0000\u0000 \u0000\u0000\u0000\u0000\u0000\u0000\u0000\u0000\u0000\u0000\u0000\u0000\u0000\u0000\u0000\u0000\u0000\u0000\u0000\u0000\u0000\u0000\u0000\u0000\u0000\u0000\u0000\u0000\u0000\u0000\u0000\\{\"account_id\":\"heuristic_proskuriakova@test\",\"domain_id\":\"test\",\"quorum\":1,\"json_data\":\"{}\"}\u0000\u0000\u0000\u0000\n",
      "\tLeaving \"get_engine_receipts_result\"\n",
      "done\n"
     ]
    }
   ],
   "source": [
    "user_private_key = IrohaCrypto.private_key()\n",
    "user_public_key = IrohaCrypto.derive_public_key(user_private_key).decode(\"utf-8\")\n",
    "\n",
    "DOMAIN = \"test\"\n",
    "\n",
    "@integration_helpers.trace\n",
    "def create_account(address):\n",
    "    params = integration_helpers.get_first_four_bytes_of_keccak(\n",
    "        b\"createAccount(string,string,string)\"\n",
    "    )\n",
    "    no_of_param = 3\n",
    "    for x in range(no_of_param):\n",
    "        params = params + integration_helpers.left_padded_address_of_param(\n",
    "            x, no_of_param\n",
    "        )\n",
    "    params = params + integration_helpers.argument_encoding(user_account_short_id)  # source account id\n",
    "    params = params + integration_helpers.argument_encoding(DOMAIN)  # domain id\n",
    "    params = params + integration_helpers.argument_encoding(user_public_key)  #  key\n",
    "    tx = iroha.transaction(\n",
    "        [\n",
    "            iroha.command(\n",
    "                \"CallEngine\", caller=ADMIN_ACCOUNT_ID, callee=address, input=params\n",
    "            )\n",
    "        ]\n",
    "    )\n",
    "    IrohaCrypto.sign_transaction(tx, ADMIN_PRIVATE_KEY)\n",
    "    response = net.send_tx(tx)\n",
    "    for status in net.tx_status_stream(tx):\n",
    "        print(status)\n",
    "    hex_hash = binascii.hexlify(IrohaCrypto.hash(tx))\n",
    "    line_number = dump_to_json_ld(f\"{user_account_short_id}@{DOMAIN}\", user_account_full_name, user_account_email, user_account_institution, user_account_orcid, user_role, user_public_key) #dumps this data to dataset/accounts.json for later use.\n",
    "    print(line_number)\n",
    "    return hex_hash\n",
    "\n",
    "\n",
    "@integration_helpers.trace\n",
    "def get_account(address):\n",
    "    params = integration_helpers.get_first_four_bytes_of_keccak(b\"getAccount(string)\")\n",
    "    no_of_param = 1\n",
    "    for x in range(no_of_param):\n",
    "        params = params + integration_helpers.left_padded_address_of_param(\n",
    "            x, no_of_param\n",
    "        )\n",
    "    params = params + integration_helpers.argument_encoding(f\"{user_account_short_id}@{DOMAIN}\")  # account id\n",
    "    tx = iroha.transaction(\n",
    "        [\n",
    "            iroha.command(\n",
    "                \"CallEngine\", caller=ADMIN_ACCOUNT_ID, callee=address, input=params\n",
    "            )\n",
    "        ]\n",
    "    )\n",
    "    IrohaCrypto.sign_transaction(tx, ADMIN_PRIVATE_KEY)\n",
    "    response = net.send_tx(tx)\n",
    "    for status in net.tx_status_stream(tx):\n",
    "        print(status)\n",
    "    hex_hash = binascii.hexlify(IrohaCrypto.hash(tx))\n",
    "    return hex_hash\n",
    "\n",
    "\n",
    "# - Random generated synthetic user data \n",
    "user_account_left = random.choice(left)\n",
    "user_account_right = random.choice(right)\n",
    "user_account_short_id = f\"{user_account_left}_{user_account_right}\"\n",
    "user_account_full_name = ((f\"{user_account_left}\").capitalize())+\" \"+((f\"{user_account_right}\").capitalize())\n",
    "user_account_email = f\"{user_account_left}_{user_account_right}\"+\"@email.com\"\n",
    "user_account_institution = print_random_from_second_column(\"datasets/world-universities.csv\")\n",
    "user_account_orcid = generate_orcid()\n",
    "user_role = set_random_role()\n",
    "print(user_role)\n",
    "\n",
    "\n",
    "print(f\"Creating account with name: {user_account_short_id}\")\n",
    "\n",
    "# - Create account\n",
    "address = integration_helpers.get_engine_receipts_address(hash)\n",
    "create_account(address)\n",
    "\n",
    "# - Get account info\n",
    "hash = get_account(address)\n",
    "address = integration_helpers.get_engine_receipts_result(hash)\n",
    "\n",
    "\n",
    "print(\"done\")"
   ]
  },
  {
   "cell_type": "markdown",
   "id": "bd8efb2f-5187-4bb6-8da5-7651cacc62ba",
   "metadata": {},
   "source": [
    "3 - Queries the blockchain to confirm the succesful creation of the account."
   ]
  },
  {
   "cell_type": "code",
   "execution_count": 17,
   "id": "c4fa0344-f2e2-4dd3-90dc-e011d064bcbd",
   "metadata": {},
   "outputs": [
    {
     "name": "stdout",
     "output_type": "stream",
     "text": [
      "Account id = heuristic_proskuriakova@test, details = {}\n"
     ]
    }
   ],
   "source": [
    "#Query - GetAccountDetail\n",
    "\n",
    "query = iroha.query('GetAccountDetail',account_id=f\"{user_account_short_id}@{DOMAIN}\")\n",
    "IrohaCrypto.sign_query(query, ADMIN_PRIVATE_KEY)\n",
    "response = net.send_query(query)\n",
    "data = response.account_detail_response\n",
    "print(f'Account id = {user_account_short_id}@{DOMAIN}, details = {data.detail}')"
   ]
  },
  {
   "cell_type": "markdown",
   "id": "62d54200-d179-4d6e-9461-b27b17b4b308",
   "metadata": {},
   "source": [
    "4 - Deploys a smart contract into the Iroha 1 blockchain for details (attributes) setting."
   ]
  },
  {
   "cell_type": "code",
   "execution_count": 18,
   "id": "b625e19f-baa7-4e78-afed-902850e54c6a",
   "metadata": {},
   "outputs": [
    {
     "name": "stdout",
     "output_type": "stream",
     "text": [
      "\tEntering \"create_contract\"\n",
      "('STATELESS_VALIDATION_SUCCESS', 1, 0)\n",
      "('ENOUGH_SIGNATURES_COLLECTED', 9, 0)\n",
      "('STATEFUL_VALIDATION_SUCCESS', 3, 0)\n",
      "('COMMITTED', 5, 0)\n",
      "\tLeaving \"create_contract\"\n",
      "\tEntering \"get_engine_receipts_address\"\n",
      "\tLeaving \"get_engine_receipts_address\"\n",
      "\tEntering \"get_engine_receipts_result\"\n",
      "\n",
      "\tLeaving \"get_engine_receipts_result\"\n"
     ]
    }
   ],
   "source": [
    "@integration_helpers.trace\n",
    "def create_contract():\n",
    "    bytecode = \"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\"\n",
    "    \"\"\"Bytecode was generated using remix editor  https://remix.ethereum.org/ from file detail.sol. \"\"\"\n",
    "    tx = iroha.transaction(\n",
    "        [iroha.command(\"CallEngine\", caller=ADMIN_ACCOUNT_ID, input=bytecode)]\n",
    "    )\n",
    "    IrohaCrypto.sign_transaction(tx, ADMIN_PRIVATE_KEY)\n",
    "    net.send_tx(tx)\n",
    "    hex_hash = binascii.hexlify(IrohaCrypto.hash(tx))\n",
    "    for status in net.tx_status_stream(tx):\n",
    "        print(status)\n",
    "    return hex_hash\n",
    "\n",
    "@integration_helpers.trace\n",
    "def set_account_detail(address, account, key, value):\n",
    "    params = integration_helpers.get_first_four_bytes_of_keccak(\n",
    "        b\"setAccountDetail(string,string,string)\"\n",
    "    )\n",
    "    no_of_param = 3\n",
    "    for x in range(no_of_param):\n",
    "        params = params + integration_helpers.left_padded_address_of_param(\n",
    "            x, no_of_param\n",
    "        )\n",
    "    params = params + integration_helpers.argument_encoding(account)  # source account id\n",
    "    params = params + integration_helpers.argument_encoding(key)  # key\n",
    "    params = params + integration_helpers.argument_encoding(value)  #  value\n",
    "    tx = iroha.transaction(\n",
    "        [\n",
    "            iroha.command(\n",
    "                \"CallEngine\", caller=ADMIN_ACCOUNT_ID, callee=address, input=params\n",
    "            )\n",
    "        ]\n",
    "    )\n",
    "    IrohaCrypto.sign_transaction(tx, ADMIN_PRIVATE_KEY)\n",
    "    response = net.send_tx(tx)\n",
    "    print(response)\n",
    "    for status in net.tx_status_stream(tx):\n",
    "        print(status)\n",
    "    hex_hash = binascii.hexlify(IrohaCrypto.hash(tx))\n",
    "    return hex_hash\n",
    "\n",
    "# print(user_account_short_id)\n",
    "\n",
    "# - Deploys the contract\n",
    "hash = create_contract()\n",
    "address = integration_helpers.get_engine_receipts_address(hash)\n",
    "integration_helpers.get_engine_receipts_result(hash)"
   ]
  },
  {
   "cell_type": "markdown",
   "id": "32f29b64-b0fd-4583-952b-ad9a606f4b16",
   "metadata": {},
   "source": [
    "5 - Sets details for the user account:\n",
    "\n",
    "- Full Name\n",
    "- Email\n",
    "- Institution\n",
    "- ORCID\n",
    "- Public key"
   ]
  },
  {
   "cell_type": "code",
   "execution_count": 19,
   "id": "9015a0e4-0166-4dad-863d-897704235fc7",
   "metadata": {},
   "outputs": [
    {
     "name": "stdout",
     "output_type": "stream",
     "text": [
      "{'@type': 'foaf:Person', 'foaf:name': 'Heuristic Proskuriakova', 'foaf:mbox': 'heuristic_proskuriakova@email.com', 'foaf:organization': {'@type': 'foaf:Organization', 'foaf:name': 'Edward Waters College'}, 'schema:identifier': {'@type': 'PropertyValue', 'propertyID': 'ORCID', 'value': '2382-1401-5687-X'}, 'foaf:holdsAccount': {'schema:identifier': 'heuristic_proskuriakova@test', 'schema:roleName': 'author', 'schema:publicKey': '67e13f986993ac8ddc8bf29b069ffc6034016e0ef385f3674ddabfbb601e0dc6'}}\n",
      "user_json_ld_cid : QmbhwsVhXf64g54WSdyKZuXmu3fgkddrJznmaXUGZ6ZbDP\n",
      "\tEntering \"set_account_detail\"\n",
      "None\n",
      "('STATELESS_VALIDATION_SUCCESS', 1, 0)\n",
      "('ENOUGH_SIGNATURES_COLLECTED', 9, 0)\n"
     ]
    },
    {
     "name": "stdout",
     "output_type": "stream",
     "text": [
      "('STATEFUL_VALIDATION_SUCCESS', 3, 0)\n",
      "('COMMITTED', 5, 0)\n",
      "\tLeaving \"set_account_detail\"\n",
      "Processing account: heuristic_proskuriakova@test\n"
     ]
    }
   ],
   "source": [
    "from ipfs_functions import *\n",
    "\n",
    "def process_account(account_id):\n",
    "    try:\n",
    "        with open('datasets/accounts.json', 'r', encoding='utf-8') as jsonldfile:\n",
    "            data = json.load(jsonldfile)\n",
    "            # print(f\"Processing data: {data}\")\n",
    "            \n",
    "            # Find the account details for the specified ID\n",
    "            account_details = next(\n",
    "                (entry for entry in data['@graph'] if entry['foaf:holdsAccount']['schema:identifier'] == account_id),\n",
    "                None\n",
    "            )\n",
    "            \n",
    "            print(account_details)\n",
    "\n",
    "            # Uploads User JSON-LD to IPFS\n",
    "            user_json_ld_cid = upload_json_to_ipfs(account_details) \n",
    "            print(\"user_json_ld_cid :\", user_json_ld_cid)\n",
    "\n",
    "            # Sends the resulting CID to Iroha 1\n",
    "            hash = set_account_detail(address, f\"{user_account_short_id}@{DOMAIN}\", \"user_json_ld_cid\", user_json_ld_cid)\n",
    "\n",
    "            \n",
    "            if account_details is None:\n",
    "                print(f\"Account with ID '{account_id}' not found.\")\n",
    "                return\n",
    "            \n",
    "            print(f\"Processing account: {account_id}\")\n",
    "           \n",
    "            \n",
    "    except FileNotFoundError:\n",
    "        print(\"The JSON-LD file 'datasets/accounts.json' does not exist.\")\n",
    "    except Exception as e:\n",
    "        print(f\"Error processing account: {str(e)}\")\n",
    "\n",
    "# Example usage\n",
    "process_account(f\"{user_account_short_id}@{DOMAIN}\")\n"
   ]
  },
  {
   "cell_type": "markdown",
   "id": "fb6a9a37-7201-407b-b643-1f0acf0894b0",
   "metadata": {},
   "source": [
    "6 - Queries the blockchain again to confirm the succesfull details setting."
   ]
  },
  {
   "cell_type": "code",
   "execution_count": 20,
   "id": "287dba19-d1af-4417-9eab-609a8ffdcd14",
   "metadata": {},
   "outputs": [
    {
     "name": "stderr",
     "output_type": "stream",
     "text": [
      "ic| details: ('{ \"admin@test\" : { \"user_json_ld_cid\" : '\n",
      "              '\"QmbhwsVhXf64g54WSdyKZuXmu3fgkddrJznmaXUGZ6ZbDP\" } }')\n"
     ]
    },
    {
     "data": {
      "text/plain": [
       "'{ \"admin@test\" : { \"user_json_ld_cid\" : \"QmbhwsVhXf64g54WSdyKZuXmu3fgkddrJznmaXUGZ6ZbDP\" } }'"
      ]
     },
     "execution_count": 20,
     "metadata": {},
     "output_type": "execute_result"
    }
   ],
   "source": [
    "#Query - GetAccountDetail\n",
    "\n",
    "query = iroha.query('GetAccountDetail',account_id=f\"{user_account_short_id}@{DOMAIN}\")\n",
    "IrohaCrypto.sign_query(query, ADMIN_PRIVATE_KEY)\n",
    "response = net.send_query(query)\n",
    "data = response.account_detail_response\n",
    "details = data.detail\n",
    "ic(details)\n",
    "# print(f'User Account id = {user_account_short_id}@{DOMAIN}, {details}')"
   ]
  },
  {
   "cell_type": "markdown",
   "id": "ad702ee6-5ccb-4613-b300-52687622950d",
   "metadata": {},
   "source": [
    "7 - Retrieves User JSON-LD from IPFS"
   ]
  },
  {
   "cell_type": "code",
   "execution_count": 21,
   "id": "5e2c8878-b164-4681-a428-56068fc6d248",
   "metadata": {},
   "outputs": [
    {
     "name": "stderr",
     "output_type": "stream",
     "text": [
      "ic| name_value: 'QmbhwsVhXf64g54WSdyKZuXmu3fgkddrJznmaXUGZ6ZbDP'\n",
      "ic| user_json_ld: {'@type': 'foaf:Person',\n",
      "                   'foaf:holdsAccount': {'schema:identifier': 'heuristic_proskuriakova@test',\n",
      "                                         'schema:publicKey': '67e13f986993ac8ddc8bf29b069ffc6034016e0ef385f3674ddabfbb601e0dc6',\n",
      "                                         'schema:roleName': 'author'},\n",
      "                   'foaf:mbox': 'heuristic_proskuriakova@email.com',\n",
      "                   'foaf:name': 'Heuristic Proskuriakova',\n",
      "                   'foaf:organization': {'@type': 'foaf:Organization',\n",
      "                                         'foaf:name': 'Edward Waters College'},\n",
      "                   'schema:identifier': {'@type': 'PropertyValue',\n",
      "                                         'propertyID': 'ORCID',\n",
      "                                         'value': '2382-1401-5687-X'}}\n"
     ]
    },
    {
     "data": {
      "text/plain": [
       "{'@type': 'foaf:Person',\n",
       " 'foaf:holdsAccount': {'schema:identifier': 'heuristic_proskuriakova@test',\n",
       "  'schema:publicKey': '67e13f986993ac8ddc8bf29b069ffc6034016e0ef385f3674ddabfbb601e0dc6',\n",
       "  'schema:roleName': 'author'},\n",
       " 'foaf:mbox': 'heuristic_proskuriakova@email.com',\n",
       " 'foaf:name': 'Heuristic Proskuriakova',\n",
       " 'foaf:organization': {'@type': 'foaf:Organization',\n",
       "  'foaf:name': 'Edward Waters College'},\n",
       " 'schema:identifier': {'@type': 'PropertyValue',\n",
       "  'propertyID': 'ORCID',\n",
       "  'value': '2382-1401-5687-X'}}"
      ]
     },
     "execution_count": 21,
     "metadata": {},
     "output_type": "execute_result"
    }
   ],
   "source": [
    "# Convert the JSON string to a Python dictionary\n",
    "details_dict = json.loads(details)\n",
    "\n",
    "# Now you can access the specific key like this\n",
    "name_value = details_dict[\"admin@test\"][\"user_json_ld_cid\"]\n",
    "ic(name_value)\n",
    "\n",
    "\n",
    "user_json_ld = download_json_from_ipfs(name_value)\n",
    "\n",
    "# print(20*\"-\")\n",
    "\n",
    "ic(user_json_ld)"
   ]
  },
  {
   "cell_type": "code",
   "execution_count": null,
   "id": "7016be46-3259-4b94-8b60-f7a424f7b452",
   "metadata": {},
   "outputs": [],
   "source": []
  }
 ],
 "metadata": {
  "kernelspec": {
   "display_name": "Python 3 (ipykernel)",
   "language": "python",
   "name": "python3"
  },
  "language_info": {
   "codemirror_mode": {
    "name": "ipython",
    "version": 3
   },
   "file_extension": ".py",
   "mimetype": "text/x-python",
   "name": "python",
   "nbconvert_exporter": "python",
   "pygments_lexer": "ipython3",
   "version": "3.9.20"
  }
 },
 "nbformat": 4,
 "nbformat_minor": 5
}
