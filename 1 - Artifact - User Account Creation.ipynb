{
 "cells": [
  {
   "cell_type": "markdown",
   "id": "f43de376-bb3c-4f4a-b6c3-eeddbd4cf2ae",
   "metadata": {},
   "source": [
    "**IMPORTANT** \n",
    "\n",
    "- For requirements and initial setup go to https://github.com/OliveiraEdu/OpenScience/Readme.md;\n",
    "- To execute the notebook run all cells."
   ]
  },
  {
   "attachments": {},
   "cell_type": "markdown",
   "id": "335e6bc9-be10-4431-ba0d-fa83ba7b40fc",
   "metadata": {},
   "source": [
    "# Open Science Platform Notebook 1 -User Account Creation"
   ]
  },
  {
   "cell_type": "markdown",
   "id": "c2b074d9-3edc-410d-9972-222d9cbb551f",
   "metadata": {},
   "source": [
    "## Activities\n",
    "\n",
    "1 - Deploys a smart contract into the Iroha 1 blockchain for account creation;\n",
    "\n",
    "2 - Creates a user account into the blockchain;\n",
    "\n",
    "3 - Queries the blockchain to confirm the succesful creation of the account;\n",
    "\n",
    "4 - Deploys a smart contract into the Iroha 1 blockchain for details (attributes) setting;\n",
    "\n",
    "5 - Sets details for the user account;\n",
    "\n",
    "6 - Queries the blockchain again to confirm the succesfull details setting.\n",
    "\n",
    "User accounts and their respective attributes are randomly picked, every account succesfully created is dumped to `datasets/accounts.json` for later use and evidence collection.  "
   ]
  },
  {
   "cell_type": "markdown",
   "id": "ffbd3068-923c-4db1-b99a-c7ef1e04d322",
   "metadata": {},
   "source": [
    "### Sequence Diagram"
   ]
  },
  {
   "cell_type": "markdown",
   "id": "12b6da95-f3c7-40d1-8751-816951584eb6",
   "metadata": {},
   "source": [
    "```mermaid\n",
    "\n",
    "%%{\n",
    "  init: {\n",
    "    'theme': 'base',\n",
    "    'themeVariables': {\n",
    "      'primaryColor': '#ffffff',\n",
    "      'primaryTextColor': '#000000',\n",
    "      'primaryBorderColor': '#000000',\n",
    "      'lineColor': '#000000',\n",
    "      'secondaryColor': '#f4f4f4',\n",
    "      'secondaryTextColor': '#000000',\n",
    "      'tertiaryColor': '#d3d3d3',\n",
    "      'tertiaryTextColor': '#000000',\n",
    "      'background': '#ffffff',\n",
    "      'actorBkg': '#B4B4B4',\n",
    "      'actorTextColor': '#000000',\n",
    "      'actorBorder': '#000000',\n",
    "      'actorLineColor': '#000000',\n",
    "      'signalColor': '#000000',\n",
    "      'signalTextColor': '#000000',\n",
    "      'activationBorderColor': '#000000',\n",
    "      'activationBkgColor': '#d3d3d3',\n",
    "      'sequenceNumberColor': '#000000',\n",
    "      'noteBkgColor': '#F0F0F0',\n",
    "      'noteTextColor': '#000000',\n",
    "      'noteBorderColor': '#000000'\n",
    "    }\n",
    "  }\n",
    "}%%\n",
    "\n",
    "sequenceDiagram\n",
    "    participant Platform as \"Platform\"\n",
    "    participant Blockchain as \"Iroha 1 Blockchain\"\n",
    "\n",
    "    Note over Platform, Blockchain: Deploy smart contract for account creation\n",
    "    Platform->>Blockchain: Deploy Smart Contract\n",
    "    Blockchain-->>Platform: Smart Contract Deployed Successfully\n",
    "    \n",
    "    Note over Platform, Blockchain: Account creation\n",
    "    Platform->>Blockchain: Create Account\n",
    "    Blockchain-->>Platform: Account Created Successfully\n",
    "\n",
    "    Note over Platform, Blockchain: Queries the blockchain to confirm account creation\n",
    "    Platform->>Blockchain: Query Account Details\n",
    "    Blockchain-->>Platform: Query Response\n",
    "    \n",
    "    \n",
    "    Note over Platform, Blockchain: Deploy smart contract for details setting\n",
    "    Platform->>Blockchain: Deploy Smart Contract\n",
    "    Blockchain-->>Platform: Smart Contract Deployed Successfully\n",
    "\n",
    "    Note over Platform, Blockchain: Set user details\n",
    "    Platform->>Blockchain: Set User Details in Blockchain\n",
    "    Blockchain-->>Platform: User Details Set Successfully\n",
    "\n",
    "    Note over Platform, Blockchain: Queries the blockchain to confirm details setting\n",
    "    Platform->>Blockchain: Query Account Details\n",
    "    Blockchain-->>Platform: Query Response\n",
    "```"
   ]
  },
  {
   "cell_type": "code",
   "execution_count": 1,
   "id": "4a7fb0ca-47eb-4483-a66a-46078e7ad7a2",
   "metadata": {},
   "outputs": [],
   "source": [
    "from name_generator import left, right\n",
    "from utilities import *\n",
    "from dump_to_json import *\n",
    "from iroha_helper import *\n",
    "\n"
   ]
  },
  {
   "cell_type": "code",
   "execution_count": 2,
   "id": "5dd63bcb",
   "metadata": {},
   "outputs": [],
   "source": [
    "DOMAIN = \"test\""
   ]
  },
  {
   "cell_type": "markdown",
   "id": "2fa9cb45-0eae-48fd-8b33-d2e54ce432ca",
   "metadata": {},
   "source": [
    "1 - Deploys a smart contract into the Iroha 1 blockchain for account creation;"
   ]
  },
  {
   "cell_type": "code",
   "execution_count": 3,
   "id": "1e544b8a-5690-4ba4-b776-b8304b402d44",
   "metadata": {},
   "outputs": [
    {
     "name": "stderr",
     "output_type": "stream",
     "text": [
      "\u001b[32m2025-01-22 23:16:43.064\u001b[0m | \u001b[34m\u001b[1mDEBUG   \u001b[0m | \u001b[36mintegration_helpers\u001b[0m:\u001b[36mtracer\u001b[0m:\u001b[36m35\u001b[0m - \u001b[34m\u001b[1m\tEntering \"create_account_contract\"\u001b[0m\n",
      "\u001b[32m2025-01-22 23:16:43.070\u001b[0m | \u001b[1mINFO    \u001b[0m | \u001b[36miroha_helper\u001b[0m:\u001b[36mcreate_account_contract\u001b[0m:\u001b[36m41\u001b[0m - \u001b[1m('STATELESS_VALIDATION_SUCCESS', 1, 0)\u001b[0m\n",
      "\u001b[32m2025-01-22 23:16:43.071\u001b[0m | \u001b[1mINFO    \u001b[0m | \u001b[36miroha_helper\u001b[0m:\u001b[36mcreate_account_contract\u001b[0m:\u001b[36m41\u001b[0m - \u001b[1m('ENOUGH_SIGNATURES_COLLECTED', 9, 0)\u001b[0m\n",
      "\u001b[32m2025-01-22 23:16:45.488\u001b[0m | \u001b[1mINFO    \u001b[0m | \u001b[36miroha_helper\u001b[0m:\u001b[36mcreate_account_contract\u001b[0m:\u001b[36m41\u001b[0m - \u001b[1m('STATEFUL_VALIDATION_SUCCESS', 3, 0)\u001b[0m\n",
      "\u001b[32m2025-01-22 23:16:45.525\u001b[0m | \u001b[1mINFO    \u001b[0m | \u001b[36miroha_helper\u001b[0m:\u001b[36mcreate_account_contract\u001b[0m:\u001b[36m41\u001b[0m - \u001b[1m('COMMITTED', 5, 0)\u001b[0m\n",
      "\u001b[32m2025-01-22 23:16:45.527\u001b[0m | \u001b[34m\u001b[1mDEBUG   \u001b[0m | \u001b[36mintegration_helpers\u001b[0m:\u001b[36mtracer\u001b[0m:\u001b[36m35\u001b[0m - \u001b[34m\u001b[1m\tEntering \"get_engine_receipts_address\"\u001b[0m\n",
      "\u001b[32m2025-01-22 23:16:45.547\u001b[0m | \u001b[1mINFO    \u001b[0m | \u001b[36mintegration_helpers\u001b[0m:\u001b[36mget_engine_receipts_address\u001b[0m:\u001b[36m96\u001b[0m - \u001b[1mRetrieved contract address for transaction hash: b'760d265aee4878087bedc160f3cf5b3ef8bc3aedc102eb42e54e9e6ed67b036d'\u001b[0m\n",
      "\u001b[32m2025-01-22 23:16:45.548\u001b[0m | \u001b[34m\u001b[1mDEBUG   \u001b[0m | \u001b[36mintegration_helpers\u001b[0m:\u001b[36mget_engine_receipts_address\u001b[0m:\u001b[36m97\u001b[0m - \u001b[34m\u001b[1mContract address: BD5A91148F7413A4E1B522B14EC20F8CBAC94C24\u001b[0m\n",
      "\u001b[32m2025-01-22 23:16:45.550\u001b[0m | \u001b[34m\u001b[1mDEBUG   \u001b[0m | \u001b[36mintegration_helpers\u001b[0m:\u001b[36mtracer\u001b[0m:\u001b[36m37\u001b[0m - \u001b[34m\u001b[1m\tLeaving \"get_engine_receipts_address\"\u001b[0m\n",
      "\u001b[32m2025-01-22 23:16:45.550\u001b[0m | \u001b[34m\u001b[1mDEBUG   \u001b[0m | \u001b[36mintegration_helpers\u001b[0m:\u001b[36mtracer\u001b[0m:\u001b[36m37\u001b[0m - \u001b[34m\u001b[1m\tLeaving \"create_account_contract\"\u001b[0m\n"
     ]
    }
   ],
   "source": [
    "from integration_helpers import get_engine_receipts_address\n",
    "# - Deploy contract\n",
    "create_account_contract_hash = create_account_contract()\n"
   ]
  },
  {
   "cell_type": "markdown",
   "id": "0d4d0006-0547-439a-88aa-0606da914b3a",
   "metadata": {},
   "source": [
    "2 - Creates a user account into the blockchain."
   ]
  },
  {
   "cell_type": "code",
   "execution_count": 4,
   "id": "a6968027-487f-4e2d-9be6-16af57ecf99b",
   "metadata": {},
   "outputs": [
    {
     "name": "stderr",
     "output_type": "stream",
     "text": [
      "\u001b[32m2025-01-22 23:16:45.602\u001b[0m | \u001b[1mINFO    \u001b[0m | \u001b[36m__main__\u001b[0m:\u001b[36m<module>\u001b[0m:\u001b[36m13\u001b[0m - \u001b[1mUser Role: publisher\u001b[0m\n",
      "\u001b[32m2025-01-22 23:16:45.604\u001b[0m | \u001b[1mINFO    \u001b[0m | \u001b[36m__main__\u001b[0m:\u001b[36m<module>\u001b[0m:\u001b[36m24\u001b[0m - \u001b[1mCreating account with name: optimistic_engelbart\u001b[0m\n",
      "\u001b[32m2025-01-22 23:16:45.605\u001b[0m | \u001b[34m\u001b[1mDEBUG   \u001b[0m | \u001b[36mintegration_helpers\u001b[0m:\u001b[36mtracer\u001b[0m:\u001b[36m35\u001b[0m - \u001b[34m\u001b[1m\tEntering \"get_engine_receipts_address\"\u001b[0m\n",
      "\u001b[32m2025-01-22 23:16:45.623\u001b[0m | \u001b[1mINFO    \u001b[0m | \u001b[36mintegration_helpers\u001b[0m:\u001b[36mget_engine_receipts_address\u001b[0m:\u001b[36m96\u001b[0m - \u001b[1mRetrieved contract address for transaction hash: b'760d265aee4878087bedc160f3cf5b3ef8bc3aedc102eb42e54e9e6ed67b036d'\u001b[0m\n",
      "\u001b[32m2025-01-22 23:16:45.624\u001b[0m | \u001b[34m\u001b[1mDEBUG   \u001b[0m | \u001b[36mintegration_helpers\u001b[0m:\u001b[36mget_engine_receipts_address\u001b[0m:\u001b[36m97\u001b[0m - \u001b[34m\u001b[1mContract address: BD5A91148F7413A4E1B522B14EC20F8CBAC94C24\u001b[0m\n",
      "\u001b[32m2025-01-22 23:16:45.625\u001b[0m | \u001b[34m\u001b[1mDEBUG   \u001b[0m | \u001b[36mintegration_helpers\u001b[0m:\u001b[36mtracer\u001b[0m:\u001b[36m37\u001b[0m - \u001b[34m\u001b[1m\tLeaving \"get_engine_receipts_address\"\u001b[0m\n",
      "\u001b[32m2025-01-22 23:16:45.626\u001b[0m | \u001b[34m\u001b[1mDEBUG   \u001b[0m | \u001b[36mintegration_helpers\u001b[0m:\u001b[36mtracer\u001b[0m:\u001b[36m35\u001b[0m - \u001b[34m\u001b[1m\tEntering \"create_user_account\"\u001b[0m\n",
      "\u001b[32m2025-01-22 23:16:45.648\u001b[0m | \u001b[1mINFO    \u001b[0m | \u001b[36miroha_helper\u001b[0m:\u001b[36mcreate_user_account\u001b[0m:\u001b[36m83\u001b[0m - \u001b[1m('STATELESS_VALIDATION_SUCCESS', 1, 0)\u001b[0m\n",
      "\u001b[32m2025-01-22 23:16:45.650\u001b[0m | \u001b[1mINFO    \u001b[0m | \u001b[36miroha_helper\u001b[0m:\u001b[36mcreate_user_account\u001b[0m:\u001b[36m83\u001b[0m - \u001b[1m('ENOUGH_SIGNATURES_COLLECTED', 9, 0)\u001b[0m\n"
     ]
    },
    {
     "name": "stderr",
     "output_type": "stream",
     "text": [
      "\u001b[32m2025-01-22 23:16:48.550\u001b[0m | \u001b[1mINFO    \u001b[0m | \u001b[36miroha_helper\u001b[0m:\u001b[36mcreate_user_account\u001b[0m:\u001b[36m83\u001b[0m - \u001b[1m('STATEFUL_VALIDATION_SUCCESS', 3, 0)\u001b[0m\n",
      "\u001b[32m2025-01-22 23:16:48.579\u001b[0m | \u001b[1mINFO    \u001b[0m | \u001b[36miroha_helper\u001b[0m:\u001b[36mcreate_user_account\u001b[0m:\u001b[36m83\u001b[0m - \u001b[1m('COMMITTED', 5, 0)\u001b[0m\n",
      "\u001b[32m2025-01-22 23:16:48.588\u001b[0m | \u001b[1mINFO    \u001b[0m | \u001b[36mdump_to_json\u001b[0m:\u001b[36mdump_to_json_ld\u001b[0m:\u001b[36m82\u001b[0m - \u001b[1mAppended new entry to file 'datasets/accounts.json', current total entries: 45\u001b[0m\n",
      "\u001b[32m2025-01-22 23:16:48.589\u001b[0m | \u001b[34m\u001b[1mDEBUG   \u001b[0m | \u001b[36mintegration_helpers\u001b[0m:\u001b[36mtracer\u001b[0m:\u001b[36m37\u001b[0m - \u001b[34m\u001b[1m\tLeaving \"create_user_account\"\u001b[0m\n",
      "\u001b[32m2025-01-22 23:16:48.591\u001b[0m | \u001b[34m\u001b[1mDEBUG   \u001b[0m | \u001b[36mintegration_helpers\u001b[0m:\u001b[36mtracer\u001b[0m:\u001b[36m35\u001b[0m - \u001b[34m\u001b[1m\tEntering \"get_account\"\u001b[0m\n",
      "\u001b[32m2025-01-22 23:16:48.609\u001b[0m | \u001b[1mINFO    \u001b[0m | \u001b[36miroha_helper\u001b[0m:\u001b[36mget_account\u001b[0m:\u001b[36m303\u001b[0m - \u001b[1m('STATELESS_VALIDATION_SUCCESS', 1, 0)\u001b[0m\n",
      "\u001b[32m2025-01-22 23:16:48.612\u001b[0m | \u001b[1mINFO    \u001b[0m | \u001b[36miroha_helper\u001b[0m:\u001b[36mget_account\u001b[0m:\u001b[36m303\u001b[0m - \u001b[1m('ENOUGH_SIGNATURES_COLLECTED', 9, 0)\u001b[0m\n",
      "\u001b[32m2025-01-22 23:16:51.599\u001b[0m | \u001b[1mINFO    \u001b[0m | \u001b[36miroha_helper\u001b[0m:\u001b[36mget_account\u001b[0m:\u001b[36m303\u001b[0m - \u001b[1m('STATEFUL_VALIDATION_SUCCESS', 3, 0)\u001b[0m\n",
      "\u001b[32m2025-01-22 23:16:51.848\u001b[0m | \u001b[1mINFO    \u001b[0m | \u001b[36miroha_helper\u001b[0m:\u001b[36mget_account\u001b[0m:\u001b[36m303\u001b[0m - \u001b[1m('COMMITTED', 5, 0)\u001b[0m\n",
      "\u001b[32m2025-01-22 23:16:51.851\u001b[0m | \u001b[34m\u001b[1mDEBUG   \u001b[0m | \u001b[36mintegration_helpers\u001b[0m:\u001b[36mtracer\u001b[0m:\u001b[36m37\u001b[0m - \u001b[34m\u001b[1m\tLeaving \"get_account\"\u001b[0m\n",
      "\u001b[32m2025-01-22 23:16:51.853\u001b[0m | \u001b[34m\u001b[1mDEBUG   \u001b[0m | \u001b[36mintegration_helpers\u001b[0m:\u001b[36mtracer\u001b[0m:\u001b[36m35\u001b[0m - \u001b[34m\u001b[1m\tEntering \"get_engine_receipts_result\"\u001b[0m\n",
      "\u001b[32m2025-01-22 23:16:51.873\u001b[0m | \u001b[1mINFO    \u001b[0m | \u001b[36mintegration_helpers\u001b[0m:\u001b[36mget_engine_receipts_result\u001b[0m:\u001b[36m139\u001b[0m - \u001b[1mResult data: 000000000000000000000000000000000000000000000000000000000000002000000000000000000000000000000000000000000000000000000000000000a0000000000000000000000000000000000000000000000000000000000000002000000000000000000000000000000000000000000000000000000000000000597b226163636f756e745f6964223a226f7074696d69737469635f656e67656c626172744074657374222c22646f6d61696e5f6964223a2274657374222c2271756f72756d223a312c226a736f6e5f64617461223a227b7d227d00000000000000\u001b[0m\n",
      "\u001b[32m2025-01-22 23:16:51.875\u001b[0m | \u001b[34m\u001b[1mDEBUG   \u001b[0m | \u001b[36mintegration_helpers\u001b[0m:\u001b[36mget_engine_receipts_result\u001b[0m:\u001b[36m140\u001b[0m - \u001b[34m\u001b[1mResult decoded string: \u0000\u0000\u0000\u0000\u0000\u0000\u0000\u0000\u0000\u0000\u0000\u0000\u0000\u0000\u0000\u0000\u0000\u0000\u0000\u0000\u0000\u0000\u0000\u0000\u0000\u0000\u0000\u0000\u0000\u0000\u0000 \u0000\u0000\u0000\u0000\u0000\u0000\u0000\u0000\u0000\u0000\u0000\u0000\u0000\u0000\u0000\u0000\u0000\u0000\u0000\u0000\u0000\u0000\u0000\u0000\u0000\u0000\u0000\u0000\u0000\u0000\u0000\u0000\u0000\u0000\u0000\u0000\u0000\u0000\u0000\u0000\u0000\u0000\u0000\u0000\u0000\u0000\u0000\u0000\u0000\u0000\u0000\u0000\u0000\u0000\u0000\u0000\u0000\u0000\u0000\u0000\u0000\u0000 \u0000\u0000\u0000\u0000\u0000\u0000\u0000\u0000\u0000\u0000\u0000\u0000\u0000\u0000\u0000\u0000\u0000\u0000\u0000\u0000\u0000\u0000\u0000\u0000\u0000\u0000\u0000\u0000\u0000\u0000\u0000Y{\"account_id\":\"optimistic_engelbart@test\",\"domain_id\":\"test\",\"quorum\":1,\"json_data\":\"{}\"}\u0000\u0000\u0000\u0000\u0000\u0000\u0000\u001b[0m\n",
      "\u001b[32m2025-01-22 23:16:51.876\u001b[0m | \u001b[34m\u001b[1mDEBUG   \u001b[0m | \u001b[36mintegration_helpers\u001b[0m:\u001b[36mtracer\u001b[0m:\u001b[36m37\u001b[0m - \u001b[34m\u001b[1m\tLeaving \"get_engine_receipts_result\"\u001b[0m\n"
     ]
    }
   ],
   "source": [
    "user_private_key = IrohaCrypto.private_key()\n",
    "user_public_key = IrohaCrypto.derive_public_key(user_private_key).decode(\"utf-8\")\n",
    "\n",
    "# - Random generated synthetic user data \n",
    "user_account_left = random.choice(left)\n",
    "user_account_right = random.choice(right)\n",
    "user_account_short_id = f\"{user_account_left}_{user_account_right}\"\n",
    "user_account_full_name = ((f\"{user_account_left}\").capitalize())+\" \"+((f\"{user_account_right}\").capitalize())\n",
    "user_account_email = f\"{user_account_left}_{user_account_right}\"+\"@email.com\"\n",
    "user_account_institution = print_random_from_second_column(\"datasets/world-universities.csv\")\n",
    "user_account_orcid = generate_orcid()\n",
    "user_role = set_random_role()\n",
    "logger.info(f\"User Role: {user_role}\")\n",
    "\n",
    "user_account = UserAccount(\n",
    "    account_id=f\"{user_account_short_id}@{DOMAIN}\",\n",
    "    full_name=user_account_full_name,\n",
    "    email=user_account_email,\n",
    "    institution=user_account_institution,\n",
    "    orcid=user_account_orcid,\n",
    "    role=user_role,\n",
    "    public_key=user_public_key,\n",
    ")\n",
    "logger.info(f\"Creating account with name: {user_account_short_id}\")\n",
    "\n",
    "# - Create account\n",
    "create_account_contract_address = integration_helpers.get_engine_receipts_address(create_account_contract_hash)\n",
    "create_user_account(create_account_contract_address, user_account_short_id, DOMAIN, user_public_key, user_account)\n",
    "\n",
    "# - Get account info\n",
    "get_account_hash = get_account(create_account_contract_address, user_account_short_id, DOMAIN)\n",
    "address = integration_helpers.get_engine_receipts_result(get_account_hash)\n"
   ]
  },
  {
   "cell_type": "markdown",
   "id": "bd8efb2f-5187-4bb6-8da5-7651cacc62ba",
   "metadata": {},
   "source": [
    "3 - Queries the blockchain to confirm the succesful creation of the account."
   ]
  },
  {
   "cell_type": "code",
   "execution_count": 5,
   "id": "c4fa0344-f2e2-4dd3-90dc-e011d064bcbd",
   "metadata": {},
   "outputs": [
    {
     "name": "stderr",
     "output_type": "stream",
     "text": [
      "\u001b[32m2025-01-22 23:16:51.888\u001b[0m | \u001b[34m\u001b[1mDEBUG   \u001b[0m | \u001b[36mintegration_helpers\u001b[0m:\u001b[36mtracer\u001b[0m:\u001b[36m35\u001b[0m - \u001b[34m\u001b[1m\tEntering \"get_account_detail\"\u001b[0m\n",
      "\u001b[32m2025-01-22 23:16:51.907\u001b[0m | \u001b[1mINFO    \u001b[0m | \u001b[36miroha_helper\u001b[0m:\u001b[36mget_account_detail\u001b[0m:\u001b[36m279\u001b[0m - \u001b[1mUser Account id = optimistic_engelbart@test, {}\u001b[0m\n",
      "\u001b[32m2025-01-22 23:16:51.908\u001b[0m | \u001b[34m\u001b[1mDEBUG   \u001b[0m | \u001b[36mintegration_helpers\u001b[0m:\u001b[36mtracer\u001b[0m:\u001b[36m37\u001b[0m - \u001b[34m\u001b[1m\tLeaving \"get_account_detail\"\u001b[0m\n"
     ]
    }
   ],
   "source": [
    "#Query - GetAccountDetail\n",
    "\n",
    "details = get_account_detail(f\"{user_account_short_id}@{DOMAIN}\")"
   ]
  },
  {
   "cell_type": "markdown",
   "id": "62d54200-d179-4d6e-9461-b27b17b4b308",
   "metadata": {},
   "source": [
    "4 - Deploys a smart contract into the Iroha 1 blockchain for details (attributes) setting."
   ]
  },
  {
   "cell_type": "code",
   "execution_count": 6,
   "id": "b625e19f-baa7-4e78-afed-902850e54c6a",
   "metadata": {},
   "outputs": [
    {
     "name": "stderr",
     "output_type": "stream",
     "text": [
      "\u001b[32m2025-01-22 23:16:51.921\u001b[0m | \u001b[34m\u001b[1mDEBUG   \u001b[0m | \u001b[36mintegration_helpers\u001b[0m:\u001b[36mtracer\u001b[0m:\u001b[36m35\u001b[0m - \u001b[34m\u001b[1m\tEntering \"create_detail_contract\"\u001b[0m\n",
      "\u001b[32m2025-01-22 23:16:51.940\u001b[0m | \u001b[1mINFO    \u001b[0m | \u001b[36miroha_helper\u001b[0m:\u001b[36mcreate_detail_contract\u001b[0m:\u001b[36m56\u001b[0m - \u001b[1m('STATELESS_VALIDATION_SUCCESS', 1, 0)\u001b[0m\n",
      "\u001b[32m2025-01-22 23:16:51.943\u001b[0m | \u001b[1mINFO    \u001b[0m | \u001b[36miroha_helper\u001b[0m:\u001b[36mcreate_detail_contract\u001b[0m:\u001b[36m56\u001b[0m - \u001b[1m('ENOUGH_SIGNATURES_COLLECTED', 9, 0)\u001b[0m\n",
      "\u001b[32m2025-01-22 23:16:54.869\u001b[0m | \u001b[1mINFO    \u001b[0m | \u001b[36miroha_helper\u001b[0m:\u001b[36mcreate_detail_contract\u001b[0m:\u001b[36m56\u001b[0m - \u001b[1m('STATEFUL_VALIDATION_SUCCESS', 3, 0)\u001b[0m\n",
      "\u001b[32m2025-01-22 23:16:54.897\u001b[0m | \u001b[1mINFO    \u001b[0m | \u001b[36miroha_helper\u001b[0m:\u001b[36mcreate_detail_contract\u001b[0m:\u001b[36m56\u001b[0m - \u001b[1m('COMMITTED', 5, 0)\u001b[0m\n",
      "\u001b[32m2025-01-22 23:16:54.899\u001b[0m | \u001b[34m\u001b[1mDEBUG   \u001b[0m | \u001b[36mintegration_helpers\u001b[0m:\u001b[36mtracer\u001b[0m:\u001b[36m35\u001b[0m - \u001b[34m\u001b[1m\tEntering \"get_engine_receipts_address\"\u001b[0m\n",
      "\u001b[32m2025-01-22 23:16:54.919\u001b[0m | \u001b[1mINFO    \u001b[0m | \u001b[36mintegration_helpers\u001b[0m:\u001b[36mget_engine_receipts_address\u001b[0m:\u001b[36m96\u001b[0m - \u001b[1mRetrieved contract address for transaction hash: b'5c8487c05800abb590a90924a0e2212db37def1a64a6ed8be9483646e840ffb2'\u001b[0m\n",
      "\u001b[32m2025-01-22 23:16:54.920\u001b[0m | \u001b[34m\u001b[1mDEBUG   \u001b[0m | \u001b[36mintegration_helpers\u001b[0m:\u001b[36mget_engine_receipts_address\u001b[0m:\u001b[36m97\u001b[0m - \u001b[34m\u001b[1mContract address: E6924B053C1DA17BE4ABBFCAE06C1B1DA7CE9D56\u001b[0m\n",
      "\u001b[32m2025-01-22 23:16:54.921\u001b[0m | \u001b[34m\u001b[1mDEBUG   \u001b[0m | \u001b[36mintegration_helpers\u001b[0m:\u001b[36mtracer\u001b[0m:\u001b[36m37\u001b[0m - \u001b[34m\u001b[1m\tLeaving \"get_engine_receipts_address\"\u001b[0m\n",
      "\u001b[32m2025-01-22 23:16:54.923\u001b[0m | \u001b[34m\u001b[1mDEBUG   \u001b[0m | \u001b[36mintegration_helpers\u001b[0m:\u001b[36mtracer\u001b[0m:\u001b[36m37\u001b[0m - \u001b[34m\u001b[1m\tLeaving \"create_detail_contract\"\u001b[0m\n"
     ]
    }
   ],
   "source": [
    "# - Deploys the contract\n",
    "hash = create_detail_contract()"
   ]
  },
  {
   "cell_type": "markdown",
   "id": "32f29b64-b0fd-4583-952b-ad9a606f4b16",
   "metadata": {},
   "source": [
    "5 - Sets details for the user account:\n",
    "\n",
    "- Full Name\n",
    "- Email\n",
    "- Institution\n",
    "- ORCID\n",
    "- Public key\n",
    "- Role"
   ]
  },
  {
   "cell_type": "code",
   "execution_count": 7,
   "id": "9015a0e4-0166-4dad-863d-897704235fc7",
   "metadata": {},
   "outputs": [
    {
     "name": "stderr",
     "output_type": "stream",
     "text": [
      "\u001b[32m2025-01-22 23:16:54.934\u001b[0m | \u001b[34m\u001b[1mDEBUG   \u001b[0m | \u001b[36mintegration_helpers\u001b[0m:\u001b[36mtracer\u001b[0m:\u001b[36m35\u001b[0m - \u001b[34m\u001b[1m\tEntering \"get_engine_receipts_address\"\u001b[0m\n",
      "\u001b[32m2025-01-22 23:16:54.955\u001b[0m | \u001b[1mINFO    \u001b[0m | \u001b[36mintegration_helpers\u001b[0m:\u001b[36mget_engine_receipts_address\u001b[0m:\u001b[36m96\u001b[0m - \u001b[1mRetrieved contract address for transaction hash: b'5c8487c05800abb590a90924a0e2212db37def1a64a6ed8be9483646e840ffb2'\u001b[0m\n",
      "\u001b[32m2025-01-22 23:16:54.956\u001b[0m | \u001b[34m\u001b[1mDEBUG   \u001b[0m | \u001b[36mintegration_helpers\u001b[0m:\u001b[36mget_engine_receipts_address\u001b[0m:\u001b[36m97\u001b[0m - \u001b[34m\u001b[1mContract address: E6924B053C1DA17BE4ABBFCAE06C1B1DA7CE9D56\u001b[0m\n",
      "\u001b[32m2025-01-22 23:16:54.957\u001b[0m | \u001b[34m\u001b[1mDEBUG   \u001b[0m | \u001b[36mintegration_helpers\u001b[0m:\u001b[36mtracer\u001b[0m:\u001b[36m37\u001b[0m - \u001b[34m\u001b[1m\tLeaving \"get_engine_receipts_address\"\u001b[0m\n",
      "\u001b[32m2025-01-22 23:16:54.959\u001b[0m | \u001b[34m\u001b[1mDEBUG   \u001b[0m | \u001b[36mintegration_helpers\u001b[0m:\u001b[36mtracer\u001b[0m:\u001b[36m35\u001b[0m - \u001b[34m\u001b[1m\tEntering \"process_account\"\u001b[0m\n",
      "\u001b[32m2025-01-22 23:16:54.961\u001b[0m | \u001b[1mINFO    \u001b[0m | \u001b[36miroha_helper\u001b[0m:\u001b[36mprocess_account\u001b[0m:\u001b[36m396\u001b[0m - \u001b[1mProcessing account: optimistic_engelbart@test\u001b[0m\n",
      "\u001b[32m2025-01-22 23:16:54.962\u001b[0m | \u001b[1mINFO    \u001b[0m | \u001b[36miroha_helper\u001b[0m:\u001b[36mprocess_account\u001b[0m:\u001b[36m397\u001b[0m - \u001b[1mUser Account Metadata: {'@type': 'foaf:Person', 'foaf:name': 'Optimistic Engelbart', 'foaf:mbox': 'optimistic_engelbart@email.com', 'foaf:organization': {'@type': 'foaf:Organization', 'foaf:name': 'Université de Kikwite'}, 'schema:identifier': {'@type': 'PropertyValue', 'propertyID': 'ORCID', 'value': '8147-3826-0015-X'}, 'foaf:holdsAccount': {'schema:identifier': 'optimistic_engelbart@test', 'schema:roleName': 'publisher', 'schema:publicKey': '20ec78c7e9591054841d414dc16d616876487913a1c72a69de3987e35ff3e207'}}\u001b[0m\n",
      "\u001b[32m2025-01-22 23:16:54.993\u001b[0m | \u001b[1mINFO    \u001b[0m | \u001b[36miroha_helper\u001b[0m:\u001b[36mprocess_account\u001b[0m:\u001b[36m401\u001b[0m - \u001b[1mUser Account Metadata CID: QmZQVDLQ1yoRFh39wAXjNSs4dXTYwyP3qwDzKhcTZPnBNb\u001b[0m\n",
      "\u001b[32m2025-01-22 23:16:54.994\u001b[0m | \u001b[34m\u001b[1mDEBUG   \u001b[0m | \u001b[36mintegration_helpers\u001b[0m:\u001b[36mtracer\u001b[0m:\u001b[36m35\u001b[0m - \u001b[34m\u001b[1m\tEntering \"set_account_detail\"\u001b[0m\n",
      "\u001b[32m2025-01-22 23:16:55.009\u001b[0m | \u001b[1mINFO    \u001b[0m | \u001b[36miroha_helper\u001b[0m:\u001b[36mset_account_detail\u001b[0m:\u001b[36m373\u001b[0m - \u001b[1mNone\u001b[0m\n",
      "\u001b[32m2025-01-22 23:16:55.012\u001b[0m | \u001b[1mINFO    \u001b[0m | \u001b[36miroha_helper\u001b[0m:\u001b[36mset_account_detail\u001b[0m:\u001b[36m375\u001b[0m - \u001b[1m('STATELESS_VALIDATION_SUCCESS', 1, 0)\u001b[0m\n",
      "\u001b[32m2025-01-22 23:16:57.924\u001b[0m | \u001b[1mINFO    \u001b[0m | \u001b[36miroha_helper\u001b[0m:\u001b[36mset_account_detail\u001b[0m:\u001b[36m375\u001b[0m - \u001b[1m('STATEFUL_VALIDATION_SUCCESS', 3, 0)\u001b[0m\n",
      "\u001b[32m2025-01-22 23:16:57.950\u001b[0m | \u001b[1mINFO    \u001b[0m | \u001b[36miroha_helper\u001b[0m:\u001b[36mset_account_detail\u001b[0m:\u001b[36m375\u001b[0m - \u001b[1m('COMMITTED', 5, 0)\u001b[0m\n",
      "\u001b[32m2025-01-22 23:16:57.952\u001b[0m | \u001b[34m\u001b[1mDEBUG   \u001b[0m | \u001b[36mintegration_helpers\u001b[0m:\u001b[36mtracer\u001b[0m:\u001b[36m35\u001b[0m - \u001b[34m\u001b[1m\tEntering \"get_engine_receipts_result\"\u001b[0m\n",
      "\u001b[32m2025-01-22 23:16:57.972\u001b[0m | \u001b[1mINFO    \u001b[0m | \u001b[36mintegration_helpers\u001b[0m:\u001b[36mget_engine_receipts_result\u001b[0m:\u001b[36m139\u001b[0m - \u001b[1mResult data: 000000000000000000000000000000000000000000000000000000000000002000000000000000000000000000000000000000000000000000000000000000200000000000000000000000000000000000000000000000000000000000000001\u001b[0m\n",
      "\u001b[32m2025-01-22 23:16:57.973\u001b[0m | \u001b[34m\u001b[1mDEBUG   \u001b[0m | \u001b[36mintegration_helpers\u001b[0m:\u001b[36mget_engine_receipts_result\u001b[0m:\u001b[36m140\u001b[0m - \u001b[34m\u001b[1mResult decoded string: \u0000\u0000\u0000\u0000\u0000\u0000\u0000\u0000\u0000\u0000\u0000\u0000\u0000\u0000\u0000\u0000\u0000\u0000\u0000\u0000\u0000\u0000\u0000\u0000\u0000\u0000\u0000\u0000\u0000\u0000\u0000 \u0000\u0000\u0000\u0000\u0000\u0000\u0000\u0000\u0000\u0000\u0000\u0000\u0000\u0000\u0000\u0000\u0000\u0000\u0000\u0000\u0000\u0000\u0000\u0000\u0000\u0000\u0000\u0000\u0000\u0000\u0000 \u0000\u0000\u0000\u0000\u0000\u0000\u0000\u0000\u0000\u0000\u0000\u0000\u0000\u0000\u0000\u0000\u0000\u0000\u0000\u0000\u0000\u0000\u0000\u0000\u0000\u0000\u0000\u0000\u0000\u0000\u0000\u0001\u001b[0m\n",
      "\u001b[32m2025-01-22 23:16:57.974\u001b[0m | \u001b[34m\u001b[1mDEBUG   \u001b[0m | \u001b[36mintegration_helpers\u001b[0m:\u001b[36mtracer\u001b[0m:\u001b[36m37\u001b[0m - \u001b[34m\u001b[1m\tLeaving \"get_engine_receipts_result\"\u001b[0m\n",
      "\u001b[32m2025-01-22 23:16:57.975\u001b[0m | \u001b[34m\u001b[1mDEBUG   \u001b[0m | \u001b[36mintegration_helpers\u001b[0m:\u001b[36mtracer\u001b[0m:\u001b[36m37\u001b[0m - \u001b[34m\u001b[1m\tLeaving \"set_account_detail\"\u001b[0m\n",
      "\u001b[32m2025-01-22 23:16:57.977\u001b[0m | \u001b[34m\u001b[1mDEBUG   \u001b[0m | \u001b[36mintegration_helpers\u001b[0m:\u001b[36mtracer\u001b[0m:\u001b[36m37\u001b[0m - \u001b[34m\u001b[1m\tLeaving \"process_account\"\u001b[0m\n"
     ]
    }
   ],
   "source": [
    "address = integration_helpers.get_engine_receipts_address(hash)\n",
    "\n",
    "process_account(address, f\"{user_account_short_id}@{DOMAIN}\")"
   ]
  },
  {
   "cell_type": "markdown",
   "id": "fb6a9a37-7201-407b-b643-1f0acf0894b0",
   "metadata": {},
   "source": [
    "6 - Queries the blockchain again to confirm the succesfull details setting."
   ]
  },
  {
   "cell_type": "code",
   "execution_count": 8,
   "id": "2e45a234",
   "metadata": {},
   "outputs": [
    {
     "name": "stderr",
     "output_type": "stream",
     "text": [
      "\u001b[32m2025-01-22 23:16:57.988\u001b[0m | \u001b[34m\u001b[1mDEBUG   \u001b[0m | \u001b[36mintegration_helpers\u001b[0m:\u001b[36mtracer\u001b[0m:\u001b[36m35\u001b[0m - \u001b[34m\u001b[1m\tEntering \"get_account\"\u001b[0m\n",
      "\u001b[32m2025-01-22 23:16:58.006\u001b[0m | \u001b[1mINFO    \u001b[0m | \u001b[36miroha_helper\u001b[0m:\u001b[36mget_account\u001b[0m:\u001b[36m303\u001b[0m - \u001b[1m('STATELESS_VALIDATION_SUCCESS', 1, 0)\u001b[0m\n",
      "\u001b[32m2025-01-22 23:16:58.008\u001b[0m | \u001b[1mINFO    \u001b[0m | \u001b[36miroha_helper\u001b[0m:\u001b[36mget_account\u001b[0m:\u001b[36m303\u001b[0m - \u001b[1m('ENOUGH_SIGNATURES_COLLECTED', 9, 0)\u001b[0m\n",
      "\u001b[32m2025-01-22 23:17:00.974\u001b[0m | \u001b[1mINFO    \u001b[0m | \u001b[36miroha_helper\u001b[0m:\u001b[36mget_account\u001b[0m:\u001b[36m303\u001b[0m - \u001b[1m('STATEFUL_VALIDATION_SUCCESS', 3, 0)\u001b[0m\n",
      "\u001b[32m2025-01-22 23:17:00.998\u001b[0m | \u001b[1mINFO    \u001b[0m | \u001b[36miroha_helper\u001b[0m:\u001b[36mget_account\u001b[0m:\u001b[36m303\u001b[0m - \u001b[1m('COMMITTED', 5, 0)\u001b[0m\n",
      "\u001b[32m2025-01-22 23:17:01.000\u001b[0m | \u001b[34m\u001b[1mDEBUG   \u001b[0m | \u001b[36mintegration_helpers\u001b[0m:\u001b[36mtracer\u001b[0m:\u001b[36m37\u001b[0m - \u001b[34m\u001b[1m\tLeaving \"get_account\"\u001b[0m\n",
      "\u001b[32m2025-01-22 23:17:01.002\u001b[0m | \u001b[34m\u001b[1mDEBUG   \u001b[0m | \u001b[36mintegration_helpers\u001b[0m:\u001b[36mtracer\u001b[0m:\u001b[36m35\u001b[0m - \u001b[34m\u001b[1m\tEntering \"get_engine_receipts_result\"\u001b[0m\n",
      "\u001b[32m2025-01-22 23:17:01.023\u001b[0m | \u001b[1mINFO    \u001b[0m | \u001b[36mintegration_helpers\u001b[0m:\u001b[36mget_engine_receipts_result\u001b[0m:\u001b[36m139\u001b[0m - \u001b[1mResult data: 00000000000000000000000000000000000000000000000000000000000000200000000000000000000000000000000000000000000000000000000000000100000000000000000000000000000000000000000000000000000000000000002000000000000000000000000000000000000000000000000000000000000000b37b226163636f756e745f6964223a226f7074696d69737469635f656e67656c626172744074657374222c22646f6d61696e5f6964223a2274657374222c2271756f72756d223a312c226a736f6e5f64617461223a227b5c2261646d696e40746573745c223a207b5c22757365725f6a736f6e5f6c645f6369645c223a205c22516d5a5156444c5131796f52466833397741586a4e53733464585459777950337177447a4b6863545a506e424e625c227d7d227d00000000000000000000000000\u001b[0m\n",
      "\u001b[32m2025-01-22 23:17:01.024\u001b[0m | \u001b[34m\u001b[1mDEBUG   \u001b[0m | \u001b[36mintegration_helpers\u001b[0m:\u001b[36mget_engine_receipts_result\u001b[0m:\u001b[36m140\u001b[0m - \u001b[34m\u001b[1mResult decoded string: \u0000\u0000\u0000\u0000\u0000\u0000\u0000\u0000\u0000\u0000\u0000\u0000\u0000\u0000\u0000\u0000\u0000\u0000\u0000\u0000\u0000\u0000\u0000\u0000\u0000\u0000\u0000\u0000\u0000\u0000\u0000 \u0000\u0000\u0000\u0000\u0000\u0000\u0000\u0000\u0000\u0000\u0000\u0000\u0000\u0000\u0000\u0000\u0000\u0000\u0000\u0000\u0000\u0000\u0000\u0000\u0000\u0000\u0000\u0000\u0000\u0000\u0001\u0000\u0000\u0000\u0000\u0000\u0000\u0000\u0000\u0000\u0000\u0000\u0000\u0000\u0000\u0000\u0000\u0000\u0000\u0000\u0000\u0000\u0000\u0000\u0000\u0000\u0000\u0000\u0000\u0000\u0000\u0000\u0000 \u0000\u0000\u0000\u0000\u0000\u0000\u0000\u0000\u0000\u0000\u0000\u0000\u0000\u0000\u0000\u0000\u0000\u0000\u0000\u0000\u0000\u0000\u0000\u0000\u0000\u0000\u0000\u0000\u0000\u0000\u0000{\"account_id\":\"optimistic_engelbart@test\",\"domain_id\":\"test\",\"quorum\":1,\"json_data\":\"{\\\"admin@test\\\": {\\\"user_json_ld_cid\\\": \\\"QmZQVDLQ1yoRFh39wAXjNSs4dXTYwyP3qwDzKhcTZPnBNb\\\"}}\"}\u0000\u0000\u0000\u0000\u0000\u0000\u0000\u0000\u0000\u0000\u0000\u0000\u0000\u001b[0m\n",
      "\u001b[32m2025-01-22 23:17:01.025\u001b[0m | \u001b[34m\u001b[1mDEBUG   \u001b[0m | \u001b[36mintegration_helpers\u001b[0m:\u001b[36mtracer\u001b[0m:\u001b[36m37\u001b[0m - \u001b[34m\u001b[1m\tLeaving \"get_engine_receipts_result\"\u001b[0m\n"
     ]
    }
   ],
   "source": [
    "# - Get account info\n",
    "get_account_hash = get_account(create_account_contract_address, user_account_short_id, DOMAIN)\n",
    "details = integration_helpers.get_engine_receipts_result(get_account_hash)"
   ]
  },
  {
   "cell_type": "code",
   "execution_count": null,
   "id": "9c19f194",
   "metadata": {},
   "outputs": [
    {
     "name": "stdout",
     "output_type": "stream",
     "text": [
      "\u0000\u0000\u0000\u0000\u0000\u0000\u0000\u0000\u0000\u0000\u0000\u0000\u0000\u0000\u0000\u0000\u0000\u0000\u0000\u0000\u0000\u0000\u0000\u0000\u0000\u0000\u0000\u0000\u0000\u0000\u0000 \u0000\u0000\u0000\u0000\u0000\u0000\u0000\u0000\u0000\u0000\u0000\u0000\u0000\u0000\u0000\u0000\u0000\u0000\u0000\u0000\u0000\u0000\u0000\u0000\u0000\u0000\u0000\u0000\u0000\u0000\u0001\u0000\u0000\u0000\u0000\u0000\u0000\u0000\u0000\u0000\u0000\u0000\u0000\u0000\u0000\u0000\u0000\u0000\u0000\u0000\u0000\u0000\u0000\u0000\u0000\u0000\u0000\u0000\u0000\u0000\u0000\u0000\u0000 \u0000\u0000\u0000\u0000\u0000\u0000\u0000\u0000\u0000\u0000\u0000\u0000\u0000\u0000\u0000\u0000\u0000\u0000\u0000\u0000\u0000\u0000\u0000\u0000\u0000\u0000\u0000\u0000\u0000\u0000\u0000{\"account_id\":\"optimistic_engelbart@test\",\"domain_id\":\"test\",\"quorum\":1,\"json_data\":\"{\\\"admin@test\\\": {\\\"user_json_ld_cid\\\": \\\"QmZQVDLQ1yoRFh39wAXjNSs4dXTYwyP3qwDzKhcTZPnBNb\\\"}}\"}\u0000\u0000\u0000\u0000\u0000\u0000\u0000\u0000\u0000\u0000\u0000\u0000\u0000\n",
      "An error occurred: string indices must be integers\n"
     ]
    }
   ],
   "source": [
    "from typing import Optional\n",
    "import json\n",
    "\n",
    "def extract_user_json_ld_cid_from_data(data: dict) -> Optional[str]:\n",
    "    try:\n",
    "        # Clean the string to remove any trailing or extra characters\n",
    "        json_data_str = data['json_data'].strip()  # This removes leading/trailing whitespaces or other invisible characters\n",
    "        logger.debug(json_data_str)\n",
    "        \n",
    "        # Load the JSON data into a dictionary\n",
    "        json_data = json.loads(json_data_str)\n",
    "        logger.debug(f\"Parsed JSON data:, {json_data}\")\n",
    "        # Debug print to check the structure of the parsed JSON\n",
    "        # print(\"Parsed JSON data:\", json_data)\n",
    "        \n",
    "        # Access the 'admin@test' key inside the parsed dictionary\n",
    "        if 'admin@test' in json_data:\n",
    "            admin_data = json_data['admin@test']\n",
    "            logger.debug(f\"Admin data:, {admin_data})  # Debug print to check the admin data\n",
    "            \n",
    "            # Check for 'user_json_ld_cid' inside the admin data\n",
    "            if 'user_json_ld_cid' in admin_data:\n",
    "                return admin_data['user_json_ld_cid']\n",
    "            else:\n",
    "                raise KeyError(\"'user_json_ld_cid' not found in the data\")\n",
    "        else:\n",
    "            raise KeyError(\"'admin@test' not found in the parsed data\")\n",
    "            \n",
    "    except (KeyError, json.JSONDecodeError) as e:\n",
    "        print(f\"Invalid JSON data: {e}\")\n",
    "        return None\n",
    "\n",
    "# data = {\n",
    "#     \"account_id\": \"friendly_montalcini@test\",\n",
    "#     \"domain_id\": \"test\",\n",
    "#     \"quorum\": 1,\n",
    "#     \"json_data\": \"{\\\"admin@test\\\": {\\\"user_json_ld_cid\\\": \\\"QmXHvXvcZ4Yhs3kNKUtvsAUXTVtSFB8nS1JXjd5cdWoLeh\\\"}} \"  # Trailing space added here\n",
    "# }\n",
    "\n",
    "\n",
    "print(details)\n",
    "\n",
    "try:\n",
    "    user_json_ld_cid = extract_user_json_ld_cid_from_data(details)\n",
    "    if user_json_ld_cid:\n",
    "        print(\"The value of 'user_json_ld_cid' is:\", user_json_ld_cid)\n",
    "    else:\n",
    "        print(\"'user_json_ld_cid' not found in the data.\")\n",
    "except Exception as e:\n",
    "    print(f\"An error occurred: {e}\")\n"
   ]
  },
  {
   "cell_type": "markdown",
   "id": "ad702ee6-5ccb-4613-b300-52687622950d",
   "metadata": {},
   "source": [
    "7 - Retrieves User Metadata (JSON-LD formatted) from IPFS"
   ]
  },
  {
   "cell_type": "code",
   "execution_count": 10,
   "id": "5e2c8878-b164-4681-a428-56068fc6d248",
   "metadata": {},
   "outputs": [
    {
     "ename": "JSONDecodeError",
     "evalue": "Expecting value: line 1 column 1 (char 0)",
     "output_type": "error",
     "traceback": [
      "\u001b[0;31m---------------------------------------------------------------------------\u001b[0m",
      "\u001b[0;31mJSONDecodeError\u001b[0m                           Traceback (most recent call last)",
      "Cell \u001b[0;32mIn[10], line 2\u001b[0m\n\u001b[1;32m      1\u001b[0m \u001b[38;5;66;03m# Convert the JSON string to a Python dictionary\u001b[39;00m\n\u001b[0;32m----> 2\u001b[0m details_dict \u001b[38;5;241m=\u001b[39m \u001b[43mjson\u001b[49m\u001b[38;5;241;43m.\u001b[39;49m\u001b[43mloads\u001b[49m\u001b[43m(\u001b[49m\u001b[43mdetails\u001b[49m\u001b[43m)\u001b[49m\n\u001b[1;32m      4\u001b[0m \u001b[38;5;66;03m# Now you can access the specific key like this\u001b[39;00m\n\u001b[1;32m      5\u001b[0m user_metadata_cid \u001b[38;5;241m=\u001b[39m details_dict[\u001b[38;5;124m\"\u001b[39m\u001b[38;5;124madmin@test\u001b[39m\u001b[38;5;124m\"\u001b[39m][\u001b[38;5;124m\"\u001b[39m\u001b[38;5;124muser_json_ld_cid\u001b[39m\u001b[38;5;124m\"\u001b[39m]\n",
      "File \u001b[0;32m/usr/local/lib/python3.9/json/__init__.py:346\u001b[0m, in \u001b[0;36mloads\u001b[0;34m(s, cls, object_hook, parse_float, parse_int, parse_constant, object_pairs_hook, **kw)\u001b[0m\n\u001b[1;32m    341\u001b[0m     s \u001b[38;5;241m=\u001b[39m s\u001b[38;5;241m.\u001b[39mdecode(detect_encoding(s), \u001b[38;5;124m'\u001b[39m\u001b[38;5;124msurrogatepass\u001b[39m\u001b[38;5;124m'\u001b[39m)\n\u001b[1;32m    343\u001b[0m \u001b[38;5;28;01mif\u001b[39;00m (\u001b[38;5;28mcls\u001b[39m \u001b[38;5;129;01mis\u001b[39;00m \u001b[38;5;28;01mNone\u001b[39;00m \u001b[38;5;129;01mand\u001b[39;00m object_hook \u001b[38;5;129;01mis\u001b[39;00m \u001b[38;5;28;01mNone\u001b[39;00m \u001b[38;5;129;01mand\u001b[39;00m\n\u001b[1;32m    344\u001b[0m         parse_int \u001b[38;5;129;01mis\u001b[39;00m \u001b[38;5;28;01mNone\u001b[39;00m \u001b[38;5;129;01mand\u001b[39;00m parse_float \u001b[38;5;129;01mis\u001b[39;00m \u001b[38;5;28;01mNone\u001b[39;00m \u001b[38;5;129;01mand\u001b[39;00m\n\u001b[1;32m    345\u001b[0m         parse_constant \u001b[38;5;129;01mis\u001b[39;00m \u001b[38;5;28;01mNone\u001b[39;00m \u001b[38;5;129;01mand\u001b[39;00m object_pairs_hook \u001b[38;5;129;01mis\u001b[39;00m \u001b[38;5;28;01mNone\u001b[39;00m \u001b[38;5;129;01mand\u001b[39;00m \u001b[38;5;129;01mnot\u001b[39;00m kw):\n\u001b[0;32m--> 346\u001b[0m     \u001b[38;5;28;01mreturn\u001b[39;00m \u001b[43m_default_decoder\u001b[49m\u001b[38;5;241;43m.\u001b[39;49m\u001b[43mdecode\u001b[49m\u001b[43m(\u001b[49m\u001b[43ms\u001b[49m\u001b[43m)\u001b[49m\n\u001b[1;32m    347\u001b[0m \u001b[38;5;28;01mif\u001b[39;00m \u001b[38;5;28mcls\u001b[39m \u001b[38;5;129;01mis\u001b[39;00m \u001b[38;5;28;01mNone\u001b[39;00m:\n\u001b[1;32m    348\u001b[0m     \u001b[38;5;28mcls\u001b[39m \u001b[38;5;241m=\u001b[39m JSONDecoder\n",
      "File \u001b[0;32m/usr/local/lib/python3.9/json/decoder.py:337\u001b[0m, in \u001b[0;36mJSONDecoder.decode\u001b[0;34m(self, s, _w)\u001b[0m\n\u001b[1;32m    332\u001b[0m \u001b[38;5;28;01mdef\u001b[39;00m \u001b[38;5;21mdecode\u001b[39m(\u001b[38;5;28mself\u001b[39m, s, _w\u001b[38;5;241m=\u001b[39mWHITESPACE\u001b[38;5;241m.\u001b[39mmatch):\n\u001b[1;32m    333\u001b[0m \u001b[38;5;250m    \u001b[39m\u001b[38;5;124;03m\"\"\"Return the Python representation of ``s`` (a ``str`` instance\u001b[39;00m\n\u001b[1;32m    334\u001b[0m \u001b[38;5;124;03m    containing a JSON document).\u001b[39;00m\n\u001b[1;32m    335\u001b[0m \n\u001b[1;32m    336\u001b[0m \u001b[38;5;124;03m    \"\"\"\u001b[39;00m\n\u001b[0;32m--> 337\u001b[0m     obj, end \u001b[38;5;241m=\u001b[39m \u001b[38;5;28;43mself\u001b[39;49m\u001b[38;5;241;43m.\u001b[39;49m\u001b[43mraw_decode\u001b[49m\u001b[43m(\u001b[49m\u001b[43ms\u001b[49m\u001b[43m,\u001b[49m\u001b[43m \u001b[49m\u001b[43midx\u001b[49m\u001b[38;5;241;43m=\u001b[39;49m\u001b[43m_w\u001b[49m\u001b[43m(\u001b[49m\u001b[43ms\u001b[49m\u001b[43m,\u001b[49m\u001b[43m \u001b[49m\u001b[38;5;241;43m0\u001b[39;49m\u001b[43m)\u001b[49m\u001b[38;5;241;43m.\u001b[39;49m\u001b[43mend\u001b[49m\u001b[43m(\u001b[49m\u001b[43m)\u001b[49m\u001b[43m)\u001b[49m\n\u001b[1;32m    338\u001b[0m     end \u001b[38;5;241m=\u001b[39m _w(s, end)\u001b[38;5;241m.\u001b[39mend()\n\u001b[1;32m    339\u001b[0m     \u001b[38;5;28;01mif\u001b[39;00m end \u001b[38;5;241m!=\u001b[39m \u001b[38;5;28mlen\u001b[39m(s):\n",
      "File \u001b[0;32m/usr/local/lib/python3.9/json/decoder.py:355\u001b[0m, in \u001b[0;36mJSONDecoder.raw_decode\u001b[0;34m(self, s, idx)\u001b[0m\n\u001b[1;32m    353\u001b[0m     obj, end \u001b[38;5;241m=\u001b[39m \u001b[38;5;28mself\u001b[39m\u001b[38;5;241m.\u001b[39mscan_once(s, idx)\n\u001b[1;32m    354\u001b[0m \u001b[38;5;28;01mexcept\u001b[39;00m \u001b[38;5;167;01mStopIteration\u001b[39;00m \u001b[38;5;28;01mas\u001b[39;00m err:\n\u001b[0;32m--> 355\u001b[0m     \u001b[38;5;28;01mraise\u001b[39;00m JSONDecodeError(\u001b[38;5;124m\"\u001b[39m\u001b[38;5;124mExpecting value\u001b[39m\u001b[38;5;124m\"\u001b[39m, s, err\u001b[38;5;241m.\u001b[39mvalue) \u001b[38;5;28;01mfrom\u001b[39;00m \u001b[38;5;28;01mNone\u001b[39;00m\n\u001b[1;32m    356\u001b[0m \u001b[38;5;28;01mreturn\u001b[39;00m obj, end\n",
      "\u001b[0;31mJSONDecodeError\u001b[0m: Expecting value: line 1 column 1 (char 0)"
     ]
    }
   ],
   "source": [
    "# Convert the JSON string to a Python dictionary\n",
    "details_dict = json.loads(details)\n",
    "\n",
    "# Now you can access the specific key like this\n",
    "user_metadata_cid = details_dict[\"admin@test\"][\"user_json_ld_cid\"]\n",
    "logger.info(f\"User Metadata CID: {user_metadata_cid}\")\n",
    "\n",
    "user_metadata = download_json_from_ipfs(user_metadata_cid)\n",
    "logger.info(f\"User Metadata: {user_metadata}\")"
   ]
  }
 ],
 "metadata": {
  "kernelspec": {
   "display_name": "Python 3 (ipykernel)",
   "language": "python",
   "name": "python3"
  },
  "language_info": {
   "codemirror_mode": {
    "name": "ipython",
    "version": 3
   },
   "file_extension": ".py",
   "mimetype": "text/x-python",
   "name": "python",
   "nbconvert_exporter": "python",
   "pygments_lexer": "ipython3",
   "version": "3.9.21"
  }
 },
 "nbformat": 4,
 "nbformat_minor": 5
}
