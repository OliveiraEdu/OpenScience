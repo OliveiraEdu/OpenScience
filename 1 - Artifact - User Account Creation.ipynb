{
 "cells": [
  {
   "cell_type": "markdown",
   "id": "f43de376-bb3c-4f4a-b6c3-eeddbd4cf2ae",
   "metadata": {},
   "source": [
    "**IMPORTANT** \n",
    "\n",
    "- For requirements and initial setup go to https://github.com/OliveiraEdu/OpenScience/Readme.md;\n",
    "- To execute the notebook run all cells."
   ]
  },
  {
   "attachments": {},
   "cell_type": "markdown",
   "id": "335e6bc9-be10-4431-ba0d-fa83ba7b40fc",
   "metadata": {},
   "source": [
    "# Open Science Platform Notebook 1 -User Account Creation"
   ]
  },
  {
   "cell_type": "markdown",
   "id": "c2b074d9-3edc-410d-9972-222d9cbb551f",
   "metadata": {},
   "source": [
    "## Activities\n",
    "\n",
    "1 - Deploys a smart contract into the Iroha 1 blockchain for account creation;\n",
    "\n",
    "2 - Creates a user account into the blockchain;\n",
    "\n",
    "3 - Queries the blockchain to confirm the succesful creation of the account;\n",
    "\n",
    "4 - Deploys a smart contract into the Iroha 1 blockchain for details (attributes) setting;\n",
    "\n",
    "5 - Sets details for the user account;\n",
    "\n",
    "6 - Queries the blockchain again to confirm the succesfull details setting.\n",
    "\n",
    "User accounts and their respective attributes are randomly picked, every account succesfully created is dumped to `datasets/accounts.json` for later use and evidence collection.  "
   ]
  },
  {
   "cell_type": "markdown",
   "id": "ffbd3068-923c-4db1-b99a-c7ef1e04d322",
   "metadata": {},
   "source": [
    "### Sequence Diagram"
   ]
  },
  {
   "cell_type": "markdown",
   "id": "12b6da95-f3c7-40d1-8751-816951584eb6",
   "metadata": {},
   "source": [
    "```mermaid\n",
    "\n",
    "%%{\n",
    "  init: {\n",
    "    'theme': 'base',\n",
    "    'themeVariables': {\n",
    "      'primaryColor': '#ffffff',\n",
    "      'primaryTextColor': '#000000',\n",
    "      'primaryBorderColor': '#000000',\n",
    "      'lineColor': '#000000',\n",
    "      'secondaryColor': '#f4f4f4',\n",
    "      'secondaryTextColor': '#000000',\n",
    "      'tertiaryColor': '#d3d3d3',\n",
    "      'tertiaryTextColor': '#000000',\n",
    "      'background': '#ffffff',\n",
    "      'actorBkg': '#B4B4B4',\n",
    "      'actorTextColor': '#000000',\n",
    "      'actorBorder': '#000000',\n",
    "      'actorLineColor': '#000000',\n",
    "      'signalColor': '#000000',\n",
    "      'signalTextColor': '#000000',\n",
    "      'activationBorderColor': '#000000',\n",
    "      'activationBkgColor': '#d3d3d3',\n",
    "      'sequenceNumberColor': '#000000',\n",
    "      'noteBkgColor': '#F0F0F0',\n",
    "      'noteTextColor': '#000000',\n",
    "      'noteBorderColor': '#000000'\n",
    "    }\n",
    "  }\n",
    "}%%\n",
    "\n",
    "sequenceDiagram\n",
    "    participant Platform as \"Platform\"\n",
    "    participant Blockchain as \"Iroha 1 Blockchain\"\n",
    "\n",
    "    Note over Platform, Blockchain: Deploy smart contract for account creation\n",
    "    Platform->>Blockchain: Deploy Smart Contract\n",
    "    Blockchain-->>Platform: Smart Contract Deployed Successfully\n",
    "    \n",
    "    Note over Platform, Blockchain: Account creation\n",
    "    Platform->>Blockchain: Create Account\n",
    "    Blockchain-->>Platform: Account Created Successfully\n",
    "\n",
    "    Note over Platform, Blockchain: Queries the blockchain to confirm account creation\n",
    "    Platform->>Blockchain: Query Account Details\n",
    "    Blockchain-->>Platform: Query Response\n",
    "    \n",
    "    \n",
    "    Note over Platform, Blockchain: Deploy smart contract for details setting\n",
    "    Platform->>Blockchain: Deploy Smart Contract\n",
    "    Blockchain-->>Platform: Smart Contract Deployed Successfully\n",
    "\n",
    "    Note over Platform, Blockchain: Set user details\n",
    "    Platform->>Blockchain: Set User Details in Blockchain\n",
    "    Blockchain-->>Platform: User Details Set Successfully\n",
    "\n",
    "    Note over Platform, Blockchain: Queries the blockchain to confirm details setting\n",
    "    Platform->>Blockchain: Query Account Details\n",
    "    Blockchain-->>Platform: Query Response\n",
    "```"
   ]
  },
  {
   "cell_type": "code",
   "execution_count": 10,
   "id": "4a7fb0ca-47eb-4483-a66a-46078e7ad7a2",
   "metadata": {},
   "outputs": [],
   "source": [
    "from name_generator import left, right\n",
    "from utilities import *\n",
    "from dump_to_json import *\n",
    "from iroha_helper import *\n",
    "\n"
   ]
  },
  {
   "cell_type": "code",
   "execution_count": 11,
   "id": "5dd63bcb",
   "metadata": {},
   "outputs": [],
   "source": [
    "DOMAIN = \"test\""
   ]
  },
  {
   "cell_type": "markdown",
   "id": "2fa9cb45-0eae-48fd-8b33-d2e54ce432ca",
   "metadata": {},
   "source": [
    "1 - Deploys a smart contract into the Iroha 1 blockchain for account creation;"
   ]
  },
  {
   "cell_type": "code",
   "execution_count": 12,
   "id": "1e544b8a-5690-4ba4-b776-b8304b402d44",
   "metadata": {},
   "outputs": [
    {
     "name": "stderr",
     "output_type": "stream",
     "text": [
      "\u001b[32m2025-01-19 14:55:30.112\u001b[0m | \u001b[1mINFO    \u001b[0m | \u001b[36mintegration_helpers\u001b[0m:\u001b[36mtracer\u001b[0m:\u001b[36m34\u001b[0m - \u001b[1m\tEntering \"create_account_contract\"\u001b[0m\n",
      "\u001b[32m2025-01-19 14:55:30.131\u001b[0m | \u001b[1mINFO    \u001b[0m | \u001b[36miroha_helper\u001b[0m:\u001b[36mcreate_account_contract\u001b[0m:\u001b[36m41\u001b[0m - \u001b[1m('STATELESS_VALIDATION_SUCCESS', 1, 0)\u001b[0m\n",
      "\u001b[32m2025-01-19 14:55:30.133\u001b[0m | \u001b[1mINFO    \u001b[0m | \u001b[36miroha_helper\u001b[0m:\u001b[36mcreate_account_contract\u001b[0m:\u001b[36m41\u001b[0m - \u001b[1m('ENOUGH_SIGNATURES_COLLECTED', 9, 0)\u001b[0m\n",
      "\u001b[32m2025-01-19 14:55:33.056\u001b[0m | \u001b[1mINFO    \u001b[0m | \u001b[36miroha_helper\u001b[0m:\u001b[36mcreate_account_contract\u001b[0m:\u001b[36m41\u001b[0m - \u001b[1m('STATEFUL_VALIDATION_SUCCESS', 3, 0)\u001b[0m\n",
      "\u001b[32m2025-01-19 14:55:33.088\u001b[0m | \u001b[1mINFO    \u001b[0m | \u001b[36miroha_helper\u001b[0m:\u001b[36mcreate_account_contract\u001b[0m:\u001b[36m41\u001b[0m - \u001b[1m('COMMITTED', 5, 0)\u001b[0m\n",
      "\u001b[32m2025-01-19 14:55:33.090\u001b[0m | \u001b[1mINFO    \u001b[0m | \u001b[36mintegration_helpers\u001b[0m:\u001b[36mtracer\u001b[0m:\u001b[36m36\u001b[0m - \u001b[1m\tLeaving \"create_account_contract\"\u001b[0m\n"
     ]
    }
   ],
   "source": [
    "# - Deploy contract\n",
    "hash = create_account_contract()"
   ]
  },
  {
   "cell_type": "markdown",
   "id": "0d4d0006-0547-439a-88aa-0606da914b3a",
   "metadata": {},
   "source": [
    "2 - Creates a user account into the blockchain."
   ]
  },
  {
   "cell_type": "code",
   "execution_count": 13,
   "id": "a6968027-487f-4e2d-9be6-16af57ecf99b",
   "metadata": {},
   "outputs": [
    {
     "name": "stderr",
     "output_type": "stream",
     "text": [
      "\u001b[32m2025-01-19 14:55:33.139\u001b[0m | \u001b[1mINFO    \u001b[0m | \u001b[36m__main__\u001b[0m:\u001b[36m<module>\u001b[0m:\u001b[36m13\u001b[0m - \u001b[1mUser Role: publisher\u001b[0m\n",
      "\u001b[32m2025-01-19 14:55:33.141\u001b[0m | \u001b[1mINFO    \u001b[0m | \u001b[36m__main__\u001b[0m:\u001b[36m<module>\u001b[0m:\u001b[36m24\u001b[0m - \u001b[1mCreating account with name: sweet_kalam\u001b[0m\n",
      "\u001b[32m2025-01-19 14:55:33.142\u001b[0m | \u001b[1mINFO    \u001b[0m | \u001b[36mintegration_helpers\u001b[0m:\u001b[36mtracer\u001b[0m:\u001b[36m34\u001b[0m - \u001b[1m\tEntering \"get_engine_receipts_address\"\u001b[0m\n",
      "\u001b[32m2025-01-19 14:55:33.160\u001b[0m | \u001b[1mINFO    \u001b[0m | \u001b[36mintegration_helpers\u001b[0m:\u001b[36mtracer\u001b[0m:\u001b[36m36\u001b[0m - \u001b[1m\tLeaving \"get_engine_receipts_address\"\u001b[0m\n",
      "\u001b[32m2025-01-19 14:55:33.161\u001b[0m | \u001b[1mINFO    \u001b[0m | \u001b[36mintegration_helpers\u001b[0m:\u001b[36mtracer\u001b[0m:\u001b[36m34\u001b[0m - \u001b[1m\tEntering \"create_user_account\"\u001b[0m\n",
      "\u001b[32m2025-01-19 14:55:33.176\u001b[0m | \u001b[1mINFO    \u001b[0m | \u001b[36miroha_helper\u001b[0m:\u001b[36mcreate_user_account\u001b[0m:\u001b[36m81\u001b[0m - \u001b[1m('STATELESS_VALIDATION_SUCCESS', 1, 0)\u001b[0m\n",
      "\u001b[32m2025-01-19 14:55:33.178\u001b[0m | \u001b[1mINFO    \u001b[0m | \u001b[36miroha_helper\u001b[0m:\u001b[36mcreate_user_account\u001b[0m:\u001b[36m81\u001b[0m - \u001b[1m('ENOUGH_SIGNATURES_COLLECTED', 9, 0)\u001b[0m\n",
      "\u001b[32m2025-01-19 14:55:36.111\u001b[0m | \u001b[1mINFO    \u001b[0m | \u001b[36miroha_helper\u001b[0m:\u001b[36mcreate_user_account\u001b[0m:\u001b[36m81\u001b[0m - \u001b[1m('STATEFUL_VALIDATION_SUCCESS', 3, 0)\u001b[0m\n",
      "\u001b[32m2025-01-19 14:55:36.137\u001b[0m | \u001b[1mINFO    \u001b[0m | \u001b[36miroha_helper\u001b[0m:\u001b[36mcreate_user_account\u001b[0m:\u001b[36m81\u001b[0m - \u001b[1m('COMMITTED', 5, 0)\u001b[0m\n",
      "\u001b[32m2025-01-19 14:55:36.141\u001b[0m | \u001b[1mINFO    \u001b[0m | \u001b[36mdump_to_json\u001b[0m:\u001b[36mdump_to_json_ld\u001b[0m:\u001b[36m82\u001b[0m - \u001b[1mAppended new entry to file 'datasets/accounts.json', current total entries: 13\u001b[0m\n",
      "\u001b[32m2025-01-19 14:55:36.143\u001b[0m | \u001b[1mINFO    \u001b[0m | \u001b[36mintegration_helpers\u001b[0m:\u001b[36mtracer\u001b[0m:\u001b[36m36\u001b[0m - \u001b[1m\tLeaving \"create_user_account\"\u001b[0m\n",
      "\u001b[32m2025-01-19 14:55:36.144\u001b[0m | \u001b[1mINFO    \u001b[0m | \u001b[36mintegration_helpers\u001b[0m:\u001b[36mtracer\u001b[0m:\u001b[36m34\u001b[0m - \u001b[1m\tEntering \"get_account\"\u001b[0m\n",
      "\u001b[32m2025-01-19 14:55:36.160\u001b[0m | \u001b[1mINFO    \u001b[0m | \u001b[36miroha_helper\u001b[0m:\u001b[36mget_account\u001b[0m:\u001b[36m234\u001b[0m - \u001b[1m('STATELESS_VALIDATION_SUCCESS', 1, 0)\u001b[0m\n",
      "\u001b[32m2025-01-19 14:55:36.162\u001b[0m | \u001b[1mINFO    \u001b[0m | \u001b[36miroha_helper\u001b[0m:\u001b[36mget_account\u001b[0m:\u001b[36m234\u001b[0m - \u001b[1m('ENOUGH_SIGNATURES_COLLECTED', 9, 0)\u001b[0m\n",
      "\u001b[32m2025-01-19 14:55:39.161\u001b[0m | \u001b[1mINFO    \u001b[0m | \u001b[36miroha_helper\u001b[0m:\u001b[36mget_account\u001b[0m:\u001b[36m234\u001b[0m - \u001b[1m('STATEFUL_VALIDATION_SUCCESS', 3, 0)\u001b[0m\n",
      "\u001b[32m2025-01-19 14:55:39.187\u001b[0m | \u001b[1mINFO    \u001b[0m | \u001b[36miroha_helper\u001b[0m:\u001b[36mget_account\u001b[0m:\u001b[36m234\u001b[0m - \u001b[1m('COMMITTED', 5, 0)\u001b[0m\n",
      "\u001b[32m2025-01-19 14:55:39.189\u001b[0m | \u001b[1mINFO    \u001b[0m | \u001b[36mintegration_helpers\u001b[0m:\u001b[36mtracer\u001b[0m:\u001b[36m36\u001b[0m - \u001b[1m\tLeaving \"get_account\"\u001b[0m\n",
      "\u001b[32m2025-01-19 14:55:39.191\u001b[0m | \u001b[1mINFO    \u001b[0m | \u001b[36mintegration_helpers\u001b[0m:\u001b[36mtracer\u001b[0m:\u001b[36m34\u001b[0m - \u001b[1m\tEntering \"get_engine_receipts_result\"\u001b[0m\n",
      "\u001b[32m2025-01-19 14:55:39.210\u001b[0m | \u001b[1mINFO    \u001b[0m | \u001b[36mintegration_helpers\u001b[0m:\u001b[36mget_engine_receipts_result\u001b[0m:\u001b[36m92\u001b[0m - \u001b[1m\u0000\u0000\u0000\u0000\u0000\u0000\u0000\u0000\u0000\u0000\u0000\u0000\u0000\u0000\u0000\u0000\u0000\u0000\u0000\u0000\u0000\u0000\u0000\u0000\u0000\u0000\u0000\u0000\u0000\u0000\u0000 \u0000\u0000\u0000\u0000\u0000\u0000\u0000\u0000\u0000\u0000\u0000\u0000\u0000\u0000\u0000\u0000\u0000\u0000\u0000\u0000\u0000\u0000\u0000\u0000\u0000\u0000\u0000\u0000\u0000\u0000\u0000\u0000\u0000\u0000\u0000\u0000\u0000\u0000\u0000\u0000\u0000\u0000\u0000\u0000\u0000\u0000\u0000\u0000\u0000\u0000\u0000\u0000\u0000\u0000\u0000\u0000\u0000\u0000\u0000\u0000\u0000\u0000 \u0000\u0000\u0000\u0000\u0000\u0000\u0000\u0000\u0000\u0000\u0000\u0000\u0000\u0000\u0000\u0000\u0000\u0000\u0000\u0000\u0000\u0000\u0000\u0000\u0000\u0000\u0000\u0000\u0000\u0000\u0000P{\"account_id\":\"sweet_kalam@test\",\"domain_id\":\"test\",\"quorum\":1,\"json_data\":\"{}\"}\u0000\u0000\u0000\u0000\u0000\u0000\u0000\u0000\u0000\u0000\u0000\u0000\u0000\u0000\u0000\u0000\u001b[0m\n",
      "\u001b[32m2025-01-19 14:55:39.211\u001b[0m | \u001b[1mINFO    \u001b[0m | \u001b[36mintegration_helpers\u001b[0m:\u001b[36mtracer\u001b[0m:\u001b[36m36\u001b[0m - \u001b[1m\tLeaving \"get_engine_receipts_result\"\u001b[0m\n"
     ]
    },
    {
     "name": "stderr",
     "output_type": "stream",
     "text": [
      "\u001b[32m2025-01-19 10:31:37.981\u001b[0m | \u001b[1mINFO    \u001b[0m | \u001b[36miroha_helper\u001b[0m:\u001b[36mcreate_user_account\u001b[0m:\u001b[36m81\u001b[0m - \u001b[1m('STATELESS_VALIDATION_SUCCESS', 1, 0)\u001b[0m\n",
      "\u001b[32m2025-01-19 10:31:37.983\u001b[0m | \u001b[1mINFO    \u001b[0m | \u001b[36miroha_helper\u001b[0m:\u001b[36mcreate_user_account\u001b[0m:\u001b[36m81\u001b[0m - \u001b[1m('ENOUGH_SIGNATURES_COLLECTED', 9, 0)\u001b[0m\n",
      "\u001b[32m2025-01-19 10:31:40.906\u001b[0m | \u001b[1mINFO    \u001b[0m | \u001b[36miroha_helper\u001b[0m:\u001b[36mcreate_user_account\u001b[0m:\u001b[36m81\u001b[0m - \u001b[1m('STATEFUL_VALIDATION_SUCCESS', 3, 0)\u001b[0m\n",
      "\u001b[32m2025-01-19 10:31:40.933\u001b[0m | \u001b[1mINFO    \u001b[0m | \u001b[36miroha_helper\u001b[0m:\u001b[36mcreate_user_account\u001b[0m:\u001b[36m81\u001b[0m - \u001b[1m('COMMITTED', 5, 0)\u001b[0m\n",
      "\u001b[32m2025-01-19 10:31:40.938\u001b[0m | \u001b[1mINFO    \u001b[0m | \u001b[36mdump_to_json\u001b[0m:\u001b[36mdump_to_json_ld\u001b[0m:\u001b[36m82\u001b[0m - \u001b[1mAppended new entry to file 'datasets/accounts.json', current total entries: 10\u001b[0m\n",
      "\u001b[32m2025-01-19 10:31:40.939\u001b[0m | \u001b[1mINFO    \u001b[0m | \u001b[36mintegration_helpers\u001b[0m:\u001b[36mtracer\u001b[0m:\u001b[36m36\u001b[0m - \u001b[1m\tLeaving \"create_user_account\"\u001b[0m\n",
      "\u001b[32m2025-01-19 10:31:40.940\u001b[0m | \u001b[1mINFO    \u001b[0m | \u001b[36mintegration_helpers\u001b[0m:\u001b[36mtracer\u001b[0m:\u001b[36m34\u001b[0m - \u001b[1m\tEntering \"get_account\"\u001b[0m\n",
      "\u001b[32m2025-01-19 10:31:40.959\u001b[0m | \u001b[1mINFO    \u001b[0m | \u001b[36miroha_helper\u001b[0m:\u001b[36mget_account\u001b[0m:\u001b[36m234\u001b[0m - \u001b[1m('STATELESS_VALIDATION_SUCCESS', 1, 0)\u001b[0m\n",
      "\u001b[32m2025-01-19 10:31:40.961\u001b[0m | \u001b[1mINFO    \u001b[0m | \u001b[36miroha_helper\u001b[0m:\u001b[36mget_account\u001b[0m:\u001b[36m234\u001b[0m - \u001b[1m('ENOUGH_SIGNATURES_COLLECTED', 9, 0)\u001b[0m\n",
      "\u001b[32m2025-01-19 10:31:43.960\u001b[0m | \u001b[1mINFO    \u001b[0m | \u001b[36miroha_helper\u001b[0m:\u001b[36mget_account\u001b[0m:\u001b[36m234\u001b[0m - \u001b[1m('STATEFUL_VALIDATION_SUCCESS', 3, 0)\u001b[0m\n",
      "\u001b[32m2025-01-19 10:31:43.990\u001b[0m | \u001b[1mINFO    \u001b[0m | \u001b[36miroha_helper\u001b[0m:\u001b[36mget_account\u001b[0m:\u001b[36m234\u001b[0m - \u001b[1m('COMMITTED', 5, 0)\u001b[0m\n",
      "\u001b[32m2025-01-19 10:31:43.992\u001b[0m | \u001b[1mINFO    \u001b[0m | \u001b[36mintegration_helpers\u001b[0m:\u001b[36mtracer\u001b[0m:\u001b[36m36\u001b[0m - \u001b[1m\tLeaving \"get_account\"\u001b[0m\n",
      "\u001b[32m2025-01-19 10:31:43.994\u001b[0m | \u001b[1mINFO    \u001b[0m | \u001b[36mintegration_helpers\u001b[0m:\u001b[36mtracer\u001b[0m:\u001b[36m34\u001b[0m - \u001b[1m\tEntering \"get_engine_receipts_result\"\u001b[0m\n",
      "\u001b[32m2025-01-19 10:31:44.015\u001b[0m | \u001b[1mINFO    \u001b[0m | \u001b[36mintegration_helpers\u001b[0m:\u001b[36mget_engine_receipts_result\u001b[0m:\u001b[36m92\u001b[0m - \u001b[1m\u0000\u0000\u0000\u0000\u0000\u0000\u0000\u0000\u0000\u0000\u0000\u0000\u0000\u0000\u0000\u0000\u0000\u0000\u0000\u0000\u0000\u0000\u0000\u0000\u0000\u0000\u0000\u0000\u0000\u0000\u0000 \u0000\u0000\u0000\u0000\u0000\u0000\u0000\u0000\u0000\u0000\u0000\u0000\u0000\u0000\u0000\u0000\u0000\u0000\u0000\u0000\u0000\u0000\u0000\u0000\u0000\u0000\u0000\u0000\u0000\u0000\u0000\u0000\u0000\u0000\u0000\u0000\u0000\u0000\u0000\u0000\u0000\u0000\u0000\u0000\u0000\u0000\u0000\u0000\u0000\u0000\u0000\u0000\u0000\u0000\u0000\u0000\u0000\u0000\u0000\u0000\u0000\u0000 \u0000\u0000\u0000\u0000\u0000\u0000\u0000\u0000\u0000\u0000\u0000\u0000\u0000\u0000\u0000\u0000\u0000\u0000\u0000\u0000\u0000\u0000\u0000\u0000\u0000\u0000\u0000\u0000\u0000\u0000\u0000R{\"account_id\":\"nifty_goodall@test\",\"domain_id\":\"test\",\"quorum\":1,\"json_data\":\"{}\"}\u0000\u0000\u0000\u0000\u0000\u0000\u0000\u0000\u0000\u0000\u0000\u0000\u0000\u0000\u001b[0m\n",
      "\u001b[32m2025-01-19 10:31:44.016\u001b[0m | \u001b[1mINFO    \u001b[0m | \u001b[36mintegration_helpers\u001b[0m:\u001b[36mtracer\u001b[0m:\u001b[36m36\u001b[0m - \u001b[1m\tLeaving \"get_engine_receipts_result\"\u001b[0m\n"
     ]
    }
   ],
   "source": [
    "user_private_key = IrohaCrypto.private_key()\n",
    "user_public_key = IrohaCrypto.derive_public_key(user_private_key).decode(\"utf-8\")\n",
    "\n",
    "# - Random generated synthetic user data \n",
    "user_account_left = random.choice(left)\n",
    "user_account_right = random.choice(right)\n",
    "user_account_short_id = f\"{user_account_left}_{user_account_right}\"\n",
    "user_account_full_name = ((f\"{user_account_left}\").capitalize())+\" \"+((f\"{user_account_right}\").capitalize())\n",
    "user_account_email = f\"{user_account_left}_{user_account_right}\"+\"@email.com\"\n",
    "user_account_institution = print_random_from_second_column(\"datasets/world-universities.csv\")\n",
    "user_account_orcid = generate_orcid()\n",
    "user_role = set_random_role()\n",
    "logger.info(f\"User Role: {user_role}\")\n",
    "\n",
    "user_account = UserAccount(\n",
    "    account_id=f\"{user_account_short_id}@{DOMAIN}\",\n",
    "    full_name=user_account_full_name,\n",
    "    email=user_account_email,\n",
    "    institution=user_account_institution,\n",
    "    orcid=user_account_orcid,\n",
    "    role=user_role,\n",
    "    public_key=user_public_key,\n",
    ")\n",
    "logger.info(f\"Creating account with name: {user_account_short_id}\")\n",
    "\n",
    "# - Create account\n",
    "address = integration_helpers.get_engine_receipts_address(hash)\n",
    "create_user_account(address, user_account_short_id, DOMAIN, user_public_key, user_account)\n",
    "\n",
    "# - Get account info\n",
    "hash = get_account(address, user_account_short_id, DOMAIN)\n",
    "address = integration_helpers.get_engine_receipts_result(hash)\n"
   ]
  },
  {
   "cell_type": "markdown",
   "id": "bd8efb2f-5187-4bb6-8da5-7651cacc62ba",
   "metadata": {},
   "source": [
    "3 - Queries the blockchain to confirm the succesful creation of the account."
   ]
  },
  {
   "cell_type": "code",
   "execution_count": 14,
   "id": "c4fa0344-f2e2-4dd3-90dc-e011d064bcbd",
   "metadata": {},
   "outputs": [
    {
     "name": "stderr",
     "output_type": "stream",
     "text": [
      "\u001b[32m2025-01-19 14:55:39.236\u001b[0m | \u001b[1mINFO    \u001b[0m | \u001b[36m__main__\u001b[0m:\u001b[36m<module>\u001b[0m:\u001b[36m5\u001b[0m - \u001b[1mUser Account id = sweet_kalam@test, {}\u001b[0m\n"
     ]
    }
   ],
   "source": [
    "#Query - GetAccountDetail\n",
    "\n",
    "details = get_account_detail(f\"{user_account_short_id}@{DOMAIN}\")\n",
    "\n",
    "logger.info(f'User Account id = {user_account_short_id}@{DOMAIN}, {details}')"
   ]
  },
  {
   "cell_type": "markdown",
   "id": "62d54200-d179-4d6e-9461-b27b17b4b308",
   "metadata": {},
   "source": [
    "4 - Deploys a smart contract into the Iroha 1 blockchain for details (attributes) setting."
   ]
  },
  {
   "cell_type": "code",
   "execution_count": 15,
   "id": "b625e19f-baa7-4e78-afed-902850e54c6a",
   "metadata": {},
   "outputs": [
    {
     "name": "stderr",
     "output_type": "stream",
     "text": [
      "\u001b[32m2025-01-19 14:55:39.245\u001b[0m | \u001b[1mINFO    \u001b[0m | \u001b[36mintegration_helpers\u001b[0m:\u001b[36mtracer\u001b[0m:\u001b[36m34\u001b[0m - \u001b[1m\tEntering \"create_detail_contract\"\u001b[0m\n",
      "\u001b[32m2025-01-19 14:55:39.262\u001b[0m | \u001b[1mINFO    \u001b[0m | \u001b[36miroha_helper\u001b[0m:\u001b[36mcreate_detail_contract\u001b[0m:\u001b[36m55\u001b[0m - \u001b[1m('STATELESS_VALIDATION_SUCCESS', 1, 0)\u001b[0m\n",
      "\u001b[32m2025-01-19 14:55:39.266\u001b[0m | \u001b[1mINFO    \u001b[0m | \u001b[36miroha_helper\u001b[0m:\u001b[36mcreate_detail_contract\u001b[0m:\u001b[36m55\u001b[0m - \u001b[1m('ENOUGH_SIGNATURES_COLLECTED', 9, 0)\u001b[0m\n",
      "\u001b[32m2025-01-19 14:55:42.215\u001b[0m | \u001b[1mINFO    \u001b[0m | \u001b[36miroha_helper\u001b[0m:\u001b[36mcreate_detail_contract\u001b[0m:\u001b[36m55\u001b[0m - \u001b[1m('STATEFUL_VALIDATION_SUCCESS', 3, 0)\u001b[0m\n",
      "\u001b[32m2025-01-19 14:55:42.248\u001b[0m | \u001b[1mINFO    \u001b[0m | \u001b[36miroha_helper\u001b[0m:\u001b[36mcreate_detail_contract\u001b[0m:\u001b[36m55\u001b[0m - \u001b[1m('COMMITTED', 5, 0)\u001b[0m\n",
      "\u001b[32m2025-01-19 14:55:42.250\u001b[0m | \u001b[1mINFO    \u001b[0m | \u001b[36mintegration_helpers\u001b[0m:\u001b[36mtracer\u001b[0m:\u001b[36m36\u001b[0m - \u001b[1m\tLeaving \"create_detail_contract\"\u001b[0m\n",
      "\u001b[32m2025-01-19 14:55:42.251\u001b[0m | \u001b[1mINFO    \u001b[0m | \u001b[36mintegration_helpers\u001b[0m:\u001b[36mtracer\u001b[0m:\u001b[36m34\u001b[0m - \u001b[1m\tEntering \"get_engine_receipts_address\"\u001b[0m\n",
      "\u001b[32m2025-01-19 14:55:42.270\u001b[0m | \u001b[1mINFO    \u001b[0m | \u001b[36mintegration_helpers\u001b[0m:\u001b[36mtracer\u001b[0m:\u001b[36m36\u001b[0m - \u001b[1m\tLeaving \"get_engine_receipts_address\"\u001b[0m\n",
      "\u001b[32m2025-01-19 14:55:42.271\u001b[0m | \u001b[1mINFO    \u001b[0m | \u001b[36mintegration_helpers\u001b[0m:\u001b[36mtracer\u001b[0m:\u001b[36m34\u001b[0m - \u001b[1m\tEntering \"get_engine_receipts_result\"\u001b[0m\n",
      "\u001b[32m2025-01-19 14:55:42.289\u001b[0m | \u001b[1mINFO    \u001b[0m | \u001b[36mintegration_helpers\u001b[0m:\u001b[36mget_engine_receipts_result\u001b[0m:\u001b[36m92\u001b[0m - \u001b[1m\u001b[0m\n",
      "\u001b[32m2025-01-19 14:55:42.290\u001b[0m | \u001b[1mINFO    \u001b[0m | \u001b[36mintegration_helpers\u001b[0m:\u001b[36mtracer\u001b[0m:\u001b[36m36\u001b[0m - \u001b[1m\tLeaving \"get_engine_receipts_result\"\u001b[0m\n"
     ]
    }
   ],
   "source": [
    "# - Deploys the contract\n",
    "hash = create_detail_contract()\n",
    "address = integration_helpers.get_engine_receipts_address(hash)\n",
    "integration_helpers.get_engine_receipts_result(hash)"
   ]
  },
  {
   "cell_type": "markdown",
   "id": "32f29b64-b0fd-4583-952b-ad9a606f4b16",
   "metadata": {},
   "source": [
    "5 - Sets details for the user account:\n",
    "\n",
    "- Full Name\n",
    "- Email\n",
    "- Institution\n",
    "- ORCID\n",
    "- Public key"
   ]
  },
  {
   "cell_type": "code",
   "execution_count": 16,
   "id": "9015a0e4-0166-4dad-863d-897704235fc7",
   "metadata": {},
   "outputs": [
    {
     "name": "stderr",
     "output_type": "stream",
     "text": [
      "\u001b[32m2025-01-19 14:55:42.300\u001b[0m | \u001b[1mINFO    \u001b[0m | \u001b[36miroha_helper\u001b[0m:\u001b[36mprocess_account\u001b[0m:\u001b[36m339\u001b[0m - \u001b[1m{'@type': 'foaf:Person', 'foaf:name': 'Sweet Kalam', 'foaf:mbox': 'sweet_kalam@email.com', 'foaf:organization': {'@type': 'foaf:Organization', 'foaf:name': 'Lanzhou University'}, 'schema:identifier': {'@type': 'PropertyValue', 'propertyID': 'ORCID', 'value': '7860-2831-4667-X'}, 'foaf:holdsAccount': {'schema:identifier': 'sweet_kalam@test', 'schema:roleName': 'publisher', 'schema:publicKey': '162c255d58607b80d2fc534513b561109afc44a7a778dfe8f12949844cb501a5'}}\u001b[0m\n",
      "\u001b[32m2025-01-19 14:55:42.333\u001b[0m | \u001b[1mINFO    \u001b[0m | \u001b[36miroha_helper\u001b[0m:\u001b[36mprocess_account\u001b[0m:\u001b[36m343\u001b[0m - \u001b[1muser_json_ld_cid :, QmQLSXbxcnWnabMCopD14aa7UmbNv39NbR86Ee3nNmnkhL\u001b[0m\n",
      "\u001b[32m2025-01-19 14:55:42.334\u001b[0m | \u001b[1mINFO    \u001b[0m | \u001b[36miroha_helper\u001b[0m:\u001b[36mtracer\u001b[0m:\u001b[36m265\u001b[0m - \u001b[1m\tEntering \"set_account_detail\"\u001b[0m\n",
      "\u001b[32m2025-01-19 14:55:42.349\u001b[0m | \u001b[1mINFO    \u001b[0m | \u001b[36miroha_helper\u001b[0m:\u001b[36mset_account_detail\u001b[0m:\u001b[36m317\u001b[0m - \u001b[1mNone\u001b[0m\n",
      "\u001b[32m2025-01-19 14:55:42.352\u001b[0m | \u001b[1mINFO    \u001b[0m | \u001b[36miroha_helper\u001b[0m:\u001b[36mset_account_detail\u001b[0m:\u001b[36m319\u001b[0m - \u001b[1m('ENOUGH_SIGNATURES_COLLECTED', 9, 0)\u001b[0m\n",
      "\u001b[32m2025-01-19 14:55:45.265\u001b[0m | \u001b[1mINFO    \u001b[0m | \u001b[36miroha_helper\u001b[0m:\u001b[36mset_account_detail\u001b[0m:\u001b[36m319\u001b[0m - \u001b[1m('STATEFUL_VALIDATION_SUCCESS', 3, 0)\u001b[0m\n",
      "\u001b[32m2025-01-19 14:55:45.288\u001b[0m | \u001b[1mINFO    \u001b[0m | \u001b[36miroha_helper\u001b[0m:\u001b[36mset_account_detail\u001b[0m:\u001b[36m319\u001b[0m - \u001b[1m('COMMITTED', 5, 0)\u001b[0m\n",
      "\u001b[32m2025-01-19 14:55:45.290\u001b[0m | \u001b[1mINFO    \u001b[0m | \u001b[36miroha_helper\u001b[0m:\u001b[36mtracer\u001b[0m:\u001b[36m267\u001b[0m - \u001b[1m\tLeaving \"set_account_detail\"\u001b[0m\n",
      "\u001b[32m2025-01-19 14:55:45.291\u001b[0m | \u001b[1mINFO    \u001b[0m | \u001b[36miroha_helper\u001b[0m:\u001b[36mprocess_account\u001b[0m:\u001b[36m353\u001b[0m - \u001b[1mProcessing account: sweet_kalam@test\u001b[0m\n"
     ]
    }
   ],
   "source": [
    "process_account(address, f\"{user_account_short_id}@{DOMAIN}\")\n"
   ]
  },
  {
   "cell_type": "markdown",
   "id": "fb6a9a37-7201-407b-b643-1f0acf0894b0",
   "metadata": {},
   "source": [
    "6 - Queries the blockchain again to confirm the succesfull details setting."
   ]
  },
  {
   "cell_type": "code",
   "execution_count": 17,
   "id": "287dba19-d1af-4417-9eab-609a8ffdcd14",
   "metadata": {},
   "outputs": [
    {
     "name": "stderr",
     "output_type": "stream",
     "text": [
      "\u001b[32m2025-01-19 14:55:45.320\u001b[0m | \u001b[1mINFO    \u001b[0m | \u001b[36m__main__\u001b[0m:\u001b[36m<module>\u001b[0m:\u001b[36m5\u001b[0m - \u001b[1mUser Account id = sweet_kalam@test, { \"admin@test\" : { \"user_json_ld_cid\" : \"QmQLSXbxcnWnabMCopD14aa7UmbNv39NbR86Ee3nNmnkhL\" } }\u001b[0m\n"
     ]
    }
   ],
   "source": [
    "#Query - GetAccountDetail\n",
    "\n",
    "details = get_account_detail(f\"{user_account_short_id}@{DOMAIN}\")\n",
    "\n",
    "logger.info(f'User Account id = {user_account_short_id}@{DOMAIN}, {details}')"
   ]
  },
  {
   "cell_type": "markdown",
   "id": "ad702ee6-5ccb-4613-b300-52687622950d",
   "metadata": {},
   "source": [
    "7 - Retrieves User Metadata (JSON-LD formatted) from IPFS"
   ]
  },
  {
   "cell_type": "code",
   "execution_count": 18,
   "id": "5e2c8878-b164-4681-a428-56068fc6d248",
   "metadata": {},
   "outputs": [
    {
     "name": "stderr",
     "output_type": "stream",
     "text": [
      "\u001b[32m2025-01-19 14:55:45.330\u001b[0m | \u001b[1mINFO    \u001b[0m | \u001b[36m__main__\u001b[0m:\u001b[36m<module>\u001b[0m:\u001b[36m6\u001b[0m - \u001b[1mUser Metadata CID: QmQLSXbxcnWnabMCopD14aa7UmbNv39NbR86Ee3nNmnkhL\u001b[0m\n",
      "\u001b[32m2025-01-19 14:55:45.339\u001b[0m | \u001b[1mINFO    \u001b[0m | \u001b[36m__main__\u001b[0m:\u001b[36m<module>\u001b[0m:\u001b[36m9\u001b[0m - \u001b[1mUser Metadata: {'@type': 'foaf:Person', 'foaf:holdsAccount': {'schema:identifier': 'sweet_kalam@test', 'schema:publicKey': '162c255d58607b80d2fc534513b561109afc44a7a778dfe8f12949844cb501a5', 'schema:roleName': 'publisher'}, 'foaf:mbox': 'sweet_kalam@email.com', 'foaf:name': 'Sweet Kalam', 'foaf:organization': {'@type': 'foaf:Organization', 'foaf:name': 'Lanzhou University'}, 'schema:identifier': {'@type': 'PropertyValue', 'propertyID': 'ORCID', 'value': '7860-2831-4667-X'}}\u001b[0m\n"
     ]
    }
   ],
   "source": [
    "# Convert the JSON string to a Python dictionary\n",
    "details_dict = json.loads(details)\n",
    "\n",
    "# Now you can access the specific key like this\n",
    "user_metadata_cid = details_dict[\"admin@test\"][\"user_json_ld_cid\"]\n",
    "logger.info(f\"User Metadata CID: {user_metadata_cid}\")\n",
    "\n",
    "user_metadata = download_json_from_ipfs(user_metadata_cid)\n",
    "logger.info(f\"User Metadata: {user_metadata}\")"
   ]
  }
 ],
 "metadata": {
  "kernelspec": {
   "display_name": "Python 3 (ipykernel)",
   "language": "python",
   "name": "python3"
  },
  "language_info": {
   "codemirror_mode": {
    "name": "ipython",
    "version": 3
   },
   "file_extension": ".py",
   "mimetype": "text/x-python",
   "name": "python",
   "nbconvert_exporter": "python",
   "pygments_lexer": "ipython3",
   "version": "3.9.21"
  }
 },
 "nbformat": 4,
 "nbformat_minor": 5
}
