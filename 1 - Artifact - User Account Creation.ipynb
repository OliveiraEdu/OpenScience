{
 "cells": [
  {
   "cell_type": "markdown",
   "id": "f43de376-bb3c-4f4a-b6c3-eeddbd4cf2ae",
   "metadata": {},
   "source": [
    "**IMPORTANT** \n",
    "\n",
    "- For requirements and initial setup go to https://github.com/OliveiraEdu/OpenScience/Readme.md;\n",
    "- To execute the notebook run all cells."
   ]
  },
  {
   "attachments": {},
   "cell_type": "markdown",
   "id": "335e6bc9-be10-4431-ba0d-fa83ba7b40fc",
   "metadata": {},
   "source": [
    "# Open Science Platform Notebook 1 -User Account Creation"
   ]
  },
  {
   "cell_type": "markdown",
   "id": "c2b074d9-3edc-410d-9972-222d9cbb551f",
   "metadata": {},
   "source": [
    "## Activities\n",
    "\n",
    "1 - Deploys a smart contract into the Iroha 1 blockchain for account creation;\n",
    "\n",
    "2 - Creates a user account into the blockchain;\n",
    "\n",
    "3 - Queries the blockchain to confirm the succesful creation of the account;\n",
    "\n",
    "4 - Deploys a smart contract into the Iroha 1 blockchain for details (attributes) setting;\n",
    "\n",
    "5 - Sets details for the user account;\n",
    "\n",
    "6 - Queries the blockchain again to confirm the succesfull details setting.\n",
    "\n",
    "User accounts and their respective attributes are randomly picked, every account succesfully created is dumped to `datasets/accounts.json` for later use and evidence collection.  "
   ]
  },
  {
   "cell_type": "markdown",
   "id": "ffbd3068-923c-4db1-b99a-c7ef1e04d322",
   "metadata": {},
   "source": [
    "### Sequence Diagram"
   ]
  },
  {
   "cell_type": "markdown",
   "id": "12b6da95-f3c7-40d1-8751-816951584eb6",
   "metadata": {},
   "source": [
    "```mermaid\n",
    "\n",
    "%%{\n",
    "  init: {\n",
    "    'theme': 'base',\n",
    "    'themeVariables': {\n",
    "      'primaryColor': '#ffffff',\n",
    "      'primaryTextColor': '#000000',\n",
    "      'primaryBorderColor': '#000000',\n",
    "      'lineColor': '#000000',\n",
    "      'secondaryColor': '#f4f4f4',\n",
    "      'secondaryTextColor': '#000000',\n",
    "      'tertiaryColor': '#d3d3d3',\n",
    "      'tertiaryTextColor': '#000000',\n",
    "      'background': '#ffffff',\n",
    "      'actorBkg': '#B4B4B4',\n",
    "      'actorTextColor': '#000000',\n",
    "      'actorBorder': '#000000',\n",
    "      'actorLineColor': '#000000',\n",
    "      'signalColor': '#000000',\n",
    "      'signalTextColor': '#000000',\n",
    "      'activationBorderColor': '#000000',\n",
    "      'activationBkgColor': '#d3d3d3',\n",
    "      'sequenceNumberColor': '#000000',\n",
    "      'noteBkgColor': '#F0F0F0',\n",
    "      'noteTextColor': '#000000',\n",
    "      'noteBorderColor': '#000000'\n",
    "    }\n",
    "  }\n",
    "}%%\n",
    "\n",
    "sequenceDiagram\n",
    "    participant Platform as \"Platform\"\n",
    "    participant Blockchain as \"Iroha 1 Blockchain\"\n",
    "\n",
    "    Note over Platform, Blockchain: Deploy smart contract for account creation\n",
    "    Platform->>Blockchain: Deploy Smart Contract\n",
    "    Blockchain-->>Platform: Smart Contract Deployed Successfully\n",
    "    \n",
    "    Note over Platform, Blockchain: Account creation\n",
    "    Platform->>Blockchain: Create Account\n",
    "    Blockchain-->>Platform: Account Created Successfully\n",
    "\n",
    "    Note over Platform, Blockchain: Queries the blockchain to confirm account creation\n",
    "    Platform->>Blockchain: Query Account Details\n",
    "    Blockchain-->>Platform: Query Response\n",
    "    \n",
    "    \n",
    "    Note over Platform, Blockchain: Deploy smart contract for details setting\n",
    "    Platform->>Blockchain: Deploy Smart Contract\n",
    "    Blockchain-->>Platform: Smart Contract Deployed Successfully\n",
    "\n",
    "    Note over Platform, Blockchain: Set user details\n",
    "    Platform->>Blockchain: Set User Details in Blockchain\n",
    "    Blockchain-->>Platform: User Details Set Successfully\n",
    "\n",
    "    Note over Platform, Blockchain: Queries the blockchain to confirm details setting\n",
    "    Platform->>Blockchain: Query Account Details\n",
    "    Blockchain-->>Platform: Query Response\n",
    "```"
   ]
  },
  {
   "cell_type": "code",
   "execution_count": 11,
   "id": "4a7fb0ca-47eb-4483-a66a-46078e7ad7a2",
   "metadata": {},
   "outputs": [],
   "source": [
    "from name_generator import left, right\n",
    "from utilities import *\n",
    "from dump_to_json import *\n",
    "from iroha_helper import *\n",
    "from new_helper import extract_user_json_ld_cid_from_data, process_raw_data, load_variable\n",
    "from loguru import logger"
   ]
  },
  {
   "cell_type": "code",
   "execution_count": 12,
   "id": "5dd63bcb",
   "metadata": {},
   "outputs": [],
   "source": [
    "DOMAIN = \"test\""
   ]
  },
  {
   "cell_type": "markdown",
   "id": "2fa9cb45-0eae-48fd-8b33-d2e54ce432ca",
   "metadata": {},
   "source": [
    "1 - Loads the smart contract hash for account creation into the Iroha 1 blockchain."
   ]
  },
  {
   "cell_type": "code",
   "execution_count": 13,
   "id": "8a792157-7834-4fad-8a63-dd2a8835a0a4",
   "metadata": {},
   "outputs": [
    {
     "name": "stderr",
     "output_type": "stream",
     "text": [
      "2025-01-24 00:14:39,059 - INFO - Variable 'Create Account Hash' successfully loaded from temp/Create Account Hash.json\n",
      "\u001b[32m2025-01-24 00:14:39.060\u001b[0m | \u001b[1mINFO    \u001b[0m | \u001b[36m__main__\u001b[0m:\u001b[36m<module>\u001b[0m:\u001b[36m3\u001b[0m - \u001b[1mb'764e13fd1afdd09c0d3ec9ca35f1d529c0df4c4c2b37676f8d84f0171ea069bc'\u001b[0m\n"
     ]
    }
   ],
   "source": [
    "# Loading the variable from JSON\n",
    "create_account_contract_hash = load_variable(\"Create Account Hash\")\n",
    "logger.info(create_account_contract_hash)\n"
   ]
  },
  {
   "cell_type": "markdown",
   "id": "0d4d0006-0547-439a-88aa-0606da914b3a",
   "metadata": {},
   "source": [
    "2 - Creates a user account into the blockchain."
   ]
  },
  {
   "cell_type": "code",
   "execution_count": 14,
   "id": "aebf801c-e827-4b30-a9ad-3db2207a793d",
   "metadata": {},
   "outputs": [
    {
     "name": "stderr",
     "output_type": "stream",
     "text": [
      "\u001b[32m2025-01-24 00:14:39.108\u001b[0m | \u001b[1mINFO    \u001b[0m | \u001b[36m__main__\u001b[0m:\u001b[36m<module>\u001b[0m:\u001b[36m13\u001b[0m - \u001b[1mUser Role: author\u001b[0m\n",
      "\u001b[32m2025-01-24 00:14:39.109\u001b[0m | \u001b[1mINFO    \u001b[0m | \u001b[36m__main__\u001b[0m:\u001b[36m<module>\u001b[0m:\u001b[36m24\u001b[0m - \u001b[1mCreating account with name: stoic_pare\u001b[0m\n",
      "\u001b[32m2025-01-24 00:14:39.111\u001b[0m | \u001b[34m\u001b[1mDEBUG   \u001b[0m | \u001b[36mintegration_helpers\u001b[0m:\u001b[36mtracer\u001b[0m:\u001b[36m35\u001b[0m - \u001b[34m\u001b[1m\tEntering \"get_engine_receipts_address\"\u001b[0m\n",
      "\u001b[32m2025-01-24 00:14:39.128\u001b[0m | \u001b[1mINFO    \u001b[0m | \u001b[36mintegration_helpers\u001b[0m:\u001b[36mget_engine_receipts_address\u001b[0m:\u001b[36m96\u001b[0m - \u001b[1mRetrieved contract address for transaction hash: b'764e13fd1afdd09c0d3ec9ca35f1d529c0df4c4c2b37676f8d84f0171ea069bc'\u001b[0m\n",
      "\u001b[32m2025-01-24 00:14:39.129\u001b[0m | \u001b[34m\u001b[1mDEBUG   \u001b[0m | \u001b[36mintegration_helpers\u001b[0m:\u001b[36mget_engine_receipts_address\u001b[0m:\u001b[36m97\u001b[0m - \u001b[34m\u001b[1mContract address: 91ABF7E328C683B7454BCA7044F51D6925A88708\u001b[0m\n",
      "\u001b[32m2025-01-24 00:14:39.130\u001b[0m | \u001b[34m\u001b[1mDEBUG   \u001b[0m | \u001b[36mintegration_helpers\u001b[0m:\u001b[36mtracer\u001b[0m:\u001b[36m37\u001b[0m - \u001b[34m\u001b[1m\tLeaving \"get_engine_receipts_address\"\u001b[0m\n",
      "\u001b[32m2025-01-24 00:14:39.132\u001b[0m | \u001b[34m\u001b[1mDEBUG   \u001b[0m | \u001b[36mintegration_helpers\u001b[0m:\u001b[36mtracer\u001b[0m:\u001b[36m35\u001b[0m - \u001b[34m\u001b[1m\tEntering \"create_user_account\"\u001b[0m\n",
      "2025-01-24 00:14:39,148 - INFO - ('STATELESS_VALIDATION_SUCCESS', 1, 0)\n",
      "2025-01-24 00:14:39,149 - INFO - ('ENOUGH_SIGNATURES_COLLECTED', 9, 0)\n",
      "2025-01-24 00:14:40,203 - INFO - ('STATEFUL_VALIDATION_SUCCESS', 3, 0)\n",
      "2025-01-24 00:14:40,235 - INFO - ('COMMITTED', 5, 0)\n",
      "\u001b[32m2025-01-24 00:14:40.246\u001b[0m | \u001b[1mINFO    \u001b[0m | \u001b[36mdump_to_json\u001b[0m:\u001b[36mdump_to_json_ld\u001b[0m:\u001b[36m82\u001b[0m - \u001b[1mAppended new entry to file 'datasets/accounts.json', current total entries: 69\u001b[0m\n",
      "\u001b[32m2025-01-24 00:14:40.248\u001b[0m | \u001b[34m\u001b[1mDEBUG   \u001b[0m | \u001b[36mintegration_helpers\u001b[0m:\u001b[36mtracer\u001b[0m:\u001b[36m37\u001b[0m - \u001b[34m\u001b[1m\tLeaving \"create_user_account\"\u001b[0m\n"
     ]
    },
    {
     "data": {
      "text/plain": [
       "b'597b60bf68b17160c1c447ebc7e191a816a52eaace4dfc301111baee89c1688f'"
      ]
     },
     "execution_count": 14,
     "metadata": {},
     "output_type": "execute_result"
    }
   ],
   "source": [
    "user_private_key = IrohaCrypto.private_key()\n",
    "user_public_key = IrohaCrypto.derive_public_key(user_private_key).decode(\"utf-8\")\n",
    "\n",
    "# - Random generated synthetic user data \n",
    "user_account_left = random.choice(left)\n",
    "user_account_right = random.choice(right)\n",
    "user_account_short_id = f\"{user_account_left}_{user_account_right}\"\n",
    "user_account_full_name = ((f\"{user_account_left}\").capitalize())+\" \"+((f\"{user_account_right}\").capitalize())\n",
    "user_account_email = f\"{user_account_left}_{user_account_right}\"+\"@email.com\"\n",
    "user_account_institution = print_random_from_second_column(\"datasets/world-universities.csv\")\n",
    "user_account_orcid = generate_orcid()\n",
    "user_role = set_random_role()\n",
    "logger.info(f\"User Role: {user_role}\")\n",
    "\n",
    "user_account = UserAccount(\n",
    "    account_id=f\"{user_account_short_id}@{DOMAIN}\",\n",
    "    full_name=user_account_full_name,\n",
    "    email=user_account_email,\n",
    "    institution=user_account_institution,\n",
    "    orcid=user_account_orcid,\n",
    "    role=user_role,\n",
    "    public_key=user_public_key,\n",
    ")\n",
    "logger.info(f\"Creating account with name: {user_account_short_id}\")\n",
    "\n",
    "# - Create account\n",
    "create_account_contract_address = integration_helpers.get_engine_receipts_address(create_account_contract_hash)\n",
    "create_user_account(create_account_contract_address, user_account_short_id, DOMAIN, user_public_key, user_account)"
   ]
  },
  {
   "cell_type": "markdown",
   "id": "bd8efb2f-5187-4bb6-8da5-7651cacc62ba",
   "metadata": {},
   "source": [
    "3 - Queries the blockchain to confirm the succesful creation of the account."
   ]
  },
  {
   "cell_type": "code",
   "execution_count": 15,
   "id": "e1dcb188-90e5-4e36-a8b8-f6a13552ed7c",
   "metadata": {},
   "outputs": [
    {
     "name": "stderr",
     "output_type": "stream",
     "text": [
      "\u001b[32m2025-01-24 00:14:40.265\u001b[0m | \u001b[34m\u001b[1mDEBUG   \u001b[0m | \u001b[36mintegration_helpers\u001b[0m:\u001b[36mtracer\u001b[0m:\u001b[36m35\u001b[0m - \u001b[34m\u001b[1m\tEntering \"get_account\"\u001b[0m\n",
      "2025-01-24 00:14:40,268 - WARNING - create_account_contract_address: 91ABF7E328C683B7454BCA7044F51D6925A88708\n",
      "2025-01-24 00:14:40,285 - INFO - ('STATELESS_VALIDATION_SUCCESS', 1, 0)\n",
      "2025-01-24 00:14:40,287 - INFO - ('ENOUGH_SIGNATURES_COLLECTED', 9, 0)\n",
      "2025-01-24 00:14:43,261 - INFO - ('STATEFUL_VALIDATION_SUCCESS', 3, 0)\n",
      "2025-01-24 00:14:43,290 - INFO - ('COMMITTED', 5, 0)\n",
      "2025-01-24 00:14:43,292 - WARNING - Account Data: {'address': '91ABF7E328C683B7454BCA7044F51D6925A88708', 'hex_hash': '1610d881aa9e55ebc55afbdb668494c8093edf6d008cd7408931441089fa6712'}\n",
      "\u001b[32m2025-01-24 00:14:43.293\u001b[0m | \u001b[34m\u001b[1mDEBUG   \u001b[0m | \u001b[36mintegration_helpers\u001b[0m:\u001b[36mtracer\u001b[0m:\u001b[36m35\u001b[0m - \u001b[34m\u001b[1m\tEntering \"append_to_json_file\"\u001b[0m\n",
      "2025-01-24 00:14:43,297 - INFO - Appended data under 'stoic_pare@test' in logs/account_data.json\n",
      "\u001b[32m2025-01-24 00:14:43.298\u001b[0m | \u001b[34m\u001b[1mDEBUG   \u001b[0m | \u001b[36mintegration_helpers\u001b[0m:\u001b[36mtracer\u001b[0m:\u001b[36m37\u001b[0m - \u001b[34m\u001b[1m\tLeaving \"append_to_json_file\"\u001b[0m\n",
      "\u001b[32m2025-01-24 00:14:43.300\u001b[0m | \u001b[34m\u001b[1mDEBUG   \u001b[0m | \u001b[36mintegration_helpers\u001b[0m:\u001b[36mtracer\u001b[0m:\u001b[36m37\u001b[0m - \u001b[34m\u001b[1m\tLeaving \"get_account\"\u001b[0m\n",
      "\u001b[32m2025-01-24 00:14:43.302\u001b[0m | \u001b[34m\u001b[1mDEBUG   \u001b[0m | \u001b[36mintegration_helpers\u001b[0m:\u001b[36mtracer\u001b[0m:\u001b[36m35\u001b[0m - \u001b[34m\u001b[1m\tEntering \"get_engine_receipts_result\"\u001b[0m\n",
      "\u001b[32m2025-01-24 00:14:43.322\u001b[0m | \u001b[1mINFO    \u001b[0m | \u001b[36mintegration_helpers\u001b[0m:\u001b[36mget_engine_receipts_result\u001b[0m:\u001b[36m139\u001b[0m - \u001b[1mResult data: 000000000000000000000000000000000000000000000000000000000000002000000000000000000000000000000000000000000000000000000000000000a00000000000000000000000000000000000000000000000000000000000000020000000000000000000000000000000000000000000000000000000000000004f7b226163636f756e745f6964223a2273746f69635f706172654074657374222c22646f6d61696e5f6964223a2274657374222c2271756f72756d223a312c226a736f6e5f64617461223a227b7d227d0000000000000000000000000000000000\u001b[0m\n",
      "\u001b[32m2025-01-24 00:14:43.324\u001b[0m | \u001b[34m\u001b[1mDEBUG   \u001b[0m | \u001b[36mintegration_helpers\u001b[0m:\u001b[36mget_engine_receipts_result\u001b[0m:\u001b[36m140\u001b[0m - \u001b[34m\u001b[1mResult decoded string: \u0000\u0000\u0000\u0000\u0000\u0000\u0000\u0000\u0000\u0000\u0000\u0000\u0000\u0000\u0000\u0000\u0000\u0000\u0000\u0000\u0000\u0000\u0000\u0000\u0000\u0000\u0000\u0000\u0000\u0000\u0000 \u0000\u0000\u0000\u0000\u0000\u0000\u0000\u0000\u0000\u0000\u0000\u0000\u0000\u0000\u0000\u0000\u0000\u0000\u0000\u0000\u0000\u0000\u0000\u0000\u0000\u0000\u0000\u0000\u0000\u0000\u0000\u0000\u0000\u0000\u0000\u0000\u0000\u0000\u0000\u0000\u0000\u0000\u0000\u0000\u0000\u0000\u0000\u0000\u0000\u0000\u0000\u0000\u0000\u0000\u0000\u0000\u0000\u0000\u0000\u0000\u0000\u0000 \u0000\u0000\u0000\u0000\u0000\u0000\u0000\u0000\u0000\u0000\u0000\u0000\u0000\u0000\u0000\u0000\u0000\u0000\u0000\u0000\u0000\u0000\u0000\u0000\u0000\u0000\u0000\u0000\u0000\u0000\u0000O{\"account_id\":\"stoic_pare@test\",\"domain_id\":\"test\",\"quorum\":1,\"json_data\":\"{}\"}\u0000\u0000\u0000\u0000\u0000\u0000\u0000\u0000\u0000\u0000\u0000\u0000\u0000\u0000\u0000\u0000\u0000\u001b[0m\n",
      "\u001b[32m2025-01-24 00:14:43.325\u001b[0m | \u001b[34m\u001b[1mDEBUG   \u001b[0m | \u001b[36mintegration_helpers\u001b[0m:\u001b[36mtracer\u001b[0m:\u001b[36m37\u001b[0m - \u001b[34m\u001b[1m\tLeaving \"get_engine_receipts_result\"\u001b[0m\n"
     ]
    }
   ],
   "source": [
    "# - Get account info\n",
    "get_account_hash = get_account(create_account_contract_address, user_account_short_id, DOMAIN)\n",
    "address = integration_helpers.get_engine_receipts_result(get_account_hash)"
   ]
  },
  {
   "cell_type": "markdown",
   "id": "860cbd10-6d30-4600-a079-a7b5aa7d9927",
   "metadata": {},
   "source": [
    "4 - Loads the smart contract for details (attributes) setting into the Iroha 1 blockchain ."
   ]
  },
  {
   "cell_type": "code",
   "execution_count": 16,
   "id": "8ea28cb2-e770-4600-8084-b6e009e7d156",
   "metadata": {},
   "outputs": [
    {
     "name": "stderr",
     "output_type": "stream",
     "text": [
      "2025-01-24 00:14:43,339 - INFO - Variable 'Account Detail Contract Hash' successfully loaded from temp/Account Detail Contract Hash.json\n",
      "\u001b[32m2025-01-24 00:14:43.340\u001b[0m | \u001b[1mINFO    \u001b[0m | \u001b[36m__main__\u001b[0m:\u001b[36m<module>\u001b[0m:\u001b[36m3\u001b[0m - \u001b[1mb'8765694a4ad50ce0bcbd2aee1f70a338d3a9d44018bb518617875915a4a59840'\u001b[0m\n"
     ]
    }
   ],
   "source": [
    "# Loading the variable from JSON\n",
    "account_detail_contract_hash = load_variable(\"Account Detail Contract Hash\")\n",
    "logger.info(account_detail_contract_hash)"
   ]
  },
  {
   "cell_type": "markdown",
   "id": "32f29b64-b0fd-4583-952b-ad9a606f4b16",
   "metadata": {},
   "source": [
    "5 - Sets details for the user account:\n",
    "\n",
    "- Full Name\n",
    "- Email\n",
    "- Institution\n",
    "- ORCID\n",
    "- Public key\n",
    "- Role"
   ]
  },
  {
   "cell_type": "code",
   "execution_count": 17,
   "id": "9015a0e4-0166-4dad-863d-897704235fc7",
   "metadata": {},
   "outputs": [
    {
     "name": "stderr",
     "output_type": "stream",
     "text": [
      "\u001b[32m2025-01-24 00:14:43.350\u001b[0m | \u001b[34m\u001b[1mDEBUG   \u001b[0m | \u001b[36mintegration_helpers\u001b[0m:\u001b[36mtracer\u001b[0m:\u001b[36m35\u001b[0m - \u001b[34m\u001b[1m\tEntering \"get_engine_receipts_address\"\u001b[0m\n",
      "\u001b[32m2025-01-24 00:14:43.368\u001b[0m | \u001b[1mINFO    \u001b[0m | \u001b[36mintegration_helpers\u001b[0m:\u001b[36mget_engine_receipts_address\u001b[0m:\u001b[36m96\u001b[0m - \u001b[1mRetrieved contract address for transaction hash: b'8765694a4ad50ce0bcbd2aee1f70a338d3a9d44018bb518617875915a4a59840'\u001b[0m\n",
      "\u001b[32m2025-01-24 00:14:43.370\u001b[0m | \u001b[34m\u001b[1mDEBUG   \u001b[0m | \u001b[36mintegration_helpers\u001b[0m:\u001b[36mget_engine_receipts_address\u001b[0m:\u001b[36m97\u001b[0m - \u001b[34m\u001b[1mContract address: 7ABFBB7ACEC6BEC5B631C333A54CEC1B52BD8687\u001b[0m\n",
      "\u001b[32m2025-01-24 00:14:43.371\u001b[0m | \u001b[34m\u001b[1mDEBUG   \u001b[0m | \u001b[36mintegration_helpers\u001b[0m:\u001b[36mtracer\u001b[0m:\u001b[36m37\u001b[0m - \u001b[34m\u001b[1m\tLeaving \"get_engine_receipts_address\"\u001b[0m\n",
      "\u001b[32m2025-01-24 00:14:43.372\u001b[0m | \u001b[34m\u001b[1mDEBUG   \u001b[0m | \u001b[36mintegration_helpers\u001b[0m:\u001b[36mtracer\u001b[0m:\u001b[36m35\u001b[0m - \u001b[34m\u001b[1m\tEntering \"process_account\"\u001b[0m\n",
      "2025-01-24 00:14:43,375 - INFO - Processing account: stoic_pare@test\n",
      "2025-01-24 00:14:43,376 - INFO - User Account Metadata: {'@type': 'foaf:Person', 'foaf:name': 'Stoic Pare', 'foaf:mbox': 'stoic_pare@email.com', 'foaf:organization': {'@type': 'foaf:Organization', 'foaf:name': 'Shiraz Payamnoor University'}, 'schema:identifier': {'@type': 'PropertyValue', 'propertyID': 'ORCID', 'value': '1033-6521-3362-X'}, 'foaf:holdsAccount': {'schema:identifier': 'stoic_pare@test', 'schema:roleName': 'author', 'schema:publicKey': '46838fb7e36f05b206b418319fa0f449f4453cc65baa7d70712c04425e61890d'}}\n",
      "2025-01-24 00:14:43,412 - INFO - User Account Metadata CID: QmPz9877DRTBPdU4vTkLJUa5kxdEqG6u8noDa3o9CqHBV4\n",
      "\u001b[32m2025-01-24 00:14:43.414\u001b[0m | \u001b[34m\u001b[1mDEBUG   \u001b[0m | \u001b[36mintegration_helpers\u001b[0m:\u001b[36mtracer\u001b[0m:\u001b[36m35\u001b[0m - \u001b[34m\u001b[1m\tEntering \"set_account_detail\"\u001b[0m\n",
      "2025-01-24 00:14:43,431 - INFO - None\n",
      "2025-01-24 00:14:43,434 - INFO - ('ENOUGH_SIGNATURES_COLLECTED', 9, 0)\n",
      "2025-01-24 00:14:46,314 - INFO - ('STATEFUL_VALIDATION_SUCCESS', 3, 0)\n",
      "2025-01-24 00:14:46,339 - INFO - ('COMMITTED', 5, 0)\n",
      "\u001b[32m2025-01-24 00:14:46.341\u001b[0m | \u001b[34m\u001b[1mDEBUG   \u001b[0m | \u001b[36mintegration_helpers\u001b[0m:\u001b[36mtracer\u001b[0m:\u001b[36m35\u001b[0m - \u001b[34m\u001b[1m\tEntering \"get_engine_receipts_result\"\u001b[0m\n",
      "\u001b[32m2025-01-24 00:14:46.361\u001b[0m | \u001b[1mINFO    \u001b[0m | \u001b[36mintegration_helpers\u001b[0m:\u001b[36mget_engine_receipts_result\u001b[0m:\u001b[36m139\u001b[0m - \u001b[1mResult data: 000000000000000000000000000000000000000000000000000000000000002000000000000000000000000000000000000000000000000000000000000000200000000000000000000000000000000000000000000000000000000000000001\u001b[0m\n",
      "\u001b[32m2025-01-24 00:14:46.363\u001b[0m | \u001b[34m\u001b[1mDEBUG   \u001b[0m | \u001b[36mintegration_helpers\u001b[0m:\u001b[36mget_engine_receipts_result\u001b[0m:\u001b[36m140\u001b[0m - \u001b[34m\u001b[1mResult decoded string: \u0000\u0000\u0000\u0000\u0000\u0000\u0000\u0000\u0000\u0000\u0000\u0000\u0000\u0000\u0000\u0000\u0000\u0000\u0000\u0000\u0000\u0000\u0000\u0000\u0000\u0000\u0000\u0000\u0000\u0000\u0000 \u0000\u0000\u0000\u0000\u0000\u0000\u0000\u0000\u0000\u0000\u0000\u0000\u0000\u0000\u0000\u0000\u0000\u0000\u0000\u0000\u0000\u0000\u0000\u0000\u0000\u0000\u0000\u0000\u0000\u0000\u0000 \u0000\u0000\u0000\u0000\u0000\u0000\u0000\u0000\u0000\u0000\u0000\u0000\u0000\u0000\u0000\u0000\u0000\u0000\u0000\u0000\u0000\u0000\u0000\u0000\u0000\u0000\u0000\u0000\u0000\u0000\u0000\u0001\u001b[0m\n",
      "\u001b[32m2025-01-24 00:14:46.364\u001b[0m | \u001b[34m\u001b[1mDEBUG   \u001b[0m | \u001b[36mintegration_helpers\u001b[0m:\u001b[36mtracer\u001b[0m:\u001b[36m37\u001b[0m - \u001b[34m\u001b[1m\tLeaving \"get_engine_receipts_result\"\u001b[0m\n",
      "\u001b[32m2025-01-24 00:14:46.365\u001b[0m | \u001b[34m\u001b[1mDEBUG   \u001b[0m | \u001b[36mintegration_helpers\u001b[0m:\u001b[36mtracer\u001b[0m:\u001b[36m37\u001b[0m - \u001b[34m\u001b[1m\tLeaving \"set_account_detail\"\u001b[0m\n",
      "\u001b[32m2025-01-24 00:14:46.367\u001b[0m | \u001b[34m\u001b[1mDEBUG   \u001b[0m | \u001b[36mintegration_helpers\u001b[0m:\u001b[36mtracer\u001b[0m:\u001b[36m37\u001b[0m - \u001b[34m\u001b[1m\tLeaving \"process_account\"\u001b[0m\n"
     ]
    }
   ],
   "source": [
    "address = integration_helpers.get_engine_receipts_address(account_detail_contract_hash)\n",
    "\n",
    "process_account(address, f\"{user_account_short_id}@{DOMAIN}\")"
   ]
  },
  {
   "cell_type": "markdown",
   "id": "fb6a9a37-7201-407b-b643-1f0acf0894b0",
   "metadata": {},
   "source": [
    "6 - Queries the blockchain again to confirm the succesfull details setting."
   ]
  },
  {
   "cell_type": "code",
   "execution_count": 18,
   "id": "2e45a234",
   "metadata": {},
   "outputs": [
    {
     "name": "stderr",
     "output_type": "stream",
     "text": [
      "\u001b[32m2025-01-24 00:14:46.376\u001b[0m | \u001b[34m\u001b[1mDEBUG   \u001b[0m | \u001b[36mintegration_helpers\u001b[0m:\u001b[36mtracer\u001b[0m:\u001b[36m35\u001b[0m - \u001b[34m\u001b[1m\tEntering \"get_account\"\u001b[0m\n",
      "2025-01-24 00:14:46,379 - WARNING - create_account_contract_address: 91ABF7E328C683B7454BCA7044F51D6925A88708\n",
      "2025-01-24 00:14:46,395 - INFO - ('STATELESS_VALIDATION_SUCCESS', 1, 0)\n",
      "2025-01-24 00:14:46,397 - INFO - ('ENOUGH_SIGNATURES_COLLECTED', 9, 0)\n",
      "2025-01-24 00:14:49,359 - INFO - ('STATEFUL_VALIDATION_SUCCESS', 3, 0)\n",
      "2025-01-24 00:14:49,385 - INFO - ('COMMITTED', 5, 0)\n",
      "2025-01-24 00:14:49,386 - WARNING - Account Data: {'address': '91ABF7E328C683B7454BCA7044F51D6925A88708', 'hex_hash': '901dd96e5517cdf4cc7f1da9766f5bfc71c8d0286235fdf45d882afd47479f5d'}\n",
      "\u001b[32m2025-01-24 00:14:49.388\u001b[0m | \u001b[34m\u001b[1mDEBUG   \u001b[0m | \u001b[36mintegration_helpers\u001b[0m:\u001b[36mtracer\u001b[0m:\u001b[36m35\u001b[0m - \u001b[34m\u001b[1m\tEntering \"append_to_json_file\"\u001b[0m\n",
      "2025-01-24 00:14:49,391 - INFO - Appended data under 'stoic_pare@test' in logs/account_data.json\n",
      "\u001b[32m2025-01-24 00:14:49.392\u001b[0m | \u001b[34m\u001b[1mDEBUG   \u001b[0m | \u001b[36mintegration_helpers\u001b[0m:\u001b[36mtracer\u001b[0m:\u001b[36m37\u001b[0m - \u001b[34m\u001b[1m\tLeaving \"append_to_json_file\"\u001b[0m\n",
      "\u001b[32m2025-01-24 00:14:49.394\u001b[0m | \u001b[34m\u001b[1mDEBUG   \u001b[0m | \u001b[36mintegration_helpers\u001b[0m:\u001b[36mtracer\u001b[0m:\u001b[36m37\u001b[0m - \u001b[34m\u001b[1m\tLeaving \"get_account\"\u001b[0m\n",
      "\u001b[32m2025-01-24 00:14:49.395\u001b[0m | \u001b[34m\u001b[1mDEBUG   \u001b[0m | \u001b[36mintegration_helpers\u001b[0m:\u001b[36mtracer\u001b[0m:\u001b[36m35\u001b[0m - \u001b[34m\u001b[1m\tEntering \"get_engine_receipts_result\"\u001b[0m\n",
      "\u001b[32m2025-01-24 00:14:49.415\u001b[0m | \u001b[1mINFO    \u001b[0m | \u001b[36mintegration_helpers\u001b[0m:\u001b[36mget_engine_receipts_result\u001b[0m:\u001b[36m139\u001b[0m - \u001b[1mResult data: 00000000000000000000000000000000000000000000000000000000000000200000000000000000000000000000000000000000000000000000000000000100000000000000000000000000000000000000000000000000000000000000002000000000000000000000000000000000000000000000000000000000000000a97b226163636f756e745f6964223a2273746f69635f706172654074657374222c22646f6d61696e5f6964223a2274657374222c2271756f72756d223a312c226a736f6e5f64617461223a227b5c2261646d696e40746573745c223a207b5c22757365725f6a736f6e5f6c645f6369645c223a205c22516d507a39383737445254425064553476546b4c4a5561356b78644571473675386e6f4461336f394371484256345c227d7d227d0000000000000000000000000000000000000000000000\u001b[0m\n",
      "\u001b[32m2025-01-24 00:14:49.416\u001b[0m | \u001b[34m\u001b[1mDEBUG   \u001b[0m | \u001b[36mintegration_helpers\u001b[0m:\u001b[36mget_engine_receipts_result\u001b[0m:\u001b[36m140\u001b[0m - \u001b[34m\u001b[1mResult decoded string: \u0000\u0000\u0000\u0000\u0000\u0000\u0000\u0000\u0000\u0000\u0000\u0000\u0000\u0000\u0000\u0000\u0000\u0000\u0000\u0000\u0000\u0000\u0000\u0000\u0000\u0000\u0000\u0000\u0000\u0000\u0000 \u0000\u0000\u0000\u0000\u0000\u0000\u0000\u0000\u0000\u0000\u0000\u0000\u0000\u0000\u0000\u0000\u0000\u0000\u0000\u0000\u0000\u0000\u0000\u0000\u0000\u0000\u0000\u0000\u0000\u0000\u0001\u0000\u0000\u0000\u0000\u0000\u0000\u0000\u0000\u0000\u0000\u0000\u0000\u0000\u0000\u0000\u0000\u0000\u0000\u0000\u0000\u0000\u0000\u0000\u0000\u0000\u0000\u0000\u0000\u0000\u0000\u0000\u0000 \u0000\u0000\u0000\u0000\u0000\u0000\u0000\u0000\u0000\u0000\u0000\u0000\u0000\u0000\u0000\u0000\u0000\u0000\u0000\u0000\u0000\u0000\u0000\u0000\u0000\u0000\u0000\u0000\u0000\u0000\u0000{\"account_id\":\"stoic_pare@test\",\"domain_id\":\"test\",\"quorum\":1,\"json_data\":\"{\\\"admin@test\\\": {\\\"user_json_ld_cid\\\": \\\"QmPz9877DRTBPdU4vTkLJUa5kxdEqG6u8noDa3o9CqHBV4\\\"}}\"}\u0000\u0000\u0000\u0000\u0000\u0000\u0000\u0000\u0000\u0000\u0000\u0000\u0000\u0000\u0000\u0000\u0000\u0000\u0000\u0000\u0000\u0000\u0000\u001b[0m\n",
      "\u001b[32m2025-01-24 00:14:49.418\u001b[0m | \u001b[34m\u001b[1mDEBUG   \u001b[0m | \u001b[36mintegration_helpers\u001b[0m:\u001b[36mtracer\u001b[0m:\u001b[36m37\u001b[0m - \u001b[34m\u001b[1m\tLeaving \"get_engine_receipts_result\"\u001b[0m\n",
      "\u001b[32m2025-01-24 00:14:49.419\u001b[0m | \u001b[34m\u001b[1mDEBUG   \u001b[0m | \u001b[36mintegration_helpers\u001b[0m:\u001b[36mtracer\u001b[0m:\u001b[36m35\u001b[0m - \u001b[34m\u001b[1m\tEntering \"process_raw_data\"\u001b[0m\n",
      "\u001b[32m2025-01-24 00:14:49.421\u001b[0m | \u001b[34m\u001b[1mDEBUG   \u001b[0m | \u001b[36mintegration_helpers\u001b[0m:\u001b[36mtracer\u001b[0m:\u001b[36m35\u001b[0m - \u001b[34m\u001b[1m\tEntering \"extract_user_json_ld_cid_from_data\"\u001b[0m\n",
      "\u001b[32m2025-01-24 00:14:49.422\u001b[0m | \u001b[34m\u001b[1mDEBUG   \u001b[0m | \u001b[36mintegration_helpers\u001b[0m:\u001b[36mtracer\u001b[0m:\u001b[36m37\u001b[0m - \u001b[34m\u001b[1m\tLeaving \"extract_user_json_ld_cid_from_data\"\u001b[0m\n",
      "2025-01-24 00:14:49,423 - INFO - User Metadata CID: QmPz9877DRTBPdU4vTkLJUa5kxdEqG6u8noDa3o9CqHBV4\n",
      "\u001b[32m2025-01-24 00:14:49.425\u001b[0m | \u001b[34m\u001b[1mDEBUG   \u001b[0m | \u001b[36mintegration_helpers\u001b[0m:\u001b[36mtracer\u001b[0m:\u001b[36m37\u001b[0m - \u001b[34m\u001b[1m\tLeaving \"process_raw_data\"\u001b[0m\n"
     ]
    }
   ],
   "source": [
    "# - Get account info\n",
    "get_account_hash = get_account(create_account_contract_address, user_account_short_id, DOMAIN)\n",
    "details = integration_helpers.get_engine_receipts_result(get_account_hash)\n",
    "\n",
    "# Process the raw data\n",
    "user_json_ld_cid = process_raw_data(details)"
   ]
  },
  {
   "cell_type": "markdown",
   "id": "ad702ee6-5ccb-4613-b300-52687622950d",
   "metadata": {},
   "source": [
    "7 - Retrieves User Metadata (JSON-LD formatted) from IPFS"
   ]
  },
  {
   "cell_type": "code",
   "execution_count": 19,
   "id": "5e2c8878-b164-4681-a428-56068fc6d248",
   "metadata": {},
   "outputs": [
    {
     "name": "stderr",
     "output_type": "stream",
     "text": [
      "\u001b[32m2025-01-24 00:14:49.443\u001b[0m | \u001b[1mINFO    \u001b[0m | \u001b[36m__main__\u001b[0m:\u001b[36m<module>\u001b[0m:\u001b[36m2\u001b[0m - \u001b[1mUser Metadata: {'@type': 'foaf:Person', 'foaf:holdsAccount': {'schema:identifier': 'stoic_pare@test', 'schema:publicKey': '46838fb7e36f05b206b418319fa0f449f4453cc65baa7d70712c04425e61890d', 'schema:roleName': 'author'}, 'foaf:mbox': 'stoic_pare@email.com', 'foaf:name': 'Stoic Pare', 'foaf:organization': {'@type': 'foaf:Organization', 'foaf:name': 'Shiraz Payamnoor University'}, 'schema:identifier': {'@type': 'PropertyValue', 'propertyID': 'ORCID', 'value': '1033-6521-3362-X'}}\u001b[0m\n"
     ]
    }
   ],
   "source": [
    "user_metadata = download_json_from_ipfs(user_json_ld_cid)\n",
    "logger.info(f\"User Metadata: {user_metadata}\")"
   ]
  },
  {
   "cell_type": "code",
   "execution_count": null,
   "id": "83ea4d29-bf5f-404d-88c9-f0aa5a8306ed",
   "metadata": {},
   "outputs": [],
   "source": []
  }
 ],
 "metadata": {
  "kernelspec": {
   "display_name": "Python 3 (ipykernel)",
   "language": "python",
   "name": "python3"
  },
  "language_info": {
   "codemirror_mode": {
    "name": "ipython",
    "version": 3
   },
   "file_extension": ".py",
   "mimetype": "text/x-python",
   "name": "python",
   "nbconvert_exporter": "python",
   "pygments_lexer": "ipython3",
   "version": "3.9.21"
  }
 },
 "nbformat": 4,
 "nbformat_minor": 5
}
