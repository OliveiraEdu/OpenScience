{
 "cells": [
  {
   "cell_type": "markdown",
   "id": "fee2bd3b-d44b-44dc-9820-1e523cdb20b0",
   "metadata": {},
   "source": [
    "# Iroha 1 Blockchain Tools\n",
    "\n",
    "[From Python Iroha Examples](https://github.com/hyperledger-iroha/iroha-python/tree/1.1.3/examples)\n"
   ]
  },
  {
   "cell_type": "markdown",
   "id": "b2eade49-52cc-4d0d-b9ae-c0699c723bd5",
   "metadata": {},
   "source": [
    "## Get Blocks\n",
    "\n",
    "[Infinite Block Stream](examples/infinite-blocks-stream.py)\n",
    "\n",
    "Interrupt execution to stop streaming."
   ]
  },
  {
   "cell_type": "code",
   "execution_count": null,
   "id": "5c7da368-4acf-4929-83f5-8f0d65a30508",
   "metadata": {},
   "outputs": [],
   "source": [
    "from integration_helpers import get_blocks\n"
   ]
  },
  {
   "cell_type": "code",
   "execution_count": null,
   "id": "dff9f7b2-ffa2-44b3-b71a-7c2426713488",
   "metadata": {},
   "outputs": [],
   "source": [
    "get_blocks()"
   ]
  },
  {
   "cell_type": "markdown",
   "id": "0b9d09a4-ed31-4883-908b-ae45a1cf3730",
   "metadata": {},
   "source": [
    "[Get Current Block](https://github.com/hyperledger-iroha/iroha-python/blob/1.1.3/examples/blocks-query.py)"
   ]
  },
  {
   "cell_type": "code",
   "execution_count": 13,
   "id": "6af3b39d-be92-4450-bb85-039612c6c40a",
   "metadata": {},
   "outputs": [
    {
     "name": "stdout",
     "output_type": "stream",
     "text": [
      "tx is sent\n",
      "block_response {\n",
      "  block {\n",
      "    block_v1 {\n",
      "      payload {\n",
      "        transactions {\n",
      "          payload {\n",
      "            reduced_payload {\n",
      "              commands {\n",
      "                create_account {\n",
      "                  account_name: \"95de64323663406dbc70ebf1fe6e2577\"\n",
      "                  domain_id: \"test\"\n",
      "                  public_key: \"04873c918b75f67ae9bf08a1dc7668de6999a53c726d930f306b4dce648618a9\"\n",
      "                }\n",
      "              }\n",
      "              creator_account_id: \"admin@test\"\n",
      "              created_time: 1737688055139\n",
      "              quorum: 1\n",
      "            }\n",
      "          }\n",
      "          signatures {\n",
      "            public_key: \"313a07e6384776ed95447710d15e59148473ccfc052a681317a72a69f2a49910\"\n",
      "            signature: \"89d3977c4d75d7592fffa660cb69d517c96562b4478be4e6edf85489bed83da371d0d0b071fe66636ff44da7aee9faa867aa8a85514fc8275129dde2b3297206\"\n",
      "          }\n",
      "        }\n",
      "        height: 9383\n",
      "        prev_block_hash: \"483ccf210925d165a25a7a036c54ea5581e23e461c23db326fa2f9652a2c756f\"\n",
      "        created_time: 1737688055804\n",
      "      }\n",
      "      signatures {\n",
      "        public_key: \"bddd58404d1315e0eb27902c5d7c8eb0602c16238f005773df406bc191308929\"\n",
      "        signature: \"72fc58eb26959f246f9eec47d5d463c66efe8c0341e3b1ed73320fcea2d4997131ec8c3e1702cae5dd5a5402397f0e66218c6952646661a916eeab5ac89e5604\"\n",
      "      }\n",
      "    }\n",
      "  }\n",
      "}\n",
      "\n"
     ]
    }
   ],
   "source": [
    "from iroha import Iroha, IrohaGrpc\n",
    "from iroha import IrohaCrypto\n",
    "import os\n",
    "import sys\n",
    "import time\n",
    "import uuid\n",
    "\n",
    "def send_tx():\n",
    "    rand_name = uuid.uuid4().hex\n",
    "    rand_key = IrohaCrypto.private_key()\n",
    "    domain = ADMIN_ACCOUNT_ID.split('@')[1]\n",
    "    tx = iroha.transaction([\n",
    "        iroha.command('CreateAccount',\n",
    "                      account_name=rand_name,\n",
    "                      domain_id=domain,\n",
    "                      public_key=rand_key)\n",
    "    ])\n",
    "    IrohaCrypto.sign_transaction(tx, ADMIN_PRIVATE_KEY)\n",
    "    net.send_tx(tx)\n",
    "    print('tx is sent')\n",
    "\n",
    "\n",
    "if __name__ == '__main__':\n",
    "    query = iroha.blocks_query()\n",
    "    IrohaCrypto.sign_query(query, ADMIN_PRIVATE_KEY)\n",
    "    blocks = net.send_blocks_stream_query(\n",
    "        query, timeout=120)  # timeout in seconds\n",
    "    send_tx()\n",
    "    print(next(blocks))"
   ]
  },
  {
   "cell_type": "code",
   "execution_count": null,
   "id": "b1a07ba7-5d46-4cff-b977-a57fcc206a6c",
   "metadata": {},
   "outputs": [],
   "source": []
  }
 ],
 "metadata": {
  "kernelspec": {
   "display_name": "Python 3 (ipykernel)",
   "language": "python",
   "name": "python3"
  },
  "language_info": {
   "codemirror_mode": {
    "name": "ipython",
    "version": 3
   },
   "file_extension": ".py",
   "mimetype": "text/x-python",
   "name": "python",
   "nbconvert_exporter": "python",
   "pygments_lexer": "ipython3",
   "version": "3.9.21"
  }
 },
 "nbformat": 4,
 "nbformat_minor": 5
}
